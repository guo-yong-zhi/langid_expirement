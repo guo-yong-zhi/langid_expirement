{
 "cells": [
  {
   "cell_type": "code",
   "execution_count": 64,
   "metadata": {},
   "outputs": [
    {
     "data": {
      "text/html": [
       "<div><div style = \"float: left;\"><span>454×3 DataFrame</span></div><div style = \"float: right;\"><span style = \"font-style: italic;\">429 rows omitted</span></div><div style = \"clear: both;\"></div></div><div class = \"data-frame\" style = \"overflow-x: scroll;\"><table class = \"data-frame\" style = \"margin-bottom: 6px;\"><thead><tr class = \"header\"><th class = \"rowNumber\" style = \"font-weight: bold; text-align: right;\">Row</th><th style = \"text-align: left;\">M_Id</th><th style = \"text-align: left;\">I_Id</th><th style = \"text-align: left;\">I_Status</th></tr><tr class = \"subheader headerLastRow\"><th class = \"rowNumber\" style = \"font-weight: bold; text-align: right;\"></th><th title = \"String3\" style = \"text-align: left;\">String3</th><th title = \"String3\" style = \"text-align: left;\">String3</th><th title = \"String1\" style = \"text-align: left;\">String1</th></tr></thead><tbody><tr><td class = \"rowNumber\" style = \"font-weight: bold; text-align: right;\">1</td><td style = \"text-align: left;\">aka</td><td style = \"text-align: left;\">fat</td><td style = \"text-align: left;\">A</td></tr><tr><td class = \"rowNumber\" style = \"font-weight: bold; text-align: right;\">2</td><td style = \"text-align: left;\">aka</td><td style = \"text-align: left;\">twi</td><td style = \"text-align: left;\">A</td></tr><tr><td class = \"rowNumber\" style = \"font-weight: bold; text-align: right;\">3</td><td style = \"text-align: left;\">ara</td><td style = \"text-align: left;\">aao</td><td style = \"text-align: left;\">A</td></tr><tr><td class = \"rowNumber\" style = \"font-weight: bold; text-align: right;\">4</td><td style = \"text-align: left;\">ara</td><td style = \"text-align: left;\">abh</td><td style = \"text-align: left;\">A</td></tr><tr><td class = \"rowNumber\" style = \"font-weight: bold; text-align: right;\">5</td><td style = \"text-align: left;\">ara</td><td style = \"text-align: left;\">abv</td><td style = \"text-align: left;\">A</td></tr><tr><td class = \"rowNumber\" style = \"font-weight: bold; text-align: right;\">6</td><td style = \"text-align: left;\">ara</td><td style = \"text-align: left;\">acm</td><td style = \"text-align: left;\">A</td></tr><tr><td class = \"rowNumber\" style = \"font-weight: bold; text-align: right;\">7</td><td style = \"text-align: left;\">ara</td><td style = \"text-align: left;\">acq</td><td style = \"text-align: left;\">A</td></tr><tr><td class = \"rowNumber\" style = \"font-weight: bold; text-align: right;\">8</td><td style = \"text-align: left;\">ara</td><td style = \"text-align: left;\">acw</td><td style = \"text-align: left;\">A</td></tr><tr><td class = \"rowNumber\" style = \"font-weight: bold; text-align: right;\">9</td><td style = \"text-align: left;\">ara</td><td style = \"text-align: left;\">acx</td><td style = \"text-align: left;\">A</td></tr><tr><td class = \"rowNumber\" style = \"font-weight: bold; text-align: right;\">10</td><td style = \"text-align: left;\">ara</td><td style = \"text-align: left;\">acy</td><td style = \"text-align: left;\">A</td></tr><tr><td class = \"rowNumber\" style = \"font-weight: bold; text-align: right;\">11</td><td style = \"text-align: left;\">ara</td><td style = \"text-align: left;\">adf</td><td style = \"text-align: left;\">A</td></tr><tr><td class = \"rowNumber\" style = \"font-weight: bold; text-align: right;\">12</td><td style = \"text-align: left;\">ara</td><td style = \"text-align: left;\">aeb</td><td style = \"text-align: left;\">A</td></tr><tr><td class = \"rowNumber\" style = \"font-weight: bold; text-align: right;\">13</td><td style = \"text-align: left;\">ara</td><td style = \"text-align: left;\">aec</td><td style = \"text-align: left;\">A</td></tr><tr><td style = \"text-align: right;\">&vellip;</td><td style = \"text-align: right;\">&vellip;</td><td style = \"text-align: right;\">&vellip;</td><td style = \"text-align: right;\">&vellip;</td></tr><tr><td class = \"rowNumber\" style = \"font-weight: bold; text-align: right;\">443</td><td style = \"text-align: left;\">zho</td><td style = \"text-align: left;\">czh</td><td style = \"text-align: left;\">A</td></tr><tr><td class = \"rowNumber\" style = \"font-weight: bold; text-align: right;\">444</td><td style = \"text-align: left;\">zho</td><td style = \"text-align: left;\">czo</td><td style = \"text-align: left;\">A</td></tr><tr><td class = \"rowNumber\" style = \"font-weight: bold; text-align: right;\">445</td><td style = \"text-align: left;\">zho</td><td style = \"text-align: left;\">gan</td><td style = \"text-align: left;\">A</td></tr><tr><td class = \"rowNumber\" style = \"font-weight: bold; text-align: right;\">446</td><td style = \"text-align: left;\">zho</td><td style = \"text-align: left;\">hak</td><td style = \"text-align: left;\">A</td></tr><tr><td class = \"rowNumber\" style = \"font-weight: bold; text-align: right;\">447</td><td style = \"text-align: left;\">zho</td><td style = \"text-align: left;\">hsn</td><td style = \"text-align: left;\">A</td></tr><tr><td class = \"rowNumber\" style = \"font-weight: bold; text-align: right;\">448</td><td style = \"text-align: left;\">zho</td><td style = \"text-align: left;\">lzh</td><td style = \"text-align: left;\">A</td></tr><tr><td class = \"rowNumber\" style = \"font-weight: bold; text-align: right;\">449</td><td style = \"text-align: left;\">zho</td><td style = \"text-align: left;\">mnp</td><td style = \"text-align: left;\">A</td></tr><tr><td class = \"rowNumber\" style = \"font-weight: bold; text-align: right;\">450</td><td style = \"text-align: left;\">zho</td><td style = \"text-align: left;\">nan</td><td style = \"text-align: left;\">A</td></tr><tr><td class = \"rowNumber\" style = \"font-weight: bold; text-align: right;\">451</td><td style = \"text-align: left;\">zho</td><td style = \"text-align: left;\">wuu</td><td style = \"text-align: left;\">A</td></tr><tr><td class = \"rowNumber\" style = \"font-weight: bold; text-align: right;\">452</td><td style = \"text-align: left;\">zho</td><td style = \"text-align: left;\">yue</td><td style = \"text-align: left;\">A</td></tr><tr><td class = \"rowNumber\" style = \"font-weight: bold; text-align: right;\">453</td><td style = \"text-align: left;\">zza</td><td style = \"text-align: left;\">diq</td><td style = \"text-align: left;\">A</td></tr><tr><td class = \"rowNumber\" style = \"font-weight: bold; text-align: right;\">454</td><td style = \"text-align: left;\">zza</td><td style = \"text-align: left;\">kiu</td><td style = \"text-align: left;\">A</td></tr></tbody></table></div>"
      ],
      "text/latex": [
       "\\begin{tabular}{r|ccc}\n",
       "\t& M\\_Id & I\\_Id & I\\_Status\\\\\n",
       "\t\\hline\n",
       "\t& String3 & String3 & String1\\\\\n",
       "\t\\hline\n",
       "\t1 & aka & fat & A \\\\\n",
       "\t2 & aka & twi & A \\\\\n",
       "\t3 & ara & aao & A \\\\\n",
       "\t4 & ara & abh & A \\\\\n",
       "\t5 & ara & abv & A \\\\\n",
       "\t6 & ara & acm & A \\\\\n",
       "\t7 & ara & acq & A \\\\\n",
       "\t8 & ara & acw & A \\\\\n",
       "\t9 & ara & acx & A \\\\\n",
       "\t10 & ara & acy & A \\\\\n",
       "\t11 & ara & adf & A \\\\\n",
       "\t12 & ara & aeb & A \\\\\n",
       "\t13 & ara & aec & A \\\\\n",
       "\t14 & ara & afb & A \\\\\n",
       "\t15 & ara & ajp & R \\\\\n",
       "\t16 & ara & apc & A \\\\\n",
       "\t17 & ara & apd & A \\\\\n",
       "\t18 & ara & arb & A \\\\\n",
       "\t19 & ara & arq & A \\\\\n",
       "\t20 & ara & ars & A \\\\\n",
       "\t21 & ara & ary & A \\\\\n",
       "\t22 & ara & arz & A \\\\\n",
       "\t23 & ara & auz & A \\\\\n",
       "\t24 & ara & avl & A \\\\\n",
       "\t$\\dots$ & $\\dots$ & $\\dots$ & $\\dots$ \\\\\n",
       "\\end{tabular}\n"
      ],
      "text/plain": [
       "\u001b[1m454×3 DataFrame\u001b[0m\n",
       "\u001b[1m Row \u001b[0m│\u001b[1m M_Id    \u001b[0m\u001b[1m I_Id    \u001b[0m\u001b[1m I_Status \u001b[0m\n",
       "     │\u001b[90m String3 \u001b[0m\u001b[90m String3 \u001b[0m\u001b[90m String1  \u001b[0m\n",
       "─────┼────────────────────────────\n",
       "   1 │ aka      fat      A\n",
       "   2 │ aka      twi      A\n",
       "   3 │ ara      aao      A\n",
       "   4 │ ara      abh      A\n",
       "   5 │ ara      abv      A\n",
       "   6 │ ara      acm      A\n",
       "   7 │ ara      acq      A\n",
       "   8 │ ara      acw      A\n",
       "  ⋮  │    ⋮        ⋮        ⋮\n",
       " 448 │ zho      lzh      A\n",
       " 449 │ zho      mnp      A\n",
       " 450 │ zho      nan      A\n",
       " 451 │ zho      wuu      A\n",
       " 452 │ zho      yue      A\n",
       " 453 │ zza      diq      A\n",
       " 454 │ zza      kiu      A\n",
       "\u001b[36m                  439 rows omitted\u001b[0m"
      ]
     },
     "metadata": {},
     "output_type": "display_data"
    }
   ],
   "source": [
    "# https://iso639-3.sil.org/code_tables/download_tables\n",
    "using DataFrames\n",
    "using CSV\n",
    "T = DataFrame(CSV.File(raw\"iso-639-3_Code_Tables_20230123\\iso-639-3_20230123.tab\"))\n",
    "MT = DataFrame(CSV.File(raw\"iso-639-3_Code_Tables_20230123\\iso-639-3-macrolanguages_20230123.tab\"))\n",
    "T = coalesce.(T, \"\")\n",
    "MT = coalesce.(MT, \"\")"
   ]
  },
  {
   "cell_type": "code",
   "execution_count": 103,
   "metadata": {},
   "outputs": [
    {
     "data": {
      "text/plain": [
       "stdid (generic function with 2 methods)"
      ]
     },
     "metadata": {},
     "output_type": "display_data"
    }
   ],
   "source": [
    "part1toid(c) = T[T[!, :Part1] .== c, :][:, :Id]|>only\n",
    "id2mid(c) = MT[MT[!, :I_Id] .== c, :][:, :M_Id]|>only\n",
    "function stdid(c, check=false)\n",
    "    if c in T[!, :Part1]\n",
    "        c = part1toid(c)\n",
    "    end\n",
    "    if c in MT[!, :I_Id]\n",
    "        c = id2mid(c)\n",
    "    end\n",
    "    if check\n",
    "        c in T[!, :Id] || println(\"missing $c\")\n",
    "    end\n",
    "    c in T[!, :Id] ? c : \"?$c\"\n",
    "end"
   ]
  },
  {
   "cell_type": "code",
   "execution_count": 89,
   "metadata": {},
   "outputs": [
    {
     "data": {
      "text/plain": [
       "\"aka\""
      ]
     },
     "metadata": {},
     "output_type": "display_data"
    }
   ],
   "source": [
    "stdid(\"aka\")"
   ]
  },
  {
   "cell_type": "code",
   "execution_count": 8,
   "metadata": {},
   "outputs": [],
   "source": [
    "wlangs = [\"ar\", \"cs\", \"da\", \"de\", \"el\", \"en\", \"es\", \"fa\", \"fi\", \"fr\", \"he\", \"hi\", \"hu\", \"it\", \"ja\", \"ko\", \"nl\", \"no\", \"pl\", \"pt\", \"ru\", \"sv\", \"tr\", \"uk\", \"zh\"]\n",
    "tlangs = [f[1:end-4] for f in readdir(raw\".\\corpus\\tatoeba\") if !occursin(\"_\", f)];"
   ]
  },
  {
   "cell_type": "code",
   "execution_count": 21,
   "metadata": {},
   "outputs": [
    {
     "data": {
      "text/plain": [
       "\"en\\t6,695,688\\nceb\\t6,122,691\\nde\\t2,824,907\\nsv\\t2,569,204\\nfr\\t2,542,587\\nnl\\t2,129,469\\nru\\t1,931,750\\nes\\t1,883,599\\nit\\t1,821,740\\narz\\t1,618,736\\npl\\t1,576,499\\nja\\t1,383,085\\nzh\\t1,371,287\\nvi\\t1,286,385\\nuk\\t1,281,479\\nwar\\t1,266,241\\nar\\t1,214,058\\npt\\t1,106,454\\nfa\\t970,216\\nca\\t732,307\\nsr\\t672,910\\n\" ⋯ 2826 bytes ⋯ \"3\\nst\\t917\\npih\\t899\\nrmy\\t877\\ngot\\t872\\nee\\t832\\nbm\\t811\\npcm\\t808\\nss\\t789\\nts\\t748\\nve\\t748\\nchy\\t695\\nkcg\\t692\\nrn\\t636\\ngur\\t567\\nch\\t554\\nik\\t511\\nady\\t499\\npnt\\t485\\nguc\\t481\\niu\\t447\\npwn\\t337\\nsg\\t316\\ndin\\t310\\nti\\t252\\nkl\\t243\\ndz\\t237\\ncr\\t158\\nng\\t8\\ncho\\t6\\nkj\\t4\\nmh\\t4\\nho\\t3\\nii\\t3\\nmus\\t1\\nlrc\\t1\\naa\\t0\\nak\\t0\\nhz\\t0\\nkr\\t0\\nna\\t0\""
      ]
     },
     "metadata": {},
     "output_type": "display_data"
    }
   ],
   "source": [
    "wikilangsraw = \"\"\"en\t6,695,688\n",
    "ceb\t6,122,691\n",
    "de\t2,824,907\n",
    "sv\t2,569,204\n",
    "fr\t2,542,587\n",
    "nl\t2,129,469\n",
    "ru\t1,931,750\n",
    "es\t1,883,599\n",
    "it\t1,821,740\n",
    "arz\t1,618,736\n",
    "pl\t1,576,499\n",
    "ja\t1,383,085\n",
    "zh\t1,371,287\n",
    "vi\t1,286,385\n",
    "uk\t1,281,479\n",
    "war\t1,266,241\n",
    "ar\t1,214,058\n",
    "pt\t1,106,454\n",
    "fa\t970,216\n",
    "ca\t732,307\n",
    "sr\t672,910\n",
    "id\t656,987\n",
    "ko\t642,389\n",
    "no\t614,075\n",
    "ce\t600,850\n",
    "fi\t557,256\n",
    "cs\t529,573\n",
    "tr\t528,921\n",
    "hu\t528,544\n",
    "tt\t500,546\n",
    "sh\t458,158\n",
    "ro\t441,093\n",
    "zh-min-nan\t432,536\n",
    "eu\t414,140\n",
    "ms\t366,576\n",
    "eo\t341,045\n",
    "he\t339,130\n",
    "hy\t300,437\n",
    "da\t293,672\n",
    "bg\t292,912\n",
    "cy\t279,151\n",
    "sk\t245,632\n",
    "azb\t243,108\n",
    "uz\t240,355\n",
    "et\t238,411\n",
    "simple\t236,311\n",
    "kk\t234,226\n",
    "be\t233,975\n",
    "min\t226,771\n",
    "el\t224,580\n",
    "hr\t216,047\n",
    "lt\t212,353\n",
    "gl\t198,205\n",
    "az\t195,322\n",
    "ur\t193,395\n",
    "sl\t182,051\n",
    "lld\t169,406\n",
    "ka\t168,739\n",
    "nn\t166,366\n",
    "hi\t158,408\n",
    "th\t157,820\n",
    "ta\t156,024\n",
    "bn\t140,249\n",
    "la\t138,072\n",
    "mk\t137,585\n",
    "zh-yue\t133,717\n",
    "ast\t132,880\n",
    "lv\t121,849\n",
    "tg\t109,995\n",
    "af\t109,796\n",
    "my\t106,821\n",
    "mg\t95,851\n",
    "mr\t93,096\n",
    "sq\t92,660\n",
    "bs\t92,256\n",
    "oc\t89,008\n",
    "te\t84,768\n",
    "ml\t84,264\n",
    "nds\t84,233\n",
    "be-tarask\t83,521\n",
    "br\t82,846\n",
    "ky\t80,410\n",
    "sw\t78,414\n",
    "jv\t72,583\n",
    "new\t72,347\n",
    "lmo\t72,323\n",
    "pnb\t71,525\n",
    "vec\t69,227\n",
    "ht\t68,488\n",
    "pms\t67,925\n",
    "ba\t63,081\n",
    "lb\t62,010\n",
    "su\t61,552\n",
    "ku\t59,474\n",
    "ga\t58,877\n",
    "szl\t57,259\n",
    "is\t57,002\n",
    "fy\t52,010\n",
    "cv\t51,330\n",
    "ckb\t51,102\n",
    "pa\t50,850\n",
    "tl\t44,980\n",
    "an\t44,026\n",
    "wuu\t42,874\n",
    "diq\t41,203\n",
    "io\t38,083\n",
    "sco\t36,171\n",
    "vo\t34,256\n",
    "yo\t32,826\n",
    "ne\t31,974\n",
    "ia\t30,366\n",
    "gu\t30,216\n",
    "kn\t30,214\n",
    "als\t29,879\n",
    "ha\t28,740\n",
    "avk\t28,017\n",
    "bar\t26,953\n",
    "crh\t26,373\n",
    "scn\t26,249\n",
    "bpy\t25,086\n",
    "qu\t23,837\n",
    "nv\t22,349\n",
    "mn\t22,315\n",
    "xmf\t20,360\n",
    "ban\t19,781\n",
    "si\t19,438\n",
    "tum\t18,196\n",
    "ps\t18,050\n",
    "frr\t17,592\n",
    "os\t17,342\n",
    "bat-smg\t17,191\n",
    "or\t17,061\n",
    "mzn\t16,979\n",
    "sah\t16,749\n",
    "ig\t16,699\n",
    "cdo\t16,370\n",
    "gd\t15,943\n",
    "bug\t15,826\n",
    "yi\t15,530\n",
    "sd\t15,475\n",
    "ilo\t15,370\n",
    "am\t15,204\n",
    "nap\t14,783\n",
    "li\t14,521\n",
    "bcl\t14,213\n",
    "fo\t14,018\n",
    "gor\t13,909\n",
    "hsb\t13,909\n",
    "map-bms\t13,896\n",
    "mai\t13,774\n",
    "shn\t13,184\n",
    "eml\t13,039\n",
    "ace\t12,770\n",
    "zh-classical\t12,535\n",
    "sa\t12,073\n",
    "as\t11,955\n",
    "wa\t11,869\n",
    "ie\t11,728\n",
    "lij\t11,178\n",
    "hyw\t11,169\n",
    "mhr\t11,106\n",
    "zu\t11,052\n",
    "sn\t10,847\n",
    "hif\t10,647\n",
    "mrj\t10,431\n",
    "bjn\t10,304\n",
    "mni\t10,222\n",
    "km\t10,206\n",
    "hak\t10,139\n",
    "roa-tara\t9,323\n",
    "pam\t8,905\n",
    "sat\t8,755\n",
    "rue\t8,699\n",
    "nso\t8,577\n",
    "bh\t8,496\n",
    "so\t7,879\n",
    "se\t7,844\n",
    "myv\t7,836\n",
    "mi\t7,833\n",
    "vls\t7,786\n",
    "nds-nl\t7,701\n",
    "dag\t7,429\n",
    "sc\t7,415\n",
    "ary\t7,116\n",
    "kw\t7,030\n",
    "co\t7,016\n",
    "bo\t6,961\n",
    "vep\t6,905\n",
    "glk\t6,822\n",
    "tk\t6,742\n",
    "kab\t6,706\n",
    "gan\t6,667\n",
    "rw\t6,560\n",
    "fiu-vro\t6,511\n",
    "ab\t6,088\n",
    "gv\t6,000\n",
    "ug\t5,907\n",
    "nah\t5,818\n",
    "zea\t5,802\n",
    "skr\t5,726\n",
    "frp\t5,694\n",
    "udm\t5,670\n",
    "pcd\t5,567\n",
    "kv\t5,514\n",
    "mt\t5,505\n",
    "csb\t5,455\n",
    "gn\t5,420\n",
    "smn\t5,272\n",
    "ay\t5,119\n",
    "nrm\t4,854\n",
    "ks\t4,511\n",
    "lez\t4,323\n",
    "lfn\t4,210\n",
    "olo\t4,199\n",
    "mwl\t4,162\n",
    "stq\t4,094\n",
    "lo\t4,068\n",
    "ang\t4,022\n",
    "fur\t3,856\n",
    "mdf\t3,856\n",
    "rm\t3,762\n",
    "lad\t3,634\n",
    "kaa\t3,609\n",
    "gom\t3,579\n",
    "ext\t3,559\n",
    "koi\t3,461\n",
    "tyv\t3,456\n",
    "pap\t3,366\n",
    "av\t3,359\n",
    "dsb\t3,355\n",
    "ln\t3,336\n",
    "dty\t3,328\n",
    "tw\t3,252\n",
    "cbk-zam\t3,106\n",
    "dv\t3,030\n",
    "ksh\t2,937\n",
    "za\t2,820\n",
    "gag\t2,804\n",
    "bxr\t2,773\n",
    "pfl\t2,744\n",
    "lg\t2,720\n",
    "szy\t2,581\n",
    "pag\t2,568\n",
    "blk\t2,562\n",
    "pi\t2,548\n",
    "tay\t2,541\n",
    "haw\t2,519\n",
    "awa\t2,437\n",
    "inh\t2,182\n",
    "krc\t2,076\n",
    "xal\t2,053\n",
    "pdc\t2,018\n",
    "to\t1,975\n",
    "atj\t1,957\n",
    "tcy\t1,894\n",
    "arc\t1,888\n",
    "mnw\t1,818\n",
    "jam\t1,707\n",
    "kbp\t1,697\n",
    "wo\t1,667\n",
    "anp\t1,634\n",
    "kbd\t1,616\n",
    "nia\t1,573\n",
    "nov\t1,534\n",
    "shi\t1,516\n",
    "ki\t1,507\n",
    "nqo\t1,484\n",
    "om\t1,441\n",
    "bi\t1,414\n",
    "xh\t1,362\n",
    "tpi\t1,359\n",
    "tet\t1,355\n",
    "ff\t1,342\n",
    "roa-rup\t1,333\n",
    "jbo\t1,330\n",
    "fj\t1,281\n",
    "kg\t1,269\n",
    "lbe\t1,268\n",
    "ty\t1,220\n",
    "guw\t1,210\n",
    "cu\t1,209\n",
    "trv\t1,137\n",
    "ami\t1,126\n",
    "srn\t1,119\n",
    "sm\t1,079\n",
    "mad\t1,075\n",
    "alt\t1,069\n",
    "ltg\t1,066\n",
    "gcr\t1,064\n",
    "chr\t1,057\n",
    "tn\t1,051\n",
    "ny\t1,023\n",
    "st\t917\n",
    "pih\t899\n",
    "rmy\t877\n",
    "got\t872\n",
    "ee\t832\n",
    "bm\t811\n",
    "pcm\t808\n",
    "ss\t789\n",
    "ts\t748\n",
    "ve\t748\n",
    "chy\t695\n",
    "kcg\t692\n",
    "rn\t636\n",
    "gur\t567\n",
    "ch\t554\n",
    "ik\t511\n",
    "ady\t499\n",
    "pnt\t485\n",
    "guc\t481\n",
    "iu\t447\n",
    "pwn\t337\n",
    "sg\t316\n",
    "din\t310\n",
    "ti\t252\n",
    "kl\t243\n",
    "dz\t237\n",
    "cr\t158\n",
    "ng\t8\n",
    "cho\t6\n",
    "kj\t4\n",
    "mh\t4\n",
    "ho\t3\n",
    "ii\t3\n",
    "mus\t1\n",
    "lrc\t1\n",
    "aa\t0\n",
    "ak\t0\n",
    "hz\t0\n",
    "kr\t0\n",
    "na\t0\"\"\""
   ]
  },
  {
   "cell_type": "code",
   "execution_count": 106,
   "metadata": {},
   "outputs": [
    {
     "data": {
      "text/plain": [
       "332-element Vector{Pair{SubString{String}, SubString{String}}}:\n",
       "  \"en\" => \"6,695,688\"\n",
       " \"ceb\" => \"6,122,691\"\n",
       "  \"de\" => \"2,824,907\"\n",
       "  \"sv\" => \"2,569,204\"\n",
       "  \"fr\" => \"2,542,587\"\n",
       "  \"nl\" => \"2,129,469\"\n",
       "  \"ru\" => \"1,931,750\"\n",
       "  \"es\" => \"1,883,599\"\n",
       "  \"it\" => \"1,821,740\"\n",
       " \"arz\" => \"1,618,736\"\n",
       "       ⋮\n",
       "  \"ho\" => \"3\"\n",
       "  \"ii\" => \"3\"\n",
       " \"mus\" => \"1\"\n",
       " \"lrc\" => \"1\"\n",
       "  \"aa\" => \"0\"\n",
       "  \"ak\" => \"0\"\n",
       "  \"hz\" => \"0\"\n",
       "  \"kr\" => \"0\"\n",
       "  \"na\" => \"0\""
      ]
     },
     "metadata": {},
     "output_type": "display_data"
    }
   ],
   "source": [
    "wct = [Pair(split(l, \"\\t\")...) for l in split(wikilangsraw, \"\\n\")]"
   ]
  },
  {
   "cell_type": "code",
   "execution_count": 120,
   "metadata": {},
   "outputs": [
    {
     "data": {
      "text/plain": [
       "416-element Vector{Pair{String, Int64}}:\n",
       " \"eng\" => 1819501\n",
       " \"rus\" => 1005455\n",
       " \"ita\" => 858236\n",
       " \"tur\" => 725682\n",
       " \"epo\" => 723053\n",
       " \"kab\" => 680542\n",
       " \"ber\" => 648182\n",
       " \"deu\" => 622700\n",
       " \"fra\" => 560400\n",
       " \"por\" => 420190\n",
       "       ⋮\n",
       " \"nap\" => 2\n",
       " \"nys\" => 2\n",
       " \"pli\" => 2\n",
       " \"sot\" => 2\n",
       " \"cyo\" => 1\n",
       " \"hax\" => 1\n",
       " \"rel\" => 1\n",
       " \"ssw\" => 1\n",
       " \"urh\" => 1"
      ]
     },
     "metadata": {},
     "output_type": "display_data"
    }
   ],
   "source": [
    "tct = [l=>count(i->true, eachline(\"./corpus/tatoeba/$l.txt\")) for l in tlangs]\n",
    "tct = sort!(tct, by=x->x[2], rev=true)"
   ]
  },
  {
   "cell_type": "code",
   "execution_count": 404,
   "metadata": {},
   "outputs": [
    {
     "name": "stdout",
     "output_type": "stream",
     "text": [
      "eng 1 1 \"en\" => \"6,695,688\" \"eng\" => 1819501\n",
      "ceb 2 120 \"ceb\" => \"6,122,691\" \"ceb\" => 1705\n",
      "deu 3 8 \"de\" => \"2,824,907\" \"deu\" => 622700\n",
      "swe 4 28 \"sv\" => \"2,569,204\" \"swe\" => 52832\n",
      "fra 5 9 \"fr\" => \"2,542,587\" \"fra\" => 560400\n",
      "nld 6 16 \"nl\" => \"2,129,469\" \"nld\" => 176551\n",
      "rus 7 2 \"ru\" => \"1,931,750\" \"rus\" => 1005455\n",
      "spa 8 11 \"es\" => \"1,883,599\" \"spa\" => 397650\n",
      "ita 9 3 \"it\" => \"1,821,740\" \"ita\" => 858236"
     ]
    },
    {
     "name": "stdout",
     "output_type": "stream",
     "text": [
      "\n",
      "ara 10 25 \"arz\" => \"1,618,736\" \"ara\" => 59492\n",
      "pol 11 18 \"pl\" => \"1,576,499\" \"pol\" => 121407\n",
      "jpn 12 13 \"ja\" => \"1,383,085\" \"jpn\" => 237580\n",
      "zho 13 22 \"zh\" => \"1,371,287\" \"cmn\" => 73561\n",
      "vie 14 38 \"vi\" => \"1,286,385\" \"vie\" => 23702\n",
      "ukr 15 15 \"uk\" => \"1,281,479\" \"ukr\" => 183823\n",
      "war 16 104 \"war\" => \"1,266,241\" \"war\" => 2386\n",
      "ara 17 25 \"ar\" => \"1,214,058\" \"ara\" => 59492\n",
      "por 18 10 \"pt\" => \"1,106,454\" \"por\" => 420190\n"
     ]
    },
    {
     "name": "stdout",
     "output_type": "stream",
     "text": [
      "fas 19 34 \"fa\" => \"970,216\" \"pes\" => 27209\n",
      "cat 20 57 \"ca\" => \"732,307\" \"cat\" => 8305\n",
      "hbs 21 30 \"sr\" => \"672,910\" \"srp\" => 47874\n",
      "msa 22 41 \"id\" => \"656,987\" \"ind\" => 20725\n",
      "kor 23 54 \"ko\" => \"642,389\" \"kor\" => 11593\n",
      "nor 24 45 \"no\" => \"614,075\" \"nob\" => 17248\n",
      "che 25 285 \"ce\" => \"600,850\" \"che\" => 40\n",
      "fin 26 17 \"fi\" => \"557,256\" \"fin\" => 146265\n",
      "ces 27 24 \"cs\" => \"529,573\" \"ces\" => 72712\n"
     ]
    },
    {
     "name": "stdout",
     "output_type": "stream",
     "text": [
      "tur 28 4 \"tr\" => \"528,921\" \"tur\" => 725682\n",
      "hun 29 12 \"hu\" => \"528,544\" \"hun\" => 392223\n",
      "tat 30 48 \"tt\" => \"500,546\" \"tat\" => 14259\n",
      "hbs 31 30 \"sh\" => \"458,158\" \"srp\" => 47874\n",
      "ron 32 32 \"ro\" => \"441,093\" \"ron\" => 31847\n",
      "?zh-min-nan 33 !! \"zh-min-nan\" => \"432,536\" !!\n",
      "eus 34 66 \"eu\" => \"414,140\" \"eus\" => 6290\n",
      "msa 35 41 \"ms\" => \"366,576\" \"ind\" => 20725"
     ]
    },
    {
     "name": "stdout",
     "output_type": "stream",
     "text": [
      "\n",
      "epo 36 5 \"eo\" => \"341,045\" \"epo\" => 723053\n",
      "heb 37 14 \"he\" => \"339,130\" \"heb\" => 200764\n",
      "hye 38 78 \"hy\" => \"300,437\" \"hye\" => 5109\n",
      "dan 39 26 \"da\" => \"293,672\" \"dan\" => 58218\n",
      "bul 40 36 \"bg\" => \"292,912\" \"bul\" => 24872\n",
      "cym 41 117 \"cy\" => \"279,151\" \"cym\" => 1726\n",
      "slk 42 43 \"sk\" => \"245,632\" \"slk\" => 17484\n",
      "aze 43 69 \"azb\" => \"243,108\" \"aze\" => 5696\n",
      "uzb 44 136 \"uz\" => \"240,355\" \"uzb\" => 1046"
     ]
    },
    {
     "name": "stdout",
     "output_type": "stream",
     "text": [
      "\n",
      "est 45 72 \"et\" => \"238,411\" \"est\" => 5663\n",
      "?simple 46 !! \"simple\" => \"236,311\" !!\n",
      "kaz 47 86 \"kk\" => \"234,226\" \"kaz\" => 4183\n",
      "bel 48 50 \"be\" => \"233,975\" \"bel\" => 13607\n",
      "msa 49 41 \"min\" => \"226,771\" \"ind\" => 20725\n",
      "ell 50 31 \"el\" => \"224,580\" \"ell\" => 37859\n",
      "hbs 51 30 \"hr\" => \"216,047\" \"srp\" => 47874\n",
      "lit 52 19 \"lt\" => \"212,353\" \"lit\" => 93177"
     ]
    },
    {
     "name": "stdout",
     "output_type": "stream",
     "text": [
      "\n",
      "glg 53 81 \"gl\" => \"198,205\" \"glg\" => 4719\n",
      "aze 54 69 \"az\" => \"195,322\" \"aze\" => 5696\n",
      "urd 55 106 \"ur\" => \"193,395\" \"urd\" => 2340\n",
      "slv 56 98 \"sl\" => \"182,051\" \"slv\" => 2812\n",
      "lld 57 236 \"lld\" => \"169,406\" \"lld\" => 85\n",
      "kat 58 64 \"ka\" => \"168,739\" \"kat\" => 6390\n",
      "nor 59 45 \"nn\" => \"166,366\" \"nob\" => 17248\n",
      "hin 60 47 \"hi\" => \"158,408\" \"hin\" => 15226\n",
      "tha 61 77 \"th\" => \"157,820\" \"tha\" => 5245"
     ]
    },
    {
     "name": "stdout",
     "output_type": "stream",
     "text": [
      "\n",
      "tam 62 157 \"ta\" => \"156,024\" \"tam\" => 522\n",
      "ben 63 51 \"bn\" => \"140,249\" \"ben\" => 13426\n",
      "lat 64 29 \"la\" => \"138,072\" \"lat\" => 48937\n",
      "mkd 65 20 \"mk\" => \"137,585\" \"mkd\" => 78095\n",
      "?zh-yue 66 !! \"zh-yue\" => \"133,717\" !!\n",
      "ast 67 158 \"ast\" => \"132,880\" \"ast\" => 497\n",
      "lav 68 82 \"lv\" => \"121,849\" \"lvs\" => 4671\n",
      "tgk 69 251 \"tg\" => \"109,995\" \"tgk\" => 64\n"
     ]
    },
    {
     "name": "stdout",
     "output_type": "stream",
     "text": [
      "afr 70 85 \"af\" => \"109,796\" \"afr\" => 4204\n",
      "mya 71 154 \"my\" => \"106,821\" \"mya\" => 559\n",
      "mlg 72 250 \"mg\" => \"95,851\" \"mlg\" => 64\n",
      "mar 73 23 \"mr\" => \"93,096\" \"mar\" => 73277\n",
      "sqi 74 102 \"sq\" => \"92,660\" \"sqi\" => 2563"
     ]
    },
    {
     "name": "stdout",
     "output_type": "stream",
     "text": [
      "\n",
      "hbs 75 30 \"bs\" => \"92,256\" \"srp\" => 47874\n",
      "oci 76 67 \"oc\" => \"89,008\" \"oci\" => 6141\n",
      "tel 77 175 \"te\" => \"84,768\" \"tel\" => 271\n",
      "mal 78 144 \"ml\" => \"84,264\" \"mal\" => 878\n",
      "nds 79 42 \"nds\" => \"84,233\" \"nds\" => 18177\n",
      "?be-tarask 80 !! \"be-tarask\" => \"83,521\" !!\n",
      "bre 81 60 \"br\" => \"82,846\" \"bre\" => 7656\n",
      "kir 82 169 \"ky\" => \"80,410\" \"kir\" => 357"
     ]
    },
    {
     "name": "stdout",
     "output_type": "stream",
     "text": [
      "\n",
      "swa 83 37 \"sw\" => \"78,414\" \"swc\" => 23823\n",
      "jav 84 133 \"jv\" => \"72,583\" \"jav\" => 1075\n",
      "new 85 342 \"new\" => \"72,347\" \"new\" => 17\n",
      "lmo 86 314 \"lmo\" => \"72,323\" \"lmo\" => 29\n",
      "lah 87 207 \"pnb\" => \"71,525\" \"skr\" => 134\n",
      "vec 88 193 \"vec\" => \"69,227\" \"vec\" => 190\n",
      "hat 89 224 \"ht\" => \"68,488\" \"hat\" => 95\n",
      "pms 90 147 \"pms\" => \"67,925\" \"pms\" => 824\n"
     ]
    },
    {
     "name": "stdout",
     "output_type": "stream",
     "text": [
      "bak 91 177 \"ba\" => \"63,081\" \"bak\" => 257\n",
      "ltz 92 143 \"lb\" => \"62,010\" \"ltz\" => 886\n",
      "sun 93 310 \"su\" => \"61,552\" \"sun\" => 31\n",
      "kur 94 53 \"ku\" => \"59,474\" \"ckb\" => 12520\n",
      "gle 95 97 \"ga\" => \"58,877\" \"gle\" => 2851\n",
      "szl 96 367 \"szl\" => \"57,259\" \"szl\" => 10\n",
      "isl 97 52 \"is\" => \"57,002\" \"isl\" => 13251\n",
      "fry 98 150 \"fy\" => \"52,010\" \"fry\" => 639\n",
      "chv 99 121 \"cv\" => \"51,330\" \"chv\" => 1663"
     ]
    },
    {
     "name": "stdout",
     "output_type": "stream",
     "text": [
      "\n",
      "kur 100 53 \"ckb\" => \"51,102\" \"ckb\" => 12520\n",
      "pan 101 189 \"pa\" => \"50,850\" \"pan\" => 203\n",
      "tgl 102 21 \"tl\" => \"44,980\" \"tgl\" => 74787\n",
      "arg 103 220 \"an\" => \"44,026\" \"arg\" => 103\n",
      "zho 104 22 \"wuu\" => \"42,874\" \"cmn\" => 73561\n",
      "zza 105 118 \"diq\" => \"41,203\" \"zza\" => 1726\n",
      "ido 106 55 \"io\" => \"38,083\" \"ido\" => 10644\n",
      "sco 107 233 \"sco\" => \"36,171\" \"sco\" => 87"
     ]
    },
    {
     "name": "stdout",
     "output_type": "stream",
     "text": [
      "\n",
      "vol 108 74 \"vo\" => \"34,256\" \"vol\" => 5375\n",
      "yor 109 255 \"yo\" => \"32,826\" \"yor\" => 60\n",
      "nep 110 101 \"ne\" => \"31,974\" \"npi\" => 2743\n",
      "ina 111 33 \"ia\" => \"30,366\" \"ina\" => 28926\n",
      "guj 112 195 \"gu\" => \"30,216\" \"guj\" => 168\n",
      "kan 113 192 \"kn\" => \"30,214\" \"kan\" => 191\n",
      "sqi 114 102 \"als\" => \"29,879\" \"sqi\" => 2563"
     ]
    },
    {
     "name": "stdout",
     "output_type": "stream",
     "text": [
      "\n",
      "hau 115 40 \"ha\" => \"28,740\" \"hau\" => 21817\n",
      "avk 116 87 \"avk\" => \"28,017\" \"avk\" => 4103\n",
      "bar 117 182 \"bar\" => \"26,953\" \"bar\" => 227\n",
      "crh 118 173 \"crh\" => \"26,373\" \"crh\" => 320\n",
      "scn 119 297 \"scn\" => \"26,249\" \"scn\" => 35\n",
      "bpy 120 !! \"bpy\" => \"25,086\" !!\n",
      "que 121 160 \"qu\" => \"23,837\" \"que\" => 435\n",
      "nav 122 237 \"nv\" => \"22,349\" \"nav\" => 85"
     ]
    },
    {
     "name": "stdout",
     "output_type": "stream",
     "text": [
      "\n",
      "mon 123 100 \"mn\" => \"22,315\" \"mon\" => 2788\n",
      "xmf 124 134 \"xmf\" => \"20,360\" \"xmf\" => 1058\n",
      "ban 125 383 \"ban\" => \"19,781\" \"ban\" => 6\n",
      "sin 126 265 \"si\" => \"19,438\" \"sin\" => 55\n",
      "tum 127 228 \"tum\" => \"18,196\" \"tum\" => 92\n",
      "pus 128 275 \"ps\" => \"18,050\" \"pus\" => 46\n",
      "frr 129 95 \"frr\" => \"17,592\" \"frr\" => 2957\n",
      "oss 130 63 \"os\" => \"17,342\" \"oss\" => 6861\n",
      "?bat-smg 131 !! \"bat-smg\" => \"17,191\" !!\n"
     ]
    },
    {
     "name": "stdout",
     "output_type": "stream",
     "text": [
      "ori 132 167 \"or\" => \"17,061\" \"ori\" => 397\n",
      "mzn 133 !! \"mzn\" => \"16,979\" !!\n",
      "sah 134 138 \"sah\" => \"16,749\" \"sah\" => 971\n",
      "ibo 135 294 \"ig\" => \"16,699\" \"ibo\" => 35\n",
      "zho 136 22 \"cdo\" => \"16,370\" \"cmn\" => 73561\n",
      "gla 137 137 \"gd\" => \"15,943\" \"gla\" => 1038\n",
      "bug 138 !! \"bug\" => \"15,826\" !!\n",
      "yid 139 44 \"yi\" => \"15,530\" \"yid\" => 17399"
     ]
    },
    {
     "name": "stdout",
     "output_type": "stream",
     "text": [
      "\n",
      "snd 140 387 \"sd\" => \"15,475\" \"snd\" => 6\n",
      "ilo 141 103 \"ilo\" => \"15,370\" \"ilo\" => 2464\n",
      "amh 142 181 \"am\" => \"15,204\" \"amh\" => 235\n",
      "nap 143 408 \"nap\" => \"14,783\" \"nap\" => 2\n",
      "lim 144 277 \"li\" => \"14,521\" \"lim\" => 45\n",
      "bik 145 388 \"bcl\" => \"14,213\" \"bcl\" => 5\n",
      "fao 146 164 \"fo\" => \"14,018\" \"fao\" => 409\n",
      "gor 147 !! \"gor\" => \"13,909\" !!"
     ]
    },
    {
     "name": "stdout",
     "output_type": "stream",
     "text": [
      "\n",
      "hsb 148 124 \"hsb\" => \"13,909\" \"hsb\" => 1518\n",
      "?map-bms 149 !! \"map-bms\" => \"13,896\" !!\n",
      "mai 150 376 \"mai\" => \"13,774\" \"mai\" => 8\n",
      "shn 151 !! \"shn\" => \"13,184\" !!\n",
      "?eml 152 !! \"eml\" => \"13,039\" !!\n",
      "ace 153 !! \"ace\" => \"12,770\" !!\n",
      "?zh-classical 154 !! \"zh-classical\" => \"12,535\" !!\n",
      "san 155 197 \"sa\" => \"12,073\" \"san\" => 162\n"
     ]
    },
    {
     "name": "stdout",
     "output_type": "stream",
     "text": [
      "asm 156 68 \"as\" => \"11,955\" \"asm\" => 6101\n",
      "wln 157 268 \"wa\" => \"11,869\" \"wln\" => 53\n",
      "ile 158 58 \"ie\" => \"11,728\" \"ile\" => 8231\n",
      "lij 159 116 \"lij\" => \"11,178\" \"lij\" => 1836\n",
      "hyw 160 !! \"hyw\" => \"11,169\" !!\n",
      "chm 161 84 \"mhr\" => \"11,106\" \"mhr\" => 4316\n",
      "zul 162 234 \"zu\" => \"11,052\" \"zul\" => 86\n",
      "sna 163 276 \"sn\" => \"10,847\" \"sna\" => 46\n",
      "hif 164 298 \"hif\" => \"10,647\" \"hif\" => 34"
     ]
    },
    {
     "name": "stdout",
     "output_type": "stream",
     "text": [
      "\n",
      "chm 165 84 \"mrj\" => \"10,431\" \"mhr\" => 4316\n",
      "msa 166 41 \"bjn\" => \"10,304\" \"ind\" => 20725\n",
      "mni 167 401 \"mni\" => \"10,222\" \"mni\" => 3\n",
      "khm 168 107 \"km\" => \"10,206\" \"khm\" => 2336\n",
      "zho 169 22 \"hak\" => \"10,139\" \"cmn\" => 73561\n",
      "?roa-tara 170 !! \"roa-tara\" => \"9,323\" !!\n",
      "pam 171 125 \"pam\" => \"8,905\" \"pam\" => 1482\n",
      "sat 172 70 \"sat\" => \"8,755\" \"sat\" => 5672"
     ]
    },
    {
     "name": "stdout",
     "output_type": "stream",
     "text": [
      "\n",
      "rue 173 214 \"rue\" => \"8,699\" \"rue\" => 117\n",
      "nso 174 !! \"nso\" => \"8,577\" !!\n",
      "?bh 175 !! \"bh\" => \"8,496\" !!\n",
      "som 176 222 \"so\" => \"7,879\" \"som\" => 97\n",
      "sme 177 184 \"se\" => \"7,844\" \"sme\" => 219\n",
      "myv 178 245 \"myv\" => \"7,836\" \"myv\" => 69\n",
      "mri 179 166 \"mi\" => \"7,833\" \"mri\" => 397\n",
      "vls 180 !! \"vls\" => \"7,786\" !!"
     ]
    },
    {
     "name": "stdout",
     "output_type": "stream",
     "text": [
      "\n",
      "?nds-nl 181 !! \"nds-nl\" => \"7,701\" !!\n",
      "dag 182 !! \"dag\" => \"7,429\" !!\n",
      "srd 183 343 \"sc\" => \"7,415\" \"srd\" => 16\n",
      "ara 184 25 \"ary\" => \"7,116\" \"ara\" => 59492\n",
      "cor 185 88 \"kw\" => \"7,030\" \"cor\" => 3923\n",
      "cos 186 326 \"co\" => \"7,016\" \"cos\" => 24\n",
      "bod 187 282 \"bo\" => \"6,961\" \"bod\" => 41\n",
      "vep 188 357 \"vep\" => \"6,905\" \"vep\" => 13\n",
      "glk 189 !! \"glk\" => \"6,822\" !!\n"
     ]
    },
    {
     "name": "stdout",
     "output_type": "stream",
     "text": [
      "tuk 190 62 \"tk\" => \"6,742\" \"tuk\" => 6885\n",
      "kab 191 6 \"kab\" => \"6,706\" \"kab\" => 680542\n",
      "zho 192 22 \"gan\" => \"6,667\" \"cmn\" => 73561\n",
      "kin 193 309 \"rw\" => \"6,560\" \"kin\" => 31\n",
      "?fiu-vro 194 !! \"fiu-vro\" => \"6,511\" !!\n",
      "abk 195 315 \"ab\" => \"6,088\" \"abk\" => 28\n",
      "glv 196 290 \"gv\" => \"6,000\" \"glv\" => 38\n",
      "uig 197 59 \"ug\" => \"5,907\" \"uig\" => 7886\n"
     ]
    },
    {
     "name": "stdout",
     "output_type": "stream",
     "text": [
      "?nah 198 187 \"nah\" => \"5,818\" \"nah\" => 212\n",
      "zea 199 362 \"zea\" => \"5,802\" \"zea\" => 12\n",
      "lah 200 207 \"skr\" => \"5,726\" \"skr\" => 134\n",
      "frp 201 !! \"frp\" => \"5,694\" !!\n",
      "udm 202 142 \"udm\" => \"5,670\" \"udm\" => 893\n",
      "pcd 203 127 \"pcd\" => \"5,567\" \"pcd\" => 1350\n",
      "kom 204 274 \"kv\" => \"5,514\" \"kpv\" => 46\n",
      "mlt 205 149 \"mt\" => \"5,505\" \"mlt\" => 646"
     ]
    },
    {
     "name": "stdout",
     "output_type": "stream",
     "text": [
      "\n",
      "csb 206 139 \"csb\" => \"5,455\" \"csb\" => 947\n",
      "grn 207 94 \"gn\" => \"5,420\" \"grn\" => 3360\n",
      "smn 208 !! \"smn\" => \"5,272\" !!\n",
      "aym 209 405 \"ay\" => \"5,119\" \"aym\" => 2\n",
      "nrm 210 !! \"nrm\" => \"4,854\" !!\n",
      "kas 211 272 \"ks\" => \"4,511\" \"kas\" => 49\n",
      "lez 212 !! \"lez\" => \"4,323\" !!\n"
     ]
    },
    {
     "name": "stdout",
     "output_type": "stream",
     "text": [
      "lfn 213 39 \"lfn\" => \"4,210\" \"lfn\" => 23398\n",
      "olo 214 !! \"olo\" => \"4,199\" !!\n",
      "mwl 215 332 \"mwl\" => \"4,162\" \"mwl\" => 22\n",
      "stq 216 223 \"stq\" => \"4,094\" \"stq\" => 96\n",
      "lao 217 183 \"lo\" => \"4,068\" \"lao\" => 219\n",
      "ang 218 168 \"ang\" => \"4,022\" \"ang\" => 379\n",
      "fur 219 302 \"fur\" => \"3,856\" \"fur\" => 33\n",
      "mdf 220 371 \"mdf\" => \"3,856\" \"mdf\" => 9\n",
      "roh 221 328 \"rm\" => \"3,762\" \"roh\" => 24\n"
     ]
    },
    {
     "name": "stdout",
     "output_type": "stream",
     "text": [
      "lad 222 114 \"lad\" => \"3,634\" \"lad\" => 1840\n",
      "kaa 223 344 \"kaa\" => \"3,609\" \"kaa\" => 15\n",
      "kok 224 392 \"gom\" => \"3,579\" \"gom\" => 4\n",
      "ext 225 248 \"ext\" => \"3,559\" \"ext\" => 66\n",
      "kom 226 274 \"koi\" => \"3,461\" \"kpv\" => 46\n",
      "tyv 227 246 \"tyv\" => \"3,456\" \"tyv\" => 69\n",
      "pap 228 231 \"pap\" => \"3,366\" \"pap\" => 89\n",
      "ava 229 369 \"av\" => \"3,359\" \"ava\" => 9\n",
      "dsb 230 131 \"dsb\" => \"3,355\" \"dsb\" => 1095"
     ]
    },
    {
     "name": "stdout",
     "output_type": "stream",
     "text": [
      "\n",
      "lin 231 79 \"ln\" => \"3,336\" \"lin\" => 4776\n",
      "nep 232 101 \"dty\" => \"3,328\" \"npi\" => 2743\n",
      "aka 233 !! \"tw\" => \"3,252\" !!\n",
      "?cbk-zam 234 !! \"cbk-zam\" => \"3,106\" !!\n",
      "div 235 286 \"dv\" => \"3,030\" \"div\" => 40\n",
      "ksh 236 238 \"ksh\" => \"2,937\" \"ksh\" => 82\n",
      "zha 237 !! \"za\" => \"2,820\" !!\n"
     ]
    },
    {
     "name": "stdout",
     "output_type": "stream",
     "text": [
      "gag 238 321 \"gag\" => \"2,804\" \"gag\" => 27\n",
      "bua 239 141 \"bxr\" => \"2,773\" \"bua\" => 906\n",
      "pfl 240 403 \"pfl\" => \"2,744\" \"pfl\" => 3\n",
      "lug 241 406 \"lg\" => \"2,720\" \"lug\" => 2\n",
      "szy 242 !! \"szy\" => \"2,581\" !!"
     ]
    },
    {
     "name": "stdout",
     "output_type": "stream",
     "text": [
      "\n",
      "pag 243 253 \"pag\" => \"2,568\" \"pag\" => 62\n",
      "blk 244 !! \"blk\" => \"2,562\" !!\n",
      "pli 245 410 \"pi\" => \"2,548\" \"pli\" => 2\n",
      "tay 246 !! \"tay\" => \"2,541\" !!\n",
      "haw 247 198 \"haw\" => \"2,519\" \"haw\" => 159\n",
      "awa 248 178 \"awa\" => \"2,437\" \"awa\" => 253\n",
      "inh 249 !! \"inh\" => \"2,182\" !!\n",
      "krc 250 188 \"krc\" => \"2,076\" \"krc\" => 211"
     ]
    },
    {
     "name": "stdout",
     "output_type": "stream",
     "text": [
      "\n",
      "xal 251 146 \"xal\" => \"2,053\" \"xal\" => 870\n",
      "pdc 252 261 \"pdc\" => \"2,018\" \"pdc\" => 57\n",
      "ton 253 337 \"to\" => \"1,975\" \"ton\" => 20\n",
      "atj 254 !! \"atj\" => \"1,957\" !!\n",
      "tcy 255 !! \"tcy\" => \"1,894\" !!\n",
      "arc 256 !! \"arc\" => \"1,888\" !!\n",
      "mnw 257 372 \"mnw\" => \"1,818\" \"mnw\" => 9\n",
      "jam 258 299 \"jam\" => \"1,707\" \"jam\" => 34\n",
      "kbp 259 !! \"kbp\" => \"1,697\" !!"
     ]
    },
    {
     "name": "stdout",
     "output_type": "stream",
     "text": [
      "\n",
      "wol 260 212 \"wo\" => \"1,667\" \"wol\" => 121\n",
      "anp 261 !! \"anp\" => \"1,634\" !!\n",
      "kbd 262 232 \"kbd\" => \"1,616\" \"kbd\" => 87\n",
      "nia 263 !! \"nia\" => \"1,573\" !!\n",
      "nov 264 161 \"nov\" => \"1,534\" \"nov\" => 432\n",
      "shi 265 93 \"shi\" => \"1,516\" \"shi\" => 3365\n",
      "kik 266 !! \"ki\" => \"1,507\" !!\n",
      "nqo 267 !! \"nqo\" => \"1,484\" !!\n",
      "orm 268 !! \"om\" => \"1,441\" !!\n"
     ]
    },
    {
     "name": "stdout",
     "output_type": "stream",
     "text": [
      "bis 269 318 \"bi\" => \"1,414\" \"bis\" => 28\n",
      "xho 270 179 \"xh\" => \"1,362\" \"xho\" => 253\n",
      "tpi 271 227 \"tpi\" => \"1,359\" \"tpi\" => 92\n",
      "tet 272 218 \"tet\" => \"1,355\" \"tet\" => 104\n",
      "ful 273 293 \"ff\" => \"1,342\" \"fuv\" => 35\n",
      "?roa-rup 274 !! \"roa-rup\" => \"1,333\" !!\n",
      "jbo 275 46 \"jbo\" => \"1,330\" \"jbo\" => 16533\n",
      "fij 276 289 \"fj\" => \"1,281\" \"fij\" => 38"
     ]
    },
    {
     "name": "stdout",
     "output_type": "stream",
     "text": [
      "\n",
      "kon 277 !! \"kg\" => \"1,269\" !!\n",
      "lbe 278 !! \"lbe\" => \"1,268\" !!\n",
      "tah 279 311 \"ty\" => \"1,220\" \"tah\" => 30\n",
      "guw 280 !! \"guw\" => \"1,210\" !!\n",
      "chu 281 !! \"cu\" => \"1,209\" !!\n",
      "trv 282 !! \"trv\" => \"1,137\" !!\n",
      "ami 283 !! \"ami\" => \"1,126\" !!\n",
      "srn 284 190 \"srn\" => \"1,119\" \"srn\" => 198\n"
     ]
    },
    {
     "name": "stdout",
     "output_type": "stream",
     "text": [
      "smo 285 241 \"sm\" => \"1,079\" \"smo\" => 78\n",
      "mad 286 375 \"mad\" => \"1,075\" \"mad\" => 8\n",
      "alt 287 373 \"alt\" => \"1,069\" \"alt\" => 8\n",
      "lav 288 82 \"ltg\" => \"1,066\" \"lvs\" => 4671\n",
      "gcr 289 !! \"gcr\" => \"1,064\" !!\n",
      "chr 290 313 \"chr\" => \"1,057\" \"chr\" => 29\n",
      "tsn 291 284 \"tn\" => \"1,051\" \"tsn\" => 41\n",
      "nya 292 324 \"ny\" => \"1,023\" \"nya\" => 25"
     ]
    },
    {
     "name": "stdout",
     "output_type": "stream",
     "text": [
      "\n",
      "sot 293 411 \"st\" => \"917\" \"sot\" => 2\n",
      "pih 294 !! \"pih\" => \"899\" !!\n",
      "rom 295 145 \"rmy\" => \"877\" \"rom\" => 876\n",
      "got 296 176 \"got\" => \"872\" \"got\" => 269\n",
      "ewe 297 323 \"ee\" => \"832\" \"ewe\" => 26\n",
      "bam 298 355 \"bm\" => \"811\" \"bam\" => 13\n",
      "pcm 299 !! \"pcm\" => \"808\" !!\n",
      "ssw 300 415 \"ss\" => \"789\" \"ssw\" => 1\n",
      "tso 301 395 \"ts\" => \"748\" \"tso\" => 4\n"
     ]
    },
    {
     "name": "stdout",
     "output_type": "stream",
     "text": [
      "ven 302 !! \"ve\" => \"748\" !!\n",
      "chy 303 !! \"chy\" => \"695\" !!\n",
      "kcg 304 !! \"kcg\" => \"692\" !!\n",
      "run 305 76 \"rn\" => \"636\" \"run\" => 5304\n",
      "gur 306 !! \"gur\" => \"567\" !!\n",
      "cha 307 170 \"ch\" => \"554\" \"cha\" => 345\n",
      "ipk 308 !! \"ik\" => \"511\" !!\n",
      "ady 309 307 \"ady\" => \"499\" \"ady\" => 31"
     ]
    },
    {
     "name": "stdout",
     "output_type": "stream",
     "text": [
      "\n",
      "pnt 310 !! \"pnt\" => \"485\" !!\n",
      "guc 311 140 \"guc\" => \"481\" \"guc\" => 913\n",
      "iku 312 270 \"iu\" => \"447\" \"ike\" => 51\n",
      "pwn 313 !! \"pwn\" => \"337\" !!\n",
      "sag 314 378 \"sg\" => \"316\" \"sag\" => 8\n",
      "din 315 !! \"din\" => \"310\" !!\n",
      "tir 316 219 \"ti\" => \"252\" \"tir\" => 104\n",
      "kal 317 208 \"kl\" => \"243\" \"kal\" => 130\n"
     ]
    },
    {
     "name": "stdout",
     "output_type": "stream",
     "text": [
      "dzo 318 !! \"dz\" => \"237\" !!\n",
      "cre 319 391 \"cr\" => \"158\" \"crk\" => 4\n",
      "ndo 320 !! \"ng\" => \"8\" !!\n",
      "cho 321 210 \"cho\" => \"6\" \"cho\" => 124\n",
      "kua 322 !! \"kj\" => \"4\" !!\n",
      "mah 323 322 \"mh\" => \"4\" \"mah\" => 27\n",
      "hmo 324 !! \"ho\" => \"3\" !!\n",
      "iii 325 252 \"ii\" => \"3\" \"iii\" => 63\n"
     ]
    },
    {
     "name": "stdout",
     "output_type": "stream",
     "text": [
      "mus 326 151 \"mus\" => \"1\" \"mus\" => 607\n",
      "lrc 327 !! \"lrc\" => \"1\" !!\n",
      "aar 328 !! \"aa\" => \"0\" !!\n",
      "aka 329 !! \"ak\" => \"0\" !!\n",
      "her 330 !! \"hz\" => \"0\" !!\n",
      "kau 331 91 \"kr\" => \"0\" \"knc\" => 3800\n",
      "nau 332 364 \"na\" => \"0\" \"nau\" => 11\n"
     ]
    }
   ],
   "source": [
    "stdtlangs = stdid.(tlangs)\n",
    "for (i, (l, c)) in enumerate(wikilangs)\n",
    "    wid = stdid(l)\n",
    "    ti = findfirst(==(wid), stdid.(first.(tct)))\n",
    "    if ti == nothing\n",
    "        dt = \"!!\"\n",
    "        ti = \"!!\"\n",
    "    else\n",
    "        dt = tct[ti]\n",
    "    end\n",
    "    println(\"$wid $i $ti $(wikilangs[i]) $dt\")\n",
    "end"
   ]
  },
  {
   "cell_type": "code",
   "execution_count": 128,
   "metadata": {},
   "outputs": [
    {
     "data": {
      "text/plain": [
       "56"
      ]
     },
     "metadata": {},
     "output_type": "display_data"
    }
   ],
   "source": [
    "findlast(>(10000), last.(tct))"
   ]
  },
  {
   "cell_type": "code",
   "execution_count": 252,
   "metadata": {},
   "outputs": [
    {
     "data": {
      "text/plain": [
       "\"cat\" => 8305"
      ]
     },
     "metadata": {},
     "output_type": "display_data"
    }
   ],
   "source": [
    "tct[57]"
   ]
  },
  {
   "cell_type": "code",
   "execution_count": 291,
   "metadata": {},
   "outputs": [
    {
     "data": {
      "text/plain": [
       "57-element Vector{AbstractString}:\n",
       " \"eng\"\n",
       " \"rus\"\n",
       " \"ita\"\n",
       " \"tur\"\n",
       " \"epo\"\n",
       " \"kab\"\n",
       " \"?ber\"\n",
       " \"deu\"\n",
       " \"fra\"\n",
       " \"por\"\n",
       " ⋮\n",
       " \"nnb\"\n",
       " \"bel\"\n",
       " \"ben\"\n",
       " \"isl\"\n",
       " \"kur\"\n",
       " \"kor\"\n",
       " \"ido\"\n",
       " \"kur\"\n",
       " \"cat\""
      ]
     },
     "metadata": {},
     "output_type": "display_data"
    }
   ],
   "source": [
    "tkeep = stdid.(first.(tct[1:57]))"
   ]
  },
  {
   "cell_type": "code",
   "execution_count": 365,
   "metadata": {},
   "outputs": [
    {
     "data": {
      "text/plain": [
       "3-element Vector{String}:\n",
       " \"kmr\"\n",
       " \"lfn\"\n",
       " \"jbo\""
      ]
     },
     "metadata": {},
     "output_type": "display_data"
    }
   ],
   "source": [
    "tkeep_black = [\n",
    "    \"kmr\",# 和cbk不像，可能有问题\n",
    "    \"lfn\",\n",
    "    \"jbo\",\n",
    "    # \"nob\", #wiki 对不上\"no\" => \"614,075\", \"nn\" => \"166,366\"\n",
    "    # wiki \"lfn\" => \"4,210\"\n",
    "    # wiki \"jbo\" => \"1,330\"\n",
    "    ]"
   ]
  },
  {
   "cell_type": "code",
   "execution_count": 366,
   "metadata": {},
   "outputs": [
    {
     "name": "stdout",
     "output_type": "stream",
     "text": [
      "kur:Any[\"ckb\", \"kmr\"]\n"
     ]
    }
   ],
   "source": [
    "G1 = Dict()\n",
    "for it in first.(tct[1:57])\n",
    "    G1[stdid(it)] = get!(G1, stdid(it), [])\n",
    "    push!(G1[stdid(it)], it)\n",
    "end\n",
    "for (la, l) in G1\n",
    "    if length(l) > 1\n",
    "        println(la, \":\", l)\n",
    "    end\n",
    "end"
   ]
  },
  {
   "cell_type": "code",
   "execution_count": 405,
   "metadata": {},
   "outputs": [
    {
     "data": {
      "text/plain": [
       "66-element Vector{Pair{SubString{String}, SubString{String}}}:\n",
       "  \"en\" => \"6,695,688\"\n",
       "  \"de\" => \"2,824,907\"\n",
       "  \"sv\" => \"2,569,204\"\n",
       "  \"fr\" => \"2,542,587\"\n",
       "  \"nl\" => \"2,129,469\"\n",
       "  \"ru\" => \"1,931,750\"\n",
       "  \"es\" => \"1,883,599\"\n",
       "  \"it\" => \"1,821,740\"\n",
       " \"arz\" => \"1,618,736\"\n",
       "  \"pl\" => \"1,576,499\"\n",
       "       ⋮\n",
       " \"cdo\" => \"16,370\"\n",
       "  \"yi\" => \"15,530\"\n",
       " \"bjn\" => \"10,304\"\n",
       " \"hak\" => \"10,139\"\n",
       " \"ary\" => \"7,116\"\n",
       " \"kab\" => \"6,706\"\n",
       " \"gan\" => \"6,667\"\n",
       " \"lfn\" => \"4,210\"\n",
       " \"jbo\" => \"1,330\""
      ]
     },
     "metadata": {},
     "output_type": "display_data"
    }
   ],
   "source": [
    "wlangskeep = wikilangs[[l in tkeep for l in stdid.(first.(wikilangs))]]\n",
    "wkeep = first.(wlangskeep)\n",
    "wlangskeep"
   ]
  },
  {
   "cell_type": "code",
   "execution_count": 368,
   "metadata": {},
   "outputs": [
    {
     "data": {
      "text/plain": [
       "false"
      ]
     },
     "metadata": {},
     "output_type": "display_data"
    }
   ],
   "source": [
    "\"cat\" in wkeep"
   ]
  },
  {
   "cell_type": "code",
   "execution_count": 369,
   "metadata": {},
   "outputs": [
    {
     "data": {
      "text/plain": [
       "\"ca\" => \"732,307\""
      ]
     },
     "metadata": {},
     "output_type": "display_data"
    }
   ],
   "source": [
    "wlangskeep[findfirst(==(\"ca\"), first.(wlangskeep))]"
   ]
  },
  {
   "cell_type": "code",
   "execution_count": 370,
   "metadata": {},
   "outputs": [
    {
     "name": "stdout",
     "output_type": "stream",
     "text": [
      "ara:Pair{SubString{String}, SubString{String}}[\"arz\" => \"1,618,736\", \"ar\" => \"1,214,058\", \"ary\" => \"7,116\"]\n",
      "hbs:Pair{SubString{String}, SubString{String}}[\"sr\" => \"672,910\", \"sh\" => \"458,158\", \"hr\" => \"216,047\", \"bs\" => \"92,256\"]\n",
      "zho:Pair{SubString{String}, SubString{String}}[\"zh\" => \"1,371,287\", \"wuu\" => \"42,874\", \"cdo\" => \"16,370\", \"hak\" => \"10,139\", \"gan\" => \"6,667\"]\n",
      "kur:Pair{SubString{String}, SubString{String}}[\"ku\" => \"59,474\", \"ckb\" => \"51,102\"]\n",
      "msa:Pair{SubString{String}, SubString{String}}[\"id\" => \"656,987\", \"ms\" => \"366,576\", \"min\" => \"226,771\", \"bjn\" => \"10,304\"]\n",
      "nor:Pair{SubString{String}, SubString{String}}[\"no\" => \"614,075\", \"nn\" => \"166,366\"]\n"
     ]
    }
   ],
   "source": [
    "G = Dict()\n",
    "for it in wkeep\n",
    "    G[stdid(it)] = get!(G, stdid(it), [])\n",
    "    push!(G[stdid(it)], it)\n",
    "end\n",
    "for (la, l) in G\n",
    "    if length(l) > 1\n",
    "        println(la, \":\", [wlangskeep[findfirst(isequal(i), first.(wlangskeep))] for i in l])\n",
    "    end\n",
    "end"
   ]
  },
  {
   "cell_type": "code",
   "execution_count": 371,
   "metadata": {},
   "outputs": [
    {
     "data": {
      "text/plain": [
       "1-element Vector{Any}:\n",
       " \"ca\""
      ]
     },
     "metadata": {},
     "output_type": "display_data"
    }
   ],
   "source": [
    "G[\"cat\"]"
   ]
  },
  {
   "cell_type": "code",
   "execution_count": 372,
   "metadata": {},
   "outputs": [
    {
     "data": {
      "text/plain": [
       "(Any[\"ara\"], String3(\"ara\"))"
      ]
     },
     "metadata": {},
     "output_type": "display_data"
    }
   ],
   "source": [
    "G1[\"ara\"],part1toid(\"ar\")"
   ]
  },
  {
   "cell_type": "code",
   "execution_count": 373,
   "metadata": {},
   "outputs": [
    {
     "data": {
      "text/plain": [
       "(Any[\"srp\"], String3(\"srp\"))"
      ]
     },
     "metadata": {},
     "output_type": "display_data"
    }
   ],
   "source": [
    "G1[\"hbs\"],part1toid(\"sr\")"
   ]
  },
  {
   "cell_type": "code",
   "execution_count": 374,
   "metadata": {},
   "outputs": [
    {
     "data": {
      "text/plain": [
       "4-element Vector{Any}:\n",
       " \"sr\"\n",
       " \"sh\"\n",
       " \"hr\"\n",
       " \"bs\""
      ]
     },
     "metadata": {},
     "output_type": "display_data"
    }
   ],
   "source": [
    "G[\"hbs\"]"
   ]
  },
  {
   "cell_type": "code",
   "execution_count": 375,
   "metadata": {},
   "outputs": [
    {
     "data": {
      "text/plain": [
       "(Any[\"ind\"], String3(\"ind\"))"
      ]
     },
     "metadata": {},
     "output_type": "display_data"
    }
   ],
   "source": [
    "G1[\"msa\"],part1toid(\"id\")"
   ]
  },
  {
   "cell_type": "code",
   "execution_count": 376,
   "metadata": {},
   "outputs": [
    {
     "data": {
      "text/plain": [
       "(Any[\"nob\"], String3(\"nor\"), String3(\"nno\"))"
      ]
     },
     "metadata": {},
     "output_type": "display_data"
    }
   ],
   "source": [
    "G1[\"nor\"],part1toid(\"no\"),part1toid(\"nn\")"
   ]
  },
  {
   "cell_type": "code",
   "execution_count": 382,
   "metadata": {},
   "outputs": [],
   "source": [
    "wcodes = [[only(v) for v in values(G) if length(v)==1] ; [\"ar\", \"sr\", \"zh\", \"ckb\", \"id\", \"no\"]]\n",
    "wcodes = [c for c in wcodes if !(c in [\"jbo\", \"lfn\"])]\n",
    "@assert length(wcodes) == length(unique(stdid.(wcodes))) == 50\n",
    "tc0 = [c for c in first.(tct[1:57]) if !(c in tkeep_black)]\n",
    "tcodes = [c for c in tc0 if stdid(c) in stdid.(wcodes)]\n",
    "@assert length(wcodes) == length(unique(stdid.(wcodes))) == 50"
   ]
  },
  {
   "cell_type": "code",
   "execution_count": 383,
   "metadata": {},
   "outputs": [],
   "source": [
    "@assert Set(String.(stdid.(tcodes))) == Set(String.(stdid.(wcodes)))"
   ]
  },
  {
   "cell_type": "code",
   "execution_count": 384,
   "metadata": {},
   "outputs": [
    {
     "data": {
      "text/plain": [
       "stdid2 (generic function with 2 methods)"
      ]
     },
     "metadata": {},
     "output_type": "display_data"
    }
   ],
   "source": [
    "function stdid2(c, check=false)\n",
    "    if c in T[!, :Part1]\n",
    "        c = part1toid(c)\n",
    "    end\n",
    "    # if c in MT[!, :I_Id]\n",
    "    #     c = id2mid(c)\n",
    "    # end\n",
    "    if check\n",
    "        c in T[!, :Id] || println(\"missing $c\")\n",
    "    end\n",
    "    c in T[!, :Id] ? c : \"?$c\"\n",
    "end"
   ]
  },
  {
   "cell_type": "code",
   "execution_count": 385,
   "metadata": {},
   "outputs": [
    {
     "data": {
      "text/plain": [
       "Set{String} with 4 elements:\n",
       "  \"nob\"\n",
       "  \"pes\"\n",
       "  \"swc\"\n",
       "  \"cmn\""
      ]
     },
     "metadata": {},
     "output_type": "display_data"
    }
   ],
   "source": [
    "setdiff(Set(String.(stdid2.(tcodes))), Set(String.(stdid2.(wcodes))))"
   ]
  },
  {
   "cell_type": "code",
   "execution_count": 386,
   "metadata": {},
   "outputs": [
    {
     "data": {
      "text/plain": [
       "Set{String} with 4 elements:\n",
       "  \"fas\"\n",
       "  \"zho\"\n",
       "  \"swa\"\n",
       "  \"nor\""
      ]
     },
     "metadata": {},
     "output_type": "display_data"
    }
   ],
   "source": [
    "setdiff(Set(String.(stdid2.(wcodes))),Set(String.(stdid2.(tcodes))))"
   ]
  },
  {
   "cell_type": "code",
   "execution_count": 387,
   "metadata": {},
   "outputs": [
    {
     "data": {
      "text/plain": [
       "(Any[\"pes\"], Any[\"fa\"], String3(\"fas\"))"
      ]
     },
     "metadata": {},
     "output_type": "display_data"
    }
   ],
   "source": [
    "G1[\"fas\"],G[\"fas\"],part1toid(\"fa\")"
   ]
  },
  {
   "cell_type": "code",
   "execution_count": 388,
   "metadata": {},
   "outputs": [
    {
     "data": {
      "text/plain": [
       "(Any[\"swc\"], Any[\"sw\"], String3(\"swa\"))"
      ]
     },
     "metadata": {},
     "output_type": "display_data"
    }
   ],
   "source": [
    "G1[\"swa\"],G[\"swa\"],part1toid(\"sw\")"
   ]
  },
  {
   "cell_type": "code",
   "execution_count": 389,
   "metadata": {},
   "outputs": [
    {
     "name": "stdout",
     "output_type": "stream",
     "text": [
      "ara ar ara ara\n",
      "bel be bel bel\n",
      "ben bn ben ben\n",
      "bul bg bul bul\n",
      "cat ca cat cat\n",
      "ces cs ces ces\n",
      "dan da dan dan\n",
      "deu de deu deu\n",
      "ell el ell ell\n",
      "eng en eng eng\n",
      "epo eo epo epo\n",
      "pes fa fas fas\n",
      "fin fi fin fin\n",
      "fra fr fra fra\n",
      "hau ha hau hau\n",
      "srp sr hbs hbs\n",
      "heb he heb heb\n",
      "hin hi hin hin\n",
      "hun hu hun hun\n",
      "ido io ido ido\n",
      "ina ia ina ina\n",
      "isl is isl isl\n",
      "ita it ita ita\n",
      "jpn ja jpn jpn\n",
      "kab kab kab kab\n",
      "kor ko kor kor\n",
      "ckb ckb kur kur\n",
      "lat la lat lat\n",
      "lit lt lit lit\n",
      "mar mr mar mar\n",
      "mkd mk mkd mkd\n",
      "ind id msa msa\n",
      "nds nds nds nds\n",
      "nld nl nld nld\n",
      "nob no nor nor\n",
      "pol pl pol pol\n",
      "por pt por por\n",
      "ron ro ron ron\n",
      "rus ru rus rus\n",
      "slk sk slk slk\n",
      "spa es spa spa\n",
      "swc sw swa swa\n",
      "swe sv swe swe\n",
      "tat tt tat tat\n",
      "tgl tl tgl tgl\n",
      "tur tr tur tur\n",
      "ukr uk ukr ukr\n",
      "vie vi vie vie\n",
      "yid yi yid yid\n",
      "cmn zh zho zho\n"
     ]
    }
   ],
   "source": [
    "tcodes = sort(tcodes, by=stdid)\n",
    "wcodes = sort(wcodes, by=stdid)\n",
    "for (c1,c2) in zip(tcodes, wcodes)\n",
    "    println(c1, \" \", c2, \" \", stdid(c1), \" \", stdid(c2))\n",
    "end"
   ]
  },
  {
   "cell_type": "code",
   "execution_count": 390,
   "metadata": {},
   "outputs": [
    {
     "name": "stdout",
     "output_type": "stream",
     "text": [
      "[\"ara\", \"bel\", \"ben\", \"bul\", \"cat\", \"ces\", \"dan\", \"deu\", \"ell\", \"eng\", \"epo\", \"pes\", \"fin\", \"fra\", \"hau\", \"srp\", \"heb\", \"hin\", \"hun\", \"ido\", \"ina\", \"isl\", \"ita\", \"jpn\", \"kab\", \"kor\", \"ckb\", \"lat\", \"lit\", \"mar\", \"mkd\", \"ind\", \"nds\", \"nld\", \"nob\", \"pol\", \"por\", \"ron\", \"rus\", \"slk\", \"spa\", \"swc\", \"swe\", \"tat\", \"tgl\", \"tur\", \"ukr\", \"vie\", \"yid\", \"cmn\"]\n",
      "[\"ar\", \"be\", \"bn\", \"bg\", \"ca\", \"cs\", \"da\", \"de\", \"el\", \"en\", \"eo\", \"fa\", \"fi\", \"fr\", \"ha\", \"sr\", \"he\", \"hi\", \"hu\", \"io\", \"ia\", \"is\", \"it\", \"ja\", \"kab\", \"ko\", \"ckb\", \"la\", \"lt\", \"mr\", \"mk\", \"id\", \"nds\", \"nl\", \"no\", \"pl\", \"pt\", \"ro\", \"ru\", \"sk\", \"es\", \"sw\", \"sv\", \"tt\", \"tl\", \"tr\", \"uk\", \"vi\", \"yi\", \"zh\"]\n"
     ]
    }
   ],
   "source": [
    "println(tcodes)\n",
    "println(String.(wcodes))"
   ]
  },
  {
   "cell_type": "code",
   "execution_count": 391,
   "metadata": {},
   "outputs": [
    {
     "name": "stdout",
     "output_type": "stream",
     "text": [
      "[\"ara\" => \"ara\", \"bel\" => \"bel\", \"ben\" => \"ben\", \"bul\" => \"bul\", \"cat\" => \"cat\", \"ces\" => \"ces\", \"dan\" => \"dan\", \"deu\" => \"deu\", \"ell\" => \"ell\", \"eng\" => \"eng\", \"epo\" => \"epo\", \"pes\" => \"fas\", \"fin\" => \"fin\", \"fra\" => \"fra\", \"hau\" => \"hau\", \"srp\" => \"hbs\", \"heb\" => \"heb\", \"hin\" => \"hin\", \"hun\" => \"hun\", \"ido\" => \"ido\", \"ina\" => \"ina\", \"isl\" => \"isl\", \"ita\" => \"ita\", \"jpn\" => \"jpn\", \"kab\" => \"kab\", \"kor\" => \"kor\", \"ckb\" => \"kur\", \"lat\" => \"lat\", \"lit\" => \"lit\", \"mar\" => \"mar\", \"mkd\" => \"mkd\", \"ind\" => \"msa\", \"nds\" => \"nds\", \"nld\" => \"nld\", \"nob\" => \"nor\", \"pol\" => \"pol\", \"por\""
     ]
    },
    {
     "name": "stdout",
     "output_type": "stream",
     "text": [
      " => \"por\", \"ron\" => \"ron\", \"rus\" => \"rus\", \"slk\" => \"slk\", \"spa\" => \"spa\", \"swc\" => \"swa\", \"swe\" => \"swe\", \"tat\" => \"tat\", \"tgl\" => \"tgl\", \"tur\" => \"tur\", \"ukr\" => \"ukr\", \"vie\" => \"vie\", \"yid\" => \"yid\", \"cmn\" => \"zho\"]"
     ]
    }
   ],
   "source": [
    "print([String(c)=>String(stdid(c)) for c in tcodes])"
   ]
  },
  {
   "cell_type": "code",
   "execution_count": 392,
   "metadata": {},
   "outputs": [
    {
     "name": "stdout",
     "output_type": "stream",
     "text": [
      "[\"ar\" => \"ara\", \"be\" => \"bel\", \"bn\" => \"ben\", \"bg\" => \"bul\", \"ca\" => \"cat\", \"cs\" => \"ces\", \"da\" => \"dan\", \"de\" => \"deu\", \"el\" => \"ell\", \"en\" => \"eng\", \"eo\" => \"epo\", \"fa\" => \"fas\", \"fi\" => \"fin\", \"fr\" => \"fra\", \"ha\" => \"hau\", \"sr\" => \"hbs\", \"he\" => \"heb\", \"hi\" => \"hin\", \"hu\" => \"hun\", \"io\" => \"ido\", \"ia\" => \"ina\", \"is\" => \"isl\", \"it\" => \"ita\", \"ja\" => \"jpn\", \"kab\" => \"kab\", \"ko\" => \"kor\", \"ckb\" => \"kur\", \"la\" => \"lat\", \"lt\" => \"lit\", \"mr\" => \"mar\", \"mk\" => \"mkd\", \"id\" => \"msa\", \"nds\" => \"nds\", \"nl\" => \"nld\", \"no\" => \"nor\", \"pl\" => \"pol\", \"pt\" => \"por\", \"ro\" => \"ron\", \"ru\" => \"rus\", \"sk\" => \"slk\", \"es\" => \"spa\", \"sw\" => \"swa\", \"sv\" => \"swe\", \"tt\" => \"tat\", \"tl\" => \"tgl\", \"tr\" => \"tur\", \"uk\" => \"ukr\", \"vi\" => \"vie\", \"yi\" => \"yid\", \"zh\" => \"zho\"]"
     ]
    }
   ],
   "source": [
    "print([String(c)=>String(stdid(c)) for c in wcodes])"
   ]
  },
  {
   "cell_type": "code",
   "execution_count": 406,
   "metadata": {},
   "outputs": [
    {
     "data": {
      "text/plain": [
       "AbstractString[]"
      ]
     },
     "metadata": {},
     "output_type": "display_data"
    }
   ],
   "source": [
    "setdiff(wlangs, wcodes)"
   ]
  },
  {
   "cell_type": "code",
   "execution_count": 394,
   "metadata": {},
   "outputs": [
    {
     "data": {
      "text/plain": [
       "(String3(\"nor\"), String3(\"nor\"))"
      ]
     },
     "metadata": {},
     "output_type": "display_data"
    }
   ],
   "source": [
    "part1toid(\"no\"),stdid(\"nob\")"
   ]
  },
  {
   "cell_type": "code",
   "execution_count": 395,
   "metadata": {},
   "outputs": [
    {
     "data": {
      "text/plain": [
       "1-element Vector{Pair{String, Int64}}:\n",
       " \"nob\" => 17248"
      ]
     },
     "metadata": {},
     "output_type": "display_data"
    }
   ],
   "source": [
    "tct[first.(tct) .== \"nob\"]"
   ]
  },
  {
   "cell_type": "code",
   "execution_count": 401,
   "metadata": {},
   "outputs": [
    {
     "data": {
      "text/plain": [
       "(\"lfn\" => \"4,210\", \"no\" => \"614,075\")"
      ]
     },
     "metadata": {},
     "output_type": "display_data"
    }
   ],
   "source": [
    "wct[findfirst(==(\"lfn\"),first.(wct))],wct[findfirst(==(\"no\"),first.(wct))]"
   ]
  },
  {
   "cell_type": "code",
   "execution_count": 403,
   "metadata": {},
   "outputs": [
    {
     "data": {
      "text/plain": [
       "(\"lfn\" => 23398, \"nob\" => 17248)"
      ]
     },
     "metadata": {},
     "output_type": "display_data"
    }
   ],
   "source": [
    "tct[findfirst(==(\"lfn\"),first.(tct))],tct[findfirst(==(\"nob\"),first.(tct))]"
   ]
  },
  {
   "cell_type": "code",
   "execution_count": null,
   "metadata": {},
   "outputs": [],
   "source": []
  }
 ],
 "metadata": {
  "kernelspec": {
   "display_name": "Julia 1.9.1",
   "language": "julia",
   "name": "julia-1.9"
  },
  "language_info": {
   "file_extension": ".jl",
   "mimetype": "application/julia",
   "name": "julia",
   "version": "1.9.1"
  },
  "orig_nbformat": 4
 },
 "nbformat": 4,
 "nbformat_minor": 2
}
