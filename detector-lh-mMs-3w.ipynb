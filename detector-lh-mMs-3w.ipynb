{
 "cells": [
  {
   "cell_type": "code",
   "execution_count": 1,
   "metadata": {},
   "outputs": [
    {
     "data": {
      "text/plain": [
       "50-element Vector{Pair{String, Float64}}:\n",
       " \"rus\" => 32.13508769119433\n",
       " \"mkd\" => 30.258449399847375\n",
       " \"mar\" => 29.977432692509925\n",
       " \"ukr\" => 29.55481747742666\n",
       " \"ben\" => 29.503371192249226\n",
       " \"hin\" => 28.912644494697663\n",
       " \"heb\" => 28.874006712817305\n",
       " \"bul\" => 28.71517938937598\n",
       " \"hbs\" => 27.68471530085054\n",
       " \"yid\" => 27.473338723106526\n",
       "       ⋮\n",
       " \"vie\" => 22.190633137196794\n",
       " \"isl\" => 22.104003948087577\n",
       " \"lit\" => 21.812230613518143\n",
       " \"ces\" => 21.74667931504059\n",
       " \"slk\" => 21.731447490477912\n",
       " \"jpn\" => 21.461441564113343\n",
       " \"pol\" => 21.308682471129547\n",
       " \"kor\" => 18.807540715647907\n",
       " \"zho\" => 16.602311389017885"
      ]
     },
     "metadata": {},
     "output_type": "display_data"
    }
   ],
   "source": [
    "using Revise\n",
    "include(\"ngrams.jl\")\n",
    "include(\"datasetloader.jl\")\n",
    "LANGS = [\"ara\", \"bel\", \"ben\", \"bul\", \"cat\", \"ces\", \"dan\", \"deu\", \"ell\", \n",
    "\"eng\", \"epo\", \"fas\", \"fin\", \"fra\", \"hau\", \"hbs\", \"heb\", \"hin\", \"hun\", \n",
    "\"ido\", \"ina\", \"isl\", \"ita\", \"jpn\", \"kab\", \"kor\", \"kur\", \"lat\", \"lit\", \n",
    "\"mar\", \"mkd\", \"msa\", \"nds\", \"nld\", \"nor\", \"pol\", \"por\", \"ron\", \"rus\", \n",
    "\"slk\", \"spa\", \"swa\", \"swe\", \"tat\", \"tgl\", \"tur\", \"ukr\", \"vie\", \"yid\", \n",
    "\"zho\"]\n",
    "G = [lang => load_ngrams(joinpath(\"ngrams\", lang * \".txt\")) for lang in LANGS];\n",
    "sort([l=>sum(values(D)) for (l,D) in G], by=last, rev=true)\n"
   ]
  },
  {
   "cell_type": "code",
   "execution_count": 2,
   "metadata": {},
   "outputs": [
    {
     "data": {
      "text/plain": [
       "detector_lh (generic function with 1 method)"
      ]
     },
     "metadata": {},
     "output_type": "display_data"
    }
   ],
   "source": [
    "function norm_table!(t)\n",
    "    D = last(t)\n",
    "    vs = sum(values(D))\n",
    "    for (k, v) in D\n",
    "        D[k] /= vs\n",
    "        D[k] = log(D[k])\n",
    "    end\n",
    "end\n",
    "function likelihood(t, logt, default_logp=DEFAULT_LOGP)\n",
    "    sc = 0.\n",
    "    for (code, p) in t\n",
    "        sc += p * get(logt, code, default_logp)\n",
    "    end\n",
    "    sc\n",
    "end\n",
    "function detector_lh(text; ngram=5, languages=LANGS, logtable=LOG_T)\n",
    "    t = merged_ngrams(text, ngram)\n",
    "    lhs = likelihood.(Ref(t), logtable)\n",
    "    languages[argmax(lhs)]\n",
    "end"
   ]
  },
  {
   "cell_type": "code",
   "execution_count": 3,
   "metadata": {},
   "outputs": [
    {
     "data": {
      "text/plain": [
       "-16.96272550019555"
      ]
     },
     "metadata": {},
     "output_type": "display_data"
    }
   ],
   "source": [
    "norm_table!.(G);\n",
    "LOG_T = last.(G);\n",
    "DEFAULT_LOGP = (minimum.(values.(last.((G))))|>minimum)\n"
   ]
  },
  {
   "cell_type": "code",
   "execution_count": 4,
   "metadata": {},
   "outputs": [
    {
     "data": {
      "text/plain": [
       "521469-element TatoebaDataset:\n",
       "             \"Pardonu, permesu al mi indiki tri erarojn en la supra artikolo.\" => \"epo\"\n",
       "                                          \"Mi veturigos vin al la flughaveno.\" => \"epo\"\n",
       "                                                                 \"Kio mankas?\" => \"epo\"\n",
       "                                            \"Aĥ, kiam ili renkontiĝos denove?\" => \"epo\"\n",
       " \"Kiam mi estis infano, mi pasigis multajn horojn legante sola en mia ĉambro.\" => \"epo\"\n",
       "                                              \"Ŝajnas, ke la trajno malfruas.\" => \"epo\"\n",
       "                                                                \"Venu rapide!\" => \"epo\"\n",
       "                                                   \"Li montris al mi albumon.\" => \"epo\"\n",
       "                                                             \"Estis du kukoj.\" => \"epo\"\n",
       "                                      \"Mia filo scipovas jam nombri ĝis cent.\" => \"epo\"\n",
       "                                                                               ⋮\n",
       "                                                      \"Tohle pivo je výborné.\" => \"ces\"\n",
       "                                              \"Musíš se řídit matčinou radou.\" => \"ces\"\n",
       "                                             \"Tom potvrdil všechno, co řekli.\" => \"ces\"\n",
       "                                                        \"Byl obnoven pořádek.\" => \"ces\"\n",
       "                                              \"Medvědi jsou velmi nebezpeční.\" => \"ces\"\n",
       "                                     \"Buď vděčný za to, že můžeš být s Tomem.\" => \"ces\"\n",
       "                                                \"Neštěstí nechodí nikdy samo.\" => \"ces\"\n",
       "                                                    \"Problémem nejsou peníze.\" => \"ces\"\n",
       "                                         \"Tom koupil několik bochníků chleba.\" => \"ces\""
      ]
     },
     "metadata": {},
     "output_type": "display_data"
    }
   ],
   "source": [
    "include(\"benchmark.jl\")\n",
    "WV = WikiDataSet(\"corpus/wikipedia/test\", langs=LANGS)\n",
    "TV = TatoebaDataset(\"corpus/tatoeba\", \"tatoeba_test.txt\", langs=LANGS)"
   ]
  },
  {
   "cell_type": "code",
   "execution_count": 5,
   "metadata": {},
   "outputs": [
    {
     "name": "stdout",
     "output_type": "stream",
     "text": [
      "likelihood-n4"
     ]
    },
    {
     "name": "stdout",
     "output_type": "stream",
     "text": [
      "127.426978 seconds (1.63 G allocations: 28.846 GiB, 4.42% gc time, 0.59% compilation time)"
     ]
    },
    {
     "name": "stdout",
     "output_type": "stream",
     "text": [
      "\n",
      "likelihood-n3"
     ]
    },
    {
     "name": "stdout",
     "output_type": "stream",
     "text": [
      " 76.725221 seconds (885.37 M allocations: 16.355 GiB, 4.33% gc time, 0.20% compilation time)\n"
     ]
    },
    {
     "data": {
      "text/plain": [
       "2-element Vector{Any}:\n",
       " \"likelihood-n4\" => [1.0, 0.99, 1.0, 1.0, 1.0, 0.985, 0.995, 0.965, 1.0, 1.0  …  1.0, 0.99, 0.985, 0.995, 0.985, 0.985, 1.0, 0.965, 0.985, 0.995]\n",
       " \"likelihood-n3\" => [1.0, 0.99, 1.0, 0.98, 0.995, 0.985, 0.985, 0.96, 1.0, 1.0  …  1.0, 0.985, 0.98, 0.995, 0.985, 0.985, 1.0, 0.965, 0.975, 0.995]"
      ]
     },
     "metadata": {},
     "output_type": "display_data"
    }
   ],
   "source": [
    "WB = benchmark(\n",
    "    # \"likelihood-n5\"=>detector_lh, \n",
    "    \"likelihood-n4\"=>t->detector_lh(t, ngram=4),\n",
    "    \"likelihood-n3\"=>t->detector_lh(t, ngram=3),\n",
    "dataset=WV, languages=LANGS)"
   ]
  },
  {
   "cell_type": "code",
   "execution_count": 6,
   "metadata": {},
   "outputs": [
    {
     "name": "stdout",
     "output_type": "stream",
     "text": [
      "|               | Average | ara     | bel    | ben     | bul     | cat     | ces    | dan    | deu    | ell     | eng     | epo     | fas     | fin    | fra     | hau    | hbs    | heb     | hin    | hun     | ido    | ina    | isl    | ita    | jpn    | kab    | kor     | kur    | lat    | lit     | mar    | mkd    | msa    | nds    | nld    | nor    | pol     | por    | ron    | rus     | slk    | spa     | swa    | swe    | tat    | tgl    | tur    | ukr     | vie    | yid    | zho    |\n",
      "|---------------|---------|---------|--------|---------|---------|---------|--------|--------|--------|---------|---------|---------|---------|--------|---------|--------|--------|---------|--------|---------|--------|--------|--------|--------|--------|--------|---------|--------|--------|---------|--------|--------|--------|--------|--------|--------|---------|--------|--------|---------|--------|---------|--------|--------|--------|--------|--------|---------|--------|--------|--------|\n",
      "| likelihood-n4 |  97.63% | 100.00% | 99.00% | 100.00% | 100.00% | 100.00% | 98.50% | 99.50% | 96.50% | 100.00% | 100.00% | 100.00% | 100.00% | 99.00% | 100.00% | 98.50% | 66.50% | 100.00% | 90.00% |  99.50% | 93.00% | 93.00% | 98.50% | 99.00% | 99.00% | 99.00% | 100.00% | 99.00% | 97.00% | 100.00% | 95.00% | 98.00% | 99.00% | 99.00% | 97.50% | 93.50% |  99.50% | 99.50% | 91.00% | 100.00% | 96.50% | 100.00% | 99.00% | 98.50% | 99.50% | 98.50% | 98.50% | 100.00% | 96.50% | 98.50% | 99.50% |\n",
      "| likelihood-n3 |  95.93% | 100.00% | 99.00% | 100.00% |  98.00% |  99.50% | 98.50% | 98.50% | 96.00% | 100.00% | 100.00% | 100.00% | 100.00% | 99.00% | 100.00% | 98.00% | 10.50% | 100.00% | 89.50% | 100.00% | 88.50% | 84.50% | 98.50% | 98.50% | 99.00% | 99.00% | 100.00% | 99.00% | 97.00% | 100.00% | 92.00% | 97.00% | 99.00% | 98.50% | 96.50% | 91.00% | 100.00% | 99.50% | 90.00% |  99.50% | 96.50% | 100.00% | 98.50% | 98.00% | 99.50% | 98.50% | 98.50% | 100.00% | 96.50% | 97.50% | 99.50% |\n"
     ]
    },
    {
     "data": {
      "text/markdown": [
       "|               | Average | ara     | bel    | ben     | bul     | cat     | ces    | dan    | deu    | ell     | eng     | epo     | fas     | fin    | fra     | hau    | hbs    | heb     | hin    | hun     | ido    | ina    | isl    | ita    | jpn    | kab    | kor     | kur    | lat    | lit     | mar    | mkd    | msa    | nds    | nld    | nor    | pol     | por    | ron    | rus     | slk    | spa     | swa    | swe    | tat    | tgl    | tur    | ukr     | vie    | yid    | zho    |\n",
       "|---------------|---------|---------|--------|---------|---------|---------|--------|--------|--------|---------|---------|---------|---------|--------|---------|--------|--------|---------|--------|---------|--------|--------|--------|--------|--------|--------|---------|--------|--------|---------|--------|--------|--------|--------|--------|--------|---------|--------|--------|---------|--------|---------|--------|--------|--------|--------|--------|---------|--------|--------|--------|\n",
       "| likelihood-n4 |  97.63% | 100.00% | 99.00% | 100.00% | 100.00% | 100.00% | 98.50% | 99.50% | 96.50% | 100.00% | 100.00% | 100.00% | 100.00% | 99.00% | 100.00% | 98.50% | 66.50% | 100.00% | 90.00% |  99.50% | 93.00% | 93.00% | 98.50% | 99.00% | 99.00% | 99.00% | 100.00% | 99.00% | 97.00% | 100.00% | 95.00% | 98.00% | 99.00% | 99.00% | 97.50% | 93.50% |  99.50% | 99.50% | 91.00% | 100.00% | 96.50% | 100.00% | 99.00% | 98.50% | 99.50% | 98.50% | 98.50% | 100.00% | 96.50% | 98.50% | 99.50% |\n",
       "| likelihood-n3 |  95.93% | 100.00% | 99.00% | 100.00% |  98.00% |  99.50% | 98.50% | 98.50% | 96.00% | 100.00% | 100.00% | 100.00% | 100.00% | 99.00% | 100.00% | 98.00% | 10.50% | 100.00% | 89.50% | 100.00% | 88.50% | 84.50% | 98.50% | 98.50% | 99.00% | 99.00% | 100.00% | 99.00% | 97.00% | 100.00% | 92.00% | 97.00% | 99.00% | 98.50% | 96.50% | 91.00% | 100.00% | 99.50% | 90.00% |  99.50% | 96.50% | 100.00% | 98.50% | 98.00% | 99.50% | 98.50% | 98.50% | 100.00% | 96.50% | 97.50% | 99.50% |\n"
      ],
      "text/plain": [
       "DisplayAs.Raw.Showable{MIME{Symbol(\"text/markdown\")}}(UInt8[0x7c, 0x20, 0x20, 0x20, 0x20, 0x20, 0x20, 0x20, 0x20, 0x20  …  0x20, 0x39, 0x39, 0x2e, 0x35, 0x30, 0x25, 0x20, 0x7c, 0x0a])"
      ]
     },
     "metadata": {},
     "output_type": "display_data"
    }
   ],
   "source": [
    "showtable(WB, LANGS, threshold=-0.5)"
   ]
  },
  {
   "cell_type": "code",
   "execution_count": 7,
   "metadata": {},
   "outputs": [
    {
     "name": "stdout",
     "output_type": "stream",
     "text": [
      "likelihood-n5"
     ]
    },
    {
     "name": "stdout",
     "output_type": "stream",
     "text": [
      "  9.023298 seconds (90.31 M allocations: 1.666 GiB, 3.74% gc time, 1.14% compilation time)\n"
     ]
    },
    {
     "data": {
      "text/plain": [
       "1-element Vector{Any}:\n",
       " \"likelihood-n5\" => [0.99, 0.88]"
      ]
     },
     "metadata": {},
     "output_type": "display_data"
    }
   ],
   "source": [
    "WB2 = benchmark(\n",
    "    \"likelihood-n5\"=>detector_lh, \n",
    "    # \"likelihood-n4\"=>t->detector_lh(t, ngram=4),\n",
    "    # \"likelihood-n3\"=>t->detector_lh(t, ngram=3),\n",
    "dataset=WV, languages=(\"mkd\", \"hbs\"))"
   ]
  },
  {
   "cell_type": "code",
   "execution_count": 8,
   "metadata": {},
   "outputs": [
    {
     "name": "stdout",
     "output_type": "stream",
     "text": [
      "likelihood-n5"
     ]
    },
    {
     "name": "stdout",
     "output_type": "stream",
     "text": [
      " 32.151567 seconds (117.73 M allocations: 2.000 GiB, 1.17% gc time, 0.05% compilation time)\n"
     ]
    },
    {
     "data": {
      "text/plain": [
       "1-element Vector{Any}:\n",
       " \"likelihood-n5\" => [0.9469910371318822, 0.21888053467000834]"
      ]
     },
     "metadata": {},
     "output_type": "display_data"
    }
   ],
   "source": [
    "WB2 = benchmark(\n",
    "    \"likelihood-n5\"=>detector_lh, \n",
    "    # \"likelihood-n4\"=>t->detector_lh(t, ngram=4),\n",
    "    # \"likelihood-n3\"=>t->detector_lh(t, ngram=3),\n",
    "dataset=TV, languages=(\"mkd\", \"hbs\"))"
   ]
  },
  {
   "cell_type": "code",
   "execution_count": null,
   "metadata": {},
   "outputs": [],
   "source": []
  }
 ],
 "metadata": {
  "kernelspec": {
   "display_name": "Julia 1.9.1",
   "language": "julia",
   "name": "julia-1.9"
  },
  "language_info": {
   "file_extension": ".jl",
   "mimetype": "application/julia",
   "name": "julia",
   "version": "1.9.1"
  },
  "orig_nbformat": 4
 },
 "nbformat": 4,
 "nbformat_minor": 2
}
