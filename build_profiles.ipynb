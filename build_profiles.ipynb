{
 "cells": [
  {
   "cell_type": "code",
   "execution_count": 1,
   "metadata": {},
   "outputs": [
    {
     "data": {
      "text/plain": [
       "build_all_ngrams_profiles (generic function with 1 method)"
      ]
     },
     "metadata": {},
     "output_type": "display_data"
    }
   ],
   "source": [
    "include(\"build_profiles.jl\")"
   ]
  },
  {
   "cell_type": "code",
   "execution_count": 3,
   "metadata": {},
   "outputs": [
    {
     "name": "stdout",
     "output_type": "stream",
     "text": [
      "# yid\n",
      "total vocab: 135.193k; tokens: 0.186336M; dataset ratio: [0.339424480508329, 0.6605755194916709](vocab) [0.3286016942815008, 0.6713983057184992](token)"
     ]
    },
    {
     "name": "stdout",
     "output_type": "stream",
     "text": [
      "\n",
      "Profile size: 10.009k(7.0%) @freq=187.0; [min(10009, 41691)]\n"
     ]
    },
    {
     "data": {
      "text/plain": [
       "(Pair{Vector{UInt8}, Float64}[[0xd7] => 12.134020209070638, [0x20] => 3.790163638939113, [0x20, 0xd7] => 3.516918054556565, [0x99] => 1.5592985860158022, [0xd7, 0x99] => 1.5592985860158022, [0x90] => 1.4653006835090876, [0xd7, 0x90] => 1.4653006835090876, [0x99, 0xd7] => 1.36698929610135, [0xd7, 0x99, 0xd7] => 1.36698929610135, [0xa2] => 1.1509177375717266  …  [0x99, 0xd7, 0x96, 0xd7, 0x9d, 0x20] => 0.001614347768473202, [0xd7, 0x99, 0xd7, 0x96, 0xd7, 0x9d] => 0.001614347768473202, [0xd7, 0x99, 0xd7, 0x96, 0xd7, 0x9d, 0x20] => 0.001614347768473202, [0xa2, 0x20, 0xd7, 0x9e, 0xd7, 0x99] => 0.0016140836936625606, [0xd7, 0xa2, 0x20, 0xd7, 0x9e, 0xd7, 0x99] => 0.0016140836936625606, [0x95, 0xd7, 0x99, 0xd7, 0x99, 0xd7, 0xa0] => 0.0016136171006688525, [0x93, 0xd7, 0x95, 0xd7, 0xaa, 0x20] => 0.0016135290757319717, [0xd7, 0x93, 0xd7, 0x95, 0xd7, 0xaa, 0x20] => 0.0016135290757319717, [0xa2, 0xd7, 0x9d, 0x20, 0xd7, 0xa1] => 0.0016130624827382636, [0xd7, 0xa2, 0xd7, 0x9d, 0x20, 0xd7, 0xa1] => 0.0016130624827382636], [28.087175575540964, 27.821747146884388, 27.556318718228255, 27.290890289572587, 27.025461860916764, 26.760033432260997, 26.49460500360688])"
      ]
     },
     "metadata": {},
     "output_type": "display_data"
    }
   ],
   "source": [
    "D,h = build_ngrams_profile(\"yid\")"
   ]
  },
  {
   "cell_type": "code",
   "execution_count": 2,
   "metadata": {},
   "outputs": [],
   "source": [
    "@time build_all_ngrams_profiles(LANGS, \"ngrams\")"
   ]
  },
  {
   "cell_type": "code",
   "execution_count": null,
   "metadata": {},
   "outputs": [],
   "source": []
  },
  {
   "cell_type": "code",
   "execution_count": null,
   "metadata": {},
   "outputs": [],
   "source": []
  },
  {
   "cell_type": "code",
   "execution_count": 35,
   "metadata": {},
   "outputs": [
    {
     "name": "stdout",
     "output_type": "stream",
     "text": [
      "# yid\n",
      "vocab: 63247; tokens: 5.804596e6"
     ]
    },
    {
     "name": "stdout",
     "output_type": "stream",
     "text": [
      "\n",
      "vocab: 122953; tokens: 1.2508377e7\n",
      "keep: 9938 7.3581022049132985%; total: 135062"
     ]
    },
    {
     "name": "stdout",
     "output_type": "stream",
     "text": [
      " cut-off: (9938, 40687); min freq: 177.0\n",
      "sum 31.916069713304307\n"
     ]
    },
    {
     "data": {
      "text/plain": [
       "(Pair{Vector{UInt8}, Float64}[[0xd7] => 2.026836986895729, [0x20] => 0.6379448018929831, [0x20, 0xd7] => 0.5910238553239991, [0xd7, 0x99] => 0.26042836479689024, [0x99] => 0.26042836479689024, [0xd7, 0x90] => 0.24504546064931582, [0x90] => 0.24504546064931582, [0xd7, 0x99, 0xd7] => 0.22839916062777685, [0x99, 0xd7] => 0.22839916062777685, [0xa2] => 0.1920513764356356  …  [0xd7, 0xa4, 0x20, 0xd7, 0x97] => 0.0002714555150572534, [0x99, 0xd7, 0x9d, 0x20, 0xd7, 0x92, 0xd7] => 0.00027144824733347876, [0x99, 0xd7, 0x98, 0xd7, 0xa2, 0x20, 0xd7] => 0.00027144824733347876, [0x9c, 0xd7, 0x95, 0xd7, 0xa0, 0xd7, 0x92] => 0.00027137812770364656, [0xa9, 0xd7, 0x98, 0x20, 0xd7, 0x96, 0xd7] => 0.0002713152757975889, [0xa2, 0xd7, 0xa4, 0x20, 0xd7, 0x99, 0xd7] => 0.00027117503653792445, [0xd7, 0xa2, 0xd7, 0xa4, 0x20, 0xd7, 0x99] => 0.00027117503653792445, [0xa2, 0xd7, 0xa4, 0x20, 0xd7, 0x99] => 0.00027117503653792445, [0x95, 0xd7, 0x95, 0xd7, 0xa2, 0xd7, 0xa0] => 0.0002711677688141498, [0x91, 0xd7, 0x99, 0xd7, 0xaa] => 0.0002711677688141498], [4.696372196729966, 4.65072764131196, 4.605083085894079, 4.559438530476224, 4.513793975058399, 4.4681494196408735, 4.422504864223979])"
      ]
     },
     "metadata": {},
     "output_type": "display_data"
    }
   ],
   "source": [
    "D,h = build_ngrams_profile(\"yid\")"
   ]
  },
  {
   "cell_type": "code",
   "execution_count": 58,
   "metadata": {},
   "outputs": [
    {
     "data": {
      "text/plain": [
       "9938-element Vector{Pair{Vector{UInt8}, Float64}}:\n",
       "                                     [0xd7] => 2.026836986895729\n",
       "                                     [0x20] => 0.6379448018929831\n",
       "                               [0x20, 0xd7] => 0.5910238553239991\n",
       "                                     [0x99] => 0.26042836479689024\n",
       "                               [0xd7, 0x99] => 0.26042836479689024\n",
       "                                     [0x90] => 0.24504546064931582\n",
       "                               [0xd7, 0x90] => 0.24504546064931582\n",
       "                               [0x99, 0xd7] => 0.22839916062777685\n",
       "                         [0xd7, 0x99, 0xd7] => 0.22839916062777685\n",
       "                                     [0xa2] => 0.1920513764356356\n",
       "                                            ⋮\n",
       " [0x99, 0xd7, 0x98, 0xd7, 0xa2, 0x20, 0xd7] => 0.00027144824733347876\n",
       " [0x99, 0xd7, 0x9d, 0x20, 0xd7, 0x92, 0xd7] => 0.00027144824733347876\n",
       " [0x9c, 0xd7, 0x95, 0xd7, 0xa0, 0xd7, 0x92] => 0.00027137812770364656\n",
       " [0xa9, 0xd7, 0x98, 0x20, 0xd7, 0x96, 0xd7] => 0.0002713152757975889\n",
       "       [0xa2, 0xd7, 0xa4, 0x20, 0xd7, 0x99] => 0.00027117503653792445\n",
       " [0xa2, 0xd7, 0xa4, 0x20, 0xd7, 0x99, 0xd7] => 0.00027117503653792445\n",
       " [0xd7, 0xa2, 0xd7, 0xa4, 0x20, 0xd7, 0x99] => 0.00027117503653792445\n",
       "             [0x91, 0xd7, 0x99, 0xd7, 0xaa] => 0.0002711677688141498\n",
       " [0x95, 0xd7, 0x95, 0xd7, 0xa2, 0xd7, 0xa0] => 0.0002711677688141498"
      ]
     },
     "metadata": {},
     "output_type": "display_data"
    }
   ],
   "source": [
    "G = D\n",
    "sort(collect(G), by=i->(-last(i), length(first(i)), first(i)))"
   ]
  },
  {
   "cell_type": "code",
   "execution_count": 46,
   "metadata": {},
   "outputs": [
    {
     "name": "stdout",
     "output_type": "stream",
     "text": [
      "# yid\n"
     ]
    },
    {
     "name": "stdout",
     "output_type": "stream",
     "text": [
      "vocab: 63247; tokens: 5.804596e6\n",
      "vocab: 117250; tokens: 1.1047617e7"
     ]
    },
    {
     "name": "stdout",
     "output_type": "stream",
     "text": [
      "\n",
      "keep: 9917 7.628402858439551%; total: 130001 cut-off: (9917, 40838); min freq: 173.0\n"
     ]
    },
    {
     "data": {
      "text/plain": [
       "9917-element Vector{Pair{Vector{UInt8}, Float64}}:\n",
       "                                     [0xd7] => 0.06351196619999006\n",
       "                                     [0x20] => 0.019989578311749717\n",
       "                               [0x20, 0xd7] => 0.018516198068163094\n",
       "                               [0xd7, 0x99] => 0.008147308246654019\n",
       "                                     [0x99] => 0.008147308246654019\n",
       "                               [0xd7, 0x90] => 0.007683711397434096\n",
       "                                     [0x90] => 0.007683711397434096\n",
       "                         [0xd7, 0x99, 0xd7] => 0.007141081709549641\n",
       "                               [0x99, 0xd7] => 0.007141081709549641\n",
       "                                     [0xa2] => 0.006019355497124124\n",
       "                                            ⋮\n",
       "       [0xa8, 0xd7, 0xa7, 0xd7, 0xa2, 0xd7] => 8.529912427332895e-6\n",
       " [0xd7, 0x98, 0xd7, 0xa2, 0xd7, 0x9d, 0x20] => 8.526617466214665e-6\n",
       "             [0x98, 0xd7, 0xa2, 0xd7, 0x9d] => 8.526617466214665e-6\n",
       "       [0xd7, 0x98, 0xd7, 0xa2, 0xd7, 0x9d] => 8.526617466214665e-6\n",
       "       [0x98, 0xd7, 0xa2, 0xd7, 0x9d, 0x20] => 8.526617466214665e-6\n",
       "             [0xa2, 0xd7, 0x92, 0xd7, 0x99] => 8.526617466214665e-6\n",
       "       [0xd7, 0xa2, 0xd7, 0x92, 0xd7, 0x99] => 8.526617466214665e-6\n",
       " [0xa0, 0xd7, 0x92, 0xd7, 0x98, 0x20, 0xd7] => 8.523510991502458e-6\n",
       "       [0x20, 0xd7, 0x9e, 0xd7, 0xa0, 0xd7] => 8.523322505096436e-6"
      ]
     },
     "metadata": {},
     "output_type": "display_data"
    }
   ],
   "source": [
    "build_ngrams_profile(\"yid\")"
   ]
  },
  {
   "cell_type": "code",
   "execution_count": 47,
   "metadata": {},
   "outputs": [
    {
     "name": "stdout",
     "output_type": "stream",
     "text": [
      "# zho\n"
     ]
    },
    {
     "name": "stdout",
     "output_type": "stream",
     "text": [
      "vocab: 2037105; tokens: 1.4279833e7"
     ]
    },
    {
     "name": "stdout",
     "output_type": "stream",
     "text": [
      "\n",
      "vocab: 2026108; tokens: 8.166067e6"
     ]
    },
    {
     "name": "stdout",
     "output_type": "stream",
     "text": [
      "\n",
      "keep: 157629 4.34010349352601%; total: 3631918 cut-off: (1502754, 157629); min freq: 14.0\n"
     ]
    },
    {
     "name": "stdout",
     "output_type": "stream",
     "text": [
      "# yid\n"
     ]
    },
    {
     "name": "stdout",
     "output_type": "stream",
     "text": [
      "vocab: 63247; tokens: 5.804596e6\n",
      "vocab: 117250; tokens: 1.1047617e7"
     ]
    },
    {
     "name": "stdout",
     "output_type": "stream",
     "text": [
      "\n",
      "keep: 9917 7.628402858439551%; total: 130001 cut-off: (9917, 40838); min freq: 173.0\n"
     ]
    },
    {
     "name": "stdout",
     "output_type": "stream",
     "text": [
      "# ina\n"
     ]
    },
    {
     "name": "stdout",
     "output_type": "stream",
     "text": [
      "vocab: 463310; tokens: 8.449275e6"
     ]
    },
    {
     "name": "stdout",
     "output_type": "stream",
     "text": [
      "\n",
      "vocab: 330683; tokens: 3.841489e6\n"
     ]
    },
    {
     "name": "stdout",
     "output_type": "stream",
     "text": [
      "keep: 86765 13.774474239439147%; total: 629897 cut-off: (107563, 86765); min freq: 19.0\n"
     ]
    },
    {
     "data": {
      "text/plain": [
       "86765-element Vector{Pair{Vector{UInt8}, Float64}}:\n",
       "                                     [0x20] => 0.026755693815649195\n",
       "                                     [0x65] => 0.017350744632624336\n",
       "                                     [0x61] => 0.013694641249809713\n",
       "                                     [0x69] => 0.009582250310936314\n",
       "                                     [0x6f] => 0.00930479998894786\n",
       "                                     [0x6c] => 0.008735906228792494\n",
       "                                     [0x6e] => 0.008468434402667393\n",
       "                               [0x65, 0x20] => 0.00796634397960875\n",
       "                                     [0x73] => 0.0077964329714709825\n",
       "                                     [0x72] => 0.007613540606858662\n",
       "                                            ⋮\n",
       " [0x20, 0x69, 0x6e, 0x61, 0x6d, 0x6f, 0x72] => 1.152843284361127e-6\n",
       " [0x69, 0x6e, 0x61, 0x6d, 0x6f, 0x72, 0x61] => 1.152843284361127e-6\n",
       " [0x6c, 0x64, 0x20, 0x74, 0x72, 0x75, 0x6d] => 1.152843284361127e-6\n",
       " [0x6c, 0x65, 0x20, 0x72, 0x6f, 0x73, 0x61] => 1.152843284361127e-6\n",
       " [0x20, 0x73, 0x61, 0x70, 0x65, 0x20, 0x70] => 1.152843284361127e-6\n",
       "       [0x20, 0x65, 0x73, 0x20, 0x69, 0x6f] => 1.152843284361127e-6\n",
       "       [0x61, 0x74, 0x72, 0x69, 0x63, 0x65] => 1.152843284361127e-6\n",
       " [0x6e, 0x69, 0x68, 0x69, 0x6c, 0x20, 0x65] => 1.152843284361127e-6\n",
       "       [0x72, 0x72, 0x75, 0x6d, 0x70, 0x65] => 1.152843284361127e-6"
      ]
     },
     "metadata": {},
     "output_type": "display_data"
    }
   ],
   "source": [
    "build_ngrams_profile(\"zho\")\n",
    "build_ngrams_profile(\"yid\")\n",
    "build_ngrams_profile(\"ina\")\n"
   ]
  },
  {
   "cell_type": "code",
   "execution_count": 48,
   "metadata": {},
   "outputs": [
    {
     "name": "stdout",
     "output_type": "stream",
     "text": [
      "# zho\n"
     ]
    },
    {
     "name": "stdout",
     "output_type": "stream",
     "text": [
      "vocab: 605137; tokens: 1.054926e7\n"
     ]
    },
    {
     "name": "stdout",
     "output_type": "stream",
     "text": [
      "vocab: 682855; tokens: 5.837155e6"
     ]
    },
    {
     "name": "stdout",
     "output_type": "stream",
     "text": [
      "\n",
      "keep: 107136 10.316715937870136%; total: 1038470 cut-off: (186542, 107136); min freq: 12.0"
     ]
    },
    {
     "name": "stdout",
     "output_type": "stream",
     "text": [
      "\n",
      "# yid\n"
     ]
    },
    {
     "name": "stdout",
     "output_type": "stream",
     "text": [
      "vocab: 10936; tokens: 4.228785e6\n",
      "vocab: 20259; tokens: 7.89537e6\n",
      "keep: 1432 6.5957348809359315%; total: 21711 cut-off: (1432, 8662); min freq: 841.0\n"
     ]
    },
    {
     "name": "stdout",
     "output_type": "stream",
     "text": [
      "# ina\n"
     ]
    },
    {
     "name": "stdout",
     "output_type": "stream",
     "text": [
      "vocab: 90019; tokens: 6.172585e6\n",
      "vocab: 89523; tokens: 2.748405e6"
     ]
    },
    {
     "name": "stdout",
     "output_type": "stream",
     "text": [
      "\n",
      "keep: 15197 12.009071799977873%; total: 126546 cut-off: (15197, 36578); min freq: 47.0\n"
     ]
    }
   ],
   "source": [
    "build_ngrams_profile(\"zho\", ngram=5)\n",
    "build_ngrams_profile(\"yid\", ngram=5)\n",
    "build_ngrams_profile(\"ina\", ngram=5)\n",
    ";"
   ]
  },
  {
   "cell_type": "code",
   "execution_count": 49,
   "metadata": {},
   "outputs": [
    {
     "name": "stdout",
     "output_type": "stream",
     "text": [
      "# zho\n"
     ]
    },
    {
     "name": "stdout",
     "output_type": "stream",
     "text": [
      "vocab: 2037105; tokens: 1.4279833e7\n"
     ]
    },
    {
     "name": "stdout",
     "output_type": "stream",
     "text": [
      "vocab: 2026108; tokens: 8.166067e6\n"
     ]
    },
    {
     "name": "stdout",
     "output_type": "stream",
     "text": [
      "keep: 148350 4.0846186505312065%; total: 3631918 cut-off: (148350, 157629); min freq: 11.0"
     ]
    },
    {
     "name": "stdout",
     "output_type": "stream",
     "text": [
      "\n",
      "# yid"
     ]
    },
    {
     "name": "stdout",
     "output_type": "stream",
     "text": [
      "\n",
      "vocab: 63247; tokens: 5.804596e6\n",
      "vocab: 117250; tokens: 1.1047617e7"
     ]
    },
    {
     "name": "stdout",
     "output_type": "stream",
     "text": [
      "\n",
      "keep: 1504 1.1569141775832494%; total: 130001 cut-off: (1504, 40838); min freq: 1744.0\n"
     ]
    },
    {
     "name": "stdout",
     "output_type": "stream",
     "text": [
      "# ina\n"
     ]
    },
    {
     "name": "stdout",
     "output_type": "stream",
     "text": [
      "vocab: 463310; tokens: 8.449275e6"
     ]
    },
    {
     "name": "stdout",
     "output_type": "stream",
     "text": [
      "\n",
      "vocab: 330683; tokens: 3.841489e6\n"
     ]
    },
    {
     "name": "stdout",
     "output_type": "stream",
     "text": [
      "keep: 14930 2.3702287834360223%; total: 629897 cut-off: (14930, 86765); min freq: 66.0\n"
     ]
    },
    {
     "data": {
      "text/plain": [
       "14930-element Vector{Pair{Vector{UInt8}, Float64}}:\n",
       "                                     [0x20] => 0.026755693815649195\n",
       "                                     [0x65] => 0.017350744632624336\n",
       "                                     [0x61] => 0.013694641249809713\n",
       "                                     [0x69] => 0.009582250310936314\n",
       "                                     [0x6f] => 0.00930479998894786\n",
       "                                     [0x6c] => 0.008735906228792494\n",
       "                                     [0x6e] => 0.008468434402667393\n",
       "                               [0x65, 0x20] => 0.00796634397960875\n",
       "                                     [0x73] => 0.0077964329714709825\n",
       "                                     [0x72] => 0.007613540606858662\n",
       "                                            ⋮\n",
       " [0x68, 0x65, 0x6d, 0x61, 0x74, 0x69, 0x63] => 6.9168900993698955e-6\n",
       "       [0x65, 0x20, 0x6e, 0x75, 0x6d, 0x65] => 6.9168900993698955e-6\n",
       "             [0x68, 0x65, 0x6d, 0x61, 0x74] => 6.9168900993698955e-6\n",
       " [0x65, 0x20, 0x6e, 0x75, 0x6d, 0x65, 0x72] => 6.9168900993698955e-6\n",
       "             [0x69, 0x63, 0x61, 0x76, 0x61] => 6.916805295971462e-6\n",
       "       [0x69, 0x63, 0x61, 0x76, 0x61, 0x20] => 6.916805295971462e-6\n",
       "                   [0x69, 0x63, 0x61, 0x76] => 6.916805295971462e-6\n",
       "                   [0x6f, 0x20, 0x68, 0x65] => 6.916720492573028e-6\n",
       "                   [0x64, 0x6f, 0x20, 0x76] => 6.916720492573028e-6"
      ]
     },
     "metadata": {},
     "output_type": "display_data"
    }
   ],
   "source": [
    "build_ngrams_profile(\"zho\", ratio=0.7)\n",
    "build_ngrams_profile(\"yid\", ratio=0.7)\n",
    "build_ngrams_profile(\"ina\", ratio=0.7)\n"
   ]
  },
  {
   "cell_type": "code",
   "execution_count": 50,
   "metadata": {},
   "outputs": [
    {
     "name": "stdout",
     "output_type": "stream",
     "text": [
      "# zho\n"
     ]
    },
    {
     "name": "stdout",
     "output_type": "stream",
     "text": [
      "vocab: 605137; tokens: 1.054926e7\n"
     ]
    },
    {
     "name": "stdout",
     "output_type": "stream",
     "text": [
      "vocab: 682855; tokens: 5.837155e6\n"
     ]
    },
    {
     "name": "stdout",
     "output_type": "stream",
     "text": [
      "keep: 19584 1.8858513004708852%; total: 1038470 cut-off: (19584, 107136); min freq: 75.0"
     ]
    },
    {
     "name": "stdout",
     "output_type": "stream",
     "text": [
      "\n",
      "# yid"
     ]
    },
    {
     "name": "stdout",
     "output_type": "stream",
     "text": [
      "\n",
      "vocab: 10936; tokens: 4.228785e6\n",
      "vocab: 20259; tokens: 7.89537e6\n",
      "keep: 335 1.542996637649118%; total: 21711 cut-off: (335, 8662); min freq: 6417.0\n"
     ]
    },
    {
     "name": "stdout",
     "output_type": "stream",
     "text": [
      "# ina\n"
     ]
    },
    {
     "name": "stdout",
     "output_type": "stream",
     "text": [
      "vocab: 90019; tokens: 6.172585e6\n",
      "vocab: 89523; tokens: 2.748405e6\n"
     ]
    },
    {
     "name": "stdout",
     "output_type": "stream",
     "text": [
      "keep: 2254 1.7811704834605597%; total: 126546 cut-off: (2254, 36578); min freq: 439.0\n"
     ]
    },
    {
     "data": {
      "text/plain": [
       "2254-element Vector{Pair{Vector{UInt8}, Float64}}:\n",
       "                         [0x20] => 0.03695276420724848\n",
       "                         [0x65] => 0.023979623147652805\n",
       "                         [0x61] => 0.018951177960610206\n",
       "                         [0x69] => 0.013246010434985897\n",
       "                         [0x6f] => 0.01286165304103538\n",
       "                         [0x6c] => 0.012084921406821754\n",
       "                         [0x6e] => 0.011707275375682103\n",
       "                   [0x65, 0x20] => 0.011001653658906542\n",
       "                         [0x73] => 0.010774161790035292\n",
       "                         [0x72] => 0.010532122017459762\n",
       "                                ⋮\n",
       " [0x6f, 0x73, 0x20, 0x65, 0x73] => 5.139604033351755e-5\n",
       "             [0x61, 0x70, 0x69] => 5.138850225792208e-5\n",
       "             [0x70, 0x68, 0x69] => 5.137638416875383e-5\n",
       "       [0x73, 0x65, 0x6e, 0x74] => 5.132528941676013e-5\n",
       "             [0x65, 0x67, 0x6f] => 5.13069693624691e-5\n",
       "             [0x6e, 0x73, 0x74] => 5.1297666414784915e-5\n",
       " [0x76, 0x61, 0x6c, 0x6c, 0x65] => 5.1270329253887035e-5\n",
       " [0x61, 0x6e, 0x74, 0x6f, 0x20] => 5.126355560660956e-5\n",
       " [0x65, 0x20, 0x63, 0x61, 0x6d] => 5.125305946899135e-5"
      ]
     },
     "metadata": {},
     "output_type": "display_data"
    }
   ],
   "source": [
    "build_ngrams_profile(\"zho\", ratio=0.7, ngram=5)\n",
    "build_ngrams_profile(\"yid\", ratio=0.7, ngram=5)\n",
    "build_ngrams_profile(\"ina\", ratio=0.7, ngram=5)\n"
   ]
  },
  {
   "cell_type": "code",
   "execution_count": null,
   "metadata": {},
   "outputs": [],
   "source": []
  }
 ],
 "metadata": {
  "kernelspec": {
   "display_name": "Julia 1.9.2",
   "language": "julia",
   "name": "julia-1.9"
  },
  "language_info": {
   "file_extension": ".jl",
   "mimetype": "application/julia",
   "name": "julia",
   "version": "1.9.2"
  },
  "orig_nbformat": 4
 },
 "nbformat": 4,
 "nbformat_minor": 2
}
