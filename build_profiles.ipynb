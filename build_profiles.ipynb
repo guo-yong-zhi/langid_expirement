{
 "cells": [
  {
   "cell_type": "code",
   "execution_count": 1,
   "metadata": {},
   "outputs": [
    {
     "data": {
      "text/plain": [
       "build_ngram_profiles (generic function with 1 method)"
      ]
     },
     "metadata": {},
     "output_type": "display_data"
    }
   ],
   "source": [
    "include(\"build_profiles.jl\")"
   ]
  },
  {
   "cell_type": "code",
   "execution_count": 2,
   "metadata": {},
   "outputs": [
    {
     "name": "stdout",
     "output_type": "stream",
     "text": [
      "# ara\n",
      "total vocab: 379.986k; tokens: 0.548987M;"
     ]
    },
    {
     "name": "stdout",
     "output_type": "stream",
     "text": [
      " dataset ratio: [0.40910440502234113, 0.5908955949776589](vocab) Float32[0.4240475, 0.5759525](token)\n",
      "Profile size: 28.078k(7.0%) @freq=111.0; [min(28078, 121357)]\n"
     ]
    },
    {
     "name": "stdout",
     "output_type": "stream",
     "text": [
      " 18.364420 seconds (54.41 M allocations: 3.977 GiB, 14.22% gc time, 10.84% compilation time)\n"
     ]
    },
    {
     "name": "stdout",
     "output_type": "stream",
     "text": [
      "# bel\n",
      "total vocab: 338.556k; tokens: 0.439762M;"
     ]
    },
    {
     "name": "stdout",
     "output_type": "stream",
     "text": [
      " dataset ratio: [0.27132630832131927, 0.7286736916786808](vocab) Float32[0.18398176, 0.8160182](token)\n",
      "Profile size: 21.333k(6.0%) @freq=125.0; [min(21333, 60077)]\n",
      " 16.392093 seconds (44.05 M allocations: 3.338 GiB, 15.24% gc time)\n"
     ]
    },
    {
     "name": "stdout",
     "output_type": "stream",
     "text": [
      "# ben\n",
      "total vocab: 149.31k; tokens: 0.172509M;"
     ]
    },
    {
     "name": "stdout",
     "output_type": "stream",
     "text": [
      " dataset ratio: [0.13843335710020926, 0.8615666428997907](vocab) Float32[0.115685426, 0.8843146](token)\n",
      "Profile size: 2.918k(2.0%) @freq=1855.0; [min(2918, 17956)]\n",
      " 20.422571 seconds (70.06 M allocations: 4.908 GiB, 15.08% gc time)\n"
     ]
    },
    {
     "name": "stdout",
     "output_type": "stream",
     "text": [
      "# bul\n",
      "total vocab: 356.295k; tokens: 0.437188M;"
     ]
    },
    {
     "name": "stdout",
     "output_type": "stream",
     "text": [
      " dataset ratio: [0.20184222805749472, 0.7981577719425053](vocab) Float32[0.19372809, 0.8062719](token)\n",
      "Profile size: 15.671k(4.0%) @freq=342.0; [min(15671, 60912)]\n",
      " 16.982499 seconds (60.64 M allocations: 4.366 GiB, 14.51% gc time)\n"
     ]
    },
    {
     "name": "stdout",
     "output_type": "stream",
     "text": [
      "# cat\n",
      "total vocab: 1523.554k; tokens: 1.712261M;"
     ]
    },
    {
     "name": "stdout",
     "output_type": "stream",
     "text": [
      " dataset ratio: [0.14989245214368604, 0.8501075478563139](vocab) Float32[0.07782271, 0.9221773](token)\n",
      "Profile size: 48.946k(3.0%) @freq=18.0; [min(164189, 48946)]\n"
     ]
    },
    {
     "name": "stdout",
     "output_type": "stream",
     "text": [
      " 33.137812 seconds (38.55 M allocations: 3.256 GiB, 16.28% gc time)\n"
     ]
    },
    {
     "name": "stdout",
     "output_type": "stream",
     "text": [
      "# ces\n",
      "total vocab: 2700.921k; tokens: 3.210744M;"
     ]
    },
    {
     "name": "stdout",
     "output_type": "stream",
     "text": [
      " dataset ratio: [0.26662324993833203, 0.7333767500616679](vocab) Float32[0.34209502, 0.657905](token)\n",
      "Profile size: 100.0k(4.0%) @freq=36.0; [min(349878, 247570)]\n"
     ]
    },
    {
     "name": "stdout",
     "output_type": "stream",
     "text": [
      " 46.067865 seconds (56.81 M allocations: 4.601 GiB, 23.09% gc time)\n"
     ]
    },
    {
     "name": "stdout",
     "output_type": "stream",
     "text": [
      "# dan\n",
      "total vocab: 1756.849k; tokens: 2.149674M;"
     ]
    },
    {
     "name": "stdout",
     "output_type": "stream",
     "text": [
      " dataset ratio: [0.2918382043044666, 0.7081617956955334](vocab) Float32[0.39705798, 0.602942](token)\n",
      "Profile size: 100.0k(6.0%) @freq=25.0; [min(212459, 202320)]\n"
     ]
    },
    {
     "name": "stdout",
     "output_type": "stream",
     "text": [
      " 25.540609 seconds (45.83 M allocations: 3.732 GiB, 17.42% gc time)\n"
     ]
    },
    {
     "name": "stdout",
     "output_type": "stream",
     "text": [
      "# deu\n",
      "total vocab: 3571.586k; tokens: 4.596883M;"
     ]
    },
    {
     "name": "stdout",
     "output_type": "stream",
     "text": [
      " dataset ratio: [0.48142447828234913, 0.5185755217176509](vocab) Float32[0.8352005, 0.16479951](token)\n",
      "Profile size: 100.0k(3.0%) @freq=283.0; [min(224569, 430276)]\n"
     ]
    },
    {
     "name": "stdout",
     "output_type": "stream",
     "text": [
      "121.648450 seconds (258.52 M allocations: 16.662 GiB, 32.31% gc time)\n"
     ]
    },
    {
     "name": "stdout",
     "output_type": "stream",
     "text": [
      "# ell\n",
      "total vocab: 533.765k; tokens: 0.642458M;"
     ]
    },
    {
     "name": "stdout",
     "output_type": "stream",
     "text": [
      " dataset ratio: [0.18768697720317903, 0.8123130227968209](vocab) Float32[0.1925596, 0.8074404](token)\n",
      "Profile size: 18.677k(3.0%) @freq=303.0; [min(18677, 80380)]\n",
      " 35.254676 seconds (86.24 M allocations: 5.935 GiB, 19.66% gc time)\n"
     ]
    },
    {
     "name": "stdout",
     "output_type": "stream",
     "text": [
      "# eng\n",
      "total vocab: 3579.973k; tokens: 4.682894M;"
     ]
    },
    {
     "name": "stdout",
     "output_type": "stream",
     "text": [
      " dataset ratio: [0.6189715163315677, 0.3810284836684324](vocab) Float32[0.9367599, 0.06324013](token)\n",
      "Profile size: 100.0k(3.0%) @freq=303.0; [min(178941, 371560)]\n"
     ]
    },
    {
     "name": "stdout",
     "output_type": "stream",
     "text": [
      "296.508301 seconds (554.71 M allocations: 33.819 GiB, 37.86% gc time)\n"
     ]
    },
    {
     "name": "stdout",
     "output_type": "stream",
     "text": [
      "# epo\n",
      "total vocab: 2811.454k; tokens: 3.462703M;"
     ]
    },
    {
     "name": "stdout",
     "output_type": "stream",
     "text": [
      " dataset ratio: [0.6720290478276653, 0.32797095217233474](vocab) Float32[0.93671256, 0.06328746](token)\n",
      "Profile size: 100.0k(4.0%) @freq=36.0; [min(193419, 203020)]\n"
     ]
    },
    {
     "name": "stdout",
     "output_type": "stream",
     "text": [
      " 95.546050 seconds (234.03 M allocations: 15.004 GiB, 9.08% gc time)\n"
     ]
    },
    {
     "name": "stdout",
     "output_type": "stream",
     "text": [
      "# fas\n",
      "total vocab: 314.46k; tokens: 0.435927M;"
     ]
    },
    {
     "name": "stdout",
     "output_type": "stream",
     "text": [
      " dataset ratio: [0.36858694230914807, 0.6314130576908519](vocab) Float32[0.39294735, 0.6070526](token)\n",
      "Profile size: 21.251k(7.0%) @freq=102.0; [min(21251, 80754)]\n",
      " 11.084532 seconds (39.74 M allocations: 3.093 GiB, 2.70% gc time)\n"
     ]
    },
    {
     "name": "stdout",
     "output_type": "stream",
     "text": [
      "# fin\n",
      "total vocab: 2070.864k; tokens: 2.612356M;"
     ]
    },
    {
     "name": "stdout",
     "output_type": "stream",
     "text": [
      " dataset ratio: [0.41620590761749165, 0.5837940923825083](vocab) Float32[0.6356612, 0.36433885](token)\n",
      "Profile size: 100.0k(5.0%) @freq=47.0; [min(223456, 281553)]\n"
     ]
    },
    {
     "name": "stdout",
     "output_type": "stream",
     "text": [
      " 34.748390 seconds (71.12 M allocations: 5.285 GiB, 5.13% gc time)\n"
     ]
    },
    {
     "name": "stdout",
     "output_type": "stream",
     "text": [
      "# fra\n",
      "total vocab: 2288.353k; tokens: 3.014495M;"
     ]
    },
    {
     "name": "stdout",
     "output_type": "stream",
     "text": [
      " dataset ratio: [0.5108308356789446, 0.48916916432105545](vocab) Float32[0.8298838, 0.17011613](token)\n",
      "Profile size: 100.0k(4.0%) @freq=161.0; [min(141102, 335540)]\n"
     ]
    },
    {
     "name": "stdout",
     "output_type": "stream",
     "text": [
      " 70.198841 seconds (208.53 M allocations: 13.572 GiB, 9.39% gc time)\n"
     ]
    },
    {
     "name": "stdout",
     "output_type": "stream",
     "text": [
      "# hau\n",
      "total vocab: 1260.476k; tokens: 1.50379M;"
     ]
    },
    {
     "name": "stdout",
     "output_type": "stream",
     "text": [
      " dataset ratio: [0.2339468941807034, 0.7660531058192965](vocab) Float32[0.2227582, 0.77724177](token)\n",
      "Profile size: 99.821k(8.0%) @freq=29.0; [min(99821, 100433)]\n"
     ]
    },
    {
     "name": "stdout",
     "output_type": "stream",
     "text": [
      " 18.693585 seconds (41.08 M allocations: 3.387 GiB, 5.98% gc time)\n"
     ]
    },
    {
     "name": "stdout",
     "output_type": "stream",
     "text": [
      "# hbs\n",
      "total vocab: 839.245k; tokens: 1.038074M;"
     ]
    },
    {
     "name": "stdout",
     "output_type": "stream",
     "text": [
      " dataset ratio: [0.520349223658429, 0.47965077634157105](vocab) Float32[0.3524228, 0.6475772](token)\n",
      "Profile size: 42.33k(5.0%) @freq=45.0; [min(42330, 116602)]\n"
     ]
    },
    {
     "name": "stdout",
     "output_type": "stream",
     "text": [
      " 15.741925 seconds (51.10 M allocations: 3.876 GiB, 5.25% gc time)\n"
     ]
    },
    {
     "name": "stdout",
     "output_type": "stream",
     "text": [
      "# heb\n",
      "total vocab: 464.934k; tokens: 0.609644M;"
     ]
    },
    {
     "name": "stdout",
     "output_type": "stream",
     "text": [
      " dataset ratio: [0.27072521012262896, 0.729274789877371](vocab) Float32[0.4933295, 0.5066705](token)\n",
      "Profile size: 18.996k(4.0%) @freq=560.0; [min(18996, 132289)]\n",
      " 38.622592 seconds (139.42 M allocations: 9.058 GiB, 8.12% gc time)\n"
     ]
    },
    {
     "name": "stdout",
     "output_type": "stream",
     "text": [
      "# hin\n",
      "total vocab: 104.479k; tokens: 0.12394M;"
     ]
    },
    {
     "name": "stdout",
     "output_type": "stream",
     "text": [
      " dataset ratio: [0.1646764563498467, 0.8353235436501533](vocab) Float32[0.14621401, 0.853786](token)\n",
      "Profile size: 2.879k(3.0%) @freq=1236.0; [min(2879, 16236)]\n",
      " 13.689013 seconds (45.31 M allocations: 3.398 GiB, 4.73% gc time)\n"
     ]
    },
    {
     "name": "stdout",
     "output_type": "stream",
     "text": [
      "# hun\n",
      "total vocab: 3411.226k; tokens: 4.319092M;"
     ]
    },
    {
     "name": "stdout",
     "output_type": "stream",
     "text": [
      " dataset ratio: [0.5026537985298762, 0.4973462014701238](vocab) Float32[0.7799661, 0.22003385](token)\n",
      "Profile size: 100.0k(3.0%) @freq=156.0; [min(343324, 380932)]\n"
     ]
    },
    {
     "name": "stdout",
     "output_type": "stream",
     "text": [
      " 73.981858 seconds (140.82 M allocations: 9.640 GiB, 9.19% gc time)\n"
     ]
    },
    {
     "name": "stdout",
     "output_type": "stream",
     "text": [
      "# ido\n",
      "total vocab: 677.834k; tokens: 0.786475M;"
     ]
    },
    {
     "name": "stdout",
     "output_type": "stream",
     "text": [
      " dataset ratio: [0.2657083823389173, 0.7342916176610826](vocab) Float32[0.1775858, 0.8224142](token)\n",
      "Profile size: 36.417k(5.0%) @freq=31.0; [min(102713, 36417)]\n",
      " 13.284126 seconds (22.42 M allocations: 2.127 GiB, 1.99% gc time)\n"
     ]
    },
    {
     "name": "stdout",
     "output_type": "stream",
     "text": [
      "# ina\n",
      "total vocab: 790.284k; tokens: 1.017356M;"
     ]
    },
    {
     "name": "stdout",
     "output_type": "stream",
     "text": [
      " dataset ratio: [0.45540597391670173, 0.5445940260832983](vocab) Float32[0.49619812, 0.5038019](token)\n",
      "Profile size: 100.0k(13.0%) @freq=17.0; [min(113489, 145262)]\n"
     ]
    },
    {
     "name": "stdout",
     "output_type": "stream",
     "text": [
      " 19.890524 seconds (29.51 M allocations: 2.577 GiB, 6.49% gc time)\n"
     ]
    },
    {
     "name": "stdout",
     "output_type": "stream",
     "text": [
      "# isl\n",
      "total vocab: 1265.587k; tokens: 1.476342M;"
     ]
    },
    {
     "name": "stdout",
     "output_type": "stream",
     "text": [
      " dataset ratio: [0.20265290833695715, 0.7973470916630429](vocab) Float32[0.1917585, 0.8082415](token)\n",
      "Profile size: 70.378k(6.0%) @freq=23.0; [min(182217, 70378)]\n"
     ]
    },
    {
     "name": "stdout",
     "output_type": "stream",
     "text": [
      " 19.753390 seconds (29.20 M allocations: 2.646 GiB, 4.63% gc time)\n"
     ]
    },
    {
     "name": "stdout",
     "output_type": "stream",
     "text": [
      "# ita\n",
      "total vocab: 2144.84k; tokens: 2.845632M;"
     ]
    },
    {
     "name": "stdout",
     "output_type": "stream",
     "text": [
      " dataset ratio: [0.4736849318534512, 0.5263150681465488](vocab) Float32[0.8721085, 0.12789144](token)\n",
      "Profile size: 100.0k(5.0%) @freq=59.0; [min(142829, 312036)]\n"
     ]
    },
    {
     "name": "stdout",
     "output_type": "stream",
     "text": [
      " 82.264027 seconds (248.12 M allocations: 15.669 GiB, 9.94% gc time)\n"
     ]
    },
    {
     "name": "stdout",
     "output_type": "stream",
     "text": [
      "# jpn\n",
      "total vocab: 4294.858k; tokens: 5.230896M;"
     ]
    },
    {
     "name": "stdout",
     "output_type": "stream",
     "text": [
      " dataset ratio: [0.3871113094200305, 0.6128886905799694](vocab) Float32[0.6786781, 0.32132193](token)\n",
      "Profile size: 100.0k(2.0%) @freq=91.0; [min(361990, 440727)]\n"
     ]
    },
    {
     "name": "stdout",
     "output_type": "stream",
     "text": [
      " 72.564812 seconds (134.99 M allocations: 9.542 GiB, 10.57% gc time)\n"
     ]
    },
    {
     "name": "stdout",
     "output_type": "stream",
     "text": [
      "# kab\n",
      "total vocab: 2276.61k; tokens: 2.670037M;"
     ]
    },
    {
     "name": "stdout",
     "output_type": "stream",
     "text": [
      " dataset ratio: [0.7508068240252851, 0.24919317597471496](vocab) Float32[0.9599194, 0.04008066](token)\n",
      "Profile size: 100.0k(4.0%) @freq=17.0; [min(177892, 111551)]\n"
     ]
    },
    {
     "name": "stdout",
     "output_type": "stream",
     "text": [
      " 61.684115 seconds (166.74 M allocations: 10.674 GiB, 12.58% gc time)\n"
     ]
    },
    {
     "name": "stdout",
     "output_type": "stream",
     "text": [
      "# kor\n",
      "total vocab: 1439.449k; tokens: 1.636897M;"
     ]
    },
    {
     "name": "stdout",
     "output_type": "stream",
     "text": [
      " dataset ratio: [0.17079694079713018, 0.8292030592028699](vocab) Float32[0.12750967, 0.87249035](token)\n",
      "Profile size: 65.987k(5.0%) @freq=14.0; [min(182939, 65987)]\n"
     ]
    },
    {
     "name": "stdout",
     "output_type": "stream",
     "text": [
      " 22.381248 seconds (35.29 M allocations: 3.027 GiB, 7.16% gc time)\n"
     ]
    },
    {
     "name": "stdout",
     "output_type": "stream",
     "text": [
      "# kur\n",
      "total vocab: 270.551k; tokens: 0.343385M;"
     ]
    },
    {
     "name": "stdout",
     "output_type": "stream",
     "text": [
      " dataset ratio: [0.23918342385369193, 0.760816576146308](vocab) Float32[0.18042116, 0.8195788](token)\n",
      "Profile size: 16.86k(6.0%) @freq=179.0; [min(16860, 45133)]\n",
      " 14.123124 seconds (36.09 M allocations: 2.864 GiB, 9.58% gc time)\n"
     ]
    },
    {
     "name": "stdout",
     "output_type": "stream",
     "text": [
      "# lat\n",
      "total vocab: 1352.671k; tokens: 1.636254M;"
     ]
    },
    {
     "name": "stdout",
     "output_type": "stream",
     "text": [
      " dataset ratio: [0.4626824441682037, 0.5373175558317963](vocab) Float32[0.57866704, 0.42133296](token)\n",
      "Profile size: 100.0k(7.0%) @freq=15.0; [min(260566, 139625)]\n"
     ]
    },
    {
     "name": "stdout",
     "output_type": "stream",
     "text": [
      " 22.549741 seconds (31.40 M allocations: 2.838 GiB, 5.31% gc time)\n"
     ]
    },
    {
     "name": "stdout",
     "output_type": "stream",
     "text": [
      "# lit\n",
      "total vocab: 1615.817k; tokens: 2.0074M;"
     ]
    },
    {
     "name": "stdout",
     "output_type": "stream",
     "text": [
      " dataset ratio: [0.391662349307562, 0.608337650692438](vocab) Float32[0.5806618, 0.41933823](token)\n",
      "Profile size: 100.0k(6.0%) @freq=26.0; [min(238739, 223503)]\n"
     ]
    },
    {
     "name": "stdout",
     "output_type": "stream",
     "text": [
      " 24.161252 seconds (46.45 M allocations: 3.741 GiB, 6.06% gc time)\n"
     ]
    },
    {
     "name": "stdout",
     "output_type": "stream",
     "text": [
      "# mar\n",
      "total vocab: 76.468k; tokens: 0.101408M;"
     ]
    },
    {
     "name": "stdout",
     "output_type": "stream",
     "text": [
      " dataset ratio: [0.28029346797096877, 0.7197065320290312](vocab) Float32[0.551528, 0.448472](token)\n",
      "Profile size: 3.009k(4.0%) @freq=1278.0; [min(3009, 23639)]\n",
      " 16.955717 seconds (58.40 M allocations: 4.160 GiB, 11.12% gc time)\n"
     ]
    },
    {
     "name": "stdout",
     "output_type": "stream",
     "text": [
      "# mkd\n",
      "total vocab: 318.365k; tokens: 0.401502M;"
     ]
    },
    {
     "name": "stdout",
     "output_type": "stream",
     "text": [
      " dataset ratio: [0.2295754442070027, 0.7704245557929973](vocab) Float32[0.3187036, 0.6812964](token)\n",
      "Profile size: 12.388k(4.0%) @freq=786.0; [min(12388, 72791)]\n",
      " 26.963586 seconds (93.84 M allocations: 6.347 GiB, 9.70% gc time)\n"
     ]
    },
    {
     "name": "stdout",
     "output_type": "stream",
     "text": [
      "# msa\n",
      "total vocab: 1161.592k; tokens: 1.359849M;"
     ]
    },
    {
     "name": "stdout",
     "output_type": "stream",
     "text": [
      " dataset ratio: [0.20961665596694928, 0.7903833440330508](vocab) Float32[0.23088452, 0.7691155](token)\n",
      "Profile size: 83.976k(7.0%) @freq=28.0; [min(113346, 83976)]\n"
     ]
    },
    {
     "name": "stdout",
     "output_type": "stream",
     "text": [
      " 17.056096 seconds (33.47 M allocations: 2.844 GiB, 5.46% gc time)\n"
     ]
    },
    {
     "name": "stdout",
     "output_type": "stream",
     "text": [
      "# nds\n",
      "total vocab: 1416.744k; tokens: 1.626792M;"
     ]
    },
    {
     "name": "stdout",
     "output_type": "stream",
     "text": [
      " dataset ratio: [0.21147940240669982, 0.7885205975933002](vocab) Float32[0.1813043, 0.81869566](token)\n",
      "Profile size: 76.954k(5.0%) @freq=37.0; [min(176730, 76954)]\n"
     ]
    },
    {
     "name": "stdout",
     "output_type": "stream",
     "text": [
      " 23.266632 seconds (34.25 M allocations: 2.959 GiB, 5.12% gc time)\n"
     ]
    },
    {
     "name": "stdout",
     "output_type": "stream",
     "text": [
      "# nld\n",
      "total vocab: 1808.884k; tokens: 2.260338M;"
     ]
    },
    {
     "name": "stdout",
     "output_type": "stream",
     "text": [
      " dataset ratio: [0.46943554459554276, 0.5305644554044572](vocab) Float32[0.7617473, 0.2382527](token)\n",
      "Profile size: 100.0k(6.0%) @freq=41.0; [min(200490, 190959)]\n"
     ]
    },
    {
     "name": "stdout",
     "output_type": "stream",
     "text": [
      " 37.037983 seconds (68.13 M allocations: 5.015 GiB, 8.14% gc time)\n"
     ]
    },
    {
     "name": "stdout",
     "output_type": "stream",
     "text": [
      "# nor\n",
      "total vocab: 1434.054k; tokens: 1.679315M;"
     ]
    },
    {
     "name": "stdout",
     "output_type": "stream",
     "text": [
      " dataset ratio: [0.21355612258569714, 0.7864438774143029](vocab) Float32[0.21151929, 0.7884807](token)\n",
      "Profile size: 81.885k(6.0%) @freq=21.0; [min(205993, 81885)]\n"
     ]
    },
    {
     "name": "stdout",
     "output_type": "stream",
     "text": [
      " 24.335317 seconds (31.16 M allocations: 2.798 GiB, 7.00% gc time)\n"
     ]
    },
    {
     "name": "stdout",
     "output_type": "stream",
     "text": [
      "# pol\n",
      "total vocab: 2213.457k; tokens: 2.748847M;"
     ]
    },
    {
     "name": "stdout",
     "output_type": "stream",
     "text": [
      " dataset ratio: [0.4178897552319209, 0.5821102447680792](vocab) Float32[0.62788075, 0.37211922](token)\n",
      "Profile size: 100.0k(5.0%) @freq=30.0; [min(303850, 261224)]\n"
     ]
    },
    {
     "name": "stdout",
     "output_type": "stream",
     "text": [
      " 32.147573 seconds (58.67 M allocations: 4.550 GiB, 7.46% gc time)\n"
     ]
    },
    {
     "name": "stdout",
     "output_type": "stream",
     "text": [
      "# por\n",
      "total vocab: 2356.503k; tokens: 3.093743M;"
     ]
    },
    {
     "name": "stdout",
     "output_type": "stream",
     "text": [
      " dataset ratio: [0.5311607977779667, 0.4688392022220333](vocab) Float32[0.8300066, 0.16999334](token)\n",
      "Profile size: 100.0k(4.0%) @freq=147.0; [min(177682, 297697)]\n"
     ]
    },
    {
     "name": "stdout",
     "output_type": "stream",
     "text": [
      " 65.713608 seconds (157.34 M allocations: 10.561 GiB, 11.70% gc time)\n"
     ]
    },
    {
     "name": "stdout",
     "output_type": "stream",
     "text": [
      "# ron\n",
      "total vocab: 1939.149k; tokens: 2.252544M;"
     ]
    },
    {
     "name": "stdout",
     "output_type": "stream",
     "text": [
      " dataset ratio: [0.21357096687123536, 0.7864290331287647](vocab) Float32[0.23402448, 0.76597553](token)\n",
      "Profile size: 100.0k(5.0%) @freq=30.0; [min(251958, 135620)]\n"
     ]
    },
    {
     "name": "stdout",
     "output_type": "stream",
     "text": [
      " 34.040430 seconds (44.71 M allocations: 3.694 GiB, 14.71% gc time)\n"
     ]
    },
    {
     "name": "stdout",
     "output_type": "stream",
     "text": [
      "# rus\n",
      "total vocab: 571.008k; tokens: 0.777342M;"
     ]
    },
    {
     "name": "stdout",
     "output_type": "stream",
     "text": [
      " dataset ratio: [0.3649178868503181, 0.6350821131496819](vocab) Float32[0.8645915, 0.13540854](token)\n",
      "Profile size: 20.235k(4.0%) @freq=2632.0; [min(20235, 144994)]\n",
      "153.875233 seconds (492.66 M allocations: 30.047 GiB, 27.10% gc time)\n"
     ]
    },
    {
     "name": "stdout",
     "output_type": "stream",
     "text": [
      "# slk\n",
      "total vocab: 1682.85k; tokens: 1.887624M;"
     ]
    },
    {
     "name": "stdout",
     "output_type": "stream",
     "text": [
      " dataset ratio: [0.1815001292630312, 0.8184998707369688](vocab) Float32[0.18038101, 0.819619](token)\n",
      "Profile size: 69.535k(4.0%) @freq=37.0; [min(295073, 69535)]\n"
     ]
    },
    {
     "name": "stdout",
     "output_type": "stream",
     "text": [
      " 26.158565 seconds (29.52 M allocations: 2.738 GiB, 20.63% gc time)\n"
     ]
    },
    {
     "name": "stdout",
     "output_type": "stream",
     "text": [
      "# spa\n",
      "total vocab: 2411.396k; tokens: 3.17985M;"
     ]
    },
    {
     "name": "stdout",
     "output_type": "stream",
     "text": [
      " dataset ratio: [0.5058785791782632, 0.4941214208217369](vocab) Float32[0.76666445, 0.23333551](token)\n",
      "Profile size: 100.0k(4.0%) @freq=72.0; [min(166656, 355101)]\n"
     ]
    },
    {
     "name": "stdout",
     "output_type": "stream",
     "text": [
      " 83.083964 seconds (157.74 M allocations: 10.604 GiB, 27.84% gc time)\n"
     ]
    },
    {
     "name": "stdout",
     "output_type": "stream",
     "text": [
      "# swa\n",
      "total vocab: 1028.927k; tokens: 1.267728M;"
     ]
    },
    {
     "name": "stdout",
     "output_type": "stream",
     "text": [
      " dataset ratio: [0.44240247119255866, 0.5575975288074413](vocab) Float32[0.4822949, 0.5177051](token)\n",
      "Profile size: 100.0k(10.0%) @freq=13.0; [min(142072, 127152)]\n"
     ]
    },
    {
     "name": "stdout",
     "output_type": "stream",
     "text": [
      " 15.290623 seconds (29.16 M allocations: 2.571 GiB, 17.34% gc time)\n"
     ]
    },
    {
     "name": "stdout",
     "output_type": "stream",
     "text": [
      "# swe\n",
      "total vocab: 1126.052k; tokens: 1.369536M;"
     ]
    },
    {
     "name": "stdout",
     "output_type": "stream",
     "text": [
      " dataset ratio: [0.4091327281648675, 0.5908672718351324](vocab) Float32[0.5903017, 0.4096983](token)\n",
      "Profile size: 100.0k(9.0%) @freq=15.0; [min(189173, 121300)]\n"
     ]
    },
    {
     "name": "stdout",
     "output_type": "stream",
     "text": [
      " 18.753453 seconds (30.49 M allocations: 2.664 GiB, 17.89% gc time)\n"
     ]
    },
    {
     "name": "stdout",
     "output_type": "stream",
     "text": [
      "# tat\n",
      "total vocab: 319.815k; tokens: 0.41741M;"
     ]
    },
    {
     "name": "stdout",
     "output_type": "stream",
     "text": [
      " dataset ratio: [0.5203109652380153, 0.4796890347619846](vocab) Float32[0.43840736, 0.56159264](token)\n",
      "Profile size: 24.792k(8.0%) @freq=65.0; [min(24792, 67492)]\n",
      " 11.718989 seconds (28.43 M allocations: 2.428 GiB, 13.66% gc time)\n"
     ]
    },
    {
     "name": "stdout",
     "output_type": "stream",
     "text": [
      "# tgl\n",
      "total vocab: 1191.868k; tokens: 1.458826M;"
     ]
    },
    {
     "name": "stdout",
     "output_type": "stream",
     "text": [
      " dataset ratio: [0.30970108840944705, 0.6902989115905529](vocab) Float32[0.51938295, 0.48061705](token)\n",
      "Profile size: 94.68k(8.0%) @freq=29.0; [min(94680, 197377)]\n"
     ]
    },
    {
     "name": "stdout",
     "output_type": "stream",
     "text": [
      " 21.088874 seconds (52.15 M allocations: 4.024 GiB, 18.41% gc time)\n"
     ]
    },
    {
     "name": "stdout",
     "output_type": "stream",
     "text": [
      "# tur\n",
      "total vocab: 2625.553k; tokens: 3.366008M;"
     ]
    },
    {
     "name": "stdout",
     "output_type": "stream",
     "text": [
      " dataset ratio: [0.580659939013811, 0.419340060986189](vocab) Float32[0.8983138, 0.1016862](token)\n",
      "Profile size: 100.0k(4.0%) @freq=141.0; [min(179299, 269830)]\n"
     ]
    },
    {
     "name": "stdout",
     "output_type": "stream",
     "text": [
      "102.699408 seconds (225.43 M allocations: 14.511 GiB, 30.16% gc time)\n"
     ]
    },
    {
     "name": "stdout",
     "output_type": "stream",
     "text": [
      "# ukr\n",
      "total vocab: 454.557k; tokens: 0.600844M;"
     ]
    },
    {
     "name": "stdout",
     "output_type": "stream",
     "text": [
      " dataset ratio: [0.2984302081738355, 0.7015697918261645](vocab) Float32[0.6178004, 0.3821996](token)\n",
      "Profile size: 21.373k(5.0%) @freq=467.0; [min(21373, 123956)]\n",
      " 36.717454 seconds (114.15 M allocations: 7.548 GiB, 19.01% gc time)\n"
     ]
    },
    {
     "name": "stdout",
     "output_type": "stream",
     "text": [
      "# vie\n",
      "total vocab: 993.717k; tokens: 1.17787M;"
     ]
    },
    {
     "name": "stdout",
     "output_type": "stream",
     "text": [
      " dataset ratio: [0.25125692988190546, 0.7487430701180945](vocab) Float32[0.407176, 0.59282404](token)\n",
      "Profile size: 93.391k(9.0%) @freq=11.0; [min(93391, 107750)]\n"
     ]
    },
    {
     "name": "stdout",
     "output_type": "stream",
     "text": [
      " 14.892819 seconds (31.41 M allocations: 2.680 GiB, 16.97% gc time)\n"
     ]
    },
    {
     "name": "stdout",
     "output_type": "stream",
     "text": [
      "# yid\n",
      "total vocab: 167.287k; tokens: 0.221654M;"
     ]
    },
    {
     "name": "stdout",
     "output_type": "stream",
     "text": [
      " dataset ratio: [0.2853411172367744, 0.7146588827632255](vocab) Float32[0.19540617, 0.80459386](token)\n",
      "Profile size: 10.048k(6.0%) @freq=161.0; [min(10048, 42022)]\n",
      " 13.573327 seconds (42.68 M allocations: 3.250 GiB, 17.35% gc time)\n"
     ]
    },
    {
     "name": "stdout",
     "output_type": "stream",
     "text": [
      "# zho\n",
      "total vocab: 5313.111k; tokens: 5.939956M;"
     ]
    },
    {
     "name": "stdout",
     "output_type": "stream",
     "text": [
      " dataset ratio: [0.3429495100637109, 0.6570504899362891](vocab) Float32[0.45268676, 0.5473132](token)\n",
      "Profile size: 100.0k(2.0%) @freq=29.0; [min(1897912, 277102)]\n"
     ]
    },
    {
     "name": "stdout",
     "output_type": "stream",
     "text": [
      " 44.031133 seconds (46.57 M allocations: 4.540 GiB, 21.56% gc time)\n"
     ]
    },
    {
     "name": "stdout",
     "output_type": "stream",
     "text": [
      "2564.095682 seconds (5.99 G allocations: 719.891 GiB, 19.03% gc time, 0.09% compilation time)\n"
     ]
    }
   ],
   "source": [
    "@time build_ngram_profiles(LANGS, \"profiles\")"
   ]
  },
  {
   "cell_type": "code",
   "execution_count": null,
   "metadata": {},
   "outputs": [],
   "source": []
  }
 ],
 "metadata": {
  "kernelspec": {
   "display_name": "Julia 1.9.2",
   "language": "julia",
   "name": "julia-1.9"
  },
  "language_info": {
   "file_extension": ".jl",
   "mimetype": "application/julia",
   "name": "julia",
   "version": "1.9.2"
  },
  "orig_nbformat": 4
 },
 "nbformat": 4,
 "nbformat_minor": 2
}
