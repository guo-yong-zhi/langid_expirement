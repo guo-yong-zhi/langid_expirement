{
 "cells": [
  {
   "cell_type": "code",
   "execution_count": 49,
   "metadata": {},
   "outputs": [
    {
     "name": "stderr",
     "output_type": "stream",
     "text": [
      "WARNING: redefinition of constant TLANGS. This may fail, cause incorrect answers, or produce other errors.\n",
      "WARNING: redefinition of constant WLANGS. This may fail, cause incorrect answers, or produce other errors.\n",
      "WARNING: redefinition of constant LANGS. This may fail, cause incorrect answers, or produce other errors.\n",
      "WARNING: redefinition of constant WLANGMAP. This may fail, cause incorrect answers, or produce other errors.\n",
      "WARNING: redefinition of constant TLANGMAP. This may fail, cause incorrect answers, or produce other errors.\n",
      "WARNING: redefinition of constant REV_WLANGMAP. This may fail, cause incorrect answers, or produce other errors.\n",
      "WARNING: redefinition of constant REV_TLANGMAP. This may fail, cause incorrect answers, or produce other errors.\n"
     ]
    },
    {
     "data": {
      "text/plain": [
       "build_all_ngrams_profiles (generic function with 1 method)"
      ]
     },
     "metadata": {},
     "output_type": "display_data"
    }
   ],
   "source": [
    "include(\"build_profiles.jl\")"
   ]
  },
  {
   "cell_type": "code",
   "execution_count": 9,
   "metadata": {},
   "outputs": [
    {
     "name": "stdout",
     "output_type": "stream",
     "text": [
      "# zho\n"
     ]
    },
    {
     "name": "stdout",
     "output_type": "stream",
     "text": [
      "total vocab: 3838.139k; tokens: 4.300675M; dataset ratio: [0.4736709935068332, 0.5263290064931667](vocab) [0.6262618895235783, 0.3737381104764217](token)\n",
      "Profile size: 100.0k(3.0%) @freq=17.0; [min(1586276, 172656)]"
     ]
    },
    {
     "name": "stdout",
     "output_type": "stream",
     "text": [
      "\n"
     ]
    },
    {
     "data": {
      "text/plain": [
       "(Pair{Vector{UInt8}, Float64}[[0xe5] => 2.6446336401941632, [0xe6] => 1.8244921518987316, [0x20] => 1.7450992082830203, [0xe4] => 1.3984936823149554, [0xe7] => 1.202039853064266, [0xe8] => 0.9999424974642741, [0xe9] => 0.6879887538425971, [0xb8] => 0.6824734722381373, [0xba] => 0.6253072948276369, [0x88] => 0.5582100762980283  …  [0x70, 0x65, 0x6e] => 0.0001666471402579273, [0x75, 0x72, 0x69] => 0.0001666471402579273, [0x81, 0xb8, 0x20] => 0.0001666471402579273, [0x83, 0x91, 0xe5] => 0.0001666471402579273, [0x83, 0xe7, 0xba] => 0.0001666471402579273, [0x84, 0xe8, 0x92] => 0.0001666471402579273, [0x88, 0x8f, 0xe6] => 0.0001666471402579273, [0x89, 0x88, 0xe9] => 0.0001666471402579273, [0x89, 0xe9, 0xa6] => 0.0001666471402579273, [0x8d, 0xb0, 0xe7] => 0.0001666471402579273], [28.736326861175957, 28.271466720101195, 27.806606579013796, 27.34174643778948, 26.876886296411964, 26.412026154865217, 25.947445585720693])"
      ]
     },
     "metadata": {},
     "output_type": "display_data"
    }
   ],
   "source": [
    "D,h = build_ngrams_profile(\"zho\")"
   ]
  },
  {
   "cell_type": "code",
   "execution_count": 54,
   "metadata": {},
   "outputs": [
    {
     "name": "stdout",
     "output_type": "stream",
     "text": [
      "# ara\n"
     ]
    },
    {
     "name": "stdout",
     "output_type": "stream",
     "text": [
      "total vocab: 319.514k; tokens: 0.468327M; dataset ratio: [0.479564492331213, 0.520435507668787](vocab) [0.5908803438457672, 0.4091196561542329](token)\n",
      "Profile size: 27.918k(9.0%) @freq=73.0; [min(27918, 98005)]\n",
      " 19.083182 seconds (40.88 M allocations: 3.177 GiB, 3.23% gc time)\n"
     ]
    },
    {
     "name": "stdout",
     "output_type": "stream",
     "text": [
      "# bel\n"
     ]
    },
    {
     "name": "stdout",
     "output_type": "stream",
     "text": [
      "total vocab: 256.874k; tokens: 0.352388M; dataset ratio: [0.338601200948954, 0.661398799051046](vocab) [0.2994345997785773, 0.7005654002214228](token)\n",
      "Profile size: 21.191k(8.0%) @freq=89.0; [min(21191, 58923)]\n",
      " 18.814852 seconds (31.37 M allocations: 2.606 GiB, 1.17% gc time)\n"
     ]
    },
    {
     "name": "stdout",
     "output_type": "stream",
     "text": [
      "# ben"
     ]
    },
    {
     "name": "stdout",
     "output_type": "stream",
     "text": [
      "\n",
      "total vocab: 104.597k; tokens: 0.12752M; dataset ratio: [0.18727258469259725, 0.8127274153074028](vocab) [0.18979096735353854, 0.8102090326464615](token)\n",
      "Profile size: 2.917k(3.0%) @freq=1183.0; [min(2917, 17771)]\n",
      " 19.397841 seconds (47.06 M allocations: 3.510 GiB, 3.79% gc time)\n"
     ]
    },
    {
     "name": "stdout",
     "output_type": "stream",
     "text": [
      " 57.397326 seconds (120.52 M allocations: 9.357 GiB, 2.74% gc time)\n"
     ]
    }
   ],
   "source": [
    "@time build_all_ngrams_profiles(LANGS[1:3], \"ngrams\")"
   ]
  },
  {
   "cell_type": "code",
   "execution_count": 12,
   "metadata": {},
   "outputs": [
    {
     "name": "stdout",
     "output_type": "stream",
     "text": [
      "# yid\n"
     ]
    },
    {
     "name": "stdout",
     "output_type": "stream",
     "text": [
      "total vocab: 135.062k; tokens: 0.1862M; dataset ratio: [0.33967239527389903, 0.660327604726101](vocab) [0.32930428350561436, 0.6706957164943856](token)\n",
      "Profile size: 10.008k(7.0%) @freq=162.0; [min(10008, 41673)]\n"
     ]
    },
    {
     "data": {
      "text/plain": [
       "(Pair{Vector{UInt8}, Float64}[[0xd7] => 12.132796741701616, [0x20] => 3.789403273495392, [0x20, 0xd7] => 3.5162187256097748, [0x99] => 1.5591632268892548, [0xd7, 0x99] => 1.5591632268892548, [0x90] => 1.4649511189375592, [0xd7, 0x90] => 1.4649511189375592, [0x99, 0xd7] => 1.3667675852862382, [0xd7, 0x99, 0xd7] => 1.3667675852862382, [0xa2] => 1.1506468924279525  …  [0x99, 0xd7, 0x96, 0xd7, 0x9d] => 0.0016153944909111575, [0x99, 0xd7, 0x96, 0xd7, 0x9d, 0x20] => 0.0016153944909111575, [0xd7, 0x99, 0xd7, 0x96, 0xd7, 0x9d] => 0.0016153944909111575, [0xd7, 0x99, 0xd7, 0x96, 0xd7, 0x9d, 0x20] => 0.0016153944909111575, [0x95, 0xd7, 0x99, 0xd7, 0x99, 0xd7, 0x9c] => 0.0016152803763646896, [0x90, 0xd7, 0x9b, 0xd7, 0x98, 0xd7, 0xa2] => 0.001614766205078347, [0xa9, 0xd7, 0x98, 0xd7, 0x90, 0xd7, 0xa8] => 0.001613737862505662, [0xa2, 0x20, 0xd7, 0x93, 0xd7, 0x99, 0x20] => 0.0016132236912193194, [0x93, 0xd7, 0x96, 0xd7, 0xa2, 0xd7, 0xa8] => 0.0016126407888742012, [0x9c, 0xd7, 0x99, 0xd7, 0x93] => 0.0016118296574361474], [28.083992735409627, 27.818596848660533, 27.553200961910875, 27.287805075161238, 27.02240918841061, 26.75701330165603, 26.49161741489397])"
      ]
     },
     "metadata": {},
     "output_type": "display_data"
    }
   ],
   "source": [
    "D,h = build_ngrams_profile(\"yid\")"
   ]
  },
  {
   "cell_type": "code",
   "execution_count": 50,
   "metadata": {},
   "outputs": [],
   "source": [
    "dump_ngrams(D, \"nt.txt\", head=h)"
   ]
  },
  {
   "cell_type": "code",
   "execution_count": 51,
   "metadata": {},
   "outputs": [
    {
     "data": {
      "text/plain": [
       "(Pair{Vector{UInt8}, Float64}[[0xd7] => 12.132796741701616, [0x20] => 3.789403273495392, [0x20, 0xd7] => 3.5162187256097748, [0x99] => 1.5591632268892548, [0xd7, 0x99] => 1.5591632268892548, [0x90] => 1.4649511189375592, [0xd7, 0x90] => 1.4649511189375592, [0x99, 0xd7] => 1.3667675852862382, [0xd7, 0x99, 0xd7] => 1.3667675852862382, [0xa2] => 1.1506468924279525  …  [0x99, 0xd7, 0x96, 0xd7, 0x9d] => 0.0016153944909111575, [0x99, 0xd7, 0x96, 0xd7, 0x9d, 0x20] => 0.0016153944909111575, [0xd7, 0x99, 0xd7, 0x96, 0xd7, 0x9d] => 0.0016153944909111575, [0xd7, 0x99, 0xd7, 0x96, 0xd7, 0x9d, 0x20] => 0.0016153944909111575, [0x95, 0xd7, 0x99, 0xd7, 0x99, 0xd7, 0x9c] => 0.0016152803763646896, [0x90, 0xd7, 0x9b, 0xd7, 0x98, 0xd7, 0xa2] => 0.001614766205078347, [0xa9, 0xd7, 0x98, 0xd7, 0x90, 0xd7, 0xa8] => 0.001613737862505662, [0xa2, 0x20, 0xd7, 0x93, 0xd7, 0x99, 0x20] => 0.0016132236912193194, [0x93, 0xd7, 0x96, 0xd7, 0xa2, 0xd7, 0xa8] => 0.0016126407888742012, [0x9c, 0xd7, 0x99, 0xd7, 0x93] => 0.0016118296574361474], [28.083992735409627, 27.818596848660533, 27.553200961910875, 27.287805075161238, 27.02240918841061, 26.75701330165603, 26.49161741489397])"
      ]
     },
     "metadata": {},
     "output_type": "display_data"
    }
   ],
   "source": [
    "D2,h2 = load_ngrams(\"nt.txt\")"
   ]
  },
  {
   "cell_type": "code",
   "execution_count": 52,
   "metadata": {},
   "outputs": [
    {
     "data": {
      "text/plain": [
       "(true, true)"
      ]
     },
     "metadata": {},
     "output_type": "display_data"
    }
   ],
   "source": [
    "D==D2, h==h2"
   ]
  },
  {
   "cell_type": "code",
   "execution_count": 56,
   "metadata": {},
   "outputs": [
    {
     "data": {
      "text/plain": [
       "RegexMatch(\"abc\")"
      ]
     },
     "metadata": {},
     "output_type": "display_data"
    }
   ],
   "source": [
    "match(r\"abc\", \"ksabcab\")"
   ]
  },
  {
   "cell_type": "code",
   "execution_count": null,
   "metadata": {},
   "outputs": [],
   "source": [
    "str = \"abcdef\"\n",
    "last_str = \"ddcdeg\"\n",
    "function lcs_zip(str, refer)\n",
    "    rg1, rg2 = lcs(refer, str)\n",
    "    if length(rg1) > 2\n",
    "        b1, e1 = first(rg1), last(rg1)\n",
    "        b2, e2 = first(rg2), last(rg2)\n",
    "        if e1 < 26\n",
    "            bc = Char(Int('A') + b1 - 1)\n",
    "            ec = Char(Int('A') + e1 - 1)\n",
    "            last_str = string(last_str[1:b2-1], bc, ec, last_str[e2+1:end])\n",
    "        end\n",
    "    end\n",
    "    last_str\n",
    "end"
   ]
  },
  {
   "cell_type": "code",
   "execution_count": null,
   "metadata": {},
   "outputs": [],
   "source": [
    "lcs_zip(str, last_str)"
   ]
  },
  {
   "cell_type": "code",
   "execution_count": 107,
   "metadata": {},
   "outputs": [
    {
     "data": {
      "text/plain": [
       "\"aff\""
      ]
     },
     "metadata": {},
     "output_type": "display_data"
    }
   ],
   "source": [
    "string('a', \"ff\")"
   ]
  },
  {
   "cell_type": "code",
   "execution_count": 108,
   "metadata": {},
   "outputs": [
    {
     "data": {
      "text/plain": [
       "lcs (generic function with 1 method)"
      ]
     },
     "metadata": {},
     "output_type": "display_data"
    }
   ],
   "source": [
    "function lcs(s1::AbstractString, s2::AbstractString)\n",
    "    m, n = length(s1), length(s2)\n",
    "    len, pos1, pos2 = 0, 0, 0\n",
    "    dp = zeros(Int, m+1, n+1)\n",
    "    for i in 1:m\n",
    "        for j in 1:n\n",
    "            if s1[i] == s2[j]\n",
    "                dp[i+1, j+1] = dp[i, j] + 1\n",
    "                if dp[i+1, j+1] > len\n",
    "                    len = dp[i+1, j+1]\n",
    "                    pos1 = i\n",
    "                    pos2 = j\n",
    "                end\n",
    "            end\n",
    "        end\n",
    "    end\n",
    "    return pos1 - len + 1:pos1, pos2 - len + 1:pos2\n",
    "end\n"
   ]
  },
  {
   "cell_type": "code",
   "execution_count": 109,
   "metadata": {},
   "outputs": [
    {
     "data": {
      "text/plain": [
       "(1:0, 1:0)"
      ]
     },
     "metadata": {},
     "output_type": "display_data"
    }
   ],
   "source": [
    "lcs(\"---\",\"\")"
   ]
  },
  {
   "cell_type": "code",
   "execution_count": 110,
   "metadata": {},
   "outputs": [
    {
     "data": {
      "text/plain": [
       "0"
      ]
     },
     "metadata": {},
     "output_type": "display_data"
    }
   ],
   "source": [
    "length(1:0)"
   ]
  },
  {
   "cell_type": "code",
   "execution_count": 111,
   "metadata": {},
   "outputs": [],
   "source": [
    "match(r\"abdc\", \"ksabcab\")"
   ]
  },
  {
   "cell_type": "code",
   "execution_count": 112,
   "metadata": {},
   "outputs": [
    {
     "data": {
      "text/plain": [
       "'Z': ASCII/Unicode U+005A (category Lu: Letter, uppercase)"
      ]
     },
     "metadata": {},
     "output_type": "display_data"
    }
   ],
   "source": [
    "Char(Int('A') + 26 - 1)"
   ]
  },
  {
   "cell_type": "code",
   "execution_count": 113,
   "metadata": {},
   "outputs": [
    {
     "data": {
      "text/plain": [
       "3-element Vector{Char}:\n",
       " 'D': ASCII/Unicode U+0044 (category Lu: Letter, uppercase)\n",
       " 'E': ASCII/Unicode U+0045 (category Lu: Letter, uppercase)\n",
       " 'F': ASCII/Unicode U+0046 (category Lu: Letter, uppercase)"
      ]
     },
     "metadata": {},
     "output_type": "display_data"
    }
   ],
   "source": [
    "Char.(Int('A') .+ findfirst(\"abc\", \"ksabcab\"))"
   ]
  },
  {
   "cell_type": "code",
   "execution_count": 114,
   "metadata": {},
   "outputs": [
    {
     "data": {
      "text/plain": [
       "splice! (generic function with 9 methods)"
      ]
     },
     "metadata": {},
     "output_type": "display_data"
    }
   ],
   "source": [
    "splice!"
   ]
  },
  {
   "cell_type": "code",
   "execution_count": 115,
   "metadata": {},
   "outputs": [
    {
     "data": {
      "text/plain": [
       "10008-element Vector{Pair{Vector{UInt8}, Float64}}:\n",
       "                                     [0xd7] => 12.132796741701616\n",
       "                                     [0x20] => 3.789403273495392\n",
       "                               [0x20, 0xd7] => 3.5162187256097748\n",
       "                                     [0x99] => 1.5591632268892548\n",
       "                               [0xd7, 0x99] => 1.5591632268892548\n",
       "                                     [0x90] => 1.4649511189375592\n",
       "                               [0xd7, 0x90] => 1.4649511189375592\n",
       "                               [0x99, 0xd7] => 1.3667675852862382\n",
       "                         [0xd7, 0x99, 0xd7] => 1.3667675852862382\n",
       "                                     [0xa2] => 1.1506468924279525\n",
       "                                            ⋮\n",
       "       [0x99, 0xd7, 0x96, 0xd7, 0x9d, 0x20] => 0.0016153944909111575\n",
       "       [0xd7, 0x99, 0xd7, 0x96, 0xd7, 0x9d] => 0.0016153944909111575\n",
       " [0xd7, 0x99, 0xd7, 0x96, 0xd7, 0x9d, 0x20] => 0.0016153944909111575\n",
       " [0x95, 0xd7, 0x99, 0xd7, 0x99, 0xd7, 0x9c] => 0.0016152803763646896\n",
       " [0x90, 0xd7, 0x9b, 0xd7, 0x98, 0xd7, 0xa2] => 0.001614766205078347\n",
       " [0xa9, 0xd7, 0x98, 0xd7, 0x90, 0xd7, 0xa8] => 0.001613737862505662\n",
       " [0xa2, 0x20, 0xd7, 0x93, 0xd7, 0x99, 0x20] => 0.0016132236912193194\n",
       " [0x93, 0xd7, 0x96, 0xd7, 0xa2, 0xd7, 0xa8] => 0.0016126407888742012\n",
       "             [0x9c, 0xd7, 0x99, 0xd7, 0x93] => 0.0016118296574361474"
      ]
     },
     "metadata": {},
     "output_type": "display_data"
    }
   ],
   "source": [
    "D2"
   ]
  },
  {
   "cell_type": "code",
   "execution_count": 116,
   "metadata": {},
   "outputs": [
    {
     "data": {
      "text/plain": [
       "10008-element Vector{Pair{Vector{UInt8}, Float64}}:\n",
       "                                     [0xd7] => 12.132796741701616\n",
       "                                     [0x20] => 3.789403273495392\n",
       "                               [0x20, 0xd7] => 3.5162187256097748\n",
       "                                     [0x99] => 1.5591632268892548\n",
       "                               [0xd7, 0x99] => 1.5591632268892548\n",
       "                                     [0x90] => 1.4649511189375592\n",
       "                               [0xd7, 0x90] => 1.4649511189375592\n",
       "                               [0x99, 0xd7] => 1.3667675852862382\n",
       "                         [0xd7, 0x99, 0xd7] => 1.3667675852862382\n",
       "                                     [0xa2] => 1.1506468924279525\n",
       "                                            ⋮\n",
       "       [0x99, 0xd7, 0x96, 0xd7, 0x9d, 0x20] => 0.0016153944909111575\n",
       "       [0xd7, 0x99, 0xd7, 0x96, 0xd7, 0x9d] => 0.0016153944909111575\n",
       " [0xd7, 0x99, 0xd7, 0x96, 0xd7, 0x9d, 0x20] => 0.0016153944909111575\n",
       " [0x95, 0xd7, 0x99, 0xd7, 0x99, 0xd7, 0x9c] => 0.0016152803763646896\n",
       " [0x90, 0xd7, 0x9b, 0xd7, 0x98, 0xd7, 0xa2] => 0.001614766205078347\n",
       " [0xa9, 0xd7, 0x98, 0xd7, 0x90, 0xd7, 0xa8] => 0.001613737862505662\n",
       " [0xa2, 0x20, 0xd7, 0x93, 0xd7, 0x99, 0x20] => 0.0016132236912193194\n",
       " [0x93, 0xd7, 0x96, 0xd7, 0xa2, 0xd7, 0xa8] => 0.0016126407888742012\n",
       "             [0x9c, 0xd7, 0x99, 0xd7, 0x93] => 0.0016118296574361474"
      ]
     },
     "metadata": {},
     "output_type": "display_data"
    }
   ],
   "source": [
    "G = D\n",
    "sort(collect(G), by=i->(-last(i), length(first(i)), first(i)))"
   ]
  },
  {
   "cell_type": "code",
   "execution_count": 117,
   "metadata": {},
   "outputs": [
    {
     "name": "stdout",
     "output_type": "stream",
     "text": [
      "# yid"
     ]
    },
    {
     "name": "stdout",
     "output_type": "stream",
     "text": [
      "\n",
      "total vocab: 135.062k; tokens: 0.1862M; dataset ratio: [0.33967239527389903, 0.660327604726101](vocab) [0.32930428350561436, 0.6706957164943856](token)\n",
      "Profile size: 10.008k(7.0%) @freq=162.0; [min(10008, 41673)]\n"
     ]
    },
    {
     "data": {
      "text/plain": [
       "(Pair{Vector{UInt8}, Float64}[[0xd7] => 12.132796741701616, [0x20] => 3.789403273495392, [0x20, 0xd7] => 3.5162187256097748, [0x99] => 1.5591632268892548, [0xd7, 0x99] => 1.5591632268892548, [0x90] => 1.4649511189375592, [0xd7, 0x90] => 1.4649511189375592, [0x99, 0xd7] => 1.3667675852862382, [0xd7, 0x99, 0xd7] => 1.3667675852862382, [0xa2] => 1.1506468924279525  …  [0x99, 0xd7, 0x96, 0xd7, 0x9d] => 0.0016153944909111575, [0x99, 0xd7, 0x96, 0xd7, 0x9d, 0x20] => 0.0016153944909111575, [0xd7, 0x99, 0xd7, 0x96, 0xd7, 0x9d] => 0.0016153944909111575, [0xd7, 0x99, 0xd7, 0x96, 0xd7, 0x9d, 0x20] => 0.0016153944909111575, [0x95, 0xd7, 0x99, 0xd7, 0x99, 0xd7, 0x9c] => 0.0016152803763646896, [0x90, 0xd7, 0x9b, 0xd7, 0x98, 0xd7, 0xa2] => 0.001614766205078347, [0xa9, 0xd7, 0x98, 0xd7, 0x90, 0xd7, 0xa8] => 0.001613737862505662, [0xa2, 0x20, 0xd7, 0x93, 0xd7, 0x99, 0x20] => 0.0016132236912193194, [0x93, 0xd7, 0x96, 0xd7, 0xa2, 0xd7, 0xa8] => 0.0016126407888742012, [0x9c, 0xd7, 0x99, 0xd7, 0x93] => 0.0016118296574361474], [28.083992735409627, 27.818596848660533, 27.553200961910875, 27.287805075161238, 27.02240918841061, 26.75701330165603, 26.49161741489397])"
      ]
     },
     "metadata": {},
     "output_type": "display_data"
    }
   ],
   "source": [
    "build_ngrams_profile(\"yid\")"
   ]
  },
  {
   "cell_type": "code",
   "execution_count": 118,
   "metadata": {},
   "outputs": [
    {
     "name": "stdout",
     "output_type": "stream",
     "text": [
      "# zho\n"
     ]
    },
    {
     "name": "stdout",
     "output_type": "stream",
     "text": [
      "total vocab: 3838.139k; tokens: 4.300675M; dataset ratio: [0.4736709935068332, 0.5263290064931667](vocab) [0.6262618895235783, 0.3737381104764217](token)\n",
      "Profile size: 100.0k(3.0%) @freq=17.0; [min(1586276, 172656)]"
     ]
    },
    {
     "name": "stdout",
     "output_type": "stream",
     "text": [
      "\n",
      "# yid"
     ]
    }
   ],
   "source": [
    "build_ngrams_profile(\"zho\")\n",
    "build_ngrams_profile(\"yid\")\n",
    "build_ngrams_profile(\"ina\")\n"
   ]
  },
  {
   "cell_type": "code",
   "execution_count": null,
   "metadata": {},
   "outputs": [],
   "source": [
    "build_ngrams_profile(\"zho\", ngram=5)\n",
    "build_ngrams_profile(\"yid\", ngram=5)\n",
    "build_ngrams_profile(\"ina\", ngram=5)\n",
    ";"
   ]
  },
  {
   "cell_type": "code",
   "execution_count": null,
   "metadata": {},
   "outputs": [],
   "source": [
    "build_ngrams_profile(\"zho\", ratio=0.7)\n",
    "build_ngrams_profile(\"yid\", ratio=0.7)\n",
    "build_ngrams_profile(\"ina\", ratio=0.7)\n"
   ]
  },
  {
   "cell_type": "code",
   "execution_count": null,
   "metadata": {},
   "outputs": [],
   "source": [
    "build_ngrams_profile(\"zho\", ratio=0.7, ngram=5)\n",
    "build_ngrams_profile(\"yid\", ratio=0.7, ngram=5)\n",
    "build_ngrams_profile(\"ina\", ratio=0.7, ngram=5)\n"
   ]
  },
  {
   "cell_type": "code",
   "execution_count": null,
   "metadata": {},
   "outputs": [],
   "source": []
  }
 ],
 "metadata": {
  "kernelspec": {
   "display_name": "Julia 1.9.2",
   "language": "julia",
   "name": "julia-1.9"
  },
  "language_info": {
   "file_extension": ".jl",
   "mimetype": "application/julia",
   "name": "julia",
   "version": "1.9.2"
  },
  "orig_nbformat": 4
 },
 "nbformat": 4,
 "nbformat_minor": 2
}
