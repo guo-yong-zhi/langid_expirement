{
 "cells": [
  {
   "cell_type": "code",
   "execution_count": 15,
   "metadata": {},
   "outputs": [
    {
     "data": {
      "text/plain": [
       "ngrams (generic function with 2 methods)"
      ]
     },
     "metadata": {},
     "output_type": "display_data"
    }
   ],
   "source": [
    "function normalize_text(text; blacklist=[\"wikipedia\", \"tatoeba\"])\n",
    "    text = replace(text, r\"https?://[-_.?&~;+=/#0-9A-Za-z]{1,2076}\" => \" \")\n",
    "    text = replace(text, r\"[-_.0-9A-Za-z]{1,64}@[-_0-9A-Za-z]{1,255}[-_.0-9A-Za-z]{1,255}\" => \" \")\n",
    "    text = replace(text, r\"[^\\p{L}]\" => \" \")\n",
    "    text = \" $text \"\n",
    "    text = lowercase(text)\n",
    "    for w in blacklist\n",
    "        text = replace(text, w => \" \")\n",
    "    end\n",
    "    text = replace(text, r\"\\s\\s+\" => \" \")\n",
    "end\n",
    "function ngrams(text::AbstractString, n, counter=Dict{NTuple{n, UInt8}, Float64}())\n",
    "\ttext = transcode(UInt8, string(text))\n",
    "\tfor i in 1:length(text)-n+1\n",
    "        p = Tuple(text[i:i+n-1])\n",
    "        counter[p] = get(counter, p, 0) + 1\n",
    "\tend\n",
    "    counter\n",
    "end"
   ]
  },
  {
   "cell_type": "code",
   "execution_count": 31,
   "metadata": {},
   "outputs": [
    {
     "data": {
      "text/plain": [
       "Dict{Tuple{Vararg{T, N}} where {N, T}, Float64} with 4 entries:\n",
       "  (0x62, 0x63, 0x64) => 1.0\n",
       "  (0x63, 0x64, 0x65) => 1.0\n",
       "  (0x61, 0x62, 0x63) => 1.0\n",
       "  (0x66, 0x66)       => 2.0"
      ]
     },
     "metadata": {},
     "output_type": "display_data"
    }
   ],
   "source": [
    "counter=Dict{NTuple, Float64}()\n",
    "ngrams(\"abcde\", 3, counter)\n",
    "ngrams(\"fff\", 2, counter)"
   ]
  },
  {
   "cell_type": "code",
   "execution_count": 45,
   "metadata": {},
   "outputs": [],
   "source": [
    "function Base.:*(n::Number, d::Dict)\n",
    "    return typeof(d)((k, v*n) for (k, v) in d)\n",
    "end\n",
    "\n",
    "function Base.:+(d1::Dict, d2::Dict)\n",
    "    mergewith(+, d1, d2)\n",
    "end"
   ]
  },
  {
   "cell_type": "code",
   "execution_count": 46,
   "metadata": {},
   "outputs": [
    {
     "data": {
      "text/plain": [
       "Dict{Tuple{Vararg{T, N}} where {N, T}, Float64} with 4 entries:\n",
       "  (0x62, 0x63, 0x64) => 4.3\n",
       "  (0x63, 0x64, 0x65) => 4.3\n",
       "  (0x61, 0x62, 0x63) => 4.3\n",
       "  (0x66, 0x66)       => 8.6"
      ]
     },
     "metadata": {},
     "output_type": "display_data"
    }
   ],
   "source": [
    "3.3counter + counter"
   ]
  },
  {
   "cell_type": "code",
   "execution_count": 50,
   "metadata": {},
   "outputs": [
    {
     "data": {
      "text/plain": [
       "Dict{Tuple{UInt8, UInt8, Vararg{UInt8}}, Float64} with 13 entries:\n",
       "  (0x20, 0xe4, 0xb8) => 1.0\n",
       "  (0xad, 0xe5, 0x9b) => 1.0\n",
       "  (0xe5, 0x9b)       => 1.0\n",
       "  (0x9b, 0xbd)       => 1.0\n",
       "  (0xe5, 0x9b, 0xbd) => 1.0\n",
       "  (0xb8, 0xad, 0xe5) => 1.0\n",
       "  (0xbd, 0x20)       => 1.0\n",
       "  (0xb8, 0xad)       => 1.0\n",
       "  (0xe4, 0xb8)       => 1.0\n",
       "  (0x20, 0xe4)       => 1.0\n",
       "  (0xad, 0xe5)       => 1.0\n",
       "  (0x9b, 0xbd, 0x20) => 1.0\n",
       "  (0xe4, 0xb8, 0xad) => 1.0"
      ]
     },
     "metadata": {},
     "output_type": "display_data"
    }
   ],
   "source": [
    "ngrams(normalize_text(\"中国\"), 2) + ngrams(normalize_text(\"中国\"), 3)"
   ]
  },
  {
   "cell_type": "code",
   "execution_count": null,
   "metadata": {},
   "outputs": [],
   "source": []
  }
 ],
 "metadata": {
  "kernelspec": {
   "display_name": "Julia 1.9.1",
   "language": "julia",
   "name": "julia-1.9"
  },
  "language_info": {
   "file_extension": ".jl",
   "mimetype": "application/julia",
   "name": "julia",
   "version": "1.9.1"
  },
  "orig_nbformat": 4
 },
 "nbformat": 4,
 "nbformat_minor": 2
}
