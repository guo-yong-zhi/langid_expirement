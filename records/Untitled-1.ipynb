{
 "cells": [
  {
   "cell_type": "code",
   "execution_count": 9,
   "metadata": {},
   "outputs": [
    {
     "data": {
      "text/plain": [
       "Dict{Tuple{UInt8, UInt8, UInt8}, Int64} with 4 entries:\n",
       "  (0xad, 0xe5, 0x9b) => 1\n",
       "  (0xb8, 0xad, 0xe5) => 1\n",
       "  (0xe4, 0xb8, 0xad) => 1\n",
       "  (0xe5, 0x9b, 0xbd) => 1"
      ]
     },
     "metadata": {},
     "output_type": "display_data"
    }
   ],
   "source": [
    "function clean_text(text)\n",
    "    text = replace(text, r\"[^\\p{L}]\" => \" \")\n",
    "    text = replace(text, r\"\\s\\s+\" => \" \")\n",
    "    return strip(lowercase(text))\n",
    "end\n",
    "function ngrams(text::AbstractString, n, counter=Dict{NTuple{n, UInt8}, Int}())\n",
    "\ttext = transcode(UInt8, string(clean_text(text)))\n",
    "\tfor i in 1:length(text)-n+1\n",
    "        p = Tuple(text[i:i+n-1])\n",
    "        counter[p] = get(counter, p, 0) + 1\n",
    "\tend\n",
    "    counter\n",
    "end\n",
    "ngrams(\"中国\", 3)"
   ]
  },
  {
   "cell_type": "code",
   "execution_count": 10,
   "metadata": {},
   "outputs": [
    {
     "data": {
      "text/plain": [
       "Dict{Tuple{UInt8, UInt8, UInt8}, Int64} with 18 entries:\n",
       "  (0x74, 0x65, 0x73) => 1\n",
       "  (0x64, 0x65, 0x73) => 1\n",
       "  (0x69, 0x73, 0x20) => 1\n",
       "  (0x20, 0x69, 0x73) => 1\n",
       "  (0x20, 0x61, 0x20) => 1\n",
       "  (0x69, 0x73, 0x0a) => 1\n",
       "  (0x73, 0x0a, 0x20) => 1\n",
       "  (0x73, 0x74, 0x2e) => 1\n",
       "  (0x73, 0x20, 0x69) => 1\n",
       "  (0x20, 0x74, 0x65) => 1\n",
       "  (0x65, 0x73, 0x74) => 2\n",
       "  (0x20, 0x64, 0x65) => 1\n",
       "  (0x74, 0x2e, 0x20) => 1\n",
       "  (0x54, 0x68, 0x69) => 1\n",
       "  (0x0a, 0x20, 0x61) => 1\n",
       "  (0x2e, 0x20, 0x64) => 1\n",
       "  (0x68, 0x69, 0x73) => 1\n",
       "  (0x61, 0x20, 0x74) => 1"
      ]
     },
     "metadata": {},
     "output_type": "display_data"
    }
   ],
   "source": [
    "ngrams(\"This is\\n a test. dest\",3)"
   ]
  },
  {
   "cell_type": "code",
   "execution_count": 4,
   "metadata": {},
   "outputs": [
    {
     "data": {
      "text/plain": [
       "String"
      ]
     },
     "metadata": {},
     "output_type": "display_data"
    }
   ],
   "source": [
    "string(clean_text(\"This is\\n a test.\"))|>typeof"
   ]
  },
  {
   "cell_type": "code",
   "execution_count": 14,
   "metadata": {},
   "outputs": [
    {
     "data": {
      "text/plain": [
       "\"this is a tes t\""
      ]
     },
     "metadata": {},
     "output_type": "display_data"
    }
   ],
   "source": [
    "clean_text(\"This is a tes  \\nt.\\n\")"
   ]
  },
  {
   "cell_type": "code",
   "execution_count": null,
   "metadata": {},
   "outputs": [],
   "source": []
  }
 ],
 "metadata": {
  "kernelspec": {
   "display_name": "Julia 1.9.1",
   "language": "julia",
   "name": "julia-1.9"
  },
  "language_info": {
   "file_extension": ".jl",
   "mimetype": "application/julia",
   "name": "julia",
   "version": "1.9.1"
  },
  "orig_nbformat": 4
 },
 "nbformat": 4,
 "nbformat_minor": 2
}
