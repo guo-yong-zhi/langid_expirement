{
 "cells": [
  {
   "cell_type": "code",
   "execution_count": 1,
   "metadata": {},
   "outputs": [
    {
     "data": {
      "text/plain": [
       "build_ngram_profiles (generic function with 1 method)"
      ]
     },
     "metadata": {},
     "output_type": "display_data"
    }
   ],
   "source": [
    "include(\"build_profiles.jl\")"
   ]
  },
  {
   "cell_type": "code",
   "execution_count": 4,
   "metadata": {},
   "outputs": [
    {
     "name": "stdout",
     "output_type": "stream",
     "text": [
      "# kab\n"
     ]
    }
   ],
   "source": [
    "\n",
    "lang = \"kab\"\n",
    "    D1 = TatoebaDataset(\"corpus/tatoeba\", \"tatoeba_train.txt\", langs=[lang])\n",
    "    D2 = WikiDataSet(\"corpus/wikipedia/train\", langs=[lang])\n",
    "    println(\"# \", lang)"
   ]
  },
  {
   "cell_type": "code",
   "execution_count": 20,
   "metadata": {},
   "outputs": [
    {
     "data": {
      "text/plain": [
       "2-element Vector{Dict{Vector{UInt8}, Float32}}:\n",
       " Dict([0x8d, 0x61, 0x6d, 0x20, 0x79, 0x61, 0x67] => 1.0, [0x69, 0x66, 0x65, 0x6d] => 111.0, [0x74, 0x6e, 0x69, 0x6b, 0x20] => 3.0, [0x64, 0x64, 0x20, 0x75, 0x6c, 0x61, 0x63] => 1.0, [0x67, 0x75, 0x6d, 0x65, 0x6d, 0x74, 0x20] => 1.0, [0x20, 0x69, 0x7a, 0x72, 0x65, 0xc9] => 35.0, [0x70, 0x61, 0x68, 0x69, 0x79] => 1.0, [0x61, 0x20, 0x73, 0x77, 0x61, 0x64] => 1.0, [0x8d, 0x20, 0x75, 0x71, 0x65, 0xe1, 0xb9] => 1.0, [0x75, 0x72, 0x20, 0x74, 0x20, 0x64, 0x65] => 1.0…)\n",
       " Dict([0x74, 0x6e, 0x69, 0x6b, 0x20] => 1.0, [0x61, 0x6e, 0x6e, 0x61, 0x20, 0x66] => 1.0, [0x75, 0x67, 0x75, 0x73, 0x74, 0x65] => 2.0, [0x20, 0x69, 0x74, 0x20, 0x6c, 0x77, 0x61] => 2.0, [0x61, 0x6c, 0x69, 0x77, 0x65, 0x6e] => 1.0, [0x61, 0x64, 0x20, 0x6e, 0x20, 0x63] => 2.0, [0x72, 0x65, 0x67, 0x74, 0x20, 0x75] => 1.0, [0x74, 0x6d, 0x61, 0x72, 0x74, 0x72] => 1.0, [0x61, 0x66, 0x61, 0x20, 0x61, 0x6c] => 3.0, [0x61, 0x20, 0x73, 0x77, 0x61, 0x64] => 1.0…)"
      ]
     },
     "metadata": {},
     "output_type": "display_data"
    }
   ],
   "source": [
    "Ds = [D1, D2]\n",
    "ngram = 7\n",
    "ratio = 0.9\n",
    "minfreq = 10\n",
    "maxsize = 100000\n",
    "Ds = count_dataset_all_ngrams.([D1, D2], ngram)"
   ]
  },
  {
   "cell_type": "code",
   "execution_count": 6,
   "metadata": {},
   "outputs": [
    {
     "name": "stdout",
     "output_type": "stream",
     "text": [
      "total vocab: 2172.543k; tokens: 2.475977M; dataset ratio: [0.8096529168081933, 0.1903470831918067](vocab) Float32[0.97593045, 0.024069577](token)\n",
      "Profile size: 74.684k(3.0%) @freq=101.0; [min(169017, 74684)]\n"
     ]
    },
    {
     "data": {
      "text/plain": [
       "(Pair{Vector{UInt8}, Float32}[[0x20] => 5.7489185, [0x61] => 2.946159, [0x65] => 2.6331801, [0x74] => 1.8507848, [0x6e] => 1.8268623, [0x69] => 1.8056064, [0x72] => 1.2130071, [0x64] => 1.1891679, [0x6e, 0x20] => 1.016678, [0x73] => 1.0038853  …  [0x6e, 0x20, 0x69, 0xe1, 0xb9, 0x9b] => 0.00023525237, [0x75, 0x66, 0x66, 0xc9, 0xa3, 0x61] => 0.00023525237, [0x75, 0x77, 0x65, 0xe1, 0xb8, 0x8d] => 0.00023525237, [0x75, 0xc9, 0xa3, 0x75, 0x72, 0x20] => 0.00023525237, [0x61, 0x73, 0x20, 0x6b, 0x72, 0x61, 0x20] => 0.00023525237, [0x64, 0x65, 0x67, 0x20, 0x74, 0x69, 0x72] => 0.00023525237, [0x73, 0x20, 0x6e, 0x20, 0x74, 0x61, 0x6c] => 0.00023525237, [0x74, 0x75, 0x66, 0x66, 0xc9, 0xa3, 0x61] => 0.00023525237, [0x75, 0x66, 0x66, 0xc9, 0xa3, 0x61, 0x20] => 0.00023525237, [0x75, 0x77, 0x65, 0xe1, 0xb8, 0x8d, 0x20] => 0.00023525237], Float32[29.956814, 29.393185, 28.828836, 28.257162, 27.657898, 26.988245, 26.211264])"
      ]
     },
     "metadata": {},
     "output_type": "display_data"
    }
   ],
   "source": [
    "\n",
    "    S = mergewith(+, Ds...)\n",
    "    tokens_list = []\n",
    "    vocab_list = []\n",
    "    for D in Ds\n",
    "        tokens = sum(v for (k, v) in D if length(k) == 1)\n",
    "        push!(tokens_list, tokens)\n",
    "        push!(vocab_list, length(D))\n",
    "        sc = log(tokens) / tokens\n",
    "        for (k, v) in D\n",
    "            D[k] *= sc\n",
    "        end\n",
    "    end\n",
    "    G = mergewith(+, Ds...)\n",
    "    sG = sort(collect(G), by=i -> (-last(i), length(first(i)), first(i)))\n",
    "    cp1 = cutoff_at_ratio(sG, ratio)\n",
    "    cp2 = findfirst(k -> S[k] < minfreq, first.(sG)) - 1\n",
    "    cp = min(cp1, cp2, maxsize)\n",
    "    println(\"total vocab: $(length(S)/1000)k; tokens: $(sum(vocab_list)/1e6)M; dataset ratio: $(vocab_list[1:end]/sum(vocab_list))(vocab) $(tokens_list/sum(tokens_list))(token)\")\n",
    "    println(\"Profile size: $(cp/1000)k($(round(cp/length(sG)*100))%) @freq=$(S[sG[cp][1]]); [min($cp1, $cp2)]\")\n",
    "    sG[1:cp], count_ngrams(sG)"
   ]
  },
  {
   "cell_type": "code",
   "execution_count": 13,
   "metadata": {},
   "outputs": [
    {
     "data": {
      "text/plain": [
       "(UInt8[0x75, 0x77, 0x65, 0xe1, 0xb8, 0x8d, 0x20] => 0.00023525237f0, UInt8[0x73, 0x6e, 0x79] => 0.00023515218f0)"
      ]
     },
     "metadata": {},
     "output_type": "display_data"
    }
   ],
   "source": [
    "sG[cp],sG[cp+1]"
   ]
  },
  {
   "cell_type": "code",
   "execution_count": 14,
   "metadata": {},
   "outputs": [
    {
     "data": {
      "text/plain": [
       "(101.0f0, 9.0f0)"
      ]
     },
     "metadata": {},
     "output_type": "display_data"
    }
   ],
   "source": [
    "S[first(sG[cp])],S[first(sG[cp+1])]"
   ]
  },
  {
   "cell_type": "code",
   "execution_count": 22,
   "metadata": {},
   "outputs": [
    {
     "data": {
      "text/plain": [
       "(6.0f0, 9.0f0)"
      ]
     },
     "metadata": {},
     "output_type": "display_data"
    }
   ],
   "source": [
    "Ds[2][first(sG[cp])],Ds[2][first(sG[cp+1])]\n"
   ]
  },
  {
   "cell_type": "code",
   "execution_count": 2,
   "metadata": {},
   "outputs": [
    {
     "name": "stdout",
     "output_type": "stream",
     "text": [
      "# zho\n",
      "total vocab: 4267.401k; tokens: 4.783494M;"
     ]
    },
    {
     "name": "stdout",
     "output_type": "stream",
     "text": [
      " dataset ratio: [0.42586130556450996, 0.57413869443549](vocab) Float32[0.5644623, 0.4355377](token)\n",
      "Profile size: 100.0k(2.0%) @freq=25.0; [min(1697115, 216718)]\n"
     ]
    },
    {
     "data": {
      "text/plain": [
       "(Float32[28.993256, 28.527767, 28.056707, 27.518705, 26.87696, 26.11319, 25.23846], Pair{Vector{UInt8}, Float32}[[0xe5] => 2.6759343, [0xe6] => 1.8406507, [0x20] => 1.751646, [0xe4] => 1.4011028, [0xe7] => 1.2207347, [0xe8] => 1.006906, [0xe9] => 0.70510626, [0xb8] => 0.6879991, [0xba] => 0.62958765, [0x88] => 0.5611001  …  [0xe5, 0x80, 0x8b, 0xe5, 0xad, 0xb8] => 0.00016786745, [0xe5, 0x8d, 0x81, 0xe5, 0xa4, 0x9a] => 0.00016786745, [0xe5, 0xa5, 0xb9, 0xe8, 0xbf, 0x98] => 0.00016786745, [0xe5, 0xb0, 0x8f, 0xe6, 0x8f, 0x90] => 0.00016786745, [0xe5, 0xba, 0x95, 0xe4, 0xb8, 0x8b] => 0.00016786745, [0xe6, 0x89, 0x80, 0xe8, 0xb0, 0x93] => 0.00016786745, [0xe8, 0xbf, 0x98, 0xe8, 0xa6, 0x81] => 0.00016786745, [0xe9, 0x80, 0x99, 0xe5, 0xb0, 0xb1] => 0.00016786745, [0x20, 0xe4, 0xbc, 0x9a, 0xe8, 0xae, 0xae] => 0.00016786745, [0x20, 0xe9, 0x86, 0xab, 0xe7, 0x94, 0x9f] => 0.00016786745])"
      ]
     },
     "metadata": {},
     "output_type": "display_data"
    }
   ],
   "source": [
    "D,h = build_ngram_profile(\"zho\")"
   ]
  },
  {
   "cell_type": "code",
   "execution_count": 12,
   "metadata": {},
   "outputs": [
    {
     "name": "stdout",
     "output_type": "stream",
     "text": [
      "# eng"
     ]
    },
    {
     "name": "stdout",
     "output_type": "stream",
     "text": [
      "\n",
      "total vocab: 3257.069k; tokens: 4.090477M; dataset ratio: [0.7086161344997173, 0.2913838655002827](vocab) [0.9664233351915567, 0.0335766648084433](token)\n",
      "Profile size: 100.0k(3.0%) @freq=588.0; [min(171588, 240298)]"
     ]
    },
    {
     "name": "stdout",
     "output_type": "stream",
     "text": [
      "\n",
      "171.573536 seconds (538.60 M allocations: 33.011 GiB, 34.52% gc time)\n"
     ]
    },
    {
     "name": "stdout",
     "output_type": "stream",
     "text": [
      "172.016047 seconds (541.21 M allocations: 33.499 GiB, 34.43% gc time)\n"
     ]
    }
   ],
   "source": [
    "@time build_ngram_profiles([\"eng\"], \"ngrams\")"
   ]
  },
  {
   "cell_type": "code",
   "execution_count": 2,
   "metadata": {},
   "outputs": [
    {
     "name": "stdout",
     "output_type": "stream",
     "text": [
      "# ara\n",
      "total vocab: 338.742k; tokens: 0.495728M; dataset ratio: [0.45305691831004097, 0.546943081689959](vocab) Float32[0.5281706, 0.4718294](token)"
     ]
    },
    {
     "name": "stdout",
     "output_type": "stream",
     "text": [
      "\n",
      "Profile size: 27.978k(8.0%) @freq=90.0; [min(27978, 110975)]\n",
      " 14.430601 seconds (46.14 M allocations: 3.474 GiB, 13.24% gc time, 13.42% compilation time)"
     ]
    },
    {
     "name": "stdout",
     "output_type": "stream",
     "text": [
      "\n"
     ]
    },
    {
     "name": "stdout",
     "output_type": "stream",
     "text": [
      "# bel\n",
      "total vocab: 289.809k; tokens: 0.387915M; dataset ratio: [0.30759058041065696, 0.692409419589343](vocab) Float32[0.24278557, 0.7572144](token)"
     ]
    },
    {
     "name": "stdout",
     "output_type": "stream",
     "text": [
      "\n",
      "Profile size: 21.159k(7.0%) @freq=127.0; [min(21159, 59116)]\n",
      " 10.977598 seconds (36.07 M allocations: 2.851 GiB, 15.18% gc time)\n"
     ]
    },
    {
     "name": "stdout",
     "output_type": "stream",
     "text": [
      "# ben\n",
      "total vocab: 119.452k; tokens: 0.142487M; dataset ratio: [0.16760125485131977, 0.8323987451486803](vocab) Float32[0.1589021, 0.8410979](token)"
     ]
    },
    {
     "name": "stdout",
     "output_type": "stream",
     "text": [
      "\n",
      "Profile size: 2.917k(2.0%) @freq=1136.0; [min(2917, 17844)]\n",
      " 11.857231 seconds (54.02 M allocations: 3.930 GiB, 16.28% gc time)\n"
     ]
    },
    {
     "name": "stdout",
     "output_type": "stream",
     "text": [
      "# bul\n",
      "total vocab: 300.321k; tokens: 0.379535M; dataset ratio: [0.2325029312184647, 0.7674970687815353](vocab) Float32[0.2561476, 0.74385244](token)"
     ]
    },
    {
     "name": "stdout",
     "output_type": "stream",
     "text": [
      "\n",
      "Profile size: 15.547k(5.0%) @freq=239.0; [min(15547, 60406)]\n",
      " 13.533499 seconds (48.60 M allocations: 3.632 GiB, 18.36% gc time)\n"
     ]
    },
    {
     "name": "stdout",
     "output_type": "stream",
     "text": [
      "# cat\n",
      "total vocab: 1230.777k; tokens: 1.408459M; dataset ratio: [0.18222397670077722, 0.8177760232992227](vocab) Float32[0.110580705, 0.8894193](token)"
     ]
    },
    {
     "name": "stdout",
     "output_type": "stream",
     "text": [
      "\n",
      "Profile size: 48.469k(4.0%) @freq=15.0; [min(160435, 48469)]\n",
      " 13.778992 seconds (30.40 M allocations: 2.720 GiB, 19.99% gc time)"
     ]
    },
    {
     "name": "stdout",
     "output_type": "stream",
     "text": [
      "\n"
     ]
    },
    {
     "name": "stdout",
     "output_type": "stream",
     "text": [
      "# ces\n",
      "total vocab: 2242.769k; tokens: 2.706912M; dataset ratio: [0.3162492907046849, 0.6837507092953151](vocab) Float32[0.43481585, 0.5651842](token)"
     ]
    },
    {
     "name": "stdout",
     "output_type": "stream",
     "text": [
      "\n",
      "Profile size: 100.0k(4.0%) @freq=34.0; [min(338149, 245387)]\n",
      " 25.248665 seconds (47.19 M allocations: 3.891 GiB, 24.02% gc time)"
     ]
    },
    {
     "name": "stdout",
     "output_type": "stream",
     "text": [
      "\n"
     ]
    },
    {
     "name": "stdout",
     "output_type": "stream",
     "text": [
      "# dan\n",
      "total vocab: 1464.414k; tokens: 1.818438M; dataset ratio: [0.3449977398184596, 0.6550022601815404](vocab) Float32[0.4969574, 0.5030426](token)"
     ]
    },
    {
     "name": "stdout",
     "output_type": "stream",
     "text": [
      "\n",
      "Profile size: 100.0k(7.0%) @freq=22.0; [min(206019, 194304)]\n",
      " 18.658173 seconds (38.94 M allocations: 3.248 GiB, 22.60% gc time)"
     ]
    },
    {
     "name": "stdout",
     "output_type": "stream",
     "text": [
      "\n"
     ]
    },
    {
     "name": "stdout",
     "output_type": "stream",
     "text": [
      "# deu\n",
      "total vocab: 3203.329k; tokens: 4.102759M; dataset ratio: [0.5394057998532207, 0.46059420014677926](vocab) Float32[0.88024586, 0.11975415](token)"
     ]
    },
    {
     "name": "stdout",
     "output_type": "stream",
     "text": [
      "\n",
      "Profile size: 100.0k(3.0%) @freq=107.0; [min(218833, 337329)]\n",
      "110.635495 seconds (246.17 M allocations: 15.916 GiB, 33.68% gc time)"
     ]
    },
    {
     "name": "stdout",
     "output_type": "stream",
     "text": [
      "\n"
     ]
    },
    {
     "name": "stdout",
     "output_type": "stream",
     "text": [
      "# ell\n",
      "total vocab: 451.101k; tokens: 0.557478M; dataset ratio: [0.21629732473747842, 0.7837026752625216](vocab) Float32[0.25937268, 0.7406273](token)"
     ]
    },
    {
     "name": "stdout",
     "output_type": "stream",
     "text": [
      "\n",
      "Profile size: 18.739k(4.0%) @freq=266.0; [min(18739, 80446)]\n",
      " 19.353671 seconds (66.95 M allocations: 4.761 GiB, 21.40% gc time)\n"
     ]
    },
    {
     "name": "stdout",
     "output_type": "stream",
     "text": [
      "# eng\n",
      "total vocab: 3367.555k; tokens: 4.307787M; dataset ratio: [0.6728693874604292, 0.32713061253957076](vocab) Float32[0.95618975, 0.043810293](token)"
     ]
    },
    {
     "name": "stdout",
     "output_type": "stream",
     "text": [
      "\n",
      "Profile size: 100.0k(3.0%) @freq=272.0; [min(174721, 289046)]\n",
      "222.072460 seconds (544.03 M allocations: 33.235 GiB, 39.15% gc time)"
     ]
    },
    {
     "name": "stdout",
     "output_type": "stream",
     "text": [
      "\n"
     ]
    },
    {
     "name": "stdout",
     "output_type": "stream",
     "text": [
      "# epo\n",
      "total vocab: 2675.938k; tokens: 3.236672M; dataset ratio: [0.7189597833824373, 0.28104021661756273](vocab) Float32[0.95425415, 0.045745846](token)"
     ]
    },
    {
     "name": "stdout",
     "output_type": "stream",
     "text": [
      "\n",
      "Profile size: 100.0k(4.0%) @freq=33.0; [min(187722, 158387)]\n",
      " 68.405252 seconds (230.05 M allocations: 14.784 GiB, 7.30% gc time)"
     ]
    },
    {
     "name": "stdout",
     "output_type": "stream",
     "text": [
      "\n"
     ]
    },
    {
     "name": "stdout",
     "output_type": "stream",
     "text": [
      "# fas\n",
      "total vocab: 290.089k; tokens: 0.40407M; dataset ratio: [0.39764644739772814, 0.6023535526022719](vocab) Float32[0.49185586, 0.50814414](token)"
     ]
    },
    {
     "name": "stdout",
     "output_type": "stream",
     "text": [
      "\n",
      "Profile size: 21.456k(7.0%) @freq=89.0; [min(21456, 78742)]\n",
      "  8.623542 seconds (34.01 M allocations: 2.744 GiB, 4.38% gc time)\n"
     ]
    },
    {
     "name": "stdout",
     "output_type": "stream",
     "text": [
      "# fin\n",
      "total vocab: 1811.049k; tokens: 2.287811M; dataset ratio: [0.47524817390947066, 0.5247518260905293](vocab) Float32[0.72344315, 0.27655682](token)"
     ]
    },
    {
     "name": "stdout",
     "output_type": "stream",
     "text": [
      "\n",
      "Profile size: 100.0k(6.0%) @freq=56.0; [min(219069, 213207)]\n",
      " 26.708090 seconds (64.00 M allocations: 4.792 GiB, 7.35% gc time)"
     ]
    },
    {
     "name": "stdout",
     "output_type": "stream",
     "text": [
      "\n"
     ]
    },
    {
     "name": "stdout",
     "output_type": "stream",
     "text": [
      "# fra\n",
      "total vocab: 2055.67k; tokens: 2.687904M; dataset ratio: [0.5728988088860316, 0.4271011911139684](vocab) Float32[0.8791956, 0.1208044](token)"
     ]
    },
    {
     "name": "stdout",
     "output_type": "stream",
     "text": [
      "\n",
      "Profile size: 100.0k(5.0%) @freq=170.0; [min(137528, 262701)]\n",
      " 53.652178 seconds (197.77 M allocations: 12.674 GiB, 9.24% gc time)"
     ]
    },
    {
     "name": "stdout",
     "output_type": "stream",
     "text": [
      "\n"
     ]
    },
    {
     "name": "stdout",
     "output_type": "stream",
     "text": [
      "# hau\n",
      "total vocab: 1037.975k; tokens: 1.265206M; dataset ratio: [0.27806301898663144, 0.7219369810133686](vocab) Float32[0.29330698, 0.70669305](token)"
     ]
    },
    {
     "name": "stdout",
     "output_type": "stream",
     "text": [
      "\n",
      "Profile size: 98.095k(9.0%) @freq=21.0; [min(98095, 99466)]\n",
      " 11.302615 seconds (33.89 M allocations: 2.887 GiB, 3.90% gc time)"
     ]
    },
    {
     "name": "stdout",
     "output_type": "stream",
     "text": [
      "\n"
     ]
    },
    {
     "name": "stdout",
     "output_type": "stream",
     "text": [
      "# hbs\n",
      "total vocab: 760.147k; tokens: 0.937947M; dataset ratio: [0.5758971455743235, 0.4241028544256765](vocab) Float32[0.43231443, 0.56768554](token)"
     ]
    },
    {
     "name": "stdout",
     "output_type": "stream",
     "text": [
      "\n",
      "Profile size: 41.987k(6.0%) @freq=48.0; [min(41987, 115188)]\n",
      " 11.486821 seconds (43.77 M allocations: 3.429 GiB, 5.30% gc time)\n"
     ]
    },
    {
     "name": "stdout",
     "output_type": "stream",
     "text": [
      "# heb\n",
      "total vocab: 390.747k; tokens: 0.530961M; dataset ratio: [0.31084392262331884, 0.6891560773766812](vocab) Float32[0.58663327, 0.41336673](token)"
     ]
    },
    {
     "name": "stdout",
     "output_type": "stream",
     "text": [
      "\n",
      "Profile size: 18.981k(5.0%) @freq=460.0; [min(18981, 119636)]\n",
      " 23.827863 seconds (119.32 M allocations: 7.841 GiB, 6.68% gc time)\n"
     ]
    },
    {
     "name": "stdout",
     "output_type": "stream",
     "text": [
      "# hin\n",
      "total vocab: 72.444k; tokens: 0.091706M; dataset ratio: [0.22255904739057422, 0.7774409526094258](vocab) Float32[0.21984236, 0.7801576](token)"
     ]
    },
    {
     "name": "stdout",
     "output_type": "stream",
     "text": [
      "\n",
      "Profile size: 2.881k(4.0%) @freq=693.0; [min(2881, 16115)]\n",
      "  6.878612 seconds (33.86 M allocations: 2.700 GiB, 6.72% gc time)\n"
     ]
    },
    {
     "name": "stdout",
     "output_type": "stream",
     "text": [
      "# hun\n",
      "total vocab: 3074.874k; tokens: 3.845167M; dataset ratio: [0.5646069468504229, 0.4353930531495771](vocab) Float32[0.8453668, 0.1546332](token)"
     ]
    },
    {
     "name": "stdout",
     "output_type": "stream",
     "text": [
      "\n",
      "Profile size: 100.0k(3.0%) @freq=57.0; [min(335498, 278835)]\n",
      " 45.460388 seconds (131.08 M allocations: 9.044 GiB, 9.24% gc time)"
     ]
    },
    {
     "name": "stdout",
     "output_type": "stream",
     "text": [
      "\n"
     ]
    },
    {
     "name": "stdout",
     "output_type": "stream",
     "text": [
      "# ido\n",
      "total vocab: 584.32k; tokens: 0.6842M; dataset ratio: [0.3054267757965507, 0.6945732242034492](vocab) Float32[0.2377162, 0.7622838](token)"
     ]
    },
    {
     "name": "stdout",
     "output_type": "stream",
     "text": [
      "\n",
      "Profile size: 36.603k(6.0%) @freq=11.0; [min(105172, 36603)]\n",
      "  6.679623 seconds (19.55 M allocations: 1.921 GiB, 7.97% gc time)\n"
     ]
    },
    {
     "name": "stdout",
     "output_type": "stream",
     "text": [
      "# ina\n",
      "total vocab: 715.119k; tokens: 0.916974M; dataset ratio: [0.50525969111447, 0.49474030888553](vocab) Float32[0.58690053, 0.4130995](token)"
     ]
    },
    {
     "name": "stdout",
     "output_type": "stream",
     "text": [
      "\n",
      "Profile size: 100.0k(14.0%) @freq=14.0; [min(113499, 119205)]\n",
      "  8.838856 seconds (26.68 M allocations: 2.401 GiB, 6.75% gc time)\n"
     ]
    },
    {
     "name": "stdout",
     "output_type": "stream",
     "text": [
      "# isl\n",
      "total vocab: 1034.14k; tokens: 1.227643M; dataset ratio: [0.2437068431131852, 0.7562931568868149](vocab) Float32[0.26418835, 0.73581165](token)"
     ]
    },
    {
     "name": "stdout",
     "output_type": "stream",
     "text": [
      "\n",
      "Profile size: 69.669k(7.0%) @freq=17.0; [min(178075, 69669)]\n",
      "  9.135436 seconds (24.24 M allocations: 2.280 GiB, 2.39% gc time)"
     ]
    },
    {
     "name": "stdout",
     "output_type": "stream",
     "text": [
      "\n"
     ]
    },
    {
     "name": "stdout",
     "output_type": "stream",
     "text": [
      "# ita\n",
      "total vocab: 1920.582k; tokens: 2.538824M; dataset ratio: [0.5309280989938648, 0.4690719010061351](vocab) Float32[0.91134995, 0.088650025](token)"
     ]
    },
    {
     "name": "stdout",
     "output_type": "stream",
     "text": [
      "\n",
      "Profile size: 100.0k(5.0%) @freq=279.0; [min(140938, 243347)]\n",
      " 56.781952 seconds (238.28 M allocations: 14.942 GiB, 10.46% gc time)"
     ]
    },
    {
     "name": "stdout",
     "output_type": "stream",
     "text": [
      "\n"
     ]
    },
    {
     "name": "stdout",
     "output_type": "stream",
     "text": [
      "# jpn\n",
      "total vocab: 3671.867k; tokens: 4.491262M; dataset ratio: [0.45086191809785314, 0.5491380819021469](vocab) Float32[0.760057, 0.23994303](token)"
     ]
    },
    {
     "name": "stdout",
     "output_type": "stream",
     "text": [
      "\n",
      "Profile size: 100.0k(3.0%) @freq=63.0; [min(347286, 334241)]\n",
      " 44.689952 seconds (121.97 M allocations: 8.622 GiB, 10.89% gc time)"
     ]
    },
    {
     "name": "stdout",
     "output_type": "stream",
     "text": [
      "\n"
     ]
    },
    {
     "name": "stdout",
     "output_type": "stream",
     "text": [
      "# kab\n",
      "total vocab: 2192.573k; tokens: 2.516161M; dataset ratio: [0.796722467282499, 0.20327753271750099](vocab) Float32[0.9731026, 0.026897386](token)"
     ]
    },
    {
     "name": "stdout",
     "output_type": "stream",
     "text": [
      "\n",
      "Profile size: 82.13k(4.0%) @freq=64.0; [min(172324, 82130)]\n",
      " 44.961704 seconds (164.71 M allocations: 10.574 GiB, 11.67% gc time)"
     ]
    },
    {
     "name": "stdout",
     "output_type": "stream",
     "text": [
      "\n"
     ]
    },
    {
     "name": "stdout",
     "output_type": "stream",
     "text": [
      "# kor\n",
      "total vocab: 1150.587k; tokens: 1.333229M; dataset ratio: [0.20969915895918856, 0.7903008410408114](vocab) Float32[0.18290496, 0.81709504](token)"
     ]
    },
    {
     "name": "stdout",
     "output_type": "stream",
     "text": [
      "\n",
      "Profile size: 64.592k(6.0%) @freq=37.0; [min(176083, 64592)]\n",
      " 10.677183 seconds (27.95 M allocations: 2.514 GiB, 3.17% gc time)"
     ]
    },
    {
     "name": "stdout",
     "output_type": "stream",
     "text": [
      "\n"
     ]
    },
    {
     "name": "stdout",
     "output_type": "stream",
     "text": [
      "# kur\n",
      "total vocab: 231.321k; tokens: 0.301397M; dataset ratio: [0.27250437131092875, 0.7274956286890712](vocab) Float32[0.25165612, 0.7483439](token)"
     ]
    },
    {
     "name": "stdout",
     "output_type": "stream",
     "text": [
      "\n",
      "Profile size: 16.96k(7.0%) @freq=59.0; [min(16960, 45049)]\n",
      "  7.441950 seconds (29.01 M allocations: 2.433 GiB, 4.45% gc time)\n"
     ]
    },
    {
     "name": "stdout",
     "output_type": "stream",
     "text": [
      "# lat\n",
      "total vocab: 1188.665k; tokens: 1.430041M; dataset ratio: [0.5294016045693795, 0.47059839543062054](vocab) Float32[0.68527395, 0.31472602](token)"
     ]
    },
    {
     "name": "stdout",
     "output_type": "stream",
     "text": [
      "\n",
      "Profile size: 96.112k(8.0%) @freq=19.0; [min(249104, 96112)]\n",
      " 11.196887 seconds (28.29 M allocations: 2.616 GiB, 7.78% gc time)"
     ]
    },
    {
     "name": "stdout",
     "output_type": "stream",
     "text": [
      "\n"
     ]
    },
    {
     "name": "stdout",
     "output_type": "stream",
     "text": [
      "# lit\n",
      "total vocab: 1384.583k; tokens: 1.726123M; dataset ratio: [0.45548492198991614, 0.5445150780100839](vocab) Float32[0.68282986, 0.31717014](token)"
     ]
    },
    {
     "name": "stdout",
     "output_type": "stream",
     "text": [
      "\n",
      "Profile size: 100.0k(7.0%) @freq=21.0; [min(229063, 160823)]\n",
      " 15.652460 seconds (41.28 M allocations: 3.417 GiB, 9.39% gc time)"
     ]
    },
    {
     "name": "stdout",
     "output_type": "stream",
     "text": [
      "\n"
     ]
    },
    {
     "name": "stdout",
     "output_type": "stream",
     "text": [
      "# mar\n",
      "total vocab: 50.433k; tokens: 0.074583M; dataset ratio: [0.38110561387983855, 0.6188943861201615](vocab) Float32[0.6534832, 0.3465168](token)"
     ]
    },
    {
     "name": "stdout",
     "output_type": "stream",
     "text": [
      "\n",
      "Profile size: 2.973k(6.0%) @freq=1401.0; [min(2973, 21039)]\n",
      "  9.972386 seconds (51.11 M allocations: 3.714 GiB, 7.61% gc time)\n"
     ]
    },
    {
     "name": "stdout",
     "output_type": "stream",
     "text": [
      "# mkd\n",
      "total vocab: 258.676k; tokens: 0.339152M; dataset ratio: [0.2717807944520451, 0.7282192055479549](vocab) Float32[0.43740508, 0.56259495](token)"
     ]
    },
    {
     "name": "stdout",
     "output_type": "stream",
     "text": [
      "\n",
      "Profile size: 12.377k(5.0%) @freq=448.0; [min(12377, 72785)]\n",
      " 15.346235 seconds (71.57 M allocations: 4.982 GiB, 8.26% gc time)\n"
     ]
    },
    {
     "name": "stdout",
     "output_type": "stream",
     "text": [
      "# msa\n",
      "total vocab: 909.882k; tokens: 1.091428M; dataset ratio: [0.2611688540151068, 0.7388311459848932](vocab) Float32[0.31870863, 0.6812914](token)"
     ]
    },
    {
     "name": "stdout",
     "output_type": "stream",
     "text": [
      "\n",
      "Profile size: 82.833k(9.0%) @freq=19.0; [min(108327, 82833)]\n",
      " 10.165545 seconds (27.32 M allocations: 2.456 GiB, 7.85% gc time)"
     ]
    },
    {
     "name": "stdout",
     "output_type": "stream",
     "text": [
      "\n"
     ]
    },
    {
     "name": "stdout",
     "output_type": "stream",
     "text": [
      "# nds\n",
      "total vocab: 1140.595k; tokens: 1.33018M; dataset ratio: [0.25863642514546903, 0.741363574854531](vocab) Float32[0.2579196, 0.7420804](token)"
     ]
    },
    {
     "name": "stdout",
     "output_type": "stream",
     "text": [
      "\n",
      "Profile size: 77.008k(7.0%) @freq=14.0; [min(172728, 77008)]\n",
      "  8.628794 seconds (27.39 M allocations: 2.476 GiB, 6.87% gc time)"
     ]
    },
    {
     "name": "stdout",
     "output_type": "stream",
     "text": [
      "\n"
     ]
    },
    {
     "name": "stdout",
     "output_type": "stream",
     "text": [
      "# nld\n",
      "total vocab: 1586.291k; tokens: 1.973316M; dataset ratio: [0.5377157029082013, 0.4622842970917988](vocab) Float32[0.83022374, 0.16977623](token)"
     ]
    },
    {
     "name": "stdout",
     "output_type": "stream",
     "text": [
      "\n",
      "Profile size: 100.0k(6.0%) @freq=33.0; [min(192120, 139340)]\n",
      " 16.379449 seconds (63.56 M allocations: 4.731 GiB, 6.40% gc time)"
     ]
    },
    {
     "name": "stdout",
     "output_type": "stream",
     "text": [
      "\n"
     ]
    },
    {
     "name": "stdout",
     "output_type": "stream",
     "text": [
      "# nor\n",
      "total vocab: 1174.14k; tokens: 1.402217M; dataset ratio: [0.25575784632478427, 0.7442421536752157](vocab) Float32[0.28185144, 0.7181486](token)"
     ]
    },
    {
     "name": "stdout",
     "output_type": "stream",
     "text": [
      "\n",
      "Profile size: 81.129k(7.0%) @freq=16.0; [min(198878, 81129)]\n",
      "  8.503638 seconds (26.16 M allocations: 2.479 GiB, 7.21% gc time)"
     ]
    },
    {
     "name": "stdout",
     "output_type": "stream",
     "text": [
      "\n"
     ]
    },
    {
     "name": "stdout",
     "output_type": "stream",
     "text": [
      "# pol\n",
      "total vocab: 1867.26k; tokens: 2.319829M; dataset ratio: [0.49517227347360515, 0.5048277265263948](vocab) Float32[0.7382367, 0.26176327](token)"
     ]
    },
    {
     "name": "stdout",
     "output_type": "stream",
     "text": [
      "\n",
      "Profile size: 100.0k(5.0%) @freq=25.0; [min(293274, 177666)]\n",
      " 15.323739 seconds (51.72 M allocations: 4.061 GiB, 6.62% gc time)"
     ]
    },
    {
     "name": "stdout",
     "output_type": "stream",
     "text": [
      "\n"
     ]
    },
    {
     "name": "stdout",
     "output_type": "stream",
     "text": [
      "# por\n",
      "total vocab: 2151.767k; tokens: 2.792698M; dataset ratio: [0.5884184398026567, 0.4115815601973432](vocab) Float32[0.879725, 0.120275006](token)"
     ]
    },
    {
     "name": "stdout",
     "output_type": "stream",
     "text": [
      "\n",
      "Profile size: 100.0k(5.0%) @freq=111.0; [min(174579, 228780)]\n",
      " 34.952874 seconds (149.30 M allocations: 9.824 GiB, 9.31% gc time)"
     ]
    },
    {
     "name": "stdout",
     "output_type": "stream",
     "text": [
      "\n"
     ]
    },
    {
     "name": "stdout",
     "output_type": "stream",
     "text": [
      "# ron\n",
      "total vocab: 1592.295k; tokens: 1.872949M; dataset ratio: [0.2568558994398673, 0.7431441005601327](vocab) Float32[0.3320323, 0.6679677](token)"
     ]
    },
    {
     "name": "stdout",
     "output_type": "stream",
     "text": [
      "\n",
      "Profile size: 100.0k(6.0%) @freq=25.0; [min(249226, 135439)]\n",
      " 10.721084 seconds (34.85 M allocations: 3.024 GiB, 5.32% gc time)"
     ]
    },
    {
     "name": "stdout",
     "output_type": "stream",
     "text": [
      "\n"
     ]
    },
    {
     "name": "stdout",
     "output_type": "stream",
     "text": [
      "# rus\n",
      "total vocab: 496.131k; tokens: 0.689719M; dataset ratio: [0.4112776362547646, 0.5887223637452353](vocab) Float32[0.90320164, 0.09679831](token)"
     ]
    },
    {
     "name": "stdout",
     "output_type": "stream",
     "text": [
      "\n",
      "Profile size: 20.152k(4.0%) @freq=948.0; [min(20152, 126794)]\n",
      " 77.704292 seconds (472.74 M allocations: 28.850 GiB, 10.08% gc time)\n"
     ]
    },
    {
     "name": "stdout",
     "output_type": "stream",
     "text": [
      "# slk\n",
      "total vocab: 1307.792k; tokens: 1.488625M; dataset ratio: [0.23014795532790328, 0.7698520446720968](vocab) Float32[0.2633853, 0.7366147](token)"
     ]
    },
    {
     "name": "stdout",
     "output_type": "stream",
     "text": [
      "\n",
      "Profile size: 68.895k(5.0%) @freq=17.0; [min(283861, 68895)]\n",
      "  7.844170 seconds (23.73 M allocations: 2.314 GiB, 3.25% gc time)"
     ]
    },
    {
     "name": "stdout",
     "output_type": "stream",
     "text": [
      "\n"
     ]
    },
    {
     "name": "stdout",
     "output_type": "stream",
     "text": [
      "# spa\n",
      "total vocab: 2154.959k; tokens: 2.812144M; dataset ratio: [0.5720254723797927, 0.4279745276202072](vocab) Float32[0.8409973, 0.15900278](token)"
     ]
    },
    {
     "name": "stdout",
     "output_type": "stream",
     "text": [
      "\n",
      "Profile size: 100.0k(5.0%) @freq=100.0; [min(164389, 264484)]\n",
      " 36.402782 seconds (145.12 M allocations: 9.789 GiB, 10.48% gc time)"
     ]
    },
    {
     "name": "stdout",
     "output_type": "stream",
     "text": [
      "\n"
     ]
    },
    {
     "name": "stdout",
     "output_type": "stream",
     "text": [
      "# swa\n",
      "total vocab: 902.753k; tokens: 1.1154M; dataset ratio: [0.5028205128205128, 0.4971794871794872](vocab) Float32[0.5754427, 0.42455733](token)"
     ]
    },
    {
     "name": "stdout",
     "output_type": "stream",
     "text": [
      "\n",
      "Profile size: 100.0k(11.0%) @freq=10.0; [min(137532, 103768)]\n",
      "  7.472660 seconds (26.25 M allocations: 2.388 GiB, 5.97% gc time)\n"
     ]
    },
    {
     "name": "stdout",
     "output_type": "stream",
     "text": [
      "# swe\n",
      "total vocab: 942.707k; tokens: 1.144017M; dataset ratio: [0.48978467977311524, 0.5102153202268848](vocab) Float32[0.70399326, 0.29600677](token)"
     ]
    },
    {
     "name": "stdout",
     "output_type": "stream",
     "text": [
      "\n",
      "Profile size: 82.038k(9.0%) @freq=14.0; [min(179029, 82038)]\n",
      "  7.635079 seconds (27.42 M allocations: 2.443 GiB, 5.35% gc time)\n"
     ]
    },
    {
     "name": "stdout",
     "output_type": "stream",
     "text": [
      "# tat\n",
      "total vocab: 297.502k; tokens: 0.384202M; dataset ratio: [0.5652833665623812, 0.43471663343761874](vocab) Float32[0.55222416, 0.44777584](token)"
     ]
    },
    {
     "name": "stdout",
     "output_type": "stream",
     "text": [
      "\n",
      "Profile size: 24.989k(8.0%) @freq=51.0; [min(24989, 61440)]\n",
      "  5.806987 seconds (24.85 M allocations: 2.203 GiB, 8.12% gc time)\n"
     ]
    },
    {
     "name": "stdout",
     "output_type": "stream",
     "text": [
      "# tgl\n",
      "total vocab: 989.476k; tokens: 1.229294M; dataset ratio: [0.3675280282829006, 0.6324719717170995](vocab) Float32[0.6232946, 0.37670538](token)"
     ]
    },
    {
     "name": "stdout",
     "output_type": "stream",
     "text": [
      "\n",
      "Profile size: 93.347k(9.0%) @freq=19.0; [min(93347, 153378)]\n",
      " 11.190655 seconds (45.41 M allocations: 3.554 GiB, 9.87% gc time)\n"
     ]
    },
    {
     "name": "stdout",
     "output_type": "stream",
     "text": [
      "# tur\n",
      "total vocab: 2434.408k; tokens: 3.071216M; dataset ratio: [0.6363948351402181, 0.36360516485978195](vocab) Float32[0.9278236, 0.07217646](token)"
     ]
    },
    {
     "name": "stdout",
     "output_type": "stream",
     "text": [
      "\n",
      "Profile size: 100.0k(4.0%) @freq=157.0; [min(173191, 209694)]\n",
      " 60.589694 seconds (218.83 M allocations: 14.080 GiB, 21.54% gc time)"
     ]
    },
    {
     "name": "stdout",
     "output_type": "stream",
     "text": [
      "\n"
     ]
    },
    {
     "name": "stdout",
     "output_type": "stream",
     "text": [
      "# ukr\n",
      "total vocab: 383.532k; tokens: 0.522609M; dataset ratio: [0.3431054574261063, 0.6568945425738937](vocab) Float32[0.7184684, 0.28153154](token)"
     ]
    },
    {
     "name": "stdout",
     "output_type": "stream",
     "text": [
      "\n",
      "Profile size: 21.256k(6.0%) @freq=359.0; [min(21256, 105471)]\n",
      " 20.104932 seconds (99.95 M allocations: 6.677 GiB, 19.01% gc time)\n"
     ]
    },
    {
     "name": "stdout",
     "output_type": "stream",
     "text": [
      "# vie\n",
      "total vocab: 784.476k; tokens: 0.94961M; dataset ratio: [0.31165215193605794, 0.688347848063942](vocab) Float32[0.5180738, 0.48192617](token)"
     ]
    },
    {
     "name": "stdout",
     "output_type": "stream",
     "text": [
      "\n",
      "Profile size: 90.37k(12.0%) @freq=11.0; [min(90370, 100729)]\n",
      "  8.850201 seconds (27.08 M allocations: 2.406 GiB, 21.00% gc time)\n"
     ]
    },
    {
     "name": "stdout",
     "output_type": "stream",
     "text": [
      "# yid\n",
      "total vocab: 143.749k; tokens: 0.19603M; dataset ratio: [0.3226393919298067, 0.6773606080701934](vocab) Float32[0.27865636, 0.72134364](token)"
     ]
    },
    {
     "name": "stdout",
     "output_type": "stream",
     "text": [
      "\n",
      "Profile size: 10.043k(7.0%) @freq=125.0; [min(10043, 41927)]\n",
      "  7.620894 seconds (33.26 M allocations: 2.650 GiB, 20.07% gc time)\n"
     ]
    },
    {
     "name": "stdout",
     "output_type": "stream",
     "text": [
      "# zho\n",
      "total vocab: 4264.385k; tokens: 4.779538M; dataset ratio: [0.426213788864112, 0.573786211135888](vocab) Float32[0.5649874, 0.4350126](token)"
     ]
    },
    {
     "name": "stdout",
     "output_type": "stream",
     "text": [
      "\n",
      "Profile size: 100.0k(2.0%) @freq=21.0; [min(1697106, 216515)]\n",
      " 22.586473 seconds (39.64 M allocations: 3.728 GiB, 22.55% gc time)"
     ]
    },
    {
     "name": "stdout",
     "output_type": "stream",
     "text": [
      "\n"
     ]
    },
    {
     "name": "stdout",
     "output_type": "stream",
     "text": [
      "1703.548984 seconds (5.51 G allocations: 675.745 GiB, 17.66% gc time, 0.13% compilation time)\n"
     ]
    }
   ],
   "source": [
    "@time build_ngram_profiles(LANGS, \"ngrams\")"
   ]
  },
  {
   "cell_type": "code",
   "execution_count": 3,
   "metadata": {},
   "outputs": [
    {
     "name": "stdout",
     "output_type": "stream",
     "text": [
      "# yid\n"
     ]
    },
    {
     "name": "stdout",
     "output_type": "stream",
     "text": [
      "total vocab: 135.062k; tokens: 0.1862M; dataset ratio: [0.33967239527389903, 0.660327604726101](vocab) [0.32930428350561436, 0.6706957164943856](token)\n",
      "Profile size: 10.008k(7.0%) @freq=162.0; [min(10008, 41673)]\n",
      "  7.859272 seconds (29.87 M allocations: 2.480 GiB, 12.81% gc time)\n"
     ]
    },
    {
     "name": "stdout",
     "output_type": "stream",
     "text": [
      "# zho\n"
     ]
    },
    {
     "name": "stdout",
     "output_type": "stream",
     "text": [
      "total vocab: 3838.139k; tokens: 4.300675M; dataset ratio: [0.4736709935068332, 0.5263290064931667](vocab) [0.6262618895235783, 0.3737381104764217](token)\n",
      "Profile size: 100.0k(3.0%) @freq=17.0; [min(1586276, 172656)]"
     ]
    },
    {
     "name": "stdout",
     "output_type": "stream",
     "text": [
      "\n",
      " 21.605402 seconds (36.92 M allocations: 3.748 GiB, 22.87% gc time)\n"
     ]
    },
    {
     "name": "stdout",
     "output_type": "stream",
     "text": [
      " 29.862584 seconds (69.11 M allocations: 6.511 GiB, 20.30% gc time)\n"
     ]
    }
   ],
   "source": [
    "@time build_ngram_profiles(LANGS[end-1:end], \"ngrams\")"
   ]
  },
  {
   "cell_type": "code",
   "execution_count": 8,
   "metadata": {},
   "outputs": [
    {
     "name": "stderr",
     "output_type": "stream",
     "text": [
      "WARNING: redefinition of constant TLANGS. This may fail, cause incorrect answers, or produce other errors.\n",
      "WARNING: redefinition of constant WLANGS. This may fail, cause incorrect answers, or produce other errors.\n",
      "WARNING: redefinition of constant LANGS. This may fail, cause incorrect answers, or produce other errors.\n",
      "WARNING: redefinition of constant WLANGMAP. This may fail, cause incorrect answers, or produce other errors.\n",
      "WARNING: redefinition of constant TLANGMAP. This may fail, cause incorrect answers, or produce other errors.\n",
      "WARNING: redefinition of constant REV_WLANGMAP. This may fail, cause incorrect answers, or produce other errors.\n",
      "WARNING: redefinition of constant REV_TLANGMAP. This may fail, cause incorrect answers, or produce other errors.\n"
     ]
    },
    {
     "data": {
      "text/plain": [
       "build_all_ngrams_profiles (generic function with 1 method)"
      ]
     },
     "metadata": {},
     "output_type": "display_data"
    }
   ],
   "source": [
    "include(\"build_profiles.jl\")\n"
   ]
  },
  {
   "cell_type": "code",
   "execution_count": 11,
   "metadata": {},
   "outputs": [
    {
     "name": "stdout",
     "output_type": "stream",
     "text": [
      "# ben\n",
      "total vocab: 119.452k; tokens: 0.142487M; dataset ratio: [0.16760125485131977, 0.8323987451486803](vocab) Float32[0.1589021, 0.8410979](token)"
     ]
    },
    {
     "name": "stdout",
     "output_type": "stream",
     "text": [
      "\n",
      "Profile size: 2.917k(2.0%) @freq=1136.0; [min(2917, 17844)]\n"
     ]
    },
    {
     "data": {
      "text/plain": [
       "(Float32[29.24378, 29.05927, 28.875776, 28.695269, 28.51558, 28.334982, 28.154366], Pair{Vector{UInt8}, Float32}[[0xa6] => 7.969062, [0xe0] => 7.731554, [0xe0, 0xa6] => 7.722473, [0x20] => 5.974077, [0x20, 0xe0] => 5.7742343, [0x20, 0xe0, 0xa6] => 5.7696047, [0xb0] => 1.035716, [0xa6, 0xb0] => 1.0354671, [0xe0, 0xa6, 0xb0] => 1.0354671, [0xb0, 0x20] => 0.85204685  …  [0xa6, 0x20, 0xe0, 0xa6, 0x95, 0x20] => 0.006181228, [0xa6, 0xa6, 0x20, 0xe0, 0xa6, 0x95, 0x20] => 0.006181228, [0xa6, 0xb8, 0xe0, 0xa6, 0xb9] => 0.006178718, [0xe0, 0xa6, 0xb8, 0xe0, 0xa6, 0xb9] => 0.006178718, [0x9f, 0x20, 0xe0, 0xa6, 0xaa, 0x20] => 0.0061763423, [0x9f, 0x20, 0xe0, 0xa6, 0xaa, 0x20, 0xe0] => 0.0061763423, [0xa6, 0x9f, 0x20, 0xe0, 0xa6, 0xaa, 0x20] => 0.0061763423, [0xb2, 0x20, 0xe0, 0xa6, 0x86] => 0.0061759157, [0xa6, 0xb2, 0x20, 0xe0, 0xa6, 0x86] => 0.0061759157, [0xe0, 0xa6, 0xb2, 0x20, 0xe0, 0xa6, 0x86] => 0.0061759157])"
      ]
     },
     "metadata": {},
     "output_type": "display_data"
    }
   ],
   "source": [
    "h,D = build_ngram_profile(\"ben\")"
   ]
  },
  {
   "cell_type": "code",
   "execution_count": 38,
   "metadata": {},
   "outputs": [],
   "source": [
    "dump_ngram_table(h, D, \"nt.txt\", compress_level=0)"
   ]
  },
  {
   "cell_type": "code",
   "execution_count": 39,
   "metadata": {},
   "outputs": [
    {
     "data": {
      "text/plain": [
       "(Float32[28.294203, 28.028467, 27.762024, 27.495188, 27.227724, 26.957682, 26.680351], Any[UInt8[0xd7] => 12.22566f0, UInt8[0x20] => 3.8148732f0, UInt8[0x20, 0xd7] => 3.5415354f0, UInt8[0x99] => 1.5719957f0, UInt8[0xd7, 0x99] => 1.5719957f0, UInt8[0x90] => 1.4738423f0, UInt8[0xd7, 0x90] => 1.4738423f0, UInt8[0x99, 0xd7] => 1.3780934f0, UInt8[0xd7, 0x99, 0xd7] => 1.3780934f0, UInt8[0xa2] => 1.1610758f0  …  UInt8[0xd7, 0xa2, 0xd7, 0x9d, 0x20, 0xd7, 0xa1] => 0.0016291593f0, UInt8[0x95, 0xd7, 0x96, 0xd7, 0x90] => 0.0016289278f0, UInt8[0xd7, 0x95, 0xd7, 0x96, 0xd7, 0x90] => 0.0016289278f0, UInt8[0x97, 0xd7, 0x94, 0x20, 0xd7] => 0.0016286962f0, UInt8[0xd7, 0x97, 0xd7, 0x94, 0x20, 0xd7] => 0.0016286962f0, UInt8[0x20, 0xd7, 0xa9, 0xd7, 0x9e, 0xd7, 0x95] => 0.001628505f0, UInt8[0x93, 0xd7, 0x96, 0xd7, 0xa2] => 0.0016281932f0, UInt8[0x93, 0xd7, 0x96, 0xd7, 0xa2, 0xd7] => 0.0016281932f0, UInt8[0xd7, 0x93, 0xd7, 0x96, 0xd7, 0xa2] => 0.0016281932f0, UInt8[0xd7, 0x93, 0xd7, 0x96, 0xd7, 0xa2, 0xd7] => 0.0016281932f0])"
      ]
     },
     "metadata": {},
     "output_type": "display_data"
    }
   ],
   "source": [
    "h2, D2 = load_ngram_table(\"nt.txt\")"
   ]
  },
  {
   "cell_type": "code",
   "execution_count": 40,
   "metadata": {},
   "outputs": [
    {
     "data": {
      "text/plain": [
       "(true, true)"
      ]
     },
     "metadata": {},
     "output_type": "display_data"
    }
   ],
   "source": [
    "D==D2, h==h2"
   ]
  },
  {
   "cell_type": "code",
   "execution_count": 16,
   "metadata": {},
   "outputs": [
    {
     "name": "stdout",
     "output_type": "stream",
     "text": [
      "63\n"
     ]
    },
    {
     "name": "stdout",
     "output_type": "stream",
     "text": [
      "  0.304139 seconds (1.22 M allocations: 356.017 MiB, 15.44% gc time)\n",
      "62\n"
     ]
    },
    {
     "name": "stdout",
     "output_type": "stream",
     "text": [
      "  0.298373 seconds (1.20 M allocations: 350.491 MiB, 13.30% gc time)\n",
      "61\n"
     ]
    },
    {
     "name": "stdout",
     "output_type": "stream",
     "text": [
      "  0.325974 seconds (1.18 M allocations: 344.960 MiB, 14.94% gc time)\n",
      "60\n"
     ]
    },
    {
     "name": "stdout",
     "output_type": "stream",
     "text": [
      "  0.298288 seconds (1.17 M allocations: 339.423 MiB, 14.86% gc time)\n",
      "59\n"
     ]
    },
    {
     "name": "stdout",
     "output_type": "stream",
     "text": [
      "  0.295412 seconds (1.15 M allocations: 333.887 MiB, 12.41% gc time)\n",
      "58\n"
     ]
    },
    {
     "name": "stdout",
     "output_type": "stream",
     "text": [
      "  0.279533 seconds (1.13 M allocations: 328.349 MiB, 14.19% gc time)\n",
      "57\n"
     ]
    },
    {
     "name": "stdout",
     "output_type": "stream",
     "text": [
      "  0.261941 seconds (1.11 M allocations: 322.807 MiB, 12.40% gc time)\n",
      "56\n"
     ]
    },
    {
     "name": "stdout",
     "output_type": "stream",
     "text": [
      "  0.287190 seconds (1.09 M allocations: 317.267 MiB, 13.85% gc time)\n",
      "55\n"
     ]
    },
    {
     "name": "stdout",
     "output_type": "stream",
     "text": [
      "  0.262148 seconds (1.08 M allocations: 311.725 MiB, 13.02% gc time)\n",
      "54\n"
     ]
    },
    {
     "name": "stdout",
     "output_type": "stream",
     "text": [
      "  0.268184 seconds (1.06 M allocations: 306.172 MiB, 13.15% gc time)\n",
      "53\n"
     ]
    },
    {
     "name": "stdout",
     "output_type": "stream",
     "text": [
      "  0.277030 seconds (1.04 M allocations: 300.620 MiB, 14.33% gc time)\n",
      "52\n"
     ]
    },
    {
     "name": "stdout",
     "output_type": "stream",
     "text": [
      "  0.255394 seconds (1.02 M allocations: 295.072 MiB, 15.56% gc time)\n",
      "51\n"
     ]
    },
    {
     "name": "stdout",
     "output_type": "stream",
     "text": [
      "  0.241633 seconds (1.00 M allocations: 289.509 MiB, 12.66% gc time)\n",
      "50\n"
     ]
    },
    {
     "name": "stdout",
     "output_type": "stream",
     "text": [
      "  0.240550 seconds (985.54 k allocations: 283.951 MiB, 15.19% gc time)\n",
      "49\n"
     ]
    },
    {
     "name": "stdout",
     "output_type": "stream",
     "text": [
      "  0.247517 seconds (967.33 k allocations: 278.381 MiB, 13.21% gc time)\n",
      "48\n"
     ]
    },
    {
     "name": "stdout",
     "output_type": "stream",
     "text": [
      "  0.256547 seconds (949.03 k allocations: 272.812 MiB, 12.59% gc time)\n",
      "47\n"
     ]
    },
    {
     "name": "stdout",
     "output_type": "stream",
     "text": [
      "  0.260548 seconds (930.87 k allocations: 267.240 MiB, 13.01% gc time)\n",
      "46\n"
     ]
    },
    {
     "name": "stdout",
     "output_type": "stream",
     "text": [
      "  0.231222 seconds (912.72 k allocations: 261.664 MiB, 13.92% gc time)\n",
      "45\n"
     ]
    },
    {
     "name": "stdout",
     "output_type": "stream",
     "text": [
      "  0.234872 seconds (894.56 k allocations: 256.091 MiB, 13.79% gc time)\n",
      "44\n"
     ]
    },
    {
     "name": "stdout",
     "output_type": "stream",
     "text": [
      "  0.219164 seconds (876.40 k allocations: 250.515 MiB, 12.24% gc time)\n",
      "43\n"
     ]
    },
    {
     "name": "stdout",
     "output_type": "stream",
     "text": [
      "  0.234528 seconds (858.18 k allocations: 244.936 MiB, 15.64% gc time)\n",
      "42\n"
     ]
    },
    {
     "name": "stdout",
     "output_type": "stream",
     "text": [
      "  0.211464 seconds (840.04 k allocations: 239.360 MiB, 14.01% gc time)\n",
      "41\n"
     ]
    },
    {
     "name": "stdout",
     "output_type": "stream",
     "text": [
      "  0.236656 seconds (821.88 k allocations: 233.782 MiB, 12.49% gc time)\n",
      "40\n"
     ]
    },
    {
     "name": "stdout",
     "output_type": "stream",
     "text": [
      "  0.189501 seconds (803.70 k allocations: 228.199 MiB, 11.84% gc time)\n",
      "39\n"
     ]
    },
    {
     "name": "stdout",
     "output_type": "stream",
     "text": [
      "  0.199461 seconds (785.52 k allocations: 222.608 MiB, 14.21% gc time)\n",
      "38\n"
     ]
    },
    {
     "name": "stdout",
     "output_type": "stream",
     "text": [
      "  0.200043 seconds (767.36 k allocations: 217.021 MiB, 13.07% gc time)\n",
      "37\n"
     ]
    },
    {
     "name": "stdout",
     "output_type": "stream",
     "text": [
      "  0.206141 seconds (749.19 k allocations: 211.435 MiB, 13.80% gc time)\n",
      "36\n"
     ]
    },
    {
     "name": "stdout",
     "output_type": "stream",
     "text": [
      "  0.190925 seconds (731.03 k allocations: 205.846 MiB, 13.91% gc time)\n",
      "35\n"
     ]
    },
    {
     "name": "stdout",
     "output_type": "stream",
     "text": [
      "  0.174893 seconds (712.86 k allocations: 200.252 MiB, 14.69% gc time)\n",
      "34\n"
     ]
    },
    {
     "name": "stdout",
     "output_type": "stream",
     "text": [
      "  0.177154 seconds (694.71 k allocations: 194.657 MiB, 10.78% gc time)\n",
      "33\n"
     ]
    },
    {
     "name": "stdout",
     "output_type": "stream",
     "text": [
      "  0.175205 seconds (676.52 k allocations: 189.069 MiB, 16.68% gc time)\n",
      "32\n"
     ]
    },
    {
     "name": "stdout",
     "output_type": "stream",
     "text": [
      "  0.170344 seconds (658.32 k allocations: 183.467 MiB, 12.19% gc time)\n",
      "31\n"
     ]
    },
    {
     "name": "stdout",
     "output_type": "stream",
     "text": [
      "  0.163353 seconds (640.12 k allocations: 177.868 MiB, 12.18% gc time)\n",
      "30\n"
     ]
    },
    {
     "name": "stdout",
     "output_type": "stream",
     "text": [
      "  0.151562 seconds (621.90 k allocations: 172.263 MiB, 10.86% gc time)\n",
      "29\n"
     ]
    },
    {
     "name": "stdout",
     "output_type": "stream",
     "text": [
      "  0.216837 seconds (603.62 k allocations: 166.652 MiB, 12.88% gc time)\n",
      "28\n"
     ]
    },
    {
     "name": "stdout",
     "output_type": "stream",
     "text": [
      "  0.156096 seconds (585.40 k allocations: 161.047 MiB, 12.06% gc time)\n",
      "27\n"
     ]
    },
    {
     "name": "stdout",
     "output_type": "stream",
     "text": [
      "  0.148513 seconds (567.20 k allocations: 155.436 MiB, 11.35% gc time)\n",
      "26\n"
     ]
    },
    {
     "name": "stdout",
     "output_type": "stream",
     "text": [
      "  0.146261 seconds (549.01 k allocations: 149.824 MiB, 12.06% gc time)\n",
      "25\n"
     ]
    },
    {
     "name": "stdout",
     "output_type": "stream",
     "text": [
      "  0.133378 seconds (530.77 k allocations: 144.213 MiB, 13.18% gc time)\n",
      "24\n"
     ]
    },
    {
     "name": "stdout",
     "output_type": "stream",
     "text": [
      "  0.121753 seconds (512.43 k allocations: 138.592 MiB, 13.07% gc time)\n",
      "23\n"
     ]
    },
    {
     "name": "stdout",
     "output_type": "stream",
     "text": [
      "  0.131649 seconds (494.13 k allocations: 132.973 MiB, 12.33% gc time)\n",
      "22\n"
     ]
    },
    {
     "name": "stdout",
     "output_type": "stream",
     "text": [
      "  0.125380 seconds (475.81 k allocations: 127.354 MiB, 13.85% gc time)\n",
      "21\n"
     ]
    },
    {
     "name": "stdout",
     "output_type": "stream",
     "text": [
      "  0.121479 seconds (457.48 k allocations: 121.729 MiB, 16.03% gc time)\n",
      "20\n"
     ]
    },
    {
     "name": "stdout",
     "output_type": "stream",
     "text": [
      "  0.111778 seconds (439.14 k allocations: 116.107 MiB, 15.20% gc time)\n",
      "19\n"
     ]
    },
    {
     "name": "stdout",
     "output_type": "stream",
     "text": [
      "  0.107583 seconds (420.72 k allocations: 110.469 MiB, 10.41% gc time)\n",
      "18\n"
     ]
    },
    {
     "name": "stdout",
     "output_type": "stream",
     "text": [
      "  0.103678 seconds (402.27 k allocations: 104.828 MiB, 11.67% gc time)\n",
      "17\n"
     ]
    },
    {
     "name": "stdout",
     "output_type": "stream",
     "text": [
      "  0.097158 seconds (383.82 k allocations: 99.188 MiB, 12.72% gc time)\n",
      "16\n"
     ]
    },
    {
     "name": "stdout",
     "output_type": "stream",
     "text": [
      "  0.089428 seconds (365.38 k allocations: 93.538 MiB, 12.85% gc time)\n",
      "15\n"
     ]
    },
    {
     "name": "stdout",
     "output_type": "stream",
     "text": [
      "  0.103033 seconds (346.90 k allocations: 87.889 MiB, 20.43% gc time)\n",
      "14\n",
      "  0.081054 seconds (328.36 k allocations: 82.241 MiB, 8.09% gc time)\n"
     ]
    },
    {
     "name": "stdout",
     "output_type": "stream",
     "text": [
      "13\n",
      "  0.082368 seconds (309.83 k allocations: 76.596 MiB, 14.20% gc time)\n"
     ]
    },
    {
     "name": "stdout",
     "output_type": "stream",
     "text": [
      "12\n",
      "  0.082697 seconds (291.21 k allocations: 70.943 MiB, 17.12% gc time)\n"
     ]
    },
    {
     "name": "stdout",
     "output_type": "stream",
     "text": [
      "11\n",
      "  0.061959 seconds (272.63 k allocations: 65.285 MiB, 9.27% gc time)\n",
      "10\n"
     ]
    },
    {
     "name": "stdout",
     "output_type": "stream",
     "text": [
      "  0.056019 seconds (254.01 k allocations: 59.628 MiB, 9.79% gc time)\n",
      "9\n",
      "  0.062403 seconds (235.37 k allocations: 53.971 MiB, 7.27% gc time)\n",
      "8\n"
     ]
    },
    {
     "name": "stdout",
     "output_type": "stream",
     "text": [
      "  0.050347 seconds (216.76 k allocations: 48.305 MiB, 9.80% gc time)\n",
      "7\n",
      "  0.054194 seconds (198.24 k allocations: 42.648 MiB, 11.11% gc time)\n",
      "6\n"
     ]
    },
    {
     "name": "stdout",
     "output_type": "stream",
     "text": [
      "  0.040564 seconds (179.60 k allocations: 36.984 MiB, 14.27% gc time)\n",
      "5\n",
      "  0.040295 seconds (160.86 k allocations: 31.301 MiB, 20.81% gc time)\n",
      "4\n"
     ]
    },
    {
     "name": "stdout",
     "output_type": "stream",
     "text": [
      "  0.028306 seconds (142.05 k allocations: 25.629 MiB, 21.63% gc time)\n",
      "3\n",
      "  0.020315 seconds (122.98 k allocations: 19.945 MiB)\n",
      "2\n",
      "  0.024066 seconds (103.89 k allocations: 14.216 MiB, 21.12% gc time)\n",
      "1\n"
     ]
    },
    {
     "name": "stdout",
     "output_type": "stream",
     "text": [
      "  0.007896 seconds (84.26 k allocations: 8.496 MiB)\n",
      "0\n",
      "  0.004130 seconds (59.59 k allocations: 2.674 MiB)\n"
     ]
    }
   ],
   "source": [
    "for cl in 63:-1:0\n",
    "    println(cl)\n",
    "    @time dump_ngram_table(h, D, \"ct3/$(string(cl, pad=2)).txt\", compress_level=cl)\n",
    "    h2, D2 = load_ngram_table(\"ct3/$(string(cl, pad=2)).txt\")\n",
    "    @assert D==D2 && h==h2\n",
    "end"
   ]
  },
  {
   "cell_type": "code",
   "execution_count": 13,
   "metadata": {},
   "outputs": [
    {
     "name": "stdout",
     "output_type": "stream",
     "text": [
      "总计 1756\n",
      "-rw-rw-r-- 1 guoyongzhi guoyongzhi 52287  8月 24 13:35 00.txt\n",
      "-rw-rw-r-- 1 guoyongzhi guoyongzhi 26125  8月 24 13:35 01.txt\n",
      "-rw-rw-r-- 1 guoyongzhi guoyongzhi 26042  8月 24 13:35 02.txt\n",
      "-rw-rw-r-- 1 guoyongzhi guoyongzhi 25982  8月 24 13:35 03.txt\n",
      "-rw-rw-r-- 1 guoyongzhi guoyongzhi 25851  8月 24 13:35 04.txt\n",
      "-rw-rw-r-- 1 guoyongzhi guoyongzhi 25784  8月 24 13:35 05.txt\n",
      "-rw-rw-r-- 1 guoyongzhi guoyongzhi 25735  8月 24 13:35 06.txt\n",
      "-rw-rw-r-- 1 guoyongzhi guoyongzhi 25655  8月 24 13:35 07.txt\n",
      "-rw-rw-r-- 1 guoyongzhi guoyongzhi 25570  8月 24 13:35 08.txt\n",
      "-rw-rw-r-- 1 guoyongzhi guoyongzhi 25491  8月 24 13:35 09.txt\n",
      "-rw-rw-r-- 1 guoyongzhi guoyongzhi 25453  8月 24 13:35 10.txt\n",
      "-rw-rw-r-- 1 guoyongzhi guoyongzhi 25399  8月 24 13:35 11.txt\n",
      "-rw-rw-r-- 1 guoyongzhi guoyongzhi 25359  8月 24 13:35 12.txt\n",
      "-rw-rw-r-- 1 guoyongzhi guoyongzhi 25325  8月 24 13:35 13.txt\n",
      "-rw-rw-r-- 1 guoyongzhi guoyongzhi 25279  8月 24 13:35 14.txt\n",
      "-rw-rw-r-- 1 guoyongzhi guoyongzhi 25241  8月 24 13:35 15.txt\n",
      "-rw-rw-r-- 1 guoyongzhi guoyongzhi 25191  8月 24 13:35 16.txt\n",
      "-rw-rw-r-- 1 guoyongzhi guoyongzhi 25160  8月 24 13:35 17.txt\n",
      "-rw-rw-r-- 1 guoyongzhi guoyongzhi 25135  8月 24 13:35 18.txt\n",
      "-rw-rw-r-- 1 guoyongzhi guoyongzhi 25109  8月 24 13:35 19.txt\n",
      "-rw-rw-r-- 1 guoyongzhi guoyongzhi 25080  8月 24 13:35 20.txt\n",
      "-rw-rw-r-- 1 guoyongzhi guoyongzhi 25058  8月 24 13:35 21.txt\n",
      "-rw-rw-r-- 1 guoyongzhi guoyongzhi 25021  8月 24 13:35 22.txt\n",
      "-rw-rw-r-- 1 guoyongzhi guoyongzhi 24999  8月 24 13:35 23.txt\n",
      "-rw-rw-r-- 1 guoyongzhi guoyongzhi 24968  8月 24 13:35 24.txt\n",
      "-rw-rw-r-- 1 guoyongzhi guoyongzhi 24947  8月 24 13:35 25.txt\n",
      "-rw-rw-r-- 1 guoyongzhi guoyongzhi 24931  8月 24 13:35 26.txt\n",
      "-rw-rw-r-- 1 guoyongzhi guoyongzhi 24901  8月 24 13:35 27.txt\n",
      "-rw-rw-r-- 1 guoyongzhi guoyongzhi 24879  8月 24 13:35 28.txt\n",
      "-rw-rw-r-- 1 guoyongzhi guoyongzhi 24846  8月 24 13:35 29.txt\n",
      "-rw-rw-r-- 1 guoyongzhi guoyongzhi 24828  8月 24 13:35 30.txt\n",
      "-rw-rw-r-- 1 guoyongzhi guoyongzhi 24798  8月 24 13:35 31.txt\n",
      "-rw-rw-r-- 1 guoyongzhi guoyongzhi 24779  8月 24 13:35 32.txt\n",
      "-rw-rw-r-- 1 guoyongzhi guoyongzhi 24766  8月 24 13:35 33.txt\n",
      "-rw-rw-r-- 1 guoyongzhi guoyongzhi 24754  8月 24 13:35 34.txt\n",
      "-rw-rw-r-- 1 guoyongzhi guoyongzhi 24738  8月 24 13:35 35.txt\n",
      "-rw-rw-r-- 1 guoyongzhi guoyongzhi 24717  8月 24 13:35 36.txt\n",
      "-rw-rw-r-- 1 guoyongzhi guoyongzhi 24707  8月 24 13:35 37.txt\n",
      "-rw-rw-r-- 1 guoyongzhi guoyongzhi 24698  8月 24 13:35 38.txt\n",
      "-rw-rw-r-- 1 guoyongzhi guoyongzhi 24686  8月 24 13:35 39.txt\n",
      "-rw-rw-r-- 1 guoyongzhi guoyongzhi 24673  8月 24 13:35 40.txt\n",
      "-rw-rw-r-- 1 guoyongzhi guoyongzhi 24665  8月 24 13:35 41.txt\n",
      "-rw-rw-r-- 1 guoyongzhi guoyongzhi 24655  8月 24 13:35 42.txt\n",
      "-rw-rw-r-- 1 guoyongzhi guoyongzhi 24645  8月 24 13:35 43.txt\n",
      "-rw-rw-r-- 1 guoyongzhi guoyongzhi 24626  8月 24 13:35 44.txt\n",
      "-rw-rw-r-- 1 guoyongzhi guoyongzhi 24623  8月 24 13:35 45.txt\n",
      "-rw-rw-r-- 1 guoyongzhi guoyongzhi 24614  8月 24 13:35 46.txt\n",
      "-rw-rw-r-- 1 guoyongzhi guoyongzhi 24599  8月 24 13:35 47.txt\n",
      "-rw-rw-r-- 1 guoyongzhi guoyongzhi 24591  8月 24 13:35 48.txt\n",
      "-rw-rw-r-- 1 guoyongzhi guoyongzhi 24573  8月 24 13:35 49.txt\n",
      "-rw-rw-r-- 1 guoyongzhi guoyongzhi 24567  8月 24 13:35 50.txt\n",
      "-rw-rw-r-- 1 guoyongzhi guoyongzhi 24559  8月 24 13:35 51.txt\n",
      "-rw-rw-r-- 1 guoyongzhi guoyongzhi 24554  8月 24 13:35 52.txt\n",
      "-rw-rw-r-- 1 guoyongzhi guoyongzhi 24550  8月 24 13:35 53.txt\n",
      "-rw-rw-r-- 1 guoyongzhi guoyongzhi 24543  8月 24 13:35 54.txt\n",
      "-rw-rw-r-- 1 guoyongzhi guoyongzhi 24537  8月 24 13:35 55.txt\n",
      "-rw-rw-r-- 1 guoyongzhi guoyongzhi 24532  8月 24 13:35 56.txt\n",
      "-rw-rw-r-- 1 guoyongzhi guoyongzhi 24527  8月 24 13:35 57.txt\n",
      "-rw-rw-r-- 1 guoyongzhi guoyongzhi 24515  8月 24 13:35 58.txt\n",
      "-rw-rw-r-- 1 guoyongzhi guoyongzhi 24503  8月 24 13:35 59.txt\n",
      "-rw-rw-r-- 1 guoyongzhi guoyongzhi 24500  8月 24 13:35 60.txt\n",
      "-rw-rw-r-- 1 guoyongzhi guoyongzhi 24500  8月 24 13:35 61.txt\n",
      "-rw-rw-r-- 1 guoyongzhi guoyongzhi 24480  8月 24 13:35 62.txt\n",
      "-rw-rw-r-- 1 guoyongzhi guoyongzhi 24478  8月 24 13:35 63.txt\n"
     ]
    },
    {
     "data": {
      "text/plain": [
       "Process(`\u001b[4mls\u001b[24m \u001b[4m-l\u001b[24m \u001b[4mct3\u001b[24m`, ProcessExited(0))"
      ]
     },
     "metadata": {},
     "output_type": "display_data"
    }
   ],
   "source": [
    "`ls -l ct3`|>run"
   ]
  },
  {
   "cell_type": "code",
   "execution_count": 15,
   "metadata": {},
   "outputs": [
    {
     "name": "stdout",
     "output_type": "stream",
     "text": [
      "总计 57504\n",
      "-rw-rw-r-- 1 guoyongzhi guoyongzhi 1260021  8月 24 13:32 00.txt\n",
      "-rw-rw-r-- 1 guoyongzhi guoyongzhi 1031312  8月 24 13:32 01.txt\n",
      "-rw-rw-r-- 1 guoyongzhi guoyongzhi 1015207  8月 24 13:32 02.txt\n",
      "-rw-rw-r-- 1 guoyongzhi guoyongzhi 1003574  8月 24 13:32 03.txt\n",
      "-rw-rw-r-- 1 guoyongzhi guoyongzhi  994241  8月 24 13:32 04.txt\n",
      "-rw-rw-r-- 1 guoyongzhi guoyongzhi  986098  8月 24 13:32 05.txt\n",
      "-rw-rw-r-- 1 guoyongzhi guoyongzhi  979475  8月 24 13:32 06.txt\n",
      "-rw-rw-r-- 1 guoyongzhi guoyongzhi  973532  8月 24 13:32 07.txt\n",
      "-rw-rw-r-- 1 guoyongzhi guoyongzhi  967439  8月 24 13:32 08.txt\n",
      "-rw-rw-r-- 1 guoyongzhi guoyongzhi  962089  8月 24 13:32 09.txt\n",
      "-rw-rw-r-- 1 guoyongzhi guoyongzhi  957334  8月 24 13:32 10.txt\n",
      "-rw-rw-r-- 1 guoyongzhi guoyongzhi  952973  8月 24 13:32 11.txt\n",
      "-rw-rw-r-- 1 guoyongzhi guoyongzhi  948939  8月 24 13:31 12.txt\n",
      "-rw-rw-r-- 1 guoyongzhi guoyongzhi  945096  8月 24 13:31 13.txt\n",
      "-rw-rw-r-- 1 guoyongzhi guoyongzhi  941344  8月 24 13:31 14.txt\n",
      "-rw-rw-r-- 1 guoyongzhi guoyongzhi  937580  8月 24 13:31 15.txt\n",
      "-rw-rw-r-- 1 guoyongzhi guoyongzhi  934385  8月 24 13:31 16.txt\n",
      "-rw-rw-r-- 1 guoyongzhi guoyongzhi  931512  8月 24 13:31 17.txt\n",
      "-rw-rw-r-- 1 guoyongzhi guoyongzhi  928592  8月 24 13:31 18.txt\n",
      "-rw-rw-r-- 1 guoyongzhi guoyongzhi  925684  8月 24 13:31 19.txt\n",
      "-rw-rw-r-- 1 guoyongzhi guoyongzhi  922984  8月 24 13:31 20.txt\n",
      "-rw-rw-r-- 1 guoyongzhi guoyongzhi  920731  8月 24 13:31 21.txt\n",
      "-rw-rw-r-- 1 guoyongzhi guoyongzhi  918362  8月 24 13:31 22.txt\n",
      "-rw-rw-r-- 1 guoyongzhi guoyongzhi  915994  8月 24 13:31 23.txt\n",
      "-rw-rw-r-- 1 guoyongzhi guoyongzhi  913825  8月 24 13:31 24.txt\n",
      "-rw-rw-r-- 1 guoyongzhi guoyongzhi  911724  8月 24 13:31 25.txt\n",
      "-rw-rw-r-- 1 guoyongzhi guoyongzhi  909816  8月 24 13:31 26.txt\n",
      "-rw-rw-r-- 1 guoyongzhi guoyongzhi  907783  8月 24 13:31 27.txt\n",
      "-rw-rw-r-- 1 guoyongzhi guoyongzhi  906042  8月 24 13:31 28.txt\n",
      "-rw-rw-r-- 1 guoyongzhi guoyongzhi  904448  8月 24 13:31 29.txt\n",
      "-rw-rw-r-- 1 guoyongzhi guoyongzhi  902936  8月 24 13:31 30.txt\n",
      "-rw-rw-r-- 1 guoyongzhi guoyongzhi  901223  8月 24 13:31 31.txt\n",
      "-rw-rw-r-- 1 guoyongzhi guoyongzhi  899674  8月 24 13:31 32.txt\n",
      "-rw-rw-r-- 1 guoyongzhi guoyongzhi  898397  8月 24 13:31 33.txt\n",
      "-rw-rw-r-- 1 guoyongzhi guoyongzhi  896910  8月 24 13:30 34.txt\n",
      "-rw-rw-r-- 1 guoyongzhi guoyongzhi  895580  8月 24 13:30 35.txt\n",
      "-rw-rw-r-- 1 guoyongzhi guoyongzhi  894298  8月 24 13:30 36.txt\n",
      "-rw-rw-r-- 1 guoyongzhi guoyongzhi  893041  8月 24 13:30 37.txt\n",
      "-rw-rw-r-- 1 guoyongzhi guoyongzhi  891812  8月 24 13:30 38.txt\n",
      "-rw-rw-r-- 1 guoyongzhi guoyongzhi  890659  8月 24 13:30 39.txt\n",
      "-rw-rw-r-- 1 guoyongzhi guoyongzhi  889352  8月 24 13:30 40.txt\n",
      "-rw-rw-r-- 1 guoyongzhi guoyongzhi  888282  8月 24 13:30 41.txt\n",
      "-rw-rw-r-- 1 guoyongzhi guoyongzhi  887168  8月 24 13:30 42.txt\n",
      "-rw-rw-r-- 1 guoyongzhi guoyongzhi  886098  8月 24 13:30 43.txt\n",
      "-rw-rw-r-- 1 guoyongzhi guoyongzhi  885116  8月 24 13:30 44.txt\n",
      "-rw-rw-r-- 1 guoyongzhi guoyongzhi  884116  8月 24 13:30 45.txt\n",
      "-rw-rw-r-- 1 guoyongzhi guoyongzhi  883092  8月 24 13:30 46.txt\n",
      "-rw-rw-r-- 1 guoyongzhi guoyongzhi  882205  8月 24 13:29 47.txt\n",
      "-rw-rw-r-- 1 guoyongzhi guoyongzhi  881257  8月 24 13:29 48.txt\n",
      "-rw-rw-r-- 1 guoyongzhi guoyongzhi  880395  8月 24 13:29 49.txt\n",
      "-rw-rw-r-- 1 guoyongzhi guoyongzhi  879601  8月 24 13:29 50.txt\n",
      "-rw-rw-r-- 1 guoyongzhi guoyongzhi  878780  8月 24 13:29 51.txt\n",
      "-rw-rw-r-- 1 guoyongzhi guoyongzhi  878071  8月 24 13:29 52.txt\n",
      "-rw-rw-r-- 1 guoyongzhi guoyongzhi  877245  8月 24 13:29 53.txt\n",
      "-rw-rw-r-- 1 guoyongzhi guoyongzhi  876455  8月 24 13:29 54.txt\n",
      "-rw-rw-r-- 1 guoyongzhi guoyongzhi  875626  8月 24 13:29 55.txt\n",
      "-rw-rw-r-- 1 guoyongzhi guoyongzhi  874819  8月 24 13:29 56.txt\n",
      "-rw-rw-r-- 1 guoyongzhi guoyongzhi  873863  8月 24 13:28 57.txt\n",
      "-rw-rw-r-- 1 guoyongzhi guoyongzhi  873010  8月 24 13:28 58.txt\n",
      "-rw-rw-r-- 1 guoyongzhi guoyongzhi  872328  8月 24 13:28 59.txt\n",
      "-rw-rw-r-- 1 guoyongzhi guoyongzhi  871686  8月 24 13:28 60.txt\n",
      "-rw-rw-r-- 1 guoyongzhi guoyongzhi  871044  8月 24 13:28 61.txt\n",
      "-rw-rw-r-- 1 guoyongzhi guoyongzhi  870432  8月 24 13:28 62.txt\n",
      "-rw-rw-r-- 1 guoyongzhi guoyongzhi  869809  8月 24 13:28 63.txt\n"
     ]
    },
    {
     "data": {
      "text/plain": [
       "Process(`\u001b[4mls\u001b[24m \u001b[4m-l\u001b[24m \u001b[4mct2\u001b[24m`, ProcessExited(0))"
      ]
     },
     "metadata": {},
     "output_type": "display_data"
    }
   ],
   "source": [
    "`ls -l ct2`|>run"
   ]
  },
  {
   "cell_type": "code",
   "execution_count": 21,
   "metadata": {},
   "outputs": [
    {
     "data": {
      "text/plain": [
       "\"kkabskk\""
      ]
     },
     "metadata": {},
     "output_type": "display_data"
    }
   ],
   "source": [
    "lcs_unzip(str, refer)"
   ]
  },
  {
   "cell_type": "code",
   "execution_count": 107,
   "metadata": {},
   "outputs": [
    {
     "data": {
      "text/plain": [
       "\"aff\""
      ]
     },
     "metadata": {},
     "output_type": "display_data"
    }
   ],
   "source": [
    "string('a', \"ff\")"
   ]
  },
  {
   "cell_type": "code",
   "execution_count": 110,
   "metadata": {},
   "outputs": [
    {
     "data": {
      "text/plain": [
       "0"
      ]
     },
     "metadata": {},
     "output_type": "display_data"
    }
   ],
   "source": [
    "length(1:0)"
   ]
  },
  {
   "cell_type": "code",
   "execution_count": 111,
   "metadata": {},
   "outputs": [],
   "source": [
    "match(r\"abdc\", \"ksabcab\")"
   ]
  },
  {
   "cell_type": "code",
   "execution_count": 112,
   "metadata": {},
   "outputs": [
    {
     "data": {
      "text/plain": [
       "'Z': ASCII/Unicode U+005A (category Lu: Letter, uppercase)"
      ]
     },
     "metadata": {},
     "output_type": "display_data"
    }
   ],
   "source": [
    "Char(Int('A') + 26 - 1)"
   ]
  },
  {
   "cell_type": "code",
   "execution_count": 113,
   "metadata": {},
   "outputs": [
    {
     "data": {
      "text/plain": [
       "3-element Vector{Char}:\n",
       " 'D': ASCII/Unicode U+0044 (category Lu: Letter, uppercase)\n",
       " 'E': ASCII/Unicode U+0045 (category Lu: Letter, uppercase)\n",
       " 'F': ASCII/Unicode U+0046 (category Lu: Letter, uppercase)"
      ]
     },
     "metadata": {},
     "output_type": "display_data"
    }
   ],
   "source": [
    "Char.(Int('A') .+ findfirst(\"abc\", \"ksabcab\"))"
   ]
  },
  {
   "cell_type": "code",
   "execution_count": 114,
   "metadata": {},
   "outputs": [
    {
     "data": {
      "text/plain": [
       "splice! (generic function with 9 methods)"
      ]
     },
     "metadata": {},
     "output_type": "display_data"
    }
   ],
   "source": [
    "splice!"
   ]
  },
  {
   "cell_type": "code",
   "execution_count": 115,
   "metadata": {},
   "outputs": [
    {
     "data": {
      "text/plain": [
       "10008-element Vector{Pair{Vector{UInt8}, Float64}}:\n",
       "                                     [0xd7] => 12.132796741701616\n",
       "                                     [0x20] => 3.789403273495392\n",
       "                               [0x20, 0xd7] => 3.5162187256097748\n",
       "                                     [0x99] => 1.5591632268892548\n",
       "                               [0xd7, 0x99] => 1.5591632268892548\n",
       "                                     [0x90] => 1.4649511189375592\n",
       "                               [0xd7, 0x90] => 1.4649511189375592\n",
       "                               [0x99, 0xd7] => 1.3667675852862382\n",
       "                         [0xd7, 0x99, 0xd7] => 1.3667675852862382\n",
       "                                     [0xa2] => 1.1506468924279525\n",
       "                                            ⋮\n",
       "       [0x99, 0xd7, 0x96, 0xd7, 0x9d, 0x20] => 0.0016153944909111575\n",
       "       [0xd7, 0x99, 0xd7, 0x96, 0xd7, 0x9d] => 0.0016153944909111575\n",
       " [0xd7, 0x99, 0xd7, 0x96, 0xd7, 0x9d, 0x20] => 0.0016153944909111575\n",
       " [0x95, 0xd7, 0x99, 0xd7, 0x99, 0xd7, 0x9c] => 0.0016152803763646896\n",
       " [0x90, 0xd7, 0x9b, 0xd7, 0x98, 0xd7, 0xa2] => 0.001614766205078347\n",
       " [0xa9, 0xd7, 0x98, 0xd7, 0x90, 0xd7, 0xa8] => 0.001613737862505662\n",
       " [0xa2, 0x20, 0xd7, 0x93, 0xd7, 0x99, 0x20] => 0.0016132236912193194\n",
       " [0x93, 0xd7, 0x96, 0xd7, 0xa2, 0xd7, 0xa8] => 0.0016126407888742012\n",
       "             [0x9c, 0xd7, 0x99, 0xd7, 0x93] => 0.0016118296574361474"
      ]
     },
     "metadata": {},
     "output_type": "display_data"
    }
   ],
   "source": [
    "D2"
   ]
  },
  {
   "cell_type": "code",
   "execution_count": 116,
   "metadata": {},
   "outputs": [
    {
     "data": {
      "text/plain": [
       "10008-element Vector{Pair{Vector{UInt8}, Float64}}:\n",
       "                                     [0xd7] => 12.132796741701616\n",
       "                                     [0x20] => 3.789403273495392\n",
       "                               [0x20, 0xd7] => 3.5162187256097748\n",
       "                                     [0x99] => 1.5591632268892548\n",
       "                               [0xd7, 0x99] => 1.5591632268892548\n",
       "                                     [0x90] => 1.4649511189375592\n",
       "                               [0xd7, 0x90] => 1.4649511189375592\n",
       "                               [0x99, 0xd7] => 1.3667675852862382\n",
       "                         [0xd7, 0x99, 0xd7] => 1.3667675852862382\n",
       "                                     [0xa2] => 1.1506468924279525\n",
       "                                            ⋮\n",
       "       [0x99, 0xd7, 0x96, 0xd7, 0x9d, 0x20] => 0.0016153944909111575\n",
       "       [0xd7, 0x99, 0xd7, 0x96, 0xd7, 0x9d] => 0.0016153944909111575\n",
       " [0xd7, 0x99, 0xd7, 0x96, 0xd7, 0x9d, 0x20] => 0.0016153944909111575\n",
       " [0x95, 0xd7, 0x99, 0xd7, 0x99, 0xd7, 0x9c] => 0.0016152803763646896\n",
       " [0x90, 0xd7, 0x9b, 0xd7, 0x98, 0xd7, 0xa2] => 0.001614766205078347\n",
       " [0xa9, 0xd7, 0x98, 0xd7, 0x90, 0xd7, 0xa8] => 0.001613737862505662\n",
       " [0xa2, 0x20, 0xd7, 0x93, 0xd7, 0x99, 0x20] => 0.0016132236912193194\n",
       " [0x93, 0xd7, 0x96, 0xd7, 0xa2, 0xd7, 0xa8] => 0.0016126407888742012\n",
       "             [0x9c, 0xd7, 0x99, 0xd7, 0x93] => 0.0016118296574361474"
      ]
     },
     "metadata": {},
     "output_type": "display_data"
    }
   ],
   "source": [
    "G = D\n",
    "sort(collect(G), by=i->(-last(i), length(first(i)), first(i)))"
   ]
  },
  {
   "cell_type": "code",
   "execution_count": 117,
   "metadata": {},
   "outputs": [
    {
     "name": "stdout",
     "output_type": "stream",
     "text": [
      "# yid"
     ]
    },
    {
     "name": "stdout",
     "output_type": "stream",
     "text": [
      "\n",
      "total vocab: 135.062k; tokens: 0.1862M; dataset ratio: [0.33967239527389903, 0.660327604726101](vocab) [0.32930428350561436, 0.6706957164943856](token)\n",
      "Profile size: 10.008k(7.0%) @freq=162.0; [min(10008, 41673)]\n"
     ]
    },
    {
     "data": {
      "text/plain": [
       "(Pair{Vector{UInt8}, Float64}[[0xd7] => 12.132796741701616, [0x20] => 3.789403273495392, [0x20, 0xd7] => 3.5162187256097748, [0x99] => 1.5591632268892548, [0xd7, 0x99] => 1.5591632268892548, [0x90] => 1.4649511189375592, [0xd7, 0x90] => 1.4649511189375592, [0x99, 0xd7] => 1.3667675852862382, [0xd7, 0x99, 0xd7] => 1.3667675852862382, [0xa2] => 1.1506468924279525  …  [0x99, 0xd7, 0x96, 0xd7, 0x9d] => 0.0016153944909111575, [0x99, 0xd7, 0x96, 0xd7, 0x9d, 0x20] => 0.0016153944909111575, [0xd7, 0x99, 0xd7, 0x96, 0xd7, 0x9d] => 0.0016153944909111575, [0xd7, 0x99, 0xd7, 0x96, 0xd7, 0x9d, 0x20] => 0.0016153944909111575, [0x95, 0xd7, 0x99, 0xd7, 0x99, 0xd7, 0x9c] => 0.0016152803763646896, [0x90, 0xd7, 0x9b, 0xd7, 0x98, 0xd7, 0xa2] => 0.001614766205078347, [0xa9, 0xd7, 0x98, 0xd7, 0x90, 0xd7, 0xa8] => 0.001613737862505662, [0xa2, 0x20, 0xd7, 0x93, 0xd7, 0x99, 0x20] => 0.0016132236912193194, [0x93, 0xd7, 0x96, 0xd7, 0xa2, 0xd7, 0xa8] => 0.0016126407888742012, [0x9c, 0xd7, 0x99, 0xd7, 0x93] => 0.0016118296574361474], [28.083992735409627, 27.818596848660533, 27.553200961910875, 27.287805075161238, 27.02240918841061, 26.75701330165603, 26.49161741489397])"
      ]
     },
     "metadata": {},
     "output_type": "display_data"
    }
   ],
   "source": [
    "build_ngram_profile(\"yid\")"
   ]
  },
  {
   "cell_type": "code",
   "execution_count": 118,
   "metadata": {},
   "outputs": [
    {
     "name": "stdout",
     "output_type": "stream",
     "text": [
      "# zho\n"
     ]
    },
    {
     "name": "stdout",
     "output_type": "stream",
     "text": [
      "total vocab: 3838.139k; tokens: 4.300675M; dataset ratio: [0.4736709935068332, 0.5263290064931667](vocab) [0.6262618895235783, 0.3737381104764217](token)\n",
      "Profile size: 100.0k(3.0%) @freq=17.0; [min(1586276, 172656)]"
     ]
    },
    {
     "name": "stdout",
     "output_type": "stream",
     "text": [
      "\n",
      "# yid"
     ]
    }
   ],
   "source": [
    "build_ngram_profile(\"zho\")\n",
    "build_ngram_profile(\"yid\")\n",
    "build_ngram_profile(\"ina\")\n"
   ]
  },
  {
   "cell_type": "code",
   "execution_count": null,
   "metadata": {},
   "outputs": [],
   "source": [
    "build_ngram_profile(\"zho\", ngram=5)\n",
    "build_ngram_profile(\"yid\", ngram=5)\n",
    "build_ngram_profile(\"ina\", ngram=5)\n",
    ";"
   ]
  },
  {
   "cell_type": "code",
   "execution_count": null,
   "metadata": {},
   "outputs": [],
   "source": [
    "build_ngram_profile(\"zho\", ratio=0.7)\n",
    "build_ngram_profile(\"yid\", ratio=0.7)\n",
    "build_ngram_profile(\"ina\", ratio=0.7)\n"
   ]
  },
  {
   "cell_type": "code",
   "execution_count": null,
   "metadata": {},
   "outputs": [],
   "source": [
    "build_ngram_profile(\"zho\", ratio=0.7, ngram=5)\n",
    "build_ngram_profile(\"yid\", ratio=0.7, ngram=5)\n",
    "build_ngram_profile(\"ina\", ratio=0.7, ngram=5)\n"
   ]
  },
  {
   "cell_type": "code",
   "execution_count": null,
   "metadata": {},
   "outputs": [],
   "source": []
  }
 ],
 "metadata": {
  "kernelspec": {
   "display_name": "Julia 1.9.2",
   "language": "julia",
   "name": "julia-1.9"
  },
  "language_info": {
   "file_extension": ".jl",
   "mimetype": "application/julia",
   "name": "julia",
   "version": "1.9.2"
  },
  "orig_nbformat": 4
 },
 "nbformat": 4,
 "nbformat_minor": 2
}
