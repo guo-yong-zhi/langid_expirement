{
 "cells": [
  {
   "cell_type": "code",
   "execution_count": 2,
   "metadata": {},
   "outputs": [],
   "source": [
    "# include(\"datasetloader.jl\")\n",
    "include(\"benchmark.jl\")\n",
    "# using LanguageIdentification\n",
    "# import LanguageIdentification as LI\n",
    "using BSON"
   ]
  },
  {
   "cell_type": "markdown",
   "metadata": {},
   "source": [
    "# vocabulary"
   ]
  },
  {
   "cell_type": "markdown",
   "metadata": {},
   "source": [
    "## tatoeba"
   ]
  },
  {
   "cell_type": "code",
   "execution_count": 16,
   "metadata": {},
   "outputs": [
    {
     "data": {
      "text/markdown": [
       "|         | 100-vocab | 200-vocab | 500-vocab | 1000-vocab | 2000-vocab | 5000-vocab | 10000-vocab | 20000-vocab | 50000-vocab | 100000-vocab |\n",
       "|---------|-----------|-----------|-----------|------------|------------|------------|-------------|-------------|-------------|--------------|\n",
       "| 1-grams |    76.95% |    76.95% |         - |          - |          - |          - |           - |           - |           - |            - |\n",
       "| 2-grams |    82.32% |    86.98% |    88.97% |     89.03% |     89.03% |     89.03% |           - |           - |           - |            - |\n",
       "| 3-grams |    81.21% |    87.02% |    91.04% |     92.60% |     93.21% |     93.48% |      93.51% |      93.51% |      93.51% |            - |\n",
       "| 4-grams |    80.10% |    86.03% |    91.35% |     93.08% |     94.28% |     95.10% |      95.49% |      95.62% |      95.64% |       95.64% |\n",
       "| 5-grams |    79.97% |    85.36% |    90.69% |     92.97% |     94.48% |     95.51% |      96.15% |      96.62% |      96.85% |       96.85% |\n",
       "| 6-grams |    79.63% |    84.85% |    90.52% |     92.78% |     94.37% |     95.60% |      96.12% |      96.75% |      97.28% |       97.38% |\n",
       "| 7-grams |    78.99% |    84.35% |    90.51% |     92.67% |     94.23% |     95.55% |      96.04% |      96.68% |      97.37% |       97.55% |\n"
      ],
      "text/plain": [
       "DisplayAs.Raw.Showable{MIME{Symbol(\"text/markdown\")}}(UInt8[0x7c, 0x20, 0x20, 0x20, 0x20, 0x20, 0x20, 0x20, 0x20, 0x20  …  0x20, 0x39, 0x37, 0x2e, 0x35, 0x35, 0x25, 0x20, 0x7c, 0x0a])"
      ]
     },
     "metadata": {},
     "output_type": "display_data"
    }
   ],
   "source": [
    "BSON.@load \"benchmarks/v1/bmkmats-vocabulary-tatoeba.bson\" bmkmats\n",
    "items = [k=>sum(v)/length(v) for (k,v) in bmkmats]\n",
    "showtable_of_items(items, row_name=n->\"$n-grams\", col_name=n->\"$n-vocab\", print_raw=false)"
   ]
  },
  {
   "cell_type": "code",
   "execution_count": 22,
   "metadata": {},
   "outputs": [
    {
     "data": {
      "text/markdown": [
       "|         | 100-vocab | 200-vocab | 500-vocab | 1000-vocab | 2000-vocab | 5000-vocab | 10000-vocab | 20000-vocab | 50000-vocab | 100000-vocab |\n",
       "|---------|-----------|-----------|-----------|------------|------------|------------|-------------|-------------|-------------|--------------|\n",
       "| 1-grams |    76.95% |    76.95% |         - |          - |          - |          - |           - |           - |           - |            - |\n",
       "| 2-grams |    82.12% |    86.98% |    88.97% |     89.03% |     89.03% |     89.03% |           - |           - |           - |            - |\n",
       "| 3-grams |    80.17% |    86.94% |    91.00% |     92.58% |     93.21% |     93.48% |      93.51% |      93.51% |      93.51% |            - |\n",
       "| 4-grams |    75.89% |    85.64% |    91.25% |     93.05% |     94.29% |     95.12% |      95.49% |      95.62% |      95.64% |       95.64% |\n",
       "| 5-grams |    69.51% |    83.56% |    90.43% |     92.87% |     94.47% |     95.52% |      96.18% |      96.65% |      96.86% |       96.86% |\n",
       "| 6-grams |    63.79% |    80.43% |    89.83% |     92.61% |     94.30% |     95.55% |      96.14% |      96.78% |      97.30% |       97.40% |\n",
       "| 7-grams |    60.31% |    75.42% |    88.29% |     92.14% |     94.09% |     95.46% |      96.01% |      96.69% |      97.38% |       97.59% |\n"
      ],
      "text/plain": [
       "DisplayAs.Raw.Showable{MIME{Symbol(\"text/markdown\")}}(UInt8[0x7c, 0x20, 0x20, 0x20, 0x20, 0x20, 0x20, 0x20, 0x20, 0x20  …  0x20, 0x39, 0x37, 0x2e, 0x35, 0x39, 0x25, 0x20, 0x7c, 0x0a])"
      ]
     },
     "metadata": {},
     "output_type": "display_data"
    }
   ],
   "source": [
    "BSON.@load \"benchmarks/sp_sqrt_norm/bmkmats-vocabulary-tatoeba.bson\" bmkmats\n",
    "items = [k=>sum(v)/length(v) for (k,v) in bmkmats]\n",
    "showtable_of_items(items, row_name=n->\"$n-grams\", col_name=n->\"$n-vocab\", print_raw=false)"
   ]
  },
  {
   "cell_type": "code",
   "execution_count": 23,
   "metadata": {},
   "outputs": [
    {
     "data": {
      "text/markdown": [
       "|         | 100-vocab | 200-vocab | 500-vocab | 1000-vocab | 2000-vocab | 5000-vocab | 10000-vocab | 20000-vocab | 50000-vocab | 100000-vocab |\n",
       "|---------|-----------|-----------|-----------|------------|------------|------------|-------------|-------------|-------------|--------------|\n",
       "| 1-grams |    76.95% |    76.95% |         - |          - |          - |          - |           - |           - |           - |            - |\n",
       "| 2-grams |    81.94% |    86.97% |    88.98% |     89.03% |     89.03% |     89.03% |           - |           - |           - |            - |\n",
       "| 3-grams |    79.63% |    86.88% |    90.99% |     92.58% |     93.21% |     93.48% |      93.51% |      93.51% |      93.51% |            - |\n",
       "| 4-grams |    74.31% |    85.51% |    91.21% |     93.04% |     94.29% |     95.12% |      95.50% |      95.62% |      95.64% |       95.64% |\n",
       "| 5-grams |    66.83% |    83.28% |    90.36% |     92.83% |     94.47% |     95.53% |      96.20% |      96.65% |      96.86% |       96.87% |\n",
       "| 6-grams |    61.02% |    79.95% |    89.68% |     92.58% |     94.27% |     95.54% |      96.15% |      96.81% |      97.30% |       97.40% |\n",
       "| 7-grams |    57.03% |    74.45% |    88.10% |     92.09% |     94.05% |     95.43% |      96.01% |      96.71% |      97.40% |       97.60% |\n"
      ],
      "text/plain": [
       "DisplayAs.Raw.Showable{MIME{Symbol(\"text/markdown\")}}(UInt8[0x7c, 0x20, 0x20, 0x20, 0x20, 0x20, 0x20, 0x20, 0x20, 0x20  …  0x20, 0x39, 0x37, 0x2e, 0x36, 0x30, 0x25, 0x20, 0x7c, 0x0a])"
      ]
     },
     "metadata": {},
     "output_type": "display_data"
    }
   ],
   "source": [
    "BSON.@load \"benchmarks/sp_log_norm/bmkmats-vocabulary-tatoeba.bson\" bmkmats\n",
    "items = [k=>sum(v)/length(v) for (k,v) in bmkmats]\n",
    "showtable_of_items(items, row_name=n->\"$n-grams\", col_name=n->\"$n-vocab\", print_raw=false)"
   ]
  },
  {
   "cell_type": "code",
   "execution_count": 19,
   "metadata": {},
   "outputs": [
    {
     "data": {
      "text/markdown": [
       "|         | 100-vocab | 200-vocab | 500-vocab | 1000-vocab | 2000-vocab | 5000-vocab | 10000-vocab | 20000-vocab | 50000-vocab | 100000-vocab |\n",
       "|---------|-----------|-----------|-----------|------------|------------|------------|-------------|-------------|-------------|--------------|\n",
       "| 1-grams |    76.95% |    76.95% |         - |          - |          - |          - |           - |           - |           - |            - |\n",
       "| 2-grams |    81.75% |    86.97% |    88.98% |     89.03% |     89.03% |     89.03% |           - |           - |           - |            - |\n",
       "| 3-grams |    78.76% |    86.63% |    90.95% |     92.57% |     93.21% |     93.48% |      93.51% |      93.51% |      93.51% |            - |\n",
       "| 4-grams |    75.06% |    84.65% |    91.02% |     92.98% |     94.28% |     95.12% |      95.52% |      95.63% |      95.64% |       95.64% |\n",
       "| 5-grams |    72.04% |    82.95% |    89.95% |     92.61% |     94.38% |     95.51% |      96.22% |      96.67% |      96.87% |       96.87% |\n",
       "| 6-grams |    68.75% |    81.57% |    89.56% |     92.30% |     94.15% |     95.51% |      96.20% |      96.85% |      97.33% |       97.42% |\n",
       "| 7-grams |    64.31% |    80.08% |    88.94% |     92.07% |     93.87% |     95.43% |      96.08% |      96.79% |      97.46% |       97.63% |\n"
      ],
      "text/plain": [
       "DisplayAs.Raw.Showable{MIME{Symbol(\"text/markdown\")}}(UInt8[0x7c, 0x20, 0x20, 0x20, 0x20, 0x20, 0x20, 0x20, 0x20, 0x20  …  0x20, 0x39, 0x37, 0x2e, 0x36, 0x33, 0x25, 0x20, 0x7c, 0x0a])"
      ]
     },
     "metadata": {},
     "output_type": "display_data"
    }
   ],
   "source": [
    "BSON.@load \"benchmarks/sp_sum_norm/bmkmats-vocabulary-tatoeba.bson\" bmkmats\n",
    "items = [k=>sum(v)/length(v) for (k,v) in bmkmats]\n",
    "showtable_of_items(items, row_name=n->\"$n-grams\", col_name=n->\"$n-vocab\", print_raw=false)"
   ]
  },
  {
   "cell_type": "code",
   "execution_count": 24,
   "metadata": {},
   "outputs": [
    {
     "data": {
      "text/markdown": [
       "|         | 100-vocab | 200-vocab | 500-vocab | 1000-vocab | 2000-vocab | 5000-vocab | 10000-vocab | 20000-vocab | 50000-vocab |\n",
       "|---------|-----------|-----------|-----------|------------|------------|------------|-------------|-------------|-------------|\n",
       "| 1-grams |    76.95% |    76.95% |         - |          - |          - |          - |           - |           - |           - |\n",
       "| 2-grams |    83.95% |    88.07% |    90.19% |     90.28% |     90.28% |     90.28% |           - |           - |           - |\n",
       "| 3-grams |    82.47% |    87.99% |    91.85% |     93.51% |     94.36% |     94.75% |      94.75% |      94.75% |      94.75% |\n",
       "| 4-grams |    80.39% |    86.27% |    91.25% |     93.47% |     95.12% |     96.41% |      96.72% |      96.78% |      96.78% |\n",
       "| 5-grams |    72.48% |    81.49% |    88.42% |     91.74% |     93.80% |     94.72% |      95.08% |      95.48% |      95.56% |\n",
       "| 6-grams |    54.87% |    72.68% |    82.47% |     87.50% |     90.48% |     86.43% |      84.87% |      85.20% |      85.81% |\n",
       "| 7-grams |    49.14% |    61.29% |    71.76% |     81.42% |     81.70% |     68.59% |      64.30% |      63.69% |      63.98% |\n"
      ],
      "text/plain": [
       "DisplayAs.Raw.Showable{MIME{Symbol(\"text/markdown\")}}(UInt8[0x7c, 0x20, 0x20, 0x20, 0x20, 0x20, 0x20, 0x20, 0x20, 0x20  …  0x20, 0x36, 0x33, 0x2e, 0x39, 0x38, 0x25, 0x20, 0x7c, 0x0a])"
      ]
     },
     "metadata": {},
     "output_type": "display_data"
    }
   ],
   "source": [
    "BSON.@load \"benchmarks/single_gram/bmkmats-vocabulary-tatoeba.bson\" bmkmats\n",
    "items = [k=>sum(v)/length(v) for (k,v) in bmkmats]\n",
    "showtable_of_items(items, row_name=n->\"$n-grams\", col_name=n->\"$n-vocab\", print_raw=false)"
   ]
  },
  {
   "cell_type": "markdown",
   "metadata": {},
   "source": [
    "## wikipedia"
   ]
  },
  {
   "cell_type": "code",
   "execution_count": 13,
   "metadata": {},
   "outputs": [
    {
     "data": {
      "text/markdown": [
       "|         | 100-vocab | 200-vocab | 500-vocab | 1000-vocab | 2000-vocab | 5000-vocab | 10000-vocab | 20000-vocab | 50000-vocab | 100000-vocab |\n",
       "|---------|-----------|-----------|-----------|------------|------------|------------|-------------|-------------|-------------|--------------|\n",
       "| 1-grams |    91.99% |    91.99% |         - |          - |          - |          - |           - |           - |           - |            - |\n",
       "| 2-grams |    92.83% |    94.24% |    95.07% |     95.24% |     95.25% |     95.24% |           - |           - |           - |            - |\n",
       "| 3-grams |    93.52% |    95.26% |    96.44% |     96.28% |     96.24% |     96.30% |      96.35% |      96.35% |      96.34% |            - |\n",
       "| 4-grams |    92.09% |    96.54% |    97.30% |     97.71% |     97.85% |     98.31% |      98.37% |      98.43% |      98.45% |       98.45% |\n",
       "| 5-grams |    92.73% |    96.53% |    97.48% |     98.12% |     98.25% |     98.65% |      98.70% |      98.78% |      98.87% |       98.87% |\n",
       "| 6-grams |    91.72% |    96.25% |    97.66% |     98.05% |     98.45% |     98.73% |      98.78% |      98.91% |      99.03% |       99.10% |\n",
       "| 7-grams |    89.84% |    95.57% |    97.77% |     98.01% |     98.30% |     98.73% |      98.78% |      98.91% |      99.09% |       99.17% |\n"
      ],
      "text/plain": [
       "DisplayAs.Raw.Showable{MIME{Symbol(\"text/markdown\")}}(UInt8[0x7c, 0x20, 0x20, 0x20, 0x20, 0x20, 0x20, 0x20, 0x20, 0x20  …  0x20, 0x39, 0x39, 0x2e, 0x31, 0x37, 0x25, 0x20, 0x7c, 0x0a])"
      ]
     },
     "metadata": {},
     "output_type": "display_data"
    }
   ],
   "source": [
    "BSON.@load \"benchmarks/v1/bmkmats-vocabulary-wikipedia.bson\" bmkmats\n",
    "items = [k=>sum(v)/length(v) for (k,v) in bmkmats]\n",
    "showtable_of_items(items, row_name=n->\"$n-grams\", col_name=n->\"$n-vocab\", print_raw=false)"
   ]
  },
  {
   "cell_type": "code",
   "execution_count": 4,
   "metadata": {},
   "outputs": [
    {
     "data": {
      "text/markdown": [
       "|         | 100-vocab | 200-vocab | 500-vocab | 1000-vocab | 2000-vocab | 5000-vocab | 10000-vocab | 20000-vocab | 50000-vocab | 100000-vocab |\n",
       "|---------|-----------|-----------|-----------|------------|------------|------------|-------------|-------------|-------------|--------------|\n",
       "| 1-grams |    91.99% |    91.99% |         - |          - |          - |          - |           - |           - |           - |            - |\n",
       "| 2-grams |    92.71% |    94.24% |    95.07% |     95.24% |     95.25% |     95.24% |           - |           - |           - |            - |\n",
       "| 3-grams |    92.78% |    94.98% |    96.53% |     96.30% |     96.22% |     96.33% |      96.37% |      96.37% |      96.36% |            - |\n",
       "| 4-grams |    85.71% |    96.50% |    97.31% |     97.74% |     97.84% |     98.31% |      98.38% |      98.45% |      98.46% |       98.46% |\n",
       "| 5-grams |    76.38% |    92.93% |    97.44% |     98.14% |     98.28% |     98.65% |      98.70% |      98.82% |      98.87% |       98.87% |\n",
       "| 6-grams |    66.73% |    89.65% |    96.02% |     98.07% |     98.46% |     98.75% |      98.78% |      98.93% |      99.02% |       99.09% |\n",
       "| 7-grams |    59.96% |    80.72% |    93.90% |     97.78% |     98.35% |     98.73% |      98.82% |      98.93% |      99.09% |       99.16% |\n"
      ],
      "text/plain": [
       "DisplayAs.Raw.Showable{MIME{Symbol(\"text/markdown\")}}(UInt8[0x7c, 0x20, 0x20, 0x20, 0x20, 0x20, 0x20, 0x20, 0x20, 0x20  …  0x20, 0x39, 0x39, 0x2e, 0x31, 0x36, 0x25, 0x20, 0x7c, 0x0a])"
      ]
     },
     "metadata": {},
     "output_type": "display_data"
    }
   ],
   "source": [
    "BSON.@load \"benchmarks/sp_sqrt_norm/bmkmats-vocabulary-wikipedia.bson\" bmkmats\n",
    "items = [k=>sum(v)/length(v) for (k,v) in bmkmats]\n",
    "showtable_of_items(items, row_name=n->\"$n-grams\", col_name=n->\"$n-vocab\", print_raw=false)"
   ]
  },
  {
   "cell_type": "code",
   "execution_count": 11,
   "metadata": {},
   "outputs": [
    {
     "data": {
      "text/markdown": [
       "|         | 100-vocab | 200-vocab | 500-vocab | 1000-vocab | 2000-vocab | 5000-vocab | 10000-vocab | 20000-vocab | 50000-vocab | 100000-vocab |\n",
       "|---------|-----------|-----------|-----------|------------|------------|------------|-------------|-------------|-------------|--------------|\n",
       "| 1-grams |    91.99% |    91.99% |         - |          - |          - |          - |           - |           - |           - |            - |\n",
       "| 2-grams |    92.59% |    94.23% |    95.08% |     95.24% |     95.25% |     95.24% |           - |           - |           - |            - |\n",
       "| 3-grams |    92.17% |    94.89% |    96.55% |     96.29% |     96.22% |     96.33% |      96.37% |      96.37% |      96.36% |            - |\n",
       "| 4-grams |    83.91% |    96.44% |    97.29% |     97.72% |     97.84% |     98.31% |      98.38% |      98.45% |      98.46% |       98.46% |\n",
       "| 5-grams |    71.77% |    93.19% |    97.42% |     98.07% |     98.31% |     98.65% |      98.70% |      98.82% |      98.86% |       98.86% |\n",
       "| 6-grams |    61.00% |    89.23% |    95.93% |     98.10% |     98.49% |     98.74% |      98.79% |      98.94% |      99.03% |       99.07% |\n",
       "| 7-grams |    53.42% |    78.07% |    93.56% |     97.71% |     98.30% |     98.71% |      98.81% |      98.92% |      99.10% |       99.17% |\n"
      ],
      "text/plain": [
       "DisplayAs.Raw.Showable{MIME{Symbol(\"text/markdown\")}}(UInt8[0x7c, 0x20, 0x20, 0x20, 0x20, 0x20, 0x20, 0x20, 0x20, 0x20  …  0x20, 0x39, 0x39, 0x2e, 0x31, 0x37, 0x25, 0x20, 0x7c, 0x0a])"
      ]
     },
     "metadata": {},
     "output_type": "display_data"
    }
   ],
   "source": [
    "BSON.@load \"benchmarks/sp_log_norm/bmkmats-vocabulary-wikipedia.bson\" bmkmats\n",
    "items = [k=>sum(v)/length(v) for (k,v) in bmkmats]\n",
    "showtable_of_items(items, row_name=n->\"$n-grams\", col_name=n->\"$n-vocab\", print_raw=false)"
   ]
  },
  {
   "cell_type": "code",
   "execution_count": 14,
   "metadata": {},
   "outputs": [
    {
     "data": {
      "text/markdown": [
       "|         | 100-vocab | 200-vocab | 500-vocab | 1000-vocab | 2000-vocab | 5000-vocab | 10000-vocab | 20000-vocab | 50000-vocab | 100000-vocab |\n",
       "|---------|-----------|-----------|-----------|------------|------------|------------|-------------|-------------|-------------|--------------|\n",
       "| 1-grams |    91.99% |    91.99% |         - |          - |          - |          - |           - |           - |           - |            - |\n",
       "| 2-grams |    92.27% |    94.24% |    95.08% |     95.24% |     95.25% |     95.24% |           - |           - |           - |            - |\n",
       "| 3-grams |    90.98% |    94.70% |    96.51% |     96.32% |     96.22% |     96.34% |      96.37% |      96.37% |      96.36% |            - |\n",
       "| 4-grams |    82.89% |    94.66% |    97.17% |     97.70% |     97.85% |     98.33% |      98.40% |      98.46% |      98.47% |       98.47% |\n",
       "| 5-grams |    76.96% |    91.69% |    96.70% |     98.07% |     98.35% |     98.68% |      98.71% |      98.82% |      98.86% |       98.86% |\n",
       "| 6-grams |    70.75% |    90.20% |    96.49% |     97.84% |     98.50% |     98.78% |      98.81% |      98.94% |      99.03% |       99.07% |\n",
       "| 7-grams |    62.93% |    88.50% |    95.42% |     97.62% |     98.29% |     98.71% |      98.78% |      98.92% |      99.11% |       99.16% |\n"
      ],
      "text/plain": [
       "DisplayAs.Raw.Showable{MIME{Symbol(\"text/markdown\")}}(UInt8[0x7c, 0x20, 0x20, 0x20, 0x20, 0x20, 0x20, 0x20, 0x20, 0x20  …  0x20, 0x39, 0x39, 0x2e, 0x31, 0x36, 0x25, 0x20, 0x7c, 0x0a])"
      ]
     },
     "metadata": {},
     "output_type": "display_data"
    }
   ],
   "source": [
    "BSON.@load \"benchmarks/sp_sum_norm/bmkmats-vocabulary-wikipedia.bson\" bmkmats\n",
    "items = [k=>sum(v)/length(v) for (k,v) in bmkmats]\n",
    "showtable_of_items(items, row_name=n->\"$n-grams\", col_name=n->\"$n-vocab\", print_raw=false)"
   ]
  },
  {
   "cell_type": "code",
   "execution_count": 12,
   "metadata": {},
   "outputs": [
    {
     "data": {
      "text/markdown": [
       "|         | 100-vocab | 200-vocab | 500-vocab | 1000-vocab | 2000-vocab | 5000-vocab | 10000-vocab | 20000-vocab | 50000-vocab |\n",
       "|---------|-----------|-----------|-----------|------------|------------|------------|-------------|-------------|-------------|\n",
       "| 1-grams |    91.99% |    91.99% |         - |          - |          - |          - |           - |           - |           - |\n",
       "| 2-grams |    93.50% |    94.22% |    95.31% |     95.54% |     95.56% |     95.56% |           - |           - |           - |\n",
       "| 3-grams |    96.21% |    97.07% |    97.47% |     97.79% |     97.93% |     98.19% |      98.25% |      98.24% |      98.24% |\n",
       "| 4-grams |    94.54% |    97.43% |    98.00% |     98.32% |     98.65% |     98.71% |      98.59% |      98.59% |      98.61% |\n",
       "| 5-grams |    90.44% |    95.44% |    97.78% |     98.33% |     98.73% |     97.13% |      96.33% |      96.08% |      96.03% |\n",
       "| 6-grams |    59.96% |    92.28% |    95.96% |     97.44% |     97.87% |     90.15% |      83.84% |      80.86% |      80.27% |\n",
       "| 7-grams |    56.48% |    79.08% |    89.61% |     96.19% |     93.45% |     62.70% |      55.04% |      53.13% |      52.62% |\n"
      ],
      "text/plain": [
       "DisplayAs.Raw.Showable{MIME{Symbol(\"text/markdown\")}}(UInt8[0x7c, 0x20, 0x20, 0x20, 0x20, 0x20, 0x20, 0x20, 0x20, 0x20  …  0x20, 0x35, 0x32, 0x2e, 0x36, 0x32, 0x25, 0x20, 0x7c, 0x0a])"
      ]
     },
     "metadata": {},
     "output_type": "display_data"
    }
   ],
   "source": [
    "BSON.@load \"benchmarks/single_gram/bmkmats-vocabulary-wikipedia.bson\" bmkmats\n",
    "items = [k=>sum(v)/length(v) for (k,v) in bmkmats]\n",
    "showtable_of_items(items, row_name=n->\"$n-grams\", col_name=n->\"$n-vocab\", print_raw=false)"
   ]
  },
  {
   "cell_type": "markdown",
   "metadata": {},
   "source": [
    "# cutoff"
   ]
  },
  {
   "cell_type": "markdown",
   "metadata": {},
   "source": [
    "## tatoeba"
   ]
  },
  {
   "cell_type": "code",
   "execution_count": 25,
   "metadata": {},
   "outputs": [
    {
     "data": {
      "text/markdown": [
       "|         | 0.5-cutoff | 0.6-cutoff | 0.7-cutoff | 0.75-cutoff | 0.8-cutoff | 0.825-cutoff | 0.85-cutoff | 0.875-cutoff | 0.9-cutoff | 0.95-cutoff | 1.0-cutoff |\n",
       "|---------|------------|------------|------------|-------------|------------|--------------|-------------|--------------|------------|-------------|------------|\n",
       "| 1-grams |     29.52% |     32.84% |     38.61% |      42.23% |     47.26% |       50.52% |      52.62% |       53.41% |     55.40% |      63.50% |     76.95% |\n",
       "| 2-grams |     44.38% |     60.05% |     72.56% |      75.17% |     78.70% |       79.28% |      80.11% |       81.07% |     82.61% |      85.57% |     89.03% |\n",
       "| 3-grams |     71.85% |     80.13% |     84.98% |      86.24% |     87.78% |       88.73% |      89.64% |       90.49% |     91.47% |      92.90% |     93.51% |\n",
       "| 4-grams |     80.98% |     86.74% |     89.80% |      91.10% |     92.58% |       93.07% |      93.54% |       93.98% |     94.44% |      95.11% |     95.64% |\n",
       "| 5-grams |     85.18% |     89.35% |     92.58% |      93.76% |     94.41% |       94.89% |      95.23% |       95.57% |     95.96% |      96.76% |     96.85% |\n",
       "| 6-grams |     82.04% |     90.43% |     93.78% |      94.98% |     95.78% |       96.20% |      96.59% |       96.92% |     97.14% |      97.38% |          - |\n",
       "| 7-grams |     76.80% |     91.64% |     95.13% |      96.14% |     96.98% |       97.16% |      97.36% |       97.44% |     97.55% |      97.55% |          - |\n"
      ],
      "text/plain": [
       "DisplayAs.Raw.Showable{MIME{Symbol(\"text/markdown\")}}(UInt8[0x7c, 0x20, 0x20, 0x20, 0x20, 0x20, 0x20, 0x20, 0x20, 0x20  …  0x20, 0x20, 0x20, 0x20, 0x20, 0x20, 0x2d, 0x20, 0x7c, 0x0a])"
      ]
     },
     "metadata": {},
     "output_type": "display_data"
    }
   ],
   "source": [
    "BSON.@load \"benchmarks/v1/bmkmats-cutoff-tatoeba.bson\" bmkmats\n",
    "items = [k=>sum(v)/length(v) for (k,v) in bmkmats]\n",
    "showtable_of_items(items, row_name=n->\"$n-grams\", col_name=n->\"$n-cutoff\", print_raw=false)"
   ]
  },
  {
   "cell_type": "code",
   "execution_count": 5,
   "metadata": {},
   "outputs": [
    {
     "data": {
      "text/markdown": [
       "|         | 0.5-cutoff | 0.6-cutoff | 0.7-cutoff | 0.75-cutoff | 0.8-cutoff | 0.825-cutoff | 0.85-cutoff | 0.875-cutoff | 0.9-cutoff | 0.95-cutoff | 1.0-cutoff |\n",
       "|---------|------------|------------|------------|-------------|------------|--------------|-------------|--------------|------------|-------------|------------|\n",
       "| 1-grams |     29.52% |     32.84% |     38.61% |      42.23% |     47.26% |       50.52% |      52.62% |       53.41% |     55.40% |      63.50% |     76.95% |\n",
       "| 2-grams |     42.99% |     55.30% |     71.58% |      73.89% |     78.09% |       78.77% |      79.80% |       81.00% |     82.41% |      85.53% |     89.03% |\n",
       "| 3-grams |     68.64% |     78.35% |     84.46% |      85.67% |     87.60% |       88.47% |      89.38% |       90.46% |     91.41% |      92.90% |     93.51% |\n",
       "| 4-grams |     78.58% |     85.94% |     89.16% |      90.83% |     92.40% |       92.95% |      93.38% |       93.91% |     94.41% |      95.11% |     95.64% |\n",
       "| 5-grams |     84.04% |     88.97% |     92.27% |      93.56% |     94.31% |       94.83% |      95.14% |       95.55% |     95.96% |      96.78% |     96.87% |\n",
       "| 6-grams |     75.76% |     90.46% |     93.84% |      94.91% |     95.71% |       96.19% |      96.58% |       96.93% |     97.17% |      97.42% |          - |\n",
       "| 7-grams |     73.91% |     91.85% |     95.18% |      96.10% |     96.90% |       97.15% |      97.38% |       97.51% |     97.63% |      97.63% |          - |\n"
      ],
      "text/plain": [
       "DisplayAs.Raw.Showable{MIME{Symbol(\"text/markdown\")}}(UInt8[0x7c, 0x20, 0x20, 0x20, 0x20, 0x20, 0x20, 0x20, 0x20, 0x20  …  0x20, 0x20, 0x20, 0x20, 0x20, 0x20, 0x2d, 0x20, 0x7c, 0x0a])"
      ]
     },
     "metadata": {},
     "output_type": "display_data"
    }
   ],
   "source": [
    "BSON.@load \"benchmarks/sp_sum_norm/bmkmats-cutoff-tatoeba.bson\" bmkmats\n",
    "items = [k=>sum(v)/length(v) for (k,v) in bmkmats]\n",
    "showtable_of_items(items, row_name=n->\"$n-grams\", col_name=n->\"$n-cutoff\", print_raw=false)"
   ]
  },
  {
   "cell_type": "code",
   "execution_count": 26,
   "metadata": {},
   "outputs": [
    {
     "data": {
      "text/markdown": [
       "|         | 0.5-cutoff | 0.6-cutoff | 0.7-cutoff | 0.75-cutoff | 0.8-cutoff | 0.825-cutoff | 0.85-cutoff | 0.875-cutoff | 0.9-cutoff | 0.95-cutoff | 1.0-cutoff |\n",
       "|---------|------------|------------|------------|-------------|------------|--------------|-------------|--------------|------------|-------------|------------|\n",
       "| 1-grams |     29.52% |     32.84% |     38.61% |      42.23% |     47.26% |       50.52% |      52.62% |       53.41% |     55.40% |      63.50% |     76.95% |\n",
       "| 2-grams |     68.14% |     73.47% |     77.20% |      78.39% |     80.68% |       81.43% |      82.59% |       83.67% |     84.67% |      87.69% |     90.28% |\n",
       "| 3-grams |     65.85% |     79.43% |     86.45% |      88.84% |     90.39% |       90.95% |      91.67% |       92.42% |     92.92% |      93.95% |     94.75% |\n",
       "| 4-grams |     37.40% |     61.35% |     77.98% |      84.57% |     89.27% |       90.96% |      92.06% |       93.44% |     94.73% |      96.52% |     96.78% |\n",
       "| 5-grams |     36.79% |     58.23% |     78.46% |      86.62% |     91.57% |       93.15% |      94.15% |       95.20% |     95.49% |      95.56% |          - |\n",
       "| 6-grams |     42.60% |     62.75% |     77.56% |      83.02% |     85.81% |            - |           - |            - |          - |           - |          - |\n",
       "| 7-grams |     42.49% |     55.00% |     63.98% |           - |          - |            - |           - |            - |          - |           - |          - |\n"
      ],
      "text/plain": [
       "DisplayAs.Raw.Showable{MIME{Symbol(\"text/markdown\")}}(UInt8[0x7c, 0x20, 0x20, 0x20, 0x20, 0x20, 0x20, 0x20, 0x20, 0x20  …  0x20, 0x20, 0x20, 0x20, 0x20, 0x20, 0x2d, 0x20, 0x7c, 0x0a])"
      ]
     },
     "metadata": {},
     "output_type": "display_data"
    }
   ],
   "source": [
    "BSON.@load \"benchmarks/single_gram/bmkmats-cutoff-tatoeba.bson\" bmkmats\n",
    "items = [k=>sum(v)/length(v) for (k,v) in bmkmats]\n",
    "showtable_of_items(items, row_name=n->\"$n-grams\", col_name=n->\"$n-cutoff\", print_raw=false)"
   ]
  }
 ],
 "metadata": {
  "kernelspec": {
   "display_name": "Julia 1.9.3",
   "language": "julia",
   "name": "julia-1.9"
  },
  "language_info": {
   "file_extension": ".jl",
   "mimetype": "application/julia",
   "name": "julia",
   "version": "1.9.3"
  },
  "orig_nbformat": 4
 },
 "nbformat": 4,
 "nbformat_minor": 2
}
