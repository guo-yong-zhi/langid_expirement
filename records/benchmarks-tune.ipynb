{
 "cells": [
  {
   "cell_type": "code",
   "execution_count": 2,
   "metadata": {},
   "outputs": [],
   "source": [
    "include(\"datasetloader.jl\")\n",
    "include(\"benchmark.jl\")\n",
    "using LanguageIdentification\n",
    "import LanguageIdentification as LI"
   ]
  },
  {
   "cell_type": "code",
   "execution_count": 3,
   "metadata": {},
   "outputs": [
    {
     "name": "stdout",
     "output_type": "stream",
     "text": [
      "  1.501767 seconds (5.28 M allocations: 236.988 MiB, 5.14% gc time, 31.70% compilation time)\n"
     ]
    },
    {
     "data": {
      "text/plain": [
       "2515.54"
      ]
     },
     "metadata": {},
     "output_type": "display_data"
    }
   ],
   "source": [
    "@time LI.initialize()\n",
    "last.(LI.vocabulary_sizes())|>mean"
   ]
  },
  {
   "cell_type": "code",
   "execution_count": 7,
   "metadata": {},
   "outputs": [
    {
     "data": {
      "text/plain": [
       "UnitRange{Int64}"
      ]
     },
     "metadata": {},
     "output_type": "display_data"
    }
   ],
   "source": [
    "typemin(Int):typemax(Int)|>typeof"
   ]
  },
  {
   "cell_type": "code",
   "execution_count": 8,
   "metadata": {},
   "outputs": [
    {
     "ename": "MethodError",
     "evalue": "MethodError: no method matching zero(::Type{UnitRange{Int64}})\n\nClosest candidates are:\n  zero(!Matched::Union{Type{P}, P}) where P<:Dates.Period\n   @ Dates /data/julia-1.9.3/share/julia/stdlib/v1.9/Dates/src/periods.jl:51\n  zero(!Matched::T) where T<:Dates.TimeType\n   @ Dates /data/julia-1.9.3/share/julia/stdlib/v1.9/Dates/src/types.jl:441\n  zero(!Matched::LinearAlgebra.Diagonal)\n   @ LinearAlgebra /data/julia-1.9.3/share/julia/stdlib/v1.9/LinearAlgebra/src/special.jl:374\n  ...\n",
     "output_type": "error",
     "traceback": [
      "MethodError: no method matching zero(::Type{UnitRange{Int64}})\n",
      "\n",
      "Closest candidates are:\n",
      "  zero(!Matched::Union{Type{P}, P}) where P<:Dates.Period\n",
      "   @ Dates /data/julia-1.9.3/share/julia/stdlib/v1.9/Dates/src/periods.jl:51\n",
      "  zero(!Matched::T) where T<:Dates.TimeType\n",
      "   @ Dates /data/julia-1.9.3/share/julia/stdlib/v1.9/Dates/src/types.jl:441\n",
      "  zero(!Matched::LinearAlgebra.Diagonal)\n",
      "   @ LinearAlgebra /data/julia-1.9.3/share/julia/stdlib/v1.9/LinearAlgebra/src/special.jl:374\n",
      "  ...\n",
      "\n",
      "\n",
      "Stacktrace:\n",
      " [1] top-level scope\n",
      "   @ /data/langid_expirement/benchmarks-tune.ipynb:1"
     ]
    }
   ],
   "source": [
    "zero(UnitRange{Int64})"
   ]
  },
  {
   "cell_type": "code",
   "execution_count": 17,
   "metadata": {},
   "outputs": [
    {
     "name": "stdout",
     "output_type": "stream",
     "text": [
      "  0.113055 seconds (953.22 k allocations: 62.763 MiB, 5.79% gc time)\n"
     ]
    }
   ],
   "source": [
    "HBS = TatoebaDataset(\"corpus/tatoeba\", \"corpus/tatoeba_test_index.txt\", langs=[\"hbs\"])\n"
   ]
  },
  {
   "cell_type": "code",
   "execution_count": 69,
   "metadata": {},
   "outputs": [
    {
     "name": "stdout",
     "output_type": "stream",
     "text": [
      "  0.116475 seconds (576.35 k allocations: 57.012 MiB, 6.28% gc time)\n"
     ]
    }
   ],
   "source": [
    "HBS = TatoebaDataset(\"corpus/tatoeba\", \"corpus/tatoeba_test_index.txt\", langs=[\"hbs\"])\n",
    "@time for (x,y) in HBS\n",
    "    d =  LI.count_all_ngrams(x)\n",
    "    loglikelihood(d, d)\n",
    "    \n",
    "end"
   ]
  },
  {
   "cell_type": "code",
   "execution_count": 61,
   "metadata": {},
   "outputs": [
    {
     "name": "stdout",
     "output_type": "stream",
     "text": [
      "  0.110466 seconds (576.35 k allocations: 57.012 MiB, 10.89% gc time)\n"
     ]
    }
   ],
   "source": [
    "@time for (x,y) in HBS\n",
    "    d =  LI.count_all_ngrams(x)\n",
    "    loglikelihood(d, d)\n",
    "    \n",
    "end"
   ]
  },
  {
   "cell_type": "code",
   "execution_count": 34,
   "metadata": {},
   "outputs": [
    {
     "data": {
      "text/plain": [
       "UInt8[]"
      ]
     },
     "metadata": {},
     "output_type": "display_data"
    }
   ],
   "source": [
    "const UNK = UInt8[]"
   ]
  },
  {
   "cell_type": "code",
   "execution_count": 74,
   "metadata": {},
   "outputs": [
    {
     "data": {
      "text/plain": [
       "loglikelihood (generic function with 1 method)"
      ]
     },
     "metadata": {},
     "output_type": "display_data"
    }
   ],
   "source": [
    "function loglikelihood(p_dict, logq_dict)\n",
    "    sc = zero(valtype(p_dict))\n",
    "    for (code, p) in p_dict\n",
    "        if !haskey(logq_dict, code)\n",
    "            code = UNK\n",
    "        end\n",
    "        logq = logq_dict[code]\n",
    "        sc += p * logq\n",
    "    end\n",
    "    sc\n",
    "end"
   ]
  },
  {
   "cell_type": "code",
   "execution_count": 75,
   "metadata": {},
   "outputs": [
    {
     "name": "stdout",
     "output_type": "stream",
     "text": [
      "MethodInstance for loglikelihood(::Dict{Vector{UInt8}, Float32}, ::Dict{Vector{UInt8}, Float32})\n",
      "  from loglikelihood(\u001b[90mp_dict\u001b[39m, \u001b[90mlogq_dict\u001b[39m)\u001b[90m @\u001b[39m \u001b[90mMain\u001b[39m \u001b[90m/data/langid_expirement/\u001b[39m\u001b[90m\u001b[4mbenchmarks-tune.ipynb:1\u001b[24m\u001b[39m\n",
      "Arguments\n",
      "  #self#\u001b[36m::Core.Const(loglikelihood)\u001b[39m\n",
      "  p_dict\u001b[36m::Dict{Vector{UInt8}, Float32}\u001b[39m\n",
      "  logq_dict\u001b[36m::Dict{Vector{UInt8}, Float32}\u001b[39m\n",
      "Locals\n",
      "  @_4\u001b[33m\u001b[1m::Union{Nothing, Tuple{Pair{Vector{UInt8}, Float32}, Int64}}\u001b[22m\u001b[39m\n",
      "  sc\u001b[36m::Float32\u001b[39m\n",
      "  @_6\u001b[36m::Int64\u001b[39m\n",
      "  p\u001b[36m::Float32\u001b[39m\n",
      "  code\u001b[36m::Vector{UInt8}\u001b[39m\n",
      "  logq\u001b[36m::Float32\u001b[39m\n",
      "Body\u001b[36m::Float32\u001b[39m\n",
      "\u001b[90m1 ─\u001b[39m       (sc = 0.0f0)\n",
      "\u001b[90m│  \u001b[39m %2  = p_dict\u001b[36m::Dict{Vector{UInt8}, Float32}\u001b[39m\n",
      "\u001b[90m│  \u001b[39m       (@_4 = Base.iterate(%2))\n",
      "\u001b[90m│  \u001b[39m %4  = (@_4 === nothing)\u001b[36m::Bool\u001b[39m\n",
      "\u001b[90m│  \u001b[39m %5  = Base.not_int(%4)\u001b[36m::Bool\u001b[39m\n",
      "\u001b[90m└──\u001b[39m       goto #6 if not %5\n",
      "\u001b[90m2 ┄\u001b[39m       Core.NewvarNode(:(logq))\n",
      "\u001b[90m│  \u001b[39m %8  = @_4\u001b[36m::Tuple{Pair{Vector{UInt8}, Float32}, Int64}\u001b[39m\n",
      "\u001b[90m│  \u001b[39m %9  = Core.getfield(%8, 1)\u001b[36m::Pair{Vector{UInt8}, Float32}\u001b[39m\n",
      "\u001b[90m│  \u001b[39m %10 = Base.indexed_iterate(%9, 1)\u001b[36m::Core.PartialStruct(Tuple{Vector{UInt8}, Int64}, Any[Vector{UInt8}, Core.Const(2)])\u001b[39m\n",
      "\u001b[90m│  \u001b[39m       (code = Core.getfield(%10, 1))\n",
      "\u001b[90m│  \u001b[39m       (@_6 = Core.getfield(%10, 2))\n",
      "\u001b[90m│  \u001b[39m %13 = Base.indexed_iterate(%9, 2, @_6::Core.Const(2))\u001b[36m::Core.PartialStruct(Tuple{Float32, Int64}, Any[Float32, Core.Const(3)])\u001b[39m\n",
      "\u001b[90m│  \u001b[39m       (p = Core.getfield(%13, 1))\n",
      "\u001b[90m│  \u001b[39m %15 = Core.getfield(%8, 2)\u001b[36m::Int64\u001b[39m\n",
      "\u001b[90m│  \u001b[39m %16 = Main.haskey(logq_dict, code)\u001b[36m::Bool\u001b[39m\n",
      "\u001b[90m│  \u001b[39m %17 = !%16\u001b[36m::Bool\u001b[39m\n"
     ]
    },
    {
     "name": "stdout",
     "output_type": "stream",
     "text": [
      "\u001b[90m└──\u001b[39m       goto #4 if not %17\n",
      "\u001b[90m3 ─\u001b[39m       (code = Main.UNK)\n",
      "\u001b[90m4 ┄\u001b[39m       (logq = Base.getindex(logq_dict, code))\n",
      "\u001b[90m│  \u001b[39m %21 = sc\u001b[36m::Float32\u001b[39m\n",
      "\u001b[90m│  \u001b[39m %22 = (p * logq)\u001b[36m::Float32\u001b[39m\n",
      "\u001b[90m│  \u001b[39m       (sc = %21 + %22)\n",
      "\u001b[90m│  \u001b[39m       (@_4 = Base.iterate(%2, %15))\n",
      "\u001b[90m│  \u001b[39m %25 = (@_4 === nothing)\u001b[36m::Bool\u001b[39m\n",
      "\u001b[90m│  \u001b[39m %26 = Base.not_int(%25)\u001b[36m::Bool\u001b[39m\n",
      "\u001b[90m└──\u001b[39m       goto #6 if not %26\n",
      "\u001b[90m5 ─\u001b[39m       goto #2\n",
      "\u001b[90m6 ┄\u001b[39m       return sc\n",
      "\n"
     ]
    }
   ],
   "source": [
    "d =  LI.count_all_ngrams(HBS[1][1])\n",
    "@code_warntype loglikelihood(d, d)"
   ]
  },
  {
   "cell_type": "code",
   "execution_count": 9,
   "metadata": {},
   "outputs": [
    {
     "data": {
      "text/plain": [
       "118988"
      ]
     },
     "metadata": {},
     "output_type": "display_data"
    }
   ],
   "source": [
    "LI.initialize(ngram=[1,4])\n",
    "sum(last.(LI.vocabulary_sizes()))"
   ]
  },
  {
   "cell_type": "code",
   "execution_count": 10,
   "metadata": {},
   "outputs": [
    {
     "data": {
      "text/plain": [
       "7-element Vector{Float64}:\n",
       "  -278.0685486793518\n",
       "     0.0\n",
       "     0.0\n",
       " -6886.424198389053\n",
       "     0.0\n",
       "     0.0\n",
       "     0.0"
      ]
     },
     "metadata": {},
     "output_type": "display_data"
    }
   ],
   "source": [
    "P = LI.PROFILES[1]\n",
    "cnts = zeros(7)\n",
    "for (k, v) in P\n",
    "    if !isempty(k)\n",
    "        cnts[length(k)] += (v)\n",
    "    end\n",
    "end\n",
    "cnts"
   ]
  },
  {
   "cell_type": "code",
   "execution_count": 11,
   "metadata": {},
   "outputs": [
    {
     "data": {
      "text/plain": [
       "0.4469622f0"
      ]
     },
     "metadata": {},
     "output_type": "display_data"
    }
   ],
   "source": [
    "maximum(exp.(maximum.(values.(LI.PROFILES))))"
   ]
  },
  {
   "cell_type": "code",
   "execution_count": 5,
   "metadata": {},
   "outputs": [],
   "source": [
    "WV = WikiDataSet(\"corpus/wikipedia/test\", langs=LANGS)\n",
    "# TV = TatoebaDataset(\"corpus/tatoeba\", \"tatoeba_test.txt\", langs=LANGS)\n",
    ";"
   ]
  },
  {
   "cell_type": "code",
   "execution_count": 10,
   "metadata": {},
   "outputs": [
    {
     "data": {
      "text/plain": [
       "Int64"
      ]
     },
     "metadata": {},
     "output_type": "display_data"
    }
   ],
   "source": [
    "Int"
   ]
  },
  {
   "cell_type": "code",
   "execution_count": 12,
   "metadata": {},
   "outputs": [
    {
     "data": {
      "text/plain": [
       "-14.554772f0"
      ]
     },
     "metadata": {},
     "output_type": "display_data"
    }
   ],
   "source": [
    "minimum(values(LI.PROFILES[findfirst(==(\"ces\"), LI.LANGUAGES)]))"
   ]
  },
  {
   "cell_type": "code",
   "execution_count": 13,
   "metadata": {},
   "outputs": [
    {
     "data": {
      "text/plain": [
       "-13.062822f0"
      ]
     },
     "metadata": {},
     "output_type": "display_data"
    }
   ],
   "source": [
    "minimum(values(LI.PROFILES[findfirst(==(\"hbs\"), LI.LANGUAGES)]))"
   ]
  },
  {
   "cell_type": "code",
   "execution_count": 7,
   "metadata": {},
   "outputs": [],
   "source": [
    "HBS = TatoebaDataset(\"corpus/tatoeba\", \"tatoeba_test.txt\", langs=[\"hbs\"]);"
   ]
  },
  {
   "cell_type": "code",
   "execution_count": 14,
   "metadata": {},
   "outputs": [
    {
     "name": "stdout",
     "output_type": "stream",
     "text": [
      "  0.524464 seconds (279.97 k allocations: 24.916 MiB, 3.17% gc time, 0.78% compilation time)\n"
     ]
    },
    {
     "data": {
      "text/plain": [
       "1-element Vector{Any}:\n",
       " \"LanguageIdentification.jl\" => [0.3082706766917293]"
      ]
     },
     "metadata": {},
     "output_type": "display_data"
    }
   ],
   "source": [
    "HB = benchmark(\n",
    "\"LanguageIdentification.jl\"=>t->langid(t),\n",
    " dataset=HBS, languages=[\"hbs\"])"
   ]
  },
  {
   "cell_type": "code",
   "execution_count": 6,
   "metadata": {},
   "outputs": [
    {
     "data": {
      "text/plain": [
       "([\"eng\" => 0.02915456457049254, \"hau\" => 0.029135362270912103, \"ido\" => 0.0291317835691766, \"nld\" => 0.02905863031655561, \"spa\" => 0.029047351798809736], \"Мислим да је то фер.\")"
      ]
     },
     "metadata": {},
     "output_type": "display_data"
    }
   ],
   "source": [
    "x,y = HBS[rand(1:length(HBS))]\n",
    "langprob(x),x"
   ]
  },
  {
   "cell_type": "markdown",
   "metadata": {},
   "source": [
    "## wikipedia"
   ]
  },
  {
   "cell_type": "code",
   "execution_count": 10,
   "metadata": {},
   "outputs": [
    {
     "name": "stdout",
     "output_type": "stream",
     "text": [
      " 59.977509 seconds (73.47 M allocations: 5.228 GiB, 1.33% gc time, 0.04% compilation time)\n"
     ]
    },
    {
     "data": {
      "text/plain": [
       "1-element Vector{Any}:\n",
       " \"LanguageIdentification.jl\" => [0.995, 0.995, 1.0, 0.99, 1.0, 0.965, 0.985, 0.965, 1.0, 1.0  …  1.0, 0.995, 0.985, 0.99, 0.985, 0.985, 1.0, 0.97, 0.985, 0.995]"
      ]
     },
     "metadata": {},
     "output_type": "display_data"
    }
   ],
   "source": [
    "WB = benchmark(\n",
    "\"LanguageIdentification.jl\"=>t->langid(t),\n",
    " dataset=WV, languages=LANGS)"
   ]
  },
  {
   "cell_type": "code",
   "execution_count": 11,
   "metadata": {},
   "outputs": [
    {
     "name": "stdout",
     "output_type": "stream",
     "text": [
      "|                           | Average | ara    | bel    | ben     | bul    | cat     | ces    | dan    | deu    | ell     | eng     | epo     | fas     | fin    | fra     | hau    | hbs    | heb     | hin    | hun    | ido    | ina    | isl    | ita     | jpn    | kab    | kor     | kur    | lat    | lit     | mar    | mkd    | msa    | nds    | nld    | nor    | pol     | por    | ron    | rus    | slk    | spa     | swa    | swe    | tat    | tgl    | tur    | ukr     | vie    | yid    | zho    |\n",
      "|---------------------------|---------|--------|--------|---------|--------|---------|--------|--------|--------|---------|---------|---------|---------|--------|---------|--------|--------|---------|--------|--------|--------|--------|--------|---------|--------|--------|---------|--------|--------|---------|--------|--------|--------|--------|--------|--------|---------|--------|--------|--------|--------|---------|--------|--------|--------|--------|--------|---------|--------|--------|--------|\n",
      "| LanguageIdentification.jl |  98.21% | 99.50% | 99.50% | 100.00% | 99.00% | 100.00% | 96.50% | 98.50% | 96.50% | 100.00% | 100.00% | 100.00% | 100.00% | 99.50% | 100.00% | 99.50% | 87.00% | 100.00% | 91.00% | 99.00% | 93.00% | 97.00% | 98.50% | 100.00% | 98.00% | 99.00% | 100.00% | 99.00% | 98.50% | 100.00% | 95.50% | 97.50% | 99.50% | 99.50% | 97.00% | 98.00% | 100.00% | 99.50% | 90.00% | 99.50% | 97.00% | 100.00% | 99.50% | 98.50% | 99.00% | 98.50% | 98.50% | 100.00% | 97.00% | 98.50% | 99.50% |\n"
     ]
    },
    {
     "data": {
      "text/markdown": [
       "|                           | Average | ara    | bel    | ben     | bul    | cat     | ces    | dan    | deu    | ell     | eng     | epo     | fas     | fin    | fra     | hau    | hbs    | heb     | hin    | hun    | ido    | ina    | isl    | ita     | jpn    | kab    | kor     | kur    | lat    | lit     | mar    | mkd    | msa    | nds    | nld    | nor    | pol     | por    | ron    | rus    | slk    | spa     | swa    | swe    | tat    | tgl    | tur    | ukr     | vie    | yid    | zho    |\n",
       "|---------------------------|---------|--------|--------|---------|--------|---------|--------|--------|--------|---------|---------|---------|---------|--------|---------|--------|--------|---------|--------|--------|--------|--------|--------|---------|--------|--------|---------|--------|--------|---------|--------|--------|--------|--------|--------|--------|---------|--------|--------|--------|--------|---------|--------|--------|--------|--------|--------|---------|--------|--------|--------|\n",
       "| LanguageIdentification.jl |  98.21% | 99.50% | 99.50% | 100.00% | 99.00% | 100.00% | 96.50% | 98.50% | 96.50% | 100.00% | 100.00% | 100.00% | 100.00% | 99.50% | 100.00% | 99.50% | 87.00% | 100.00% | 91.00% | 99.00% | 93.00% | 97.00% | 98.50% | 100.00% | 98.00% | 99.00% | 100.00% | 99.00% | 98.50% | 100.00% | 95.50% | 97.50% | 99.50% | 99.50% | 97.00% | 98.00% | 100.00% | 99.50% | 90.00% | 99.50% | 97.00% | 100.00% | 99.50% | 98.50% | 99.00% | 98.50% | 98.50% | 100.00% | 97.00% | 98.50% | 99.50% |\n"
      ],
      "text/plain": [
       "DisplayAs.Raw.Showable{MIME{Symbol(\"text/markdown\")}}(UInt8[0x7c, 0x20, 0x20, 0x20, 0x20, 0x20, 0x20, 0x20, 0x20, 0x20  …  0x20, 0x39, 0x39, 0x2e, 0x35, 0x30, 0x25, 0x20, 0x7c, 0x0a])"
      ]
     },
     "metadata": {},
     "output_type": "display_data"
    }
   ],
   "source": [
    "showtable(WB, LANGS) # log norm sum norm within ngram"
   ]
  },
  {
   "cell_type": "code",
   "execution_count": 10,
   "metadata": {},
   "outputs": [
    {
     "name": "stdout",
     "output_type": "stream",
     "text": [
      "|                           | Average | ara    | bel    | ben     | bul    | cat     | ces    | dan    | deu    | ell     | eng     | epo     | fas     | fin    | fra     | hau    | hbs    | heb     | hin    | hun    | ido    | ina    | isl    | ita     | jpn    | kab    | kor     | kur    | lat    | lit     | mar    | mkd    | msa    | nds    | nld    | nor    | pol     | por    | ron    | rus    | slk    | spa     | swa    | swe    | tat    | tgl    | tur    | ukr     | vie    | yid    | zho    |\n",
      "|---------------------------|---------|--------|--------|---------|--------|---------|--------|--------|--------|---------|---------|---------|---------|--------|---------|--------|--------|---------|--------|--------|--------|--------|--------|---------|--------|--------|---------|--------|--------|---------|--------|--------|--------|--------|--------|--------|---------|--------|--------|--------|--------|---------|--------|--------|--------|--------|--------|---------|--------|--------|--------|\n",
      "| LanguageIdentification.jl |  97.86% | 99.50% | 99.50% | 100.00% | 98.50% | 100.00% | 97.00% | 98.50% | 96.50% | 100.00% | 100.00% | 100.00% | 100.00% | 99.50% | 100.00% | 99.50% | 72.00% | 100.00% | 89.50% | 99.00% | 91.50% | 95.00% | 98.50% | 100.00% | 98.50% | 99.00% | 100.00% | 99.00% | 98.50% | 100.00% | 97.00% | 99.50% | 99.50% | 99.50% | 97.50% | 96.50% | 100.00% | 99.50% | 90.00% | 99.50% | 97.00% | 100.00% | 99.50% | 98.50% | 98.50% | 98.50% | 98.50% | 100.00% | 97.00% | 98.50% | 99.50% |\n"
     ]
    },
    {
     "data": {
      "text/markdown": [
       "|                           | Average | ara    | bel    | ben     | bul    | cat     | ces    | dan    | deu    | ell     | eng     | epo     | fas     | fin    | fra     | hau    | hbs    | heb     | hin    | hun    | ido    | ina    | isl    | ita     | jpn    | kab    | kor     | kur    | lat    | lit     | mar    | mkd    | msa    | nds    | nld    | nor    | pol     | por    | ron    | rus    | slk    | spa     | swa    | swe    | tat    | tgl    | tur    | ukr     | vie    | yid    | zho    |\n",
       "|---------------------------|---------|--------|--------|---------|--------|---------|--------|--------|--------|---------|---------|---------|---------|--------|---------|--------|--------|---------|--------|--------|--------|--------|--------|---------|--------|--------|---------|--------|--------|---------|--------|--------|--------|--------|--------|--------|---------|--------|--------|--------|--------|---------|--------|--------|--------|--------|--------|---------|--------|--------|--------|\n",
       "| LanguageIdentification.jl |  97.86% | 99.50% | 99.50% | 100.00% | 98.50% | 100.00% | 97.00% | 98.50% | 96.50% | 100.00% | 100.00% | 100.00% | 100.00% | 99.50% | 100.00% | 99.50% | 72.00% | 100.00% | 89.50% | 99.00% | 91.50% | 95.00% | 98.50% | 100.00% | 98.50% | 99.00% | 100.00% | 99.00% | 98.50% | 100.00% | 97.00% | 99.50% | 99.50% | 99.50% | 97.50% | 96.50% | 100.00% | 99.50% | 90.00% | 99.50% | 97.00% | 100.00% | 99.50% | 98.50% | 98.50% | 98.50% | 98.50% | 100.00% | 97.00% | 98.50% | 99.50% |\n"
      ],
      "text/plain": [
       "DisplayAs.Raw.Showable{MIME{Symbol(\"text/markdown\")}}(UInt8[0x7c, 0x20, 0x20, 0x20, 0x20, 0x20, 0x20, 0x20, 0x20, 0x20  …  0x20, 0x39, 0x39, 0x2e, 0x35, 0x30, 0x25, 0x20, 0x7c, 0x0a])"
      ]
     },
     "metadata": {},
     "output_type": "display_data"
    }
   ],
   "source": [
    "showtable(WB, LANGS) # log norm within ngram"
   ]
  },
  {
   "cell_type": "code",
   "execution_count": 9,
   "metadata": {},
   "outputs": [
    {
     "name": "stdout",
     "output_type": "stream",
     "text": [
      "|                           | Average | ara    | bel    | ben     | bul    | cat     | ces    | dan    | deu    | ell     | eng     | epo     | fas     | fin    | fra     | hau    | hbs    | heb     | hin    | hun    | ido    | ina    | isl    | ita    | jpn    | kab    | kor     | kur    | lat    | lit     | mar    | mkd    | msa    | nds    | nld    | nor    | pol     | por    | ron    | rus    | slk    | spa     | swa    | swe    | tat    | tgl    | tur    | ukr    | vie    | yid    | zho    |\n",
      "|---------------------------|---------|--------|--------|---------|--------|---------|--------|--------|--------|---------|---------|---------|---------|--------|---------|--------|--------|---------|--------|--------|--------|--------|--------|--------|--------|--------|---------|--------|--------|---------|--------|--------|--------|--------|--------|--------|---------|--------|--------|--------|--------|---------|--------|--------|--------|--------|--------|--------|--------|--------|--------|\n",
      "| LanguageIdentification.jl |  96.21% | 99.50% | 99.50% | 100.00% | 88.00% | 100.00% | 98.50% | 99.50% | 96.50% | 100.00% | 100.00% | 100.00% | 100.00% | 99.00% | 100.00% | 98.50% | 94.00% | 100.00% | 82.50% | 99.00% | 94.00% | 93.50% | 98.50% | 99.00% | 98.50% | 99.00% | 100.00% | 99.00% | 99.00% | 100.00% | 98.00% | 13.00% | 99.00% | 99.00% | 97.00% | 94.50% | 100.00% | 99.50% | 91.50% | 99.00% | 97.00% | 100.00% | 99.00% | 98.50% | 99.50% | 98.00% | 98.50% | 98.50% | 97.00% | 99.50% | 99.50% |\n"
     ]
    },
    {
     "data": {
      "text/markdown": [
       "|                           | Average | ara    | bel    | ben     | bul    | cat     | ces    | dan    | deu    | ell     | eng     | epo     | fas     | fin    | fra     | hau    | hbs    | heb     | hin    | hun    | ido    | ina    | isl    | ita    | jpn    | kab    | kor     | kur    | lat    | lit     | mar    | mkd    | msa    | nds    | nld    | nor    | pol     | por    | ron    | rus    | slk    | spa     | swa    | swe    | tat    | tgl    | tur    | ukr    | vie    | yid    | zho    |\n",
       "|---------------------------|---------|--------|--------|---------|--------|---------|--------|--------|--------|---------|---------|---------|---------|--------|---------|--------|--------|---------|--------|--------|--------|--------|--------|--------|--------|--------|---------|--------|--------|---------|--------|--------|--------|--------|--------|--------|---------|--------|--------|--------|--------|---------|--------|--------|--------|--------|--------|--------|--------|--------|--------|\n",
       "| LanguageIdentification.jl |  96.21% | 99.50% | 99.50% | 100.00% | 88.00% | 100.00% | 98.50% | 99.50% | 96.50% | 100.00% | 100.00% | 100.00% | 100.00% | 99.00% | 100.00% | 98.50% | 94.00% | 100.00% | 82.50% | 99.00% | 94.00% | 93.50% | 98.50% | 99.00% | 98.50% | 99.00% | 100.00% | 99.00% | 99.00% | 100.00% | 98.00% | 13.00% | 99.00% | 99.00% | 97.00% | 94.50% | 100.00% | 99.50% | 91.50% | 99.00% | 97.00% | 100.00% | 99.00% | 98.50% | 99.50% | 98.00% | 98.50% | 98.50% | 97.00% | 99.50% | 99.50% |\n"
      ],
      "text/plain": [
       "DisplayAs.Raw.Showable{MIME{Symbol(\"text/markdown\")}}(UInt8[0x7c, 0x20, 0x20, 0x20, 0x20, 0x20, 0x20, 0x20, 0x20, 0x20  …  0x20, 0x39, 0x39, 0x2e, 0x35, 0x30, 0x25, 0x20, 0x7c, 0x0a])"
      ]
     },
     "metadata": {},
     "output_type": "display_data"
    }
   ],
   "source": [
    "showtable(WB, LANGS) # mean norm within ngram"
   ]
  },
  {
   "cell_type": "code",
   "execution_count": 10,
   "metadata": {},
   "outputs": [
    {
     "name": "stdout",
     "output_type": "stream",
     "text": [
      "|                           | Average | ara    | bel    | ben     | bul    | cat     | ces    | dan    | deu    | ell     | eng     | epo     | fas     | fin    | fra     | hau    | hbs    | heb     | hin    | hun    | ido    | ina    | isl    | ita     | jpn    | kab    | kor     | kur    | lat    | lit     | mar    | mkd    | msa    | nds    | nld    | nor    | pol     | por    | ron    | rus    | slk    | spa     | swa    | swe    | tat    | tgl    | tur    | ukr     | vie    | yid    | zho    |\n",
      "|---------------------------|---------|--------|--------|---------|--------|---------|--------|--------|--------|---------|---------|---------|---------|--------|---------|--------|--------|---------|--------|--------|--------|--------|--------|---------|--------|--------|---------|--------|--------|---------|--------|--------|--------|--------|--------|--------|---------|--------|--------|--------|--------|---------|--------|--------|--------|--------|--------|---------|--------|--------|--------|\n",
      "| LanguageIdentification.jl |  98.22% | 99.50% | 99.50% | 100.00% | 99.00% | 100.00% | 96.50% | 98.50% | 96.50% | 100.00% | 100.00% | 100.00% | 100.00% | 99.50% | 100.00% | 99.50% | 86.00% | 100.00% | 91.00% | 99.00% | 93.00% | 97.00% | 98.50% | 100.00% | 98.50% | 99.00% | 100.00% | 99.00% | 98.50% | 100.00% | 95.50% | 98.50% | 99.50% | 99.50% | 97.00% | 98.00% | 100.00% | 99.50% | 90.00% | 99.50% | 97.00% | 100.00% | 99.50% | 98.50% | 99.00% | 98.50% | 98.50% | 100.00% | 97.00% | 98.50% | 99.50% |\n"
     ]
    },
    {
     "data": {
      "text/markdown": [
       "|                           | Average | ara    | bel    | ben     | bul    | cat     | ces    | dan    | deu    | ell     | eng     | epo     | fas     | fin    | fra     | hau    | hbs    | heb     | hin    | hun    | ido    | ina    | isl    | ita     | jpn    | kab    | kor     | kur    | lat    | lit     | mar    | mkd    | msa    | nds    | nld    | nor    | pol     | por    | ron    | rus    | slk    | spa     | swa    | swe    | tat    | tgl    | tur    | ukr     | vie    | yid    | zho    |\n",
       "|---------------------------|---------|--------|--------|---------|--------|---------|--------|--------|--------|---------|---------|---------|---------|--------|---------|--------|--------|---------|--------|--------|--------|--------|--------|---------|--------|--------|---------|--------|--------|---------|--------|--------|--------|--------|--------|--------|---------|--------|--------|--------|--------|---------|--------|--------|--------|--------|--------|---------|--------|--------|--------|\n",
       "| LanguageIdentification.jl |  98.22% | 99.50% | 99.50% | 100.00% | 99.00% | 100.00% | 96.50% | 98.50% | 96.50% | 100.00% | 100.00% | 100.00% | 100.00% | 99.50% | 100.00% | 99.50% | 86.00% | 100.00% | 91.00% | 99.00% | 93.00% | 97.00% | 98.50% | 100.00% | 98.50% | 99.00% | 100.00% | 99.00% | 98.50% | 100.00% | 95.50% | 98.50% | 99.50% | 99.50% | 97.00% | 98.00% | 100.00% | 99.50% | 90.00% | 99.50% | 97.00% | 100.00% | 99.50% | 98.50% | 99.00% | 98.50% | 98.50% | 100.00% | 97.00% | 98.50% | 99.50% |\n"
      ],
      "text/plain": [
       "DisplayAs.Raw.Showable{MIME{Symbol(\"text/markdown\")}}(UInt8[0x7c, 0x20, 0x20, 0x20, 0x20, 0x20, 0x20, 0x20, 0x20, 0x20  …  0x20, 0x39, 0x39, 0x2e, 0x35, 0x30, 0x25, 0x20, 0x7c, 0x0a])"
      ]
     },
     "metadata": {},
     "output_type": "display_data"
    }
   ],
   "source": [
    "showtable(WB, LANGS) # mean norm within ngram"
   ]
  },
  {
   "cell_type": "code",
   "execution_count": 10,
   "metadata": {},
   "outputs": [
    {
     "name": "stdout",
     "output_type": "stream",
     "text": [
      "|                           | Average | ara     | bel     | ben     | bul    | cat     | ces    | dan    | deu    | ell     | eng     | epo     | fas     | fin    | fra     | hau    | hbs    | heb     | hin    | hun    | ido    | ina    | isl    | ita    | jpn    | kab    | kor     | kur     | lat    | lit     | mar    | mkd    | msa    | nds     | nld    | nor    | pol     | por    | ron    | rus     | slk    | spa     | swa    | swe    | tat    | tgl    | tur    | ukr     | vie    | yid    | zho    |\n",
      "|---------------------------|---------|---------|---------|---------|--------|---------|--------|--------|--------|---------|---------|---------|---------|--------|---------|--------|--------|---------|--------|--------|--------|--------|--------|--------|--------|--------|---------|---------|--------|---------|--------|--------|--------|---------|--------|--------|---------|--------|--------|---------|--------|---------|--------|--------|--------|--------|--------|---------|--------|--------|--------|\n",
      "| LanguageIdentification.jl |  98.67% | 100.00% | 100.00% | 100.00% | 99.50% | 100.00% | 97.50% | 98.50% | 96.50% | 100.00% | 100.00% | 100.00% | 100.00% | 99.50% | 100.00% | 99.50% | 94.00% | 100.00% | 93.00% | 99.00% | 95.00% | 97.50% | 98.50% | 99.50% | 98.00% | 99.00% | 100.00% | 100.00% | 99.00% | 100.00% | 96.50% | 99.50% | 99.50% | 100.00% | 97.50% | 99.50% | 100.00% | 99.50% | 91.00% | 100.00% | 97.50% | 100.00% | 99.50% | 99.00% | 99.50% | 99.00% | 98.50% | 100.00% | 96.50% | 99.00% | 98.50% |\n"
     ]
    },
    {
     "data": {
      "text/markdown": [
       "|                           | Average | ara     | bel     | ben     | bul    | cat     | ces    | dan    | deu    | ell     | eng     | epo     | fas     | fin    | fra     | hau    | hbs    | heb     | hin    | hun    | ido    | ina    | isl    | ita    | jpn    | kab    | kor     | kur     | lat    | lit     | mar    | mkd    | msa    | nds     | nld    | nor    | pol     | por    | ron    | rus     | slk    | spa     | swa    | swe    | tat    | tgl    | tur    | ukr     | vie    | yid    | zho    |\n",
       "|---------------------------|---------|---------|---------|---------|--------|---------|--------|--------|--------|---------|---------|---------|---------|--------|---------|--------|--------|---------|--------|--------|--------|--------|--------|--------|--------|--------|---------|---------|--------|---------|--------|--------|--------|---------|--------|--------|---------|--------|--------|---------|--------|---------|--------|--------|--------|--------|--------|---------|--------|--------|--------|\n",
       "| LanguageIdentification.jl |  98.67% | 100.00% | 100.00% | 100.00% | 99.50% | 100.00% | 97.50% | 98.50% | 96.50% | 100.00% | 100.00% | 100.00% | 100.00% | 99.50% | 100.00% | 99.50% | 94.00% | 100.00% | 93.00% | 99.00% | 95.00% | 97.50% | 98.50% | 99.50% | 98.00% | 99.00% | 100.00% | 100.00% | 99.00% | 100.00% | 96.50% | 99.50% | 99.50% | 100.00% | 97.50% | 99.50% | 100.00% | 99.50% | 91.00% | 100.00% | 97.50% | 100.00% | 99.50% | 99.00% | 99.50% | 99.00% | 98.50% | 100.00% | 96.50% | 99.00% | 98.50% |\n"
      ],
      "text/plain": [
       "DisplayAs.Raw.Showable{MIME{Symbol(\"text/markdown\")}}(UInt8[0x7c, 0x20, 0x20, 0x20, 0x20, 0x20, 0x20, 0x20, 0x20, 0x20  …  0x20, 0x39, 0x38, 0x2e, 0x35, 0x30, 0x25, 0x20, 0x7c, 0x0a])"
      ]
     },
     "metadata": {},
     "output_type": "display_data"
    }
   ],
   "source": [
    "showtable(WB, LANGS) # init 4:4 & t->langid(t, ngram=4:4)"
   ]
  },
  {
   "cell_type": "code",
   "execution_count": 7,
   "metadata": {},
   "outputs": [
    {
     "name": "stdout",
     "output_type": "stream",
     "text": [
      "|                           | Average | ara     | bel     | ben     | bul    | cat     | ces    | dan    | deu    | ell     | eng     | epo     | fas     | fin    | fra    | hau    | hbs    | heb     | hin    | hun    | ido    | ina    | isl    | ita     | jpn    | kab    | kor     | kur     | lat    | lit    | mar    | mkd    | msa    | nds     | nld    | nor    | pol    | por    | ron    | rus    | slk    | spa    | swa    | swe    | tat    | tgl    | tur    | ukr     | vie    | yid    | zho    |\n",
      "|---------------------------|---------|---------|---------|---------|--------|---------|--------|--------|--------|---------|---------|---------|---------|--------|--------|--------|--------|---------|--------|--------|--------|--------|--------|---------|--------|--------|---------|---------|--------|--------|--------|--------|--------|---------|--------|--------|--------|--------|--------|--------|--------|--------|--------|--------|--------|--------|--------|---------|--------|--------|--------|\n",
      "| LanguageIdentification.jl |  96.12% | 100.00% | 100.00% | 100.00% | 99.50% | 100.00% | 95.00% | 95.00% | 96.00% | 100.00% | 100.00% | 100.00% | 100.00% | 99.00% | 99.50% | 99.50% | 89.00% | 100.00% | 93.00% | 95.50% | 93.00% | 97.50% | 98.00% | 100.00% | 91.00% | 99.00% | 100.00% | 100.00% | 98.50% | 99.50% | 96.50% | 99.50% | 99.50% | 100.00% | 97.00% | 97.00% | 93.00% | 99.50% | 90.00% | 99.50% | 96.50% | 99.50% | 99.50% | 98.50% | 98.00% | 99.00% | 98.50% | 100.00% | 97.00% | 99.00% | 11.50% |\n"
     ]
    },
    {
     "data": {
      "text/markdown": [
       "|                           | Average | ara     | bel     | ben     | bul    | cat     | ces    | dan    | deu    | ell     | eng     | epo     | fas     | fin    | fra    | hau    | hbs    | heb     | hin    | hun    | ido    | ina    | isl    | ita     | jpn    | kab    | kor     | kur     | lat    | lit    | mar    | mkd    | msa    | nds     | nld    | nor    | pol    | por    | ron    | rus    | slk    | spa    | swa    | swe    | tat    | tgl    | tur    | ukr     | vie    | yid    | zho    |\n",
       "|---------------------------|---------|---------|---------|---------|--------|---------|--------|--------|--------|---------|---------|---------|---------|--------|--------|--------|--------|---------|--------|--------|--------|--------|--------|---------|--------|--------|---------|---------|--------|--------|--------|--------|--------|---------|--------|--------|--------|--------|--------|--------|--------|--------|--------|--------|--------|--------|--------|---------|--------|--------|--------|\n",
       "| LanguageIdentification.jl |  96.12% | 100.00% | 100.00% | 100.00% | 99.50% | 100.00% | 95.00% | 95.00% | 96.00% | 100.00% | 100.00% | 100.00% | 100.00% | 99.00% | 99.50% | 99.50% | 89.00% | 100.00% | 93.00% | 95.50% | 93.00% | 97.50% | 98.00% | 100.00% | 91.00% | 99.00% | 100.00% | 100.00% | 98.50% | 99.50% | 96.50% | 99.50% | 99.50% | 100.00% | 97.00% | 97.00% | 93.00% | 99.50% | 90.00% | 99.50% | 96.50% | 99.50% | 99.50% | 98.50% | 98.00% | 99.00% | 98.50% | 100.00% | 97.00% | 99.00% | 11.50% |\n"
      ],
      "text/plain": [
       "DisplayAs.Raw.Showable{MIME{Symbol(\"text/markdown\")}}(UInt8[0x7c, 0x20, 0x20, 0x20, 0x20, 0x20, 0x20, 0x20, 0x20, 0x20  …  0x20, 0x31, 0x31, 0x2e, 0x35, 0x30, 0x25, 0x20, 0x7c, 0x0a])"
      ]
     },
     "metadata": {},
     "output_type": "display_data"
    }
   ],
   "source": [
    "showtable(WB, LANGS) # t->langid(t, ngram=4:4)"
   ]
  },
  {
   "cell_type": "code",
   "execution_count": 14,
   "metadata": {},
   "outputs": [
    {
     "name": "stdout",
     "output_type": "stream",
     "text": [
      "|                           | Average | ara    | bel    | ben     | bul    | cat     | ces    | dan    | deu    | ell     | eng     | epo    | fas     | fin    | fra     | hau    | hbs    | heb     | hin    | hun    | ido    | ina    | isl    | ita    | jpn    | kab    | kor     | kur    | lat    | lit     | mar    | mkd    | msa    | nds    | nld    | nor    | pol     | por    | ron    | rus    | slk    | spa     | swa    | swe    | tat    | tgl    | tur    | ukr     | vie    | yid    | zho     |\n",
      "|---------------------------|---------|--------|--------|---------|--------|---------|--------|--------|--------|---------|---------|--------|---------|--------|---------|--------|--------|---------|--------|--------|--------|--------|--------|--------|--------|--------|---------|--------|--------|---------|--------|--------|--------|--------|--------|--------|---------|--------|--------|--------|--------|---------|--------|--------|--------|--------|--------|---------|--------|--------|---------|\n",
      "| LanguageIdentification.jl |  98.20% | 99.50% | 99.50% | 100.00% | 97.50% | 100.00% | 98.00% | 99.00% | 96.00% | 100.00% | 100.00% | 97.00% | 100.00% | 99.00% | 100.00% | 99.50% | 94.00% | 100.00% | 90.00% | 99.00% | 96.50% | 94.50% | 98.50% | 99.50% | 98.00% | 99.00% | 100.00% | 99.00% | 98.00% | 100.00% | 96.50% | 96.50% | 99.50% | 99.50% | 97.50% | 94.50% | 100.00% | 99.50% | 90.50% | 99.50% | 97.00% | 100.00% | 99.00% | 98.50% | 99.00% | 98.50% | 98.50% | 100.00% | 96.50% | 98.50% | 100.00% |\n"
     ]
    },
    {
     "data": {
      "text/markdown": [
       "|                           | Average | ara    | bel    | ben     | bul    | cat     | ces    | dan    | deu    | ell     | eng     | epo    | fas     | fin    | fra     | hau    | hbs    | heb     | hin    | hun    | ido    | ina    | isl    | ita    | jpn    | kab    | kor     | kur    | lat    | lit     | mar    | mkd    | msa    | nds    | nld    | nor    | pol     | por    | ron    | rus    | slk    | spa     | swa    | swe    | tat    | tgl    | tur    | ukr     | vie    | yid    | zho     |\n",
       "|---------------------------|---------|--------|--------|---------|--------|---------|--------|--------|--------|---------|---------|--------|---------|--------|---------|--------|--------|---------|--------|--------|--------|--------|--------|--------|--------|--------|---------|--------|--------|---------|--------|--------|--------|--------|--------|--------|---------|--------|--------|--------|--------|---------|--------|--------|--------|--------|--------|---------|--------|--------|---------|\n",
       "| LanguageIdentification.jl |  98.20% | 99.50% | 99.50% | 100.00% | 97.50% | 100.00% | 98.00% | 99.00% | 96.00% | 100.00% | 100.00% | 97.00% | 100.00% | 99.00% | 100.00% | 99.50% | 94.00% | 100.00% | 90.00% | 99.00% | 96.50% | 94.50% | 98.50% | 99.50% | 98.00% | 99.00% | 100.00% | 99.00% | 98.00% | 100.00% | 96.50% | 96.50% | 99.50% | 99.50% | 97.50% | 94.50% | 100.00% | 99.50% | 90.50% | 99.50% | 97.00% | 100.00% | 99.00% | 98.50% | 99.00% | 98.50% | 98.50% | 100.00% | 96.50% | 98.50% | 100.00% |\n"
      ],
      "text/plain": [
       "DisplayAs.Raw.Showable{MIME{Symbol(\"text/markdown\")}}(UInt8[0x7c, 0x20, 0x20, 0x20, 0x20, 0x20, 0x20, 0x20, 0x20, 0x20  …  0x31, 0x30, 0x30, 0x2e, 0x30, 0x30, 0x25, 0x20, 0x7c, 0x0a])"
      ]
     },
     "metadata": {},
     "output_type": "display_data"
    }
   ],
   "source": [
    "showtable(WB, LANGS) # weighted norm: *l^2"
   ]
  },
  {
   "cell_type": "code",
   "execution_count": 6,
   "metadata": {},
   "outputs": [
    {
     "name": "stdout",
     "output_type": "stream",
     "text": [
      "|                           | Average | ara    | bel    | ben     | bul    | cat     | ces    | dan    | deu    | ell     | eng     | epo     | fas     | fin    | fra     | hau    | hbs    | heb     | hin    | hun    | ido    | ina    | isl    | ita    | jpn    | kab    | kor     | kur    | lat    | lit     | mar    | mkd    | msa    | nds    | nld    | nor    | pol     | por    | ron    | rus    | slk    | spa     | swa    | swe    | tat    | tgl    | tur    | ukr     | vie    | yid    | zho    |\n",
      "|---------------------------|---------|--------|--------|---------|--------|---------|--------|--------|--------|---------|---------|---------|---------|--------|---------|--------|--------|---------|--------|--------|--------|--------|--------|--------|--------|--------|---------|--------|--------|---------|--------|--------|--------|--------|--------|--------|---------|--------|--------|--------|--------|---------|--------|--------|--------|--------|--------|---------|--------|--------|--------|\n",
      "| LanguageIdentification.jl |  98.25% | 99.50% | 99.50% | 100.00% | 97.50% | 100.00% | 97.50% | 99.00% | 96.00% | 100.00% | 100.00% | 100.00% | 100.00% | 99.00% | 100.00% | 99.50% | 93.50% | 100.00% | 90.50% | 99.00% | 95.50% | 97.00% | 98.50% | 99.50% | 98.00% | 99.00% | 100.00% | 99.00% | 98.00% | 100.00% | 96.00% | 96.50% | 99.50% | 99.50% | 97.00% | 94.50% | 100.00% | 99.50% | 90.50% | 99.50% | 97.00% | 100.00% | 99.00% | 98.50% | 99.00% | 98.50% | 98.50% | 100.00% | 96.50% | 98.50% | 99.50% |\n"
     ]
    },
    {
     "data": {
      "text/markdown": [
       "|                           | Average | ara    | bel    | ben     | bul    | cat     | ces    | dan    | deu    | ell     | eng     | epo     | fas     | fin    | fra     | hau    | hbs    | heb     | hin    | hun    | ido    | ina    | isl    | ita    | jpn    | kab    | kor     | kur    | lat    | lit     | mar    | mkd    | msa    | nds    | nld    | nor    | pol     | por    | ron    | rus    | slk    | spa     | swa    | swe    | tat    | tgl    | tur    | ukr     | vie    | yid    | zho    |\n",
       "|---------------------------|---------|--------|--------|---------|--------|---------|--------|--------|--------|---------|---------|---------|---------|--------|---------|--------|--------|---------|--------|--------|--------|--------|--------|--------|--------|--------|---------|--------|--------|---------|--------|--------|--------|--------|--------|--------|---------|--------|--------|--------|--------|---------|--------|--------|--------|--------|--------|---------|--------|--------|--------|\n",
       "| LanguageIdentification.jl |  98.25% | 99.50% | 99.50% | 100.00% | 97.50% | 100.00% | 97.50% | 99.00% | 96.00% | 100.00% | 100.00% | 100.00% | 100.00% | 99.00% | 100.00% | 99.50% | 93.50% | 100.00% | 90.50% | 99.00% | 95.50% | 97.00% | 98.50% | 99.50% | 98.00% | 99.00% | 100.00% | 99.00% | 98.00% | 100.00% | 96.00% | 96.50% | 99.50% | 99.50% | 97.00% | 94.50% | 100.00% | 99.50% | 90.50% | 99.50% | 97.00% | 100.00% | 99.00% | 98.50% | 99.00% | 98.50% | 98.50% | 100.00% | 96.50% | 98.50% | 99.50% |\n"
      ],
      "text/plain": [
       "DisplayAs.Raw.Showable{MIME{Symbol(\"text/markdown\")}}(UInt8[0x7c, 0x20, 0x20, 0x20, 0x20, 0x20, 0x20, 0x20, 0x20, 0x20  …  0x20, 0x39, 0x39, 0x2e, 0x35, 0x30, 0x25, 0x20, 0x7c, 0x0a])"
      ]
     },
     "metadata": {},
     "output_type": "display_data"
    }
   ],
   "source": [
    "showtable(WB, LANGS) # weighted norm: *l"
   ]
  },
  {
   "cell_type": "code",
   "execution_count": 23,
   "metadata": {},
   "outputs": [
    {
     "name": "stdout",
     "output_type": "stream",
     "text": [
      "|                           | Average | ara     | bel     | ben     | bul     | cat     | ces    | dan    | deu    | ell     | eng     | epo     | fas     | fin    | fra     | hau    | hbs    | heb     | hin    | hun    | ido    | ina    | isl    | ita    | jpn    | kab    | kor     | kur    | lat    | lit     | mar    | mkd     | msa    | nds     | nld    | nor    | pol     | por    | ron    | rus     | slk    | spa     | swa    | swe    | tat    | tgl    | tur    | ukr     | vie    | yid    | zho    |\n",
      "|---------------------------|---------|---------|---------|---------|---------|---------|--------|--------|--------|---------|---------|---------|---------|--------|---------|--------|--------|---------|--------|--------|--------|--------|--------|--------|--------|--------|---------|--------|--------|---------|--------|---------|--------|---------|--------|--------|---------|--------|--------|---------|--------|---------|--------|--------|--------|--------|--------|---------|--------|--------|--------|\n",
      "| LanguageIdentification.jl |  98.71% | 100.00% | 100.00% | 100.00% | 100.00% | 100.00% | 97.50% | 98.50% | 96.50% | 100.00% | 100.00% | 100.00% | 100.00% | 99.50% | 100.00% | 99.50% | 95.50% | 100.00% | 93.00% | 99.00% | 95.00% | 97.50% | 98.50% | 99.50% | 98.00% | 99.00% | 100.00% | 99.00% | 99.00% | 100.00% | 96.50% | 100.00% | 99.50% | 100.00% | 97.50% | 99.50% | 100.00% | 99.50% | 91.00% | 100.00% | 97.50% | 100.00% | 99.50% | 99.00% | 99.50% | 99.50% | 99.00% | 100.00% | 96.50% | 98.50% | 98.50% |\n"
     ]
    },
    {
     "data": {
      "text/markdown": [
       "|                           | Average | ara     | bel     | ben     | bul     | cat     | ces    | dan    | deu    | ell     | eng     | epo     | fas     | fin    | fra     | hau    | hbs    | heb     | hin    | hun    | ido    | ina    | isl    | ita    | jpn    | kab    | kor     | kur    | lat    | lit     | mar    | mkd     | msa    | nds     | nld    | nor    | pol     | por    | ron    | rus     | slk    | spa     | swa    | swe    | tat    | tgl    | tur    | ukr     | vie    | yid    | zho    |\n",
       "|---------------------------|---------|---------|---------|---------|---------|---------|--------|--------|--------|---------|---------|---------|---------|--------|---------|--------|--------|---------|--------|--------|--------|--------|--------|--------|--------|--------|---------|--------|--------|---------|--------|---------|--------|---------|--------|--------|---------|--------|--------|---------|--------|---------|--------|--------|--------|--------|--------|---------|--------|--------|--------|\n",
       "| LanguageIdentification.jl |  98.71% | 100.00% | 100.00% | 100.00% | 100.00% | 100.00% | 97.50% | 98.50% | 96.50% | 100.00% | 100.00% | 100.00% | 100.00% | 99.50% | 100.00% | 99.50% | 95.50% | 100.00% | 93.00% | 99.00% | 95.00% | 97.50% | 98.50% | 99.50% | 98.00% | 99.00% | 100.00% | 99.00% | 99.00% | 100.00% | 96.50% | 100.00% | 99.50% | 100.00% | 97.50% | 99.50% | 100.00% | 99.50% | 91.00% | 100.00% | 97.50% | 100.00% | 99.50% | 99.00% | 99.50% | 99.50% | 99.00% | 100.00% | 96.50% | 98.50% | 98.50% |\n"
      ],
      "text/plain": [
       "DisplayAs.Raw.Showable{MIME{Symbol(\"text/markdown\")}}(UInt8[0x7c, 0x20, 0x20, 0x20, 0x20, 0x20, 0x20, 0x20, 0x20, 0x20  …  0x20, 0x39, 0x38, 0x2e, 0x35, 0x30, 0x25, 0x20, 0x7c, 0x0a])"
      ]
     },
     "metadata": {},
     "output_type": "display_data"
    }
   ],
   "source": [
    "showtable(WB, LANGS) # cutoff=2, vocabulary=5000, ngram=4:4"
   ]
  },
  {
   "cell_type": "code",
   "execution_count": 20,
   "metadata": {},
   "outputs": [
    {
     "name": "stdout",
     "output_type": "stream",
     "text": [
      "|                           | Average | ara     | bel     | ben     | bul     | cat     | ces    | dan    | deu    | ell     | eng     | epo     | fas     | fin    | fra     | hau    | hbs    | heb     | hin    | hun    | ido    | ina    | isl    | ita    | jpn    | kab    | kor     | kur    | lat    | lit     | mar    | mkd     | msa     | nds    | nld    | nor    | pol     | por    | ron    | rus     | slk    | spa    | swa    | swe    | tat    | tgl    | tur    | ukr     | vie    | yid    | zho     |\n",
      "|---------------------------|---------|---------|---------|---------|---------|---------|--------|--------|--------|---------|---------|---------|---------|--------|---------|--------|--------|---------|--------|--------|--------|--------|--------|--------|--------|--------|---------|--------|--------|---------|--------|---------|---------|--------|--------|--------|---------|--------|--------|---------|--------|--------|--------|--------|--------|--------|--------|---------|--------|--------|---------|\n",
      "| LanguageIdentification.jl |  98.55% | 100.00% | 100.00% | 100.00% | 100.00% | 100.00% | 97.00% | 98.50% | 96.00% | 100.00% | 100.00% | 100.00% | 100.00% | 99.50% | 100.00% | 99.50% | 93.50% | 100.00% | 92.50% | 98.50% | 95.00% | 97.00% | 98.50% | 99.50% | 98.00% | 99.00% | 100.00% | 99.00% | 99.00% | 100.00% | 96.00% | 100.00% | 100.00% | 99.50% | 97.50% | 98.00% | 100.00% | 99.50% | 90.50% | 100.00% | 97.50% | 99.50% | 99.00% | 98.50% | 99.50% | 98.50% | 99.00% | 100.00% | 96.50% | 98.50% | 100.00% |\n"
     ]
    },
    {
     "data": {
      "text/markdown": [
       "|                           | Average | ara     | bel     | ben     | bul     | cat     | ces    | dan    | deu    | ell     | eng     | epo     | fas     | fin    | fra     | hau    | hbs    | heb     | hin    | hun    | ido    | ina    | isl    | ita    | jpn    | kab    | kor     | kur    | lat    | lit     | mar    | mkd     | msa     | nds    | nld    | nor    | pol     | por    | ron    | rus     | slk    | spa    | swa    | swe    | tat    | tgl    | tur    | ukr     | vie    | yid    | zho     |\n",
       "|---------------------------|---------|---------|---------|---------|---------|---------|--------|--------|--------|---------|---------|---------|---------|--------|---------|--------|--------|---------|--------|--------|--------|--------|--------|--------|--------|--------|---------|--------|--------|---------|--------|---------|---------|--------|--------|--------|---------|--------|--------|---------|--------|--------|--------|--------|--------|--------|--------|---------|--------|--------|---------|\n",
       "| LanguageIdentification.jl |  98.55% | 100.00% | 100.00% | 100.00% | 100.00% | 100.00% | 97.00% | 98.50% | 96.00% | 100.00% | 100.00% | 100.00% | 100.00% | 99.50% | 100.00% | 99.50% | 93.50% | 100.00% | 92.50% | 98.50% | 95.00% | 97.00% | 98.50% | 99.50% | 98.00% | 99.00% | 100.00% | 99.00% | 99.00% | 100.00% | 96.00% | 100.00% | 100.00% | 99.50% | 97.50% | 98.00% | 100.00% | 99.50% | 90.50% | 100.00% | 97.50% | 99.50% | 99.00% | 98.50% | 99.50% | 98.50% | 99.00% | 100.00% | 96.50% | 98.50% | 100.00% |\n"
      ],
      "text/plain": [
       "DisplayAs.Raw.Showable{MIME{Symbol(\"text/markdown\")}}(UInt8[0x7c, 0x20, 0x20, 0x20, 0x20, 0x20, 0x20, 0x20, 0x20, 0x20  …  0x31, 0x30, 0x30, 0x2e, 0x30, 0x30, 0x25, 0x20, 0x7c, 0x0a])"
      ]
     },
     "metadata": {},
     "output_type": "display_data"
    }
   ],
   "source": [
    "showtable(WB, LANGS) # cutoff=2, vocabulary=5000, ngram=3:4"
   ]
  },
  {
   "cell_type": "code",
   "execution_count": 12,
   "metadata": {},
   "outputs": [
    {
     "name": "stdout",
     "output_type": "stream",
     "text": [
      "|                           | Average    | ara        | bel         | ben         | bul         | cat         | ces        | dan        | deu        | ell         | eng         | epo         | fas         | fin        | fra         | hau        | hbs        | heb         | hin        | hun        | ido        | ina        | isl        | ita        | jpn        | kab        | kor         | kur        | lat        | lit         | mar        | mkd        | msa        | nds        | nld        | nor        | pol         | por        | ron        | rus         | slk        | spa        | swa        | swe        | tat        | tgl        | tur        | ukr         | vie        | yid        | zho        |\n",
      "|---------------------------|------------|------------|-------------|-------------|-------------|-------------|------------|------------|------------|-------------|-------------|-------------|-------------|------------|-------------|------------|------------|-------------|------------|------------|------------|------------|------------|------------|------------|------------|-------------|------------|------------|-------------|------------|------------|------------|------------|------------|------------|-------------|------------|------------|-------------|------------|------------|------------|------------|------------|------------|------------|-------------|------------|------------|------------|\n",
      "| LanguageIdentification.jl | **98.31%** | **99.50%** | **100.00%** | **100.00%** | **100.00%** | **100.00%** | **96.50%** | **99.00%** | **96.50%** | **100.00%** | **100.00%** | **100.00%** | **100.00%** | **99.00%** | **100.00%** | **99.50%** | **87.00%** | **100.00%** | **91.00%** | **99.00%** | **94.50%** | **97.00%** | **98.50%** | **99.50%** | **98.00%** | **99.00%** | **100.00%** | **99.00%** | **98.50%** | **100.00%** | **95.50%** | **99.00%** | **99.50%** | **99.50%** | **97.50%** | **98.00%** | **100.00%** | **99.50%** | **90.50%** | **100.00%** | **97.00%** | **99.50%** | **99.00%** | **98.50%** | **99.00%** | **98.50%** | **99.00%** | **100.00%** | **97.00%** | **98.50%** | **99.50%** |\n"
     ]
    },
    {
     "data": {
      "text/markdown": [
       "|                           | Average    | ara        | bel         | ben         | bul         | cat         | ces        | dan        | deu        | ell         | eng         | epo         | fas         | fin        | fra         | hau        | hbs        | heb         | hin        | hun        | ido        | ina        | isl        | ita        | jpn        | kab        | kor         | kur        | lat        | lit         | mar        | mkd        | msa        | nds        | nld        | nor        | pol         | por        | ron        | rus         | slk        | spa        | swa        | swe        | tat        | tgl        | tur        | ukr         | vie        | yid        | zho        |\n",
       "|---------------------------|------------|------------|-------------|-------------|-------------|-------------|------------|------------|------------|-------------|-------------|-------------|-------------|------------|-------------|------------|------------|-------------|------------|------------|------------|------------|------------|------------|------------|------------|-------------|------------|------------|-------------|------------|------------|------------|------------|------------|------------|-------------|------------|------------|-------------|------------|------------|------------|------------|------------|------------|------------|-------------|------------|------------|------------|\n",
       "| LanguageIdentification.jl | **98.31%** | **99.50%** | **100.00%** | **100.00%** | **100.00%** | **100.00%** | **96.50%** | **99.00%** | **96.50%** | **100.00%** | **100.00%** | **100.00%** | **100.00%** | **99.00%** | **100.00%** | **99.50%** | **87.00%** | **100.00%** | **91.00%** | **99.00%** | **94.50%** | **97.00%** | **98.50%** | **99.50%** | **98.00%** | **99.00%** | **100.00%** | **99.00%** | **98.50%** | **100.00%** | **95.50%** | **99.00%** | **99.50%** | **99.50%** | **97.50%** | **98.00%** | **100.00%** | **99.50%** | **90.50%** | **100.00%** | **97.00%** | **99.50%** | **99.00%** | **98.50%** | **99.00%** | **98.50%** | **99.00%** | **100.00%** | **97.00%** | **98.50%** | **99.50%** |\n"
      ],
      "text/plain": [
       "DisplayAs.Raw.Showable{MIME{Symbol(\"text/markdown\")}}(UInt8[0x7c, 0x20, 0x20, 0x20, 0x20, 0x20, 0x20, 0x20, 0x20, 0x20  …  0x39, 0x2e, 0x35, 0x30, 0x25, 0x2a, 0x2a, 0x20, 0x7c, 0x0a])"
      ]
     },
     "metadata": {},
     "output_type": "display_data"
    }
   ],
   "source": [
    "showtable(WB, LANGS) # #vocabulary=1:5000, cutoff=2"
   ]
  },
  {
   "cell_type": "code",
   "execution_count": 4,
   "metadata": {},
   "outputs": [
    {
     "name": "stdout",
     "output_type": "stream",
     "text": [
      "|                           | Average    | ara        | bel        | ben         | bul        | cat         | ces        | dan        | deu        | ell         | eng         | epo         | fas         | fin        | fra         | hau        | hbs        | heb         | hin        | hun        | ido        | ina        | isl        | ita         | jpn        | kab        | kor         | kur        | lat        | lit         | mar        | mkd        | msa        | nds        | nld        | nor        | pol         | por        | ron        | rus        | slk        | spa         | swa        | swe        | tat        | tgl        | tur        | ukr         | vie        | yid        | zho        |\n",
      "|---------------------------|------------|------------|------------|-------------|------------|-------------|------------|------------|------------|-------------|-------------|-------------|-------------|------------|-------------|------------|------------|-------------|------------|------------|------------|------------|------------|-------------|------------|------------|-------------|------------|------------|-------------|------------|------------|------------|------------|------------|------------|-------------|------------|------------|------------|------------|-------------|------------|------------|------------|------------|------------|-------------|------------|------------|------------|\n",
      "| LanguageIdentification.jl | **98.20%** | **99.50%** | **99.50%** | **100.00%** | **99.00%** | **100.00%** | **96.50%** | **98.50%** | **96.50%** | **100.00%** | **100.00%** | **100.00%** | **100.00%** | **99.50%** | **100.00%** | **99.50%** | **87.00%** | **100.00%** | **91.00%** | **99.00%** | **92.50%** | **97.00%** | **98.50%** | **100.00%** | **98.00%** | **99.00%** | **100.00%** | **99.00%** | **98.50%** | **100.00%** | **95.50%** | **97.50%** | **99.50%** | **99.50%** | **97.00%** | **98.00%** | **100.00%** | **99.50%** | **90.00%** | **99.50%** | **97.00%** | **100.00%** | **99.50%** | **98.50%** | **99.00%** | **98.50%** | **98.50%** | **100.00%** | **97.00%** | **98.50%** | **99.50%** |\n"
     ]
    },
    {
     "data": {
      "text/markdown": [
       "|                           | Average    | ara        | bel        | ben         | bul        | cat         | ces        | dan        | deu        | ell         | eng         | epo         | fas         | fin        | fra         | hau        | hbs        | heb         | hin        | hun        | ido        | ina        | isl        | ita         | jpn        | kab        | kor         | kur        | lat        | lit         | mar        | mkd        | msa        | nds        | nld        | nor        | pol         | por        | ron        | rus        | slk        | spa         | swa        | swe        | tat        | tgl        | tur        | ukr         | vie        | yid        | zho        |\n",
       "|---------------------------|------------|------------|------------|-------------|------------|-------------|------------|------------|------------|-------------|-------------|-------------|-------------|------------|-------------|------------|------------|-------------|------------|------------|------------|------------|------------|-------------|------------|------------|-------------|------------|------------|-------------|------------|------------|------------|------------|------------|------------|-------------|------------|------------|------------|------------|-------------|------------|------------|------------|------------|------------|-------------|------------|------------|------------|\n",
       "| LanguageIdentification.jl | **98.20%** | **99.50%** | **99.50%** | **100.00%** | **99.00%** | **100.00%** | **96.50%** | **98.50%** | **96.50%** | **100.00%** | **100.00%** | **100.00%** | **100.00%** | **99.50%** | **100.00%** | **99.50%** | **87.00%** | **100.00%** | **91.00%** | **99.00%** | **92.50%** | **97.00%** | **98.50%** | **100.00%** | **98.00%** | **99.00%** | **100.00%** | **99.00%** | **98.50%** | **100.00%** | **95.50%** | **97.50%** | **99.50%** | **99.50%** | **97.00%** | **98.00%** | **100.00%** | **99.50%** | **90.00%** | **99.50%** | **97.00%** | **100.00%** | **99.50%** | **98.50%** | **99.00%** | **98.50%** | **98.50%** | **100.00%** | **97.00%** | **98.50%** | **99.50%** |\n"
      ],
      "text/plain": [
       "DisplayAs.Raw.Showable{MIME{Symbol(\"text/markdown\")}}(UInt8[0x7c, 0x20, 0x20, 0x20, 0x20, 0x20, 0x20, 0x20, 0x20, 0x20  …  0x39, 0x2e, 0x35, 0x30, 0x25, 0x2a, 0x2a, 0x20, 0x7c, 0x0a])"
      ]
     },
     "metadata": {},
     "output_type": "display_data"
    }
   ],
   "source": [
    "showtable(WB, LANGS) # default: cutoff=0.85, vocabulary=1000:5000"
   ]
  },
  {
   "cell_type": "code",
   "execution_count": 22,
   "metadata": {},
   "outputs": [
    {
     "name": "stdout",
     "output_type": "stream",
     "text": [
      "|                           | Average | ara    | bel    | ben     | bul    | cat     | ces    | dan    | deu    | ell     | eng     | epo     | fas     | fin    | fra     | hau    | hbs    | heb     | hin    | hun    | ido    | ina    | isl    | ita     | jpn    | kab    | kor     | kur    | lat    | lit     | mar    | mkd    | msa    | nds    | nld    | nor    | pol     | por    | ron    | rus    | slk    | spa     | swa    | swe    | tat    | tgl    | tur    | ukr     | vie    | yid    | zho    |\n",
      "|---------------------------|---------|--------|--------|---------|--------|---------|--------|--------|--------|---------|---------|---------|---------|--------|---------|--------|--------|---------|--------|--------|--------|--------|--------|---------|--------|--------|---------|--------|--------|---------|--------|--------|--------|--------|--------|--------|---------|--------|--------|--------|--------|---------|--------|--------|--------|--------|--------|---------|--------|--------|--------|\n",
      "| LanguageIdentification.jl |  97.98% | 99.50% | 99.50% | 100.00% | 98.00% | 100.00% | 96.50% | 98.50% | 96.50% | 100.00% | 100.00% | 100.00% | 100.00% | 99.50% | 100.00% | 99.50% | 94.00% | 100.00% | 88.50% | 99.00% | 92.50% | 97.00% | 98.50% | 100.00% | 98.00% | 99.00% | 100.00% | 99.00% | 98.50% | 100.00% | 91.00% | 88.00% | 99.50% | 99.50% | 97.00% | 98.00% | 100.00% | 99.50% | 90.00% | 99.50% | 97.00% | 100.00% | 99.50% | 98.50% | 99.00% | 98.50% | 98.50% | 100.00% | 97.00% | 98.50% | 99.00% |\n"
     ]
    },
    {
     "data": {
      "text/markdown": [
       "|                           | Average | ara    | bel    | ben     | bul    | cat     | ces    | dan    | deu    | ell     | eng     | epo     | fas     | fin    | fra     | hau    | hbs    | heb     | hin    | hun    | ido    | ina    | isl    | ita     | jpn    | kab    | kor     | kur    | lat    | lit     | mar    | mkd    | msa    | nds    | nld    | nor    | pol     | por    | ron    | rus    | slk    | spa     | swa    | swe    | tat    | tgl    | tur    | ukr     | vie    | yid    | zho    |\n",
       "|---------------------------|---------|--------|--------|---------|--------|---------|--------|--------|--------|---------|---------|---------|---------|--------|---------|--------|--------|---------|--------|--------|--------|--------|--------|---------|--------|--------|---------|--------|--------|---------|--------|--------|--------|--------|--------|--------|---------|--------|--------|--------|--------|---------|--------|--------|--------|--------|--------|---------|--------|--------|--------|\n",
       "| LanguageIdentification.jl |  97.98% | 99.50% | 99.50% | 100.00% | 98.00% | 100.00% | 96.50% | 98.50% | 96.50% | 100.00% | 100.00% | 100.00% | 100.00% | 99.50% | 100.00% | 99.50% | 94.00% | 100.00% | 88.50% | 99.00% | 92.50% | 97.00% | 98.50% | 100.00% | 98.00% | 99.00% | 100.00% | 99.00% | 98.50% | 100.00% | 91.00% | 88.00% | 99.50% | 99.50% | 97.00% | 98.00% | 100.00% | 99.50% | 90.00% | 99.50% | 97.00% | 100.00% | 99.50% | 98.50% | 99.00% | 98.50% | 98.50% | 100.00% | 97.00% | 98.50% | 99.00% |\n"
      ],
      "text/plain": [
       "DisplayAs.Raw.Showable{MIME{Symbol(\"text/markdown\")}}(UInt8[0x7c, 0x20, 0x20, 0x20, 0x20, 0x20, 0x20, 0x20, 0x20, 0x20  …  0x20, 0x39, 0x39, 0x2e, 0x30, 0x30, 0x25, 0x20, 0x7c, 0x0a])"
      ]
     },
     "metadata": {},
     "output_type": "display_data"
    }
   ],
   "source": [
    "showtable(WB, LANGS) #vocabulary=1:5000"
   ]
  },
  {
   "cell_type": "code",
   "execution_count": 10,
   "metadata": {},
   "outputs": [
    {
     "name": "stdout",
     "output_type": "stream",
     "text": [
      "|                           | Average | ara    | bel    | ben     | bul    | cat     | ces    | dan    | deu    | ell     | eng     | epo     | fas     | fin    | fra     | hau    | hbs    | heb     | hin    | hun    | ido    | ina    | isl    | ita     | jpn    | kab    | kor     | kur    | lat    | lit     | mar    | mkd    | msa    | nds    | nld    | nor    | pol     | por    | ron    | rus    | slk    | spa     | swa    | swe    | tat    | tgl    | tur    | ukr     | vie    | yid    | zho    |\n",
      "|---------------------------|---------|--------|--------|---------|--------|---------|--------|--------|--------|---------|---------|---------|---------|--------|---------|--------|--------|---------|--------|--------|--------|--------|--------|---------|--------|--------|---------|--------|--------|---------|--------|--------|--------|--------|--------|--------|---------|--------|--------|--------|--------|---------|--------|--------|--------|--------|--------|---------|--------|--------|--------|\n",
      "| LanguageIdentification.jl |  98.12% | 99.50% | 99.50% | 100.00% | 99.00% | 100.00% | 97.00% | 98.50% | 96.50% | 100.00% | 100.00% | 100.00% | 100.00% | 99.00% | 100.00% | 98.50% | 86.50% | 100.00% | 90.50% | 99.50% | 91.50% | 93.50% | 98.50% | 100.00% | 98.50% | 99.00% | 100.00% | 99.00% | 98.50% | 100.00% | 96.50% | 98.00% | 99.50% | 99.50% | 97.00% | 97.00% | 100.00% | 99.50% | 90.00% | 99.50% | 97.00% | 100.00% | 99.50% | 98.50% | 99.00% | 98.50% | 99.00% | 100.00% | 96.50% | 99.50% | 99.50% |\n"
     ]
    },
    {
     "data": {
      "text/markdown": [
       "|                           | Average | ara    | bel    | ben     | bul    | cat     | ces    | dan    | deu    | ell     | eng     | epo     | fas     | fin    | fra     | hau    | hbs    | heb     | hin    | hun    | ido    | ina    | isl    | ita     | jpn    | kab    | kor     | kur    | lat    | lit     | mar    | mkd    | msa    | nds    | nld    | nor    | pol     | por    | ron    | rus    | slk    | spa     | swa    | swe    | tat    | tgl    | tur    | ukr     | vie    | yid    | zho    |\n",
       "|---------------------------|---------|--------|--------|---------|--------|---------|--------|--------|--------|---------|---------|---------|---------|--------|---------|--------|--------|---------|--------|--------|--------|--------|--------|---------|--------|--------|---------|--------|--------|---------|--------|--------|--------|--------|--------|--------|---------|--------|--------|--------|--------|---------|--------|--------|--------|--------|--------|---------|--------|--------|--------|\n",
       "| LanguageIdentification.jl |  98.12% | 99.50% | 99.50% | 100.00% | 99.00% | 100.00% | 97.00% | 98.50% | 96.50% | 100.00% | 100.00% | 100.00% | 100.00% | 99.00% | 100.00% | 98.50% | 86.50% | 100.00% | 90.50% | 99.50% | 91.50% | 93.50% | 98.50% | 100.00% | 98.50% | 99.00% | 100.00% | 99.00% | 98.50% | 100.00% | 96.50% | 98.00% | 99.50% | 99.50% | 97.00% | 97.00% | 100.00% | 99.50% | 90.00% | 99.50% | 97.00% | 100.00% | 99.50% | 98.50% | 99.00% | 98.50% | 99.00% | 100.00% | 96.50% | 99.50% | 99.50% |\n"
      ],
      "text/plain": [
       "DisplayAs.Raw.Showable{MIME{Symbol(\"text/markdown\")}}(UInt8[0x7c, 0x20, 0x20, 0x20, 0x20, 0x20, 0x20, 0x20, 0x20, 0x20  …  0x20, 0x39, 0x39, 0x2e, 0x35, 0x30, 0x25, 0x20, 0x7c, 0x0a])"
      ]
     },
     "metadata": {},
     "output_type": "display_data"
    }
   ],
   "source": [
    "showtable(WB, LANGS) #vocabulary=1000:5000"
   ]
  },
  {
   "cell_type": "code",
   "execution_count": 17,
   "metadata": {},
   "outputs": [
    {
     "name": "stdout",
     "output_type": "stream",
     "text": [
      "|                           | Average | ara     | bel    | ben     | bul    | cat     | ces    | dan    | deu    | ell     | eng     | epo     | fas     | fin    | fra     | hau    | hbs    | heb     | hin    | hun    | ido    | ina    | isl    | ita     | jpn    | kab    | kor     | kur    | lat    | lit     | mar    | mkd    | msa    | nds    | nld    | nor    | pol     | por    | ron    | rus    | slk    | spa     | swa    | swe    | tat    | tgl    | tur    | ukr     | vie    | yid    | zho    |\n",
      "|---------------------------|---------|---------|--------|---------|--------|---------|--------|--------|--------|---------|---------|---------|---------|--------|---------|--------|--------|---------|--------|--------|--------|--------|--------|---------|--------|--------|---------|--------|--------|---------|--------|--------|--------|--------|--------|--------|---------|--------|--------|--------|--------|---------|--------|--------|--------|--------|--------|---------|--------|--------|--------|\n",
      "| LanguageIdentification.jl |  98.13% | 100.00% | 99.50% | 100.00% | 99.50% | 100.00% | 96.50% | 98.50% | 96.50% | 100.00% | 100.00% | 100.00% | 100.00% | 99.50% | 100.00% | 99.50% | 81.00% | 100.00% | 91.00% | 99.00% | 92.50% | 97.00% | 98.50% | 100.00% | 98.00% | 99.00% | 100.00% | 99.00% | 98.50% | 100.00% | 95.50% | 98.50% | 99.50% | 99.50% | 97.00% | 98.00% | 100.00% | 99.50% | 90.00% | 99.50% | 97.00% | 100.00% | 99.50% | 98.50% | 99.00% | 98.50% | 99.00% | 100.00% | 97.00% | 98.50% | 99.50% |\n"
     ]
    },
    {
     "data": {
      "text/markdown": [
       "|                           | Average | ara     | bel    | ben     | bul    | cat     | ces    | dan    | deu    | ell     | eng     | epo     | fas     | fin    | fra     | hau    | hbs    | heb     | hin    | hun    | ido    | ina    | isl    | ita     | jpn    | kab    | kor     | kur    | lat    | lit     | mar    | mkd    | msa    | nds    | nld    | nor    | pol     | por    | ron    | rus    | slk    | spa     | swa    | swe    | tat    | tgl    | tur    | ukr     | vie    | yid    | zho    |\n",
       "|---------------------------|---------|---------|--------|---------|--------|---------|--------|--------|--------|---------|---------|---------|---------|--------|---------|--------|--------|---------|--------|--------|--------|--------|--------|---------|--------|--------|---------|--------|--------|---------|--------|--------|--------|--------|--------|--------|---------|--------|--------|--------|--------|---------|--------|--------|--------|--------|--------|---------|--------|--------|--------|\n",
       "| LanguageIdentification.jl |  98.13% | 100.00% | 99.50% | 100.00% | 99.50% | 100.00% | 96.50% | 98.50% | 96.50% | 100.00% | 100.00% | 100.00% | 100.00% | 99.50% | 100.00% | 99.50% | 81.00% | 100.00% | 91.00% | 99.00% | 92.50% | 97.00% | 98.50% | 100.00% | 98.00% | 99.00% | 100.00% | 99.00% | 98.50% | 100.00% | 95.50% | 98.50% | 99.50% | 99.50% | 97.00% | 98.00% | 100.00% | 99.50% | 90.00% | 99.50% | 97.00% | 100.00% | 99.50% | 98.50% | 99.00% | 98.50% | 99.00% | 100.00% | 97.00% | 98.50% | 99.50% |\n"
      ],
      "text/plain": [
       "DisplayAs.Raw.Showable{MIME{Symbol(\"text/markdown\")}}(UInt8[0x7c, 0x20, 0x20, 0x20, 0x20, 0x20, 0x20, 0x20, 0x20, 0x20  …  0x20, 0x39, 0x39, 0x2e, 0x35, 0x30, 0x25, 0x20, 0x7c, 0x0a])"
      ]
     },
     "metadata": {},
     "output_type": "display_data"
    }
   ],
   "source": [
    "showtable(WB, LANGS) #vocabulary=2000:5000"
   ]
  },
  {
   "cell_type": "code",
   "execution_count": 14,
   "metadata": {},
   "outputs": [
    {
     "name": "stdout",
     "output_type": "stream",
     "text": [
      "|                           | Average | ara    | bel     | ben     | bul     | cat     | ces    | dan    | deu    | ell     | eng     | epo     | fas     | fin    | fra     | hau    | hbs    | heb     | hin    | hun    | ido    | ina    | isl    | ita    | jpn    | kab    | kor     | kur    | lat    | lit     | mar    | mkd    | msa    | nds    | nld    | nor    | pol     | por    | ron    | rus     | slk    | spa    | swa    | swe    | tat    | tgl    | tur    | ukr     | vie    | yid    | zho    |\n",
      "|---------------------------|---------|--------|---------|---------|---------|---------|--------|--------|--------|---------|---------|---------|---------|--------|---------|--------|--------|---------|--------|--------|--------|--------|--------|--------|--------|--------|---------|--------|--------|---------|--------|--------|--------|--------|--------|--------|---------|--------|--------|---------|--------|--------|--------|--------|--------|--------|--------|---------|--------|--------|--------|\n",
      "| LanguageIdentification.jl |  98.31% | 99.50% | 100.00% | 100.00% | 100.00% | 100.00% | 96.50% | 99.00% | 96.50% | 100.00% | 100.00% | 100.00% | 100.00% | 99.00% | 100.00% | 99.50% | 87.00% | 100.00% | 91.00% | 99.00% | 94.50% | 97.00% | 98.50% | 99.50% | 98.00% | 99.00% | 100.00% | 99.00% | 98.50% | 100.00% | 95.50% | 99.00% | 99.50% | 99.50% | 97.50% | 98.00% | 100.00% | 99.50% | 90.50% | 100.00% | 97.00% | 99.50% | 99.00% | 98.50% | 99.00% | 98.50% | 99.00% | 100.00% | 97.00% | 98.50% | 99.50% |\n"
     ]
    },
    {
     "data": {
      "text/markdown": [
       "|                           | Average | ara    | bel     | ben     | bul     | cat     | ces    | dan    | deu    | ell     | eng     | epo     | fas     | fin    | fra     | hau    | hbs    | heb     | hin    | hun    | ido    | ina    | isl    | ita    | jpn    | kab    | kor     | kur    | lat    | lit     | mar    | mkd    | msa    | nds    | nld    | nor    | pol     | por    | ron    | rus     | slk    | spa    | swa    | swe    | tat    | tgl    | tur    | ukr     | vie    | yid    | zho    |\n",
       "|---------------------------|---------|--------|---------|---------|---------|---------|--------|--------|--------|---------|---------|---------|---------|--------|---------|--------|--------|---------|--------|--------|--------|--------|--------|--------|--------|--------|---------|--------|--------|---------|--------|--------|--------|--------|--------|--------|---------|--------|--------|---------|--------|--------|--------|--------|--------|--------|--------|---------|--------|--------|--------|\n",
       "| LanguageIdentification.jl |  98.31% | 99.50% | 100.00% | 100.00% | 100.00% | 100.00% | 96.50% | 99.00% | 96.50% | 100.00% | 100.00% | 100.00% | 100.00% | 99.00% | 100.00% | 99.50% | 87.00% | 100.00% | 91.00% | 99.00% | 94.50% | 97.00% | 98.50% | 99.50% | 98.00% | 99.00% | 100.00% | 99.00% | 98.50% | 100.00% | 95.50% | 99.00% | 99.50% | 99.50% | 97.50% | 98.00% | 100.00% | 99.50% | 90.50% | 100.00% | 97.00% | 99.50% | 99.00% | 98.50% | 99.00% | 98.50% | 99.00% | 100.00% | 97.00% | 98.50% | 99.50% |\n"
      ],
      "text/plain": [
       "DisplayAs.Raw.Showable{MIME{Symbol(\"text/markdown\")}}(UInt8[0x7c, 0x20, 0x20, 0x20, 0x20, 0x20, 0x20, 0x20, 0x20, 0x20  …  0x20, 0x39, 0x39, 0x2e, 0x35, 0x30, 0x25, 0x20, 0x7c, 0x0a])"
      ]
     },
     "metadata": {},
     "output_type": "display_data"
    }
   ],
   "source": [
    "showtable(WB, LANGS) #vocabulary=5000:5000"
   ]
  },
  {
   "cell_type": "code",
   "execution_count": 26,
   "metadata": {},
   "outputs": [
    {
     "name": "stdout",
     "output_type": "stream",
     "text": [
      "|                           | Average | ara    | bel    | ben     | bul    | cat     | ces    | dan    | deu    | ell     | eng     | epo     | fas     | fin    | fra     | hau    | hbs    | heb     | hin    | hun    | ido    | ina    | isl    | ita    | jpn    | kab    | kor     | kur    | lat    | lit     | mar    | mkd    | msa    | nds    | nld    | nor    | pol     | por    | ron    | rus    | slk    | spa    | swa    | swe    | tat    | tgl    | tur    | ukr     | vie    | yid    | zho    |\n",
      "|---------------------------|---------|--------|--------|---------|--------|---------|--------|--------|--------|---------|---------|---------|---------|--------|---------|--------|--------|---------|--------|--------|--------|--------|--------|--------|--------|--------|---------|--------|--------|---------|--------|--------|--------|--------|--------|--------|---------|--------|--------|--------|--------|--------|--------|--------|--------|--------|--------|---------|--------|--------|--------|\n",
      "| LanguageIdentification.jl |  97.90% | 99.50% | 99.50% | 100.00% | 99.50% | 100.00% | 96.50% | 99.00% | 96.50% | 100.00% | 100.00% | 100.00% | 100.00% | 99.00% | 100.00% | 99.50% | 94.00% | 100.00% | 84.50% | 99.00% | 94.50% | 96.00% | 98.50% | 99.50% | 98.00% | 99.00% | 100.00% | 99.00% | 98.50% | 100.00% | 87.00% | 89.50% | 99.50% | 99.50% | 97.50% | 98.00% | 100.00% | 99.50% | 90.50% | 99.50% | 97.00% | 99.50% | 99.00% | 98.50% | 99.50% | 98.50% | 98.50% | 100.00% | 97.00% | 98.00% | 99.50% |\n"
     ]
    },
    {
     "data": {
      "text/markdown": [
       "|                           | Average | ara    | bel    | ben     | bul    | cat     | ces    | dan    | deu    | ell     | eng     | epo     | fas     | fin    | fra     | hau    | hbs    | heb     | hin    | hun    | ido    | ina    | isl    | ita    | jpn    | kab    | kor     | kur    | lat    | lit     | mar    | mkd    | msa    | nds    | nld    | nor    | pol     | por    | ron    | rus    | slk    | spa    | swa    | swe    | tat    | tgl    | tur    | ukr     | vie    | yid    | zho    |\n",
       "|---------------------------|---------|--------|--------|---------|--------|---------|--------|--------|--------|---------|---------|---------|---------|--------|---------|--------|--------|---------|--------|--------|--------|--------|--------|--------|--------|--------|---------|--------|--------|---------|--------|--------|--------|--------|--------|--------|---------|--------|--------|--------|--------|--------|--------|--------|--------|--------|--------|---------|--------|--------|--------|\n",
       "| LanguageIdentification.jl |  97.90% | 99.50% | 99.50% | 100.00% | 99.50% | 100.00% | 96.50% | 99.00% | 96.50% | 100.00% | 100.00% | 100.00% | 100.00% | 99.00% | 100.00% | 99.50% | 94.00% | 100.00% | 84.50% | 99.00% | 94.50% | 96.00% | 98.50% | 99.50% | 98.00% | 99.00% | 100.00% | 99.00% | 98.50% | 100.00% | 87.00% | 89.50% | 99.50% | 99.50% | 97.50% | 98.00% | 100.00% | 99.50% | 90.50% | 99.50% | 97.00% | 99.50% | 99.00% | 98.50% | 99.50% | 98.50% | 98.50% | 100.00% | 97.00% | 98.00% | 99.50% |\n"
      ],
      "text/plain": [
       "DisplayAs.Raw.Showable{MIME{Symbol(\"text/markdown\")}}(UInt8[0x7c, 0x20, 0x20, 0x20, 0x20, 0x20, 0x20, 0x20, 0x20, 0x20  …  0x20, 0x39, 0x39, 0x2e, 0x35, 0x30, 0x25, 0x20, 0x7c, 0x0a])"
      ]
     },
     "metadata": {},
     "output_type": "display_data"
    }
   ],
   "source": [
    "showtable(WB, LANGS) #vocabulary=1:5000, cutoff=0.9"
   ]
  },
  {
   "cell_type": "code",
   "execution_count": 29,
   "metadata": {},
   "outputs": [
    {
     "name": "stdout",
     "output_type": "stream",
     "text": [
      "|                           | Average | ara    | bel     | ben     | bul    | cat     | ces    | dan    | deu    | ell     | eng     | epo     | fas     | fin    | fra     | hau    | hbs    | heb     | hin    | hun    | ido    | ina    | isl    | ita    | jpn    | kab    | kor     | kur    | lat    | lit     | mar    | mkd    | msa    | nds    | nld    | nor    | pol     | por    | ron    | rus    | slk    | spa    | swa    | swe    | tat    | tgl    | tur    | ukr     | vie    | yid    | zho    |\n",
      "|---------------------------|---------|--------|---------|---------|--------|---------|--------|--------|--------|---------|---------|---------|---------|--------|---------|--------|--------|---------|--------|--------|--------|--------|--------|--------|--------|--------|---------|--------|--------|---------|--------|--------|--------|--------|--------|--------|---------|--------|--------|--------|--------|--------|--------|--------|--------|--------|--------|---------|--------|--------|--------|\n",
      "| LanguageIdentification.jl |  98.37% | 99.50% | 100.00% | 100.00% | 99.00% | 100.00% | 96.50% | 99.00% | 96.50% | 100.00% | 100.00% | 100.00% | 100.00% | 99.00% | 100.00% | 99.50% | 94.00% | 100.00% | 91.00% | 99.00% | 94.50% | 96.00% | 98.50% | 99.50% | 98.00% | 99.00% | 100.00% | 99.00% | 98.50% | 100.00% | 95.50% | 97.50% | 99.50% | 99.50% | 97.50% | 98.00% | 100.00% | 99.50% | 90.50% | 99.50% | 97.00% | 99.50% | 99.00% | 98.50% | 99.50% | 98.50% | 98.50% | 100.00% | 97.00% | 98.50% | 99.50% |\n"
     ]
    },
    {
     "data": {
      "text/markdown": [
       "|                           | Average | ara    | bel     | ben     | bul    | cat     | ces    | dan    | deu    | ell     | eng     | epo     | fas     | fin    | fra     | hau    | hbs    | heb     | hin    | hun    | ido    | ina    | isl    | ita    | jpn    | kab    | kor     | kur    | lat    | lit     | mar    | mkd    | msa    | nds    | nld    | nor    | pol     | por    | ron    | rus    | slk    | spa    | swa    | swe    | tat    | tgl    | tur    | ukr     | vie    | yid    | zho    |\n",
       "|---------------------------|---------|--------|---------|---------|--------|---------|--------|--------|--------|---------|---------|---------|---------|--------|---------|--------|--------|---------|--------|--------|--------|--------|--------|--------|--------|--------|---------|--------|--------|---------|--------|--------|--------|--------|--------|--------|---------|--------|--------|--------|--------|--------|--------|--------|--------|--------|--------|---------|--------|--------|--------|\n",
       "| LanguageIdentification.jl |  98.37% | 99.50% | 100.00% | 100.00% | 99.00% | 100.00% | 96.50% | 99.00% | 96.50% | 100.00% | 100.00% | 100.00% | 100.00% | 99.00% | 100.00% | 99.50% | 94.00% | 100.00% | 91.00% | 99.00% | 94.50% | 96.00% | 98.50% | 99.50% | 98.00% | 99.00% | 100.00% | 99.00% | 98.50% | 100.00% | 95.50% | 97.50% | 99.50% | 99.50% | 97.50% | 98.00% | 100.00% | 99.50% | 90.50% | 99.50% | 97.00% | 99.50% | 99.00% | 98.50% | 99.50% | 98.50% | 98.50% | 100.00% | 97.00% | 98.50% | 99.50% |\n"
      ],
      "text/plain": [
       "DisplayAs.Raw.Showable{MIME{Symbol(\"text/markdown\")}}(UInt8[0x7c, 0x20, 0x20, 0x20, 0x20, 0x20, 0x20, 0x20, 0x20, 0x20  …  0x20, 0x39, 0x39, 0x2e, 0x35, 0x30, 0x25, 0x20, 0x7c, 0x0a])"
      ]
     },
     "metadata": {},
     "output_type": "display_data"
    }
   ],
   "source": [
    "showtable(WB, LANGS) #vocabulary=1000:5000, cutoff=0.9"
   ]
  },
  {
   "cell_type": "code",
   "execution_count": 34,
   "metadata": {},
   "outputs": [
    {
     "name": "stdout",
     "output_type": "stream",
     "text": [
      "|                           | Average | ara     | bel     | ben     | bul     | cat     | ces    | dan    | deu    | ell     | eng     | epo     | fas     | fin    | fra     | hau    | hbs    | heb     | hin    | hun    | ido    | ina    | isl    | ita     | jpn    | kab    | kor     | kur    | lat    | lit     | mar    | mkd    | msa    | nds    | nld    | nor    | pol     | por    | ron    | rus    | slk    | spa     | swa    | swe    | tat    | tgl    | tur    | ukr     | vie    | yid    | zho     |\n",
      "|---------------------------|---------|---------|---------|---------|---------|---------|--------|--------|--------|---------|---------|---------|---------|--------|---------|--------|--------|---------|--------|--------|--------|--------|--------|---------|--------|--------|---------|--------|--------|---------|--------|--------|--------|--------|--------|--------|---------|--------|--------|--------|--------|---------|--------|--------|--------|--------|--------|---------|--------|--------|---------|\n",
      "| LanguageIdentification.jl |  98.35% | 100.00% | 100.00% | 100.00% | 100.00% | 100.00% | 97.00% | 99.00% | 96.50% | 100.00% | 100.00% | 100.00% | 100.00% | 99.50% | 100.00% | 99.50% | 88.00% | 100.00% | 91.00% | 99.00% | 95.00% | 96.00% | 98.50% | 100.00% | 98.00% | 99.00% | 100.00% | 99.00% | 98.50% | 100.00% | 95.50% | 98.50% | 99.50% | 99.50% | 97.50% | 98.00% | 100.00% | 99.50% | 90.00% | 99.50% | 97.00% | 100.00% | 99.00% | 98.50% | 99.00% | 98.50% | 99.00% | 100.00% | 97.00% | 98.50% | 100.00% |\n"
     ]
    },
    {
     "data": {
      "text/markdown": [
       "|                           | Average | ara     | bel     | ben     | bul     | cat     | ces    | dan    | deu    | ell     | eng     | epo     | fas     | fin    | fra     | hau    | hbs    | heb     | hin    | hun    | ido    | ina    | isl    | ita     | jpn    | kab    | kor     | kur    | lat    | lit     | mar    | mkd    | msa    | nds    | nld    | nor    | pol     | por    | ron    | rus    | slk    | spa     | swa    | swe    | tat    | tgl    | tur    | ukr     | vie    | yid    | zho     |\n",
       "|---------------------------|---------|---------|---------|---------|---------|---------|--------|--------|--------|---------|---------|---------|---------|--------|---------|--------|--------|---------|--------|--------|--------|--------|--------|---------|--------|--------|---------|--------|--------|---------|--------|--------|--------|--------|--------|--------|---------|--------|--------|--------|--------|---------|--------|--------|--------|--------|--------|---------|--------|--------|---------|\n",
       "| LanguageIdentification.jl |  98.35% | 100.00% | 100.00% | 100.00% | 100.00% | 100.00% | 97.00% | 99.00% | 96.50% | 100.00% | 100.00% | 100.00% | 100.00% | 99.50% | 100.00% | 99.50% | 88.00% | 100.00% | 91.00% | 99.00% | 95.00% | 96.00% | 98.50% | 100.00% | 98.00% | 99.00% | 100.00% | 99.00% | 98.50% | 100.00% | 95.50% | 98.50% | 99.50% | 99.50% | 97.50% | 98.00% | 100.00% | 99.50% | 90.00% | 99.50% | 97.00% | 100.00% | 99.00% | 98.50% | 99.00% | 98.50% | 99.00% | 100.00% | 97.00% | 98.50% | 100.00% |\n"
      ],
      "text/plain": [
       "DisplayAs.Raw.Showable{MIME{Symbol(\"text/markdown\")}}(UInt8[0x7c, 0x20, 0x20, 0x20, 0x20, 0x20, 0x20, 0x20, 0x20, 0x20  …  0x31, 0x30, 0x30, 0x2e, 0x30, 0x30, 0x25, 0x20, 0x7c, 0x0a])"
      ]
     },
     "metadata": {},
     "output_type": "display_data"
    }
   ],
   "source": [
    "showtable(WB, LANGS) #vocabulary=3500:3500, cutoff=0.9"
   ]
  },
  {
   "cell_type": "code",
   "execution_count": 39,
   "metadata": {},
   "outputs": [
    {
     "name": "stdout",
     "output_type": "stream",
     "text": [
      "|                           | Average | ara     | bel    | ben     | bul    | cat     | ces    | dan    | deu    | ell     | eng     | epo     | fas     | fin    | fra     | hau    | hbs    | heb     | hin    | hun    | ido    | ina    | isl    | ita    | jpn    | kab    | kor     | kur    | lat    | lit     | mar    | mkd    | msa    | nds    | nld    | nor    | pol     | por    | ron    | rus    | slk    | spa    | swa    | swe    | tat    | tgl    | tur    | ukr     | vie    | yid    | zho    |\n",
      "|---------------------------|---------|---------|--------|---------|--------|---------|--------|--------|--------|---------|---------|---------|---------|--------|---------|--------|--------|---------|--------|--------|--------|--------|--------|--------|--------|--------|---------|--------|--------|---------|--------|--------|--------|--------|--------|--------|---------|--------|--------|--------|--------|--------|--------|--------|--------|--------|--------|---------|--------|--------|--------|\n",
      "| LanguageIdentification.jl |  98.14% | 100.00% | 99.50% | 100.00% | 99.50% | 100.00% | 96.50% | 99.00% | 96.50% | 100.00% | 100.00% | 100.00% | 100.00% | 99.00% | 100.00% | 99.50% | 81.00% | 100.00% | 91.00% | 99.00% | 94.50% | 96.00% | 98.50% | 99.50% | 98.00% | 99.00% | 100.00% | 99.00% | 98.50% | 100.00% | 95.50% | 98.50% | 99.50% | 99.50% | 97.50% | 98.00% | 100.00% | 99.50% | 90.50% | 99.50% | 97.00% | 99.50% | 99.00% | 98.50% | 99.00% | 98.50% | 99.00% | 100.00% | 97.00% | 98.50% | 99.50% |\n"
     ]
    },
    {
     "data": {
      "text/markdown": [
       "|                           | Average | ara     | bel    | ben     | bul    | cat     | ces    | dan    | deu    | ell     | eng     | epo     | fas     | fin    | fra     | hau    | hbs    | heb     | hin    | hun    | ido    | ina    | isl    | ita    | jpn    | kab    | kor     | kur    | lat    | lit     | mar    | mkd    | msa    | nds    | nld    | nor    | pol     | por    | ron    | rus    | slk    | spa    | swa    | swe    | tat    | tgl    | tur    | ukr     | vie    | yid    | zho    |\n",
       "|---------------------------|---------|---------|--------|---------|--------|---------|--------|--------|--------|---------|---------|---------|---------|--------|---------|--------|--------|---------|--------|--------|--------|--------|--------|--------|--------|--------|---------|--------|--------|---------|--------|--------|--------|--------|--------|--------|---------|--------|--------|--------|--------|--------|--------|--------|--------|--------|--------|---------|--------|--------|--------|\n",
       "| LanguageIdentification.jl |  98.14% | 100.00% | 99.50% | 100.00% | 99.50% | 100.00% | 96.50% | 99.00% | 96.50% | 100.00% | 100.00% | 100.00% | 100.00% | 99.00% | 100.00% | 99.50% | 81.00% | 100.00% | 91.00% | 99.00% | 94.50% | 96.00% | 98.50% | 99.50% | 98.00% | 99.00% | 100.00% | 99.00% | 98.50% | 100.00% | 95.50% | 98.50% | 99.50% | 99.50% | 97.50% | 98.00% | 100.00% | 99.50% | 90.50% | 99.50% | 97.00% | 99.50% | 99.00% | 98.50% | 99.00% | 98.50% | 99.00% | 100.00% | 97.00% | 98.50% | 99.50% |\n"
      ],
      "text/plain": [
       "DisplayAs.Raw.Showable{MIME{Symbol(\"text/markdown\")}}(UInt8[0x7c, 0x20, 0x20, 0x20, 0x20, 0x20, 0x20, 0x20, 0x20, 0x20  …  0x20, 0x39, 0x39, 0x2e, 0x35, 0x30, 0x25, 0x20, 0x7c, 0x0a])"
      ]
     },
     "metadata": {},
     "output_type": "display_data"
    }
   ],
   "source": [
    "showtable(WB, LANGS) #vocabulary=2000:5000, cutoff=0.9"
   ]
  },
  {
   "cell_type": "code",
   "execution_count": 9,
   "metadata": {},
   "outputs": [
    {
     "data": {
      "text/plain": [
       "4246.64"
      ]
     },
     "metadata": {},
     "output_type": "display_data"
    }
   ],
   "source": []
  }
 ],
 "metadata": {
  "kernelspec": {
   "display_name": "Julia 1.9.3",
   "language": "julia",
   "name": "julia-1.9"
  },
  "language_info": {
   "file_extension": ".jl",
   "mimetype": "application/julia",
   "name": "julia",
   "version": "1.9.3"
  },
  "orig_nbformat": 4
 },
 "nbformat": 4,
 "nbformat_minor": 2
}
