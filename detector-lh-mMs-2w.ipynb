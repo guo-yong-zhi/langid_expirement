{
 "cells": [
  {
   "cell_type": "code",
   "execution_count": 34,
   "metadata": {},
   "outputs": [],
   "source": [
    "using Revise\n",
    "include(\"ngrams.jl\")\n",
    "include(\"datasetloader.jl\")\n",
    "LANGS = [\"ara\", \"bel\", \"ben\", \"bul\", \"cat\", \"ces\", \"dan\", \"deu\", \"ell\", \n",
    "\"eng\", \"epo\", \"fas\", \"fin\", \"fra\", \"hau\", \"hbs\", \"heb\", \"hin\", \"hun\", \n",
    "\"ido\", \"ina\", \"isl\", \"ita\", \"jpn\", \"kab\", \"kor\", \"kur\", \"lat\", \"lit\", \n",
    "\"mar\", \"mkd\", \"msa\", \"nds\", \"nld\", \"nor\", \"pol\", \"por\", \"ron\", \"rus\", \n",
    "\"slk\", \"spa\", \"swa\", \"swe\", \"tat\", \"tgl\", \"tur\", \"ukr\", \"vie\", \"yid\", \n",
    "\"zho\"]\n",
    "G = [lang => load_ngrams(joinpath(\"ngrams\", lang * \".txt\")) for lang in LANGS];\n",
    "sort([l=>sum(values(D)) for (l,D) in G], by=last, rev=true)\n"
   ]
  },
  {
   "cell_type": "code",
   "execution_count": 36,
   "metadata": {},
   "outputs": [
    {
     "data": {
      "text/plain": [
       "norm_table! (generic function with 1 method)"
      ]
     },
     "metadata": {},
     "output_type": "display_data"
    }
   ],
   "source": [
    "function norm_table!(t)\n",
    "    D = last(t)\n",
    "    vs = sum(values(D))\n",
    "    for (k, v) in D\n",
    "        D[k] /= vs\n",
    "        D[k] = log(D[k])\n",
    "    end\n",
    "end\n",
    "function likelihood(t, logt, default_logp=DEFAULT_LOGP)\n",
    "    sc = 0.\n",
    "    for (code, p) in t\n",
    "        sc += p * get(logt, code, default_logp)\n",
    "    end\n",
    "    sc\n",
    "end\n",
    "function detector_lh(text; ngram=5, languages=LANGS, logtable=LOG_T)\n",
    "    t = merged_ngrams(text, ngram)\n",
    "    lhs = likelihood.(Ref(t), logtable)\n",
    "    languages[argmax(lhs)]\n",
    "end"
   ]
  },
  {
   "cell_type": "code",
   "execution_count": 37,
   "metadata": {},
   "outputs": [],
   "source": [
    "norm_table!.(G);\n",
    "LOG_T = last.(G);\n",
    "DEFAULT_LOGP = (minimum.(values.(last.((G))))|>minimum)\n"
   ]
  },
  {
   "cell_type": "code",
   "execution_count": null,
   "metadata": {},
   "outputs": [],
   "source": [
    "include(\"benchmark.jl\")\n",
    "WV = WikiDataSet(\"corpus/wikipedia/test\", langs=LANGS)\n",
    "TV = TatoebaDataset(\"corpus/tatoeba\", \"tatoeba_test.txt\", langs=LANGS)"
   ]
  },
  {
   "cell_type": "code",
   "execution_count": 44,
   "metadata": {},
   "outputs": [
    {
     "name": "stdout",
     "output_type": "stream",
     "text": [
      "likelihood-n4"
     ]
    },
    {
     "name": "stdout",
     "output_type": "stream",
     "text": [
      "115.172757 seconds (1.63 G allocations: 28.833 GiB, 5.06% gc time, 0.21% compilation time: 8% of which was recompilation)\n"
     ]
    },
    {
     "name": "stdout",
     "output_type": "stream",
     "text": [
      "likelihood-n3 67.683621 seconds (885.58 M allocations: 16.358 GiB, 4.84% gc time, 0.09% compilation time)\n"
     ]
    },
    {
     "data": {
      "text/plain": [
       "2-element Vector{Any}:\n",
       " \"likelihood-n4\" => [1.0, 0.99, 1.0, 0.995, 1.0, 0.98, 0.99, 0.965, 1.0, 1.0  …  1.0, 0.985, 0.985, 0.995, 0.985, 0.985, 1.0, 0.965, 0.985, 0.995]\n",
       " \"likelihood-n3\" => [1.0, 0.99, 1.0, 0.98, 0.995, 0.985, 0.97, 0.96, 1.0, 1.0  …  1.0, 0.985, 0.985, 0.995, 0.985, 0.985, 1.0, 0.965, 0.975, 0.995]"
      ]
     },
     "metadata": {},
     "output_type": "display_data"
    }
   ],
   "source": [
    "WB = benchmark(\n",
    "    # \"likelihood-n5\"=>detector_lh, \n",
    "    \"likelihood-n4\"=>t->detector_lh(t, ngram=4),\n",
    "    \"likelihood-n3\"=>t->detector_lh(t, ngram=3),\n",
    "dataset=WV, languages=LANGS)"
   ]
  },
  {
   "cell_type": "code",
   "execution_count": 45,
   "metadata": {},
   "outputs": [
    {
     "name": "stdout",
     "output_type": "stream",
     "text": [
      "|               | Average | ara     | bel    | ben     | bul    | cat     | ces    | dan    | deu    | ell     | eng     | epo     | fas     | fin    | fra     | hau    | hbs    | heb     | hin    | hun     | ido    | ina    | isl    | ita    | jpn    | kab    | kor     | kur    | lat    | lit     | mar    | mkd    | msa    | nds    | nld    | nor    | pol     | por    | ron    | rus     | slk    | spa     | swa    | swe    | tat    | tgl    | tur    | ukr     | vie    | yid    | zho    |\n",
      "|---------------|---------|---------|--------|---------|--------|---------|--------|--------|--------|---------|---------|---------|---------|--------|---------|--------|--------|---------|--------|---------|--------|--------|--------|--------|--------|--------|---------|--------|--------|---------|--------|--------|--------|--------|--------|--------|---------|--------|--------|---------|--------|---------|--------|--------|--------|--------|--------|---------|--------|--------|--------|\n",
      "| likelihood-n4 |  96.89% | 100.00% | 99.00% | 100.00% | 99.50% | 100.00% | 98.00% | 99.00% | 96.50% | 100.00% | 100.00% | 100.00% | 100.00% | 99.00% | 100.00% | 99.00% | 30.50% | 100.00% | 89.50% |  99.50% | 93.50% | 92.50% | 98.50% | 99.00% | 99.00% | 99.00% | 100.00% | 99.00% | 97.00% | 100.00% | 94.50% | 98.00% | 99.00% | 99.00% | 97.00% | 95.00% |  99.50% | 99.50% | 91.00% | 100.00% | 97.00% | 100.00% | 98.50% | 98.50% | 99.50% | 98.50% | 98.50% | 100.00% | 96.50% | 98.50% | 99.50% |\n",
      "| likelihood-n3 |  95.95% | 100.00% | 99.00% | 100.00% | 98.00% |  99.50% | 98.50% | 97.00% | 96.00% | 100.00% | 100.00% |  99.50% | 100.00% | 99.00% | 100.00% | 98.50% |  8.50% | 100.00% | 89.50% | 100.00% | 90.00% | 85.00% | 98.50% | 98.50% | 99.00% | 99.00% | 100.00% | 99.00% | 97.00% | 100.00% | 92.50% | 96.50% | 99.00% | 99.00% | 96.50% | 91.50% | 100.00% | 99.50% | 90.50% |  99.50% | 97.00% | 100.00% | 98.50% | 98.50% | 99.50% | 98.50% | 98.50% | 100.00% | 96.50% | 97.50% | 99.50% |\n"
     ]
    },
    {
     "data": {
      "text/markdown": [
       "|               | Average | ara     | bel    | ben     | bul    | cat     | ces    | dan    | deu    | ell     | eng     | epo     | fas     | fin    | fra     | hau    | hbs    | heb     | hin    | hun     | ido    | ina    | isl    | ita    | jpn    | kab    | kor     | kur    | lat    | lit     | mar    | mkd    | msa    | nds    | nld    | nor    | pol     | por    | ron    | rus     | slk    | spa     | swa    | swe    | tat    | tgl    | tur    | ukr     | vie    | yid    | zho    |\n",
       "|---------------|---------|---------|--------|---------|--------|---------|--------|--------|--------|---------|---------|---------|---------|--------|---------|--------|--------|---------|--------|---------|--------|--------|--------|--------|--------|--------|---------|--------|--------|---------|--------|--------|--------|--------|--------|--------|---------|--------|--------|---------|--------|---------|--------|--------|--------|--------|--------|---------|--------|--------|--------|\n",
       "| likelihood-n4 |  96.89% | 100.00% | 99.00% | 100.00% | 99.50% | 100.00% | 98.00% | 99.00% | 96.50% | 100.00% | 100.00% | 100.00% | 100.00% | 99.00% | 100.00% | 99.00% | 30.50% | 100.00% | 89.50% |  99.50% | 93.50% | 92.50% | 98.50% | 99.00% | 99.00% | 99.00% | 100.00% | 99.00% | 97.00% | 100.00% | 94.50% | 98.00% | 99.00% | 99.00% | 97.00% | 95.00% |  99.50% | 99.50% | 91.00% | 100.00% | 97.00% | 100.00% | 98.50% | 98.50% | 99.50% | 98.50% | 98.50% | 100.00% | 96.50% | 98.50% | 99.50% |\n",
       "| likelihood-n3 |  95.95% | 100.00% | 99.00% | 100.00% | 98.00% |  99.50% | 98.50% | 97.00% | 96.00% | 100.00% | 100.00% |  99.50% | 100.00% | 99.00% | 100.00% | 98.50% |  8.50% | 100.00% | 89.50% | 100.00% | 90.00% | 85.00% | 98.50% | 98.50% | 99.00% | 99.00% | 100.00% | 99.00% | 97.00% | 100.00% | 92.50% | 96.50% | 99.00% | 99.00% | 96.50% | 91.50% | 100.00% | 99.50% | 90.50% |  99.50% | 97.00% | 100.00% | 98.50% | 98.50% | 99.50% | 98.50% | 98.50% | 100.00% | 96.50% | 97.50% | 99.50% |\n"
      ],
      "text/plain": [
       "DisplayAs.Raw.Showable{MIME{Symbol(\"text/markdown\")}}(UInt8[0x7c, 0x20, 0x20, 0x20, 0x20, 0x20, 0x20, 0x20, 0x20, 0x20  …  0x20, 0x39, 0x39, 0x2e, 0x35, 0x30, 0x25, 0x20, 0x7c, 0x0a])"
      ]
     },
     "metadata": {},
     "output_type": "display_data"
    }
   ],
   "source": [
    "showtable(WB, LANGS, threshold=-0.5)"
   ]
  },
  {
   "cell_type": "code",
   "execution_count": 46,
   "metadata": {},
   "outputs": [
    {
     "name": "stdout",
     "output_type": "stream",
     "text": [
      "likelihood-n5"
     ]
    },
    {
     "name": "stdout",
     "output_type": "stream",
     "text": [
      "  8.466144 seconds (90.29 M allocations: 1.663 GiB, 4.02% gc time, 0.05% compilation time)\n"
     ]
    },
    {
     "data": {
      "text/plain": [
       "1-element Vector{Any}:\n",
       " \"likelihood-n5\" => [0.99, 0.785]"
      ]
     },
     "metadata": {},
     "output_type": "display_data"
    }
   ],
   "source": [
    "WB2 = benchmark(\n",
    "    \"likelihood-n5\"=>detector_lh, \n",
    "    # \"likelihood-n4\"=>t->detector_lh(t, ngram=4),\n",
    "    # \"likelihood-n3\"=>t->detector_lh(t, ngram=3),\n",
    "dataset=WV, languages=(\"mkd\", \"hbs\"))"
   ]
  },
  {
   "cell_type": "code",
   "execution_count": 47,
   "metadata": {},
   "outputs": [
    {
     "name": "stdout",
     "output_type": "stream",
     "text": [
      "likelihood-n5 29.418582 seconds (117.75 M allocations: 2.000 GiB, 1.36% gc time, 0.05% compilation time)\n"
     ]
    },
    {
     "data": {
      "text/plain": [
       "1-element Vector{Any}:\n",
       " \"likelihood-n5\" => [0.9329065300896286, 0.19799498746867167]"
      ]
     },
     "metadata": {},
     "output_type": "display_data"
    }
   ],
   "source": [
    "WB2 = benchmark(\n",
    "    \"likelihood-n5\"=>detector_lh, \n",
    "    # \"likelihood-n4\"=>t->detector_lh(t, ngram=4),\n",
    "    # \"likelihood-n3\"=>t->detector_lh(t, ngram=3),\n",
    "dataset=TV, languages=(\"mkd\", \"hbs\"))"
   ]
  }
 ],
 "metadata": {
  "kernelspec": {
   "display_name": "Julia 1.9.1",
   "language": "julia",
   "name": "julia-1.9"
  },
  "language_info": {
   "file_extension": ".jl",
   "mimetype": "application/julia",
   "name": "julia",
   "version": "1.9.1"
  },
  "orig_nbformat": 4
 },
 "nbformat": 4,
 "nbformat_minor": 2
}
