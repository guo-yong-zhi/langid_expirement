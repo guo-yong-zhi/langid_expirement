{
 "cells": [
  {
   "cell_type": "code",
   "execution_count": 3,
   "metadata": {},
   "outputs": [
    {
     "name": "stdout",
     "output_type": "stream",
     "text": [
      "DEFAULT_LOGP = -16.96272550019555"
     ]
    },
    {
     "name": "stderr",
     "output_type": "stream",
     "text": [
      "WARNING: redefinition of constant TLANGS. This may fail, cause incorrect answers, or produce other errors.\n",
      "WARNING: redefinition of constant WLANGS. This may fail, cause incorrect answers, or produce other errors.\n",
      "WARNING: redefinition of constant LANGS. This may fail, cause incorrect answers, or produce other errors.\n",
      "WARNING: redefinition of constant WLANGMAP. This may fail, cause incorrect answers, or produce other errors.\n",
      "WARNING: redefinition of constant TLANGMAP. This may fail, cause incorrect answers, or produce other errors.\n",
      "WARNING: redefinition of constant REV_WLANGMAP. This may fail, cause incorrect answers, or produce other errors.\n",
      "WARNING: redefinition of constant REV_TLANGMAP. This may fail, cause incorrect answers, or produce other errors.\n",
      "WARNING: redefinition of constant G. This may fail, cause incorrect answers, or produce other errors.\n",
      "WARNING: redefinition of constant LOG_T. This may fail, cause incorrect answers, or produce other errors.\n"
     ]
    },
    {
     "name": "stdout",
     "output_type": "stream",
     "text": [
      "\n"
     ]
    },
    {
     "data": {
      "text/plain": [
       "50-element Vector{Pair{String, Float64}}:\n",
       " \"hin\" => -8797.724574822692\n",
       " \"mar\" => -8883.22172507665\n",
       " \"ben\" => -9693.853278087463\n",
       " \"kor\" => -11431.444493382447\n",
       " \"yid\" => -16692.1574533958\n",
       " \"ell\" => -16706.645888533705\n",
       " \"zho\" => -17697.78643318567\n",
       " \"kur\" => -18380.6471131489\n",
       " \"fas\" => -19033.302935907108\n",
       " \"ara\" => -19640.972026095507\n",
       "       ⋮\n",
       " \"ita\" => -93949.61187997264\n",
       " \"por\" => -95301.91129702934\n",
       " \"hun\" => -98137.76120527613\n",
       " \"spa\" => -98175.55828448996\n",
       " \"fra\" => -99175.99425282731\n",
       " \"epo\" => -99407.52006551283\n",
       " \"tur\" => -103180.99057869807\n",
       " \"deu\" => -111545.89082674608\n",
       " \"eng\" => -114039.14045988451"
      ]
     },
     "metadata": {},
     "output_type": "display_data"
    }
   ],
   "source": [
    "using Revise\n",
    "include(\"detector.jl\")\n",
    "@show DEFAULT_LOGP\n",
    "sort([l=>sum(values(D)) for (l,D) in G], by=last, rev=true)"
   ]
  },
  {
   "cell_type": "code",
   "execution_count": 2,
   "metadata": {},
   "outputs": [
    {
     "data": {
      "text/plain": [
       "521469-element TatoebaDataset:\n",
       "             \"Pardonu, permesu al mi indiki tri erarojn en la supra artikolo.\" => \"epo\"\n",
       "                                          \"Mi veturigos vin al la flughaveno.\" => \"epo\"\n",
       "                                                                 \"Kio mankas?\" => \"epo\"\n",
       "                                            \"Aĥ, kiam ili renkontiĝos denove?\" => \"epo\"\n",
       " \"Kiam mi estis infano, mi pasigis multajn horojn legante sola en mia ĉambro.\" => \"epo\"\n",
       "                                              \"Ŝajnas, ke la trajno malfruas.\" => \"epo\"\n",
       "                                                                \"Venu rapide!\" => \"epo\"\n",
       "                                                   \"Li montris al mi albumon.\" => \"epo\"\n",
       "                                                             \"Estis du kukoj.\" => \"epo\"\n",
       "                                      \"Mia filo scipovas jam nombri ĝis cent.\" => \"epo\"\n",
       "                                                                               ⋮\n",
       "                                                      \"Tohle pivo je výborné.\" => \"ces\"\n",
       "                                              \"Musíš se řídit matčinou radou.\" => \"ces\"\n",
       "                                             \"Tom potvrdil všechno, co řekli.\" => \"ces\"\n",
       "                                                        \"Byl obnoven pořádek.\" => \"ces\"\n",
       "                                              \"Medvědi jsou velmi nebezpeční.\" => \"ces\"\n",
       "                                     \"Buď vděčný za to, že můžeš být s Tomem.\" => \"ces\"\n",
       "                                                \"Neštěstí nechodí nikdy samo.\" => \"ces\"\n",
       "                                                    \"Problémem nejsou peníze.\" => \"ces\"\n",
       "                                         \"Tom koupil několik bochníků chleba.\" => \"ces\""
      ]
     },
     "metadata": {},
     "output_type": "display_data"
    }
   ],
   "source": [
    "include(\"benchmark.jl\")\n",
    "WV = WikiDataSet(\"corpus/wikipedia/test\", langs=LANGS)\n",
    "TV = TatoebaDataset(\"corpus/tatoeba\", \"tatoeba_test.txt\", langs=LANGS)"
   ]
  },
  {
   "cell_type": "code",
   "execution_count": 6,
   "metadata": {},
   "outputs": [
    {
     "name": "stdout",
     "output_type": "stream",
     "text": [
      "likelihood-n4"
     ]
    },
    {
     "name": "stdout",
     "output_type": "stream",
     "text": [
      "  2.634462 seconds (43.06 M allocations: 786.032 MiB, 5.20% gc time, 3.11% compilation time)\n",
      "  2.751650 seconds (43.20 M allocations: 795.076 MiB, 4.97% gc time, 7.21% compilation time)\n"
     ]
    },
    {
     "data": {
      "text/plain": [
       "1-element Vector{Any}:\n",
       " \"likelihood-n4\" => [0.9892436974789915]"
      ]
     },
     "metadata": {},
     "output_type": "display_data"
    }
   ],
   "source": [
    "@time benchmark(\n",
    "    # \"likelihood-n5\"=>detector_lh, \n",
    "    \"likelihood-n4\"=>t->detector_lh(t, ngram=4),\n",
    "    # \"likelihood-n3\"=>t->detector_lh(t, ngram=3),\n",
    "dataset=TV, languages=LANGS[1:1])"
   ]
  },
  {
   "cell_type": "code",
   "execution_count": 5,
   "metadata": {},
   "outputs": [
    {
     "name": "stdout",
     "output_type": "stream",
     "text": [
      "likelihood-n4"
     ]
    },
    {
     "name": "stdout",
     "output_type": "stream",
     "text": [
      "  3.193283 seconds (25.27 M allocations: 782.866 MiB, 4.49% gc time, 0.20% compilation time)\n",
      "  3.282124 seconds (25.30 M allocations: 784.941 MiB, 4.37% gc time, 2.88% compilation time)\n"
     ]
    },
    {
     "data": {
      "text/plain": [
       "1-element Vector{Any}:\n",
       " \"likelihood-n4\" => [0.9892436974789915]"
      ]
     },
     "metadata": {},
     "output_type": "display_data"
    }
   ],
   "source": [
    "@time benchmark(\n",
    "    # \"likelihood-n5\"=>detector_lh, \n",
    "    \"likelihood-n4\"=>t->detector_lh2(t, ngram=4),\n",
    "    # \"likelihood-n3\"=>t->detector_lh(t, ngram=3),\n",
    "dataset=TV, languages=LANGS[1:1])"
   ]
  },
  {
   "cell_type": "code",
   "execution_count": 5,
   "metadata": {},
   "outputs": [],
   "source": [
    "using StatProfilerHTML"
   ]
  },
  {
   "cell_type": "code",
   "execution_count": 6,
   "metadata": {},
   "outputs": [
    {
     "name": "stdout",
     "output_type": "stream",
     "text": [
      "likelihood-n4"
     ]
    },
    {
     "name": "stdout",
     "output_type": "stream",
     "text": [
      " 46.746342 seconds (566.53 M allocations: 9.317 GiB, 3.14% gc time, 1.05% compilation time)"
     ]
    },
    {
     "name": "stdout",
     "output_type": "stream",
     "text": [
      "\n"
     ]
    },
    {
     "name": "stderr",
     "output_type": "stream",
     "text": [
      "┌ Info: Wrote profiling output to file://c:\\Users\\momos\\repositories\\langid_expirement\\statprof/index.html .\n",
      "└ @ StatProfilerHTML C:\\Users\\momos\\.julia\\packages\\StatProfilerHTML\\DKdvQ\\src\\StatProfilerHTML.jl:28\n"
     ]
    },
    {
     "data": {
      "text/plain": [
       "1-element Vector{Any}:\n",
       " \"likelihood-n4\" => [0.9829764453961456, 0.9871677360219981, 0.16040100250626566, 0.9901384600059767, 0.8805774278215223]"
      ]
     },
     "metadata": {},
     "output_type": "display_data"
    }
   ],
   "source": [
    "\n",
    "@profilehtml benchmark(\n",
    "    # \"likelihood-n5\"=>detector_lh, \n",
    "    \"likelihood-n4\"=>t->detector_lh(t, ngram=4),\n",
    "    # \"likelihood-n3\"=>t->detector_lh(t, ngram=3),\n",
    "dataset=TV, languages=LANGS[14:18])"
   ]
  },
  {
   "cell_type": "code",
   "execution_count": 2,
   "metadata": {},
   "outputs": [],
   "source": [
    "using JET"
   ]
  },
  {
   "cell_type": "code",
   "execution_count": 3,
   "metadata": {},
   "outputs": [
    {
     "data": {
      "text/plain": [
       "\u001b[7m═════ 4 possible errors found ═════\u001b[27m\n",
       "\u001b[35m┌ \u001b[39m\u001b[0m\u001b[1mkwcall\u001b[22m\u001b[0m\u001b[1m(\u001b[22m::\u001b[0mNamedTuple\u001b[90m{(:ngram,), Tuple{Int64}}\u001b[39m, ::\u001b[0mtypeof(detector_lh), \u001b[90mtext\u001b[39m::\u001b[0mString\u001b[0m\u001b[1m)\u001b[22m \u001b[35m@ \u001b[39m\u001b[35mMain\u001b[39m\u001b[35m c:\\Users\\momos\\repositories\\langid_expirement\\detector.jl:22\u001b[39m\n",
       "\u001b[35m│\u001b[39m\u001b[34m┌ \u001b[39m\u001b[0m\u001b[1mdetector_lh\u001b[22m\u001b[0m\u001b[1m(\u001b[22m\u001b[90mtext\u001b[39m::\u001b[0mString; \u001b[90mngram\u001b[39m::\u001b[0mInt64, \u001b[90mlanguages\u001b[39m::\u001b[0mVector\u001b[90m{String}\u001b[39m, \u001b[90mlogtable\u001b[39m::\u001b[0mVector\u001b[90m{Dict{Tuple{UInt8, Vararg{UInt8}}, Float64}}\u001b[39m\u001b[0m\u001b[1m)\u001b[22m \u001b[34m@ \u001b[39m\u001b[34mMain\u001b[39m\u001b[34m c:\\Users\\momos\\repositories\\langid_expirement\\detector.jl:23\u001b[39m\n",
       "\u001b[35m│\u001b[39m\u001b[34m│\u001b[39m\u001b[33m┌ \u001b[39m\u001b[0m\u001b[1mmerged_ngrams\u001b[22m\u001b[0m\u001b[1m(\u001b[22m\u001b[90mtext\u001b[39m::\u001b[0mString, \u001b[90mn\u001b[39m::\u001b[0mInt64\u001b[0m\u001b[1m)\u001b[22m \u001b[33m@ \u001b[39m\u001b[33mMain\u001b[39m\u001b[33m c:\\Users\\momos\\repositories\\langid_expirement\\ngrams.jl:21\u001b[39m\n",
       "\u001b[35m│\u001b[39m\u001b[34m│\u001b[39m\u001b[33m│\u001b[39m\u001b[32m┌ \u001b[39m\u001b[0m\u001b[1mmerged_ngrams\u001b[22m\u001b[0m\u001b[1m(\u001b[22m\u001b[90mtext\u001b[39m::\u001b[0mString, \u001b[90mn\u001b[39m::\u001b[0mInt64, \u001b[90mcounter\u001b[39m::\u001b[0mDict\u001b[90m{Tuple{Vararg{UInt8}}, Float64}\u001b[39m\u001b[0m\u001b[1m)\u001b[22m \u001b[32m@ \u001b[39m\u001b[32mMain\u001b[39m\u001b[32m c:\\Users\\momos\\repositories\\langid_expirement\\ngrams.jl:26\u001b[39m\n",
       "\u001b[35m│\u001b[39m\u001b[34m│\u001b[39m\u001b[33m│\u001b[39m\u001b[32m│\u001b[39m\u001b[35m┌ \u001b[39m\u001b[0m\u001b[1msetindex!\u001b[22m\u001b[0m\u001b[1m(\u001b[22m\u001b[90mh\u001b[39m::\u001b[0mDict\u001b[90m{Tuple{Vararg{UInt8}}, Float64}\u001b[39m, \u001b[90mv0\u001b[39m::\u001b[0mFloat64, \u001b[90mkey\u001b[39m::\u001b[0mTuple\u001b[90m{Vararg{UInt8}}\u001b[39m\u001b[0m\u001b[1m)\u001b[22m \u001b[35m@ \u001b[39m\u001b[35mBase\u001b[39m\u001b[35m ./dict.jl:370\u001b[39m\n",
       "\u001b[35m│\u001b[39m\u001b[34m│\u001b[39m\u001b[33m│\u001b[39m\u001b[32m│\u001b[39m\u001b[35m│\u001b[39m\u001b[34m┌ \u001b[39m\u001b[0m\u001b[1mht_keyindex2_shorthash!\u001b[22m\u001b[0m\u001b[1m(\u001b[22m\u001b[90mh\u001b[39m::\u001b[0mDict\u001b[90m{Tuple{Vararg{UInt8}}, Float64}\u001b[39m, \u001b[90mkey\u001b[39m::\u001b[0mTuple\u001b[90m{Vararg{UInt8}}\u001b[39m\u001b[0m\u001b[1m)\u001b[22m \u001b[34m@ \u001b[39m\u001b[34mBase\u001b[39m\u001b[34m ./dict.jl:333\u001b[39m\n",
       "\u001b[35m│\u001b[39m\u001b[34m│\u001b[39m\u001b[33m│\u001b[39m\u001b[32m│\u001b[39m\u001b[35m│\u001b[39m\u001b[34m│\u001b[39m\u001b[91m┌ \u001b[39m\u001b[0m\u001b[1mrehash!\u001b[22m\u001b[0m\u001b[1m(\u001b[22m\u001b[90mh\u001b[39m::\u001b[0mDict\u001b[90m{Tuple{Vararg{UInt8}}, Float64}\u001b[39m, \u001b[90mnewsz\u001b[39m::\u001b[0mInt64\u001b[0m\u001b[1m)\u001b[22m \u001b[91m@ \u001b[39m\u001b[91mBase\u001b[39m\u001b[91m ./dict.jl:194\u001b[39m\n",
       "\u001b[35m│\u001b[39m\u001b[34m│\u001b[39m\u001b[33m│\u001b[39m\u001b[32m│\u001b[39m\u001b[35m│\u001b[39m\u001b[34m│\u001b[39m\u001b[91m│ \u001b[39m\u001b[91mruntime dispatch detected\u001b[39m\u001b[91m: \u001b[39m\u001b[0m\u001b[1mBase.hashindex\u001b[22m\u001b[0m\u001b[1m(\u001b[22m\u001b[0m\u001b[1m%232\u001b[22m\u001b[96m\u001b[1m::Tuple{Vararg{UInt8}}\u001b[22m\u001b[39m\u001b[0m\u001b[1m, \u001b[22m\u001b[0m\u001b[1m%19\u001b[22m\u001b[96m\u001b[1m::Int64\u001b[22m\u001b[39m\u001b[0m\u001b[1m)\u001b[22m\u001b[96m\u001b[1m::Tuple{Int64, UInt8}\u001b[22m\u001b[39m\n",
       "\u001b[35m│\u001b[39m\u001b[34m│\u001b[39m\u001b[33m│\u001b[39m\u001b[32m│\u001b[39m\u001b[35m│\u001b[39m\u001b[34m│\u001b[39m\u001b[91m└────────────────────\u001b[39m\n",
       "\u001b[35m│\u001b[39m\u001b[34m│\u001b[39m\u001b[33m│\u001b[39m\u001b[91m┌ \u001b[39m\u001b[0m\u001b[1mmerged_ngrams\u001b[22m\u001b[0m\u001b[1m(\u001b[22m\u001b[90mtext\u001b[39m::\u001b[0mString, \u001b[90mn\u001b[39m::\u001b[0mInt64, \u001b[90mcounter\u001b[39m::\u001b[0mDict\u001b[90m{Tuple{Vararg{UInt8}}, Float64}\u001b[39m\u001b[0m\u001b[1m)\u001b[22m \u001b[91m@ \u001b[39m\u001b[91mMain\u001b[39m\u001b[91m c:\\Users\\momos\\repositories\\langid_expirement\\ngrams.jl:26\u001b[39m\n",
       "\u001b[35m│\u001b[39m\u001b[34m│\u001b[39m\u001b[33m│\u001b[39m\u001b[91m│ \u001b[39m\u001b[91mruntime dispatch detected\u001b[39m\u001b[91m: \u001b[39m\u001b[0m\u001b[1mget\u001b[22m\u001b[0m\u001b[1m(\u001b[22m\u001b[0m\u001b[1mcounter\u001b[22m\u001b[96m\u001b[1m::Dict{Tuple{Vararg{UInt8}}, Float64}\u001b[22m\u001b[39m\u001b[0m\u001b[1m, \u001b[22m\u001b[0m\u001b[1m%98\u001b[22m\u001b[96m\u001b[1m::Tuple{Vararg{UInt8}}\u001b[22m\u001b[39m\u001b[0m\u001b[1m, \u001b[22m\u001b[0m\u001b[1m0.0\u001b[22m\u001b[0m\u001b[1m)\u001b[22m\u001b[96m\u001b[1m::Float64\u001b[22m\u001b[39m\n",
       "\u001b[35m│\u001b[39m\u001b[34m│\u001b[39m\u001b[33m│\u001b[39m\u001b[91m└────────────────────\u001b[39m\n",
       "\u001b[35m│\u001b[39m\u001b[34m│\u001b[39m\u001b[33m│\u001b[39m\u001b[91m┌ \u001b[39m\u001b[0m\u001b[1mmerged_ngrams\u001b[22m\u001b[0m\u001b[1m(\u001b[22m\u001b[90mtext\u001b[39m::\u001b[0mString, \u001b[90mn\u001b[39m::\u001b[0mInt64, \u001b[90mcounter\u001b[39m::\u001b[0mDict\u001b[90m{Tuple{Vararg{UInt8}}, Float64}\u001b[39m\u001b[0m\u001b[1m)\u001b[22m \u001b[91m@ \u001b[39m\u001b[91mMain\u001b[39m\u001b[91m c:\\Users\\momos\\repositories\\langid_expirement\\ngrams.jl:26\u001b[39m\n",
       "\u001b[35m│\u001b[39m\u001b[34m│\u001b[39m\u001b[33m│\u001b[39m\u001b[91m│ \u001b[39m\u001b[91mruntime dispatch detected\u001b[39m\u001b[91m: \u001b[39m\u001b[0m\u001b[1m(\u001b[22m\u001b[0m\u001b[1m(\u001b[22m\u001b[0m\u001b[1mcounter\u001b[22m\u001b[96m\u001b[1m::Dict{Tuple{Vararg{UInt8}}, Float64}\u001b[22m\u001b[39m\u001b[0m\u001b[1m)\u001b[22m\u001b[0m\u001b[1m[\u001b[22m\u001b[0m\u001b[1m%98\u001b[22m\u001b[96m\u001b[1m::Tuple{Vararg{UInt8}}\u001b[22m\u001b[39m\u001b[0m\u001b[1m]\u001b[22m\u001b[0m\u001b[1m = \u001b[22m\u001b[0m\u001b[1m%100\u001b[22m\u001b[96m\u001b[1m::Float64\u001b[22m\u001b[39m\u001b[96m\u001b[1m::Any\u001b[22m\u001b[39m\u001b[0m\u001b[1m)\u001b[22m\n",
       "\u001b[35m│\u001b[39m\u001b[34m│\u001b[39m\u001b[33m│\u001b[39m\u001b[91m└────────────────────\u001b[39m\n",
       "\u001b[35m│\u001b[39m\u001b[34m┌ \u001b[39m\u001b[0m\u001b[1mdetector_lh\u001b[22m\u001b[0m\u001b[1m(\u001b[22m\u001b[90mtext\u001b[39m::\u001b[0mString; \u001b[90mngram\u001b[39m::\u001b[0mInt64, \u001b[90mlanguages\u001b[39m::\u001b[0mVector\u001b[90m{String}\u001b[39m, \u001b[90mlogtable\u001b[39m::\u001b[0mVector\u001b[90m{Dict{Tuple{UInt8, Vararg{UInt8}}, Float64}}\u001b[39m\u001b[0m\u001b[1m)\u001b[22m \u001b[34m@ \u001b[39m\u001b[34mMain\u001b[39m\u001b[34m c:\\Users\\momos\\repositories\\langid_expirement\\detector.jl:24\u001b[39m\n",
       "\u001b[35m│\u001b[39m\u001b[34m│\u001b[39m\u001b[33m┌ \u001b[39m\u001b[0m\u001b[1mmaterialize\u001b[22m\u001b[0m\u001b[1m(\u001b[22m\u001b[90mbc\u001b[39m::\u001b[0mBase.Broadcast.Broadcasted\u001b[90m{Base.Broadcast.DefaultArrayStyle{1}, Nothing, typeof(likelihood), Tuple{Base.RefValue{Dict{Tuple{Vararg{UInt8}}, Float64}}, Vector{Dict{Tuple{UInt8, Vararg{UInt8}}, Float64}}}}\u001b[39m\u001b[0m\u001b[1m)\u001b[22m \u001b[33m@ \u001b[39m\u001b[33mBase.Broadcast\u001b[39m\u001b[33m ./broadcast.jl:873\u001b[39m\n",
       "\u001b[35m│\u001b[39m\u001b[34m│\u001b[39m\u001b[33m│\u001b[39m\u001b[32m┌ \u001b[39m\u001b[0m\u001b[1mcopy\u001b[22m\u001b[0m\u001b[1m(\u001b[22m\u001b[90mbc\u001b[39m::\u001b[0mBase.Broadcast.Broadcasted\u001b[90m{Base.Broadcast.DefaultArrayStyle{1}, Tuple{Base.OneTo{Int64}}, typeof(likelihood), Tuple{Base.RefValue{Dict{Tuple{Vararg{UInt8}}, Float64}}, Vector{Dict{Tuple{UInt8, Vararg{UInt8}}, Float64}}}}\u001b[39m\u001b[0m\u001b[1m)\u001b[22m \u001b[32m@ \u001b[39m\u001b[32mBase.Broadcast\u001b[39m\u001b[32m ./broadcast.jl:898\u001b[39m\n",
       "\u001b[35m│\u001b[39m\u001b[34m│\u001b[39m\u001b[33m│\u001b[39m\u001b[32m│\u001b[39m\u001b[35m┌ \u001b[39m\u001b[0m\u001b[1mcopyto!\u001b[22m\u001b[0m\u001b[1m(\u001b[22m\u001b[90mdest\u001b[39m::\u001b[0mVector\u001b[90m{Float64}\u001b[39m, \u001b[90mbc\u001b[39m::\u001b[0mBase.Broadcast.Broadcasted\u001b[90m{Base.Broadcast.DefaultArrayStyle{1}, Tuple{Base.OneTo{Int64}}, typeof(likelihood), Tuple{Base.RefValue{Dict{Tuple{Vararg{UInt8}}, Float64}}, Vector{Dict{Tuple{UInt8, Vararg{UInt8}}, Float64}}}}\u001b[39m\u001b[0m\u001b[1m)\u001b[22m \u001b[35m@ \u001b[39m\u001b[35mBase.Broadcast\u001b[39m\u001b[35m ./broadcast.jl:926\u001b[39m\n",
       "\u001b[35m│\u001b[39m\u001b[34m│\u001b[39m\u001b[33m│\u001b[39m\u001b[32m│\u001b[39m\u001b[35m│\u001b[39m\u001b[34m┌ \u001b[39m\u001b[0m\u001b[1mcopyto!\u001b[22m\u001b[0m\u001b[1m(\u001b[22m\u001b[90mdest\u001b[39m::\u001b[0mVector\u001b[90m{Float64}\u001b[39m, \u001b[90mbc\u001b[39m::\u001b[0mBase.Broadcast.Broadcasted\u001b[90m{Nothing, Tuple{Base.OneTo{Int64}}, typeof(likelihood), Tuple{Base.RefValue{Dict{Tuple{Vararg{UInt8}}, Float64}}, Vector{Dict{Tuple{UInt8, Vararg{UInt8}}, Float64}}}}\u001b[39m\u001b[0m\u001b[1m)\u001b[22m \u001b[34m@ \u001b[39m\u001b[34mBase.Broadcast\u001b[39m\u001b[34m ./broadcast.jl:974\u001b[39m\n",
       "\u001b[35m│\u001b[39m\u001b[34m│\u001b[39m\u001b[33m│\u001b[39m\u001b[32m│\u001b[39m\u001b[35m│\u001b[39m\u001b[34m│\u001b[39m\u001b[33m┌ \u001b[39m\u001b[0m\u001b[1mgetindex\u001b[22m\u001b[0m\u001b[1m(\u001b[22m\u001b[90mbc\u001b[39m::\u001b[0mBase.Broadcast.Broadcasted\u001b[90m{Nothing, Tuple{Base.OneTo{Int64}}, typeof(likelihood), Tuple{Base.RefValue{Dict{Tuple{Vararg{UInt8}}, Float64}}, Base.Broadcast.Extruded{Vector{Dict{Tuple{UInt8, Vararg{UInt8}}, Float64}}, Tuple{Bool}, Tuple{Int64}}}}\u001b[39m, \u001b[90mI\u001b[39m::\u001b[0mInt64\u001b[0m\u001b[1m)\u001b[22m \u001b[33m@ \u001b[39m\u001b[33mBase.Broadcast\u001b[39m\u001b[33m ./broadcast.jl:610\u001b[39m\n",
       "\u001b[35m│\u001b[39m\u001b[34m│\u001b[39m\u001b[33m│\u001b[39m\u001b[32m│\u001b[39m\u001b[35m│\u001b[39m\u001b[34m│\u001b[39m\u001b[33m│\u001b[39m\u001b[32m┌ \u001b[39m\u001b[0m\u001b[1m_broadcast_getindex\u001b[22m\u001b[0m\u001b[1m(\u001b[22m\u001b[90mbc\u001b[39m::\u001b[0mBase.Broadcast.Broadcasted\u001b[90m{Nothing, Tuple{Base.OneTo{Int64}}, typeof(likelihood), Tuple{Base.RefValue{Dict{Tuple{Vararg{UInt8}}, Float64}}, Base.Broadcast.Extruded{Vector{Dict{Tuple{UInt8, Vararg{UInt8}}, Float64}}, Tuple{Bool}, Tuple{Int64}}}}\u001b[39m, \u001b[90mI\u001b[39m::\u001b[0mInt64\u001b[0m\u001b[1m)\u001b[22m \u001b[32m@ \u001b[39m\u001b[32mBase.Broadcast\u001b[39m\u001b[32m ./broadcast.jl:656\u001b[39m\n",
       "\u001b[35m│\u001b[39m\u001b[34m│\u001b[39m\u001b[33m│\u001b[39m\u001b[32m│\u001b[39m\u001b[35m│\u001b[39m\u001b[34m│\u001b[39m\u001b[33m│\u001b[39m\u001b[32m│\u001b[39m\u001b[35m┌ \u001b[39m\u001b[0m\u001b[1m_broadcast_getindex_evalf\u001b[22m\u001b[0m\u001b[1m(\u001b[22m::\u001b[0mtypeof(likelihood), ::\u001b[0mDict\u001b[90m{Tuple{Vararg{UInt8}}, Float64}\u001b[39m, ::\u001b[0mDict\u001b[90m{Tuple{UInt8, Vararg{UInt8}}, Float64}\u001b[39m\u001b[0m\u001b[1m)\u001b[22m \u001b[35m@ \u001b[39m\u001b[35mBase.Broadcast\u001b[39m\u001b[35m ./broadcast.jl:683\u001b[39m\n",
       "\u001b[35m│\u001b[39m\u001b[34m│\u001b[39m\u001b[33m│\u001b[39m\u001b[32m│\u001b[39m\u001b[35m│\u001b[39m\u001b[34m│\u001b[39m\u001b[33m│\u001b[39m\u001b[32m│\u001b[39m\u001b[35m│\u001b[39m\u001b[34m┌ \u001b[39m\u001b[0m\u001b[1mlikelihood\u001b[22m\u001b[0m\u001b[1m(\u001b[22m\u001b[90mt\u001b[39m::\u001b[0mDict\u001b[90m{Tuple{Vararg{UInt8}}, Float64}\u001b[39m, \u001b[90mlogt\u001b[39m::\u001b[0mDict\u001b[90m{Tuple{UInt8, Vararg{UInt8}}, Float64}\u001b[39m\u001b[0m\u001b[1m)\u001b[22m \u001b[34m@ \u001b[39m\u001b[34mMain\u001b[39m\u001b[34m c:\\Users\\momos\\repositories\\langid_expirement\\detector.jl:15\u001b[39m\n",
       "\u001b[35m│\u001b[39m\u001b[34m│\u001b[39m\u001b[33m│\u001b[39m\u001b[32m│\u001b[39m\u001b[35m│\u001b[39m\u001b[34m│\u001b[39m\u001b[33m│\u001b[39m\u001b[32m│\u001b[39m\u001b[35m│\u001b[39m\u001b[34m│\u001b[39m\u001b[91m┌ \u001b[39m\u001b[0m\u001b[1mlikelihood\u001b[22m\u001b[0m\u001b[1m(\u001b[22m\u001b[90mt\u001b[39m::\u001b[0mDict\u001b[90m{Tuple{Vararg{UInt8}}, Float64}\u001b[39m, \u001b[90mlogt\u001b[39m::\u001b[0mDict\u001b[90m{Tuple{UInt8, Vararg{UInt8}}, Float64}\u001b[39m, \u001b[90mdefault_logp\u001b[39m::\u001b[0mFloat64\u001b[0m\u001b[1m)\u001b[22m \u001b[91m@ \u001b[39m\u001b[91mMain\u001b[39m\u001b[91m c:\\Users\\momos\\repositories\\langid_expirement\\detector.jl:17\u001b[39m\n",
       "\u001b[35m│\u001b[39m\u001b[34m│\u001b[39m\u001b[33m│\u001b[39m\u001b[32m│\u001b[39m\u001b[35m│\u001b[39m\u001b[34m│\u001b[39m\u001b[33m│\u001b[39m\u001b[32m│\u001b[39m\u001b[35m│\u001b[39m\u001b[34m│\u001b[39m\u001b[91m│ \u001b[39m\u001b[91mruntime dispatch detected\u001b[39m\u001b[91m: \u001b[39m\u001b[0m\u001b[1mget\u001b[22m\u001b[0m\u001b[1m(\u001b[22m\u001b[0m\u001b[1mlogt\u001b[22m\u001b[96m\u001b[1m::Dict{Tuple{UInt8, Vararg{UInt8}}, Float64}\u001b[22m\u001b[39m\u001b[0m\u001b[1m, \u001b[22m\u001b[0m\u001b[1m%65\u001b[22m\u001b[96m\u001b[1m::Tuple{Vararg{UInt8}}\u001b[22m\u001b[39m\u001b[0m\u001b[1m, \u001b[22m\u001b[0m\u001b[1mdefault_logp\u001b[22m\u001b[96m\u001b[1m::Float64\u001b[22m\u001b[39m\u001b[0m\u001b[1m)\u001b[22m\u001b[96m\u001b[1m::Float64\u001b[22m\u001b[39m\n",
       "\u001b[35m│\u001b[39m\u001b[34m│\u001b[39m\u001b[33m│\u001b[39m\u001b[32m│\u001b[39m\u001b[35m│\u001b[39m\u001b[34m│\u001b[39m\u001b[33m│\u001b[39m\u001b[32m│\u001b[39m\u001b[35m│\u001b[39m\u001b[34m│\u001b[39m\u001b[91m└────────────────────\u001b[39m\n"
      ]
     },
     "metadata": {},
     "output_type": "display_data"
    }
   ],
   "source": [
    "@report_opt detector_lh(\"abcde\", ngram=4)"
   ]
  },
  {
   "cell_type": "code",
   "execution_count": 5,
   "metadata": {},
   "outputs": [
    {
     "name": "stdout",
     "output_type": "stream",
     "text": [
      "likelihood-n4"
     ]
    },
    {
     "name": "stdout",
     "output_type": "stream",
     "text": [
      "104.518408 seconds (1.63 G allocations: 28.815 GiB, 3.07% gc time, 0.07% compilation time)\n",
      "likelihood-n3"
     ]
    },
    {
     "name": "stdout",
     "output_type": "stream",
     "text": [
      " 61.236105 seconds (885.37 M allocations: 16.354 GiB, 3.02% gc time, 0.09% compilation time)\n"
     ]
    },
    {
     "data": {
      "text/plain": [
       "2-element Vector{Any}:\n",
       " \"likelihood-n4\" => [1.0, 0.99, 1.0, 1.0, 1.0, 0.985, 0.995, 0.965, 1.0, 1.0  …  1.0, 0.99, 0.985, 0.995, 0.985, 0.985, 1.0, 0.965, 0.985, 0.995]\n",
       " \"likelihood-n3\" => [1.0, 0.99, 1.0, 0.98, 0.995, 0.985, 0.985, 0.96, 1.0, 1.0  …  1.0, 0.985, 0.98, 0.995, 0.985, 0.985, 1.0, 0.965, 0.975, 0.995]"
      ]
     },
     "metadata": {},
     "output_type": "display_data"
    }
   ],
   "source": [
    "WB = benchmark(\n",
    "    # \"likelihood-n5\"=>detector_lh, \n",
    "    \"likelihood-n4\"=>t->detector_lh(t, ngram=4),\n",
    "    \"likelihood-n3\"=>t->detector_lh(t, ngram=3),\n",
    "dataset=WV, languages=LANGS)"
   ]
  },
  {
   "cell_type": "code",
   "execution_count": 5,
   "metadata": {},
   "outputs": [
    {
     "name": "stdout",
     "output_type": "stream",
     "text": [
      "likelihood-n4"
     ]
    },
    {
     "name": "stdout",
     "output_type": "stream",
     "text": [
      "127.426978 seconds (1.63 G allocations: 28.846 GiB, 4.42% gc time, 0.59% compilation time)"
     ]
    },
    {
     "name": "stdout",
     "output_type": "stream",
     "text": [
      "\n",
      "likelihood-n3"
     ]
    },
    {
     "name": "stdout",
     "output_type": "stream",
     "text": [
      " 76.725221 seconds (885.37 M allocations: 16.355 GiB, 4.33% gc time, 0.20% compilation time)\n"
     ]
    },
    {
     "data": {
      "text/plain": [
       "2-element Vector{Any}:\n",
       " \"likelihood-n4\" => [1.0, 0.99, 1.0, 1.0, 1.0, 0.985, 0.995, 0.965, 1.0, 1.0  …  1.0, 0.99, 0.985, 0.995, 0.985, 0.985, 1.0, 0.965, 0.985, 0.995]\n",
       " \"likelihood-n3\" => [1.0, 0.99, 1.0, 0.98, 0.995, 0.985, 0.985, 0.96, 1.0, 1.0  …  1.0, 0.985, 0.98, 0.995, 0.985, 0.985, 1.0, 0.965, 0.975, 0.995]"
      ]
     },
     "metadata": {},
     "output_type": "display_data"
    }
   ],
   "source": [
    "WB = benchmark(\n",
    "    # \"likelihood-n5\"=>detector_lh, \n",
    "    \"likelihood-n4\"=>t->detector_lh(t, ngram=4),\n",
    "    \"likelihood-n3\"=>t->detector_lh(t, ngram=3),\n",
    "dataset=WV, languages=LANGS)"
   ]
  },
  {
   "cell_type": "code",
   "execution_count": 6,
   "metadata": {},
   "outputs": [
    {
     "name": "stdout",
     "output_type": "stream",
     "text": [
      "|               | Average | ara     | bel    | ben     | bul     | cat     | ces    | dan    | deu    | ell     | eng     | epo     | fas     | fin    | fra     | hau    | hbs    | heb     | hin    | hun     | ido    | ina    | isl    | ita    | jpn    | kab    | kor     | kur    | lat    | lit     | mar    | mkd    | msa    | nds    | nld    | nor    | pol     | por    | ron    | rus     | slk    | spa     | swa    | swe    | tat    | tgl    | tur    | ukr     | vie    | yid    | zho    |\n",
      "|---------------|---------|---------|--------|---------|---------|---------|--------|--------|--------|---------|---------|---------|---------|--------|---------|--------|--------|---------|--------|---------|--------|--------|--------|--------|--------|--------|---------|--------|--------|---------|--------|--------|--------|--------|--------|--------|---------|--------|--------|---------|--------|---------|--------|--------|--------|--------|--------|---------|--------|--------|--------|\n",
      "| likelihood-n4 |  97.63% | 100.00% | 99.00% | 100.00% | 100.00% | 100.00% | 98.50% | 99.50% | 96.50% | 100.00% | 100.00% | 100.00% | 100.00% | 99.00% | 100.00% | 98.50% | 66.50% | 100.00% | 90.00% |  99.50% | 93.00% | 93.00% | 98.50% | 99.00% | 99.00% | 99.00% | 100.00% | 99.00% | 97.00% | 100.00% | 95.00% | 98.00% | 99.00% | 99.00% | 97.50% | 93.50% |  99.50% | 99.50% | 91.00% | 100.00% | 96.50% | 100.00% | 99.00% | 98.50% | 99.50% | 98.50% | 98.50% | 100.00% | 96.50% | 98.50% | 99.50% |\n",
      "| likelihood-n3 |  95.93% | 100.00% | 99.00% | 100.00% |  98.00% |  99.50% | 98.50% | 98.50% | 96.00% | 100.00% | 100.00% | 100.00% | 100.00% | 99.00% | 100.00% | 98.00% | 10.50% | 100.00% | 89.50% | 100.00% | 88.50% | 84.50% | 98.50% | 98.50% | 99.00% | 99.00% | 100.00% | 99.00% | 97.00% | 100.00% | 92.00% | 97.00% | 99.00% | 98.50% | 96.50% | 91.00% | 100.00% | 99.50% | 90.00% |  99.50% | 96.50% | 100.00% | 98.50% | 98.00% | 99.50% | 98.50% | 98.50% | 100.00% | 96.50% | 97.50% | 99.50% |\n"
     ]
    },
    {
     "data": {
      "text/markdown": [
       "|               | Average | ara     | bel    | ben     | bul     | cat     | ces    | dan    | deu    | ell     | eng     | epo     | fas     | fin    | fra     | hau    | hbs    | heb     | hin    | hun     | ido    | ina    | isl    | ita    | jpn    | kab    | kor     | kur    | lat    | lit     | mar    | mkd    | msa    | nds    | nld    | nor    | pol     | por    | ron    | rus     | slk    | spa     | swa    | swe    | tat    | tgl    | tur    | ukr     | vie    | yid    | zho    |\n",
       "|---------------|---------|---------|--------|---------|---------|---------|--------|--------|--------|---------|---------|---------|---------|--------|---------|--------|--------|---------|--------|---------|--------|--------|--------|--------|--------|--------|---------|--------|--------|---------|--------|--------|--------|--------|--------|--------|---------|--------|--------|---------|--------|---------|--------|--------|--------|--------|--------|---------|--------|--------|--------|\n",
       "| likelihood-n4 |  97.63% | 100.00% | 99.00% | 100.00% | 100.00% | 100.00% | 98.50% | 99.50% | 96.50% | 100.00% | 100.00% | 100.00% | 100.00% | 99.00% | 100.00% | 98.50% | 66.50% | 100.00% | 90.00% |  99.50% | 93.00% | 93.00% | 98.50% | 99.00% | 99.00% | 99.00% | 100.00% | 99.00% | 97.00% | 100.00% | 95.00% | 98.00% | 99.00% | 99.00% | 97.50% | 93.50% |  99.50% | 99.50% | 91.00% | 100.00% | 96.50% | 100.00% | 99.00% | 98.50% | 99.50% | 98.50% | 98.50% | 100.00% | 96.50% | 98.50% | 99.50% |\n",
       "| likelihood-n3 |  95.93% | 100.00% | 99.00% | 100.00% |  98.00% |  99.50% | 98.50% | 98.50% | 96.00% | 100.00% | 100.00% | 100.00% | 100.00% | 99.00% | 100.00% | 98.00% | 10.50% | 100.00% | 89.50% | 100.00% | 88.50% | 84.50% | 98.50% | 98.50% | 99.00% | 99.00% | 100.00% | 99.00% | 97.00% | 100.00% | 92.00% | 97.00% | 99.00% | 98.50% | 96.50% | 91.00% | 100.00% | 99.50% | 90.00% |  99.50% | 96.50% | 100.00% | 98.50% | 98.00% | 99.50% | 98.50% | 98.50% | 100.00% | 96.50% | 97.50% | 99.50% |\n"
      ],
      "text/plain": [
       "DisplayAs.Raw.Showable{MIME{Symbol(\"text/markdown\")}}(UInt8[0x7c, 0x20, 0x20, 0x20, 0x20, 0x20, 0x20, 0x20, 0x20, 0x20  …  0x20, 0x39, 0x39, 0x2e, 0x35, 0x30, 0x25, 0x20, 0x7c, 0x0a])"
      ]
     },
     "metadata": {},
     "output_type": "display_data"
    }
   ],
   "source": [
    "showtable(WB, LANGS, threshold=-0.5)"
   ]
  },
  {
   "cell_type": "code",
   "execution_count": 7,
   "metadata": {},
   "outputs": [
    {
     "name": "stdout",
     "output_type": "stream",
     "text": [
      "likelihood-n5"
     ]
    },
    {
     "name": "stdout",
     "output_type": "stream",
     "text": [
      "  9.023298 seconds (90.31 M allocations: 1.666 GiB, 3.74% gc time, 1.14% compilation time)\n"
     ]
    },
    {
     "data": {
      "text/plain": [
       "1-element Vector{Any}:\n",
       " \"likelihood-n5\" => [0.99, 0.88]"
      ]
     },
     "metadata": {},
     "output_type": "display_data"
    }
   ],
   "source": [
    "WB2 = benchmark(\n",
    "    \"likelihood-n5\"=>detector_lh, \n",
    "    # \"likelihood-n4\"=>t->detector_lh(t, ngram=4),\n",
    "    # \"likelihood-n3\"=>t->detector_lh(t, ngram=3),\n",
    "dataset=WV, languages=(\"mkd\", \"hbs\"))"
   ]
  },
  {
   "cell_type": "code",
   "execution_count": 8,
   "metadata": {},
   "outputs": [
    {
     "name": "stdout",
     "output_type": "stream",
     "text": [
      "likelihood-n5"
     ]
    },
    {
     "name": "stdout",
     "output_type": "stream",
     "text": [
      " 32.151567 seconds (117.73 M allocations: 2.000 GiB, 1.17% gc time, 0.05% compilation time)\n"
     ]
    },
    {
     "data": {
      "text/plain": [
       "1-element Vector{Any}:\n",
       " \"likelihood-n5\" => [0.9469910371318822, 0.21888053467000834]"
      ]
     },
     "metadata": {},
     "output_type": "display_data"
    }
   ],
   "source": [
    "WB2 = benchmark(\n",
    "    \"likelihood-n5\"=>detector_lh, \n",
    "    # \"likelihood-n4\"=>t->detector_lh(t, ngram=4),\n",
    "    # \"likelihood-n3\"=>t->detector_lh(t, ngram=3),\n",
    "dataset=TV, languages=(\"mkd\", \"hbs\"))"
   ]
  },
  {
   "cell_type": "code",
   "execution_count": null,
   "metadata": {},
   "outputs": [],
   "source": []
  }
 ],
 "metadata": {
  "kernelspec": {
   "display_name": "Julia 1.9.1",
   "language": "julia",
   "name": "julia-1.9"
  },
  "language_info": {
   "file_extension": ".jl",
   "mimetype": "application/julia",
   "name": "julia",
   "version": "1.9.1"
  },
  "orig_nbformat": 4
 },
 "nbformat": 4,
 "nbformat_minor": 2
}
