{
 "cells": [
  {
   "cell_type": "code",
   "execution_count": 1,
   "metadata": {},
   "outputs": [],
   "source": [
    "using Revise"
   ]
  },
  {
   "cell_type": "code",
   "execution_count": 1,
   "metadata": {},
   "outputs": [
    {
     "name": "stderr",
     "output_type": "stream",
     "text": [
      "┌ Info: zho: cutoff(0.85) not reached. current: 0.8238682009344496. vocab size: 73243\n",
      "└ @ Main /home/guoyongzhi/langid_expirement/detector.jl:40\n"
     ]
    },
    {
     "data": {
      "text/plain": [
       "9758.62"
      ]
     },
     "metadata": {},
     "output_type": "display_data"
    }
   ],
   "source": [
    "include(\"detector.jl\")\n",
    "initialize(cutoff=0.85, ngram=5)\n",
    "sum(length.(PROFILES))/length(PROFILES)"
   ]
  },
  {
   "cell_type": "code",
   "execution_count": 16,
   "metadata": {},
   "outputs": [
    {
     "data": {
      "text/plain": [
       "10-element Vector{Pair{String, Float64}}:\n",
       " \"zho\" => 0.62924682635058\n",
       " \"jpn\" => 0.05244491733791451\n",
       " \"kor\" => 0.012870047024445788\n",
       " \"heb\" => 0.012096720179166935\n",
       " \"hin\" => 0.011165821665276653\n",
       " \"ben\" => 0.011105808442047563\n",
       " \"mar\" => 0.010937988980142262\n",
       " \"yid\" => 0.010766279173229682\n",
       " \"fas\" => 0.008894975618573728\n",
       " \"vie\" => 0.008826884212367854"
      ]
     },
     "metadata": {},
     "output_type": "display_data"
    }
   ],
   "source": [
    "function langprob(text; candidates=5, ngram=NGRAM, languages=LANGUAGES, profiles=PROFILES)\n",
    "    p = count_one_to_ngrams(text, ngram)\n",
    "    vs = sum(values(p))\n",
    "    map!(v -> v / vs, values(p))\n",
    "    lls = loglikelihood.(Ref(p), profiles)\n",
    "    ls = exp.(lls)\n",
    "    ls = ls ./ sum(ls)\n",
    "    si = sortperm(ls, rev=true)[1:candidates]\n",
    "    [k => v for (k, v) in zip(languages[si], ls[si])]\n",
    "end\n"
   ]
  },
  {
   "cell_type": "code",
   "execution_count": 141,
   "metadata": {},
   "outputs": [
    {
     "data": {
      "text/plain": [
       "(\"jpn\", [\"jpn\" => 0.31106811055831624, \"zho\" => 0.0552208262531225, \"kor\" => 0.021691741681780025, \"tat\" => 0.017003364173065423, \"ara\" => 0.016890944932712364])"
      ]
     },
     "metadata": {},
     "output_type": "display_data"
    }
   ],
   "source": [
    "x, y = WV[rand(1:length(WV))]\n",
    "y, langprob(x, candidates=5, ngram=7)"
   ]
  },
  {
   "cell_type": "code",
   "execution_count": 11,
   "metadata": {},
   "outputs": [
    {
     "data": {
      "text/plain": [
       "5-element Vector{Pair{String, Float64}}:\n",
       " \"nds\" => 0.135495124819153\n",
       " \"eng\" => 0.13288222115463774\n",
       " \"nld\" => 0.0624004906963523\n",
       " \"pol\" => 0.036721264379596975\n",
       " \"dan\" => 0.03586694581870948"
      ]
     },
     "metadata": {},
     "output_type": "display_data"
    }
   ],
   "source": [
    "# initialize(cutoff=0.85, ngram=5)\n",
    "langprob(\"good\", ngram=4)"
   ]
  },
  {
   "cell_type": "code",
   "execution_count": 19,
   "metadata": {},
   "outputs": [
    {
     "data": {
      "text/plain": [
       "521469-element TatoebaDataset:\n",
       "             \"Pardonu, permesu al mi indiki tri erarojn en la supra artikolo.\" => \"epo\"\n",
       "                                          \"Mi veturigos vin al la flughaveno.\" => \"epo\"\n",
       "                                                                 \"Kio mankas?\" => \"epo\"\n",
       "                                            \"Aĥ, kiam ili renkontiĝos denove?\" => \"epo\"\n",
       " \"Kiam mi estis infano, mi pasigis multajn horojn legante sola en mia ĉambro.\" => \"epo\"\n",
       "                                              \"Ŝajnas, ke la trajno malfruas.\" => \"epo\"\n",
       "                                                                \"Venu rapide!\" => \"epo\"\n",
       "                                                   \"Li montris al mi albumon.\" => \"epo\"\n",
       "                                                             \"Estis du kukoj.\" => \"epo\"\n",
       "                                      \"Mia filo scipovas jam nombri ĝis cent.\" => \"epo\"\n",
       "                                                                               ⋮\n",
       "                                                      \"Tohle pivo je výborné.\" => \"ces\"\n",
       "                                              \"Musíš se řídit matčinou radou.\" => \"ces\"\n",
       "                                             \"Tom potvrdil všechno, co řekli.\" => \"ces\"\n",
       "                                                        \"Byl obnoven pořádek.\" => \"ces\"\n",
       "                                              \"Medvědi jsou velmi nebezpeční.\" => \"ces\"\n",
       "                                     \"Buď vděčný za to, že můžeš být s Tomem.\" => \"ces\"\n",
       "                                                \"Neštěstí nechodí nikdy samo.\" => \"ces\"\n",
       "                                                    \"Problémem nejsou peníze.\" => \"ces\"\n",
       "                                         \"Tom koupil několik bochníků chleba.\" => \"ces\""
      ]
     },
     "metadata": {},
     "output_type": "display_data"
    }
   ],
   "source": [
    "include(\"benchmark.jl\")\n",
    "include(\"datasetloader.jl\")\n",
    "WV = WikiDataSet(\"corpus/wikipedia/test\", langs=ALL_LANGUAGES)\n",
    "TV = TatoebaDataset(\"corpus/tatoeba\", \"tatoeba_test.txt\", langs=ALL_LANGUAGES)"
   ]
  },
  {
   "cell_type": "code",
   "execution_count": 6,
   "metadata": {},
   "outputs": [
    {
     "name": "stdout",
     "output_type": "stream",
     "text": [
      "n4 32.421179 seconds (13.15 M allocations: 959.471 MiB, 0.76% gc time, 0.65% compilation time)"
     ]
    },
    {
     "name": "stdout",
     "output_type": "stream",
     "text": [
      "\n",
      " 32.840781 seconds (13.65 M allocations: 993.415 MiB, 0.75% gc time, 1.84% compilation time)\n"
     ]
    },
    {
     "data": {
      "text/plain": [
       "1-element Vector{Any}:\n",
       " \"n4\" => [0.9739471805852962, 0.9853345554537122, 0.46324143692564745, 0.9915330212172527, 0.7335958005249343]"
      ]
     },
     "metadata": {},
     "output_type": "display_data"
    }
   ],
   "source": [
    "@time benchmark(\n",
    "    # \"likelihood-n5\"=>detector_lh, \n",
    "    \"n4\"=>t->langid(t, ngram=4),\n",
    "    # \"likelihood-n3\"=>t->detector_lh(t, ngram=3),\n",
    "dataset=TV, languages=ALL_LANGUAGES[14:18])"
   ]
  },
  {
   "cell_type": "code",
   "execution_count": 33,
   "metadata": {},
   "outputs": [],
   "source": [
    "using StatProfilerHTML"
   ]
  },
  {
   "cell_type": "code",
   "execution_count": 34,
   "metadata": {},
   "outputs": [
    {
     "name": "stdout",
     "output_type": "stream",
     "text": [
      "likelihood-n4"
     ]
    },
    {
     "name": "stdout",
     "output_type": "stream",
     "text": [
      " 25.162121 seconds (13.11 M allocations: 1.018 GiB, 0.78% gc time, 0.02% compilation time)\n"
     ]
    },
    {
     "name": "stderr",
     "output_type": "stream",
     "text": [
      "┌ Info: Wrote profiling output to file://c:\\Users\\momos\\repositories\\langid_expirement\\statprof/index.html .\n",
      "└ @ StatProfilerHTML C:\\Users\\momos\\.julia\\packages\\StatProfilerHTML\\DKdvQ\\src\\StatProfilerHTML.jl:28\n"
     ]
    },
    {
     "data": {
      "text/plain": [
       "1-element Vector{Any}:\n",
       " \"likelihood-n4\" => [0.9829764453961456, 0.9871677360219981, 0.16040100250626566, 0.9901384600059767, 0.8805774278215223]"
      ]
     },
     "metadata": {},
     "output_type": "display_data"
    }
   ],
   "source": [
    "\n",
    "@profilehtml benchmark(\n",
    "    # \"likelihood-n5\"=>detector_lh, \n",
    "    \"likelihood-n4\"=>t->detector_lh2(t, ngram=4),\n",
    "    # \"likelihood-n3\"=>t->detector_lh(t, ngram=3),\n",
    "dataset=TV, languages=LANGS[14:18])"
   ]
  },
  {
   "cell_type": "code",
   "execution_count": 3,
   "metadata": {},
   "outputs": [],
   "source": [
    "using JET"
   ]
  },
  {
   "cell_type": "code",
   "execution_count": 10,
   "metadata": {},
   "outputs": [
    {
     "name": "stdout",
     "output_type": "stream",
     "text": [
      "likelihood-n4"
     ]
    },
    {
     "name": "stdout",
     "output_type": "stream",
     "text": [
      " 81.693988 seconds (73.70 M allocations: 5.453 GiB, 0.99% gc time, 0.11% compilation time)\n",
      "likelihood-n3"
     ]
    },
    {
     "name": "stdout",
     "output_type": "stream",
     "text": [
      " 39.605433 seconds (55.49 M allocations: 3.933 GiB, 1.32% gc time, 0.19% compilation time)\n"
     ]
    },
    {
     "data": {
      "text/plain": [
       "2-element Vector{Any}:\n",
       " \"likelihood-n4\" => [1.0, 0.99, 1.0, 1.0, 1.0, 0.985, 0.995, 0.965, 1.0, 1.0  …  1.0, 0.99, 0.985, 0.995, 0.985, 0.985, 1.0, 0.965, 0.985, 0.995]\n",
       " \"likelihood-n3\" => [1.0, 0.99, 1.0, 0.98, 0.995, 0.985, 0.985, 0.96, 1.0, 1.0  …  1.0, 0.985, 0.98, 0.995, 0.985, 0.985, 1.0, 0.965, 0.975, 0.995]"
      ]
     },
     "metadata": {},
     "output_type": "display_data"
    }
   ],
   "source": [
    "WB = benchmark(\n",
    "    # \"likelihood-n5\"=>detector_lh, \n",
    "    \"likelihood-n4\"=>t->detector_lh(t, ngram=4),\n",
    "    \"likelihood-n3\"=>t->detector_lh(t, ngram=3),\n",
    "dataset=WV, languages=LANGS)"
   ]
  },
  {
   "cell_type": "code",
   "execution_count": 5,
   "metadata": {},
   "outputs": [
    {
     "name": "stdout",
     "output_type": "stream",
     "text": [
      "likelihood-n4"
     ]
    },
    {
     "name": "stdout",
     "output_type": "stream",
     "text": [
      "127.426978 seconds (1.63 G allocations: 28.846 GiB, 4.42% gc time, 0.59% compilation time)"
     ]
    },
    {
     "name": "stdout",
     "output_type": "stream",
     "text": [
      "\n",
      "likelihood-n3"
     ]
    },
    {
     "name": "stdout",
     "output_type": "stream",
     "text": [
      " 76.725221 seconds (885.37 M allocations: 16.355 GiB, 4.33% gc time, 0.20% compilation time)\n"
     ]
    },
    {
     "data": {
      "text/plain": [
       "2-element Vector{Any}:\n",
       " \"likelihood-n4\" => [1.0, 0.99, 1.0, 1.0, 1.0, 0.985, 0.995, 0.965, 1.0, 1.0  …  1.0, 0.99, 0.985, 0.995, 0.985, 0.985, 1.0, 0.965, 0.985, 0.995]\n",
       " \"likelihood-n3\" => [1.0, 0.99, 1.0, 0.98, 0.995, 0.985, 0.985, 0.96, 1.0, 1.0  …  1.0, 0.985, 0.98, 0.995, 0.985, 0.985, 1.0, 0.965, 0.975, 0.995]"
      ]
     },
     "metadata": {},
     "output_type": "display_data"
    }
   ],
   "source": [
    "WB = benchmark(\n",
    "    # \"likelihood-n5\"=>detector_lh, \n",
    "    \"likelihood-n4\"=>t->detector_lh(t, ngram=4),\n",
    "    \"likelihood-n3\"=>t->detector_lh(t, ngram=3),\n",
    "dataset=WV, languages=LANGS)"
   ]
  },
  {
   "cell_type": "code",
   "execution_count": 6,
   "metadata": {},
   "outputs": [
    {
     "name": "stdout",
     "output_type": "stream",
     "text": [
      "|               | Average | ara     | bel    | ben     | bul     | cat     | ces    | dan    | deu    | ell     | eng     | epo     | fas     | fin    | fra     | hau    | hbs    | heb     | hin    | hun     | ido    | ina    | isl    | ita    | jpn    | kab    | kor     | kur    | lat    | lit     | mar    | mkd    | msa    | nds    | nld    | nor    | pol     | por    | ron    | rus     | slk    | spa     | swa    | swe    | tat    | tgl    | tur    | ukr     | vie    | yid    | zho    |\n",
      "|---------------|---------|---------|--------|---------|---------|---------|--------|--------|--------|---------|---------|---------|---------|--------|---------|--------|--------|---------|--------|---------|--------|--------|--------|--------|--------|--------|---------|--------|--------|---------|--------|--------|--------|--------|--------|--------|---------|--------|--------|---------|--------|---------|--------|--------|--------|--------|--------|---------|--------|--------|--------|\n",
      "| likelihood-n4 |  97.63% | 100.00% | 99.00% | 100.00% | 100.00% | 100.00% | 98.50% | 99.50% | 96.50% | 100.00% | 100.00% | 100.00% | 100.00% | 99.00% | 100.00% | 98.50% | 66.50% | 100.00% | 90.00% |  99.50% | 93.00% | 93.00% | 98.50% | 99.00% | 99.00% | 99.00% | 100.00% | 99.00% | 97.00% | 100.00% | 95.00% | 98.00% | 99.00% | 99.00% | 97.50% | 93.50% |  99.50% | 99.50% | 91.00% | 100.00% | 96.50% | 100.00% | 99.00% | 98.50% | 99.50% | 98.50% | 98.50% | 100.00% | 96.50% | 98.50% | 99.50% |\n",
      "| likelihood-n3 |  95.93% | 100.00% | 99.00% | 100.00% |  98.00% |  99.50% | 98.50% | 98.50% | 96.00% | 100.00% | 100.00% | 100.00% | 100.00% | 99.00% | 100.00% | 98.00% | 10.50% | 100.00% | 89.50% | 100.00% | 88.50% | 84.50% | 98.50% | 98.50% | 99.00% | 99.00% | 100.00% | 99.00% | 97.00% | 100.00% | 92.00% | 97.00% | 99.00% | 98.50% | 96.50% | 91.00% | 100.00% | 99.50% | 90.00% |  99.50% | 96.50% | 100.00% | 98.50% | 98.00% | 99.50% | 98.50% | 98.50% | 100.00% | 96.50% | 97.50% | 99.50% |\n"
     ]
    },
    {
     "data": {
      "text/markdown": [
       "|               | Average | ara     | bel    | ben     | bul     | cat     | ces    | dan    | deu    | ell     | eng     | epo     | fas     | fin    | fra     | hau    | hbs    | heb     | hin    | hun     | ido    | ina    | isl    | ita    | jpn    | kab    | kor     | kur    | lat    | lit     | mar    | mkd    | msa    | nds    | nld    | nor    | pol     | por    | ron    | rus     | slk    | spa     | swa    | swe    | tat    | tgl    | tur    | ukr     | vie    | yid    | zho    |\n",
       "|---------------|---------|---------|--------|---------|---------|---------|--------|--------|--------|---------|---------|---------|---------|--------|---------|--------|--------|---------|--------|---------|--------|--------|--------|--------|--------|--------|---------|--------|--------|---------|--------|--------|--------|--------|--------|--------|---------|--------|--------|---------|--------|---------|--------|--------|--------|--------|--------|---------|--------|--------|--------|\n",
       "| likelihood-n4 |  97.63% | 100.00% | 99.00% | 100.00% | 100.00% | 100.00% | 98.50% | 99.50% | 96.50% | 100.00% | 100.00% | 100.00% | 100.00% | 99.00% | 100.00% | 98.50% | 66.50% | 100.00% | 90.00% |  99.50% | 93.00% | 93.00% | 98.50% | 99.00% | 99.00% | 99.00% | 100.00% | 99.00% | 97.00% | 100.00% | 95.00% | 98.00% | 99.00% | 99.00% | 97.50% | 93.50% |  99.50% | 99.50% | 91.00% | 100.00% | 96.50% | 100.00% | 99.00% | 98.50% | 99.50% | 98.50% | 98.50% | 100.00% | 96.50% | 98.50% | 99.50% |\n",
       "| likelihood-n3 |  95.93% | 100.00% | 99.00% | 100.00% |  98.00% |  99.50% | 98.50% | 98.50% | 96.00% | 100.00% | 100.00% | 100.00% | 100.00% | 99.00% | 100.00% | 98.00% | 10.50% | 100.00% | 89.50% | 100.00% | 88.50% | 84.50% | 98.50% | 98.50% | 99.00% | 99.00% | 100.00% | 99.00% | 97.00% | 100.00% | 92.00% | 97.00% | 99.00% | 98.50% | 96.50% | 91.00% | 100.00% | 99.50% | 90.00% |  99.50% | 96.50% | 100.00% | 98.50% | 98.00% | 99.50% | 98.50% | 98.50% | 100.00% | 96.50% | 97.50% | 99.50% |\n"
      ],
      "text/plain": [
       "DisplayAs.Raw.Showable{MIME{Symbol(\"text/markdown\")}}(UInt8[0x7c, 0x20, 0x20, 0x20, 0x20, 0x20, 0x20, 0x20, 0x20, 0x20  …  0x20, 0x39, 0x39, 0x2e, 0x35, 0x30, 0x25, 0x20, 0x7c, 0x0a])"
      ]
     },
     "metadata": {},
     "output_type": "display_data"
    }
   ],
   "source": [
    "showtable(WB, LANGS, threshold=-0.5)"
   ]
  },
  {
   "cell_type": "code",
   "execution_count": 7,
   "metadata": {},
   "outputs": [
    {
     "name": "stdout",
     "output_type": "stream",
     "text": [
      "likelihood-n5"
     ]
    },
    {
     "name": "stdout",
     "output_type": "stream",
     "text": [
      "  9.023298 seconds (90.31 M allocations: 1.666 GiB, 3.74% gc time, 1.14% compilation time)\n"
     ]
    },
    {
     "data": {
      "text/plain": [
       "1-element Vector{Any}:\n",
       " \"likelihood-n5\" => [0.99, 0.88]"
      ]
     },
     "metadata": {},
     "output_type": "display_data"
    }
   ],
   "source": [
    "WB2 = benchmark(\n",
    "    \"likelihood-n5\"=>detector_lh, \n",
    "    # \"likelihood-n4\"=>t->detector_lh(t, ngram=4),\n",
    "    # \"likelihood-n3\"=>t->detector_lh(t, ngram=3),\n",
    "dataset=WV, languages=(\"mkd\", \"hbs\"))"
   ]
  },
  {
   "cell_type": "code",
   "execution_count": 8,
   "metadata": {},
   "outputs": [
    {
     "name": "stdout",
     "output_type": "stream",
     "text": [
      "likelihood-n5"
     ]
    },
    {
     "name": "stdout",
     "output_type": "stream",
     "text": [
      " 32.151567 seconds (117.73 M allocations: 2.000 GiB, 1.17% gc time, 0.05% compilation time)\n"
     ]
    },
    {
     "data": {
      "text/plain": [
       "1-element Vector{Any}:\n",
       " \"likelihood-n5\" => [0.9469910371318822, 0.21888053467000834]"
      ]
     },
     "metadata": {},
     "output_type": "display_data"
    }
   ],
   "source": [
    "WB2 = benchmark(\n",
    "    \"likelihood-n5\"=>detector_lh, \n",
    "    # \"likelihood-n4\"=>t->detector_lh(t, ngram=4),\n",
    "    # \"likelihood-n3\"=>t->detector_lh(t, ngram=3),\n",
    "dataset=TV, languages=(\"mkd\", \"hbs\"))"
   ]
  },
  {
   "cell_type": "code",
   "execution_count": null,
   "metadata": {},
   "outputs": [],
   "source": []
  }
 ],
 "metadata": {
  "kernelspec": {
   "display_name": "Julia 1.9.2",
   "language": "julia",
   "name": "julia-1.9"
  },
  "language_info": {
   "file_extension": ".jl",
   "mimetype": "application/julia",
   "name": "julia",
   "version": "1.9.2"
  },
  "orig_nbformat": 4
 },
 "nbformat": 4,
 "nbformat_minor": 2
}
