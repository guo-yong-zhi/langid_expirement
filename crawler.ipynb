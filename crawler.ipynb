{
 "cells": [
  {
   "cell_type": "code",
   "execution_count": 7,
   "metadata": {},
   "outputs": [
    {
     "data": {
      "text/plain": [
       "clean_text_wiki (generic function with 1 method)"
      ]
     },
     "metadata": {},
     "output_type": "display_data"
    }
   ],
   "source": [
    "# https://github.com/nusretipek/LanguageFinder\n",
    "\"\"\"\n",
    "Wikipedia corpus builder is designed to harvest random Wikipedia pages in a given \n",
    "language code such as es for Spanish and train the ngram weights based on these pages. \n",
    "The full list of the available languages can be found in https://en.wikipedia.org/wiki/List_of_Wikipedias\n",
    "## Example\n",
    "```julia \n",
    "julia> train_wikipedia_text(\"es\", 10, 15)\n",
    "julia> \n",
    "    \"Successfully trained on 10 es wikipedia pages.\"\n",
    "```\n",
    "\"\"\"\n",
    "\n",
    "using HTTP\n",
    "\n",
    "\n",
    "#=\n",
    "The dictionaries is stored within text files with custom format.\n",
    "This function reads the custom text format and build a dictionary variable.\n",
    "Retruns the dictionary read from the text file.\n",
    "=#\n",
    "\n",
    "function read_dictionary(InputFile::String)\n",
    "    f = open(InputFile)\n",
    "    raw_text = readlines(f)\n",
    "    close(f)    \n",
    "    dictionary = Dict()\n",
    "    for i in raw_text\n",
    "        push!(dictionary,split(i)[1] => split(i)[2]) end\n",
    "    return dictionary\n",
    "end\n",
    "\n",
    "#=\n",
    "The dictionaries are written with specific format for later use.\n",
    "Specifically each line ad key + \" \" + value. This function writes\n",
    "a defined dictionary to a text file.\n",
    "Retruns nothing.\n",
    "=#\n",
    "\n",
    "function write_dictionary(InputFile::String, DICT::Dict)\n",
    "    f = open(InputFile, \"w\")\n",
    "    for (key, value) in DICT\n",
    "        println(f, key, \" \", value) end\n",
    "    close(f)\n",
    "end\n",
    "\n",
    "#=\n",
    "The Wikipedia page request function. Each Wikipedia subdomain has different random page url, instead of \n",
    "requesting that url, there is a known random page url text file stored and automatically updated when\n",
    "a new language WP code is used. (\"Wikipedia_Random.txt\") \n",
    "HTTP library is used to get the webpage and the body text is pipelined to string.\n",
    "Retruns the String type webpage body text.\n",
    "=#\n",
    "\n",
    "function get_random_wikipedia_page(LANG_CODE::String)\n",
    "    url = \"\"\n",
    "    random_urls = read_dictionary(\"Wikipedia_Random.txt\")\n",
    "    if(haskey(random_urls, LANG_CODE))\n",
    "        url = \"https://\" * LANG_CODE * \".wikipedia.org\" * random_urls[LANG_CODE]\n",
    "    else\n",
    "        homepage = HTTP.get(\"https://\" * LANG_CODE * \".wikipedia.org\" * \"/wiki/\")\n",
    "        str = homepage.body |> String\n",
    "        start_point = findfirst(\"n-randompage\", str).stop+3\n",
    "        text_rest = str[start_point:end]\n",
    "        random_href = SubString(text_rest, findall(\"\\\"\", text_rest)[1].start+1, findall(\"\\\"\", text_rest)[2].start-1)\n",
    "        push!(random_urls, LANG_CODE => random_href)\n",
    "        write_dictionary(\"Wikipedia_Random.txt\", random_urls)  \n",
    "        url = \"https://\" * LANG_CODE * \".wikipedia.org\" * random_urls[LANG_CODE] end\n",
    "    r = HTTP.get(url)\n",
    "\ttitle = replace(r.request.target, r\"/\" => \"_\")\n",
    "    return title, r.body |> String\n",
    "end\n",
    "\n",
    "#=\n",
    "The raw HTML string is not parsed as a tree and with a lot of standartized HTML tags.\n",
    "It is necessary to take the useful string in between these tags. The extract element function\n",
    "checks crawls in the HTML raw string and extract strings.\n",
    "Retruns an Array of useful strings.\n",
    "=#\n",
    "\n",
    "function extract_elements(HTML::AbstractString, ELEMENT::String)\n",
    "    open_p = findall(\"<\"*ELEMENT, HTML)\n",
    "    close_p = findall(\"</\"*ELEMENT, HTML)\n",
    "    arr = []\n",
    "    try\n",
    "        for i in 1:length(open_p)\n",
    "            temp_text = SubString(HTML, open_p[i].start, close_p[i].stop+1) \n",
    "            push!(arr, temp_text) end catch x end\n",
    "    return arr\n",
    "end\n",
    "\n",
    "#=\n",
    "The strings removed from the HTML tags are still contaminated with the inline annotations with \n",
    "(),[],{} and etc. The text or other information inside is often not useful to train ngrams. \n",
    "This function cleans these special set charaters and the information inside.\n",
    "Retruns a cleared string.\n",
    "=#\n",
    "\n",
    "function clean_inside_tags(TEXT::AbstractString, SYMBOL_START::String, SYMBOL_STOP::String)\n",
    "    open_symbol = findall(SYMBOL_START, TEXT)\n",
    "    close_symbol = findall(SYMBOL_STOP, TEXT)\n",
    "    arr = []\n",
    "    if(length(open_symbol) > 0 && length(close_symbol) > 0 && length(open_symbol) == length(close_symbol))\n",
    "        for i in 1:min(length(open_symbol), length(close_symbol))   \n",
    "            temp_text = SubString(TEXT, open_symbol[i].start, close_symbol[i].stop)\n",
    "            push!(arr, temp_text) end end\n",
    "    for j in arr\n",
    "        TEXT = replace(TEXT, j => \"\") end\n",
    "    return TEXT\n",
    "end\n",
    "\n",
    "#=\n",
    "This function combines the extracting and cleaning most prominent sets from a random Wikipedia\n",
    "page. It extract the text within the <p> tags (Always the case in Wikipedia). Then, utilize the \n",
    "clean_inside_tags function to clear <>, (), [] and {}.\n",
    "Returns a String with clean text.\n",
    "=#\n",
    "\n",
    "function clean_text_wiki(HTML::AbstractString)\n",
    "    temp_text = \"\"\n",
    "    for i in extract_elements(HTML, \"p\")\n",
    "        temp_text *= clean_inside_tags(clean_inside_tags(clean_inside_tags(clean_inside_tags(i, \"<\", \">\"), \"[\", \"]\"), \"(\", \")\"), \"{\", \"}\") end\n",
    "    return temp_text\n",
    "end\n",
    "\n",
    "\n"
   ]
  },
  {
   "cell_type": "code",
   "execution_count": 16,
   "metadata": {},
   "outputs": [
    {
     "data": {
      "text/plain": [
       "(\"_wiki_Megachile_cinctiventris\", \"<!DOCTYPE html>\\n<html class=\\\"client-nojs vector-feature-language-in-header-enabled vector-feature-language-in-main-page-header-disabled vector-feature-sticky-header-disabled vector-feature-page-tools-pinned-disabled vector-feature-toc-pinned-enabled vector-feature-main-menu-pinned-disabled vector-feature-limited-width-enabled vector-feature-limited-width-content-enabled vector-feature-zebra-design-disabled\\\" lang=\\\"en\\\" dir=\\\"ltr\\\">\\n<head>\\n<meta charset=\\\"UTF-8\\\">\\n<title>Megachile cinctiventris - Wikipedia</title>\\n<script>document.documentElement.className=\\\"client-js vector-feature-language-in-header-enabled vector-feature-language-in-main-page-header-disabled vector-feature-sticky-header-disabled vector-feature-page-tools-pinned-disabled vector-feature-toc-pinned-enabled vector-feature-main-menu-pinned-disabled vector-feature-limited-width-enabled vector-feature-limited-width-content-enabled vector-feature-zebra-design-disabled\\\";(function(){var cookie=document.cookie.match(/(?:^|; )enwikimwclientprefs=([^;]+)/);if(cookie){var featureName=cookie[1];document.documentElement.className=document.documentElement.className.replace(featureName+'-enabled',featureName+'-disabled');}}());RLCONF={\\\"wgBreakFrames\\\":false,\\\"wgSeparatorTransformTable\\\":[\\\"\\\",\\\"\\\"],\\\"wgDigitTransformTable\\\":[\\\"\\\",\\\"\\\"],\\\"wgDefaultDateFormat\\\":\\\"dmy\\\",\\\"wgMonthNames\\\":[\\\"\\\",\\\"January\\\",\\\"February\\\",\\\"March\\\",\\\"April\\\",\\\"May\\\",\\\"June\\\",\\\"July\\\",\\\"August\\\",\\\"September\\\",\\\"October\\\",\\\"November\\\",\\\"December\\\"],\\\"wgRequestId\\\":\\\"b7f71677-f70d-456e-8dbd-05f59353bdd9\\\",\\\"wgCSPNonce\\\":false,\\n\\\"wgCanonicalNamespace\\\":\\\"\\\",\\\"wgCanonicalSpecialPageName\\\":false,\\\"wgNamespaceNumber\\\":0,\\\"wgPageName\\\":\\\"Megachile_cinctiventris\\\",\\\"wgTitle\\\":\\\"Megachile cinctiventris\\\",\\\"wgCurRevisionId\\\":847122896,\\\"wgRevisionId\\\":847122896,\\\"wgArticleId\\\":44075303,\\\"wgIsArticle\\\":true,\\\"wgIsRedirect\\\":false,\\\"wgAction\\\":\\\"view\\\",\\\"wgUserName\\\":null,\\\"wgUserGroups\\\":[\\\"*\\\"],\\\"wgCategories\\\":[\\\"Articles with short description\\\",\\\"Short description is different from Wikidata\\\",\\\"Articles with 'species' microformats\\\",\\\"All stub articles\\\",\\\"Megachile\\\",\\\"Insects described in 1916\\\",\\\"Megachile stubs\\\"],\\\"wgPageViewLanguage\\\":\\\"en\\\",\\\"wgPageContentLanguage\\\":\\\"en\\\",\\\"wgPageContentModel\\\":\\\"wikitext\\\",\\\"wgRelevantPageName\\\":\\\"Megachile_cinctiventris\\\",\\\"wgRelevantArticleId\\\":44075303,\\\"wgIsProbablyEditable\\\":true,\\\"wgRelevantPageIsProbablyEditable\\\":true,\\\"wgRestrictionEdit\\\":[],\\\"wgRestrictionMove\\\":[],\\\"wgFlaggedRevsParams\\\":{\\\"tags\\\":{\\\"status\\\":{\\\"levels\\\":1}}},\\\"wgVisualEditor\\\":{\\\"pageLanguageCode\\\":\\\"en\\\",\\\"pageLanguageDir\\\":\\\"ltr\\\",\\\"pageVariantFallbacks\\\":\\\"en\\\"},\\n\\\"wgMFDisplayWikibaseDescriptions\\\":{\\\"search\\\":true,\\\"watchlist\\\":true,\\\"tagline\\\":false,\\\"nearby\\\":true},\\\"wgWMESchemaEditAttemptStepOversample\\\":false,\\\"wgWMEPageLength\\\":600,\\\"wgNoticeProject\\\":\\\"wikipedia\\\",\\\"wgMediaViewerOnClick\\\":true,\\\"wgMediaViewerEnabledByDefault\\\":true,\\\"wgPopupsFlags\\\":10,\\\"wgULSCurrentAutonym\\\":\\\"English\\\",\\\"wgEditSubmitButtonLabelPublish\\\":true,\\\"wgCentralAuthMobileDomain\\\":false,\\\"wgULSPosition\\\":\\\"interlanguage\\\",\\\"wgULSisCompactLinksEnabled\\\":true,\\\"wgULSisLanguageSelectorEmpty\\\":false,\\\"wgWikibaseItemId\\\":\\\"Q2286144\\\",\\\"GEHomepageSuggestedEditsEnableTopics\\\":true,\\\"wgGETopicsMatchModeEnabled\\\":false,\\\"wgGEStructuredTaskRejectionReasonTextInputEnabled\\\":false,\\\"wgGELevelingUpEnabledForUser\\\":false};RLSTATE={\\\"skins.vector.user.styles\\\":\\\"ready\\\",\\\"ext.globalCssJs.user.styles\\\":\\\"ready\\\",\\\"site.styles\\\":\\\"ready\\\",\\\"user.styles\\\":\\\"ready\\\",\\\"skins.vector.user\\\":\\\"ready\\\",\\\"ext.globalCssJs.user\\\":\\\"ready\\\",\\\"user\\\":\\\"ready\\\",\\\"user.options\\\":\\\"loading\\\",\\\"ext.cite.styles\\\":\\\"ready\\\",\\\"codex-search-styles\\\":\\\"ready\\\",\\\"skins.vector.styles\\\":\\\"ready\\\"\\n,\\\"skins.vector.icons\\\":\\\"ready\\\",\\\"ext.visualEditor.desktopArticleTarget.noscript\\\":\\\"ready\\\",\\\"ext.wikimediaBadges\\\":\\\"ready\\\",\\\"ext.uls.interlanguage\\\":\\\"ready\\\",\\\"wikibase.client.init\\\":\\\"ready\\\"};RLPAGEMODULES=[\\\"ext.cite.ux-enhancements\\\",\\\"site\\\",\\\"mediawiki.page.ready\\\",\\\"skins.vector.js\\\",\\\"mmv.head\\\",\\\"mmv.bootstrap.autostart\\\",\\\"ext.visualEditor.desktopArticleTarget.init\\\",\\\"ext.visualEditor.targetLoader\\\",\\\"ext.eventLogging\\\",\\\"ext.wikimediaEvents\\\",\\\"ext.navigationTiming\\\",\\\"ext.cx.eventlogging.campaigns\\\",\\\"ext.quicksurveys.init\\\",\\\"ext.centralNotice.geoIP\\\",\\\"ext.centralNotice.startUp\\\",\\\"ext.gadget.ReferenceTooltips\\\",\\\"ext.gadget.charinsert\\\",\\\"ext.gadget.extra-toolbar-buttons\\\",\\\"ext.gadget.switcher\\\",\\\"ext.centralauth.centralautologin\\\",\\\"ext.popups\\\",\\\"ext.echo.centralauth\\\",\\\"ext.uls.compactlinks\\\",\\\"ext.uls.interface\\\",\\\"ext.cx.uls.quick.actions\\\",\\\"wikibase.client.vector-2022\\\",\\\"ext.growthExperiments.SuggestedEditSession\\\"];</script>\\n<script>(RLQ=window.RLQ||[]).push(function(){mw.loader.implement(\\\"user.options@12s5i\\\",function(\\$,jQuery,require,module){mw.user.tokens.set({\\\"patrolToken\\\":\\\"+\\\\\\\\\\\",\\\"watchToken\\\":\\\"+\\\\\\\\\\\",\\\"csrfToken\\\":\\\"+\\\\\\\\\\\"});});});</script>\\n<link rel=\\\"stylesheet\\\" href=\\\"/w/load.php?lang=en&amp;modules=codex-search-styles%7Cext.cite.styles%7Cext.uls.interlanguage%7Cext.visualEditor.desktopArticleTarget.noscript%7Cext.wikimediaBadges%7Cskins.vector.icons%2Cstyles%7Cwikibase.client.init&amp;only=styles&amp;skin=vector-2022\\\">\\n<script async=\\\"\\\" src=\\\"/w/load.php?lang=en&amp;modules=startup&amp;only=scripts&amp;raw=1&amp;skin=vector-2022\\\"></script>\\n<meta name=\\\"ResourceLoaderDynamicStyles\\\" content=\\\"\\\">\\n<link rel=\\\"stylesheet\\\" href=\\\"/w/load.php?lang=en&amp;modules=site.styles&amp;only=styles&amp;skin=vector-2022\\\">\\n<meta name=\\\"generator\\\" content=\\\"MediaWiki 1.41.0-wmf.20\\\">\\n<meta name=\\\"referrer\\\" content=\\\"origin\\\">\\n<meta name=\\\"referrer\\\" content=\\\"origin-when-crossorigin\\\">\\n<meta name=\\\"referrer\\\" content=\\\"origin-when-cross-origin\\\">\\n<meta name=\\\"robots\\\" content=\\\"max-image-preview:standard\\\">\\n<meta name=\\\"format-detection\\\" content=\\\"telephone=no\\\">\\n<meta name=\\\"viewport\\\" content=\\\"width=1000\\\">\\n<meta property=\\\"og:title\\\" content=\\\"Megachile cinctiventris - Wikipedia\\\">\\n<meta property=\\\"og:type\\\" content=\\\"website\\\">\\n<link rel=\\\"preconnect\\\" href=\\\"//upload.wikimedia.org\\\">\\n<link rel=\\\"alternate\\\" media=\\\"only screen and (max-width: 720px)\\\" href=\\\"//en.m.wikipedia.org/wiki/Megachile_cinctiventris\\\">\\n<link rel=\\\"alternate\\\" type=\\\"application/x-wiki\\\" title=\\\"Edit this page\\\" href=\\\"/w/index.php?title=Megachile_cinctiventris&amp;action=edit\\\">\\n<link rel=\\\"apple-touch-icon\\\" href=\\\"/static/apple-touch/wikipedia.png\\\">\\n<link rel=\\\"icon\\\" href=\\\"/static/favicon/wikipedia.ico\\\">\\n<link rel=\\\"search\\\" type=\\\"application/opensearchdescription+xml\\\" href=\\\"/w/opensearch_desc.php\\\" title=\\\"Wikipedia (en)\\\">\\n<link rel=\\\"EditURI\\\" type=\\\"application/rsd+xml\\\" href=\\\"//en.wikipedia.org/w/api.php?action=rsd\\\">\\n<link rel=\\\"canonical\\\" href=\\\"https://en.wikipedia.org/wiki/Megachile_cinctiventris\\\">\\n<link rel=\\\"license\\\" href=\\\"https://creativecommons.org/licenses/by-sa/4.0/deed.en\\\">\\n<link rel=\\\"alternate\\\" type=\\\"application/atom+xml\\\" title=\\\"Wikipedia Atom feed\\\" href=\\\"/w/index.php?title=Special:RecentChanges&amp;feed=atom\\\">\\n<link rel=\\\"dns-prefetch\\\" href=\\\"//meta.wikimedia.org\\\" />\\n<link rel=\\\"dns-prefetch\\\" href=\\\"//login.wikimedia.org\\\">\\n</head>\\n<body class=\\\"skin-vector skin-vector-search-vue mediawiki ltr sitedir-ltr mw-hide-empty-elt ns-0 ns-subject mw-editable page-Megachile_cinctiventris rootpage-Megachile_cinctiventris skin-vector-2022 action-view\\\"><a class=\\\"mw-jump-link\\\" href=\\\"#bodyContent\\\">Jump to content</a>\\n<div class=\\\"vector-header-container\\\">\\n\\t<header class=\\\"vector-header mw-header\\\">\\n\\t\\t<div class=\\\"vector-header-start\\\">\\n\\t\\t\\t<nav class=\\\"vector-main-menu-landmark\\\" aria-label=\\\"Site\\\" role=\\\"navigation\\\">\\n\\t\\t\\t\\t\\n<div id=\\\"vector-main-menu-dropdown\\\" class=\\\"vector-dropdown vector-main-menu-dropdown vector-button-flush-left vector-button-flush-right\\\"  >\\n\\t<input type=\\\"checkbox\\\" id=\\\"vector-main-menu-dropdown-checkbox\\\" role=\\\"button\\\" aria-haspopup=\\\"true\\\" data-event-name=\\\"ui.dropdown-vector-main-menu-dropdown\\\" class=\\\"vector-dropdown-checkbox \\\"  aria-label=\\\"Main menu\\\"  >\\n\\t<label id=\\\"vector-main-menu-dropdown-label\\\" for=\\\"vector-main-menu-dropdown-checkbox\\\" class=\\\"vector-dropdown-label cdx-button cdx-button--fake-button cdx-button--fake-button--enabled cdx-button--weight-quiet cdx-button--icon-only \\\" aria-hidden=\\\"true\\\"  ><span class=\\\"vector-icon mw-ui-icon-menu mw-ui-icon-wikimedia-menu\\\"></span>\\n\\n<span class=\\\"vector-dropdown-label-text\\\">Main menu</span>\\n\\t</label>\\n\\t<div class=\\\"vector-dropdown-content\\\">\\n\\n\\n\\t\\t\\t\\t<div id=\\\"vector-main-menu-unpinned-container\\\" class=\\\"vector-unpinned-container\\\">\\n\\t\\t\\n<div id=\\\"vector-main-menu\\\" class=\\\"vector-main-menu vector-pinnable-element\\\">\\n\\t<div\\n\\tclass=\\\"vector-pinnable-header vector-main-menu-pinnable-header vector-pinnable-header-unpinned\\\"\\n\\tdata-feature-name=\\\"main-menu-pinned\\\"\\n\\tdata-pinnable-element-id=\\\"vector-main-menu\\\"\\n\\tdata-pinned-container-id=\\\"vector-main-menu-pinned-container\\\"\\n\\tdata-unpinned-container-id=\\\"vector-main-menu-unpinned-container\\\"\\n>\\n\\t<div class=\\\"vector-pinnable-header-label\\\">Main menu</div>\\n\\t<button class=\\\"vector-pinnable-header-toggle-button vector-pinnable-header-pin-button\\\" data-event-name=\\\"pinnable-header.vector-main-menu.pin\\\">move to sidebar</button>\\n\\t<button class=\\\"vector-pinnable-header-toggle-button vector-pinnable-header-unpin-button\\\" data-event-name=\\\"pinnable-header.vector-main-menu.unpin\\\">hide</button>\\n</div>\\n\\n\\t\\n<div id=\\\"p-navigation\\\" class=\\\"vector-menu mw-portlet mw-portlet-navigation\\\"  >\\n\\t<div class=\\\"vector-menu-heading\\\">\\n\\t\\tNavigation\\n\\t</div>\\n\\t<div class=\\\"vector-menu-content\\\">\\n\\t\\t\\n\\t\\t<ul class=\\\"vector-menu-content-list\\\">\\n\\t\\t\\t\\n\\t\\t\\t<li id=\\\"n-mainpage-description\\\" class=\\\"mw-list-item\\\"><a href=\\\"/wiki/Main_Page\\\" title=\\\"Visit the main page [z]\\\" accesskey=\\\"z\\\"><span>Main page</span></a></li><li id=\\\"n-contents\\\" class=\\\"mw-list-item\\\"><a href=\\\"/wiki/Wikipedia:Contents\\\" title=\\\"Guides to browsing Wikipedia\\\"><span>Contents</span></a></li><li id=\\\"n-currentevents\\\" class=\\\"mw-list-item\\\"><a href=\\\"/wiki/Portal:Current_events\\\" title=\\\"Articles related to current events\\\"><span>Current events</span></a></li><li id=\\\"n-randompage\\\" class=\\\"mw-list-item\\\"><a href=\\\"/wiki/Special:Random\\\" title=\\\"Visit a randomly selected article [x]\\\" accesskey=\\\"x\\\"><span>Random article</span></a></li><li id=\\\"n-aboutsite\\\" class=\\\"mw-list-item\\\"><a href=\\\"/wiki/Wikipedia:About\\\" title=\\\"Learn about Wikipedia and how it works\\\"><span>About Wikipedia</span></a></li><li id=\\\"n-contactpage\\\" class=\\\"mw-list-item\\\"><a href=\\\"//en.wikipedia.org/wiki/Wikipedia:Contact_us\\\" title=\\\"How to contact Wikipedia\\\"><span>Contact us</span></a></li><li id=\\\"n-sitesupport\\\" class=\\\"mw-list-item\\\"><a href=\\\"https://donate.wikimedia.org/wiki/Special:FundraiserRedirector?utm_source=donate&amp;utm_medium=sidebar&amp;utm_campaign=C13_en.wikipedia.org&amp;uselang=en\\\" title=\\\"Support us by donating to the Wikimedia Foundation\\\"><span>Donate</span></a></li>\\n\\t\\t</ul>\\n\\t\\t\\n\\t</div>\\n</div>\\n\\n\\t\\n\\t\\n<div id=\\\"p-interaction\\\" class=\\\"vector-menu mw-portlet mw-portlet-interaction\\\"  >\\n\\t<div class=\\\"vector-menu-heading\\\">\\n\\t\\tContribute\\n\\t</div>\\n\\t<div class=\\\"vector-menu-content\\\">\\n\\t\\t\\n\\t\\t<ul class=\\\"vector-menu-content-list\\\">\\n\\t\\t\\t\\n\\t\\t\\t<li id=\\\"n-help\\\" class=\\\"mw-list-item\\\"><a href=\\\"/wiki/Help:Contents\\\" title=\\\"Guidance on how to use and edit Wikipedia\\\"><span>Help</span></a></li><li id=\\\"n-introduction\\\" class=\\\"mw-list-item\\\"><a href=\\\"/wiki/Help:Introduction\\\" title=\\\"Learn how to edit Wikipedia\\\"><span>Learn to edit</span></a></li><li id=\\\"n-portal\\\" class=\\\"mw-list-item\\\"><a href=\\\"/wiki/Wikipedia:Community_portal\\\" title=\\\"The hub for editors\\\"><span>Community portal</span></a></li><li id=\\\"n-recentchanges\\\" class=\\\"mw-list-item\\\"><a href=\\\"/wiki/Special:RecentChanges\\\" title=\\\"A list of recent changes to Wikipedia [r]\\\" accesskey=\\\"r\\\"><span>Recent changes</span></a></li><li id=\\\"n-upload\\\" class=\\\"mw-list-item\\\"><a href=\\\"/wiki/Wikipedia:File_upload_wizard\\\" title=\\\"Add images or other media for use on Wikipedia\\\"><span>Upload file</span></a></li>\\n\\t\\t</ul>\\n\\t\\t\\n\\t</div>\\n</div>\\n\\n\\t\\n<div class=\\\"vector-main-menu-action vector-main-menu-action-lang-alert\\\">\\n\\t<div class=\\\"vector-main-menu-action-item\\\">\\n\\t\\t<div class=\\\"vector-main-menu-action-heading vector-menu-heading\\\">Languages</div>\\n\\t\\t<div class=\\\"vector-main-menu-action-content vector-menu-content\\\">\\n\\t\\t\\t<div class=\\\"mw-message-box cdx-message cdx-message--block mw-message-box-notice cdx-message--notice vector-language-sidebar-alert\\\"><span class=\\\"cdx-message__icon\\\"></span><div class=\\\"cdx-message__content\\\">Language links are at the top of the page across from the title.</div></div>\\n\\t\\t</div>\\n\\t</div>\\n</div>\\n\\n</div>\\n\\n\\t\\t\\t\\t</div>\\n\\n\\t</div>\\n</div>\\n\\n\\t\\t</nav>\\n\\t\\t\\t\\n<a href=\\\"/wiki/Main_Page\\\" class=\\\"mw-logo\\\">\\n\\t<img class=\\\"mw-logo-icon\\\" src=\\\"/static/images/icons/wikipedia.png\\\" alt=\\\"\\\" aria-hidden=\\\"true\\\" height=\\\"50\\\" width=\\\"50\\\">\\n\\t<span class=\\\"mw-logo-container\\\">\\n\\t\\t<img class=\\\"mw-logo-wordmark\\\" alt=\\\"Wikipedia\\\" src=\\\"/static/images/mobile/copyright/wikipedia-wordmark-en.svg\\\" style=\\\"width: 7.5em; height: 1.125em;\\\">\\n\\t\\t<img class=\\\"mw-logo-tagline\\\" alt=\\\"The Free Encyclopedia\\\" src=\\\"/static/images/mobile/copyright/wikipedia-tagline-en.svg\\\" width=\\\"117\\\" height=\\\"13\\\" style=\\\"width: 7.3125em; height: 0.8125em;\\\">\\n\\t</span>\\n</a>\\n\\n\\t\\t</div>\\n\\t\\t<div class=\\\"vector-header-end\\\">\\n\\t\\t\\t\\n<div id=\\\"p-search\\\" role=\\\"search\\\" class=\\\"vector-search-box-vue  vector-search-box-collapses vector-search-box-show-thumbnail vector-search-box-auto-expand-width vector-search-box\\\">\\n\\t<a href=\\\"/wiki/Special:Search\\\" class=\\\"cdx-button cdx-button--fake-button cdx-button--fake-button--enabled cdx-button--weight-quiet cdx-button--icon-only search-toggle\\\" id=\\\"\\\" title=\\\"Search Wikipedia [f]\\\" accesskey=\\\"f\\\"><span class=\\\"vector-icon mw-ui-icon-search mw-ui-icon-wikimedia-search\\\"></span>\\n\\n<span>Search</span>\\n\\t</a>\\n\\t<div class=\\\"vector-typeahead-search-container\\\">\\n\\t\\t<div class=\\\"cdx-typeahead-search cdx-typeahead-search--show-thumbnail cdx-typeahead-search--auto-expand-width\\\">\\n\\t\\t\\t<form action=\\\"/w/index.php\\\" id=\\\"searchform\\\" class=\\\"cdx-search-input cdx-search-input--has-end-button\\\">\\n\\t\\t\\t\\t<div id=\\\"simpleSearch\\\" class=\\\"cdx-search-input__input-wrapper\\\"  data-search-loc=\\\"header-moved\\\">\\n\\t\\t\\t\\t\\t<div class=\\\"cdx-text-input cdx-text-input--has-start-icon\\\">\\n\\t\\t\\t\\t\\t\\t<input\\n\\t\\t\\t\\t\\t\\t\\tclass=\\\"cdx-text-input__input\\\"\\n\\t\\t\\t\\t\\t\\t\\t type=\\\"search\\\" name=\\\"search\\\" placeholder=\\\"Search Wikipedia\\\" aria-label=\\\"Search Wikipedia\\\" autocapitalize=\\\"sentences\\\" title=\\\"Search Wikipedia [f]\\\" accesskey=\\\"f\\\" id=\\\"searchInput\\\"\\n\\t\\t\\t\\t\\t\\t\\t>\\n\\t\\t\\t\\t\\t\\t<span class=\\\"cdx-text-input__icon cdx-text-input__start-icon\\\"></span>\\n\\t\\t\\t\\t\\t</div>\\n\\t\\t\\t\\t\\t<input type=\\\"hidden\\\" name=\\\"title\\\" value=\\\"Special:Search\\\">\\n\\t\\t\\t\\t</div>\\n\\t\\t\\t\\t<button class=\\\"cdx-button cdx-search-input__end-button\\\">Search</button>\\n\\t\\t\\t</form>\\n\\t\\t</div>\\n\\t</div>\\n</div>\\n\\n\\t\\t\\t<nav class=\\\"vector-user-links\\\" aria-label=\\\"Personal tools\\\" role=\\\"navigation\\\" >\\n\\t\\n<div id=\\\"p-vector-user-menu-overflow\\\" class=\\\"vector-menu mw-portlet mw-portlet-vector-user-menu-overflow\\\"  >\\n\\t<div class=\\\"vector-menu-content\\\">\\n\\t\\t\\n\\t\\t<ul class=\\\"vector-menu-content-list\\\">\\n\\t\\t\\t\\n\\t\\t\\t<li id=\\\"pt-createaccount-2\\\" class=\\\"user-links-collapsible-item mw-list-item\\\"><a href=\\\"/w/index.php?title=Special:CreateAccount&amp;returnto=Megachile+cinctiventris\\\" title=\\\"You are encouraged to create an account and log in; however, it is not mandatory\\\"><span>Create account</span></a></li><li id=\\\"pt-login-2\\\" class=\\\"user-links-collapsible-item mw-list-item\\\"><a href=\\\"/w/index.php?title=Special:UserLogin&amp;returnto=Megachile+cinctiventris\\\" title=\\\"You&#039;re encouraged to log in; however, it&#039;s not mandatory. [o]\\\" accesskey=\\\"o\\\"><span>Log in</span></a></li>\\n\\t\\t</ul>\\n\\t\\t\\n\\t</div>\\n</div>\\n\\n\\t\\n<div id=\\\"vector-user-links-dropdown\\\" class=\\\"vector-dropdown vector-user-menu vector-button-flush-right vector-user-menu-logged-out\\\"  title=\\\"Log in and more options\\\" >\\n\\t<input type=\\\"checkbox\\\" id=\\\"vector-user-links-dropdown-checkbox\\\" role=\\\"button\\\" aria-haspopup=\\\"true\\\" data-event-name=\\\"ui.dropdown-vector-user-links-dropdown\\\" class=\\\"vector-dropdown-checkbox \\\"  aria-label=\\\"Personal tools\\\"  >\\n\\t<label id=\\\"vector-user-links-dropdown-label\\\" for=\\\"vector-user-links-dropdown-checkbox\\\" class=\\\"vector-dropdown-label cdx-button cdx-button--fake-button cdx-button--fake-button--enabled cdx-button--weight-quiet cdx-button--icon-only \\\" aria-hidden=\\\"true\\\"  ><span class=\\\"vector-icon mw-ui-icon-ellipsis mw-ui-icon-wikimedia-ellipsis\\\"></span>\\n\\n<span class=\\\"vector-dropdown-label-text\\\">Personal tools</span>\\n\\t</label>\\n\\t<div class=\\\"vector-dropdown-content\\\">\\n\\n\\n\\t\\t\\n<div id=\\\"p-personal\\\" class=\\\"vector-menu mw-portlet mw-portlet-personal user-links-collapsible-item\\\"  title=\\\"User menu\\\" >\\n\\t<div class=\\\"vector-menu-content\\\">\\n\\t\\t\\n\\t\\t<ul class=\\\"vector-menu-content-list\\\">\\n\\t\\t\\t\\n\\t\\t\\t<li id=\\\"pt-createaccount\\\" class=\\\"user-links-collapsible-item mw-list-item\\\"><a href=\\\"/w/index.php?title=Special:CreateAccount&amp;returnto=Megachile+cinctiventris\\\" title=\\\"You are encouraged to create an account and log in; however, it is not mandatory\\\"><span class=\\\"vector-icon mw-ui-icon-userAdd mw-ui-icon-wikimedia-userAdd\\\"></span> <span>Create account</span></a></li><li id=\\\"pt-login\\\" class=\\\"user-links-collapsible-item mw-list-item\\\"><a href=\\\"/w/index.php?title=Special:UserLogin&amp;returnto=Megachile+cinctiventris\\\" title=\\\"You&#039;re encouraged to log in; however, it&#039;s not mandatory. [o]\\\" accesskey=\\\"o\\\"><span class=\\\"vector-icon mw-ui-icon-logIn mw-ui-icon-wikimedia-logIn\\\"></span> <span>Log in</span></a></li>\\n\\t\\t</ul>\\n\\t\\t\\n\\t</div>\\n</div>\\n\\n<div id=\\\"p-user-menu-anon-editor\\\" class=\\\"vector-menu mw-portlet mw-portlet-user-menu-anon-editor\\\"  >\\n\\t<div class=\\\"vector-menu-heading\\\">\\n\\t\\tPages for logged out editors <a href=\\\"/wiki/Help:Introduction\\\" aria-label=\\\"Learn more about editing\\\"><span>learn more</span></a>\\n\\t</div>\\n\\t<div class=\\\"vector-menu-content\\\">\\n\\t\\t\\n\\t\\t<ul class=\\\"vector-menu-content-list\\\">\\n\\t\\t\\t\\n\\t\\t\\t<li id=\\\"pt-anoncontribs\\\" class=\\\"mw-list-item\\\"><a href=\\\"/wiki/Special:MyContributions\\\" title=\\\"A list of edits made from this IP address [y]\\\" accesskey=\\\"y\\\"><span>Contributions</span></a></li><li id=\\\"pt-anontalk\\\" class=\\\"mw-list-item\\\"><a href=\\\"/wiki/Special:MyTalk\\\" title=\\\"Discussion about edits from this IP address [n]\\\" accesskey=\\\"n\\\"><span>Talk</span></a></li>\\n\\t\\t</ul>\\n\\t\\t\\n\\t</div>\\n</div>\\n\\n\\t\\n\\t</div>\\n</div>\\n\\n</nav>\\n\\n\\t\\t</div>\\n\\t</header>\\n</div>\\n<div class=\\\"mw-page-container\\\">\\n\\t<div class=\\\"mw-page-container-inner\\\">\\n\\t\\t<div class=\\\"vector-main-menu-container \\\">\\n\\t\\t\\t<div id=\\\"mw-navigation\\\">\\n\\t\\t\\t\\t<nav id=\\\"mw-panel\\\" class=\\\"vector-main-menu-landmark\\\" aria-label=\\\"Site\\\" role=\\\"navigation\\\">\\n\\t\\t\\t\\t\\t<div id=\\\"vector-main-menu-pinned-container\\\" class=\\\"vector-pinned-container\\\">\\n\\t\\t\\t\\t\\n\\t\\t\\t\\t\\t</div>\\n\\t\\t</nav>\\n\\t\\t\\t</div>\\n\\t\\t</div>\\n\\t\\t<div class=\\\"vector-sitenotice-container\\\">\\n\\t\\t\\t<div id=\\\"siteNotice\\\"><!-- CentralNotice --></div>\\n\\t\\t</div>\\n\\t\\t<input type=\\\"checkbox\\\" id=\\\"vector-toc-collapsed-checkbox\\\" class=\\\"vector-menu-checkbox\\\">\\n\\t\\t<nav id=\\\"mw-panel-toc\\\" role=\\\"navigation\\\" aria-label=\\\"Contents\\\" data-event-name=\\\"ui.sidebar-toc\\\" class=\\\"mw-table-of-contents-container vector-toc-landmark vector-sticky-pinned-container\\\">\\n\\t\\t\\t<div id=\\\"vector-toc-pinned-container\\\" class=\\\"vector-pinned-container\\\">\\n\\t\\t\\t\\t\\t<div id=\\\"vector-toc\\\" class=\\\"vector-toc vector-pinnable-element\\\">\\n\\t<div\\n\\tclass=\\\"vector-pinnable-header vector-toc-pinnable-header vector-pinnable-header-pinned\\\"\\n\\tdata-feature-name=\\\"toc-pinned\\\"\\n\\tdata-pinnable-element-id=\\\"vector-toc\\\"\\n\\t\\n\\t\\n>\\n\\t<h2 class=\\\"vector-pinnable-header-label\\\">Contents</h2>\\n\\t<button class=\\\"vector-pinnable-header-toggle-button vector-pinnable-header-pin-button\\\" data-event-name=\\\"pinnable-header.vector-toc.pin\\\">move to sidebar</button>\\n\\t<button class=\\\"vector-pinnable-header-toggle-button vector-pinnable-header-unpin-button\\\" data-event-name=\\\"pinnable-header.vector-toc.unpin\\\">hide</button>\\n</div>\\n\\n\\n\\t<ul class=\\\"vector-toc-contents\\\" id=\\\"mw-panel-toc-list\\\">\\n\\t\\t<li id=\\\"toc-mw-content-text\\\"\\n\\t\\t\\tclass=\\\"vector-toc-list-item vector-toc-level-1\\\">\\n\\t\\t\\t<a href=\\\"#\\\" class=\\\"vector-toc-link\\\">\\n\\t\\t\\t\\t<div class=\\\"vector-toc-text\\\">(Top)</div>\\n\\t\\t\\t</a>\\n\\t\\t</li>\\n\\t\\t<li id=\\\"toc-References\\\"\\n\\t\\tclass=\\\"vector-toc-list-item vector-toc-level-1 vector-toc-list-item-expanded\\\">\\n\\t\\t<a class=\\\"vector-toc-link\\\" href=\\\"#References\\\">\\n\\t\\t\\t<div class=\\\"vector-toc-text\\\">\\n\\t\\t\\t<span class=\\\"vector-toc-numb\\\">1</span>References</div>\\n\\t\\t</a>\\n\\t\\t\\n\\t\\t<ul id=\\\"toc-References-sublist\\\" class=\\\"vector-toc-list\\\">\\n\\t\\t</ul>\\n\\t</li>\\n</ul>\\n</div>\\n\\n\\t\\t\\t</div>\\n\\t\\t</nav>\\n\\t\\t<div class=\\\"mw-content-container\\\">\\n\\t\\t\\t<main id=\\\"content\\\" class=\\\"mw-body\\\" role=\\\"main\\\">\\n\\t\\t\\t\\t<header class=\\\"mw-body-header vector-page-titlebar\\\">\\n\\t\\t\\t\\t\\t<label\\n\\t\\t\\t\\t\\t\\tid=\\\"vector-toc-collapsed-button\\\"\\n\\t\\t\\t\\t\\t\\tclass=\\\"cdx-button cdx-button--fake-button cdx-button--fake-button--enabled cdx-button--weight-quiet vector-button-flush-left cdx-button--icon-only\\\"\\n\\t\\t\\t\\t\\t\\tfor=\\\"vector-toc-collapsed-checkbox\\\"\\n\\t\\t\\t\\t\\t\\trole=\\\"button\\\"\\n\\t\\t\\t\\t\\t\\taria-controls=\\\"vector-toc\\\"\\n\\t\\t\\t\\t\\t\\ttabindex=\\\"0\\\"\\n\\t\\t\\t\\t\\t\\ttitle=\\\"Table of Contents\\\">\\n\\t\\t\\t\\t\\t\\t<span class=\\\"vector-icon mw-ui-icon-wikimedia-listBullet\\\"></span>\\n\\t\\t\\t\\t\\t\\t<span>Toggle the table of contents</span>\\n\\t\\t\\t\\t\\t</label>\\n\\t\\t\\t\\t\\t<nav role=\\\"navigation\\\" aria-label=\\\"Contents\\\" class=\\\"vector-toc-landmark\\\">\\n\\t\\t\\t\\t\\t\\t\\n<div id=\\\"vector-page-titlebar-toc\\\" class=\\\"vector-dropdown vector-page-titlebar-toc vector-button-flush-left\\\"  >\\n\\t<input type=\\\"checkbox\\\" id=\\\"vector-page-titlebar-toc-checkbox\\\" role=\\\"button\\\" aria-haspopup=\\\"true\\\" data-event-name=\\\"ui.dropdown-vector-page-titlebar-toc\\\" class=\\\"vector-dropdown-checkbox \\\"  aria-label=\\\"Toggle the table of contents\\\"  >\\n\\t<label id=\\\"vector-page-titlebar-toc-label\\\" for=\\\"vector-page-titlebar-toc-checkbox\\\" class=\\\"vector-dropdown-label cdx-button cdx-button--fake-button cdx-button--fake-button--enabled cdx-button--weight-quiet cdx-button--icon-only \\\" aria-hidden=\\\"true\\\"  ><span class=\\\"vector-icon mw-ui-icon-listBullet mw-ui-icon-wikimedia-listBullet\\\"></span>\\n\\n<span class=\\\"vector-dropdown-label-text\\\">Toggle the table of contents</span>\\n\\t</label>\\n\\t<div class=\\\"vector-dropdown-content\\\">\\n\\n\\n\\t\\t\\t\\t\\t\\t\\t<div id=\\\"vector-page-titlebar-toc-unpinned-container\\\" class=\\\"vector-unpinned-container\\\">\\n\\t\\t\\t</div>\\n\\t\\t\\n\\t</div>\\n</div>\\n\\n\\t\\t\\t\\t\\t</nav>\\n\\t\\t\\t\\t\\t<h1 id=\\\"firstHeading\\\" class=\\\"firstHeading mw-first-heading\\\"><i>Megachile cinctiventris</i></h1>\\n\\t\\t\\t\\t\\t\\t\\t\\n<div id=\\\"p-lang-btn\\\" class=\\\"vector-dropdown mw-portlet mw-portlet-lang\\\"  >\\n\\t<input type=\\\"checkbox\\\" id=\\\"p-lang-btn-checkbox\\\" role=\\\"button\\\" aria-haspopup=\\\"true\\\" data-event-name=\\\"ui.dropdown-p-lang-btn\\\" class=\\\"vector-dropdown-checkbox mw-interlanguage-selector\\\" aria-label=\\\"Go to an article in another language. Available in 5 languages\\\"   >\\n\\t<label id=\\\"p-lang-btn-label\\\" for=\\\"p-lang-btn-checkbox\\\" class=\\\"vector-dropdown-label cdx-button cdx-button--fake-button cdx-button--fake-button--enabled cdx-button--weight-quiet cdx-button--action-progressive mw-portlet-lang-heading-5\\\" aria-hidden=\\\"true\\\"  ><span class=\\\"vector-icon mw-ui-icon-language-progressive mw-ui-icon-wikimedia-language-progressive\\\"></span>\\n\\n<span class=\\\"vector-dropdown-label-text\\\">5 languages</span>\\n\\t</label>\\n\\t<div class=\\\"vector-dropdown-content\\\">\\n\\n\\t\\t<div class=\\\"vector-menu-content\\\">\\n\\t\\t\\t\\n\\t\\t\\t<ul class=\\\"vector-menu-content-list\\\">\\n\\t\\t\\t\\t\\n\\t\\t\\t\\t<li class=\\\"interlanguage-link interwiki-ceb mw-list-item\\\"><a href=\\\"https://ceb.wikipedia.org/wiki/Megachile_cinctiventris\\\" title=\\\"Megachile cinctiventris – Cebuano\\\" lang=\\\"ceb\\\" hreflang=\\\"ceb\\\" class=\\\"interlanguage-link-target\\\"><span>Cebuano</span></a></li><li class=\\\"interlanguage-link interwiki-nl mw-list-item\\\"><a href=\\\"https://nl.wikipedia.org/wiki/Megachile_cinctiventris\\\" title=\\\"Megachile cinctiventris – Dutch\\\" lang=\\\"nl\\\" hreflang=\\\"nl\\\" class=\\\"interlanguage-link-target\\\"><span>Nederlands</span></a></li><li class=\\\"interlanguage-link interwiki-sv mw-list-item\\\"><a href=\\\"https://sv.wikipedia.org/wiki/Megachile_cinctiventris\\\" title=\\\"Megachile cinctiventris – Swedish\\\" lang=\\\"sv\\\" hreflang=\\\"sv\\\" class=\\\"interlanguage-link-target\\\"><span>Svenska</span></a></li><li class=\\\"interlanguage-link interwiki-vi mw-list-item\\\"><a href=\\\"https://vi.wikipedia.org/wiki/Megachile_cinctiventris\\\" title=\\\"Megachile cinctiventris – Vietnamese\\\" lang=\\\"vi\\\" hreflang=\\\"vi\\\" class=\\\"interlanguage-link-target\\\"><span>Tiếng Việt</span></a></li><li class=\\\"interlanguage-link interwiki-war mw-list-item\\\"><a href=\\\"https://war.wikipedia.org/wiki/Megachile_cinctiventris\\\" title=\\\"Megachile cinctiventris – Waray\\\" lang=\\\"war\\\" hreflang=\\\"war\\\" class=\\\"interlanguage-link-target\\\"><span>Winaray</span></a></li>\\n\\t\\t\\t</ul>\\n\\t\\t\\t<div class=\\\"after-portlet after-portlet-lang\\\"><span class=\\\"wb-langlinks-edit wb-langlinks-link\\\"><a href=\\\"https://www.wikidata.org/wiki/Special:EntityPage/Q2286144#sitelinks-wikipedia\\\" title=\\\"Edit interlanguage links\\\" class=\\\"wbc-editpage\\\">Edit links</a></span></div>\\n\\t\\t</div>\\n\\n\\t</div>\\n</div>\\n</header>\\n\\t\\t\\t\\t<div class=\\\"vector-page-toolbar\\\">\\n\\t\\t\\t\\t\\t<div class=\\\"vector-page-toolbar-container\\\">\\n\\t\\t\\t\\t\\t\\t<div id=\\\"left-navigation\\\">\\n\\t\\t\\t\\t\\t\\t\\t<nav aria-label=\\\"Namespaces\\\">\\n\\t\\t\\t\\t\\t\\t\\t\\t\\n<div id=\\\"p-associated-pages\\\" class=\\\"vector-menu vector-menu-tabs mw-portlet mw-portlet-associated-pages\\\"  >\\n\\t<div class=\\\"vector-menu-content\\\">\\n\\t\\t\\n\\t\\t<ul class=\\\"vector-menu-content-list\\\">\\n\\t\\t\\t\\n\\t\\t\\t<li id=\\\"ca-nstab-main\\\" class=\\\"selected vector-tab-noicon mw-list-item\\\"><a href=\\\"/wiki/Megachile_cinctiventris\\\" title=\\\"View the content page [c]\\\" accesskey=\\\"c\\\"><span>Article</span></a></li><li id=\\\"ca-talk\\\" class=\\\"vector-tab-noicon mw-list-item\\\"><a href=\\\"/wiki/Talk:Megachile_cinctiventris\\\" rel=\\\"discussion\\\" title=\\\"Discuss improvements to the content page [t]\\\" accesskey=\\\"t\\\"><span>Talk</span></a></li>\\n\\t\\t</ul>\\n\\t\\t\\n\\t</div>\\n</div>\\n\\n\\t\\t\\t\\t\\t\\t\\t\\t\\n<div id=\\\"p-variants\\\" class=\\\"vector-dropdown emptyPortlet\\\"  >\\n\\t<input type=\\\"checkbox\\\" id=\\\"p-variants-checkbox\\\" role=\\\"button\\\" aria-haspopup=\\\"true\\\" data-event-name=\\\"ui.dropdown-p-variants\\\" class=\\\"vector-dropdown-checkbox \\\" aria-label=\\\"Change language variant\\\"   >\\n\\t<label id=\\\"p-variants-label\\\" for=\\\"p-variants-checkbox\\\" class=\\\"vector-dropdown-label cdx-button cdx-button--fake-button cdx-button--fake-button--enabled cdx-button--weight-quiet\\\" aria-hidden=\\\"true\\\"  ><span class=\\\"vector-dropdown-label-text\\\">English</span>\\n\\t</label>\\n\\t<div class=\\\"vector-dropdown-content\\\">\\n\\n\\n\\t\\t\\t\\t\\t\\n<div id=\\\"p-variants\\\" class=\\\"vector-menu mw-portlet mw-portlet-variants emptyPortlet\\\"  >\\n\\t<div class=\\\"vector-menu-content\\\">\\n\\t\\t\\n\\t\\t<ul class=\\\"vector-menu-content-list\\\">\\n\\t\\t\\t\\n\\t\\t\\t\\n\\t\\t</ul>\\n\\t\\t\\n\\t</div>\\n</div>\\n\\n\\t\\t\\t\\t\\n\\t</div>\\n</div>\\n\\n\\t\\t\\t\\t\\t\\t\\t</nav>\\n\\t\\t\\t\\t\\t\\t</div>\\n\\t\\t\\t\\t\\t\\t<div id=\\\"right-navigation\\\" class=\\\"vector-collapsible\\\">\\n\\t\\t\\t\\t\\t\\t\\t<nav aria-label=\\\"Views\\\">\\n\\t\\t\\t\\t\\t\\t\\t\\t\\n<div id=\\\"p-views\\\" class=\\\"vector-menu vector-menu-tabs mw-portlet mw-portlet-views\\\"  >\\n\\t<div class=\\\"vector-menu-content\\\">\\n\\t\\t\\n\\t\\t<ul class=\\\"vector-menu-content-list\\\">\\n\\t\\t\\t\\n\\t\\t\\t<li id=\\\"ca-view\\\" class=\\\"selected vector-tab-noicon mw-list-item\\\"><a href=\\\"/wiki/Megachile_cinctiventris\\\"><span>Read</span></a></li><li id=\\\"ca-edit\\\" class=\\\"vector-tab-noicon mw-list-item\\\"><a href=\\\"/w/index.php?title=Megachile_cinctiventris&amp;action=edit\\\" title=\\\"Edit this page [e]\\\" accesskey=\\\"e\\\"><span>Edit</span></a></li><li id=\\\"ca-history\\\" class=\\\"vector-tab-noicon mw-list-item\\\"><a href=\\\"/w/index.php?title=Megachile_cinctiventris&amp;action=history\\\" title=\\\"Past revisions of this page [h]\\\" accesskey=\\\"h\\\"><span>View history</span></a></li>\\n\\t\\t</ul>\\n\\t\\t\\n\\t</div>\\n</div>\\n\\n\\t\\t\\t\\t\\t\\t\\t</nav>\\n\\t\\t\\t\\t\\n\\t\\t\\t\\t\\t\\t\\t<nav class=\\\"vector-page-tools-landmark\\\" aria-label=\\\"More options\\\">\\n\\t\\t\\t\\t\\t\\t\\t\\t\\n<div id=\\\"vector-page-tools-dropdown\\\" class=\\\"vector-dropdown vector-page-tools-dropdown\\\"  >\\n\\t<input type=\\\"checkbox\\\" id=\\\"vector-page-tools-dropdown-checkbox\\\" role=\\\"button\\\" aria-haspopup=\\\"true\\\" data-event-name=\\\"ui.dropdown-vector-page-tools-dropdown\\\" class=\\\"vector-dropdown-checkbox \\\"  aria-label=\\\"Tools\\\"  >\\n\\t<label id=\\\"vector-page-tools-dropdown-label\\\" for=\\\"vector-page-tools-dropdown-checkbox\\\" class=\\\"vector-dropdown-label cdx-button cdx-button--fake-button cdx-button--fake-button--enabled cdx-button--weight-quiet\\\" aria-hidden=\\\"true\\\"  ><span class=\\\"vector-dropdown-label-text\\\">Tools</span>\\n\\t</label>\\n\\t<div class=\\\"vector-dropdown-content\\\">\\n\\n\\n\\t\\t\\t\\t\\t\\t\\t\\t\\t<div id=\\\"vector-page-tools-unpinned-container\\\" class=\\\"vector-unpinned-container\\\">\\n\\t\\t\\t\\t\\t\\t\\n<div id=\\\"vector-page-tools\\\" class=\\\"vector-page-tools vector-pinnable-element\\\">\\n\\t<div\\n\\tclass=\\\"vector-pinnable-header vector-page-tools-pinnable-header vector-pinnable-header-unpinned\\\"\\n\\tdata-feature-name=\\\"page-tools-pinned\\\"\\n\\tdata-pinnable-element-id=\\\"vector-page-tools\\\"\\n\\tdata-pinned-container-id=\\\"vector-page-tools-pinned-container\\\"\\n\\tdata-unpinned-container-id=\\\"vector-page-tools-unpinned-container\\\"\\n>\\n\\t<div class=\\\"vector-pinnable-header-label\\\">Tools</div>\\n\\t<button class=\\\"vector-pinnable-header-toggle-button vector-pinnable-header-pin-button\\\" data-event-name=\\\"pinnable-header.vector-page-tools.pin\\\">move to sidebar</button>\\n\\t<button class=\\\"vector-pinnable-header-toggle-button vector-pinnable-header-unpin-button\\\" data-event-name=\\\"pinnable-header.vector-page-tools.unpin\\\">hide</button>\\n</div>\\n\\n\\t\\n<div id=\\\"p-cactions\\\" class=\\\"vector-menu mw-portlet mw-portlet-cactions emptyPortlet vector-has-collapsible-items\\\"  title=\\\"More options\\\" >\\n\\t<div class=\\\"vector-menu-heading\\\">\\n\\t\\tActions\\n\\t</div>\\n\\t<div class=\\\"vector-menu-content\\\">\\n\\t\\t\\n\\t\\t<ul class=\\\"vector-menu-content-list\\\">\\n\\t\\t\\t\\n\\t\\t\\t<li id=\\\"ca-more-view\\\" class=\\\"selected vector-more-collapsible-item mw-list-item\\\"><a href=\\\"/wiki/Megachile_cinctiventris\\\"><span>Read</span></a></li><li id=\\\"ca-more-edit\\\" class=\\\"vector-more-collapsible-item mw-list-item\\\"><a href=\\\"/w/index.php?title=Megachile_cinctiventris&amp;action=edit\\\"><span>Edit</span></a></li><li id=\\\"ca-more-history\\\" class=\\\"vector-more-collapsible-item mw-list-item\\\"><a href=\\\"/w/index.php?title=Megachile_cinctiventris&amp;action=history\\\"><span>View history</span></a></li>\\n\\t\\t</ul>\\n\\t\\t\\n\\t</div>\\n</div>\\n\\n<div id=\\\"p-tb\\\" class=\\\"vector-menu mw-portlet mw-portlet-tb\\\"  >\\n\\t<div class=\\\"vector-menu-heading\\\">\\n\\t\\tGeneral\\n\\t</div>\\n\\t<div class=\\\"vector-menu-content\\\">\\n\\t\\t\\n\\t\\t<ul class=\\\"vector-menu-content-list\\\">\\n\\t\\t\\t\\n\\t\\t\\t<li id=\\\"t-whatlinkshere\\\" class=\\\"mw-list-item\\\"><a href=\\\"/wiki/Special:WhatLinksHere/Megachile_cinctiventris\\\" title=\\\"List of all English Wikipedia pages containing links to this page [j]\\\" accesskey=\\\"j\\\"><span>What links here</span></a></li><li id=\\\"t-recentchangeslinked\\\" class=\\\"mw-list-item\\\"><a href=\\\"/wiki/Special:RecentChangesLinked/Megachile_cinctiventris\\\" rel=\\\"nofollow\\\" title=\\\"Recent changes in pages linked from this page [k]\\\" accesskey=\\\"k\\\"><span>Related changes</span></a></li><li id=\\\"t-upload\\\" class=\\\"mw-list-item\\\"><a href=\\\"/wiki/Wikipedia:File_Upload_Wizard\\\" title=\\\"Upload files [u]\\\" accesskey=\\\"u\\\"><span>Upload file</span></a></li><li id=\\\"t-specialpages\\\" class=\\\"mw-list-item\\\"><a href=\\\"/wiki/Special:SpecialPages\\\" title=\\\"A list of all special pages [q]\\\" accesskey=\\\"q\\\"><span>Special pages</span></a></li><li id=\\\"t-permalink\\\" class=\\\"mw-list-item\\\"><a href=\\\"/w/index.php?title=Megachile_cinctiventris&amp;oldid=847122896\\\" title=\\\"Permanent link to this revision of this page\\\"><span>Permanent link</span></a></li><li id=\\\"t-info\\\" class=\\\"mw-list-item\\\"><a href=\\\"/w/index.php?title=Megachile_cinctiventris&amp;action=info\\\" title=\\\"More information about this page\\\"><span>Page information</span></a></li><li id=\\\"t-cite\\\" class=\\\"mw-list-item\\\"><a href=\\\"/w/index.php?title=Special:CiteThisPage&amp;page=Megachile_cinctiventris&amp;id=847122896&amp;wpFormIdentifier=titleform\\\" title=\\\"Information on how to cite this page\\\"><span>Cite this page</span></a></li><li id=\\\"t-wikibase\\\" class=\\\"mw-list-item\\\"><a href=\\\"https://www.wikidata.org/wiki/Special:EntityPage/Q2286144\\\" title=\\\"Structured data on this page hosted by Wikidata [g]\\\" accesskey=\\\"g\\\"><span>Wikidata item</span></a></li>\\n\\t\\t</ul>\\n\\t\\t\\n\\t</div>\\n</div>\\n\\n<div id=\\\"p-coll-print_export\\\" class=\\\"vector-menu mw-portlet mw-portlet-coll-print_export\\\"  >\\n\\t<div class=\\\"vector-menu-heading\\\">\\n\\t\\tPrint/export\\n\\t</div>\\n\\t<div class=\\\"vector-menu-content\\\">\\n\\t\\t\\n\\t\\t<ul class=\\\"vector-menu-content-list\\\">\\n\\t\\t\\t\\n\\t\\t\\t<li id=\\\"coll-download-as-rl\\\" class=\\\"mw-list-item\\\"><a href=\\\"/w/index.php?title=Special:DownloadAsPdf&amp;page=Megachile_cinctiventris&amp;action=show-download-screen\\\" title=\\\"Download this page as a PDF file\\\"><span>Download as PDF</span></a></li><li id=\\\"t-print\\\" class=\\\"mw-list-item\\\"><a href=\\\"/w/index.php?title=Megachile_cinctiventris&amp;printable=yes\\\" title=\\\"Printable version of this page [p]\\\" accesskey=\\\"p\\\"><span>Printable version</span></a></li>\\n\\t\\t</ul>\\n\\t\\t\\n\\t</div>\\n</div>\\n\\n</div>\\n\\n\\t\\t\\t\\t\\t\\t\\t\\t\\t</div>\\n\\t\\t\\t\\t\\n\\t</div>\\n</div>\\n\\n\\t\\t\\t\\t\\t\\t\\t</nav>\\n\\t\\t\\t\\t\\t\\t</div>\\n\\t\\t\\t\\t\\t</div>\\n\\t\\t\\t\\t</div>\\n\\t\\t\\t\\t<div class=\\\"vector-column-end\\\">\\n\\t\\t\\t\\t\\t<nav class=\\\"vector-page-tools-landmark vector-sticky-pinned-container\\\" aria-label=\\\"More options\\\">\\n\\t\\t\\t\\t\\t\\t<div id=\\\"vector-page-tools-pinned-container\\\" class=\\\"vector-pinned-container\\\">\\n\\t\\t\\t\\n\\t\\t\\t\\t\\t\\t</div>\\n\\t</nav>\\n\\t\\t\\t\\t</div>\\n\\t\\t\\t\\t<div id=\\\"bodyContent\\\" class=\\\"vector-body\\\" aria-labelledby=\\\"firstHeading\\\" data-mw-ve-target-container>\\n\\t\\t\\t\\t\\t<div class=\\\"vector-body-before-content\\\">\\n\\t\\t\\t\\t\\t\\t\\t<div class=\\\"mw-indicators\\\">\\n\\t\\t</div>\\n\\n\\t\\t\\t\\t\\t\\t<div id=\\\"siteSub\\\" class=\\\"noprint\\\">From Wikipedia, the free encyclopedia</div>\\n\\t\\t\\t\\t\\t</div>\\n\\t\\t\\t\\t\\t<div id=\\\"contentSub\\\"><div id=\\\"mw-content-subtitle\\\"></div></div>\\n\\t\\t\\t\\t\\t\\n\\t\\t\\t\\t\\t\\n\\t\\t\\t\\t\\t<div id=\\\"mw-content-text\\\" class=\\\"mw-body-content mw-content-ltr\\\" lang=\\\"en\\\" dir=\\\"ltr\\\"><div class=\\\"mw-parser-output\\\"><div class=\\\"shortdescription nomobile noexcerpt noprint searchaux\\\" style=\\\"display:none\\\">Species of leafcutter bee (Megachile)</div>\\n<p class=\\\"mw-empty-elt\\\">\\n</p>\\n<table class=\\\"infobox biota\\\" style=\\\"text-align: left; width: 200px; font-size: 100%\\\">\\n\\n<tbody><tr>\\n<th colspan=\\\"2\\\" style=\\\"text-align: center; background-color: rgb(235,235,210)\\\"><i>Megachile cinctiventris</i>\\n</th></tr>\\n\\n\\n\\n\\n\\n\\n<tr>\\n<th colspan=\\\"2\\\" style=\\\"min-width:15em; text-align: center; background-color: rgb(235,235,210)\\\"><a href=\\\"/wiki/Taxonomy_(biology)\\\" title=\\\"Taxonomy (biology)\\\">Scientific classification</a> <span class=\\\"plainlinks\\\" style=\\\"font-size:smaller; float:right; padding-right:0.4em; margin-left:-3em;\\\"><span typeof=\\\"mw:File\\\"><a href=\\\"/wiki/Template:Taxonomy/Megachile\\\" title=\\\"Edit this classification\\\"><img alt=\\\"Edit this classification\\\" src=\\\"//upload.wikimedia.org/wikipedia/commons/thumb/8/8a/OOjs_UI_icon_edit-ltr.svg/15px-OOjs_UI_icon_edit-ltr.svg.png\\\" decoding=\\\"async\\\" width=\\\"15\\\" height=\\\"15\\\" class=\\\"mw-file-element\\\" srcset=\\\"//upload.wikimedia.org/wikipedia/commons/thumb/8/8a/OOjs_UI_icon_edit-ltr.svg/23px-OOjs_UI_icon_edit-ltr.svg.png 1.5x, //upload.wikimedia.org/wikipedia/commons/thumb/8/8a/OOjs_UI_icon_edit-ltr.svg/30px-OOjs_UI_icon_edit-ltr.svg.png 2x\\\" data-file-width=\\\"20\\\" data-file-height=\\\"20\\\" /></a></span></span>\\n</th></tr>\\n<tr>\\n<td>Domain:\\n</td>\\n<td><a href=\\\"/wiki/Eukaryote\\\" title=\\\"Eukaryote\\\">Eukaryota</a>\\n</td></tr>\\n<tr>\\n<td>Kingdom:\\n</td>\\n<td><a href=\\\"/wiki/Animal\\\" title=\\\"Animal\\\">Animalia</a>\\n</td></tr>\\n<tr>\\n<td>Phylum:\\n</td>\\n<td><a href=\\\"/wiki/Arthropod\\\" title=\\\"Arthropod\\\">Arthropoda</a>\\n</td></tr>\\n<tr>\\n<td>Class:\\n</td>\\n<td><a href=\\\"/wiki/Insect\\\" title=\\\"Insect\\\">Insecta</a>\\n</td></tr>\\n<tr>\\n<td>Order:\\n</td>\\n<td><a href=\\\"/wiki/Hymenoptera\\\" title=\\\"Hymenoptera\\\">Hymenoptera</a>\\n</td></tr>\\n<tr>\\n<td>Family:\\n</td>\\n<td><a href=\\\"/wiki/Megachilidae\\\" title=\\\"Megachilidae\\\">Megachilidae</a>\\n</td></tr>\\n<tr>\\n<td>Genus:\\n</td>\\n<td><a href=\\\"/wiki/Megachile\\\" title=\\\"Megachile\\\"><i>Megachile</i></a>\\n</td></tr>\\n\\n\\n\\n\\n\\n\\n\\n\\n\\n\\n\\n\\n\\n\\n\\n\\n\\n\\n\\n\\n\\n\\n\\n\\n\\n\\n\\n\\n\\n\\n\\n\\n\\n\\n\\n\\n\\n\\n\\n\\n\\n\\n\\n\\n\\n\\n\\n\\n\\n\\n\\n\\n\\n\\n\\n\\n\\n\\n\\n\\n\\n\\n\\n\\n\\n\\n\\n\\n\\n\\n\\n\\n\\n\\n\\n\\n\\n\\n\\n\\n\\n\\n\\n\\n\\n\\n\\n\\n<tr>\\n<td>Species:\\n</td>\\n<td><div style=\\\"display:inline\\\" class=\\\"species\\\"><i><b>M.&#160;cinctiventris</b></i></div>\\n</td></tr>\\n\\n\\n\\n\\n\\n\\n\\n\\n<tr>\\n<th colspan=\\\"2\\\" style=\\\"text-align: center; background-color: rgb(235,235,210)\\\"><a href=\\\"/wiki/Binomial_nomenclature\\\" title=\\\"Binomial nomenclature\\\">Binomial name</a>\\n</th></tr>\\n<tr>\\n<td colspan=\\\"2\\\" style=\\\"text-align: center\\\"><b><span class=\\\"binomial\\\"><span style=\\\"font-weight:normal;\\\"></span><i>Megachile cinctiventris</i></span></b><br /><div style=\\\"font-size: 85%;\\\">Friese, 1916</div>\\n</td></tr>\\n\\n\\n\\n\\n\\n\\n\\n\\n\\n\\n\\n\\n\\n\\n\\n\\n\\n\\n\\n\\n\\n\\n\\n\\n\\n\\n\\n\\n\\n\\n\\n\\n\\n\\n</tbody></table>\\n<p><i><b>Megachile cinctiventris</b></i> is a species of <a href=\\\"/wiki/Bee\\\" title=\\\"Bee\\\">bee</a> in the family <a href=\\\"/wiki/Megachilidae\\\" title=\\\"Megachilidae\\\">Megachilidae</a>.<sup id=\\\"cite_ref-biolib_1-0\\\" class=\\\"reference\\\"><a href=\\\"#cite_note-biolib-1\\\">&#91;1&#93;</a></sup> It was described by Friese in 1916.<sup id=\\\"cite_ref-biolib_1-1\\\" class=\\\"reference\\\"><a href=\\\"#cite_note-biolib-1\\\">&#91;1&#93;</a></sup>\\n</p>\\n<h2><span class=\\\"mw-headline\\\" id=\\\"References\\\">References</span><span class=\\\"mw-editsection\\\"><span class=\\\"mw-editsection-bracket\\\">[</span><a href=\\\"/w/index.php?title=Megachile_cinctiventris&amp;action=edit&amp;section=1\\\" title=\\\"Edit section: References\\\">edit</a><span class=\\\"mw-editsection-bracket\\\">]</span></span></h2>\\n<style data-mw-deduplicate=\\\"TemplateStyles:r1011085734\\\">.mw-parser-output .reflist{font-size:90%;margin-bottom:0.5em;list-style-type:decimal}.mw-parser-output .reflist .references{font-size:100%;margin-bottom:0;list-style-type:inherit}.mw-parser-output .reflist-columns-2{column-width:30em}.mw-parser-output .reflist-columns-3{column-width:25em}.mw-parser-output .reflist-columns{margin-top:0.3em}.mw-parser-output .reflist-columns ol{margin-top:0}.mw-parser-output .reflist-columns li{page-break-inside:avoid;break-inside:avoid-column}.mw-parser-output .reflist-upper-alpha{list-style-type:upper-alpha}.mw-parser-output .reflist-upper-roman{list-style-type:upper-roman}.mw-parser-output .reflist-lower-alpha{list-style-type:lower-alpha}.mw-parser-output .reflist-lower-greek{list-style-type:lower-greek}.mw-parser-output .reflist-lower-roman{list-style-type:lower-roman}</style><div class=\\\"reflist\\\">\\n<div class=\\\"mw-references-wrap\\\"><ol class=\\\"references\\\">\\n<li id=\\\"cite_note-biolib-1\\\"><span class=\\\"mw-cite-backlink\\\">^ <a href=\\\"#cite_ref-biolib_1-0\\\"><sup><i><b>a</b></i></sup></a> <a href=\\\"#cite_ref-biolib_1-1\\\"><sup><i><b>b</b></i></sup></a></span> <span class=\\\"reference-text\\\"><style data-mw-deduplicate=\\\"TemplateStyles:r1133582631\\\">.mw-parser-output cite.citation{font-style:inherit;word-wrap:break-word}.mw-parser-output .citation q{quotes:\\\"\\\\\\\"\\\"\\\"\\\\\\\"\\\"\\\"'\\\"\\\"'\\\"}.mw-parser-output .citation:target{background-color:rgba(0,127,255,0.133)}.mw-parser-output .id-lock-free a,.mw-parser-output .citation .cs1-lock-free a{background:url(\\\"//upload.wikimedia.org/wikipedia/commons/6/65/Lock-green.svg\\\")right 0.1em center/9px no-repeat}.mw-parser-output .id-lock-limited a,.mw-parser-output .id-lock-registration a,.mw-parser-output .citation .cs1-lock-limited a,.mw-parser-output .citation .cs1-lock-registration a{background:url(\\\"//upload.wikimedia.org/wikipedia/commons/d/d6/Lock-gray-alt-2.svg\\\")right 0.1em center/9px no-repeat}.mw-parser-output .id-lock-subscription a,.mw-parser-output .citation .cs1-lock-subscription a{background:url(\\\"//upload.wikimedia.org/wikipedia/commons/a/aa/Lock-red-alt-2.svg\\\")right 0.1em center/9px no-repeat}.mw-parser-output .cs1-ws-icon a{background:url(\\\"//upload.wikimedia.org/wikipedia/commons/4/4c/Wikisource-logo.svg\\\")right 0.1em center/12px no-repeat}.mw-parser-output .cs1-code{color:inherit;background:inherit;border:none;padding:inherit}.mw-parser-output .cs1-hidden-error{display:none;color:#d33}.mw-parser-output .cs1-visible-error{color:#d33}.mw-parser-output .cs1-maint{display:none;color:#3a3;margin-left:0.3em}.mw-parser-output .cs1-format{font-size:95%}.mw-parser-output .cs1-kern-left{padding-left:0.2em}.mw-parser-output .cs1-kern-right{padding-right:0.2em}.mw-parser-output .citation .mw-selflink{font-weight:inherit}</style><cite class=\\\"citation web cs1\\\"><a rel=\\\"nofollow\\\" class=\\\"external text\\\" href=\\\"https://www.biolib.cz/en/formsearch/?action=execute&amp;searcharea=1&amp;string=megachile\\\">\\\"<i>Megachile</i>\\\"</a>. <i>BioLib</i>. 2014<span class=\\\"reference-accessdate\\\">. Retrieved <span class=\\\"nowrap\\\">10 October</span> 2014</span>.</cite><span title=\\\"ctx_ver=Z39.88-2004&amp;rft_val_fmt=info%3Aofi%2Ffmt%3Akev%3Amtx%3Ajournal&amp;rft.genre=unknown&amp;rft.jtitle=BioLib&amp;rft.atitle=Megachile&amp;rft.date=2014&amp;rft_id=https%3A%2F%2Fwww.biolib.cz%2Fen%2Fformsearch%2F%3Faction%3Dexecute%26searcharea%3D1%26string%3Dmegachile&amp;rfr_id=info%3Asid%2Fen.wikipedia.org%3AMegachile+cinctiventris\\\" class=\\\"Z3988\\\"></span></span>\\n</li>\\n</ol></div></div>\\n<div class=\\\"navbox-styles\\\"><style data-mw-deduplicate=\\\"TemplateStyles:r1129693374\\\">.mw-parser-output .hlist dl,.mw-parser-output .hlist ol,.mw-parser-output .hlist ul{margin:0;padding:0}.mw-parser-output .hlist dd,.mw-parser-output .hlist dt,.mw-parser-output .hlist li{margin:0;display:inline}.mw-parser-output .hlist.inline,.mw-parser-output .hlist.inline dl,.mw-parser-output .hlist.inline ol,.mw-parser-output .hlist.inline ul,.mw-parser-output .hlist dl dl,.mw-parser-output .hlist dl ol,.mw-parser-output .hlist dl ul,.mw-parser-output .hlist ol dl,.mw-parser-output .hlist ol ol,.mw-parser-output .hlist ol ul,.mw-parser-output .hlist ul dl,.mw-parser-output .hlist ul ol,.mw-parser-output .hlist ul ul{display:inline}.mw-parser-output .hlist .mw-empty-li{display:none}.mw-parser-output .hlist dt::after{content:\\\": \\\"}.mw-parser-output .hlist dd::after,.mw-parser-output .hlist li::after{content:\\\" · \\\";font-weight:bold}.mw-parser-output .hlist dd:last-child::after,.mw-parser-output .hlist dt:last-child::after,.mw-parser-output .hlist li:last-child::after{content:none}.mw-parser-output .hlist dd dd:first-child::before,.mw-parser-output .hlist dd dt:first-child::before,.mw-parser-output .hlist dd li:first-child::before,.mw-parser-output .hlist dt dd:first-child::before,.mw-parser-output .hlist dt dt:first-child::before,.mw-parser-output .hlist dt li:first-child::before,.mw-parser-output .hlist li dd:first-child::before,.mw-parser-output .hlist li dt:first-child::before,.mw-parser-output .hlist li li:first-child::before{content:\\\" (\\\";font-weight:normal}.mw-parser-output .hlist dd dd:last-child::after,.mw-parser-output .hlist dd dt:last-child::after,.mw-parser-output .hlist dd li:last-child::after,.mw-parser-output .hlist dt dd:last-child::after,.mw-parser-output .hlist dt dt:last-child::after,.mw-parser-output .hlist dt li:last-child::after,.mw-parser-output .hlist li dd:last-child::after,.mw-parser-output .hlist li dt:last-child::after,.mw-parser-output .hlist li li:last-child::after{content:\\\")\\\";font-weight:normal}.mw-parser-output .hlist ol{counter-reset:listitem}.mw-parser-output .hlist ol>li{counter-increment:listitem}.mw-parser-output .hlist ol>li::before{content:\\\" \\\"counter(listitem)\\\"\\\\a0 \\\"}.mw-parser-output .hlist dd ol>li:first-child::before,.mw-parser-output .hlist dt ol>li:first-child::before,.mw-parser-output .hlist li ol>li:first-child::before{content:\\\" (\\\"counter(listitem)\\\"\\\\a0 \\\"}</style><style data-mw-deduplicate=\\\"TemplateStyles:r1061467846\\\">.mw-parser-output .navbox{box-sizing:border-box;border:1px solid #a2a9b1;width:100%;clear:both;font-size:88%;text-align:center;padding:1px;margin:1em auto 0}.mw-parser-output .navbox .navbox{margin-top:0}.mw-parser-output .navbox+.navbox,.mw-parser-output .navbox+.navbox-styles+.navbox{margin-top:-1px}.mw-parser-output .navbox-inner,.mw-parser-output .navbox-subgroup{width:100%}.mw-parser-output .navbox-group,.mw-parser-output .navbox-title,.mw-parser-output .navbox-abovebelow{padding:0.25em 1em;line-height:1.5em;text-align:center}.mw-parser-output .navbox-group{white-space:nowrap;text-align:right}.mw-parser-output .navbox,.mw-parser-output .navbox-subgroup{background-color:#fdfdfd}.mw-parser-output .navbox-list{line-height:1.5em;border-color:#fdfdfd}.mw-parser-output .navbox-list-with-group{text-align:left;border-left-width:2px;border-left-style:solid}.mw-parser-output tr+tr>.navbox-abovebelow,.mw-parser-output tr+tr>.navbox-group,.mw-parser-output tr+tr>.navbox-image,.mw-parser-output tr+tr>.navbox-list{border-top:2px solid #fdfdfd}.mw-parser-output .navbox-title{background-color:#ccf}.mw-parser-output .navbox-abovebelow,.mw-parser-output .navbox-group,.mw-parser-output .navbox-subgroup .navbox-title{background-color:#ddf}.mw-parser-output .navbox-subgroup .navbox-group,.mw-parser-output .navbox-subgroup .navbox-abovebelow{background-color:#e6e6ff}.mw-parser-output .navbox-even{background-color:#f7f7f7}.mw-parser-output .navbox-odd{background-color:transparent}.mw-parser-output .navbox .hlist td dl,.mw-parser-output .navbox .hlist td ol,.mw-parser-output .navbox .hlist td ul,.mw-parser-output .navbox td.hlist dl,.mw-parser-output .navbox td.hlist ol,.mw-parser-output .navbox td.hlist ul{padding:0.125em 0}.mw-parser-output .navbox .navbar{display:block;font-size:100%}.mw-parser-output .navbox-title .navbar{float:left;text-align:left;margin-right:0.5em}</style></div><div role=\\\"navigation\\\" class=\\\"navbox\\\" aria-labelledby=\\\"Taxon_identifiers\\\" style=\\\"padding:3px\\\"><table class=\\\"nowraplinks hlist navbox-inner\\\" style=\\\"border-spacing:0;background:transparent;color:inherit\\\"><tbody><tr><th id=\\\"Taxon_identifiers\\\" scope=\\\"row\\\" class=\\\"navbox-group\\\" style=\\\"width:1%;text-align: left;\\\"><a href=\\\"/wiki/Help:Taxon_identifiers\\\" title=\\\"Help:Taxon identifiers\\\">Taxon identifiers</a></th><td class=\\\"navbox-list-with-group navbox-list navbox-odd\\\" style=\\\"width:100%;padding:0\\\"><div style=\\\"padding:0 0.25em\\\">\\n<ul><li><span style=\\\"white-space:nowrap;\\\"><a href=\\\"/wiki/Wikidata\\\" title=\\\"Wikidata\\\">Wikidata</a>: <span class=\\\"uid\\\"><span class=\\\"external\\\"><a href=\\\"https://www.wikidata.org/wiki/Q2286144\\\" class=\\\"extiw\\\" title=\\\"wikidata:Q2286144\\\">Q2286144</a></span></span></span></li>\\n<li><span style=\\\"white-space:nowrap;\\\"><a href=\\\"/wiki/Catalogue_of_Life\\\" title=\\\"Catalogue of Life\\\">CoL</a>: <span class=\\\"uid\\\"><a rel=\\\"nofollow\\\" class=\\\"external text\\\" href=\\\"https://www.catalogueoflife.org/data/taxon/6QWH3\\\">6QWH3</a></span></span></li>\\n<li><span style=\\\"white-space:nowrap;\\\"><a href=\\\"/wiki/Encyclopedia_of_Life\\\" title=\\\"Encyclopedia of Life\\\">EoL</a>: <span class=\\\"uid\\\"><a rel=\\\"nofollow\\\" class=\\\"external text\\\" href=\\\"https://eol.org/pages/2751102\\\">2751102</a></span></span></li>\\n<li><span style=\\\"white-space:nowrap;\\\"><a href=\\\"/wiki/Global_Biodiversity_Information_Facility\\\" title=\\\"Global Biodiversity Information Facility\\\">GBIF</a>: <span class=\\\"uid\\\"><a rel=\\\"nofollow\\\" class=\\\"external text\\\" href=\\\"https://www.gbif.org/species/1335067\\\">1335067</a></span></span></li>\\n<li><span style=\\\"white-space:nowrap;\\\"><a href=\\\"/wiki/Integrated_Taxonomic_Information_System\\\" title=\\\"Integrated Taxonomic Information System\\\">ITIS</a>: <span class=\\\"uid\\\"><a rel=\\\"nofollow\\\" class=\\\"external text\\\" href=\\\"https://www.itis.gov/servlet/SingleRpt/SingleRpt?search_topic=TSN&amp;search_value=761233\\\">761233</a></span></span></li></ul>\\n</div></td></tr></tbody></table></div>\\n<p><br />\\n</p>\\n<style data-mw-deduplicate=\\\"TemplateStyles:r1012311289\\\">.mw-parser-output .asbox{position:relative;overflow:hidden}.mw-parser-output .asbox table{background:transparent}.mw-parser-output .asbox p{margin:0}.mw-parser-output .asbox p+p{margin-top:0.25em}.mw-parser-output .asbox-body{font-style:italic}.mw-parser-output .asbox-note{font-size:smaller}.mw-parser-output .asbox .navbar{position:absolute;top:-0.75em;right:1em;display:none}</style><div role=\\\"note\\\" class=\\\"metadata plainlinks asbox stub\\\"><table role=\\\"presentation\\\"><tbody><tr class=\\\"noresize\\\"><td><p class=\\\"asbox-body\\\">This <a href=\\\"/wiki/Megachile\\\" title=\\\"Megachile\\\">Megachile</a>-related article is a <a href=\\\"/wiki/Wikipedia:Stub\\\" title=\\\"Wikipedia:Stub\\\">stub</a>. You can help Wikipedia by <a class=\\\"external text\\\" href=\\\"https://en.wikipedia.org/w/index.php?title=Megachile_cinctiventris&amp;action=edit\\\">expanding it</a>.</p></td></tr></tbody></table><link rel=\\\"mw-deduplicated-inline-style\\\" href=\\\"mw-data:TemplateStyles:r1129693374\\\"><style data-mw-deduplicate=\\\"TemplateStyles:r1063604349\\\">.mw-parser-output .navbar{display:inline;font-size:88%;font-weight:normal}.mw-parser-output .navbar-collapse{float:left;text-align:left}.mw-parser-output .navbar-boxtext{word-spacing:0}.mw-parser-output .navbar ul{display:inline-block;white-space:nowrap;line-height:inherit}.mw-parser-output .navbar-brackets::before{margin-right:-0.125em;content:\\\"[ \\\"}.mw-parser-output .navbar-brackets::after{margin-left:-0.125em;content:\\\" ]\\\"}.mw-parser-output .navbar li{word-spacing:-0.125em}.mw-parser-output .navbar a>span,.mw-parser-output .navbar a>abbr{text-decoration:inherit}.mw-parser-output .navbar-mini abbr{font-variant:small-caps;border-bottom:none;text-decoration:none;cursor:inherit}.mw-parser-output .navbar-ct-full{font-size:114%;margin:0 7em}.mw-parser-output .navbar-ct-mini{font-size:114%;margin:0 4em}</style><div class=\\\"navbar plainlinks hlist navbar-mini\\\"><ul><li class=\\\"nv-view\\\"><a href=\\\"/wiki/Template:Megachile-stub\\\" title=\\\"Template:Megachile-stub\\\"><abbr title=\\\"View this template\\\">v</abbr></a></li><li class=\\\"nv-talk\\\"><a href=\\\"/wiki/Template_talk:Megachile-stub\\\" title=\\\"Template talk:Megachile-stub\\\"><abbr title=\\\"Discuss this template\\\">t</abbr></a></li><li class=\\\"nv-edit\\\"><a class=\\\"external text\\\" href=\\\"https://en.wikipedia.org/w/index.php?title=Template:Megachile-stub&amp;action=edit\\\"><abbr title=\\\"Edit this template\\\">e</abbr></a></li></ul></div></div>\\n<!-- \\nNewPP limit report\\nParsed by mw1473\\nCached time: 20230807153403\\nCache expiry: 1814400\\nReduced expiry: false\\nComplications: [vary‐revision‐sha1]\\nCPU time usage: 0.373 seconds\\nReal time usage: 0.491 seconds\\nPreprocessor visited node count: 6524/1000000\\nPost‐expand include size: 21067/2097152 bytes\\nTemplate argument size: 4671/2097152 bytes\\nHighest expansion depth: 20/100\\nExpensive parser function count: 4/500\\nUnstrip recursion depth: 1/20\\nUnstrip post‐expand size: 12066/5000000 bytes\\nLua time usage: 0.287/10.000 seconds\\nLua memory usage: 4104030/52428800 bytes\\nNumber of Wikibase entities loaded: 5/400\\n-->\\n<!--\\nTransclusion expansion time report (%,ms,calls,template)\\n100.00%  475.427      1 -total\\n 45.66%  217.072      1 Template:Speciesbox\\n 44.28%  210.520      1 Template:Taxobox/core\\n 20.77%   98.765      1 Template:Taxonbar\\n 14.71%   69.933      1 Template:Reflist\\n 13.71%   65.164      1 Template:Short_description\\n 12.14%   57.703      1 Template:Cite_web\\n  7.65%   36.350      2 Template:Pagetype\\n  5.82%   27.659     29 Template:Delink\\n  4.79%   22.757      1 Template:Megachile-stub\\n-->\\n\\n<!-- Saved in parser cache with key enwiki:pcache:idhash:44075303-0!canonical and timestamp 20230807153402 and revision id 847122896. Rendering was triggered because: page-view\\n -->\\n</div><!--esi <esi:include src=\\\"/esitest-fa8a495983347898/content\\\" /> --><noscript><img src=\\\"//en.wikipedia.org/wiki/Special:CentralAutoLogin/start?type=1x1\\\" alt=\\\"\\\" title=\\\"\\\" width=\\\"1\\\" height=\\\"1\\\" style=\\\"border: none; position: absolute;\\\" /></noscript>\\n<div class=\\\"printfooter\\\" data-nosnippet=\\\"\\\">Retrieved from \\\"<a dir=\\\"ltr\\\" href=\\\"https://en.wikipedia.org/w/index.php?title=Megachile_cinctiventris&amp;oldid=847122896\\\">https://en.wikipedia.org/w/index.php?title=Megachile_cinctiventris&amp;oldid=847122896</a>\\\"</div></div>\\n\\t\\t\\t\\t\\t<div id=\\\"catlinks\\\" class=\\\"catlinks\\\" data-mw=\\\"interface\\\"><div id=\\\"mw-normal-catlinks\\\" class=\\\"mw-normal-catlinks\\\"><a href=\\\"/wiki/Help:Category\\\" title=\\\"Help:Category\\\">Categories</a>: <ul><li><a href=\\\"/wiki/Category:Megachile\\\" title=\\\"Category:Megachile\\\">Megachile</a></li><li><a href=\\\"/wiki/Category:Insects_described_in_1916\\\" title=\\\"Category:Insects described in 1916\\\">Insects described in 1916</a></li><li><a href=\\\"/wiki/Category:Megachile_stubs\\\" title=\\\"Category:Megachile stubs\\\">Megachile stubs</a></li></ul></div><div id=\\\"mw-hidden-catlinks\\\" class=\\\"mw-hidden-catlinks mw-hidden-cats-hidden\\\">Hidden categories: <ul><li><a href=\\\"/wiki/Category:Articles_with_short_description\\\" title=\\\"Category:Articles with short description\\\">Articles with short description</a></li><li><a href=\\\"/wiki/Category:Short_description_is_different_from_Wikidata\\\" title=\\\"Category:Short description is different from Wikidata\\\">Short description is different from Wikidata</a></li><li><a href=\\\"/wiki/Category:Articles_with_%27species%27_microformats\\\" title=\\\"Category:Articles with &#039;species&#039; microformats\\\">Articles with 'species' microformats</a></li><li><a href=\\\"/wiki/Category:All_stub_articles\\\" title=\\\"Category:All stub articles\\\">All stub articles</a></li></ul></div></div>\\n\\t\\t\\t\\t</div>\\n\\t\\t\\t</main>\\n\\t\\t\\t\\n\\t\\t</div>\\n\\t\\t<div class=\\\"mw-footer-container\\\">\\n\\t\\t\\t\\n<footer id=\\\"footer\\\" class=\\\"mw-footer\\\" role=\\\"contentinfo\\\" >\\n\\t<ul id=\\\"footer-info\\\">\\n\\t<li id=\\\"footer-info-lastmod\\\"> This page was last edited on 23 June 2018, at 03:19<span class=\\\"anonymous-show\\\">&#160;(UTC)</span>.</li>\\n\\t<li id=\\\"footer-info-copyright\\\">Text is available under the <a rel=\\\"license\\\" href=\\\"https://creativecommons.org/licenses/by-sa/4.0/\\\">Creative Commons Attribution-ShareAlike License 4.0</a><a rel=\\\"license\\\" href=\\\"//creativecommons.org/licenses/by-sa/4.0/\\\" style=\\\"display:none;\\\"></a>;\\nadditional terms may apply.  By using this site, you agree to the <a href=\\\"//foundation.wikimedia.org/wiki/Terms_of_Use\\\">Terms of Use</a> and <a href=\\\"//foundation.wikimedia.org/wiki/Privacy_policy\\\">Privacy Policy</a>. Wikipedia® is a registered trademark of the <a href=\\\"//www.wikimediafoundation.org/\\\">Wikimedia Foundation, Inc.</a>, a non-profit organization.</li>\\n</ul>\\n\\n\\t<ul id=\\\"footer-places\\\">\\n\\t<li id=\\\"footer-places-privacy\\\"><a href=\\\"https://foundation.wikimedia.org/wiki/Special:MyLanguage/Policy:Privacy_policy\\\">Privacy policy</a></li>\\n\\t<li id=\\\"footer-places-about\\\"><a href=\\\"/wiki/Wikipedia:About\\\">About Wikipedia</a></li>\\n\\t<li id=\\\"footer-places-disclaimers\\\"><a href=\\\"/wiki/Wikipedia:General_disclaimer\\\">Disclaimers</a></li>\\n\\t<li id=\\\"footer-places-contact\\\"><a href=\\\"//en.wikipedia.org/wiki/Wikipedia:Contact_us\\\">Contact Wikipedia</a></li>\\n\\t<li id=\\\"footer-places-wm-codeofconduct\\\"><a href=\\\"https://foundation.wikimedia.org/wiki/Special:MyLanguage/Universal_Code_of_Conduct\\\">Code of Conduct</a></li>\\n\\t<li id=\\\"footer-places-mobileview\\\"><a href=\\\"//en.m.wikipedia.org/w/index.php?title=Megachile_cinctiventris&amp;mobileaction=toggle_view_mobile\\\" class=\\\"noprint stopMobileRedirectToggle\\\">Mobile view</a></li>\\n\\t<li id=\\\"footer-places-developers\\\"><a href=\\\"https://developer.wikimedia.org\\\">Developers</a></li>\\n\\t<li id=\\\"footer-places-statslink\\\"><a href=\\\"https://stats.wikimedia.org/#/en.wikipedia.org\\\">Statistics</a></li>\\n\\t<li id=\\\"footer-places-cookiestatement\\\"><a href=\\\"https://foundation.wikimedia.org/wiki/Special:MyLanguage/Policy:Cookie_statement\\\">Cookie statement</a></li>\\n</ul>\\n\\n\\t<ul id=\\\"footer-icons\\\" class=\\\"noprint\\\">\\n\\t<li id=\\\"footer-copyrightico\\\"><a href=\\\"https://wikimediafoundation.org/\\\"><img src=\\\"/static/images/footer/wikimedia-button.png\\\" srcset=\\\"/static/images/footer/wikimedia-button-1.5x.png 1.5x, /static/images/footer/wikimedia-button-2x.png 2x\\\" width=\\\"88\\\" height=\\\"31\\\" alt=\\\"Wikimedia Foundation\\\" loading=\\\"lazy\\\" /></a></li>\\n\\t<li id=\\\"footer-poweredbyico\\\"><a href=\\\"https://www.mediawiki.org/\\\"><img src=\\\"/static/images/footer/poweredby_mediawiki_88x31.png\\\" alt=\\\"Powered by MediaWiki\\\" srcset=\\\"/static/images/footer/poweredby_mediawiki_132x47.png 1.5x, /static/images/footer/poweredby_mediawiki_176x62.png 2x\\\" width=\\\"88\\\" height=\\\"31\\\" loading=\\\"lazy\\\"></a></li>\\n</ul>\\n\\n</footer>\\n\\n\\t\\t</div>\\n\\t</div> \\n</div> \\n<div class=\\\"vector-settings\\\" id=\\\"p-dock-bottom\\\">\\n\\t<ul>\\n\\t\\t<li><button class=\\\"cdx-button cdx-button--icon-only vector-limited-width-toggle\\\" id=\\\"\\\"><span class=\\\"vector-icon mw-ui-icon-fullScreen mw-ui-icon-wikimedia-fullScreen\\\"></span>\\n\\n<span>Toggle limited content width</span>\\n</button>\\n</li>\\n\\t</ul>\\n</div>\\n<script>(RLQ=window.RLQ||[]).push(function(){mw.config.set({\\\"wgHostname\\\":\\\"mw2359\\\",\\\"wgBackendResponseTime\\\":120,\\\"wgPageParseReport\\\":{\\\"limitreport\\\":{\\\"cputime\\\":\\\"0.373\\\",\\\"walltime\\\":\\\"0.491\\\",\\\"ppvisitednodes\\\":{\\\"value\\\":6524,\\\"limit\\\":1000000},\\\"postexpandincludesize\\\":{\\\"value\\\":21067,\\\"limit\\\":2097152},\\\"templateargumentsize\\\":{\\\"value\\\":4671,\\\"limit\\\":2097152},\\\"expansiondepth\\\":{\\\"value\\\":20,\\\"limit\\\":100},\\\"expensivefunctioncount\\\":{\\\"value\\\":4,\\\"limit\\\":500},\\\"unstrip-depth\\\":{\\\"value\\\":1,\\\"limit\\\":20},\\\"unstrip-size\\\":{\\\"value\\\":12066,\\\"limit\\\":5000000},\\\"entityaccesscount\\\":{\\\"value\\\":5,\\\"limit\\\":400},\\\"timingprofile\\\":[\\\"100.00%  475.427      1 -total\\\",\\\" 45.66%  217.072      1 Template:Speciesbox\\\",\\\" 44.28%  210.520      1 Template:Taxobox/core\\\",\\\" 20.77%   98.765      1 Template:Taxonbar\\\",\\\" 14.71%   69.933      1 Template:Reflist\\\",\\\" 13.71%   65.164      1 Template:Short_description\\\",\\\" 12.14%   57.703      1 Template:Cite_web\\\",\\\"  7.65%   36.350      2 Template:Pagetype\\\",\\\"  5.82%   27.659     29 Template:Delink\\\",\\\"  4.79%   22.757      1 Template:Megachile-stub\\\"]},\\\"scribunto\\\":{\\\"limitreport-timeusage\\\":{\\\"value\\\":\\\"0.287\\\",\\\"limit\\\":\\\"10.000\\\"},\\\"limitreport-memusage\\\":{\\\"value\\\":4104030,\\\"limit\\\":52428800}},\\\"cachereport\\\":{\\\"origin\\\":\\\"mw1473\\\",\\\"timestamp\\\":\\\"20230807153403\\\",\\\"ttl\\\":1814400,\\\"transientcontent\\\":false}}});});</script>\\n<script type=\\\"application/ld+json\\\">{\\\"@context\\\":\\\"https:\\\\/\\\\/schema.org\\\",\\\"@type\\\":\\\"Article\\\",\\\"name\\\":\\\"Megachile cinctiventris\\\",\\\"url\\\":\\\"https:\\\\/\\\\/en.wikipedia.org\\\\/wiki\\\\/Megachile_cinctiventris\\\",\\\"sameAs\\\":\\\"http:\\\\/\\\\/www.wikidata.org\\\\/entity\\\\/Q2286144\\\",\\\"mainEntity\\\":\\\"http:\\\\/\\\\/www.wikidata.org\\\\/entity\\\\/Q2286144\\\",\\\"author\\\":{\\\"@type\\\":\\\"Organization\\\",\\\"name\\\":\\\"Contributors to Wikimedia projects\\\"},\\\"publisher\\\":{\\\"@type\\\":\\\"Organization\\\",\\\"name\\\":\\\"Wikimedia Foundation, Inc.\\\",\\\"logo\\\":{\\\"@type\\\":\\\"ImageObject\\\",\\\"url\\\":\\\"https:\\\\/\\\\/www.wikimedia.org\\\\/static\\\\/images\\\\/wmf-hor-googpub.png\\\"}},\\\"datePublished\\\":\\\"2014-10-10T16:43:46Z\\\",\\\"dateModified\\\":\\\"2018-06-23T03:19:27Z\\\",\\\"headline\\\":\\\"species of insect\\\"}</script><script type=\\\"application/ld+json\\\">{\\\"@context\\\":\\\"https:\\\\/\\\\/schema.org\\\",\\\"@type\\\":\\\"Article\\\",\\\"name\\\":\\\"Megachile cinctiventris\\\",\\\"url\\\":\\\"https:\\\\/\\\\/en.wikipedia.org\\\\/wiki\\\\/Megachile_cinctiventris\\\",\\\"sameAs\\\":\\\"http:\\\\/\\\\/www.wikidata.org\\\\/entity\\\\/Q2286144\\\",\\\"mainEntity\\\":\\\"http:\\\\/\\\\/www.wikidata.org\\\\/entity\\\\/Q2286144\\\",\\\"author\\\":{\\\"@type\\\":\\\"Organization\\\",\\\"name\\\":\\\"Contributors to Wikimedia projects\\\"},\\\"publisher\\\":{\\\"@type\\\":\\\"Organization\\\",\\\"name\\\":\\\"Wikimedia Foundation, Inc.\\\",\\\"logo\\\":{\\\"@type\\\":\\\"ImageObject\\\",\\\"url\\\":\\\"https:\\\\/\\\\/www.wikimedia.org\\\\/static\\\\/images\\\\/wmf-hor-googpub.png\\\"}},\\\"datePublished\\\":\\\"2014-10-10T16:43:46Z\\\",\\\"dateModified\\\":\\\"2018-06-23T03:19:27Z\\\",\\\"headline\\\":\\\"species of insect\\\"}</script>\\n</body>\\n</html>\")"
      ]
     },
     "metadata": {},
     "output_type": "display_data"
    }
   ],
   "source": [
    "get_random_wikipedia_page(\"en\")"
   ]
  },
  {
   "cell_type": "code",
   "execution_count": 37,
   "metadata": {},
   "outputs": [
    {
     "data": {
      "text/plain": [
       "download_wikipedia_text (generic function with 3 methods)"
      ]
     },
     "metadata": {},
     "output_type": "display_data"
    }
   ],
   "source": [
    "\n",
    "using SHA\n",
    "\n",
    "function html2text(content::AbstractString)\n",
    "    patterns = [\n",
    "        r\"<[\\s]*?script[^>]*?>[\\s\\S]*?<[\\s]*?/[\\s]*?script[\\s]*?>\" => \" \",\n",
    "        r\"<[\\s]*?style[^>]*?>[\\s\\S]*?<[\\s]*?/[\\s]*?style[\\s]*?>\" => \" \",\n",
    "        r\"<!--[\\s\\S]*?-->\" => \" \",\n",
    "        \"<br>\" => \"\\n\",\n",
    "        r\"<[\\s\\S]*?>\" => \" \",\n",
    "        \"&nbsp;\" => \" \",\n",
    "        \"&quot;\" => \"\\\"\",\n",
    "        \"&amp;\" => \"&\",\n",
    "        \"&lt;\" => \"<\",\n",
    "        \"&gt;\" => \">\",\n",
    "        r\"&#?\\w{1,6};\" => \" \",\n",
    "    ]\n",
    "    for p in patterns\n",
    "        content = replace(content, p)\n",
    "    end\n",
    "    content\n",
    "end\n",
    "\n",
    "function download_wikipedia_text(lang_code::String, pages::Integer=1, sleep_time::Integer = 10; path=\"./corpus\")\n",
    "\tlang_code = lowercase(lang_code)\n",
    "    # try HTTP.get(\"https://\" * lang_code * \".wikipedia.org\" * \"/wiki/\") catch x throw(ArgumentError(\"Invalid language code; check WP codes in https://en.wikipedia.org/wiki/List_of_Wikipedias\")) end\n",
    "\tdirpath = joinpath(path, lang_code)\n",
    "\tmkpath(dirpath)\n",
    "    try\n",
    "        for i in length(readdir(dirpath))+1:pages\n",
    "            if ispath(joinpath(path, \"stop\"))\n",
    "                return\n",
    "            end\n",
    "            title, text = get_random_wikipedia_page(lang_code)\n",
    "            if length(title) > 47\n",
    "                title = title[1:20] * \"_\" * bytes2hex(sha1(title))[1:5] * \"_\" * title[end-19:end]\n",
    "            end\n",
    "            text = clean_text_wiki(text)\n",
    "            text = html2text(text)\n",
    "            text = replace(text, r\"\\n\\n+\" => \"\\n\")\n",
    "\t\t\tfn = joinpath(dirpath, title*\".txt\")\n",
    "            if ispath(fn)\n",
    "                print(\"!+ \")\n",
    "            end\n",
    "\t\t\tprint(i, \". \", abspath(fn))\n",
    "\t\t\tif ! isempty(text)\n",
    "\t            open(fn, \"w\") do f\n",
    "\t                write(f, text) \n",
    "\t            end\n",
    "\t\t\tend\n",
    "            println(\" ✓\")\n",
    "            sleep(sleep_time)\n",
    "        end\n",
    "\tcatch e\n",
    "\t\tthrow(e)\n",
    "    end\n",
    "end\n"
   ]
  },
  {
   "cell_type": "code",
   "execution_count": 11,
   "metadata": {},
   "outputs": [],
   "source": [
    "download_wikipedia_text(\"en\", path=raw\"./corpus/train\")"
   ]
  },
  {
   "cell_type": "code",
   "execution_count": 38,
   "metadata": {},
   "outputs": [
    {
     "name": "stdout",
     "output_type": "stream",
     "text": [
      "length(langs) = 25\n",
      "### 0 ###"
     ]
    },
    {
     "name": "stdout",
     "output_type": "stream",
     "text": [
      "\n",
      "### 10 ###\n",
      "### 20 ###\n",
      "### 30 ###\n"
     ]
    },
    {
     "name": "stdout",
     "output_type": "stream",
     "text": [
      "23. /home/guoyongzhi/LanguageIdentification.jl/corpus/train/en/_wiki_Carlby.txt ✓\n"
     ]
    },
    {
     "name": "stdout",
     "output_type": "stream",
     "text": [
      "24. /home/guoyongzhi/LanguageIdentification.jl/corpus/train/en/_wiki_Mollkirch.txt ✓\n"
     ]
    },
    {
     "name": "stdout",
     "output_type": "stream",
     "text": [
      "25. /home/guoyongzhi/LanguageIdentification.jl/corpus/train/en/_wiki_Coulter_(surname).txt ✓\n"
     ]
    },
    {
     "name": "stdout",
     "output_type": "stream",
     "text": [
      "26. /home/guoyongzhi/LanguageIdentification.jl/corpus/train/en/_wiki_Entertainment__95d68_ssociation_of_Canada.txt ✓\n"
     ]
    },
    {
     "name": "stdout",
     "output_type": "stream",
     "text": [
      "27. /home/guoyongzhi/LanguageIdentification.jl/corpus/train/en/_wiki_Otter_Lake_(Se_a7c29_d_District,_Ontario).txt ✓\n"
     ]
    },
    {
     "name": "stdout",
     "output_type": "stream",
     "text": [
      "28. /home/guoyongzhi/LanguageIdentification.jl/corpus/train/en/_wiki_Madison_Townsh_8841a_rson_County,_Indiana.txt ✓\n"
     ]
    },
    {
     "name": "stdout",
     "output_type": "stream",
     "text": [
      "29. /home/guoyongzhi/LanguageIdentification.jl/corpus/train/en/_wiki_Fernandocrambus_cuprescens.txt ✓\n"
     ]
    },
    {
     "name": "stdout",
     "output_type": "stream",
     "text": [
      "30. /home/guoyongzhi/LanguageIdentification.jl/corpus/train/en/_wiki_Allobates_chalcopis.txt ✓\n"
     ]
    },
    {
     "name": "stdout",
     "output_type": "stream",
     "text": [
      "21. /home/guoyongzhi/LanguageIdentification.jl/corpus/train/es/_wiki_Thomas_M%C3%BCller_(esquiador).txt ✓\n"
     ]
    },
    {
     "name": "stdout",
     "output_type": "stream",
     "text": [
      "22. /home/guoyongzhi/LanguageIdentification.jl/corpus/train/es/_wiki_Discrom%C3%ADa.txt ✓\n"
     ]
    },
    {
     "name": "stdout",
     "output_type": "stream",
     "text": [
      "23. /home/guoyongzhi/LanguageIdentification.jl/corpus/train/es/_wiki_Coetupo.txt ✓\n"
     ]
    },
    {
     "name": "stdout",
     "output_type": "stream",
     "text": [
      "24. /home/guoyongzhi/LanguageIdentification.jl/corpus/train/es/_wiki_Anexo:Medaller_d6ae9_tud_de_Singapur_2010.txt ✓\n"
     ]
    },
    {
     "name": "stdout",
     "output_type": "stream",
     "text": [
      "25. /home/guoyongzhi/LanguageIdentification.jl/corpus/train/es/_wiki_Puilboreau_(Hait%C3%AD).txt ✓\n"
     ]
    },
    {
     "name": "stdout",
     "output_type": "stream",
     "text": [
      "26. /home/guoyongzhi/LanguageIdentification.jl/corpus/train/es/_wiki_Colin_Gibbons.txt ✓\n"
     ]
    },
    {
     "name": "stdout",
     "output_type": "stream",
     "text": [
      "27. /home/guoyongzhi/LanguageIdentification.jl/corpus/train/es/_wiki_Hungerford_(Texas).txt ✓\n"
     ]
    },
    {
     "name": "stdout",
     "output_type": "stream",
     "text": [
      "28. /home/guoyongzhi/LanguageIdentification.jl/corpus/train/es/_wiki_Prosopocoilus_dorsalis.txt ✓\n"
     ]
    },
    {
     "name": "stdout",
     "output_type": "stream",
     "text": [
      "29. /home/guoyongzhi/LanguageIdentification.jl/corpus/train/es/_wiki_Stiphropus_gruberi.txt ✓\n"
     ]
    },
    {
     "name": "stdout",
     "output_type": "stream",
     "text": [
      "30. /home/guoyongzhi/LanguageIdentification.jl/corpus/train/es/_wiki_Armando_Migliari.txt ✓\n"
     ]
    },
    {
     "name": "stdout",
     "output_type": "stream",
     "text": [
      "21. /home/guoyongzhi/LanguageIdentification.jl/corpus/train/fa/_wiki_%D9%BE%D9%86%D_077b0_7%D9%86%D9%88%DA%86).txt ✓\n"
     ]
    },
    {
     "name": "stdout",
     "output_type": "stream",
     "text": [
      "22. /home/guoyongzhi/LanguageIdentification.jl/corpus/train/fa/_wiki_%D9%86%D9%88%D_f1fe8_B4%D9%85%DB%8C%D8%AA.txt ✓\n"
     ]
    },
    {
     "name": "stdout",
     "output_type": "stream",
     "text": [
      "23. /home/guoyongzhi/LanguageIdentification.jl/corpus/train/fa/_wiki_%D8%B4%D9%88%DA%AF%D9%88%D9%86.txt ✓"
     ]
    },
    {
     "name": "stdout",
     "output_type": "stream",
     "text": [
      "\n"
     ]
    },
    {
     "name": "stdout",
     "output_type": "stream",
     "text": [
      "24. /home/guoyongzhi/LanguageIdentification.jl/corpus/train/fa/_wiki_%D8%A8%D8%A7%D_6fac5_A7%D8%B3%DA%AF%D9%88.txt ✓\n"
     ]
    },
    {
     "name": "stdout",
     "output_type": "stream",
     "text": [
      "25. /home/guoyongzhi/LanguageIdentification.jl/corpus/train/fa/_wiki_%D8%A8%D8%B1%D_1f2a6_A7%D9%86%D8%AF%DB%8C.txt ✓\n"
     ]
    },
    {
     "name": "stdout",
     "output_type": "stream",
     "text": [
      "26. /home/guoyongzhi/LanguageIdentification.jl/corpus/train/fa/_wiki_%DA%AF%DB%8C%D_6038f_A7%D9%85%D8%AA%DB%8C.txt ✓\n"
     ]
    },
    {
     "name": "stdout",
     "output_type": "stream",
     "text": [
      "27. /home/guoyongzhi/LanguageIdentification.jl/corpus/train/fa/_wiki_%D8%B3%D8%B1%D_297d9_F%DA%AF%D8%A7%D9%86).txt ✓\n"
     ]
    },
    {
     "name": "stdout",
     "output_type": "stream",
     "text": [
      "28. /home/guoyongzhi/LanguageIdentification.jl/corpus/train/fa/_wiki_%D9%87%D8%A7%D_cfd97_85%D8%A8%D8%A7%D8%AE.txt ✓\n"
     ]
    },
    {
     "name": "stdout",
     "output_type": "stream",
     "text": [
      "29. /home/guoyongzhi/LanguageIdentification.jl/corpus/train/fa/_wiki_%DA%86%D8%A7%D_6848e_B9%D9%84%DB%8C%D8%A7.txt ✓\n"
     ]
    },
    {
     "name": "stdout",
     "output_type": "stream",
     "text": [
      "30. /home/guoyongzhi/LanguageIdentification.jl/corpus/train/fa/_wiki_%D9%86%DB%8C%D8%B4%DA%AF%D9%88%D9%86.txt ✓\n"
     ]
    },
    {
     "name": "stdout",
     "output_type": "stream",
     "text": [
      "21. /home/guoyongzhi/LanguageIdentification.jl/corpus/train/fi/_wiki_Pierre_Bonnard.txt ✓\n"
     ]
    },
    {
     "name": "stdout",
     "output_type": "stream",
     "text": [
      "22. /home/guoyongzhi/LanguageIdentification.jl/corpus/train/fi/_wiki_Dubki.txt ✓\n"
     ]
    },
    {
     "name": "stdout",
     "output_type": "stream",
     "text": [
      "23. /home/guoyongzhi/LanguageIdentification.jl/corpus/train/fi/_wiki_Kootut_kertomukset_(Edgar_Allan_Poe).txt ✓\n"
     ]
    },
    {
     "name": "stdout",
     "output_type": "stream",
     "text": [
      "24. /home/guoyongzhi/LanguageIdentification.jl/corpus/train/fi/_wiki_Luettelo_Pohjois-Makedonian_kaupungeista.txt ✓\n"
     ]
    },
    {
     "name": "stdout",
     "output_type": "stream",
     "text": [
      "25. /home/guoyongzhi/LanguageIdentification.jl/corpus/train/fi/_wiki_Koloman_Moser.txt ✓\n"
     ]
    },
    {
     "name": "stdout",
     "output_type": "stream",
     "text": [
      "26. /home/guoyongzhi/LanguageIdentification.jl/corpus/train/fi/_wiki_Arvi_Pohjanp%C3%A4%C3%A4.txt ✓\n"
     ]
    },
    {
     "name": "stdout",
     "output_type": "stream",
     "text": [
      "27. /home/guoyongzhi/LanguageIdentification.jl/corpus/train/fi/_wiki_Juoksj%C3%A4rvi.txt ✓\n"
     ]
    },
    {
     "name": "stdout",
     "output_type": "stream",
     "text": [
      "28. /home/guoyongzhi/LanguageIdentification.jl/corpus/train/fi/_wiki_Antti_Pihlstr%C3%B6m.txt ✓\n"
     ]
    },
    {
     "name": "stdout",
     "output_type": "stream",
     "text": [
      "29. /home/guoyongzhi/LanguageIdentification.jl/corpus/train/fi/_wiki_Agathodaimon_(yhtye).txt ✓\n"
     ]
    },
    {
     "name": "stdout",
     "output_type": "stream",
     "text": [
      "30. /home/guoyongzhi/LanguageIdentification.jl/corpus/train/fi/_wiki_Adi_H%C3%BCtter.txt ✓\n"
     ]
    },
    {
     "name": "stdout",
     "output_type": "stream",
     "text": [
      "21. /home/guoyongzhi/LanguageIdentification.jl/corpus/train/fr/_wiki_Balanso.txt ✓\n"
     ]
    },
    {
     "name": "stdout",
     "output_type": "stream",
     "text": [
      "22. /home/guoyongzhi/LanguageIdentification.jl/corpus/train/fr/_wiki_Korioukivka.txt ✓"
     ]
    },
    {
     "name": "stdout",
     "output_type": "stream",
     "text": [
      "\n"
     ]
    },
    {
     "name": "stdout",
     "output_type": "stream",
     "text": [
      "23. /home/guoyongzhi/LanguageIdentification.jl/corpus/train/fr/_wiki_Bennwihr.txt ✓\n"
     ]
    }
   ],
   "source": [
    "\n",
    "langs = [\"ar\", \"cs\", \"da\", \"de\", \"el\", \"en\", \"es\", \"fa\", \"fi\", \"fr\", \"he\", \"hi\", \"hu\", \"it\", \"jp\", \"ko\", \"nl\", \"no\", \"pl\", \"pt\", \"ru\", \"sv\", \"tr\", \"uk\", \"zh\"]\n",
    "\n",
    "@show length(langs)\n",
    "step = 10\n",
    "total = 1000\n",
    "for i in [step:step:total; total]\n",
    "\tprintln(\"### $i ###\")\n",
    "\tfor lang in langs\n",
    "\t\tdownload_wikipedia_text(lang, i, path=raw\"./corpus/train\")\n",
    "\tend\n",
    "end\n",
    "# touch corpus/train/stop\n",
    "# rm corpus/train/stop"
   ]
  },
  {
   "cell_type": "code",
   "execution_count": null,
   "metadata": {},
   "outputs": [],
   "source": []
  }
 ],
 "metadata": {
  "kernelspec": {
   "display_name": "Julia 1.9.2",
   "language": "julia",
   "name": "julia-1.9"
  },
  "language_info": {
   "file_extension": ".jl",
   "mimetype": "application/julia",
   "name": "julia",
   "version": "1.9.2"
  },
  "orig_nbformat": 4
 },
 "nbformat": 4,
 "nbformat_minor": 2
}
