{
 "cells": [
  {
   "cell_type": "code",
   "execution_count": 1,
   "metadata": {},
   "outputs": [],
   "source": [
    "include(\"datasetloader.jl\")\n",
    "include(\"benchmark.jl\")\n",
    "using LanguageIdentification\n",
    "import LanguageIdentification as LI\n",
    "using BSON"
   ]
  },
  {
   "cell_type": "code",
   "execution_count": 16,
   "metadata": {},
   "outputs": [
    {
     "name": "stdout",
     "output_type": "stream",
     "text": [
      "|         | 100-vocab | 200-vocab | 500-vocab | 1000-vocab | 2000-vocab | 5000-vocab | 10000-vocab | 20000-vocab | 50000-vocab | 100000-vocab |\n",
      "|---------|-----------|-----------|-----------|------------|------------|------------|-------------|-------------|-------------|--------------|\n",
      "| 1-grams |    91.90% |    91.90% |         - |          - |          - |          - |           - |           - |           - |            - |\n",
      "| 2-grams |    92.89% |    94.42% |    95.16% |     95.27% |     95.27% |     95.27% |           - |           - |           - |            - |\n",
      "| 3-grams |    93.17% |    95.40% |    96.38% |     96.02% |     96.09% |     96.27% |      96.27% |      96.27% |      96.27% |            - |\n",
      "| 4-grams |    91.23% |    96.50% |    97.30% |     97.65% |     97.81% |     97.94% |      97.87% |      97.91% |      97.93% |       97.93% |\n",
      "| 5-grams |    89.09% |    96.02% |    97.47% |     97.98% |     98.18% |     98.64% |      98.62% |      98.67% |      98.73% |       98.75% |\n",
      "| 6-grams |    84.93% |    93.73% |         - |          - |          - |          - |           - |           - |           - |            - |\n"
     ]
    },
    {
     "data": {
      "text/markdown": [
       "|         | 100-vocab | 200-vocab | 500-vocab | 1000-vocab | 2000-vocab | 5000-vocab | 10000-vocab | 20000-vocab | 50000-vocab | 100000-vocab |\n",
       "|---------|-----------|-----------|-----------|------------|------------|------------|-------------|-------------|-------------|--------------|\n",
       "| 1-grams |    91.90% |    91.90% |         - |          - |          - |          - |           - |           - |           - |            - |\n",
       "| 2-grams |    92.89% |    94.42% |    95.16% |     95.27% |     95.27% |     95.27% |           - |           - |           - |            - |\n",
       "| 3-grams |    93.17% |    95.40% |    96.38% |     96.02% |     96.09% |     96.27% |      96.27% |      96.27% |      96.27% |            - |\n",
       "| 4-grams |    91.23% |    96.50% |    97.30% |     97.65% |     97.81% |     97.94% |      97.87% |      97.91% |      97.93% |       97.93% |\n",
       "| 5-grams |    89.09% |    96.02% |    97.47% |     97.98% |     98.18% |     98.64% |      98.62% |      98.67% |      98.73% |       98.75% |\n",
       "| 6-grams |    84.93% |    93.73% |         - |          - |          - |          - |           - |           - |           - |            - |\n"
      ],
      "text/plain": [
       "DisplayAs.Raw.Showable{MIME{Symbol(\"text/markdown\")}}(UInt8[0x7c, 0x20, 0x20, 0x20, 0x20, 0x20, 0x20, 0x20, 0x20, 0x20  …  0x20, 0x20, 0x20, 0x20, 0x20, 0x20, 0x2d, 0x20, 0x7c, 0x0a])"
      ]
     },
     "metadata": {},
     "output_type": "display_data"
    }
   ],
   "source": [
    "BSON.@load \"benchmarks/v1/bmkmats-vocabsize-wikipedia.bson\" bmkmats\n",
    "items = [k=>sum(v)/length(v) for (k,v) in only.(bmkmats)]\n",
    "showtable_of_items(items, row_name=n->\"$n-grams\", col_name=n->\"$n-vocab\")"
   ]
  }
 ],
 "metadata": {
  "kernelspec": {
   "display_name": "Julia 1.9.2",
   "language": "julia",
   "name": "julia-1.9"
  },
  "language_info": {
   "file_extension": ".jl",
   "mimetype": "application/julia",
   "name": "julia",
   "version": "1.9.2"
  },
  "orig_nbformat": 4
 },
 "nbformat": 4,
 "nbformat_minor": 2
}
