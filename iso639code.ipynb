{
 "cells": [
  {
   "cell_type": "code",
   "execution_count": 1,
   "metadata": {},
   "outputs": [
    {
     "data": {
      "text/html": [
       "<div><div style = \"float: left;\"><span>454×3 DataFrame</span></div><div style = \"float: right;\"><span style = \"font-style: italic;\">429 rows omitted</span></div><div style = \"clear: both;\"></div></div><div class = \"data-frame\" style = \"overflow-x: scroll;\"><table class = \"data-frame\" style = \"margin-bottom: 6px;\"><thead><tr class = \"header\"><th class = \"rowNumber\" style = \"font-weight: bold; text-align: right;\">Row</th><th style = \"text-align: left;\">M_Id</th><th style = \"text-align: left;\">I_Id</th><th style = \"text-align: left;\">I_Status</th></tr><tr class = \"subheader headerLastRow\"><th class = \"rowNumber\" style = \"font-weight: bold; text-align: right;\"></th><th title = \"String3\" style = \"text-align: left;\">String3</th><th title = \"String3\" style = \"text-align: left;\">String3</th><th title = \"String1\" style = \"text-align: left;\">String1</th></tr></thead><tbody><tr><td class = \"rowNumber\" style = \"font-weight: bold; text-align: right;\">1</td><td style = \"text-align: left;\">aka</td><td style = \"text-align: left;\">fat</td><td style = \"text-align: left;\">A</td></tr><tr><td class = \"rowNumber\" style = \"font-weight: bold; text-align: right;\">2</td><td style = \"text-align: left;\">aka</td><td style = \"text-align: left;\">twi</td><td style = \"text-align: left;\">A</td></tr><tr><td class = \"rowNumber\" style = \"font-weight: bold; text-align: right;\">3</td><td style = \"text-align: left;\">ara</td><td style = \"text-align: left;\">aao</td><td style = \"text-align: left;\">A</td></tr><tr><td class = \"rowNumber\" style = \"font-weight: bold; text-align: right;\">4</td><td style = \"text-align: left;\">ara</td><td style = \"text-align: left;\">abh</td><td style = \"text-align: left;\">A</td></tr><tr><td class = \"rowNumber\" style = \"font-weight: bold; text-align: right;\">5</td><td style = \"text-align: left;\">ara</td><td style = \"text-align: left;\">abv</td><td style = \"text-align: left;\">A</td></tr><tr><td class = \"rowNumber\" style = \"font-weight: bold; text-align: right;\">6</td><td style = \"text-align: left;\">ara</td><td style = \"text-align: left;\">acm</td><td style = \"text-align: left;\">A</td></tr><tr><td class = \"rowNumber\" style = \"font-weight: bold; text-align: right;\">7</td><td style = \"text-align: left;\">ara</td><td style = \"text-align: left;\">acq</td><td style = \"text-align: left;\">A</td></tr><tr><td class = \"rowNumber\" style = \"font-weight: bold; text-align: right;\">8</td><td style = \"text-align: left;\">ara</td><td style = \"text-align: left;\">acw</td><td style = \"text-align: left;\">A</td></tr><tr><td class = \"rowNumber\" style = \"font-weight: bold; text-align: right;\">9</td><td style = \"text-align: left;\">ara</td><td style = \"text-align: left;\">acx</td><td style = \"text-align: left;\">A</td></tr><tr><td class = \"rowNumber\" style = \"font-weight: bold; text-align: right;\">10</td><td style = \"text-align: left;\">ara</td><td style = \"text-align: left;\">acy</td><td style = \"text-align: left;\">A</td></tr><tr><td class = \"rowNumber\" style = \"font-weight: bold; text-align: right;\">11</td><td style = \"text-align: left;\">ara</td><td style = \"text-align: left;\">adf</td><td style = \"text-align: left;\">A</td></tr><tr><td class = \"rowNumber\" style = \"font-weight: bold; text-align: right;\">12</td><td style = \"text-align: left;\">ara</td><td style = \"text-align: left;\">aeb</td><td style = \"text-align: left;\">A</td></tr><tr><td class = \"rowNumber\" style = \"font-weight: bold; text-align: right;\">13</td><td style = \"text-align: left;\">ara</td><td style = \"text-align: left;\">aec</td><td style = \"text-align: left;\">A</td></tr><tr><td style = \"text-align: right;\">&vellip;</td><td style = \"text-align: right;\">&vellip;</td><td style = \"text-align: right;\">&vellip;</td><td style = \"text-align: right;\">&vellip;</td></tr><tr><td class = \"rowNumber\" style = \"font-weight: bold; text-align: right;\">443</td><td style = \"text-align: left;\">zho</td><td style = \"text-align: left;\">czh</td><td style = \"text-align: left;\">A</td></tr><tr><td class = \"rowNumber\" style = \"font-weight: bold; text-align: right;\">444</td><td style = \"text-align: left;\">zho</td><td style = \"text-align: left;\">czo</td><td style = \"text-align: left;\">A</td></tr><tr><td class = \"rowNumber\" style = \"font-weight: bold; text-align: right;\">445</td><td style = \"text-align: left;\">zho</td><td style = \"text-align: left;\">gan</td><td style = \"text-align: left;\">A</td></tr><tr><td class = \"rowNumber\" style = \"font-weight: bold; text-align: right;\">446</td><td style = \"text-align: left;\">zho</td><td style = \"text-align: left;\">hak</td><td style = \"text-align: left;\">A</td></tr><tr><td class = \"rowNumber\" style = \"font-weight: bold; text-align: right;\">447</td><td style = \"text-align: left;\">zho</td><td style = \"text-align: left;\">hsn</td><td style = \"text-align: left;\">A</td></tr><tr><td class = \"rowNumber\" style = \"font-weight: bold; text-align: right;\">448</td><td style = \"text-align: left;\">zho</td><td style = \"text-align: left;\">lzh</td><td style = \"text-align: left;\">A</td></tr><tr><td class = \"rowNumber\" style = \"font-weight: bold; text-align: right;\">449</td><td style = \"text-align: left;\">zho</td><td style = \"text-align: left;\">mnp</td><td style = \"text-align: left;\">A</td></tr><tr><td class = \"rowNumber\" style = \"font-weight: bold; text-align: right;\">450</td><td style = \"text-align: left;\">zho</td><td style = \"text-align: left;\">nan</td><td style = \"text-align: left;\">A</td></tr><tr><td class = \"rowNumber\" style = \"font-weight: bold; text-align: right;\">451</td><td style = \"text-align: left;\">zho</td><td style = \"text-align: left;\">wuu</td><td style = \"text-align: left;\">A</td></tr><tr><td class = \"rowNumber\" style = \"font-weight: bold; text-align: right;\">452</td><td style = \"text-align: left;\">zho</td><td style = \"text-align: left;\">yue</td><td style = \"text-align: left;\">A</td></tr><tr><td class = \"rowNumber\" style = \"font-weight: bold; text-align: right;\">453</td><td style = \"text-align: left;\">zza</td><td style = \"text-align: left;\">diq</td><td style = \"text-align: left;\">A</td></tr><tr><td class = \"rowNumber\" style = \"font-weight: bold; text-align: right;\">454</td><td style = \"text-align: left;\">zza</td><td style = \"text-align: left;\">kiu</td><td style = \"text-align: left;\">A</td></tr></tbody></table></div>"
      ],
      "text/latex": [
       "\\begin{tabular}{r|ccc}\n",
       "\t& M\\_Id & I\\_Id & I\\_Status\\\\\n",
       "\t\\hline\n",
       "\t& String3 & String3 & String1\\\\\n",
       "\t\\hline\n",
       "\t1 & aka & fat & A \\\\\n",
       "\t2 & aka & twi & A \\\\\n",
       "\t3 & ara & aao & A \\\\\n",
       "\t4 & ara & abh & A \\\\\n",
       "\t5 & ara & abv & A \\\\\n",
       "\t6 & ara & acm & A \\\\\n",
       "\t7 & ara & acq & A \\\\\n",
       "\t8 & ara & acw & A \\\\\n",
       "\t9 & ara & acx & A \\\\\n",
       "\t10 & ara & acy & A \\\\\n",
       "\t11 & ara & adf & A \\\\\n",
       "\t12 & ara & aeb & A \\\\\n",
       "\t13 & ara & aec & A \\\\\n",
       "\t14 & ara & afb & A \\\\\n",
       "\t15 & ara & ajp & R \\\\\n",
       "\t16 & ara & apc & A \\\\\n",
       "\t17 & ara & apd & A \\\\\n",
       "\t18 & ara & arb & A \\\\\n",
       "\t19 & ara & arq & A \\\\\n",
       "\t20 & ara & ars & A \\\\\n",
       "\t21 & ara & ary & A \\\\\n",
       "\t22 & ara & arz & A \\\\\n",
       "\t23 & ara & auz & A \\\\\n",
       "\t24 & ara & avl & A \\\\\n",
       "\t$\\dots$ & $\\dots$ & $\\dots$ & $\\dots$ \\\\\n",
       "\\end{tabular}\n"
      ],
      "text/plain": [
       "\u001b[1m454×3 DataFrame\u001b[0m\n",
       "\u001b[1m Row \u001b[0m│\u001b[1m M_Id    \u001b[0m\u001b[1m I_Id    \u001b[0m\u001b[1m I_Status \u001b[0m\n",
       "     │\u001b[90m String3 \u001b[0m\u001b[90m String3 \u001b[0m\u001b[90m String1  \u001b[0m\n",
       "─────┼────────────────────────────\n",
       "   1 │ aka      fat      A\n",
       "   2 │ aka      twi      A\n",
       "   3 │ ara      aao      A\n",
       "   4 │ ara      abh      A\n",
       "   5 │ ara      abv      A\n",
       "   6 │ ara      acm      A\n",
       "   7 │ ara      acq      A\n",
       "   8 │ ara      acw      A\n",
       "  ⋮  │    ⋮        ⋮        ⋮\n",
       " 448 │ zho      lzh      A\n",
       " 449 │ zho      mnp      A\n",
       " 450 │ zho      nan      A\n",
       " 451 │ zho      wuu      A\n",
       " 452 │ zho      yue      A\n",
       " 453 │ zza      diq      A\n",
       " 454 │ zza      kiu      A\n",
       "\u001b[36m                  439 rows omitted\u001b[0m"
      ]
     },
     "metadata": {},
     "output_type": "display_data"
    }
   ],
   "source": [
    "# https://iso639-3.sil.org/code_tables/download_tables\n",
    "using DataFrames\n",
    "using CSV\n",
    "T = DataFrame(CSV.File(\"iso-639-3_Code_Tables_20230123/iso-639-3_20230123.tab\"))\n",
    "MT = DataFrame(CSV.File(\"iso-639-3_Code_Tables_20230123/iso-639-3-macrolanguages_20230123.tab\"))\n",
    "NT = DataFrame(CSV.File(\"iso-639-3_Code_Tables_20230123/iso-639-3_Name_Index_20230123.tab\"))\n",
    "T = coalesce.(T, \"\")\n",
    "MT = coalesce.(MT, \"\")"
   ]
  },
  {
   "cell_type": "code",
   "execution_count": 12,
   "metadata": {},
   "outputs": [
    {
     "data": {
      "text/plain": [
       "\"mbo\""
      ]
     },
     "metadata": {},
     "output_type": "display_data"
    }
   ],
   "source": [
    "k = \"mbo (democratic republic of congo)\"\n"
   ]
  },
  {
   "cell_type": "code",
   "execution_count": null,
   "metadata": {},
   "outputs": [],
   "source": [
    "Dict((replace(k, r\"\\s*\\(.*\\)\\s*\"=>\"\"),v) for (k,v) in eachrow(NT[!, [:Print_Name, :Id]]) if !isempty(k))"
   ]
  },
  {
   "cell_type": "code",
   "execution_count": 14,
   "metadata": {},
   "outputs": [],
   "source": [
    "open(\"result.txt\", \"w\") do f\n",
    " print(f, Dict((replace(k, r\"\\s*\\(.*\\)\\s*\"=>\"\"),v) for (k,v) in eachrow(NT[!, [:Print_Name, :Id]]) if !isempty(k)))\n",
    "end"
   ]
  },
  {
   "cell_type": "code",
   "execution_count": 18,
   "metadata": {},
   "outputs": [
    {
     "name": "stdout",
     "output_type": "stream",
     "text": [
      "Dict{String, String3}(\"mg\" => \"mlg\", \"tw\" => \"twi\", \"et\" => \"est\", \"mh\" => \"mah\", \"tl\" => \"tgl\", \"cr\" => \"cre\", \"wa\" => \"wln\", \"br\" => \"bre\", \"gl\" => \"glg\", \"an\" => \"arg\", \"kr\" => \"kau\", \"bi\" => \"bis\", \"te\" => \"tel\", \"cy\" => \"cym\", \"ka\" => \"kat\", \"ko\" => \"kor\", \"uz\" => \"uzb\", \"vo\" => \"vol\", \"kw\" => \"cor\", \"ho\" => \"hmo\", \"eo\" => \"epo\", \"ii\" => \"iii\", \"ay\" => \"aym\", \"my\" => \"mya\", \"rn\" => \"run\", \"lu\" => \"lub\", \"or\" => \"ori\", \"bo\" => \"bod\", \"bs\" => \"bos\", \"ja\" => \"jpn\", \"ta\" => \"tam\", \"be\" => \"bel\", \"lo\" => \"lao\", \"ha\" => \"hau\", \"sk\" => \"slk\", \"so\" => \"som\", \"hz\" => \"her\", \"ts\" => \"tso\", \"rm\" => \"roh\", \"uk\" => \"ukr\", \"it\" => \"ita\", \"pl\" => \"pol\", \"nv\" => \"nav\", \"de\" => \"deu\", \"gv\" => \"glv\", \"fy\" => \"fry\", \"ba\" => \"bak\", \"bm\" => \"bam\", \"yi\" => \"yid\", \"aa\" => \"aar\", \"lv\" => \"lav\", \"fr\" => \"fra\", \"co\" => \"cos\", \"ny\" => \"nya\", \"se\" => \"sm"
     ]
    },
    {
     "name": "stdout",
     "output_type": "stream",
     "text": [
      "e\", \"sn\" => \"sna\", \"hi\" => \"hin\", \"kk\" => \"kaz\", \"oj\" => \"oji\", \"kg\" => \"kon\", \"ur\" => \"urd\", \"ht\" => \"hat\", \"ig\" => \"ibo\", \"dz\" => \"dzo\", \"gn\" => \"grn\", \"fo\" => \"fao\", \"bg\" => \"bul\", \"zu\" => \"zul\", \"ak\" => \"aka\", \"kn\" => \"kan\", \"lb\" => \"ltz\", \"el\" => \"ell\", \"ky\" => \"kir\", \"nb\" => \"nob\", \"hr\" => \"hrv\", \"mt\" => \"mlt\", \"ti\" => \"tir\", \"id\" => \"ind\", \"ch\" => \"cha\", \"qu\" => \"que\", \"mk\" => \"mkd\", \"mr\" => \"mar\", \"km\" => \"khm\", \"ug\" => \"uig\", \"ln\" => \"lin\", \"hu\" => \"hun\", \"si\" => \"sin\", \"cv\" => \"chv\", \"oc\" => \"oci\", \"ru\" => \"rus\", \"gu\" => \"guj\", \"sq\" => \"sqi\", \"la\" => \"lat\", \"zh\" => \"zho\", \"am\" => \"amh\", \"cs\" => \"ces\", \"sg\" => \"sag\", \"ar\" => \"ara\", \"yo\" => \"yor\", \"sd\" => \"snd\", \"mn\" => \"mon\", \"as\" => \"asm\", \"lg\" => \"lug\", \"to\" => \"ton\", \"os\" => \"oss\", \"ff\" => \"ful\", \"jv\" => \"jav\", \"ty\" => \"tah\", \"sr\" => \"srp\", \"ms\" => \"m"
     ]
    },
    {
     "name": "stdout",
     "output_type": "stream",
     "text": [
      "sa\", \"nn\" => \"nno\", \"ce\" => \"che\", \"ks\" => \"kas\", \"mi\" => \"mri\", \"ga\" => \"gle\", \"pi\" => \"pli\", \"ps\" => \"pus\", \"xh\" => \"xho\", \"dv\" => \"div\", \"ik\" => \"ipk\", \"tg\" => \"tgk\", \"th\" => \"tha\", \"eu\" => \"eus\", \"sw\" => \"swa\", \"pt\" => \"por\", \"az\" => \"aze\", \"iu\" => \"iku\", \"es\" => \"spa\", \"nr\" => \"nbl\", \"ia\" => \"ina\", \"za\" => \"zha\", \"su\" => \"sun\", \"fa\" => \"fas\", \"af\" => \"afr\", \"no\" => \"nor\", \"lt\" => \"lit\", \"en\" => \"eng\", \"st\" => \"sot\", \"ab\" => \"abk\", \"ca\" => \"cat\", \"bn\" => \"ben\", \"li\" => \"lim\", \"ie\" => \"ile\", \"kj\" => \"kua\", \"ae\" => \"ave\", \"ss\" => \"ssw\", \"ne\" => \"nep\", \"sa\" => \"san\", \"na\" => \"nau\", \"cu\" => \"chu\", \"ve\" => \"ven\", \"hy\" => \"hye\", \"tn\" => \"tsn\", \"gd\" => \"gla\", \"nl\" => \"nld\", \"is\" => \"isl\", \"kv\" => \"kom\", \"tt\" => \"tat\", \"ki\" => \"kik\", \"sl\" => \"slv\", \"sv\" => \"swe\", \"fj\" => \"fij\", \"da\" => \"dan\", \"io\" => \"ido\", \"wo\" => \"wol\", \"av\" => \"ava\", \"nd\" => "
     ]
    },
    {
     "name": "stdout",
     "output_type": "stream",
     "text": [
      "\"nde\", \"pa\" => \"pan\", \"rw\" => \"kin\", \"tr\" => \"tur\", \"vi\" => \"vie\", \"sh\" => \"hbs\", \"om\" => \"orm\", \"ee\" => \"ewe\", \"kl\" => \"kal\", \"sm\" => \"smo\", \"sc\" => \"srd\", \"ml\" => \"mal\", \"tk\" => \"tuk\", \"fi\" => \"fin\", \"ku\" => \"kur\", \"ng\" => \"ndo\", \"ro\" => \"ron\", \"he\" => \"heb\")"
     ]
    }
   ],
   "source": [
    "Dict((k,v) for (k,v) in eachrow(T[!, [:Part1, :Id]]) if !isempty(k))|>print"
   ]
  },
  {
   "cell_type": "code",
   "execution_count": 19,
   "metadata": {},
   "outputs": [
    {
     "data": {
      "text/plain": [
       "Dict{String, String} with 184 entries:\n",
       "  \"am\" => \"amh\"\n",
       "  \"cs\" => \"ces\"\n",
       "  \"mg\" => \"mlg\"\n",
       "  \"tw\" => \"twi\"\n",
       "  \"et\" => \"est\"\n",
       "  \"mh\" => \"mah\"\n",
       "  \"tl\" => \"tgl\"\n",
       "  \"cr\" => \"cre\"\n",
       "  \"wa\" => \"wln\"\n",
       "  \"br\" => \"bre\"\n",
       "  \"gl\" => \"glg\"\n",
       "  \"an\" => \"arg\"\n",
       "  \"sg\" => \"sag\"\n",
       "  \"ar\" => \"ara\"\n",
       "  \"yo\" => \"yor\"\n",
       "  \"sd\" => \"snd\"\n",
       "  \"kr\" => \"kau\"\n",
       "  \"bi\" => \"bis\"\n",
       "  \"mn\" => \"mon\"\n",
       "  ⋮    => ⋮"
      ]
     },
     "metadata": {},
     "output_type": "display_data"
    }
   ],
   "source": [
    "part1_id = Dict(\"mg\" => \"mlg\", \"tw\" => \"twi\", \"et\" => \"est\", \"mh\" => \"mah\", \"tl\" => \"tgl\", \"cr\" => \"cre\", \"wa\" => \"wln\", \"br\" => \"bre\", \"gl\" => \"glg\", \"an\" => \"arg\", \"kr\" => \"kau\", \"bi\" => \"bis\", \"te\" => \"tel\", \"cy\" => \"cym\", \"ka\" => \"kat\", \"ko\" => \"kor\", \"uz\" => \"uzb\", \"vo\" => \"vol\", \"kw\" => \"cor\", \"ho\" => \"hmo\", \"eo\" => \"epo\", \"ii\" => \"iii\", \"ay\" => \"aym\", \"my\" => \"mya\", \"rn\" => \"run\", \"lu\" => \"lub\", \"or\" => \"ori\", \"bo\" => \"bod\", \"bs\" => \"bos\", \"ja\" => \"jpn\", \"ta\" => \"tam\", \"be\" => \"bel\", \"lo\" => \"lao\", \"ha\" => \"hau\", \"sk\" => \"slk\", \"so\" => \"som\", \"hz\" => \"her\", \"ts\" => \"tso\", \"rm\" => \"roh\", \"uk\" => \"ukr\", \"it\" => \"ita\", \"pl\" => \"pol\", \"nv\" => \"nav\", \"de\" => \"deu\", \"gv\" => \"glv\", \"fy\" => \"fry\", \"ba\" => \"bak\", \"bm\" => \"bam\", \"yi\" => \"yid\", \"aa\" => \"aar\", \"lv\" => \"lav\", \"fr\" => \"fra\", \"co\" => \"cos\", \"ny\" => \"nya\", \"se\" => \"sm\n",
    "e\", \"sn\" => \"sna\", \"hi\" => \"hin\", \"kk\" => \"kaz\", \"oj\" => \"oji\", \"kg\" => \"kon\", \"ur\" => \"urd\", \"ht\" => \"hat\", \"ig\" => \"ibo\", \"dz\" => \"dzo\", \"gn\" => \"grn\", \"fo\" => \"fao\", \"bg\" => \"bul\", \"zu\" => \"zul\", \"ak\" => \"aka\", \"kn\" => \"kan\", \"lb\" => \"ltz\", \"el\" => \"ell\", \"ky\" => \"kir\", \"nb\" => \"nob\", \"hr\" => \"hrv\", \"mt\" => \"mlt\", \"ti\" => \"tir\", \"id\" => \"ind\", \"ch\" => \"cha\", \"qu\" => \"que\", \"mk\" => \"mkd\", \"mr\" => \"mar\", \"km\" => \"khm\", \"ug\" => \"uig\", \"ln\" => \"lin\", \"hu\" => \"hun\", \"si\" => \"sin\", \"cv\" => \"chv\", \"oc\" => \"oci\", \"ru\" => \"rus\", \"gu\" => \"guj\", \"sq\" => \"sqi\", \"la\" => \"lat\", \"zh\" => \"zho\", \"am\" => \"amh\", \"cs\" => \"ces\", \"sg\" => \"sag\", \"ar\" => \"ara\", \"yo\" => \"yor\", \"sd\" => \"snd\", \"mn\" => \"mon\", \"as\" => \"asm\", \"lg\" => \"lug\", \"to\" => \"ton\", \"os\" => \"oss\", \"ff\" => \"ful\", \"jv\" => \"jav\", \"ty\" => \"tah\", \"sr\" => \"srp\", \"ms\" => \"m\n",
    "sa\", \"nn\" => \"nno\", \"ce\" => \"che\", \"ks\" => \"kas\", \"mi\" => \"mri\", \"ga\" => \"gle\", \"pi\" => \"pli\", \"ps\" => \"pus\", \"xh\" => \"xho\", \"dv\" => \"div\", \"ik\" => \"ipk\", \"tg\" => \"tgk\", \"th\" => \"tha\", \"eu\" => \"eus\", \"sw\" => \"swa\", \"pt\" => \"por\", \"az\" => \"aze\", \"iu\" => \"iku\", \"es\" => \"spa\", \"nr\" => \"nbl\", \"ia\" => \"ina\", \"za\" => \"zha\", \"su\" => \"sun\", \"fa\" => \"fas\", \"af\" => \"afr\", \"no\" => \"nor\", \"lt\" => \"lit\", \"en\" => \"eng\", \"st\" => \"sot\", \"ab\" => \"abk\", \"ca\" => \"cat\", \"bn\" => \"ben\", \"li\" => \"lim\", \"ie\" => \"ile\", \"kj\" => \"kua\", \"ae\" => \"ave\", \"ss\" => \"ssw\", \"ne\" => \"nep\", \"sa\" => \"san\", \"na\" => \"nau\", \"cu\" => \"chu\", \"ve\" => \"ven\", \"hy\" => \"hye\", \"tn\" => \"tsn\", \"gd\" => \"gla\", \"nl\" => \"nld\", \"is\" => \"isl\", \"kv\" => \"kom\", \"tt\" => \"tat\", \"ki\" => \"kik\", \"sl\" => \"slv\", \"sv\" => \"swe\", \"fj\" => \"fij\", \"da\" => \"dan\", \"io\" => \"ido\", \"wo\" => \"wol\", \"av\" => \"ava\", \"nd\" => \n",
    "\"nde\", \"pa\" => \"pan\", \"rw\" => \"kin\", \"tr\" => \"tur\", \"vi\" => \"vie\", \"sh\" => \"hbs\", \"om\" => \"orm\", \"ee\" => \"ewe\", \"kl\" => \"kal\", \"sm\" => \"smo\", \"sc\" => \"srd\", \"ml\" => \"mal\", \"tk\" => \"tuk\", \"fi\" => \"fin\", \"ku\" => \"kur\", \"ng\" => \"ndo\", \"ro\" => \"ron\", \"he\" => \"heb\")"
   ]
  },
  {
   "cell_type": "code",
   "execution_count": 20,
   "metadata": {},
   "outputs": [
    {
     "name": "stdout",
     "output_type": "stream",
     "text": [
      "Dict{String3, String3}(\"cnp\" => \"zho\", \"zca\" => \"zap\", \"zpe\" => \"zap\", \"qvn\" => \"que\", \"zaw\" => \"zap\", \"mww\" => \"hmn\", \"xhe\" => \"lah\", \"taq\" => \"tmh\", \"qwh\" => \"que\", \"nob\" => \"nor\", \"ayl\" => \"ara\", \"bln\" => \"bik\", \"ztt\" => \"zap\", \"zeh\" => \"zha\", \"qux\" => \"que\", \"ltg\" => \"lav\", \"quk\" => \"que\", \"ztn\" => \"zap\", \"bxk\" => \"luy\", \"rmc\" => \"rom\", \"esg\" => \"gon\", \"cpx\" => \"zho\", \"msi\" => \"msa\", \"bxm\" => \"bua\", \"zai\" => \"zap\", \"zaa\" => \"zap\", \"zar\" => \"zap\", \"hmq\" => \"hmn\", \"crl\" => \"cre\", \"sdc\" => \"srd\", \"gaz\" => \"orm\", \"hmj\" => \"hmn\", \"hae\" => \"orm\", \"rml\" => \"rom\", \"pes\" => \"fas\", \"hml\" => \"hmn\", \"zpk\" => \"zap\", \"ccy\" => \"zha\", \"zlj\" => \"zha\", \"bhr\" => \"mlg\", \"zao\" => \"zap\", \"hme\" => \"hmn\", \"bvu\" => \"msa\", \"bjn\" => \"msa\", \"kvb\" => \"msa\", \"pbt\" => \"pus\", \"hak\" => \"zho\", \"ydd\" => \"yid\", \"scs\" => \"den\", \"tec\" => \"kln\", \"zpp\" => \"zap\", \"rmy\" => \"rom\", \"kxd\" => \"msa\", \"gda\" => \"raj\", \"qwa\" => \"que\", \"diq\" => \"zza\", \"qur\" => \"que\", \"zsr\" => \"zap\", \"gun\" => \"grn\", \"arb\" => \"ara\", \"mnp\" => \"zho\", \"zpq\" => \"zap\", \"mhr\" => \"chm\", \"fuc\" => \"ful\", \"acm\" => \"ara\", \"sro\" => \"srd\", \"bxr\" => \"bua\", \"liw\" => \"msa\", \"gmm\" => \"gba\", \"gnw\" => \"grn\", \"apc\" => \"ara\", \"ebk\" => \"bnc\", \"cqd\" => \"hmn\", \"ojs\" => \"oji\", \"lks\" => \"luy\", \"pbu\" => \"pus\", \"dip\" => \"din\", \"zcd\" => \"zap\", \"ayp\" => \"ara\", \"qvc\" => \"que\", \"thv\" => \"tmh\", \"khk\" => \"mon\", \"vbk\" => \"bnc\", \"rmo\" => \"rom\", \"bdt\" => \"gba\", \"zpl\" => \"zap\", \"zpn\" => \"zap\", \"knn\" => \"kok\", \"mdo\" => \"gba\", \"hmm\" => \"hmn\", \"hea\" => \"hmn\", \"lvs\" => \"lav\", \"vro\" => \"est\", \"wbr\" => \"raj\", \"ssh\" => \"ara\", \"qxa\" => \"que\", \"aju\" => \"jrb\", \"crk\" => \"cre\", \"xsl\" => \"den\", \"hmz\" => \"hmn\", \"jak\" => \"msa\", \"yud\" => \"jrb\", \"hoj\" => \"raj\", \"bcc\" => \"bal\", \"ars\" => \"ara\", \"wry\" => \"mwr\", \"lce\" => \"msa\", \"sdh\" => \"kur\", \"ciw\" => \"oji\", \"zpr\" => \"zap\", \"mvf\" => \"mon\", \"zyn\" => \"zha\", \"qxp\" => \"que\", \"gbq\" => \"gba\", \"tmw\" => \"msa\", \"bto\" => \"bik\", \"hma\" => \"hmn\", \"gax\" => \"orm\", \"mfb\" => \"msa\", \"kiu\" => \"zza\", \"afb\" => \"ara\", \"ors\" => \"msa\", \"mqg\" => \"msa\", \"zps\" => \"zap\", \"zln\" => \"zha\", \"zgm\" => \"zha\", \"nno\" => \"nor\", \"gju\" => \"raj\", \"acw\" => \"ara\", \"bgp\" => \"bal\", \"ggo\" => \"gon\", \"rbl\" => \"bik\", \"hrm\" => \"hmn\", \"quz\" => \"que\", \"arz\" => \"ara\", \"avl\" => \"ara\", \"rbk\" => \"bnc\", \"sgc\" => \"kln\", \"krt\" => \"kau\", \"tkg\" => \"mlg\", \"wsg\" => \"gon\", \"csp\" => \"zho\", \"bjq\" => \"mlg\", \"mlq\" => \"man\", "
     ]
    },
    {
     "name": "stdout",
     "output_type": "stream",
     "text": [
      "\"myq\" => \"man\", \"abv\" => \"ara\", \"gug\" => \"grn\", \"msc\" => \"man\", \"swc\" => \"swa\", \"zpz\" => \"zap\", \"apd\" => \"ara\", \"niq\" => \"kln\", \"fat\" => \"aka\", \"bgn\" => \"bal\", \"ztl\" => \"zap\", \"orc\" => \"orm\", \"bzc\" => \"mlg\", \"hrv\" => \"hbs\", \"lkb\" => \"luy\", \"dhd\" => \"mwr\", \"prs\" => \"fas\", \"gkp\" => \"kpe\", \"zpx\" => \"zap\", \"ojc\" => \"oji\", \"auz\" => \"ara\", \"lsm\" => \"luy\", \"qvj\" => \"que\", \"spy\" => \"kln\", \"hmd\" => \"hmn\", \"qul\" => \"que\", \"zas\" => \"zap\", \"mrj\" => \"chm\", \"xmm\" => \"msa\", \"dik\" => \"din\", \"fue\" => \"ful\", \"adf\" => \"ara\", \"qub\" => \"que\", \"dup\" => \"msa\", \"gan\" => \"zho\", \"zav\" => \"zap\", \"nhd\" => \"grn\", \"dty\" => \"nep\", \"qvp\" => \"que\", \"lrm\" => \"luy\", \"qwc\" => \"que\", \"knc\" => \"kau\", \"phr\" => \"lah\", \"ayr\" => \"aym\", \"crj\" => \"cre\", \"rag\" => \"luy\", \"ajt\" => \"jrb\", \"coa\" => \"msa\", \"min\" => \"msa\", \"ccx\" => \"zha\", \"zlq\" => \"zha\", \"fub\" => \"ful\", \"uzn\" => \"uzb\", \"aao\" => \"ara\", \"mfa\" => \"msa\", \"qup\" => \"que\", \"zat\" => \"zap\", \"xmv\" => \"mlg\", \"dib\" => \"din\", \"plt\" => \"mlg\", \"fuf\" => \"ful\", \"cqu\" => \"que\", \"rmn\" => \"rom\", \"swh\" => \"swa\", \"cld\" => \"syr\", \"ekk\" => \"est\", \"ztg\" => \"zap\", \"ldi\" => \"kon\", \"cjy\" => \"zho\", \"qxr\" => \"que\", \"zpd\" => \"zap\", \"mtr\" => \"mwr\", \"zlm\" => \"msa\", \"nle\" => \"luy\", \"qxc\" => \"que\", \"zab\" => \"zap\", \"mku\" => \"man\", \"otw\" => \"oji\", \"ike\" => \"iku\", \"kvr\" => \"msa\", \"mup\" => \"raj\", \"zqe\" => \"zha\", \"pst\" => \"pus\", \"mnk\" => \"man\", \"zgn\" => \"zha\", \"ayh\" => \"ara\", \"cts\" => \"bik\", \"grj\" => \"grb\", \"qxo\" => \"que\", \"ojw\" => \"oji\", \"umu\" => \"del\", \"fuq\" => \"ful\", \"oki\" => \"kln\", \"blu\" => \"hmn\", \"lri\" => \"luy\", \"tdx\" => \"mlg\", \"zpv\" => \"zap\", \"wuu\" => \"zho\", \"qvi\" => \"que\", \"zte\" => \"zap\", \"gso\" => \"gba\", \"hmi\" => \"hmn\", \"zam\" => \"zap\", \"zsm\" => \"msa\", \"ary\" => \"ara\", \"diw\" => \"din\", \"hno\" => \"lah\", \"nyd\" => \"luy\", \"fbl\" => \"bik\", \"qxt\" => \"que\", \"zae\" => \"zap\", \"czo\" => \"zho\", \"bmm\" => \"mlg\", \"fui\" => \"ful\", \"ztc\" => \"zap\", \"max\" => \"msa\", \"zyj\" => \"zha\", \"aeb\" => \"ara\", \"zpa\" => \"zap\", \"bbz\" => \"ara\", \"zpj\" => \"zap\", \"zpo\" => \"zap\", \"hmh\" => \"hmn\", \"bve\" => \"msa\", \"zpy\" => \"zap\", \"zpc\" => \"zap\", \"quw\" => \"que\", \"zgb\" => \"zha\", \"gry\" => \"grb\", \"lbl\" => \"bik\", \"kby\" => \"kau\", \"mui\" => \"msa\", \"acx\" => \"ara\", \"zpb\" => \"zap\", \"ajp\" => \"ara\", \"lts\" => \"luy\", \"bxu\" => \"bua\", \"xpe\" => \"kpe\", \"zpt\" => \"zap\", \"grv"
     ]
    },
    {
     "name": "stdout",
     "output_type": "stream",
     "text": [
      "\" => \"grb\", \"zhn\" => \"zha\", \"aae\" => \"sqi\", \"gbp\" => \"gba\", \"qve\" => \"que\", \"hmy\" => \"hmn\", \"gya\" => \"gba\", \"gui\" => \"grn\", \"vkk\" => \"msa\", \"unm\" => \"del\", \"qvo\" => \"que\", \"zpf\" => \"zap\", \"kpv\" => \"kom\", \"arq\" => \"ara\", \"gom\" => \"kok\", \"twi\" => \"aka\", \"hmc\" => \"hmn\", \"jye\" => \"jrb\", \"lbk\" => \"bnc\", \"hnj\" => \"hmn\", \"yhd\" => \"jrb\", \"lwg\" => \"luy\", \"yue\" => \"zho\", \"ztu\" => \"zap\", \"npi\" => \"nep\", \"hnd\" => \"lah\", \"pmu\" => \"lah\", \"zpu\" => \"zap\", \"meo\" => \"msa\", \"skr\" => \"lah\", \"hmg\" => \"hmn\", \"qxh\" => \"que\", \"skg\" => \"mlg\", \"aat\" => \"sqi\", \"zaf\" => \"zap\", \"cmn\" => \"zho\", \"ayn\" => \"ara\", \"qus\" => \"que\", \"orn\" => \"msa\", \"azb\" => \"aze\", \"qvm\" => \"que\", \"zax\" => \"zap\", \"ind\" => \"msa\", \"zpw\" => \"zap\", \"mmr\" => \"hmn\", \"aln\" => \"sqi\", \"pko\" => \"kln\", \"rmf\" => \"rom\", \"zaq\" => \"zap\", \"zpg\" => \"zap\", \"aec\" => \"ara\", \"sdn\" => \"srd\", \"acy\" => \"ara\", \"ztm\" => \"zap\", \"zyb\" => \"zha\", \"lzh\" => \"zho\", \"quh\" => \"que\", \"thz\" => \"tmh\", \"xnr\" => \"doi\", \"cwd\" => \"cre\", \"ztp\" => \"zap\", \"zyg\" => \"zha\", \"aii\" => \"syr\", \"gno\" => \"gon\", \"azj\" => \"aze\", \"srp\" => \"hbs\", \"nan\" => \"zho\", \"sfm\" => \"hmn\", \"muq\" => \"hmn\", \"kmr\" => \"kur\", \"jat\" => \"lah\", \"ztx\" => \"zap\", \"enb\" => \"kln\", \"jax\" => \"msa\", \"mve\" => \"mwr\", \"lko\" => \"luy\", \"shu\" => \"ara\", \"zpi\" => \"zap\", \"qxl\" => \"que\", \"als\" => \"sqi\", \"uzs\" => \"uzb\", \"gbo\" => \"grb\", \"msh\" => \"mlg\", \"ffm\" => \"ful\", \"huj\" => \"hmn\", \"ikt\" => \"iku\", \"zzj\" => \"zha\", \"qxw\" => \"que\", \"pnb\" => \"lah\", \"cdo\" => \"zho\", \"zmi\" => \"msa\", \"obk\" => \"bnc\", \"hji\" => \"msa\", \"qvl\" => \"que\", \"qxn\" => \"que\", \"swv\" => \"mwr\", \"bos\" => \"hbs\", \"zty\" => \"zap\", \"zts\" => \"zap\", \"qvs\" => \"que\", \"qvw\" => \"que\", \"czh\" => \"zho\", \"lcf\" => \"msa\", \"zoo\" => \"zap\", \"kwy\" => \"kon\", \"koi\" => \"kom\", \"cnr\" => \"hbs\", \"esi\" => \"ipk\", \"ojg\" => \"oji\", \"zch\" => \"zha\", \"vkt\" => \"msa\", \"abh\" => \"ara\", \"xmw\" => \"mlg\", \"emk\" => \"man\", \"zhd\" => \"zha\", \"qug\" => \"que\", \"bhk\" => \"bik\", \"ckb\" => \"kur\", \"fuh\" => \"ful\", \"zad\" => \"zap\", \"ubl\" => \"bik\", \"ida\" => \"luy\", \"mly\" => \"msa\", \"src\" => \"srd\", \"quf\" => \"que\", \"txy\" => \"mlg\", \"pga\" => \"ara\", \"hdn\" => \"hai\", \"csw\" => \"cre\", \"ayc\" => \"aym\", \"pse\" => \"msa\", \"lto\" => \"luy\", \"qva\" => \"que\", \"crm\" => \"cre\", \"spv\" => \"ori\", \"qud\" => \"que\", \"zac\" => \"zap\", \"ztq\" => \"zap\", \"rmw\" => \"rom\", \"kng\" => \"kon\", \"dks\" => \"din\", \"fuv\" => \"ful\", \"btj\" => \"msa\", \"qxu\" => \"que\", \"ory\" => \"ori\", \"acq\" => \"ara\", \"bgq\" => \"raj\", \"qws\" => \"que\", \"gec\" => \"grb\", \"esk\" => \"ipk\", \"hax\" => \"hai\", \"mw"
     ]
    },
    {
     "name": "stdout",
     "output_type": "stream",
     "text": [
      "k\" => \"man\", \"eyo\" => \"kln\", \"tuy\" => \"kln\", \"urk\" => \"msa\", \"hms\" => \"hmn\", \"qvh\" => \"que\", \"hmw\" => \"hmn\", \"ojb\" => \"oji\", \"hsn\" => \"zho\", \"bcl\" => \"bik\", \"rwr\" => \"mwr\", \"zpm\" => \"zap\", \"zph\" => \"zap\", \"quy\" => \"que\", \"hmp\" => \"hmn\", \"dgo\" => \"doi\", \"ttq\" => \"tmh\", \"yih\" => \"yid\", \"pel\" => \"msa\", \"qvz\" => \"que\")"
     ]
    }
   ],
   "source": [
    "Dict((k,v) for (k,v) in eachrow(MT[!, [:I_Id, :M_Id]]) if !isempty(k))|>print"
   ]
  },
  {
   "cell_type": "code",
   "execution_count": 21,
   "metadata": {},
   "outputs": [
    {
     "data": {
      "text/plain": [
       "Dict{String, String} with 454 entries:\n",
       "  \"cnp\"   => \"zho\"\n",
       "  \"zca\"   => \"zap\"\n",
       "  \"zpe\"   => \"zap\"\n",
       "  \"qvn\"   => \"que\"\n",
       "  \"zaw\"   => \"zap\"\n",
       "  \"mww\"   => \"hmn\"\n",
       "  \"xhe\"   => \"lah\"\n",
       "  \"taq\"   => \"tmh\"\n",
       "  \"qwh\"   => \"que\"\n",
       "  \"nob\"   => \"nor\"\n",
       "  \"ayl\"   => \"ara\"\n",
       "  \"bln\"   => \"bik\"\n",
       "  \"ztt\"   => \"zap\"\n",
       "  \"zeh\"   => \"zha\"\n",
       "  \"grv\\n\" => \"grb\"\n",
       "  \"qux\"   => \"que\"\n",
       "  \"ltg\"   => \"lav\"\n",
       "  \"quk\"   => \"que\"\n",
       "  \"ztn\"   => \"zap\"\n",
       "  ⋮       => ⋮"
      ]
     },
     "metadata": {},
     "output_type": "display_data"
    }
   ],
   "source": [
    "iid_mid = Dict(\"cnp\" => \"zho\", \"zca\" => \"zap\", \"zpe\" => \"zap\", \"qvn\" => \"que\", \"zaw\" => \"zap\", \"mww\" => \"hmn\", \"xhe\" => \"lah\", \"taq\" => \"tmh\", \"qwh\" => \"que\", \"nob\" => \"nor\", \"ayl\" => \"ara\", \"bln\" => \"bik\", \"ztt\" => \"zap\", \"zeh\" => \"zha\", \"qux\" => \"que\", \"ltg\" => \"lav\", \"quk\" => \"que\", \"ztn\" => \"zap\", \"bxk\" => \"luy\", \"rmc\" => \"rom\", \"esg\" => \"gon\", \"cpx\" => \"zho\", \"msi\" => \"msa\", \"bxm\" => \"bua\", \"zai\" => \"zap\", \"zaa\" => \"zap\", \"zar\" => \"zap\", \"hmq\" => \"hmn\", \"crl\" => \"cre\", \"sdc\" => \"srd\", \"gaz\" => \"orm\", \"hmj\" => \"hmn\", \"hae\" => \"orm\", \"rml\" => \"rom\", \"pes\" => \"fas\", \"hml\" => \"hmn\", \"zpk\" => \"zap\", \"ccy\" => \"zha\", \"zlj\" => \"zha\", \"bhr\" => \"mlg\", \"zao\" => \"zap\", \"hme\" => \"hmn\", \"bvu\" => \"msa\", \"bjn\" => \"msa\", \"kvb\" => \"msa\", \"pbt\" => \"pus\", \"hak\" => \"zho\", \"ydd\" => \"yid\", \"scs\" => \"den\", \"tec\" => \"kln\", \"zpp\" => \"zap\", \"rmy\" => \"rom\", \"kxd\" => \"msa\", \"gda\" => \"raj\", \"qwa\" => \"que\", \"diq\" => \"zza\", \"qur\" => \"que\", \"zsr\" => \"zap\", \"gun\" => \"grn\", \"arb\" => \"ara\", \"mnp\" => \"zho\", \"zpq\" => \"zap\", \"mhr\" => \"chm\", \"fuc\" => \"ful\", \"acm\" => \"ara\", \"sro\" => \"srd\", \"bxr\" => \"bua\", \"liw\" => \"msa\", \"gmm\" => \"gba\", \"gnw\" => \"grn\", \"apc\" => \"ara\", \"ebk\" => \"bnc\", \"cqd\" => \"hmn\", \"ojs\" => \"oji\", \"lks\" => \"luy\", \"pbu\" => \"pus\", \"dip\" => \"din\", \"zcd\" => \"zap\", \"ayp\" => \"ara\", \"qvc\" => \"que\", \"thv\" => \"tmh\", \"khk\" => \"mon\", \"vbk\" => \"bnc\", \"rmo\" => \"rom\", \"bdt\" => \"gba\", \"zpl\" => \"zap\", \"zpn\" => \"zap\", \"knn\" => \"kok\", \"mdo\" => \"gba\", \"hmm\" => \"hmn\", \"hea\" => \"hmn\", \"lvs\" => \"lav\", \"vro\" => \"est\", \"wbr\" => \"raj\", \"ssh\" => \"ara\", \"qxa\" => \"que\", \"aju\" => \"jrb\", \"crk\" => \"cre\", \"xsl\" => \"den\", \"hmz\" => \"hmn\", \"jak\" => \"msa\", \"yud\" => \"jrb\", \"hoj\" => \"raj\", \"bcc\" => \"bal\", \"ars\" => \"ara\", \"wry\" => \"mwr\", \"lce\" => \"msa\", \"sdh\" => \"kur\", \"ciw\" => \"oji\", \"zpr\" => \"zap\", \"mvf\" => \"mon\", \"zyn\" => \"zha\", \"qxp\" => \"que\", \"gbq\" => \"gba\", \"tmw\" => \"msa\", \"bto\" => \"bik\", \"hma\" => \"hmn\", \"gax\" => \"orm\", \"mfb\" => \"msa\", \"kiu\" => \"zza\", \"afb\" => \"ara\", \"ors\" => \"msa\", \"mqg\" => \"msa\", \"zps\" => \"zap\", \"zln\" => \"zha\", \"zgm\" => \"zha\", \"nno\" => \"nor\", \"gju\" => \"raj\", \"acw\" => \"ara\", \"bgp\" => \"bal\", \"ggo\" => \"gon\", \"rbl\" => \"bik\", \"hrm\" => \"hmn\", \"quz\" => \"que\", \"arz\" => \"ara\", \"avl\" => \"ara\", \"rbk\" => \"bnc\", \"sgc\" => \"kln\", \"krt\" => \"kau\", \"tkg\" => \"mlg\", \"wsg\" => \"gon\", \"csp\" => \"zho\", \"bjq\" => \"mlg\", \"mlq\" => \"man\", \n",
    "\"myq\" => \"man\", \"abv\" => \"ara\", \"gug\" => \"grn\", \"msc\" => \"man\", \"swc\" => \"swa\", \"zpz\" => \"zap\", \"apd\" => \"ara\", \"niq\" => \"kln\", \"fat\" => \"aka\", \"bgn\" => \"bal\", \"ztl\" => \"zap\", \"orc\" => \"orm\", \"bzc\" => \"mlg\", \"hrv\" => \"hbs\", \"lkb\" => \"luy\", \"dhd\" => \"mwr\", \"prs\" => \"fas\", \"gkp\" => \"kpe\", \"zpx\" => \"zap\", \"ojc\" => \"oji\", \"auz\" => \"ara\", \"lsm\" => \"luy\", \"qvj\" => \"que\", \"spy\" => \"kln\", \"hmd\" => \"hmn\", \"qul\" => \"que\", \"zas\" => \"zap\", \"mrj\" => \"chm\", \"xmm\" => \"msa\", \"dik\" => \"din\", \"fue\" => \"ful\", \"adf\" => \"ara\", \"qub\" => \"que\", \"dup\" => \"msa\", \"gan\" => \"zho\", \"zav\" => \"zap\", \"nhd\" => \"grn\", \"dty\" => \"nep\", \"qvp\" => \"que\", \"lrm\" => \"luy\", \"qwc\" => \"que\", \"knc\" => \"kau\", \"phr\" => \"lah\", \"ayr\" => \"aym\", \"crj\" => \"cre\", \"rag\" => \"luy\", \"ajt\" => \"jrb\", \"coa\" => \"msa\", \"min\" => \"msa\", \"ccx\" => \"zha\", \"zlq\" => \"zha\", \"fub\" => \"ful\", \"uzn\" => \"uzb\", \"aao\" => \"ara\", \"mfa\" => \"msa\", \"qup\" => \"que\", \"zat\" => \"zap\", \"xmv\" => \"mlg\", \"dib\" => \"din\", \"plt\" => \"mlg\", \"fuf\" => \"ful\", \"cqu\" => \"que\", \"rmn\" => \"rom\", \"swh\" => \"swa\", \"cld\" => \"syr\", \"ekk\" => \"est\", \"ztg\" => \"zap\", \"ldi\" => \"kon\", \"cjy\" => \"zho\", \"qxr\" => \"que\", \"zpd\" => \"zap\", \"mtr\" => \"mwr\", \"zlm\" => \"msa\", \"nle\" => \"luy\", \"qxc\" => \"que\", \"zab\" => \"zap\", \"mku\" => \"man\", \"otw\" => \"oji\", \"ike\" => \"iku\", \"kvr\" => \"msa\", \"mup\" => \"raj\", \"zqe\" => \"zha\", \"pst\" => \"pus\", \"mnk\" => \"man\", \"zgn\" => \"zha\", \"ayh\" => \"ara\", \"cts\" => \"bik\", \"grj\" => \"grb\", \"qxo\" => \"que\", \"ojw\" => \"oji\", \"umu\" => \"del\", \"fuq\" => \"ful\", \"oki\" => \"kln\", \"blu\" => \"hmn\", \"lri\" => \"luy\", \"tdx\" => \"mlg\", \"zpv\" => \"zap\", \"wuu\" => \"zho\", \"qvi\" => \"que\", \"zte\" => \"zap\", \"gso\" => \"gba\", \"hmi\" => \"hmn\", \"zam\" => \"zap\", \"zsm\" => \"msa\", \"ary\" => \"ara\", \"diw\" => \"din\", \"hno\" => \"lah\", \"nyd\" => \"luy\", \"fbl\" => \"bik\", \"qxt\" => \"que\", \"zae\" => \"zap\", \"czo\" => \"zho\", \"bmm\" => \"mlg\", \"fui\" => \"ful\", \"ztc\" => \"zap\", \"max\" => \"msa\", \"zyj\" => \"zha\", \"aeb\" => \"ara\", \"zpa\" => \"zap\", \"bbz\" => \"ara\", \"zpj\" => \"zap\", \"zpo\" => \"zap\", \"hmh\" => \"hmn\", \"bve\" => \"msa\", \"zpy\" => \"zap\", \"zpc\" => \"zap\", \"quw\" => \"que\", \"zgb\" => \"zha\", \"gry\" => \"grb\", \"lbl\" => \"bik\", \"kby\" => \"kau\", \"mui\" => \"msa\", \"acx\" => \"ara\", \"zpb\" => \"zap\", \"ajp\" => \"ara\", \"lts\" => \"luy\", \"bxu\" => \"bua\", \"xpe\" => \"kpe\", \"zpt\" => \"zap\", \"grv\n",
    "\" => \"grb\", \"zhn\" => \"zha\", \"aae\" => \"sqi\", \"gbp\" => \"gba\", \"qve\" => \"que\", \"hmy\" => \"hmn\", \"gya\" => \"gba\", \"gui\" => \"grn\", \"vkk\" => \"msa\", \"unm\" => \"del\", \"qvo\" => \"que\", \"zpf\" => \"zap\", \"kpv\" => \"kom\", \"arq\" => \"ara\", \"gom\" => \"kok\", \"twi\" => \"aka\", \"hmc\" => \"hmn\", \"jye\" => \"jrb\", \"lbk\" => \"bnc\", \"hnj\" => \"hmn\", \"yhd\" => \"jrb\", \"lwg\" => \"luy\", \"yue\" => \"zho\", \"ztu\" => \"zap\", \"npi\" => \"nep\", \"hnd\" => \"lah\", \"pmu\" => \"lah\", \"zpu\" => \"zap\", \"meo\" => \"msa\", \"skr\" => \"lah\", \"hmg\" => \"hmn\", \"qxh\" => \"que\", \"skg\" => \"mlg\", \"aat\" => \"sqi\", \"zaf\" => \"zap\", \"cmn\" => \"zho\", \"ayn\" => \"ara\", \"qus\" => \"que\", \"orn\" => \"msa\", \"azb\" => \"aze\", \"qvm\" => \"que\", \"zax\" => \"zap\", \"ind\" => \"msa\", \"zpw\" => \"zap\", \"mmr\" => \"hmn\", \"aln\" => \"sqi\", \"pko\" => \"kln\", \"rmf\" => \"rom\", \"zaq\" => \"zap\", \"zpg\" => \"zap\", \"aec\" => \"ara\", \"sdn\" => \"srd\", \"acy\" => \"ara\", \"ztm\" => \"zap\", \"zyb\" => \"zha\", \"lzh\" => \"zho\", \"quh\" => \"que\", \"thz\" => \"tmh\", \"xnr\" => \"doi\", \"cwd\" => \"cre\", \"ztp\" => \"zap\", \"zyg\" => \"zha\", \"aii\" => \"syr\", \"gno\" => \"gon\", \"azj\" => \"aze\", \"srp\" => \"hbs\", \"nan\" => \"zho\", \"sfm\" => \"hmn\", \"muq\" => \"hmn\", \"kmr\" => \"kur\", \"jat\" => \"lah\", \"ztx\" => \"zap\", \"enb\" => \"kln\", \"jax\" => \"msa\", \"mve\" => \"mwr\", \"lko\" => \"luy\", \"shu\" => \"ara\", \"zpi\" => \"zap\", \"qxl\" => \"que\", \"als\" => \"sqi\", \"uzs\" => \"uzb\", \"gbo\" => \"grb\", \"msh\" => \"mlg\", \"ffm\" => \"ful\", \"huj\" => \"hmn\", \"ikt\" => \"iku\", \"zzj\" => \"zha\", \"qxw\" => \"que\", \"pnb\" => \"lah\", \"cdo\" => \"zho\", \"zmi\" => \"msa\", \"obk\" => \"bnc\", \"hji\" => \"msa\", \"qvl\" => \"que\", \"qxn\" => \"que\", \"swv\" => \"mwr\", \"bos\" => \"hbs\", \"zty\" => \"zap\", \"zts\" => \"zap\", \"qvs\" => \"que\", \"qvw\" => \"que\", \"czh\" => \"zho\", \"lcf\" => \"msa\", \"zoo\" => \"zap\", \"kwy\" => \"kon\", \"koi\" => \"kom\", \"cnr\" => \"hbs\", \"esi\" => \"ipk\", \"ojg\" => \"oji\", \"zch\" => \"zha\", \"vkt\" => \"msa\", \"abh\" => \"ara\", \"xmw\" => \"mlg\", \"emk\" => \"man\", \"zhd\" => \"zha\", \"qug\" => \"que\", \"bhk\" => \"bik\", \"ckb\" => \"kur\", \"fuh\" => \"ful\", \"zad\" => \"zap\", \"ubl\" => \"bik\", \"ida\" => \"luy\", \"mly\" => \"msa\", \"src\" => \"srd\", \"quf\" => \"que\", \"txy\" => \"mlg\", \"pga\" => \"ara\", \"hdn\" => \"hai\", \"csw\" => \"cre\", \"ayc\" => \"aym\", \"pse\" => \"msa\", \"lto\" => \"luy\", \"qva\" => \"que\", \"crm\" => \"cre\", \"spv\" => \"ori\", \"qud\" => \"que\", \"zac\" => \"zap\", \"ztq\" => \"zap\", \"rmw\" => \"rom\", \"kng\" => \"kon\", \"dks\" => \"din\", \"fuv\" => \"ful\", \"btj\" => \"msa\", \"qxu\" => \"que\", \"ory\" => \"ori\", \"acq\" => \"ara\", \"bgq\" => \"raj\", \"qws\" => \"que\", \"gec\" => \"grb\", \"esk\" => \"ipk\", \"hax\" => \"hai\", \"mw\n",
    "k\" => \"man\", \"eyo\" => \"kln\", \"tuy\" => \"kln\", \"urk\" => \"msa\", \"hms\" => \"hmn\", \"qvh\" => \"que\", \"hmw\" => \"hmn\", \"ojb\" => \"oji\", \"hsn\" => \"zho\", \"bcl\" => \"bik\", \"rwr\" => \"mwr\", \"zpm\" => \"zap\", \"zph\" => \"zap\", \"quy\" => \"que\", \"hmp\" => \"hmn\", \"dgo\" => \"doi\", \"ttq\" => \"tmh\", \"yih\" => \"yid\", \"pel\" => \"msa\", \"qvz\" => \"que\")"
   ]
  },
  {
   "cell_type": "code",
   "execution_count": 103,
   "metadata": {},
   "outputs": [
    {
     "data": {
      "text/plain": [
       "stdid (generic function with 2 methods)"
      ]
     },
     "metadata": {},
     "output_type": "display_data"
    }
   ],
   "source": [
    "part1toid(c) = part1_id[c]\n",
    "id2mid(c) = iid_mid[c]\n",
    "function stdid(c, check=false)\n",
    "    c = get(part1_id, c, c)\n",
    "    c = get(iid_mid, c, c)\n",
    "    if check\n",
    "        c in id_all || println(\"missing $c\")\n",
    "    end\n",
    "    c in id_all ? c : \"?$c\"\n",
    "end"
   ]
  },
  {
   "cell_type": "code",
   "execution_count": 25,
   "metadata": {},
   "outputs": [
    {
     "name": "stdout",
     "output_type": "stream",
     "text": [
      "Set([\"lyn\", \"psy\", \"sgp\", \"ont\", \"loy\", \"iin\", \"glw\", \"fau\", \"sdk\", \"eze\", \"sgh\", \"vmw\", \"ztt\", \"ksj\", \"kux\", \"moq\", \"bkc\", \"bxk\", \"kwf\", \"isd\", \"kti\", \"wbp\", \"gek\", \"wyb\", \"lvk\", \"khl\", \"mpb\", \"wwb\", \"zpk\", \"gyf\", \"xpj\", \"anz\", \"bgs\", \"khs\", \"osu\", \"nru\", \"auo\", \"cia\", \"wrv\", \"gmn\", \"jda\", \"hak\", \"sbc\", \"keg\", \"pez\", \"soz\", \"mtp\", \"aeq\", \"bbw\", \"fun\", \"nju\", \"skv\", \"ggd\", \"ssr\", \"ukk\", \"til\", \"gwm\", \"mae\", \"yim\", \"mdp\", \"yor\", \"jje\", \"skp\", \"mrc\", \"ssu\", \"kue\", \"yuk\", \"khv\", \"ofo\", \"aih\", \"bqy\", \"dny\", \"liu\", \"pno\", \"pmo\", \"tza\", \"ksw\", \"lks\", \"pow\", \"aof\", \"piy\", \"vau\", \"byn\", \"tdb\", \"ygs\", \"zaj\", \"ile\", \"gay\", \"hrk\", \"kcx\", \"pot\", \"kdz\", \"rej\", \"omy\", \"tes\", \"hea\", \"sui\", \"amk\", \"bsp\", \"fir\", \"bbn\", \"bxw\", \"swl\", \"xtg\", \"crk\", \"jum\", \"rim\", \"lse\", \"mot\", \"sde\", \"olr\", \"mqf\", \"wbf\", \"kye\", \"nut\", \"pum\", \"jru\", \"mti\", \"bju\", \"ycr\", \"nbt\", \"kyo\", \"anb\", \"zik\", \"ndi\", \"tvk\", \"amr\", \"mov\", \"ggb\", \"afb\", \"muz\", \"lka\", \"nup\", \"noa\", \"wle\", \"bqj\", \"zmh\", \"kiw\", \"aym\", \"sep\", \"hil\", \"arv\", \"kpe\", \"stn\", \"kdj\", \"reg\", \"yaz\", \"ksy\", \"saj\", \"mtg\", \"ghr\", \"wsg\", \"mlq\", \"kfa\", \"pna\", \"dub\", \"lbu\", \"msc\", \"kay\", \"elh\", \"njz\", \"lsn\", \"rob\", \"tuv\", \"skc\", \"xud\", \"ymn\", \"dtr\", \"apb\", \"idi\", \"jgo\", \"sov\", \"uig\", \"xeb\", \"haj\", \"kxk\", \"mxk\", \"ckr\", \"xpk\", \"lie\", \"mlj\", \"tnx\", \"beg\", \"wah\", \"qvj\", \"ytw\", \"mtt\", \"brt\", \"aum\", \"goj\", \"gon\", \"koc\", \"mbv\", \"bse\", \"agr\", \"azo\", \"mzo\", \"nbh\", \"tsv\", \"snd\", \"aru\", \"apj\", \"kyz\", \"ylb\", \"gpe\", \"tep\", \"gwf\", \"wrs\", \"usk\", \"vmr\", \"sve\", \"bnq\", \"csi\", \"ump\", \"tnz\", \"ggk\", \"kxj\", \"fil\", \"kba\", \"tsl\", \"tun\", \"nrn\", \"nlo\", \"apl\", \"siy\", \"wgg\", \"huv\", \"suo\", \"swj\", \"slu\", \"hss\", \"tra\", \"dtm\", \"nsg\", \"osa\", \"nks\", \"peh\", \"eki\", \"glg\", \"lok\", \"jpa\", \"rjs\", \"xwe\", \"iqu\", \"kxv\", \"mzr\", \"gnt\""
     ]
    },
    {
     "name": "stdout",
     "output_type": "stream",
     "text": [
      ", \"pid\", \"tjp\", \"zxx\", \"sbk\", \"kwj\", \"mgq\", \"msz\", \"tqp\", \"bmf\", \"vsl\", \"tgq\", \"wku\", \"pcp\", \"lez\", \"cks\", \"mxx\", \"ary\", \"mfr\", \"xtu\", \"jao\", \"bwr\", \"mlh\", \"peq\", \"sim\", \"lah\", \"mnx\", \"aua\", \"luv\", \"pas\", \"bin\", \"bud\", \"lop\", \"gdl\", \"mvt\", \"che\", \"mdu\", \"nrx\", \"kqh\", \"swk\", \"yer\", \"bsx\", \"rbp\", \"tzn\", \"hye\", \"aek\", \"vol\", \"xuu\", \"mls\", \"wxw\", \"kdl\", \"aan\", \"grw\", \"vis\", \"bmv\", \"xib\", \"ese\", \"hrt\", \"tmr\", \"kym\", \"mjn\", \"kqp\", \"vkm\", \"jog\", \"yda\", \"fos\", \"mxh\", \"jku\", \"ubi\", \"bwu\", \"crn\", \"mgw\", \"anw\", \"orm\", \"khb\", \"abx\", \"bmc\", \"nmg\", \"tan\", \"cte\", \"adw\", \"gmz\", \"btv\", \"gzi\", \"nia\", \"ylo\", \"srd\", \"zpu\", \"xzh\", \"rgk\", \"alh\", \"mty\", \"okv\", \"gce\", \"ugo\", \"nca\", \"iar\", \"yns\", \"spp\", \"trx\", \"kxo\", \"zaq\", \"xtw\", \"ldj\", \"msd\", \"ztm\", \"abz\", \"aqg\", \"nbs\", \"bnb\", \"pur\", \"dbw\", \"tuk\", \"xgd\", \"jbo\", \"rjg\", \"xnr\", \"dho\", \"ksd\", \"aaz\", \"aii\", \"bjf\", \"bnf\", \"puj\", \"grb\", \"xsp\", \"eso\", \"css\", \"bbf\", \"cce\", \"gbi\", \"gie\", \"hop\", \"djn\", \"cho\", \"bry\", \"mam\", \"mhj\", \"wdu\", \"wet\", \"wos\", \"awr\", \"mgr\", \"buz\", \"bio\", \"err\", \"hhy\", \"uzs\", \"ekp\", \"gej\", \"kml\", \"wua\", \"roo\", \"cwb\", \"rei\", \"mxi\", \"liv\", \"atu\", \"ggt\", \"asg\", \"nnt\", \"gbr\", \"zty\", \"mcs\", \"czh\", \"bxs\", \"has\", \"kxy\", \"svm\", \"slw\", \"abh\", \"oss\", \"cpi\", \"ywq\", \"snm\", \"dbg\", \"crv\", \"zad\", \"blf\", \"dad\", \"bal\", \"kyt\", \"mce\", \"eth\", \"tbf\", \"nyy\", \"pty\", \"xvn\", \"hdn\", \"nmr\", \"pga\", \"dij\", \"lto\", \"oac\", \"ury\", \"qud\", \"akg\", \"ebr\", \"whk\", \"dlk\", \"dks\", \"mkk\", \"xsu\", \"nkb\", \""
     ]
    },
    {
     "name": "stdout",
     "output_type": "stream",
     "text": [
      "viv\", \"guj\", \"xwt\", \"tnl\", \"zbw\", \"chc\", \"xco\", \"nna\", \"lns\", \"xpl\", \"sgz\", \"mci\", \"ixl\", \"csh\", \"krx\", \"kyx\", \"mlp\", \"nlc\", \"pbv\", \"pog\", \"gmv\", \"ykl\", \"ikl\", \"ywr\", \"ksu\", \"asz\", \"bqw\", \"sez\", \"ulf\", \"wwa\", \"xnh\", \"mze\", \"maq\", \"jal\", \"knr\", \"pop\", \"wed\", \"qvn\", \"tpn\", \"imr\", \"izh\", \"bvm\", \"tcy\", \"swi\", \"waw\", \"teb\", \"ium\", \"aoa\", \"trj\", \"qwt\", \"kkg\", \"pkn\", \"kgj\", \"tcl\", \"cli\", \"bsa\", \"dww\", \"law\", \"bxe\", \"wab\", \"amt\", \"zai\", \"zsa\", \"gng\", \"cas\", \"vaj\", \"sct\", \"oyy\", \"sdo\", \"mvz\", \"gum\", \"mph\", \"nsm\", \"smm\", \"wth\", \"txj\", \"ntg\", \"sbt\", \"skf\", \"oka\", \"pmn\", \"anp\", \"pnm\", \"muy\", \"gyb\", \"thi\", \"bta\", \"pdn\", \"xpx\", \"tiz\", \"rmz\", \"stp\", \"bfp\", \"frp\", \"kvw\", \"ypo\", \"mdf\", \"cuy\", \"bov\", \"bkf\", \"kcv\", \"gsm\", \"ctz\", \"mgo\", \"miz\", \"shj\", \"tct\", \"mfg\", \"xso\", \"wro\", \"xna\", \"pmr\", \"mrt\", \"ojs\", \"lbb\", \"nka\", \"ynn\", \"bgy\", \"inz\", \"lvi\", \"miu\", \"ltu\", \"plh\", \"agy\", \"klu\", \"kxx\", \"mhx\", \"jmn\", \"omk\", \"jdg\", \"got\", \"dar\", \"mgn\", \"cbk\", \"cma\", \"kmu\", \"xku\", \"nkd\", \"ptn\", \"mgi\", \"wdy\", \"xlp\", \"ecr\", \"xlb\", \"mse\", \"jak\", \"rxd\", \"scu\", \"tpq\", \"bhe\", \"rkw\", \"xpc\", \"zgh\", \"kug\", \"mmo\", \"esl\", \"biz\", \"jra\", \"wry\", \"dkr\", \"mas\", \"tmw\", \"myo\", \"bix\", \"gax\", \"aky\", \"kkf\", \"ikz\", \"brv\", \"awb\", \"med\", \"kvp\", \"pnh\", \"ndf\", \"iby\", \"kza\", \"etx\", \"sjs\", \"rbk\", \"smj\", \"tpg\", \"ebu\", \"xcl\", \"clh\", \"tnk\", \"mxm\", \"nre\", \"isn\", \"abd\", \"tli\", \"ili\", \"wka\", \"did\", \"ahi\", \"fln\", \"lkm\", \"vas\", \"mjk\","
     ]
    },
    {
     "name": "stdout",
     "output_type": "stream",
     "text": [
      " \"mio\", \"aui\", \"ssd\", \"tnv\", \"osi\", \"jad\", \"mni\", \"pbg\", \"sjk\", \"grt\", \"sae\", \"xgu\", \"keo\", \"hra\", \"kis\", \"lmp\", \"kpk\", \"myj\", \"ibu\", \"spy\", \"wrk\", \"ali\", \"byh\", \"tab\", \"wss\", \"gni\", \"tck\", \"aoz\", \"tom\", \"esu\", \"khj\", \"csg\", \"bkq\", \"bhj\", \"kmc\", \"omt\", \"pzn\", \"gew\", \"kyu\", \"tif\", \"csv\", \"jbe\", \"kul\", \"mfp\", \"mjs\", \"xtm\", \"dak\", \"bzq\", \"mwh\", \"gor\", \"jih\", \"ikp\", \"bol\", \"pca\", \"ulw\", \"mcz\", \"tmc\", \"xxt\", \"aaq\", \"sqt\", \"tba\", \"sna\", \"bcb\", \"jna\", \"pup\", \"sik\", \"klj\", \"kyf\", \"dia\", \"zmy\", \"kvh\", \"djr\", \"phm\", \"btd\", \"kny\", \"zgn\", \"xum\", \"ikw\", \"leh\", \"vai\", \"fuq\", \"gye\", \"smp\", \"bdp\", \"skd\", \"tke\", \"oki\", \"gde\", \"oma\", \"dus\", \"gwg\", \"pdu\", \"lre\", \"ddr\", \"kcc\", \"ray\", \"kbd\", \"khz\", \"iii\", \"sme\", \"qwm\""
     ]
    },
    {
     "name": "stdout",
     "output_type": "stream",
     "text": [
      ", \"xbg\", \"plo\", \"bkl\", \"nke\", \"zhw\", \"olk\", \"ymk\", \"mua\", \"mqq\", \"saf\", \"bug\", \"tcn\", \"ada\", \"gnh\", \"igg\", \"lis\", \"csj\", \"dsb\", \"oum\", \"soi\", \"mha\", \"mor\", \"cie\", \"dav\", \"dln\", \"poi\", \"bwl\", \"xmu\", \"gid\", \"poo\", \"cuo\", \"alt\", \"gnr\", \"bmo\", \"kne\", \"rsw\", \"ace\", \"bwq\", \"xhm\", \"lwu\", \"tow\", \"kka\", \"eli\", \"jye\", \"bon\", \"yhd\", \"tbt\", \"dds\", \"trp\", \"kzd\", \"pta\", \"tlu\", \"oht\", \"ybe\", \"ohu\", \"ctp\", \"jii\", \"wgo\", \"woo\", \"xmc\", \"dba\", \"omc\", \"khu\", \"lue\", \"olt\", \"bbj\", \"bik\", \"crf\", \"bxp\", \"wxa\", \"mle\", \"nyv\", \"mkd\", \"bag\", \"etb\", \"kmy\", \"lnj\", \"pig\", \"vsv\", \"bqo\", \"hal\", \"wlm\", \"uly\", \"ynd\", \"ify\", \"omb\", \"cac\", \"mqb\", \"ygi\", \"vmd\", \"kwc\", \"pua\", \"thn\", \"goy\", \"pgk\", \"ahn\", \"ssm\", \"pak\", \"sot\", \"gkn\", \"pad\", \"rys\", \"xkx\", \"guo\", \"lby\", \"kij\", \"eka\", \"ise\", \"fkv\", \"ara\", \"pmf\", \"jut\", \"lku\", \"bzf\", \"elk\", \"ato\", \"bar\", \"koh\", \"ttf\", \"tsz\", \"phh\", \"hbo\", \"sol\", \"aze\", \"ppt\", \"nnm\", \"hol\", \"enm\", \"tsm\", \"loq\", \"mlz\", \"ree\", \"lir\", \"bcq\", \"mqw\", \"owl\", \"hig\", \"xzm\", \"ckn\", \"mvw\", \"aer\", \"aab\", \"bco\", \"agj\", \"nla\", \"yiu\", \"cta\", \"mid\", \"ifa\", \"tlj\", \"ykm\", \"lsp\", \"tlc\", \"grz\", \"pwo\", \"gvj\", \"mqm\", \"mrd\", \"phq\", \"ksx\", \"piv\", \"drt\", \"cya\", \"big\", \"bkk\", \"cib\", \"mtj\", \"njb\", \"sau\", \"syn\", \"gjn\", \"mnc\", \"gse\", \"kpw\", \"btz\", \"crw\", \"hsn\", \"juk\", \"ojb\", \"tkv\", \"vkl\", \"nsz\", \"xgb\", \"ptu\", \"tgd\", \"buu\", \"kcf\", \"zph\", \"isl\", \"kdf\", \"mtl\", \"awh\", \"cll\", \"rmh\", \"dmb\", \"ahs\", \"isi\", \"kch\", \"lkl\", \"tir\", \"wmi\", \"gau\", \"phl\", \"zaw\", \"lui\", \"kmo\", \"wea\", \"yui\", \"axm\", \"kwr\", \"hmo\", \"spg\", \"eja\", \"mrr\", \"okc\", \"kso\", \"mem\", \"zmm\", \"das\", \"des\", \"nmn\", \"sge\", \"kqq\", \"xdo\", \"luy\", \"jer\", \"bvf\", \"hml\", \"bmt\", \"ctt\", \"age\", \"bnp\", \"nab\", \"ihw\", \"gva\", \"cul\", \"ahp\", \"ajw\", \"lgr\", \"var\", \"zen\", \"coo\", \"ema\", \"kzm\", \"nay\", \"ryn\", \"ydd\", \"byw\", \"pth\", \"ino\", \"vto\", \"yis\", \"cnc\", \"mfv\", \"lac\", \""
     ]
    },
    {
     "name": "stdout",
     "output_type": "stream",
     "text": [
      "lls\", \"bez\", \"dnv\", \"ako\", \"tyz\", \"kun\", \"olu\", \"qur\", \"mpu\", \"aty\", \"amx\", \"cdj\", \"sqa\", \"sro\", \"fon\", \"huk\", \"nvh\", \"mlr\", \"gby\", \"cuq\", \"sek\", \"kpi\", \"myp\", \"nav\", \"whg\", \"emu\", \"frt\", \"kjt\", \"dur\", \"kld\", \"ttv\", \"bfg\", \"lat\", \"arw\", \"kud\", \"itk\", \"kew\", \"nsk\", \"ldn\", \"dru\", \"juo\", \"hag\", \"vra\", \"kdt\", \"agi\", \"tqt\", \"ymz\", \"tjg\", \"tny\", \"kwm\", \"msa\", \"kqd\", \"uky\", \"klw\", \"kvn\", \"sfw\", \"kfw\", \"xsh\", \"nsa\", \"kqn\", \"mul\", \"tqm\", \"weo\", \"zem\", \"bqz\", \"aia\", \"ngd\", \"hne\", \"rnl\", \"sdx\", \"kvg\", \"fin\", \"faz\", \"cal\", \"svx\", \"afg\", \"gbq\", \"khp\", \"pcf\", \"crt\", \"piu\", \"ert\", \"tbk\", \"tug\", \"xoi\", \"szy\", \"mqg\", \"nli\", \"pef\", \"uhn\", \"tpv\", \"put\", \"dec\", \"rdb\", \"nou\", \"krs\", \"bhy\", \"kxs\", \"peg\", \"wes\", \"psn\", \"csp\", \"bka\", \"srw\", \"arz\", \"dne\", \"glr\", \"oge\", \"wlr\", \"cps\", \"drb\", \"tva\", \"bgk\", \"dyi\", \"mjo\", \"rtm\", \"gss\", \"duo\", \"otr\", \"tsj\", \"apd\", \"gko\", \"afz\", \"mcd\", \"puc\", \"xpy\", \"kpd\", \"syb\", \"nnn\", \"mkz\", \"mqc\", \"uth\", \"ibn\", \"dga\", \"mqy\", \"mcn\", \"msx\", \"nop\", \"avi\", \"ndx\", \"wim\", \"tvu\", \"xww\", \"inn\", \"hmd\", \"kqk\", \"yky\", \"kbe\", \"aly\", \"trq\", \"mxy\", \"nye\", \"dup\", \"qxs\", \"mnq\", \"stj\", \"toj\", \"dbb\", \"qwc\", \"coe\", \"dmf\", \"kgr\", \"yir\", \"ays\", \"ven\", \"yad\", \"plk\", \"kjv\", \"jbm\", \"sds\", \"sea\", \"boj\", \"prk\", \"vmf\", \"cuv\", \"xvo\", \"aas\", \"tgf\", \"aom\", \"mvb\", \"nxm\", \"wtm\", \"xmv\", \"jnd\", \"mab\", \"ypb\", \"gqu\", \"thy\", \"abt\", \"jbk\", \"snr\", \"nwe\", \"bty\", \"bqr\", \"kbz\", \"was\", \"bzl\", \"iri\", \"bwd\", \"mku\", \"yba\", \"ttz\", \"sll\", \"pms\", \"knt\", \"lyg\", \"aor\", \"kii\", \"kvc\", \"emy\", \"zqe\", \"okx\", \"cfm\", \"air\", \"cbj\", \"glo\", \"kzn\", \"ppe\", \"wih\", \"syk\", \"xqa\", \"dju\", \"mnf\", \"rut\", \"wll\", \"omw\", \"nsc\", \"opo\", \"xmo\", \"nmf\", \"ish\", \"ets\", \"dwr\", \"bid\", \"lag\", \"ddg\", \"rkm\", \"lmx\", \"itw\", \"ktc\", \"ems\", \"amj\", \"hch\", \"liz\", \"djw\", \"aap\", \"gy"
     ]
    },
    {
     "name": "stdout",
     "output_type": "stream",
     "text": [
      "g\", \"xtj\", \"pbh\", \"sfs\", \"bcs\", \"fuj\", \"txn\", \"zak\", \"chk\", \"kbs\", \"crd\", \"oml\", \"lsi\", \"dto\", \"hkh\", \"nep\", \"skz\", \"xel\", \"awe\", \"env\", \"mpt\", \"ymm\", \"rit\", \"ami\", \"klv\", \"bpl\", \"xts\", \"kby\", \"wwr\", \"daz\", \"boh\", \"grc\", \"nwo\", \"mmx\", \"dti\", \"afk\", \"mmd\", \"yna\", \"sjo\", \"hwa\", \"mxa\", \"mix\", \"kez\", \"bsy\", \"jee\", \"nyc\", \"sti\", \"jac\", \"dhu\", \"apf\", \"pih\", \"gbh\", \"oon\", \"bey\", \"xgg\", \"lwg\", \"psa\", \"ajs\", \"aci\", \"kdu\", \"ore\", \"xsi\", \"vun\", \"ghc\", \"ckv\", \"ncl\", \"mco\", \"njh\", \"bui\", \"rah\", \"huz\", \"lib\", \"rnb\", \"cut\", \"ckq\", \"ava\", \"ttm\", \"nos\", \"iff\", \"auk\", \"nko\", \"biy\", \"dmo\", \"otm\", \"xpp\", \"lgq\", \"bwh\", \"dbo\", \"ues\", \"wul\", \"puu\", \"uvl\", \"xtn\", \"wym\", \"cah\", \"kfl\", \"aad\", \"dng\", \"ukg\", \"ans\", \"xat\", \"bvl\", \"cvg\", \"huj\", \"pkr\", \"tkz\", \"tvo\", \"una\", \"ncd\", \"vnk\", \"awc\", \"bua\", \"kmq\", \"ele\", \"kic\", \"ybi\", \"ibd\", \"bru\", \"pma\", \"ids\", \"nxk\", \"imn\", \"nuw\", \"wow\", \"cat\", \"syo\", \"wom\", \"btc\", \"yap\", \"jya\", \"aaw\", \"lew\", \"tae\", \"bil\", \"mjm\", \"bna\", \"xow\", \"elx\", \"kpj\", \"njj\", \"xdq\", \"msl\", \"tth\", \"ywl\", \"kaq\", \"azm\", \"lgk\", \"neb\", \"bmr\", \"mad\", \"imo\", \"kbv\", \"xiy\", \"lhp\", \"mud\", \"knf\", \"cog\", \"muk\", \"nzz\", \"tnu\", \"nrk\", \"tvs\", \"uku\", \"clj\", \"lcl\", \"aij\", \"ora\", \"okz\", \"dtb\", \"rof\", \"buc\", \"qvh\", \"gwe\", \"urk\", \"txb\", \"cnk\", \"geb\", \"dag\", \"jaf\", \"csz\", \"men\", \"shi\", \"ivv\", \"shw\", \"bbo\", \"bst\", \"ngu\", \"paf\", \"dyg\", \"cjm\", \"maa\", \"shv\", \"ygp\", \"sjr\", \"gjm\", \"yyz\", \"pag\", \"tee\", \"rup\", \"xhe\", \"dux\", \"ekg\", \"twm\", \"akz\", \"ztn\", \"ncb\", \"nyo\", \"gbg\", \"oui\", \"pam\", \"xmr\", \"ilm\", \"tlr\", \"bxm\", \"kgn\", \"zaa\", \"srr\", \"akd\", \"pnq\", \"sth\", \"pbo\", \"isg\", \"wbk\", \"kbo\", \"zao\", \"tpj\", \"doy\", \"akm\", \"gdd\", \"hme\", \"chy\", \"kxr\", \"pkc\", \"tmy\", \"pbt\", \"toz\", \"dsi\", \"tqu\", \"kps"
     ]
    },
    {
     "name": "stdout",
     "output_type": "stream",
     "text": [
      "\", \"pnr\", \"lau\", \"stf\", \"bld\", \"gii\", \"twf\", \"bvo\", \"kxd\", \"ibg\", \"xcn\", \"yej\", \"yac\", \"bso\", \"onk\", \"abp\", \"xbo\", \"xyy\", \"foi\", \"nss\", \"sso\", \"ocu\", \"ltc\", \"alu\", \"amw\", \"beb\", \"muh\", \"tik\", \"coh\", \"wic\", \"tcp\", \"ngm\", \"nja\", \"bqm\", \"tos\", \"diy\", \"xwl\", \"eee\", \"gaq\", \"arr\", \"hmm\", \"bxd\", \"ukv\", \"urf\", \"fap\", \"inb\", \"bbg\", \"bek\", \"bhh\", \"lrn\", \"tbp\", \"tkm\", \"coz\", \"hoo\", \"bjp\", \"yud\", \"cse\", \"nma\", \"ssk\", \"umm\", \"tde\", \"mfk\", \"grn\", \"hps\", \"pau\", \"spb\", \"tsw\", \"bff\", \"bga\", \"bmq\", \"nnw\", \"nhe\", \"xjt\", \"xcw\", \"wlv\", \"bth\", \"nmw\", \"ycl\", \"dzd\", \"rai\", \"cov\", \"sew\", \"mtb\", \"ttr\", \"nno\", \"kle\", \"ong\", \"kon\", \"swr\", \"wlc\", \"akf\", \"wru\", \"asn\", \"sua\", \"rme\", \"sbx\", \"iyx\", \"atz\", \"iws\", \"txm\", \"khm\", \"kfj\", \"kvd\", \"orw\", \"oke\", \"luu\", \"ush\", \"fat\", \"ztl\", \"kkn\", \"mos\", \"bgz\", \"nzb\", \"tgw\", \"kip\", \"bwk\", \"nio\", \"typ\", \"gef\", \"mgu\", \"soo\", \"ksh\", \"bbt\", \"xiv\", \"kdd\", \"rmm\", \"enq\", \"sry\", \"mxt\", \"xer\", \"eke\", \"gmu\", \"kao\", \"scq\", \"umc\", \"ark\", \"sny\", \"nsn\", \"ttd\", \"mkg\", \"nrg\", \"ntp\", \"mwp\", \"otd\", \"tpm\", \"tti\", \"bmj\", \"taj\", \"cos\", \"hke\", \"mqi\", \"bkr\", \"nqg\", \"dhw\", \"wpc\", \"szc\", \"gis\", \"soh\", \"bjv\", \"jiv\", \"sfb\", \"ige\", \"csa\", \"jul\", \"kmg\", \"ldh\", \"far\", \"prn\", \"smx\", \"ilg\", \"tpz\", \"wmt\", \"bsj\", \"oue\", \"kod\", \"wem\", \"wkr\", \"bfi\", \"stl\", \"zat\", \"aut\", \"kqv\", \"uba\", \"cfd\", \"crs\", \"izz\", \"pby\", \"chv\", \"aoc\", \"xrd\", \"yxg\", \"ikr\", \"acu\", \"scn\", \"kui\", \"agq\", \"dmk\", \"unr\", \"orx\", \"ijc\", \"tic\", \"duq\", \"ikh\", \"dyd\", \"kma\", \"csx\", \"seo\", \"lin\", \"xwg\", \"kwb\", \"nxa\", \"yaq\", \"gww\", \"wja\", \"kyi\", \"ast\", \"bnl\", \"bap\", \"mub\", \"tix\", \"lrt\", \"dah\", \"bcw\", \"zpv\", \"shs\", \"mcc\", \"agu\", \"cbi\", \"dgr\", \"lsd\", \"cml\", \"lum\", \"ypz\", \"lmh\", \"nsx\", \"yha\", \"mtu\", \"csr\", \""
     ]
    },
    {
     "name": "stdout",
     "output_type": "stream",
     "text": [
      "nhn\", \"asa\", \"tml\", \"fra\", \"lav\", \"mro\", \"tty\", \"ktf\", \"mbt\", \"tum\", \"ruq\", \"aml\", \"yee\", \"sop\", \"pkt\", \"tui\", \"ego\", \"bjo\", \"ccj\", \"tdy\", \"mru\", \"bge\", \"amb\", \"acx\", \"mho\", \"bjc\", \"gim\", \"dax\", \"laq\", \"psm\", \"nyg\", \"bqk\", \"jbt\", \"asp\", \"vkk\", \"bls\", \"sva\", \"twi\", \"ssv\", \"esy\", \"cfg\", \"aya\", \"myc\", \"scl\", \"vkz\", \"gei\", \"mbz\", \"ril\", \"ssn\", \"mez\", \"cwa\", \"dmd\", \"mlo\", \"ekl\", \"nyn\", \"srg\", \"xhc\", \"buk\", \"mvr\", \"poh\", \"tgo\", \"ane\", \"att\", \"fiw\", \"zpw\", \"aln\", \"ncz\", \"mfn\", \"zma\", \"sdn\", \"nmv\", \"qyp\", \"kki\", \"let\", \"swg\", \"quh\", \"gam\", \"kpg\", \"mmu\", \"aja\", \"yhl\", \"pbe\", \"rey\", \"azj\", \"okr\", \"ruf\", \"ije\", \"mel\", \"nso\", \"yab\", \"ztx\", \"afn\", \"rsb\", \"udj\", \"lki\", \"hmk\", \"bci\", \"ruc\", \"lko\", \"prd\", \"pla\", \"wlh\", \"khn\", \"zpi\", \"ntk\", \"juy\", \"byj\", \"gle\", \"anx\", \"ssg\", \"kbn\", \"gcd\", \"ley\", \"mqn\", \"bee\", \"puy\", \"ssw\", \"sdb\", \"vot\", \"mri\", \"bzg\", \"anq\", \"hji\", \"gll\", \"xbb\", \"ndv\", \"gds\", \"lcf\", \"mcw\", \"stv\", \"kzz\", \"nuv\", \"pcw\", \"uri\", \"bss\", \"cur\", \"mkn\", \"ybk\", \"jls\", \"ziw\", \"ati\", \"mrf\", \"ist\", \"trn\", \"vjk\", \"bba\", \"tak\", \"gcl\", \"huy\", \"cdn\", \"oks\", \"kuq\", \"gnj\", \"lcm\", \"ayc\", \"pne\", \"pnx\", \"kfe\", \"wew\", \"kig\", \"cop\", \"xon\", \"csk\", \"slz\", \"pib\", \"hah\", \"teq\", \"tvw\", \"rat\", \"hif\", \"kur\", \"tmb\", \"drs\", \"hug\", \"zml\", \"urg\", \"wmx\", \"gea\", \"loz\", \"lpa\", \"xnb\", \"hbn\", \"byz\", \"slc\", \"kjl\", \"adl\", \"bqh\", \"bwt\", \"eip\", \"dda\", \"omu\", \"ned\", \"wmd\", \"cwt\", \"egl\", \"gut\", \"szv\", \"ksv\", \"mlc\", \"mma\", \"keb\", \"asx\", \"bln\", \"brk\", \"kbg\", \"mff\", \"pnw\", \"zbe\", \"lbe\", \"sbi\", \"ply\", \"mdj\", \"dge\", \"tpk\", \"ufi\", \"cth\", \"kxc\", \"qui\", \"szs\", \"hae\", \"kpo\", \"ure\", \"tpi\", \"ffi\", \"and\", \"kmt\", \"pio\", \"dnu\", \"ahk\", \"khg\", \"kvb\", \"ypg\", \"kkr\", \"dnt\", \"rb"
     ]
    },
    {
     "name": "stdout",
     "output_type": "stream",
     "text": [
      "b\", \"kwv\", \"bfm\", \"nci\", \"ncr\", \"alp\", \"qwa\", \"tin\", \"dby\", \"tjj\", \"kvj\", \"crb\", \"drl\", \"lwo\", \"tau\", \"wne\", \"mus\", \"fuc\", \"gct\", \"brx\", \"mwz\", \"xce\", \"aai\", \"lfn\", \"msf\", \"xps\", \"kfg\", \"tqn\", \"tzm\", \"tdo\", \"ylu\", \"tsa\", \"pkh\", \"gnl\", \"pwn\", \"pah\", \"yel\", \"mnw\", \"mou\", \"tpr\", \"axe\", \"bno\", \"knn\", \"bgv\", \"vro\", \"wrl\", \"bjl\", \"dok\", \"udl\", \"yla\", \"ndc\", \"ich\", \"lbw\", \"xta\", \"nrp\", \"skx\", \"ums\", \"weh\", \"mii\", \"kos\", \"ndl\", \"tka\", \"dov\", \"slf\", \"tua\", \"kqj\", \"neh\", \"pyu\", \"ewo\", \"nwy\", \"mow\", \"jah\", \"gne\", \"xwj\", \"hup\", \"raz\", \"toh\", \"kuz\", \"dae\", \"lsy\", \"ngq\", \"mlf\", \"swa\", \"ngg\", \"kac\", \"yuj\", \"quz\", \"bni\", \"dhi\", \"kia\", \"nhu\", \"sda\", \"xai\", \"mzd\", \"mnb\", \"giw\", \"mzc\", \"nco\", \"odt\", \"bpp\", \"zpz\", \"yuz\", \"alr\", \"kga\", \"niq\", \"sng\", \"hrv\", \"ndj\", \"tnp\", \"hub\", \"hyw\", \"ahb\", \"tio\", \"brp\", \"prs\", \"abf\", \"hus\", \"not\", \"swn\", \"wni\", \"ymq\", \"slm\", \"mbn\", \"mvd\", \"auz\", \"bnz\", \"llp\", \"bwb\", \"shl\", \"nyi\", \"sou\", \"bfa\", \"ben\", \"lub\", \"xmx\", \"zas\", \"nnb\", \"zah\", \"vaf\", \"adf\", \"nml\", \"are\", \"idu\", \"sby\", \"keh\", \"msw\", \"ngi\", \"rma\", \"lrm\", \"uuu\", \"lgt\", \"xes\", \"agx\", \"lli\", \"kqz\", \"sci\", \"byb\", \"ghe\", \"tuq\", \"ksc\", \"kcp\", \"bhx\", \"tkn\", \"lei\", \"trb\", \"bab\", \"hap\", \"csm\", \"gvm\", \"tkt\", \"kwk\", \"xeu\", \"mtr\", \"aee\", \"bys\", \"dzn\", \"llx\", \"bqd\", \"kua\", \"res\", \"zab\", \"van\", \"bir\", \"kem\", \"cbu\", \"igo\", \"shg\", \"brd\", \"jsl\", \"kmz\", \"kcr\", \"nwr\", \"rsn\", \"cow\", \"nem\", \"zos\", \"bpn\", \"thu\", \"tbv\", \"jae\", \"nih\", \"ywn\", \"hlt\", \"chz\", \"kfm\", \"jcs\", \"mdc\", \"wuu\", \"cdz\", \"kjb\", "
     ]
    },
    {
     "name": "stdout",
     "output_type": "stream",
     "text": [
      "\"tce\", \"hno\", \"jmi\", \"nyd\", \"twb\", \"sgw\", \"jns\", \"fui\", \"pnc\", \"okj\", \"jmr\", \"apv\", \"rug\", \"gos\", \"wok\", \"bsk\", \"npy\", \"amq\", \"kll\", \"guq\", \"sbm\", \"vag\", \"pwm\", \"dim\", \"tuo\", \"see\", \"gbm\", \"lkj\", \"bwm\", \"kbu\", \"nlm\", \"acz\", \"kev\", \"pnu\", \"lbl\", \"yxy\", \"hmu\", \"tgk\", \"wnb\", \"jei\", \"mnl\", \"ait\", \"idt\", \"mui\", \"bxb\", \"nce\", \"ota\", \"ten\", \"lkr\", \"zpt\", \"gku\", \"bog\", \"tox\", \"isu\", \"kfx\", \"miq\", \"arl\", \"xsb\", \"mxs\", \"yii\", \"boy\", \"nkv\", \"sqk\", \"lbk\", \"hnj\", \"gev\", \"nhc\", \"sxs\", \"rpt\", \"xkl\", \"pap\", \"aou\", \"tgh\", \"asv\", \"mbu\", \"nps\", \"bti\", \"bfy\", \"dsz\", \"xcy\", \"cmn\", \"etc\", \"bct\", \"srl\", \"ekm\", \"leq\", \"dji\", \"nim\", \"syl\", \"ymc\", \"zmq\", \"cje\", \"elm\", \"sbe\", \"kif\", \"bxq\", \"agh\", \"sxl\", \"bsg\", \"txr\", \"wrr\", \"dym\", \"gil\", \"ybj\", \"lec\", \"bif\", \"djo\", \"tgs\", \"xpz\", \"kju\", \"mfl\", \"har\", \"bed\", \"bav\", \"mje\", \"pil\", \"mtd\", \"luf\", \"sif\", \"zro\", \"jrr\", \"pmz\", \"bzh\", \"wlg\", \"pab\", \"liy\", \"gnq\", \"otl\", \"tnw\", \"plr\", \"meu\", \"aol\", \"frc\", \"yiq\", \"cwe\", \"xmq\", \"yat\", \"bnj\", \"wkw\", \"wmm\", \"wmn\", \"crh\", \"wme\", \"jmx\", \"zzj\", \"pal\", \"dsk\", \"kzy\", \"hoh\", \"amm\", \"oti\", \"mlb\", \"sgs\", \"stw\", \"bej\", \"wij\", \"kxw\", \"lcs\", \"tdt\", \"xsm\", \"buj\", \"ktq\", \"twn\", \"obl\", \"avn\", \"umb\", \"fuh\", \"xau\", \"yuy\", \"cou\", \"pon\", \"sgm\", \"gob\", \"gic\", \"yog\", \"zba\", \"bya\", \"ysg\", \"mpg\", \"mqv\", \"sco\", \"ann\", \"cty\", \"mpv\", \"nhp\", \"mqz\", \"zmp\", \"cav\", \"yle\", \"wrm\", \"xun\", \"xmn\", \"can\", \"mqh\", \"ked\", \"wti\", \"dhl\", \"ssf\", \"cnq\", \"xrm\", \"cip\", \"aqd\", \"njo\", \"bly\", \"ctd\", \"tea\", \"mfd\", \"xwk\", \"lmv\", \"auy\", \"xin\", \"pnz\", \"rwr\", \"agv\", \"ola\", \"xpf\", \"zom"
     ]
    },
    {
     "name": "stdout",
     "output_type": "stream",
     "text": [
      "\", \"skm\", \"bpq\", \"yil\", \"opm\", \"slr\", \"srt\", \"trf\", \"avu\", \"jic\", \"bgc\", \"kmn\", \"kry\", \"hlu\", \"mzk\", \"mis\", \"dtu\", \"lpe\", \"amn\", \"epo\", \"boq\", \"gud\", \"bwe\", \"kcd\", \"awo\", \"sas\", \"blp\", \"hlb\", \"nkz\", \"xkc\", \"ahl\", \"kfi\", \"ttg\", \"duu\", \"xmf\", \"lnm\", \"ywa\", \"kqs\", \"txa\", \"zns\", \"iki\", \"kgs\", \"mia\", \"bnm\", \"gnk\", \"msi\", \"xbd\", \"mik\", \"tar\", \"cjn\", \"lgb\", \"rml\", \"bnd\", \"bot\", \"swq\", \"cyb\", \"ded\", \"nov\", \"don\", \"ypn\", \"lsr\", \"hbs\", \"inp\", \"tyn\", \"pce\", \"ddw\", \"chr\", \"url\", \"api\", \"amv\", \"cng\", \"kla\", \"dau\", \"agn\", \"gdg\", \"lmk\", \"mjd\", \"nof\", \"nhz\", \"lle\", \"pui\", \"emg\", \"xti\", \"bqb\", \"nte\", \"zkn\", \"dio\", \"beu\", \"moe\", \"aig\", \"aba\", \"kjp\", \"ktd\", \"esq\", \"lnz\", \"loi\", \"sor\", \"nus\", \"tmu\", \"jui\", \"jaz\", \"tyy\", \"lud\", \"zmo\", \"apt\", \"asm\", \"sjw\", \"ilu\", \"gwj\", \"vmm\", \"tuu\", \"bdt\", \"haf\", \"eza\", \"fam\", \"wlw\", \"aoi\", \"apm\", \"uka\", \"yul\", \"ssh\", \"plu\", \"ylr\", \"stk\", \"weg\", \"arj\", \"pka\", \"cns\", \"svb\", \"shh\", \"inm\", \"khq\", \"org\", \"lll\", \"mgd\", \"rnd\", \"mfe\", \"ciw\", \"bhm\", \"mge\", \"wla\", \"otz\", \"ntd\", \"bli\", \"ykn\", \"nsi\", \"abg\", \"xls\", \"ckm\", \"est\", \"cuc\", \"gvl\", \"loa\", \"bkm\", \"ssi\", \"xpm\", \"mwb\", \"xwc\", \"bgp\", \"hhr\", \"ack\", \"smu\", \"avl\", \"cly\", \"afr\", \"yax\", \"mgf\", \"ihi\", \"dbu\", \"mhb\", \"cky\", \"ybl\", \"pok\", \"scf\", \"spa\", \"yko\", \"hul\", \"asq\", \"mxn\", \"nsl\", \"con\", \"tmq\", \"yox\", \"bre\", \"goi\", \"mys\", \"lqr\", \"nnj\", \"cdm\", \"rif\", \"vut\", \"imi\", \"gkp\", \"emq\", \"xkj\", \"for\", \"ari\", \"myz\", \"zrp\", \"dig\", \"cjp\", \"bjx\", \"szb\", \"knl\", \"bsn\", \"saz\", \"mbk\", \"gue\", \"kks\", \"hvk\", \"ilv\", \"kgx\", \"mhl\", \"sow\", \"nhr\", \"wum\", \"xag\", \"cbg\", \"stg\", \"yai\", \"lgi\", \"pfa\", \"ckx\", \"spk\", \"hro\", \"dyn\", \"syi\", \"aos\", \"kyl\", \"kwl\", \"bwa\", \"oyd\", \"sgt\", \"phr\", \"noy\", \"hna\", \"lla\", \"tlg\", \"ynq\", \"gbe\", \"jib\", \"mfa"
     ]
    },
    {
     "name": "stdout",
     "output_type": "stream",
     "text": [
      "\", \"mzs\", \"oav\", \"buf\", \"nux\", \"mdk\", \"nbk\", \"rge\", \"nnz\", \"gac\", \"pnp\", \"zla\", \"yol\", \"akw\", \"aji\", \"jay\", \"sse\", \"qxr\", \"ena\", \"cle\", \"git\", \"ign\", \"jkr\", \"pha\", \"sbb\", \"ppo\", \"nle\", \"ofu\", \"juu\", \"vmy\", \"btf\", \"xrg\", \"kgq\", \"plg\", \"gve\", \"wmc\", \"xmp\", \"fia\", \"mkx\", \"roe\", \"clu\", \"mew\", \"kli\", \"klc\", \"mok\", \"bpt\", \"tvi\", \"nol\", \"alw\", \"bbd\", \"hiw\", \"mfq\", \"lcq\", \"czn\", \"erk\", \"gnb\", \"plc\", \"tux\", \"val\", \"ttb\", \"lay\", \"mla\", \"sty\", \"mkm\", \"fng\", \"sfe\", \"urv\", \"djd\", \"bqq\", \"gso\", \"knk\", \"mhs\", \"giq\", \"ngs\", \"mwg\", \"tbs\", \"zrn\", \"kjo\", \"azd\", \"chn\", \"jbw\", \"lan\", \"lwe\", \"wrn\", \"bfu\", \"itr\", \"bpz\", \"kvi\", \"sce\", \"sdr\", \"mlm\", \"xms\", \"zpo\", \"isr\", \"tbw\", \"hmh\", \"kuj\", \"slv\", \"kpc\", \"ywg\", \"din\", \"mim\", \"aiy\", \"pyx\", \"kmx\", \"neu\", \"nlk\", \"llh\", \"nmk\", \"arn\", \"jwi\", \"cnl\", \"gia\", \"neo\", \"bpg\", \"cpg\", \"lts\", \"kve\", \"hni\", \"tve\", \"vam\", \"tci\", \"ybo\", \"skq\", \"cbv\", \"kkj\", \"udu\", \"sbs\", \"xda\", \"btt\", \"apy\", \"doi\", \"hir\", \"lkd\", \"lpo\", \"awu\", \"teh\", \"ass\", \"wng\", \"bfn\", \"bvx\", \"lnl\", \"cao\", \"mbp\", \"nak\", \"abj\", \"oub\", \"pni\", \"kvx\", \"lmb\", \"afo\", \"sya\", \"suv\", \"qvm\", \"jbi\", \"psd\", \"bfk\", \"mmr\", \"msr\", \"bpo\", \"dgz\", \"krb\", \"xmk\", \"kyk\", \"mtk\", \"ran\", \"tha\", \"irn\", \"byt\", \"nny\", \"bze\", \"kjj\", \"nwc\", \"gqi\", \"gno\", \"hhi\", \"nbw\", \"tnm\", \"bxn\", \"mbm\", \"mto\", \"ogb\", \"sks\", \"dos\", \"bbk\", \"prc\", \"eno\", \"mve\", \"kts\", \"nis\", \"bmd\", \"dre\", \"esm\", \"nxg\", \"sns\", \"dun\", \"csl\", \"meh\", \"nrb\", \"nuf\", \"otk\", \"bte\", \"szw\", \"ase\", \"pqm\", \"kja\", \"opy\", \"xaw\", \"ate\", \"blc\", \"kwt\", \"mxl\", \"xns\", \"tda\", \"jet\", \"nmb\", \"yar\", \"byd\", \"pij\", \"del\", \"ibl\", \"idr\", \"zoo\", \"iwo\", \"kwy\", \"atw\", \"koi\", \"rnp\", \"sri\", \"yga\", \"wnd\", \"wif\", \"kwd\", \"qug\", \"bhg\", \"cbb\", \"kqw\", \"puf\", \"dcc\", \"ch"
     ]
    },
    {
     "name": "stdout",
     "output_type": "stream",
     "text": [
      "w\", \"she\", \"atx\", \"ehu\", \"tlo\", \"ste\", \"koq\", \"crr\", \"mbw\", \"nmm\", \"yre\", \"ard\", \"yun\", \"ljx\", \"tks\", \"nax\", \"nud\", \"bdq\", \"btu\", \"gez\", \"cno\", \"ndk\", \"awg\", \"yvt\", \"qvy\", \"ads\", \"blr\", \"xsv\", \"mva\", \"hsb\", \"omr\", \"bue\", \"mgk\", \"lti\", \"efa\", \"nei\", \"uro\", \"btr\", \"juc\", \"sax\", \"xhv\", \"yag\", \"ons\", \"moi\", \"nkq\", \"bcy\", \"mki\", \"msu\", \"mwk\", \"gjk\", \"jml\", \"khc\", \"mat\", \"wsu\", \"iwm\", \"nyt\", \"xpn\", \"kgo\", \"mdq\", \"bwz\", \"tkl\", \"siz\", \"mbh\", \"sin\", \"pns\", \"xpr\", \"mmz\", \"axb\", \"bpu\", \"cry\", \"ymi\", \"xsn\", \"tyr\", \"chf\", \"bbc\", \"apq\", \"abb\", \"dez\", \"pwi\", \"prq\", \"zkd\", \"myw\", \"bpe\", \"mmw\", \"uki\", \"bbb\", \"ccm\", \"han\", \"mgb\", \"tyl\", \"mpa\", \"usu\", \"muc\", \"kyg\", \"npx\", \"puo\", \"cub\", \"uon\", \"enc\", \"mwc\", \"rad\", \"gaz\", \"ule\", \"urh\", \"wrw\", \"gwu\", \"kty\", \"ppq\", \"cme\", \"sbh\", \"woi\", \"cds\", \"bus\", \"duh\", \"adb\", \"toc\", \"bhr\", \"wud\", \"xyt\", \"lsl\", \"haq\", \"bvu\", \"nxq\", \"bqp\", \"lji\", \"byr\", \"mgz\", \"tcq\", \"seq\", \"dml\", \"iml\", \"nhg\", \"sdq\", \"wmo\", \"yok\", \"lot\", \"xrn\", \"bgl\", \"lal\", \"kru\", \"nbi\", \"bgd\", \"eme\", \"sam\", \"mrx\", \"urc\", \"vsi\", \"yoy\", \"gup\", \"gdk\", \"pkp\", \"xor\", \"tyv\", \"dgs\", \"ria\", \"tdg\", \"gdn\", \"hoz\", \"kdn\", \"dnw\", \"mif\", \"nmh\", \"yon\", \"cmi\", \"dzg\", \"mck\", \"geg\", \"zne\", \"yng\", \"sgy\", \"buo\", \"emz\", \"mqa\", \"tfn\", \"xem\", \"bcz\", \"uvh\", \"byq\", \"lzn\", \"kee\", \"pol\", \"srz\", \"wbr\", \"bgb\", \"xno\", \"aju\", \"ams\", \"top\", \"ntz\", \"sac\", \"tpo\", \"blv\", \"hns\", \"mds\", \"xln\", \"kto\", \"afd\", \"nyj\", \"mvf\", \"mvg\", \"jko\", \"ktz\", \"sbg\", \"ksk\", \"dgg\", \"lmj\", \"slj\", \"tyj\", \"tsn\", \"apn\", \"bvk\", \"myk\", \"xmb\", \"ylm\", \"enw\", \"tao\", \"gol\", \"tla\", \"xni\", \"gip\", \"vmc\", \"gyl\", \"tkg\", \"hid\", \"jni\", \"loh\", \"mxg\", \"akb\", \"dgw\", \"mcj\", \"obi\", \"tnc\", \"dws\", \"chb\", \"aim\", \"ugh\", \"orc\", \"jit\", \"neg\", \"mbf\", \"tby\", \"xaq\", \"lea\", \"l"
     ]
    },
    {
     "name": "stdout",
     "output_type": "stream",
     "text": [
      "kb\", \"tei\", \"kko\", \"nnk\", \"nba\", \"gey\", \"obu\", \"xgm\", \"kaj\", \"mdh\", \"vit\", \"ado\", \"xnj\", \"mtx\", \"ojc\", \"khf\", \"prt\", \"xpw\", \"dep\", \"jua\", \"abs\", \"mbj\", \"irr\", \"amo\", \"cxh\", \"kol\", \"naf\", \"qul\", \"unk\", \"itm\", \"skw\", \"daj\", \"mnd\", \"yyr\", \"ssy\", \"vmk\", \"xak\", \"xjb\", \"lva\", \"ncx\", \"pic\", \"mjq\", \"cfa\", \"kxn\", \"wec\", \"rms\", \"shz\", \"ntx\", \"lww\", \"xyb\", \"psq\", \"akt\", \"bmg\", \"ayr\", \"huq\", \"avb\", \"lbm\", \"min\", \"ocm\", \"ngp\", \"bvi\", \"zlq\", \"tpf\", \"xcb\", \"avd\", \"wdk\", \"ldg\", \"dbd\", \"gha\", \"dde\", \"all\", \"kfk\", \"gah\", \"bft\", \"wae\", \"xii\", \"cld\", \"gap\", \"ajg\", \"bfe\", \"gtu\", \"mgt\", \"twe\", \"shp\", \"knd\", \"vgr\", \"uji\", \"xwa\", \"msj\", \"cax\", \"otw\", \"pgd\", \"urp\", \"dgi\", \"mft\", \"trc\", \"wiy\", \"dgc\", \"owi\", \"xhd\", \"mkb\", \"pst\", \"gwa\", \"pgs\", \"efe\", \"mql\", \"pcm\", \"xrw\", \"ayh\", \"ulm\", \"cdh\", \"xut\", \"lya\", \"aha\", \"kxh\", \"kpy\", \"smt\", \"tew\", \"aph\", \"yml\", \"kzo\", \"wbh\", \"tnt\", \"ura\", \"zsl\", \"bcj\", \"atr\", \"ngr\", \"kik\", \"udg\", \"smh\", \"enr\", \"wax\", \"nbd\", \"biu\", \"emx\", \"lje\", \"jaa\", \"mmi\", \"tmv\", \"xuj\", \"xto\", \"lih\", \"fwe\", \"rsl\", \"sxu\", \"bqt\", \"nkf\", \"pai\", \"sox\", \"cea\", \"wdg\", \"bpc\", \"csd\", \"doh\", \"pbs\", \"kqa\", \"nlv\", \"pie\", \"djb\", \"xqt\", \"gbu\", \"kfp\", \"ngl\", \"psw\", \"hmy\", \"waa\", \"bca\", \"kok\", \"onb\", \"qvo\", \"ful\", \"nbn\", \"bwo\", \"mrs\", \"met\", \"rts\", \"xlo\", \"yue\", \"biw\", \"chd\", \"pfl\", \"rib\", \"okd\", \"iou\", \"aat\", \"ldm\", \"bzn\", \"auj\", \"kqc\", \"com\", \"dsh\", \"rmf\", \"fai\", \"tvm\", \"ula\", \"aec\", \"ymx\", \"guu\", \"zyb\", \"jam\", \"mtw\", \"asu\", \"xla\", \"kyp\", \"bml\", \"krp\", \"ztp\", \"yaw\", \"dry\", \"kmr\", \"lbf\", \"kmp\", \"bts\", \"brc\", \"cod\", \"tit\", \"xxm\", \"mox\", \"giz\", \"als\", \"twy\", \"hac\", \"wsk\", \"yid\", \"cet\", \"stq\", \"adx\", \"kyr\", \"cbr\", \"blw\", \"msh\", \"lnh\", \"sak\", \"sgr\", \"ttt\", \"tgt\", \"lrc\", \"kcw\", \"xan\", \"obk\", \"doo\", \"tqw\", \"pit\", \"spi\", \"akh\", \"kbr\", "
     ]
    },
    {
     "name": "stdout",
     "output_type": "stream",
     "text": [
      "\"miy\", \"nbr\", \"pls\", \"gih\", \"mka\", \"iqw\", \"qvw\", \"apu\", \"phg\", \"sos\", \"hue\", \"hur\", \"tjn\", \"etn\", \"xep\", \"bvy\", \"nct\", \"mzj\", \"zrs\", \"hka\", \"klk\", \"xal\", \"hoy\", \"srn\", \"psl\", \"azn\", \"roh\", \"dob\", \"bzy\", \"quq\", \"abe\", \"kji\", \"raq\", \"ovd\", \"tri\", \"kuk\", \"khy\", \"tpa\", \"ret\", \"oko\", \"bfc\", \"add\", \"kmm\", \"mcx\", \"slt\", \"kfy\", \"tkw\", \"orh\", \"bzp\", \"nmz\", \"lov\", \"nsb\", \"ull\", \"dje\", \"jdt\", \"kel\", \"tkp\", \"cpy\", \"xnz\", \"lme\", \"mya\", \"yrw\", \"imy\", \"laa\", \"txi\", \"ykg\", \"stm\", \"slk\", \"atb\", \"kyy\", \"vbb\", \"bcl\", \"mmg\", \"xmg\", \"msp\", \"ajz\", \"nfr\", \"yob\", \"gpn\", \"zpm\", \"bcp\", \"sec\", \"bnv\", \"brs\", \"tts\", \"ayq\", \"kej\", \"bxi\", \"luj\", \"snp\", \"ttq\", \"aun\", \"kcl\", \"zbc\", \"pax\", \"bmp\", \"ler\", \"rgr\", \"yuq\", \"lnu\", \"enf\", \"awt\", \"tdi\", \"myh\", \"pcj\", \"bvn\", \"quk\", \"liq\", \"vms\", \"tcz\", \"bzm\", \"mal\", \"cpx\", \"gmd\", \"vls\", \"aod\", \"kqb\", \"gel\", \"ttn\", \"gdf\", \"nng\", \"khh\", \"klx\", \"enn\", \"dgb\", \"ble\", \"mod\", \"mdr\", \"xtr\", \"nlx\", \"bjn\", \"oru\", \"gdo\", \"scs\", \"lad\", \"cmt\", \"tgj\", \"nkt\", \"sih\", \"tsq\", \"mhz\", \"dox\", \"ndg\", \"bia\", \"lup\", \"mpr\", \"khe\", \"hve\", \"kxp\", \"bpk\", \"fer\", \"sel\", \"wir\", \"ofs\", \"mrb\", \"bxo\", \"fan\", \"tbz\", \"bws\", \"bou\", \"bxr\", \"shx\", \"maw\", \"xcg\", \"kci\", \"txx\", \"msg\", \"apc\", \"fom\", \"kjn\", \"lmi\", \"rri\", \"sjt\", \"pbu\", \"dip\", \"anf\", \"wms\", \"dao\", \"ksb\", \"mdm\", \"bsv\", \"scx\", \"ukq\", \"tbo\", \"ito\", \"smy\", \"mqt\", \"yme\", \"lvs\", \"tsu\", \"kvm\", \"oco\", \"ssj\", \"gwr\", \"jmw\", \"tav\", \"mop\", \"atk\", \"tia\", \"wnw\", \"dhn\", \"gft\", \"daa\", \"ptp\", \"xrr\", \"aem\", \"ccd\", \"doc\", \"tiu\", \"snk\", \"xga\", \"waz\", \"bfb\", \"cir\", \"kmw\", \""
     ]
    },
    {
     "name": "stdout",
     "output_type": "stream",
     "text": [
      "adr\", \"bjs\", \"aaa\", \"lce\", \"oua\", \"zyn\", \"ang\", \"bjh\", \"bel\", \"lng\", \"bto\", \"rak\", \"bkn\", \"mfb\", \"mxe\", \"tld\", \"buy\", \"gta\", \"tma\", \"uta\", \"itz\", \"kfb\", \"lhs\", \"yak\", \"sxw\", \"kwg\", \"unx\", \"lsh\", \"ndn\", \"xkf\", \"bvr\", \"shd\", \"rar\", \"erh\", \"apx\", \"gqa\", \"rbl\", \"svc\", \"iba\", \"gwx\", \"mfj\", \"xru\", \"uli\", \"ahm\", \"bmh\", \"drc\", \"sao\", \"ykk\", \"fax\", \"jeu\", \"swu\", \"tdm\", \"mpe\", \"ils\", \"dyb\", \"ksn\", \"cih\", \"tii\", \"clk\", \"dem\", \"bxg\", \"tms\", \"yig\", \"poq\", \"pug\", \"fay\", \"bqf\", \"kuy\", \"byg\", \"nch\", \"xgw\", \"jab\", \"div\", \"nes\", \"tbl\", \"fue\", \"pnd\", \"kfz\", \"kbw\", \"nbj\", \"xsd\", \"sja\", \"goa\", \"ltz\", \"dyu\", \"ghl\", \"pac\", \"nir\", \"pcb\", \"ddi\", \"dmx\", \"kzp\", \"tmm\", \"xkd\", \"xzp\", \"caf\", \"unz\", \"aag\", \"jgb\", \"nez\", \"hca\", \"xyk\", \"car\", \"zhi\", \"kas\", \"jbn\", \"evn\", \"auq\", \"n"
     ]
    },
    {
     "name": "stdout",
     "output_type": "stream",
     "text": [
      "dr\", \"ruo\", \"sod\", \"los\", \"sok\", \"aes\", \"swf\", \"vec\", \"bxf\", \"dmy\", \"unn\", \"azt\", \"ibb\", \"ngj\", \"kre\", \"spx\", \"heg\", \"tkb\", \"meb\", \"izm\", \"sad\", \"esn\", \"mhn\", \"wdt\", \"klt\", \"nqk\", \"mvp\", \"wrg\", \"vao\", \"nfa\", \"xwr\", \"pmd\", \"nvo\", \"crx\", \"stb\", \"boi\", \"yso\", \"buh\", \"muu\", \"gdt\", \"wlx\", \"kfq\", \"ssx\", \"rgs\", \"okm\", \"agg\", \"gka\", \"sig\", \"duv\", \"dmg\", \"mxd\", \"njm\", \"quw\", \"wai\", \"cuw\", \"gry\", \"pwr\", \"khw\", \"ney\", \"lkt\", \"yec\", \"ved\", \"zkr\", \"cdf\", \"mmn\", \"byf\", \"giy\", \"jow\", \"tsg\", \"nbp\", \"nuu\", \"hti\", \"wbe\", \"afe\", \"nef\", \"sld\", \"avt\", \"clo\", \"gly\", \"ugy\", \"pue\", \"ung\", \"lcp\", \"tul\", \"alo\", \"diu\", \"jiu\", \"lmg\", \"ghn\", \"hmc\", \"tpx\", \"xnm\", \"tzx\", \"bra\", \"war\", \"kje\", \"mpm\", \"kqg\", \"luc\", \"nau\", \"aby\", \"xmt\", \"kyw\", \"ylg\", \"atq\", \"xbw\", \"jos\", \"ole\", \"sdg\", \"sil\", \"xke\", \"ter\", \"noc\", \"mcf\", \"djm\", \"srf\", \"cjk\", \"lix\", \"lld\", \"mcy\", \"tcd\", \"usi\", \"naw\", \"szp\", \"xle\", \"dug\", \"kcz\", \"zyg\", \"kam\", \"srp\", \"lrv\", \"ynu\", \"fkk\", \"pck\", \"kwn\", \"jbj\", \"shu\", \"osc\", \"sut\", \"xwd\", \"sly\", \"nsd\", \"bmu\", \"ffm\", \"bpr\", \"wky\", \"ags\", \"kra\", \"twq\", \"mky\", \"ses\", \"kys\", \"bos\", \"ddj\", \"oog\", \"ttl\", \"wor\", \"jrb\", \"knm\", \"tex\", \"tol\", \"aeu\", \"stt\", \"ifb\", \"bdz\", \"weu\", \"sqo\", \"dkk\", \"hay\", \"ncn\", \"kpn\", \"cku\", \"ape\", \"fuu\", \"hio\", \"emw\", \"fgr\", \"deq\", \"gdb\", \"kqf\", \"bjy\", \"soq\", \"sts\", \"sws\", \"dot\", \"bie\", \"kat\", \"gvp\", \"aau\", \"bkp\", \"bqc\", \"kei\", \"hpo\", \"hds\", \"bnu\", \"nti\", \"abw\", \"bzw\", \"wav\", \"ega\", \"tlv\", \"woa\", \"kof\", \"bla\", \"nyw\", \"god\", \"snw\", \"hrz\", \"eto\", \"kho\", \"mng\", \"ach\", \"gbl\", \"kin\", \"rrt\", \"uwa\", \"caw\", \"mfx\", \"csf\", \"dtn\", \"agk\", \"xkp\", \"acl\", \"pwa\", \"tax\", \"sze\", \"wbt\", \"akq\", \""
     ]
    },
    {
     "name": "stdout",
     "output_type": "stream",
     "text": [
      "pww\", \"rmu\", \"llj\", \"qvz\", \"myr\", \"tsc\", \"mcr\", \"kms\", \"mkf\", \"zca\", \"tac\", \"nhy\", \"twg\", \"lob\", \"twu\", \"rir\", \"pee\", \"nyf\", \"nzs\", \"mbe\", \"sjp\", \"blb\", \"pof\", \"nsp\", \"bex\", \"xhu\", \"sqm\", \"kjy\", \"xkg\", \"nao\", \"ilk\", \"mah\", \"khx\", \"nkj\", \"nwi\", \"sej\", \"ciy\", \"xrb\", \"syy\", \"hmj\", \"rou\", \"lmu\", \"gbf\", \"igb\", \"kvy\", \"nty\", \"bne\", \"ccr\", \"kpl\", \"ynl\", \"nnf\", \"gdh\", \"tnd\", \"nyr\", \"hbu\", \"pmw\", \"bpj\", \"iyo\", \"myf\", \"nok\", \"tod\", \"yot\", \"brl\", \"sbo\", \"nbb\", \"but\", \"nya\", \"zpq\", \"bxh\", \"ham\", \"lia\", \"aez\", \"quv\", \"krf\", \"gmm\", \"pnk\", \"sir\", \"pmi\", \"lro\", \"tbc\", \"nld\", \"ess\", \"tij\", \"sqn\", \"anj\", \"gwi\", \"aft\", \"atv\", \"swy\", \"lmo\", \"lsv\", \"imt\", \"awk\", \"rwm\", \"yxl\", \"rtc\", \"ogc\", \"wbj\", \"vap\", \"nib\", \"kpt\", \"kwu\", \"mey\", \"lrz\", \"nkn\", \"shr\", \"paz\", \"unu\", \"bwi\", \"ghk\", \"mpc\", \"coj\", \"iow\", \"hud\", \"csb\", \"mip\", \"tgb\", \"uiv\", \"faf\", \"wrz\", \"nac\", \"bcc\", \"hoi\", \"daq\", \"sch\", \"ars\", \"scw\", \"sis\", \"zpr\", \"ckt\", \"cpo\", \"jhs\", \"wha\", \"ixc\", \"tca\", \"yly\", \"hma\", \"kwh\", \"bll\", \"jub\", \"wkb\", \"yva\", \"sht\", \"tyu\", \"byp\", \"sqs\", \"nyx\", \"wac\", \"aix\", \"pkb\", \"xte\", \"cik\", \"wuy\", \"lwa\", \"tqb\", \"dgh\", \"sbp\", \"ldp\", \"vmz\", \"kfc\", \"ppi\", \"jbr\", \"opa\", \"xbn\", \"tuz\", \"ukh\", \"tco\", \"kbk\", \"njs\", \"rkb\", \"enh\", \"drd\", \"ndh\", \"dbr\", \"nkh\", \"lbq\", \"yix\", \"swe\", \"adu\", \"mqu\", \"hoa\", \"mqo\", \"two\", \"emm\", \"bpw\", \"bbe\", \"mdv\", \"sbv\", \"nxe\", \"pre\", \"pav\", \"osp\", \"lsm\", \"sxg\", \"tni\", \"yww\", \"sav\", \"krw\", \"hux\", \"sgg\", \"eot\", \"bho\", \"kca\", \"mks\", \"nll\", \"hia\", \"dme\", \"ipi\", \"pti\", \"wol\", \"klm\", \"bvz\", \"ker\", \"mit\", \"jid\", \"mmy\", \"taw\", \"bec\", \"tip\", \"mjx\", \"dty\", \"mch\", \"duk\", \"mtv\", \"ngv\", \"xcm\", \"rhp\", \"raf\", \"luk\", \"btw\", \"njn\", \"sjm\", \"crj\", \"utp\", \"wie\", \"yit\", \"vic\", \"awn\", \"mdz\", \"waq\", \"lgg\", \"pl"
     ]
    },
    {
     "name": "stdout",
     "output_type": "stream",
     "text": [
      "t\", \"dta\", \"oyb\", \"swh\", \"goz\", \"zeg\", \"cvn\", \"xho\", \"dii\", \"jng\", \"kbj\", \"tev\", \"ktk\", \"pnl\", \"cgc\", \"zag\", \"nzr\", \"lif\", \"ike\", \"kgb\", \"khr\", \"onp\", \"bds\", \"sun\", \"dkx\", \"qxo\", \"ktn\", \"set\", \"ica\", \"mxu\", \"otb\", \"urz\", \"lgs\", \"nug\", \"bim\", \"bbp\", \"xlg\", \"acs\", \"tmf\", \"bup\", \"wgi\", \"lso\", \"xis\", \"rth\", \"cjv\", \"tnn\", \"zsm\", \"leb\", \"riu\", \"bjj\", \"guh\", \"qxt\", \"geh\", \"suw\", \"xph\", \"zme\", \"mie\", \"mbr\", \"jmc\", \"ael\", \"pyy\", \"bzu\", \"sip\", \"nuk\", \"kiq\", \"nst\", \"kou\", \"oca\", \"mth\", \"aqz\", \"pld\", \"six\", \"llb\", \"nym\", \"lep\", \"dgn\", \"kbc\", \"sww\", \"her\", \"tgr\", \"rui\", \"igm\", \"gya\", \"sss\", \"aox\", \"bcf\", \"twh\", \"grq\", \"eud\", \"mfs\", \"faa\", \"wrh\", \"lid\", \"kxt\", \"vkn\", \"ctg\", \"wyr\", \"bps\", \"xop\", \"gdq\", \"dal\", \"aik\", \"mlw\", \"adi\", \"ppu\", \"prg\", \"srm\", \"vep\", \"xtv\", \"xvs\", \"pox\", \"meo\", \"udm\", \"acv\", \"cux\", \"pgz\", \"xve\", \"bjr\", \"bgu\", \"sux\", \"xgf\", \"gwt\", \"moh\", \"syx\", \"caj\", \"kri\", \"mzv\", \"mvk\", \"pko\", \"waf\", \"msv\", \"trm\", \"yuw\", \"ygw\", \"une\", \"lam\", \"kop\", \"kor\", \"mkj\", \"pbi\", \"goh\", \"nrz\", \"nmc\", \"oso\", \"coq\", \"ilo\", \"akc\", \"nam\", \"mjp\", \"ndp\", \"mcl\", \"cso\", \"dek\", \"pbl\", \"atd\", \"prm\", \"sdz\", \"tus\", \"mli\", \"bsc\", \"rmx\", \"kim\", \"pev\", \"bvt\", \"mml\", \"tse\", \"zza\", \"uve\", \"rnw\", \"tsy\", \"awm\", \"axg\", \"itl\", \"zmi\", \"mzh\", \"kqe\", \"nkk\", \"mnu\", \"swv\", \"bwc\", \"ayb\", \"sbd\", \"gao\", \"kcg\", \"kkc\", \"csq\", \"dyy\", \"qvs\", \"awx\", \"rop\", \"yry\", \"txh\", \"ijn\", \"tmg\", \"cim\", \"moo\", \"szn\", \"ykt\", \"gbk\", \"bby\", \"hld\", \"gml\", \"hun\", \"jeb\", \"bwg\", \"knz\", \"xed\", \"sbu\", \"inh\", \"wun\", \"win\", \"ckb\", \"kuo\", \"aup\", \"mwm\", \"hba\", \"kyh\", \"otu\", \"yrl\", \"diz\", \"enu\", \"ken\", \"dya\", \"taz\", \"wep\", \"pgg\", \"loo\", \"ida\", \"bhn\", \"ots\", \"dgd\", \"ank\", \"zkt\", \"mvo\", \"txy\", \"yxa\", \"ago\", \"gyo\", \"pht\", \"krz\", \"njd\", \"pse"
     ]
    },
    {
     "name": "stdout",
     "output_type": "stream",
     "text": [
      "\", \"pqa\", \"bau\", \"sre\", \"kid\", \"lij\", \"xod\", \"yut\", \"biv\", \"kth\", \"bji\", \"gma\", \"fum\", \"fuv\", \"twr\", \"nag\", \"tur\", \"fll\", \"krr\", \"sxr\", \"tvl\", \"hax\", \"eyo\", \"skb\", \"umg\", \"hms\", \"hih\", \"iya\", \"jaq\", \"hto\", \"too\", \"mgl\", \"lda\", \"bny\", \"mlx\", \"ama\", \"flh\", \"mkv\", \"knb\", \"mvi\", \"afp\", \"aed\", \"nsr\", \"ood\", \"bkd\", \"jpr\", \"lrk\", \"tiy\", \"tkx\", \"wtf\", \"nea\", \"mut\", \"sjb\", \"bfr\", \"enx\", \"zkp\", \"bax\", \"zeh\", \"nri\", \"noq\", \"arc\", \"zng\", \"qum\", \"soc\", \"dze\", \"heb\", \"atm\", \"coc\", \"atl\", \"dsl\", \"jod\", \"rmc\", \"zmb\", \"hrp\", \"oie\", \"ljp\", \"tss\", \"mmj\", \"kda\", \"xha\", \"jaj\", \"ndb\", \"jeh\", \"kpa\", \"nin\", \"cdr\", \"mwt\", \"lbj\", \"lke\", \"bmx\", \"vgt\", \"bkj\", \"aie\", \"yub\", \"drq\", \"nge\", \"sho\", \"apo\", \"emn\", \"nap\", \"laz\", \"chx\", \"bmw\", \"dbq\", \"gda\", \"pdi\", \"tsk\", \"ysd\", \"zbu\", \"ort\", \"jil\", \"gun\", \"sxb\", \"yux\", \"fqs\", \"acm\", \"njt\", \"avk\", \"xae\", \"ihp\", \"hnn\", \"yev\", \"urd\", \"adz\", \"kcq\", \"ntr\", \"uar\", \"kva\", \"zcd\", \"kkx\", \"wtb\", \"twp\", \"nek\", \"bzs\", \"vbk\", \"mqs\", \"bdx\", \"mym\", \"trv\", \"thd\", \"yta\", \"asl\", \"lao\", \"bdd\", \"gsg\", \"svs\", \"llu\", \"fuy\", \"tdn\", \"daw\", \"mhk\", \"nor\", \"orr\", \"box\", \"tgi\", \"dwz\", \"kwp\", \"tst\", \"mqx\", \"end\", \"mih\", \"lmy\", \"kmv\", \"oni\", \"spu\", \"mkp\", \"qua\", \"yku\", \"xay\", \"bzk\", \"cbd\", \"cnu\", \"cre\", \"hoj\", \"kxb\", \"agz\", \"pay\", \"hya\", \"lkc\", \"hle\", \"hem\", \"lbo\", \"arp\", \"sdf\", \"mde\", \"klp\", \"jkp\", \"bub\", \"kiu\", \"ave\", \"okb\", \"tmo\", \"trh\", \"bks\", \"mwu\", \"pye\", \"mko\", \"bdr\", \"sgi\", \"nrf\", \"tbn\", \"snq\", \"myg\", \"ckl\", \"abl\", \"yrs\", \"amc\", \"bdw\", \"pze\", \"gnm\", \"cht\", \"mqk\", \"nyk\", \"xli\", \"gmy\", \"bck\", \"kil\", \"dtk\", \"lim\", \"kdr\", \"wib\", \"bes\", \"yli\", \"ssq\", \"ubr\", \"dul\", \"log\", \"dro\", \"eng\", \"ata\", \"aqp\", \"llf\", \"l"
     ]
    },
    {
     "name": "stdout",
     "output_type": "stream",
     "text": [
      "ul\", \"mrg\", \"oos\", \"hot\", \"nnr\", \"phu\", \"sbj\", \"suk\", \"vid\", \"zpx\", \"zuh\", \"gua\", \"jjr\", \"tlf\", \"sli\", \"gdc\", \"ysy\", \"por\", \"huh\", \"nbm\", \"bjm\", \"aid\", \"qub\", \"mza\", \"ydk\", \"gat\", \"zav\", \"mnn\", \"nkg\", \"now\", \"soy\", \"mye\", \"rao\", \"zmw\", \"ykh\", \"ges\", \"mju\", \"tfi\", \"taf\", \"kau\", \"fub\", \"poe\", \"smk\", \"bva\", \"bfd\", \"xpi\", \"kvu\", \"tpl\", \"dib\", \"npo\", \"hut\", \"pao\", \"vum\", \"pll\", \"cay\", \"dac\", \"sne\", \"spq\", \"zlm\", \"avo\", \"nne\", \"fak\", \"psh\", \"yka\", \"tgv\", \"nni\", \"mvu\", \"axx\", \"bbu\", \"boo\", \"dni\", \"gba\", \"ksm\", \"gho\", \"kuu\", \"ldq\", \"otx\", \"mup\", \"smg\", \"dbv\", \"wri\", \"xcc\", \"snu\", \"szl\", \"bbq\", \"mnk\", \"fal\", \"nar\", \"iks\", \"kfr\", \"tji\", \"zsu\", \"umu\", \"cox\", \"old\", \"sef\", \"opt\", \"ngy\", \"nuo\", \"snc\", \"nqn\", \"tet\", \"und\", \"tyt\", \"mbd\", \"ayt\", \"mdg\", \"kxm\", \"fbl\", \"lom\", \"frs\", \"nue\", \"guk\", \"kkd\", \"mcu\", \"bob\", \"kzg\", \"rkh\", \"mdl\", \"man\", \"kco\", \"bew\", \"goo\", \"hod\", \"krn\", \"pcn\", \"itd\", \"zpy\", \"guc\", \"krc\", \"baj\", \"klq\", \"nnh\", \"dka\", \"yif\", \"prz\", \"txo\", \"gga\", \"rmq\", \"ktt\", \"gmr\", \"toi\", \"yuc\", \"szg\", \"akk\", \"ibh\", \"ipk\", \"nhb\", \"bgx\", \"sob\", \"onn\", \"yuf\", \"urt\", \"ziz\", \"rwo\", \"suy\", \"cna\", \"pek\", \"irh\", \"mss\", \"yki\", \"rmi\", \"ytl\", \"trl\", \"tyh\", \"kus\", \"jor\", \"tah\", \"opk\", \"hmg\", \"teg\", \"nkp\", \"dei\", \"kag\", \"tlp\", \"ces\", \"bib\", \"rzh\", \"tmt\", \"rem\", \"lbs\", \"lht\", \"ccp\", \"paw\", \"sbf\", \"zea\", \"kdc\", \"sfm\", \"ctm\", \"suc\", \"nrt\", \"prx\", \"sia\", \"gvo\", \"lvl\", \"kqm\", \"npg\", \"ism\", \"xng\", \"xoo\", \"cri\", \"loe\", \"rnn\", \"mby\", \"xkt\", \"xre\", \"sqq\", \"xri\", \"sha\", \"mda\", \"dbe\", \"dwk\", \"suq\", \"rhg\", \"xsc\", \"tbd\", \"nsu\", \"nyh\", \"wod\", \"emi\", \"b"
     ]
    },
    {
     "name": "stdout",
     "output_type": "stream",
     "text": [
      "zv\", \"nbg\", \"bok\", \"zch\", \"tih\", \"emk\", \"kan\", \"gwn\", \"piz\", \"mhm\", \"ale\", \"koo\", \"xmz\", \"bcg\", \"udi\", \"xpg\", \"dan\", \"cof\", \"jct\", \"psu\", \"mgj\", \"fwa\", \"oro\", \"kex\", \"src\", \"nkc\", \"zka\", \"kln\", \"bmk\", \"kpb\", \"yao\", \"pgl\", \"uum\", \"qva\", \"ltn\", \"crm\", \"nhf\", \"adn\", \"brf\", \"awv\", \"icl\", \"mqp\", \"sgb\", \"mcb\", \"nex\", \"xyl\", \"bdv\", \"wal\", \"irx\", \"bep\", \"bwn\", \"ita\", \"gec\", \"lus\", \"xtb\", \"orv\", \"ewe\", \"wyn\", \"juw\", \"tdk\", \"tgc\", \"hmw\", \"mmt\", \"krv\", \"chj\", \"kmi\", \"vwa\", \"rwa\", \"xkk\", \"tlt\", \"nmp\", \"bfq\", \"dpp\", \"yih\", \"nmt\", \"njy\", \"cup\", \"bmb\", \"cbt\", \"msn\", \"xom\", \"wnn\", \"xld\", \"mlk\", \"mww\", \"obr\", \"beo\", \"kub\", \"afh\", \"rmt\", \"mhw\", \"tgl\", \"wbi\", \"kkt\", \"tga\", \"klr\", \"ymr\", \"zuy\", \"cjo\", \"nbo\", \"tgu\", \"wnu\", \"kut\", \"xtq\", \"ifu\", \"tre\", \"crl\", \"brz\", \"knw\", \"bqi\", \"vmh\", \"pwg\", \"bsh\", \"xml\", \"aht\", \"brr\", \"ayi\", \"ttp\", \"tud\", \"frd\", \"bnr\", \"etu\", \"ppp\", \"ilp\", \"gox\", \"onr\", \"gru\", \"rpn\", \"tjs\", \"tys\", \"xbm\", \"xkr\", \"ing\", \"byv\", \"lnw\", \"ymg\", \"mrn\", \"czk\", \"acb\", \"xrt\", \"nog\", \"ntm\", \"mnp\", \"amg\", \"bbr\", \"tgy\", \"sjd\", \"ukl\", \"pgn\", \"nod\", \"xpq\", \"bod\", \"eus\", \"zna\", \"cot\", \"hob\", \"waj\", \"low\", \"lug\", \"xmh\", \"dmw\", \"chg\", \"ldk\", \"lun\", \"mmk\", \"ydg\", \"fly\", \"xtl\", \"dop\", \"mra\", \"aog\", \"ukr\", \"ptv\", \"www\", \"gbx\", \"stu\", \"shn\", \"zpl\", \"trs\", \"had\", \"tvd\", \"wln\", \"yia\", \"srv\", \"dix\", \"luz\", \"csc\", \"tbu\", \"zum\", \"xsl\", \"jel\", \"dbp\", \"hmz\", \"ity\", \"wji\", \"phw\", \"tja\", \"kbl\", \"lut\", \"qun\", \"cua\", \"ggw\", \"aib\", \"sdh\", \"nto\", \"kai\", \"lrl\", \"tuj\", \"bvd\", \"azg\", \"wba\", \"caq\", \"yiv\", \"jqr\", \"dwu\", \"gsn\", \""
     ]
    },
    {
     "name": "stdout",
     "output_type": "stream",
     "text": [
      "maj\", \"ukp\", \"nzd\", \"nnv\", \"wwo\", \"lga\", \"mzy\", \"yzk\", \"cnt\", \"glj\", \"acw\", \"lol\", \"bzo\", \"mhy\", \"mpq\", \"nmd\", \"kpf\", \"miw\", \"krt\", \"ake\", \"hmv\", \"der\", \"sbw\", \"kdg\", \"yoi\", \"doa\", \"non\", \"tmn\", \"bgf\", \"dsq\", \"idb\", \"gal\", \"kax\", \"nxd\", \"bvv\", \"kef\", \"haz\", \"obt\", \"mhi\", \"nmq\", \"aye\", \"bzc\", \"kce\", \"amh\", \"fud\", \"keq\", \"ldo\", \"xky\", \"trr\", \"fsl\", \"cbs\", \"duw\", \"wsr\", \"due\", \"kmd\", \"usa\", \"pip\", \"nur\", \"xpd\", \"kir\", \"ain\", \"ttu\", \"acp\", \"bfh\", \"mgv\", \"mrj\", \"grd\", \"agm\", \"xas\", \"rtw\", \"nzi\", \"jbu\", \"ndw\", \"ruu\", \"ppm\", \"urx\", \"nhd\", \"gin\", \"twc\", \"mrm\", \"mbo\", \"gvf\", \"atc\", \"wdj\", \"nqq\", \"abo\", \"mna\", \"lmq\", \"kup\", \"nsf\", \"ser\", \"dtd\", \"cto\", \"aak\", \"zko\", \"kql\", \"mxo\", \"zgr\", \"mjc\", \"oci\", \"hgw\", \"klb\", \"kzf\", \"qxc\", \"spn\", \"zmf\", \"gld\", \"zhb\", \"zor\", \"kot\", \"lej\", \"tkr\", \"tub\", \"kiv\", \"rsk\", \"bpm\", \"ggu\", \"yin\", \"xki\", \"tna\", \"mwf\", \"cad\", \"dgl\", \"bux\", \"ktg\", \"bpd\", \"zmd\", \"agt\", \"xpb\", \"quc\", \"xct\", \"vmi\", \"mhf\", \"ged\", \"tez\", \"diw\", \"ple\", \"bhz\", \"gmb\", \"gvc\", \"kie\", \"qxq\", \"yav\", \"gfk\", \"kls\", \"ppl\", \"nwb\", \"dwa\", \"zyj\", \"kno\", \"bxj\", \"rau\", \"zpa\", \"gsp\", \"toq\", \"lss\", \"kdx\", \"okn\", \"xpo\", \"mwv\", \"mgm\", \"kht\", \"kdw\", \"noz\", \"bcv\", \"kqr\", \"krd\", \"dnr\", \"kta\", \"mbb\", \"ubu\", \"wfg\", \"bwj\", \"bpx\", \"lkh\", \"bqa\", \"muj\", \"sed\", \"sxk\", \"bdy\", \"grv\", \"ukw\", \"vah\", \"ksl\", \"gui\", \"wci\", \"aub\", \"njx\", \"mvl\", \"gwb\", \"ton\", \"abq\", \"ncg\", \"gak\", \"tnq\", \"djf\", \"alq\", \"pli\", \"tbm\", \"ysc\", \"kst\", \"ztu\", \"tzl\", \"scp\", \"bdb\", \"gix\", \"lna\", \"tdl\", \"cnx\", \"kib\", \"moz\", \"onw\", \"wig\", \"cmo\", \"les\", \"ybn\", \"yph\", \"tvn\", \""
     ]
    },
    {
     "name": "stdout",
     "output_type": "stream",
     "text": [
      "pnt\", \"glh\", \"bhb\", \"ibo\", \"trw\", \"bww\", \"kkv\", \"ijs\", \"bhs\", \"jpn\", \"mzm\", \"tor\", \"nuj\", \"bit\", \"btm\", \"gge\", \"gag\", \"hrx\", \"gdi\", \"enb\", \"kkh\", \"ntw\", \"raw\", \"tob\", \"wer\", \"tim\", \"nnd\", \"tsb\", \"xkw\", \"nlq\", \"bvq\", \"nuz\", \"jiq\", \"kap\", \"lfa\", \"lmw\", \"nyb\", \"thq\", \"tro\", \"urn\", \"yes\", \"ibm\", \"kuc\", \"row\", \"xub\", \"tlb\", \"mln\", \"yik\", \"eko\", \"pix\", \"mpp\", \"umr\", \"sxn\", \"bhw\", \"suj\", \"xnk\", \"bhp\", \"aey\", \"bcr\", \"nmi\", \"zhd\", \"pbm\", \"sky\", \"bgw\", \"jun\", \"niw\", \"gub\", \"kbq\", \"dui\", \"mwn\", \"skt\", \"pep\", \"aga\", \"nnl\", \"dyr\", \"spl\", \"mes\", \"raj\", \"ske\", \"dbf\", \"seg\", \"mei\", \"kec\", \"goc\", \"mta\", \"kaw\", \"rng\", \"bsw\", \"ngw\", \"ztq\", \"mwl\", \"arg\", \"eri\", \"oaa\", \"lnb\", \"xtt\", \"ped\", \"srh\", \"wut\", \"nul\", \"ppn\", \"cgk\", \"kom\", \"bbi\", \"vmx\", \"pci\", \"nvm\", \"lai\", \"soj\", \"sus\", \"ekr\", \"pps\", \"aiq\", \"tbi\", \"kvl\", \"irk\", \"vko\", \"tbg\", \"bxc\", \"yey\", \"cbc\", \"bjg\", \"mig\", \"bbv\", \"nzu\", \"cgg\", \"moc\", \"snx\", \"akl\", \"dmu\", \"tjo\", \"nob\", \"bow\", \"nas\", \"avs\", \"nij\", \"tis\", \"jms\", \"brg\", \"zkv\", \"sxe\", \"giu\", \"trz\", \"lek\", \"dlg\", \"wlo\", \"nhq\", \"ymh\", \"tqr\", \"ddd\", \"kfu\", \"ren\", \"nmj\", \"yug\", \"mvy\", \"fcs\", \"gqn\", \"pes\", \"xsj\", \"lil\", \"fah\", \"nnq\", \"mga\", \"plq\", \"mxb\", \"gov\", \"tay\", \"tdr\", \"tju\", \"auc\", \"hkk\", \"gcn\", \"mns\", \"tdh\", \"vin\", \"jnl\", \"cbw\", \"mfi\", \"zpp\", \"rmy\", \"rgu\", \"bjt\", \"pbc\", \"thf\", \"mrz\", \"toy\", \"rap\", \"ndo\", \"hii\", \"fad\", \"arb\", \"hgm\", \"uan\", \"nlg\", \"xty\", \"esh\", \"yln\", \"ndy\", \"som\", \"yrb\", \"gxx\", \"liw\", \"gnn\", \"swb\", \"uni\", \"gnw\", \"snl\", \"nzk\", \"ket\", "
     ]
    },
    {
     "name": "stdout",
     "output_type": "stream",
     "text": [
      "\"axk\", \"bro\", \"ide\", \"pda\", \"myu\", \"kzl\", \"nbq\", \"kal\", \"apg\", \"bbm\", \"skh\", \"bgo\", \"zmv\", \"msm\", \"rmo\", \"hab\", \"ksq\", \"apz\", \"ogo\", \"zpn\", \"mhc\", \"xpv\", \"csy\", \"dth\", \"gvn\", \"kbx\", \"zmz\", \"soa\", \"hvn\", \"xeg\", \"xwo\", \"ceb\", \"tzh\", \"lnd\", \"sml\", \"rav\", \"lev\", \"kdp\", \"bxl\", \"twx\", \"moy\", \"gri\", \"ypa\", \"cwg\", \"emb\", \"mgh\", \"onu\", \"xmy\", \"asi\", \"dts\", \"msk\", \"ynk\", \"bcn\", \"ccc\", \"kdy\", \"kea\", \"mai\", \"aul\", \"aww\", \"dtp\", \"qxp\", \"sab\", \"snf\", \"tuf\", \"yss\", \"cms\", \"jkm\", \"pey\", \"vku\", \"mji\", \"nqo\", \"mwa\", \"ymd\", \"kke\", \"gvs\", \"cuh\", \"lax\", \"ndu\", \"zgm\", \"zra\", \"obo\", \"ksg\", \"nsy\", \"sij\", \"niu\", \"sko\", \"bqg\", \"sgc\", \"sju\", \"iry\", \"fie\", \"wsi\", \"zkh\", \"aqr\", \"llq\", \"tkf\", \"pwb\", \"mca\", \"gug\", \"swc\", \"ysl\", \"sza\", \"gir\", \"tpc\", \"prh\", \"dee\", \"lmd\", \"kgi\", \"cin\", \"run\", \"sqr\", \"dil\", \"frq\", \"doe\", \"npl\", \"dhv\", \"ire\", \"bzt\", \"mau\", \"tto\", \"col\", \"hwc\", \"spm\", \"gnu\", \"mfz\", \"mcm\", \"seb\", \"kvv\", \"omi\", \"uha\", \"kgf\", \"tjw\", \"tye\", \"fas\", \"xpa\", \"dgk\", \"gbz\", \"ldl\", \"dsn\", \"dik\", \"dhr\", \"isa\", \"bch\", \"aso\", \"bdc\", \"dis\", \"tcm\", \"nkm\", \"tku\", \"gan\", \"nrc\", \"psp\", \"mfy\", \"duy\", \"bae\", \"app\", \"rmd\", \"msy\", \"lsb\", \"snz\", \"nme\", \"akj\", \"lzl\", \"smr\", \"grg\", \"ndm\", \"ozm\", \"gus\", \"bfl\", \"fuf\", \"cjy\", \"agd\", \"mhg\", \"zpd\", \"kzi\", \"pom\", \"kzk\", \"zib\", \"bpy\", \"hei\", \"hmr\", \"ctc\", \"hkn\", \"gcf\", \"lmn\", \"pmx\", \"xka\", \"ytp\", \"bwp\", \"len\", \"jek\", \"lja\", \"pdo\", \"jka\", \"ihb\", \"kit\", \"mvv\", \"ifm\", \"dbn\", \"gaf\", \"acf\", \"kdi\", \"bbx\", \"tel\", \"oda\", \"yae\", \"kyd\", \"yaf\", \"btn\", \"kak\", \"nfd\", \"uks\", \"umn\", \"pim\","
     ]
    },
    {
     "name": "stdout",
     "output_type": "stream",
     "text": [
      " \"ajn\", \"ttk\", \"zae\", \"llc\", \"czo\", \"ngt\", \"bhq\", \"sdt\", \"wrb\", \"wrx\", \"slh\", \"bkv\", \"zpj\", \"brw\", \"kkp\", \"xks\", \"llk\", \"fpe\", \"atn\", \"duz\", \"huw\", \"mme\", \"fij\", \"kxq\", \"yty\", \"any\", \"nev\", \"nix\", \"oin\", \"lws\", \"bzb\", \"hbb\", \"twa\", \"yxu\", \"fur\", \"jyy\", \"xua\", \"kyv\", \"bdu\", \"kcb\", \"nyq\", \"dbi\", \"pcg\", \"sck\", \"aoj\", \"zpb\", \"cga\", \"cen\", \"kkl\", \"mwe\", \"zhn\", \"ndz\", \"wkd\", \"lbx\", \"ori\", \"obm\", \"ala\", \"bwy\", \"niv\", \"ncq\", \"kpv\", \"knu\", \"rcf\", \"unm\", \"kjz\", \"krl\", \"zul\", \"pmm\", \"bje\", \"hor\", \"cmg\", \"kaf\", \"npi\", \"hvc\", \"puw\", \"hnd\", \"niz\", \"tsr\", \"ysr\", \"lhi\", \"pku\", \"okg\", \"nzm\", \"qus\", \"spr\", \"zax\", \"kky\", \"fip\", \"swx\", \"omg\", \"prr\", \"mre\", \"sto\", \"tdd\", \"phn\", \"thz\", \"ruh\", \"cwd\", \"mhp\", \"ilb\", \"faj\", \"wlu\", \"fi"
     ]
    },
    {
     "name": "stdout",
     "output_type": "stream",
     "text": [
      "t\", \"wdd\", \"dtt\", \"tiq\", \"cjh\", \"mry\", \"fro\", \"mic\", \"srq\", \"sgx\", \"kfo\", \"tbe\", \"jav\", \"lch\", \"qxl\", \"csn\", \"mlv\", \"txt\", \"npb\", \"bpa\", \"gdr\", \"ife\", \"dof\", \"huf\", \"omx\", \"aqk\", \"vmq\", \"kff\", \"mon\", \"qxw\", \"chp\", \"fry\", \"hoc\", \"qxn\", \"zwa\", \"lwh\", \"sym\", \"dmm\", \"thk\", \"mjl\", \"ojg\", \"tgp\", \"tcw\", \"ths\", \"vkt\", \"dbj\", \"auh\", \"dna\", \"ijj\", \"mdw\", \"moa\", \"nnp\", \"omo\", \"tzo\", \"bma\", \"itv\", \"asr\", \"tqq\", \"lth\", \"ubl\", \"ktl\", \"nbl\", \"rmv\", \"cap\", \"kjk\", \"wsa\", \"aux\", \"kgg\", \"xac\", \"zga\", \"sat\", \"lsa\", \"tmz\", \"skn\", \"jrt\", \"kmf\", \"kwo\", \"lma\", \"kuv\", \"ctl\", \"kkk\", \"new\", \"pgu\", \"loj\", \"mbc\", \"rin\", \"btj\", \"alj\", \"rmw\", \"roc\", \"shb\", \"egy\", \"siw\", \"sni\", \"tcs\", \"wgb\", \"qxu\", \"pfe\", \"dnk\", \"dbm\", \"iso\", \"kdm\", \"xbi\", \"svk\", \"mer\", \"anv\", \"ror\", \"scb\", \"tuy\", \"mgp\", \"ell\", \"kkw\", \"pos\", \"ver\", \"wli\", \"wbs\", \"sei\", \"myb\", \"orz\", \"sbr\", \"uam\", \"lhl\", \"tdv\", \"wga\", \"kvo\", \"vie\", \"bkw\", \"srs\", \"quy\", \"aew\", \"dcr\", \"ryu\", \"pel\", \"tek\", \"yua\", \"mpw\", \"bym\", \"xby\", \"krh\", \"rer\", \"swt\", \"hat\", \"grh\", \"itt\", \"fao\", \"gmh\", \"ayl\", \"tng\", \"caa\", \"dhm\", \"gym\", \"anl\", \"qux\", \"pcd\", \"dkg\", \"erg\", \"tkd\", \"bak\", \"guz\", \"hmf\", \"zun\", \"djj\", \"ygr\", \"kku\", \"gnz\", \"oym\", \"sdc\", \"uya\", \"woy\", \"gai\", \"noi\", \"adg\", \"ygm\", \"alf\", \"bnn\", \"mmf\", \"pro\", \"wsv\", \"ybm\", \"asy\", \"bvj\", \"kwa\", \"wbm\", \"ykr\", \"cbq\", \"bcm\", \"mzi\", \"dva\", \"yip\", \"boa\", \"gae\", \"mkl\", \"kfn\", \"rka\", \"tec\", \"tey\", \"wnc\", \"pln\", \"gyy\", \"bvb\", \"aio\", \"htx\","
     ]
    },
    {
     "name": "stdout",
     "output_type": "stream",
     "text": [
      " \"kgw\", \"mvq\", \"ckh\", \"jge\", \"mpk\", \"kzx\", \"anc\", \"xht\", \"abi\", \"icr\", \"bmz\", \"byk\", \"job\", \"knq\", \"mil\", \"sno\", \"png\", \"lbg\", \"mct\", \"olo\", \"bev\", \"kyn\", \"gzn\", \"kkm\", \"moj\", \"wur\", \"rac\", \"aqm\", \"oty\", \"yal\", \"zap\", \"jmb\", \"utr\", \"zho\", \"hsl\", \"tzj\", \"bme\", \"tuh\", \"xnu\", \"mzz\", \"rmk\", \"kgy\", \"mso\", \"aro\", \"rsm\", \"cor\", \"lra\", \"ldb\", \"ska\", \"trt\", \"mgg\", \"tcc\", \"mcv\", \"gex\", \"ptw\", \"mev\", \"xkq\", \"drg\", \"zmx\", \"sst\", \"bza\", \"rki\", \"bdh\", \"kxz\", \"tpt\", \"bsb\", \"nrr\", \"ggg\", \"efi\", \"slx\", \"mkr\", \"mkq\", \"gyz\", \"btq\", \"mcp\", \"npu\", \"pmh\", \"xkv\", \"vae\", \"xkz\", \"kjs\", \"bqx\", \"kpr\", \"psc\", \"ram\", \"ext\", \"zps\", \"gop\", \"crz\", \"yaj\", \"thm\", \"ysm\", \"kfs\", \"hav\", \"xsa\", \"tsx\", \"glu\", \"ruk\", \"pnn\", \"swp\", \"bha\", \"mnv\", \"nun\", \"wan\", \"dua\", \"yas\", \"asb\", \"cbo\", \"bzz\", \"mpx\", \"gur\", \"vaa\", \"yah\", \"cak\", \"abv\", \"onx\", \"ntu\", \"zdj\", \"ksp\", \"gsl\", \"teo\", \"mfo\", \"kgu\", \"kgp\", \"jas\", \"amp\", \"bgn\", \"bzx\", \"sbn\", \"jup\", \"wnk\", \"mpy\", \"tag\", \"aug\", \"ski\", \"nat\", \"noj\", \"nqt\", \"sln\", \"bum\", \"kly\", \"klo\", \"ndt\", \"noe\", \"bdf\", \"squ\", \"vmu\", \"zoc\", \"auw\", \"naq\", \"bsi\", \"tru\", \"hnu\", \"gcr\", \"nql\", \"tiw\", \"zal\", \"mvn\", \"kav\", \"bjk\", \"kuw\", \"ckz\", \"lgn\", \"myx\", \"wls\", \"nhw\", \"zau\", \"nhk\", \"zmc\", \"pys\", \"aca\", \"ikx\", \"nee\", \"bgi\", \"ngh\", \"yau\", \"bmn\", \"ana\", \"bph\", \"lbi\", \"nsw\", \"cha\", \"bop\", \"wyy\", \"bky\", \"dgx\", \"knc\", \"rag\", \"syw\", \"sdj\", \"aao\", \"shm\", \"brb\", \"byi\", \"npa\", \"pgi\", \"clw\", \"ian\", \"fod\", \"nph\", \"niy\", \"ibr\", \"veo\", \"rmn\", \"tas\", \"kme\", \"ecy\", \"mnm\", \"mef\", \"ldi\", \"ktm\", \"nuh\", \"pto\", \"ysn\", \"lvu\", \"era\", \"rol\", \"ywt\", \"lcc\", \""
     ]
    },
    {
     "name": "stdout",
     "output_type": "stream",
     "text": [
      "mdt\", \"abu\", \"zkg\", \"bkg\", \"tvy\", \"kbh\", \"yrm\", \"kcm\", \"doz\", \"cuk\", \"prw\", \"sev\", \"tsi\", \"kaz\", \"ntj\", \"ybh\", \"suz\", \"sog\", \"ald\", \"bea\", \"fse\", \"hmb\", \"mhd\", \"sgu\", \"anu\", \"sur\", \"chl\", \"bzi\", \"anh\", \"izr\", \"alz\", \"mmb\", \"xok\", \"pzh\", \"aka\", \"nby\", \"bfw\", \"nik\", \"bay\", \"hmi\", \"jvd\", \"alc\", \"aur\", \"mzl\", \"bgj\", \"bet\", \"cpn\", \"chh\", \"knx\", \"kyj\", \"kmk\", \"cro\", \"kna\", \"bmm\", \"mhq\", \"mzx\", \"sii\", \"vav\", \"yby\", \"mqr\", \"nxi\", \"woc\", \"cpc\", \"mug\", \"xth\", \"crg\", \"nxl\", \"cnb\", \"bbh\", \"sen\", \"upv\", \"kse\", \"boz\", \"mog\", \"ayz\", \"bjw\", \"bqv\", \"mmv\", \"tmd\", \"yay\", \"kkq\", \"muo\", \"shk\", \"cym\", \"guw\", \"uge\", \"bah\", \"hik\", \"aae\", \"atj\", \"cag\", \"qve\", \"mea\", \"plb\", \"qya\", \"igs\", \"myy\", \"lee\", \"rus\", \"ssb\", \"tgx\", \"xdy\", \"gom\", \"zpf\", \"azz\", \"yyu\", \"kfd\", \"aah\", \"gab\", \"tfo\", \"dma\", \"srx\", \"htu\", \"asc\", \"xcv\", \"hib\", \"anm\", \"zlu\", \"lsw\", \"nhi\", \"txe\", \"bbs\", \"ame\", \"pss\", \"rgn\", \"vel\", \"mxp\", \"jan\", \"jia\", \"xbj\", \"acy\", \"tvt\", \"etz\", \"reb\", \"aax\", \"beq\", \"bvp\", \"ras\", \"yum\", \"iai\", \"nbc\", \"tht\", \"lmf\", \"noh\", \"int\", \"jat\", \"nhx\", \"nza\", \"bhl\", \"hvv\", \"prl\", \"sgj\", \"aqn\", \"cid\", \"heh\", \"gro\", \"rga\", \"kwz\", \"tam\", \"mxr\", \"gbo\", \"xly\", \"axl\", \"mqj\", \"tge\", \"mcg\", \"cuj\", \"kwe\", \"yij\", \"wny\", \"urw\", \"zkk\", \"vkp\", \"urm\", \"kqo\", \"mee\", \"adj\", \"kjq\", \"kjd\", \"cuu\", \"esi\", \"gow\", \"keu\", \"baw\", \"mdn\", \"pjt\", \"tww\", \"smb\", \"vnp\", \"bpv\", \"saw\", \"xko\", \"lml\", \"naa\", \"kah\", \"wub\", \"raa\", \"wiu\", \"abm\", \"tlh\", \"baa\", \"bhc\", \"shq\", \"ypm\", \"luq\", \"goe\", \"yne\", \"meq\", \"nmy\", \"nmx\", \"mzq\", \"wtk\", \"sbl\", \"odk\", \"xab\", \"zac\", \"tem\", \"vmb\", \"itb\", \"xtp\", \"sib\", \"lgo\", \"gig\", \"hov\", \"glc\", \"hsh\", \"mrl\", \"mts\", \"bjb\", \"nys\", \"iko"
     ]
    },
    {
     "name": "stdout",
     "output_type": "stream",
     "text": [
      "\", \"kmb\", \"nui\", \"sba\", \"ikk\", \"epi\", \"tln\", \"acn\", \"kcy\", \"fab\", \"iru\", \"las\", \"lit\", \"nda\", \"kph\", \"gdx\", \"acd\", \"nde\", \"pbn\", \"vma\", \"gra\", \"tpp\", \"puq\", \"koa\", \"bdj\", \"dgo\", \"nmu\", \"tbj\", \"ncf\", \"pyn\", \"sys\", \"apw\", \"xbr\", \"bce\", \"bda\", \"bku\", \"cja\", \"cui\", \"mll\", \"loc\", \"pud\", \"cek\", \"kws\", \"kze\", \"seh\", \"kha\", \"ltg\", \"bsm\", \"xil\", \"tog\", \"try\", \"nlu\", \"esg\", \"blo\", \"vmj\", \"zaz\", \"ivb\", \"uur\", \"rmp\", \"uis\", \"cok\", \"djk\", \"tdc\", \"tmi\", \"num\", \"ymo\", \"smz\", \"bxz\", \"cab\", \"otn\", \"bom\", \"bkh\", \"mdy\", \"biq\", \"mpd\", \"uga\", \"kpq\", \"rwk\", \"xoc\", \"gas\", \"gnd\", \"sbq\", \"smv\", \"gvy\", \"slg\", \"frr\", \"kaa\", \"npn\", \"nck\", \"maz\", \"blq\", \"idd\", \"umo\", \"naj\", \"ahr\", \"pbb\", \"lmc\", \"dja\", \"neq\", \"zsr\", \"ina\", \"xpu\", \"cko\", \"wkl\", \"zyp\", \"mhr\", \"spc\", \"tcg\", \"xya\", \"prf\", \"mdi\", \"cqd\", \"bsr\", \"chm\", \"kqi\", \"txs\", \"jma\", \"saa\", \"hks\", \"nec\", \"bas\", \"mej\", \"hom\", \"kwi\", \"agf\", \"dbt\", \"knv\", \"xkn\", \"nig\", \"kxf\", \"kss\", \"zms\", \"key\", \"xsq\", \"wau\", \"hos\", \"fag\", \"koy\", \"smw\", \"kbp\", \"spd\", \"mjt\", \"jvn\", \"mht\", \"mwr\", \"och\", \"nlj\", \"bfz\", \"xfa\", \"nae\", \"zia\", \"saq\", \"fni\", \"xgl\", \"glb\", \"mdb\", \"mgy\", \"adq\", \"sid\", \"kkz\", \"tkq\", \"bxv\", \"ruz\", \"smn\", \"kni\", \"tof\", \"kzu\", \"xug\", \"dhx\", \"xao\", \"ybx\", \"gju\", \"yro\", \"nyp\", \"hmn\", \"ktp\", \"xhr\", \"gaw\", \"hrm\", \"zmn\", \"uss\", \"clt\", \"guf\", \"mjj\", \"pin\", \"rue\", \"tlq\", \"txc\", \"ypp\", \"sjg\", \"wrp\", \"kzw\", \"mps\", \"pxm\", \"jud\", \"how\", \"tjm\", \"tyi\", \"vlp\", \"fut\", \"ktj\", \"ted\", \"its\", \"ghh\", \"nqm\", \"gwc\", \"btx\", \"ott\", \"led\", \"tnb\", \"tiv\", \"msq\", \"kow\", \"spe\", \"elo\", \"ctn\", \"par\", \"xtc\", \"pym\", \"m"
     ]
    },
    {
     "name": "stdout",
     "output_type": "stream",
     "text": [
      "ue\", \"kxi\", \"dnn\", \"bfx\", \"nht\", \"vor\", \"lhh\", \"lwl\", \"kum\", \"ite\", \"llm\", \"xet\", \"one\", \"bqs\", \"ktx\", \"dih\", \"laj\", \"yup\", \"bdm\", \"kio\", \"kov\", \"qup\", \"gaa\", \"kgt\", \"plz\", \"lox\", \"kjg\", \"umd\", \"ztg\", \"tsd\", \"acr\", \"pmt\", \"alm\", \"sku\", \"lgu\", \"sta\", \"gke\", \"gog\", \"txg\", \"xdc\", \"alx\", \"trg\", \"fmp\", \"tgz\", \"bri\", \"bsu\", \"ych\", \"afs\", \"nid\", \"oia\", \"kbt\", \"caz\", \"agw\", \"byl\", \"lsc\", \"pbp\", \"tdx\", \"cpa\", \"grx\", \"qvi\", \"yra\", \"ipo\", \"lkn\", \"bht\", \"yea\", \"aal\", \"ecs\", \"mpl\", \"way\", \"kyc\", \"ikv\", \"kzc\", \"mvx\", \"max\", \"ncj\", \"pex\", \"aip\", \"yaa\", \"lem\", \"ogg\", \"aar\", \"tcb\", \"hdy\", \"ywu\", \"wnp\", \"zmj\", \"bac\", \"ulu\", \"jie\", \"mfc\", \"jmd\", \"bor\", \"rji\", \"mxf\", \"ugn\", \"kpu\", \"pea\", \"ddo\", \"kpx\", \"xpe\", \"ngz\", \"zmg\", \"kzv\", \"nwx\", \"muv\", \"buv\", \"mav\", \"ssc\", \"kns\", \"tnh\", \"xaa\", \"lou\", \"mxv\", \"sjn\", \"cji\", \"sqh\", \"afi\", \"mhe\", \"mrk\", \"soe\", \"kzb\", \"wao\", \"kfv\", \"mbs\", \"amz\", \"ktb\", \"aoe\", \"bgg\", \"skg\", \"skr\", \"vml\", \"zaf\", \"ayn\", \"chq\", \"azb\", \"ant\", \"lcd\", \"ksf\", \"blj\", \"kjr\", \"lbc\", \"mpo\", \"duc\", \"uru\", \"ngk\", \"umi\", \"xap\", \"ymp\", \"amy\", \"sgk\", \"oji\", \"mek\", \"hit\", \"muq\", \"wof\", \"apk\", \"mzb\", \"xxr\", \"kbb\", \"cyo\", \"mbl\", \"aok\", \"nki\", \"yhs\", \"iwk\", \"kqu\", \"dzl\", \"bfs\", \"tap\", \"urr\", \"ngx\", \"syr\", \"xlc\", \"nwa\", \"aws\", \"ccl\", \"knj\", \"cam\", \"pnb\", \"iti\", \"qvl\", \"kjm\", \"nfl\", \"kqt\", \"ogu\", \"hao\", \"mzp\", \"kxa\", \"ysp\", \"mfm\", \"mlu\", \"okh\", \"phv\", \"ptr\", \"smo\", \"snn\", \"iku\", \"lgm\", \"nbu\", \"ncu\", \"kvq\", \"aac\", \"lgl\", \"ona\", \"kjx\", \"blh\", \"ude\", \"deu\", \"gcc\", \"jau\", \"lhu\", \"ero\", \"xlu\", \"lig\", "
     ]
    },
    {
     "name": "stdout",
     "output_type": "stream",
     "text": [
      "\"bem\", \"aqc\", \"tta\", \"bkt\", \"ppk\", \"std\", \"gou\", \"goq\", \"dse\", \"gux\", \"xmj\", \"yrk\", \"uzb\", \"gqr\", \"mjr\", \"xnn\", \"ayd\", \"lgz\", \"bvh\", \"blx\", \"yeu\", \"kek\", \"osn\", \"buq\", \"adh\", \"bja\", \"luo\", \"mvs\", \"aqt\", \"auu\", \"ory\", \"gla\", \"kbm\", \"qws\", \"rkt\", \"dso\", \"xur\", \"huo\", \"lnn\", \"gbs\", \"tcx\", \"yxm\", \"zil\", \"urb\", \"upi\", \"dai\", \"pmb\", \"ido\", \"klg\", \"lky\", \"okk\", \"cni\", \"nnc\", \"hmp\", \"kuf\", \"uma\", \"yur\", \"chu\", \"klz\", \"txu\", \"kcs\", \"wyi\", \"ruy\", \"ett\", \"hij\", \"lof\", \"bwx\", \"xuo\", \"wca\", \"deh\", \"xbp\", \"say\", \"blt\", \"mny\", \"mws\", \"wly\", \"lex\", \"bde\", \"crc\", \"hrc\", \"hrw\", \"plv\", \"rel\", \"mkc\", \"hmq\", \"mnz\", \"inl\", \"tds\", \"zmt\", \"gpa\", \"ayg\", \"bwf\", \"gyd\", \"tmh\", \"utu\", \"xog\", \"cmr\", \"bhd\", \"mqe\", \"cby\", \"bnk\", \"sug\", \"act\", \"mbx\", \"mur\", \"bis\", \"arh\", \"mec\", \"gof\", \"hru\", \"ins\", \"pkg\", \"pdc\", \"lef\", \"nbe\", \"diq\", \"pme\", \"wmg\", \"btg\", \"pcc\", \"pej\", \"cnw\", \"zsk\", \"mjw\", \"xcr\", \"deg\", \"ers\", \"jus\", \"dnj\", \"gdm\", \"ggl\", \"mxc\", \"bzr\", \"sub\", \"def\", \"ebk\", \"enl\", \"naz\", \"nrm\", \"luw\", \"ptq\", \"lzz\", \"mtc\", \"mag\", \"yde\", \"ayp\", \"aaf\", \"akp\", \"cdi\", \"flr\", \"knp\", \"mum\", \"nrl\", \"ifk\", \"khk\", \"lab\", \"kck\", \"rro\", \"tad\", \"dnd\", \"frm\", \"pho\", \"teu\", \"ncs\", \"thv\", \"wlk\", \"gmg\", \"xdm\", \"yll\", \"atp\", \"haa\", \"nfu\", \"pbf\", \"nxr\", \"beh\", \"ral\", \"lik\", \"ahh\", \"wag\", \"hwo\", \"bql\", \"byx\", \"aku\", \"bhv\", \"idc\", \"the\", \"xse\", \"dwy\", \"bnc\", \"nnu\", \"sdu\", \"kvk\", \"mnh\", \"xaj\", \"pch\", \"rea\", \"wuv\", \"vrs\", \"kwx\", \"lel\", \"slp\", \"dms\", \"vmg\", \"ndq\", \"mwo\", \"cae\", \"xbe\", \"xcu\", \"bao\", \"ors\", \"hre\", \"sah\", \"kte\", \"cbl\", \"psi\", \"doq\", \"lxm\", \"gdu\", \"lha\", \"bhu\", \"mne\", \"tte\", \"cbn\", \"plw\", \"u"
     ]
    },
    {
     "name": "stdout",
     "output_type": "stream",
     "text": [
      "lc\", \"gdj\", \"ban\", \"mzu\", \"rwl\", \"igw\", \"xad\", \"mnr\", \"xam\", \"ssp\", \"wiv\", \"mjh\", \"lbv\", \"ayu\", \"ngc\", \"lmr\", \"xgi\", \"cde\", \"dow\", \"kix\", \"kpm\", \"grm\", \"nsv\", \"mlt\", \"rnr\", \"nzy\", \"ats\", \"nho\", \"xmm\", \"xtd\", \"ano\", \"wog\", \"nej\", \"laf\", \"xir\", \"pae\", \"frk\", \"ptt\", \"cda\", \"shc\", \"blz\", \"bye\", \"qvp\", \"ojv\", \"tmj\", \"wat\", \"skj\", \"nen\", \"sje\", \"ycn\", \"mcq\", \"fnb\", \"bdg\", \"sle\", \"jiy\", \"uzn\", \"dzo\", \"nkx\", \"zim\", \"xnt\", \"bhf\", \"byc\", \"pru\", \"leu\", \"mte\", \"mrp\", \"ekk\", \"omn\", \"ygu\", \"llg\", \"mkw\", \"bvc\", \"xup\", \"seu\", \"yiz\", \"vrt\", \"swm\", \"trd\", \"maf\", \"tpy\", \"bbl\", \"byo\", \"ybb\", \"lbz\", \"bdk\", \"cpu\", \"lwm\", \"aps\", \"uln\", \"nbv\", \"evh\", \"ojp\", \"yam\", \"apr\", \"hng\", \"usp\", \"lpx\", \"dmv\", \"mux\", \"ail\", \"ebg\", \"bvw\", \"pif\", \"zmr\", \"cts\", \"fmu\", \"mjv\", \"ojw\", \"tpu\", \"bko\", \"pdt\", \"kgv\", \"lar\", \"twt\", \"zoq\", \"mhu\", \"cpb\", \"myv\", \"phj\", \"mak\", \"nga\", \"bqn\", \"duf\", \"nmo\", \"pux\", \"kgk\", \"kzq\", \"agc\", \"oor\", \"tal\", \"bsf\", \"zam\", \"ssz\", \"buw\", \"myl\", \"tok\", \"mrv\", \"kpz\", \"sie\", \"nsh\", \"mzn\", \"bun\", \"nwm\", \"odu\", \"mar\", \"aeb\", \"vka\", \"mtm\", \"gbn\", \"ycp\", \"lor\", \"tnr\", \"bng\", \"gjr\", \"zpc\", \"kvz\", \"bxa\", \"kcu\", \"cnh\", \"mxq\", \"igl\", \"aob\", \"ncc\", \"net\", \"tov\", \"znk\", \"ksr\", \"tso\", \"gbp\", \"ner\", \"xch\", \"kqy\", \"afu\", \"srk\", \"fif\", \"ttw\""
     ]
    },
    {
     "name": "stdout",
     "output_type": "stream",
     "text": [
      ", \"ute\", \"bzj\", \"glk\", \"dlm\", \"nji\", \"smf\", \"dyo\", \"mmp\", \"jhi\", \"ulk\", \"snj\", \"ior\", \"sga\", \"tme\", \"scv\", \"tlk\", \"kft\", \"nqy\", \"mvh\", \"zin\", \"wno\", \"dno\", \"gnc\", \"siu\", \"kcj\", \"aic\", \"pmq\", \"dam\", \"fvr\", \"pml\", \"vmv\", \"tcu\", \"tbx\", \"jio\", \"nuy\", \"pmy\", \"okl\", \"tlx\", \"mdd\", \"won\", \"xbc\", \"kab\", \"zmk\", \"erw\", \"pnj\", \"mjb\", \"mpn\", \"oku\", \"tvx\", \"mjz\", \"grs\", \"kad\", \"lbr\", \"drn\", \"poc\", \"mlg\", \"zku\", \"jax\", \"krj\", \"nua\", \"tcf\", \"xsr\", \"klf\", \"pcl\", \"ask\", \"nxx\", \"gaj\", \"pei\", \"cob\", \"ibe\", \"jnj\", \"vil\", \"smc\", \"ikt\", \"yzg\", \"tya\", \"cdo\", \"mbq\", \"avm\", \"twl\", \"vme\", \"kjc\", \"lst\", \"tft\", \"sqi\", \"lwt\", \"mxj\", \"bjz\", \"bkx\", \"pir\", \"nil\", \"cnr\", \"uby\", \"cmm\", \"lip\", \"wgu\", \"str\", \"gza\", \"gbb\", \"mke\", \"ceg\", \"swo\", \"mpi\", \"elu\", \"baf\", \"awa\", \"ady\", \"njl\", \"ddn\", \"jen\", \"nuq\", \"snv\", \"dol\", \"isc\", \"vnm\", \"leo\", \"bnx\", \"mbi\", \"pnv\", \"quf\", \"lur\", \"nra\", \"mrq\", \"bcd\", \"mij\", \"mjg\", \"cco\", \"tls\", \"whu\", \"spv\", \"kep\", \"nms\", \"cch\", \"nuc\", \"kng\", \"bdo\", \"dhg\", \"ayo\", \"sxm\", \"acq\", \"bgt\", \"esk\", \"asj\", \"gvr\", \"itx\", \"sqx\", \"brq\", \"huu\", \"ndd\", \"bdn\", \"zbl\", \"bhi\", \"rxw\", \"aif\", \"wma\", \"ebo\", \"eya\", \"djc\", \"dmc\", \"vay\", \"vmp\", \"wei\", \"mnj\", \"twd\", \"xyj\", \"cnp\", \"ron\", \"tdq\", \"nds\", \"zpe\", \"fli\", \"mep\", \"nif\", \"rom\", \"taq\", \"qwh\", \"vif\", \"ljl\", \"zha\", \"isk\", \"kge\", \"kmh\", \"njr\", \"pri\", \"aea\", \"pis\", \"pny\", \"ncm\", \"xnq\", \"mzt\", \"spo\", \"bpi\", \"dza\", \"nhh\", \"thl\", \"ttj\", \"zar\", \"clc\", \"mom\", \"osx\", \"zlj\", \"xvi\", \"que\", \"bki\", \"xny\", \"tbr\", \"hin\", \"kae\", \"wbl\", \"koe\", \"mmh\", \"bam\", \"syc\", \"bul\", \"jim\", \"hnh\", \"atg\", \"dum\", \"hmt\", \"kzs\", \"lln\", \"mgs\", \"dhs\", \"nk"
     ]
    },
    {
     "name": "stdout",
     "output_type": "stream",
     "text": [
      "w\", \"sag\", \"bei\", \"bns\", \"mmm\", \"mrh\", \"kvt\", \"phk\", \"sbz\", \"sjl\", \"bmi\", \"kjh\", \"xdk\", \"mjy\", \"hla\", \"dgt\", \"mpz\", \"mib\", \"nse\", \"rub\", \"tsp\", \"bcu\", \"cla\", \"jle\", \"tns\", \"wbv\", \"nii\", \"kfh\", \"dir\", \"qvc\", \"xxb\", \"yom\", \"tig\", \"kbi\", \"msb\", \"kmj\", \"ash\", \"awy\", \"otq\", \"asw\", \"aho\", \"pmj\", \"sdl\", \"siv\", \"fla\", \"ono\", \"pus\", \"gyi\", \"vem\", \"vig\", \"qxa\", \"scg\", \"sms\", \"aki\", \"lhm\", \"uda\", \"dic\", \"wbb\", \"ngb\", \"tch\", \"nal\", \"nww\", \"boe\", \"inj\", \"ehs\", \"haw\", \"tlm\", \"aks\", \"awi\", \"nwg\", \"cra\", \"zln\", \"gsw\", \"poy\", \"den\", \"rmb\", \"cst\", \"nha\", \"rog\", \"brm\", \"wap\", \"cic\", \"sxo\", \"alk\", \"bdi\", \"ayk\", \"btp\", \"gyn\", \"san\", \"grr\", \"gbv\", \"dbl\", \"gwd\", \"kww\", \"aud\", \"cey\", \"xkb\", \"anr\", \"sls\", \"tjl\", \"psg\", \"adt\", \"bdl\", \"kuh\", \"sar\", \"gad\", \"ctu\", \"krk\", \"vkj\", \"bzd\", \"mtn\", \"nyl\", \"lgh\", \"dhd\", \"sey\", \"ahg\", \"aiw\", \"cjs\", \"nxo\", \"ote\", \"pbr\", \"hum\", \"bsl\", \"yrn\", \"bfj\", \"mkt\", \"peb\", \"agb\", \"amf\", \"blm\", \"zbt\", \"mzg\", \"onj\", \"woe\", \"olm\", \"abk\", \"mzw\", \"rab\", \"thr\", \"gar\", \"khd\", \"bfo\", \"jks\", \"clm\", \"kcn\", \"mwq\", \"sue\", \"siq\", \"sma\", \"hed\", \"tyx\", \"coa\", \"mrw\", \"nyu\", \"thp\", \"txq\", \"kzr\", \"ugb\", \"asf\", \"akv\", \"thh\", \"gna\", \"oar\", \"bof\", \"xxk\", \"kct\", \"sxc\", \"kde\", \"wgy\", \"bnw\", \"lrr\", \"egm\", \"kih\", \"nlw\", \"spt\", \"arx\", \"lbn\", \"hoe\", \"agl\", \"bvg\", \"dor\", \"klh\", \"gbj\", \"kvr\", \"smq\", \"brn\", \"ldd\", \"mtq\", \"sps\", \"hui\", \"ttc\", \"wux\", \"grj\", \"ngn\", \"rod\", \"bms\", \"tue\", \"wil\", \"xsy\", \"lpn\", \"tuc\", \"mfu\", \"xmd\", \"ade\", \"tpe\", \"lri\", \"zrg\", \"nkr\", \"zte\", \"xgr\", \"mfh\", \"shy\", \"zay\", \"pan\", \"abn\", \"emp\", \"sru\", \"wob\", \"nhv\", \"peo\", \"kqx\", \"pso\", \"aen\", \"aza\", \"bve\", \"brj\", "
     ]
    },
    {
     "name": "stdout",
     "output_type": "stream",
     "text": [
      "\"gbd\", \"geq\", \"gyr\", \"ima\", \"lic\", \"gib\", \"nsq\", \"phd\", \"lhn\", \"nie\", \"tfr\", \"wbq\", \"wik\", \"yan\", \"yno\", \"zgb\", \"zmu\", \"pov\", \"sra\", \"gok\", \"eaa\", \"wam\", \"wbw\", \"ksi\", \"gul\", \"juh\", \"mtf\", \"xpt\", \"bxu\", \"gkd\", \"mir\", \"ymb\", \"tql\", \"tbh\", \"tdj\", \"xme\", \"hai\", \"pem\", \"arq\", \"ani\", \"tll\", \"xar\", \"jig\", \"akr\", \"ktv\", \"omp\", \"ost\", \"bef\", \"mwi\", \"zkz\", \"mdx\", \"kyq\", \"sgd\", \"bip\", \"lbt\", \"aon\", \"zoh\", \"qxh\", \"kog\", \"mxw\", \"piw\", \"orn\", \"ind\", \"kdk\", \"wmb\", \"zpg\", \"jgk\", \"mgc\", \"ulb\", \"mfw\", \"nly\", \"bgr\", \"eit\", \"eve\", \"lzh\", \"tgn\", \"wii\", \"lrg\", \"czt\", \"bqu\", \"tou\", \"tqo\", \"nan\", \"avv\", \"wmw\", \"ygl\", \"dri\", \"ksz\", \"kya\", \"wnm\", \"tat\", \"kvf\", \"aot\", \"lae\", \"brh\", \"bkz\", \"ljw\", \"ssl\", \"ghs\", \"gmx\", \"cdy\", \"abr\", \"mxz\", \"nit\", \"huc\", \"wmh\", \"xra\", \"ebc\", \"wad\", \"ght\", \"fss\", \"ims\", \"jur\", \"kdq\", \"lio\", \"etr\", \"tsh\", \"xav\", \"zts\", \"bsq\", \"paq\", \"tno\", \"pub\", \"rax\", \"nku\", \"abc\", \"xmw\", \"kkb\", \"ccg\", \"kdh\", \"lap\", \"crq\", \"tly\", \"taa\", \"koz\", \"nhm\", \"pks\", \"sdp\", \"lon\", \"mmc\", \"wtw\", \"lua\", \"mpj\", \"tef\", \"yms\", \"yei\", \"yet\", \"csw\", \"dif\", \"ila\", \"hts\", \"mmq\", \"kyb\", \"eky\", \"psr\", \"hix\", \"ktw\", \"kes\", \"mba\", \"kiy\", \"bgq\", \"pia\", \"xma\", \"hau\", \"akx\", \"lni\", \"tdf\", \"xul\", \"glv\", \"wuh\", \"eiv\", \"blk\", \"rmg\", \"nlz\", \"kiz\", \"gbw\", \"amu\", \"ktu\", \"dmr\", \"srb\", \"kgl\", \"nxn\", \"dev\"])"
     ]
    }
   ],
   "source": [
    "Set(String.(T.Id))|>print"
   ]
  },
  {
   "cell_type": "code",
   "execution_count": 26,
   "metadata": {},
   "outputs": [
    {
     "data": {
      "text/plain": [
       "Set{String} with 7916 elements:\n",
       "  \"dev\"\n",
       "  \"psy\"\n",
       "  \"sgp\"\n",
       "  \"ont\"\n",
       "  \"loy\"\n",
       "  \"iin\"\n",
       "  \"glw\"\n",
       "  \"fau\"\n",
       "  \"sdk\"\n",
       "  \"eze\"\n",
       "  \"sgh\"\n",
       "  \"vmw\"\n",
       "  \"ztt\"\n",
       "  \"ksj\"\n",
       "  \"kux\"\n",
       "  \"moq\"\n",
       "  \"bkc\"\n",
       "  \"bxk\"\n",
       "  \"kwf\"\n",
       "  ⋮ "
      ]
     },
     "metadata": {},
     "output_type": "display_data"
    }
   ],
   "source": [
    "id_all = Set([\"lyn\", \"psy\", \"sgp\", \"ont\", \"loy\", \"iin\", \"glw\", \"fau\", \"sdk\", \"eze\", \"sgh\", \"vmw\", \"ztt\", \"ksj\", \"kux\", \"moq\", \"bkc\", \"bxk\", \"kwf\", \"isd\", \"kti\", \"wbp\", \"gek\", \"wyb\", \"lvk\", \"khl\", \"mpb\", \"wwb\", \"zpk\", \"gyf\", \"xpj\", \"anz\", \"bgs\", \"khs\", \"osu\", \"nru\", \"auo\", \"cia\", \"wrv\", \"gmn\", \"jda\", \"hak\", \"sbc\", \"keg\", \"pez\", \"soz\", \"mtp\", \"aeq\", \"bbw\", \"fun\", \"nju\", \"skv\", \"ggd\", \"ssr\", \"ukk\", \"til\", \"gwm\", \"mae\", \"yim\", \"mdp\", \"yor\", \"jje\", \"skp\", \"mrc\", \"ssu\", \"kue\", \"yuk\", \"khv\", \"ofo\", \"aih\", \"bqy\", \"dny\", \"liu\", \"pno\", \"pmo\", \"tza\", \"ksw\", \"lks\", \"pow\", \"aof\", \"piy\", \"vau\", \"byn\", \"tdb\", \"ygs\", \"zaj\", \"ile\", \"gay\", \"hrk\", \"kcx\", \"pot\", \"kdz\", \"rej\", \"omy\", \"tes\", \"hea\", \"sui\", \"amk\", \"bsp\", \"fir\", \"bbn\", \"bxw\", \"swl\", \"xtg\", \"crk\", \"jum\", \"rim\", \"lse\", \"mot\", \"sde\", \"olr\", \"mqf\", \"wbf\", \"kye\", \"nut\", \"pum\", \"jru\", \"mti\", \"bju\", \"ycr\", \"nbt\", \"kyo\", \"anb\", \"zik\", \"ndi\", \"tvk\", \"amr\", \"mov\", \"ggb\", \"afb\", \"muz\", \"lka\", \"nup\", \"noa\", \"wle\", \"bqj\", \"zmh\", \"kiw\", \"aym\", \"sep\", \"hil\", \"arv\", \"kpe\", \"stn\", \"kdj\", \"reg\", \"yaz\", \"ksy\", \"saj\", \"mtg\", \"ghr\", \"wsg\", \"mlq\", \"kfa\", \"pna\", \"dub\", \"lbu\", \"msc\", \"kay\", \"elh\", \"njz\", \"lsn\", \"rob\", \"tuv\", \"skc\", \"xud\", \"ymn\", \"dtr\", \"apb\", \"idi\", \"jgo\", \"sov\", \"uig\", \"xeb\", \"haj\", \"kxk\", \"mxk\", \"ckr\", \"xpk\", \"lie\", \"mlj\", \"tnx\", \"beg\", \"wah\", \"qvj\", \"ytw\", \"mtt\", \"brt\", \"aum\", \"goj\", \"gon\", \"koc\", \"mbv\", \"bse\", \"agr\", \"azo\", \"mzo\", \"nbh\", \"tsv\", \"snd\", \"aru\", \"apj\", \"kyz\", \"ylb\", \"gpe\", \"tep\", \"gwf\", \"wrs\", \"usk\", \"vmr\", \"sve\", \"bnq\", \"csi\", \"ump\", \"tnz\", \"ggk\", \"kxj\", \"fil\", \"kba\", \"tsl\", \"tun\", \"nrn\", \"nlo\", \"apl\", \"siy\", \"wgg\", \"huv\", \"suo\", \"swj\", \"slu\", \"hss\", \"tra\", \"dtm\", \"nsg\", \"osa\", \"nks\", \"peh\", \"eki\", \"glg\", \"lok\", \"jpa\", \"rjs\", \"xwe\", \"iqu\", \"kxv\", \"mzr\", \"gnt\"\n",
    ", \"pid\", \"tjp\", \"zxx\", \"sbk\", \"kwj\", \"mgq\", \"msz\", \"tqp\", \"bmf\", \"vsl\", \"tgq\", \"wku\", \"pcp\", \"lez\", \"cks\", \"mxx\", \"ary\", \"mfr\", \"xtu\", \"jao\", \"bwr\", \"mlh\", \"peq\", \"sim\", \"lah\", \"mnx\", \"aua\", \"luv\", \"pas\", \"bin\", \"bud\", \"lop\", \"gdl\", \"mvt\", \"che\", \"mdu\", \"nrx\", \"kqh\", \"swk\", \"yer\", \"bsx\", \"rbp\", \"tzn\", \"hye\", \"aek\", \"vol\", \"xuu\", \"mls\", \"wxw\", \"kdl\", \"aan\", \"grw\", \"vis\", \"bmv\", \"xib\", \"ese\", \"hrt\", \"tmr\", \"kym\", \"mjn\", \"kqp\", \"vkm\", \"jog\", \"yda\", \"fos\", \"mxh\", \"jku\", \"ubi\", \"bwu\", \"crn\", \"mgw\", \"anw\", \"orm\", \"khb\", \"abx\", \"bmc\", \"nmg\", \"tan\", \"cte\", \"adw\", \"gmz\", \"btv\", \"gzi\", \"nia\", \"ylo\", \"srd\", \"zpu\", \"xzh\", \"rgk\", \"alh\", \"mty\", \"okv\", \"gce\", \"ugo\", \"nca\", \"iar\", \"yns\", \"spp\", \"trx\", \"kxo\", \"zaq\", \"xtw\", \"ldj\", \"msd\", \"ztm\", \"abz\", \"aqg\", \"nbs\", \"bnb\", \"pur\", \"dbw\", \"tuk\", \"xgd\", \"jbo\", \"rjg\", \"xnr\", \"dho\", \"ksd\", \"aaz\", \"aii\", \"bjf\", \"bnf\", \"puj\", \"grb\", \"xsp\", \"eso\", \"css\", \"bbf\", \"cce\", \"gbi\", \"gie\", \"hop\", \"djn\", \"cho\", \"bry\", \"mam\", \"mhj\", \"wdu\", \"wet\", \"wos\", \"awr\", \"mgr\", \"buz\", \"bio\", \"err\", \"hhy\", \"uzs\", \"ekp\", \"gej\", \"kml\", \"wua\", \"roo\", \"cwb\", \"rei\", \"mxi\", \"liv\", \"atu\", \"ggt\", \"asg\", \"nnt\", \"gbr\", \"zty\", \"mcs\", \"czh\", \"bxs\", \"has\", \"kxy\", \"svm\", \"slw\", \"abh\", \"oss\", \"cpi\", \"ywq\", \"snm\", \"dbg\", \"crv\", \"zad\", \"blf\", \"dad\", \"bal\", \"kyt\", \"mce\", \"eth\", \"tbf\", \"nyy\", \"pty\", \"xvn\", \"hdn\", \"nmr\", \"pga\", \"dij\", \"lto\", \"oac\", \"ury\", \"qud\", \"akg\", \"ebr\", \"whk\", \"dlk\", \"dks\", \"mkk\", \"xsu\", \"nkb\", \"\n",
    "viv\", \"guj\", \"xwt\", \"tnl\", \"zbw\", \"chc\", \"xco\", \"nna\", \"lns\", \"xpl\", \"sgz\", \"mci\", \"ixl\", \"csh\", \"krx\", \"kyx\", \"mlp\", \"nlc\", \"pbv\", \"pog\", \"gmv\", \"ykl\", \"ikl\", \"ywr\", \"ksu\", \"asz\", \"bqw\", \"sez\", \"ulf\", \"wwa\", \"xnh\", \"mze\", \"maq\", \"jal\", \"knr\", \"pop\", \"wed\", \"qvn\", \"tpn\", \"imr\", \"izh\", \"bvm\", \"tcy\", \"swi\", \"waw\", \"teb\", \"ium\", \"aoa\", \"trj\", \"qwt\", \"kkg\", \"pkn\", \"kgj\", \"tcl\", \"cli\", \"bsa\", \"dww\", \"law\", \"bxe\", \"wab\", \"amt\", \"zai\", \"zsa\", \"gng\", \"cas\", \"vaj\", \"sct\", \"oyy\", \"sdo\", \"mvz\", \"gum\", \"mph\", \"nsm\", \"smm\", \"wth\", \"txj\", \"ntg\", \"sbt\", \"skf\", \"oka\", \"pmn\", \"anp\", \"pnm\", \"muy\", \"gyb\", \"thi\", \"bta\", \"pdn\", \"xpx\", \"tiz\", \"rmz\", \"stp\", \"bfp\", \"frp\", \"kvw\", \"ypo\", \"mdf\", \"cuy\", \"bov\", \"bkf\", \"kcv\", \"gsm\", \"ctz\", \"mgo\", \"miz\", \"shj\", \"tct\", \"mfg\", \"xso\", \"wro\", \"xna\", \"pmr\", \"mrt\", \"ojs\", \"lbb\", \"nka\", \"ynn\", \"bgy\", \"inz\", \"lvi\", \"miu\", \"ltu\", \"plh\", \"agy\", \"klu\", \"kxx\", \"mhx\", \"jmn\", \"omk\", \"jdg\", \"got\", \"dar\", \"mgn\", \"cbk\", \"cma\", \"kmu\", \"xku\", \"nkd\", \"ptn\", \"mgi\", \"wdy\", \"xlp\", \"ecr\", \"xlb\", \"mse\", \"jak\", \"rxd\", \"scu\", \"tpq\", \"bhe\", \"rkw\", \"xpc\", \"zgh\", \"kug\", \"mmo\", \"esl\", \"biz\", \"jra\", \"wry\", \"dkr\", \"mas\", \"tmw\", \"myo\", \"bix\", \"gax\", \"aky\", \"kkf\", \"ikz\", \"brv\", \"awb\", \"med\", \"kvp\", \"pnh\", \"ndf\", \"iby\", \"kza\", \"etx\", \"sjs\", \"rbk\", \"smj\", \"tpg\", \"ebu\", \"xcl\", \"clh\", \"tnk\", \"mxm\", \"nre\", \"isn\", \"abd\", \"tli\", \"ili\", \"wka\", \"did\", \"ahi\", \"fln\", \"lkm\", \"vas\", \"mjk\",\n",
    " \"mio\", \"aui\", \"ssd\", \"tnv\", \"osi\", \"jad\", \"mni\", \"pbg\", \"sjk\", \"grt\", \"sae\", \"xgu\", \"keo\", \"hra\", \"kis\", \"lmp\", \"kpk\", \"myj\", \"ibu\", \"spy\", \"wrk\", \"ali\", \"byh\", \"tab\", \"wss\", \"gni\", \"tck\", \"aoz\", \"tom\", \"esu\", \"khj\", \"csg\", \"bkq\", \"bhj\", \"kmc\", \"omt\", \"pzn\", \"gew\", \"kyu\", \"tif\", \"csv\", \"jbe\", \"kul\", \"mfp\", \"mjs\", \"xtm\", \"dak\", \"bzq\", \"mwh\", \"gor\", \"jih\", \"ikp\", \"bol\", \"pca\", \"ulw\", \"mcz\", \"tmc\", \"xxt\", \"aaq\", \"sqt\", \"tba\", \"sna\", \"bcb\", \"jna\", \"pup\", \"sik\", \"klj\", \"kyf\", \"dia\", \"zmy\", \"kvh\", \"djr\", \"phm\", \"btd\", \"kny\", \"zgn\", \"xum\", \"ikw\", \"leh\", \"vai\", \"fuq\", \"gye\", \"smp\", \"bdp\", \"skd\", \"tke\", \"oki\", \"gde\", \"oma\", \"dus\", \"gwg\", \"pdu\", \"lre\", \"ddr\", \"kcc\", \"ray\", \"kbd\", \"khz\", \"iii\", \"sme\", \"qwm\"\n",
    ", \"xbg\", \"plo\", \"bkl\", \"nke\", \"zhw\", \"olk\", \"ymk\", \"mua\", \"mqq\", \"saf\", \"bug\", \"tcn\", \"ada\", \"gnh\", \"igg\", \"lis\", \"csj\", \"dsb\", \"oum\", \"soi\", \"mha\", \"mor\", \"cie\", \"dav\", \"dln\", \"poi\", \"bwl\", \"xmu\", \"gid\", \"poo\", \"cuo\", \"alt\", \"gnr\", \"bmo\", \"kne\", \"rsw\", \"ace\", \"bwq\", \"xhm\", \"lwu\", \"tow\", \"kka\", \"eli\", \"jye\", \"bon\", \"yhd\", \"tbt\", \"dds\", \"trp\", \"kzd\", \"pta\", \"tlu\", \"oht\", \"ybe\", \"ohu\", \"ctp\", \"jii\", \"wgo\", \"woo\", \"xmc\", \"dba\", \"omc\", \"khu\", \"lue\", \"olt\", \"bbj\", \"bik\", \"crf\", \"bxp\", \"wxa\", \"mle\", \"nyv\", \"mkd\", \"bag\", \"etb\", \"kmy\", \"lnj\", \"pig\", \"vsv\", \"bqo\", \"hal\", \"wlm\", \"uly\", \"ynd\", \"ify\", \"omb\", \"cac\", \"mqb\", \"ygi\", \"vmd\", \"kwc\", \"pua\", \"thn\", \"goy\", \"pgk\", \"ahn\", \"ssm\", \"pak\", \"sot\", \"gkn\", \"pad\", \"rys\", \"xkx\", \"guo\", \"lby\", \"kij\", \"eka\", \"ise\", \"fkv\", \"ara\", \"pmf\", \"jut\", \"lku\", \"bzf\", \"elk\", \"ato\", \"bar\", \"koh\", \"ttf\", \"tsz\", \"phh\", \"hbo\", \"sol\", \"aze\", \"ppt\", \"nnm\", \"hol\", \"enm\", \"tsm\", \"loq\", \"mlz\", \"ree\", \"lir\", \"bcq\", \"mqw\", \"owl\", \"hig\", \"xzm\", \"ckn\", \"mvw\", \"aer\", \"aab\", \"bco\", \"agj\", \"nla\", \"yiu\", \"cta\", \"mid\", \"ifa\", \"tlj\", \"ykm\", \"lsp\", \"tlc\", \"grz\", \"pwo\", \"gvj\", \"mqm\", \"mrd\", \"phq\", \"ksx\", \"piv\", \"drt\", \"cya\", \"big\", \"bkk\", \"cib\", \"mtj\", \"njb\", \"sau\", \"syn\", \"gjn\", \"mnc\", \"gse\", \"kpw\", \"btz\", \"crw\", \"hsn\", \"juk\", \"ojb\", \"tkv\", \"vkl\", \"nsz\", \"xgb\", \"ptu\", \"tgd\", \"buu\", \"kcf\", \"zph\", \"isl\", \"kdf\", \"mtl\", \"awh\", \"cll\", \"rmh\", \"dmb\", \"ahs\", \"isi\", \"kch\", \"lkl\", \"tir\", \"wmi\", \"gau\", \"phl\", \"zaw\", \"lui\", \"kmo\", \"wea\", \"yui\", \"axm\", \"kwr\", \"hmo\", \"spg\", \"eja\", \"mrr\", \"okc\", \"kso\", \"mem\", \"zmm\", \"das\", \"des\", \"nmn\", \"sge\", \"kqq\", \"xdo\", \"luy\", \"jer\", \"bvf\", \"hml\", \"bmt\", \"ctt\", \"age\", \"bnp\", \"nab\", \"ihw\", \"gva\", \"cul\", \"ahp\", \"ajw\", \"lgr\", \"var\", \"zen\", \"coo\", \"ema\", \"kzm\", \"nay\", \"ryn\", \"ydd\", \"byw\", \"pth\", \"ino\", \"vto\", \"yis\", \"cnc\", \"mfv\", \"lac\", \"\n",
    "lls\", \"bez\", \"dnv\", \"ako\", \"tyz\", \"kun\", \"olu\", \"qur\", \"mpu\", \"aty\", \"amx\", \"cdj\", \"sqa\", \"sro\", \"fon\", \"huk\", \"nvh\", \"mlr\", \"gby\", \"cuq\", \"sek\", \"kpi\", \"myp\", \"nav\", \"whg\", \"emu\", \"frt\", \"kjt\", \"dur\", \"kld\", \"ttv\", \"bfg\", \"lat\", \"arw\", \"kud\", \"itk\", \"kew\", \"nsk\", \"ldn\", \"dru\", \"juo\", \"hag\", \"vra\", \"kdt\", \"agi\", \"tqt\", \"ymz\", \"tjg\", \"tny\", \"kwm\", \"msa\", \"kqd\", \"uky\", \"klw\", \"kvn\", \"sfw\", \"kfw\", \"xsh\", \"nsa\", \"kqn\", \"mul\", \"tqm\", \"weo\", \"zem\", \"bqz\", \"aia\", \"ngd\", \"hne\", \"rnl\", \"sdx\", \"kvg\", \"fin\", \"faz\", \"cal\", \"svx\", \"afg\", \"gbq\", \"khp\", \"pcf\", \"crt\", \"piu\", \"ert\", \"tbk\", \"tug\", \"xoi\", \"szy\", \"mqg\", \"nli\", \"pef\", \"uhn\", \"tpv\", \"put\", \"dec\", \"rdb\", \"nou\", \"krs\", \"bhy\", \"kxs\", \"peg\", \"wes\", \"psn\", \"csp\", \"bka\", \"srw\", \"arz\", \"dne\", \"glr\", \"oge\", \"wlr\", \"cps\", \"drb\", \"tva\", \"bgk\", \"dyi\", \"mjo\", \"rtm\", \"gss\", \"duo\", \"otr\", \"tsj\", \"apd\", \"gko\", \"afz\", \"mcd\", \"puc\", \"xpy\", \"kpd\", \"syb\", \"nnn\", \"mkz\", \"mqc\", \"uth\", \"ibn\", \"dga\", \"mqy\", \"mcn\", \"msx\", \"nop\", \"avi\", \"ndx\", \"wim\", \"tvu\", \"xww\", \"inn\", \"hmd\", \"kqk\", \"yky\", \"kbe\", \"aly\", \"trq\", \"mxy\", \"nye\", \"dup\", \"qxs\", \"mnq\", \"stj\", \"toj\", \"dbb\", \"qwc\", \"coe\", \"dmf\", \"kgr\", \"yir\", \"ays\", \"ven\", \"yad\", \"plk\", \"kjv\", \"jbm\", \"sds\", \"sea\", \"boj\", \"prk\", \"vmf\", \"cuv\", \"xvo\", \"aas\", \"tgf\", \"aom\", \"mvb\", \"nxm\", \"wtm\", \"xmv\", \"jnd\", \"mab\", \"ypb\", \"gqu\", \"thy\", \"abt\", \"jbk\", \"snr\", \"nwe\", \"bty\", \"bqr\", \"kbz\", \"was\", \"bzl\", \"iri\", \"bwd\", \"mku\", \"yba\", \"ttz\", \"sll\", \"pms\", \"knt\", \"lyg\", \"aor\", \"kii\", \"kvc\", \"emy\", \"zqe\", \"okx\", \"cfm\", \"air\", \"cbj\", \"glo\", \"kzn\", \"ppe\", \"wih\", \"syk\", \"xqa\", \"dju\", \"mnf\", \"rut\", \"wll\", \"omw\", \"nsc\", \"opo\", \"xmo\", \"nmf\", \"ish\", \"ets\", \"dwr\", \"bid\", \"lag\", \"ddg\", \"rkm\", \"lmx\", \"itw\", \"ktc\", \"ems\", \"amj\", \"hch\", \"liz\", \"djw\", \"aap\", \"gy\n",
    "g\", \"xtj\", \"pbh\", \"sfs\", \"bcs\", \"fuj\", \"txn\", \"zak\", \"chk\", \"kbs\", \"crd\", \"oml\", \"lsi\", \"dto\", \"hkh\", \"nep\", \"skz\", \"xel\", \"awe\", \"env\", \"mpt\", \"ymm\", \"rit\", \"ami\", \"klv\", \"bpl\", \"xts\", \"kby\", \"wwr\", \"daz\", \"boh\", \"grc\", \"nwo\", \"mmx\", \"dti\", \"afk\", \"mmd\", \"yna\", \"sjo\", \"hwa\", \"mxa\", \"mix\", \"kez\", \"bsy\", \"jee\", \"nyc\", \"sti\", \"jac\", \"dhu\", \"apf\", \"pih\", \"gbh\", \"oon\", \"bey\", \"xgg\", \"lwg\", \"psa\", \"ajs\", \"aci\", \"kdu\", \"ore\", \"xsi\", \"vun\", \"ghc\", \"ckv\", \"ncl\", \"mco\", \"njh\", \"bui\", \"rah\", \"huz\", \"lib\", \"rnb\", \"cut\", \"ckq\", \"ava\", \"ttm\", \"nos\", \"iff\", \"auk\", \"nko\", \"biy\", \"dmo\", \"otm\", \"xpp\", \"lgq\", \"bwh\", \"dbo\", \"ues\", \"wul\", \"puu\", \"uvl\", \"xtn\", \"wym\", \"cah\", \"kfl\", \"aad\", \"dng\", \"ukg\", \"ans\", \"xat\", \"bvl\", \"cvg\", \"huj\", \"pkr\", \"tkz\", \"tvo\", \"una\", \"ncd\", \"vnk\", \"awc\", \"bua\", \"kmq\", \"ele\", \"kic\", \"ybi\", \"ibd\", \"bru\", \"pma\", \"ids\", \"nxk\", \"imn\", \"nuw\", \"wow\", \"cat\", \"syo\", \"wom\", \"btc\", \"yap\", \"jya\", \"aaw\", \"lew\", \"tae\", \"bil\", \"mjm\", \"bna\", \"xow\", \"elx\", \"kpj\", \"njj\", \"xdq\", \"msl\", \"tth\", \"ywl\", \"kaq\", \"azm\", \"lgk\", \"neb\", \"bmr\", \"mad\", \"imo\", \"kbv\", \"xiy\", \"lhp\", \"mud\", \"knf\", \"cog\", \"muk\", \"nzz\", \"tnu\", \"nrk\", \"tvs\", \"uku\", \"clj\", \"lcl\", \"aij\", \"ora\", \"okz\", \"dtb\", \"rof\", \"buc\", \"qvh\", \"gwe\", \"urk\", \"txb\", \"cnk\", \"geb\", \"dag\", \"jaf\", \"csz\", \"men\", \"shi\", \"ivv\", \"shw\", \"bbo\", \"bst\", \"ngu\", \"paf\", \"dyg\", \"cjm\", \"maa\", \"shv\", \"ygp\", \"sjr\", \"gjm\", \"yyz\", \"pag\", \"tee\", \"rup\", \"xhe\", \"dux\", \"ekg\", \"twm\", \"akz\", \"ztn\", \"ncb\", \"nyo\", \"gbg\", \"oui\", \"pam\", \"xmr\", \"ilm\", \"tlr\", \"bxm\", \"kgn\", \"zaa\", \"srr\", \"akd\", \"pnq\", \"sth\", \"pbo\", \"isg\", \"wbk\", \"kbo\", \"zao\", \"tpj\", \"doy\", \"akm\", \"gdd\", \"hme\", \"chy\", \"kxr\", \"pkc\", \"tmy\", \"pbt\", \"toz\", \"dsi\", \"tqu\", \"kps\n",
    "\", \"pnr\", \"lau\", \"stf\", \"bld\", \"gii\", \"twf\", \"bvo\", \"kxd\", \"ibg\", \"xcn\", \"yej\", \"yac\", \"bso\", \"onk\", \"abp\", \"xbo\", \"xyy\", \"foi\", \"nss\", \"sso\", \"ocu\", \"ltc\", \"alu\", \"amw\", \"beb\", \"muh\", \"tik\", \"coh\", \"wic\", \"tcp\", \"ngm\", \"nja\", \"bqm\", \"tos\", \"diy\", \"xwl\", \"eee\", \"gaq\", \"arr\", \"hmm\", \"bxd\", \"ukv\", \"urf\", \"fap\", \"inb\", \"bbg\", \"bek\", \"bhh\", \"lrn\", \"tbp\", \"tkm\", \"coz\", \"hoo\", \"bjp\", \"yud\", \"cse\", \"nma\", \"ssk\", \"umm\", \"tde\", \"mfk\", \"grn\", \"hps\", \"pau\", \"spb\", \"tsw\", \"bff\", \"bga\", \"bmq\", \"nnw\", \"nhe\", \"xjt\", \"xcw\", \"wlv\", \"bth\", \"nmw\", \"ycl\", \"dzd\", \"rai\", \"cov\", \"sew\", \"mtb\", \"ttr\", \"nno\", \"kle\", \"ong\", \"kon\", \"swr\", \"wlc\", \"akf\", \"wru\", \"asn\", \"sua\", \"rme\", \"sbx\", \"iyx\", \"atz\", \"iws\", \"txm\", \"khm\", \"kfj\", \"kvd\", \"orw\", \"oke\", \"luu\", \"ush\", \"fat\", \"ztl\", \"kkn\", \"mos\", \"bgz\", \"nzb\", \"tgw\", \"kip\", \"bwk\", \"nio\", \"typ\", \"gef\", \"mgu\", \"soo\", \"ksh\", \"bbt\", \"xiv\", \"kdd\", \"rmm\", \"enq\", \"sry\", \"mxt\", \"xer\", \"eke\", \"gmu\", \"kao\", \"scq\", \"umc\", \"ark\", \"sny\", \"nsn\", \"ttd\", \"mkg\", \"nrg\", \"ntp\", \"mwp\", \"otd\", \"tpm\", \"tti\", \"bmj\", \"taj\", \"cos\", \"hke\", \"mqi\", \"bkr\", \"nqg\", \"dhw\", \"wpc\", \"szc\", \"gis\", \"soh\", \"bjv\", \"jiv\", \"sfb\", \"ige\", \"csa\", \"jul\", \"kmg\", \"ldh\", \"far\", \"prn\", \"smx\", \"ilg\", \"tpz\", \"wmt\", \"bsj\", \"oue\", \"kod\", \"wem\", \"wkr\", \"bfi\", \"stl\", \"zat\", \"aut\", \"kqv\", \"uba\", \"cfd\", \"crs\", \"izz\", \"pby\", \"chv\", \"aoc\", \"xrd\", \"yxg\", \"ikr\", \"acu\", \"scn\", \"kui\", \"agq\", \"dmk\", \"unr\", \"orx\", \"ijc\", \"tic\", \"duq\", \"ikh\", \"dyd\", \"kma\", \"csx\", \"seo\", \"lin\", \"xwg\", \"kwb\", \"nxa\", \"yaq\", \"gww\", \"wja\", \"kyi\", \"ast\", \"bnl\", \"bap\", \"mub\", \"tix\", \"lrt\", \"dah\", \"bcw\", \"zpv\", \"shs\", \"mcc\", \"agu\", \"cbi\", \"dgr\", \"lsd\", \"cml\", \"lum\", \"ypz\", \"lmh\", \"nsx\", \"yha\", \"mtu\", \"csr\", \"\n",
    "nhn\", \"asa\", \"tml\", \"fra\", \"lav\", \"mro\", \"tty\", \"ktf\", \"mbt\", \"tum\", \"ruq\", \"aml\", \"yee\", \"sop\", \"pkt\", \"tui\", \"ego\", \"bjo\", \"ccj\", \"tdy\", \"mru\", \"bge\", \"amb\", \"acx\", \"mho\", \"bjc\", \"gim\", \"dax\", \"laq\", \"psm\", \"nyg\", \"bqk\", \"jbt\", \"asp\", \"vkk\", \"bls\", \"sva\", \"twi\", \"ssv\", \"esy\", \"cfg\", \"aya\", \"myc\", \"scl\", \"vkz\", \"gei\", \"mbz\", \"ril\", \"ssn\", \"mez\", \"cwa\", \"dmd\", \"mlo\", \"ekl\", \"nyn\", \"srg\", \"xhc\", \"buk\", \"mvr\", \"poh\", \"tgo\", \"ane\", \"att\", \"fiw\", \"zpw\", \"aln\", \"ncz\", \"mfn\", \"zma\", \"sdn\", \"nmv\", \"qyp\", \"kki\", \"let\", \"swg\", \"quh\", \"gam\", \"kpg\", \"mmu\", \"aja\", \"yhl\", \"pbe\", \"rey\", \"azj\", \"okr\", \"ruf\", \"ije\", \"mel\", \"nso\", \"yab\", \"ztx\", \"afn\", \"rsb\", \"udj\", \"lki\", \"hmk\", \"bci\", \"ruc\", \"lko\", \"prd\", \"pla\", \"wlh\", \"khn\", \"zpi\", \"ntk\", \"juy\", \"byj\", \"gle\", \"anx\", \"ssg\", \"kbn\", \"gcd\", \"ley\", \"mqn\", \"bee\", \"puy\", \"ssw\", \"sdb\", \"vot\", \"mri\", \"bzg\", \"anq\", \"hji\", \"gll\", \"xbb\", \"ndv\", \"gds\", \"lcf\", \"mcw\", \"stv\", \"kzz\", \"nuv\", \"pcw\", \"uri\", \"bss\", \"cur\", \"mkn\", \"ybk\", \"jls\", \"ziw\", \"ati\", \"mrf\", \"ist\", \"trn\", \"vjk\", \"bba\", \"tak\", \"gcl\", \"huy\", \"cdn\", \"oks\", \"kuq\", \"gnj\", \"lcm\", \"ayc\", \"pne\", \"pnx\", \"kfe\", \"wew\", \"kig\", \"cop\", \"xon\", \"csk\", \"slz\", \"pib\", \"hah\", \"teq\", \"tvw\", \"rat\", \"hif\", \"kur\", \"tmb\", \"drs\", \"hug\", \"zml\", \"urg\", \"wmx\", \"gea\", \"loz\", \"lpa\", \"xnb\", \"hbn\", \"byz\", \"slc\", \"kjl\", \"adl\", \"bqh\", \"bwt\", \"eip\", \"dda\", \"omu\", \"ned\", \"wmd\", \"cwt\", \"egl\", \"gut\", \"szv\", \"ksv\", \"mlc\", \"mma\", \"keb\", \"asx\", \"bln\", \"brk\", \"kbg\", \"mff\", \"pnw\", \"zbe\", \"lbe\", \"sbi\", \"ply\", \"mdj\", \"dge\", \"tpk\", \"ufi\", \"cth\", \"kxc\", \"qui\", \"szs\", \"hae\", \"kpo\", \"ure\", \"tpi\", \"ffi\", \"and\", \"kmt\", \"pio\", \"dnu\", \"ahk\", \"khg\", \"kvb\", \"ypg\", \"kkr\", \"dnt\", \"rb\n",
    "b\", \"kwv\", \"bfm\", \"nci\", \"ncr\", \"alp\", \"qwa\", \"tin\", \"dby\", \"tjj\", \"kvj\", \"crb\", \"drl\", \"lwo\", \"tau\", \"wne\", \"mus\", \"fuc\", \"gct\", \"brx\", \"mwz\", \"xce\", \"aai\", \"lfn\", \"msf\", \"xps\", \"kfg\", \"tqn\", \"tzm\", \"tdo\", \"ylu\", \"tsa\", \"pkh\", \"gnl\", \"pwn\", \"pah\", \"yel\", \"mnw\", \"mou\", \"tpr\", \"axe\", \"bno\", \"knn\", \"bgv\", \"vro\", \"wrl\", \"bjl\", \"dok\", \"udl\", \"yla\", \"ndc\", \"ich\", \"lbw\", \"xta\", \"nrp\", \"skx\", \"ums\", \"weh\", \"mii\", \"kos\", \"ndl\", \"tka\", \"dov\", \"slf\", \"tua\", \"kqj\", \"neh\", \"pyu\", \"ewo\", \"nwy\", \"mow\", \"jah\", \"gne\", \"xwj\", \"hup\", \"raz\", \"toh\", \"kuz\", \"dae\", \"lsy\", \"ngq\", \"mlf\", \"swa\", \"ngg\", \"kac\", \"yuj\", \"quz\", \"bni\", \"dhi\", \"kia\", \"nhu\", \"sda\", \"xai\", \"mzd\", \"mnb\", \"giw\", \"mzc\", \"nco\", \"odt\", \"bpp\", \"zpz\", \"yuz\", \"alr\", \"kga\", \"niq\", \"sng\", \"hrv\", \"ndj\", \"tnp\", \"hub\", \"hyw\", \"ahb\", \"tio\", \"brp\", \"prs\", \"abf\", \"hus\", \"not\", \"swn\", \"wni\", \"ymq\", \"slm\", \"mbn\", \"mvd\", \"auz\", \"bnz\", \"llp\", \"bwb\", \"shl\", \"nyi\", \"sou\", \"bfa\", \"ben\", \"lub\", \"xmx\", \"zas\", \"nnb\", \"zah\", \"vaf\", \"adf\", \"nml\", \"are\", \"idu\", \"sby\", \"keh\", \"msw\", \"ngi\", \"rma\", \"lrm\", \"uuu\", \"lgt\", \"xes\", \"agx\", \"lli\", \"kqz\", \"sci\", \"byb\", \"ghe\", \"tuq\", \"ksc\", \"kcp\", \"bhx\", \"tkn\", \"lei\", \"trb\", \"bab\", \"hap\", \"csm\", \"gvm\", \"tkt\", \"kwk\", \"xeu\", \"mtr\", \"aee\", \"bys\", \"dzn\", \"llx\", \"bqd\", \"kua\", \"res\", \"zab\", \"van\", \"bir\", \"kem\", \"cbu\", \"igo\", \"shg\", \"brd\", \"jsl\", \"kmz\", \"kcr\", \"nwr\", \"rsn\", \"cow\", \"nem\", \"zos\", \"bpn\", \"thu\", \"tbv\", \"jae\", \"nih\", \"ywn\", \"hlt\", \"chz\", \"kfm\", \"jcs\", \"mdc\", \"wuu\", \"cdz\", \"kjb\", \n",
    "\"tce\", \"hno\", \"jmi\", \"nyd\", \"twb\", \"sgw\", \"jns\", \"fui\", \"pnc\", \"okj\", \"jmr\", \"apv\", \"rug\", \"gos\", \"wok\", \"bsk\", \"npy\", \"amq\", \"kll\", \"guq\", \"sbm\", \"vag\", \"pwm\", \"dim\", \"tuo\", \"see\", \"gbm\", \"lkj\", \"bwm\", \"kbu\", \"nlm\", \"acz\", \"kev\", \"pnu\", \"lbl\", \"yxy\", \"hmu\", \"tgk\", \"wnb\", \"jei\", \"mnl\", \"ait\", \"idt\", \"mui\", \"bxb\", \"nce\", \"ota\", \"ten\", \"lkr\", \"zpt\", \"gku\", \"bog\", \"tox\", \"isu\", \"kfx\", \"miq\", \"arl\", \"xsb\", \"mxs\", \"yii\", \"boy\", \"nkv\", \"sqk\", \"lbk\", \"hnj\", \"gev\", \"nhc\", \"sxs\", \"rpt\", \"xkl\", \"pap\", \"aou\", \"tgh\", \"asv\", \"mbu\", \"nps\", \"bti\", \"bfy\", \"dsz\", \"xcy\", \"cmn\", \"etc\", \"bct\", \"srl\", \"ekm\", \"leq\", \"dji\", \"nim\", \"syl\", \"ymc\", \"zmq\", \"cje\", \"elm\", \"sbe\", \"kif\", \"bxq\", \"agh\", \"sxl\", \"bsg\", \"txr\", \"wrr\", \"dym\", \"gil\", \"ybj\", \"lec\", \"bif\", \"djo\", \"tgs\", \"xpz\", \"kju\", \"mfl\", \"har\", \"bed\", \"bav\", \"mje\", \"pil\", \"mtd\", \"luf\", \"sif\", \"zro\", \"jrr\", \"pmz\", \"bzh\", \"wlg\", \"pab\", \"liy\", \"gnq\", \"otl\", \"tnw\", \"plr\", \"meu\", \"aol\", \"frc\", \"yiq\", \"cwe\", \"xmq\", \"yat\", \"bnj\", \"wkw\", \"wmm\", \"wmn\", \"crh\", \"wme\", \"jmx\", \"zzj\", \"pal\", \"dsk\", \"kzy\", \"hoh\", \"amm\", \"oti\", \"mlb\", \"sgs\", \"stw\", \"bej\", \"wij\", \"kxw\", \"lcs\", \"tdt\", \"xsm\", \"buj\", \"ktq\", \"twn\", \"obl\", \"avn\", \"umb\", \"fuh\", \"xau\", \"yuy\", \"cou\", \"pon\", \"sgm\", \"gob\", \"gic\", \"yog\", \"zba\", \"bya\", \"ysg\", \"mpg\", \"mqv\", \"sco\", \"ann\", \"cty\", \"mpv\", \"nhp\", \"mqz\", \"zmp\", \"cav\", \"yle\", \"wrm\", \"xun\", \"xmn\", \"can\", \"mqh\", \"ked\", \"wti\", \"dhl\", \"ssf\", \"cnq\", \"xrm\", \"cip\", \"aqd\", \"njo\", \"bly\", \"ctd\", \"tea\", \"mfd\", \"xwk\", \"lmv\", \"auy\", \"xin\", \"pnz\", \"rwr\", \"agv\", \"ola\", \"xpf\", \"zom\n",
    "\", \"skm\", \"bpq\", \"yil\", \"opm\", \"slr\", \"srt\", \"trf\", \"avu\", \"jic\", \"bgc\", \"kmn\", \"kry\", \"hlu\", \"mzk\", \"mis\", \"dtu\", \"lpe\", \"amn\", \"epo\", \"boq\", \"gud\", \"bwe\", \"kcd\", \"awo\", \"sas\", \"blp\", \"hlb\", \"nkz\", \"xkc\", \"ahl\", \"kfi\", \"ttg\", \"duu\", \"xmf\", \"lnm\", \"ywa\", \"kqs\", \"txa\", \"zns\", \"iki\", \"kgs\", \"mia\", \"bnm\", \"gnk\", \"msi\", \"xbd\", \"mik\", \"tar\", \"cjn\", \"lgb\", \"rml\", \"bnd\", \"bot\", \"swq\", \"cyb\", \"ded\", \"nov\", \"don\", \"ypn\", \"lsr\", \"hbs\", \"inp\", \"tyn\", \"pce\", \"ddw\", \"chr\", \"url\", \"api\", \"amv\", \"cng\", \"kla\", \"dau\", \"agn\", \"gdg\", \"lmk\", \"mjd\", \"nof\", \"nhz\", \"lle\", \"pui\", \"emg\", \"xti\", \"bqb\", \"nte\", \"zkn\", \"dio\", \"beu\", \"moe\", \"aig\", \"aba\", \"kjp\", \"ktd\", \"esq\", \"lnz\", \"loi\", \"sor\", \"nus\", \"tmu\", \"jui\", \"jaz\", \"tyy\", \"lud\", \"zmo\", \"apt\", \"asm\", \"sjw\", \"ilu\", \"gwj\", \"vmm\", \"tuu\", \"bdt\", \"haf\", \"eza\", \"fam\", \"wlw\", \"aoi\", \"apm\", \"uka\", \"yul\", \"ssh\", \"plu\", \"ylr\", \"stk\", \"weg\", \"arj\", \"pka\", \"cns\", \"svb\", \"shh\", \"inm\", \"khq\", \"org\", \"lll\", \"mgd\", \"rnd\", \"mfe\", \"ciw\", \"bhm\", \"mge\", \"wla\", \"otz\", \"ntd\", \"bli\", \"ykn\", \"nsi\", \"abg\", \"xls\", \"ckm\", \"est\", \"cuc\", \"gvl\", \"loa\", \"bkm\", \"ssi\", \"xpm\", \"mwb\", \"xwc\", \"bgp\", \"hhr\", \"ack\", \"smu\", \"avl\", \"cly\", \"afr\", \"yax\", \"mgf\", \"ihi\", \"dbu\", \"mhb\", \"cky\", \"ybl\", \"pok\", \"scf\", \"spa\", \"yko\", \"hul\", \"asq\", \"mxn\", \"nsl\", \"con\", \"tmq\", \"yox\", \"bre\", \"goi\", \"mys\", \"lqr\", \"nnj\", \"cdm\", \"rif\", \"vut\", \"imi\", \"gkp\", \"emq\", \"xkj\", \"for\", \"ari\", \"myz\", \"zrp\", \"dig\", \"cjp\", \"bjx\", \"szb\", \"knl\", \"bsn\", \"saz\", \"mbk\", \"gue\", \"kks\", \"hvk\", \"ilv\", \"kgx\", \"mhl\", \"sow\", \"nhr\", \"wum\", \"xag\", \"cbg\", \"stg\", \"yai\", \"lgi\", \"pfa\", \"ckx\", \"spk\", \"hro\", \"dyn\", \"syi\", \"aos\", \"kyl\", \"kwl\", \"bwa\", \"oyd\", \"sgt\", \"phr\", \"noy\", \"hna\", \"lla\", \"tlg\", \"ynq\", \"gbe\", \"jib\", \"mfa\n",
    "\", \"mzs\", \"oav\", \"buf\", \"nux\", \"mdk\", \"nbk\", \"rge\", \"nnz\", \"gac\", \"pnp\", \"zla\", \"yol\", \"akw\", \"aji\", \"jay\", \"sse\", \"qxr\", \"ena\", \"cle\", \"git\", \"ign\", \"jkr\", \"pha\", \"sbb\", \"ppo\", \"nle\", \"ofu\", \"juu\", \"vmy\", \"btf\", \"xrg\", \"kgq\", \"plg\", \"gve\", \"wmc\", \"xmp\", \"fia\", \"mkx\", \"roe\", \"clu\", \"mew\", \"kli\", \"klc\", \"mok\", \"bpt\", \"tvi\", \"nol\", \"alw\", \"bbd\", \"hiw\", \"mfq\", \"lcq\", \"czn\", \"erk\", \"gnb\", \"plc\", \"tux\", \"val\", \"ttb\", \"lay\", \"mla\", \"sty\", \"mkm\", \"fng\", \"sfe\", \"urv\", \"djd\", \"bqq\", \"gso\", \"knk\", \"mhs\", \"giq\", \"ngs\", \"mwg\", \"tbs\", \"zrn\", \"kjo\", \"azd\", \"chn\", \"jbw\", \"lan\", \"lwe\", \"wrn\", \"bfu\", \"itr\", \"bpz\", \"kvi\", \"sce\", \"sdr\", \"mlm\", \"xms\", \"zpo\", \"isr\", \"tbw\", \"hmh\", \"kuj\", \"slv\", \"kpc\", \"ywg\", \"din\", \"mim\", \"aiy\", \"pyx\", \"kmx\", \"neu\", \"nlk\", \"llh\", \"nmk\", \"arn\", \"jwi\", \"cnl\", \"gia\", \"neo\", \"bpg\", \"cpg\", \"lts\", \"kve\", \"hni\", \"tve\", \"vam\", \"tci\", \"ybo\", \"skq\", \"cbv\", \"kkj\", \"udu\", \"sbs\", \"xda\", \"btt\", \"apy\", \"doi\", \"hir\", \"lkd\", \"lpo\", \"awu\", \"teh\", \"ass\", \"wng\", \"bfn\", \"bvx\", \"lnl\", \"cao\", \"mbp\", \"nak\", \"abj\", \"oub\", \"pni\", \"kvx\", \"lmb\", \"afo\", \"sya\", \"suv\", \"qvm\", \"jbi\", \"psd\", \"bfk\", \"mmr\", \"msr\", \"bpo\", \"dgz\", \"krb\", \"xmk\", \"kyk\", \"mtk\", \"ran\", \"tha\", \"irn\", \"byt\", \"nny\", \"bze\", \"kjj\", \"nwc\", \"gqi\", \"gno\", \"hhi\", \"nbw\", \"tnm\", \"bxn\", \"mbm\", \"mto\", \"ogb\", \"sks\", \"dos\", \"bbk\", \"prc\", \"eno\", \"mve\", \"kts\", \"nis\", \"bmd\", \"dre\", \"esm\", \"nxg\", \"sns\", \"dun\", \"csl\", \"meh\", \"nrb\", \"nuf\", \"otk\", \"bte\", \"szw\", \"ase\", \"pqm\", \"kja\", \"opy\", \"xaw\", \"ate\", \"blc\", \"kwt\", \"mxl\", \"xns\", \"tda\", \"jet\", \"nmb\", \"yar\", \"byd\", \"pij\", \"del\", \"ibl\", \"idr\", \"zoo\", \"iwo\", \"kwy\", \"atw\", \"koi\", \"rnp\", \"sri\", \"yga\", \"wnd\", \"wif\", \"kwd\", \"qug\", \"bhg\", \"cbb\", \"kqw\", \"puf\", \"dcc\", \"ch\n",
    "w\", \"she\", \"atx\", \"ehu\", \"tlo\", \"ste\", \"koq\", \"crr\", \"mbw\", \"nmm\", \"yre\", \"ard\", \"yun\", \"ljx\", \"tks\", \"nax\", \"nud\", \"bdq\", \"btu\", \"gez\", \"cno\", \"ndk\", \"awg\", \"yvt\", \"qvy\", \"ads\", \"blr\", \"xsv\", \"mva\", \"hsb\", \"omr\", \"bue\", \"mgk\", \"lti\", \"efa\", \"nei\", \"uro\", \"btr\", \"juc\", \"sax\", \"xhv\", \"yag\", \"ons\", \"moi\", \"nkq\", \"bcy\", \"mki\", \"msu\", \"mwk\", \"gjk\", \"jml\", \"khc\", \"mat\", \"wsu\", \"iwm\", \"nyt\", \"xpn\", \"kgo\", \"mdq\", \"bwz\", \"tkl\", \"siz\", \"mbh\", \"sin\", \"pns\", \"xpr\", \"mmz\", \"axb\", \"bpu\", \"cry\", \"ymi\", \"xsn\", \"tyr\", \"chf\", \"bbc\", \"apq\", \"abb\", \"dez\", \"pwi\", \"prq\", \"zkd\", \"myw\", \"bpe\", \"mmw\", \"uki\", \"bbb\", \"ccm\", \"han\", \"mgb\", \"tyl\", \"mpa\", \"usu\", \"muc\", \"kyg\", \"npx\", \"puo\", \"cub\", \"uon\", \"enc\", \"mwc\", \"rad\", \"gaz\", \"ule\", \"urh\", \"wrw\", \"gwu\", \"kty\", \"ppq\", \"cme\", \"sbh\", \"woi\", \"cds\", \"bus\", \"duh\", \"adb\", \"toc\", \"bhr\", \"wud\", \"xyt\", \"lsl\", \"haq\", \"bvu\", \"nxq\", \"bqp\", \"lji\", \"byr\", \"mgz\", \"tcq\", \"seq\", \"dml\", \"iml\", \"nhg\", \"sdq\", \"wmo\", \"yok\", \"lot\", \"xrn\", \"bgl\", \"lal\", \"kru\", \"nbi\", \"bgd\", \"eme\", \"sam\", \"mrx\", \"urc\", \"vsi\", \"yoy\", \"gup\", \"gdk\", \"pkp\", \"xor\", \"tyv\", \"dgs\", \"ria\", \"tdg\", \"gdn\", \"hoz\", \"kdn\", \"dnw\", \"mif\", \"nmh\", \"yon\", \"cmi\", \"dzg\", \"mck\", \"geg\", \"zne\", \"yng\", \"sgy\", \"buo\", \"emz\", \"mqa\", \"tfn\", \"xem\", \"bcz\", \"uvh\", \"byq\", \"lzn\", \"kee\", \"pol\", \"srz\", \"wbr\", \"bgb\", \"xno\", \"aju\", \"ams\", \"top\", \"ntz\", \"sac\", \"tpo\", \"blv\", \"hns\", \"mds\", \"xln\", \"kto\", \"afd\", \"nyj\", \"mvf\", \"mvg\", \"jko\", \"ktz\", \"sbg\", \"ksk\", \"dgg\", \"lmj\", \"slj\", \"tyj\", \"tsn\", \"apn\", \"bvk\", \"myk\", \"xmb\", \"ylm\", \"enw\", \"tao\", \"gol\", \"tla\", \"xni\", \"gip\", \"vmc\", \"gyl\", \"tkg\", \"hid\", \"jni\", \"loh\", \"mxg\", \"akb\", \"dgw\", \"mcj\", \"obi\", \"tnc\", \"dws\", \"chb\", \"aim\", \"ugh\", \"orc\", \"jit\", \"neg\", \"mbf\", \"tby\", \"xaq\", \"lea\", \"l\n",
    "kb\", \"tei\", \"kko\", \"nnk\", \"nba\", \"gey\", \"obu\", \"xgm\", \"kaj\", \"mdh\", \"vit\", \"ado\", \"xnj\", \"mtx\", \"ojc\", \"khf\", \"prt\", \"xpw\", \"dep\", \"jua\", \"abs\", \"mbj\", \"irr\", \"amo\", \"cxh\", \"kol\", \"naf\", \"qul\", \"unk\", \"itm\", \"skw\", \"daj\", \"mnd\", \"yyr\", \"ssy\", \"vmk\", \"xak\", \"xjb\", \"lva\", \"ncx\", \"pic\", \"mjq\", \"cfa\", \"kxn\", \"wec\", \"rms\", \"shz\", \"ntx\", \"lww\", \"xyb\", \"psq\", \"akt\", \"bmg\", \"ayr\", \"huq\", \"avb\", \"lbm\", \"min\", \"ocm\", \"ngp\", \"bvi\", \"zlq\", \"tpf\", \"xcb\", \"avd\", \"wdk\", \"ldg\", \"dbd\", \"gha\", \"dde\", \"all\", \"kfk\", \"gah\", \"bft\", \"wae\", \"xii\", \"cld\", \"gap\", \"ajg\", \"bfe\", \"gtu\", \"mgt\", \"twe\", \"shp\", \"knd\", \"vgr\", \"uji\", \"xwa\", \"msj\", \"cax\", \"otw\", \"pgd\", \"urp\", \"dgi\", \"mft\", \"trc\", \"wiy\", \"dgc\", \"owi\", \"xhd\", \"mkb\", \"pst\", \"gwa\", \"pgs\", \"efe\", \"mql\", \"pcm\", \"xrw\", \"ayh\", \"ulm\", \"cdh\", \"xut\", \"lya\", \"aha\", \"kxh\", \"kpy\", \"smt\", \"tew\", \"aph\", \"yml\", \"kzo\", \"wbh\", \"tnt\", \"ura\", \"zsl\", \"bcj\", \"atr\", \"ngr\", \"kik\", \"udg\", \"smh\", \"enr\", \"wax\", \"nbd\", \"biu\", \"emx\", \"lje\", \"jaa\", \"mmi\", \"tmv\", \"xuj\", \"xto\", \"lih\", \"fwe\", \"rsl\", \"sxu\", \"bqt\", \"nkf\", \"pai\", \"sox\", \"cea\", \"wdg\", \"bpc\", \"csd\", \"doh\", \"pbs\", \"kqa\", \"nlv\", \"pie\", \"djb\", \"xqt\", \"gbu\", \"kfp\", \"ngl\", \"psw\", \"hmy\", \"waa\", \"bca\", \"kok\", \"onb\", \"qvo\", \"ful\", \"nbn\", \"bwo\", \"mrs\", \"met\", \"rts\", \"xlo\", \"yue\", \"biw\", \"chd\", \"pfl\", \"rib\", \"okd\", \"iou\", \"aat\", \"ldm\", \"bzn\", \"auj\", \"kqc\", \"com\", \"dsh\", \"rmf\", \"fai\", \"tvm\", \"ula\", \"aec\", \"ymx\", \"guu\", \"zyb\", \"jam\", \"mtw\", \"asu\", \"xla\", \"kyp\", \"bml\", \"krp\", \"ztp\", \"yaw\", \"dry\", \"kmr\", \"lbf\", \"kmp\", \"bts\", \"brc\", \"cod\", \"tit\", \"xxm\", \"mox\", \"giz\", \"als\", \"twy\", \"hac\", \"wsk\", \"yid\", \"cet\", \"stq\", \"adx\", \"kyr\", \"cbr\", \"blw\", \"msh\", \"lnh\", \"sak\", \"sgr\", \"ttt\", \"tgt\", \"lrc\", \"kcw\", \"xan\", \"obk\", \"doo\", \"tqw\", \"pit\", \"spi\", \"akh\", \"kbr\", \n",
    "\"miy\", \"nbr\", \"pls\", \"gih\", \"mka\", \"iqw\", \"qvw\", \"apu\", \"phg\", \"sos\", \"hue\", \"hur\", \"tjn\", \"etn\", \"xep\", \"bvy\", \"nct\", \"mzj\", \"zrs\", \"hka\", \"klk\", \"xal\", \"hoy\", \"srn\", \"psl\", \"azn\", \"roh\", \"dob\", \"bzy\", \"quq\", \"abe\", \"kji\", \"raq\", \"ovd\", \"tri\", \"kuk\", \"khy\", \"tpa\", \"ret\", \"oko\", \"bfc\", \"add\", \"kmm\", \"mcx\", \"slt\", \"kfy\", \"tkw\", \"orh\", \"bzp\", \"nmz\", \"lov\", \"nsb\", \"ull\", \"dje\", \"jdt\", \"kel\", \"tkp\", \"cpy\", \"xnz\", \"lme\", \"mya\", \"yrw\", \"imy\", \"laa\", \"txi\", \"ykg\", \"stm\", \"slk\", \"atb\", \"kyy\", \"vbb\", \"bcl\", \"mmg\", \"xmg\", \"msp\", \"ajz\", \"nfr\", \"yob\", \"gpn\", \"zpm\", \"bcp\", \"sec\", \"bnv\", \"brs\", \"tts\", \"ayq\", \"kej\", \"bxi\", \"luj\", \"snp\", \"ttq\", \"aun\", \"kcl\", \"zbc\", \"pax\", \"bmp\", \"ler\", \"rgr\", \"yuq\", \"lnu\", \"enf\", \"awt\", \"tdi\", \"myh\", \"pcj\", \"bvn\", \"quk\", \"liq\", \"vms\", \"tcz\", \"bzm\", \"mal\", \"cpx\", \"gmd\", \"vls\", \"aod\", \"kqb\", \"gel\", \"ttn\", \"gdf\", \"nng\", \"khh\", \"klx\", \"enn\", \"dgb\", \"ble\", \"mod\", \"mdr\", \"xtr\", \"nlx\", \"bjn\", \"oru\", \"gdo\", \"scs\", \"lad\", \"cmt\", \"tgj\", \"nkt\", \"sih\", \"tsq\", \"mhz\", \"dox\", \"ndg\", \"bia\", \"lup\", \"mpr\", \"khe\", \"hve\", \"kxp\", \"bpk\", \"fer\", \"sel\", \"wir\", \"ofs\", \"mrb\", \"bxo\", \"fan\", \"tbz\", \"bws\", \"bou\", \"bxr\", \"shx\", \"maw\", \"xcg\", \"kci\", \"txx\", \"msg\", \"apc\", \"fom\", \"kjn\", \"lmi\", \"rri\", \"sjt\", \"pbu\", \"dip\", \"anf\", \"wms\", \"dao\", \"ksb\", \"mdm\", \"bsv\", \"scx\", \"ukq\", \"tbo\", \"ito\", \"smy\", \"mqt\", \"yme\", \"lvs\", \"tsu\", \"kvm\", \"oco\", \"ssj\", \"gwr\", \"jmw\", \"tav\", \"mop\", \"atk\", \"tia\", \"wnw\", \"dhn\", \"gft\", \"daa\", \"ptp\", \"xrr\", \"aem\", \"ccd\", \"doc\", \"tiu\", \"snk\", \"xga\", \"waz\", \"bfb\", \"cir\", \"kmw\", \"\n",
    "adr\", \"bjs\", \"aaa\", \"lce\", \"oua\", \"zyn\", \"ang\", \"bjh\", \"bel\", \"lng\", \"bto\", \"rak\", \"bkn\", \"mfb\", \"mxe\", \"tld\", \"buy\", \"gta\", \"tma\", \"uta\", \"itz\", \"kfb\", \"lhs\", \"yak\", \"sxw\", \"kwg\", \"unx\", \"lsh\", \"ndn\", \"xkf\", \"bvr\", \"shd\", \"rar\", \"erh\", \"apx\", \"gqa\", \"rbl\", \"svc\", \"iba\", \"gwx\", \"mfj\", \"xru\", \"uli\", \"ahm\", \"bmh\", \"drc\", \"sao\", \"ykk\", \"fax\", \"jeu\", \"swu\", \"tdm\", \"mpe\", \"ils\", \"dyb\", \"ksn\", \"cih\", \"tii\", \"clk\", \"dem\", \"bxg\", \"tms\", \"yig\", \"poq\", \"pug\", \"fay\", \"bqf\", \"kuy\", \"byg\", \"nch\", \"xgw\", \"jab\", \"div\", \"nes\", \"tbl\", \"fue\", \"pnd\", \"kfz\", \"kbw\", \"nbj\", \"xsd\", \"sja\", \"goa\", \"ltz\", \"dyu\", \"ghl\", \"pac\", \"nir\", \"pcb\", \"ddi\", \"dmx\", \"kzp\", \"tmm\", \"xkd\", \"xzp\", \"caf\", \"unz\", \"aag\", \"jgb\", \"nez\", \"hca\", \"xyk\", \"car\", \"zhi\", \"kas\", \"jbn\", \"evn\", \"auq\", \"n\n",
    "dr\", \"ruo\", \"sod\", \"los\", \"sok\", \"aes\", \"swf\", \"vec\", \"bxf\", \"dmy\", \"unn\", \"azt\", \"ibb\", \"ngj\", \"kre\", \"spx\", \"heg\", \"tkb\", \"meb\", \"izm\", \"sad\", \"esn\", \"mhn\", \"wdt\", \"klt\", \"nqk\", \"mvp\", \"wrg\", \"vao\", \"nfa\", \"xwr\", \"pmd\", \"nvo\", \"crx\", \"stb\", \"boi\", \"yso\", \"buh\", \"muu\", \"gdt\", \"wlx\", \"kfq\", \"ssx\", \"rgs\", \"okm\", \"agg\", \"gka\", \"sig\", \"duv\", \"dmg\", \"mxd\", \"njm\", \"quw\", \"wai\", \"cuw\", \"gry\", \"pwr\", \"khw\", \"ney\", \"lkt\", \"yec\", \"ved\", \"zkr\", \"cdf\", \"mmn\", \"byf\", \"giy\", \"jow\", \"tsg\", \"nbp\", \"nuu\", \"hti\", \"wbe\", \"afe\", \"nef\", \"sld\", \"avt\", \"clo\", \"gly\", \"ugy\", \"pue\", \"ung\", \"lcp\", \"tul\", \"alo\", \"diu\", \"jiu\", \"lmg\", \"ghn\", \"hmc\", \"tpx\", \"xnm\", \"tzx\", \"bra\", \"war\", \"kje\", \"mpm\", \"kqg\", \"luc\", \"nau\", \"aby\", \"xmt\", \"kyw\", \"ylg\", \"atq\", \"xbw\", \"jos\", \"ole\", \"sdg\", \"sil\", \"xke\", \"ter\", \"noc\", \"mcf\", \"djm\", \"srf\", \"cjk\", \"lix\", \"lld\", \"mcy\", \"tcd\", \"usi\", \"naw\", \"szp\", \"xle\", \"dug\", \"kcz\", \"zyg\", \"kam\", \"srp\", \"lrv\", \"ynu\", \"fkk\", \"pck\", \"kwn\", \"jbj\", \"shu\", \"osc\", \"sut\", \"xwd\", \"sly\", \"nsd\", \"bmu\", \"ffm\", \"bpr\", \"wky\", \"ags\", \"kra\", \"twq\", \"mky\", \"ses\", \"kys\", \"bos\", \"ddj\", \"oog\", \"ttl\", \"wor\", \"jrb\", \"knm\", \"tex\", \"tol\", \"aeu\", \"stt\", \"ifb\", \"bdz\", \"weu\", \"sqo\", \"dkk\", \"hay\", \"ncn\", \"kpn\", \"cku\", \"ape\", \"fuu\", \"hio\", \"emw\", \"fgr\", \"deq\", \"gdb\", \"kqf\", \"bjy\", \"soq\", \"sts\", \"sws\", \"dot\", \"bie\", \"kat\", \"gvp\", \"aau\", \"bkp\", \"bqc\", \"kei\", \"hpo\", \"hds\", \"bnu\", \"nti\", \"abw\", \"bzw\", \"wav\", \"ega\", \"tlv\", \"woa\", \"kof\", \"bla\", \"nyw\", \"god\", \"snw\", \"hrz\", \"eto\", \"kho\", \"mng\", \"ach\", \"gbl\", \"kin\", \"rrt\", \"uwa\", \"caw\", \"mfx\", \"csf\", \"dtn\", \"agk\", \"xkp\", \"acl\", \"pwa\", \"tax\", \"sze\", \"wbt\", \"akq\", \"\n",
    "pww\", \"rmu\", \"llj\", \"qvz\", \"myr\", \"tsc\", \"mcr\", \"kms\", \"mkf\", \"zca\", \"tac\", \"nhy\", \"twg\", \"lob\", \"twu\", \"rir\", \"pee\", \"nyf\", \"nzs\", \"mbe\", \"sjp\", \"blb\", \"pof\", \"nsp\", \"bex\", \"xhu\", \"sqm\", \"kjy\", \"xkg\", \"nao\", \"ilk\", \"mah\", \"khx\", \"nkj\", \"nwi\", \"sej\", \"ciy\", \"xrb\", \"syy\", \"hmj\", \"rou\", \"lmu\", \"gbf\", \"igb\", \"kvy\", \"nty\", \"bne\", \"ccr\", \"kpl\", \"ynl\", \"nnf\", \"gdh\", \"tnd\", \"nyr\", \"hbu\", \"pmw\", \"bpj\", \"iyo\", \"myf\", \"nok\", \"tod\", \"yot\", \"brl\", \"sbo\", \"nbb\", \"but\", \"nya\", \"zpq\", \"bxh\", \"ham\", \"lia\", \"aez\", \"quv\", \"krf\", \"gmm\", \"pnk\", \"sir\", \"pmi\", \"lro\", \"tbc\", \"nld\", \"ess\", \"tij\", \"sqn\", \"anj\", \"gwi\", \"aft\", \"atv\", \"swy\", \"lmo\", \"lsv\", \"imt\", \"awk\", \"rwm\", \"yxl\", \"rtc\", \"ogc\", \"wbj\", \"vap\", \"nib\", \"kpt\", \"kwu\", \"mey\", \"lrz\", \"nkn\", \"shr\", \"paz\", \"unu\", \"bwi\", \"ghk\", \"mpc\", \"coj\", \"iow\", \"hud\", \"csb\", \"mip\", \"tgb\", \"uiv\", \"faf\", \"wrz\", \"nac\", \"bcc\", \"hoi\", \"daq\", \"sch\", \"ars\", \"scw\", \"sis\", \"zpr\", \"ckt\", \"cpo\", \"jhs\", \"wha\", \"ixc\", \"tca\", \"yly\", \"hma\", \"kwh\", \"bll\", \"jub\", \"wkb\", \"yva\", \"sht\", \"tyu\", \"byp\", \"sqs\", \"nyx\", \"wac\", \"aix\", \"pkb\", \"xte\", \"cik\", \"wuy\", \"lwa\", \"tqb\", \"dgh\", \"sbp\", \"ldp\", \"vmz\", \"kfc\", \"ppi\", \"jbr\", \"opa\", \"xbn\", \"tuz\", \"ukh\", \"tco\", \"kbk\", \"njs\", \"rkb\", \"enh\", \"drd\", \"ndh\", \"dbr\", \"nkh\", \"lbq\", \"yix\", \"swe\", \"adu\", \"mqu\", \"hoa\", \"mqo\", \"two\", \"emm\", \"bpw\", \"bbe\", \"mdv\", \"sbv\", \"nxe\", \"pre\", \"pav\", \"osp\", \"lsm\", \"sxg\", \"tni\", \"yww\", \"sav\", \"krw\", \"hux\", \"sgg\", \"eot\", \"bho\", \"kca\", \"mks\", \"nll\", \"hia\", \"dme\", \"ipi\", \"pti\", \"wol\", \"klm\", \"bvz\", \"ker\", \"mit\", \"jid\", \"mmy\", \"taw\", \"bec\", \"tip\", \"mjx\", \"dty\", \"mch\", \"duk\", \"mtv\", \"ngv\", \"xcm\", \"rhp\", \"raf\", \"luk\", \"btw\", \"njn\", \"sjm\", \"crj\", \"utp\", \"wie\", \"yit\", \"vic\", \"awn\", \"mdz\", \"waq\", \"lgg\", \"pl\n",
    "t\", \"dta\", \"oyb\", \"swh\", \"goz\", \"zeg\", \"cvn\", \"xho\", \"dii\", \"jng\", \"kbj\", \"tev\", \"ktk\", \"pnl\", \"cgc\", \"zag\", \"nzr\", \"lif\", \"ike\", \"kgb\", \"khr\", \"onp\", \"bds\", \"sun\", \"dkx\", \"qxo\", \"ktn\", \"set\", \"ica\", \"mxu\", \"otb\", \"urz\", \"lgs\", \"nug\", \"bim\", \"bbp\", \"xlg\", \"acs\", \"tmf\", \"bup\", \"wgi\", \"lso\", \"xis\", \"rth\", \"cjv\", \"tnn\", \"zsm\", \"leb\", \"riu\", \"bjj\", \"guh\", \"qxt\", \"geh\", \"suw\", \"xph\", \"zme\", \"mie\", \"mbr\", \"jmc\", \"ael\", \"pyy\", \"bzu\", \"sip\", \"nuk\", \"kiq\", \"nst\", \"kou\", \"oca\", \"mth\", \"aqz\", \"pld\", \"six\", \"llb\", \"nym\", \"lep\", \"dgn\", \"kbc\", \"sww\", \"her\", \"tgr\", \"rui\", \"igm\", \"gya\", \"sss\", \"aox\", \"bcf\", \"twh\", \"grq\", \"eud\", \"mfs\", \"faa\", \"wrh\", \"lid\", \"kxt\", \"vkn\", \"ctg\", \"wyr\", \"bps\", \"xop\", \"gdq\", \"dal\", \"aik\", \"mlw\", \"adi\", \"ppu\", \"prg\", \"srm\", \"vep\", \"xtv\", \"xvs\", \"pox\", \"meo\", \"udm\", \"acv\", \"cux\", \"pgz\", \"xve\", \"bjr\", \"bgu\", \"sux\", \"xgf\", \"gwt\", \"moh\", \"syx\", \"caj\", \"kri\", \"mzv\", \"mvk\", \"pko\", \"waf\", \"msv\", \"trm\", \"yuw\", \"ygw\", \"une\", \"lam\", \"kop\", \"kor\", \"mkj\", \"pbi\", \"goh\", \"nrz\", \"nmc\", \"oso\", \"coq\", \"ilo\", \"akc\", \"nam\", \"mjp\", \"ndp\", \"mcl\", \"cso\", \"dek\", \"pbl\", \"atd\", \"prm\", \"sdz\", \"tus\", \"mli\", \"bsc\", \"rmx\", \"kim\", \"pev\", \"bvt\", \"mml\", \"tse\", \"zza\", \"uve\", \"rnw\", \"tsy\", \"awm\", \"axg\", \"itl\", \"zmi\", \"mzh\", \"kqe\", \"nkk\", \"mnu\", \"swv\", \"bwc\", \"ayb\", \"sbd\", \"gao\", \"kcg\", \"kkc\", \"csq\", \"dyy\", \"qvs\", \"awx\", \"rop\", \"yry\", \"txh\", \"ijn\", \"tmg\", \"cim\", \"moo\", \"szn\", \"ykt\", \"gbk\", \"bby\", \"hld\", \"gml\", \"hun\", \"jeb\", \"bwg\", \"knz\", \"xed\", \"sbu\", \"inh\", \"wun\", \"win\", \"ckb\", \"kuo\", \"aup\", \"mwm\", \"hba\", \"kyh\", \"otu\", \"yrl\", \"diz\", \"enu\", \"ken\", \"dya\", \"taz\", \"wep\", \"pgg\", \"loo\", \"ida\", \"bhn\", \"ots\", \"dgd\", \"ank\", \"zkt\", \"mvo\", \"txy\", \"yxa\", \"ago\", \"gyo\", \"pht\", \"krz\", \"njd\", \"pse\n",
    "\", \"pqa\", \"bau\", \"sre\", \"kid\", \"lij\", \"xod\", \"yut\", \"biv\", \"kth\", \"bji\", \"gma\", \"fum\", \"fuv\", \"twr\", \"nag\", \"tur\", \"fll\", \"krr\", \"sxr\", \"tvl\", \"hax\", \"eyo\", \"skb\", \"umg\", \"hms\", \"hih\", \"iya\", \"jaq\", \"hto\", \"too\", \"mgl\", \"lda\", \"bny\", \"mlx\", \"ama\", \"flh\", \"mkv\", \"knb\", \"mvi\", \"afp\", \"aed\", \"nsr\", \"ood\", \"bkd\", \"jpr\", \"lrk\", \"tiy\", \"tkx\", \"wtf\", \"nea\", \"mut\", \"sjb\", \"bfr\", \"enx\", \"zkp\", \"bax\", \"zeh\", \"nri\", \"noq\", \"arc\", \"zng\", \"qum\", \"soc\", \"dze\", \"heb\", \"atm\", \"coc\", \"atl\", \"dsl\", \"jod\", \"rmc\", \"zmb\", \"hrp\", \"oie\", \"ljp\", \"tss\", \"mmj\", \"kda\", \"xha\", \"jaj\", \"ndb\", \"jeh\", \"kpa\", \"nin\", \"cdr\", \"mwt\", \"lbj\", \"lke\", \"bmx\", \"vgt\", \"bkj\", \"aie\", \"yub\", \"drq\", \"nge\", \"sho\", \"apo\", \"emn\", \"nap\", \"laz\", \"chx\", \"bmw\", \"dbq\", \"gda\", \"pdi\", \"tsk\", \"ysd\", \"zbu\", \"ort\", \"jil\", \"gun\", \"sxb\", \"yux\", \"fqs\", \"acm\", \"njt\", \"avk\", \"xae\", \"ihp\", \"hnn\", \"yev\", \"urd\", \"adz\", \"kcq\", \"ntr\", \"uar\", \"kva\", \"zcd\", \"kkx\", \"wtb\", \"twp\", \"nek\", \"bzs\", \"vbk\", \"mqs\", \"bdx\", \"mym\", \"trv\", \"thd\", \"yta\", \"asl\", \"lao\", \"bdd\", \"gsg\", \"svs\", \"llu\", \"fuy\", \"tdn\", \"daw\", \"mhk\", \"nor\", \"orr\", \"box\", \"tgi\", \"dwz\", \"kwp\", \"tst\", \"mqx\", \"end\", \"mih\", \"lmy\", \"kmv\", \"oni\", \"spu\", \"mkp\", \"qua\", \"yku\", \"xay\", \"bzk\", \"cbd\", \"cnu\", \"cre\", \"hoj\", \"kxb\", \"agz\", \"pay\", \"hya\", \"lkc\", \"hle\", \"hem\", \"lbo\", \"arp\", \"sdf\", \"mde\", \"klp\", \"jkp\", \"bub\", \"kiu\", \"ave\", \"okb\", \"tmo\", \"trh\", \"bks\", \"mwu\", \"pye\", \"mko\", \"bdr\", \"sgi\", \"nrf\", \"tbn\", \"snq\", \"myg\", \"ckl\", \"abl\", \"yrs\", \"amc\", \"bdw\", \"pze\", \"gnm\", \"cht\", \"mqk\", \"nyk\", \"xli\", \"gmy\", \"bck\", \"kil\", \"dtk\", \"lim\", \"kdr\", \"wib\", \"bes\", \"yli\", \"ssq\", \"ubr\", \"dul\", \"log\", \"dro\", \"eng\", \"ata\", \"aqp\", \"llf\", \"l\n",
    "ul\", \"mrg\", \"oos\", \"hot\", \"nnr\", \"phu\", \"sbj\", \"suk\", \"vid\", \"zpx\", \"zuh\", \"gua\", \"jjr\", \"tlf\", \"sli\", \"gdc\", \"ysy\", \"por\", \"huh\", \"nbm\", \"bjm\", \"aid\", \"qub\", \"mza\", \"ydk\", \"gat\", \"zav\", \"mnn\", \"nkg\", \"now\", \"soy\", \"mye\", \"rao\", \"zmw\", \"ykh\", \"ges\", \"mju\", \"tfi\", \"taf\", \"kau\", \"fub\", \"poe\", \"smk\", \"bva\", \"bfd\", \"xpi\", \"kvu\", \"tpl\", \"dib\", \"npo\", \"hut\", \"pao\", \"vum\", \"pll\", \"cay\", \"dac\", \"sne\", \"spq\", \"zlm\", \"avo\", \"nne\", \"fak\", \"psh\", \"yka\", \"tgv\", \"nni\", \"mvu\", \"axx\", \"bbu\", \"boo\", \"dni\", \"gba\", \"ksm\", \"gho\", \"kuu\", \"ldq\", \"otx\", \"mup\", \"smg\", \"dbv\", \"wri\", \"xcc\", \"snu\", \"szl\", \"bbq\", \"mnk\", \"fal\", \"nar\", \"iks\", \"kfr\", \"tji\", \"zsu\", \"umu\", \"cox\", \"old\", \"sef\", \"opt\", \"ngy\", \"nuo\", \"snc\", \"nqn\", \"tet\", \"und\", \"tyt\", \"mbd\", \"ayt\", \"mdg\", \"kxm\", \"fbl\", \"lom\", \"frs\", \"nue\", \"guk\", \"kkd\", \"mcu\", \"bob\", \"kzg\", \"rkh\", \"mdl\", \"man\", \"kco\", \"bew\", \"goo\", \"hod\", \"krn\", \"pcn\", \"itd\", \"zpy\", \"guc\", \"krc\", \"baj\", \"klq\", \"nnh\", \"dka\", \"yif\", \"prz\", \"txo\", \"gga\", \"rmq\", \"ktt\", \"gmr\", \"toi\", \"yuc\", \"szg\", \"akk\", \"ibh\", \"ipk\", \"nhb\", \"bgx\", \"sob\", \"onn\", \"yuf\", \"urt\", \"ziz\", \"rwo\", \"suy\", \"cna\", \"pek\", \"irh\", \"mss\", \"yki\", \"rmi\", \"ytl\", \"trl\", \"tyh\", \"kus\", \"jor\", \"tah\", \"opk\", \"hmg\", \"teg\", \"nkp\", \"dei\", \"kag\", \"tlp\", \"ces\", \"bib\", \"rzh\", \"tmt\", \"rem\", \"lbs\", \"lht\", \"ccp\", \"paw\", \"sbf\", \"zea\", \"kdc\", \"sfm\", \"ctm\", \"suc\", \"nrt\", \"prx\", \"sia\", \"gvo\", \"lvl\", \"kqm\", \"npg\", \"ism\", \"xng\", \"xoo\", \"cri\", \"loe\", \"rnn\", \"mby\", \"xkt\", \"xre\", \"sqq\", \"xri\", \"sha\", \"mda\", \"dbe\", \"dwk\", \"suq\", \"rhg\", \"xsc\", \"tbd\", \"nsu\", \"nyh\", \"wod\", \"emi\", \"b\n",
    "zv\", \"nbg\", \"bok\", \"zch\", \"tih\", \"emk\", \"kan\", \"gwn\", \"piz\", \"mhm\", \"ale\", \"koo\", \"xmz\", \"bcg\", \"udi\", \"xpg\", \"dan\", \"cof\", \"jct\", \"psu\", \"mgj\", \"fwa\", \"oro\", \"kex\", \"src\", \"nkc\", \"zka\", \"kln\", \"bmk\", \"kpb\", \"yao\", \"pgl\", \"uum\", \"qva\", \"ltn\", \"crm\", \"nhf\", \"adn\", \"brf\", \"awv\", \"icl\", \"mqp\", \"sgb\", \"mcb\", \"nex\", \"xyl\", \"bdv\", \"wal\", \"irx\", \"bep\", \"bwn\", \"ita\", \"gec\", \"lus\", \"xtb\", \"orv\", \"ewe\", \"wyn\", \"juw\", \"tdk\", \"tgc\", \"hmw\", \"mmt\", \"krv\", \"chj\", \"kmi\", \"vwa\", \"rwa\", \"xkk\", \"tlt\", \"nmp\", \"bfq\", \"dpp\", \"yih\", \"nmt\", \"njy\", \"cup\", \"bmb\", \"cbt\", \"msn\", \"xom\", \"wnn\", \"xld\", \"mlk\", \"mww\", \"obr\", \"beo\", \"kub\", \"afh\", \"rmt\", \"mhw\", \"tgl\", \"wbi\", \"kkt\", \"tga\", \"klr\", \"ymr\", \"zuy\", \"cjo\", \"nbo\", \"tgu\", \"wnu\", \"kut\", \"xtq\", \"ifu\", \"tre\", \"crl\", \"brz\", \"knw\", \"bqi\", \"vmh\", \"pwg\", \"bsh\", \"xml\", \"aht\", \"brr\", \"ayi\", \"ttp\", \"tud\", \"frd\", \"bnr\", \"etu\", \"ppp\", \"ilp\", \"gox\", \"onr\", \"gru\", \"rpn\", \"tjs\", \"tys\", \"xbm\", \"xkr\", \"ing\", \"byv\", \"lnw\", \"ymg\", \"mrn\", \"czk\", \"acb\", \"xrt\", \"nog\", \"ntm\", \"mnp\", \"amg\", \"bbr\", \"tgy\", \"sjd\", \"ukl\", \"pgn\", \"nod\", \"xpq\", \"bod\", \"eus\", \"zna\", \"cot\", \"hob\", \"waj\", \"low\", \"lug\", \"xmh\", \"dmw\", \"chg\", \"ldk\", \"lun\", \"mmk\", \"ydg\", \"fly\", \"xtl\", \"dop\", \"mra\", \"aog\", \"ukr\", \"ptv\", \"www\", \"gbx\", \"stu\", \"shn\", \"zpl\", \"trs\", \"had\", \"tvd\", \"wln\", \"yia\", \"srv\", \"dix\", \"luz\", \"csc\", \"tbu\", \"zum\", \"xsl\", \"jel\", \"dbp\", \"hmz\", \"ity\", \"wji\", \"phw\", \"tja\", \"kbl\", \"lut\", \"qun\", \"cua\", \"ggw\", \"aib\", \"sdh\", \"nto\", \"kai\", \"lrl\", \"tuj\", \"bvd\", \"azg\", \"wba\", \"caq\", \"yiv\", \"jqr\", \"dwu\", \"gsn\", \"\n",
    "maj\", \"ukp\", \"nzd\", \"nnv\", \"wwo\", \"lga\", \"mzy\", \"yzk\", \"cnt\", \"glj\", \"acw\", \"lol\", \"bzo\", \"mhy\", \"mpq\", \"nmd\", \"kpf\", \"miw\", \"krt\", \"ake\", \"hmv\", \"der\", \"sbw\", \"kdg\", \"yoi\", \"doa\", \"non\", \"tmn\", \"bgf\", \"dsq\", \"idb\", \"gal\", \"kax\", \"nxd\", \"bvv\", \"kef\", \"haz\", \"obt\", \"mhi\", \"nmq\", \"aye\", \"bzc\", \"kce\", \"amh\", \"fud\", \"keq\", \"ldo\", \"xky\", \"trr\", \"fsl\", \"cbs\", \"duw\", \"wsr\", \"due\", \"kmd\", \"usa\", \"pip\", \"nur\", \"xpd\", \"kir\", \"ain\", \"ttu\", \"acp\", \"bfh\", \"mgv\", \"mrj\", \"grd\", \"agm\", \"xas\", \"rtw\", \"nzi\", \"jbu\", \"ndw\", \"ruu\", \"ppm\", \"urx\", \"nhd\", \"gin\", \"twc\", \"mrm\", \"mbo\", \"gvf\", \"atc\", \"wdj\", \"nqq\", \"abo\", \"mna\", \"lmq\", \"kup\", \"nsf\", \"ser\", \"dtd\", \"cto\", \"aak\", \"zko\", \"kql\", \"mxo\", \"zgr\", \"mjc\", \"oci\", \"hgw\", \"klb\", \"kzf\", \"qxc\", \"spn\", \"zmf\", \"gld\", \"zhb\", \"zor\", \"kot\", \"lej\", \"tkr\", \"tub\", \"kiv\", \"rsk\", \"bpm\", \"ggu\", \"yin\", \"xki\", \"tna\", \"mwf\", \"cad\", \"dgl\", \"bux\", \"ktg\", \"bpd\", \"zmd\", \"agt\", \"xpb\", \"quc\", \"xct\", \"vmi\", \"mhf\", \"ged\", \"tez\", \"diw\", \"ple\", \"bhz\", \"gmb\", \"gvc\", \"kie\", \"qxq\", \"yav\", \"gfk\", \"kls\", \"ppl\", \"nwb\", \"dwa\", \"zyj\", \"kno\", \"bxj\", \"rau\", \"zpa\", \"gsp\", \"toq\", \"lss\", \"kdx\", \"okn\", \"xpo\", \"mwv\", \"mgm\", \"kht\", \"kdw\", \"noz\", \"bcv\", \"kqr\", \"krd\", \"dnr\", \"kta\", \"mbb\", \"ubu\", \"wfg\", \"bwj\", \"bpx\", \"lkh\", \"bqa\", \"muj\", \"sed\", \"sxk\", \"bdy\", \"grv\", \"ukw\", \"vah\", \"ksl\", \"gui\", \"wci\", \"aub\", \"njx\", \"mvl\", \"gwb\", \"ton\", \"abq\", \"ncg\", \"gak\", \"tnq\", \"djf\", \"alq\", \"pli\", \"tbm\", \"ysc\", \"kst\", \"ztu\", \"tzl\", \"scp\", \"bdb\", \"gix\", \"lna\", \"tdl\", \"cnx\", \"kib\", \"moz\", \"onw\", \"wig\", \"cmo\", \"les\", \"ybn\", \"yph\", \"tvn\", \"\n",
    "pnt\", \"glh\", \"bhb\", \"ibo\", \"trw\", \"bww\", \"kkv\", \"ijs\", \"bhs\", \"jpn\", \"mzm\", \"tor\", \"nuj\", \"bit\", \"btm\", \"gge\", \"gag\", \"hrx\", \"gdi\", \"enb\", \"kkh\", \"ntw\", \"raw\", \"tob\", \"wer\", \"tim\", \"nnd\", \"tsb\", \"xkw\", \"nlq\", \"bvq\", \"nuz\", \"jiq\", \"kap\", \"lfa\", \"lmw\", \"nyb\", \"thq\", \"tro\", \"urn\", \"yes\", \"ibm\", \"kuc\", \"row\", \"xub\", \"tlb\", \"mln\", \"yik\", \"eko\", \"pix\", \"mpp\", \"umr\", \"sxn\", \"bhw\", \"suj\", \"xnk\", \"bhp\", \"aey\", \"bcr\", \"nmi\", \"zhd\", \"pbm\", \"sky\", \"bgw\", \"jun\", \"niw\", \"gub\", \"kbq\", \"dui\", \"mwn\", \"skt\", \"pep\", \"aga\", \"nnl\", \"dyr\", \"spl\", \"mes\", \"raj\", \"ske\", \"dbf\", \"seg\", \"mei\", \"kec\", \"goc\", \"mta\", \"kaw\", \"rng\", \"bsw\", \"ngw\", \"ztq\", \"mwl\", \"arg\", \"eri\", \"oaa\", \"lnb\", \"xtt\", \"ped\", \"srh\", \"wut\", \"nul\", \"ppn\", \"cgk\", \"kom\", \"bbi\", \"vmx\", \"pci\", \"nvm\", \"lai\", \"soj\", \"sus\", \"ekr\", \"pps\", \"aiq\", \"tbi\", \"kvl\", \"irk\", \"vko\", \"tbg\", \"bxc\", \"yey\", \"cbc\", \"bjg\", \"mig\", \"bbv\", \"nzu\", \"cgg\", \"moc\", \"snx\", \"akl\", \"dmu\", \"tjo\", \"nob\", \"bow\", \"nas\", \"avs\", \"nij\", \"tis\", \"jms\", \"brg\", \"zkv\", \"sxe\", \"giu\", \"trz\", \"lek\", \"dlg\", \"wlo\", \"nhq\", \"ymh\", \"tqr\", \"ddd\", \"kfu\", \"ren\", \"nmj\", \"yug\", \"mvy\", \"fcs\", \"gqn\", \"pes\", \"xsj\", \"lil\", \"fah\", \"nnq\", \"mga\", \"plq\", \"mxb\", \"gov\", \"tay\", \"tdr\", \"tju\", \"auc\", \"hkk\", \"gcn\", \"mns\", \"tdh\", \"vin\", \"jnl\", \"cbw\", \"mfi\", \"zpp\", \"rmy\", \"rgu\", \"bjt\", \"pbc\", \"thf\", \"mrz\", \"toy\", \"rap\", \"ndo\", \"hii\", \"fad\", \"arb\", \"hgm\", \"uan\", \"nlg\", \"xty\", \"esh\", \"yln\", \"ndy\", \"som\", \"yrb\", \"gxx\", \"liw\", \"gnn\", \"swb\", \"uni\", \"gnw\", \"snl\", \"nzk\", \"ket\", \n",
    "\"axk\", \"bro\", \"ide\", \"pda\", \"myu\", \"kzl\", \"nbq\", \"kal\", \"apg\", \"bbm\", \"skh\", \"bgo\", \"zmv\", \"msm\", \"rmo\", \"hab\", \"ksq\", \"apz\", \"ogo\", \"zpn\", \"mhc\", \"xpv\", \"csy\", \"dth\", \"gvn\", \"kbx\", \"zmz\", \"soa\", \"hvn\", \"xeg\", \"xwo\", \"ceb\", \"tzh\", \"lnd\", \"sml\", \"rav\", \"lev\", \"kdp\", \"bxl\", \"twx\", \"moy\", \"gri\", \"ypa\", \"cwg\", \"emb\", \"mgh\", \"onu\", \"xmy\", \"asi\", \"dts\", \"msk\", \"ynk\", \"bcn\", \"ccc\", \"kdy\", \"kea\", \"mai\", \"aul\", \"aww\", \"dtp\", \"qxp\", \"sab\", \"snf\", \"tuf\", \"yss\", \"cms\", \"jkm\", \"pey\", \"vku\", \"mji\", \"nqo\", \"mwa\", \"ymd\", \"kke\", \"gvs\", \"cuh\", \"lax\", \"ndu\", \"zgm\", \"zra\", \"obo\", \"ksg\", \"nsy\", \"sij\", \"niu\", \"sko\", \"bqg\", \"sgc\", \"sju\", \"iry\", \"fie\", \"wsi\", \"zkh\", \"aqr\", \"llq\", \"tkf\", \"pwb\", \"mca\", \"gug\", \"swc\", \"ysl\", \"sza\", \"gir\", \"tpc\", \"prh\", \"dee\", \"lmd\", \"kgi\", \"cin\", \"run\", \"sqr\", \"dil\", \"frq\", \"doe\", \"npl\", \"dhv\", \"ire\", \"bzt\", \"mau\", \"tto\", \"col\", \"hwc\", \"spm\", \"gnu\", \"mfz\", \"mcm\", \"seb\", \"kvv\", \"omi\", \"uha\", \"kgf\", \"tjw\", \"tye\", \"fas\", \"xpa\", \"dgk\", \"gbz\", \"ldl\", \"dsn\", \"dik\", \"dhr\", \"isa\", \"bch\", \"aso\", \"bdc\", \"dis\", \"tcm\", \"nkm\", \"tku\", \"gan\", \"nrc\", \"psp\", \"mfy\", \"duy\", \"bae\", \"app\", \"rmd\", \"msy\", \"lsb\", \"snz\", \"nme\", \"akj\", \"lzl\", \"smr\", \"grg\", \"ndm\", \"ozm\", \"gus\", \"bfl\", \"fuf\", \"cjy\", \"agd\", \"mhg\", \"zpd\", \"kzi\", \"pom\", \"kzk\", \"zib\", \"bpy\", \"hei\", \"hmr\", \"ctc\", \"hkn\", \"gcf\", \"lmn\", \"pmx\", \"xka\", \"ytp\", \"bwp\", \"len\", \"jek\", \"lja\", \"pdo\", \"jka\", \"ihb\", \"kit\", \"mvv\", \"ifm\", \"dbn\", \"gaf\", \"acf\", \"kdi\", \"bbx\", \"tel\", \"oda\", \"yae\", \"kyd\", \"yaf\", \"btn\", \"kak\", \"nfd\", \"uks\", \"umn\", \"pim\",\n",
    " \"ajn\", \"ttk\", \"zae\", \"llc\", \"czo\", \"ngt\", \"bhq\", \"sdt\", \"wrb\", \"wrx\", \"slh\", \"bkv\", \"zpj\", \"brw\", \"kkp\", \"xks\", \"llk\", \"fpe\", \"atn\", \"duz\", \"huw\", \"mme\", \"fij\", \"kxq\", \"yty\", \"any\", \"nev\", \"nix\", \"oin\", \"lws\", \"bzb\", \"hbb\", \"twa\", \"yxu\", \"fur\", \"jyy\", \"xua\", \"kyv\", \"bdu\", \"kcb\", \"nyq\", \"dbi\", \"pcg\", \"sck\", \"aoj\", \"zpb\", \"cga\", \"cen\", \"kkl\", \"mwe\", \"zhn\", \"ndz\", \"wkd\", \"lbx\", \"ori\", \"obm\", \"ala\", \"bwy\", \"niv\", \"ncq\", \"kpv\", \"knu\", \"rcf\", \"unm\", \"kjz\", \"krl\", \"zul\", \"pmm\", \"bje\", \"hor\", \"cmg\", \"kaf\", \"npi\", \"hvc\", \"puw\", \"hnd\", \"niz\", \"tsr\", \"ysr\", \"lhi\", \"pku\", \"okg\", \"nzm\", \"qus\", \"spr\", \"zax\", \"kky\", \"fip\", \"swx\", \"omg\", \"prr\", \"mre\", \"sto\", \"tdd\", \"phn\", \"thz\", \"ruh\", \"cwd\", \"mhp\", \"ilb\", \"faj\", \"wlu\", \"fi\n",
    "t\", \"wdd\", \"dtt\", \"tiq\", \"cjh\", \"mry\", \"fro\", \"mic\", \"srq\", \"sgx\", \"kfo\", \"tbe\", \"jav\", \"lch\", \"qxl\", \"csn\", \"mlv\", \"txt\", \"npb\", \"bpa\", \"gdr\", \"ife\", \"dof\", \"huf\", \"omx\", \"aqk\", \"vmq\", \"kff\", \"mon\", \"qxw\", \"chp\", \"fry\", \"hoc\", \"qxn\", \"zwa\", \"lwh\", \"sym\", \"dmm\", \"thk\", \"mjl\", \"ojg\", \"tgp\", \"tcw\", \"ths\", \"vkt\", \"dbj\", \"auh\", \"dna\", \"ijj\", \"mdw\", \"moa\", \"nnp\", \"omo\", \"tzo\", \"bma\", \"itv\", \"asr\", \"tqq\", \"lth\", \"ubl\", \"ktl\", \"nbl\", \"rmv\", \"cap\", \"kjk\", \"wsa\", \"aux\", \"kgg\", \"xac\", \"zga\", \"sat\", \"lsa\", \"tmz\", \"skn\", \"jrt\", \"kmf\", \"kwo\", \"lma\", \"kuv\", \"ctl\", \"kkk\", \"new\", \"pgu\", \"loj\", \"mbc\", \"rin\", \"btj\", \"alj\", \"rmw\", \"roc\", \"shb\", \"egy\", \"siw\", \"sni\", \"tcs\", \"wgb\", \"qxu\", \"pfe\", \"dnk\", \"dbm\", \"iso\", \"kdm\", \"xbi\", \"svk\", \"mer\", \"anv\", \"ror\", \"scb\", \"tuy\", \"mgp\", \"ell\", \"kkw\", \"pos\", \"ver\", \"wli\", \"wbs\", \"sei\", \"myb\", \"orz\", \"sbr\", \"uam\", \"lhl\", \"tdv\", \"wga\", \"kvo\", \"vie\", \"bkw\", \"srs\", \"quy\", \"aew\", \"dcr\", \"ryu\", \"pel\", \"tek\", \"yua\", \"mpw\", \"bym\", \"xby\", \"krh\", \"rer\", \"swt\", \"hat\", \"grh\", \"itt\", \"fao\", \"gmh\", \"ayl\", \"tng\", \"caa\", \"dhm\", \"gym\", \"anl\", \"qux\", \"pcd\", \"dkg\", \"erg\", \"tkd\", \"bak\", \"guz\", \"hmf\", \"zun\", \"djj\", \"ygr\", \"kku\", \"gnz\", \"oym\", \"sdc\", \"uya\", \"woy\", \"gai\", \"noi\", \"adg\", \"ygm\", \"alf\", \"bnn\", \"mmf\", \"pro\", \"wsv\", \"ybm\", \"asy\", \"bvj\", \"kwa\", \"wbm\", \"ykr\", \"cbq\", \"bcm\", \"mzi\", \"dva\", \"yip\", \"boa\", \"gae\", \"mkl\", \"kfn\", \"rka\", \"tec\", \"tey\", \"wnc\", \"pln\", \"gyy\", \"bvb\", \"aio\", \"htx\",\n",
    " \"kgw\", \"mvq\", \"ckh\", \"jge\", \"mpk\", \"kzx\", \"anc\", \"xht\", \"abi\", \"icr\", \"bmz\", \"byk\", \"job\", \"knq\", \"mil\", \"sno\", \"png\", \"lbg\", \"mct\", \"olo\", \"bev\", \"kyn\", \"gzn\", \"kkm\", \"moj\", \"wur\", \"rac\", \"aqm\", \"oty\", \"yal\", \"zap\", \"jmb\", \"utr\", \"zho\", \"hsl\", \"tzj\", \"bme\", \"tuh\", \"xnu\", \"mzz\", \"rmk\", \"kgy\", \"mso\", \"aro\", \"rsm\", \"cor\", \"lra\", \"ldb\", \"ska\", \"trt\", \"mgg\", \"tcc\", \"mcv\", \"gex\", \"ptw\", \"mev\", \"xkq\", \"drg\", \"zmx\", \"sst\", \"bza\", \"rki\", \"bdh\", \"kxz\", \"tpt\", \"bsb\", \"nrr\", \"ggg\", \"efi\", \"slx\", \"mkr\", \"mkq\", \"gyz\", \"btq\", \"mcp\", \"npu\", \"pmh\", \"xkv\", \"vae\", \"xkz\", \"kjs\", \"bqx\", \"kpr\", \"psc\", \"ram\", \"ext\", \"zps\", \"gop\", \"crz\", \"yaj\", \"thm\", \"ysm\", \"kfs\", \"hav\", \"xsa\", \"tsx\", \"glu\", \"ruk\", \"pnn\", \"swp\", \"bha\", \"mnv\", \"nun\", \"wan\", \"dua\", \"yas\", \"asb\", \"cbo\", \"bzz\", \"mpx\", \"gur\", \"vaa\", \"yah\", \"cak\", \"abv\", \"onx\", \"ntu\", \"zdj\", \"ksp\", \"gsl\", \"teo\", \"mfo\", \"kgu\", \"kgp\", \"jas\", \"amp\", \"bgn\", \"bzx\", \"sbn\", \"jup\", \"wnk\", \"mpy\", \"tag\", \"aug\", \"ski\", \"nat\", \"noj\", \"nqt\", \"sln\", \"bum\", \"kly\", \"klo\", \"ndt\", \"noe\", \"bdf\", \"squ\", \"vmu\", \"zoc\", \"auw\", \"naq\", \"bsi\", \"tru\", \"hnu\", \"gcr\", \"nql\", \"tiw\", \"zal\", \"mvn\", \"kav\", \"bjk\", \"kuw\", \"ckz\", \"lgn\", \"myx\", \"wls\", \"nhw\", \"zau\", \"nhk\", \"zmc\", \"pys\", \"aca\", \"ikx\", \"nee\", \"bgi\", \"ngh\", \"yau\", \"bmn\", \"ana\", \"bph\", \"lbi\", \"nsw\", \"cha\", \"bop\", \"wyy\", \"bky\", \"dgx\", \"knc\", \"rag\", \"syw\", \"sdj\", \"aao\", \"shm\", \"brb\", \"byi\", \"npa\", \"pgi\", \"clw\", \"ian\", \"fod\", \"nph\", \"niy\", \"ibr\", \"veo\", \"rmn\", \"tas\", \"kme\", \"ecy\", \"mnm\", \"mef\", \"ldi\", \"ktm\", \"nuh\", \"pto\", \"ysn\", \"lvu\", \"era\", \"rol\", \"ywt\", \"lcc\", \"\n",
    "mdt\", \"abu\", \"zkg\", \"bkg\", \"tvy\", \"kbh\", \"yrm\", \"kcm\", \"doz\", \"cuk\", \"prw\", \"sev\", \"tsi\", \"kaz\", \"ntj\", \"ybh\", \"suz\", \"sog\", \"ald\", \"bea\", \"fse\", \"hmb\", \"mhd\", \"sgu\", \"anu\", \"sur\", \"chl\", \"bzi\", \"anh\", \"izr\", \"alz\", \"mmb\", \"xok\", \"pzh\", \"aka\", \"nby\", \"bfw\", \"nik\", \"bay\", \"hmi\", \"jvd\", \"alc\", \"aur\", \"mzl\", \"bgj\", \"bet\", \"cpn\", \"chh\", \"knx\", \"kyj\", \"kmk\", \"cro\", \"kna\", \"bmm\", \"mhq\", \"mzx\", \"sii\", \"vav\", \"yby\", \"mqr\", \"nxi\", \"woc\", \"cpc\", \"mug\", \"xth\", \"crg\", \"nxl\", \"cnb\", \"bbh\", \"sen\", \"upv\", \"kse\", \"boz\", \"mog\", \"ayz\", \"bjw\", \"bqv\", \"mmv\", \"tmd\", \"yay\", \"kkq\", \"muo\", \"shk\", \"cym\", \"guw\", \"uge\", \"bah\", \"hik\", \"aae\", \"atj\", \"cag\", \"qve\", \"mea\", \"plb\", \"qya\", \"igs\", \"myy\", \"lee\", \"rus\", \"ssb\", \"tgx\", \"xdy\", \"gom\", \"zpf\", \"azz\", \"yyu\", \"kfd\", \"aah\", \"gab\", \"tfo\", \"dma\", \"srx\", \"htu\", \"asc\", \"xcv\", \"hib\", \"anm\", \"zlu\", \"lsw\", \"nhi\", \"txe\", \"bbs\", \"ame\", \"pss\", \"rgn\", \"vel\", \"mxp\", \"jan\", \"jia\", \"xbj\", \"acy\", \"tvt\", \"etz\", \"reb\", \"aax\", \"beq\", \"bvp\", \"ras\", \"yum\", \"iai\", \"nbc\", \"tht\", \"lmf\", \"noh\", \"int\", \"jat\", \"nhx\", \"nza\", \"bhl\", \"hvv\", \"prl\", \"sgj\", \"aqn\", \"cid\", \"heh\", \"gro\", \"rga\", \"kwz\", \"tam\", \"mxr\", \"gbo\", \"xly\", \"axl\", \"mqj\", \"tge\", \"mcg\", \"cuj\", \"kwe\", \"yij\", \"wny\", \"urw\", \"zkk\", \"vkp\", \"urm\", \"kqo\", \"mee\", \"adj\", \"kjq\", \"kjd\", \"cuu\", \"esi\", \"gow\", \"keu\", \"baw\", \"mdn\", \"pjt\", \"tww\", \"smb\", \"vnp\", \"bpv\", \"saw\", \"xko\", \"lml\", \"naa\", \"kah\", \"wub\", \"raa\", \"wiu\", \"abm\", \"tlh\", \"baa\", \"bhc\", \"shq\", \"ypm\", \"luq\", \"goe\", \"yne\", \"meq\", \"nmy\", \"nmx\", \"mzq\", \"wtk\", \"sbl\", \"odk\", \"xab\", \"zac\", \"tem\", \"vmb\", \"itb\", \"xtp\", \"sib\", \"lgo\", \"gig\", \"hov\", \"glc\", \"hsh\", \"mrl\", \"mts\", \"bjb\", \"nys\", \"iko\n",
    "\", \"kmb\", \"nui\", \"sba\", \"ikk\", \"epi\", \"tln\", \"acn\", \"kcy\", \"fab\", \"iru\", \"las\", \"lit\", \"nda\", \"kph\", \"gdx\", \"acd\", \"nde\", \"pbn\", \"vma\", \"gra\", \"tpp\", \"puq\", \"koa\", \"bdj\", \"dgo\", \"nmu\", \"tbj\", \"ncf\", \"pyn\", \"sys\", \"apw\", \"xbr\", \"bce\", \"bda\", \"bku\", \"cja\", \"cui\", \"mll\", \"loc\", \"pud\", \"cek\", \"kws\", \"kze\", \"seh\", \"kha\", \"ltg\", \"bsm\", \"xil\", \"tog\", \"try\", \"nlu\", \"esg\", \"blo\", \"vmj\", \"zaz\", \"ivb\", \"uur\", \"rmp\", \"uis\", \"cok\", \"djk\", \"tdc\", \"tmi\", \"num\", \"ymo\", \"smz\", \"bxz\", \"cab\", \"otn\", \"bom\", \"bkh\", \"mdy\", \"biq\", \"mpd\", \"uga\", \"kpq\", \"rwk\", \"xoc\", \"gas\", \"gnd\", \"sbq\", \"smv\", \"gvy\", \"slg\", \"frr\", \"kaa\", \"npn\", \"nck\", \"maz\", \"blq\", \"idd\", \"umo\", \"naj\", \"ahr\", \"pbb\", \"lmc\", \"dja\", \"neq\", \"zsr\", \"ina\", \"xpu\", \"cko\", \"wkl\", \"zyp\", \"mhr\", \"spc\", \"tcg\", \"xya\", \"prf\", \"mdi\", \"cqd\", \"bsr\", \"chm\", \"kqi\", \"txs\", \"jma\", \"saa\", \"hks\", \"nec\", \"bas\", \"mej\", \"hom\", \"kwi\", \"agf\", \"dbt\", \"knv\", \"xkn\", \"nig\", \"kxf\", \"kss\", \"zms\", \"key\", \"xsq\", \"wau\", \"hos\", \"fag\", \"koy\", \"smw\", \"kbp\", \"spd\", \"mjt\", \"jvn\", \"mht\", \"mwr\", \"och\", \"nlj\", \"bfz\", \"xfa\", \"nae\", \"zia\", \"saq\", \"fni\", \"xgl\", \"glb\", \"mdb\", \"mgy\", \"adq\", \"sid\", \"kkz\", \"tkq\", \"bxv\", \"ruz\", \"smn\", \"kni\", \"tof\", \"kzu\", \"xug\", \"dhx\", \"xao\", \"ybx\", \"gju\", \"yro\", \"nyp\", \"hmn\", \"ktp\", \"xhr\", \"gaw\", \"hrm\", \"zmn\", \"uss\", \"clt\", \"guf\", \"mjj\", \"pin\", \"rue\", \"tlq\", \"txc\", \"ypp\", \"sjg\", \"wrp\", \"kzw\", \"mps\", \"pxm\", \"jud\", \"how\", \"tjm\", \"tyi\", \"vlp\", \"fut\", \"ktj\", \"ted\", \"its\", \"ghh\", \"nqm\", \"gwc\", \"btx\", \"ott\", \"led\", \"tnb\", \"tiv\", \"msq\", \"kow\", \"spe\", \"elo\", \"ctn\", \"par\", \"xtc\", \"pym\", \"m\n",
    "ue\", \"kxi\", \"dnn\", \"bfx\", \"nht\", \"vor\", \"lhh\", \"lwl\", \"kum\", \"ite\", \"llm\", \"xet\", \"one\", \"bqs\", \"ktx\", \"dih\", \"laj\", \"yup\", \"bdm\", \"kio\", \"kov\", \"qup\", \"gaa\", \"kgt\", \"plz\", \"lox\", \"kjg\", \"umd\", \"ztg\", \"tsd\", \"acr\", \"pmt\", \"alm\", \"sku\", \"lgu\", \"sta\", \"gke\", \"gog\", \"txg\", \"xdc\", \"alx\", \"trg\", \"fmp\", \"tgz\", \"bri\", \"bsu\", \"ych\", \"afs\", \"nid\", \"oia\", \"kbt\", \"caz\", \"agw\", \"byl\", \"lsc\", \"pbp\", \"tdx\", \"cpa\", \"grx\", \"qvi\", \"yra\", \"ipo\", \"lkn\", \"bht\", \"yea\", \"aal\", \"ecs\", \"mpl\", \"way\", \"kyc\", \"ikv\", \"kzc\", \"mvx\", \"max\", \"ncj\", \"pex\", \"aip\", \"yaa\", \"lem\", \"ogg\", \"aar\", \"tcb\", \"hdy\", \"ywu\", \"wnp\", \"zmj\", \"bac\", \"ulu\", \"jie\", \"mfc\", \"jmd\", \"bor\", \"rji\", \"mxf\", \"ugn\", \"kpu\", \"pea\", \"ddo\", \"kpx\", \"xpe\", \"ngz\", \"zmg\", \"kzv\", \"nwx\", \"muv\", \"buv\", \"mav\", \"ssc\", \"kns\", \"tnh\", \"xaa\", \"lou\", \"mxv\", \"sjn\", \"cji\", \"sqh\", \"afi\", \"mhe\", \"mrk\", \"soe\", \"kzb\", \"wao\", \"kfv\", \"mbs\", \"amz\", \"ktb\", \"aoe\", \"bgg\", \"skg\", \"skr\", \"vml\", \"zaf\", \"ayn\", \"chq\", \"azb\", \"ant\", \"lcd\", \"ksf\", \"blj\", \"kjr\", \"lbc\", \"mpo\", \"duc\", \"uru\", \"ngk\", \"umi\", \"xap\", \"ymp\", \"amy\", \"sgk\", \"oji\", \"mek\", \"hit\", \"muq\", \"wof\", \"apk\", \"mzb\", \"xxr\", \"kbb\", \"cyo\", \"mbl\", \"aok\", \"nki\", \"yhs\", \"iwk\", \"kqu\", \"dzl\", \"bfs\", \"tap\", \"urr\", \"ngx\", \"syr\", \"xlc\", \"nwa\", \"aws\", \"ccl\", \"knj\", \"cam\", \"pnb\", \"iti\", \"qvl\", \"kjm\", \"nfl\", \"kqt\", \"ogu\", \"hao\", \"mzp\", \"kxa\", \"ysp\", \"mfm\", \"mlu\", \"okh\", \"phv\", \"ptr\", \"smo\", \"snn\", \"iku\", \"lgm\", \"nbu\", \"ncu\", \"kvq\", \"aac\", \"lgl\", \"ona\", \"kjx\", \"blh\", \"ude\", \"deu\", \"gcc\", \"jau\", \"lhu\", \"ero\", \"xlu\", \"lig\", \n",
    "\"bem\", \"aqc\", \"tta\", \"bkt\", \"ppk\", \"std\", \"gou\", \"goq\", \"dse\", \"gux\", \"xmj\", \"yrk\", \"uzb\", \"gqr\", \"mjr\", \"xnn\", \"ayd\", \"lgz\", \"bvh\", \"blx\", \"yeu\", \"kek\", \"osn\", \"buq\", \"adh\", \"bja\", \"luo\", \"mvs\", \"aqt\", \"auu\", \"ory\", \"gla\", \"kbm\", \"qws\", \"rkt\", \"dso\", \"xur\", \"huo\", \"lnn\", \"gbs\", \"tcx\", \"yxm\", \"zil\", \"urb\", \"upi\", \"dai\", \"pmb\", \"ido\", \"klg\", \"lky\", \"okk\", \"cni\", \"nnc\", \"hmp\", \"kuf\", \"uma\", \"yur\", \"chu\", \"klz\", \"txu\", \"kcs\", \"wyi\", \"ruy\", \"ett\", \"hij\", \"lof\", \"bwx\", \"xuo\", \"wca\", \"deh\", \"xbp\", \"say\", \"blt\", \"mny\", \"mws\", \"wly\", \"lex\", \"bde\", \"crc\", \"hrc\", \"hrw\", \"plv\", \"rel\", \"mkc\", \"hmq\", \"mnz\", \"inl\", \"tds\", \"zmt\", \"gpa\", \"ayg\", \"bwf\", \"gyd\", \"tmh\", \"utu\", \"xog\", \"cmr\", \"bhd\", \"mqe\", \"cby\", \"bnk\", \"sug\", \"act\", \"mbx\", \"mur\", \"bis\", \"arh\", \"mec\", \"gof\", \"hru\", \"ins\", \"pkg\", \"pdc\", \"lef\", \"nbe\", \"diq\", \"pme\", \"wmg\", \"btg\", \"pcc\", \"pej\", \"cnw\", \"zsk\", \"mjw\", \"xcr\", \"deg\", \"ers\", \"jus\", \"dnj\", \"gdm\", \"ggl\", \"mxc\", \"bzr\", \"sub\", \"def\", \"ebk\", \"enl\", \"naz\", \"nrm\", \"luw\", \"ptq\", \"lzz\", \"mtc\", \"mag\", \"yde\", \"ayp\", \"aaf\", \"akp\", \"cdi\", \"flr\", \"knp\", \"mum\", \"nrl\", \"ifk\", \"khk\", \"lab\", \"kck\", \"rro\", \"tad\", \"dnd\", \"frm\", \"pho\", \"teu\", \"ncs\", \"thv\", \"wlk\", \"gmg\", \"xdm\", \"yll\", \"atp\", \"haa\", \"nfu\", \"pbf\", \"nxr\", \"beh\", \"ral\", \"lik\", \"ahh\", \"wag\", \"hwo\", \"bql\", \"byx\", \"aku\", \"bhv\", \"idc\", \"the\", \"xse\", \"dwy\", \"bnc\", \"nnu\", \"sdu\", \"kvk\", \"mnh\", \"xaj\", \"pch\", \"rea\", \"wuv\", \"vrs\", \"kwx\", \"lel\", \"slp\", \"dms\", \"vmg\", \"ndq\", \"mwo\", \"cae\", \"xbe\", \"xcu\", \"bao\", \"ors\", \"hre\", \"sah\", \"kte\", \"cbl\", \"psi\", \"doq\", \"lxm\", \"gdu\", \"lha\", \"bhu\", \"mne\", \"tte\", \"cbn\", \"plw\", \"u\n",
    "lc\", \"gdj\", \"ban\", \"mzu\", \"rwl\", \"igw\", \"xad\", \"mnr\", \"xam\", \"ssp\", \"wiv\", \"mjh\", \"lbv\", \"ayu\", \"ngc\", \"lmr\", \"xgi\", \"cde\", \"dow\", \"kix\", \"kpm\", \"grm\", \"nsv\", \"mlt\", \"rnr\", \"nzy\", \"ats\", \"nho\", \"xmm\", \"xtd\", \"ano\", \"wog\", \"nej\", \"laf\", \"xir\", \"pae\", \"frk\", \"ptt\", \"cda\", \"shc\", \"blz\", \"bye\", \"qvp\", \"ojv\", \"tmj\", \"wat\", \"skj\", \"nen\", \"sje\", \"ycn\", \"mcq\", \"fnb\", \"bdg\", \"sle\", \"jiy\", \"uzn\", \"dzo\", \"nkx\", \"zim\", \"xnt\", \"bhf\", \"byc\", \"pru\", \"leu\", \"mte\", \"mrp\", \"ekk\", \"omn\", \"ygu\", \"llg\", \"mkw\", \"bvc\", \"xup\", \"seu\", \"yiz\", \"vrt\", \"swm\", \"trd\", \"maf\", \"tpy\", \"bbl\", \"byo\", \"ybb\", \"lbz\", \"bdk\", \"cpu\", \"lwm\", \"aps\", \"uln\", \"nbv\", \"evh\", \"ojp\", \"yam\", \"apr\", \"hng\", \"usp\", \"lpx\", \"dmv\", \"mux\", \"ail\", \"ebg\", \"bvw\", \"pif\", \"zmr\", \"cts\", \"fmu\", \"mjv\", \"ojw\", \"tpu\", \"bko\", \"pdt\", \"kgv\", \"lar\", \"twt\", \"zoq\", \"mhu\", \"cpb\", \"myv\", \"phj\", \"mak\", \"nga\", \"bqn\", \"duf\", \"nmo\", \"pux\", \"kgk\", \"kzq\", \"agc\", \"oor\", \"tal\", \"bsf\", \"zam\", \"ssz\", \"buw\", \"myl\", \"tok\", \"mrv\", \"kpz\", \"sie\", \"nsh\", \"mzn\", \"bun\", \"nwm\", \"odu\", \"mar\", \"aeb\", \"vka\", \"mtm\", \"gbn\", \"ycp\", \"lor\", \"tnr\", \"bng\", \"gjr\", \"zpc\", \"kvz\", \"bxa\", \"kcu\", \"cnh\", \"mxq\", \"igl\", \"aob\", \"ncc\", \"net\", \"tov\", \"znk\", \"ksr\", \"tso\", \"gbp\", \"ner\", \"xch\", \"kqy\", \"afu\", \"srk\", \"fif\", \"ttw\"\n",
    ", \"ute\", \"bzj\", \"glk\", \"dlm\", \"nji\", \"smf\", \"dyo\", \"mmp\", \"jhi\", \"ulk\", \"snj\", \"ior\", \"sga\", \"tme\", \"scv\", \"tlk\", \"kft\", \"nqy\", \"mvh\", \"zin\", \"wno\", \"dno\", \"gnc\", \"siu\", \"kcj\", \"aic\", \"pmq\", \"dam\", \"fvr\", \"pml\", \"vmv\", \"tcu\", \"tbx\", \"jio\", \"nuy\", \"pmy\", \"okl\", \"tlx\", \"mdd\", \"won\", \"xbc\", \"kab\", \"zmk\", \"erw\", \"pnj\", \"mjb\", \"mpn\", \"oku\", \"tvx\", \"mjz\", \"grs\", \"kad\", \"lbr\", \"drn\", \"poc\", \"mlg\", \"zku\", \"jax\", \"krj\", \"nua\", \"tcf\", \"xsr\", \"klf\", \"pcl\", \"ask\", \"nxx\", \"gaj\", \"pei\", \"cob\", \"ibe\", \"jnj\", \"vil\", \"smc\", \"ikt\", \"yzg\", \"tya\", \"cdo\", \"mbq\", \"avm\", \"twl\", \"vme\", \"kjc\", \"lst\", \"tft\", \"sqi\", \"lwt\", \"mxj\", \"bjz\", \"bkx\", \"pir\", \"nil\", \"cnr\", \"uby\", \"cmm\", \"lip\", \"wgu\", \"str\", \"gza\", \"gbb\", \"mke\", \"ceg\", \"swo\", \"mpi\", \"elu\", \"baf\", \"awa\", \"ady\", \"njl\", \"ddn\", \"jen\", \"nuq\", \"snv\", \"dol\", \"isc\", \"vnm\", \"leo\", \"bnx\", \"mbi\", \"pnv\", \"quf\", \"lur\", \"nra\", \"mrq\", \"bcd\", \"mij\", \"mjg\", \"cco\", \"tls\", \"whu\", \"spv\", \"kep\", \"nms\", \"cch\", \"nuc\", \"kng\", \"bdo\", \"dhg\", \"ayo\", \"sxm\", \"acq\", \"bgt\", \"esk\", \"asj\", \"gvr\", \"itx\", \"sqx\", \"brq\", \"huu\", \"ndd\", \"bdn\", \"zbl\", \"bhi\", \"rxw\", \"aif\", \"wma\", \"ebo\", \"eya\", \"djc\", \"dmc\", \"vay\", \"vmp\", \"wei\", \"mnj\", \"twd\", \"xyj\", \"cnp\", \"ron\", \"tdq\", \"nds\", \"zpe\", \"fli\", \"mep\", \"nif\", \"rom\", \"taq\", \"qwh\", \"vif\", \"ljl\", \"zha\", \"isk\", \"kge\", \"kmh\", \"njr\", \"pri\", \"aea\", \"pis\", \"pny\", \"ncm\", \"xnq\", \"mzt\", \"spo\", \"bpi\", \"dza\", \"nhh\", \"thl\", \"ttj\", \"zar\", \"clc\", \"mom\", \"osx\", \"zlj\", \"xvi\", \"que\", \"bki\", \"xny\", \"tbr\", \"hin\", \"kae\", \"wbl\", \"koe\", \"mmh\", \"bam\", \"syc\", \"bul\", \"jim\", \"hnh\", \"atg\", \"dum\", \"hmt\", \"kzs\", \"lln\", \"mgs\", \"dhs\", \"nk\n",
    "w\", \"sag\", \"bei\", \"bns\", \"mmm\", \"mrh\", \"kvt\", \"phk\", \"sbz\", \"sjl\", \"bmi\", \"kjh\", \"xdk\", \"mjy\", \"hla\", \"dgt\", \"mpz\", \"mib\", \"nse\", \"rub\", \"tsp\", \"bcu\", \"cla\", \"jle\", \"tns\", \"wbv\", \"nii\", \"kfh\", \"dir\", \"qvc\", \"xxb\", \"yom\", \"tig\", \"kbi\", \"msb\", \"kmj\", \"ash\", \"awy\", \"otq\", \"asw\", \"aho\", \"pmj\", \"sdl\", \"siv\", \"fla\", \"ono\", \"pus\", \"gyi\", \"vem\", \"vig\", \"qxa\", \"scg\", \"sms\", \"aki\", \"lhm\", \"uda\", \"dic\", \"wbb\", \"ngb\", \"tch\", \"nal\", \"nww\", \"boe\", \"inj\", \"ehs\", \"haw\", \"tlm\", \"aks\", \"awi\", \"nwg\", \"cra\", \"zln\", \"gsw\", \"poy\", \"den\", \"rmb\", \"cst\", \"nha\", \"rog\", \"brm\", \"wap\", \"cic\", \"sxo\", \"alk\", \"bdi\", \"ayk\", \"btp\", \"gyn\", \"san\", \"grr\", \"gbv\", \"dbl\", \"gwd\", \"kww\", \"aud\", \"cey\", \"xkb\", \"anr\", \"sls\", \"tjl\", \"psg\", \"adt\", \"bdl\", \"kuh\", \"sar\", \"gad\", \"ctu\", \"krk\", \"vkj\", \"bzd\", \"mtn\", \"nyl\", \"lgh\", \"dhd\", \"sey\", \"ahg\", \"aiw\", \"cjs\", \"nxo\", \"ote\", \"pbr\", \"hum\", \"bsl\", \"yrn\", \"bfj\", \"mkt\", \"peb\", \"agb\", \"amf\", \"blm\", \"zbt\", \"mzg\", \"onj\", \"woe\", \"olm\", \"abk\", \"mzw\", \"rab\", \"thr\", \"gar\", \"khd\", \"bfo\", \"jks\", \"clm\", \"kcn\", \"mwq\", \"sue\", \"siq\", \"sma\", \"hed\", \"tyx\", \"coa\", \"mrw\", \"nyu\", \"thp\", \"txq\", \"kzr\", \"ugb\", \"asf\", \"akv\", \"thh\", \"gna\", \"oar\", \"bof\", \"xxk\", \"kct\", \"sxc\", \"kde\", \"wgy\", \"bnw\", \"lrr\", \"egm\", \"kih\", \"nlw\", \"spt\", \"arx\", \"lbn\", \"hoe\", \"agl\", \"bvg\", \"dor\", \"klh\", \"gbj\", \"kvr\", \"smq\", \"brn\", \"ldd\", \"mtq\", \"sps\", \"hui\", \"ttc\", \"wux\", \"grj\", \"ngn\", \"rod\", \"bms\", \"tue\", \"wil\", \"xsy\", \"lpn\", \"tuc\", \"mfu\", \"xmd\", \"ade\", \"tpe\", \"lri\", \"zrg\", \"nkr\", \"zte\", \"xgr\", \"mfh\", \"shy\", \"zay\", \"pan\", \"abn\", \"emp\", \"sru\", \"wob\", \"nhv\", \"peo\", \"kqx\", \"pso\", \"aen\", \"aza\", \"bve\", \"brj\", \n",
    "\"gbd\", \"geq\", \"gyr\", \"ima\", \"lic\", \"gib\", \"nsq\", \"phd\", \"lhn\", \"nie\", \"tfr\", \"wbq\", \"wik\", \"yan\", \"yno\", \"zgb\", \"zmu\", \"pov\", \"sra\", \"gok\", \"eaa\", \"wam\", \"wbw\", \"ksi\", \"gul\", \"juh\", \"mtf\", \"xpt\", \"bxu\", \"gkd\", \"mir\", \"ymb\", \"tql\", \"tbh\", \"tdj\", \"xme\", \"hai\", \"pem\", \"arq\", \"ani\", \"tll\", \"xar\", \"jig\", \"akr\", \"ktv\", \"omp\", \"ost\", \"bef\", \"mwi\", \"zkz\", \"mdx\", \"kyq\", \"sgd\", \"bip\", \"lbt\", \"aon\", \"zoh\", \"qxh\", \"kog\", \"mxw\", \"piw\", \"orn\", \"ind\", \"kdk\", \"wmb\", \"zpg\", \"jgk\", \"mgc\", \"ulb\", \"mfw\", \"nly\", \"bgr\", \"eit\", \"eve\", \"lzh\", \"tgn\", \"wii\", \"lrg\", \"czt\", \"bqu\", \"tou\", \"tqo\", \"nan\", \"avv\", \"wmw\", \"ygl\", \"dri\", \"ksz\", \"kya\", \"wnm\", \"tat\", \"kvf\", \"aot\", \"lae\", \"brh\", \"bkz\", \"ljw\", \"ssl\", \"ghs\", \"gmx\", \"cdy\", \"abr\", \"mxz\", \"nit\", \"huc\", \"wmh\", \"xra\", \"ebc\", \"wad\", \"ght\", \"fss\", \"ims\", \"jur\", \"kdq\", \"lio\", \"etr\", \"tsh\", \"xav\", \"zts\", \"bsq\", \"paq\", \"tno\", \"pub\", \"rax\", \"nku\", \"abc\", \"xmw\", \"kkb\", \"ccg\", \"kdh\", \"lap\", \"crq\", \"tly\", \"taa\", \"koz\", \"nhm\", \"pks\", \"sdp\", \"lon\", \"mmc\", \"wtw\", \"lua\", \"mpj\", \"tef\", \"yms\", \"yei\", \"yet\", \"csw\", \"dif\", \"ila\", \"hts\", \"mmq\", \"kyb\", \"eky\", \"psr\", \"hix\", \"ktw\", \"kes\", \"mba\", \"kiy\", \"bgq\", \"pia\", \"xma\", \"hau\", \"akx\", \"lni\", \"tdf\", \"xul\", \"glv\", \"wuh\", \"eiv\", \"blk\", \"rmg\", \"nlz\", \"kiz\", \"gbw\", \"amu\", \"ktu\", \"dmr\", \"srb\", \"kgl\", \"nxn\", \"dev\"])"
   ]
  },
  {
   "cell_type": "code",
   "execution_count": 8,
   "metadata": {},
   "outputs": [],
   "source": [
    "wlangs = [\"ar\", \"cs\", \"da\", \"de\", \"el\", \"en\", \"es\", \"fa\", \"fi\", \"fr\", \"he\", \"hi\", \"hu\", \"it\", \"ja\", \"ko\", \"nl\", \"no\", \"pl\", \"pt\", \"ru\", \"sv\", \"tr\", \"uk\", \"zh\"]\n",
    "tlangs = [f[1:end-4] for f in readdir(raw\".\\corpus\\tatoeba\") if !occursin(\"_\", f)];"
   ]
  },
  {
   "cell_type": "code",
   "execution_count": 21,
   "metadata": {},
   "outputs": [
    {
     "data": {
      "text/plain": [
       "\"en\\t6,695,688\\nceb\\t6,122,691\\nde\\t2,824,907\\nsv\\t2,569,204\\nfr\\t2,542,587\\nnl\\t2,129,469\\nru\\t1,931,750\\nes\\t1,883,599\\nit\\t1,821,740\\narz\\t1,618,736\\npl\\t1,576,499\\nja\\t1,383,085\\nzh\\t1,371,287\\nvi\\t1,286,385\\nuk\\t1,281,479\\nwar\\t1,266,241\\nar\\t1,214,058\\npt\\t1,106,454\\nfa\\t970,216\\nca\\t732,307\\nsr\\t672,910\\n\" ⋯ 2826 bytes ⋯ \"3\\nst\\t917\\npih\\t899\\nrmy\\t877\\ngot\\t872\\nee\\t832\\nbm\\t811\\npcm\\t808\\nss\\t789\\nts\\t748\\nve\\t748\\nchy\\t695\\nkcg\\t692\\nrn\\t636\\ngur\\t567\\nch\\t554\\nik\\t511\\nady\\t499\\npnt\\t485\\nguc\\t481\\niu\\t447\\npwn\\t337\\nsg\\t316\\ndin\\t310\\nti\\t252\\nkl\\t243\\ndz\\t237\\ncr\\t158\\nng\\t8\\ncho\\t6\\nkj\\t4\\nmh\\t4\\nho\\t3\\nii\\t3\\nmus\\t1\\nlrc\\t1\\naa\\t0\\nak\\t0\\nhz\\t0\\nkr\\t0\\nna\\t0\""
      ]
     },
     "metadata": {},
     "output_type": "display_data"
    }
   ],
   "source": [
    "wikilangsraw = \"\"\"en\t6,695,688\n",
    "ceb\t6,122,691\n",
    "de\t2,824,907\n",
    "sv\t2,569,204\n",
    "fr\t2,542,587\n",
    "nl\t2,129,469\n",
    "ru\t1,931,750\n",
    "es\t1,883,599\n",
    "it\t1,821,740\n",
    "arz\t1,618,736\n",
    "pl\t1,576,499\n",
    "ja\t1,383,085\n",
    "zh\t1,371,287\n",
    "vi\t1,286,385\n",
    "uk\t1,281,479\n",
    "war\t1,266,241\n",
    "ar\t1,214,058\n",
    "pt\t1,106,454\n",
    "fa\t970,216\n",
    "ca\t732,307\n",
    "sr\t672,910\n",
    "id\t656,987\n",
    "ko\t642,389\n",
    "no\t614,075\n",
    "ce\t600,850\n",
    "fi\t557,256\n",
    "cs\t529,573\n",
    "tr\t528,921\n",
    "hu\t528,544\n",
    "tt\t500,546\n",
    "sh\t458,158\n",
    "ro\t441,093\n",
    "zh-min-nan\t432,536\n",
    "eu\t414,140\n",
    "ms\t366,576\n",
    "eo\t341,045\n",
    "he\t339,130\n",
    "hy\t300,437\n",
    "da\t293,672\n",
    "bg\t292,912\n",
    "cy\t279,151\n",
    "sk\t245,632\n",
    "azb\t243,108\n",
    "uz\t240,355\n",
    "et\t238,411\n",
    "simple\t236,311\n",
    "kk\t234,226\n",
    "be\t233,975\n",
    "min\t226,771\n",
    "el\t224,580\n",
    "hr\t216,047\n",
    "lt\t212,353\n",
    "gl\t198,205\n",
    "az\t195,322\n",
    "ur\t193,395\n",
    "sl\t182,051\n",
    "lld\t169,406\n",
    "ka\t168,739\n",
    "nn\t166,366\n",
    "hi\t158,408\n",
    "th\t157,820\n",
    "ta\t156,024\n",
    "bn\t140,249\n",
    "la\t138,072\n",
    "mk\t137,585\n",
    "zh-yue\t133,717\n",
    "ast\t132,880\n",
    "lv\t121,849\n",
    "tg\t109,995\n",
    "af\t109,796\n",
    "my\t106,821\n",
    "mg\t95,851\n",
    "mr\t93,096\n",
    "sq\t92,660\n",
    "bs\t92,256\n",
    "oc\t89,008\n",
    "te\t84,768\n",
    "ml\t84,264\n",
    "nds\t84,233\n",
    "be-tarask\t83,521\n",
    "br\t82,846\n",
    "ky\t80,410\n",
    "sw\t78,414\n",
    "jv\t72,583\n",
    "new\t72,347\n",
    "lmo\t72,323\n",
    "pnb\t71,525\n",
    "vec\t69,227\n",
    "ht\t68,488\n",
    "pms\t67,925\n",
    "ba\t63,081\n",
    "lb\t62,010\n",
    "su\t61,552\n",
    "ku\t59,474\n",
    "ga\t58,877\n",
    "szl\t57,259\n",
    "is\t57,002\n",
    "fy\t52,010\n",
    "cv\t51,330\n",
    "ckb\t51,102\n",
    "pa\t50,850\n",
    "tl\t44,980\n",
    "an\t44,026\n",
    "wuu\t42,874\n",
    "diq\t41,203\n",
    "io\t38,083\n",
    "sco\t36,171\n",
    "vo\t34,256\n",
    "yo\t32,826\n",
    "ne\t31,974\n",
    "ia\t30,366\n",
    "gu\t30,216\n",
    "kn\t30,214\n",
    "als\t29,879\n",
    "ha\t28,740\n",
    "avk\t28,017\n",
    "bar\t26,953\n",
    "crh\t26,373\n",
    "scn\t26,249\n",
    "bpy\t25,086\n",
    "qu\t23,837\n",
    "nv\t22,349\n",
    "mn\t22,315\n",
    "xmf\t20,360\n",
    "ban\t19,781\n",
    "si\t19,438\n",
    "tum\t18,196\n",
    "ps\t18,050\n",
    "frr\t17,592\n",
    "os\t17,342\n",
    "bat-smg\t17,191\n",
    "or\t17,061\n",
    "mzn\t16,979\n",
    "sah\t16,749\n",
    "ig\t16,699\n",
    "cdo\t16,370\n",
    "gd\t15,943\n",
    "bug\t15,826\n",
    "yi\t15,530\n",
    "sd\t15,475\n",
    "ilo\t15,370\n",
    "am\t15,204\n",
    "nap\t14,783\n",
    "li\t14,521\n",
    "bcl\t14,213\n",
    "fo\t14,018\n",
    "gor\t13,909\n",
    "hsb\t13,909\n",
    "map-bms\t13,896\n",
    "mai\t13,774\n",
    "shn\t13,184\n",
    "eml\t13,039\n",
    "ace\t12,770\n",
    "zh-classical\t12,535\n",
    "sa\t12,073\n",
    "as\t11,955\n",
    "wa\t11,869\n",
    "ie\t11,728\n",
    "lij\t11,178\n",
    "hyw\t11,169\n",
    "mhr\t11,106\n",
    "zu\t11,052\n",
    "sn\t10,847\n",
    "hif\t10,647\n",
    "mrj\t10,431\n",
    "bjn\t10,304\n",
    "mni\t10,222\n",
    "km\t10,206\n",
    "hak\t10,139\n",
    "roa-tara\t9,323\n",
    "pam\t8,905\n",
    "sat\t8,755\n",
    "rue\t8,699\n",
    "nso\t8,577\n",
    "bh\t8,496\n",
    "so\t7,879\n",
    "se\t7,844\n",
    "myv\t7,836\n",
    "mi\t7,833\n",
    "vls\t7,786\n",
    "nds-nl\t7,701\n",
    "dag\t7,429\n",
    "sc\t7,415\n",
    "ary\t7,116\n",
    "kw\t7,030\n",
    "co\t7,016\n",
    "bo\t6,961\n",
    "vep\t6,905\n",
    "glk\t6,822\n",
    "tk\t6,742\n",
    "kab\t6,706\n",
    "gan\t6,667\n",
    "rw\t6,560\n",
    "fiu-vro\t6,511\n",
    "ab\t6,088\n",
    "gv\t6,000\n",
    "ug\t5,907\n",
    "nah\t5,818\n",
    "zea\t5,802\n",
    "skr\t5,726\n",
    "frp\t5,694\n",
    "udm\t5,670\n",
    "pcd\t5,567\n",
    "kv\t5,514\n",
    "mt\t5,505\n",
    "csb\t5,455\n",
    "gn\t5,420\n",
    "smn\t5,272\n",
    "ay\t5,119\n",
    "nrm\t4,854\n",
    "ks\t4,511\n",
    "lez\t4,323\n",
    "lfn\t4,210\n",
    "olo\t4,199\n",
    "mwl\t4,162\n",
    "stq\t4,094\n",
    "lo\t4,068\n",
    "ang\t4,022\n",
    "fur\t3,856\n",
    "mdf\t3,856\n",
    "rm\t3,762\n",
    "lad\t3,634\n",
    "kaa\t3,609\n",
    "gom\t3,579\n",
    "ext\t3,559\n",
    "koi\t3,461\n",
    "tyv\t3,456\n",
    "pap\t3,366\n",
    "av\t3,359\n",
    "dsb\t3,355\n",
    "ln\t3,336\n",
    "dty\t3,328\n",
    "tw\t3,252\n",
    "cbk-zam\t3,106\n",
    "dv\t3,030\n",
    "ksh\t2,937\n",
    "za\t2,820\n",
    "gag\t2,804\n",
    "bxr\t2,773\n",
    "pfl\t2,744\n",
    "lg\t2,720\n",
    "szy\t2,581\n",
    "pag\t2,568\n",
    "blk\t2,562\n",
    "pi\t2,548\n",
    "tay\t2,541\n",
    "haw\t2,519\n",
    "awa\t2,437\n",
    "inh\t2,182\n",
    "krc\t2,076\n",
    "xal\t2,053\n",
    "pdc\t2,018\n",
    "to\t1,975\n",
    "atj\t1,957\n",
    "tcy\t1,894\n",
    "arc\t1,888\n",
    "mnw\t1,818\n",
    "jam\t1,707\n",
    "kbp\t1,697\n",
    "wo\t1,667\n",
    "anp\t1,634\n",
    "kbd\t1,616\n",
    "nia\t1,573\n",
    "nov\t1,534\n",
    "shi\t1,516\n",
    "ki\t1,507\n",
    "nqo\t1,484\n",
    "om\t1,441\n",
    "bi\t1,414\n",
    "xh\t1,362\n",
    "tpi\t1,359\n",
    "tet\t1,355\n",
    "ff\t1,342\n",
    "roa-rup\t1,333\n",
    "jbo\t1,330\n",
    "fj\t1,281\n",
    "kg\t1,269\n",
    "lbe\t1,268\n",
    "ty\t1,220\n",
    "guw\t1,210\n",
    "cu\t1,209\n",
    "trv\t1,137\n",
    "ami\t1,126\n",
    "srn\t1,119\n",
    "sm\t1,079\n",
    "mad\t1,075\n",
    "alt\t1,069\n",
    "ltg\t1,066\n",
    "gcr\t1,064\n",
    "chr\t1,057\n",
    "tn\t1,051\n",
    "ny\t1,023\n",
    "st\t917\n",
    "pih\t899\n",
    "rmy\t877\n",
    "got\t872\n",
    "ee\t832\n",
    "bm\t811\n",
    "pcm\t808\n",
    "ss\t789\n",
    "ts\t748\n",
    "ve\t748\n",
    "chy\t695\n",
    "kcg\t692\n",
    "rn\t636\n",
    "gur\t567\n",
    "ch\t554\n",
    "ik\t511\n",
    "ady\t499\n",
    "pnt\t485\n",
    "guc\t481\n",
    "iu\t447\n",
    "pwn\t337\n",
    "sg\t316\n",
    "din\t310\n",
    "ti\t252\n",
    "kl\t243\n",
    "dz\t237\n",
    "cr\t158\n",
    "ng\t8\n",
    "cho\t6\n",
    "kj\t4\n",
    "mh\t4\n",
    "ho\t3\n",
    "ii\t3\n",
    "mus\t1\n",
    "lrc\t1\n",
    "aa\t0\n",
    "ak\t0\n",
    "hz\t0\n",
    "kr\t0\n",
    "na\t0\"\"\""
   ]
  },
  {
   "cell_type": "code",
   "execution_count": 106,
   "metadata": {},
   "outputs": [
    {
     "data": {
      "text/plain": [
       "332-element Vector{Pair{SubString{String}, SubString{String}}}:\n",
       "  \"en\" => \"6,695,688\"\n",
       " \"ceb\" => \"6,122,691\"\n",
       "  \"de\" => \"2,824,907\"\n",
       "  \"sv\" => \"2,569,204\"\n",
       "  \"fr\" => \"2,542,587\"\n",
       "  \"nl\" => \"2,129,469\"\n",
       "  \"ru\" => \"1,931,750\"\n",
       "  \"es\" => \"1,883,599\"\n",
       "  \"it\" => \"1,821,740\"\n",
       " \"arz\" => \"1,618,736\"\n",
       "       ⋮\n",
       "  \"ho\" => \"3\"\n",
       "  \"ii\" => \"3\"\n",
       " \"mus\" => \"1\"\n",
       " \"lrc\" => \"1\"\n",
       "  \"aa\" => \"0\"\n",
       "  \"ak\" => \"0\"\n",
       "  \"hz\" => \"0\"\n",
       "  \"kr\" => \"0\"\n",
       "  \"na\" => \"0\""
      ]
     },
     "metadata": {},
     "output_type": "display_data"
    }
   ],
   "source": [
    "wct = [Pair(split(l, \"\\t\")...) for l in split(wikilangsraw, \"\\n\")]"
   ]
  },
  {
   "cell_type": "code",
   "execution_count": 120,
   "metadata": {},
   "outputs": [
    {
     "data": {
      "text/plain": [
       "416-element Vector{Pair{String, Int64}}:\n",
       " \"eng\" => 1819501\n",
       " \"rus\" => 1005455\n",
       " \"ita\" => 858236\n",
       " \"tur\" => 725682\n",
       " \"epo\" => 723053\n",
       " \"kab\" => 680542\n",
       " \"ber\" => 648182\n",
       " \"deu\" => 622700\n",
       " \"fra\" => 560400\n",
       " \"por\" => 420190\n",
       "       ⋮\n",
       " \"nap\" => 2\n",
       " \"nys\" => 2\n",
       " \"pli\" => 2\n",
       " \"sot\" => 2\n",
       " \"cyo\" => 1\n",
       " \"hax\" => 1\n",
       " \"rel\" => 1\n",
       " \"ssw\" => 1\n",
       " \"urh\" => 1"
      ]
     },
     "metadata": {},
     "output_type": "display_data"
    }
   ],
   "source": [
    "tct = [l=>count(i->true, eachline(\"./corpus/tatoeba/$l.txt\")) for l in tlangs]\n",
    "tct = sort!(tct, by=x->x[2], rev=true)"
   ]
  },
  {
   "cell_type": "code",
   "execution_count": 404,
   "metadata": {},
   "outputs": [
    {
     "name": "stdout",
     "output_type": "stream",
     "text": [
      "eng 1 1 \"en\" => \"6,695,688\" \"eng\" => 1819501\n",
      "ceb 2 120 \"ceb\" => \"6,122,691\" \"ceb\" => 1705\n",
      "deu 3 8 \"de\" => \"2,824,907\" \"deu\" => 622700\n",
      "swe 4 28 \"sv\" => \"2,569,204\" \"swe\" => 52832\n",
      "fra 5 9 \"fr\" => \"2,542,587\" \"fra\" => 560400\n",
      "nld 6 16 \"nl\" => \"2,129,469\" \"nld\" => 176551\n",
      "rus 7 2 \"ru\" => \"1,931,750\" \"rus\" => 1005455\n",
      "spa 8 11 \"es\" => \"1,883,599\" \"spa\" => 397650\n",
      "ita 9 3 \"it\" => \"1,821,740\" \"ita\" => 858236"
     ]
    },
    {
     "name": "stdout",
     "output_type": "stream",
     "text": [
      "\n",
      "ara 10 25 \"arz\" => \"1,618,736\" \"ara\" => 59492\n",
      "pol 11 18 \"pl\" => \"1,576,499\" \"pol\" => 121407\n",
      "jpn 12 13 \"ja\" => \"1,383,085\" \"jpn\" => 237580\n",
      "zho 13 22 \"zh\" => \"1,371,287\" \"cmn\" => 73561\n",
      "vie 14 38 \"vi\" => \"1,286,385\" \"vie\" => 23702\n",
      "ukr 15 15 \"uk\" => \"1,281,479\" \"ukr\" => 183823\n",
      "war 16 104 \"war\" => \"1,266,241\" \"war\" => 2386\n",
      "ara 17 25 \"ar\" => \"1,214,058\" \"ara\" => 59492\n",
      "por 18 10 \"pt\" => \"1,106,454\" \"por\" => 420190\n"
     ]
    },
    {
     "name": "stdout",
     "output_type": "stream",
     "text": [
      "fas 19 34 \"fa\" => \"970,216\" \"pes\" => 27209\n",
      "cat 20 57 \"ca\" => \"732,307\" \"cat\" => 8305\n",
      "hbs 21 30 \"sr\" => \"672,910\" \"srp\" => 47874\n",
      "msa 22 41 \"id\" => \"656,987\" \"ind\" => 20725\n",
      "kor 23 54 \"ko\" => \"642,389\" \"kor\" => 11593\n",
      "nor 24 45 \"no\" => \"614,075\" \"nob\" => 17248\n",
      "che 25 285 \"ce\" => \"600,850\" \"che\" => 40\n",
      "fin 26 17 \"fi\" => \"557,256\" \"fin\" => 146265\n",
      "ces 27 24 \"cs\" => \"529,573\" \"ces\" => 72712\n"
     ]
    },
    {
     "name": "stdout",
     "output_type": "stream",
     "text": [
      "tur 28 4 \"tr\" => \"528,921\" \"tur\" => 725682\n",
      "hun 29 12 \"hu\" => \"528,544\" \"hun\" => 392223\n",
      "tat 30 48 \"tt\" => \"500,546\" \"tat\" => 14259\n",
      "hbs 31 30 \"sh\" => \"458,158\" \"srp\" => 47874\n",
      "ron 32 32 \"ro\" => \"441,093\" \"ron\" => 31847\n",
      "?zh-min-nan 33 !! \"zh-min-nan\" => \"432,536\" !!\n",
      "eus 34 66 \"eu\" => \"414,140\" \"eus\" => 6290\n",
      "msa 35 41 \"ms\" => \"366,576\" \"ind\" => 20725"
     ]
    },
    {
     "name": "stdout",
     "output_type": "stream",
     "text": [
      "\n",
      "epo 36 5 \"eo\" => \"341,045\" \"epo\" => 723053\n",
      "heb 37 14 \"he\" => \"339,130\" \"heb\" => 200764\n",
      "hye 38 78 \"hy\" => \"300,437\" \"hye\" => 5109\n",
      "dan 39 26 \"da\" => \"293,672\" \"dan\" => 58218\n",
      "bul 40 36 \"bg\" => \"292,912\" \"bul\" => 24872\n",
      "cym 41 117 \"cy\" => \"279,151\" \"cym\" => 1726\n",
      "slk 42 43 \"sk\" => \"245,632\" \"slk\" => 17484\n",
      "aze 43 69 \"azb\" => \"243,108\" \"aze\" => 5696\n",
      "uzb 44 136 \"uz\" => \"240,355\" \"uzb\" => 1046"
     ]
    },
    {
     "name": "stdout",
     "output_type": "stream",
     "text": [
      "\n",
      "est 45 72 \"et\" => \"238,411\" \"est\" => 5663\n",
      "?simple 46 !! \"simple\" => \"236,311\" !!\n",
      "kaz 47 86 \"kk\" => \"234,226\" \"kaz\" => 4183\n",
      "bel 48 50 \"be\" => \"233,975\" \"bel\" => 13607\n",
      "msa 49 41 \"min\" => \"226,771\" \"ind\" => 20725\n",
      "ell 50 31 \"el\" => \"224,580\" \"ell\" => 37859\n",
      "hbs 51 30 \"hr\" => \"216,047\" \"srp\" => 47874\n",
      "lit 52 19 \"lt\" => \"212,353\" \"lit\" => 93177"
     ]
    },
    {
     "name": "stdout",
     "output_type": "stream",
     "text": [
      "\n",
      "glg 53 81 \"gl\" => \"198,205\" \"glg\" => 4719\n",
      "aze 54 69 \"az\" => \"195,322\" \"aze\" => 5696\n",
      "urd 55 106 \"ur\" => \"193,395\" \"urd\" => 2340\n",
      "slv 56 98 \"sl\" => \"182,051\" \"slv\" => 2812\n",
      "lld 57 236 \"lld\" => \"169,406\" \"lld\" => 85\n",
      "kat 58 64 \"ka\" => \"168,739\" \"kat\" => 6390\n",
      "nor 59 45 \"nn\" => \"166,366\" \"nob\" => 17248\n",
      "hin 60 47 \"hi\" => \"158,408\" \"hin\" => 15226\n",
      "tha 61 77 \"th\" => \"157,820\" \"tha\" => 5245"
     ]
    },
    {
     "name": "stdout",
     "output_type": "stream",
     "text": [
      "\n",
      "tam 62 157 \"ta\" => \"156,024\" \"tam\" => 522\n",
      "ben 63 51 \"bn\" => \"140,249\" \"ben\" => 13426\n",
      "lat 64 29 \"la\" => \"138,072\" \"lat\" => 48937\n",
      "mkd 65 20 \"mk\" => \"137,585\" \"mkd\" => 78095\n",
      "?zh-yue 66 !! \"zh-yue\" => \"133,717\" !!\n",
      "ast 67 158 \"ast\" => \"132,880\" \"ast\" => 497\n",
      "lav 68 82 \"lv\" => \"121,849\" \"lvs\" => 4671\n",
      "tgk 69 251 \"tg\" => \"109,995\" \"tgk\" => 64\n"
     ]
    },
    {
     "name": "stdout",
     "output_type": "stream",
     "text": [
      "afr 70 85 \"af\" => \"109,796\" \"afr\" => 4204\n",
      "mya 71 154 \"my\" => \"106,821\" \"mya\" => 559\n",
      "mlg 72 250 \"mg\" => \"95,851\" \"mlg\" => 64\n",
      "mar 73 23 \"mr\" => \"93,096\" \"mar\" => 73277\n",
      "sqi 74 102 \"sq\" => \"92,660\" \"sqi\" => 2563"
     ]
    },
    {
     "name": "stdout",
     "output_type": "stream",
     "text": [
      "\n",
      "hbs 75 30 \"bs\" => \"92,256\" \"srp\" => 47874\n",
      "oci 76 67 \"oc\" => \"89,008\" \"oci\" => 6141\n",
      "tel 77 175 \"te\" => \"84,768\" \"tel\" => 271\n",
      "mal 78 144 \"ml\" => \"84,264\" \"mal\" => 878\n",
      "nds 79 42 \"nds\" => \"84,233\" \"nds\" => 18177\n",
      "?be-tarask 80 !! \"be-tarask\" => \"83,521\" !!\n",
      "bre 81 60 \"br\" => \"82,846\" \"bre\" => 7656\n",
      "kir 82 169 \"ky\" => \"80,410\" \"kir\" => 357"
     ]
    },
    {
     "name": "stdout",
     "output_type": "stream",
     "text": [
      "\n",
      "swa 83 37 \"sw\" => \"78,414\" \"swc\" => 23823\n",
      "jav 84 133 \"jv\" => \"72,583\" \"jav\" => 1075\n",
      "new 85 342 \"new\" => \"72,347\" \"new\" => 17\n",
      "lmo 86 314 \"lmo\" => \"72,323\" \"lmo\" => 29\n",
      "lah 87 207 \"pnb\" => \"71,525\" \"skr\" => 134\n",
      "vec 88 193 \"vec\" => \"69,227\" \"vec\" => 190\n",
      "hat 89 224 \"ht\" => \"68,488\" \"hat\" => 95\n",
      "pms 90 147 \"pms\" => \"67,925\" \"pms\" => 824\n"
     ]
    },
    {
     "name": "stdout",
     "output_type": "stream",
     "text": [
      "bak 91 177 \"ba\" => \"63,081\" \"bak\" => 257\n",
      "ltz 92 143 \"lb\" => \"62,010\" \"ltz\" => 886\n",
      "sun 93 310 \"su\" => \"61,552\" \"sun\" => 31\n",
      "kur 94 53 \"ku\" => \"59,474\" \"ckb\" => 12520\n",
      "gle 95 97 \"ga\" => \"58,877\" \"gle\" => 2851\n",
      "szl 96 367 \"szl\" => \"57,259\" \"szl\" => 10\n",
      "isl 97 52 \"is\" => \"57,002\" \"isl\" => 13251\n",
      "fry 98 150 \"fy\" => \"52,010\" \"fry\" => 639\n",
      "chv 99 121 \"cv\" => \"51,330\" \"chv\" => 1663"
     ]
    },
    {
     "name": "stdout",
     "output_type": "stream",
     "text": [
      "\n",
      "kur 100 53 \"ckb\" => \"51,102\" \"ckb\" => 12520\n",
      "pan 101 189 \"pa\" => \"50,850\" \"pan\" => 203\n",
      "tgl 102 21 \"tl\" => \"44,980\" \"tgl\" => 74787\n",
      "arg 103 220 \"an\" => \"44,026\" \"arg\" => 103\n",
      "zho 104 22 \"wuu\" => \"42,874\" \"cmn\" => 73561\n",
      "zza 105 118 \"diq\" => \"41,203\" \"zza\" => 1726\n",
      "ido 106 55 \"io\" => \"38,083\" \"ido\" => 10644\n",
      "sco 107 233 \"sco\" => \"36,171\" \"sco\" => 87"
     ]
    },
    {
     "name": "stdout",
     "output_type": "stream",
     "text": [
      "\n",
      "vol 108 74 \"vo\" => \"34,256\" \"vol\" => 5375\n",
      "yor 109 255 \"yo\" => \"32,826\" \"yor\" => 60\n",
      "nep 110 101 \"ne\" => \"31,974\" \"npi\" => 2743\n",
      "ina 111 33 \"ia\" => \"30,366\" \"ina\" => 28926\n",
      "guj 112 195 \"gu\" => \"30,216\" \"guj\" => 168\n",
      "kan 113 192 \"kn\" => \"30,214\" \"kan\" => 191\n",
      "sqi 114 102 \"als\" => \"29,879\" \"sqi\" => 2563"
     ]
    },
    {
     "name": "stdout",
     "output_type": "stream",
     "text": [
      "\n",
      "hau 115 40 \"ha\" => \"28,740\" \"hau\" => 21817\n",
      "avk 116 87 \"avk\" => \"28,017\" \"avk\" => 4103\n",
      "bar 117 182 \"bar\" => \"26,953\" \"bar\" => 227\n",
      "crh 118 173 \"crh\" => \"26,373\" \"crh\" => 320\n",
      "scn 119 297 \"scn\" => \"26,249\" \"scn\" => 35\n",
      "bpy 120 !! \"bpy\" => \"25,086\" !!\n",
      "que 121 160 \"qu\" => \"23,837\" \"que\" => 435\n",
      "nav 122 237 \"nv\" => \"22,349\" \"nav\" => 85"
     ]
    },
    {
     "name": "stdout",
     "output_type": "stream",
     "text": [
      "\n",
      "mon 123 100 \"mn\" => \"22,315\" \"mon\" => 2788\n",
      "xmf 124 134 \"xmf\" => \"20,360\" \"xmf\" => 1058\n",
      "ban 125 383 \"ban\" => \"19,781\" \"ban\" => 6\n",
      "sin 126 265 \"si\" => \"19,438\" \"sin\" => 55\n",
      "tum 127 228 \"tum\" => \"18,196\" \"tum\" => 92\n",
      "pus 128 275 \"ps\" => \"18,050\" \"pus\" => 46\n",
      "frr 129 95 \"frr\" => \"17,592\" \"frr\" => 2957\n",
      "oss 130 63 \"os\" => \"17,342\" \"oss\" => 6861\n",
      "?bat-smg 131 !! \"bat-smg\" => \"17,191\" !!\n"
     ]
    },
    {
     "name": "stdout",
     "output_type": "stream",
     "text": [
      "ori 132 167 \"or\" => \"17,061\" \"ori\" => 397\n",
      "mzn 133 !! \"mzn\" => \"16,979\" !!\n",
      "sah 134 138 \"sah\" => \"16,749\" \"sah\" => 971\n",
      "ibo 135 294 \"ig\" => \"16,699\" \"ibo\" => 35\n",
      "zho 136 22 \"cdo\" => \"16,370\" \"cmn\" => 73561\n",
      "gla 137 137 \"gd\" => \"15,943\" \"gla\" => 1038\n",
      "bug 138 !! \"bug\" => \"15,826\" !!\n",
      "yid 139 44 \"yi\" => \"15,530\" \"yid\" => 17399"
     ]
    },
    {
     "name": "stdout",
     "output_type": "stream",
     "text": [
      "\n",
      "snd 140 387 \"sd\" => \"15,475\" \"snd\" => 6\n",
      "ilo 141 103 \"ilo\" => \"15,370\" \"ilo\" => 2464\n",
      "amh 142 181 \"am\" => \"15,204\" \"amh\" => 235\n",
      "nap 143 408 \"nap\" => \"14,783\" \"nap\" => 2\n",
      "lim 144 277 \"li\" => \"14,521\" \"lim\" => 45\n",
      "bik 145 388 \"bcl\" => \"14,213\" \"bcl\" => 5\n",
      "fao 146 164 \"fo\" => \"14,018\" \"fao\" => 409\n",
      "gor 147 !! \"gor\" => \"13,909\" !!"
     ]
    },
    {
     "name": "stdout",
     "output_type": "stream",
     "text": [
      "\n",
      "hsb 148 124 \"hsb\" => \"13,909\" \"hsb\" => 1518\n",
      "?map-bms 149 !! \"map-bms\" => \"13,896\" !!\n",
      "mai 150 376 \"mai\" => \"13,774\" \"mai\" => 8\n",
      "shn 151 !! \"shn\" => \"13,184\" !!\n",
      "?eml 152 !! \"eml\" => \"13,039\" !!\n",
      "ace 153 !! \"ace\" => \"12,770\" !!\n",
      "?zh-classical 154 !! \"zh-classical\" => \"12,535\" !!\n",
      "san 155 197 \"sa\" => \"12,073\" \"san\" => 162\n"
     ]
    },
    {
     "name": "stdout",
     "output_type": "stream",
     "text": [
      "asm 156 68 \"as\" => \"11,955\" \"asm\" => 6101\n",
      "wln 157 268 \"wa\" => \"11,869\" \"wln\" => 53\n",
      "ile 158 58 \"ie\" => \"11,728\" \"ile\" => 8231\n",
      "lij 159 116 \"lij\" => \"11,178\" \"lij\" => 1836\n",
      "hyw 160 !! \"hyw\" => \"11,169\" !!\n",
      "chm 161 84 \"mhr\" => \"11,106\" \"mhr\" => 4316\n",
      "zul 162 234 \"zu\" => \"11,052\" \"zul\" => 86\n",
      "sna 163 276 \"sn\" => \"10,847\" \"sna\" => 46\n",
      "hif 164 298 \"hif\" => \"10,647\" \"hif\" => 34"
     ]
    },
    {
     "name": "stdout",
     "output_type": "stream",
     "text": [
      "\n",
      "chm 165 84 \"mrj\" => \"10,431\" \"mhr\" => 4316\n",
      "msa 166 41 \"bjn\" => \"10,304\" \"ind\" => 20725\n",
      "mni 167 401 \"mni\" => \"10,222\" \"mni\" => 3\n",
      "khm 168 107 \"km\" => \"10,206\" \"khm\" => 2336\n",
      "zho 169 22 \"hak\" => \"10,139\" \"cmn\" => 73561\n",
      "?roa-tara 170 !! \"roa-tara\" => \"9,323\" !!\n",
      "pam 171 125 \"pam\" => \"8,905\" \"pam\" => 1482\n",
      "sat 172 70 \"sat\" => \"8,755\" \"sat\" => 5672"
     ]
    },
    {
     "name": "stdout",
     "output_type": "stream",
     "text": [
      "\n",
      "rue 173 214 \"rue\" => \"8,699\" \"rue\" => 117\n",
      "nso 174 !! \"nso\" => \"8,577\" !!\n",
      "?bh 175 !! \"bh\" => \"8,496\" !!\n",
      "som 176 222 \"so\" => \"7,879\" \"som\" => 97\n",
      "sme 177 184 \"se\" => \"7,844\" \"sme\" => 219\n",
      "myv 178 245 \"myv\" => \"7,836\" \"myv\" => 69\n",
      "mri 179 166 \"mi\" => \"7,833\" \"mri\" => 397\n",
      "vls 180 !! \"vls\" => \"7,786\" !!"
     ]
    },
    {
     "name": "stdout",
     "output_type": "stream",
     "text": [
      "\n",
      "?nds-nl 181 !! \"nds-nl\" => \"7,701\" !!\n",
      "dag 182 !! \"dag\" => \"7,429\" !!\n",
      "srd 183 343 \"sc\" => \"7,415\" \"srd\" => 16\n",
      "ara 184 25 \"ary\" => \"7,116\" \"ara\" => 59492\n",
      "cor 185 88 \"kw\" => \"7,030\" \"cor\" => 3923\n",
      "cos 186 326 \"co\" => \"7,016\" \"cos\" => 24\n",
      "bod 187 282 \"bo\" => \"6,961\" \"bod\" => 41\n",
      "vep 188 357 \"vep\" => \"6,905\" \"vep\" => 13\n",
      "glk 189 !! \"glk\" => \"6,822\" !!\n"
     ]
    },
    {
     "name": "stdout",
     "output_type": "stream",
     "text": [
      "tuk 190 62 \"tk\" => \"6,742\" \"tuk\" => 6885\n",
      "kab 191 6 \"kab\" => \"6,706\" \"kab\" => 680542\n",
      "zho 192 22 \"gan\" => \"6,667\" \"cmn\" => 73561\n",
      "kin 193 309 \"rw\" => \"6,560\" \"kin\" => 31\n",
      "?fiu-vro 194 !! \"fiu-vro\" => \"6,511\" !!\n",
      "abk 195 315 \"ab\" => \"6,088\" \"abk\" => 28\n",
      "glv 196 290 \"gv\" => \"6,000\" \"glv\" => 38\n",
      "uig 197 59 \"ug\" => \"5,907\" \"uig\" => 7886\n"
     ]
    },
    {
     "name": "stdout",
     "output_type": "stream",
     "text": [
      "?nah 198 187 \"nah\" => \"5,818\" \"nah\" => 212\n",
      "zea 199 362 \"zea\" => \"5,802\" \"zea\" => 12\n",
      "lah 200 207 \"skr\" => \"5,726\" \"skr\" => 134\n",
      "frp 201 !! \"frp\" => \"5,694\" !!\n",
      "udm 202 142 \"udm\" => \"5,670\" \"udm\" => 893\n",
      "pcd 203 127 \"pcd\" => \"5,567\" \"pcd\" => 1350\n",
      "kom 204 274 \"kv\" => \"5,514\" \"kpv\" => 46\n",
      "mlt 205 149 \"mt\" => \"5,505\" \"mlt\" => 646"
     ]
    },
    {
     "name": "stdout",
     "output_type": "stream",
     "text": [
      "\n",
      "csb 206 139 \"csb\" => \"5,455\" \"csb\" => 947\n",
      "grn 207 94 \"gn\" => \"5,420\" \"grn\" => 3360\n",
      "smn 208 !! \"smn\" => \"5,272\" !!\n",
      "aym 209 405 \"ay\" => \"5,119\" \"aym\" => 2\n",
      "nrm 210 !! \"nrm\" => \"4,854\" !!\n",
      "kas 211 272 \"ks\" => \"4,511\" \"kas\" => 49\n",
      "lez 212 !! \"lez\" => \"4,323\" !!\n"
     ]
    },
    {
     "name": "stdout",
     "output_type": "stream",
     "text": [
      "lfn 213 39 \"lfn\" => \"4,210\" \"lfn\" => 23398\n",
      "olo 214 !! \"olo\" => \"4,199\" !!\n",
      "mwl 215 332 \"mwl\" => \"4,162\" \"mwl\" => 22\n",
      "stq 216 223 \"stq\" => \"4,094\" \"stq\" => 96\n",
      "lao 217 183 \"lo\" => \"4,068\" \"lao\" => 219\n",
      "ang 218 168 \"ang\" => \"4,022\" \"ang\" => 379\n",
      "fur 219 302 \"fur\" => \"3,856\" \"fur\" => 33\n",
      "mdf 220 371 \"mdf\" => \"3,856\" \"mdf\" => 9\n",
      "roh 221 328 \"rm\" => \"3,762\" \"roh\" => 24\n"
     ]
    },
    {
     "name": "stdout",
     "output_type": "stream",
     "text": [
      "lad 222 114 \"lad\" => \"3,634\" \"lad\" => 1840\n",
      "kaa 223 344 \"kaa\" => \"3,609\" \"kaa\" => 15\n",
      "kok 224 392 \"gom\" => \"3,579\" \"gom\" => 4\n",
      "ext 225 248 \"ext\" => \"3,559\" \"ext\" => 66\n",
      "kom 226 274 \"koi\" => \"3,461\" \"kpv\" => 46\n",
      "tyv 227 246 \"tyv\" => \"3,456\" \"tyv\" => 69\n",
      "pap 228 231 \"pap\" => \"3,366\" \"pap\" => 89\n",
      "ava 229 369 \"av\" => \"3,359\" \"ava\" => 9\n",
      "dsb 230 131 \"dsb\" => \"3,355\" \"dsb\" => 1095"
     ]
    },
    {
     "name": "stdout",
     "output_type": "stream",
     "text": [
      "\n",
      "lin 231 79 \"ln\" => \"3,336\" \"lin\" => 4776\n",
      "nep 232 101 \"dty\" => \"3,328\" \"npi\" => 2743\n",
      "aka 233 !! \"tw\" => \"3,252\" !!\n",
      "?cbk-zam 234 !! \"cbk-zam\" => \"3,106\" !!\n",
      "div 235 286 \"dv\" => \"3,030\" \"div\" => 40\n",
      "ksh 236 238 \"ksh\" => \"2,937\" \"ksh\" => 82\n",
      "zha 237 !! \"za\" => \"2,820\" !!\n"
     ]
    },
    {
     "name": "stdout",
     "output_type": "stream",
     "text": [
      "gag 238 321 \"gag\" => \"2,804\" \"gag\" => 27\n",
      "bua 239 141 \"bxr\" => \"2,773\" \"bua\" => 906\n",
      "pfl 240 403 \"pfl\" => \"2,744\" \"pfl\" => 3\n",
      "lug 241 406 \"lg\" => \"2,720\" \"lug\" => 2\n",
      "szy 242 !! \"szy\" => \"2,581\" !!"
     ]
    },
    {
     "name": "stdout",
     "output_type": "stream",
     "text": [
      "\n",
      "pag 243 253 \"pag\" => \"2,568\" \"pag\" => 62\n",
      "blk 244 !! \"blk\" => \"2,562\" !!\n",
      "pli 245 410 \"pi\" => \"2,548\" \"pli\" => 2\n",
      "tay 246 !! \"tay\" => \"2,541\" !!\n",
      "haw 247 198 \"haw\" => \"2,519\" \"haw\" => 159\n",
      "awa 248 178 \"awa\" => \"2,437\" \"awa\" => 253\n",
      "inh 249 !! \"inh\" => \"2,182\" !!\n",
      "krc 250 188 \"krc\" => \"2,076\" \"krc\" => 211"
     ]
    },
    {
     "name": "stdout",
     "output_type": "stream",
     "text": [
      "\n",
      "xal 251 146 \"xal\" => \"2,053\" \"xal\" => 870\n",
      "pdc 252 261 \"pdc\" => \"2,018\" \"pdc\" => 57\n",
      "ton 253 337 \"to\" => \"1,975\" \"ton\" => 20\n",
      "atj 254 !! \"atj\" => \"1,957\" !!\n",
      "tcy 255 !! \"tcy\" => \"1,894\" !!\n",
      "arc 256 !! \"arc\" => \"1,888\" !!\n",
      "mnw 257 372 \"mnw\" => \"1,818\" \"mnw\" => 9\n",
      "jam 258 299 \"jam\" => \"1,707\" \"jam\" => 34\n",
      "kbp 259 !! \"kbp\" => \"1,697\" !!"
     ]
    },
    {
     "name": "stdout",
     "output_type": "stream",
     "text": [
      "\n",
      "wol 260 212 \"wo\" => \"1,667\" \"wol\" => 121\n",
      "anp 261 !! \"anp\" => \"1,634\" !!\n",
      "kbd 262 232 \"kbd\" => \"1,616\" \"kbd\" => 87\n",
      "nia 263 !! \"nia\" => \"1,573\" !!\n",
      "nov 264 161 \"nov\" => \"1,534\" \"nov\" => 432\n",
      "shi 265 93 \"shi\" => \"1,516\" \"shi\" => 3365\n",
      "kik 266 !! \"ki\" => \"1,507\" !!\n",
      "nqo 267 !! \"nqo\" => \"1,484\" !!\n",
      "orm 268 !! \"om\" => \"1,441\" !!\n"
     ]
    },
    {
     "name": "stdout",
     "output_type": "stream",
     "text": [
      "bis 269 318 \"bi\" => \"1,414\" \"bis\" => 28\n",
      "xho 270 179 \"xh\" => \"1,362\" \"xho\" => 253\n",
      "tpi 271 227 \"tpi\" => \"1,359\" \"tpi\" => 92\n",
      "tet 272 218 \"tet\" => \"1,355\" \"tet\" => 104\n",
      "ful 273 293 \"ff\" => \"1,342\" \"fuv\" => 35\n",
      "?roa-rup 274 !! \"roa-rup\" => \"1,333\" !!\n",
      "jbo 275 46 \"jbo\" => \"1,330\" \"jbo\" => 16533\n",
      "fij 276 289 \"fj\" => \"1,281\" \"fij\" => 38"
     ]
    },
    {
     "name": "stdout",
     "output_type": "stream",
     "text": [
      "\n",
      "kon 277 !! \"kg\" => \"1,269\" !!\n",
      "lbe 278 !! \"lbe\" => \"1,268\" !!\n",
      "tah 279 311 \"ty\" => \"1,220\" \"tah\" => 30\n",
      "guw 280 !! \"guw\" => \"1,210\" !!\n",
      "chu 281 !! \"cu\" => \"1,209\" !!\n",
      "trv 282 !! \"trv\" => \"1,137\" !!\n",
      "ami 283 !! \"ami\" => \"1,126\" !!\n",
      "srn 284 190 \"srn\" => \"1,119\" \"srn\" => 198\n"
     ]
    },
    {
     "name": "stdout",
     "output_type": "stream",
     "text": [
      "smo 285 241 \"sm\" => \"1,079\" \"smo\" => 78\n",
      "mad 286 375 \"mad\" => \"1,075\" \"mad\" => 8\n",
      "alt 287 373 \"alt\" => \"1,069\" \"alt\" => 8\n",
      "lav 288 82 \"ltg\" => \"1,066\" \"lvs\" => 4671\n",
      "gcr 289 !! \"gcr\" => \"1,064\" !!\n",
      "chr 290 313 \"chr\" => \"1,057\" \"chr\" => 29\n",
      "tsn 291 284 \"tn\" => \"1,051\" \"tsn\" => 41\n",
      "nya 292 324 \"ny\" => \"1,023\" \"nya\" => 25"
     ]
    },
    {
     "name": "stdout",
     "output_type": "stream",
     "text": [
      "\n",
      "sot 293 411 \"st\" => \"917\" \"sot\" => 2\n",
      "pih 294 !! \"pih\" => \"899\" !!\n",
      "rom 295 145 \"rmy\" => \"877\" \"rom\" => 876\n",
      "got 296 176 \"got\" => \"872\" \"got\" => 269\n",
      "ewe 297 323 \"ee\" => \"832\" \"ewe\" => 26\n",
      "bam 298 355 \"bm\" => \"811\" \"bam\" => 13\n",
      "pcm 299 !! \"pcm\" => \"808\" !!\n",
      "ssw 300 415 \"ss\" => \"789\" \"ssw\" => 1\n",
      "tso 301 395 \"ts\" => \"748\" \"tso\" => 4\n"
     ]
    },
    {
     "name": "stdout",
     "output_type": "stream",
     "text": [
      "ven 302 !! \"ve\" => \"748\" !!\n",
      "chy 303 !! \"chy\" => \"695\" !!\n",
      "kcg 304 !! \"kcg\" => \"692\" !!\n",
      "run 305 76 \"rn\" => \"636\" \"run\" => 5304\n",
      "gur 306 !! \"gur\" => \"567\" !!\n",
      "cha 307 170 \"ch\" => \"554\" \"cha\" => 345\n",
      "ipk 308 !! \"ik\" => \"511\" !!\n",
      "ady 309 307 \"ady\" => \"499\" \"ady\" => 31"
     ]
    },
    {
     "name": "stdout",
     "output_type": "stream",
     "text": [
      "\n",
      "pnt 310 !! \"pnt\" => \"485\" !!\n",
      "guc 311 140 \"guc\" => \"481\" \"guc\" => 913\n",
      "iku 312 270 \"iu\" => \"447\" \"ike\" => 51\n",
      "pwn 313 !! \"pwn\" => \"337\" !!\n",
      "sag 314 378 \"sg\" => \"316\" \"sag\" => 8\n",
      "din 315 !! \"din\" => \"310\" !!\n",
      "tir 316 219 \"ti\" => \"252\" \"tir\" => 104\n",
      "kal 317 208 \"kl\" => \"243\" \"kal\" => 130\n"
     ]
    },
    {
     "name": "stdout",
     "output_type": "stream",
     "text": [
      "dzo 318 !! \"dz\" => \"237\" !!\n",
      "cre 319 391 \"cr\" => \"158\" \"crk\" => 4\n",
      "ndo 320 !! \"ng\" => \"8\" !!\n",
      "cho 321 210 \"cho\" => \"6\" \"cho\" => 124\n",
      "kua 322 !! \"kj\" => \"4\" !!\n",
      "mah 323 322 \"mh\" => \"4\" \"mah\" => 27\n",
      "hmo 324 !! \"ho\" => \"3\" !!\n",
      "iii 325 252 \"ii\" => \"3\" \"iii\" => 63\n"
     ]
    },
    {
     "name": "stdout",
     "output_type": "stream",
     "text": [
      "mus 326 151 \"mus\" => \"1\" \"mus\" => 607\n",
      "lrc 327 !! \"lrc\" => \"1\" !!\n",
      "aar 328 !! \"aa\" => \"0\" !!\n",
      "aka 329 !! \"ak\" => \"0\" !!\n",
      "her 330 !! \"hz\" => \"0\" !!\n",
      "kau 331 91 \"kr\" => \"0\" \"knc\" => 3800\n",
      "nau 332 364 \"na\" => \"0\" \"nau\" => 11\n"
     ]
    }
   ],
   "source": [
    "stdtlangs = stdid.(tlangs)\n",
    "for (i, (l, c)) in enumerate(wikilangs)\n",
    "    wid = stdid(l)\n",
    "    ti = findfirst(==(wid), stdid.(first.(tct)))\n",
    "    if ti == nothing\n",
    "        dt = \"!!\"\n",
    "        ti = \"!!\"\n",
    "    else\n",
    "        dt = tct[ti]\n",
    "    end\n",
    "    println(\"$wid $i $ti $(wikilangs[i]) $dt\")\n",
    "end"
   ]
  },
  {
   "cell_type": "code",
   "execution_count": 128,
   "metadata": {},
   "outputs": [
    {
     "data": {
      "text/plain": [
       "56"
      ]
     },
     "metadata": {},
     "output_type": "display_data"
    }
   ],
   "source": [
    "findlast(>(10000), last.(tct))"
   ]
  },
  {
   "cell_type": "code",
   "execution_count": 252,
   "metadata": {},
   "outputs": [
    {
     "data": {
      "text/plain": [
       "\"cat\" => 8305"
      ]
     },
     "metadata": {},
     "output_type": "display_data"
    }
   ],
   "source": [
    "tct[57]"
   ]
  },
  {
   "cell_type": "code",
   "execution_count": 291,
   "metadata": {},
   "outputs": [
    {
     "data": {
      "text/plain": [
       "57-element Vector{AbstractString}:\n",
       " \"eng\"\n",
       " \"rus\"\n",
       " \"ita\"\n",
       " \"tur\"\n",
       " \"epo\"\n",
       " \"kab\"\n",
       " \"?ber\"\n",
       " \"deu\"\n",
       " \"fra\"\n",
       " \"por\"\n",
       " ⋮\n",
       " \"nnb\"\n",
       " \"bel\"\n",
       " \"ben\"\n",
       " \"isl\"\n",
       " \"kur\"\n",
       " \"kor\"\n",
       " \"ido\"\n",
       " \"kur\"\n",
       " \"cat\""
      ]
     },
     "metadata": {},
     "output_type": "display_data"
    }
   ],
   "source": [
    "tkeep = stdid.(first.(tct[1:57]))"
   ]
  },
  {
   "cell_type": "code",
   "execution_count": 365,
   "metadata": {},
   "outputs": [
    {
     "data": {
      "text/plain": [
       "3-element Vector{String}:\n",
       " \"kmr\"\n",
       " \"lfn\"\n",
       " \"jbo\""
      ]
     },
     "metadata": {},
     "output_type": "display_data"
    }
   ],
   "source": [
    "tkeep_black = [\n",
    "    \"kmr\",# 和cbk不像，可能有问题\n",
    "    \"lfn\",\n",
    "    \"jbo\",\n",
    "    # \"nob\", #wiki 对不上\"no\" => \"614,075\", \"nn\" => \"166,366\"\n",
    "    # wiki \"lfn\" => \"4,210\"\n",
    "    # wiki \"jbo\" => \"1,330\"\n",
    "    ]"
   ]
  },
  {
   "cell_type": "code",
   "execution_count": 366,
   "metadata": {},
   "outputs": [
    {
     "name": "stdout",
     "output_type": "stream",
     "text": [
      "kur:Any[\"ckb\", \"kmr\"]\n"
     ]
    }
   ],
   "source": [
    "G1 = Dict()\n",
    "for it in first.(tct[1:57])\n",
    "    G1[stdid(it)] = get!(G1, stdid(it), [])\n",
    "    push!(G1[stdid(it)], it)\n",
    "end\n",
    "for (la, l) in G1\n",
    "    if length(l) > 1\n",
    "        println(la, \":\", l)\n",
    "    end\n",
    "end"
   ]
  },
  {
   "cell_type": "code",
   "execution_count": 405,
   "metadata": {},
   "outputs": [
    {
     "data": {
      "text/plain": [
       "66-element Vector{Pair{SubString{String}, SubString{String}}}:\n",
       "  \"en\" => \"6,695,688\"\n",
       "  \"de\" => \"2,824,907\"\n",
       "  \"sv\" => \"2,569,204\"\n",
       "  \"fr\" => \"2,542,587\"\n",
       "  \"nl\" => \"2,129,469\"\n",
       "  \"ru\" => \"1,931,750\"\n",
       "  \"es\" => \"1,883,599\"\n",
       "  \"it\" => \"1,821,740\"\n",
       " \"arz\" => \"1,618,736\"\n",
       "  \"pl\" => \"1,576,499\"\n",
       "       ⋮\n",
       " \"cdo\" => \"16,370\"\n",
       "  \"yi\" => \"15,530\"\n",
       " \"bjn\" => \"10,304\"\n",
       " \"hak\" => \"10,139\"\n",
       " \"ary\" => \"7,116\"\n",
       " \"kab\" => \"6,706\"\n",
       " \"gan\" => \"6,667\"\n",
       " \"lfn\" => \"4,210\"\n",
       " \"jbo\" => \"1,330\""
      ]
     },
     "metadata": {},
     "output_type": "display_data"
    }
   ],
   "source": [
    "wlangskeep = wikilangs[[l in tkeep for l in stdid.(first.(wikilangs))]]\n",
    "wkeep = first.(wlangskeep)\n",
    "wlangskeep"
   ]
  },
  {
   "cell_type": "code",
   "execution_count": 368,
   "metadata": {},
   "outputs": [
    {
     "data": {
      "text/plain": [
       "false"
      ]
     },
     "metadata": {},
     "output_type": "display_data"
    }
   ],
   "source": [
    "\"cat\" in wkeep"
   ]
  },
  {
   "cell_type": "code",
   "execution_count": 369,
   "metadata": {},
   "outputs": [
    {
     "data": {
      "text/plain": [
       "\"ca\" => \"732,307\""
      ]
     },
     "metadata": {},
     "output_type": "display_data"
    }
   ],
   "source": [
    "wlangskeep[findfirst(==(\"ca\"), first.(wlangskeep))]"
   ]
  },
  {
   "cell_type": "code",
   "execution_count": 370,
   "metadata": {},
   "outputs": [
    {
     "name": "stdout",
     "output_type": "stream",
     "text": [
      "ara:Pair{SubString{String}, SubString{String}}[\"arz\" => \"1,618,736\", \"ar\" => \"1,214,058\", \"ary\" => \"7,116\"]\n",
      "hbs:Pair{SubString{String}, SubString{String}}[\"sr\" => \"672,910\", \"sh\" => \"458,158\", \"hr\" => \"216,047\", \"bs\" => \"92,256\"]\n",
      "zho:Pair{SubString{String}, SubString{String}}[\"zh\" => \"1,371,287\", \"wuu\" => \"42,874\", \"cdo\" => \"16,370\", \"hak\" => \"10,139\", \"gan\" => \"6,667\"]\n",
      "kur:Pair{SubString{String}, SubString{String}}[\"ku\" => \"59,474\", \"ckb\" => \"51,102\"]\n",
      "msa:Pair{SubString{String}, SubString{String}}[\"id\" => \"656,987\", \"ms\" => \"366,576\", \"min\" => \"226,771\", \"bjn\" => \"10,304\"]\n",
      "nor:Pair{SubString{String}, SubString{String}}[\"no\" => \"614,075\", \"nn\" => \"166,366\"]\n"
     ]
    }
   ],
   "source": [
    "G = Dict()\n",
    "for it in wkeep\n",
    "    G[stdid(it)] = get!(G, stdid(it), [])\n",
    "    push!(G[stdid(it)], it)\n",
    "end\n",
    "for (la, l) in G\n",
    "    if length(l) > 1\n",
    "        println(la, \":\", [wlangskeep[findfirst(isequal(i), first.(wlangskeep))] for i in l])\n",
    "    end\n",
    "end"
   ]
  },
  {
   "cell_type": "code",
   "execution_count": 371,
   "metadata": {},
   "outputs": [
    {
     "data": {
      "text/plain": [
       "1-element Vector{Any}:\n",
       " \"ca\""
      ]
     },
     "metadata": {},
     "output_type": "display_data"
    }
   ],
   "source": [
    "G[\"cat\"]"
   ]
  },
  {
   "cell_type": "code",
   "execution_count": 372,
   "metadata": {},
   "outputs": [
    {
     "data": {
      "text/plain": [
       "(Any[\"ara\"], String3(\"ara\"))"
      ]
     },
     "metadata": {},
     "output_type": "display_data"
    }
   ],
   "source": [
    "G1[\"ara\"],part1toid(\"ar\")"
   ]
  },
  {
   "cell_type": "code",
   "execution_count": 373,
   "metadata": {},
   "outputs": [
    {
     "data": {
      "text/plain": [
       "(Any[\"srp\"], String3(\"srp\"))"
      ]
     },
     "metadata": {},
     "output_type": "display_data"
    }
   ],
   "source": [
    "G1[\"hbs\"],part1toid(\"sr\")"
   ]
  },
  {
   "cell_type": "code",
   "execution_count": 374,
   "metadata": {},
   "outputs": [
    {
     "data": {
      "text/plain": [
       "4-element Vector{Any}:\n",
       " \"sr\"\n",
       " \"sh\"\n",
       " \"hr\"\n",
       " \"bs\""
      ]
     },
     "metadata": {},
     "output_type": "display_data"
    }
   ],
   "source": [
    "G[\"hbs\"]"
   ]
  },
  {
   "cell_type": "code",
   "execution_count": 375,
   "metadata": {},
   "outputs": [
    {
     "data": {
      "text/plain": [
       "(Any[\"ind\"], String3(\"ind\"))"
      ]
     },
     "metadata": {},
     "output_type": "display_data"
    }
   ],
   "source": [
    "G1[\"msa\"],part1toid(\"id\")"
   ]
  },
  {
   "cell_type": "code",
   "execution_count": 376,
   "metadata": {},
   "outputs": [
    {
     "data": {
      "text/plain": [
       "(Any[\"nob\"], String3(\"nor\"), String3(\"nno\"))"
      ]
     },
     "metadata": {},
     "output_type": "display_data"
    }
   ],
   "source": [
    "G1[\"nor\"],part1toid(\"no\"),part1toid(\"nn\")"
   ]
  },
  {
   "cell_type": "code",
   "execution_count": 382,
   "metadata": {},
   "outputs": [],
   "source": [
    "wcodes = [[only(v) for v in values(G) if length(v)==1] ; [\"ar\", \"sr\", \"zh\", \"ckb\", \"id\", \"no\"]]\n",
    "wcodes = [c for c in wcodes if !(c in [\"jbo\", \"lfn\"])]\n",
    "@assert length(wcodes) == length(unique(stdid.(wcodes))) == 50\n",
    "tc0 = [c for c in first.(tct[1:57]) if !(c in tkeep_black)]\n",
    "tcodes = [c for c in tc0 if stdid(c) in stdid.(wcodes)]\n",
    "@assert length(wcodes) == length(unique(stdid.(wcodes))) == 50"
   ]
  },
  {
   "cell_type": "code",
   "execution_count": 383,
   "metadata": {},
   "outputs": [],
   "source": [
    "@assert Set(String.(stdid.(tcodes))) == Set(String.(stdid.(wcodes)))"
   ]
  },
  {
   "cell_type": "code",
   "execution_count": 384,
   "metadata": {},
   "outputs": [
    {
     "data": {
      "text/plain": [
       "stdid2 (generic function with 2 methods)"
      ]
     },
     "metadata": {},
     "output_type": "display_data"
    }
   ],
   "source": [
    "function stdid2(c, check=false)\n",
    "    if c in T[!, :Part1]\n",
    "        c = part1toid(c)\n",
    "    end\n",
    "    # if c in MT[!, :I_Id]\n",
    "    #     c = id2mid(c)\n",
    "    # end\n",
    "    if check\n",
    "        c in T[!, :Id] || println(\"missing $c\")\n",
    "    end\n",
    "    c in T[!, :Id] ? c : \"?$c\"\n",
    "end"
   ]
  },
  {
   "cell_type": "code",
   "execution_count": 385,
   "metadata": {},
   "outputs": [
    {
     "data": {
      "text/plain": [
       "Set{String} with 4 elements:\n",
       "  \"nob\"\n",
       "  \"pes\"\n",
       "  \"swc\"\n",
       "  \"cmn\""
      ]
     },
     "metadata": {},
     "output_type": "display_data"
    }
   ],
   "source": [
    "setdiff(Set(String.(stdid2.(tcodes))), Set(String.(stdid2.(wcodes))))"
   ]
  },
  {
   "cell_type": "code",
   "execution_count": 386,
   "metadata": {},
   "outputs": [
    {
     "data": {
      "text/plain": [
       "Set{String} with 4 elements:\n",
       "  \"fas\"\n",
       "  \"zho\"\n",
       "  \"swa\"\n",
       "  \"nor\""
      ]
     },
     "metadata": {},
     "output_type": "display_data"
    }
   ],
   "source": [
    "setdiff(Set(String.(stdid2.(wcodes))),Set(String.(stdid2.(tcodes))))"
   ]
  },
  {
   "cell_type": "code",
   "execution_count": 387,
   "metadata": {},
   "outputs": [
    {
     "data": {
      "text/plain": [
       "(Any[\"pes\"], Any[\"fa\"], String3(\"fas\"))"
      ]
     },
     "metadata": {},
     "output_type": "display_data"
    }
   ],
   "source": [
    "G1[\"fas\"],G[\"fas\"],part1toid(\"fa\")"
   ]
  },
  {
   "cell_type": "code",
   "execution_count": 388,
   "metadata": {},
   "outputs": [
    {
     "data": {
      "text/plain": [
       "(Any[\"swc\"], Any[\"sw\"], String3(\"swa\"))"
      ]
     },
     "metadata": {},
     "output_type": "display_data"
    }
   ],
   "source": [
    "G1[\"swa\"],G[\"swa\"],part1toid(\"sw\")"
   ]
  },
  {
   "cell_type": "code",
   "execution_count": 389,
   "metadata": {},
   "outputs": [
    {
     "name": "stdout",
     "output_type": "stream",
     "text": [
      "ara ar ara ara\n",
      "bel be bel bel\n",
      "ben bn ben ben\n",
      "bul bg bul bul\n",
      "cat ca cat cat\n",
      "ces cs ces ces\n",
      "dan da dan dan\n",
      "deu de deu deu\n",
      "ell el ell ell\n",
      "eng en eng eng\n",
      "epo eo epo epo\n",
      "pes fa fas fas\n",
      "fin fi fin fin\n",
      "fra fr fra fra\n",
      "hau ha hau hau\n",
      "srp sr hbs hbs\n",
      "heb he heb heb\n",
      "hin hi hin hin\n",
      "hun hu hun hun\n",
      "ido io ido ido\n",
      "ina ia ina ina\n",
      "isl is isl isl\n",
      "ita it ita ita\n",
      "jpn ja jpn jpn\n",
      "kab kab kab kab\n",
      "kor ko kor kor\n",
      "ckb ckb kur kur\n",
      "lat la lat lat\n",
      "lit lt lit lit\n",
      "mar mr mar mar\n",
      "mkd mk mkd mkd\n",
      "ind id msa msa\n",
      "nds nds nds nds\n",
      "nld nl nld nld\n",
      "nob no nor nor\n",
      "pol pl pol pol\n",
      "por pt por por\n",
      "ron ro ron ron\n",
      "rus ru rus rus\n",
      "slk sk slk slk\n",
      "spa es spa spa\n",
      "swc sw swa swa\n",
      "swe sv swe swe\n",
      "tat tt tat tat\n",
      "tgl tl tgl tgl\n",
      "tur tr tur tur\n",
      "ukr uk ukr ukr\n",
      "vie vi vie vie\n",
      "yid yi yid yid\n",
      "cmn zh zho zho\n"
     ]
    }
   ],
   "source": [
    "tcodes = sort(tcodes, by=stdid)\n",
    "wcodes = sort(wcodes, by=stdid)\n",
    "for (c1,c2) in zip(tcodes, wcodes)\n",
    "    println(c1, \" \", c2, \" \", stdid(c1), \" \", stdid(c2))\n",
    "end"
   ]
  },
  {
   "cell_type": "code",
   "execution_count": 390,
   "metadata": {},
   "outputs": [
    {
     "name": "stdout",
     "output_type": "stream",
     "text": [
      "[\"ara\", \"bel\", \"ben\", \"bul\", \"cat\", \"ces\", \"dan\", \"deu\", \"ell\", \"eng\", \"epo\", \"pes\", \"fin\", \"fra\", \"hau\", \"srp\", \"heb\", \"hin\", \"hun\", \"ido\", \"ina\", \"isl\", \"ita\", \"jpn\", \"kab\", \"kor\", \"ckb\", \"lat\", \"lit\", \"mar\", \"mkd\", \"ind\", \"nds\", \"nld\", \"nob\", \"pol\", \"por\", \"ron\", \"rus\", \"slk\", \"spa\", \"swc\", \"swe\", \"tat\", \"tgl\", \"tur\", \"ukr\", \"vie\", \"yid\", \"cmn\"]\n",
      "[\"ar\", \"be\", \"bn\", \"bg\", \"ca\", \"cs\", \"da\", \"de\", \"el\", \"en\", \"eo\", \"fa\", \"fi\", \"fr\", \"ha\", \"sr\", \"he\", \"hi\", \"hu\", \"io\", \"ia\", \"is\", \"it\", \"ja\", \"kab\", \"ko\", \"ckb\", \"la\", \"lt\", \"mr\", \"mk\", \"id\", \"nds\", \"nl\", \"no\", \"pl\", \"pt\", \"ro\", \"ru\", \"sk\", \"es\", \"sw\", \"sv\", \"tt\", \"tl\", \"tr\", \"uk\", \"vi\", \"yi\", \"zh\"]\n"
     ]
    }
   ],
   "source": [
    "println(tcodes)\n",
    "println(String.(wcodes))"
   ]
  },
  {
   "cell_type": "code",
   "execution_count": 391,
   "metadata": {},
   "outputs": [
    {
     "name": "stdout",
     "output_type": "stream",
     "text": [
      "[\"ara\" => \"ara\", \"bel\" => \"bel\", \"ben\" => \"ben\", \"bul\" => \"bul\", \"cat\" => \"cat\", \"ces\" => \"ces\", \"dan\" => \"dan\", \"deu\" => \"deu\", \"ell\" => \"ell\", \"eng\" => \"eng\", \"epo\" => \"epo\", \"pes\" => \"fas\", \"fin\" => \"fin\", \"fra\" => \"fra\", \"hau\" => \"hau\", \"srp\" => \"hbs\", \"heb\" => \"heb\", \"hin\" => \"hin\", \"hun\" => \"hun\", \"ido\" => \"ido\", \"ina\" => \"ina\", \"isl\" => \"isl\", \"ita\" => \"ita\", \"jpn\" => \"jpn\", \"kab\" => \"kab\", \"kor\" => \"kor\", \"ckb\" => \"kur\", \"lat\" => \"lat\", \"lit\" => \"lit\", \"mar\" => \"mar\", \"mkd\" => \"mkd\", \"ind\" => \"msa\", \"nds\" => \"nds\", \"nld\" => \"nld\", \"nob\" => \"nor\", \"pol\" => \"pol\", \"por\""
     ]
    },
    {
     "name": "stdout",
     "output_type": "stream",
     "text": [
      " => \"por\", \"ron\" => \"ron\", \"rus\" => \"rus\", \"slk\" => \"slk\", \"spa\" => \"spa\", \"swc\" => \"swa\", \"swe\" => \"swe\", \"tat\" => \"tat\", \"tgl\" => \"tgl\", \"tur\" => \"tur\", \"ukr\" => \"ukr\", \"vie\" => \"vie\", \"yid\" => \"yid\", \"cmn\" => \"zho\"]"
     ]
    }
   ],
   "source": [
    "print([String(c)=>String(stdid(c)) for c in tcodes])"
   ]
  },
  {
   "cell_type": "code",
   "execution_count": 392,
   "metadata": {},
   "outputs": [
    {
     "name": "stdout",
     "output_type": "stream",
     "text": [
      "[\"ar\" => \"ara\", \"be\" => \"bel\", \"bn\" => \"ben\", \"bg\" => \"bul\", \"ca\" => \"cat\", \"cs\" => \"ces\", \"da\" => \"dan\", \"de\" => \"deu\", \"el\" => \"ell\", \"en\" => \"eng\", \"eo\" => \"epo\", \"fa\" => \"fas\", \"fi\" => \"fin\", \"fr\" => \"fra\", \"ha\" => \"hau\", \"sr\" => \"hbs\", \"he\" => \"heb\", \"hi\" => \"hin\", \"hu\" => \"hun\", \"io\" => \"ido\", \"ia\" => \"ina\", \"is\" => \"isl\", \"it\" => \"ita\", \"ja\" => \"jpn\", \"kab\" => \"kab\", \"ko\" => \"kor\", \"ckb\" => \"kur\", \"la\" => \"lat\", \"lt\" => \"lit\", \"mr\" => \"mar\", \"mk\" => \"mkd\", \"id\" => \"msa\", \"nds\" => \"nds\", \"nl\" => \"nld\", \"no\" => \"nor\", \"pl\" => \"pol\", \"pt\" => \"por\", \"ro\" => \"ron\", \"ru\" => \"rus\", \"sk\" => \"slk\", \"es\" => \"spa\", \"sw\" => \"swa\", \"sv\" => \"swe\", \"tt\" => \"tat\", \"tl\" => \"tgl\", \"tr\" => \"tur\", \"uk\" => \"ukr\", \"vi\" => \"vie\", \"yi\" => \"yid\", \"zh\" => \"zho\"]"
     ]
    }
   ],
   "source": [
    "print([String(c)=>String(stdid(c)) for c in wcodes])"
   ]
  },
  {
   "cell_type": "code",
   "execution_count": 406,
   "metadata": {},
   "outputs": [
    {
     "data": {
      "text/plain": [
       "AbstractString[]"
      ]
     },
     "metadata": {},
     "output_type": "display_data"
    }
   ],
   "source": [
    "setdiff(wlangs, wcodes)"
   ]
  },
  {
   "cell_type": "code",
   "execution_count": 394,
   "metadata": {},
   "outputs": [
    {
     "data": {
      "text/plain": [
       "(String3(\"nor\"), String3(\"nor\"))"
      ]
     },
     "metadata": {},
     "output_type": "display_data"
    }
   ],
   "source": [
    "part1toid(\"no\"),stdid(\"nob\")"
   ]
  },
  {
   "cell_type": "code",
   "execution_count": 395,
   "metadata": {},
   "outputs": [
    {
     "data": {
      "text/plain": [
       "1-element Vector{Pair{String, Int64}}:\n",
       " \"nob\" => 17248"
      ]
     },
     "metadata": {},
     "output_type": "display_data"
    }
   ],
   "source": [
    "tct[first.(tct) .== \"nob\"]"
   ]
  },
  {
   "cell_type": "code",
   "execution_count": 401,
   "metadata": {},
   "outputs": [
    {
     "data": {
      "text/plain": [
       "(\"lfn\" => \"4,210\", \"no\" => \"614,075\")"
      ]
     },
     "metadata": {},
     "output_type": "display_data"
    }
   ],
   "source": [
    "wct[findfirst(==(\"lfn\"),first.(wct))],wct[findfirst(==(\"no\"),first.(wct))]"
   ]
  },
  {
   "cell_type": "code",
   "execution_count": 403,
   "metadata": {},
   "outputs": [
    {
     "data": {
      "text/plain": [
       "(\"lfn\" => 23398, \"nob\" => 17248)"
      ]
     },
     "metadata": {},
     "output_type": "display_data"
    }
   ],
   "source": [
    "tct[findfirst(==(\"lfn\"),first.(tct))],tct[findfirst(==(\"nob\"),first.(tct))]"
   ]
  },
  {
   "cell_type": "code",
   "execution_count": null,
   "metadata": {},
   "outputs": [],
   "source": []
  }
 ],
 "metadata": {
  "kernelspec": {
   "display_name": "Julia 1.9.3",
   "language": "julia",
   "name": "julia-1.9"
  },
  "language_info": {
   "file_extension": ".jl",
   "mimetype": "application/julia",
   "name": "julia",
   "version": "1.9.3"
  },
  "orig_nbformat": 4
 },
 "nbformat": 4,
 "nbformat_minor": 2
}
