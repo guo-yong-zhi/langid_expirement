{
 "cells": [
  {
   "cell_type": "code",
   "execution_count": 151,
   "metadata": {
    "vscode": {
     "languageId": "julia"
    }
   },
   "outputs": [
    {
     "data": {
      "text/plain": [
       "rlcs_unzip (generic function with 1 method)"
      ]
     },
     "metadata": {},
     "output_type": "display_data"
    }
   ],
   "source": [
    "include(\"compress.jl\")"
   ]
  },
  {
   "cell_type": "code",
   "execution_count": null,
   "metadata": {
    "vscode": {
     "languageId": "julia"
    }
   },
   "outputs": [],
   "source": [
    "\n",
    "function lcs_zip(str, refer) # `str` and `refer` must not contain any uppercase letters\n",
    "    rg1, rg2 = lcs(refer, str)\n",
    "    if length(rg1) > 2 || (length(rg1) == 2 && rg1[1] == 1)\n",
    "        b1, e1 = first(rg1), last(rg1)\n",
    "        b2, e2 = first(rg2), last(rg2)\n",
    "        l1 = e1 - b1 + 1\n",
    "        if b1 <= 26 && l1 <= 26\n",
    "            bc = b1 == 1 ? \"\" : 'A' + (b1 - 1)\n",
    "            lc = 'A' + (l1 - 1)\n",
    "            str = string(str[1:b2-1], bc, lc, str[e2+1:end])\n",
    "        end\n",
    "    end\n",
    "    str\n",
    "end\n",
    "\n",
    "function rlcs_unzip(Z, str)\n",
    "    _b2 = findfirst(r\"[A-Z]\", str)\n",
    "    if _b2 !== nothing\n",
    "        _b2 = first(_b2)\n",
    "        rk = str[_b2] != 'A' ? 1 : str[_b2 + 1] - '1' + 1\n",
    "        if str[_b2] != 'A'\n",
    "            b2 = _b2\n",
    "            rk = 1\n",
    "        else\n",
    "            b2 = first(findnext(r\"[A-Z]\", str, _b2 + 2))\n",
    "            rk = str[_b2 + 1] - '1' + 1\n",
    "        end\n",
    "        refer = Z.pool[(Z.counter - rk + 1) % Z.rank + 1]\n",
    "        b1 = str[b2] - 'A' + 1\n",
    "        e2 = b2 + 1\n",
    "        if e2 > length(str) || !('A' <= str[e2] <= 'Z')\n",
    "            e2 = b2\n",
    "            l1 = b1\n",
    "            b1 = 1\n",
    "        else\n",
    "            l1 = str[e2] - 'A' + 1\n",
    "        end\n",
    "        e1 = b1 + l1 - 1\n",
    "        str = string(str[1:_b2-1], refer[b1:e1], str[e2+1:end])\n",
    "    end\n",
    "    Z.counter += 1\n",
    "    Z.pool[Z.counter % Z.rank + 1] = str\n",
    "    return str\n",
    "end\n",
    "\n",
    "function rlcs_unzip(Z, str)\n",
    "    _b2 = findfirst(r\"[A-Z]\", str)\n",
    "    if _b2 !== nothing\n",
    "        _b2 = first(_b2)\n",
    "        rk = str[_b2] != 'A' ? 1 : str[_b2 + 1] - '1' + 1\n",
    "        if str[_b2] != 'A'\n",
    "            b2 = _b2\n",
    "            rk = 1\n",
    "        else\n",
    "            b2 = first(findfirst(r\"[A-Z]\", str, _b2 + 2))\n",
    "            rk = str[_b2 + 1] - '1' + 1\n",
    "        end\n",
    "        refer = Z.pool[(Z.counter - rk + 1) % Z.rank + 1]\n",
    "        b1 = str[b2] - 'A' + 1\n",
    "        e2 = b2 + 1\n",
    "        if e2 > length(str) || !('A' <= str[e2] <= 'Z')\n",
    "            e2 = b2\n",
    "            l1 = b1\n",
    "            b1 = 1\n",
    "        else\n",
    "            l1 = str[e2] - 'A' + 1\n",
    "        end\n",
    "        e1 = b1 + l1 - 1\n",
    "        str = string(str[1:_b2-1], refer[b1:e1], str[e2+1:end])\n",
    "    end\n",
    "    Z.counter += 1\n",
    "    Z.pool[Z.counter % Z.rank + 1] = str\n",
    "    return str\n",
    "end\n",
    "mutable struct RLCS\n",
    "    rank::Int\n",
    "    pool::Vector{String}\n",
    "    counter::Int\n",
    "end\n",
    "function RLCS(rank::Int=9)\n",
    "    return RLCS(rank, fill(\"\", rank), 0)\n",
    "end\n",
    "function rlcs_zip(Z, str)\n",
    "    best = 0, str, \"\", \"\"\n",
    "    for rk in 1:min(Z.rank, Z.counter)\n",
    "        refer = Z.pool[(Z.counter - rk + 1) % Z.rank + 1]\n",
    "        # @show rk refer\n",
    "        l, h, c, t = lcs_zip(str, refer)\n",
    "        rk > 1 && (l -= 2)\n",
    "        # @show l\n",
    "        if l > best[1]\n",
    "            s = rk == 1 ? \"\" : 'A' * ('1' + rk - 1)\n",
    "            best = l, h, s * c, t\n",
    "            # @show s\n",
    "        end\n",
    "        if length(str) - l < 2\n",
    "            break\n",
    "        end\n",
    "    end\n",
    "    Z.counter += 1\n",
    "    zip_str = string(best[2], best[3], best[4])\n",
    "    Z.pool[Z.counter % Z.rank + 1] = str\n",
    "    return zip_str\n",
    "end\n",
    "\n",
    "function rlcs_unzip(Z, str)\n",
    "    _b2 = findfirst(r\"[A-Z]\", str)\n",
    "    if _b2 !== nothing\n",
    "        _b2 = first(_b2)\n",
    "        rk = str[_b2] != 'A' ? 1 : str[_b2 + 1] - '1' + 1\n",
    "        if str[_b2] != 'A'\n",
    "            b2 = _b2\n",
    "            rk = 1\n",
    "        else\n",
    "            b2 = first(findnext(r\"[A-Z]\", str, _b2 + 2))\n",
    "            rk = str[_b2 + 1] - '1' + 1\n",
    "        end\n",
    "        refer = Z.pool[(Z.counter - rk + 1) % Z.rank + 1]\n",
    "        b1 = str[b2] - 'A' + 1\n",
    "        e2 = b2 + 1\n",
    "        if e2 > length(str) || !('A' <= str[e2] <= 'Z')\n",
    "            e2 = b2\n",
    "            l1 = b1\n",
    "            b1 = 1\n",
    "        else\n",
    "            l1 = str[e2] - 'A' + 1\n",
    "        end\n",
    "        e1 = b1 + l1 - 1\n",
    "        str = string(str[1:_b2-1], refer[b1:e1], str[e2+1:end])\n",
    "    end\n",
    "    Z.counter += 1\n",
    "    Z.pool[Z.counter % Z.rank + 1] = str\n",
    "    return str\n",
    "end\n",
    "\n"
   ]
  },
  {
   "cell_type": "code",
   "execution_count": 168,
   "metadata": {
    "vscode": {
     "languageId": "julia"
    }
   },
   "outputs": [
    {
     "data": {
      "text/plain": [
       "35"
      ]
     },
     "metadata": {},
     "output_type": "display_data"
    }
   ],
   "source": [
    "1:36"
   ]
  },
  {
   "cell_type": "code",
   "execution_count": 171,
   "metadata": {
    "vscode": {
     "languageId": "julia"
    }
   },
   "outputs": [
    {
     "data": {
      "text/plain": [
       "48"
      ]
     },
     "metadata": {},
     "output_type": "display_data"
    }
   ],
   "source": [
    "Int('0')"
   ]
  },
  {
   "cell_type": "code",
   "execution_count": 170,
   "metadata": {
    "vscode": {
     "languageId": "julia"
    }
   },
   "outputs": [
    {
     "data": {
      "text/plain": [
       "97"
      ]
     },
     "metadata": {},
     "output_type": "display_data"
    }
   ],
   "source": [
    "Int('a')"
   ]
  },
  {
   "cell_type": "code",
   "execution_count": 213,
   "metadata": {
    "vscode": {
     "languageId": "julia"
    }
   },
   "outputs": [
    {
     "data": {
      "text/plain": [
       "dc (generic function with 1 method)"
      ]
     },
     "metadata": {},
     "output_type": "display_data"
    }
   ],
   "source": [
    "ec(i) = i <= 11 ? ('0' + i - 2) : (i <= 37 ? 'a' + i - 12 : 'A' + i - 38)\n",
    "dc(c) = c <= '9' ? (c - '0' + 2) : (c >= 'a' ? c - 'a' + 12 : c - 'A' + 38)\n"
   ]
  },
  {
   "cell_type": "code",
   "execution_count": 214,
   "metadata": {
    "vscode": {
     "languageId": "julia"
    }
   },
   "outputs": [
    {
     "name": "stdout",
     "output_type": "stream",
     "text": [
      "['/', '0', '1', '2', '3', '4', '5', '6', '7', '8', '9', 'a', 'b', 'c', 'd', 'e', 'f', 'g', 'h', 'i', 'j', 'k', 'l', 'm', 'n', 'o', 'p', 'q', 'r', 's', 't', 'u', 'v', 'w', 'x', 'y', 'z', 'A', 'B', 'C', 'D', 'E', 'F', 'G', 'H', 'I', 'J', 'K', 'L', 'M', 'N', 'O', 'P', 'Q', 'R', 'S', 'T', 'U', 'V', 'W', 'X', 'Y', 'Z']"
     ]
    }
   ],
   "source": [
    "ec.(1:63)|>print"
   ]
  },
  {
   "cell_type": "code",
   "execution_count": 216,
   "metadata": {
    "vscode": {
     "languageId": "julia"
    }
   },
   "outputs": [
    {
     "data": {
      "text/plain": [
       "true"
      ]
     },
     "metadata": {},
     "output_type": "display_data"
    }
   ],
   "source": [
    "dc.(ec.(1:63)) == 1:63"
   ]
  },
  {
   "cell_type": "code",
   "execution_count": 199,
   "metadata": {
    "vscode": {
     "languageId": "julia"
    }
   },
   "outputs": [
    {
     "data": {
      "text/plain": [
       "65"
      ]
     },
     "metadata": {},
     "output_type": "display_data"
    }
   ],
   "source": [
    "Int('A')"
   ]
  },
  {
   "cell_type": "code",
   "execution_count": null,
   "metadata": {
    "vscode": {
     "languageId": "julia"
    }
   },
   "outputs": [],
   "source": []
  }
 ],
 "metadata": {
  "language_info": {
   "name": "python"
  },
  "orig_nbformat": 4
 },
 "nbformat": 4,
 "nbformat_minor": 2
}
