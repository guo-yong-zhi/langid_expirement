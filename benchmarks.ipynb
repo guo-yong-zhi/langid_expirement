{
 "cells": [
  {
   "cell_type": "code",
   "execution_count": 1,
   "metadata": {},
   "outputs": [
    {
     "data": {
      "text/plain": [
       "normcode (generic function with 2 methods)"
      ]
     },
     "metadata": {},
     "output_type": "display_data"
    }
   ],
   "source": [
    "using Tables\n",
    "using MarkdownTables\n",
    "using ProgressMeter\n",
    "include(\"datasetloader.jl\")\n",
    "include(\"iso639code.jl\")"
   ]
  },
  {
   "cell_type": "code",
   "execution_count": 2,
   "metadata": {},
   "outputs": [
    {
     "data": {
      "text/plain": [
       "2085801-element TatoebaDataset:\n",
       " \"Pardonu, permesu al mi indiki tri erarojn en la supra artikolo.\" => \"epo\"\n",
       "                                                \"Mi ne malgajnos!\" => \"epo\"\n",
       "                                   \"Kiom for estas la flughaveno?\" => \"epo\"\n",
       "                                  \"Ni ne povas dormi pro la bruo.\" => \"epo\"\n",
       "                                  \"Kie ekas la flughavenaj busoj?\" => \"epo\"\n",
       "                                    \"Mi ŝatus havi tason da kafo.\" => \"epo\"\n",
       "                                            \"Tio tro multekostas!\" => \"epo\"\n",
       "                              \"Mi veturigos vin al la flughaveno.\" => \"epo\"\n",
       "                                                     \"Kio mankas?\" => \"epo\"\n",
       "                                                \"Ĝi estas novega.\" => \"epo\"\n",
       "                                                                   ⋮\n",
       "           \"Každou chvíli může dojít k velmi silnému zemětřesení.\" => \"ces\"\n",
       "                               \"Tahle práce rozhodně není snadná.\" => \"ces\"\n",
       "                                        \"Problémem nejsou peníze.\" => \"ces\"\n",
       "                                                  \"Kdo pije pivo?\" => \"ces\"\n",
       "                             \"Tom koupil několik bochníků chleba.\" => \"ces\"\n",
       "                                       \"Nechce se mi jít do kina.\" => \"ces\"\n",
       "                                   \"Tom se odtamtud právě vrátil.\" => \"ces\"\n",
       "                                              \"Byla okna zavřená?\" => \"ces\"\n",
       "                                          \"Ten film byl zajímavý.\" => \"ces\""
      ]
     },
     "metadata": {},
     "output_type": "display_data"
    }
   ],
   "source": [
    "TLANGS = [\"ara\", \"bel\", \"ben\", \"bul\", \"cat\", \"ces\", \"dan\", \"deu\", \"ell\", \"eng\", \"epo\", \"pes\", \"fin\",\n",
    " \"fra\", \"hau\", \"srp\", \"heb\", \"hin\", \"hun\", \"ido\", \"ina\", \"isl\", \"ita\", \"jpn\", \"kab\", \"kor\", \"ckb\", \n",
    " \"lat\", \"lit\", \"mar\", \"mkd\", \"ind\", \"nds\", \"nld\", \"nob\", \"pol\", \"por\", \"ron\", \"rus\", \"slk\", \"spa\", \n",
    " \"swc\", \"swe\", \"tat\", \"tgl\", \"tur\", \"ukr\", \"vie\", \"yid\", \"cmn\"]\n",
    "WLANGS = [\"ar\", \"be\", \"bn\", \"bg\", \"ca\", \"cs\", \"da\", \"de\", \"el\", \n",
    "\"en\", \"eo\", \"fa\", \"fi\", \"fr\", \"ha\", \"sr\", \"he\", \"hi\", \"hu\", \"io\", \n",
    "\"ia\", \"is\", \"it\", \"ja\", \"kab\", \"ko\", \"ckb\", \"la\", \"lt\", \"mr\", \"mk\",\n",
    " \"id\", \"nds\", \"nl\", \"no\", \"pl\", \"pt\", \"ro\", \"ru\", \"sk\", \"es\", \"sw\",\n",
    "  \"sv\", \"tt\", \"tl\", \"tr\", \"uk\", \"vi\", \"yi\", \"zh\"]\n",
    "LANGS = [\"ara\", \"bel\", \"ben\", \"bul\", \"cat\", \"ces\", \"dan\", \"deu\", \"ell\", \n",
    "\"eng\", \"epo\", \"fas\", \"fin\", \"fra\", \"hau\", \"hbs\", \"heb\", \"hin\", \"hun\", \n",
    "\"ido\", \"ina\", \"isl\", \"ita\", \"jpn\", \"kab\", \"kor\", \"kur\", \"lat\", \"lit\", \n",
    "\"mar\", \"mkd\", \"msa\", \"nds\", \"nld\", \"nor\", \"pol\", \"por\", \"ron\", \"rus\", \n",
    "\"slk\", \"spa\", \"swa\", \"swe\", \"tat\", \"tgl\", \"tur\", \"ukr\", \"vie\", \"yid\", \n",
    "\"zho\"]\n",
    "# WV = WikiDataSet(\"corpus/wikipedia/test\", langs=WLANGS)\n",
    "TV = TatoebaDataset(\"corpus/tatoeba\", \"tatoeba_test.txt\", langs=TLANGS)"
   ]
  },
  {
   "cell_type": "code",
   "execution_count": 3,
   "metadata": {},
   "outputs": [
    {
     "data": {
      "text/plain": [
       "detector_ls (generic function with 1 method)"
      ]
     },
     "metadata": {},
     "output_type": "display_data"
    }
   ],
   "source": [
    "import LanguageFinder: LanguageFind\n",
    "detector_lf(t) = LanguageFind(t, 0).lang\n",
    "import LanguageDetect: detect\n",
    "detector_ld(t) = first(detect(t)).language\n",
    "import Languages: LanguageDetector, isocode\n",
    "Languages_detector = LanguageDetector()\n",
    "function detector_ls(t)\n",
    "    l = Languages_detector(t) |> first\n",
    "    if l == nothing\n",
    "        return \"\"\n",
    "    else\n",
    "     return l |> isocode\n",
    "    end\n",
    "end"
   ]
  },
  {
   "cell_type": "code",
   "execution_count": 4,
   "metadata": {},
   "outputs": [
    {
     "data": {
      "text/plain": [
       "bmk (generic function with 1 method)"
      ]
     },
     "metadata": {},
     "output_type": "display_data"
    }
   ],
   "source": [
    "function bmk(detector, D, langs)\n",
    "    tp = zeros(length(langs))\n",
    "    total = zeros(length(langs))\n",
    "    for (x, y) in D[200:1000:end]\n",
    "        y = normcode(y)\n",
    "        if y in langs\n",
    "            ind = findfirst(isequal(y), langs)\n",
    "            y_ = \"\"\n",
    "            try\n",
    "                y_ = normcode(detector(x))\n",
    "            catch\n",
    "                println(\"Error: $x\")\n",
    "            end\n",
    "            if y_ == y\n",
    "                tp[ind] += 1\n",
    "            end\n",
    "            total[ind] += 1\n",
    "        end\n",
    "    end\n",
    "    tp ./ total\n",
    "end\n"
   ]
  },
  {
   "cell_type": "code",
   "execution_count": 5,
   "metadata": {},
   "outputs": [
    {
     "name": "stdout",
     "output_type": "stream",
     "text": [
      "Error: 空腹はメンタル的に良くない。\n",
      "Error: 彼女は優しい心の持ち主です。\n",
      "Error: 彼らは二人とも親切で正直です。\n",
      "Error: 任せて！\n",
      "Error: 私はロンドンまでバスで行った。\n",
      "Error: 君が成功できるかは君の努力次第だ。\n",
      "Error: 我々は彼の間違いを気の毒に思う。\n",
      "Error: 一家はニューヨークに移ったが、新しい環境にすぐに順応した。\n",
      "Error: しかし、アメリカではふつう、スポーツチームは腕で選ばれ、学業のコースは学力によって選ばれます。\n",
      "Error: 「ねえ、数学の宿題できた？」「あ、やばい、完全に忘れてた」\n",
      "Error: 毎日10ずつ新しい単語を覚えている。\n",
      "Error: なぜ飛行機にはパラシュートではなくライフジャケットがあるのか。\n",
      "Error: トムはフランス語は話せないけど、フランス語の漫画を読むのは好きなんだ。\n",
      "Error: トムは彼には投票権がないと言う。\n",
      "Error: 本当だと思うよ。"
     ]
    },
    {
     "name": "stdout",
     "output_type": "stream",
     "text": [
      "\n",
      "Error: שנשתמש ב-du או ב-Sie?\n",
      "Error: זה נשגב מבינתך.\n",
      "Error: أحتاج نصيحتك."
     ]
    },
    {
     "name": "stdout",
     "output_type": "stream",
     "text": [
      "\n",
      "Error: - Ez őz? - Az.\n"
     ]
    },
    {
     "name": "stdout",
     "output_type": "stream",
     "text": [
      "  3.820704 seconds (2.59 M allocations: 176.687 MiB, 3.28% gc time, 73.07% compilation time)\n"
     ]
    },
    {
     "name": "stdout",
     "output_type": "stream",
     "text": [
      "  7.953754 seconds (45.28 M allocations: 1.561 GiB, 4.02% gc time, 22.64% compilation time)\n"
     ]
    }
   ],
   "source": [
    "@time bmk_ls = bmk(detector_ls, TV, LANGS);\n",
    "@time bmk_ld = bmk(detector_ld, TV, LANGS);\n",
    "# @time bmk_lf = bmk(detector_lf, TV, LANGS);\n",
    ";"
   ]
  },
  {
   "cell_type": "code",
   "execution_count": 9,
   "metadata": {},
   "outputs": [
    {
     "data": {
      "text/markdown": [
       "|                | ara     | bel     | ben     | bul    | cat     | ces    | dan    | deu    | ell     | eng    | epo    | fas     | fin    | fra    | hau     | hbs    | heb     | hin     | hun    | ido | ina | isl | ita    | jpn     | kab | kor     | kur | lat | lit    | mar    | mkd    | msa    | nds | nld    | nor    | pol    | por    | ron    | rus    | slk    | spa    | swa    | swe    | tat | tgl    | tur    | ukr    | vie     | yid     | zho     |\n",
       "|----------------|---------|---------|---------|--------|---------|--------|--------|--------|---------|--------|--------|---------|--------|--------|---------|--------|---------|---------|--------|-----|-----|-----|--------|---------|-----|---------|-----|-----|--------|--------|--------|--------|-----|--------|--------|--------|--------|--------|--------|--------|--------|--------|--------|-----|--------|--------|--------|---------|---------|---------|\n",
       "|      Languages |  75.00% | 100.00% | 100.00% | 60.00% |       - | 35.71% | 25.00% | 91.94% | 100.00% | 80.77% | 64.83% |  66.67% | 79.31% | 83.93% | 100.00% | 66.67% |  95.00% |  66.67% | 72.15% |   - |   - |   - | 60.23% |  63.83% |   - | 100.00% |   - |   - | 78.95% | 73.33% | 43.75% | 75.00% |   - | 55.56% | 50.00% | 83.33% | 78.57% | 66.67% | 50.25% |      - | 65.00% |      - | 50.00% |   - | 86.67% | 50.68% | 63.89% |  80.00% | 100.00% | 100.00% |\n",
       "| LanguageDetect | 100.00% |       - | 100.00% | 60.00% | 100.00% | 78.57% | 41.67% | 78.23% | 100.00% | 75.27% |      - | 100.00% | 93.10% | 75.89% |       - | 33.33% | 100.00% | 100.00% | 89.87% |   - |   - |   - | 64.33% | 100.00% |   - | 100.00% |   - |   - | 84.21% | 80.00% | 68.75% | 75.00% |   - | 66.67% | 75.00% | 91.67% | 75.00% | 66.67% | 79.60% | 50.00% | 61.25% | 50.00% | 90.00% |   - | 93.33% | 91.78% | 86.11% | 100.00% |       - |  92.86% |\n"
      ],
      "text/plain": [
       "DisplayAs.Raw.Showable{MIME{Symbol(\"text/markdown\")}}(UInt8[0x7c, 0x20, 0x20, 0x20, 0x20, 0x20, 0x20, 0x20, 0x20, 0x20  …  0x20, 0x39, 0x32, 0x2e, 0x38, 0x36, 0x25, 0x20, 0x7c, 0x0a])"
      ]
     },
     "metadata": {},
     "output_type": "display_data"
    }
   ],
   "source": [
    "using Printf\n",
    "fmt(v) = v isa Real ? (v!=0 ? (@sprintf \"%0.2f%%\" v*100) : \"-\") : v\n",
    "tb = [\"Languages\"; bmk_ls ;; \"LanguageDetect\"; bmk_ld]# ;; \"LanguageFind\"; bmk_lf]\n",
    "hd = [\"\"; LANGS]\n",
    "markdown_table(Tables.table(permutedims(tb), header=hd), formatter=fmt)"
   ]
  },
  {
   "cell_type": "code",
   "execution_count": 8,
   "metadata": {},
   "outputs": [
    {
     "name": "stdout",
     "output_type": "stream",
     "text": [
      "|                | ara     | bel     | ben     | bul    | cat     | ces    | dan    | deu    | ell     | eng    | epo    | fas     | fin    | fra    | hau     | hbs    | heb     | hin     | hun    | ido | ina | isl | ita    | jpn     | kab | kor     | kur | lat | lit    | mar    | mkd    | msa    | nds | nld    | nor    | pol    | por    | ron    | rus    | slk    | spa    | swa    | swe    | tat | tgl    | tur    | ukr    | vie     | yid     | zho     |\n",
      "|----------------|---------|---------|---------|--------|---------|--------|--------|--------|---------|--------|--------|---------|--------|--------|---------|--------|---------|---------|--------|-----|-----|-----|--------|---------|-----|---------|-----|-----|--------|--------|--------|--------|-----|--------|--------|--------|--------|--------|--------|--------|--------|--------|--------|-----|--------|--------|--------|---------|---------|---------|\n",
      "|      Languages |  75.00% | 100.00% | 100.00% | 60.00% |       - | 35.71% | 25.00% | 91.94% | 100.00% | 80.77% | 64.83% |  66.67% | 79.31% | 83.93% | 100.00% | 66.67% |  95.00% |  66.67% | 72.15% |   - |   - |   - | 60.23% |  63.83% |   - | 100.00% |   - |   - | 78.95% | 73.33% | 43.75% | 75.00% |   - | 55.56% | 50.00% | 83.33% | 78.57% | 66.67% | 50.25% |      - | 65.00% |      - | 50.00% |   - | 86.67% | 50.68% | 63.89% |  80.00% | 100.00% | 100.00% |\n",
      "| LanguageDetect | 100.00% |       - | 100.00% | 60.00% | 100.00% | 78.57% | 41.67% | 78.23% | 100.00% | 75.27% |      - | 100.00% | 93.10% | 75.89% |       - | 33.33% | 100.00% | 100.00% | 89.87% |   - |   - |   - | 64.33% | 100.00% |   - | 100.00% |   - |   - | 84.21% | 80.00% | 68.75% | 75.00% |   - | 66.67% | 75.00% | 91.67% | 75.00% | 66.67% | 79.60% | 50.00% | 61.25% | 50.00% | 90.00% |   - | 93.33% | 91.78% | 86.11% | 100.00% |       - |  92.86% |\n"
     ]
    }
   ],
   "source": [
    "markdown_table(Tables.table(permutedims(tb), header=hd),String, formatter=fmt)|>print"
   ]
  },
  {
   "cell_type": "code",
   "execution_count": null,
   "metadata": {},
   "outputs": [],
   "source": []
  }
 ],
 "metadata": {
  "kernelspec": {
   "display_name": "Julia 1.9.1",
   "language": "julia",
   "name": "julia-1.9"
  },
  "language_info": {
   "file_extension": ".jl",
   "mimetype": "application/julia",
   "name": "julia",
   "version": "1.9.1"
  },
  "orig_nbformat": 4
 },
 "nbformat": 4,
 "nbformat_minor": 2
}
