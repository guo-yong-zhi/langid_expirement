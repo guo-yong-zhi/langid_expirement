{
 "cells": [
  {
   "cell_type": "code",
   "execution_count": 1,
   "metadata": {},
   "outputs": [],
   "source": [
    "# import Pkg; Pkg.add(\"Tables\"); Pkg.add(\"MarkdownTables\"); Pkg.add(\"DataFrames\")"
   ]
  },
  {
   "cell_type": "code",
   "execution_count": 26,
   "metadata": {},
   "outputs": [
    {
     "data": {
      "text/plain": [
       "showtable (generic function with 2 methods)"
      ]
     },
     "metadata": {},
     "output_type": "display_data"
    }
   ],
   "source": [
    "# using ProgressMeter\n",
    "include(\"datasetloader.jl\")\n",
    "include(\"benchmark.jl\")"
   ]
  },
  {
   "cell_type": "code",
   "execution_count": 2,
   "metadata": {},
   "outputs": [
    {
     "data": {
      "text/plain": [
       "10000-element WikiDataSet:\n",
       "                                                                                                                                                                                                                                                                                                                                                                                                                                                                                                                                                                                                                                                                                                                                                                                                                                                                                                                                                                                                                                                                                                                                                                                                                                                                                                                                                                                                                                                                                                                                                                                                                                                                                                                                                                                                                                                                                                                                                                                                                                                                                                                                                                                                                                                       \"Ĉokolado  estas franca biografia filmo el la jaro 2016, direktita de Roschdy Zem kaj bazita sur la libro Chocolat, clown nègre. L'histoire oubliée du premier artiste noir de la scène française de Gérard Noiriel. Ĉokolado, nigrula klaŭno 1 . 2 \\nRafael Padilla  estas la filo de iama sklavo de Kubo kiu en 1895 ludis rolon en la modesta cirko Delvaux. La cirkodirektoro demandas al la brita, blanka klaŭno George Foottit  labori kun ĉi tiu nigra klaŭno. La nomo de Rafael estis ŝanĝita en Chocolat. Post kiam ilia prezentado fariĝis konata, la direktoro de la Nouveau Cirque  petas ali ili ankaŭ fari prezenton en Parizo. Tiu pariza spektaklo fariĝis ankaŭ granda sukceso kaj Chocolat fariĝis la unua nigra artisto sur franca scenejo. Imponita pro la multo da mono ke li perlaboras, Chocolat fordonas sin al hazardludoj, alkoholo kaj virinoj.\\nKvankam la filmo pretendas rakonti la eksterordinaran historion de ĉi tiu eksterordinara artisto, oni notendu ke tiuj multege devias de la reala vivo de ambaŭ klaŭnoj 3 . \\nLaŭ la filmo, Rafaelon trovis en la vaganta cirko George Foottit, tiutempe malsukcesa klaŭno, kiu proponis al la vigla nigrulo kunlaboron  en tute nova formo - du klaŭnoj sur unu scenejo. Il plu espaŝis en la sama cirko kaj nur poste estis invititaj de la pariza famulo. Alia diferenco estas ke en la filmo la duopo disiĝis pro foriro de Rafael, kiu provis sin en teatro kiel Otelon.  La reĝisoro prezentas ne la gajan historion de klaŭno, sed la malgajan vivovojon de fremdulo, kiu klopodas adaptiĝi al la socio, sed fiaskis 4 .\\nLa filmo estis nomumita por 5 César en 2017 5 .\\n\" => \"eo\"\n",
       "                                                                                                                                                                                                                                                                                                                                                                                                                                                                                                                                                                                                                                                                                                                                                                                                                                                                                                                                                                                                                                                                                                                                                                                                                                                                                                                                                                                                                                                                                                                                                                                                                                                                                                                                                                                                                                                                                                                                                                                                                                                                                                                                                                                                                                                                                                                                 \"Červenohorské sedlo  estas ŝatata skiada centro de norda Moravio kaj de Ĉeĥa Silezio en montaro Hrubý Jeseník. Ĝi troviĝas en alteco 1013 m sur vojo de signifa ŝosea pasejo  kaj ĝi situas sur historia moravia-silezia limo.\\nĜi situas proksimume ok kilometroj node de municipo Kouty nad Desnou, fina fervojlinio 293, de kie estas establita pendoltransporto al montoselo.\\nLa areo Ruĝmonta selo estas signifa centro de degliteja skiado sur limo de Moravio kaj Silezio. Estas ĉi tie sume sep skitreniloj kaj kvar deglitejoj, kiuj havas supermaran altecon de 862 ĝis 1164 m. Estas ĉi tie bonegaj neĝkondiĉoj, la vintra sezono daŭras ekde duono de decembro ĝis fino de marto. La areo kun la deglitejoj estas dividita en nordan  kaj sudan  deklivojn. \\nEl Ruĝmonta selo kondukas reguligata skikura vojo al Praděd – tra Petrovka kaj kabano Švýcárna. La alia skikura vojo kondukas al eksa kabano Vřesová studánka, de kie eblas jam sen reguligita spuro daŭrigi tra Červená hora  al Keprník kaj Šerák. Tiu ĉi vojo estas markita en senarbaraj sektoroj per stanga markigo, sed kiu ne estas tro kvalita.\\nJam en la dua duono de la 19-a jarcento situis en la selo ekskursa gastejo, hodiaŭ estas ĉi tie hotelo , restoracio kaj kelke da kabanoj donantaj loĝigon en apartmanoj.\\nĈar la ŝoseo I/44 superas de Domašov kaj ankaŭ de Kouty nad Desnou supren al la selo grandan superigon, ĝi estas dum vintraj monatoj ofte neveturebla aŭ veturebla nur kun neĝoĉenoj. En la jaroj 2006-2008  kaj en 2014-2017  okazis rekonstruo de la ŝoseo I/44.\\n\" => \"eo\"\n",
       "                                                                                                                                                                                                                                                                                                                                                                                                                                                                                                                                                                                                                                                                                                                                                                                                                                                                                                                                                                                                                                                                                                                                                                                                                                                                                                                                                                                                                                                                                                                                                                                                                                                                                                                                                                                                                                                                                                                                                                                                                                                                                                                                                                                                                                  \"\\nĤoj  estas urbego kaj ĉefurbo de la samnoma distrikto en la Provinco Okcidenta Azerbajĝano, en nordokcidenta Irano.\\nĤoj situas sur altebenaĵo en rivervalo proksime al altaj montoj. La urbego situas norde 111 kilometrojn de la provinca ĉefurbo Urmijo, 656 kilometrojn de la ĉefurbo Teherano, 1316 kilometrojn de Maŝhado, 1644 kilometrojn de la suda marhaveno Bandar Abaso .\\nTiu loko estis konata en antikvaj tempoj pri la salminejoj kiuj igis ĝin grava haltejo de la Silka vojo. La loknomo Khoj aperis nur en la 14-a jarcento. Ĝi estis parto de la Reĝlando Armenio dum jarcentoj. En 1724 la otomanoj okupis la urbon. En 1828 en Ĥoj vivis multe da armenoj, tamen traktato donis al la rusoj la rajton instigi enmigradon de armenoj de Irano al la Rusa Imperio. Tamen malgranda armena loĝantaro restis  en Ĥoj.\\nĜi estis okupita de turkoj en 1911, poste de rusoj, kiuj retiriĝis en 1917. En la Dua mondmilito Ĥoj estis okupita de Sovetunio ĝis 1946. Ĥoj estis deklarita urbo en 1923. La loĝantoj de la grandurbo estas ĉefe azerioj , sed ĉiuj povas konversacii en la persa. \\nĤoj estas komerca centro, sed la ĉirkaŭaĵo estas bazita sur agrikulturo helpe de irigacio, oni produktas fruktojn, grenojn kaj konstrulignojn.\\nĤoj situas en la duonarida klimato laŭ klimata klasifiko de Köppen . Jare pluvas po 284 mm, en ĉiuj monatoj pluvas/neĝas, tamen inter julio-septembro apenaŭ. La averaĝa jara temperaturo estas 12,2 °C , inter novembro-marto estas frostoj. La vetero estas tre malvarma en vintro kaj malvarmeta somere. \\nĤoj havas flughavenon kaj regionajn vojojn al la provinco.\\nStrato\\nVojo\\nŜtona pordo\\nViadukto\\n\" => \"eo\"\n",
       "                                                                                                                                                                                                                                                                                                                                                                                                                                                                                                                                                                                                                                                                                                                                                                                                                                                                                                                                                                                                                                                                                                                                                                                                                                                                                                                                                                                                                                                                                                                                                                                                                                                                                                                                                                                                                                                                                                                                                                                                                                                                                                                                                                                                                                                                                                                                                                                                                                                                                                                                                                                                                                                                                                                                                                                                                                                                                                                                                                                                                                                                                                                                                                                                                \"Edo ankaŭ estas antikva nomo de la urbo Tokio. Pri la aliaj signifoj de EDO rigardu en EDO.\\nŜtato Edo aŭ en la angla plenforme Edo State - en Esperanto eble Edo-Ŝtato - estas unu el la 36 ŝtatoj respektive fakte subŝtatoj de Niĝerio, situanta en la sudokcidento de la lando. La riĉo de la regiono estas en agrikulturo, nafto, turismo, servoj ktp.\\nLa ĉefurbo kaj registara sidejo estas Beninurbo. Aba estas la plej granda komerca kaj industria urbo. Limoj estas norde kaj oriente Kogi Ŝtato, sude Delta Ŝtato kaj okcidente Ondo Ŝtato.\\nLa indiĝena etna gruparo en Edo ŝtato estas tre diversa kaj inter ili Edoj, Okpe, Esan, Afemai, Ora, Akoko-Edo, Igbanke, Emai kaj Iĝavoj\\n\" => \"eo\"\n",
       "                                                                                                                                                                                                                                                                                                                                                                                                                                                                                                                                                                                                                                                                                                                                                                                                                                                                                                                                                                                                                                                                                                                                                                                                                                                                                                                                                                                                                                                                                                                                                                                                                                                                                                                                                                                                                                                                                                                                                                                                                                                                                                                                                                                                                                                                                                                                                                                                                                                                                                                                                                                                                                                                                                                                                                                                                                                                                                                                                                                                                                                                                                                                                                                                                                                                                                                                                                                                                                                                                                                                                                                                                                                                                                                             \" 1998 RC80 estas asteroido de la asteroida zono, malkovrita la 14-an de septembro 1998 en la kadro de la kampanjo \\\"LINEAR\\\"  elde la situejo de Socorro de la Laboratorio Lincoln .\\n\" => \"eo\"\n",
       "                                                                                                                                                                                                                                                                                                                                                                                                                                                                                                                                                                                                                                                                                                                                                                                                                                                                                                                                                                                                                                                                                                                                                                                                                                                                                                                                                                                                                                                                                                                                                                                                                                                                                                                                                                                                                                                                                                                                                                                                                                                                                                                                                                                                                                                                                                                                                                                                                                                                                                                                                                                                                                                                                                                                                                                                                                                                                                                                                                                                                                                                                                                                                                                                                                                                                                                                                                                                                                                                                                                                                                                                                                                                                                                        \" 1993 FV7 estas asteroido de la asteroida zono, malkovrita la 17-an de marto 1993 en la kadro de la \\\"Enketo de Upsalo-ESO pri Asteroidoj kaj Kometoj\\\" , elde la Observatorio La Silla .\\n\" => \"eo\"\n",
       "                                                                                                                                                                                                                                                                                                                                                                                                                                                                                                                                                                                                                                                                                                                                                                                                                                                                                                                                                                                                                                                                                                                                                                                                                                                                                                                                                                                                                                                                                                                                                                                                                                                                                                                                                                                                                                                                                                                                                                                                                                                                                                                                                                                                                                                                                                                                                                                                                                                                                                                                                                                                                                                                                                                                                                                                                                                                                                                                                                                                                                                                                                                                                                                                                                                                                                                                                                                                                                                                                                                                                                                                                                                                                                                                         \" 1999 CR20 estas asteroido de la asteroida zono, malkovrita la 10-an de februaro 1999 dum la kampanjo \\\"LINEAR\\\"  elde la situejo de Socorro de la Laboratorio Lincoln .\\n\" => \"eo\"\n",
       "                                                                                                                                                                                                                                                                                                                                                                                                                                                                                                                                                                                                                                                                                                                                                                                                                                                                                                                                                                                                                                                                                                                                                                                                                                                                                                                                                                                                                                                                                                                                                                                                                                                                                                                                                                                                                                                                                                                                                                                                                                                                                                                                                                                                                                                                                                                                                                                                                                                                                                                                                                                                                                                                                                                                                                                                                                                                                                                                                                                                                                                                                                                                                                                                                                                                                                                                                                                                                                                                                                                        \" 2000 YF33 estas  marsrenkonta asteroido malkovrita la 30-an de decembro 2000 en la kadro de la astronomia kampanjo \\\" LINEAR \\\" elde la situejo de Socorro de la Laboratorio Lincoln .\\nĜi ne estas malproksima de la orbita resonanco 1:2 kun Marso.\\nĜia discentra orbito ekstere tanĝas tiun de Marso : ĝia marsa MOID estas 0,2832 astronomia unuo, tie estas 42,366 milionoj da km.\\n\" => \"eo\"\n",
       "                                                                                                                                                                                                                                                                                                                                                                                                                                                                                                                                                                                                                                                                                                                                                                                                                                                                                                                                                                                                                                                                                                                                                                                                                                                                                                                                                                                                                                                                                                                                                                                                                                                                                                                                                                                                                                                                                                                                                                                                                                                                                                                                                                                                                                                                                                                                                                                                                                                                                                                                                                                                                                                                                                                                                                                                                                                                                                                                                                                                                                                                                                                                                                                                                                                                                                                                                                                                                                                                                                                                                                                                                                                                                                                                               \" 1989 SW8 estas asteroido de la asteroida zono malkovrita la 23-an de septembro 1989 de la belga astronomo Henri Debehogne elde la Observatorio La Silla en Ĉilio.\\n\" => \"eo\"\n",
       "                                                                                                                                                                                                                                                                                                                                                                                                                                                                                                                                                                                                                                                                                                                                                                                                                                                                                                                                                                                                                                                                                                                                                                                                                                                                                                                                                                                                                                                                                                                                                                                                                                                                                                                                                                                                                                                                                                                                                                                                                                                                                                                                                                                                                                                                                                                                                                                                                                                                                                                                                                                                                                                                                                                                                                                                                                                                                                                                                                                                                                                                                                                                                                                                                                                                                                                                                                                                                                                                                                                                                                                                                                                                                                                                                                          \" 1992 UW2 estas asteroido\\nde la asteroida zono malkovrita la 25-an de oktobro 1992 de la japana astronomo Satoru Otomo elde Kijosato .\\n\" => \"eo\"\n",
       "                                                                                                                                                                                                                                                                                                                                                                                                                                                                                                                                                                                                                                                                                                                                                                                                                                                                                                                                                                                                                                                                                                                                                                                                                                                                                                                                                                                                                                                                                                                                                                                                                                                                                                                                                                                                                                                                                                                                                                                                                                                                                                                                                                                                                                                                                                                                                                                                                                                                                                                                                                                                                                                                                                                                                                                                                                                                                                                                                                                                                                                                                                                                                                                                                                                                                                                                                                                                                                                                                                                                                                                                                                                                                                                                                                                                                                                                                                                      ⋮\n",
       "                                                                                                                                                                                                                                                                                                                                                                                                                                                                                                                                                                                                                                                                                                                            \"Bette Davis Eyes  הוא שיר שנכתב והולחן על ידי דונה וייס וג'קי דשאנון  בשנת 1974. 5  הוא הוקלט במקור על ידי דשאנון באותה השנה עבור אלבומה, New Arrangement, אך הוא זכה לפופולריות בעקבות הקלטתה של הזמרת האמריקאית קים קארנס ב-1981 כאשר גרסתה שהתה תשעה שבועות לא רצופים בראש מצעד הבילבורד הוט 100. השיר שהה במקום הראשון במשך חמישה שבועות אך ירד בעקבות \\\"Stars on 45\\\" ולאחר מכן, חזר למקום הראשון לארבעה שבועות נוספים והפך ללהיט הגדול ביותר בארצות הברית באותה השנה. 6  \\\"Bette Davis Eyes\\\" הגיע למקום הראשון ב-21 מדינות, 7  והגיע למקום העשירי במצעד הסינגלים הבריטי; השיר היחיד של קארנס שהגיע ל-40 העליונים במצעד. 8  הוא הגיע למקום השני גם בקנדה במשך 12 שבועות רצופים, והיה לשיר השני המצליח ביותר במדינה באותה השנה, אחרי \\\"Stars on 45\\\". 9 \\nהשיר זכה בפרסי גראמי בקטגוריית \\\"שיר השנה\\\" ו\\\"הקלטת השנה\\\", ודורג במקום ה-12 במצעד כל הזמנים של בילבורד, שפורסם לאחר 50 שנות פעילות. 10  \\\"Bette Davis Eyes\\\" יצא מחדש בהוצאת קלאופטרה רקורדס. 11  בנוסף לכך, הוא נחשב לאחד מ-50 השירים הנמכרים ביותר בכל הזמנים בצרפת, עם מכירות של למעלה ממיליון עותקים במדינה. 12 \\nהשיר נכתב בשנת 1974 על ידי דונה וייס וג'קי דשאנון, האחרונה שבהן הקליטה את השיר באותה השנה עבור אלבומה, New Arrangement. 13  בהקלטה המקורית, השיר בוצע בצורה שונה ואופיין בסוגת הרית'ם אנד בלוז; הוא כלל קטע פסנתר דומיננטי, כמו גם שימוש בגיטרות וכלי נשיפה. 14  עם זאת, רק במרץ 1981, כשקים קארנס הקליטה את גרסתה לשיר בעיבוד שבוסס על סינתיסייזר, זכה \\\"Bette Davis Eyes\\\" להצלחה מסחרית רבה. 5 \\nלדברי המפיק ואל גרי, הדגימה המקורית של המנגינה שהובאה לו נשמעה כמו שיר של ליאון ראסל. את הדגימה היה ניתן לשמוע בריאיון של ואל גרי ששודר בטלוויזיה ב-TAXI בשעה 21:50. 15  את השיר הפיצו בפורמט של תקליט 7 ו-12 אינץ' במרוצת השנים. 16  17 \\nהשחקנית בטי דייוויס הייתה בת 73 כשהגרסה של קים קארנס הפכה ללהיט. היא כתבה מכתבים לקארנס, וייס ודשאנון כדי להודות לשלושתן על שהפכו אותה ל\\\"חלק מהזמן המודרני\\\". לאחר הזכייה בפרס גראמי, דייוויס שלחה להן גם ורדים. 7 \\nאת הווידאו קליפ ביים במאי הקולנוע האוסטרלי ראסל מולקהי . 18 \\nBette Davis Eyes  הוקלט מחדש בשנת 2011, על ידי הזמרת-יוצרת האמריקאית טיילור סוויפט, כחלק מסיבוב ההופעות השני שלה \\\"Speak Now World Tour\\\". גרסתה יצאה לאור ב-21 בנובמבר 2011, בהוצאת חברת התקליטים ביג משין רקורדס. 24  הוא נכתב על ידי דונה וייס וג'קי דשאנון בדומה למקור, אך הופק על ידי סוויפט. 25  הגרסה הרשמית שלו יצאה בפורמטים הדיגיטליים ביחד עם אלבום ההופעה הראשון שלה, Speak Now World Tour – Live, בתאריך שצוין קודם לכן. 26 \\nגרסתה של סוויפט זכה לשבחים ביקורתיים מטעם מבקרי המוזיקה, אך חלקם טענו כי מדובר ב\\\"גרסה תמימה של סוויפט לשיר\\\". 27 \\n\\\"Bette Davis Eyes\\\" זכה לשבחים ביקורתיים מטעם מבקרי המוזיקה. ב-NME פורסמה רשימת \\\"השירים הטובים ביותר של טיילור סוויפט, לפי דירוג\\\", בה דורגה גרסתה של סוויפט במקום ה-123, ונכתב עליה כי: \\\"מדובר בשיר שזכה לפופולריות על ידי הזמרת והכותבת הקליפורנית קים קארנס ב-1981, גרסתה של טיילור ל-\\\"Bette Davis Eyes\\\" נחמדה, אך גם תמימה\\\". 27  ברשימת \\\"158 השירים הטובים ביותר של טיילור סוויפט, לפי דירוג\\\" שפורסמה ב-Paste דורגה הגרסה במקום ה-104, ונכתב עליה ביקורת קצרה גם כן. 28 \\nפרק זמן לצאתה, עלתה הגרסה לרשת הזרמת המדיה ספוטיפיי, תוך שהצליחה לצבור שם למעלה מ-5 מיליון השמעות. 29 \\n\" => \"he\"\n",
       "                                                                                                                                                                                                                                                                                                                                                                                                                                                                                                                                                                                                                                                                                                                                                                                                                                                                                                                                                                                                                                                                                                                                                                                                                                                                                                                                                                                                                                                                                                                                                                                                                                                                                                                                                                                                                                                                                                                                                                                                                                                                                                                                                                                                                                                                                                                                                                                                                                                                                                                                                                                                                                                                                                                                                                                                                                                                                                                                                                                                                                                                                                                                                                                                                                                                                                                                                                                                                                                                                                                                                                                                         \"Canadian Jewish News  הוא עיתון בפורמט של  טבלואיד בשפה האנגלית, המשרת את קהילת יהודי קנדה. מאז שנת 1971 העיתון הוא בבעלות קבוצת מנהיגים יהודים הקשורים לקונגרס יהדות קנדה. המהדורה הלאומית של העיתון מתפרסמת בטורונטו. מהדורה שבועית מתפרסמת מאז 1976 במונטריאול בשפה האנגלית, בתוספת מעט טקסט בצרפתית.\\n\" => \"he\"\n",
       "                                                                                                                                                                                                                                                                                                                                                                                                                                                                                                                                                                                                                                                                                                                                                                                                                                                                                                                                                                                                                                                                                                                                                                                                                                                                                                                                                                                                                                                                                                                                                                                                                                                                                                                                                                                                                                                                                                                                                                                                                                                                                                                                                                                                                                                                                                                                                                                                                                                                                                                                                                              \"In the Wee Small Hours הוא אלבום של הזמר פרנק סינטרה אותו ארגן נלסון רידל, האלבום יצא לאור בשנת 1955. באלבום זה הביא סינטרה את תפיסתו לאלבומי קונספט לדרגה חדשה. באלבום זה הגשים סינטרה באופן מלא את הרעיונות בהם אחז עוד מאלבומו הראשון The Voice of Frank Sinatra משנת 1946. אלבום זה הפך ברבות השנים לאחד מאלבומיו המפורסמים ביותר והמושמעים ביותר.\\nאלבום זה היה לאלבומו הראשון שיצא על אריך נגן בקוטר 30.5 ס\\\"מ, וחשוב יותר הוא הכיל לראשונה שירים שנכתבו והוקלטו במיוחד לאלבום זה, דבר שלא היה נכון במלואו לגבי אלבומיו הקודמים, שהכילו שירים רבים שהוקלטו בעבר על ידי אחרים.\\nהשירים באלבום In the Wee Small Hours היו בלדות שנסובו סביב אווירת הבדידות של שעות הלילה המאוחרות והיסורים על אהבה שאבדה . האלבום נפתח בשיר הנושא העגמומי, שנכתב זמן קצר לפני הקלטתו, ולאחריו מבחר של שירי פופ קלאסי , כל אחד מהם מאורגן באווירה מאופקת ורגועה על ידי הרכב נגנים קטן או כלי מייתר הנותנים אווירה מהורהרת.\\nעטיפת האלבום, נחשבת היום לקלאסיקה, מחזקת את נושא האלבום. העטיפה מציגה את סינטרה המהורהר, על רקע רחוב נטוש ומסתורי בשעת לילה מאוחרת.\\nבשנת 2003 דורג האלבום במקום ה 100 בדרוג 500 האלבומים החשובים ביותר של כל הזמנים על ידי המגזין רולינג סטון. כמו כן מופיע האלבום בספר \\\"1001 אלבומים שאתה חייו לשמוע לפני מותך\\\", שנכתב על יד רוברט דימרי. בשנת 2007 הוא נבחר על ידי טיים מגזין לאחד מ 100 האלבומים של כל הזמנים.\\n\" => \"he\"\n",
       " \"\\\"Iris\\\" הוא שיר אשר בוצע ידי להקת הרוק האלטרנטיבית האמריקנית גו גו דולס. השיר נכתב במקור לפסקול הסרט \\\"עיר של מלאכים\\\" אשר יצא לאקרנים ב-1998. רק לאחר מכן השיר נכלל באלבום השישי של הלהקה, \\\"Dizzy up the Girl\\\". השיר תרם רבות להצלחתה של הלהקה. מלבד הפיכתו לאחד ממרכיבי הרוק האלטרנטיביים הגדולים ביותר בתקופתו, השיר נותר גם אחד מלהיטי הקרוסאובר הגדולים ביותר בתולדות המוזיקה הפופולרית, מגיע למקום הראשון בכל הפורמטים הללו והפך לשיר המושמע ביותר של 1998 בכל הפורמטים.\\nעם שחרורו, השיר היה לשני מבין שרשרת להיטים מפסקול הסרט . השיר הגיע בתחילה למקום ה-66 במצעד ה-100 Airplay Billboard Hot , ובהמשך הוא כיכב בפסגת המצעד Hot 100 Airplay במשך 18 שבועות. השיר הגיע למקום הראשון באוסטרליה, קנדה ואיטליה, מקום שלוש בבריטניה, והפך לאחד הסינגלים הנמכרים ביותר באירלנד בכל הזמנים. \\\"Iris\\\" הוא השיר הידוע ביותר של הלהקה וזכה לשבחי הביקורת.\\nלאחר השלמת העריכה הראשונה בסרט \\\"עיר המלאכים\\\", המפיק המשותף בוב קוואלו ובנו המפיק המוזיקלי רוב קבאלו החליטו לקחת אמנים מוזיקליים על מנת ליצור את הפסקול. בוב לקח את אלניס מוריסט ואילו רוב לקח את Goo Goo Dolls. ג'ון רזניק  הגיש לרוב שיר שכתב בשם \\\"Iris\\\". בראיון שנערך עם Songfacts בשנת 2013 הסביר הזמר רז'ניק כיצד כתב את השיר:\\n\\\"חשבתי על המצב של הדמות של ניקולה קייג 'בסרט. הבחור הזה מוכן לחלוטין לוותר על אלמוות שלו, רק כדי להיות מסוגל להרגיש משהו מאוד אנושי. ואני חושב, 'וואו! איזה דבר מדהים זה חייב להיות לאהוב מישהו כל כך הרבה שאתה מוותר על הכל כדי להיות איתו.' זו מחשבה די כבדה. \\\"\\nרזניק כינה את השיר על שם איריס דמנט , לאחר שהבחין בשמה בהופעה שהופיעה בעיתון LA Weekly.\\nעם צאתו, \\\"Iris\\\" הפך למקום השני במחרוזת הלהיטים מפסקול הסרט. השיר עלה לראשונה במקום 66 במצעד הבילבורד הוט 100 של Airplay ב-18 באפריל 1998, ובסופו של דבר בילה שיא של 18 שבועות במקום הראשון בהוט 100 Airplay. עם זאת, לא הייתה הרשאה להכניסו ב-Billboard Hot 100 מכיוון שלא פורסם סינגל מסחרי. בדצמבר 1998, ממש אחרי שהשידור של השיר הגיע לשיאו, הכללים השתנו כדי לאפשר להעלות שירים בלבד לשידור. כתוצאה מכך השיר הופיע לראשונה והגיע למקום התשע ונשאר במצעד 14 שבועות. במצעד הרוק טראקס של המיינסטרים, \\\"Iris\\\" הגיע לשיא במקום השמיני. השיר היה הלהיט השני במקום הראשון במצעד הרצועות המודרניות, בעקבות להיטם \\\"שם\\\" מ-1995. \\\"Iris\\\" נשאר במקום הראשון במשך חמישה שבועות במצעד השירים האלטרנטיביים והגיע למקום הראשון במצעד 40 הגדולים של המיינסטרים במשך ארבעה שבועות. השיר בילה שיא של 17 שבועות במקום הראשון במצעד 40 הגדולים של בילבורד למבוגרים . Goo Goo dolls ביצעו את \\\"Iris\\\" ב-20 באוקטובר 2001, במדיסון סקוור גארדן, במסגרת הקונצרט לעיר ניו יורק לגיוס כסף לקורבנות התקיפות ב-11 בספטמבר.\\n\\\"Iris\\\" היה גם להיט בינלאומי גדול. השיא הגיע למקום החמישי במצעד הסינגלים האירי ומאז הפך לסינגל ה-19 הנמכר ביותר בכל הזמנים באירלנד. השיר הגיע לראשונה לשיא במקום 50 בבריטניה באוגוסט 1998 לפני שהגיע למקום 26 בשנה שלאחר מכן. ב-2 באוקטובר 2011, לאחר הופעות של אודישנים ב-The X Factor, השיר נכנס שוב למצעד הסינגלים בבריטניה במקום השלישי. בחודש מאי 2013, השיר הוצג במקום ה-12 לאחר שכוסה על ידי מתמודד ה-Got Talent של בריטניה רובי קנדי. במקום אחר הפך השיר ללהיט מספר אחד באיטליה , באוסטרליה  ובקנדה , והוא הגיע לעשירייה הראשונה בפלנדריה והולנד.\\nמלבד הצלחת השיר במצעדים, \\\"Iris\\\" זכתה לשבחי הביקורת. בטקס פרסי הגראמי ה-41 קיבל השיר מועמדויות ל\\\"תקליט השנה\\\" ול\\\"ביצועי פופ של צמד או קבוצה\\\". השיר זיכה גם את ג'וני רז'ניק למועמדות \\\"שיר השנה\\\". הסינגל הועמד על ידי ארגון תעשיית ההקלטות באמריקה לפלטינה מרובעת ב-28 בפברואר 2018. השיר דורג במקום 39 ברשימת רולינג סטון עם 100 שירי הפופ הגדולים ביותר.\\nבאוקטובר 2012 דורג \\\"Iris\\\" במקום הראשון במצעד \\\"100 שירי הפופ המובילים 1992–2012\\\" של בילבורד, שדירג את שירי המעלה הראשונים של 20 השנים הראשונות במצעד המיינסטרים. ברשימה הוצגו גם הלהיטים \\\"Slide\\\" של The Goo Goo Dolls, המדורגים במקום התשע, ו-\\\"Name\\\" במקום 24. The Goo Goo Dolls הם המוזיקאים היחידים שהיו להם שלושה שירים ברשימה, שניים שברו את העשירייה הראשונה ושלשתם דורגו בין 25 הראשונים.\\n\" => \"he\"\n",
       "                                                                                                                                                                                                                                                                                                                                                                                                                                                                                                                                                                                                                                                                                                                                                                                                                                                                                                                                                                                                                                                                                                                                                                                                                                                                                                                                                                                                                                                                                                                                                                                                                                                                                                                                                                                                                                                                                                                                                                                                                                                                                                                                                                                                                                                                                                                                                                                                                                                                                                                                                                                                                                                                   \"Marry Me  הוא שיר שהוקלט על ידי הזמרת האמריקאית ג'ניפר לופז, ביחד עם הזמר הקולומביאני מאלומה מתוך פסקול הסרט, \\\"חתונה בהפתעה\\\" . 3  השיר יצא לאור ב-2 בפברואר 2022, על ידי חברות התקליטים סרטי יוניברסל וסוני מיוזיק לטין, כסינגל השלישי מתוך הפסקול. 3 \\nהשיר הגיע למקום השמיני במצעד הסינגלים של הונגריה. 4 \\nשתי גרסאות שונות של השיר הוקלטו בידי ג'ניפר לופז ומאלומה: גרסת בלדה וגרסה קצבית שסומנה בקרדיטים כ-\\\"Kat & Bastian Duet\\\". 3  גרסת הבלדה נכתבה על ידי מייקל פולק, ניקולס סרזן, אוליביה וית', מאלומה ואדגר באררה והופקה על ידי קים בורס וקווין טיזלי. הגרסה הקצבית הופקה על ידי מייקל פולק, דה מונסטרס & סטריינג'רז וניקולס סרזן וכוללת כתיבה נוספת של סטפן ג'ונסון, ג'ורדן ג'ונסון ואוליבר פטרהוף. 3  שתיהן סומנו כשירי פופ, בשל היותו של הפסקול ככזה הכולל שירים מהסוגה המוזיקלית הזו. 3 \\nבסמוך לצאתו, עלה השיר לרשת הזרמת המדיה ספוטיפיי, תוך שהצליח לצבור שם למעלה מ-8.5 מיליון השמעות. 5 \\nהווידאו קליפ הרשמי של גרסת הבלדה לשיר פורסם ב-11 במרץ 2022 וכולל הופעת אורח של בן אפלק. 6  הקליפ הרשמי של הגרסה הקצבית לשיר פורסם ב-18 במרץ 2021 בפייסבוק בלבד, במטרה לעזור בקידום המסחרי של הסרט, הפסקול והשיר במדיה החברתית, פרט ליוטיוב . 7  8 \\nנכון לאפריל 2022, מונה הצפיות של הקליפ עומד על למעלה מ-2.2 מיליון צפיות. 8 \\n\" => \"he\"\n",
       "                                                                                                                                                                                                                                                                                                                                                                                                                                                                                                                                                                                                                                                                                                                                                                                                                                                                                                                                                                                                                                                                                                                                                                                                                                                                                                                                                                                                                                                                                                                                                                                                                                                                                                                                                                                                                                                                                                                                                                                                                                                                                                                                                                                                                                                                                                                                                                                                                                                                                                                                                                                                                                                                                                                                                                                                                                                                                                                                      \"Monster  הוא שיר של הזמרת-יוצרת האמריקאית ליידי גאגא, מתוך המיני-אלבום השלישי שלה, The Fame Monster. 1  השיר יצא לאור ב-18 בנובמבר 2009, ביחד עם צאתו של המיני-אלבום. 1  השיר הוא שיר הנושא של המיני-אלבום. 1 \\nהשיר הגיע אל המקום השישי במצעד השירים שבהונגריה. 2 \\nהשיר נכתב על ידי ליידי גאגא, רד וואן וספייס קובוי, הולחן על ידי גאגא והופק על ידי גאגא ורד וואן גם כן. 1  השיר כשמו, מדבר על מפלצת  שגורמת לגאגא להתנהל ולהתקיים בצורה מסוימת, תוך שיש בו אזכור ללהיטה \\\"Just Dance\\\", שיצא בשנת 2008. 1 \\nכמה שנים לאחר צאתו, עלה השיר לרשת הזרמת המדיה ספוטיפיי, תוך שהצליח לצבור שם למעלה מ-42 מיליון השמעות. 3 \\nבמצעדים זכה השיר להצלחה רבה למרות שלא יצא כסינגל, תוך שנכנס למקום השישי במצעד השירים שבהונגריה. 2  במצעד המוזיקה האוסטרלי התברג במקום ה-80, 4  במצעד הסינגלים הבריטי התברג במקום ה-68, 5  ובמצעד השירים מתחת להוט 100 התברג במקום ה-12. 6 \\nאיגוד תעשיית ההקלטות האמריקאי העניק לשיר את תואר הזהב, על מכירות של למעלה מ-500,000 עותקים במדינה. 7 \\n\" => \"he\"\n",
       "                                                                                                                                                                                                                                                                                                                                                                                                                                                                                                                                                                                                                                                                                                                                                                                                                                                                                                                                                                                                                                                                                                                                                                                                                                                                                                                                                                                                                                                                                                                                                                                                                                                                                                                                                                                                                                                                                                                                                                                                                                                                                                                                                                                                                                                                                                                                                                                                                                                                                                                                                                                                                                                                                                                                                                                                                                                                                                                                                                                                                                                                                                                                                                                                                                               \"No Candle No Light הוא סינגל שהוקלט על ידי הזמר-יוצר האנגלי זאין, בשיתוף הראפרית הטרינידדית ניקי מינאז', מתוך אלבום האולפן השני שלו, Icarus Falls. השיר יצא לאור ב-15 בנובמבר 2018, על ידי חברת התקליטים תקליטי RCA, כסינגל השישי מהאלבום. 3 \\nהשיר נכתב על ידי זאין מאליק, ניקי מינאז', בריטני קוני, בלו ג'ון, קתרין אוסטנברג, בריאן לי, טי ג'יי רוטון וטושאר אפטה, והופק על ידי טושאר אפטה, סוייר ובריאן לי. השיר מכיל בתוכו את סגנונות ההאוס הטרופי, ה-EDM והפופ. 4 \\nבסמוך לצאתו, עלה השיר לרשת הזרמת המדיה ספוטיפיי, תוך שהצליח לצבור למעלה מ-36 מיליון השמעות. 5 \\nכלפי השיר הופנו ביקורות מעורבות וחיוביות  כאחד, מטעם אתרי מוזיקה ומגזינים שונים. 4  6  7 \\n\" => \"he\"\n",
       "                                                                                                                                                                                                                                                                                                                                                                                                                                                                                                                                                                                                                                                                                                                                                                                                                                                                                                                                                                                                                                                                                                                                                                                                                                                                                                                                                                                                                                                                                                                                                                                                                                                                                                                                                                                                                                                                                                                                                                                                                                                                                                                                                                                                                                                                                                                                                                                                                                                                                                                                                                                                                                                                                                                                                                                                                                                                                                                                                                                                                                                                                                                                                                                                                                                                                                                                                     \"S-Band  היא הגדרה של המכון למהנדסי חשמל ואלקטרוניקה  עבור חלק תחום תדרי המיקרוגל בספקטרום האלקטרומגנטי המכסה את התדרים 2–4 ג'יגה הרץ . לפי הגדרה זו, הרצועה למעשה חוצה את הגבול המקובל בין הרצועות UHF ו-SHF ב-3.0 GHz. \\nרצועת S משמשת מכ\\\"ם פיקוח על שדה תעופה לבקרת תעבורה אווירית, מכ\\\"ם מזג אוויר, מכ\\\"ם של ספינות וכן כמה לווייני תקשורת, במיוחד כאלה המשמשים את נאס\\\"א לתקשורת עם תחנת החלל הבינלאומית. הפס הקצר, בן ה-10 ס\\\"מ של מכ\\\"ם נע בערך בין 1.55 ל־5.2 GHz. \\nההגדרה S-Band מכילה גם את 2.4–2.483 GHz שהם תדרים ללא רישוי, בשימוש נרחב, למשל:\\n\" => \"he\"\n",
       "                                                                                                                                                                                                                                                                                                                                                                                                                                                                                                                                                                                                                                                                                                                                                                                                                                                                                                                                                                                                                                                                                                                                                                                                                                                                                                                                                                                                                                                                                                                                                                                                                                                                                                                                                                                                                                                                                                                                                                                                                                                                                                                                                                                                                                                                                                                                                                                                                                                                                                                                                                                                                                                                                                                                                                                                                                                                                                                                                                                                                                                                                                                                    \"That's How You Know  הוא שיר שהוקלט על ידי הצמד הנורווגי ניקו & וינז, ביחד עם הראפר האמריקאי קיד אינק והזמרת-יוצרת האמריקאית ביבי רקסה, מתוך האלבום, Cornerstone. 2  השיר יצא לאור ב-17 ביולי 2015, על ידי חברת התקליטים האחים וורנר, כסינגל מתוך האלבום. 2  במקור, הופץ השיר ללא אינק ורקסה. 3 \\nהשיר הגיע למקום ה-33 במצעד השירים הקצביים. 4 \\nהשיר נכתב על ידי ג'וליה מייקלס, וינסנט דרי, בריאן קולינס וניקולאי סרבה והופק על ידי וורן \\\"אואק\\\" פלדר. 5  הקליפ הרשמי של השיר הופץ ב-1 בספטמבר 2015 באורך כולל של 4 דקות ו-4 שניות. 6  את הקליפ ביימו אר ג'יי קולינס ופסקאל גוטיירז. 6  הקליפ כולל מסיבת בית, בה כל ארבעת האמנים שרים תוך שישנם רקדנים ליווי מסביבם. 6 \\nבסמוך לצאתו, עלה השיר לרשת הזרמת המדיה ספוטיפיי, תוך שהצליח לצבור שם למעלה מ-150 מיליון השמעות. 2 \\n\" => \"he\""
      ]
     },
     "metadata": {},
     "output_type": "display_data"
    }
   ],
   "source": [
    "WV = WikiDataSet(\"corpus/wikipedia/test\", langs=WLANGS)\n",
    "# TV = TatoebaDataset(\"corpus/tatoeba\", \"tatoeba_test.txt\", langs=TLANGS)"
   ]
  },
  {
   "cell_type": "code",
   "execution_count": null,
   "metadata": {},
   "outputs": [],
   "source": [
    "# import Pkg; Pkg.add([\"LanguageFinder\", \"LanguageDetect\", \"Languages\"])"
   ]
  },
  {
   "cell_type": "code",
   "execution_count": 3,
   "metadata": {},
   "outputs": [
    {
     "data": {
      "text/plain": [
       "LogLevel(1)"
      ]
     },
     "metadata": {},
     "output_type": "display_data"
    }
   ],
   "source": [
    "# import LanguageFinder: LanguageFind\n",
    "# detector_lf(t) = LanguageFind(t, 0).lang\n",
    "import LanguageDetect: detect\n",
    "detector_ld(t) = first(detect(t)).language\n",
    "import Languages: LanguageDetector, isocode\n",
    "Languages_detector = LanguageDetector()\n",
    "function detector_ls(t)\n",
    "    l = Languages_detector(t) |> first\n",
    "    if l == nothing\n",
    "        return \"\"\n",
    "    else\n",
    "     return l |> isocode\n",
    "    end\n",
    "end\n",
    "using Logging\n",
    "Logging.disable_logging(Logging.Info)"
   ]
  },
  {
   "cell_type": "markdown",
   "metadata": {},
   "source": [
    "## tatoeba"
   ]
  },
  {
   "cell_type": "code",
   "execution_count": 20,
   "metadata": {},
   "outputs": [
    {
     "name": "stdout",
     "output_type": "stream",
     "text": [
      "Error: detector_ls(\"w!\")\n"
     ]
    },
    {
     "name": "stdout",
     "output_type": "stream",
     "text": [
      "Error: detector_ls(\"Muiriel은 지금 20살입니다.\")\n",
      "Error: detector_ls(\"비밀번호는 \\\"Muiriel\\\" 입니다.\")\n",
      "Error: detector_ls(\"1, 3 그리고 5는 홀수이다.\")\n",
      "Error: detector_ls(\"Muiriel은 지금 20살이야.\")\n",
      "Error: detector_ls(\"냠!\")\n",
      "Error: detector_ls(\"응.\")\n"
     ]
    },
    {
     "name": "stdout",
     "output_type": "stream",
     "text": [
      "Error: detector_ls(\"Se alkaa 6:30.\")\n"
     ]
    },
    {
     "name": "stdout",
     "output_type": "stream",
     "text": [
      "Error: detector_ls(\"Hän syntyi 28.7.1888.\")\n"
     ]
    },
    {
     "name": "stdout",
     "output_type": "stream",
     "text": [
      "Error: detector_ls(\"Öö...\")\n",
      "Error: detector_ls(\"Yäk!\")\n"
     ]
    },
    {
     "name": "stdout",
     "output_type": "stream",
     "text": [
      "Error: detector_ls(\"Heippa, 2017!\")\n"
     ]
    },
    {
     "name": "stdout",
     "output_type": "stream",
     "text": [
      "Error: detector_ls(\"Ɛreḍ!\")\n"
     ]
    },
    {
     "name": "stdout",
     "output_type": "stream",
     "text": [
      "Error: detector_ls(\"Aẓ-d.\")\n"
     ]
    },
    {
     "name": "stdout",
     "output_type": "stream",
     "text": [
      "Error: detector_ls(\"Ečč mliḥ!\")\n"
     ]
    },
    {
     "name": "stdout",
     "output_type": "stream",
     "text": [
      "Error: detector_ls(\"Ccḍeɣ.\")\n"
     ]
    },
    {
     "name": "stdout",
     "output_type": "stream",
     "text": [
      "Error: detector_ls(\"Ass n 28 Number 2020: 9455, 02:39, tura hah!\")\n"
     ]
    },
    {
     "name": "stdout",
     "output_type": "stream",
     "text": [
      "Error: detector_ls(\"Twehmeḍ?\")\n"
     ]
    },
    {
     "name": "stdout",
     "output_type": "stream",
     "text": [
      "Error: detector_ls(\"Qleε!\")\n"
     ]
    },
    {
     "name": "stdout",
     "output_type": "stream",
     "text": [
      "Error: detector_ls(\"Tɛezmeḍ-d.\")\n",
      "Error: detector_ls(\"Tɛeṭṭleḍ mliḥ.\")\n"
     ]
    },
    {
     "name": "stdout",
     "output_type": "stream",
     "text": [
      "Error: detector_ls(\"Rǧiɣ.\")\n"
     ]
    },
    {
     "name": "stdout",
     "output_type": "stream",
     "text": [
      "Error: detector_ls(\"Ẓeɛḍeɣ.\")\n"
     ]
    },
    {
     "name": "stdout",
     "output_type": "stream",
     "text": [
      "Error: detector_ls(\"Ttuɣ-t.\")\n",
      "Error: detector_ls(\"Aṛẓaẓ\")\n"
     ]
    },
    {
     "name": "stdout",
     "output_type": "stream",
     "text": [
      "Error: detector_ls(\"Tcuff.\")\n"
     ]
    },
    {
     "name": "stdout",
     "output_type": "stream",
     "text": [
      "Error: detector_ls(\"Txezreḍ-t.\")\n"
     ]
    },
    {
     "name": "stdout",
     "output_type": "stream",
     "text": [
      "Error: detector_ls(\"Ṛjiɣ.\")\n"
     ]
    },
    {
     "name": "stdout",
     "output_type": "stream",
     "text": [
      "Error: detector_ls(\"Tgiḍ-t.\")\n"
     ]
    },
    {
     "name": "stdout",
     "output_type": "stream",
     "text": [
      "Error: detector_ls(\"Tferḥeḍ.\")\n",
      "Error: detector_ls(\"Nqeb.\")\n"
     ]
    },
    {
     "name": "stdout",
     "output_type": "stream",
     "text": [
      "Error: detector_ls(\"Iḥu, iḥu!\")\n"
     ]
    },
    {
     "name": "stdout",
     "output_type": "stream",
     "text": [
      "Error: detector_ls(\"Ужо 7.\")\n"
     ]
    },
    {
     "name": "stdout",
     "output_type": "stream",
     "text": [
      "Error: detector_ls(\"Цсс!\")\n"
     ]
    },
    {
     "name": "stdout",
     "output_type": "stream",
     "text": [
      "Error: detector_ls(\"A 12:45?\")\n"
     ]
    },
    {
     "name": "stdout",
     "output_type": "stream",
     "text": [
      "Error: detector_ls(\"Тише!\")\n",
      "Error: detector_ls(\"Брзо!\")\n",
      "Error: detector_ls(\"Хоћеш?\")\n",
      "Error: detector_ls(\"Гледај, гледај!\")\n"
     ]
    },
    {
     "name": "stdout",
     "output_type": "stream",
     "text": [
      "Error: detector_ls(\"Hysj!\")\n"
     ]
    },
    {
     "name": "stdout",
     "output_type": "stream",
     "text": [
      "Error: detector_ls(\"הרגע!\")\n",
      "Error: detector_ls(\"שתקי!\")\n",
      "Error: detector_ls(\"עדיף שתלך.\")\n"
     ]
    },
    {
     "name": "stdout",
     "output_type": "stream",
     "text": [
      "Error: detector_ls(\"אני בן 19.\")\n",
      "Error: detector_ls(\"מוסכם.\")\n",
      "Error: detector_ls(\"איך את מבטאת \\\"pronounce\\\"?\")\n",
      "Error: detector_ls(\"התיבה ריקה.\")\n"
     ]
    },
    {
     "name": "stdout",
     "output_type": "stream",
     "text": [
      "Error: detector_ls(\"הצגה יפה!\")\n",
      "Error: detector_ls(\"מוטב לך ללכת.\")\n"
     ]
    },
    {
     "name": "stdout",
     "output_type": "stream",
     "text": [
      "Error: detector_ls(\"תלבושת יפה!\")\n",
      "Error: detector_ls(\"זה דבר טוב מאד.\")\n",
      "Error: detector_ls(\"מה חדש אצלך?\")\n",
      "Error: detector_ls(\"פשוט תשתחרר.\")\n"
     ]
    },
    {
     "name": "stdout",
     "output_type": "stream",
     "text": [
      "Error: detector_ls(\"מהי טטואבה?\")\n",
      "Error: detector_ls(\"הקוף ברח.\")\n",
      "Error: detector_ls(\"ד\\\"ש לגברת.\")\n",
      "Error: detector_ls(\"אבקש ספל קפה.\")\n",
      "Error: detector_ls(\"צא מכאן.\")\n"
     ]
    },
    {
     "name": "stdout",
     "output_type": "stream",
     "text": [
      "Error: detector_ls(\"זה קר כקרח.\")\n",
      "Error: detector_ls(\"כבר סיימת?\")\n",
      "Error: detector_ls(\"מת?\")\n",
      "Error: detector_ls(\"תיזכרו!\")\n"
     ]
    },
    {
     "name": "stdout",
     "output_type": "stream",
     "text": [
      "Error: detector_ls(\"זה חתול?\")\n",
      "Error: detector_ls(\"תסתפר.\")\n"
     ]
    },
    {
     "name": "stdout",
     "output_type": "stream",
     "text": [
      "Error: detector_ls(\"הסיסמה - \\\"Muiriel\\\".\")\n",
      "Error: detector_ls(\"יש לך בלוג?\")\n",
      "Error: detector_ls(\"השגריר חזר.\")\n",
      "Error: detector_ls(\"כמה זה גדול?\")\n"
     ]
    },
    {
     "name": "stdout",
     "output_type": "stream",
     "text": [
      "Error: detector_ls(\"עוף מפה!\")\n",
      "Error: detector_ls(\"זה צלב בצבע זהב, פשוט יפה.\")\n",
      "Error: detector_ls(\"תפוֹס!\")\n"
     ]
    },
    {
     "name": "stdout",
     "output_type": "stream",
     "text": [
      "Error: detector_ls(\"מוסכם!\")\n",
      "Error: detector_ls(\"כמה חם!\")\n"
     ]
    },
    {
     "name": "stdout",
     "output_type": "stream",
     "text": [
      "Error: detector_ls(\"יש מכשול נוסף.\")\n",
      "Error: detector_ls(\"מוטב שתסתלקו מפה.\")\n",
      "Error: detector_ls(\"עדיף שתצא מפה.\")\n",
      "Error: detector_ls(\"התנהג כגבר.\")\n",
      "Error: detector_ls(\"הביטו, נחש!\")\n"
     ]
    },
    {
     "name": "stdout",
     "output_type": "stream",
     "text": [
      "Error: detector_ls(\"שב פה.\")\n",
      "Error: detector_ls(\"תזדהו.\")\n",
      "Error: detector_ls(\"השארו קצת.\")\n",
      "Error: detector_ls(\"זה נשרף.\")\n",
      "Error: detector_ls(\"לך לשבת.\")\n",
      "Error: detector_ls(\"זה נחוץ.\")\n",
      "Error: detector_ls(\"כתוב תשובה.\")\n",
      "Error: detector_ls(\"מה גובהו?\")\n",
      "Error: detector_ls(\"הצמד לזה!\")\n",
      "Error: detector_ls(\"זה תקציר.\")\n",
      "Error: detector_ls(\"זה נראה סביר.\")\n"
     ]
    },
    {
     "name": "stdout",
     "output_type": "stream",
     "text": [
      "Error: detector_ls(\"הבנק הלווה לחברה \\$1,000,000.\")\n"
     ]
    },
    {
     "name": "stdout",
     "output_type": "stream",
     "text": [
      "Error: detector_ls(\"סבי קצת חרש.\")\n",
      "Error: detector_ls(\"נחת?\")\n",
      "Error: detector_ls(\"זה נראה קרוב.\")\n"
     ]
    },
    {
     "name": "stdout",
     "output_type": "stream",
     "text": [
      "Error: detector_ls(\"תרפו מהנשק!\")\n",
      "Error: detector_ls(\"פשוט שכב בלי תזוזה.\")\n",
      "Error: detector_ls(\"רק תשאר שם.\")\n",
      "Error: detector_ls(\"גש לשם.\")\n",
      "Error: detector_ls(\"אפסיד.\")\n",
      "Error: detector_ls(\"כמה זה יקר?\")\n",
      "Error: detector_ls(\"תום מת ב-2009.\")\n",
      "Error: detector_ls(\"חבל כשמישהו מת.\")\n",
      "Error: detector_ls(\"\\\"בן כמה אתה?\\\" \\\"בן 16\\\".\")\n"
     ]
    },
    {
     "name": "stdout",
     "output_type": "stream",
     "text": [
      "Error: detector_ls(\"תמיד פתוח.\")\n",
      "Error: detector_ls(\"הִרגע.\")\n",
      "Error: detector_ls(\"מסכימה.\")\n",
      "Error: detector_ls(\"תפסיקו!\")\n",
      "Error: detector_ls(\"תלכו מפה!\")\n",
      "Error: detector_ls(\"תעזבי!\")\n",
      "Error: detector_ls(\"תום עוזב ב-2:30.\")\n",
      "Error: detector_ls(\"רואה?\")\n"
     ]
    },
    {
     "name": "stdout",
     "output_type": "stream",
     "text": [
      "Error: detector_ls(\"أحبك.\")\n",
      "Error: detector_ls(\"اخرج!\")\n",
      "Error: detector_ls(\"كم ثمنها؟\")\n",
      "Error: detector_ls(\"بيتك يحتاج لإصلاح.\")\n",
      "Error: detector_ls(\"أحتاج نصيحتك.\")\n",
      "Error: detector_ls(\"أخذتَ مفتاحًا خطأً.\")\n",
      "Error: detector_ls(\"كفى.\")\n",
      "Error: detector_ls(\"عُد قريبًا.\")\n"
     ]
    },
    {
     "name": "stdout",
     "output_type": "stream",
     "text": [
      "Error: detector_ls(\"هناك إضراب.\")\n",
      "Error: detector_ls(\"هل سوف نلتقي غداً؟\")\n",
      "Error: detector_ls(\"كيفَ سيدفع ديونهُ؟\")\n",
      "Error: detector_ls(\"دمك أحمر.\")\n",
      "Error: detector_ls(\"أُدخُلْ.\")\n",
      "Error: detector_ls(\"لم نَنْسَ\")\n",
      "Error: detector_ls(\"أضعت رقم هاتفك.\")\n",
      "Error: detector_ls(\"هيا\")\n"
     ]
    },
    {
     "name": "stdout",
     "output_type": "stream",
     "text": [
      "Error: detector_ls(\"صف سيارتك حيث ترغب.\")\n",
      "Error: detector_ls(\"أحترم آراءكم.\")\n",
      "Error: detector_ls(\"لنسرع.\")\n",
      "Error: detector_ls(\"أظن.\")\n",
      "Error: detector_ls(\"يبدو ذاك كسامي.\")\n",
      "Error: detector_ls(\"لقد غضبوا.\")\n"
     ]
    },
    {
     "name": "stdout",
     "output_type": "stream",
     "text": [
      "Error: detector_ls(\"تشبّث.\")\n",
      "Error: detector_ls(\"زغردي.\")\n",
      "Error: detector_ls(\"سأذاكر.\")\n",
      "Error: detector_ls(\"لم نختبئ؟\")\n",
      "Error: detector_ls(\"هل نسيت شيئا؟\")\n",
      "Error: detector_ls(\"أحب قطتك.\")\n",
      "Error: detector_ls(\"اخفضي رأسك!\")\n",
      "Error: detector_ls(\"هَلْ يَرْتَدُّ أَحَدٌ مِنْهُمْ سَخْطَةً لِدِينِهِ بَعْدَ أَنْ يَدْخُلَ فِيهِ ؟\")\n",
      "Error: detector_ls(\"ارتخى زيري.\")\n",
      "Error: detector_ls(\"وعد زيري.\")\n",
      "Error: detector_ls(\"ابتسم زيري.\")\n",
      "Error: detector_ls(\"وقف زيري.\")\n",
      "Error: detector_ls(\"تقاعد زيري.\")\n",
      "Error: detector_ls(\"نزل زيري.\")\n",
      "Error: detector_ls(\"ادرسي\")\n",
      "Error: detector_ls(\"\\u202cأَنْذَرَهُ\\u202e \\u202cبتَسْلِيمِ\\u202e \\u202cمَنْزِلِهِ.\")\n",
      "Error: detector_ls(\"هو يثق بي.\")\n",
      "Error: detector_ls(\"هل لديك شك.\")\n",
      "Error: detector_ls(\"اختطف زيري.\")\n",
      "Error: detector_ls(\"إضرب!\")\n",
      "Error: detector_ls(\"لدي رقم هاتفه.\")\n"
     ]
    },
    {
     "name": "stdout",
     "output_type": "stream",
     "text": [
      "Error: detector_ls(\"صححوه.\")\n",
      "Error: detector_ls(\"لنعُد !\")\n",
      "Error: detector_ls(\"أعرفكم.\")\n",
      "Error: detector_ls(\"زيري طباخ.\")\n",
      "Error: detector_ls(\"لقد ذهب زيري.\")\n",
      "Error: detector_ls(\"كيف فزت؟\")\n",
      "Error: detector_ls(\"تغطى.\")\n",
      "Error: detector_ls(\"هو ذهب.\")\n",
      "Error: detector_ls(\"سيتبعكم.\")\n",
      "Error: detector_ls(\"جف شعره.\")\n",
      "Error: detector_ls(\"نظر.\")\n",
      "Error: detector_ls(\"صححه.\")\n",
      "Error: detector_ls(\"ضربوه.\")\n",
      "Error: detector_ls(\"قلوه.\")\n",
      "Error: detector_ls(\"قطعوه.\")\n",
      "Error: detector_ls(\"غطوه.\")\n",
      "Error: detector_ls(\"أغرقوه.\")\n",
      "Error: detector_ls(\"هل كسرته؟\")\n",
      "Error: detector_ls(\"لقد غلبه.\")\n",
      "Error: detector_ls(\"هل أعجبوه؟\")\n",
      "Error: detector_ls(\"سأتذوقه.\")\n",
      "Error: detector_ls(\"ستخنقه.\")\n",
      "Error: detector_ls(\"جدوه.\")\n"
     ]
    },
    {
     "name": "stdout",
     "output_type": "stream",
     "text": [
      "Error: detector_ls(\"سيغلبهن.\")\n",
      "Error: detector_ls(\"سبقتك.\")\n",
      "Error: detector_ls(\"هل يحبونك؟\")\n",
      "Error: detector_ls(\"هل يخيفونك؟\")\n",
      "Error: detector_ls(\"سأحاكمك.\")\n",
      "Error: detector_ls(\"سيمسكك.\")\n",
      "Error: detector_ls(\"سيحمينك.\")\n",
      "Error: detector_ls(\"ستتبعك.\")\n",
      "Error: detector_ls(\"سيحرسونك.\")\n",
      "Error: detector_ls(\"ستسعدك.\")\n",
      "Error: detector_ls(\"أحدثت ضجّة.\")\n",
      "Error: detector_ls(\"هل لديك هاتف؟\")\n",
      "Error: detector_ls(\"هل لديك مكتبة؟\")\n",
      "Error: detector_ls(\"كتبت.\")\n",
      "Error: detector_ls(\"هل كتبن رسالة؟\")\n",
      "Error: detector_ls(\"بلدي.\")\n",
      "Error: detector_ls(\"لن نتزوّج.\")\n",
      "Error: detector_ls(\"يحتاجك رضيعك.\")\n",
      "Error: detector_ls(\"فقدت رقمه.\")\n",
      "Error: detector_ls(\"هل لديك رقمه؟\")\n",
      "Error: detector_ls(\"مفاجأة!\")\n",
      "Error: detector_ls(\"هل أحتاج لسوار؟\")\n",
      "Error: detector_ls(\"هل نحتاج مذراة؟\")\n",
      "Error: detector_ls(\"عطشت.\")\n"
     ]
    },
    {
     "name": "stdout",
     "output_type": "stream",
     "text": [
      "Error: detector_ls(\"پدرم دکتره!\")\n",
      "Error: detector_ls(\"جداً؟\")\n"
     ]
    },
    {
     "name": "stdout",
     "output_type": "stream",
     "text": [
      "Error: detector_ls(\"حس ششمت چیست؟\")\n"
     ]
    },
    {
     "name": "stdout",
     "output_type": "stream",
     "text": [
      "Error: detector_ls(\"बदतमीज़!\")\n",
      "Error: detector_ls(\"हाँ, चलो।\")\n",
      "Error: detector_ls(\"नासमझ!\")\n",
      "Error: detector_ls(\"ओफ़ फ़ो.\")\n",
      "Error: detector_ls(\"छोड़ो!\")\n",
      "Error: detector_ls(\"५० येन।\")\n",
      "Error: detector_ls(\"वहाँ बैठ।\")\n",
      "Error: detector_ls(\"वहाँ बैठिए।\")\n"
     ]
    },
    {
     "name": "stdout",
     "output_type": "stream",
     "text": [
      "Error: detector_ls(\"ज़रूर।\")\n",
      "Error: detector_ls(\"बहुत !\")\n",
      "Error: detector_ls(\"मुस्कुराओ!\")\n"
     ]
    },
    {
     "name": "stdout",
     "output_type": "stream",
     "text": [
      "Error: detector_ls(\"Филма има ли го в YouTube?\")\n"
     ]
    },
    {
     "name": "stdout",
     "output_type": "stream",
     "text": [
      "Error: detector_ls(\"ते घर जळतंय.\")\n",
      "Error: detector_ls(\"एस्पेरांतोमध्ये २८ अक्षरं आहेत: a, b, c, ĉ, d, e, f, g, ĝ, h, ĥ, i, j, ĵ, k, l, m, n, o, p, r, s, ŝ, t, u, ŭ, v, z.\")\n"
     ]
    },
    {
     "name": "stdout",
     "output_type": "stream",
     "text": [
      "Error: detector_ls(\"बघू...\")\n",
      "Error: detector_ls(\"ठेव.\")\n"
     ]
    },
    {
     "name": "stdout",
     "output_type": "stream",
     "text": [
      "Error: detector_ls(\"लढू.\")\n",
      "Error: detector_ls(\"तू फ्रेंच बोलतेस, बरोबर?\")\n"
     ]
    },
    {
     "name": "stdout",
     "output_type": "stream",
     "text": [
      "Error: detector_ls(\"\\\"http://example.org/\\\" हे एक यू.आर.एल. आहे.\")\n",
      "Error: detector_ls(\"औषध घे.\")\n",
      "Error: detector_ls(\"छतावर चढा.\")\n",
      "Error: detector_ls(\"तुझं तोंड उघड!\")\n"
     ]
    },
    {
     "name": "stdout",
     "output_type": "stream",
     "text": [
      "Error: detector_ls(\"टॉम गाईल.\")\n",
      "Error: detector_ls(\"बसा.\")\n",
      "Error: detector_ls(\"उड.\")\n",
      "Error: detector_ls(\"चढा!\")\n"
     ]
    },
    {
     "name": "stdout",
     "output_type": "stream",
     "text": [
      "Error: detector_ls(\"शेंबुड पुस.\")\n",
      "Error: detector_ls(\"नीट बघा.\")\n"
     ]
    },
    {
     "name": "stdout",
     "output_type": "stream",
     "text": [
      "Error: detector_ls(\"बरं!\")\n",
      "Error: detector_ls(\"खरच ते!\")\n",
      "Error: detector_ls(\"ऐका...\")\n",
      "Error: detector_ls(\"झोपा!\")\n"
     ]
    },
    {
     "name": "stdout",
     "output_type": "stream",
     "text": [
      "Error: detector_ls(\"चल.\")\n",
      "Error: detector_ls(\"तू येतोस.\")\n"
     ]
    },
    {
     "name": "stdout",
     "output_type": "stream",
     "text": [
      "Error: detector_ls(\"Nací en 1979.\")\n"
     ]
    },
    {
     "name": "stdout",
     "output_type": "stream",
     "text": [
      "Error: detector_ls(\"Nací en 1982.\")\n"
     ]
    },
    {
     "name": "stdout",
     "output_type": "stream",
     "text": [
      "Error: detector_ls(\"\\\"¿Yo?\\\" \\\"¡Sí, vos!\\\"\")\n"
     ]
    },
    {
     "name": "stdout",
     "output_type": "stream",
     "text": [
      "Error: detector_ls(\"Nací en 1980.\")\n"
     ]
    },
    {
     "name": "stdout",
     "output_type": "stream",
     "text": [
      "Error: detector_ls(\"Den är 9.15.\")\n"
     ]
    },
    {
     "name": "stdout",
     "output_type": "stream",
     "text": [
      "Error: detector_ls(\"Rövhål!\")\n"
     ]
    },
    {
     "name": "stdout",
     "output_type": "stream",
     "text": [
      "Error: detector_ls(\"J'ai 24 ans.\")\n"
     ]
    },
    {
     "name": "stdout",
     "output_type": "stream",
     "text": [
      "Error: detector_ls(\"Bonne année 2022/2972 !\")\n"
     ]
    },
    {
     "name": "stdout",
     "output_type": "stream",
     "text": [
      "Error: detector_ls(\"On ferme à 2 h 30.\")\n"
     ]
    },
    {
     "name": "stdout",
     "output_type": "stream",
     "text": [
      "Error: detector_ls(\"Jövök.\")\n"
     ]
    },
    {
     "name": "stdout",
     "output_type": "stream",
     "text": [
      "Error: detector_ls(\"Túloztál.\")\n"
     ]
    },
    {
     "name": "stdout",
     "output_type": "stream",
     "text": [
      "Error: detector_ls(\"Jószívű.\")\n"
     ]
    },
    {
     "name": "stdout",
     "output_type": "stream",
     "text": [
      "Error: detector_ls(\"Örülök.\")\n"
     ]
    },
    {
     "name": "stdout",
     "output_type": "stream",
     "text": [
      "Error: detector_ls(\"Örüljünk!\")\n"
     ]
    },
    {
     "name": "stdout",
     "output_type": "stream",
     "text": [
      "Error: detector_ls(\"A latin nyelv 23 betűt használ: a, b, c, d, e, f, g, h, i, k, l, m, n, o, p, q, r, s, t, u, x,y, z.\")\n",
      "Error: detector_ls(\"A francia ábécében huszonhat betű van: a, b, c, d, e, f, g, h, i, j, k, l, m, n, o, p, q, r, s, t, u, v, w, x, y, z.\")\n"
     ]
    },
    {
     "name": "stdout",
     "output_type": "stream",
     "text": [
      "Error: detector_ls(\"- Ez őz? - Az.\")\n"
     ]
    },
    {
     "name": "stdout",
     "output_type": "stream",
     "text": [
      "Error: detector_ls(\"Bögyös.\")\n"
     ]
    },
    {
     "name": "stdout",
     "output_type": "stream",
     "text": [
      "Error: detector_ls(\"Hétfő jó?\")\n"
     ]
    },
    {
     "name": "stdout",
     "output_type": "stream",
     "text": [
      "Error: detector_ls(\"\\\"Age?\\\" \\\"16.\\\"\")\n"
     ]
    },
    {
     "name": "stdout",
     "output_type": "stream",
     "text": [
      "Error: detector_ls(\"So is it 19 or is it 20?\")\n"
     ]
    },
    {
     "name": "stdout",
     "output_type": "stream",
     "text": [
      "Error: detector_ls(\"If a = b and b = c, then a = c.\")\n"
     ]
    },
    {
     "name": "stdout",
     "output_type": "stream",
     "text": [
      "Error: detector_ls(\"3 plus 5 is 8.\")\n"
     ]
    },
    {
     "name": "stdout",
     "output_type": "stream",
     "text": [
      "Error: detector_ls(\"He came at 2:30.\")\n",
      "Error: detector_ls(\"He died at 2:30.\")\n"
     ]
    },
    {
     "name": "stdout",
     "output_type": "stream",
     "text": [
      "Error: detector_ls(\"It's 8.00 p.m.\")\n"
     ]
    },
    {
     "name": "stdout",
     "output_type": "stream",
     "text": [
      "Error: detector_ls(\"I get up at 7.00.\")\n"
     ]
    },
    {
     "name": "stdout",
     "output_type": "stream",
     "text": [
      "Error: detector_ls(\"ببوورە...\")\n",
      "Error: detector_ls(\"پارە نییە.\")\n",
      "Error: detector_ls(\"ژمارە\")\n",
      "Error: detector_ls(\"بێزارم لێت.\")\n"
     ]
    },
    {
     "name": "stdout",
     "output_type": "stream",
     "text": [
      "Error: detector_ls(\"تۆ قۆشمەی.\")\n",
      "Error: detector_ls(\"نەبەزم.\")\n"
     ]
    },
    {
     "name": "stdout",
     "output_type": "stream",
     "text": [
      "Error: detector_ls(\"Hier sind 10,00 \\$.\")\n"
     ]
    },
    {
     "name": "stdout",
     "output_type": "stream",
     "text": [
      "Error: detector_ls(\"Hmm...\")\n"
     ]
    },
    {
     "name": "stdout",
     "output_type": "stream",
     "text": [
      "Error: detector_ls(\"Tenho 1,83m.\")\n"
     ]
    },
    {
     "name": "stdout",
     "output_type": "stream",
     "text": [
      "Error: detector_ls(\"Agora, no Latim existem 23 letras: a, b, c, d, e, f, g, h, i, k, l, m, n, o, p, q, r, s, t, u, x, y e z.\")\n"
     ]
    },
    {
     "name": "stdout",
     "output_type": "stream",
     "text": [
      "Error: detector_ls(\"São 10h20.\")\n"
     ]
    },
    {
     "name": "stdout",
     "output_type": "stream",
     "text": [
      "Error: detector_ls(\"Брэд Питт — актёр.\")\n"
     ]
    },
    {
     "name": "stdout",
     "output_type": "stream",
     "text": [
      "Error: detector_ls(\"Тихо!\")\n"
     ]
    },
    {
     "name": "stdout",
     "output_type": "stream",
     "text": [
      "Error: detector_ls(\"Ух ты!\")\n"
     ]
    },
    {
     "name": "stdout",
     "output_type": "stream",
     "text": [
      "Error: detector_ls(\"«Ты поела?» — «Да».\")\n"
     ]
    },
    {
     "name": "stdout",
     "output_type": "stream",
     "text": [
      "Error: detector_ls(\"Я сыт.\")\n"
     ]
    },
    {
     "name": "stdout",
     "output_type": "stream",
     "text": [
      "Error: detector_ls(\"Ты скучаешь здесь?\")\n"
     ]
    },
    {
     "name": "stdout",
     "output_type": "stream",
     "text": [
      "Error: detector_ls(\"Ты ешь.\")\n"
     ]
    },
    {
     "name": "stdout",
     "output_type": "stream",
     "text": [
      "Error: detector_ls(\"У тебя есть WhatsApp?\")\n"
     ]
    },
    {
     "name": "stdout",
     "output_type": "stream",
     "text": [
      "Error: detector_ls(\"Я угощаю.\")\n"
     ]
    },
    {
     "name": "stdout",
     "output_type": "stream",
     "text": [
      "Error: detector_ls(\"Множественное число слова «person» - «people», а не «persons».\")\n"
     ]
    },
    {
     "name": "stdout",
     "output_type": "stream",
     "text": [
      "Error: detector_ls(\"Ложись!\")\n",
      "Error: detector_ls(\"Да, и?\")\n",
      "Error: detector_ls(\"В Англии метро называется не «subway», а «underground».\")\n"
     ]
    },
    {
     "name": "stdout",
     "output_type": "stream",
     "text": [
      "Error: detector_ls(\"Ты мэр?\")\n",
      "Error: detector_ls(\"\\\"Том!\\\" - \\\"Мэри!\\\"\")\n"
     ]
    },
    {
     "name": "stdout",
     "output_type": "stream",
     "text": [
      "Error: detector_ls(\"Я ел хлеб.\")\n"
     ]
    },
    {
     "name": "stdout",
     "output_type": "stream",
     "text": [
      "Error: detector_ls(\"Сейчас -10 °C.\")\n"
     ]
    },
    {
     "name": "stdout",
     "output_type": "stream",
     "text": [
      "Error: detector_ls(\"\\\"Кто там?\\\" - \\\"Свои\\\".\")\n"
     ]
    },
    {
     "name": "stdout",
     "output_type": "stream",
     "text": [
      "Error: detector_ls(\"О, да!\")\n",
      "Error: detector_ls(\"Пьёшь?\")\n"
     ]
    },
    {
     "name": "stdout",
     "output_type": "stream",
     "text": [
      "Error: detector_ls(\"Идём.\")\n"
     ]
    },
    {
     "name": "stdout",
     "output_type": "stream",
     "text": [
      "Error: detector_ls(\"\\\"Ну и что?\\\" - \\\"Ну и то!\\\"\")\n"
     ]
    },
    {
     "name": "stdout",
     "output_type": "stream",
     "text": [
      "Error: detector_ls(\"\\\"Ты кто?\\\" - \\\"Том\\\".\")\n"
     ]
    },
    {
     "name": "stdout",
     "output_type": "stream",
     "text": [
      "Error: detector_ls(\"\\\"Это не я\\\". - \\\"А кто?\\\"\")\n"
     ]
    },
    {
     "name": "stdout",
     "output_type": "stream",
     "text": [
      "Error: detector_ls(\"Арбуз лопнул.\")\n"
     ]
    },
    {
     "name": "stdout",
     "output_type": "stream",
     "text": [
      "Error: detector_ls(\"Ты ночью храпел.\")\n"
     ]
    },
    {
     "name": "stdout",
     "output_type": "stream",
     "text": [
      "Error: detector_ls(\"Текущий пароль: \\\"eosdigital\\\".\")\n"
     ]
    },
    {
     "name": "stdout",
     "output_type": "stream",
     "text": [
      "Error: detector_ls(\"Эй!\")\n"
     ]
    },
    {
     "name": "stdout",
     "output_type": "stream",
     "text": [
      "Error: detector_ls(\"Я убью её.\")\n"
     ]
    },
    {
     "name": "stdout",
     "output_type": "stream",
     "text": [
      "Error: detector_ls(\"Письмо я сжёг.\")\n"
     ]
    },
    {
     "name": "stdout",
     "output_type": "stream",
     "text": [
      "Error: detector_ls(\"Фи!\")\n"
     ]
    },
    {
     "name": "stdout",
     "output_type": "stream",
     "text": [
      "Error: detector_ls(\"«Ты где?» – «Тут!»\")\n"
     ]
    },
    {
     "name": "stdout",
     "output_type": "stream",
     "text": [
      "Error: detector_ls(\"Ты зол.\")\n"
     ]
    },
    {
     "name": "stdout",
     "output_type": "stream",
     "text": [
      "Error: detector_ls(\"И?\")\n"
     ]
    },
    {
     "name": "stdout",
     "output_type": "stream",
     "text": [
      "Error: detector_ls(\"Шут!\")\n"
     ]
    },
    {
     "name": "stdout",
     "output_type": "stream",
     "text": [
      "Error: detector_ls(\"Жартуєш?\")\n",
      "Error: detector_ls(\"Охолонь.\")\n"
     ]
    },
    {
     "name": "stdout",
     "output_type": "stream",
     "text": [
      "Error: detector_ls(\"Французька абетка складається з двадцяти шести літер: a, b, c, d, e, f, g, h, i, j, k, l, m, n, o, p, q, r, s, t, u, v, w, x, y, z.\")\n",
      "Error: detector_ls(\"Чуєш?\")\n"
     ]
    },
    {
     "name": "stdout",
     "output_type": "stream",
     "text": [
      "Error: detector_ls(\"Я схвалюю.\")\n",
      "Error: detector_ls(\"Розв'яжи кубічне рівняння: x³ + 2x² − x − 2 = 0.\")\n"
     ]
    },
    {
     "name": "stdout",
     "output_type": "stream",
     "text": [
      "Error: detector_ls(\"Я хочу MP3-плеєр!\")\n"
     ]
    },
    {
     "name": "stdout",
     "output_type": "stream",
     "text": [
      "Error: detector_ls(\"Ви приймаєте картки American Express?\")\n"
     ]
    },
    {
     "name": "stdout",
     "output_type": "stream",
     "text": [
      "Error: detector_ls(\"Зараз 2:30.\")\n",
      "Error: detector_ls(\"Йдемо?\")\n"
     ]
    },
    {
     "name": "stdout",
     "output_type": "stream",
     "text": [
      "Error: detector_ls(\"Приймаються картки MasterCard та Visa.\")\n"
     ]
    },
    {
     "name": "stdout",
     "output_type": "stream",
     "text": [
      "Error: detector_ls(\"Естер любить музику Happy Hardcore.\")\n",
      "Error: detector_ls(\"Е...\")\n",
      "Error: detector_ls(\"Хм...\")\n",
      "Error: detector_ls(\"Тихо.\")\n"
     ]
    },
    {
     "name": "stdout",
     "output_type": "stream",
     "text": [
      "Error: detector_ls(\"Тікаймо!\")\n",
      "Error: detector_ls(\"Ризикнеш?\")\n"
     ]
    },
    {
     "name": "stdout",
     "output_type": "stream",
     "text": [
      "Error: detector_ls(\"Лох!\")\n",
      "Error: detector_ls(\"O 80 kilo.\")\n",
      "Error: detector_ls(\"Açım!\")\n"
     ]
    },
    {
     "name": "stdout",
     "output_type": "stream",
     "text": [
      "Error: detector_ls(\"12:45'e ne dersin?\")\n"
     ]
    },
    {
     "name": "stdout",
     "output_type": "stream",
     "text": [
      "Error: detector_ls(\"Güldük.\")\n",
      "Error: detector_ls(\"Mısırlıyım.\")\n"
     ]
    },
    {
     "name": "stdout",
     "output_type": "stream",
     "text": [
      "Error: detector_ls(\"Saat 7.45.\")\n"
     ]
    },
    {
     "name": "stdout",
     "output_type": "stream",
     "text": [
      "Error: detector_ls(\"Aşıktım.\")\n"
     ]
    },
    {
     "name": "stdout",
     "output_type": "stream",
     "text": [
      "Error: detector_ls(\"Sür!\")\n"
     ]
    },
    {
     "name": "stdout",
     "output_type": "stream",
     "text": [
      "Error: detector_ls(\"Sıkıcı!\")\n"
     ]
    },
    {
     "name": "stdout",
     "output_type": "stream",
     "text": [
      "Error: detector_ls(\"Aşçıyım.\")\n"
     ]
    },
    {
     "name": "stdout",
     "output_type": "stream",
     "text": [
      "Error: detector_ls(\"Üşüdüm.\")\n"
     ]
    },
    {
     "name": "stdout",
     "output_type": "stream",
     "text": [
      "Error: detector_ls(\"Mi diede 10.000 yen.\")\n"
     ]
    },
    {
     "name": "stdout",
     "output_type": "stream",
     "text": [
      "Error: detector_ls(\"500 Gb?\")\n"
     ]
    },
    {
     "name": "stdout",
     "output_type": "stream",
     "text": [
      "Error: detector_ls(\"Uh?\")\n"
     ]
    },
    {
     "name": "stdout",
     "output_type": "stream",
     "text": [
      "Error: detector_ls(\"Sì... ah ah ah... sì!\")\n"
     ]
    },
    {
     "name": "stdout",
     "output_type": "stream",
     "text": [
      "Error: detector_ls(\"Ο David Beckham είναι άγγλος.\")\n"
     ]
    },
    {
     "name": "stdout",
     "output_type": "stream",
     "text": [
      "Error: detector_ls(\"Ο Yankev και ο Sheyne είναι φίλοι.\")\n"
     ]
    },
    {
     "name": "stdout",
     "output_type": "stream",
     "text": [
      "Error: detector_ls(\"Jest 17:00.\")\n",
      "Error: detector_ls(\"Jest 20 po 10.\")\n"
     ]
    },
    {
     "name": "stdout",
     "output_type": "stream",
     "text": [
      "Error: detector_ls(\"''Dar kavos?'' - ''Ne, ačiū.''\")\n"
     ]
    },
    {
     "name": "stdout",
     "output_type": "stream",
     "text": [
      "Error: detector_ls(\"Píš!\")\n"
     ]
    },
    {
     "name": "stdout",
     "output_type": "stream",
     "text": [
      "Error: detector_ls(\"Ồ, OK.\")\n"
     ]
    },
    {
     "name": "stdout",
     "output_type": "stream",
     "text": [
      "Error: detector_ls(\"Пиев.\")\n"
     ]
    },
    {
     "name": "stdout",
     "output_type": "stream",
     "text": [
      "Error: detector_ls(\"Mlč!\")\n"
     ]
    },
    {
     "name": "stdout",
     "output_type": "stream",
     "text": [
      "319.487865 seconds (139.70 M allocations: 8.376 GiB, 0.41% gc time, 0.19% compilation time)\n"
     ]
    },
    {
     "name": "stdout",
     "output_type": "stream",
     "text": [
      "1466.109941 seconds (10.92 G allocations: 360.185 GiB, 2.63% gc time, 0.01% compilation time)\n"
     ]
    }
   ],
   "source": [
    "@time bmk_ls = bmk(detector_ls, TV, LANGS);\n",
    "@time bmk_ld = bmk(detector_ld, TV, LANGS);\n",
    "# @time bmk_lf = bmk(detector_lf, TV, LANGS);\n",
    ";"
   ]
  },
  {
   "cell_type": "code",
   "execution_count": 61,
   "metadata": {},
   "outputs": [
    {
     "name": "stdout",
     "output_type": "stream",
     "text": [
      "|                   | ara    | bel    | ben     | bul    | cat    | ces    | dan    | deu    | ell     | eng    | epo    | fas    | fin    | fra    | hau    | hbs    | heb     | hin    | hun    | ido | ina | isl | ita    | jpn    | kab | kor    | kur | lat | lit    | mar    | mkd    | msa    | nds | nld    | nor    | pol    | por    | ron    | rus    | slk    | spa    | swa    | swe    | tat | tgl    | tur    | ukr    | vie    | yid    | zho    |\n",
      "|-------------------|--------|--------|---------|--------|--------|--------|--------|--------|---------|--------|--------|--------|--------|--------|--------|--------|---------|--------|--------|-----|-----|-----|--------|--------|-----|--------|-----|-----|--------|--------|--------|--------|-----|--------|--------|--------|--------|--------|--------|--------|--------|--------|--------|-----|--------|--------|--------|--------|--------|--------|\n",
      "|      Languages.jl | 85.55% | 80.47% | 100.00% | 62.46% |      - | 48.90% | 47.06% | 90.48% |  99.89% | 78.21% | 64.61% | 95.00% | 76.87% | 82.21% | 92.85% | 60.28% |  95.75% | 62.99% | 73.99% |   - |   - |   - | 66.27% | 99.97% |   - | 98.97% |   - |   - | 61.94% | 72.05% | 51.40% | 71.26% |   - | 78.91% | 66.74% | 72.66% | 77.35% | 70.87% | 52.59% |      - | 61.89% |      - | 52.46% |   - | 63.96% | 52.10% | 62.63% | 84.06% | 98.39% | 99.86% |\n",
      "| LanguageDetect.jl | 93.48% |      - | 100.00% | 62.86% | 57.21% | 71.26% | 51.56% | 81.81% | 100.00% | 74.64% |      - | 93.83% | 90.24% | 77.13% |      - | 26.90% | 100.00% | 92.91% | 86.44% |   - |   - |   - | 69.22% | 99.85% |   - | 99.48% |   - |   - | 81.41% | 86.98% | 73.93% | 85.34% |   - | 65.77% | 55.50% | 92.64% | 70.23% | 84.87% | 78.17% | 57.37% | 60.48% | 84.98% | 69.76% |   - | 90.72% | 90.39% | 72.41% | 99.75% |      - | 98.64% |\n"
     ]
    },
    {
     "data": {
      "text/markdown": [
       "|                   | ara    | bel    | ben     | bul    | cat    | ces    | dan    | deu    | ell     | eng    | epo    | fas    | fin    | fra    | hau    | hbs    | heb     | hin    | hun    | ido | ina | isl | ita    | jpn    | kab | kor    | kur | lat | lit    | mar    | mkd    | msa    | nds | nld    | nor    | pol    | por    | ron    | rus    | slk    | spa    | swa    | swe    | tat | tgl    | tur    | ukr    | vie    | yid    | zho    |\n",
       "|-------------------|--------|--------|---------|--------|--------|--------|--------|--------|---------|--------|--------|--------|--------|--------|--------|--------|---------|--------|--------|-----|-----|-----|--------|--------|-----|--------|-----|-----|--------|--------|--------|--------|-----|--------|--------|--------|--------|--------|--------|--------|--------|--------|--------|-----|--------|--------|--------|--------|--------|--------|\n",
       "|      Languages.jl | 85.55% | 80.47% | 100.00% | 62.46% |      - | 48.90% | 47.06% | 90.48% |  99.89% | 78.21% | 64.61% | 95.00% | 76.87% | 82.21% | 92.85% | 60.28% |  95.75% | 62.99% | 73.99% |   - |   - |   - | 66.27% | 99.97% |   - | 98.97% |   - |   - | 61.94% | 72.05% | 51.40% | 71.26% |   - | 78.91% | 66.74% | 72.66% | 77.35% | 70.87% | 52.59% |      - | 61.89% |      - | 52.46% |   - | 63.96% | 52.10% | 62.63% | 84.06% | 98.39% | 99.86% |\n",
       "| LanguageDetect.jl | 93.48% |      - | 100.00% | 62.86% | 57.21% | 71.26% | 51.56% | 81.81% | 100.00% | 74.64% |      - | 93.83% | 90.24% | 77.13% |      - | 26.90% | 100.00% | 92.91% | 86.44% |   - |   - |   - | 69.22% | 99.85% |   - | 99.48% |   - |   - | 81.41% | 86.98% | 73.93% | 85.34% |   - | 65.77% | 55.50% | 92.64% | 70.23% | 84.87% | 78.17% | 57.37% | 60.48% | 84.98% | 69.76% |   - | 90.72% | 90.39% | 72.41% | 99.75% |      - | 98.64% |\n"
      ],
      "text/plain": [
       "DisplayAs.Raw.Showable{MIME{Symbol(\"text/markdown\")}}(UInt8[0x7c, 0x20, 0x20, 0x20, 0x20, 0x20, 0x20, 0x20, 0x20, 0x20  …  0x20, 0x39, 0x38, 0x2e, 0x36, 0x34, 0x25, 0x20, 0x7c, 0x0a])"
      ]
     },
     "metadata": {},
     "output_type": "display_data"
    }
   ],
   "source": [
    "showtable(\"Languages.jl\"=>bmk_ls, \"LanguageDetect.jl\"=>bmk_ld, header=LANGS)"
   ]
  },
  {
   "cell_type": "markdown",
   "metadata": {},
   "source": [
    "## wikipedia"
   ]
  },
  {
   "cell_type": "code",
   "execution_count": 11,
   "metadata": {},
   "outputs": [
    {
     "name": "stdout",
     "output_type": "stream",
     "text": [
      "Languages.jl"
     ]
    },
    {
     "name": "stdout",
     "output_type": "stream",
     "text": [
      " 28.917094 seconds (95.44 M allocations: 2.520 GiB, 0.56% gc time, 0.41% compilation time: 16% of which was recompilation)\n",
      "LanguageDetect.jl"
     ]
    },
    {
     "name": "stdout",
     "output_type": "stream",
     "text": [
      " 76.989823 seconds (990.47 M allocations: 35.227 GiB, 6.89% gc time, 0.08% compilation time)\n"
     ]
    },
    {
     "data": {
      "text/plain": [
       "2-element Vector{Any}:\n",
       "      \"Languages.jl\" => [0.99, 0.985, 0.99, 0.99, 0.0, 0.925, 0.885, 0.96, 0.965, 0.995  …  0.985, 0.0, 0.88, 0.0, 0.97, 0.925, 0.93, 0.745, 0.98, 0.76]\n",
       " \"LanguageDetect.jl\" => [0.995, 0.0, 1.0, 0.8, 0.765, 0.845, 0.57, 0.875, 0.995, 0.915  …  0.795, 0.965, 0.715, 0.0, 0.965, 0.96, 0.98, 0.96, 0.0, 0.735]"
      ]
     },
     "metadata": {},
     "output_type": "display_data"
    }
   ],
   "source": [
    "WB = benchmark(\"Languages.jl\"=>detector_ls, \n",
    "\"LanguageDetect.jl\"=>detector_ld,\n",
    " dataset=WV, languages=LANGS)"
   ]
  },
  {
   "cell_type": "code",
   "execution_count": 29,
   "metadata": {},
   "outputs": [
    {
     "name": "stdout",
     "output_type": "stream",
     "text": [
      "|                   | Average | ara    | bel    | ben     | bul    | cat    | ces    | dan    | deu    | ell    | eng    | epo    | fas    | fin    | fra     | hau    | hbs     | heb     | hin    | hun    | ido | ina | isl | ita    | jpn    | kab | kor    | kur | lat | lit    | mar    | mkd    | msa    | nds | nld    | nor    | pol    | por    | ron    | rus    | slk    | spa    | swa    | swe    | tat | tgl    | tur    | ukr    | vie    | yid    | zho    |\n",
      "|-------------------|---------|--------|--------|---------|--------|--------|--------|--------|--------|--------|--------|--------|--------|--------|---------|--------|---------|---------|--------|--------|-----|-----|-----|--------|--------|-----|--------|-----|-----|--------|--------|--------|--------|-----|--------|--------|--------|--------|--------|--------|--------|--------|--------|--------|-----|--------|--------|--------|--------|--------|--------|\n",
      "|      Languages.jl |  71.84% | 99.00% | 98.50% |  99.00% | 99.00% |      - | 92.50% | 88.50% | 96.00% | 96.50% | 99.50% | 96.00% | 98.50% | 98.00% | 100.00% | 99.00% | 100.00% |  99.50% | 91.00% | 93.00% |   - |   - |   - | 98.50% |  2.50% |   - | 89.50% |   - |   - | 94.50% | 95.00% | 98.00% | 99.50% |   - | 94.50% | 95.50% | 90.50% | 94.00% | 81.50% | 97.50% |      - | 98.50% |      - | 88.00% |   - | 97.00% | 92.50% | 93.00% | 74.50% | 98.00% | 76.00% |\n",
      "| LanguageDetect.jl |  65.25% | 99.50% |      - | 100.00% | 80.00% | 76.50% | 84.50% | 57.00% | 87.50% | 99.50% | 91.50% |      - | 98.50% | 93.00% |  90.50% |      - |   4.50% | 100.00% | 96.00% | 92.50% |   - |   - |   - | 88.50% | 95.50% |   - | 95.00% |   - |   - | 96.50% | 98.00% | 89.50% | 98.50% |   - | 74.00% | 60.00% | 92.50% | 76.50% | 75.50% | 89.50% | 74.50% | 79.50% | 96.50% | 71.50% |   - | 96.50% | 96.00% | 98.00% | 96.00% |      - | 73.50% |\n"
     ]
    },
    {
     "data": {
      "text/markdown": [
       "|                   | Average | ara    | bel    | ben     | bul    | cat    | ces    | dan    | deu    | ell    | eng    | epo    | fas    | fin    | fra     | hau    | hbs     | heb     | hin    | hun    | ido | ina | isl | ita    | jpn    | kab | kor    | kur | lat | lit    | mar    | mkd    | msa    | nds | nld    | nor    | pol    | por    | ron    | rus    | slk    | spa    | swa    | swe    | tat | tgl    | tur    | ukr    | vie    | yid    | zho    |\n",
       "|-------------------|---------|--------|--------|---------|--------|--------|--------|--------|--------|--------|--------|--------|--------|--------|---------|--------|---------|---------|--------|--------|-----|-----|-----|--------|--------|-----|--------|-----|-----|--------|--------|--------|--------|-----|--------|--------|--------|--------|--------|--------|--------|--------|--------|--------|-----|--------|--------|--------|--------|--------|--------|\n",
       "|      Languages.jl |  71.84% | 99.00% | 98.50% |  99.00% | 99.00% |      - | 92.50% | 88.50% | 96.00% | 96.50% | 99.50% | 96.00% | 98.50% | 98.00% | 100.00% | 99.00% | 100.00% |  99.50% | 91.00% | 93.00% |   - |   - |   - | 98.50% |  2.50% |   - | 89.50% |   - |   - | 94.50% | 95.00% | 98.00% | 99.50% |   - | 94.50% | 95.50% | 90.50% | 94.00% | 81.50% | 97.50% |      - | 98.50% |      - | 88.00% |   - | 97.00% | 92.50% | 93.00% | 74.50% | 98.00% | 76.00% |\n",
       "| LanguageDetect.jl |  65.25% | 99.50% |      - | 100.00% | 80.00% | 76.50% | 84.50% | 57.00% | 87.50% | 99.50% | 91.50% |      - | 98.50% | 93.00% |  90.50% |      - |   4.50% | 100.00% | 96.00% | 92.50% |   - |   - |   - | 88.50% | 95.50% |   - | 95.00% |   - |   - | 96.50% | 98.00% | 89.50% | 98.50% |   - | 74.00% | 60.00% | 92.50% | 76.50% | 75.50% | 89.50% | 74.50% | 79.50% | 96.50% | 71.50% |   - | 96.50% | 96.00% | 98.00% | 96.00% |      - | 73.50% |\n"
      ],
      "text/plain": [
       "DisplayAs.Raw.Showable{MIME{Symbol(\"text/markdown\")}}(UInt8[0x7c, 0x20, 0x20, 0x20, 0x20, 0x20, 0x20, 0x20, 0x20, 0x20  …  0x20, 0x37, 0x33, 0x2e, 0x35, 0x30, 0x25, 0x20, 0x7c, 0x0a])"
      ]
     },
     "metadata": {},
     "output_type": "display_data"
    }
   ],
   "source": [
    "showtable(WB, LANGS)"
   ]
  },
  {
   "cell_type": "code",
   "execution_count": 28,
   "metadata": {},
   "outputs": [
    {
     "name": "stdout",
     "output_type": "stream",
     "text": [
      "50 columns in total, 35 columns left.\n",
      "|                   | Average | ara    | ben     | bul    | ces    | dan    | deu    | ell    | eng    | fas    | fin    | fra     | hbs     | heb     | hin    | hun    | ita    | jpn    | kor    | lit    | mar    | mkd    | msa    | nld    | nor    | pol    | por    | ron    | rus    | spa    | swe    | tgl    | tur    | ukr    | vie    | zho    |\n",
      "|-------------------|---------|--------|---------|--------|--------|--------|--------|--------|--------|--------|--------|---------|---------|---------|--------|--------|--------|--------|--------|--------|--------|--------|--------|--------|--------|--------|--------|--------|--------|--------|--------|--------|--------|--------|--------|--------|\n",
      "|      Languages.jl |  91.44% | 99.00% |  99.00% | 99.00% | 92.50% | 88.50% | 96.00% | 96.50% | 99.50% | 98.50% | 98.00% | 100.00% | 100.00% |  99.50% | 91.00% | 93.00% | 98.50% |  2.50% | 89.50% | 94.50% | 95.00% | 98.00% | 99.50% | 94.50% | 95.50% | 90.50% | 94.00% | 81.50% | 97.50% | 98.50% | 88.00% | 97.00% | 92.50% | 93.00% | 74.50% | 76.00% |\n",
      "| LanguageDetect.jl |  86.14% | 99.50% | 100.00% | 80.00% | 84.50% | 57.00% | 87.50% | 99.50% | 91.50% | 98.50% | 93.00% |  90.50% |   4.50% | 100.00% | 96.00% | 92.50% | 88.50% | 95.50% | 95.00% | 96.50% | 98.00% | 89.50% | 98.50% | 74.00% | 60.00% | 92.50% | 76.50% | 75.50% | 89.50% | 79.50% | 71.50% | 96.50% | 96.00% | 98.00% | 96.00% | 73.50% |\n"
     ]
    },
    {
     "data": {
      "text/markdown": [
       "|                   | Average | ara    | ben     | bul    | ces    | dan    | deu    | ell    | eng    | fas    | fin    | fra     | hbs     | heb     | hin    | hun    | ita    | jpn    | kor    | lit    | mar    | mkd    | msa    | nld    | nor    | pol    | por    | ron    | rus    | spa    | swe    | tgl    | tur    | ukr    | vie    | zho    |\n",
       "|-------------------|---------|--------|---------|--------|--------|--------|--------|--------|--------|--------|--------|---------|---------|---------|--------|--------|--------|--------|--------|--------|--------|--------|--------|--------|--------|--------|--------|--------|--------|--------|--------|--------|--------|--------|--------|--------|\n",
       "|      Languages.jl |  91.44% | 99.00% |  99.00% | 99.00% | 92.50% | 88.50% | 96.00% | 96.50% | 99.50% | 98.50% | 98.00% | 100.00% | 100.00% |  99.50% | 91.00% | 93.00% | 98.50% |  2.50% | 89.50% | 94.50% | 95.00% | 98.00% | 99.50% | 94.50% | 95.50% | 90.50% | 94.00% | 81.50% | 97.50% | 98.50% | 88.00% | 97.00% | 92.50% | 93.00% | 74.50% | 76.00% |\n",
       "| LanguageDetect.jl |  86.14% | 99.50% | 100.00% | 80.00% | 84.50% | 57.00% | 87.50% | 99.50% | 91.50% | 98.50% | 93.00% |  90.50% |   4.50% | 100.00% | 96.00% | 92.50% | 88.50% | 95.50% | 95.00% | 96.50% | 98.00% | 89.50% | 98.50% | 74.00% | 60.00% | 92.50% | 76.50% | 75.50% | 89.50% | 79.50% | 71.50% | 96.50% | 96.00% | 98.00% | 96.00% | 73.50% |\n"
      ],
      "text/plain": [
       "DisplayAs.Raw.Showable{MIME{Symbol(\"text/markdown\")}}(UInt8[0x7c, 0x20, 0x20, 0x20, 0x20, 0x20, 0x20, 0x20, 0x20, 0x20  …  0x20, 0x37, 0x33, 0x2e, 0x35, 0x30, 0x25, 0x20, 0x7c, 0x0a])"
      ]
     },
     "metadata": {},
     "output_type": "display_data"
    }
   ],
   "source": [
    "showtable(WB, LANGS, threshold=0.)"
   ]
  },
  {
   "cell_type": "code",
   "execution_count": 27,
   "metadata": {},
   "outputs": [
    {
     "name": "stdout",
     "output_type": "stream",
     "text": [
      "50 columns in total, 33 columns left.\n"
     ]
    },
    {
     "name": "stdout",
     "output_type": "stream",
     "text": [
      "|                   | Average | ara    | ben     | bul    | ces    | dan    | deu    | ell    | eng    | fas    | fin    | fra     | heb     | hin    | hun    | ita    | kor    | lit    | mar    | mkd    | msa    | nld    | nor    | pol    | por    | ron    | rus    | spa    | swe    | tgl    | tur    | ukr    | vie    | zho    |\n",
      "|-------------------|---------|--------|---------|--------|--------|--------|--------|--------|--------|--------|--------|---------|---------|--------|--------|--------|--------|--------|--------|--------|--------|--------|--------|--------|--------|--------|--------|--------|--------|--------|--------|--------|--------|--------|\n",
      "|      Languages.jl |  93.88% | 99.00% |  99.00% | 99.00% | 92.50% | 88.50% | 96.00% | 96.50% | 99.50% | 98.50% | 98.00% | 100.00% |  99.50% | 91.00% | 93.00% | 98.50% | 89.50% | 94.50% | 95.00% | 98.00% | 99.50% | 94.50% | 95.50% | 90.50% | 94.00% | 81.50% | 97.50% | 98.50% | 88.00% | 97.00% | 92.50% | 93.00% | 74.50% | 76.00% |\n",
      "| LanguageDetect.jl |  88.33% | 99.50% | 100.00% | 80.00% | 84.50% | 57.00% | 87.50% | 99.50% | 91.50% | 98.50% | 93.00% |  90.50% | 100.00% | 96.00% | 92.50% | 88.50% | 95.00% | 96.50% | 98.00% | 89.50% | 98.50% | 74.00% | 60.00% | 92.50% | 76.50% | 75.50% | 89.50% | 79.50% | 71.50% | 96.50% | 96.00% | 98.00% | 96.00% | 73.50% |\n"
     ]
    },
    {
     "data": {
      "text/markdown": [
       "|                   | Average | ara    | ben     | bul    | ces    | dan    | deu    | ell    | eng    | fas    | fin    | fra     | heb     | hin    | hun    | ita    | kor    | lit    | mar    | mkd    | msa    | nld    | nor    | pol    | por    | ron    | rus    | spa    | swe    | tgl    | tur    | ukr    | vie    | zho    |\n",
       "|-------------------|---------|--------|---------|--------|--------|--------|--------|--------|--------|--------|--------|---------|---------|--------|--------|--------|--------|--------|--------|--------|--------|--------|--------|--------|--------|--------|--------|--------|--------|--------|--------|--------|--------|--------|\n",
       "|      Languages.jl |  93.88% | 99.00% |  99.00% | 99.00% | 92.50% | 88.50% | 96.00% | 96.50% | 99.50% | 98.50% | 98.00% | 100.00% |  99.50% | 91.00% | 93.00% | 98.50% | 89.50% | 94.50% | 95.00% | 98.00% | 99.50% | 94.50% | 95.50% | 90.50% | 94.00% | 81.50% | 97.50% | 98.50% | 88.00% | 97.00% | 92.50% | 93.00% | 74.50% | 76.00% |\n",
       "| LanguageDetect.jl |  88.33% | 99.50% | 100.00% | 80.00% | 84.50% | 57.00% | 87.50% | 99.50% | 91.50% | 98.50% | 93.00% |  90.50% | 100.00% | 96.00% | 92.50% | 88.50% | 95.00% | 96.50% | 98.00% | 89.50% | 98.50% | 74.00% | 60.00% | 92.50% | 76.50% | 75.50% | 89.50% | 79.50% | 71.50% | 96.50% | 96.00% | 98.00% | 96.00% | 73.50% |\n"
      ],
      "text/plain": [
       "DisplayAs.Raw.Showable{MIME{Symbol(\"text/markdown\")}}(UInt8[0x7c, 0x20, 0x20, 0x20, 0x20, 0x20, 0x20, 0x20, 0x20, 0x20  …  0x20, 0x37, 0x33, 0x2e, 0x35, 0x30, 0x25, 0x20, 0x7c, 0x0a])"
      ]
     },
     "metadata": {},
     "output_type": "display_data"
    }
   ],
   "source": [
    "showtable(WB, LANGS, threshold=0.5)"
   ]
  },
  {
   "cell_type": "code",
   "execution_count": null,
   "metadata": {},
   "outputs": [],
   "source": []
  }
 ],
 "metadata": {
  "kernelspec": {
   "display_name": "Julia 1.9.1",
   "language": "julia",
   "name": "julia-1.9"
  },
  "language_info": {
   "file_extension": ".jl",
   "mimetype": "application/julia",
   "name": "julia",
   "version": "1.9.1"
  },
  "orig_nbformat": 4
 },
 "nbformat": 4,
 "nbformat_minor": 2
}
