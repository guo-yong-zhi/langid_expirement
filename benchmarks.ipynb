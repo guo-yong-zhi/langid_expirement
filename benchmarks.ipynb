{
 "cells": [
  {
   "cell_type": "code",
   "execution_count": 1,
   "metadata": {},
   "outputs": [],
   "source": [
    "# import Pkg; Pkg.add(\"Tables\"); Pkg.add(\"MarkdownTables\"); Pkg.add(\"DataFrames\")"
   ]
  },
  {
   "cell_type": "code",
   "execution_count": 3,
   "metadata": {},
   "outputs": [
    {
     "data": {
      "text/plain": [
       "normcode (generic function with 2 methods)"
      ]
     },
     "metadata": {},
     "output_type": "display_data"
    }
   ],
   "source": [
    "using Tables\n",
    "using MarkdownTables\n",
    "# using ProgressMeter\n",
    "include(\"datasetloader.jl\")\n",
    "include(\"iso639code.jl\")"
   ]
  },
  {
   "cell_type": "code",
   "execution_count": 4,
   "metadata": {},
   "outputs": [
    {
     "data": {
      "text/plain": [
       "521469-element TatoebaDataset:\n",
       "             \"Pardonu, permesu al mi indiki tri erarojn en la supra artikolo.\" => \"epo\"\n",
       "                                          \"Mi veturigos vin al la flughaveno.\" => \"epo\"\n",
       "                                                                 \"Kio mankas?\" => \"epo\"\n",
       "                                            \"Aĥ, kiam ili renkontiĝos denove?\" => \"epo\"\n",
       " \"Kiam mi estis infano, mi pasigis multajn horojn legante sola en mia ĉambro.\" => \"epo\"\n",
       "                                              \"Ŝajnas, ke la trajno malfruas.\" => \"epo\"\n",
       "                                                                \"Venu rapide!\" => \"epo\"\n",
       "                                                   \"Li montris al mi albumon.\" => \"epo\"\n",
       "                                                             \"Estis du kukoj.\" => \"epo\"\n",
       "                                      \"Mia filo scipovas jam nombri ĝis cent.\" => \"epo\"\n",
       "                                                                               ⋮\n",
       "                                                      \"Tohle pivo je výborné.\" => \"ces\"\n",
       "                                              \"Musíš se řídit matčinou radou.\" => \"ces\"\n",
       "                                             \"Tom potvrdil všechno, co řekli.\" => \"ces\"\n",
       "                                                        \"Byl obnoven pořádek.\" => \"ces\"\n",
       "                                              \"Medvědi jsou velmi nebezpeční.\" => \"ces\"\n",
       "                                     \"Buď vděčný za to, že můžeš být s Tomem.\" => \"ces\"\n",
       "                                                \"Neštěstí nechodí nikdy samo.\" => \"ces\"\n",
       "                                                    \"Problémem nejsou peníze.\" => \"ces\"\n",
       "                                         \"Tom koupil několik bochníků chleba.\" => \"ces\""
      ]
     },
     "metadata": {},
     "output_type": "display_data"
    }
   ],
   "source": [
    "TLANGS = [\"ara\", \"bel\", \"ben\", \"bul\", \"cat\", \"ces\", \"dan\", \"deu\", \"ell\", \"eng\", \"epo\", \"pes\", \"fin\",\n",
    " \"fra\", \"hau\", \"srp\", \"heb\", \"hin\", \"hun\", \"ido\", \"ina\", \"isl\", \"ita\", \"jpn\", \"kab\", \"kor\", \"ckb\", \n",
    " \"lat\", \"lit\", \"mar\", \"mkd\", \"ind\", \"nds\", \"nld\", \"nob\", \"pol\", \"por\", \"ron\", \"rus\", \"slk\", \"spa\", \n",
    " \"swc\", \"swe\", \"tat\", \"tgl\", \"tur\", \"ukr\", \"vie\", \"yid\", \"cmn\"]\n",
    "WLANGS = [\"ar\", \"be\", \"bn\", \"bg\", \"ca\", \"cs\", \"da\", \"de\", \"el\", \n",
    "\"en\", \"eo\", \"fa\", \"fi\", \"fr\", \"ha\", \"sr\", \"he\", \"hi\", \"hu\", \"io\", \n",
    "\"ia\", \"is\", \"it\", \"ja\", \"kab\", \"ko\", \"ckb\", \"la\", \"lt\", \"mr\", \"mk\",\n",
    " \"id\", \"nds\", \"nl\", \"no\", \"pl\", \"pt\", \"ro\", \"ru\", \"sk\", \"es\", \"sw\",\n",
    "  \"sv\", \"tt\", \"tl\", \"tr\", \"uk\", \"vi\", \"yi\", \"zh\"]\n",
    "LANGS = [\"ara\", \"bel\", \"ben\", \"bul\", \"cat\", \"ces\", \"dan\", \"deu\", \"ell\", \n",
    "\"eng\", \"epo\", \"fas\", \"fin\", \"fra\", \"hau\", \"hbs\", \"heb\", \"hin\", \"hun\", \n",
    "\"ido\", \"ina\", \"isl\", \"ita\", \"jpn\", \"kab\", \"kor\", \"kur\", \"lat\", \"lit\", \n",
    "\"mar\", \"mkd\", \"msa\", \"nds\", \"nld\", \"nor\", \"pol\", \"por\", \"ron\", \"rus\", \n",
    "\"slk\", \"spa\", \"swa\", \"swe\", \"tat\", \"tgl\", \"tur\", \"ukr\", \"vie\", \"yid\", \n",
    "\"zho\"]\n",
    "WV = WikiDataSet(\"corpus/wikipedia/test\", langs=WLANGS)\n",
    "TV = TatoebaDataset(\"corpus/tatoeba\", \"tatoeba_test.txt\", langs=TLANGS)"
   ]
  },
  {
   "cell_type": "code",
   "execution_count": 5,
   "metadata": {},
   "outputs": [
    {
     "data": {
      "text/plain": [
       "10000-element WikiDataSet:\n",
       "                                                                                                                                                                                                                                                                                                                                                                                                                                                                                                                                                                                                                                                                                                                                                                                                                                                                                                                                                                                                                                                                                                                                                                                                                                                                                                                                                                                                                                                                                                                                                                                                                                                                                                                                                                                                                                                                                                                                                                                                                                                                                                                                                                                                                                                       \"Ĉokolado  estas franca biografia filmo el la jaro 2016, direktita de Roschdy Zem kaj bazita sur la libro Chocolat, clown nègre. L'histoire oubliée du premier artiste noir de la scène française de Gérard Noiriel. Ĉokolado, nigrula klaŭno 1 . 2 \\nRafael Padilla  estas la filo de iama sklavo de Kubo kiu en 1895 ludis rolon en la modesta cirko Delvaux. La cirkodirektoro demandas al la brita, blanka klaŭno George Foottit  labori kun ĉi tiu nigra klaŭno. La nomo de Rafael estis ŝanĝita en Chocolat. Post kiam ilia prezentado fariĝis konata, la direktoro de la Nouveau Cirque  petas ali ili ankaŭ fari prezenton en Parizo. Tiu pariza spektaklo fariĝis ankaŭ granda sukceso kaj Chocolat fariĝis la unua nigra artisto sur franca scenejo. Imponita pro la multo da mono ke li perlaboras, Chocolat fordonas sin al hazardludoj, alkoholo kaj virinoj.\\nKvankam la filmo pretendas rakonti la eksterordinaran historion de ĉi tiu eksterordinara artisto, oni notendu ke tiuj multege devias de la reala vivo de ambaŭ klaŭnoj 3 . \\nLaŭ la filmo, Rafaelon trovis en la vaganta cirko George Foottit, tiutempe malsukcesa klaŭno, kiu proponis al la vigla nigrulo kunlaboron  en tute nova formo - du klaŭnoj sur unu scenejo. Il plu espaŝis en la sama cirko kaj nur poste estis invititaj de la pariza famulo. Alia diferenco estas ke en la filmo la duopo disiĝis pro foriro de Rafael, kiu provis sin en teatro kiel Otelon.  La reĝisoro prezentas ne la gajan historion de klaŭno, sed la malgajan vivovojon de fremdulo, kiu klopodas adaptiĝi al la socio, sed fiaskis 4 .\\nLa filmo estis nomumita por 5 César en 2017 5 .\\n\" => \"eo\"\n",
       "                                                                                                                                                                                                                                                                                                                                                                                                                                                                                                                                                                                                                                                                                                                                                                                                                                                                                                                                                                                                                                                                                                                                                                                                                                                                                                                                                                                                                                                                                                                                                                                                                                                                                                                                                                                                                                                                                                                                                                                                                                                                                                                                                                                                                                                                                                                                 \"Červenohorské sedlo  estas ŝatata skiada centro de norda Moravio kaj de Ĉeĥa Silezio en montaro Hrubý Jeseník. Ĝi troviĝas en alteco 1013 m sur vojo de signifa ŝosea pasejo  kaj ĝi situas sur historia moravia-silezia limo.\\nĜi situas proksimume ok kilometroj node de municipo Kouty nad Desnou, fina fervojlinio 293, de kie estas establita pendoltransporto al montoselo.\\nLa areo Ruĝmonta selo estas signifa centro de degliteja skiado sur limo de Moravio kaj Silezio. Estas ĉi tie sume sep skitreniloj kaj kvar deglitejoj, kiuj havas supermaran altecon de 862 ĝis 1164 m. Estas ĉi tie bonegaj neĝkondiĉoj, la vintra sezono daŭras ekde duono de decembro ĝis fino de marto. La areo kun la deglitejoj estas dividita en nordan  kaj sudan  deklivojn. \\nEl Ruĝmonta selo kondukas reguligata skikura vojo al Praděd – tra Petrovka kaj kabano Švýcárna. La alia skikura vojo kondukas al eksa kabano Vřesová studánka, de kie eblas jam sen reguligita spuro daŭrigi tra Červená hora  al Keprník kaj Šerák. Tiu ĉi vojo estas markita en senarbaraj sektoroj per stanga markigo, sed kiu ne estas tro kvalita.\\nJam en la dua duono de la 19-a jarcento situis en la selo ekskursa gastejo, hodiaŭ estas ĉi tie hotelo , restoracio kaj kelke da kabanoj donantaj loĝigon en apartmanoj.\\nĈar la ŝoseo I/44 superas de Domašov kaj ankaŭ de Kouty nad Desnou supren al la selo grandan superigon, ĝi estas dum vintraj monatoj ofte neveturebla aŭ veturebla nur kun neĝoĉenoj. En la jaroj 2006-2008  kaj en 2014-2017  okazis rekonstruo de la ŝoseo I/44.\\n\" => \"eo\"\n",
       "                                                                                                                                                                                                                                                                                                                                                                                                                                                                                                                                                                                                                                                                                                                                                                                                                                                                                                                                                                                                                                                                                                                                                                                                                                                                                                                                                                                                                                                                                                                                                                                                                                                                                                                                                                                                                                                                                                                                                                                                                                                                                                                                                                                                                                  \"\\nĤoj  estas urbego kaj ĉefurbo de la samnoma distrikto en la Provinco Okcidenta Azerbajĝano, en nordokcidenta Irano.\\nĤoj situas sur altebenaĵo en rivervalo proksime al altaj montoj. La urbego situas norde 111 kilometrojn de la provinca ĉefurbo Urmijo, 656 kilometrojn de la ĉefurbo Teherano, 1316 kilometrojn de Maŝhado, 1644 kilometrojn de la suda marhaveno Bandar Abaso .\\nTiu loko estis konata en antikvaj tempoj pri la salminejoj kiuj igis ĝin grava haltejo de la Silka vojo. La loknomo Khoj aperis nur en la 14-a jarcento. Ĝi estis parto de la Reĝlando Armenio dum jarcentoj. En 1724 la otomanoj okupis la urbon. En 1828 en Ĥoj vivis multe da armenoj, tamen traktato donis al la rusoj la rajton instigi enmigradon de armenoj de Irano al la Rusa Imperio. Tamen malgranda armena loĝantaro restis  en Ĥoj.\\nĜi estis okupita de turkoj en 1911, poste de rusoj, kiuj retiriĝis en 1917. En la Dua mondmilito Ĥoj estis okupita de Sovetunio ĝis 1946. Ĥoj estis deklarita urbo en 1923. La loĝantoj de la grandurbo estas ĉefe azerioj , sed ĉiuj povas konversacii en la persa. \\nĤoj estas komerca centro, sed la ĉirkaŭaĵo estas bazita sur agrikulturo helpe de irigacio, oni produktas fruktojn, grenojn kaj konstrulignojn.\\nĤoj situas en la duonarida klimato laŭ klimata klasifiko de Köppen . Jare pluvas po 284 mm, en ĉiuj monatoj pluvas/neĝas, tamen inter julio-septembro apenaŭ. La averaĝa jara temperaturo estas 12,2 °C , inter novembro-marto estas frostoj. La vetero estas tre malvarma en vintro kaj malvarmeta somere. \\nĤoj havas flughavenon kaj regionajn vojojn al la provinco.\\nStrato\\nVojo\\nŜtona pordo\\nViadukto\\n\" => \"eo\"\n",
       "                                                                                                                                                                                                                                                                                                                                                                                                                                                                                                                                                                                                                                                                                                                                                                                                                                                                                                                                                                                                                                                                                                                                                                                                                                                                                                                                                                                                                                                                                                                                                                                                                                                                                                                                                                                                                                                                                                                                                                                                                                                                                                                                                                                                                                                                                                                                                                                                                                                                                                                                                                                                                                                                                                                                                                                                                                                                                                                                                                                                                                                                                                                                                                                                                \"Edo ankaŭ estas antikva nomo de la urbo Tokio. Pri la aliaj signifoj de EDO rigardu en EDO.\\nŜtato Edo aŭ en la angla plenforme Edo State - en Esperanto eble Edo-Ŝtato - estas unu el la 36 ŝtatoj respektive fakte subŝtatoj de Niĝerio, situanta en la sudokcidento de la lando. La riĉo de la regiono estas en agrikulturo, nafto, turismo, servoj ktp.\\nLa ĉefurbo kaj registara sidejo estas Beninurbo. Aba estas la plej granda komerca kaj industria urbo. Limoj estas norde kaj oriente Kogi Ŝtato, sude Delta Ŝtato kaj okcidente Ondo Ŝtato.\\nLa indiĝena etna gruparo en Edo ŝtato estas tre diversa kaj inter ili Edoj, Okpe, Esan, Afemai, Ora, Akoko-Edo, Igbanke, Emai kaj Iĝavoj\\n\" => \"eo\"\n",
       "                                                                                                                                                                                                                                                                                                                                                                                                                                                                                                                                                                                                                                                                                                                                                                                                                                                                                                                                                                                                                                                                                                                                                                                                                                                                                                                                                                                                                                                                                                                                                                                                                                                                                                                                                                                                                                                                                                                                                                                                                                                                                                                                                                                                                                                                                                                                                                                                                                                                                                                                                                                                                                                                                                                                                                                                                                                                                                                                                                                                                                                                                                                                                                                                                                                                                                                                                                                                                                                                                                                                                                                                                                                                                                                             \" 1998 RC80 estas asteroido de la asteroida zono, malkovrita la 14-an de septembro 1998 en la kadro de la kampanjo \\\"LINEAR\\\"  elde la situejo de Socorro de la Laboratorio Lincoln .\\n\" => \"eo\"\n",
       "                                                                                                                                                                                                                                                                                                                                                                                                                                                                                                                                                                                                                                                                                                                                                                                                                                                                                                                                                                                                                                                                                                                                                                                                                                                                                                                                                                                                                                                                                                                                                                                                                                                                                                                                                                                                                                                                                                                                                                                                                                                                                                                                                                                                                                                                                                                                                                                                                                                                                                                                                                                                                                                                                                                                                                                                                                                                                                                                                                                                                                                                                                                                                                                                                                                                                                                                                                                                                                                                                                                                                                                                                                                                                                                        \" 1993 FV7 estas asteroido de la asteroida zono, malkovrita la 17-an de marto 1993 en la kadro de la \\\"Enketo de Upsalo-ESO pri Asteroidoj kaj Kometoj\\\" , elde la Observatorio La Silla .\\n\" => \"eo\"\n",
       "                                                                                                                                                                                                                                                                                                                                                                                                                                                                                                                                                                                                                                                                                                                                                                                                                                                                                                                                                                                                                                                                                                                                                                                                                                                                                                                                                                                                                                                                                                                                                                                                                                                                                                                                                                                                                                                                                                                                                                                                                                                                                                                                                                                                                                                                                                                                                                                                                                                                                                                                                                                                                                                                                                                                                                                                                                                                                                                                                                                                                                                                                                                                                                                                                                                                                                                                                                                                                                                                                                                                                                                                                                                                                                                                         \" 1999 CR20 estas asteroido de la asteroida zono, malkovrita la 10-an de februaro 1999 dum la kampanjo \\\"LINEAR\\\"  elde la situejo de Socorro de la Laboratorio Lincoln .\\n\" => \"eo\"\n",
       "                                                                                                                                                                                                                                                                                                                                                                                                                                                                                                                                                                                                                                                                                                                                                                                                                                                                                                                                                                                                                                                                                                                                                                                                                                                                                                                                                                                                                                                                                                                                                                                                                                                                                                                                                                                                                                                                                                                                                                                                                                                                                                                                                                                                                                                                                                                                                                                                                                                                                                                                                                                                                                                                                                                                                                                                                                                                                                                                                                                                                                                                                                                                                                                                                                                                                                                                                                                                                                                                                                                        \" 2000 YF33 estas  marsrenkonta asteroido malkovrita la 30-an de decembro 2000 en la kadro de la astronomia kampanjo \\\" LINEAR \\\" elde la situejo de Socorro de la Laboratorio Lincoln .\\nĜi ne estas malproksima de la orbita resonanco 1:2 kun Marso.\\nĜia discentra orbito ekstere tanĝas tiun de Marso : ĝia marsa MOID estas 0,2832 astronomia unuo, tie estas 42,366 milionoj da km.\\n\" => \"eo\"\n",
       "                                                                                                                                                                                                                                                                                                                                                                                                                                                                                                                                                                                                                                                                                                                                                                                                                                                                                                                                                                                                                                                                                                                                                                                                                                                                                                                                                                                                                                                                                                                                                                                                                                                                                                                                                                                                                                                                                                                                                                                                                                                                                                                                                                                                                                                                                                                                                                                                                                                                                                                                                                                                                                                                                                                                                                                                                                                                                                                                                                                                                                                                                                                                                                                                                                                                                                                                                                                                                                                                                                                                                                                                                                                                                                                                               \" 1989 SW8 estas asteroido de la asteroida zono malkovrita la 23-an de septembro 1989 de la belga astronomo Henri Debehogne elde la Observatorio La Silla en Ĉilio.\\n\" => \"eo\"\n",
       "                                                                                                                                                                                                                                                                                                                                                                                                                                                                                                                                                                                                                                                                                                                                                                                                                                                                                                                                                                                                                                                                                                                                                                                                                                                                                                                                                                                                                                                                                                                                                                                                                                                                                                                                                                                                                                                                                                                                                                                                                                                                                                                                                                                                                                                                                                                                                                                                                                                                                                                                                                                                                                                                                                                                                                                                                                                                                                                                                                                                                                                                                                                                                                                                                                                                                                                                                                                                                                                                                                                                                                                                                                                                                                                                                                          \" 1992 UW2 estas asteroido\\nde la asteroida zono malkovrita la 25-an de oktobro 1992 de la japana astronomo Satoru Otomo elde Kijosato .\\n\" => \"eo\"\n",
       "                                                                                                                                                                                                                                                                                                                                                                                                                                                                                                                                                                                                                                                                                                                                                                                                                                                                                                                                                                                                                                                                                                                                                                                                                                                                                                                                                                                                                                                                                                                                                                                                                                                                                                                                                                                                                                                                                                                                                                                                                                                                                                                                                                                                                                                                                                                                                                                                                                                                                                                                                                                                                                                                                                                                                                                                                                                                                                                                                                                                                                                                                                                                                                                                                                                                                                                                                                                                                                                                                                                                                                                                                                                                                                                                                                                                                                                                                                                      ⋮\n",
       "                                                                                                                                                                                                                                                                                                                                                                                                                                                                                                                                                                                                                                                                                                                            \"Bette Davis Eyes  הוא שיר שנכתב והולחן על ידי דונה וייס וג'קי דשאנון  בשנת 1974. 5  הוא הוקלט במקור על ידי דשאנון באותה השנה עבור אלבומה, New Arrangement, אך הוא זכה לפופולריות בעקבות הקלטתה של הזמרת האמריקאית קים קארנס ב-1981 כאשר גרסתה שהתה תשעה שבועות לא רצופים בראש מצעד הבילבורד הוט 100. השיר שהה במקום הראשון במשך חמישה שבועות אך ירד בעקבות \\\"Stars on 45\\\" ולאחר מכן, חזר למקום הראשון לארבעה שבועות נוספים והפך ללהיט הגדול ביותר בארצות הברית באותה השנה. 6  \\\"Bette Davis Eyes\\\" הגיע למקום הראשון ב-21 מדינות, 7  והגיע למקום העשירי במצעד הסינגלים הבריטי; השיר היחיד של קארנס שהגיע ל-40 העליונים במצעד. 8  הוא הגיע למקום השני גם בקנדה במשך 12 שבועות רצופים, והיה לשיר השני המצליח ביותר במדינה באותה השנה, אחרי \\\"Stars on 45\\\". 9 \\nהשיר זכה בפרסי גראמי בקטגוריית \\\"שיר השנה\\\" ו\\\"הקלטת השנה\\\", ודורג במקום ה-12 במצעד כל הזמנים של בילבורד, שפורסם לאחר 50 שנות פעילות. 10  \\\"Bette Davis Eyes\\\" יצא מחדש בהוצאת קלאופטרה רקורדס. 11  בנוסף לכך, הוא נחשב לאחד מ-50 השירים הנמכרים ביותר בכל הזמנים בצרפת, עם מכירות של למעלה ממיליון עותקים במדינה. 12 \\nהשיר נכתב בשנת 1974 על ידי דונה וייס וג'קי דשאנון, האחרונה שבהן הקליטה את השיר באותה השנה עבור אלבומה, New Arrangement. 13  בהקלטה המקורית, השיר בוצע בצורה שונה ואופיין בסוגת הרית'ם אנד בלוז; הוא כלל קטע פסנתר דומיננטי, כמו גם שימוש בגיטרות וכלי נשיפה. 14  עם זאת, רק במרץ 1981, כשקים קארנס הקליטה את גרסתה לשיר בעיבוד שבוסס על סינתיסייזר, זכה \\\"Bette Davis Eyes\\\" להצלחה מסחרית רבה. 5 \\nלדברי המפיק ואל גרי, הדגימה המקורית של המנגינה שהובאה לו נשמעה כמו שיר של ליאון ראסל. את הדגימה היה ניתן לשמוע בריאיון של ואל גרי ששודר בטלוויזיה ב-TAXI בשעה 21:50. 15  את השיר הפיצו בפורמט של תקליט 7 ו-12 אינץ' במרוצת השנים. 16  17 \\nהשחקנית בטי דייוויס הייתה בת 73 כשהגרסה של קים קארנס הפכה ללהיט. היא כתבה מכתבים לקארנס, וייס ודשאנון כדי להודות לשלושתן על שהפכו אותה ל\\\"חלק מהזמן המודרני\\\". לאחר הזכייה בפרס גראמי, דייוויס שלחה להן גם ורדים. 7 \\nאת הווידאו קליפ ביים במאי הקולנוע האוסטרלי ראסל מולקהי . 18 \\nBette Davis Eyes  הוקלט מחדש בשנת 2011, על ידי הזמרת-יוצרת האמריקאית טיילור סוויפט, כחלק מסיבוב ההופעות השני שלה \\\"Speak Now World Tour\\\". גרסתה יצאה לאור ב-21 בנובמבר 2011, בהוצאת חברת התקליטים ביג משין רקורדס. 24  הוא נכתב על ידי דונה וייס וג'קי דשאנון בדומה למקור, אך הופק על ידי סוויפט. 25  הגרסה הרשמית שלו יצאה בפורמטים הדיגיטליים ביחד עם אלבום ההופעה הראשון שלה, Speak Now World Tour – Live, בתאריך שצוין קודם לכן. 26 \\nגרסתה של סוויפט זכה לשבחים ביקורתיים מטעם מבקרי המוזיקה, אך חלקם טענו כי מדובר ב\\\"גרסה תמימה של סוויפט לשיר\\\". 27 \\n\\\"Bette Davis Eyes\\\" זכה לשבחים ביקורתיים מטעם מבקרי המוזיקה. ב-NME פורסמה רשימת \\\"השירים הטובים ביותר של טיילור סוויפט, לפי דירוג\\\", בה דורגה גרסתה של סוויפט במקום ה-123, ונכתב עליה כי: \\\"מדובר בשיר שזכה לפופולריות על ידי הזמרת והכותבת הקליפורנית קים קארנס ב-1981, גרסתה של טיילור ל-\\\"Bette Davis Eyes\\\" נחמדה, אך גם תמימה\\\". 27  ברשימת \\\"158 השירים הטובים ביותר של טיילור סוויפט, לפי דירוג\\\" שפורסמה ב-Paste דורגה הגרסה במקום ה-104, ונכתב עליה ביקורת קצרה גם כן. 28 \\nפרק זמן לצאתה, עלתה הגרסה לרשת הזרמת המדיה ספוטיפיי, תוך שהצליחה לצבור שם למעלה מ-5 מיליון השמעות. 29 \\n\" => \"he\"\n",
       "                                                                                                                                                                                                                                                                                                                                                                                                                                                                                                                                                                                                                                                                                                                                                                                                                                                                                                                                                                                                                                                                                                                                                                                                                                                                                                                                                                                                                                                                                                                                                                                                                                                                                                                                                                                                                                                                                                                                                                                                                                                                                                                                                                                                                                                                                                                                                                                                                                                                                                                                                                                                                                                                                                                                                                                                                                                                                                                                                                                                                                                                                                                                                                                                                                                                                                                                                                                                                                                                                                                                                                                                         \"Canadian Jewish News  הוא עיתון בפורמט של  טבלואיד בשפה האנגלית, המשרת את קהילת יהודי קנדה. מאז שנת 1971 העיתון הוא בבעלות קבוצת מנהיגים יהודים הקשורים לקונגרס יהדות קנדה. המהדורה הלאומית של העיתון מתפרסמת בטורונטו. מהדורה שבועית מתפרסמת מאז 1976 במונטריאול בשפה האנגלית, בתוספת מעט טקסט בצרפתית.\\n\" => \"he\"\n",
       "                                                                                                                                                                                                                                                                                                                                                                                                                                                                                                                                                                                                                                                                                                                                                                                                                                                                                                                                                                                                                                                                                                                                                                                                                                                                                                                                                                                                                                                                                                                                                                                                                                                                                                                                                                                                                                                                                                                                                                                                                                                                                                                                                                                                                                                                                                                                                                                                                                                                                                                                                                              \"In the Wee Small Hours הוא אלבום של הזמר פרנק סינטרה אותו ארגן נלסון רידל, האלבום יצא לאור בשנת 1955. באלבום זה הביא סינטרה את תפיסתו לאלבומי קונספט לדרגה חדשה. באלבום זה הגשים סינטרה באופן מלא את הרעיונות בהם אחז עוד מאלבומו הראשון The Voice of Frank Sinatra משנת 1946. אלבום זה הפך ברבות השנים לאחד מאלבומיו המפורסמים ביותר והמושמעים ביותר.\\nאלבום זה היה לאלבומו הראשון שיצא על אריך נגן בקוטר 30.5 ס\\\"מ, וחשוב יותר הוא הכיל לראשונה שירים שנכתבו והוקלטו במיוחד לאלבום זה, דבר שלא היה נכון במלואו לגבי אלבומיו הקודמים, שהכילו שירים רבים שהוקלטו בעבר על ידי אחרים.\\nהשירים באלבום In the Wee Small Hours היו בלדות שנסובו סביב אווירת הבדידות של שעות הלילה המאוחרות והיסורים על אהבה שאבדה . האלבום נפתח בשיר הנושא העגמומי, שנכתב זמן קצר לפני הקלטתו, ולאחריו מבחר של שירי פופ קלאסי , כל אחד מהם מאורגן באווירה מאופקת ורגועה על ידי הרכב נגנים קטן או כלי מייתר הנותנים אווירה מהורהרת.\\nעטיפת האלבום, נחשבת היום לקלאסיקה, מחזקת את נושא האלבום. העטיפה מציגה את סינטרה המהורהר, על רקע רחוב נטוש ומסתורי בשעת לילה מאוחרת.\\nבשנת 2003 דורג האלבום במקום ה 100 בדרוג 500 האלבומים החשובים ביותר של כל הזמנים על ידי המגזין רולינג סטון. כמו כן מופיע האלבום בספר \\\"1001 אלבומים שאתה חייו לשמוע לפני מותך\\\", שנכתב על יד רוברט דימרי. בשנת 2007 הוא נבחר על ידי טיים מגזין לאחד מ 100 האלבומים של כל הזמנים.\\n\" => \"he\"\n",
       " \"\\\"Iris\\\" הוא שיר אשר בוצע ידי להקת הרוק האלטרנטיבית האמריקנית גו גו דולס. השיר נכתב במקור לפסקול הסרט \\\"עיר של מלאכים\\\" אשר יצא לאקרנים ב-1998. רק לאחר מכן השיר נכלל באלבום השישי של הלהקה, \\\"Dizzy up the Girl\\\". השיר תרם רבות להצלחתה של הלהקה. מלבד הפיכתו לאחד ממרכיבי הרוק האלטרנטיביים הגדולים ביותר בתקופתו, השיר נותר גם אחד מלהיטי הקרוסאובר הגדולים ביותר בתולדות המוזיקה הפופולרית, מגיע למקום הראשון בכל הפורמטים הללו והפך לשיר המושמע ביותר של 1998 בכל הפורמטים.\\nעם שחרורו, השיר היה לשני מבין שרשרת להיטים מפסקול הסרט . השיר הגיע בתחילה למקום ה-66 במצעד ה-100 Airplay Billboard Hot , ובהמשך הוא כיכב בפסגת המצעד Hot 100 Airplay במשך 18 שבועות. השיר הגיע למקום הראשון באוסטרליה, קנדה ואיטליה, מקום שלוש בבריטניה, והפך לאחד הסינגלים הנמכרים ביותר באירלנד בכל הזמנים. \\\"Iris\\\" הוא השיר הידוע ביותר של הלהקה וזכה לשבחי הביקורת.\\nלאחר השלמת העריכה הראשונה בסרט \\\"עיר המלאכים\\\", המפיק המשותף בוב קוואלו ובנו המפיק המוזיקלי רוב קבאלו החליטו לקחת אמנים מוזיקליים על מנת ליצור את הפסקול. בוב לקח את אלניס מוריסט ואילו רוב לקח את Goo Goo Dolls. ג'ון רזניק  הגיש לרוב שיר שכתב בשם \\\"Iris\\\". בראיון שנערך עם Songfacts בשנת 2013 הסביר הזמר רז'ניק כיצד כתב את השיר:\\n\\\"חשבתי על המצב של הדמות של ניקולה קייג 'בסרט. הבחור הזה מוכן לחלוטין לוותר על אלמוות שלו, רק כדי להיות מסוגל להרגיש משהו מאוד אנושי. ואני חושב, 'וואו! איזה דבר מדהים זה חייב להיות לאהוב מישהו כל כך הרבה שאתה מוותר על הכל כדי להיות איתו.' זו מחשבה די כבדה. \\\"\\nרזניק כינה את השיר על שם איריס דמנט , לאחר שהבחין בשמה בהופעה שהופיעה בעיתון LA Weekly.\\nעם צאתו, \\\"Iris\\\" הפך למקום השני במחרוזת הלהיטים מפסקול הסרט. השיר עלה לראשונה במקום 66 במצעד הבילבורד הוט 100 של Airplay ב-18 באפריל 1998, ובסופו של דבר בילה שיא של 18 שבועות במקום הראשון בהוט 100 Airplay. עם זאת, לא הייתה הרשאה להכניסו ב-Billboard Hot 100 מכיוון שלא פורסם סינגל מסחרי. בדצמבר 1998, ממש אחרי שהשידור של השיר הגיע לשיאו, הכללים השתנו כדי לאפשר להעלות שירים בלבד לשידור. כתוצאה מכך השיר הופיע לראשונה והגיע למקום התשע ונשאר במצעד 14 שבועות. במצעד הרוק טראקס של המיינסטרים, \\\"Iris\\\" הגיע לשיא במקום השמיני. השיר היה הלהיט השני במקום הראשון במצעד הרצועות המודרניות, בעקבות להיטם \\\"שם\\\" מ-1995. \\\"Iris\\\" נשאר במקום הראשון במשך חמישה שבועות במצעד השירים האלטרנטיביים והגיע למקום הראשון במצעד 40 הגדולים של המיינסטרים במשך ארבעה שבועות. השיר בילה שיא של 17 שבועות במקום הראשון במצעד 40 הגדולים של בילבורד למבוגרים . Goo Goo dolls ביצעו את \\\"Iris\\\" ב-20 באוקטובר 2001, במדיסון סקוור גארדן, במסגרת הקונצרט לעיר ניו יורק לגיוס כסף לקורבנות התקיפות ב-11 בספטמבר.\\n\\\"Iris\\\" היה גם להיט בינלאומי גדול. השיא הגיע למקום החמישי במצעד הסינגלים האירי ומאז הפך לסינגל ה-19 הנמכר ביותר בכל הזמנים באירלנד. השיר הגיע לראשונה לשיא במקום 50 בבריטניה באוגוסט 1998 לפני שהגיע למקום 26 בשנה שלאחר מכן. ב-2 באוקטובר 2011, לאחר הופעות של אודישנים ב-The X Factor, השיר נכנס שוב למצעד הסינגלים בבריטניה במקום השלישי. בחודש מאי 2013, השיר הוצג במקום ה-12 לאחר שכוסה על ידי מתמודד ה-Got Talent של בריטניה רובי קנדי. במקום אחר הפך השיר ללהיט מספר אחד באיטליה , באוסטרליה  ובקנדה , והוא הגיע לעשירייה הראשונה בפלנדריה והולנד.\\nמלבד הצלחת השיר במצעדים, \\\"Iris\\\" זכתה לשבחי הביקורת. בטקס פרסי הגראמי ה-41 קיבל השיר מועמדויות ל\\\"תקליט השנה\\\" ול\\\"ביצועי פופ של צמד או קבוצה\\\". השיר זיכה גם את ג'וני רז'ניק למועמדות \\\"שיר השנה\\\". הסינגל הועמד על ידי ארגון תעשיית ההקלטות באמריקה לפלטינה מרובעת ב-28 בפברואר 2018. השיר דורג במקום 39 ברשימת רולינג סטון עם 100 שירי הפופ הגדולים ביותר.\\nבאוקטובר 2012 דורג \\\"Iris\\\" במקום הראשון במצעד \\\"100 שירי הפופ המובילים 1992–2012\\\" של בילבורד, שדירג את שירי המעלה הראשונים של 20 השנים הראשונות במצעד המיינסטרים. ברשימה הוצגו גם הלהיטים \\\"Slide\\\" של The Goo Goo Dolls, המדורגים במקום התשע, ו-\\\"Name\\\" במקום 24. The Goo Goo Dolls הם המוזיקאים היחידים שהיו להם שלושה שירים ברשימה, שניים שברו את העשירייה הראשונה ושלשתם דורגו בין 25 הראשונים.\\n\" => \"he\"\n",
       "                                                                                                                                                                                                                                                                                                                                                                                                                                                                                                                                                                                                                                                                                                                                                                                                                                                                                                                                                                                                                                                                                                                                                                                                                                                                                                                                                                                                                                                                                                                                                                                                                                                                                                                                                                                                                                                                                                                                                                                                                                                                                                                                                                                                                                                                                                                                                                                                                                                                                                                                                                                                                                                                   \"Marry Me  הוא שיר שהוקלט על ידי הזמרת האמריקאית ג'ניפר לופז, ביחד עם הזמר הקולומביאני מאלומה מתוך פסקול הסרט, \\\"חתונה בהפתעה\\\" . 3  השיר יצא לאור ב-2 בפברואר 2022, על ידי חברות התקליטים סרטי יוניברסל וסוני מיוזיק לטין, כסינגל השלישי מתוך הפסקול. 3 \\nהשיר הגיע למקום השמיני במצעד הסינגלים של הונגריה. 4 \\nשתי גרסאות שונות של השיר הוקלטו בידי ג'ניפר לופז ומאלומה: גרסת בלדה וגרסה קצבית שסומנה בקרדיטים כ-\\\"Kat & Bastian Duet\\\". 3  גרסת הבלדה נכתבה על ידי מייקל פולק, ניקולס סרזן, אוליביה וית', מאלומה ואדגר באררה והופקה על ידי קים בורס וקווין טיזלי. הגרסה הקצבית הופקה על ידי מייקל פולק, דה מונסטרס & סטריינג'רז וניקולס סרזן וכוללת כתיבה נוספת של סטפן ג'ונסון, ג'ורדן ג'ונסון ואוליבר פטרהוף. 3  שתיהן סומנו כשירי פופ, בשל היותו של הפסקול ככזה הכולל שירים מהסוגה המוזיקלית הזו. 3 \\nבסמוך לצאתו, עלה השיר לרשת הזרמת המדיה ספוטיפיי, תוך שהצליח לצבור שם למעלה מ-8.5 מיליון השמעות. 5 \\nהווידאו קליפ הרשמי של גרסת הבלדה לשיר פורסם ב-11 במרץ 2022 וכולל הופעת אורח של בן אפלק. 6  הקליפ הרשמי של הגרסה הקצבית לשיר פורסם ב-18 במרץ 2021 בפייסבוק בלבד, במטרה לעזור בקידום המסחרי של הסרט, הפסקול והשיר במדיה החברתית, פרט ליוטיוב . 7  8 \\nנכון לאפריל 2022, מונה הצפיות של הקליפ עומד על למעלה מ-2.2 מיליון צפיות. 8 \\n\" => \"he\"\n",
       "                                                                                                                                                                                                                                                                                                                                                                                                                                                                                                                                                                                                                                                                                                                                                                                                                                                                                                                                                                                                                                                                                                                                                                                                                                                                                                                                                                                                                                                                                                                                                                                                                                                                                                                                                                                                                                                                                                                                                                                                                                                                                                                                                                                                                                                                                                                                                                                                                                                                                                                                                                                                                                                                                                                                                                                                                                                                                                                                      \"Monster  הוא שיר של הזמרת-יוצרת האמריקאית ליידי גאגא, מתוך המיני-אלבום השלישי שלה, The Fame Monster. 1  השיר יצא לאור ב-18 בנובמבר 2009, ביחד עם צאתו של המיני-אלבום. 1  השיר הוא שיר הנושא של המיני-אלבום. 1 \\nהשיר הגיע אל המקום השישי במצעד השירים שבהונגריה. 2 \\nהשיר נכתב על ידי ליידי גאגא, רד וואן וספייס קובוי, הולחן על ידי גאגא והופק על ידי גאגא ורד וואן גם כן. 1  השיר כשמו, מדבר על מפלצת  שגורמת לגאגא להתנהל ולהתקיים בצורה מסוימת, תוך שיש בו אזכור ללהיטה \\\"Just Dance\\\", שיצא בשנת 2008. 1 \\nכמה שנים לאחר צאתו, עלה השיר לרשת הזרמת המדיה ספוטיפיי, תוך שהצליח לצבור שם למעלה מ-42 מיליון השמעות. 3 \\nבמצעדים זכה השיר להצלחה רבה למרות שלא יצא כסינגל, תוך שנכנס למקום השישי במצעד השירים שבהונגריה. 2  במצעד המוזיקה האוסטרלי התברג במקום ה-80, 4  במצעד הסינגלים הבריטי התברג במקום ה-68, 5  ובמצעד השירים מתחת להוט 100 התברג במקום ה-12. 6 \\nאיגוד תעשיית ההקלטות האמריקאי העניק לשיר את תואר הזהב, על מכירות של למעלה מ-500,000 עותקים במדינה. 7 \\n\" => \"he\"\n",
       "                                                                                                                                                                                                                                                                                                                                                                                                                                                                                                                                                                                                                                                                                                                                                                                                                                                                                                                                                                                                                                                                                                                                                                                                                                                                                                                                                                                                                                                                                                                                                                                                                                                                                                                                                                                                                                                                                                                                                                                                                                                                                                                                                                                                                                                                                                                                                                                                                                                                                                                                                                                                                                                                                                                                                                                                                                                                                                                                                                                                                                                                                                                                                                                                                                               \"No Candle No Light הוא סינגל שהוקלט על ידי הזמר-יוצר האנגלי זאין, בשיתוף הראפרית הטרינידדית ניקי מינאז', מתוך אלבום האולפן השני שלו, Icarus Falls. השיר יצא לאור ב-15 בנובמבר 2018, על ידי חברת התקליטים תקליטי RCA, כסינגל השישי מהאלבום. 3 \\nהשיר נכתב על ידי זאין מאליק, ניקי מינאז', בריטני קוני, בלו ג'ון, קתרין אוסטנברג, בריאן לי, טי ג'יי רוטון וטושאר אפטה, והופק על ידי טושאר אפטה, סוייר ובריאן לי. השיר מכיל בתוכו את סגנונות ההאוס הטרופי, ה-EDM והפופ. 4 \\nבסמוך לצאתו, עלה השיר לרשת הזרמת המדיה ספוטיפיי, תוך שהצליח לצבור למעלה מ-36 מיליון השמעות. 5 \\nכלפי השיר הופנו ביקורות מעורבות וחיוביות  כאחד, מטעם אתרי מוזיקה ומגזינים שונים. 4  6  7 \\n\" => \"he\"\n",
       "                                                                                                                                                                                                                                                                                                                                                                                                                                                                                                                                                                                                                                                                                                                                                                                                                                                                                                                                                                                                                                                                                                                                                                                                                                                                                                                                                                                                                                                                                                                                                                                                                                                                                                                                                                                                                                                                                                                                                                                                                                                                                                                                                                                                                                                                                                                                                                                                                                                                                                                                                                                                                                                                                                                                                                                                                                                                                                                                                                                                                                                                                                                                                                                                                                                                                                                                                     \"S-Band  היא הגדרה של המכון למהנדסי חשמל ואלקטרוניקה  עבור חלק תחום תדרי המיקרוגל בספקטרום האלקטרומגנטי המכסה את התדרים 2–4 ג'יגה הרץ . לפי הגדרה זו, הרצועה למעשה חוצה את הגבול המקובל בין הרצועות UHF ו-SHF ב-3.0 GHz. \\nרצועת S משמשת מכ\\\"ם פיקוח על שדה תעופה לבקרת תעבורה אווירית, מכ\\\"ם מזג אוויר, מכ\\\"ם של ספינות וכן כמה לווייני תקשורת, במיוחד כאלה המשמשים את נאס\\\"א לתקשורת עם תחנת החלל הבינלאומית. הפס הקצר, בן ה-10 ס\\\"מ של מכ\\\"ם נע בערך בין 1.55 ל־5.2 GHz. \\nההגדרה S-Band מכילה גם את 2.4–2.483 GHz שהם תדרים ללא רישוי, בשימוש נרחב, למשל:\\n\" => \"he\"\n",
       "                                                                                                                                                                                                                                                                                                                                                                                                                                                                                                                                                                                                                                                                                                                                                                                                                                                                                                                                                                                                                                                                                                                                                                                                                                                                                                                                                                                                                                                                                                                                                                                                                                                                                                                                                                                                                                                                                                                                                                                                                                                                                                                                                                                                                                                                                                                                                                                                                                                                                                                                                                                                                                                                                                                                                                                                                                                                                                                                                                                                                                                                                                                                    \"That's How You Know  הוא שיר שהוקלט על ידי הצמד הנורווגי ניקו & וינז, ביחד עם הראפר האמריקאי קיד אינק והזמרת-יוצרת האמריקאית ביבי רקסה, מתוך האלבום, Cornerstone. 2  השיר יצא לאור ב-17 ביולי 2015, על ידי חברת התקליטים האחים וורנר, כסינגל מתוך האלבום. 2  במקור, הופץ השיר ללא אינק ורקסה. 3 \\nהשיר הגיע למקום ה-33 במצעד השירים הקצביים. 4 \\nהשיר נכתב על ידי ג'וליה מייקלס, וינסנט דרי, בריאן קולינס וניקולאי סרבה והופק על ידי וורן \\\"אואק\\\" פלדר. 5  הקליפ הרשמי של השיר הופץ ב-1 בספטמבר 2015 באורך כולל של 4 דקות ו-4 שניות. 6  את הקליפ ביימו אר ג'יי קולינס ופסקאל גוטיירז. 6  הקליפ כולל מסיבת בית, בה כל ארבעת האמנים שרים תוך שישנם רקדנים ליווי מסביבם. 6 \\nבסמוך לצאתו, עלה השיר לרשת הזרמת המדיה ספוטיפיי, תוך שהצליח לצבור שם למעלה מ-150 מיליון השמעות. 2 \\n\" => \"he\""
      ]
     },
     "metadata": {},
     "output_type": "display_data"
    }
   ],
   "source": [
    "WV"
   ]
  },
  {
   "cell_type": "code",
   "execution_count": null,
   "metadata": {},
   "outputs": [],
   "source": [
    "# import Pkg; Pkg.add([\"LanguageFinder\", \"LanguageDetect\", \"Languages\"])"
   ]
  },
  {
   "cell_type": "code",
   "execution_count": 7,
   "metadata": {},
   "outputs": [
    {
     "data": {
      "text/plain": [
       "LogLevel(1)"
      ]
     },
     "metadata": {},
     "output_type": "display_data"
    }
   ],
   "source": [
    "# import LanguageFinder: LanguageFind\n",
    "# detector_lf(t) = LanguageFind(t, 0).lang\n",
    "import LanguageDetect: detect\n",
    "detector_ld(t) = first(detect(t)).language\n",
    "import Languages: LanguageDetector, isocode\n",
    "Languages_detector = LanguageDetector()\n",
    "function detector_ls(t)\n",
    "    l = Languages_detector(t) |> first\n",
    "    if l == nothing\n",
    "        return \"\"\n",
    "    else\n",
    "     return l |> isocode\n",
    "    end\n",
    "end\n",
    "using Logging\n",
    "Logging.disable_logging(Logging.Info)"
   ]
  },
  {
   "cell_type": "code",
   "execution_count": 8,
   "metadata": {},
   "outputs": [
    {
     "data": {
      "text/plain": [
       "bmk (generic function with 1 method)"
      ]
     },
     "metadata": {},
     "output_type": "display_data"
    }
   ],
   "source": [
    "function bmk(detector, D, langs)\n",
    "    tp = zeros(length(langs))\n",
    "    total = zeros(length(langs))\n",
    "    for (x, y) in D\n",
    "        y = normcode(y)\n",
    "        if y in langs\n",
    "            ind = findfirst(isequal(y), langs)\n",
    "            y_ = \"\"\n",
    "            try\n",
    "                y_ = normcode(detector(x))\n",
    "            catch\n",
    "                println(\"Error: $detector($(repr(x)))\")\n",
    "            end\n",
    "            if y_ == y\n",
    "                tp[ind] += 1\n",
    "            end\n",
    "            total[ind] += 1\n",
    "        end\n",
    "    end\n",
    "    tp ./ total\n",
    "end\n"
   ]
  },
  {
   "cell_type": "code",
   "execution_count": 10,
   "metadata": {},
   "outputs": [
    {
     "data": {
      "text/plain": [
       "showtable (generic function with 1 method)"
      ]
     },
     "metadata": {},
     "output_type": "display_data"
    }
   ],
   "source": [
    "using Printf\n",
    "function showtable(rows...; header=true)\n",
    "    fmt(v) = v isa Real ? (v!=0 ? (@sprintf \"%0.2f%%\" v*100) : \"-\") : v\n",
    "    tb = hcat((r->vcat(r...)).(rows)...)\n",
    "    hd = (header isa Bool) ? header : [\"\"; header]\n",
    "    markdown_table(Tables.table(permutedims(tb), header=hd),String, formatter=fmt)|>print\n",
    "    markdown_table(Tables.table(permutedims(tb), header=hd), formatter=fmt)\n",
    "end"
   ]
  },
  {
   "cell_type": "markdown",
   "metadata": {},
   "source": [
    "## tatoeba"
   ]
  },
  {
   "cell_type": "code",
   "execution_count": 20,
   "metadata": {},
   "outputs": [
    {
     "name": "stdout",
     "output_type": "stream",
     "text": [
      "Error: detector_ls(\"w!\")\n"
     ]
    },
    {
     "name": "stdout",
     "output_type": "stream",
     "text": [
      "Error: detector_ls(\"Muiriel은 지금 20살입니다.\")\n",
      "Error: detector_ls(\"비밀번호는 \\\"Muiriel\\\" 입니다.\")\n",
      "Error: detector_ls(\"1, 3 그리고 5는 홀수이다.\")\n",
      "Error: detector_ls(\"Muiriel은 지금 20살이야.\")\n",
      "Error: detector_ls(\"냠!\")\n",
      "Error: detector_ls(\"응.\")\n"
     ]
    },
    {
     "name": "stdout",
     "output_type": "stream",
     "text": [
      "Error: detector_ls(\"Se alkaa 6:30.\")\n"
     ]
    },
    {
     "name": "stdout",
     "output_type": "stream",
     "text": [
      "Error: detector_ls(\"Hän syntyi 28.7.1888.\")\n"
     ]
    },
    {
     "name": "stdout",
     "output_type": "stream",
     "text": [
      "Error: detector_ls(\"Öö...\")\n",
      "Error: detector_ls(\"Yäk!\")\n"
     ]
    },
    {
     "name": "stdout",
     "output_type": "stream",
     "text": [
      "Error: detector_ls(\"Heippa, 2017!\")\n"
     ]
    },
    {
     "name": "stdout",
     "output_type": "stream",
     "text": [
      "Error: detector_ls(\"Ɛreḍ!\")\n"
     ]
    },
    {
     "name": "stdout",
     "output_type": "stream",
     "text": [
      "Error: detector_ls(\"Aẓ-d.\")\n"
     ]
    },
    {
     "name": "stdout",
     "output_type": "stream",
     "text": [
      "Error: detector_ls(\"Ečč mliḥ!\")\n"
     ]
    },
    {
     "name": "stdout",
     "output_type": "stream",
     "text": [
      "Error: detector_ls(\"Ccḍeɣ.\")\n"
     ]
    },
    {
     "name": "stdout",
     "output_type": "stream",
     "text": [
      "Error: detector_ls(\"Ass n 28 Number 2020: 9455, 02:39, tura hah!\")\n"
     ]
    },
    {
     "name": "stdout",
     "output_type": "stream",
     "text": [
      "Error: detector_ls(\"Twehmeḍ?\")\n"
     ]
    },
    {
     "name": "stdout",
     "output_type": "stream",
     "text": [
      "Error: detector_ls(\"Qleε!\")\n"
     ]
    },
    {
     "name": "stdout",
     "output_type": "stream",
     "text": [
      "Error: detector_ls(\"Tɛezmeḍ-d.\")\n",
      "Error: detector_ls(\"Tɛeṭṭleḍ mliḥ.\")\n"
     ]
    },
    {
     "name": "stdout",
     "output_type": "stream",
     "text": [
      "Error: detector_ls(\"Rǧiɣ.\")\n"
     ]
    },
    {
     "name": "stdout",
     "output_type": "stream",
     "text": [
      "Error: detector_ls(\"Ẓeɛḍeɣ.\")\n"
     ]
    },
    {
     "name": "stdout",
     "output_type": "stream",
     "text": [
      "Error: detector_ls(\"Ttuɣ-t.\")\n",
      "Error: detector_ls(\"Aṛẓaẓ\")\n"
     ]
    },
    {
     "name": "stdout",
     "output_type": "stream",
     "text": [
      "Error: detector_ls(\"Tcuff.\")\n"
     ]
    },
    {
     "name": "stdout",
     "output_type": "stream",
     "text": [
      "Error: detector_ls(\"Txezreḍ-t.\")\n"
     ]
    },
    {
     "name": "stdout",
     "output_type": "stream",
     "text": [
      "Error: detector_ls(\"Ṛjiɣ.\")\n"
     ]
    },
    {
     "name": "stdout",
     "output_type": "stream",
     "text": [
      "Error: detector_ls(\"Tgiḍ-t.\")\n"
     ]
    },
    {
     "name": "stdout",
     "output_type": "stream",
     "text": [
      "Error: detector_ls(\"Tferḥeḍ.\")\n",
      "Error: detector_ls(\"Nqeb.\")\n"
     ]
    },
    {
     "name": "stdout",
     "output_type": "stream",
     "text": [
      "Error: detector_ls(\"Iḥu, iḥu!\")\n"
     ]
    },
    {
     "name": "stdout",
     "output_type": "stream",
     "text": [
      "Error: detector_ls(\"Ужо 7.\")\n"
     ]
    },
    {
     "name": "stdout",
     "output_type": "stream",
     "text": [
      "Error: detector_ls(\"Цсс!\")\n"
     ]
    },
    {
     "name": "stdout",
     "output_type": "stream",
     "text": [
      "Error: detector_ls(\"A 12:45?\")\n"
     ]
    },
    {
     "name": "stdout",
     "output_type": "stream",
     "text": [
      "Error: detector_ls(\"Тише!\")\n",
      "Error: detector_ls(\"Брзо!\")\n",
      "Error: detector_ls(\"Хоћеш?\")\n",
      "Error: detector_ls(\"Гледај, гледај!\")\n"
     ]
    },
    {
     "name": "stdout",
     "output_type": "stream",
     "text": [
      "Error: detector_ls(\"Hysj!\")\n"
     ]
    },
    {
     "name": "stdout",
     "output_type": "stream",
     "text": [
      "Error: detector_ls(\"הרגע!\")\n",
      "Error: detector_ls(\"שתקי!\")\n",
      "Error: detector_ls(\"עדיף שתלך.\")\n"
     ]
    },
    {
     "name": "stdout",
     "output_type": "stream",
     "text": [
      "Error: detector_ls(\"אני בן 19.\")\n",
      "Error: detector_ls(\"מוסכם.\")\n",
      "Error: detector_ls(\"איך את מבטאת \\\"pronounce\\\"?\")\n",
      "Error: detector_ls(\"התיבה ריקה.\")\n"
     ]
    },
    {
     "name": "stdout",
     "output_type": "stream",
     "text": [
      "Error: detector_ls(\"הצגה יפה!\")\n",
      "Error: detector_ls(\"מוטב לך ללכת.\")\n"
     ]
    },
    {
     "name": "stdout",
     "output_type": "stream",
     "text": [
      "Error: detector_ls(\"תלבושת יפה!\")\n",
      "Error: detector_ls(\"זה דבר טוב מאד.\")\n",
      "Error: detector_ls(\"מה חדש אצלך?\")\n",
      "Error: detector_ls(\"פשוט תשתחרר.\")\n"
     ]
    },
    {
     "name": "stdout",
     "output_type": "stream",
     "text": [
      "Error: detector_ls(\"מהי טטואבה?\")\n",
      "Error: detector_ls(\"הקוף ברח.\")\n",
      "Error: detector_ls(\"ד\\\"ש לגברת.\")\n",
      "Error: detector_ls(\"אבקש ספל קפה.\")\n",
      "Error: detector_ls(\"צא מכאן.\")\n"
     ]
    },
    {
     "name": "stdout",
     "output_type": "stream",
     "text": [
      "Error: detector_ls(\"זה קר כקרח.\")\n",
      "Error: detector_ls(\"כבר סיימת?\")\n",
      "Error: detector_ls(\"מת?\")\n",
      "Error: detector_ls(\"תיזכרו!\")\n"
     ]
    },
    {
     "name": "stdout",
     "output_type": "stream",
     "text": [
      "Error: detector_ls(\"זה חתול?\")\n",
      "Error: detector_ls(\"תסתפר.\")\n"
     ]
    },
    {
     "name": "stdout",
     "output_type": "stream",
     "text": [
      "Error: detector_ls(\"הסיסמה - \\\"Muiriel\\\".\")\n",
      "Error: detector_ls(\"יש לך בלוג?\")\n",
      "Error: detector_ls(\"השגריר חזר.\")\n",
      "Error: detector_ls(\"כמה זה גדול?\")\n"
     ]
    },
    {
     "name": "stdout",
     "output_type": "stream",
     "text": [
      "Error: detector_ls(\"עוף מפה!\")\n",
      "Error: detector_ls(\"זה צלב בצבע זהב, פשוט יפה.\")\n",
      "Error: detector_ls(\"תפוֹס!\")\n"
     ]
    },
    {
     "name": "stdout",
     "output_type": "stream",
     "text": [
      "Error: detector_ls(\"מוסכם!\")\n",
      "Error: detector_ls(\"כמה חם!\")\n"
     ]
    },
    {
     "name": "stdout",
     "output_type": "stream",
     "text": [
      "Error: detector_ls(\"יש מכשול נוסף.\")\n",
      "Error: detector_ls(\"מוטב שתסתלקו מפה.\")\n",
      "Error: detector_ls(\"עדיף שתצא מפה.\")\n",
      "Error: detector_ls(\"התנהג כגבר.\")\n",
      "Error: detector_ls(\"הביטו, נחש!\")\n"
     ]
    },
    {
     "name": "stdout",
     "output_type": "stream",
     "text": [
      "Error: detector_ls(\"שב פה.\")\n",
      "Error: detector_ls(\"תזדהו.\")\n",
      "Error: detector_ls(\"השארו קצת.\")\n",
      "Error: detector_ls(\"זה נשרף.\")\n",
      "Error: detector_ls(\"לך לשבת.\")\n",
      "Error: detector_ls(\"זה נחוץ.\")\n",
      "Error: detector_ls(\"כתוב תשובה.\")\n",
      "Error: detector_ls(\"מה גובהו?\")\n",
      "Error: detector_ls(\"הצמד לזה!\")\n",
      "Error: detector_ls(\"זה תקציר.\")\n",
      "Error: detector_ls(\"זה נראה סביר.\")\n"
     ]
    },
    {
     "name": "stdout",
     "output_type": "stream",
     "text": [
      "Error: detector_ls(\"הבנק הלווה לחברה \\$1,000,000.\")\n"
     ]
    },
    {
     "name": "stdout",
     "output_type": "stream",
     "text": [
      "Error: detector_ls(\"סבי קצת חרש.\")\n",
      "Error: detector_ls(\"נחת?\")\n",
      "Error: detector_ls(\"זה נראה קרוב.\")\n"
     ]
    },
    {
     "name": "stdout",
     "output_type": "stream",
     "text": [
      "Error: detector_ls(\"תרפו מהנשק!\")\n",
      "Error: detector_ls(\"פשוט שכב בלי תזוזה.\")\n",
      "Error: detector_ls(\"רק תשאר שם.\")\n",
      "Error: detector_ls(\"גש לשם.\")\n",
      "Error: detector_ls(\"אפסיד.\")\n",
      "Error: detector_ls(\"כמה זה יקר?\")\n",
      "Error: detector_ls(\"תום מת ב-2009.\")\n",
      "Error: detector_ls(\"חבל כשמישהו מת.\")\n",
      "Error: detector_ls(\"\\\"בן כמה אתה?\\\" \\\"בן 16\\\".\")\n"
     ]
    },
    {
     "name": "stdout",
     "output_type": "stream",
     "text": [
      "Error: detector_ls(\"תמיד פתוח.\")\n",
      "Error: detector_ls(\"הִרגע.\")\n",
      "Error: detector_ls(\"מסכימה.\")\n",
      "Error: detector_ls(\"תפסיקו!\")\n",
      "Error: detector_ls(\"תלכו מפה!\")\n",
      "Error: detector_ls(\"תעזבי!\")\n",
      "Error: detector_ls(\"תום עוזב ב-2:30.\")\n",
      "Error: detector_ls(\"רואה?\")\n"
     ]
    },
    {
     "name": "stdout",
     "output_type": "stream",
     "text": [
      "Error: detector_ls(\"أحبك.\")\n",
      "Error: detector_ls(\"اخرج!\")\n",
      "Error: detector_ls(\"كم ثمنها؟\")\n",
      "Error: detector_ls(\"بيتك يحتاج لإصلاح.\")\n",
      "Error: detector_ls(\"أحتاج نصيحتك.\")\n",
      "Error: detector_ls(\"أخذتَ مفتاحًا خطأً.\")\n",
      "Error: detector_ls(\"كفى.\")\n",
      "Error: detector_ls(\"عُد قريبًا.\")\n"
     ]
    },
    {
     "name": "stdout",
     "output_type": "stream",
     "text": [
      "Error: detector_ls(\"هناك إضراب.\")\n",
      "Error: detector_ls(\"هل سوف نلتقي غداً؟\")\n",
      "Error: detector_ls(\"كيفَ سيدفع ديونهُ؟\")\n",
      "Error: detector_ls(\"دمك أحمر.\")\n",
      "Error: detector_ls(\"أُدخُلْ.\")\n",
      "Error: detector_ls(\"لم نَنْسَ\")\n",
      "Error: detector_ls(\"أضعت رقم هاتفك.\")\n",
      "Error: detector_ls(\"هيا\")\n"
     ]
    },
    {
     "name": "stdout",
     "output_type": "stream",
     "text": [
      "Error: detector_ls(\"صف سيارتك حيث ترغب.\")\n",
      "Error: detector_ls(\"أحترم آراءكم.\")\n",
      "Error: detector_ls(\"لنسرع.\")\n",
      "Error: detector_ls(\"أظن.\")\n",
      "Error: detector_ls(\"يبدو ذاك كسامي.\")\n",
      "Error: detector_ls(\"لقد غضبوا.\")\n"
     ]
    },
    {
     "name": "stdout",
     "output_type": "stream",
     "text": [
      "Error: detector_ls(\"تشبّث.\")\n",
      "Error: detector_ls(\"زغردي.\")\n",
      "Error: detector_ls(\"سأذاكر.\")\n",
      "Error: detector_ls(\"لم نختبئ؟\")\n",
      "Error: detector_ls(\"هل نسيت شيئا؟\")\n",
      "Error: detector_ls(\"أحب قطتك.\")\n",
      "Error: detector_ls(\"اخفضي رأسك!\")\n",
      "Error: detector_ls(\"هَلْ يَرْتَدُّ أَحَدٌ مِنْهُمْ سَخْطَةً لِدِينِهِ بَعْدَ أَنْ يَدْخُلَ فِيهِ ؟\")\n",
      "Error: detector_ls(\"ارتخى زيري.\")\n",
      "Error: detector_ls(\"وعد زيري.\")\n",
      "Error: detector_ls(\"ابتسم زيري.\")\n",
      "Error: detector_ls(\"وقف زيري.\")\n",
      "Error: detector_ls(\"تقاعد زيري.\")\n",
      "Error: detector_ls(\"نزل زيري.\")\n",
      "Error: detector_ls(\"ادرسي\")\n",
      "Error: detector_ls(\"\\u202cأَنْذَرَهُ\\u202e \\u202cبتَسْلِيمِ\\u202e \\u202cمَنْزِلِهِ.\")\n",
      "Error: detector_ls(\"هو يثق بي.\")\n",
      "Error: detector_ls(\"هل لديك شك.\")\n",
      "Error: detector_ls(\"اختطف زيري.\")\n",
      "Error: detector_ls(\"إضرب!\")\n",
      "Error: detector_ls(\"لدي رقم هاتفه.\")\n"
     ]
    },
    {
     "name": "stdout",
     "output_type": "stream",
     "text": [
      "Error: detector_ls(\"صححوه.\")\n",
      "Error: detector_ls(\"لنعُد !\")\n",
      "Error: detector_ls(\"أعرفكم.\")\n",
      "Error: detector_ls(\"زيري طباخ.\")\n",
      "Error: detector_ls(\"لقد ذهب زيري.\")\n",
      "Error: detector_ls(\"كيف فزت؟\")\n",
      "Error: detector_ls(\"تغطى.\")\n",
      "Error: detector_ls(\"هو ذهب.\")\n",
      "Error: detector_ls(\"سيتبعكم.\")\n",
      "Error: detector_ls(\"جف شعره.\")\n",
      "Error: detector_ls(\"نظر.\")\n",
      "Error: detector_ls(\"صححه.\")\n",
      "Error: detector_ls(\"ضربوه.\")\n",
      "Error: detector_ls(\"قلوه.\")\n",
      "Error: detector_ls(\"قطعوه.\")\n",
      "Error: detector_ls(\"غطوه.\")\n",
      "Error: detector_ls(\"أغرقوه.\")\n",
      "Error: detector_ls(\"هل كسرته؟\")\n",
      "Error: detector_ls(\"لقد غلبه.\")\n",
      "Error: detector_ls(\"هل أعجبوه؟\")\n",
      "Error: detector_ls(\"سأتذوقه.\")\n",
      "Error: detector_ls(\"ستخنقه.\")\n",
      "Error: detector_ls(\"جدوه.\")\n"
     ]
    },
    {
     "name": "stdout",
     "output_type": "stream",
     "text": [
      "Error: detector_ls(\"سيغلبهن.\")\n",
      "Error: detector_ls(\"سبقتك.\")\n",
      "Error: detector_ls(\"هل يحبونك؟\")\n",
      "Error: detector_ls(\"هل يخيفونك؟\")\n",
      "Error: detector_ls(\"سأحاكمك.\")\n",
      "Error: detector_ls(\"سيمسكك.\")\n",
      "Error: detector_ls(\"سيحمينك.\")\n",
      "Error: detector_ls(\"ستتبعك.\")\n",
      "Error: detector_ls(\"سيحرسونك.\")\n",
      "Error: detector_ls(\"ستسعدك.\")\n",
      "Error: detector_ls(\"أحدثت ضجّة.\")\n",
      "Error: detector_ls(\"هل لديك هاتف؟\")\n",
      "Error: detector_ls(\"هل لديك مكتبة؟\")\n",
      "Error: detector_ls(\"كتبت.\")\n",
      "Error: detector_ls(\"هل كتبن رسالة؟\")\n",
      "Error: detector_ls(\"بلدي.\")\n",
      "Error: detector_ls(\"لن نتزوّج.\")\n",
      "Error: detector_ls(\"يحتاجك رضيعك.\")\n",
      "Error: detector_ls(\"فقدت رقمه.\")\n",
      "Error: detector_ls(\"هل لديك رقمه؟\")\n",
      "Error: detector_ls(\"مفاجأة!\")\n",
      "Error: detector_ls(\"هل أحتاج لسوار؟\")\n",
      "Error: detector_ls(\"هل نحتاج مذراة؟\")\n",
      "Error: detector_ls(\"عطشت.\")\n"
     ]
    },
    {
     "name": "stdout",
     "output_type": "stream",
     "text": [
      "Error: detector_ls(\"پدرم دکتره!\")\n",
      "Error: detector_ls(\"جداً؟\")\n"
     ]
    },
    {
     "name": "stdout",
     "output_type": "stream",
     "text": [
      "Error: detector_ls(\"حس ششمت چیست؟\")\n"
     ]
    },
    {
     "name": "stdout",
     "output_type": "stream",
     "text": [
      "Error: detector_ls(\"बदतमीज़!\")\n",
      "Error: detector_ls(\"हाँ, चलो।\")\n",
      "Error: detector_ls(\"नासमझ!\")\n",
      "Error: detector_ls(\"ओफ़ फ़ो.\")\n",
      "Error: detector_ls(\"छोड़ो!\")\n",
      "Error: detector_ls(\"५० येन।\")\n",
      "Error: detector_ls(\"वहाँ बैठ।\")\n",
      "Error: detector_ls(\"वहाँ बैठिए।\")\n"
     ]
    },
    {
     "name": "stdout",
     "output_type": "stream",
     "text": [
      "Error: detector_ls(\"ज़रूर।\")\n",
      "Error: detector_ls(\"बहुत !\")\n",
      "Error: detector_ls(\"मुस्कुराओ!\")\n"
     ]
    },
    {
     "name": "stdout",
     "output_type": "stream",
     "text": [
      "Error: detector_ls(\"Филма има ли го в YouTube?\")\n"
     ]
    },
    {
     "name": "stdout",
     "output_type": "stream",
     "text": [
      "Error: detector_ls(\"ते घर जळतंय.\")\n",
      "Error: detector_ls(\"एस्पेरांतोमध्ये २८ अक्षरं आहेत: a, b, c, ĉ, d, e, f, g, ĝ, h, ĥ, i, j, ĵ, k, l, m, n, o, p, r, s, ŝ, t, u, ŭ, v, z.\")\n"
     ]
    },
    {
     "name": "stdout",
     "output_type": "stream",
     "text": [
      "Error: detector_ls(\"बघू...\")\n",
      "Error: detector_ls(\"ठेव.\")\n"
     ]
    },
    {
     "name": "stdout",
     "output_type": "stream",
     "text": [
      "Error: detector_ls(\"लढू.\")\n",
      "Error: detector_ls(\"तू फ्रेंच बोलतेस, बरोबर?\")\n"
     ]
    },
    {
     "name": "stdout",
     "output_type": "stream",
     "text": [
      "Error: detector_ls(\"\\\"http://example.org/\\\" हे एक यू.आर.एल. आहे.\")\n",
      "Error: detector_ls(\"औषध घे.\")\n",
      "Error: detector_ls(\"छतावर चढा.\")\n",
      "Error: detector_ls(\"तुझं तोंड उघड!\")\n"
     ]
    },
    {
     "name": "stdout",
     "output_type": "stream",
     "text": [
      "Error: detector_ls(\"टॉम गाईल.\")\n",
      "Error: detector_ls(\"बसा.\")\n",
      "Error: detector_ls(\"उड.\")\n",
      "Error: detector_ls(\"चढा!\")\n"
     ]
    },
    {
     "name": "stdout",
     "output_type": "stream",
     "text": [
      "Error: detector_ls(\"शेंबुड पुस.\")\n",
      "Error: detector_ls(\"नीट बघा.\")\n"
     ]
    },
    {
     "name": "stdout",
     "output_type": "stream",
     "text": [
      "Error: detector_ls(\"बरं!\")\n",
      "Error: detector_ls(\"खरच ते!\")\n",
      "Error: detector_ls(\"ऐका...\")\n",
      "Error: detector_ls(\"झोपा!\")\n"
     ]
    },
    {
     "name": "stdout",
     "output_type": "stream",
     "text": [
      "Error: detector_ls(\"चल.\")\n",
      "Error: detector_ls(\"तू येतोस.\")\n"
     ]
    },
    {
     "name": "stdout",
     "output_type": "stream",
     "text": [
      "Error: detector_ls(\"Nací en 1979.\")\n"
     ]
    },
    {
     "name": "stdout",
     "output_type": "stream",
     "text": [
      "Error: detector_ls(\"Nací en 1982.\")\n"
     ]
    },
    {
     "name": "stdout",
     "output_type": "stream",
     "text": [
      "Error: detector_ls(\"\\\"¿Yo?\\\" \\\"¡Sí, vos!\\\"\")\n"
     ]
    },
    {
     "name": "stdout",
     "output_type": "stream",
     "text": [
      "Error: detector_ls(\"Nací en 1980.\")\n"
     ]
    },
    {
     "name": "stdout",
     "output_type": "stream",
     "text": [
      "Error: detector_ls(\"Den är 9.15.\")\n"
     ]
    },
    {
     "name": "stdout",
     "output_type": "stream",
     "text": [
      "Error: detector_ls(\"Rövhål!\")\n"
     ]
    },
    {
     "name": "stdout",
     "output_type": "stream",
     "text": [
      "Error: detector_ls(\"J'ai 24 ans.\")\n"
     ]
    },
    {
     "name": "stdout",
     "output_type": "stream",
     "text": [
      "Error: detector_ls(\"Bonne année 2022/2972 !\")\n"
     ]
    },
    {
     "name": "stdout",
     "output_type": "stream",
     "text": [
      "Error: detector_ls(\"On ferme à 2 h 30.\")\n"
     ]
    },
    {
     "name": "stdout",
     "output_type": "stream",
     "text": [
      "Error: detector_ls(\"Jövök.\")\n"
     ]
    },
    {
     "name": "stdout",
     "output_type": "stream",
     "text": [
      "Error: detector_ls(\"Túloztál.\")\n"
     ]
    },
    {
     "name": "stdout",
     "output_type": "stream",
     "text": [
      "Error: detector_ls(\"Jószívű.\")\n"
     ]
    },
    {
     "name": "stdout",
     "output_type": "stream",
     "text": [
      "Error: detector_ls(\"Örülök.\")\n"
     ]
    },
    {
     "name": "stdout",
     "output_type": "stream",
     "text": [
      "Error: detector_ls(\"Örüljünk!\")\n"
     ]
    },
    {
     "name": "stdout",
     "output_type": "stream",
     "text": [
      "Error: detector_ls(\"A latin nyelv 23 betűt használ: a, b, c, d, e, f, g, h, i, k, l, m, n, o, p, q, r, s, t, u, x,y, z.\")\n",
      "Error: detector_ls(\"A francia ábécében huszonhat betű van: a, b, c, d, e, f, g, h, i, j, k, l, m, n, o, p, q, r, s, t, u, v, w, x, y, z.\")\n"
     ]
    },
    {
     "name": "stdout",
     "output_type": "stream",
     "text": [
      "Error: detector_ls(\"- Ez őz? - Az.\")\n"
     ]
    },
    {
     "name": "stdout",
     "output_type": "stream",
     "text": [
      "Error: detector_ls(\"Bögyös.\")\n"
     ]
    },
    {
     "name": "stdout",
     "output_type": "stream",
     "text": [
      "Error: detector_ls(\"Hétfő jó?\")\n"
     ]
    },
    {
     "name": "stdout",
     "output_type": "stream",
     "text": [
      "Error: detector_ls(\"\\\"Age?\\\" \\\"16.\\\"\")\n"
     ]
    },
    {
     "name": "stdout",
     "output_type": "stream",
     "text": [
      "Error: detector_ls(\"So is it 19 or is it 20?\")\n"
     ]
    },
    {
     "name": "stdout",
     "output_type": "stream",
     "text": [
      "Error: detector_ls(\"If a = b and b = c, then a = c.\")\n"
     ]
    },
    {
     "name": "stdout",
     "output_type": "stream",
     "text": [
      "Error: detector_ls(\"3 plus 5 is 8.\")\n"
     ]
    },
    {
     "name": "stdout",
     "output_type": "stream",
     "text": [
      "Error: detector_ls(\"He came at 2:30.\")\n",
      "Error: detector_ls(\"He died at 2:30.\")\n"
     ]
    },
    {
     "name": "stdout",
     "output_type": "stream",
     "text": [
      "Error: detector_ls(\"It's 8.00 p.m.\")\n"
     ]
    },
    {
     "name": "stdout",
     "output_type": "stream",
     "text": [
      "Error: detector_ls(\"I get up at 7.00.\")\n"
     ]
    },
    {
     "name": "stdout",
     "output_type": "stream",
     "text": [
      "Error: detector_ls(\"ببوورە...\")\n",
      "Error: detector_ls(\"پارە نییە.\")\n",
      "Error: detector_ls(\"ژمارە\")\n",
      "Error: detector_ls(\"بێزارم لێت.\")\n"
     ]
    },
    {
     "name": "stdout",
     "output_type": "stream",
     "text": [
      "Error: detector_ls(\"تۆ قۆشمەی.\")\n",
      "Error: detector_ls(\"نەبەزم.\")\n"
     ]
    },
    {
     "name": "stdout",
     "output_type": "stream",
     "text": [
      "Error: detector_ls(\"Hier sind 10,00 \\$.\")\n"
     ]
    },
    {
     "name": "stdout",
     "output_type": "stream",
     "text": [
      "Error: detector_ls(\"Hmm...\")\n"
     ]
    },
    {
     "name": "stdout",
     "output_type": "stream",
     "text": [
      "Error: detector_ls(\"Tenho 1,83m.\")\n"
     ]
    },
    {
     "name": "stdout",
     "output_type": "stream",
     "text": [
      "Error: detector_ls(\"Agora, no Latim existem 23 letras: a, b, c, d, e, f, g, h, i, k, l, m, n, o, p, q, r, s, t, u, x, y e z.\")\n"
     ]
    },
    {
     "name": "stdout",
     "output_type": "stream",
     "text": [
      "Error: detector_ls(\"São 10h20.\")\n"
     ]
    },
    {
     "name": "stdout",
     "output_type": "stream",
     "text": [
      "Error: detector_ls(\"Брэд Питт — актёр.\")\n"
     ]
    },
    {
     "name": "stdout",
     "output_type": "stream",
     "text": [
      "Error: detector_ls(\"Тихо!\")\n"
     ]
    },
    {
     "name": "stdout",
     "output_type": "stream",
     "text": [
      "Error: detector_ls(\"Ух ты!\")\n"
     ]
    },
    {
     "name": "stdout",
     "output_type": "stream",
     "text": [
      "Error: detector_ls(\"«Ты поела?» — «Да».\")\n"
     ]
    },
    {
     "name": "stdout",
     "output_type": "stream",
     "text": [
      "Error: detector_ls(\"Я сыт.\")\n"
     ]
    },
    {
     "name": "stdout",
     "output_type": "stream",
     "text": [
      "Error: detector_ls(\"Ты скучаешь здесь?\")\n"
     ]
    },
    {
     "name": "stdout",
     "output_type": "stream",
     "text": [
      "Error: detector_ls(\"Ты ешь.\")\n"
     ]
    },
    {
     "name": "stdout",
     "output_type": "stream",
     "text": [
      "Error: detector_ls(\"У тебя есть WhatsApp?\")\n"
     ]
    },
    {
     "name": "stdout",
     "output_type": "stream",
     "text": [
      "Error: detector_ls(\"Я угощаю.\")\n"
     ]
    },
    {
     "name": "stdout",
     "output_type": "stream",
     "text": [
      "Error: detector_ls(\"Множественное число слова «person» - «people», а не «persons».\")\n"
     ]
    },
    {
     "name": "stdout",
     "output_type": "stream",
     "text": [
      "Error: detector_ls(\"Ложись!\")\n",
      "Error: detector_ls(\"Да, и?\")\n",
      "Error: detector_ls(\"В Англии метро называется не «subway», а «underground».\")\n"
     ]
    },
    {
     "name": "stdout",
     "output_type": "stream",
     "text": [
      "Error: detector_ls(\"Ты мэр?\")\n",
      "Error: detector_ls(\"\\\"Том!\\\" - \\\"Мэри!\\\"\")\n"
     ]
    },
    {
     "name": "stdout",
     "output_type": "stream",
     "text": [
      "Error: detector_ls(\"Я ел хлеб.\")\n"
     ]
    },
    {
     "name": "stdout",
     "output_type": "stream",
     "text": [
      "Error: detector_ls(\"Сейчас -10 °C.\")\n"
     ]
    },
    {
     "name": "stdout",
     "output_type": "stream",
     "text": [
      "Error: detector_ls(\"\\\"Кто там?\\\" - \\\"Свои\\\".\")\n"
     ]
    },
    {
     "name": "stdout",
     "output_type": "stream",
     "text": [
      "Error: detector_ls(\"О, да!\")\n",
      "Error: detector_ls(\"Пьёшь?\")\n"
     ]
    },
    {
     "name": "stdout",
     "output_type": "stream",
     "text": [
      "Error: detector_ls(\"Идём.\")\n"
     ]
    },
    {
     "name": "stdout",
     "output_type": "stream",
     "text": [
      "Error: detector_ls(\"\\\"Ну и что?\\\" - \\\"Ну и то!\\\"\")\n"
     ]
    },
    {
     "name": "stdout",
     "output_type": "stream",
     "text": [
      "Error: detector_ls(\"\\\"Ты кто?\\\" - \\\"Том\\\".\")\n"
     ]
    },
    {
     "name": "stdout",
     "output_type": "stream",
     "text": [
      "Error: detector_ls(\"\\\"Это не я\\\". - \\\"А кто?\\\"\")\n"
     ]
    },
    {
     "name": "stdout",
     "output_type": "stream",
     "text": [
      "Error: detector_ls(\"Арбуз лопнул.\")\n"
     ]
    },
    {
     "name": "stdout",
     "output_type": "stream",
     "text": [
      "Error: detector_ls(\"Ты ночью храпел.\")\n"
     ]
    },
    {
     "name": "stdout",
     "output_type": "stream",
     "text": [
      "Error: detector_ls(\"Текущий пароль: \\\"eosdigital\\\".\")\n"
     ]
    },
    {
     "name": "stdout",
     "output_type": "stream",
     "text": [
      "Error: detector_ls(\"Эй!\")\n"
     ]
    },
    {
     "name": "stdout",
     "output_type": "stream",
     "text": [
      "Error: detector_ls(\"Я убью её.\")\n"
     ]
    },
    {
     "name": "stdout",
     "output_type": "stream",
     "text": [
      "Error: detector_ls(\"Письмо я сжёг.\")\n"
     ]
    },
    {
     "name": "stdout",
     "output_type": "stream",
     "text": [
      "Error: detector_ls(\"Фи!\")\n"
     ]
    },
    {
     "name": "stdout",
     "output_type": "stream",
     "text": [
      "Error: detector_ls(\"«Ты где?» – «Тут!»\")\n"
     ]
    },
    {
     "name": "stdout",
     "output_type": "stream",
     "text": [
      "Error: detector_ls(\"Ты зол.\")\n"
     ]
    },
    {
     "name": "stdout",
     "output_type": "stream",
     "text": [
      "Error: detector_ls(\"И?\")\n"
     ]
    },
    {
     "name": "stdout",
     "output_type": "stream",
     "text": [
      "Error: detector_ls(\"Шут!\")\n"
     ]
    },
    {
     "name": "stdout",
     "output_type": "stream",
     "text": [
      "Error: detector_ls(\"Жартуєш?\")\n",
      "Error: detector_ls(\"Охолонь.\")\n"
     ]
    },
    {
     "name": "stdout",
     "output_type": "stream",
     "text": [
      "Error: detector_ls(\"Французька абетка складається з двадцяти шести літер: a, b, c, d, e, f, g, h, i, j, k, l, m, n, o, p, q, r, s, t, u, v, w, x, y, z.\")\n",
      "Error: detector_ls(\"Чуєш?\")\n"
     ]
    },
    {
     "name": "stdout",
     "output_type": "stream",
     "text": [
      "Error: detector_ls(\"Я схвалюю.\")\n",
      "Error: detector_ls(\"Розв'яжи кубічне рівняння: x³ + 2x² − x − 2 = 0.\")\n"
     ]
    },
    {
     "name": "stdout",
     "output_type": "stream",
     "text": [
      "Error: detector_ls(\"Я хочу MP3-плеєр!\")\n"
     ]
    },
    {
     "name": "stdout",
     "output_type": "stream",
     "text": [
      "Error: detector_ls(\"Ви приймаєте картки American Express?\")\n"
     ]
    },
    {
     "name": "stdout",
     "output_type": "stream",
     "text": [
      "Error: detector_ls(\"Зараз 2:30.\")\n",
      "Error: detector_ls(\"Йдемо?\")\n"
     ]
    },
    {
     "name": "stdout",
     "output_type": "stream",
     "text": [
      "Error: detector_ls(\"Приймаються картки MasterCard та Visa.\")\n"
     ]
    },
    {
     "name": "stdout",
     "output_type": "stream",
     "text": [
      "Error: detector_ls(\"Естер любить музику Happy Hardcore.\")\n",
      "Error: detector_ls(\"Е...\")\n",
      "Error: detector_ls(\"Хм...\")\n",
      "Error: detector_ls(\"Тихо.\")\n"
     ]
    },
    {
     "name": "stdout",
     "output_type": "stream",
     "text": [
      "Error: detector_ls(\"Тікаймо!\")\n",
      "Error: detector_ls(\"Ризикнеш?\")\n"
     ]
    },
    {
     "name": "stdout",
     "output_type": "stream",
     "text": [
      "Error: detector_ls(\"Лох!\")\n",
      "Error: detector_ls(\"O 80 kilo.\")\n",
      "Error: detector_ls(\"Açım!\")\n"
     ]
    },
    {
     "name": "stdout",
     "output_type": "stream",
     "text": [
      "Error: detector_ls(\"12:45'e ne dersin?\")\n"
     ]
    },
    {
     "name": "stdout",
     "output_type": "stream",
     "text": [
      "Error: detector_ls(\"Güldük.\")\n",
      "Error: detector_ls(\"Mısırlıyım.\")\n"
     ]
    },
    {
     "name": "stdout",
     "output_type": "stream",
     "text": [
      "Error: detector_ls(\"Saat 7.45.\")\n"
     ]
    },
    {
     "name": "stdout",
     "output_type": "stream",
     "text": [
      "Error: detector_ls(\"Aşıktım.\")\n"
     ]
    },
    {
     "name": "stdout",
     "output_type": "stream",
     "text": [
      "Error: detector_ls(\"Sür!\")\n"
     ]
    },
    {
     "name": "stdout",
     "output_type": "stream",
     "text": [
      "Error: detector_ls(\"Sıkıcı!\")\n"
     ]
    },
    {
     "name": "stdout",
     "output_type": "stream",
     "text": [
      "Error: detector_ls(\"Aşçıyım.\")\n"
     ]
    },
    {
     "name": "stdout",
     "output_type": "stream",
     "text": [
      "Error: detector_ls(\"Üşüdüm.\")\n"
     ]
    },
    {
     "name": "stdout",
     "output_type": "stream",
     "text": [
      "Error: detector_ls(\"Mi diede 10.000 yen.\")\n"
     ]
    },
    {
     "name": "stdout",
     "output_type": "stream",
     "text": [
      "Error: detector_ls(\"500 Gb?\")\n"
     ]
    },
    {
     "name": "stdout",
     "output_type": "stream",
     "text": [
      "Error: detector_ls(\"Uh?\")\n"
     ]
    },
    {
     "name": "stdout",
     "output_type": "stream",
     "text": [
      "Error: detector_ls(\"Sì... ah ah ah... sì!\")\n"
     ]
    },
    {
     "name": "stdout",
     "output_type": "stream",
     "text": [
      "Error: detector_ls(\"Ο David Beckham είναι άγγλος.\")\n"
     ]
    },
    {
     "name": "stdout",
     "output_type": "stream",
     "text": [
      "Error: detector_ls(\"Ο Yankev και ο Sheyne είναι φίλοι.\")\n"
     ]
    },
    {
     "name": "stdout",
     "output_type": "stream",
     "text": [
      "Error: detector_ls(\"Jest 17:00.\")\n",
      "Error: detector_ls(\"Jest 20 po 10.\")\n"
     ]
    },
    {
     "name": "stdout",
     "output_type": "stream",
     "text": [
      "Error: detector_ls(\"''Dar kavos?'' - ''Ne, ačiū.''\")\n"
     ]
    },
    {
     "name": "stdout",
     "output_type": "stream",
     "text": [
      "Error: detector_ls(\"Píš!\")\n"
     ]
    },
    {
     "name": "stdout",
     "output_type": "stream",
     "text": [
      "Error: detector_ls(\"Ồ, OK.\")\n"
     ]
    },
    {
     "name": "stdout",
     "output_type": "stream",
     "text": [
      "Error: detector_ls(\"Пиев.\")\n"
     ]
    },
    {
     "name": "stdout",
     "output_type": "stream",
     "text": [
      "Error: detector_ls(\"Mlč!\")\n"
     ]
    },
    {
     "name": "stdout",
     "output_type": "stream",
     "text": [
      "319.487865 seconds (139.70 M allocations: 8.376 GiB, 0.41% gc time, 0.19% compilation time)\n"
     ]
    },
    {
     "name": "stdout",
     "output_type": "stream",
     "text": [
      "1466.109941 seconds (10.92 G allocations: 360.185 GiB, 2.63% gc time, 0.01% compilation time)\n"
     ]
    }
   ],
   "source": [
    "@time bmk_ls = bmk(detector_ls, TV, LANGS);\n",
    "@time bmk_ld = bmk(detector_ld, TV, LANGS);\n",
    "# @time bmk_lf = bmk(detector_lf, TV, LANGS);\n",
    ";"
   ]
  },
  {
   "cell_type": "code",
   "execution_count": 61,
   "metadata": {},
   "outputs": [
    {
     "name": "stdout",
     "output_type": "stream",
     "text": [
      "|                   | ara    | bel    | ben     | bul    | cat    | ces    | dan    | deu    | ell     | eng    | epo    | fas    | fin    | fra    | hau    | hbs    | heb     | hin    | hun    | ido | ina | isl | ita    | jpn    | kab | kor    | kur | lat | lit    | mar    | mkd    | msa    | nds | nld    | nor    | pol    | por    | ron    | rus    | slk    | spa    | swa    | swe    | tat | tgl    | tur    | ukr    | vie    | yid    | zho    |\n",
      "|-------------------|--------|--------|---------|--------|--------|--------|--------|--------|---------|--------|--------|--------|--------|--------|--------|--------|---------|--------|--------|-----|-----|-----|--------|--------|-----|--------|-----|-----|--------|--------|--------|--------|-----|--------|--------|--------|--------|--------|--------|--------|--------|--------|--------|-----|--------|--------|--------|--------|--------|--------|\n",
      "|      Languages.jl | 85.55% | 80.47% | 100.00% | 62.46% |      - | 48.90% | 47.06% | 90.48% |  99.89% | 78.21% | 64.61% | 95.00% | 76.87% | 82.21% | 92.85% | 60.28% |  95.75% | 62.99% | 73.99% |   - |   - |   - | 66.27% | 99.97% |   - | 98.97% |   - |   - | 61.94% | 72.05% | 51.40% | 71.26% |   - | 78.91% | 66.74% | 72.66% | 77.35% | 70.87% | 52.59% |      - | 61.89% |      - | 52.46% |   - | 63.96% | 52.10% | 62.63% | 84.06% | 98.39% | 99.86% |\n",
      "| LanguageDetect.jl | 93.48% |      - | 100.00% | 62.86% | 57.21% | 71.26% | 51.56% | 81.81% | 100.00% | 74.64% |      - | 93.83% | 90.24% | 77.13% |      - | 26.90% | 100.00% | 92.91% | 86.44% |   - |   - |   - | 69.22% | 99.85% |   - | 99.48% |   - |   - | 81.41% | 86.98% | 73.93% | 85.34% |   - | 65.77% | 55.50% | 92.64% | 70.23% | 84.87% | 78.17% | 57.37% | 60.48% | 84.98% | 69.76% |   - | 90.72% | 90.39% | 72.41% | 99.75% |      - | 98.64% |\n"
     ]
    },
    {
     "data": {
      "text/markdown": [
       "|                   | ara    | bel    | ben     | bul    | cat    | ces    | dan    | deu    | ell     | eng    | epo    | fas    | fin    | fra    | hau    | hbs    | heb     | hin    | hun    | ido | ina | isl | ita    | jpn    | kab | kor    | kur | lat | lit    | mar    | mkd    | msa    | nds | nld    | nor    | pol    | por    | ron    | rus    | slk    | spa    | swa    | swe    | tat | tgl    | tur    | ukr    | vie    | yid    | zho    |\n",
       "|-------------------|--------|--------|---------|--------|--------|--------|--------|--------|---------|--------|--------|--------|--------|--------|--------|--------|---------|--------|--------|-----|-----|-----|--------|--------|-----|--------|-----|-----|--------|--------|--------|--------|-----|--------|--------|--------|--------|--------|--------|--------|--------|--------|--------|-----|--------|--------|--------|--------|--------|--------|\n",
       "|      Languages.jl | 85.55% | 80.47% | 100.00% | 62.46% |      - | 48.90% | 47.06% | 90.48% |  99.89% | 78.21% | 64.61% | 95.00% | 76.87% | 82.21% | 92.85% | 60.28% |  95.75% | 62.99% | 73.99% |   - |   - |   - | 66.27% | 99.97% |   - | 98.97% |   - |   - | 61.94% | 72.05% | 51.40% | 71.26% |   - | 78.91% | 66.74% | 72.66% | 77.35% | 70.87% | 52.59% |      - | 61.89% |      - | 52.46% |   - | 63.96% | 52.10% | 62.63% | 84.06% | 98.39% | 99.86% |\n",
       "| LanguageDetect.jl | 93.48% |      - | 100.00% | 62.86% | 57.21% | 71.26% | 51.56% | 81.81% | 100.00% | 74.64% |      - | 93.83% | 90.24% | 77.13% |      - | 26.90% | 100.00% | 92.91% | 86.44% |   - |   - |   - | 69.22% | 99.85% |   - | 99.48% |   - |   - | 81.41% | 86.98% | 73.93% | 85.34% |   - | 65.77% | 55.50% | 92.64% | 70.23% | 84.87% | 78.17% | 57.37% | 60.48% | 84.98% | 69.76% |   - | 90.72% | 90.39% | 72.41% | 99.75% |      - | 98.64% |\n"
      ],
      "text/plain": [
       "DisplayAs.Raw.Showable{MIME{Symbol(\"text/markdown\")}}(UInt8[0x7c, 0x20, 0x20, 0x20, 0x20, 0x20, 0x20, 0x20, 0x20, 0x20  …  0x20, 0x39, 0x38, 0x2e, 0x36, 0x34, 0x25, 0x20, 0x7c, 0x0a])"
      ]
     },
     "metadata": {},
     "output_type": "display_data"
    }
   ],
   "source": [
    "showtable(\"Languages.jl\"=>bmk_ls, \"LanguageDetect.jl\"=>bmk_ld, header=LANGS)"
   ]
  },
  {
   "cell_type": "markdown",
   "metadata": {},
   "source": [
    "## wikipedia"
   ]
  },
  {
   "cell_type": "code",
   "execution_count": 11,
   "metadata": {},
   "outputs": [
    {
     "name": "stdout",
     "output_type": "stream",
     "text": [
      "Error: detector_ls(\"Aktualaĵoj | Eventoj laŭ tago de jaro\\n◄ |\\n14-a jarcento |\\n15-a jarcento\\n| 16-a jarcento\\n| ►\\n◄ |\\n1370-aj jaroj |\\n1380-aj jaroj |\\n1390-aj jaroj |\\n1400-aj jaroj\\n| 1410-aj jaroj\\n| 1420-aj jaroj\\n| 1430-aj jaroj\\n| ►\\n◄◄ |\\n◄ |\\n1398 |\\n1399 |\\n1400 |\\n1401 |\\n1402\\n| 1403  \\n| 1404  \\n| 1405  \\n| 1406  \\n| ►\\n| ►►\\nEn la jaro 1402 post Kristo okazis, interalie:\\n\")\n",
      "Error: detector_ls(\"Aktualaĵoj | Eventoj laŭ tago de jaro\\n◄ |\\n2-a jarcento |\\n3-a jarcento\\n| 4-a jarcento\\n| ►\\n◄ |\\n170-aj jaroj |\\n180-aj jaroj |\\n190-aj jaroj |\\n200-aj jaroj\\n| 210-aj jaroj\\n| 220-aj jaroj\\n| 230-aj jaroj\\n| ►\\n◄◄ |\\n◄ |\\n202 |\\n203 |\\n204 |\\n205 |\\n206\\n| 207  \\n| 208  \\n| 209  \\n| 210  \\n| ►\\n| ►►\\nEn la jaro 206 post Kristo okazis, interalie:\\n\")\n"
     ]
    },
    {
     "name": "stdout",
     "output_type": "stream",
     "text": [
      "Error: detector_ls(\"Cikloheksila nitrato estas organika kombinaĵo kies molekula formulo estas C6H11NO3 rezultanta el interagado de la nitrata acido kaj cikloheksanolo. Ĝi apartenas al la familio de la esteroj kaj estas senkolora brulema likvaĵo iom malstabila, tute solvebla en akvo kaj solvebla en alkoholo kaj etero.\\n +  \\n  \\n    \\n      \\n        \\n          \\n            \\n              \\n                 \\n                \\n                  \\n                    \\n                      H\\n                      \\n                        2\\n                      \\n                    \\n                    S\\n                    \\n                      O\\n                      \\n                        4\\n                      \\n                    \\n                  \\n                \\n                \\n              \\n            \\n            \\n          \\n        \\n      \\n    \\n    }\\\\,}}}\\n  \\n + \\n +  \\n  \\n    \\n      \\n        \\n          \\n            \\n              \\n                 \\n                \\n                  \\n                  \\n                \\n                \\n              \\n            \\n            \\n          \\n        \\n      \\n    \\n    }\\\\,}}}\\n  \\n + \\n +  \\n  \\n    \\n      \\n        \\n          \\n            \\n              \\n                 \\n                \\n                  \\n                  \\n                \\n                \\n              \\n            \\n            \\n          \\n        \\n      \\n    \\n    }\\\\,}}}\\n  \\n + \\n +  + \\n  \\n    \\n      \\n        \\n          \\n            \\n              \\n                 \\n                \\n                  \\n                  \\n                \\n                \\n                  \\n                    H\\n                    \\n                      2\\n                    \\n                  \\n                  S\\n                  \\n                    O\\n                    \\n                      4\\n                    \\n                  \\n                \\n              \\n            \\n            \\n          \\n        \\n      \\n    \\n    SO_\\n  \\n + \\n + 2  \\n  \\n    \\n      \\n        \\n          \\n            \\n              \\n                 \\n                \\n                  \\n                  \\n                \\n                \\n              \\n            \\n            \\n          \\n        \\n      \\n    \\n    }\\\\,}}}\\n  \\n2  + \\n +  \\n  \\n    \\n      \\n        \\n          \\n            \\n              \\n                 \\n                \\n                  \\n                  \\n                \\n                \\n              \\n            \\n            \\n          \\n        \\n      \\n    \\n    }\\\\,}}}\\n  \\n + \\n +  \\n  \\n    \\n      \\n        \\n          \\n            \\n              \\n                 \\n                \\n                  \\n                  \\n                \\n                \\n              \\n            \\n            \\n          \\n        \\n      \\n    \\n    }\\\\,}}}\\n  \\n + \\n +  \\n  \\n    \\n      \\n        \\n          \\n            \\n              \\n                 \\n                \\n                  \\n                  \\n                \\n                \\n              \\n            \\n            \\n          \\n        \\n      \\n    \\n    }\\\\,}}}\\n  \\n + \\n +  \\n  \\n    \\n      \\n        \\n          \\n            \\n              \\n                 \\n                \\n                  \\n                  \\n                \\n                \\n              \\n            \\n            \\n          \\n        \\n      \\n    \\n    }\\\\,}}}\\n  \\n + \\n +  \\n  \\n    \\n      \\n        \\n          \\n            \\n              \\n                 \\n                \\n                  \\n                  \\n                \\n                \\n              \\n            \\n            \\n          \\n        \\n      \\n    \\n    }\\\\,}}}\\n  \\n + \\n +  \\n  \\n    \\n      \\n        \\n          \\n            \\n              \\n                 \\n                \\n                  \\n                  \\n                \\n                \\n              \\n            \\n            \\n          \\n        \\n      \\n    \\n    }\\\\,}}}\\n  \\n  + \\n +  \\n  \\n    \\n      \\n        \\n          \\n            \\n              \\n                 \\n                \\n                  \\n                  \\n                \\n                \\n              \\n            \\n            \\n          \\n        \\n      \\n    \\n    }\\\\,}}}\\n  \\n + \\n\")\n",
      "Error: detector_ls(\"Dutioksamido aŭ dutioglioksalo estas organika kombinaĵo rezultanta el interagado de la dutiooksalata acido kaj amoniako. Ĝi estas oranĝokolora, sukcenokolora aŭ malhelruĝa solidaĵo, malmulte solvebla en akvo kaj eteroj, sed solvebla en etanolo. Dutioksamido posedas 2 karbonatomojn, 4 hidrogenatomojn, 2 nitrogenatomojn kaj 2 sulfuratomojn. Dutioksamido uzatas en kemiaj sintezoj kaj en la preparado de  dutiooksalataj  derivaĵoj. \\n2 \\n  \\n    \\n      \\n        \\n          \\n            \\n              \\n                 \\n                \\n                  \\n                  \\n                \\n                \\n                  A\\n                  l\\n                  L\\n                  i\\n                  \\n                    H\\n                    \\n                      4\\n                    \\n                  \\n                \\n              \\n            \\n            \\n          \\n        \\n      \\n    \\n    }}\\\\,}}}\\n  \\n + \\n +2 \\n  \\n    \\n      \\n        \\n          \\n            \\n              \\n                 \\n                \\n                  \\n                  \\n                \\n                \\n              \\n            \\n            \\n          \\n        \\n      \\n    \\n    }\\\\,}}}\\n  \\n +\\n2 + \\n  \\n    \\n      \\n        \\n          \\n            \\n              \\n                 \\n                \\n                  \\n                  \\n                \\n                \\n              \\n            \\n            \\n          \\n        \\n      \\n    \\n    }\\\\,}}}\\n  \\n    \\n + \\n  \\n    \\n      \\n        \\n          \\n            \\n              \\n                 \\n                \\n                  \\n                  \\n                \\n                \\n              \\n            \\n            \\n          \\n        \\n      \\n    \\n    }\\\\,}}}\\n  \\n +   \\n\")\n"
     ]
    },
    {
     "name": "stdout",
     "output_type": "stream",
     "text": [
      "Error: detector_ls(\"Lango la Historia | Lango la Biografia | Karibuni | Orodha ya Miaka\\n◄ |\\nKarne ya 3 KK |\\nKarne ya 2 KK |\\nKarne ya 1 KK |\\n►\\n◄ | Miaka ya 130 KK | Miaka ya 120 KK | Miaka ya 110 KK | Miaka ya 100 KK |\\nMiaka ya 90 KK |\\n►\\n◄◄ | ◄ | 117 KK | 116 KK | 115 KK | 114 KK |\\n113 KK |\\n112 KK |\\n111 KK |\\n► |\\n►►\\nMakala hii inahusu mwaka 114 KK .\\n\")\n",
      "Error: detector_ls(\"Lango la Historia | Lango la Biografia | Karibuni | Orodha ya Miaka\\n◄ |\\nKarne ya 12 |\\nKarne ya 13\\n| Karne ya 14\\n| ►\\n◄ |\\nMiaka ya 1210 |\\nMiaka ya 1220 |\\nMiaka ya 1230 |\\nMiaka ya 1240\\n| Miaka ya 1250\\n| Miaka ya 1260\\n| Miaka ya 1270\\n| ►\\n◄◄ |\\n◄ |\\n1243 |\\n1244 |\\n1245 |\\n1246 |\\n1247\\n| 1248\\n| 1249\\n| 1250\\n| 1251\\n| ►\\n| ►►\\nMakala hii inahusu mwaka 1247 BK .\\nbila tarehe\\n\")\n",
      "Error: detector_ls(\"Lango la Historia | Lango la Biografia | Karibuni | Orodha ya Miaka\\n◄ |\\nKarne ya 14 |\\nKarne ya 15\\n| Karne ya 16\\n| ►\\n◄ |\\nMiaka ya 1380 |\\nMiaka ya 1390 |\\nMiaka ya 1400 |\\nMiaka ya 1410\\n| Miaka ya 1420\\n| Miaka ya 1430\\n| Miaka ya 1440\\n| ►\\n◄◄ |\\n◄ |\\n1415 |\\n1416 |\\n1417 |\\n1418 |\\n1419\\n| 1420\\n| 1421\\n| 1422\\n| 1423\\n| ►\\n| ►►\\nMakala hii inahusu mwaka 1419 BK .\\n\")\n",
      "Error: detector_ls(\"Lango la Historia | Lango la Biografia | Karibuni | Orodha ya Miaka\\n◄ |\\nKarne ya 16 |\\nKarne ya 17\\n| Karne ya 18\\n| ►\\n◄ |\\nMiaka ya 1640 |\\nMiaka ya 1650 |\\nMiaka ya 1660 |\\nMiaka ya 1670\\n| Miaka ya 1680\\n| Miaka ya 1690\\n| Miaka ya 1700\\n| ►\\n◄◄ |\\n◄ |\\n1667 |\\n1668 |\\n1669 |\\n1670 |\\n1671\\n| 1672\\n| 1673\\n| 1674\\n| 1675\\n| ►\\n| ►►\\nMakala hii inahusu mwaka 1671 BK .\\n\")\n",
      "Error: detector_ls(\"Lango la Historia | Lango la Biografia | Karibuni | Orodha ya Miaka\\n◄ |\\nKarne ya 19 |\\nKarne ya 20\\n| Karne ya 21\\n \\n◄ |\\nMiaka ya 1930 |\\nMiaka ya 1940 |\\nMiaka ya 1950 |\\nMiaka ya 1960\\n| Miaka ya 1970\\n| Miaka ya 1980\\n| Miaka ya 1990\\n| ►\\n◄◄ |\\n◄ |\\n1961 |\\n1962 |\\n1963 |\\n1964 |\\n1965\\n| 1966\\n| 1967\\n| 1968\\n| 1969\\n| ►\\n| ►►\\nMakala hii inahusu mwaka 1965 BK .\\nbila tarehe\\n\")\n",
      "Error: detector_ls(\"Lango la Historia | Lango la Biografia | Karibuni | Orodha ya Miaka\\n◄ |\\nKarne ya 19 |\\nKarne ya 20\\n| Karne ya 21\\n \\n◄ |\\nMiaka ya 1940 |\\nMiaka ya 1950 |\\nMiaka ya 1960 |\\nMiaka ya 1970\\n| Miaka ya 1980\\n| Miaka ya 1990\\n| Miaka ya 2000\\n| ►\\n◄◄ |\\n◄ |\\n1971 |\\n1972 |\\n1973 |\\n1974 |\\n1975\\n| 1976\\n| 1977\\n| 1978\\n| 1979\\n| ►\\n| ►►\\nMakala hii inahusu mwaka 1975 BK .\\n\")\n",
      "Error: detector_ls(\"Lango la Historia | Lango la Biografia | Karibuni | Orodha ya Miaka\\n◄ |\\nKarne ya 19 |\\nKarne ya 20\\n| Karne ya 21\\n \\n◄ |\\nMiaka ya 1960 |\\nMiaka ya 1970 |\\nMiaka ya 1980 |\\nMiaka ya 1990\\n| Miaka ya 2000\\n| Miaka ya 2010\\n \\n \\n◄◄ |\\n◄ |\\n1993 |\\n1994 |\\n1995 |\\n1996 |\\n1997\\n| 1998\\n| 1999\\n| 2000\\n| 2001\\n| ►\\n| ►►\\nMakala hii inahusu mwaka 1997 BK .\\n\")\n",
      "Error: detector_ls(\"Lango la Historia | Lango la Biografia | Karibuni | Orodha ya Miaka\\n◄ |\\nKarne ya 1 KK |\\nKarne ya 1\\n| Karne ya 2\\n| ►\\n◄ |\\nMiaka ya 20 |\\nMiaka ya 30 |\\nMiaka ya 40 |\\nMiaka ya 50\\n| Miaka ya 60\\n| Miaka ya 70\\n| Miaka ya 80\\n| ►\\n◄◄ |\\n◄ |\\n49 |\\n50 |\\n51 |\\n52 |\\n53\\n| 54\\n| 55\\n| 56\\n| 57\\n| ►\\n| ►►\\nMakala hii inahusu mwaka 53 .\\n\")\n",
      "Error: detector_ls(\"Lango la Historia | Lango la Biografia | Karibuni | Orodha ya Miaka\\n◄ |\\nKarne ya 6 |\\nKarne ya 7\\n| Karne ya 8\\n| ►\\n◄ |\\nMiaka ya 610 |\\nMiaka ya 620 |\\nMiaka ya 630 |\\nMiaka ya 640\\n| Miaka ya 650\\n| Miaka ya 660\\n| Miaka ya 670\\n| ►\\n◄◄ |\\n◄ |\\n639 |\\n640 |\\n641 |\\n642 |\\n643\\n| 644\\n| 645\\n| 646\\n| 647\\n| ►\\n| ►►\\nMakala hii inahusu mwaka 643 .\\n\")\n",
      "Error: detector_ls(\"Lango la Historia | Lango la Biografia | Karibuni | Orodha ya Miaka\\n◄ |\\nKarne ya 6 |\\nKarne ya 7\\n| Karne ya 8\\n| ►\\n◄ |\\nMiaka ya 620 |\\nMiaka ya 630 |\\nMiaka ya 640 |\\nMiaka ya 650\\n| Miaka ya 660\\n| Miaka ya 670\\n| Miaka ya 680\\n| ►\\n◄◄ |\\n◄ |\\n651 |\\n652 |\\n653 |\\n654 |\\n655\\n| 656\\n| 657\\n| 658\\n| 659\\n| ►\\n| ►►\\nMakala hii inahusu mwaka 655 BK .\\n\")\n",
      "Error: detector_ls(\"Lango la Historia | Lango la Biografia | Karibuni | Orodha ya Miaka\\n◄ |\\nKarne ya 8 |\\nKarne ya 9\\n| Karne ya 10\\n| ►\\n◄ |\\nMiaka ya 790 |\\nMiaka ya 800 |\\nMiaka ya 810 |\\nMiaka ya 820\\n| Miaka ya 830\\n| Miaka ya 840\\n| Miaka ya 850\\n| ►\\n◄◄ |\\n◄ |\\n821 |\\n822 |\\n823 |\\n824 |\\n825\\n| 826\\n| 827\\n| 828\\n| 829\\n| ►\\n| ►►\\nMakala hii inahusu mwaka 825 BK .\\n\")\n"
     ]
    },
    {
     "name": "stdout",
     "output_type": "stream",
     "text": [
      "Error: detector_ls(\"Lango la Historia | Lango la Biografia | Karibuni | Orodha ya Miaka\\n◄ |\\nKarne ya 14 |\\nKarne ya 15\\n| Karne ya 16\\n| ►\\n◄ |\\nMiaka ya 1460 |\\nMiaka ya 1470 |\\nMiaka ya 1480 |\\nMiaka ya 1490\\n| Miaka ya 1500\\n| Miaka ya 1510\\n| Miaka ya 1520\\n| ►\\n1490 |\\n1491 |\\n1492 |\\n1493 |\\n1494 |\\n1495 |\\n1496 |\\n1497 |\\n1498 |\\n1499\\nMakala hii inahusu miaka 1490 - 1499.\\n\")\n",
      "Error: detector_ls(\"Lango la Historia | Lango la Biografia | Karibuni | Orodha ya Miaka\\n◄ |\\nKarne ya 4 |\\nKarne ya 5\\n| Karne ya 6\\n| ►\\n◄ |\\nMiaka ya 430 |\\nMiaka ya 440 |\\nMiaka ya 450 |\\nMiaka ya 460\\n| Miaka ya 470\\n| Miaka ya 480\\n| Miaka ya 490\\n| ►\\n460 |\\n461 |\\n462 |\\n463 |\\n464 |\\n465 |\\n466 |\\n467 |\\n468 |\\n469\\nMakala hii inahusu muongo ya miaka 460 - 469.\\n\")\n",
      "Error: detector_ls(\"Lango la Historia | Lango la Biografia | Karibuni | Orodha ya Miaka\\n◄ |\\nKarne ya 7 |\\nKarne ya 8\\n| Karne ya 9\\n| ►\\n◄ |\\nMiaka ya 760 |\\nMiaka ya 770 |\\nMiaka ya 780 |\\nMiaka ya 790\\n| Miaka ya 800\\n| Miaka ya 810\\n| Miaka ya 820\\n| ►\\n790 |\\n791 |\\n792 |\\n793 |\\n794 |\\n795 |\\n796 |\\n797 |\\n798 |\\n799\\nMakala hii inahusu muongo ya miaka 790 - 799.\\n\")\n"
     ]
    },
    {
     "name": "stdout",
     "output_type": "stream",
     "text": [
      "Error: detector_ls(\"پۆتانەکان: 26°18′35″N 50°08′38″E  /  26.30972°N 50.14389°E  / 26.30972; 50.14389\\nیەکێکە لە زانکۆکانی وڵاتی سعودیە.\\nلیستی زانکۆ عەرەبییەکان\\n\")\n"
     ]
    },
    {
     "name": "stdout",
     "output_type": "stream",
     "text": [
      "Error: detector_ls(\"◄ |\\n1. Johrhunnert |\\n2. Johrhunnert\\n| 3. Johrhunnert\\n| ►\\n◄ |\\n70er |\\n80er |\\n90er |\\n100er\\n| 110er\\n| 120er\\n| 130er\\n| ►\\n◄◄ |\\n◄ |\\n103 |\\n104 |\\n105 |\\n106 |\\n107\\n| 108\\n| 109\\n| 110\\n| 111\\n| ►\\n| ►►\\nFüür-Peerd –Füür-Schaap \\n\")\n",
      "Error: detector_ls(\"◄ |\\n10. Johrhunnert |\\n11. Johrhunnert\\n| 12. Johrhunnert\\n| ►\\n◄ |\\n1040er |\\n1050er |\\n1060er |\\n1070er\\n| 1080er\\n| 1090er\\n| 1100er\\n| ►\\n◄◄ |\\n◄ |\\n1072 |\\n1073 |\\n1074 |\\n1075 |\\n1076\\n| 1077\\n| 1078\\n| 1079\\n| 1080\\n| ►\\n| ►►\\nHolt-Haas –Füür-Draken \\n\")\n",
      "Error: detector_ls(\"◄ |\\n1. Johrhunnert |\\n2. Johrhunnert\\n| 3. Johrhunnert\\n| ►\\n◄ |\\n100er |\\n110er |\\n120er |\\n130er\\n| 140er\\n| 150er\\n| 160er\\n| ►\\n◄◄ |\\n◄ |\\n132 |\\n133 |\\n134 |\\n135 |\\n136\\n| 137\\n| 138\\n| 139\\n| 140\\n| ►\\n| ►►\\nHolt-Swien –Füür-Rött \\n\")\n",
      "Error: detector_ls(\"◄ |\\n14. Johrhunnert |\\n15. Johrhunnert\\n| 16. Johrhunnert\\n| ►\\n◄ |\\n1390er |\\n1400er |\\n1410er |\\n1420er\\n| 1430er\\n| 1440er\\n| 1450er\\n| ►\\n◄◄ |\\n◄ |\\n1417 |\\n1418 |\\n1419 |\\n1420 |\\n1421\\n| 1422\\n| 1423\\n| 1424\\n| 1425\\n| ►\\n| ►►\\nMetall-Rött –Metall-Rind \\n\")\n",
      "Error: detector_ls(\"◄ |\\n3. Johrhunnert v. Chr. |\\n2. Johrhunnert v. Chr. |\\n1. Johrhunnert v. Chr. |\\n►\\n◄ |\\n180er v. Chr. |\\n170er v. Chr. |\\n160er v. Chr. |\\n150er v. Chr. |\\n140er v. Chr. |\\n130er v. Chr. |\\n120er v. Chr. |\\n►\\n◄◄ |\\n◄ |\\n154 v. Chr. |\\n153 v. Chr. |\\n152 v. Chr. |\\n151 v. Chr. |\\n150 v. Chr. |\\n149 v. Chr. |\\n148 v. Chr. |\\n147 v. Chr. |\\n146 v. Chr. |\\n► |\\n►►\\n\")\n",
      "Error: detector_ls(\"◄ |\\n15. Johrhunnert |\\n16. Johrhunnert\\n| 17. Johrhunnert\\n| ►\\n◄ |\\n1530er |\\n1540er |\\n1550er |\\n1560er\\n| 1570er\\n| 1580er\\n| 1590er\\n| ►\\n◄◄ |\\n◄ |\\n1562 |\\n1563 |\\n1564 |\\n1565 |\\n1566\\n| 1567\\n| 1568\\n| 1569\\n| 1570\\n| ►\\n| ►►\\nHolt-Rind –Füür-Tiger \\n\")\n",
      "Error: detector_ls(\"◄ |\\n15. Johrhunnert |\\n16. Johrhunnert\\n| 17. Johrhunnert\\n| ►\\n◄ |\\n1540er |\\n1550er |\\n1560er |\\n1570er\\n| 1580er\\n| 1590er\\n| 1600er\\n| ►\\n◄◄ |\\n◄ |\\n1566 |\\n1567 |\\n1568 |\\n1569 |\\n1570\\n| 1571\\n| 1572\\n| 1573\\n| 1574\\n| ►\\n| ►►\\nEer-Snaak –Metall-Peerd \\n\")\n",
      "Error: detector_ls(\"◄ |\\n3. Johrhunnert |\\n4. Johrhunnert\\n| 5. Johrhunnert\\n| ►\\n◄ |\\n300er |\\n310er |\\n320er |\\n330er\\n| 340er\\n| 350er\\n| 360er\\n| ►\\n◄◄ |\\n◄ |\\n331 |\\n332 |\\n333 |\\n334 |\\n335\\n| 336\\n| 337\\n| 338\\n| 339\\n| ►\\n| ►►\\nHolt-Peerd –Holt-Schaap \\n\")\n",
      "Error: detector_ls(\"◄ |\\n5. Johrhunnert v. Chr. |\\n4. Johrhunnert v. Chr. |\\n3. Johrhunnert v. Chr. |\\n►\\n \\n400er v. Chr. |\\n390er v. Chr. |\\n380er v. Chr. |\\n370er v. Chr. |\\n360er v. Chr. |\\n350er v. Chr. |\\n340er v. Chr. |\\n►\\n◄◄ |\\n◄ |\\n377 v. Chr. |\\n376 v. Chr. |\\n375 v. Chr. |\\n374 v. Chr. |\\n373 v. Chr. |\\n372 v. Chr. |\\n371 v. Chr. |\\n370 v. Chr. |\\n369 v. Chr. |\\n► |\\n►►\\n\")\n",
      "Error: detector_ls(\"◄ |\\n6. Johrhunnert |\\n7. Johrhunnert\\n| 8. Johrhunnert\\n| ►\\n◄ |\\n640er |\\n650er |\\n660er |\\n670er\\n| 680er\\n| 690er\\n| 700er\\n| ►\\n◄◄ |\\n◄ |\\n666 |\\n667 |\\n668 |\\n669 |\\n670\\n| 671\\n| 672\\n| 673\\n| 674\\n| ►\\n| ►►\\nEer-Snaak –Metall-Peerd \\n\")\n",
      "Error: detector_ls(\"◄ |\\n2. Johrhunnert v. Chr. |\\n1. Johrhunnert v. Chr. |\\n1. Johrhunnert |\\n►\\n◄ |\\n100er v. Chr. |\\n90er v. Chr. |\\n80er v. Chr. |\\n70er v. Chr. |\\n60er v. Chr. |\\n50er v. Chr. |\\n40er v. Chr. |\\n►\\n◄◄ |\\n◄ |\\n81 v. Chr. |\\n80 v. Chr. |\\n79 v. Chr. |\\n78 v. Chr. |\\n77 v. Chr. |\\n76 v. Chr. |\\n75 v. Chr. |\\n74 v. Chr. |\\n73 v. Chr. |\\n► |\\n►►\\n\")\n",
      "Error: detector_ls(\"De Bundsautobahn 985 weer en Autobahnprojekt in Düütschland. De plaante Autobahn A 985 schüll op en Läng vun 14 km de bayerischen Städer Waltenhofen un Sonthofen mit’nanner verbinnen, man de Plaan is 1976 opgeven worrn. An Steed vun de Autobahn is dor de Bundsstraat 14 veersporig utboet worrn. An de Anslusssteed Waltenhofen warrt de Verkehr deelwies över Ampeln regelt.\\nStrecken in Bedriev:\\nHööftstrecken:\\nA 1  \\nA 2  \\nA 3  \\nA 4  \\nA 5  \\nA 6  \\nA 7  \\nA 8  \\nA 9\\nÖver- un regional:\\nA 10  \\nA 11  \\nA 12  \\nA 13  \\nA 14  \\nA 15  \\nA 17  \\nA 19  \\nA 20  \\nA 21  \\nA 23  \\nA 24  \\nA 25  \\nA 26  \\nA 27  \\nA 28  \\nA 29  \\nA 30  \\nA 31  \\nA 33  \\nA 37  \\nA 38  \\nA 39  \\nA 40  \\nA 42  \\nA 43  \\nA 44  \\nA 45  \\nA 46  \\nA 48  \\nA 49  \\nA 52  \\nA 57  \\nA 59  \\nA 60  \\nA 61  \\nA 62  \\nA 63  \\nA 64  \\nA 65  \\nA 66  \\nA 67  \\nA 70  \\nA 71  \\nA 72  \\nA 73  \\nA 81  \\nA 92  \\nA 93  \\nA 94  \\nA 95  \\nA 96  \\nA 98  \\nA 99\\nRegional un lokal:\\nA 100  \\nA 103  \\nA 111  \\nA 113  \\nA 114  \\nA 115  \\nA 117  \\nA 143  \\nA 210  \\nA 215  \\nA 226  \\nA 255  \\nA 261  \\nA 270  \\nA 280  \\nA 281  \\nA 293  \\nA 352  \\nA 391  \\nA 392  \\nA 395  \\nA 445  \\nA 480  \\nA 485  \\nA 516  \\nA 524  \\nA 535  \\nA 540  \\nA 542  \\nA 544  \\nA 553  \\nA 555  \\nA 559  \\nA 560  \\nA 562  \\nA 565  \\nA 571  \\nA 573  \\nA 602  \\nA 620  \\nA 623  \\nA 643  \\nA 648  \\nA 650  \\nA 656  \\nA 659  \\nA 661  \\nA 671  \\nA 672  \\nA 831  \\nA 861  \\nA 864  \\nA 952  \\nA 980  \\nA 995\\nPlaant oder ehmolige Strecken:\\nA 16  \\nA 18  \\nA 22  \\nA 32  \\nA 34  \\nA 35  \\nA 36  \\nA 41  \\nA 47  \\nA 50  \\nA 51  \\nA 54  \\nA 55  \\nA 56  \\nA 69  \\nA 74  \\nA 77  \\nA 80  \\nA 82  \\nA 83  \\nA 84  \\nA 85  \\nA 86  \\nA 87  \\nA 88  \\nA 89  \\nA 90  \\nA 91\\nA 102  \\nA 104  \\nA 105  \\nA 106  \\nA 107  \\nA 205  \\nA 227  \\nA 241  \\nA 250  \\nA 252  \\nA 253  \\nA 263  \\nA 282  \\nA 290  \\nA 314  \\nA 339  \\nA 369  \\nA 376  \\nA 388  \\nA 430  \\nA 432  \\nA 441  \\nA 443  \\nA 448  \\nA 451  \\nA 480*  \\nA 533  \\nA 545  \\nA 552  \\nA 558  \\nA 580  \\nA 610  \\nA 621  \\nA 647  \\nA 652  \\nA 653  \\nA 654  \\nA 655  \\nA 680  \\nA 683  \\nA 687  \\nA 713  \\nA 720  \\nA 722  \\nA 731  \\nA 751  \\nA 752  \\nA 753  \\nA 828  \\nA 834  \\nA 840  \\nA 860  \\nA 862  \\nA 863  \\nA 863*  \\nA 881  \\nA 895  \\nA 921  \\nA 922  \\nA 942  \\nA 944  \\nA 985  \\nA 990  \\nA 991  \\nA 992  \\nA 993  \\nA 994  \\nA 996  \\nA 997  \\nA 998  \\nA 999\\n* ehmolig Plaan, Tall is intwüschen anners vergeven\\n\")\n"
     ]
    },
    {
     "name": "stdout",
     "output_type": "stream",
     "text": [
      "Error: detector_ls(\"Em Estatística, em teoria das probabilidades, o valor esperado, também chamado esperança matemática ou expectância, de uma variável aleatória é a soma do produto de cada probabilidade de saída da experiência pelo seu respectivo valor. Isto é, representa o valor médio \\\"esperado\\\" de uma experiência se ela for repetida muitas vezes. Note-se que o valor em si pode não ser esperado no sentido geral; pode ser improvável ou impossível. Se todos os eventos tiverem igual probabilidade o valor esperado é a média aritmética.\\nPara uma variável aleatória discreta X com valores possíveis \\n  \\n    \\n      \\n        \\n          x\\n          \\n            1\\n          \\n        \\n        ,\\n        \\n          x\\n          \\n            2\\n          \\n        \\n        ,\\n        \\n          x\\n          \\n            3\\n          \\n        \\n        ,\\n         \\n      \\n    \\n    ,x_,\\\\ldots }\\n  \\n e com as suas probabilidades representadas pela função \\n  \\n    \\n      \\n        p\\n        \\n      \\n    \\n    \\n  \\n, o valor esperado calcula-se pela série:\\ndesde que a série seja convergente.\\nPara uma variável aleatória contínua X o valor esperado calcula-se mediante o integral de todos os valores da função de densidade \\n  \\n    \\n      \\n        f\\n        \\n      \\n    \\n    \\n  \\n:\\nGeneralizando, seja g uma função que toma valores no espaço amostral de X. Então temos:\\ne\\nDeve-se notar que, no caso geral, \\n  \\n    \\n      \\n        \\n          E\\n        \\n      \\n    \\n     }\\n  \\n não comuta com a função g, ou seja:\\nPara o caso mais geral de \\n  \\n    \\n      \\n        \\n          X\\n        \\n      \\n    \\n     }\\n  \\n ser uma variável aleatória de mais de uma dimensão, e com \\n  \\n    \\n      \\n        \\n          g\\n        \\n      \\n    \\n     }\\n  \\n assumindo valores em um espaço vetorial normado, temos:\\ne\\nNas seguintes propriedades, \\n  \\n    \\n      \\n        X\\n        ,\\n        Y\\n      \\n    \\n    \\n  \\n são variáveis aleatórias, \\n  \\n    \\n      \\n        a\\n        ,\\n        b\\n        ,\\n        c\\n      \\n    \\n    \\n  \\n são constantes.\\nSejam: x o vetor aleatório N X 1 com valor esperado E e variância  \\n  \\n    \\n      \\n        \\n           \\n          \\n            2\\n          \\n        \\n         \\n        I\\n      \\n    \\n    \\\\cdot I}\\n  \\n ; A uma matriz quadrada genérica de dimensão N x X; tr o traço da matriz A. Então, a esperança da variável ao quadrado será:\\n  \\n    \\n      \\n        E\\n        \\n        =\\n        E\\n        \\n        =\\n        V\\n        a\\n        r\\n        \\n         \\n        t\\n        r\\n        \\n        +\\n        \\n          \\n            T\\n          \\n        \\n         \\n        A\\n         \\n        E\\n        \\n      \\n    \\n    \\\\cdot A\\\\cdot E}\\n  \\nE para duas variáveis aleatórias:\\nEstas propriedades podem ser generalizadas para qualquer número de variáveis aleatórias.\\nO valor esperado de uma combinação linear de variáveis aleatórias é a combinação linear dos seus valores esperados:\\nPor esse motivo, a função E que associa a cada variável aleatória o seu valor esperado é um operador linear, chamado de operador esperança.\\nNo caso geral, temos que\\nNo caso particular de X e Y serem variáveis aleatórias independentes, temos que:\\nSeja uma variável aleatória \\n  \\n    \\n      \\n        X\\n        :\\n        \\n          \\n             \\n          \\n        \\n         \\n        \\n          R\\n        \\n      \\n    \\n    \\\\Omega }\\\\rightarrow \\\\mathbb \\n  \\n e uma sigma-álgebra \\n  \\n    \\n      \\n        \\n          \\n             \\n          \\n        \\n      \\n    \\n    \\\\tau }}\\n  \\n no espaço amostral \\n  \\n    \\n      \\n        \\n          \\n             \\n          \\n        \\n      \\n    \\n    {\\\\displaystyle }\\n  \\n. A esperança condicional de X, dado \\n  \\n    \\n      \\n        \\n          \\n             \\n          \\n        \\n      \\n    \\n    \\\\tau }}\\n  \\n, é a variável aleatória \\n  \\n    \\n      \\n        Z\\n        :\\n        \\n          \\n             \\n          \\n        \\n         \\n        \\n          R\\n        \\n      \\n    \\n    {\\\\displaystyle Z:\\\\rightarrow \\\\mathbb \\n  \\n tal que\\nEsta variável Z tem as seguintes propriedades:\\nAnálise de \\\"Cluster\\\" \\n\")\n"
     ]
    },
    {
     "name": "stdout",
     "output_type": "stream",
     "text": [
      "Error: detector_ls(\"ilugan n tira n tmaziɣt d zrar n yilugan yemseḍfaren - wa deffir-wa-; d ilugan i ilaq ad ten-yissin win yebɣn ad tt-yaru akken iwulem, war tuccḍiwin.\\nTarrayt : deg tutlayt, menwala-tt, llan krad n yiswiren n tesleḍt, iswiren n tɣssa.\\n1. Aswar n temsielt-tasniselt: aswir-a deg tira tumrist yettqabal anagraw n tira . Tuttra iwulmen... da ihi ; d ta: anwi imesla n tutlayt i wimi ilaq ad nerr azal, deg tira-aya ? swanwi isekkilen ara ten-naru ?\\n2. Aswir n wawal d unamek: s yimesla n tutlayt, nezmer ad d-neg awalen \\n3. Aswir n tseddast: s wawalen da ɣen i d-skaran medden tifyar; s tefyar ttmeslayen medden tutlayt. \\n     ilugan n tira, d tidet, rzan  merre iswiren, wa cwiṭ , wa nezzeh. Mca, ur neṭṭafar ara abrid-a ussnan, da. Deg udlisfus-a , ad liln kra d n yisxwiren:  agemmay , aswirn wawalen, aswir n tezrarin .\\n</pr \\nI. Aswir n ugemmay:\\n \\nAsekkil_______isem-is_______lmenṭeq-ines__________amedya\\n \\nA, a___________ a, aɣra__________ _____________ Aman, Aḍar\\n \\nB,b_____________ba_____________ ______________ Rebbi, itbir\\n \\nC,c_____________ca______________________________uccen, aclim\\n \\nČ,č_____________yeč_____________________________učči\\n \\nD,d_____________da_______________________________Tddart, Adrar\\n \\nḌ,ḍ_____________ḍa_______________________________Ablaḍ. Aḍar\\n \\nE, e_____ilem, tiɣri n yilem______ur tettwanaṭaq ara______Ečč. Azrem\\n \\nF,f______________fa_______________________________Aferfar. Afus\\n \\nG, g____________ ga______________ ______________lgerra, agelzim\\n \\nǦ,ǧ____________ veǧ______________________________Taǧǧalt, taǧǧewt\\n \\nH, h_____________ha______________________________ahat, ih\\n \\nḤ,ḥ_____________ḥim______________________________aḥlalas, aḥllum\\n \\nI, i____________i, iɣri_______________________________itri, imi\\n \\nJ, j______________ja_______________________________inijel, itij\\n \\nK, k_____________ ka_____________ ______________akal. elkaɣḍ\\n \\nL, l______________la_______________________________tulawin, alim\\n \\nM, m____________ma______________________________udem, aman\\n \\nN,n_____________na_______________________________nnif, annar\\n \\nP,p_____________pa_______________________________lpinsa,\\n \\nƔ, ɣ_____________ɣar_____________________________iɣil, aɣrum\\n \\nQ,q_____________qil_______________________________aqerruy, aberwaq\\n \\nR,r____________ra, rar____________ _______________amrar, urar\\n \\nS,s____________sa, sar____________ ______________tasa, aslaḍ\\n \\nT,t______________ta______________ ______________taqdaylit, aserwet\\n \\nṬ,ṭ______________ṭar______________________________aṭas, iṭij\\n \\nU,u____________u, uɣru____________________________asurḍi, ul\\n \\nW,w_____________wa_____________________________awal, acwir\\n \\nX,x______________xa__________________________axxam, taxlalt\\n \\nY,y______________ya______________________________ayyur, aylaw\\n \\nZ,z______________za_______________________________zrura, izem\\n \\nẒ,ẓ______________ẓar______________________________aẓar, laẓ\\n \\nƐ, ɛ______________ɛil_____________ ______________lɛli, aɛu\\n \\n \\n \\nG. M . 1: isekkilen n ugemmay swayes nettaru tamaziɣt d wid n tlatinit,anagar sin-a Ɣ d Ɛ ,       i d-yekkan seg tegriget. isekkilen yettawin akafu nnig-sen, nettaru yes-sen izegnaggaɣen imezgiyen n   d   . isekkilen  ,  ,  nettaru yes-sen imesla yezgan deg wawalen imnekcamen n umalu, imesla ur nelli deg unagraw asnislan n tmaziɣt. asekil U, azal-is d win n tuget n tutlayin n umalu .Anadi amassan di tutlayt.\\n\")\n"
     ]
    },
    {
     "name": "stdout",
     "output_type": "stream",
     "text": [
      "Error: detector_ls(\"◄,\\n15. århundrede\\n◄ 16. århundrede ►\\n17. århundrede,\\n►\\n◄,\\n1520'erne,\\n1530'erne\\n◄ 1540'erne ►\\n1550'erne,\\n1560'erne,\\n►\\n◄◄,\\n◄,\\n1539,\\n1540,\\n1541,\\n1542,\\n1543\\n◄ 1544 ►\\n1545,\\n1546,\\n1547,\\n1548,\\n1549,\\n►,\\n►►\\nKonge i Danmark: Christian 3. 1534-1559\\nSe også 1544 \\n\")\n",
      "Error: detector_ls(\"◄,\\n20. århundrede\\n◄ 21. århundrede ►\\n22. århundrede,\\n►\\n◄,\\n2030'erne,\\n2040'erne\\n◄ 2050'erne ►\\n2060'erne,\\n2070'erne,\\n►\\n◄◄,\\n◄,\\n2045,\\n2046,\\n2047,\\n2048,\\n2049\\n◄ 2050 ►\\n2051,\\n2052,\\n2053,\\n2054,\\n2055,\\n►,\\n►►\\n2050  begynder året på en lørdag. Påsken falder dette år den 10. april.\\nSe også 2050 \\n\")\n",
      "Error: detector_ls(\"◄ | 4. århundrede f.Kr. | ◄ 3. århundrede f.Kr. ► | 2. århundrede f.Kr. | ►\\n◄ ◄ | ◄ | 281 f.Kr. | 280 f.Kr. | 279 f.Kr. | ◄ 278 f.Kr. ► | 277 f.Kr. | 276 f.Kr. | 275 f.Kr. | ► | ► ►\\n\")\n",
      "Error: detector_ls(\"◄ | 9. århundrede f.Kr. | ◄ 8. århundrede f.Kr. ► | 7. århundrede f.Kr. | ►\\n◄ ◄ | ◄ | 773 f.Kr. | 772 f.Kr. | 771 f.Kr. | ◄ 770 f.Kr. ► | 769 f.Kr. | 768 f.Kr. | 767 f.Kr. | ► | ► ►\\n\")\n",
      "Error: detector_ls(\"◄,\\n8. århundrede\\n◄ 9. århundrede ►\\n10. århundrede,\\n►\\n◄,\\n840'erne,\\n850'erne\\n◄ 860'erne ►\\n870'erne,\\n880'erne,\\n►\\n◄◄,\\n◄,\\n861,\\n862,\\n863,\\n864,\\n865\\n◄ 866 ►\\n867,\\n868,\\n869,\\n870,\\n871,\\n►,\\n►►\\nSe også 866 \\n\")\n"
     ]
    },
    {
     "name": "stdout",
     "output_type": "stream",
     "text": [
      "Error: detector_ls(\"1500a • 1510a • 1520a • 1530a • 1540a\\n1550a • 1560a • 1570a • 1580a • 1590a1600a\\n1501 • 1502 • 1503 • 1504 • 15051506 • 1507 • 1508 • 1509 • 1510\\n1511 • 1512 • 1513 • 1514 • 15151516 • 1517 • 1518 • 1519 • 1520\\n1521 • 1522 • 1523 • 1524 • 15251526 • 1527 • 1528 • 1529 • 1530\\n1531 • 1532 • 1533 • 1534 • 15351536 • 1537 • 1538 • 1539 • 1540\\n1541 • 1542 • 1543 • 1544 • 15451546 • 1547 • 1548 • 1549 • 1550\\n1551 • 1552 • 1553 • 1554 • 15551556 • 1557 • 1558 • 1559 • 1560\\n1561 • 1562 • 1563 • 1564 • 15651566 • 1567 • 1568 • 1569 • 1570\\n1571 • 1572 • 1573 • 1574 • 15751576 • 1577 • 1578 • 1579 • 1580\\n1581 • 1582 • 1583 • 1584 • 15851586 • 1587 • 1588 • 1589 • 1590\\n1591 • 1592 • 1593 • 1594 • 15951596 • 1597 • 1598 • 1599 • 1600\\nLa yaro 1536  esis bisextila yaro komencinta ye saturdio segun Juliala kalendario. Ol esis la 536ma yaro di la duesma yarmilo, la 36ma yaro di la 16ma yarcento, e la 7ma yaro di la yari 1530a.\\n\")\n",
      "Error: detector_ls(\"1600a • 1610a • 1620a • 1630a • 1640a\\n1650a • 1660a • 1670a • 1680a • 1690a\\n1700a\\n1601 • 1602 • 1603 • 1604 • 16051606 • 1607 • 1608 • 1609 • 1610\\n1611 • 1612 • 1613 • 1614 • 16151616 • 1617 • 1618 • 1619 • 1620\\n1621 • 1622 • 1623 • 1624 • 16251626 • 1627 • 1628 • 1629 • 1630\\n1631 • 1632 • 1633 • 1634 • 16351636 • 1637 • 1638 • 1639 • 1640\\n1641 • 1642 • 1643 • 1644 • 16451646 • 1647 • 1648 • 1649 • 1650\\n1651 • 1652 • 1653 • 1654 • 16551656 • 1657 • 1658 • 1659 • 1660\\n1661 • 1662 • 1663 • 1664 • 16651666 • 1667 • 1668 • 1669 • 1670\\n1671 • 1672 • 1673 • 1674 • 16751676 • 1677 • 1678 • 1679 • 1680\\n1681 • 1682 • 1683 • 1684 • 16851686 • 1687 • 1688 • 1689 • 1690\\n1691 • 1692 • 1693 • 1694 • 16951696 • 1697 • 1698 • 1699 • 1700\\nLa yaro 1614  esis ordinara yaro komencinta ye merkurdio segun Gregoriala kalendario, ed ordinara yaro komencinta ye saturdio segun Juliala kalendario. Ol esis la 614ma yaro di la duesma yarmilo, la 14ma yaro di la 17ma yarcento, e la 5ma yaro di la yari 1610a. Kande 1614 komencis, Gregoriala kalendario esis 10 dii avan Juliala kalendario, qua duris uzesar en kelka loki til 1923.\\n\")\n",
      "Error: detector_ls(\"1600a • 1610a • 1620a • 1630a • 1640a\\n1650a • 1660a • 1670a • 1680a • 1690a\\n1700a\\n1601 • 1602 • 1603 • 1604 • 16051606 • 1607 • 1608 • 1609 • 1610\\n1611 • 1612 • 1613 • 1614 • 16151616 • 1617 • 1618 • 1619 • 1620\\n1621 • 1622 • 1623 • 1624 • 16251626 • 1627 • 1628 • 1629 • 1630\\n1631 • 1632 • 1633 • 1634 • 16351636 • 1637 • 1638 • 1639 • 1640\\n1641 • 1642 • 1643 • 1644 • 16451646 • 1647 • 1648 • 1649 • 1650\\n1651 • 1652 • 1653 • 1654 • 16551656 • 1657 • 1658 • 1659 • 1660\\n1661 • 1662 • 1663 • 1664 • 16651666 • 1667 • 1668 • 1669 • 1670\\n1671 • 1672 • 1673 • 1674 • 16751676 • 1677 • 1678 • 1679 • 1680\\n1681 • 1682 • 1683 • 1684 • 16851686 • 1687 • 1688 • 1689 • 1690\\n1691 • 1692 • 1693 • 1694 • 16951696 • 1697 • 1698 • 1699 • 1700\\nLa yaro 1644  esis bisextila yaro komencinta ye venerdio segun Gregoriala kalendario, e bisextila yaro komencinta ye lundio segun Juliala kalendario. Ol esis la 644ma yaro di la duesma yarmilo, la 44ma yaro di la 17ma yarcento, e la 5ma yaro di la yari 1640a. Kande 1644 komencis, Gregoriala kalendario esis 10 dii avan Juliala kalendario, qua duris uzesar en kelka loki til 1923.\\n\")\n",
      "Error: detector_ls(\"1600a • 1610a • 1620a • 1630a • 1640a\\n1650a • 1660a • 1670a • 1680a • 1690a\\n1700a\\n1601 • 1602 • 1603 • 1604 • 16051606 • 1607 • 1608 • 1609 • 1610\\n1611 • 1612 • 1613 • 1614 • 16151616 • 1617 • 1618 • 1619 • 1620\\n1621 • 1622 • 1623 • 1624 • 16251626 • 1627 • 1628 • 1629 • 1630\\n1631 • 1632 • 1633 • 1634 • 16351636 • 1637 • 1638 • 1639 • 1640\\n1641 • 1642 • 1643 • 1644 • 16451646 • 1647 • 1648 • 1649 • 1650\\n1651 • 1652 • 1653 • 1654 • 16551656 • 1657 • 1658 • 1659 • 1660\\n1661 • 1662 • 1663 • 1664 • 16651666 • 1667 • 1668 • 1669 • 1670\\n1671 • 1672 • 1673 • 1674 • 16751676 • 1677 • 1678 • 1679 • 1680\\n1681 • 1682 • 1683 • 1684 • 16851686 • 1687 • 1688 • 1689 • 1690\\n1691 • 1692 • 1693 • 1694 • 16951696 • 1697 • 1698 • 1699 • 1700\\nLa yaro 1667  esis ordinara yaro komencinta ye saturdio segun Gregoriala kalendario, ed ordinara yaro komencinta ye mardio segun Juliala kalendario. Ol esis la 667ma yaro di la duesma yarmilo, la 67ma yaro di la 17ma yarcento, e la 8ma yaro di la yari 1660a. Kande 1667 komencis, Gregoriala kalendario esis 10 dii avan Juliala kalendario, qua duris uzesar en kelka loki til 1923.\\n\")\n",
      "Error: detector_ls(\"1700a • 1710a • 1720a • 1730a • 1740a\\n1750a • 1760a • 1770a • 1780a • 1790a1800a\\n1701 • 1702 • 1703 • 1704 • 17051706 • 1707 • 1708 • 1709 • 1710\\n1711 • 1712 • 1713 • 1714 • 17151716 • 1717 • 1718 • 1719 • 1720\\n1721 • 1722 • 1723 • 1724 • 17251726 • 1727 • 1728 • 1729 • 1730\\n1731 • 1732 • 1733 • 1734 • 17351736 • 1737 • 1738 • 1739 • 1740\\n1741 • 1742 • 1743 • 1744 • 17451746 • 1747 • 1748 • 1749 • 1750\\n1751 • 1752 • 1753 • 1754 • 17551756 • 1757 • 1758 • 1759 • 1760\\n1761 • 1762 • 1763 • 1764 • 17651766 • 1767 • 1768 • 1769 • 1770\\n1771 • 1772 • 1773 • 1774 • 17751776 • 1777 • 1778 • 1779 • 1780\\n1781 • 1782 • 1783 • 1784 • 17851786 • 1787 • 1788 • 1789 • 1790\\n1791 • 1792 • 1793 • 1794 • 17951796 • 1797 • 1798 • 1799 • 1800\\nLa yaro 1778  esis ordinara yaro komencinta en jovdio segun Gregoriala kalendario, ed ordinara yaro komencinta en lundio segun Juliala kalendario. Ol esis la 778ma yaro di la duesma yarmilo, la 78ma yaro di la 18ma yarcento, e la 9ma yaro di la yari 1770a. Kande 1778 komencis, Gregoriala kalendario esis 11 dii avan Juliala kalendario, qua duris uzesar en kelka loki til 1923.\\n\")\n",
      "Error: detector_ls(\"1800a • 1810a • 1820a • 1830a • 1840a\\n1850a • 1860a • 1870a • 1880a • 1890a1900a\\n1801 • 1802 • 1803 • 1804 • 18051806 • 1807 • 1808 • 1809 • 1810\\n1811 • 1812 • 1813 • 1814 • 18151816 • 1817 • 1818 • 1819 • 1820\\n1821 • 1822 • 1823 • 1824 • 18251826 • 1827 • 1828 • 1829 • 1830\\n1831 • 1832 • 1833 • 1834 • 18351836 • 1837 • 1838 • 1839 • 1840\\n1841 • 1842 • 1843 • 1844 • 18451846 • 1847 • 1848 • 1849 • 1850\\n1851 • 1852 • 1853 • 1854 • 18551856 • 1857 • 1858 • 1859 • 1860\\n1861 • 1862 • 1863 • 1864 • 18651866 • 1867 • 1868 • 1869 • 1870\\n1871 • 1872 • 1873 • 1874 • 18751876 • 1877 • 1878 • 1879 • 1880\\n1881 • 1882 • 1883 • 1884 • 18851886 • 1887 • 1888 • 1889 • 1890\\n1891 • 1892 • 1893 • 1894 • 18951896 • 1897 • 1898 • 1899 • 1900\\n\")\n",
      "Error: detector_ls(\"1800a • 1810a • 1820a • 1830a • 1840a\\n1850a • 1860a • 1870a • 1880a • 1890a1900a\\n1801 • 1802 • 1803 • 1804 • 18051806 • 1807 • 1808 • 1809 • 1810\\n1811 • 1812 • 1813 • 1814 • 18151816 • 1817 • 1818 • 1819 • 1820\\n1821 • 1822 • 1823 • 1824 • 18251826 • 1827 • 1828 • 1829 • 1830\\n1831 • 1832 • 1833 • 1834 • 18351836 • 1837 • 1838 • 1839 • 1840\\n1841 • 1842 • 1843 • 1844 • 18451846 • 1847 • 1848 • 1849 • 1850\\n1851 • 1852 • 1853 • 1854 • 18551856 • 1857 • 1858 • 1859 • 1860\\n1861 • 1862 • 1863 • 1864 • 18651866 • 1867 • 1868 • 1869 • 1870\\n1871 • 1872 • 1873 • 1874 • 18751876 • 1877 • 1878 • 1879 • 1880\\n1881 • 1882 • 1883 • 1884 • 18851886 • 1887 • 1888 • 1889 • 1890\\n1891 • 1892 • 1893 • 1894 • 18951896 • 1897 • 1898 • 1899 • 1900\\nLa yaro 1895  esis ordinara yaro komencinta ye mardio segun Gregoriala kalendario, ed ordinara yaro komencinta ye sundio segun Juliala kalendario. Ol esis la 895ma yaro di la duesma yarmilo, la 95ma yaro di la 19ma yarcento, e la 6ma yaro di la yari 1890a. Kande 1895 komencis, Gregoriala kalendario esis 12 dii avan Juliala kalendario, qua duris uzesar en kelka loki til 1923.\\n\")\n",
      "Error: detector_ls(\"1900a • 1910a • 1920a • 1930a • 1940a\\n1950a • 1960a • 1970a • 1980a • 1990a2000a\\n1901 • 1902 • 1903 • 1904 • 19051906 • 1907 • 1908 • 1909 • 1910\\n1911 • 1912 • 1913 • 1914 • 19151916 • 1917 • 1918 • 1919 • 1920\\n1921 • 1922 • 1923 • 1924 • 19251926 • 1927 • 1928 • 1929 • 1930\\n1931 • 1932 • 1933 • 1934 • 19351936 • 1937 • 1938 • 1939 • 1940\\n1941 • 1942 • 1943 • 1944 • 19451946 • 1947 • 1948 • 1949 • 1950\\n1951 • 1952 • 1953 • 1954 • 19551956 • 1957 • 1958 • 1959 • 1960\\n1961 • 1962 • 1963 • 1964 • 19651966 • 1967 • 1968 • 1969 • 1970\\n1971 • 1972 • 1973 • 1974 • 19751976 • 1977 • 1978 • 1979 • 1980\\n1981 • 1982 • 1983 • 1984 • 19851986 • 1987 • 1988 • 1989 • 1990\\n1991 • 1992 • 1993 • 1994 • 19951996 • 1997 • 1998 • 1999 • 2000\\nLa yaro 2000  esis bisextila yaro komencinta ye saturdio che Gregoriala kalendario. Ol esas la 1000ma e lasta yaro di la 2ma yarmilo e la 100ma e lasta yaro di la 20ma yarcento. Ol ank esis l'unesma yaro di la yari 2000a. UNESKO deklaris ol la \\\"yaro di la kulturo di paco\\\".\\n\")\n",
      "Error: detector_ls(\"2000a • 2010a • 2020a • 2030a • 2040a\\n2050a • 2060a • 2070a • 2080a • 2090a2100a\\n2001 • 2002 • 2003 • 2004 • 20052006 • 2007 • 2008 • 2009 • 2010\\n2011 • 2012 • 2013 • 2014 • 20152016 • 2017 • 2018 • 2019 • 2020\\n2021 • 2022 • 2023 • 2024 • 20252026 • 2027 • 2028 • 2029 • 2030\\n2031 • 2032 • 2033 • 2034 • 20352036 • 2037 • 2038 • 2039 • 2040\\n2041 • 2042 • 2043 • 2044 • 20452046 • 2047 • 2048 • 2049 • 2050\\n2051 • 2052 • 2053 • 2054 • 20552056 • 2057 • 2058 • 2059 • 2060\\n2061 • 2062 • 2063 • 2064 • 20652066 • 2067 • 2068 • 2069 • 2070\\n2071 • 2072 • 2073 • 2074 • 20752076 • 2077 • 2078 • 2079 • 2080\\n2081 • 2082 • 2083 • 2084 • 20852086 • 2087 • 2088 • 2089 • 2090\\n2091 • 2092 • 2093 • 2094 • 20952096 • 2097 • 2098 • 2099 • 2100\\nLa yaro 2005  esis ordinara yaro komencinta ye saturdio segun Gregoriala kalendario. Ol esis la 5ma yaro di la triesma yarmilo, la 5ma yaro di la 21ma yarcento, e la 6ma yaro di la yari 2000a.\\nCa yaro, mutaco de la viruso H5N1, qua produktas ucela influenzo, efektigis pandemio qua afektis precipue Aziana landi, nome Vietnam, Popul-Republiko Chinia, Tailando, Kazakstan, Turkia e Kuwait, ma anke Rumania e Kroatia. On kalkulas ke ca morbo mortigis 60 personi en du yari. 1  Tamen, por preventar lua dissemo, mili de uceli mustis mortigesar en ca landi.\\n\")\n"
     ]
    },
    {
     "name": "stdout",
     "output_type": "stream",
     "text": [
      "Error: detector_ls(\"300a • 310a • 320a • 330a • 340a\\n350a • 360a • 370a • 380a • 390a400a\\n301 • 302 • 303 • 304 • 305306 • 307 • 308 • 309 • 310\\n311 • 312 • 313 • 314 • 315316 • 317 • 318 • 319 • 320\\n321 • 322 • 323 • 324 • 325326 • 327 • 328 • 329 • 330\\n331 • 332 • 333 • 334 • 335336 • 337 • 338 • 339 • 340\\n341 • 342 • 343 • 344 • 345346 • 347 • 348 • 349 • 350\\n351 • 352 • 353 • 354 • 355356 • 357 • 358 • 359 • 360\\n361 • 362 • 363 • 364 • 365366 • 367 • 368 • 369 • 370\\n371 • 372 • 373 • 374 • 375376 • 377 • 378 • 379 • 380\\n381 • 382 • 383 • 384 • 385386 • 387 • 388 • 389 • 390\\n391 • 392 • 393 • 394 • 395396 • 397 • 398 • 399 • 400\\nLa yaro 314  esis ordinara yaro komencinta ye venerdio segun Juliala kalendario. Ol esis la 314ma yaro dil unesma yarmilo, la 14ma yaro di la 4ma yarcento, e la 5ma yaro di la yari 310a. La nomo 314 uzesas por ca yaro de la Mezepoko, kande Anno Domini divenis la precipua formo uzata en Europa por nomar yari.\\n\")\n",
      "Error: detector_ls(\"488 aK <--> 486 aK / 5ma yarcento aK\\n\")\n",
      "Error: detector_ls(\"498 aK <--> 496 aK / 5ma yarcento aK\\n\")\n",
      "Error: detector_ls(\"600a • 610a • 620a • 630a • 640a\\n650a • 660a • 670a • 680a • 690a700a\\n601 • 602 • 603 • 604 • 605606 • 607 • 608 • 609 • 610\\n611 • 612 • 613 • 614 • 615616 • 617 • 618 • 619 • 620\\n621 • 622 • 623 • 624 • 625626 • 627 • 628 • 629 • 630\\n631 • 632 • 633 • 634 • 635636 • 637 • 638 • 639 • 640\\n641 • 642 • 643 • 644 • 645646 • 647 • 648 • 649 • 650\\n651 • 652 • 653 • 654 • 655656 • 657 • 658 • 659 • 660\\n661 • 662 • 663 • 664 • 665666 • 667 • 668 • 669 • 670\\n671 • 672 • 673 • 674 • 675676 • 677 • 678 • 679 • 680\\n681 • 682 • 683 • 684 • 685686 • 687 • 688 • 689 • 690\\n691 • 692 • 693 • 694 • 695696 • 697 • 698 • 699 • 700\\nLa yaro 606  esis ordinara yaro komencinta ye saturdio segun Juliala kalendario. Ol esis la 606ma yaro dil unesma yarmilo, la 6ma yaro di la 7ma yarcento, e la 7ma yaro di la yari 600a.\\n\")\n",
      "Error: detector_ls(\"700a • 710a • 720a • 730a • 740a\\n750a • 760a • 770a • 780a • 790a800a\\n701 • 702 • 703 • 704 • 705706 • 707 • 708 • 709 • 710\\n711 • 712 • 713 • 714 • 715716 • 717 • 718 • 719 • 720\\n721 • 722 • 723 • 724 • 725726 • 727 • 728 • 729 • 730\\n731 • 732 • 733 • 734 • 735736 • 737 • 738 • 739 • 740\\n741 • 742 • 743 • 744 • 745746 • 747 • 748 • 749 • 750\\n751 • 752 • 753 • 754 • 755756 • 757 • 758 • 759 • 760\\n761 • 762 • 763 • 764 • 765766 • 767 • 768 • 769 • 770\\n771 • 772 • 773 • 774 • 775776 • 777 • 778 • 779 • 780\\n781 • 782 • 783 • 784 • 785786 • 787 • 788 • 789 • 790\\n791 • 792 • 793 • 794 • 795796 • 797 • 798 • 799 • 800\\nLa yaro 739  esis ordinara yaro komencinta ye jovdio segun Juliala kalendario. Ol esis la 739ma yaro del unesma yarmilo, la 39ma yaro de la 8ma yarcento, e la 10ma yaro de la yari 730a.\\n\")\n"
     ]
    },
    {
     "name": "stdout",
     "output_type": "stream",
     "text": [
      "Error: detector_ls(\"1000a • 1010a • 1020a • 1030a • 1040a\\n1050a • 1060a • 1070a • 1080a • 1090a1100a\\n1001 • 1002 • 1003 • 1004 • 10051006 • 1007 • 1008 • 1009 • 1010\\n1011 • 1012 • 1013 • 1014 • 10151016 • 1017 • 1018 • 1019 • 1020\\n1021 • 1022 • 1023 • 1024 • 10251026 • 1027 • 1028 • 1029 • 1030\\n1031 • 1032 • 1033 • 1034 • 10351036 • 1037 • 1038 • 1039 • 1040\\n1041 • 1042 • 1043 • 1044 • 10451046 • 1047 • 1048 • 1049 • 1050\\n1051 • 1052 • 1053 • 1054 • 10551056 • 1057 • 1058 • 1059 • 1060\\n1061 • 1062 • 1063 • 1064 • 10651066 • 1067 • 1068 • 1069 • 1070\\n1071 • 1072 • 1073 • 1074 • 10751076 • 1077 • 1078 • 1079 • 1080\\n1081 • 1082 • 1083 • 1084 • 10851086 • 1087 • 1088 • 1089 • 1090\\n1091 • 1092 • 1093 • 1094 • 10951096 • 1097 • 1098 • 1099 • 1100\\nLa yari 1050ma komencis ye la 1ma di januaro 1050 e finis ye la 31ma di decembro 1059. Dum la yari 1050ma eventis, inter altri:\\n\")\n"
     ]
    },
    {
     "name": "stdout",
     "output_type": "stream",
     "text": [
      "Error: detector_ls(\"\\n 15 \\n 41 \\n 43 \\nPadron:Jhené Aiko\\n\")\n"
     ]
    },
    {
     "name": "stdout",
     "output_type": "stream",
     "text": [
      "Error: detector_ls(\"דער לאגאַריטם פון א נומער איז דער פאטענץ מיט וואס א געוויסער נומער, די באזע, דארף ווערן געהעכערט צו פראדוצירן יענעם נומער. למשל, דער לאגאריטם פון 1000 צו באזע 10 איז 3, ווייל 1000 איז 10 צום פאטענץ 3: 1000 = 10 × 10 × 10 = 103. בדרך כלל, אז x = by, דעמאלסט y איז דער לאגאריטם פון x צו באזע b, און מען שרייבט (y = logb(x. אין דעם פריערדיקן ביישפיל, log10(1000) = 3.\\nדי געזעצן אונטן האלטן פאר יעדער  \\n  \\n    \\n      \\n         \\n        a\\n        ,\\n        b\\n        ,\\n        c\\n      \\n    \\n    \\n  \\n וואס זענען פאזיטיווע רעאלע צאלן, אבער די באזע פון די לאגאריטמען קען נישט זיין 1. פראקטיש ניצט מען א באזע גרעסער פון 1.\\nבאזונדערע ווערטן\\n  \\n    \\n      \\n         \\n        \\n          log\\n          \\n            a\\n          \\n        \\n         \\n        \\n        =\\n        0\\n      \\n    \\n    =0}\\n  \\n  \\n    \\n      \\n         \\n        \\n          log\\n          \\n            a\\n          \\n        \\n         \\n        \\n        =\\n        1\\n      \\n    \\n    =1}\\n  \\nטאפלונג, צעטיילונג און אויפהייבן צו א פאטענץ\\nדי געזעצן מאכן גרינגער אויסרעכענען טאפלונג, צעטיילונג, פאטענצן און ווארצלען, דורך א טאבעלע פון לאגאריטמען אדער א רעכנווירע. \\n  \\n    \\n      \\n         \\n        \\n          log\\n          \\n            c\\n          \\n        \\n         \\n        \\n        =\\n        \\n          log\\n          \\n            c\\n          \\n        \\n         \\n        \\n        +\\n        \\n          log\\n          \\n            c\\n          \\n        \\n         \\n        \\n      \\n    \\n    =\\\\log _}\\n  \\n  \\n    \\n      \\n         \\n        \\n          log\\n          \\n            c\\n          \\n        \\n         \\n        \\n          \\n        \\n        =\\n        \\n          log\\n          \\n            c\\n          \\n        \\n         \\n        \\n         \\n        \\n          log\\n          \\n            c\\n          \\n        \\n         \\n        \\n      \\n    \\n    \\\\left=\\\\log _{c}-\\\\log _\\n  \\n  \\n    \\n      \\n         \\n        \\n          \\n            log\\n            \\n              a\\n            \\n          \\n           \\n          b\\n        \\n         \\n        \\n          \\n            log\\n            \\n              c\\n            \\n          \\n           \\n          d\\n        \\n        =\\n        \\n          \\n            log\\n            \\n              c\\n            \\n          \\n           \\n          b\\n        \\n         \\n        \\n          \\n            log\\n            \\n              a\\n            \\n          \\n           \\n          d\\n        \\n      \\n    \\n    b}\\\\cdot =\\\\cdot }\\n  \\n  \\n    \\n      \\n         \\n        \\n          log\\n          \\n            c\\n          \\n        \\n         \\n        \\n        =\\n        r\\n         \\n        \\n          log\\n          \\n            c\\n          \\n        \\n         \\n        \\n      \\n    \\n    =r\\\\cdot \\\\log _\\n  \\nלאגאריטם און די עקספאנענטיעלע פונקציע\\nמען ניצט די כללים צו לייזן גלייכונגען וואו דער אומבאשטימטער איז א פאטענץ.\\n  \\n    \\n      \\n         \\n        \\n          x\\n          \\n            \\n              log\\n              \\n                a\\n              \\n            \\n             \\n            b\\n          \\n        \\n        =\\n        \\n          b\\n          \\n            \\n              log\\n              \\n                a\\n              \\n            \\n             \\n            x\\n          \\n        \\n      \\n    \\n    b}=b^}\\n  \\n  \\n    \\n      \\n         \\n        \\n          a\\n          \\n            \\n              log\\n              \\n                a\\n              \\n            \\n             \\n            b\\n          \\n        \\n        =\\n        b\\n      \\n    \\n    {\\\\displaystyle \\\\ a^=b}\\n  \\n  \\n    \\n      \\n         \\n        \\n          log\\n          \\n            a\\n          \\n        \\n         \\n        \\n          a\\n          \\n            r\\n          \\n        \\n        =\\n        r\\n      \\n    \\n    a^\\n  \\nעדערן די באזע פון א לאגאריטם\\nמען ניצט דעם כלל צו בייטן לאגאריטנמען אין א רעכנמאשינקע.\\nרוב רעכנמאשינקעס האבן קנעפלעך פארן נאטירלעכן לאגאריטם (ln) און פארן לאגאריטם צו באזע 10\\n(\\n  \\n    \\n      \\n         \\n        \\n          log\\n          \\n            10\\n          \\n        \\n      \\n    \\n    }\\n  \\n), אבער נישט פאר באזע 2 (\\n  \\n    \\n      \\n         \\n        \\n          log\\n          \\n            2\\n          \\n        \\n      \\n    \\n    }\\n  \\n).\\nכדי צו רעכענען \\n  \\n    \\n      \\n         \\n        \\n          log\\n          \\n            2\\n          \\n        \\n         \\n        100\\n      \\n    \\n    100}\\n  \\n,\\nרעכנט מען \\n  \\n    \\n      \\n         \\n        \\n          \\n            \\n              \\n                log\\n                \\n                  10\\n                \\n              \\n               \\n              100\\n            \\n            \\n              \\n                log\\n                \\n                  10\\n                \\n              \\n               \\n              2\\n            \\n          \\n        \\n      \\n    \\n    100}}\\n  \\nאדער \\n  \\n    \\n      \\n         \\n        \\n          \\n            \\n              ln\\n               \\n              \\n                100\\n              \\n            \\n            \\n              ln\\n               \\n              \\n                2\\n              \\n            \\n          \\n        \\n      \\n    \\n    }{\\\\ln }}\\n  \\n, וואס גיט דעם זעלבן רעזולטאט).\\n  \\n    \\n      \\n         \\n        \\n          log\\n          \\n            a\\n          \\n        \\n         \\n        b\\n        =\\n        \\n          \\n            \\n              \\n                log\\n                \\n                  c\\n                \\n              \\n               \\n              b\\n            \\n            \\n              \\n                log\\n                \\n                  c\\n                \\n              \\n               \\n              a\\n            \\n          \\n        \\n      \\n    \\n    b=}\\n  \\n  \\n    \\n      \\n         \\n        \\n          log\\n          \\n            a\\n          \\n        \\n         \\n        b\\n        =\\n        \\n          \\n            1\\n            \\n              \\n                log\\n                \\n                  b\\n                \\n              \\n               \\n              a\\n            \\n          \\n        \\n      \\n    \\n    b=a}}}\\n  \\nגרענעץ\\n  \\n    \\n      \\n         \\n        \\n          lim\\n          \\n            x\\n             \\n            0\\n          \\n        \\n        \\n          log\\n          \\n            a\\n          \\n        \\n         \\n        \\n        =\\n         \\n         \\n      \\n    \\n    \\\\log _\\n  \\n  \\n    \\n      \\n         \\n        \\n          lim\\n          \\n            x\\n             \\n            0\\n          \\n        \\n        \\n          log\\n          \\n            a\\n          \\n        \\n         \\n        \\n        =\\n         \\n      \\n    \\n    \\\\log _\\n  \\n  \\n    \\n      \\n         \\n        \\n          lim\\n          \\n            x\\n             \\n             \\n          \\n        \\n        \\n          log\\n          \\n            a\\n          \\n        \\n         \\n        \\n        =\\n         \\n      \\n    \\n    \\\\log _\\n  \\n  \\n    \\n      \\n         \\n        \\n          lim\\n          \\n            x\\n             \\n             \\n          \\n        \\n        \\n          log\\n          \\n            a\\n          \\n        \\n         \\n        \\n        =\\n         \\n         \\n      \\n    \\n    \\\\log _\\n  \\n  \\n    \\n      \\n         \\n        \\n          lim\\n          \\n            x\\n             \\n            0\\n          \\n        \\n        \\n          log\\n          \\n            a\\n          \\n        \\n         \\n        \\n         \\n        \\n          x\\n          \\n            b\\n          \\n        \\n        =\\n        0\\n      \\n    \\n    \\\\log _=0}\\n  \\n  \\n    \\n      \\n         \\n        \\n          lim\\n          \\n            x\\n             \\n             \\n          \\n        \\n        \\n          log\\n          \\n            a\\n          \\n        \\n         \\n        \\n        \\n          /\\n        \\n        \\n          x\\n          \\n            b\\n          \\n        \\n        =\\n        0\\n      \\n    \\n    \\\\log _{a}/x^\\n  \\nדעריוואטיוו\\n  \\n    \\n      \\n         \\n        \\n          \\n            d\\n            \\n              d\\n              x\\n            \\n          \\n        \\n        \\n          log\\n          \\n            a\\n          \\n        \\n         \\n        \\n        =\\n        \\n          \\n            1\\n            \\n              x\\n              ln\\n               \\n              \\n            \\n          \\n        \\n        =\\n        \\n          \\n            1\\n            x\\n          \\n        \\n         \\n        \\n          log\\n          \\n            a\\n          \\n        \\n         \\n        e\\n      \\n    \\n    \\\\log _=e}\\n  \\nאינטעגראל\\n  \\n    \\n      \\n         \\n         \\n        \\n          log\\n          \\n            a\\n          \\n        \\n         \\n        \\n        \\n        d\\n        x\\n        =\\n        x\\n        \\n          log\\n          \\n            a\\n          \\n        \\n         \\n        \\n         \\n        \\n          \\n            x\\n            \\n              ln\\n               \\n              \\n            \\n          \\n        \\n        +\\n        C\\n      \\n    \\n    \\\\,dx=x\\\\log _\\n  \\n\")\n"
     ]
    },
    {
     "name": "stdout",
     "output_type": "stream",
     "text": [
      "Error: detector_ls(\"רעמיט  איז א דארף אין מאראמאראש, רומעניע.\\n      47°59′N   23°38′E      /     47.983°N 23.633°E    /  47.983; 23.633     \\n</pr\\nבאניע ·  סיגעט\\nבארשע ·  דראַגאמירעשט ·  אויבער ווישעווע ·  מאדיאר-לאפאש ·  סייני …\\nבירסאניף ·  בערבעשט ·  דעפאליע ·  ווירישמורט ·  לאַפוש ·  סטרימטערע ·  סיטשעל ·  פעטריווע ·  רעמיט …\\n\")\n"
     ]
    },
    {
     "name": "stdout",
     "output_type": "stream",
     "text": [
      "Error: detector_ls(\"في علم الرياضيات،يسمى فضاء هاوسدورف X باسم فضاء النقطة الثابتة إذا كانت كل دالة متصلة  \\n  \\n    \\n      \\n        f\\n        :\\n        X\\n         \\n        X\\n      \\n    \\n    \\n  \\n تتميز بـنقطة ثابتة.\\nعلى سبيل المثال، أي فترة مغلقة  في \\n  \\n    \\n      \\n        \\n          R\\n        \\n      \\n    \\n     }\\n  \\n عبارة عن فضاء نقطة ثابتة ويمكن إثباته من خاصية القيمة المتوسطة للدالة المتصلة الحقيقية. مع ذلك لا تعد الفترة المفتوحة ، فضاء نقطة ثابتة. لملاحظتها، انظر إلى الدالة \\n  \\n    \\n      \\n        f\\n        \\n        =\\n        a\\n        +\\n        \\n          \\n            1\\n            \\n              b\\n               \\n              a\\n            \\n          \\n        \\n         \\n        \\n          \\n            2\\n          \\n        \\n      \\n    \\n    }\\n  \\n، على سبيل المثال.\\nأي فضاء مرتب خطيًّا ومتصل وله عنصر أعلى وأدنى هو فضاء من فضاءات النقطة الثابتة.\\nلاحظ أننا في التعريف نستطيع بسهولة التخلص من اشتراط أن الفضاء هو فضاء هاوسدورف.\\nهذه بذرة مقالة عن التحليل الرياضي بحاجة للتوسيع. فضلًا شارك في تحريرها.\")\n"
     ]
    },
    {
     "name": "stdout",
     "output_type": "stream",
     "text": [
      "Error: detector_ls(\"Беревоешт  — општина во округот Арџеш во јужна Романија, во која живеат 3.429 жители.\\nКоординати: 45°13′45″ N; 24°56′09″ E  /  45.22915° СГШ; 24.93570° ИГД  / 45.22915; 24.93570\\n\")\n"
     ]
    },
    {
     "name": "stdout",
     "output_type": "stream",
     "text": [
      "Error: detector_ls(\"Чом’џешт  — општина во округот Арџеш во јужна Романија, во која живеат 1.362 жители.\\nКоординати: 44°50′N 24°27′E  /  44.833° СГШ; 24.450° ИГД  / 44.833; 24.450\\n\")\n"
     ]
    },
    {
     "name": "stdout",
     "output_type": "stream",
     "text": [
      "Error: detector_ls(\"DoğrulukGörüldü\\nMöbius fonksiyonu \\n  \\n    \\n      \\n         \\n        \\n      \\n    \\n    \\n  \\n, 1832 yılında Alman matematikçi August Ferdinand Möbius tarafından ortaya atılan çarpımsal bir fonksiyondur. Temel ve analitik sayılar teorisi'nde çoğunlukla kullanılan fonksiyon, genellikle Möbius inversiyon formülü'nün bir parçası olarak görülür. Gian-Carlo Rota'nın 1960'lı yıllardaki çalışmaları sonucunda \\n  \\n    \\n      \\n         \\n        \\n      \\n    \\n    \\n  \\n ile gösterilen Möbius fonksiyonunun genellemeleri kombinatoriğe tanıtılmıştır.\\nHerhangi bir pozitif tam sayı \\n  \\n    \\n      \\n        n\\n      \\n    \\n    \\n  \\n için \\n  \\n    \\n      \\n         \\n        \\n      \\n    \\n    \\n  \\n, 1'in primitif olan ninci köklerinin toplamını ifade eder. \\n  \\n    \\n      \\n         \\n        \\n      \\n    \\n    \\n  \\n, \\n  \\n    \\n      \\n        n\\n      \\n    \\n    \\n  \\n'nin asal çarpanlarına ayrılışına göre \\n  \\n    \\n      \\n        \\n      \\n    \\n    }\\n  \\n değerlerini alabilir.\\nEğer \\n  \\n    \\n      \\n        n\\n      \\n    \\n    \\n  \\n,\\nolur.\\nMöbius fonksiyonu alternatif olarak şu şekilde yazılabilir:\\nBurada \\n  \\n    \\n      \\n         \\n      \\n    \\n    {\\\\displaystyle \\\\delta }\\n  \\n Kronecker deltasını, \\n  \\n    \\n      \\n         \\n        \\n      \\n    \\n    {\\\\displaystyle \\\\lambda }\\n  \\n Liouville fonksiyonunu \\n          \\n             \\n            ^{\\\\Omega }}\\n  \\n olarak ifade edilir), \\n  \\n    \\n      \\n         \\n        \\n      \\n    \\n    {\\\\displaystyle \\\\omega }\\n  \\n ve \\n  \\n    \\n      \\n         \\n        \\n      \\n    \\n    {\\\\displaystyle \\\\Omega }\\n  \\n ise Asal omega fonksiyonlarını ifade eder.\\n  \\n    \\n      \\n         \\n        \\n      \\n    \\n    \\n  \\n'nin ilk 50 pozitif tam sayı için değerleri şu şekildedir:\\nYukarıdaki değerlerin grafik üzerinde gösterimi aşağıdaki gibidir.\\nMöbius fonksiyonunu üreten Dirichlet serisi, Riemann zeta fonksiyonunun çarpımsal tersidir. Eğer \\n  \\n    \\n      \\n        s\\n      \\n    \\n    \\n  \\n reel kısmı 1'den büyük bir karmaşık sayıysa\\neşitliği sağlanır.\\nBu eşitlik \\n  \\n    \\n      \\n        1\\n        \\n          /\\n        \\n         \\n        \\n      \\n    \\n    \\n  \\n'nin Euler çarpımından da görülebilir:\\nİlgili seriler:\\nMöbius fonksiyonu için Lambert serisi:\\nAsal \\n  \\n    \\n      \\n         \\n         \\n        2\\n      \\n    \\n    \\n  \\n için de şunu yazabiliriz:\\nMöbius fonksiyonu \\n  \\n    \\n      \\n         \\n        \\n      \\n    \\n    \\n  \\n, \\n  \\n    \\n      \\n        a\\n      \\n    \\n    \\n  \\n ve \\n  \\n    \\n      \\n        b\\n      \\n    \\n    \\n  \\n aralarında asal ise çarpımsaldır (\\n  \\n    \\n      \\n         \\n        \\n        =\\n         \\n        \\n      \\n    \\n    \\n  \\n).\\n  \\n    \\n      \\n        n\\n      \\n    \\n    \\n  \\n'nin her pozitif böleni \\n  \\n    \\n      \\n        d\\n      \\n    \\n    \\n  \\n için \\n  \\n    \\n      \\n         \\n        \\n      \\n    \\n    \\n  \\n değerlerinin toplamı sıfırdır: \\nBu eşitlik Möbius inversiyon formülü'nün temelini oluşturur ve \\n  \\n    \\n      \\n         \\n      \\n    \\n    \\n  \\n'nun aritmetik ve çarpımsal fonksiyonlar teorisindeki öneminin asıl nedeni budur.\\n  \\n    \\n      \\n         \\n      \\n    \\n    \\n  \\n'nun kombinatorikteki diğer uygulamaları Pólya'nın sayma teoremi'nin kullanımıyla beraber kombinatoryal gruplar ve kombinatoryal sayma ile bağlantılıdır.\\nMöbius fonksiyonu tarafından sağlanan bazı özdeşlikler: 1 \\nMöbius fonksiyonunun ortalama değeri sıfırdır. Bu iddia, asal sayı teoremine eşittir. 2 \\nSayılar teorisinde Möbius fonksiyonu ile yakından ilgili bir diğer fonksiyon her doğal sayı \\n  \\n    \\n      \\n        n\\n      \\n    \\n    \\n  \\n aşağıdaki gibi tanımlanan Mertens fonksiyonu'dur.\\nBu fonksiyon, Riemann zeta fonksiyonunun sıfırları ile yakından bağlantılıdır. Bunun hakkında daha fazla bilgi için Mertens konjektürü sayfasına bakabilirsiniz.\\neşitliğinden Mertens fonksiyonu şu şekilde yazılabilir:\\nBurada \\n  \\n    \\n      \\n        \\n          \\n            \\n              F\\n            \\n          \\n          \\n            n\\n          \\n        \\n      \\n    \\n    }_\\n  \\n, Farey dizisi'nin ninci kümesini belirtmektedir. Bu eşitlik, Franel-Landau teoremi'nin kanıtında kullanılmıştır.\\n\")\n",
      "Error: detector_ls(\"Koordinat: 23sa 41d 34,0s; +03º 43' 30″\\n23sa 41d 34s\\n+03° 43  30 \\n13,8\\n14,3\\n13,8\\n2 x 0,6\\nNGC 7732, Yeni Genel Katalog'da yer alan bir galaksidir. Gökyüzünde Balıklar takımyıldızı yönünde bulunur. Scd tipi bir sarmal galaksidir. Alman astronom Albert Marth tarafından 1864 yılında 121,92 cm  çaplı aynalı tip bir teleskopla keşfedilmiştir. 4 \\n Liste\\nNGC 7708  \\nNGC 7709  \\nNGC 7710  \\nNGC 7711  \\nNGC 7712  \\nNGC 7713  \\nNGC 7714  \\nNGC 7715  \\nNGC 7716  \\nNGC 7717  \\nNGC 7718  \\nNGC 7719  \\nNGC 7720  \\nNGC 7721  \\nNGC 7722  \\nNGC 7723  \\nNGC 7724  \\nNGC 7725  \\nNGC 7726  \\nNGC 7727  \\nNGC 7728  \\nNGC 7729  \\nNGC 7730  \\nNGC 7731  \\nNGC 7732  \\nNGC 7733  \\nNGC 7734  \\nNGC 7735  \\nNGC 7736  \\nNGC 7737  \\nNGC 7738  \\nNGC 7739  \\nNGC 7740  \\nNGC 7741  \\nNGC 7742  \\nNGC 7743  \\nNGC 7744  \\nNGC 7745  \\nNGC 7746  \\nNGC 7747  \\nNGC 7748  \\nNGC 7749  \\nNGC 7750  \\nNGC 7751  \\nNGC 7752  \\nNGC 7753  \\nNGC 7754  \\nNGC 7755  \\nNGC 7756  \\nNGC 7757\\n\")\n"
     ]
    },
    {
     "name": "stdout",
     "output_type": "stream",
     "text": [
      "Error: detector_ls(\"En análisis de algoritmos, una cota superior asintótica es una función que sirve de cota superior de otra función cuando el argumento tiende a infinito. Usualmente se utiliza la notación de Landau: O), Orden de g, coloquialmente llamada Notación O Grande, para referirse a las funciones acotadas superiormente por la función g.\\nFormalmente se define:\\n  \\n    \\n      \\n        O\\n        \\n        )\\n        =\\n        \\n          \\n        \\n      \\n    \\n    f:}\\\\\\\\\\\\forall x\\\\geq x_}\\n  \\nUna función f pertenece a O(g) cuando existe una constante positiva c tal que a partir de un valor \\n  \\n    \\n      \\n        \\n          x\\n          \\n            0\\n          \\n        \\n      \\n    \\n    }\\n  \\n, f no sobrepasa a \\n  \\n    \\n      \\n        c\\n        g\\n        \\n      \\n    \\n    \\n  \\n. Quiere decir que la función f es inferior a g a partir de un valor dado salvo por un factor constante. \\nLa cota superior asintótica tiene gran importancia en la Teoría de la complejidad computacional cuando se definen las clases de complejidad.\\nA pesar de que O(g(x)) está definida como un conjunto, se acostumbra escribir f(x)=O(g(x)) en lugar de f(x)∈O(g(x)), ya que la clase de equivalencia de f coincide con el conjunto O(g(x). Muchas veces también se habla de la función nombrando únicamente su expresión, como en x² en lugar de h(x)=x², siempre que esté claro cuál es el parámetro de la función dentro de la expresión. En la gráfica se da un ejemplo esquemático de cómo se comporta \\n  \\n    \\n      \\n        c\\n        g\\n        (\\n        x\\n        )\\n      \\n    \\n    \\n  \\n con respecto a f(x) cuando x tiende a infinito. Nótese además que dicho conjunto es no vacío pues g(x)=O(g(x)).\\nLa cota ajustada asintótica  tiene relación con las cotas asintóticas superior e inferior :\\n  \\n    \\n      \\n        f\\n        \\n        =\\n         \\n        (\\n        g\\n        \\n        )\\n        \\n          \\n             si y solo si \\n          \\n        \\n        f\\n        \\n        =\\n        O\\n        (\\n        g\\n        \\n        )\\n        \\n          \\n             y \\n          \\n        \\n        f\\n        \\n        =\\n         \\n        (\\n        g\\n        \\n        )\\n        \\n      \\n    \\n    }f=O(g)f=\\\\Omega (g)\\\\,}\\n  \\nSea \\n  \\n    \\n      \\n        E\\n         \\n        \\n          R\\n        \\n      \\n    \\n     }\\n  \\n, sean \\n  \\n    \\n      \\n        \\n          f\\n          \\n            1\\n          \\n        \\n        :\\n        E\\n         \\n        \\n          R\\n        \\n      \\n    \\n    :E\\\\to \\\\mathbb \\n  \\n, \\n  \\n    \\n      \\n        \\n          g\\n          \\n            1\\n          \\n        \\n        :\\n        E\\n         \\n        \\n          R\\n        \\n      \\n    \\n    :E\\\\to \\\\mathbb \\n  \\n, \\n  \\n    \\n      \\n        \\n          f\\n          \\n            2\\n          \\n        \\n        :\\n        E\\n         \\n        \\n          R\\n        \\n      \\n    \\n    :E\\\\to \\\\mathbb \\n  \\n, \\n  \\n    \\n      \\n        \\n          g\\n          \\n            2\\n          \\n        \\n        :\\n        E\\n         \\n        \\n          R\\n        \\n      \\n    \\n    :E\\\\to \\\\mathbb \\n  \\n funciones y \\n  \\n    \\n      \\n        k\\n      \\n    \\n    \\n  \\n un real. Entonces los siguientes enunciados son ciertos:\\nLos órdenes más utilizados en análisis de algoritmos, en orden creciente, son los siguientes :\\n\")\n"
     ]
    },
    {
     "name": "stdout",
     "output_type": "stream",
     "text": [
      "Error: detector_ls(\"Арташэсіды таксама Арташэсяны  — царская дынастыя ў Вялікай Арменіі, якая заснаваная Арташэсам I і кіравала з 190 года да н.э. па 12/14 год н.э.. Малодшая галіна дынастыі, заснаваная ўнукам Арташэса I, Аршакам, правіла суседняй Іберыяй з 90 па 30 гады да н.э.\\nСталіцы — Ервандашат, Арташат , Тыгранакерт .\\nНасілі тытулы «цар»  і «цар цароў» .\\nЗаснавальнік дынастыі Арташэс I быў сатрапам селеўкідскага цара Антыёха III Вялікага. Пасля паразы Антыёха III рымлянам у бітве пры Магнезіі ў 190 годзе да н.э. Арташэс I, са згоды Рыма, абвясціў сябе царом Вялікай Арменіі 1 .\\nБацькам Арташэса быў Зарыядр, магчыма, нашчадак сафенскіх цароў 2 .\\nДынастыя Арташэсідаў нярэдка ідэнтыфікуецца як адгалінаванне папярэдняй царскай дынастыі Арменіі — Ервандыдаў 3  4  5 , аднак, згодна некаторым даследчыкаў, сувязь Арташэса I з ранейшай дынастыяй не ясная ці не да канца даказана 6  7 .\\nВядома што сам Арташэс I прэтэндаваў на сваяцтва з гэтай дынастыяй 2  6  8 . У сваіх надпісах на арамейскай мове Арташэс заве сябе MLK RWNDKN  то бок «Ервандыдскі цар». Хоць Арташэс і зрынуў цара Ерванда IV, ён абгрунтоўваў легітымнасць сваёй улады меркаванай прыналежнасцю да зрынутай дынастыі. Падобная яго пазіцыя дапасуецца адразу з абодвума, армянскімі і іранскімі, уяўленнямі пра тое, што вызначаны статус можа быць толькі ўспадкаваны па крыві, але ніяк не набыты 9 . Паводле думкі Ніны Гарсаян, гэтыя надпісы з'яўляюцца найболей яркімі сведчаннямі для аб'яднання Арташэсідаў з іх папярэднікамі Ервандыдамі, а таксама дакументальным пацверджаннем таго, што сам Арташэс заяўляў пра сваю прыналежнасць да апошніх 10 . Паводле думкі Кірыла Туманава прыпісванне сябе ў сваіх надпісах да Ервандыдаў несумнеўна выходзіла з жадання Арташэса I узаконіць сваё становішча на троне, тым не менш яно можа быць апраўдана магчымым паходжаннем ад жаночай лініі зрынутай дынастыі 11 . Як адзначае Кірыл Туманаў, Арташэс I быў мяркуючы па ўсім мясцовым дваранінам, грэчаская форма напісання яго імя  адбываецца ад спрадвечна армянскай формы гэтага імя — Artases, тым часам як іранская форма Artaxšaθra перадаецца на грэчаскай як Artaxerxes . Апроч таго адным з пашыраных дынастычных імёнаў у Арташэсідаў было Тыгран, гэта імя выкарыстоўвалася таксама ў старажытнейшай протаармянскай царскай дынастыі VI стагоддзі да н.э., згадванай у Ксенафонта і ў армянскай гістарычнай традыцыі. На думку Туманава, незалежна ад таго, ці паходзілі Арташэсіды ад протаармянскай дынастыі «Тыгранідаў» ці няма, але некаторыя генеалагічныя сувязі, рэальныя ці ўдаваныя, паміж імі безумоўна былі. Гісторык армянзнавец Мікалай Адонц лічыць несумнеўным паходжанне Арташэсідаў ад «Тыгранідаў» 12 .\\nПаводле думкі Дж. Расела па рэлігійных перакананнях Арташэсіды з'яўляліся паслядоўнікамі зораастрызму 13 .\\nArtaxias, also spelled Artashes , one of the founders of the ancient kingdom of Armenia . After the defeat of the Seleucid king Antiochus III the Great by the Romans in the Battle of Magnesia , Artaxias and Zariadres, who were Antiochus’ satraps  in Armenia, revolted and established themselves with Roman consent as kings of Greater Armenia and its district of Sophene to the southwest, respectively.\\nTherefore, suggestions of a dynasty of Artaxiads , which would not have had a connection with the Orontids, should be abandoned. The Artaxiads rather appear to be one of three securely attested Orontid lines.\\nThus, the evidence of the Sevan and Zangezur inscriptions, as well as that of classical and Armenian sources, support an Eruandid connection for both Artashes and Zareh and consequently  the absence of a clear dynastic break in Armenia at the beginning of the second century B.C. We cannot yet trace the interrelations of the various subdivisions of the Eruandids, and both Artashes and Zareh probably  belonged to collateral lines since neither saw fit to establish himself in the Eruandid capital, but branches of the earlier house apparently survived in Sophene and in neighboring Kommagene, as well as in Greater Armenia.\\nTigran  II was the most distinguished member of the so-called Artašēsid/Artaxiad dynasty, which has now been identified as a branch of the earlier Eruandid dynasty of Iranian origin attested as ruling in Armenia from at least the 5th century B.C.E.\\nArtaxias calls himself MLK RWNDKN  “Orontid king”; the ending -akān, attested in classical sources for Old Persian, is widely employed in the Parthian ostraca from Nisa and in later Armenian texts. Although Artaxias had overthrown Orontes, he based his claim to legitimacy on his presumed Orontid lineage; this attitude accords at once with both Iranian and Armenian conceptions: certain status was inherited by blood, but could not be acquired.\\nFinally, the most telling evidence for the association of the Artashesids with their Eruandid predecessors was provided by inscriptions on boundary stones discovered near Lake Sevan and particularly the one more recently come to light near Tatew in the northeastern Armenian distric of Zangezur. These inscription written in the official Aramaic script of the Persian chancellery  speak of \\\"Artashes, the son of Zareh\\\" and \\\"Artashes, Eruandid King, the good  son of Zareh. ..\\\". . As such, they provide documentary evidence that Artashes/Artaxias himself had officially claimed to be an Eruandid and give greater credibility to a questionable later Armeno-Georgian tradition that Artashes was the brother of King Eruand.\\nStill another stele with an Aramaic inscription of Artaxias I has been discovered there in 1957. Here, too, the King is called 'son of Zareh' and, moreover, applies to himself the dynastic patronymic of Orontid . This attribution, due doubtless to the King's desire to legitimize his position, may, however, have been warranted by a female descent from the dispossessed dynasty.\\nArtaxias, who overthrew the Orontids, was, to all appearances, a local dynast. The Greek form of his name renders, it has already been noted, Artašēs which is the purely Armenian form of the name, of which the Iranian form, Artaxšaθra, is usually Graecized as Artaxerxes. ... The dynasty he founded, moreover, showed a marked preference for the name of Tigranes, four out of the eight Artaxiad kings bearing it. This was the name, it will be recalled, used by the proto-Armenian kings remembered by both Xenophon and the Armenian historical tradition. Whether Artaxias was descended from the proto-Armenian Tigranids, as Professor Adontz held to be indubitable, or not, some genealogical connexion between them, real or pretended, seems definitely indicated. Now, the establishment of satrapal control in Armenia, of which the Orontids were the beneficiaries, must have reduced the rights of what local dynasts there were. Thus the struggle of Artaxias and Orontes IV assumes the double character of a national revolt against an Iranian dynasty combined with the dynastic hostility of the Tigranids, or their relatives, for the satrapal Orontids.\\n\")\n"
     ]
    },
    {
     "name": "stdout",
     "output_type": "stream",
     "text": [
      "Error: detector_ls(\"У 2018 годзе футбольны клуб «Клецк» з Клецк прымаў удзел у двух афіцыйных турнірах на рэспубліканскім узроўні:\\nСтанам на кастрычнік 2018 года 1 .\\n.mw-parser-output .nogrid,.mw-parser-output .nogrid td,.mw-parser-output .nogrid tr,.mw-parser-output .nogrid th\\n\")\n",
      "Error: detector_ls(\"Неафіцыйны чэмпіянат Еўропы па барацьбе 1913 года прайшоў у горадзе Будапешт . Удзельнікі спаборнічалі толькі ў грэка-рымскай барацьбе.\\n 1921 •\\n 1924 •\\n 1925 •\\n 1926 •\\n 1927 •\\n 1929 •\\n 1930 •\\n 1931 •\\n 1933 •\\n 1934 •\\n 1935 •\\n 1937 •\\n 1938 •\\n 1939 •\\n 1946 •\\n 1947 •\\n 1949 •\\n 1966 •\\n 1967 •\\n 1968 •\\n 1969 •\\n 1970 •\\n 1972 •\\n 1973 •\\n 1974 •\\n 1975 •\\n 1976 •\\n 1977 •\\n 1978 •\\n 1979 •\\n 1980 •\\n 1981 •\\n 1982 •\\n 1983 •\\n 1985 •\\n 1986 •\\n 1987 •\\n 1989 •\\n 1990 •\\n 1991 •\\n 1993 •\\n 1994 •\\n 1995 •\\n 1997 •\\n 1998 •\\n 1999 •\\n 2000 •\\n 2001 •\\n 2002 •\\n 2003 •\\n 2004 •\\n 2005 •\\n 2006 •\\n 2007 •\\n 2008 •\\n 2009 •\\n 2010 •\\n 2011 •\\n 2012 •\\n 2013 •\\n 2014 •\\n 2015 \\n 1902 •\\n 1903 •\\n 1904 •\\n 1905 •\\n 1906 •\\n 1907 •\\n 1909 •\\n 1910 •\\n 1912 •\\n 1913 •\\n 1914\\n\")\n"
     ]
    },
    {
     "name": "stdout",
     "output_type": "stream",
     "text": [
      "Error: detector_ls(\" आजिवली हे भारतातील महाराष्ट्र राज्यातील मध्य कोकणातील रायगड जिल्ह्यातील खालापूर तालुक्यातील एक गाव आहे.\\nपावसाळ्यात येथे भरपूर प्रमाणात पाऊस पडतो आणि हवामान समशीतोष्ण राहते. हिवाळ्यात येथील हवामान थंड असते व सकाळी धुके पडते.उन्हाळ्यात हवामान उष्ण असते.\\n१.https://villageinfo.in/\\n२.https://www.census2011.co.in/\\n३.http://tourism.gov.in/\\n४.https://www.incredibleindia.org/\\n५.https://www.india.gov.in/topics/travel-tourism\\n६.https://www.mapsofindia.com/\\n\")\n",
      "Error: detector_ls(\" करंजाडी हे भारतातील महाराष्ट्र राज्यातील मध्य कोकणातील रायगड जिल्ह्यातील महाड तालुक्यातील एक गाव आहे.\\nपावसाळ्यात येथे भरपूर प्रमाणात पाऊस पडतो आणि हवामान समशीतोष्ण राहते. हिवाळ्यात येथील हवामान थंड असते व सकाळी धुके पडते. उन्हाळ्यात हवामान उष्ण असते.\\n१.https://villageinfo.in/\\n२.https://www.census2011.co.in/\\n३.http://tourism.gov.in/\\n४.https://www.incredibleindia.org/\\n५.https://www.india.gov.in/topics/travel-tourism\\n६.https://www.mapsofindia.com/\\n\")\n"
     ]
    },
    {
     "name": "stdout",
     "output_type": "stream",
     "text": [
      "Error: detector_ls(\"सापेक्षतेच्या सिद्धान्तात चौवेग हा त्रिमितीतल्या वेगाचे चौमितीतील व्यापक स्वरूप आहे.\\nत्याची व्याख्या पुढीलप्रमाणे:\\nयेथे, \\n  \\n    \\n      \\n        \\n          x\\n        \\n      \\n    \\n     }\\n  \\n हे कणाने विस्थापित केलेले चौअंतर आणि \\n  \\n    \\n      \\n         \\n        \\n      \\n    \\n    \\n  \\n हा उचित काल.\\n\")\n"
     ]
    },
    {
     "name": "stdout",
     "output_type": "stream",
     "text": [
      "Error: detector_ls(\"], इ.स. \\nदुवा:  \\n\")\n"
     ]
    },
    {
     "name": "stdout",
     "output_type": "stream",
     "text": [
      "Error: detector_ls(\"Trong khoa học máy tính và lý thuyết đồ thị, thuật toán Karger là một thuật toán Monte Carlo để tìm lát cắt nhỏ nhất của một đồ thị vô hướng. Bài toán lát cắt nhỏ nhất yêu cầu tìm cách chia đồ thị làm hai phần sao cho số cạnh nối các đỉnh ở hai phần khác nhau là nhỏ nhất. Thuật toán được tìm ra bởi David Karger.\\nÝ tưởng chính của thuật toán là sử dụng phép hợp nhất hai đầu của một cạnh \\n  \\n    \\n      \\n        e\\n      \\n    \\n    \\n  \\n trong đồ thị \\n  \\n    \\n      \\n        G\\n        =\\n        \\n      \\n    \\n    \\n  \\n. Sau mỗi lần hợp nhất, số đỉnh của đồ thị giảm đi 1. Thuật toán sử dụng một chuỗi các phép hợp nhất các cạnh ngẫu nhiên của đồ thị. Xác suất chọn mỗi cạnh tỉ lệ với trọng số của nó. Thuật toán này là một thuật toán đệ quy. Trong mỗi tầng đệ quy, thuật toán hoạt động như sau. Thử hai lần độc lập nhau việc lặp đi lặp lại phép hợp nhất để giảm số đỉnh của \\n  \\n    \\n      \\n        G\\n      \\n    \\n    \\n  \\n xuống \\n  \\n    \\n      \\n        \\n           \\n          \\n            n\\n            \\n              /\\n            \\n            \\n              \\n                2\\n              \\n            \\n            +\\n            1\\n          \\n           \\n        \\n      \\n    \\n    }+1\\\\right\\\\rceil }\\n  \\n và gọi đệ quy để tính lát cắt nhỏ nhất trong đồ thị thu được. Sau đó, chọn kết quả tốt hơn trong hai lần gọi đệ quy và trả về giá trị đó.\\nTrong mỗi lần thực hiện, phép toán này hợp nhất hai đỉnh x và y của một cung e thành một đỉnh mới \\n  \\n    \\n      \\n        \\n          v\\n          \\n            e\\n          \\n        \\n      \\n    \\n    }\\n  \\n kề với tất cả các đỉnh kề của x và y. Định nghĩa cụ thể là như sau.\\nCho một đồ thị \\n  \\n    \\n      \\n        G\\n        =\\n        \\n          \\n        \\n      \\n    \\n    {\\\\displaystyle G=\\\\left}\\n  \\n và \\n  \\n    \\n      \\n        e\\n        =\\n        {\\n        x\\n        ,\\n        y\\n        }\\n         \\n        E\\n      \\n    \\n    {\\\\displaystyle e=\\\\lbrace x,y\\\\rbrace \\\\in E}\\n  \\n, kết quả phép hợp nhất hai đỉnh kề với cạnh \\n  \\n    \\n      \\n        e\\n      \\n    \\n    {\\\\displaystyle e}\\n  \\n \\n        \\n      \\n    \\n    {\\\\displaystyle G/e=\\\\left là một đa đồ thị định nghĩa như sau:\\nvà:\\nCó thể chứng minh phép toán này không làm giảm nhưng có thể làm tăng giá trị lát cắt nhỏ nhất.\\nThuật toán Karger là thuật toán ngẫu nhiên nhanh nhất hiện nay cho việc tìm lát cắt nhỏ nhất, với thời gian chạy O. Để chứng minh điều này, tác giả chỉ ra cách thực hiện chuỗi các phép hợp nhất để giảm kích thước \\n  \\n    \\n      \\n        G\\n      \\n    \\n    \\n  \\n xuống \\n  \\n    \\n      \\n        \\n           \\n          \\n            n\\n            \\n              /\\n            \\n            \\n              \\n                2\\n              \\n            \\n            +\\n            1\\n          \\n           \\n        \\n      \\n    \\n    }+1\\\\right\\\\rceil }\\n  \\n đỉnh trong thời gian \\n  \\n    \\n      \\n        O\\n        \\n      \\n    \\n    \\n  \\n. Do đó thời gian chạy của thuật toán là \\n  \\n    \\n      \\n        T\\n        \\n        =\\n        2\\n        \\n          \\n            \\n          \\n          )\\n        \\n      \\n    \\n    \\n  \\n. Phương trình này cho kết quả \\n  \\n    \\n      \\n        T\\n        \\n        =\\n        O\\n        (\\n        \\n          n\\n          \\n            2\\n          \\n        \\n        l\\n        o\\n        g\\n        \\n        )\\n      \\n    \\n    log)}\\n  \\n. Sau mỗi lần thực hiện thuật toán, xác suất tìm ra lát cắt nhỏ nhất là \\n  \\n    \\n      \\n         \\n        (\\n        1\\n        \\n          /\\n        \\n        l\\n        o\\n        g\\n        \\n        )\\n      \\n    \\n    \\n  \\n. Nếu thực hiện thuật toán \\n  \\n    \\n      \\n        O\\n        (\\n        l\\n        o\\n        \\n          g\\n          \\n            2\\n          \\n        \\n        \\n        )\\n      \\n    \\n    )}\\n  \\n lần thì xác suất không tìm ra lát cắt nhỏ nhất giảm xuống O.\\n\")\n",
      "Error: detector_ls(\"Wankidi là một mandal thuộc Asifabad, bang Telangana, Ấn Độ. 1 \\nWankidi có tọa độ 19°28′54″B 79°18′59″Đ  /  19,481768°B 79,3165056°Đ  / 19.481768; 79.3165056.\\n\")\n"
     ]
    },
    {
     "name": "stdout",
     "output_type": "stream",
     "text": [
      "Error: detector_ls(\" \\nLe decennio de mille novem centos sexanta\\n1960\\n1961\\n1962\\n1963\\n1964\\n1965\\n1966\\n1967\\n1968\\n1969\\n\")\n"
     ]
    },
    {
     "name": "stdout",
     "output_type": "stream",
     "text": [
      "Error: detector_ls(\"\\t\\t\\t\\nUTC-01:00\\n\")\n",
      "Error: detector_ls(\"\\t\\t\\t\\nUTC-06:00\\n\")\n"
     ]
    },
    {
     "name": "stdout",
     "output_type": "stream",
     "text": [
      "Error: detector_ls(\"}निर्देशांक: 27°53′N 78°04′E  /  27.89°N 78.06°E  / 27.89; 78.06\\nचौगानपुर कोइल, अलीगढ़, उत्तर प्रदेश स्थित एक गाँव है।\\n\")\n"
     ]
    },
    {
     "name": "stdout",
     "output_type": "stream",
     "text": [
      "Error: detector_ls(\"निर्देशांक: 27°53′N 78°04′E  /  27.89°N 78.06°E  / 27.89; 78.06\\nभीलावाली कोइल, अलीगढ़, उत्तर प्रदेश स्थित एक गाँव है।\\n\")\n",
      "Error: detector_ls(\"यह भारत गणराज्य और उसके पूर्ववर्ती राज्यों को शामिल करने वाले युद्धों की सूची है।\\nयह उन युद्धों और संघर्षों की सूची है जो ऐतिहासिक भारतीय उपमहाद्वीप में लड़े गए थे।\\nTibetan victory in another attack in 1684 with the assistance of reinforcements from the Zungar Empire\\n Austria\\n Russia \\n Spanish Empire \\n Sweden \\nसाँचा:देश आँकड़े Electorate of Saxony\\n  मुग़ल साम्राज्य \\n ग्रेट ब्रिटेन\\n Hanover\\n Brunswick-Wolfenbüttel\\n Iroquois Confederacy\\n Portugal \\n Hesse-Kassel\\n Schaumburg-Lippe\\nसंघर्ष विराम\\nपर्वत    हिमनद    ज्वालामुखी    घाटियां    नदियां    झीलें   मरुस्थल    द्वीप   जलप्रपात   सागरतटमैदान\\n\")\n",
      "Error: detector_ls(\"रैदास\\nLast edited 7 days ago by an anonymous user\\nसामग्री CC BY-SA 3.0 के अधीन है जब तक अलग से उल्लेख ना किया गया हो।\\n\")\n",
      "Error: detector_ls(\"निर्देशांक: 24°49′N 85°00′E  /  24.81°N 85°E  / 24.81; 85\\nरामपुर इमामगंज, गया, बिहार स्थित एक गाँव है।\\n\")\n"
     ]
    },
    {
     "name": "stdout",
     "output_type": "stream",
     "text": [
      "Error: detector_ls(\"निर्देशांक: 25°27′N 81°51′E  /  25.45°N 81.85°E  / 25.45; 81.85\\nसराय ऐरजानी फूलपुर, इलाहाबाद, उत्तर प्रदेश स्थित एक गाँव है।\\n\")\n"
     ]
    },
    {
     "name": "stdout",
     "output_type": "stream",
     "text": [
      "Error: detector_ls(\"خاک زیرسطحی لایه\\u200cای از خاک زیر خاک سطحی روی سطح زمین است و مانند خاک سطحی از مخلوط متغیری از ذرات کوچک مانند شن و ماسه، گل و لای و/یا خاک رس تشکیل شده، اما فاقد مواد آلی و گیاخاک خاک سطحی است. در زیر آن خاک زیر لایه است، که می\\u200cتواند باقی مانده سنگ بستر، رسوبات یا سنگ فرسایش بادی باشد. از آنجا که خاک زیرسطحی فاقد گیاخاک تیره است، معمولاً کمرنگ\\u200cتر از خاک سطحی ست. ممکن است ریشه\\u200cهای عمیق\\u200cتر برخی گیاهان، مانند درختان در آن وجود داشته باشد اما ریشه اکثر گیاهان در خاک سطحی سطح قرار دارند.\\n.mw-parser-output cite.citation.mw-parser-output .citation q.mw-parser-output .citation:target.mw-parser-output .id-lock-free a,.mw-parser-output .citation .cs1-lock-free a.mw-parser-output .id-lock-limited a,.mw-parser-output .id-lock-registration a,.mw-parser-output .citation .cs1-lock-limited a,.mw-parser-output .citation .cs1-lock-registration a.mw-parser-output .id-lock-subscription a,.mw-parser-output .citation .cs1-lock-subscription a.mw-parser-output .cs1-ws-icon a.mw-parser-output .cs1-code.mw-parser-output .cs1-hidden-error.mw-parser-output .cs1-visible-error.mw-parser-output .cs1-maint.mw-parser-output .cs1-format.mw-parser-output .cs1-kern-left.mw-parser-output .cs1-kern-right.mw-parser-output .citation .mw-selflinkHåkansson, Inge; Reeder, Randall C. . \\\"Subsoil compaction by vehicles with high axle load—extent, persistence and crop response\\\". Volume 29, Issues 2–3. Soil and Tillage Research. pp. 277–304. Retrieved October 11, 2012.\\nAdams, Fred; . Moore, B. L . \\\"Chemical Factors Affecting Root Growth in Subsoil Horizons of Coastal Plain Soils\\\". Vol. 47 No. 1. Soil Science Society of America Journal. pp. 99–102. Archived from the original on 10 June 2015. Retrieved October 11, 2012.\\nمشارکت\\u200cکنندگان ویکی\\u200cپدیا. «Subsoil». در دانشنامهٔ ویکی\\u200cپدیای انگلیسی، بازبینی\\u200cشده در ۶ نوامبر ۲۰۱۶.\\nاین یک مقالهٔ خرد  است. می\\u200cتوانید با گسترش آن به ویکی\\u200cپدیا کمک کنید.\")\n",
      "Error: detector_ls(\"رادرفوردیم  یک عنصر شیمیایی مصنوعی با نماد Rf و عدد اتمی ۱۰۴ است که به افتخار فیزیکدان نامی و برندهٔ جایزهٔ نوبل شیمی، ارنست رادرفورد نام\\u200cگذاری شده\\u200cاست. این عنصر، مصنوعی است و در طبیعت یافت نمی\\u200cشود و تنها می\\u200cتوان آن را در آزمایشگاه ساخت. رادرفوردیم پرتوزا است و پایدارترین ایزوتوپ شناخته\\u200cشدهٔ آن، ۲۶۷Rf است که نیمه\\u200cعمری نزدیک به ۱ ساعت و ۱۸ دقیقه دارد.\\nدر جدول تناوبی عناصر، رادرفوردیم در چهارمین و آخرین دورهٔ بلوک d قرار دارد و در این بلوک، دومین عنصر است؛ همچنین این عنصر در گروه ۴ و دورهٔ ۷ جای می\\u200cگیرد. آزمایش\\u200cها نشان داده که رادرفوردیم ویژگی\\u200cهای الکتروشیمیایی مشترکی با هافنیم که عنصری سبک\\u200cتر در گروه ۴ است، دارد. تا کنون تنها بخشی از ویژگی\\u200cهای شیمیایی رادرفوردیم روشن شده\\u200cاست. این ویژگی\\u200cها با شیمی دیگر عناصر گروه ۴ قابل مقایسه\\u200cاند هرچند که برخی محاسبات نشان می\\u200cدهد که رادرفوردیم به دلیل اثرات نسبیتی می\\u200cتواند ویژگی\\u200cهای بسیار متفاوتی از خود نشان دهد.\\nدر دههٔ ۱۹۶۰، مقدار کمی رادرفوردیم در مؤسسه مشترک تحقیقات هسته\\u200cای اتحاد جماهیر شوروی و مقداری هم در آزمایشگاه ملی لارنس برکلی کالیفرنیا تولید شد. اولویت کشف و درنتیجه نام\\u200cگذاری این عنصر، میان دانشمندان شوروی و آمریکایی مورد اختلاف قرار گرفت تا این که در سال ۱۹۹۷، اتحادیهٔ بین\\u200cالمللی شیمی محض و کاربردی ، رادرفوردیم را به عنوان نام رسمی این عنصر تأیید کرد.\\nرادرفوردیم — که به افتخار ارنست رادرفورد به این نام نامیده شد — برای اولین بار در سال ۱۹۶۴ به\\u200cصورت مصنوعی در مؤسسه تحقیقات هسته\\u200cای دوبنا شوروی سابق ساخته شد. محققان در این شیوه، اتم پلوتونیم الف  را با یون\\u200cهای نئون بمباران کردند سپس آن را در معرض کلرید همچون زیرکونیم تترا کلرید ب  قرار دادند در نهایت آنها با ماده\\u200cای با خواص اکا-هافنیم روبرو شدند. اگرچه آنها نیمه\\u200cعمر را به\\u200cدقت اندازه\\u200cگیری نکردند، ولی ادعا کردند که در این شکافت هسته\\u200cای با استفاده از پرتو ایکس مشاهداتی انجام شده که اثری از یک واپاشی آلفای متعلق به ۲۵۷Rf در آن رصد شده\\u200cاست؛ و این اشاره به ظهور یک عنصر جدید دارد: ۱۸ \\n  \\n    \\n      \\n        \\n          \\n            \\n            \\n              94\\n            \\n            \\n              242\\n            \\n          \\n          \\n            P\\n            u\\n          \\n          \\n            +\\n            \\n              10\\n            \\n            \\n              22\\n            \\n          \\n          N\\n          e\\n          \\n             \\n            \\n              104\\n            \\n            \\n              257\\n            \\n          \\n          R\\n          \\n            f\\n            \\n               \\n            \\n          \\n        \\n        \\n          \\n            \\n              \\n                 \\n                \\n                  \\n                    \\n                    \\n                      104\\n                    \\n                    \\n                      253\\n                    \\n                  \\n                  R\\n                  f\\n                  +\\n                  \\n                    4\\n                    \\n                      0\\n                    \\n                    \\n                      1\\n                    \\n                  \\n                  n\\n                \\n              \\n            \\n            \\n              \\n                 \\n                \\n                  \\n                    \\n                    \\n                      104\\n                    \\n                    \\n                      252\\n                    \\n                  \\n                  R\\n                  f\\n                  +\\n                  \\n                    5\\n                    \\n                      0\\n                    \\n                    \\n                      1\\n                    \\n                  \\n                  n\\n                \\n              \\n            \\n          \\n        \\n      \\n    \\n    _^Rf^\\\\nearrow \\\\mathrm ^Rf+5_}}\\n  \\nدر سال ۱۹۶۹، پژوهشگران دانشگاه کالیفرنیا در برکلی این عنصر را با ترکیب کالیفرنیم پ  و کربن و از طریق برخورد با یک منبع انرژی قوی تولید کردند. این گروه همچنین اعلام کردند که نتوانسته\\u200cاند ترکیب قبلی را که توسط دانشمندان روسی به\\u200cوجود آمده بود، مجدداً بسازند. ۱۹ \\n  \\n    \\n      \\n        \\n          \\n            \\n            \\n              98\\n            \\n            \\n              249\\n            \\n          \\n          \\n            C\\n            f\\n          \\n          \\n            +\\n            \\n              6\\n            \\n            \\n              12\\n            \\n          \\n          C\\n          \\n             \\n            \\n              104\\n            \\n            \\n              258\\n            \\n          \\n          R\\n          \\n            f\\n            \\n               \\n            \\n          \\n          +\\n          \\n            4\\n            \\n              0\\n            \\n            \\n              1\\n            \\n          \\n          n\\n        \\n      \\n    \\n    _^Rf^n} }\\n  \\nدانشمندان مؤسسه مشترک تحقیقات هسته\\u200cای در نخستین مطالعهٔ خود، دو شکافت خود به خود را با نیمه\\u200cعمر ۰٫۳ ثانیه و ۸ ثانیه مشاهده کردند. مادهٔ نخست ناشناخته ماند ولی مادهٔ دوم بعدها به\\u200cعنوان ۲۵۹Rf شناسایی شد. آن\\u200cها در سال ۱۹۶۶ آزمایش را به\\u200cوسیلهٔ ترکیبات آلی فرار تکرار کردند که موجب دستیابی به چنین نتایجی شد. آن\\u200cها یک کلرید فرّار را شناسایی کردند که مانند هافنیم ت  رفتار می\\u200cکرد و در اکثر مواقع به\\u200cسرعت به روش شکافت خود به خود تجزیه می\\u200cشد. این مدرکی قوی بر این موضوع است که رادرفوردیم تتراکلرید تولید شده بود؛ با اینکه مؤسسهٔ مشترک تحقیقات هسته\\u200cای اعلام کرد که محصول آزمایش ۲۵۹Rf بوده؛ و از آن جایی که نیمه\\u200cعمرِ آن به\\u200cدقت اندازه\\u200cگیری نشده بود و با RfCl۴ مطابقت نداشت، این فرضیه رد شد. این آزمایش بارها تکرار شد تا این که در سال ۱۹۷۱ نیمه\\u200cعمر آن ۴٫۵ ثانیه اندازه\\u200cگیری شد. ۲۰  در سال ۱۹۶۹ یک گروه در دانشگاه کالیفرنیا که توسط آلبرت گیورسو هدایت می\\u200cشد، تلاش کرد که نتایج مؤسسه مشترک تحقیقات هسته\\u200cای را تکرار کند و کوریم-۲۴۸ ث  و اکسیژن-۱۶ را ترکیب کند اما نتوانست نتیجهٔ را تکرار و نیمه\\u200cعمر آن را ثبت کند؛ البته آزمایش چندان هم بی\\u200cنتیجه نبود زیرا در این آزمایش ایزوتوپ ۲۶۰Rf تولید و نیمه\\u200cعمر آن ۱۰ تا ۳۰ میلی\\u200cثانیه اندازه\\u200cگیری شد. ۲۱  ۲۲ \\n  \\n    \\n      \\n        \\n          \\n            \\n            \\n              96\\n            \\n            \\n              248\\n            \\n          \\n          C\\n          m\\n          \\n            +\\n            \\n              8\\n            \\n            \\n              16\\n            \\n          \\n          O\\n          \\n             \\n            \\n              104\\n            \\n            \\n              266\\n            \\n          \\n          R\\n          \\n            f\\n            \\n               \\n            \\n          \\n          \\n             \\n            \\n              104\\n            \\n            \\n              261\\n            \\n          \\n          R\\n          f\\n          +\\n          \\n            5\\n            \\n              0\\n            \\n            \\n              1\\n            \\n          \\n          n\\n        \\n      \\n    \\n    _O\\\\rightarrow _\\\\rightarrow _^\\n  \\nدر سال ۱۹۷۷ دانشمندان روسی در مؤسسه مشترک تحقیقات هسته\\u200cای واقع در دوبنا، برکلیم-۲۴۹ ج  نیتروژن-۱۴ را ترکیب کردند، ولی در سال ۱۹۸۵ تأیید نمودند که محصول واکنش ۲۶۰Rf بوده و واپاشی آن از نوع شکافت خود به خود و نیمه\\u200cعمر آن ۲۸ میلی\\u200cثانیه است. ۲۳ \\n  \\n    \\n      \\n        \\n          \\n            \\n            \\n              97\\n            \\n            \\n              249\\n            \\n          \\n          \\n            B\\n            k\\n          \\n          \\n            +\\n            \\n              7\\n            \\n            \\n              14\\n            \\n          \\n          N\\n          \\n             \\n            \\n              104\\n            \\n            \\n              260\\n            \\n          \\n          R\\n          \\n            f\\n            \\n               \\n            \\n          \\n          +\\n          \\n            3\\n            \\n              0\\n            \\n            \\n              1\\n            \\n          \\n          n\\n        \\n      \\n    \\n    _^Rf^n} }\\n  \\nدر سال ۱۹۶۶ آزمایشی شبیه به این آزمایش، در آزمایشگاه ملی لارنس برکلی در کالیفرنیا انجام دادند و ایزوتوپ ۲۶۲ را مشاهده کردند. این گروه نیمه\\u200cعمر آن را ۲٫۱ ثانیه اندازه\\u200cگیری کرد که این رقم اختلاف چشم\\u200cگیری با رقم واقعی که ۴۷ میلی\\u200cثانیه است، دارد. ۲۴ \\n  \\n    \\n      \\n        \\n          \\n            \\n            \\n              94\\n            \\n            \\n              244\\n            \\n          \\n          P\\n          u\\n          \\n            +\\n            \\n              10\\n            \\n            \\n              22\\n            \\n          \\n          N\\n          e\\n          \\n             \\n            \\n              104\\n            \\n            \\n              266\\n            \\n          \\n          R\\n          \\n            f\\n            \\n               \\n            \\n          \\n        \\n         \\n        \\n          \\n            {\\n            \\n              \\n                \\n                  \\n                    \\n                      \\n                      \\n                        104\\n                      \\n                      \\n                        261\\n                      \\n                    \\n                    R\\n                    f\\n                    +\\n                    \\n                      5\\n                      \\n                        0\\n                      \\n                      \\n                        1\\n                      \\n                    \\n                    n\\n                  \\n                \\n              \\n              \\n                \\n                  \\n                    \\n                      \\n                      \\n                        104\\n                      \\n                      \\n                        262\\n                      \\n                    \\n                    R\\n                    f\\n                    +\\n                    \\n                      4\\n                      \\n                        0\\n                      \\n                      \\n                        1\\n                      \\n                    \\n                    n\\n                  \\n                \\n              \\n            \\n            \\n          \\n        \\n      \\n    \\n    {\\\\displaystyle \\\\mathrm {^{244}_{94}Pu+_{10}^{22}Ne\\\\rightarrow _{104}^{266}Rf^{*}} \\\\rightarrow {\\\\begin{cases}\\\\mathrm {^{261}_{104}Rf+5_{0}^{1}n} \\\\\\\\\\\\mathrm {^{262}_{104}Rf+4_{0}^{1}n} \\\\end{cases}}}\\n  \\nگروه مؤسسه مشترک تحقیقات هسته\\u200cای در سال ۲۰۰۰ اعلام کردند که از یک واکنش همجوشی هسته\\u200cای برای ساخت رادرفوردیم استفاده کردند. آن\\u200cها ۲۵۶No چ  را مشاهده کردند که محصول واپاشی ۲۶۰Rf بوده\\u200cاست؛ و یک اتم ۲۵۹Rf را — که خود تجزیه شد — نیز رصد کردند. از این رو آزمایش را بارها تکرار کردند ولی نتایج متفاوتی به\\u200cدست آمد. این امر باعث مداخلهٔ آزمایشگاه ملی لارنس برکلی برای تکرار آزمایش نیز شد تا محصول این آزمایش مشخص شود. در نهایت ۴ ایزوتوپ متفاوت ۲۶۱Rf, ۲۶۰Rf،  ۲۵۹Rf, ۲۵۸Rf به\\u200cدست آمد. ۲۵  ۲۶ \\n  \\n    \\n      \\n        \\n          \\n            \\n            \\n              92\\n            \\n            \\n              238\\n            \\n          \\n          U\\n          \\n            +\\n            \\n              12\\n            \\n            \\n              26\\n            \\n          \\n          M\\n          g\\n          \\n             \\n            \\n              104\\n            \\n            \\n              264\\n            \\n          \\n          R\\n          \\n            f\\n            \\n               \\n            \\n          \\n        \\n         \\n        \\n          \\n            {\\n            \\n              \\n                \\n                  \\n                    \\n                      \\n                      \\n                        104\\n                      \\n                      \\n                        261\\n                      \\n                    \\n                    R\\n                    f\\n                    +\\n                    \\n                      3\\n                      \\n                        0\\n                      \\n                      \\n                        1\\n                      \\n                    \\n                    n\\n                  \\n                \\n              \\n              \\n                \\n                  \\n                    \\n                      \\n                      \\n                        104\\n                      \\n                      \\n                        260\\n                      \\n                    \\n                    R\\n                    f\\n                    +\\n                    \\n                      4\\n                      \\n                        0\\n                      \\n                      \\n                        1\\n                      \\n                    \\n                    n\\n                  \\n                \\n              \\n              \\n                \\n                  \\n                    \\n                      \\n                      \\n                        104\\n                      \\n                      \\n                        259\\n                      \\n                    \\n                    R\\n                    f\\n                    +\\n                    \\n                      5\\n                      \\n                        0\\n                      \\n                      \\n                        1\\n                      \\n                    \\n                    n\\n                  \\n                \\n              \\n              \\n                \\n                  \\n                    \\n                      \\n                      \\n                        104\\n                      \\n                      \\n                        258\\n                      \\n                    \\n                    R\\n                    f\\n                    +\\n                    \\n                      6\\n                      \\n                        0\\n                      \\n                      \\n                        1\\n                      \\n                    \\n                    n\\n                  \\n                \\n              \\n            \\n            \\n          \\n        \\n      \\n    \\n    {\\\\displaystyle \\\\mathrm {^{238}_{92}U+_{12}^{26}Mg\\\\rightarrow _{104}^{264}Rf^{*}} \\\\rightarrow {\\\\begin{cases}\\\\mathrm {^{261}_{104}Rf+3_{0}^{1}n} \\\\\\\\\\\\mathrm {^{260}_{104}Rf+4_{0}^{1}n} \\\\\\\\\\\\mathrm {^{259}_{104}Rf+5_{0}^{1}n} \\\\\\\\\\\\mathrm {^{258}_{104}Rf+6_{0}^{1}n} \\\\end{cases}}}\\n  \\nدر سال ۱۹۷۴ یک اتم رادرفوردیم در یک همجوشی سرد در دوبنا تولید شد. این اولین باری بود که یک اتم رادرفوردیم از این راه به\\u200cدست می\\u200cآمد. در این آزمایش از یک اتم سرب-۲۰۸ و تیتانیم-۵۰ ح  استفاده شد. دانشمندان روسی واپاشی خود به خود ۲۵۶Rf را مشاهده نمودند، ولی در مرکز تحقیقات یون سنگین هلمهولتز محصولات واپاشی ۲۵۵Rf و ۲۵۷Rf را شناسایی کردند. ۲۷ \\n  \\n    \\n      \\n        \\n          \\n            \\n              \\n                \\n                \\n                  82\\n                \\n                \\n                  208\\n                \\n              \\n              P\\n              b\\n              \\n                +\\n                \\n                  22\\n                \\n                \\n                  50\\n                \\n              \\n              T\\n              i\\n              \\n                 \\n                \\n                  104\\n                \\n                \\n                  258\\n                \\n              \\n              R\\n              \\n                f\\n                \\n                   \\n                \\n              \\n            \\n            \\n              \\n                \\n                  \\n                     \\n                    \\n                      \\n                        \\n                        \\n                          104\\n                        \\n                        \\n                          255\\n                        \\n                      \\n                      R\\n                      f\\n                      +\\n                      \\n                        3\\n                        \\n                          0\\n                        \\n                        \\n                          1\\n                        \\n                      \\n                      n\\n                    \\n                  \\n                \\n                \\n                  \\n                     \\n                    \\n                      \\n                        \\n                        \\n                          104\\n                        \\n                        \\n                          256\\n                        \\n                      \\n                      R\\n                      f\\n                      +\\n                      \\n                        2\\n                        \\n                          0\\n                        \\n                        \\n                          1\\n                        \\n                      \\n                      n\\n                    \\n                  \\n                \\n                \\n                  \\n                     \\n                    \\n                      \\n                        \\n                        \\n                          104\\n                        \\n                        \\n                          257\\n                        \\n                      \\n                      R\\n                      f\\n                      \\n                        +\\n                        \\n                          0\\n                        \\n                        \\n                          1\\n                        \\n                      \\n                      n\\n                    \\n                  \\n                \\n              \\n            \\n          \\n        \\n      \\n    \\n    _^\\\\nearrow \\\\mathrm n} \\\\\\\\\\\\rightarrow \\\\mathrm n} \\\\\\\\\\\\searrow \\\\mathrm n} \\\\end\\n  \\nبیشتر ایزوتوپ\\u200cهای رادرفوردیم با جرم اتمی زیر ۲۶۲ به\\u200cعنوان محصولات فروپاشی عناصر سنگین\\u200cتر نیز مشاهده شده\\u200cاند و این موجب اصلاح خواص پیش\\u200cبینی\\u200cشده در مورد ایزوتوپ\\u200cهای رادرفوردیم شد؛ ولی ایزوتوپ\\u200cهای سنگین\\u200cترِ رادرفوردیم برخلاف ایزوتوپ\\u200cهای سبک\\u200cتر تنها به\\u200cعنوان محصولات فروپاشی مشاهده شده\\u200cاند. برای مثال چند ذره آلفا در تولید ۲۶۷Rf در زنجیرهٔ فروپاشی دارمشتادیم-۲۷۹ در سال ۲۰۰۴ مشاهده شد: ۲۸ \\n  \\n    \\n      \\n        \\n          \\n            \\n            \\n              110\\n            \\n            \\n              279\\n            \\n          \\n          D\\n          s\\n          \\n             \\n            \\n              108\\n            \\n            \\n              275\\n            \\n          \\n          H\\n          s\\n          +\\n           \\n          \\n             \\n            \\n              106\\n            \\n            \\n              271\\n            \\n          \\n          S\\n          g\\n          +\\n           \\n          \\n             \\n            \\n              104\\n            \\n            \\n              267\\n            \\n          \\n          R\\n          \\n            f\\n            \\n               \\n            \\n          \\n          +\\n           \\n        \\n      \\n    \\n    _Hs+\\\\alpha \\\\rightarrow _^ }\\n  \\nرادرفوردیم-۲۶۷ تولیدشده در آزمایش، تحت شکافت خود به خود با نیمه\\u200cعمر حدود ۱٫۳ ساعت تجزیه شد. ۲۹  ۳۰  ۳۱ \\nتحقیقات در سنتز دوبنیم-۲۶۳ خ  در سال ۱۹۹۹ در دانشگاه برن نشان داد که ۲۶۸Db با گیراندازی الکترون به ۲۶۸Rf تجزیه می\\u200cشود. محققان دانشگاه برن رادرفوردیم را تقسیم کردند و چند شکافت خود به خود با نیمه\\u200cعمرهایی طولانی — که حدود ۱۵ دقیقه بودند — رصد شد؛ ولی در یک بخش، واپاشیِ آلفایی با نیمه\\u200cعمری حدود ۱۰ دقیقه مشاهده شد. ۳۲  گزارش\\u200cهای فروپاشی زنجیره\\u200cای فلروویم-۲۸۵ د  در سال ۲۰۱۰ نشان داد پنج واپاشی آلفای متوالی صورت گرفت و محققان دانشگاه برن در نهایت به این نتیجه رسیدند که ۲۶۸Rf به\\u200cدلیل ناپایداری، با واکنش شکافت خود به خود پس از ۱۸۲ ثانیه تجزیه شد. ۳۳ \\nبرخی از شواهد تجربیِ به\\u200cدست\\u200cآمده در سال ۲۰۰۴ نشان می\\u200cداد که برای تولید رادرفوردیم در یک زنجیرهٔ واپاشی استفاده از ایزوتوپ\\u200cهای عناصر سنگین\\u200cتر نیز ممکن است، مانند مسکوویم-۲۸۸ ذ  که ایزوتوپ ۲۶۸Rf در زنجیرهٔ فروپاشی آن مشاهده شد: ۳۴ \\n  \\n    \\n      \\n        \\n          \\n            \\n            \\n              115\\n            \\n            \\n              288\\n            \\n          \\n          M\\n          c\\n          \\n             \\n            \\n              113\\n            \\n            \\n              284\\n            \\n          \\n          N\\n          h\\n          +\\n           \\n          \\n             \\n            \\n              111\\n            \\n            \\n              280\\n            \\n          \\n          R\\n          g\\n          +\\n           \\n          \\n             \\n            \\n              109\\n            \\n            \\n              276\\n            \\n          \\n          M\\n          t\\n          +\\n           \\n        \\n         \\n        \\n          \\n            \\n            \\n              107\\n            \\n            \\n              272\\n            \\n          \\n          B\\n          h\\n        \\n        +\\n         \\n         \\n        \\n          \\n            \\n            \\n              105\\n            \\n            \\n              268\\n            \\n          \\n          D\\n          b\\n        \\n        +\\n         \\n         \\n        \\n          \\n            \\n              \\n              \\n                104\\n              \\n              \\n                268\\n              \\n            \\n            R\\n            f\\n          \\n          \\n             \\n          \\n        \\n        +\\n        \\n           \\n          \\n            e\\n          \\n        \\n      \\n    \\n    _Nh+\\\\alpha \\\\rightarrow _^___+\\\\nu _\\n  \\nاما آخرین گام در این زنجیره نامشخص است. پس از این پنج فروپاشی آلفا که دوبنیم-۲۶۸ را تولید کرد، شکافت\\u200cهایی مشاهده شد که نیمه\\u200cعمرهایی طولانی داشتند. مشخص نیست که آیا این شکافت\\u200cها به\\u200cعلت شکافت خود به خود ۲۶۸Db صورت می\\u200cگیرند یا اینکه ۲۶۸Db با گیراندازی الکترون رادرفوردیم-۲۶۸ با نیمه\\u200cعمری بالا تولید می\\u200cکند. ۳۵  از آن جایی که گیراندازی الکترون ۲۶۸Db تشخیص داده نمی\\u200cشود؛ می\\u200cتوان علت این شکافت\\u200cهای خود به خود را به این شکل توضیح داد: نیمه\\u200cعمر ۲۶۸Rf که به\\u200cدلیل نیمه\\u200cعمر بسیار کم آن نمی\\u200cتواند بررسی و استخراج شود. ۳۶  ۳۷  یک مکانیسم مشابه برای شکل\\u200cگیری ۲۷۰Rf و ایزوتوپ\\u200cهای سنگین\\u200cتر از آن به\\u200cعنوان محصول واپاشی عناصری مانند ۲۷۰Db  وجود دارد؛ ولی نیمه\\u200cعمر آنها بسیار کوتاه بوده و خود پس از مدتی، طیِ فرایند شکافت خود به خود تجزیه می\\u200cشود: ۳۸  ۳۹ \\n  \\n    \\n      \\n        \\n          \\n            \\n            \\n              117\\n            \\n            \\n              294\\n            \\n          \\n          T\\n          s\\n          \\n            +\\n            \\n              115\\n            \\n            \\n              290\\n            \\n          \\n          M\\n          c\\n          +\\n           \\n          \\n             \\n            \\n              113\\n            \\n            \\n              286\\n            \\n          \\n          N\\n          h\\n          +\\n           \\n          \\n             \\n            \\n              111\\n            \\n            \\n              282\\n            \\n          \\n          R\\n          g\\n          +\\n           \\n          \\n             \\n            \\n              109\\n            \\n            \\n              278\\n            \\n          \\n          M\\n          t\\n          +\\n           \\n        \\n         \\n        \\n          \\n            \\n            \\n              107\\n            \\n            \\n              274\\n            \\n          \\n          B\\n          h\\n        \\n        +\\n         \\n         \\n        \\n          \\n            \\n            \\n              105\\n            \\n            \\n              270\\n            \\n          \\n          D\\n          b\\n        \\n        +\\n         \\n         \\n        \\n          \\n            \\n              \\n              \\n                104\\n              \\n              \\n                270\\n              \\n            \\n            R\\n            f\\n          \\n          \\n             \\n          \\n        \\n        +\\n        \\n           \\n          \\n            e\\n          \\n        \\n      \\n    \\n    _Mc+\\\\alpha \\\\rightarrow _^Mt+\\\\alpha } \\\\rightarrow \\\\mathrm Bh} +\\\\alpha \\\\rightarrow \\\\mathrm Db} +\\\\alpha \\\\rightarrow \\\\mathrm Rf} ^}\\n  \\nبه\\u200cگفتهٔ گزارشی که در سال ۲۰۰۷ در مورد سنتز نیهونیم ر  منتشر شد، در آزمایش ایزوتوپ نیهونیم-۲۸۲ مشاهده شد این ایزوتوپ تحت یک فروپاشی مشابه به شکل فروپاشی ۲۶۶Db — که تحت شکافت خود به خودی با نیمه\\u200cعمر ۲۲ دقیقه تجزیه شد — به رونتگنیم تجزیه شد. با توجه به اینکه گیراندازی الکترون ۲۶۶Db تشخیص داده نمی\\u200cشود این شکافت\\u200cهای خود به خود ممکن است به دلیل ۲۶۶Rf باشد که به خاطر نیمه\\u200cعمر این ایزوتوپ نمی\\u200cتواند استخراج شود. ۴۰ \\nدر دههٔ ۱۹۶۰، مقدار کمی از رادرفوردیم در مؤسسه مشترک تحقیقات هسته\\u200cای در اتحاد جماهیر شوروی سابق و آزمایشگاه ملی لارنس برکلی در کالیفرنیا تولید شد. اولویت کشف و به همین ترتیب نام\\u200cگذاری این عنصر بین دانشمندان شوروی و آمریکا مورد اختلاف قرار گرفت. اتحاد جماهیر شوروی سابق نام کورچاتوفیم ز  را به افتخار فیزیکدان هسته\\u200cای ایگور کورچاتوف پیشنهاد داد،  ولی با مخالفت دانشمندان آمریکایی مواجه شدند زیرا آنان نام رادرفوردیم را انتخاب کرده بودند. سپس دانشمندان روسی نام دوبنیم را پیشنهاد کردند ولی همچنان با مخالفت دانشمندان آمریکایی مواجه شدند. در نهایت در سال ۱۹۹۷،  اتحادیهٔ بین\\u200cالمللی شیمی محض و کاربردی  نام رسمی این عنصر را انتخاب کرد. نام این عنصر از نام ارنست رادرفورد برندهٔ جایزهٔ نوبل سال ۱۹۰۸ گرفته شد؛ در نهایت عنصر بعدی به خود نام دوبنیم «۱۰۵Db» گرفت و تاکنون عنصری به نام کورچاتوفیم نامگذاری نشده\\u200cاست. ۴۱ \\nرادرفوردیم تنها عنصری نبود که نام\\u200cگذاری آن با اختلاف نظرهایی مواجه شد؛ به غیر از آن شش عنصر دیگر دچار چنین اختلافاتی شدند. این عناصر عبارتند از لارنسیم،  رادرفوردیم،  دوبنیم،  سیبورگیم ژ ،  بوهریم س ،  هاسیم ش  و در نهایت مایتنریم ص ؛ این اختلاف نظرها از عنصر مندلیفیم ض   آغاز شد؛ ولی دانشمندان روسی به\\u200cسرعت از موضع خود کناره\\u200cگیری و نام\\u200cگذاری آن را به دانشمندان آمریکایی محول کردند. چنین اتفاقی در مورد نوبلیم نیز رخ داد؛ ولی دانشمندان روسی در مورد لارنسیم ظ  پافشاری بیشتری کردند. سپس همین روال را در مورد عناصر بعدی یعنی عناصر رادرفوردیم تا مایتنریم هم پیش گرفتند. این اختلافات در سال ۲۰۰۴ به جنگ\\u200cهای پسافرمیمی معروف شد. ۴۲  ۴۳ \\nرادرفوردیم هیچ ایزوتوپ پایداری ندارد و ایزوتوپ\\u200cهایش از ۲۵۳Rf تا ۲۷۰Rf متغیر است و در کل ۱۶ ایزوتوپ پرتوزا دارد و ۴ ایزومر هسته\\u200cای آن شامل ۲۶۲mRf, ۲۶۱mRf،  ۲۵۷mRf،  ۲۵۳mRf است. حداکثر نیمه\\u200cعمر ۲۶۳Rf حدود ۱۱ دقیقه است و ایزومر ۲۶۱mRf با نیمه\\u200cعمری برابر ۸۱ ثانیه ناپایدارتر است. ۴۴ \\nنانو ثانیه\\nدر بین تمامی ایزوتوپ\\u200cها،  ایزوتوپ\\u200cهای سبک\\u200cتر نیمه\\u200cعمر\\u200cهای نسبتاً کوتاه\\u200cتری دارند، برای مثال ۲۵۳Rf و ۲۵۴Rf نیمه\\u200cعمری کمتر از ۵۰ میکروثانیه دارند. ۲۵۶Rf،  ۲۵۸Rf, ۲۶۰Rf پایدارتر و نیمه\\u200cعمری حدود ۱۰٬۰۰۰ میکروثانیه یا ۱۰ میلی ثانیه دارند. ۲۵۵Rf،  ۲۵۷Rf،  ۲۵۹Rf, ۲۶۲Rf به\\u200cنسبت عمرهای بیشتر و نیمه\\u200cعمر آنها از یک تا پنج ثانیه متغیر دارند. ۲۶۱Rf،  ۲۶۵Rf ,۲۶۳Rf در بهترین شرایط،  از دو تا سه دقیقه عمر دارند و این رقم گاهی به ۱۰ دقیقه هم می\\u200cرسد. طولانی\\u200cترین نیمه\\u200cعمر بین ایزوتوپ\\u200cهای رادرفوردیم متعلق است به یکی از سنگین\\u200cترین این ایزوتوپ\\u200cها؛ این ایزوتوپ ۲۶۷Rf است که نیمه\\u200cعمری حدود ۱٫۳ ساعت دارد. نیمه\\u200cعمر ۲۶۹Rf و ۲۷۱Rf ناشناخته است و از آن\\u200cها اطلاعاتی در دست نیست. ۶۸  ۶۹ \\nتنها ایزوتوپی از رادرفوردیم که از طریق همجوشی هسته\\u200cای تشکیل شده،  ۲۶۲Rf است. ایزوتوپ\\u200cهای سنگین\\u200cتری هم وجود دارند ولی به\\u200cسرعت تجزیه می\\u200cشوند. به\\u200cجز ۲۶۲Rf تنها موردی که تأیید شده ۲۶۷Rf است، ولی در مورد آن ابهاماتی وجود دارد. دو ایزوتوپ ۲۶۶Rf و ۲۶۸Rf به\\u200cعنوان محصول واپاشی دوبنیم  در حال گیراندازی الکترون دیده شده\\u200cاند که نیمه\\u200cعمر آن\\u200cها نسبت به شکافت خود به خود را اندکی بیشتر می\\u200cسازد. به\\u200cنظر می\\u200cرسد که ۲۷۰Rf محصول واپاشی دوبنیم ۲۷۰Db است. هرچند که ۲۶۴Rf دیده نشده ولی نیمه\\u200cعمر آن حدود ۵ ثانیه پیش\\u200cبینی شده\\u200cاست. ۷۰ \\nدر سال ۱۹۹۹ دانشمندان آمریکایی در آزمایشگاه ملی لارنس برکلی در کالیفرنیا اعلام کردند که موفق به دستیابی به ۳ اتم ۲۹۳Og ع  شده\\u200cاند ولی بعدها در سال ۲۰۰۱ مشخص شد که این ۳ اتم ۲۶۵Rf بوده، زیرا نیمه\\u200cعمر آن\\u200cها با ۲۹۳Og مطابقت نداشته\\u200cاست. ۷۱ \\nرادرفوردیم به علت ناپایداری و کمیاب بودن، ۷۲  ۷۳  کاربرد تجاری ندارد؛ ۷۴  هرچند که نسبت به دیگر عناصر سنگین بسیار پایدارتر است. در واقع در بین عناصر پسافرمیمی، تنها عنصری که از رادرفوردیم پایدارتر است دوبنیم می\\u200cباشد. از رادرفوردیم می\\u200cتوان به\\u200cدلیل پایداری ۲۶۷Rf در نیروگاه\\u200cهای هسته\\u200cای و سیکلوترون\\u200cها به\\u200cعنوان هدف برای بمباران نوترونی برای کشف عناصر جدید استفاده کرد؛ ۷۵  یا برخی ایزوتوپ\\u200cهای آن با نیمه\\u200cعمرهای نسبتاً کمتر همچون  ۲۶۳Rf در پزشکی هسته\\u200cای مورد استفاده قرار بگیرد. ۷۶ \\nرادرفوردیم پرتوزا است و قرار گرفتن در معرض پرتوهای آن سبب افزایش احتمال گسترش برخی بیماری\\u200cهای عمده مانند سرطان\\u200cها، تومورها و آسیب\\u200cهای ژنتیکی می\\u200cشود؛ ۷۷  با اینکه نیمه\\u200cعمر رادرفوردیم بسیار کوتاه است و به عنصری دیگر تبدیل می\\u200cشود ولی محصولات واپاشی آن که عمدتاً نوبلیم و لارنسیم است نیز پرتوزایند.\\nمسمومیت با رادرفوردیم می\\u200cتواند به موارد زیر منجر شود:\\nرادرفوردیم اولین فلز واسطه دورهٔ هفتم و دومین عضو سری ۶d در بین فلزات واسطه است. محاسبات انرژی یونشی، شعاع اتمی،  اوربیتال اتمی و حالت پایه آن شبیه هافنیم است و شباهت چندانی به سرب ندارد.  و زیرکونیم غ   پیش\\u200cبینی\\u200cهای ابتدایی در مورد خواص شیمیایی رادرفوردیم، محاسباتی بودند که نشان می\\u200cدادند انرژی مدار ۷p کمتر از انرژی مدار ۶d آن خواهد بود. طبق این محاسبات لایهٔ الکترونی آخر رادرفوردیم به شکل ۶d۱، ۷s۲، ۷p۱ یا حتی ۷s۲، ۷p۲ باشد؛ و این بدان معنا بود که رادرفوردیم بیشتر مانند سرب رفتار می\\u200cکند تا هافنیم. بعدها با محاسباتی دقیق\\u200cتر ثابت شد که این ادعا مردود است و رادرفوردیم مانند سایر اعضای گروه ۴ رفتار می\\u200cکند. ازاین\\u200cرو می\\u200cتوان گفت که خصوصیات رادرفوردیم با عناصر گروه ۴ جدول تناوبی یعنی تیتانیم، زیرکونیم و هافنیم مطابقت دارد. در عین حال برخی از خواص رادرفوردیم تنها در حالت گازی و محلول\\u200cهای آبی آن مشخص می\\u200cشود مانند عدد اکسایش آن که برابر با ۴+ بوده و پتانسیل اکسید و احیا آن، که پیش\\u200cبینی می\\u200cشود که بیش از ۱٫۷ ولت باشد. ۷۹ \\n امروز پیش\\u200cبینی می\\u200cشود که آرایش الکترونی رادرفوردیم به این شکل باشد:\\n۱s۲ ۲s۲ ۲p۶ ۳s۲ ۳p۶ ۳d۱۰ ۴s۲ ۴p۶ ۴d۱۰ ۴f۱۴ ۵s۲ ۵p۴ ۵d۱۰ ۵f۱۴ ۶s۲ ۶p۶ ۶d۲ ۷s۲\\nدرست مانند زیرکونیم و هافنیم، پیش\\u200cبینی شده که اکسید رادرفوردیم  دیرگدازی پایدار باشد که با هالوژن\\u200cها واکنش دهد و Rf\\n  \\n    \\n      \\n        X\\n      \\n    \\n    \\n  \\n۴ تولید می\\u200cکند  که در تماس با آب به شکل RfO\\n  \\n    \\n      \\n        X\\n      \\n    \\n    \\n  \\n۲ به\\u200cدست می\\u200cآید.  این مسئله پیشنهاد می\\u200cدهد که رادرفوردیم،  جامدی فرّار است و مونومر آن در فاز گازی آن به شکل چهاروجهی موجود است. ۸۰  در فاز آبی هم،  یون+Rf۴ از تیتانیم  به\\u200cمقدار کمتر هیدرولیز می\\u200cشود هرچند که مقادیر آن تا حدودی به زیرکونیم و هافنیم شبیه است؛ در نتیجه یون +RfO۲ تولید خواهد شد. واکنش هالیدها با یون\\u200cهای هالید تشکیل یون\\u200cهای پیچیده و کمپلکس\\u200cها را ممکن می\\u200cسازد. استفاده از یون\\u200cهای کلرید و برمید؛ تولید هگزاهالیدهایی همچون \\n  \\n    \\n      \\n        \\n          \\n            R\\n            f\\n            C\\n            l\\n          \\n          \\n            6\\n          \\n          \\n            2\\n             \\n          \\n        \\n      \\n    \\n     _}\\n  \\n و \\n  \\n    \\n      \\n        \\n          \\n            R\\n            f\\n            B\\n            r\\n          \\n          \\n            6\\n          \\n          \\n            2\\n             \\n          \\n        \\n      \\n    \\n     _}\\n  \\n را ممکن می\\u200cسازد. زیرکونیم و هافنیم برای تشکیل کمپلکس\\u200cهای فلوئور، تمایل دارند که به شکل -هپتا و -اکتا کمپلکس تشکیل دهند؛ بنابراین تولید یون رادرفوردیم در مقیاس\\u200cهای بزرگ\\u200cتر با کمپلکس\\u200cهای \\n  \\n    \\n      \\n        \\n          \\n            R\\n            f\\n            F\\n          \\n          \\n            6\\n          \\n          \\n            2\\n             \\n          \\n        \\n      \\n    \\n     _}\\n  \\n،  \\n  \\n    \\n      \\n        \\n          \\n            R\\n            f\\n            F\\n          \\n          \\n            7\\n          \\n          \\n            3\\n             \\n          \\n        \\n      \\n    \\n     _}\\n  \\n و \\n  \\n    \\n      \\n        \\n          \\n            R\\n            f\\n            F\\n          \\n          \\n            8\\n          \\n          \\n            4\\n             \\n          \\n        \\n      \\n    \\n     _}\\n  \\n امکان\\u200cپذیر خواهد بود. ۸۱ پیش\\u200cبینی می\\u200cشود رادرفوردیم در شرایط عادی جامد بوده و فلزی بسیار سنگین با چگالی ۲۳٫۲ گرم بر سانتی\\u200cمتر مکعب باشد. این رقم در مقابل اُسمیم ف   اندکی بیشتر است. شعاع اتمی رادرفوردیم نزدیک ۱۵۰ پیکومتر تخمین زده شده\\u200cاست. در بین ایزوتوپ\\u200cهایش ایزوتوپ\\u200cهای سنگین\\u200cتر نیمه\\u200cعمرهایی به\\u200cنسبت کمتر نیز دارند به غیر از ۲۶۷Rf که به دلیل اثرات نسبیتی پایدارترین ایزوتوپ است و نیمه\\u200cعمری بیش از ۱ ساعت دارد. ۸۲  تثبیت نسبیتی مدار ۷s و بی\\u200cثبات شدن مدار ۶d موجب می\\u200cشود که دو یون +Rf و +Rf۲ تشکیل شود و الکترون\\u200cهای ظرفیت خود را جایگزین الکترون\\u200cهای لایهٔ ۷d کند،  که این ویژگی رادرفوردیم، برعکس رفتار هافنیم است. ۸۳ \\nمطالعات اولیه در خصوص خواص شیمیایی رادرفوردیم بر روی کروماتوگرافی گازی متمرکز شده بود که در تلاش برای تأکید مجدد بر کشف این عنصر در دوبنا صورت گرفت. اکتشافات اخیر نسبت به اکتشافات قدیمی در مورد شناسایی ترکیبات اصلی رادرفوردیم قابل اعتمادتر هستند و در این مطالعات از ایزوتوپ پرتوزای ۲۶۱mRf استفاده شده\\u200cاست. ۸۴  هرچند که نیمه\\u200cعمر طولانی ایزوتوپ ۲۶۷Rf ممکن بود برای آزمایش مفیدتر باشد. ۸۵  آزمایش\\u200cها متکی بر این فرضیه بودند که رادرفوردیم آغازگر سری ۶d خواهد شد و یک مولکول چهاروجهی،  با یک تتراکلرید فرار دارد. ۸۶  ۸۷  ۸۸  مولکولِ کلرید رادرفوردیم  از کلرید هافنیم   فرارتر است زیرا پیوندهای کووالانسی آنپیوند کووالانسی قوی\\u200cتر هستند. یک سری از آزمایش\\u200cها نیز تأیید کردند که رادرفوردیم به\\u200cعنوان یک عضو معمولی از گروه ۴ رفتار خواهدکرد و یک کلرید ، برمید  و همچنین یک اکسی کلرید  تشکیل خواهد داد. هنگامی که پتاسیم کلرید ق  در فاز جامد به جای گاز با RfCl۴ ترکیب شد کاهش نوساناتی مشاهده شد که به\\u200cشدت نشان\\u200cدهندهٔ شکل\\u200cگیری K۲RfCl۶ است. ۸۹ \\nانتظار می\\u200cرود که آرایش الکترونی رادرفوردیم به شکل Rn] ۵f۱۴ ۶d۲ ۷s۲] باشد و در نتیجه رفتاری شبیه به هافنیم با آرایش الکترونیXe] ۴f۱۴ ۵d۲ ۶s۲] در گروه ۴ جدول تناوبی داشته باشد؛ بنابراین هیدرات یون+Rf۴ باید به\\u200cآسانی در یک محلول اسیدی قوی تولید شود؛ به شکلی که در اسیدهایی مانند هیدروکلریک اسید ک ،  هیدروبرومیک اسید گ  یا اسید هیدروفلوئوریک ل  بتواند کمپلکس شیمیایی تشکیل دهد. ۹۰ \\nقطعی\\u200cترین مطالعات شیمیایی دربارهٔ خواص رادرفوردیم توسط تیمی ژاپنی در موسسهٔ انرژی اتمی ژاپن با استفاده از ایزوتوپ ۲۶۱mRf صورت گرفته\\u200cاست. آزمایش\\u200cهایی مبنی بر استخراج رادرفوردیم از محلول\\u200cهای هیدروکلریک اسید حاوی توریم م  و عناصر گروه ۴ یعنی رادرفوردیم،  هافنیم،  زیرکونیم و تیتانیم؛ و درنهایت ثابت کردند که رادرفوردیم مانند آکتینیدها ن  رفتار نمی\\u200cکند. یک مقایسه با عناصر سبک\\u200cتر گروه ۴،  آن را دقیقاً در همین گروه قرار داد. همچنین تشکیل کمپلکس هگزاکلرید رادرفوردات در محلول\\u200cهای کلریدی، هم اطمینان بیشتری به تیم تحقیقاتی دربارهٔ شباهت رادرفوردیم به هافنیم و زیرکونیم داد. ۹۱ \\n  \\n    \\n      \\n        \\n          \\n            \\n            \\n              261\\n              m\\n            \\n          \\n          \\n            \\n              R\\n              f\\n            \\n            \\n              4\\n              +\\n            \\n          \\n          +\\n          6\\n          \\n            \\n              C\\n              l\\n            \\n            \\n               \\n            \\n          \\n           \\n          \\n            \\n          \\n            2\\n             \\n          \\n        \\n      \\n    \\n    {\\\\displaystyle \\\\mathrm {^{261m}{Rf}^{4+}+6{Cl}^{-}\\\\rightarrow ^{2-}}\\n  \\nزمانی که آزمایش با اسید هیدروفلوئوریک انجام شد نتایجی بسیار مشابه به\\u200cدست آمد. تفاوت\\u200cها در استخراج به\\u200cعنوان ضعفِ میلِ ترکیب شدن برای یون فلوئور تفسیر شد که تولید یون هگزافلوئورید رادرفوردات را توضیح می\\u200cدهد: ۹۲ \\n  \\n    \\n      \\n        \\n          \\n            \\n            \\n              261\\n              m\\n            \\n          \\n          \\n            \\n              R\\n              f\\n            \\n            \\n              4\\n              +\\n            \\n          \\n          +\\n          6\\n          \\n            \\n              F\\n            \\n            \\n               \\n            \\n          \\n           \\n          \\n            \\n          \\n            2\\n             \\n          \\n        \\n      \\n    \\n    {\\\\displaystyle \\\\mathrm {^{261m}{Rf}^{4+}+6{F}^{-}\\\\rightarrow ^{2-}}\\n  \\nدر اینجا انرژی تغییرات پیچیدهٔ شکل\\u200cگیری واکنش\\u200cهای مشخص\\u200cشده،  به اثرات نسبیتی تابع محاسبات چگالی هیدرات و هیدرولیز کمپلکس\\u200cهای فلوئور زیرکونیم،  هافنیم و رادرفوردیم بستگی دارد. آنیون فلوئور بررسی\\u200cشده مخلوط هافنیم و اسید نیتریک و  بوده که در آن ثابت تفکیک  زیرکونیم و هافنیم یکسان است و مقدار ثابت تفکیک رادرفوردیم از آن دو کمتر بوده\\u200cاست. ۹۳ \\nتیتانیم  Ti  عدد اتمی: ۲۲  جرم اتمی: ۴۷٫۸۶۷ نقطه ذوب: ۱۹۴۱  نقطه جوش: ۳۵۶۰  الکترونگاتیویته: ۱٫۵  چگالی:۴٫۵۰۶\\nزیرکونیم  Zr  عدد اتمی: ۴۰  جرم اتمی: ۹۱٫۲۲۴  نقطه ذوب: ۲۱۲۸  نقطه جوش: ۴۶۸۲ الکترونگاتیویته: ۱٫۳ چگالی:۶٫۵۲\\nهافنیم  Hf  عدد اتمی: ۷۲  جرم اتمی: ۱۴۸٫۴۹  نقطه ذوب: ۲۵۰۶ نقطه جوش: ۴۸۷۶  الکترونگاتیویته: ۱٫۳ چگالی:۱۳٫۳۱\\nرادرفوردیم  Rf  عدد اتمی: ۱۰۴  جرم اتمی: ۲۶۷  نقطه ذوب: ۲۴۰۰  نقطه جوش: ۵۸۰۰  الکترونگاتیویته: ؟   چگالی:۲۳٫۲\\nبرخی از دسته\\u200cبندی عناصر در جدول تناوبی\\n\")\n"
     ]
    },
    {
     "name": "stdout",
     "output_type": "stream",
     "text": [
      "Error: detector_ls(\"◄ · \\n4. århundre f.Kr.\\n◄ 3. århundre f.Kr. ►\\n2. århundre f.Kr. · \\n►\\n◄◄ · \\n◄ · \\n249 f.Kr. · \\n248 f.Kr. · \\n247 f.Kr. · \\n246 f.Kr. · \\n245 f.Kr.\\n◄ 244 f.Kr. ►\\n243 f.Kr. · \\n242 f.Kr. · \\n241 f.Kr. · \\n240 f.Kr. · \\n239 f.Kr. · \\n► · \\n►►\\n\")\n",
      "Error: detector_ls(\"◄ · \\n2. århundre\\n◄ 3. århundre ►\\n4. århundre · \\n►\\n◄ · \\n250-årene · \\n260-årene\\n◄ 270-årene ►\\n280-årene · \\n290-årene · \\n►\\n◄◄ · \\n◄ · \\n265 · \\n266 · \\n267 · \\n268 · \\n269\\n◄ 270 ►\\n271 · \\n272 · \\n273 · \\n274 · \\n275 · \\n► · \\n►►\\n\")\n"
     ]
    },
    {
     "name": "stdout",
     "output_type": "stream",
     "text": [
      "Error: detector_ls(\"Pontosságellenőrzött\\n1853 ·  1854 ·  1855\\n1853 a tudományban1854 a tudományban1855 a tudományban\\nAz 1854. év a tudományban és a technikában.\\n1801 ·  1802 ·  1803 ·  1804 ·  1805 ·  1806 ·  1807 ·  1808 ·  1809 ·  1810 ·  1811 ·  1812 ·  1813 ·  1814 ·  1815 ·  1816 ·  1817 ·  1818 ·  1819 ·  1820 ·  1821 ·  1822 ·  1823 ·  1824 ·  1825 ·  1826 ·  1827 ·  1828 ·  1829 ·  1830 ·  1831 ·  1832 ·  1833 ·  1834 ·  1835 ·  1836 ·  1837 ·  1838 ·  1839 ·  1840 ·  1841 ·  1842 ·  1843 ·  1844 ·  1845 ·  1846 ·  1847 ·  1848 ·  1849 ·  1850 ·  1851 ·  1852 ·  1853 ·  1854 ·  1855 ·  1856 ·  1857 ·  1858 ·  1859 ·  1860 ·  1861 ·  1862 ·  1863 ·  1864 ·  1865 ·  1866 ·  1867 ·  1868 ·  1869 ·  1870 ·  1871 ·  1872 ·  1873 ·  1874 ·  1875 ·  1876 ·  1877 ·  1878 ·  1879 ·  1880 ·  1881 ·  1882 ·  1883 ·  1884 ·  1885 ·  1886 ·  1887 ·  1888 ·  1889 ·  1890 ·  1891 ·  1892 ·  1893 ·  1894 ·  1895 ·  1896 ·  1897 ·  1898 ·  1899 ·  1900\\n\")\n",
      "Error: detector_ls(\"Pontosságellenőrzött\\nA Billboard Hot 100 lista rangsorolja az Amerikában legjobban teljesítő kislemezeket. A digitális és fizikális eladások,  illetve a rádiós teljesítmény alapján készült listát a Billboard magazin teszi közzé hetente.\\n1950   1951   1952   1953   1954   1955   1956   1957    1958   1959 1960   1961   1962   1963   1964   1965   1966   1967   1968   1969 1970   1971   1972   1973   1974   1975   1976   1977   1978   1979 1980   1981   1982   1983   1984   1985   1986   1987   1988   1989 1990   1991   1992   1993    1994   1995   1996   1997   1998   1999 2000   2001   2002   2003   2004    2005   2006   2007   2008   2009 2010   2011   2012   2013   2014   2015   2016   2017   2018   2019 2020   2021   2022   2023   2024   2025   2026   2027   2028   2029\\n\")\n"
     ]
    },
    {
     "name": "stdout",
     "output_type": "stream",
     "text": [
      "Error: detector_ls(\"Pontosságellenőrzött\\nA Cauchy-kritérium megadja a numerikus sor konvergenciájának pontos feltételét, azonban a gyakorlatban ritkán használható, mert nehéz ellenőrizni. Ezért szükség van egyszerűbben ellenőrizhető kritériumokra is.\\nGyökkritérium: Ha van olyan 0<q < 1 szám, amelyre \\n  \\n    \\n      \\n        \\n          \\n            \\n              \\n                |\\n              \\n              \\n                a\\n                \\n                  n\\n                \\n              \\n              \\n                |\\n              \\n            \\n            \\n              n\\n            \\n          \\n        \\n        <\\n        q\\n      \\n    \\n    |}}<q}\\n  \\n teljesül minden elég nagy n esetén, akkor a \\n  \\n    \\n      \\n        \\n           \\n          \\n            n\\n            =\\n            1\\n          \\n          \\n             \\n          \\n        \\n        \\n          a\\n          \\n            n\\n          \\n        \\n      \\n    \\n    ^}\\n  \\n sor abszolút konvergens, vagyis konvergens is, hiszen az abszolút konvergenciából következik a konvergencia.\\nBizonyítás: A feltétel szerint \\n  \\n    \\n      \\n        \\n          |\\n        \\n        \\n          a\\n          \\n            n\\n          \\n        \\n        \\n          |\\n        \\n        <\\n        \\n          q\\n          \\n            n\\n          \\n        \\n      \\n    \\n    |<q^\\n  \\n minden elég nagy n-re. Mivel a \\n  \\n    \\n      \\n        \\n           \\n          \\n            n\\n            =\\n            1\\n          \\n          \\n             \\n          \\n        \\n        \\n          q\\n          \\n            n\\n          \\n        \\n      \\n    \\n    ^{\\\\infty }q^\\n  \\n sor konvergens, ha 0<q < 1, így alkalmazható a majoráns kritérium és épp a bizonyítandó állítást kapjuk.\\n\")\n"
     ]
    },
    {
     "name": "stdout",
     "output_type": "stream",
     "text": [
      "Error: detector_ls(\"Pontosságellenőrzött\\nAz NSB 83 sorozat egy dízelmotorvonat-sorozat volt. 1932-ben az NEBB és a Skabo összesen három darabot gyártott az NSB részére. A Voss Line és a Skreia Line vasútvonalakon közlekedtek. 1963-ban lettek selejtezve.\\nI    II    III    IV    V    VI    VII    VIII    IX    X    XI    XII    XIII    XIV    XV    XVI    XVII    XVIII    XIX    XX    XXI    XXII    XXIII    XXIV    XXV    XXVI    XXVII    XXVIII    XXIX    A    B    C    1    2    3    4    5    6    7    8    9    10    11    12    13    14    15    16    17    18    19    20    21    22    23    24    25    26    27    28    29    30    31    32    33    34    35    36    37    38    39    40    41    42    43    44    45    46    47    48    49    50    51    52    53    54    55    56    61    63\\nDi 1    Di 2    Di 3    Di 4    Di 5    Di 6    Di 7    Di 8    G12    CD66\\nEl 1    El 2    El 3    El 4    El 5    El 6    El 7    El 8    El 9    El 10    El 11    El 12    El 13    El 14    El 15    El 16    El 17    El 18    CE 119\\nNSB 62    NSB 64    NSB 65    NSB 66    NSB 67    NSB 68    NSB 69    NSB 70    NSB 71    NSB 72    NSB 73\\nNSB 83    NSB 86    NSB 87    NSB 88    NSB 89    NSB 91    NSB 92    NSB 93    SJ Y1\\n\")\n"
     ]
    },
    {
     "name": "stdout",
     "output_type": "stream",
     "text": [
      "Error: detector_ls(\"Pontosságellenőrzött\\nAz SB 3c egy szertartályosgőzmozdony-sorozat volt a Déli Vasútnál , mely egy osztrák-magyar magánvasút-társaság volt.\\nA kétcsatlós mozdonyokat 1888-ban rendelte az SB a StEG mozdonygyárától. A Tauferer Bahn-on állították üzembe őket, ahonnan 1918 után Olaszországba kerültek. Ott az FS az FS 802 sorozatba osztotta be őket. 1923-ban és 1925-ben lettek selejtezve.\\negy hajtott tengellyel\\n112\\nkét hajtott tengellyel\\n1 ·  201 ·  301 ·  401 ·  2 ·  102 ·  3 ·  103 ·  4 ·  104 ·  5 ·  105 ·  205 ·  6 ·  106 ·  206 ·  306 ·  406 ·  506 ·  7 ·  107 ·  207 ·  307 ·  407 ·  227 ·  108 ·  208 ·  308 ·  308.5 ·  12 ·  13 ·  14 ·  15 ·  16 ·  17 ·  18 ·  19 ·  20 ·  21 ·  121 ·  22 ·  122 ·  23 ·  123 ·  24 ·  25 ·  26 ·  83 ·  183 ·  283 ·  383 ·  84 ·  85 ·  185 ·  86 ·  87 ·  88 ·  188 ·  288 ·  89 ·  189 ·  289 ·  389\\nhárom hajtott tengellyel\\n9 ·  109 ·  209 ·  309 ·  10 ·  110 ·  210 ·  310 ·  910 ·  11 ·  111 ·  211 ·  27 ·  127 ·  227 ·  28 ·  128 ·  228 ·  29 ·  129 ·  229 ·  329 ·  429 ·  629 ·  929 ·  30 ·  31 ·  131 ·  231 ·  32 ·  33 ·  133 ·  34 ·  35 ·  135 ·  36 ·  37 ·  38 ·  39 ·  40 ·  43 ·  45 ·  46 ·  47 ·  147 ·  48 ·  49 ·  149 ·  50 ·  51 ·  151 ·  52 ·  53 ·  54 ·  55 ·  155 ·  56 ·  59 ·  159 ·  60 ·   160 ·  260 ·  360 ·  460 ·  560 ·  660 ·  760 ·  61 ·  62 ·  162 ·  262 ·  362 ·  462 ·  63 ·  163 ·  64 ·  164 ·  264 ·  364 ·  464 ·  564 ·  65 ·  265 ·  66 ·  166 ·  67 ·  167 ·  289 ·  90 ·  91 ·  191 ·  92 ·  93 ·  193 ·  293 ·  393 ·  493 ·  94 ·  194 ·  294 ·  394 ·  494 ·  95 ·  195 ·  96 ·  196 ·  97 ·  197 ·  397 ·  98 ·  99 ·  199 ·  299\\nnégy és több hajtott tengellyel\\n70 ·  170 ·  270 ·  470 ·  71 ·  171 ·  271 ·  571 ·  72 ·  73 ·  74 ·  174 ·  75 ·  175 ·  76 ·  176 ·  77 ·  78 ·  178 ·  278 ·  378 ·  478 ·  79 ·  179 ·  80 ·  180 ·  280 ·  380 ·  100\\n„motorpótló”, fogaskerekű, tűznélküli\\n69 ·  169 ·  269\\nkeskenynyomközű\\nA ·  C ·  Cv ·  G ·  Gv ·  P ·  T ·  U ·  Uv ·  Yv ·  Z\\n1060 ·  1083 ·  1084\\negy hajtott tengellyel\\n150\\nkét hajtott tengellyel\\n201 ·  202 ·  203 ·  220 ·  221 ·  222 ·  223 ·  236 ·  237 ·  238 ·  239 ·  240 ·  241 ·  250 ·  252 ·  253 ·  254 ·  255 ·  256 ·  257 ·  258 ·  259 ·  268 ·  269 ·  274 ·  282 ·  283 ·  284\\nhárom hajtott tengellyel\\n301 ·  314 ·  320 ·  321 ·  322 ·  323 ·  324 ·  325 ·  326 ·  327 ·  328 ·  334,0  ·  334,1  ·  334,2  ·  335 ·  336 ·  337 ·  338 ·  339 ·  340 ·  341 ·  342 ·  350 ·  351 ·  355 ·  356 ·  357 ·  358 ·  359 ·  368 ·  369 ·  370 ·  373 ·  374 ·  375 ·  376 ·  377 ·  380 ·  381 ·  382 ·  383 ·  384 ·  XIIb ·  XIIc\\nnégy és több hajtott tengellyel\\n401 ·  420 ·  421 ·  422 ·  434 ·  441 ·  442 ·  450 ·  459 ·  475 ·  476 ·  601 ·  651\\n„motorpótló”, fogaskerekű, tűznélküli\\n10 ·  11 ·  12 ·  20 ·  40 ·  41 ·  91\\n51\\n3 régi ·  4 II ·  14 ·  15 ·  16 ·  16b ·  17 ·  17a ·  17b ·  17c ·  17d ·  18 ·  19 ·  23 ·  26 ·  27 ·  29 ·  32c ·  32d ·  32f ·  106 ·  206 ·  306 ·  108 ·  109 ·  110 ·  229 ·  429 ·  629 ·  60 ·  170 ·  570 ·  80 ·  180 ·  280 ·  480 ·  580 ·  101\\nPest ·  Vácz ·  Béts ·  Nádor ·  Czegléd ·  Erős ·  Nagy Körös\\nSöStB Bazin ·  SöStB Gyula ·  SöStB Galantha ·  SöStB Somorja ·  SöStB Marchegg\\nBALATON ·  ANINA ·  PRESSBURG ·  KÖBÖLKÚT ·  BERAUN ·  WIEN ·  StEG I 88-91 ·  StEG I 92-95 ·  StEG I 108-117 ·  StEG I 118–124 ·  StEG I 158–168 ·  StEG I 366-369 ·  StEG I 370-373 ·  StEG II 1054–1080I ·  Ia ·  Ib ·  IIIf ·  IVd ·  IVe ·  IVf ·  IVfc ·  IVfh ·  IVfn ·  IVg' ·  IVg\\\" ·  IVh ·  IVm ·  IVs ·  V ·  Vd22 ·  23.0 ·  23.5 ·  24 ·  25 ·  26 ·  30 ·  32.0 ·  32.5 ·  33 ·  34 ·  35 ·  36.0 ·  36.5 ·  37.0 ·  37.5 ·  38 ·  38.5 ·  39 ·  40 ·  41 ·  42 ·  43\\nI ·  Ia ·  Ip ·  It ·  IIa ·  IIb ·  IIIa ·  IIIb1 ·  IIIb2 ·  IIIb3 ·  IIIb4 ·  IIIe ·  IIIq ·  IV ·  IVa ·  V ·  VIm ·  VImb ·  X ·  XII ·  XIIa ·  XIIb ·  XIVa ·  TVa\\nIa ·  Ib ·  IIa ·  IIb 1 ·  IIb 2 ·  IIb 3 ·  IIc ·  IId ·   IIIa ·  IIIb 1,2 ·  IIIc ·  Vc 1,2 ·  Vd ·  Vd  ·  Ve ·  VI ·  VII ·  VII ·  VIII ·  IX ·  X\\nIb ·  Ic ·  Id ·  ÖNWB VI ·  ÖNWB VIIa, b, c, d, e ·  VIII ·  ÖNWB XIIa,b,c ·  XIVa ·  XVIb ·  XVIII ·  XIX\\nNStB Wyschrad ·  NStB Melnik - Sazawa\\nKRB II\\n\")\n"
     ]
    },
    {
     "name": "stdout",
     "output_type": "stream",
     "text": [
      "Error: detector_ls(\"\\n.mw-parser-output .geo-default,.mw-parser-output .geo-dms,.mw-parser-output .geo-dec.mw-parser-output .geo-nondefault,.mw-parser-output .geo-multi-punct.mw-parser-output .longitude,.mw-parser-output .latitude\\n대전지방교정청은 대전광역시·세종특별자치시·충청북도·충청남도의 수형자·미결수용자 및 피보호감호자의 수용관리·교정·교화 기타 행형사무에 관하여 관할 교도소 등을 지휘·감독하는 대한민국 법무부의 소속기관이다. 1991년 11월 1일 발족하였으며, 대전광역시 유성구 한우물로66번길 6에 위치하고 있다. 청장은 고위공무원단 나등급에 속하는 일반직공무원으로 보한다.\\n2023년 청사 신축 이전부지\\n \\n\")\n",
      "Error: detector_ls(\"\\n배드 걸은 스페인의 가수, 작곡가, DJ, 모델이다. 2016년, 리한나의 싱글 \\\"Work\\\"를 카탈루냐어로 번안해 부르면서 처음으로 이름을 알렸다. 1  2019년 싱글 \\\"Alocao\\\"를 통해 스페인 싱글 차트 1위를 했다. 2 \\n\")\n",
      "Error: detector_ls(\"\\n천체 역학에서 비각운동량 \\n  \\n    \\n      \\n        \\n          \\n            \\n              h\\n               \\n            \\n          \\n        \\n      \\n    \\n    }}\\n  \\n는 이체 문제의 분석에서 중추적인 역할을 한다. 뉴턴 역학에서 이러한 물리량이 이상적인 궤도에 대한 상수 벡터임을 보일 수 있다. 이는 본질적으로 케플러의 제2법칙을 증명해준다.\\n이 값은 각운동량 \\n  \\n    \\n      \\n        \\n          \\n            \\n              L\\n               \\n            \\n          \\n        \\n      \\n    \\n    }}\\n  \\n이 아니라 각운동량에 질량을 나눈 값이므로 비각운동량이라고 한다. 따라서 \\\"비\\\"라는 단어는 \\\"질량비\\\" 또는 질량으로 나눈 것임을 뜻한다.\\n따라서 SI 단위는 m 2 · s −1이다. \\n  \\n    m\\n    m\\n  \\n은 환산 질량 \\n  \\n    \\n      \\n        \\n          \\n            1\\n            m\\n          \\n        \\n        =\\n        \\n          \\n            1\\n            \\n              m\\n              \\n                1\\n              \\n            \\n          \\n        \\n        +\\n        \\n          \\n            1\\n            \\n              m\\n              \\n                2\\n              \\n            \\n          \\n        \\n      \\n    \\n    +}}}\\n  \\n을 나타낸다.\\n상대 비각운동량은 상대 위치 벡터 \\n  \\n    \\n      \\n        \\n          \\n            \\n              r\\n               \\n            \\n          \\n        \\n      \\n    \\n    }}\\n  \\n과 상대 속도 벡터 \\n  \\n    \\n      \\n        \\n          \\n            \\n              v\\n               \\n            \\n          \\n        \\n      \\n    \\n    }}\\n  \\n의 외적으로 정의된다.\\n  \\n    \\n      \\n        \\n          \\n            \\n              h\\n               \\n            \\n          \\n        \\n      \\n    \\n    }}\\n  \\n 벡터는 항상 순간 회전 궤도면과 수직하며, 순간 회전 궤도면은 순간 섭동 궤도와 일치한다. 따라서 \\n  \\n    \\n      \\n        \\n          \\n            \\n              h\\n               \\n            \\n          \\n        \\n      \\n    \\n    }}\\n  \\n 벡터는 수년간의 섭동이 포함된 평균 평면과는 수직하지 않는다.\\n물리학에서 늘 그렇듯이 벡터 \\n  \\n    \\n      \\n        \\n          \\n            \\n              h\\n               \\n            \\n          \\n        \\n      \\n    \\n    }}\\n  \\n의 크기는 \\n  \\n    h\\n    h\\n  \\n로 표시된다:\\n다음 증명은 뉴턴의 만유인력 법칙에도 적용된 단순화 하에서만 유효하다.\\n점질량 \\n  \\n    \\n      m\\n      \\n        1\\n      \\n    \\n    m_\\n  \\n과 \\n  \\n    \\n      m\\n      \\n        2\\n      \\n    \\n    m_\\n  \\n가 서로 거리 \\n  \\n    r\\n    r\\n  \\n만큼 떨어져있으며, 중력에 의해 서로 \\n  \\n    \\n      \\n        \\n          \\n            \\n              F\\n               \\n            \\n          \\n        \\n        =\\n        G\\n        \\n          \\n            \\n              \\n                m\\n                \\n                  1\\n                \\n              \\n              \\n                m\\n                \\n                  2\\n                \\n              \\n            \\n            \\n              r\\n              \\n                2\\n              \\n            \\n          \\n        \\n        \\n          \\n            \\n              \\n                r\\n                 \\n              \\n            \\n            r\\n          \\n        \\n      \\n    \\n    }=G{\\\\frac {m_m_}{r^}}\\n  \\n의 힘이 작용한다. 이 힘은 거리에 관계없이 즉시 작용하며 계에 존재하는 유일한 힘이다. 좌표계는 관성의 법칙을 만족한다.\\n추가적인 단순화를 위해 \\n  \\n    \\n      \\n        \\n          m\\n          \\n            1\\n          \\n        \\n         \\n        \\n          m\\n          \\n            2\\n          \\n        \\n      \\n    \\n    \\\\gg m_\\n  \\n를 가정한다. 따라서 좌표계의 원점에서 \\n  \\n    \\n      m\\n      \\n        1\\n      \\n    \\n    m_\\n  \\n은 중심체이며, \\n  \\n    \\n      m\\n      \\n        2\\n      \\n    \\n    m_\\n  \\n 주위를 도는 위성이다. 이때 환산질량은 \\n  \\n    \\n      m\\n      \\n        2\\n      \\n    \\n    m_\\n  \\n와 같다. 그리고 2체 문제의 방정식은 다음과 같이 써진다.\\n  \\n    \\n      \\n         \\n        =\\n        G\\n        \\n          m\\n          \\n            1\\n          \\n        \\n      \\n    \\n    }\\n  \\n은 표준 중력 변수이며, 거리 벡터 \\n  \\n    \\n      \\n        \\n          \\n            \\n              r\\n               \\n            \\n          \\n        \\n      \\n    \\n    }}\\n  \\n 은 위에서 가정한 조건에 의해 원점에서 위성을 가리키게 된다. Notes 1 \\n때때로 \\n  \\n     \\n    \\\\mu\\n  \\n를 환산 질량으로 표기하는 경우도 있기 때문에, 본 글의 표준 중력 변수 \\n  \\n     \\n    \\\\mu\\n  \\n를 환산 질량과 혼동하지 않는 것이 중요하다.\\n2체 문제의 방정식을 거리 벡터 \\n  \\n    \\n      \\n        \\n          \\n            \\n              r\\n               \\n            \\n          \\n        \\n      \\n    \\n    }}\\n  \\n와 외적하면 상대 비각운동량을 얻는다.\\n벡터 자체와의 외적은 0이다. 왼쪽은 곱의 미분법에 따라 다음과 같이 단순화된다.\\n이는 \\n  \\n    \\n      \\n        \\n          \\n            \\n              r\\n               \\n            \\n          \\n        \\n         \\n        \\n          \\n            \\n              \\n                \\n                  r\\n                   \\n                \\n              \\n               \\n            \\n          \\n        \\n      \\n    \\n    }\\\\times {\\\\dot }}\\n  \\n 가 일정함을 의미한다. 그리고 이는 정확히 위성의 비각운동량이다. References 1 \\n이 벡터는 궤도 평면과 수직이며, 각운동량은 바뀌지 않으므로 궤도 평면도 바뀌지 않는다.\\n비행 경로 각도 \\n  \\n    \\n      \\n         \\n      \\n    \\n    \\n  \\n의 정의와 그리고 속도 벡터의 횡단 및 반경 성분을 통해 2체 문제에 대한 추가적인 통찰을 얻을 수 있다. 다음 세 공식으로도 상대 비각운동량 벡터의 절대값을 계산할 수 있다.\\n이때 \\n  \\n    p\\n    p\\n  \\n는 곡선의 원뿔 곡선 이라고 부른다.\\n케플러의 행성 운동 법칙은 위의 관계를 통해 거의 직접적으로 증명될 수 있다.\\n증명은 이체 문제의 방정식에서 시작된다. 이번에는 방정식에 상대 비각운동량을 외적한다.\\n좌변은 각운동량은 일정하기 때문에 \\n  \\n    \\n      \\n        \\n          \\n            \\n              d\\n            \\n            \\n              \\n                d\\n              \\n              t\\n            \\n          \\n        \\n        \\n          \\n        \\n      \\n    \\n     }\\\\left}\\n  \\n와 같다.\\n우변은 다음과 같이 정리할 수 있다:\\n이 두 식을 동일하게 설정하고 시간이 지남에 따라 적분하면 다음과 같다.\\n이제 이 방정식에 \\n  \\n    \\n      \\n        \\n          \\n            \\n              r\\n               \\n            \\n          \\n        \\n      \\n    \\n    }}\\n  \\n을 내적하고 재배열하면 다음 식을 얻을 수 있다.\\n마지막 식을 정리하면 궤도 방정식을 의미한다. References 2 \\n이것은 반통경 \\n  \\n    \\n      \\n        p\\n        =\\n        \\n          \\n            \\n              h\\n              \\n                2\\n              \\n            \\n             \\n          \\n        \\n      \\n    \\n    }\\n  \\n와 이심률 \\n  \\n    \\n      \\n        e\\n        =\\n        \\n          \\n            C\\n             \\n          \\n        \\n      \\n    \\n    \\n  \\n일 때 극좌표계에서 원뿔 단면의 방정식이다. 이는 곧 케플러의 제1법칙과 같다.\\nThe orbit of a planet is an ellipse with the Sun at one focus.두 번째 법칙은 상대 비각운동량의 절댓값을 계산하는 세 방정식 중 두 번째 방정식을 사용하면 즉시 도출된다.\\n두 번째 방정식에 의해 도출된 식 \\n  \\n    \\n      \\n        \\n          d\\n        \\n        t\\n        =\\n        \\n          \\n            \\n              r\\n              \\n                2\\n              \\n            \\n            h\\n          \\n        \\n         \\n        \\n          d\\n        \\n         \\n      \\n    \\n     t= \\\\theta }\\n  \\n과 무한소의 각도에서 궤도 내부 영역을 나타내는 식인 \\n  \\n    \\n      \\n        \\n          d\\n        \\n        A\\n        =\\n        \\n          \\n            \\n              r\\n              \\n                2\\n              \\n            \\n            2\\n          \\n        \\n         \\n        \\n          d\\n        \\n         \\n      \\n    \\n     A={2}}\\\\ \\\\mathrm \\n  \\n을 다음과 같이 통합할 수 있다. References 4 \\n위 식을 문장으로 풀어 쓰면 다음과 같다.\\nThe line joining the planet to the Sun sweeps out equal areas in equal times.케플러 제3법칙은 두 번째 법칙에서 바로 유도된다. 위 식을 1회전에 걸쳐 적분하면 공전 주기를 얻을 수 있다.\\n  \\n    \\n      \\n         \\n        a\\n        b\\n      \\n    \\n    \\n  \\n는 타원의 면적이다. 단반경에 \\n  \\n    \\n      \\n        b\\n        =\\n        \\n          \\n            a\\n            p\\n          \\n        \\n      \\n    \\n    }}\\n  \\n를 대입하고, 상대 비각운동량에 \\n  \\n    \\n      \\n        h\\n        =\\n        \\n          \\n             \\n            p\\n          \\n        \\n      \\n    \\n    }}\\n  \\n를 대입하면 다음 식을 얻을 수 있다. References 4 \\n따라서 위성의 장반경과 공전 주기 사이 관계는 표준 중력 상수만 관여한다. 이는 케플러 제3법칙과 동일하다.\\nThe square of the period of a planet is proportional to the cube of its mean distance to the Sun.\")\n"
     ]
    },
    {
     "name": "stdout",
     "output_type": "stream",
     "text": [
      "Error: detector_ls(\"\\n수학에서 에일렌베르크-스틴로드 공리는 상대 호몰로지가 만족하는 다섯 개의 공리다.\\n사무엘 에일렌베르크와 노먼 스틴로드가 1945년에 발표하였다. 1 \\n상대 호몰로지는 부분공간이 갖추어진 위상 공간의 범주 \\n  \\n    \\n      T\\n      o\\n      \\n        p\\n        \\n          2\\n        \\n      \\n    \\n    \\\\operatorname }\\n  \\n에서 아벨 군의 범주 \\n  \\n    Ab\\n    \\\\operatorname \\n  \\n로 가는 일련의 함자 \\n  \\n    \\n      H\\n      \\n        n\\n      \\n    \\n    H_\\n  \\n과 이들 함자 사이의 자연 변환 \\n  \\n    \\n      \\n         \\n        \\n          n\\n        \\n      \\n       \\n      \\n        H\\n        \\n          n\\n        \\n      \\n       \\n      \\n        H\\n        \\n          n\\n           \\n          1\\n        \\n      \\n    \\n    \\\\partial _\\\\colon H_\\\\to H_\\n  \\n로 구성된다.\\n이 데이터가 보통 호몰로지 이론을 이루려면, 다음과 같은 다섯 개의 공리를 만족해야 한다. 만약 차원 공리를 제외한 나머지 공리들을 만족시지만 차원 공리는 성립하지 않는다면, 이를 특수 호몰로지 이론이라고 한다.\\n이와 유사하게 보통 코호몰로지 이론 및 특수 코호몰로지 이론도 정의할 수 있다.\\n흔히 다루는 특이 호몰로지, 체흐 코호몰로지, 드람 코호몰로지 등은 보통 호몰로지 이론이다. K이론은 특수 코호몰로지 이론의 한 예다.\\n\")\n",
      "Error: detector_ls(\"\\n오카자키 치나미는 일본의 여성 모델, 아이돌, 배우이다. AKS → 스파이럴재팬 → TWIN PLANET TP-SATELLITE 소속. 전 AKB48 연구생 멤버  → 전 네가이고토 멤버 → 전 카와이이무스메니와료코우사세타이 멤버 → 현 DREAMING MONSTER 멤버\\n\")\n",
      "Error: detector_ls(\"\\n관계형 데이터베이스에서 외래 키는 한 테이블의 필드 중 다른 테이블의 행을 식별할 수 있는 키를 말한다.\\n외래 키는 참조하는 테이블에서 1개의 키에 해당하고, 참조하는 측의 관계 변수는 참조되는 측의 테이블의 키를 가리킨다. 참조하는 테이블의 속성의 행 1개의 값은, 참조되는 측 테이블의 행 값에 대응된다. 이 때문에 참조하는 테이블의 행에는, 참조되는 테이블에 나타나지 않는 값을 포함할 수 없다. 이러한 참조 관계는 2개의 테이블을 연관시키기 위한 관계 정규화의 본질적인 부분이다. 참조하는 테이블의 행 여러 개가, 참조되는 테이블의 동일한 행을 참조할 수 있다.\\n참조하는 테이블과 참조되는 테이블이 동일할 수도 있다. 이 경우는 외래 키가 자기 자신을 참조하는 것이다. 이러한 외래 키는 데이터베이스 언어표준 SQL:2003의 「자기 참조」외래 키 혹은 「재귀적」외래 키로 규정되어 있다.\\n하나의 테이블이 여러 개의 외래 키를 포함할 수 있다. 그리고 이러한 외래 키들은 각각 서로 다른 테이블을 참조할 수 있다. 각각의 외래 키는 관계 데이터베이스 관리 시스템에 의해 개별적으로 강제 적용된다. 그렇기에 테이블 사이에 연속되는 관련성을 외래 키를 사용해 정의할 수 있다.\\n설계의 관점에서 '외래 키-기본 키' 관계가 없어야 하는데 있거나, 있어야 하는데 없는 경우가 있다. 이러한 경우, 데이터베이스 설계에 있어 문제를 유발할 수 있다.\\n외래 키는 데이터베이스 언어 ANSI/ISO SQL 표준에 대해 FOREIGN KEY 제약으로서 규정되어 있다. 이미 존재하는 테이블들에 외래 키 제약을 추가하는 구문은 SQL:2003에 다음과 같이 나와 있다. 또한, 속성의 리스트를 REFERENCES구로 생략하면, 외래 키는 참조된 테이블의 주키를 참조하는 것을 암묵적으로 나타낸다.\\n    ALTER     TABLE     <  table     identifier  > \\n      ADD      \\n         FOREIGN     KEY      \\n         REFERENCES     <  table     identifier  >      \\n          \\n          \\n    CREATE     TABLE     table_name     ( \\n      id        INTEGER      PRIMARY     KEY  , \\n      col2      CHARACTER     VARYING  (  20  ), \\n      col3      INTEGER  , \\n      ... \\n      CONSTRAINT     col3_fk     FOREIGN     KEY  (  col3  ) \\n         REFERENCING     other_table  (  UNIQUE  (  key_col  )     ON     DELETE     CASCADE  , \\n      ...     ) \\n    CREATE     TABLE     table_name     , \\n      col3      INTEGER     FOREIGN     KEY     REFERENCES     other_table   \\n</pr관계 데이터베이스 관리 시스템 혹은 SQL 데이터베이스 관리 시스템은 참조 정합성 제약을 강제 적용하기 위해 DBMS는 참조되는 테이블의 행을 삭제하는 경우에도, 데이터 정합성을 유지해야 한다. 그 때, 참조하는 테이블에 행이 남아 있는 경우, 참조 정합성을 고려해야 한다. 데이터베이스 언어표준 SQL:2003에는 그러한 경우에 발생시키는 5종류의 참조 조작이 규정되어 있다.\\n\")\n"
     ]
    },
    {
     "name": "stdout",
     "output_type": "stream",
     "text": [
      "Error: detector_ls(\"\\n타우르 마탄 루악, 1956년 10월 10일~ )은 동티모르의 정치인이다.\\n그는 2012년 5월 20일부터 2017년 5월 20일까지 동티모르의 제3대 대통령을 역임했으며, 2018년 6월 22일부터 2023년 7월 1일까지 총리직에 역임했다.\\n\")\n",
      "Error: detector_ls(\"\\n《Growing Pains》는 2007년 12월 18일에 발매된 메리 J. 블라이지의 음반이다. 게펜 레코드에 의해 발매되었다.\\n \\n|}\\n\")\n",
      "Error: detector_ls(\"\\n〈Love & Girls〉는 대한민국의 걸그룹 소녀시대의 7번째 일본 싱글이다.\\nCD\\nDVD\\n\")\n",
      "Error: detector_ls(\"\\nRev. from DVL은 일본의 여성 아이돌 그룹이다. 2017년 3월 31일을 마지막으로 공식 해체되었다.\\n2003년에 후쿠오카현의 연예 프로덕션 액티브 하카타의 댄스 보컬 유닛 〈DVL〉로 탄생해, 2011년 6월에 〈Rev. from DVL〉로 개명했다. 그룹 이름의 【Rev.】는 revolution의 약어와 아이티의 말로 〈꿈〉, 【DVL】은 댄스 보컬 러브라는 의미이다. 1  그룹으로서 지역 축제나 행사 등에 참여하는 한편 멤버 개인의 활동에 중점을 두고 각각이 TV 프로그램이나 CM·드라마·영화·무대 등에서 활약하고 있다.\\n2014년 4월 16일에 싱글 〈LOVE-arigatou-〉로 메이저 데뷔한다. 2 \\n2017년 2월 6일, 같은 해 3월 31일에 해산한다는 것이 공식 발표되었다.\\n친척 관계는 아니다.\\n~DNME-0022\\nCD+DVD\\nCD+DVD\\nDNME-0026\\nDNME-0027\\nWEB반 Type-AWEB반 Type-B\\n\")\n",
      "Error: detector_ls(\"\\n《극장판 SERVAMP 서뱀프 Alice in the Garden》는 일본에서 제작된 나카노 히데아키 감독의 2018년 판타지 영화이다. 테라시마 타쿠마 등이 주연으로 출연하였다. 2018년 4월 7일 일본에서 초연되었다.\\n이 영화는 일본에서 2018년 4월 7일 개봉되었다. 1  일본에서 이 영화는 2018년 10월 24일 블루레이와 DVD로 출시되었다. 2 \\n\")\n",
      "Error: detector_ls(\"De alef-getallen zijn in de verzamelingenleer getallen die gebruikt worden om de kardinaliteit  van oneindige verzamelingen weer te geven c.q. te kenmerken. Deze getallen zijn vernoemd naar het symbool dat wordt gebruikt om ze aan te duiden, de Hebreeuwse letter alef .\\nDe kardinaliteit van de natuurlijke getallen is \\n  \\n    \\n      \\n        \\n           \\n          \\n            0\\n          \\n        \\n      \\n    \\n    }\\n  \\n , de daarop volgende, grotere kardinaliteit is alef-één, \\n  \\n    \\n      \\n        \\n           \\n          \\n            1\\n          \\n        \\n      \\n    \\n    }\\n  \\n, daarna alef-twee, \\n  \\n    \\n      \\n        \\n           \\n          \\n            2\\n          \\n        \\n      \\n    \\n    }\\n  \\n, en zo verder. Wanneer op deze manier wordt doorgegaan, is het mogelijk een kardinaalgetal \\n  \\n    \\n      \\n        \\n           \\n          \\n             \\n          \\n        \\n      \\n    \\n    }\\n  \\n voor elk ordinaalgetal \\n  \\n    \\n      \\n         \\n      \\n    \\n    \\n  \\n te definiëren.\\n\")\n"
     ]
    },
    {
     "name": "stdout",
     "output_type": "stream",
     "text": [
      "Error: detector_ls(\"Het tennistoernooi Australian Open werd in januari 1977 bij de vrouwen voor de 51e keer gehouden. Het was de eerste editie van dat jaar. Later dat jaar werd ook in december gespeeld, doordat de organisatie besloot om het toernooi voortaan aan het eind van het kalenderjaar te houden. De als tweede geplaatste Australische Kerry Melville Reid won het toernooi voor de eerste keer door in de finale haar als eerste geplaatste landgenote Dianne Fromholtz met 7-5 en 6-2 te verslaan.\\nDe geplaatste speelsters zijn hieronder opgesomd. Tussen haakjes staat welke ronde de speelster bereikte.\\n1905 · 1906 · 1907 · 1908 · 1909 · 1910 · 1911 · 1912 · 1913 · 1914 · 1915 · 1916–1918 · 1919 · 1920 · 1921 · 1922 · 1923 · 1924 · 1925 · 1926 · 1927 · 1928 · 1929 · 1930 · 1931 · 1932 · 1933 · 1934 · 1935 · 1936 · 1937 · 1938 · 1939 · 1940 · 1941–1945 · 1946 · 1947 · 1948 · 1949 · 1950 · 1951 · 1952 · 1953 · 1954 · 1955 · 1956 · 1957 · 1958 · 1959 · 1960 · 1961 · 1962 · 1963 · 1964 · 1965 · 1966 · 1967 · 1968\\n↓ open tijdperk ↓\\n1969  · 1970  · 1971  · 1972  · 1973  · 1974  · 1975  · 1976  · januari 1977  · december 1977  · 1978  · 1979  · 1980  · 1981  · 1982  · 1983  · 1984  · 1985  · 1987  · 1988  · 1989  · 1990  · 1991  · 1992  · 1993  · 1994  · 1995  · 1996  · 1997  · 1998  · 1999  · 2000  · 2001  · 2002  · 2003  · 2004  · 2005  · 2006  · 2007  · 2008  · 2009  · 2010  · 2011  · 2012  · 2013  · 2014  · 2015  · 2016  · 2017  · 2018  · 2019   · 2020  · 2021  · 2022  · 2023 \\nLijst van Australian Openwinnaars\\n\")\n",
      "Error: detector_ls(\"De Bundesliga 2004/05  was het 15de seizoen van de Duitse Bundesliga. Het begon op 5 september 2004 en eindigde op 10 mei 2005. 1 \\n1990/91 · \\n1991/92 · \\n1992/93 · \\n1993/94 · \\n1994/95 · \\n1995/96 · \\n1996/97 · \\n1997/98 · \\n1998/99 · \\n1999/00 · \\n2000/01 · \\n2001/02 · \\n2002/03 · \\n2003/04 · \\n2004/05 · \\n2005/06 · \\n2006/07 · \\n2007/08 · \\n2008/09 · \\n2009/10 · \\n2010/11 · \\n2011/12 · \\n2012/13 · \\n2013/14 · \\n2014/15 · \\n2015/16 · \\n2016/17 · \\n2017/18\\nBundesliga · DFB-Pokal · UEFA Women's Champions League\\n\")\n"
     ]
    },
    {
     "name": "stdout",
     "output_type": "stream",
     "text": [
      "Error: detector_ls(\"De Primera División 1951/52 was de 21ste uitvoering van de hoogste betaaldvoetbalafdeling in Spanje. Het seizoen begon op 9 september 1951 en eindigde op 13 april 1952.\\nGijón en Santander handhaafden zich via de nacompetitie. \\nDe Pichichi-trofee wordt jaarlijks uitgereikt aan de topscorer van de Primera División.\\n1929 · 1929/30 · 1930/31 · 1931/32 · 1932/33 · 1933/34 · 1934/35 · 1935/36 · 1936/37 · 1937/38 · 1938/39 · 1939/40 · 1940/41 · 1941/42 · 1942/43 · 1943/44 · 1944/45 · 1945/46 · 1946/47 · 1947/48 · 1948/49 · 1949/50 · 1950/51 · 1951/52 · 1952/53 · 1953/54 · 1954/55 · 1955/56 · 1956/57 · 1957/58 · 1958/59 · 1959/60 · 1960/61 · 1961/62 · 1962/63 · 1963/64 · 1964/65 · 1965/66 · 1966/67 · 1967/68 · 1968/69 · 1969/70 · 1970/71 · 1971/72 · 1972/73 · 1973/74 · 1974/75 · 1975/76 · 1976/77 · 1977/78 · 1978/79 · 1979/80 · 1980/81 · 1981/82 · 1982/83 · 1983/84 · 1984/85 · 1985/86 · 1986/87 · 1987/88 · 1988/89 · 1989/90 · 1990/91 · 1991/92 · 1992/93 · 1993/94 · 1994/95 · 1995/96 · 1996/97 · 1997/98 · 1998/99 · 1999/00 · 2000/01 · 2001/02 · 2002/03 · 2003/04 · 2004/05 · 2005/06 · 2006/07 · 2007/08 · 2008/09 · 2009/10 · 2010/11 · 2011/12 · 2012/13 · 2013/14 · 2014/15 · 2015/16 · 2016/17 · 2017/18 · 2018/19 · 2019/20 · 2020/21 · 2021/22 · 2022/23\\nEuropa: Champions League · Cup Winners Cup · UEFA Cup · UEFA Super Cup\\n\")\n"
     ]
    },
    {
     "name": "stdout",
     "output_type": "stream",
     "text": [
      "Error: detector_ls(\"В настоящем списке представлены в алфавитном порядке все Герои Советского Союза, чьи фамилии начинаются с буквы «Б» . Список содержит даты Указов Президиума Верховного Совета СССР о присвоении звания, информацию о роде войск, должности и воинском звании Героев на дату представления к присвоению звания Героя Советского Союза, годах их жизни.\\nУдарения в фамилиях Героев приведены по книге «Герои Советского Союза: Краткий биографический словарь   Пред. ред. коллегии И. Н. Шкадов. — М.: Воениздат, 1987. — Т. 1 /Абаев — Любичев/. — 911 с. — 100 000 экз. — ISBN отс., Рег. № в РКП 87-95382.».\\nГС\\nНЛ\\n ГС 1 \\n НЛ 1 \\n ГС 2 \\n НЛ 2 \\n ГС 3 \\n НЛ 3 \\n ГС 4 \\n НЛ 4 \\n ГС 5 \\n НЛ 5 \\n ГС 6 \\n НЛ 6 \\n ГС 7 \\n НЛ 7 \\n ГС 8 \\n НЛ 8 \\n ГС 9 \\n НЛ 9 \\n ГС 10 \\n НЛ 10 \\n ГС 11 \\n НЛ 11 \\n ГС 12 \\n НЛ 12 \\n ГС 13 \\n——\\n ГС 14 \\n НЛ 13 \\n ГС 15 \\n НЛ 14 \\n ГС 16 \\n НЛ 15 \\n ГС 17 \\n НЛ 16 \\n ГС 18 \\n НЛ 17 \\n ГС 19 \\n НЛ 18 \\n ГС 20 \\n НЛ 19 \\n ГС 21 \\n НЛ 20 \\n ГС 22 \\n НЛ 21 \\n ГС 23 \\n НЛ 22 \\n ГС 24 \\n НЛ 23 \\n ГС 25 \\n НЛ 24 \\n ГС 26 \\n——\\n ГС 27 \\n НЛ 25 \\n ГС 28 \\n——\\n ГС 29 \\n НЛ 26 \\n ГС 30 \\n НЛ 27 \\n ГС 31 \\n——\\n ГС 32 \\n НЛ 28 \\n ГС 33 \\n НЛ 29 \\n ГС 34 \\n НЛ 30 \\n ГС 35 \\n НЛ 31 \\n ГС 36 \\n НЛ 32 \\n ГС 37 \\n НЛ 33 \\n ГС 38 \\n——\\n ГС 39 \\n НЛ 34 \\n ГС 40 \\n НЛ 35 \\n ГС 41 \\n НЛ 36 \\n ГС 42 \\n НЛ 37 \\n ГС 43 \\n НЛ 38 \\n ГС 44 \\n НЛ 39 \\n ГС 45 \\n НЛ 40 \\n ГС 46 \\n НЛ 41 \\n ГС 47 \\n НЛ 42 \\n ГС 48 \\n НЛ 43 \\n ГС 49 \\n НЛ 44 \\n ГС 50 \\n НЛ 45 \\n ГС 51 \\n НЛ 46 \\n ГС 52 \\n НЛ 47 \\n ГС 53 \\n НЛ 48 \\n01.11.1968\\nкомандир космического корабля «Союз-3»\\nполковник\\n ГС 54 \\n НЛ 49 \\n ГС 55 \\n НЛ 50 \\n ГС 56 \\n НЛ 51 \\n ГС 57 \\n НЛ 52 \\n ГС 58 \\n НЛ 53 \\n ГС 59 \\n НЛ 54 \\n ГС 60 \\n НЛ 55 \\n ГС 61 \\n НЛ 56 \\n ГС 62 \\n——\\n ГС 63 \\n——\\n ГС 64 \\n НЛ 57 \\n ГС 65 \\n НЛ 58 \\n ГС 66 \\n НЛ 59 \\n ГС 67 \\n НЛ 60 \\n ГС 68 \\n НЛ 61 \\n ГС 69 \\n НЛ 62 \\n ГС 70 \\n НЛ 63 \\n ГС 71 \\n НЛ 64 \\n ГС 72 \\n НЛ 65 \\n ГС 73 \\n НЛ 66 \\n ГС 74 \\n НЛ 67 \\n ГС 75 \\n НЛ 68 \\n ГС 76 \\n НЛ 69 \\n ГС 77 \\n НЛ 70 \\n ГС 78 \\n НЛ 71 \\n ГС 79 \\n НЛ 72 \\n ГС 80 \\n НЛ 73 \\n ГС 81 \\n НЛ 74 \\n ГС 82 \\n НЛ 75 \\n ГС 83 \\n НЛ 76 \\n ГС 84 \\n НЛ 77 \\n ГС 85 \\n НЛ 78 \\n ГС 86 \\n НЛ 79 \\n ГС 87 \\n НЛ 80 \\n ГС 88 \\n НЛ 81 \\n ГС 89 \\n НЛ 82 \\n ГС 90 \\n НЛ 83 \\n ГС 91 \\n НЛ 84 \\n ГС 92 \\n НЛ 85 \\n ГС 93 \\n НЛ 86 \\n ГС 94 \\n НЛ 87 \\n ГС 95 \\n НЛ 88 \\n ГС 96 \\n——\\n ГС 97 \\n НЛ 89 \\n ГС 98 \\n НЛ 90 \\n ГС 99 \\n НЛ 91 \\n ГС 100 \\n НЛ 92 \\n ГС 101 \\n НЛ 93 \\n ГС 102 \\n НЛ 94 \\n ГС 103 \\n НЛ 95 \\n ГС 104 \\n НЛ 96 \\n ГС 105 \\n НЛ 97 \\n ГС 106 \\n НЛ 98 \\n ГС 107 \\n НЛ 99 \\n ГС 108 \\n НЛ 100 \\n ГС 109 \\n НЛ 101 \\n ГС 110 \\n НЛ 102 \\n ГС 111 \\n НЛ 103 \\n ГС 112 \\n НЛ 104 \\n ГС 113 \\n НЛ 105 \\n ГС 114 \\n——\\n ГС 115 \\n НЛ 106 \\n ГС 116 \\n НЛ 107 \\n ГС 117 \\n НЛ 108 \\n ГС 118 \\n НЛ 109 \\n ГС 119 \\n НЛ 110 \\n ГС 120 \\n НЛ 111 \\n\")\n"
     ]
    },
    {
     "name": "stdout",
     "output_type": "stream",
     "text": [
      "Error: detector_ls(\" Уоррен\\n2‑дв. пикап\\n4‑дв. пикап\\nChrysler AN\\n3-скор. АКПП\\n4-скор. АКПП\\n5-скор. МКПП\\n5-скор. АКПП\\nChevrolet S-10/Chevrolet Colorado\\nGMC Sonoma/GMC Canyon\\nFord Ranger\\nHonda Ridgeline\\nNissan Navara/Frontier\\nToyota Tacoma\\nDodge Dakota  — серия среднеразмерных пикапов, выпускаемых подразделением Stellantis North America  с 1986 по 2011 год 1  2 . По габаритам модель выше, чем Ford Ranger и Chevrolet S-10, но ниже, чем Dodge Ram Pickup 3  4 . Это первый пикап Dodge с двигателем V8.\\nВ Россию и Украину официально не поставлялся.\\nАвтомобиль Dodge Dakota впервые был представлен в 1986 году. Для снижения затрат на производство комплектующие поставлялись компанией Chrysler. Внешне автомобиль напоминает RAM Pickup. \\nВ 1989 году был представлен спортивный автомобиль Shelby Dakota 5 . Он является предшественником моделей GMC Syclone и Ford Lightning. \\nDodge Dakota Sport\\nКабриолет\\nDodge Dakota SLT\\nDodge Dakota SLT\\nDodge Dakota Li'l Red Express\\nАвтомобиль Dodge Dakota второго поколения выпускался с июля 1996 по июль 2004 года. Частью семейства Dodge Dakota является внедорожник Durango на платформе Chrysler DN 6 . С 1998 года автомобиль поставлялся в Бразилию.\\nМодификации автомобиля — ST, SXT, SLT и R/T.\\nDodge Dakota SLT\\nDodge Dakota Sport\\nАвтомобиль Dodge Dakota третьего поколения производился с 2005 по 2011 года 7 . Модификации автомобиля — ST, SLT, Lonestar и Laramie.\\nПосле выделения компании Ram Trucks в отдельную из состава Dodge производство автомобиля Dodge Dakota завершилось 23 августа 2011 года 8  9  10  11 .\\nDodge Dakota\\nDodge Dakota\\nDodge Dakota SLT\\n\")\n"
     ]
    },
    {
     "name": "stdout",
     "output_type": "stream",
     "text": [
      "Error: detector_ls(\"Slovensko: \\n197 \\n198 \\n199 \\n200 \\n201 – \\n202 – \\n203 \\n204 \\n205 \\n206 \\n207\\nRok 202 v oblastiach:  \\nKultúra  \\nHudba – \\nUmenie – \\nVeda\\nZoznam vládcov: \\nPredstavitelia štátov –\\nVedúce osobnosti\\n\")\n",
      "Error: detector_ls(\"Slovensko: \\n464 \\n465 \\n466 \\n467 \\n468 – \\n469 – \\n470 \\n471 \\n472 \\n473 \\n474\\nRok 469 v oblastiach:  \\nKultúra  \\nHudba – \\nUmenie – \\nVeda\\nZoznam vládcov: \\nPredstavitelia štátov –\\nVedúce osobnosti\\n\")\n",
      "Error: detector_ls(\"Slovensko: \\n490 \\n491 \\n492 \\n493 \\n494 – \\n495 – \\n496 \\n497 \\n498 \\n499 \\n500\\nRok 495 v oblastiach:  \\nKultúra  \\nHudba – \\nUmenie – \\nVeda\\nZoznam vládcov: \\nPredstavitelia štátov –\\nVedúce osobnosti\\n\")\n"
     ]
    },
    {
     "name": "stdout",
     "output_type": "stream",
     "text": [
      "Error: detector_ls(\"Gaußova alebo Gaussova krivka veľmi úzko súvisí s pojmom normálne  rozdelenie pravdepodobnosti. Charakterizuje rozloženie výsledkov meraní vzhľadom na referenčnú hodnotu.Je funkciou len dvoch premenných: priemeru a štandardnej odchýlky.\\n  \\n    \\n      \\n        g\\n        \\n        =\\n        \\n          \\n            1\\n            \\n               \\n              \\n                \\n                  2\\n                   \\n                \\n              \\n            \\n          \\n        \\n        \\n          e\\n          \\n            \\n              \\n                 \\n                \\n                \\n                  )\\n                  \\n                    2\\n                  \\n                \\n              \\n              \\n                2\\n                \\n                  \\n                     \\n                  \\n                  \\n                    2\\n                  \\n                \\n              \\n            \\n          \\n        \\n      \\n    \\n    }e^}}\\n  \\nVo všetkých vedných disciplínach s podporou matematiky dokážeme pomocou Gaussových predpokladov filtrovať alebo analyzovať výsledky meraní a výskumov.\\nUkazuje sa, že pri dodržaní vyššie uvedených predpokladov každý náhodný dej vykazuje svoje správanie podľa Gaussovho rozdelenia.\\nPríklady:\\n\")\n"
     ]
    },
    {
     "name": "stdout",
     "output_type": "stream",
     "text": [
      "Error: detector_ls(\"Leikar í 1. deild karla í knattspyrnu hófust í 49. sinn árið 2003. \\n Fram  •  Fylkir  •  Grótta  • Haukar  • HK  •  ÍR  •  Keflavík  •  Leiknir   Leiknir F.  •  Selfoss  •  Þróttur •  Þór \\n1951    \\n1952    \\n1953    \\n 1954   \\n1955   \\n1956   \\n1957   \\n1958   \\n1959   \\n1960  \\n1961   \\n1962   \\n1963   \\n1964  \\n1965   \\n1966   \\n1967   \\n1968   \\n1969   \\n1970  \\n1971   \\n1972   \\n1973   \\n1974   \\n1975   \\n1976   \\n1977   \\n1978   \\n1979   \\n1980  \\n1981   \\n1982   \\n1983   \\n1984  \\n1985   \\n1986   \\n1987   \\n1988   \\n1989   \\n1990  \\n1991   \\n1992   \\n1993  \\n1994   \\n1995   \\n1996   \\n1997   \\n1998   \\n1999   \\n2000  \\n2001   \\n2002   \\n2003   \\n2004  \\n2005   \\n2006   \\n2007   \\n2008   \\n2009   \\n2010  \\n2011   \\n2012  \\n2013  \\n2014  \\n2015  \\n2016  \\n2017  \\n2018  \\n2019 \\n \\n \\n\")\n",
      "Error: detector_ls(\"127 128 129 – 130 – 131 132 133 \\n111-120 – 121-130 – 131-140  \\n1. öldin – 2. öldin – 3. öldin \\nÁrið 130 \\n\")\n",
      "Error: detector_ls(\"1347 1348 1349 – 1350 – 1351 1352 1353 \\n1331–1340 – 1341–1350 – 1351–1360  \\n13. öldin – 14. öldin – 15. öldin \\nÁrið 1350 \\nFædd\\nDáin\\nFædd\\nDáin\\n\")\n",
      "Error: detector_ls(\"1583 1584 1585 – 1586 – 1587 1588 1589 \\n1571–1580 – 1581–1590 – 1591–1600  \\n15. öldin – 16. öldin – 17. öldin \\nÁrið 1586 \\nFædd\\nDáin\\nFædd\\nDáin\\n\")\n",
      "Error: detector_ls(\"730–721 f.Kr. var 8. áratugur 8. aldar f.Kr.\\n\")\n"
     ]
    },
    {
     "name": "stdout",
     "output_type": "stream",
     "text": [
      "Error: detector_ls(\"Meistarakeppni kvenna í knattspyrnu er útsláttarkeppni í knattspyrnu kvenna á Íslandi á vegum KSÍ. \\nListinn er fengin af síðu KSÍ.\\n1972    \\n1992  \\n1993  \\n1994  \\n1995  \\n1996  \\n1997  \\n1998  \\n1999  \\n2000  \\n2001  \\n2002  \\n2003  \\n2004  \\n2005  \\n2006  \\n2007  \\n2008  \\n2009  \\n2010  \\n2011 \\n2012  \\n2013  \\n2014  \\n2015  \\n2016  \\n2017  \\n2018\\n\")\n"
     ]
    },
    {
     "name": "stdout",
     "output_type": "stream",
     "text": [
      "Error: detector_ls(\"Tvíflötungsgrúpa ― Í stærðfræði er talað um samhverfisgrúpur marghyrninga, sem er grúpa af öllum mögulegum samhverfum marghyrninga, þ.e.a.s. allir snúningar og speglanir sem breyta ekki stöðu marghyrningsins. Á marghyrningi með n hliðum eru n speglanir og n snúningar, þ.e.a.s. 2n samhverfislegar umbreytingar.\\nVið skilgreinum \\n  \\n    \\n      \\n        \\n           \\n          \\n            x\\n          \\n        \\n      \\n    \\n    }\\n  \\n sem snúning n-hilða marghyrning um \\n  \\n    \\n      \\n        2\\n        \\n          \\n            \\n               \\n              x\\n            \\n            n\\n          \\n        \\n      \\n    \\n    \\n  \\n radíana um miðju, og \\n  \\n    \\n      \\n        \\n           \\n          \\n            x\\n          \\n        \\n      \\n    \\n    {\\\\displaystyle \\\\beta _\\n  \\n sem speglun um línu sem snúið hefur verið \\n  \\n    \\n      \\n        \\n          \\n            \\n               \\n              x\\n            \\n            n\\n          \\n        \\n      \\n    \\n    {\\\\displaystyle }}\\n  \\n radíana um miðju. Með þessu fær maður eftirfarandi jöfnur:\\n\")\n"
     ]
    },
    {
     "name": "stdout",
     "output_type": "stream",
     "text": [
      "Error: detector_ls(\"Šiaurės Airijos futbolo varžybos 1989–1990 m.\\nŠiaurės Airijos futbolo taurė  vyksta nuo 1880 metų.\\n1880–1881    \\n1881–1882    \\n1882–1883    \\n1883–1884    \\n1884–1885    \\n1885–1886    \\n1886–1887    \\n1887–1888    \\n1888–1889    \\n1889–1890    \\n1890–1891    \\n1891–1892    \\n1892–1893    \\n1893–1894    \\n1894–1895    \\n1895–1896    \\n1896–1897    \\n1897–1898    \\n1898–1899    \\n1899–1900    \\n1900–1901    \\n1901–1902    \\n1902–1903    \\n1903–1904    \\n1904–1905    \\n1905–1906    \\n1906–1907    \\n1907–1908    \\n1908–1909    \\n1909–1910    \\n1910–1911    \\n1911–1912    \\n1912–1913    \\n1913–1914    \\n1914–1915    \\n    \\n    \\n    \\n    \\n1919–1920    \\n1920–1921    \\n1921–1922    \\n1922–1923    \\n1923–1924    \\n1924–1925    \\n1925–1926    \\n1926–1927    \\n1927–1928    \\n1928–1929    \\n1929–1930    \\n1930–1931    \\n1931–1932    \\n1932–1933    \\n1933–1934    \\n1934–1935    \\n1935–1936    \\n1936–1937    \\n1937–1938    \\n1938–1939    \\n1939–1940    \\n    \\n    \\n    \\n    \\n    \\n    \\n    \\n1947–1948    \\n1948–1949    \\n1949–1950    \\n1950–1951    \\n1951–1952    \\n1952–1953    \\n1953–1954    \\n1954–1955    \\n1955–1956    \\n1956–1957    \\n1957–1958    \\n1958–1959    \\n1959–1960    \\n1960–1961    \\n1961–1962    \\n1962–1963    \\n1963–1964    \\n1964–1965    \\n1965–1966    \\n1966–1967    \\n1967–1968    \\n1968–1969    \\n1969–1970    \\n1970–1971    \\n1971–1972    \\n1972–1973    \\n1973–1974    \\n1974–1975    \\n1975–1976    \\n1976–1977    \\n1977–1978    \\n1978–1979    \\n1979–1980    \\n1980–1981    \\n1981–1982    \\n1982–1983    \\n1983–1984    \\n1984–1985    \\n1985–1986    \\n1986–1987    \\n1987–1988    \\n1988–1989    \\n1989–1990    \\n1990–1991    \\n1991–1992    \\n1992–1993    \\n1993–1994    \\n1994–1995    \\n1995–1996    \\n1996–1997    \\n1997–1998    \\n1998–1999    \\n1999–2000    \\n2000–2001    \\n2001–2002    \\n2002–2003    \\n2003–2004    \\n2004–2005    \\n2005–2006    \\n2006–2007    \\n2007–2008    \\n2008–2009    \\n2009–2010    \\n2010–2011    \\n2011–2012   \\n2012–2013    \\n2013–2014    \\n2014–2015    \\n2015–2016    \\n2016–2017    \\n2017–2018   \\n2018–2019   \\n2019–2020   \\n2020–2021   \\n2021–2022   \\n2022–2023   \\n\")\n",
      "Error: detector_ls(\"Škotijos futbolo varžybos 1916–1917 m.\\n1873–1874    \\n1874–1875    \\n1875–1876    \\n1876–1877    \\n1877–1878    \\n1878–1879    \\n1879–1880    \\n1880–1881    \\n1881–1882    \\n1882–1883    \\n1883–1884    \\n1884–1885    \\n1885–1886    \\n1886–1887    \\n1887–1888    \\n1888–1889    \\n1889–1890    \\n1890–1891    \\n1891–1892    \\n1892–1893    \\n1893–1894    \\n1894–1895    \\n1895–1896    \\n1896–1897    \\n1897–1898    \\n1898–1899    \\n1899–1900    \\n1900–1901    \\n1901–1902    \\n1902–1903    \\n1903–1904    \\n1904–1905    \\n1905–1906    \\n1906–1907    \\n1907–1908    \\n1908–1909    \\n1909–1910    \\n1910–1911    \\n1911–1912    \\n1912–1913    \\n1913–1914    \\n1914–1915    \\n1915–1916    \\n1916–1917    \\n1917–1918    \\n1918–1919    \\n1919–1920    \\n1920–1921    \\n1921–1922    \\n1922–1923    \\n1923–1924    \\n1924–1925    \\n1925–1926    \\n1926–1927    \\n1927–1928    \\n1928–1929    \\n1929–1930    \\n1930–1931    \\n1931–1932    \\n1932–1933    \\n1933–1934    \\n1934–1935    \\n1935–1936    \\n1936–1937    \\n1937–1938    \\n1938–1939    \\n1946–1947    \\n1947–1948    \\n1948–1949    \\n1949–1950    \\n1950–1951    \\n1951–1952    \\n1952–1953    \\n1953–1954    \\n1954–1955    \\n1955–1956    \\n1956–1957    \\n1957–1958    \\n1958–1959    \\n1959–1960    \\n1960–1961    \\n1961–1962    \\n1962–1963    \\n1963–1964    \\n1964–1965    \\n1965–1966    \\n1966–1967    \\n1967–1968    \\n1968–1969    \\n1969–1970    \\n1970–1971    \\n1971–1972    \\n1972–1973    \\n1973–1974    \\n1974–1975    \\n1975–1976    \\n1976–1977    \\n1977–1978    \\n1978–1979    \\n1979–1980    \\n1980–1981    \\n1981–1982    \\n1982–1983    \\n1983–1984    \\n1984–1985    \\n1985–1986    \\n1986–1987    \\n1987–1988    \\n1988–1989    \\n1989–1990    \\n1990–1991    \\n1991–1992    \\n1992–1993    \\n1993–1994    \\n1994–1995    \\n1995–1996    \\n1996–1997    \\n1997–1998    \\n1998–1999    \\n1999–2000    \\n2000–2001    \\n2001–2002    \\n2002–2003    \\n2003–2004    \\n2004–2005    \\n2005–2006    \\n2006–2007    \\n2007–2008    \\n2008–2009    \\n2009–2010    \\n2010–2011    \\n2011–2012   \\n2012–2013    \\n2013–2014    \\n2014–2015    \\n2015–2016    \\n2016–2017    \\n2017–2018   \\n2018–2019   \\n2019–2020   \\n2020–2021   \\n2021–2022   \\n2022–2023    \\n\")\n",
      "Error: detector_ls(\"Airijos futbolo varžybos 2019 m.\\nŠaltinis; soccerway svetainė 7 \\nŠaltinis: soccerway.com; 8 \\n2019 m. rugsėjo 14 d. įvykusiame finale nugalėjo Dundalk ir iškovojo taurę.\\n1921–1922    \\n1922–1923    \\n1923–1924    \\n1924–1925    \\n1925–1926    \\n1926–1927    \\n1927–1928    \\n1928–1929    \\n1929–1930    \\n1930–1931    \\n1931–1932    \\n1932–1933    \\n1933–1934    \\n1934–1935    \\n1935–1936    \\n1936–1937    \\n1937–1938    \\n1938–1939    \\n1939–1940    \\n1940–1941    \\n1941–1942    \\n1942–1943    \\n1943–1944    \\n1944–1945    \\n1945–1946    \\n1946–1947    \\n1947–1948    \\n1948–1949    \\n1949–1950    \\n1950–1951    \\n1951–1952    \\n1952–1953    \\n1953–1954    \\n1954–1955    \\n1955–1956    \\n1956–1957    \\n1957–1958    \\n1958–1959    \\n1959–1960    \\n1960–1961    \\n1961–1962    \\n1962–1963    \\n1963–1964    \\n1964–1965    \\n1965–1966    \\n1966–1967    \\n1967–1968    \\n1968–1969    \\n1969–1970    \\n1970–1971    \\n1971–1972    \\n1972–1973    \\n1973–1974    \\n1974–1975    \\n1975–1976    \\n1976–1977    \\n1977–1978    \\n1978–1979    \\n1979–1980    \\n1980–1981    \\n1981–1982    \\n1982–1983    \\n1983–1984    \\n1984–1985    \\n1985–1986    \\n1986–1987    \\n1987–1988    \\n1988–1989    \\n1989–1990    \\n1990–1991    \\n1991–1992    \\n1992–1993    \\n1993–1994    \\n1994–1995    \\n1995–1996    \\n1996–1997    \\n1997–1998    \\n1998–1999    \\n1999–2000    \\n2000–2001    \\n2001–2002    \\n2002–2003    \\n2003    \\n2004    \\n2005    \\n2006    \\n2007    \\n2008    \\n2009    \\n2010    \\n2011   \\n2012    \\n2013    \\n2014    \\n2015    \\n2016    \\n2017    \\n2018   \\n2019   \\n2020   \\n2021   \\n2022   \\n\")\n"
     ]
    },
    {
     "name": "stdout",
     "output_type": "stream",
     "text": [
      "Error: detector_ls(\"Jasų „Politehnica“ – buvęs Rumunijos futbolo klubas iš Jasų. Nutraukė savo veiklą 2010 m.\\nKlubas įkurtas 1945 m. Išformuotas 2010 m. Namų rungtynes žaisdavo \\\"Emil Aleksandresku\\\" stadione, kuris talpino 12 500 žiūrovų.\\nLiga I:\\nLiga II:\\nLiga III:\\n1921–1922    \\n1922–1923    \\n1923–1924    \\n1924–1925    \\n1925–1926    \\n1926–1927    \\n1927–1928    \\n1928–1929    \\n1929–1930    \\n1930–1931    \\n1931–1932    \\n1932–1933    \\n1933–1934    \\n1934–1935    \\n1935–1936    \\n1936–1937    \\n1937–1938    \\n1938–1939    \\n1939–1940    \\n1940–1941    \\n1941–1942    \\n1942–1943    \\n1946–1947    \\n1947–1948    \\n1948–1949    \\n1950    \\n1951    \\n1952    \\n1953    \\n1954    \\n1955    \\n1955–1956    \\n1957–1958    \\n1958–1959    \\n1959–1960    \\n1960–1961    \\n1961–1962    \\n1962–1963    \\n1963–1964    \\n1964–1965    \\n1965–1966    \\n1966–1967    \\n1967–1968    \\n1968–1969    \\n1969–1970    \\n1970–1971    \\n1971–1972    \\n1972–1973    \\n1973–1974    \\n1974–1975    \\n1975–1976    \\n1976–1977    \\n1977–1978    \\n1978–1979    \\n1979–1980    \\n1980–1981    \\n1981–1982    \\n1982–1983    \\n1983–1984    \\n1984–1985    \\n1985–1986    \\n1986–1987    \\n1987–1988    \\n1988–1989    \\n1989–1990    \\n1990–1991    \\n1991–1992    \\n1992–1993    \\n1993–1994    \\n1994–1995    \\n1995–1996    \\n1996–1997    \\n1997–1998    \\n1998–1999    \\n1999–2000    \\n2000–2001    \\n2001–2002    \\n2002–2003    \\n2003–2004    \\n2004–2005    \\n2005–2006    \\n2006–2007    \\n2007–2008    \\n2008–2009    \\n2009–2010    \\n2010–2011    \\n2011–2012    \\n2012–2013    \\n2013–2014    \\n2014–2015    \\n2015–2016    \\n2016–2017    \\n2017–2018    \\n2018–2019   \\n2019–2020   \\n2020–2021   \\n2021–2022   \\n2022–2023    \\n\")\n",
      "Error: detector_ls(\"Ispanijos futbolo varžybos 1926 m.\\n1902    \\n1903    \\n1904    \\n1905    \\n1906    \\n1907    \\n1908    \\n1909    \\n1910    \\n1911    \\n1912    \\n1913    \\n1914    \\n1915    \\n1916    \\n1917    \\n1918    \\n1919    \\n1920    \\n1921    \\n1922    \\n1923    \\n1924    \\n1925    \\n1926    \\n1927    \\n1928    \\n1928–1929    \\n1929–1930    \\n1930–1931    \\n1931–1932    \\n1932–1933    \\n1933–1934    \\n1934–1935    \\n1935–1936    \\n1936–1937    \\n1937–1938    \\n1939    \\n1939–1940    \\n1940–1941    \\n1941–1942    \\n1942–1943    \\n1943–1944    \\n1944–1945    \\n1945–1946    \\n1946–1947    \\n1947–1948    \\n1948–1949    \\n1949–1950    \\n1950–1951    \\n1951–1952    \\n1952–1953    \\n1953–1954    \\n1954–1955    \\n1955–1956    \\n1956–1957    \\n1957–1958    \\n1958–1959    \\n1959–1960    \\n1960–1961    \\n1961–1962    \\n1962–1963    \\n1963–1964    \\n1964–1965    \\n1965–1966    \\n1966–1967    \\n1967–1968    \\n1968–1969    \\n1969–1970    \\n1970–1971    \\n1971–1972    \\n1972–1973    \\n1973–1974    \\n1974–1975    \\n1975–1976    \\n1976–1977    \\n1977–1978    \\n1978–1979    \\n1979–1980    \\n1980–1981    \\n1981–1982    \\n1982–1983    \\n1983–1984    \\n1984–1985    \\n1985–1986    \\n1986–1987    \\n1987–1988    \\n1988–1989    \\n1989–1990    \\n1990–1991    \\n1991–1992    \\n1992–1993    \\n1993–1994    \\n1994–1995    \\n1995–1996    \\n1996–1997    \\n1997–1998    \\n1998–1999    \\n1999–2000    \\n2000–2001    \\n2001–2002    \\n2002–2003    \\n2003–2004    \\n2004–2005    \\n2005–2006    \\n2006–2007    \\n2007–2008    \\n2008–2009    \\n2009–2010    \\n2010–2011    \\n2011–2012   \\n2012–2013    \\n2013–2014    \\n2014–2015    \\n2015–2016    \\n2016–2017    \\n2017–2018    \\n2018–2019   \\n2019–2020   \\n2020–2021   \\n2021–2022   \\n2022–2023   \\n\")\n"
     ]
    },
    {
     "name": "stdout",
     "output_type": "stream",
     "text": [
      "Error: detector_ls(\"Rygos LJS – buvęs tarpukario Latvijos futbolo klubas iš Rygos.\\n1921    \\n1922    \\n1923    \\n1924    \\n1925    \\n1926    \\n1927    \\n1928    \\n1929    \\n1930    \\n1931    \\n1932    \\n1933    \\n1934    \\n1935    \\n1936    \\n1937–1938    \\n1938–1939    \\n1939–1940    \\n1940–1941   \\n1942    \\n1943    \\n1944    \\n1992    \\n1993    \\n1994    \\n1995    \\n1996    \\n1997    \\n1998    \\n1999    \\n2000    \\n2001    \\n2002    \\n2003    \\n2004    \\n2005    \\n2006    \\n2007    \\n2008    \\n2009–2010    \\n2010–2011    \\n2011–2012   \\n2012–2013   \\n2013–2014   \\n2014–2015   \\n2015–2016   \\n2016–2017   \\n2017   \\n2018   \\n2019   \\n2020   \\n2021   \\n2022   \\n\")\n",
      "Error: detector_ls(\"Mis Pasaulis 1973 – 23-oji konkurso Mis Pasaulis ceremonija, vykusi Londone. Konkurso nugalėtoja tapo Marjorie Wallace iš JAV.\\n1951 • 1952 • 1953 • 1954 • 1955 • 1956 • 1957 • 1958 • 1959 • 19601961 • 1962 • 1963 • 1964 • 1965 • 1966 • 1967 • 1968 • 1969 • 19701971 • 1972 • 1973 • 1974 • 1975 • 1976 • 1977 • 1978 • 1979 • 19801981 • 1982 • 1983 • 1984 • 1985 • 1986 • 1987 • 1988 • 1989 • 19901991 • 1992 • 1993 • 1994 • 1995 • 1996 • 1997 • 1998 • 1999 • 20002001 • 2002 • 2003 • 2004 • 2005 • 2006 • 2007 • 2008 • 2009 • 20102011 • 2012 • 2013 • 2014 • 2015 • 2016 • 2017 • 2018 • 2019 • 20202021\\n\")\n"
     ]
    },
    {
     "name": "stdout",
     "output_type": "stream",
     "text": [
      "Error: detector_ls(\"\\n2023 \\n2022 \\n2021 \\n2020 \\n2019 \\n2018 \\n2017 \\n2016 \\n2015 \\n2014 \\n2013 \\n2012 \\n2011 \\n2010 \\n2009 \\n2008 \\n2007 \\n2006 \\n2005 \\n2004 \\n2003 \\n2002 \\n2001 \\n2000 \\n1999 \\n1998 \\n1997 \\n1996 \\n1995 \\n1994 \\n1993 \\n1992 \\n1991 \\n1990 \\n1989 \\n1988 \\n1987 \\n1986 \\n1985 \\n1984 \\n1983 \\n1982 \\n1981 \\n1980 \\n1979 \\n1978 \\n1977 \\n1976 \\n1975 \\n1974 \\n1973 \\n1972 \\n1971 \\n1970 \\n1969 \\n1968 \\n1967 \\n1966 \\n1965 \\n1964 \\n1963 \\n1962 \\n1961 \\n1960 \\n1959–1950 \\n1949–1940 \\n1939–1930 \\n1929–1920 \\n1919–1910 \\n1909–1900 \\n1899–1895 \\n1894–1890 \\n1889–1885 \\n1884 \\n1883–1880 \\n1879 \\n1878 \\n1877 \\n1876 \\n1875–1870 \\n1869–1865 \\n1864–1860 \\n1859–1855 \\n1854–1850 \\n1849–1845 \\n1844–1840 \\n1839–1835 \\n1834–1830 \\n1829–1825 \\n1824–1820 \\n1819–1815 \\n1814–1810 \\n1809–1805 \\n1804 \\n1803 \\n1802 \\n1801 \\n58  \\n57  \\n56  \\n55  \\n54  \\n53  \\n52  \\n51  \\n50  \\n49  \\n48  \\n47  \\n46 \\n45  \\n44  \\n43  \\n42  \\n2023 \\n2022 \\n2021 \\n2020 \\n2019 \\n2018 \\n2017 \\n2016 \\n2015 \\n2014 \\n2013 \\n2012 \\n2011 \\n2010 \\n2009 \\n2008 \\n2007 \\n2006 \\n2005 \\n2004 \\n2003 \\n2002 \\n2001 \\n2000 \\n1999 \\n2023 \\n2022 \\n2021 \\n2020 \\n2019 \\n2018 \\n2017 \\n2016 \\n2015 \\n2014 \\n2013 \\n2012 \\n2011 \\n2010 \\n2009 \\n2008 \\n2023 \\n2022 \\n2021 \\n2020 \\n2019 \\n2018 \\n2017 \\n2016 \\n2015 \\n2014 \\n2013 \\n2012 \\n2011 \\n2010 \\n2009 \\n2008 \\n2007 \\n2006 \\n2005 \\n2004 \\n2003 \\n2002 \\n2001 \\n2000 \\nThis is an incomplete list of Statutory Rules of Northern Ireland in 2008.\\n\")\n"
     ]
    },
    {
     "name": "stdout",
     "output_type": "stream",
     "text": [
      "Error: detector_ls(\"NGC 94 — Томанлыклар һәм йолдыз тупланмалары яңа гомуми каталогында теркәлгән галактика.\\nӘлеге галактика 1884 елда Франция астрономы Guillaume Bigourdan тарафыннан, яктылык җыючы элемент буларак көзге кулланучы, 30.48 см  зурлыктагы оптик телескоп ярдәмендә ачылган. 6 \\nNGC 70  \\nNGC 71  \\nNGC 72  \\nNGC 73  \\nNGC 74  \\nNGC 75  \\nNGC 76  \\nNGC 77  \\nNGC 78  \\nNGC 79  \\nNGC 80  \\nNGC 81  \\nNGC 82  \\nNGC 83  \\nNGC 84  \\nNGC 85  \\nNGC 86  \\nNGC 87  \\nNGC 88  \\nNGC 89  \\nNGC 90  \\nNGC 91  \\nNGC 92  \\nNGC 93  \\nNGC 94  \\nNGC 95  \\nNGC 96  \\nNGC 97  \\nNGC 98  \\nNGC 99  \\nNGC 100  \\nNGC 101  \\nNGC 102  \\nNGC 103  \\nNGC 104  \\nNGC 105  \\nNGC 106  \\nNGC 107  \\nNGC 108  \\nNGC 109  \\nNGC 110  \\nNGC 111  \\nNGC 112  \\nNGC 113  \\nNGC 114  \\nNGC 115  \\nNGC 116  \\nNGC 117  \\nNGC 118  \\nNGC 119\\n\")\n"
     ]
    },
    {
     "name": "stdout",
     "output_type": "stream",
     "text": [
      "Error: detector_ls(\"\\nКоординати 45°01′39″ пн. ш. 39°32′45″ сх. д.  /  45.02750000002777853° пн. ш. 39.54583333336077544° сх. д.  / 45.02750000002777853; 39.54583333336077544Координати: 45°01′39″ пн. ш. 39°32′45″ сх. д.  /  45.02750000002777853° пн. ш. 39.54583333336077544° сх. д.  / 45.02750000002777853; 39.54583333336077544\\nАвіація — хутір в Бєлорєченському районі, Краснодарський край, Росія. \\nВходить до складу Рязанського сільського поселення. \\n\")\n",
      "Error: detector_ls(\"\\nКоординати 52°26′39″ пн. ш. 18°31′26″ сх. д.  /  52.44416667002777643° пн. ш. 18.52388889002777717° сх. д.  / 52.44416667002777643; 18.52388889002777717Координати: 52°26′39″ пн. ш. 18°31′26″ сх. д.  /  52.44416667002777643° пн. ш. 18.52388889002777717° сх. д.  / 52.44416667002777643; 18.52388889002777717\\nБоґушичкі  — село в Польщі, у гміні Вежбінек Конінського повіту Великопольського воєводства.\\nУ 1975-1998 роках село належало до Конінського воєводства.\\n\")\n"
     ]
    },
    {
     "name": "stdout",
     "output_type": "stream",
     "text": [
      "Error: detector_ls(\"Координати 53°02′58″ пн. ш. 22°33′21″ сх. д.  /  53.04944444447222196° пн. ш. 22.55583333336111096° сх. д.  / 53.04944444447222196; 22.55583333336111096Координати: 53°02′58″ пн. ш. 22°33′21″ сх. д.  /  53.04944444447222196° пн. ш. 22.55583333336111096° сх. д.  / 53.04944444447222196; 22.55583333336111096\\nВнори-Випихи  — село в Польщі, у гміні Кулеше-Косьцельне Високомазовецького повіту Підляського воєводства.\\nНаселення — 122 особи .\\nУ 1975-1998 роках село належало до Ломжинського воєводства.\\nДемографічна структура станом на 31 березня 2011 року 1  2 :\\n Вікісховище має мультимедійні дані за темою: Внори-Випихи\\n.\\n\")\n"
     ]
    },
    {
     "name": "stdout",
     "output_type": "stream",
     "text": [
      "Error: detector_ls(\"\\nКоординати 51°54′58″ пн. ш. 17°44′24″ сх. д.  /  51.91611111113877541° пн. ш. 17.74000000002777711° сх. д.  / 51.91611111113877541; 17.74000000002777711Координати: 51°54′58″ пн. ш. 17°44′24″ сх. д.  /  51.91611111113877541° пн. ш. 17.74000000002777711° сх. д.  / 51.91611111113877541; 17.74000000002777711\\nКожкви  — село в Польщі, у гміні Плешев Плешевського повіту Великопольського воєводства.\\nНаселення — 306 осіб .\\nУ 1975-1998 роках село належало до Каліського воєводства.\\nДемографічна структура станом на 31 березня 2011 року 1  2 :\\n.\\n\")\n",
      "Error: detector_ls(\"\\nКоординати 51°38′ пн. ш. 19°02′ сх. д.  /  51.633° пн. ш. 19.033° сх. д.  / 51.633; 19.033Координати: 51°38′ пн. ш. 19°02′ сх. д.  /  51.633° пн. ш. 19.033° сх. д.  / 51.633; 19.033\\nКольонія-Балуч  — село в Польщі, у гміні Ласьк Ласького повіту Лодзинського воєводства.\\nУ 1975-1998 роках село належало до Серадзького воєводства.\\n\")\n",
      "Error: detector_ls(\"Координати 54°04′00″ пн. ш. 20°14′25″ сх. д.  /  54.066667000027777589821° пн. ш. 20.240278000028° сх. д.  / 54.066667000027777589821; 20.240278000028Координати: 54°04′00″ пн. ш. 20°14′25″ сх. д.  /  54.066667000027777589821° пн. ш. 20.240278000028° сх. д.  / 54.066667000027777589821; 20.240278000028\\nЛюбоміно  — село в Польщі, у гміні Любоміно Лідзбарського повіту Вармінсько-Мазурського воєводства.\\nНаселення — 1159 осіб .\\nУ 1975-1998 роках село належало до Ольштинського воєводства.\\nДемографічна структура станом на 31 березня 2011 року 1  2 :\\n.\\n\")\n"
     ]
    },
    {
     "name": "stdout",
     "output_type": "stream",
     "text": [
      "Error: detector_ls(\"\\nКоординати 52°06′49″ пн. ш. 19°13′45″ сх. д.  /  52.11380000002777280° пн. ш. 19.22940000002777694° сх. д.  / 52.11380000002777280; 19.22940000002777694Координати: 52°06′49″ пн. ш. 19°13′45″ сх. д.  /  52.11380000002777280° пн. ш. 19.22940000002777694° сх. д.  / 52.11380000002777280; 19.22940000002777694\\nҐаврони  — село в Польщі, у гміні Ленчиця Ленчицького повіту Лодзинського воєводства.\\nНаселення — 414 осіб .\\nУ 1975-1998 роках село належало до Плоцького воєводства.\\nДемографічна структура станом на 31 березня 2011 року 1  2 :\\n.\\n\")\n",
      "Error: detector_ls(\"\\nКоординати 51°28′08″ пн. ш. 18°57′13″ сх. д.  /  51.468900000027772990° пн. ш. 18.95380000002777976° сх. д.  / 51.468900000027772990; 18.95380000002777976Координати: 51°28′08″ пн. ш. 18°57′13″ сх. д.  /  51.468900000027772990° пн. ш. 18.95380000002777976° сх. д.  / 51.468900000027772990; 18.95380000002777976\\nҐуркі-Ґрабінські  — село в Польщі, у гміні Відава Ласького повіту Лодзинського воєводства.\\nНаселення — 207 осіб .\\nУ 1975-1998 роках село належало до Серадзького воєводства.\\nДемографічна структура станом на 31 березня 2011 року 1  2 :\\n.\\n\")\n",
      "Error: detector_ls(\"190-ті · 180-ті — 170-ті до н. е. — 160-ті · 150-ті\\n\")\n",
      "Error: detector_ls(\"Fortunate Son — пісня гурту Creedence Clearwater Revival, випущена 1969 року. Вийшла в альбомі Willy and the Poor Boys, а також як сингл. \\nЦя пісня потрапила до списку 500 найкращих пісень усіх часів за версією журналу Rolling Stone\\n\")\n",
      "Error: detector_ls(\"1G5V, 1MHN, 2LEH, 3S6N, 4A4E, 4A4G, 4GLI, 4NL6, 4NL7, 4QQ6\\n• GO:0001948, GO:0016582 protein binding• RNA binding• identical protein binding\\n• цитоплазма• SMN-Sm protein complex• гіалоплазма• Тільце Кахаля• Нуклеоплазма• SMN complex• Z disc• neuron projection• cytoplasmic ribonucleoprotein granule• клітинне ядро• Gemini of coiled bodies• Перикаріон• cell projection\\n• DNA-templated transcription, termination• mRNA processing• нейробіологія розвитку• spliceosomal snRNP assembly• spliceosomal complex assembly• Сплайсинг РНК• import into nucleus\\nSMN2  – білок, який кодується однойменним геном, розташованим у людей на короткому плечі 5-ї хромосоми. 3  Довжина поліпептидного ланцюга білка становить 294 амінокислот, а молекулярна маса — 31 849 4 .\\nA: Аланін\\nC: Цистеїн\\nD: Аспарагінова кислота\\nE: Глутамінова кислота\\nF: Фенілаланін\\nG: Гліцин\\nH: Гістидин\\nI: Ізолейцин\\nK: Лізин\\nL: Лейцин\\nM: Метіонін\\nN: Аспарагін\\nP: Пролін\\nQ: Глутамін\\nR: Аргінін\\nS: Серин\\nT: Треонін\\nV: Валін\\nW: Триптофан\\nКодований геном білок за функцією належить до фосфопротеїнів. \\nЗадіяний у таких біологічних процесах, як процесинг мРНК, сплайсинг мРНК, нейрогенез, ацетилювання, альтернативний сплайсинг. \\nБілок має сайт для зв'язування з РНК. \\nЛокалізований у цитоплазмі, ядрі, клітинних відростках.\\n  Портал «Біологія»   Портал «Хімія»                       \\n\")\n",
      "Error: detector_ls(\"2LT7, 3FKC, 3M4T, 3M8V, 4F6M, 4F6N\\n• methyl-CpG binding• sequence-specific DNA binding• DNA binding• GO:0001948, GO:0016582 protein binding• зв'язування з іоном металу• nucleic acid binding• GO:0001200, GO:0001133, GO:0001201 DNA-binding transcription factor activity, RNA polymerase II-specific\\n• клітинна мембрана• Ядерце• клітинне ядро• Нуклеоплазма• цитоплазма• гіалоплазма\\n• GO:0007243 intracellular signal transduction• GO:0045996 negative regulation of transcription, DNA-templated• GO:0009373 regulation of transcription, DNA-templated• Wnt signaling pathway• transcription, DNA-templated• GO:0044324, GO:0003256, GO:1901213, GO:0046019, GO:0046020, GO:1900094, GO:0061216, GO:0060994, GO:1902064, GO:0003258, GO:0072212 regulation of transcription by RNA polymerase II\\nZBTB33  – білок, який кодується однойменним геном, розташованим у людей на X-хромосомі. 3  Довжина поліпептидного ланцюга білка становить 672 амінокислот, а молекулярна маса — 74 484 4 .\\nA: Аланін\\nC: Цистеїн\\nD: Аспарагінова кислота\\nE: Глутамінова кислота\\nF: Фенілаланін\\nG: Гліцин\\nH: Гістидин\\nI: Ізолейцин\\nK: Лізин\\nL: Лейцин\\nM: Метіонін\\nN: Аспарагін\\nP: Пролін\\nQ: Глутамін\\nR: Аргінін\\nS: Серин\\nT: Треонін\\nV: Валін\\nW: Триптофан\\nКодований геном білок за функціями належить до репресорів, активаторів, фосфопротеїнів. \\nЗадіяний у таких біологічних процесах, як транскрипція, регуляція транскрипції, сигнальний шлях Wnt. \\nБілок має сайт для зв'язування з іонами металів, іоном цинку, ДНК. \\nЛокалізований у цитоплазмі, ядрі.\\n  Портал «Біологія»   Портал «Хімія»                       \\n\")\n"
     ]
    },
    {
     "name": "stdout",
     "output_type": "stream",
     "text": [
      "Error: detector_ls(\"In analisi matematica, il teorema di Rademacher afferma che, se \\n  \\n    \\n      \\n        U\\n      \\n    \\n    \\n  \\n è un sottoinsieme aperto di \\n  \\n    \\n      \\n        \\n          \\n            R\\n          \\n          \\n            n\\n          \\n        \\n      \\n    \\n     ^\\n  \\n e \\n  \\n    \\n      \\n        f\\n        :\\n        U\\n         \\n        \\n          \\n            R\\n          \\n          \\n            m\\n          \\n        \\n      \\n    \\n     ^\\n  \\n una funzione lipschitziana, allora \\n  \\n    \\n      \\n        f\\n      \\n    \\n    \\n  \\n è differenziabile quasi ovunque in \\n  \\n    \\n      \\n        U\\n      \\n    \\n    \\n  \\n, ovvero i punti in cui \\n  \\n    \\n      \\n        f\\n      \\n    \\n    \\n  \\n non è differenziabile formano un insieme di misura nulla.\\n\")\n"
     ]
    },
    {
     "name": "stdout",
     "output_type": "stream",
     "text": [
      "Error: detector_ls(\"L'experiment de Millikan  o  experiment de la gota d'oli  és un important experiment que permet determinar la càrrega elèctrica de l'electró. Rep el seu nom pel físic estatunidenc Robert Andrews Millikan, qui el va realitzar per primer cop juntament amb Harvey Fletcher el 1909. 1  2  Millikan el va perfeccionar el 1913 3  i va rebre el premi Premi Nobel de Física del 1923.\\nL'experiment consistí essencialment a fer caure gotetes d'oli, mitjançant un polvoritzador, en el si d'un camp elèctric. Algunes de les gotetes es carregaven elèctricament per efecte d'una radiació de raigs X i, donant al camp elèctric un valor apropiat, era possible d'equilibrar-ne la caiguda. Mesurant la intensitat del camp elèctric necessari per a contrarestar la força de la gravetat, el pes de la goteta, i coneixent la massa de les gotetes , Millikan observà que els valors de les càrregues elèctriques de les gotetes eren sempre múltiples enters d'una quantitat fixa, que és la càrrega elemental. El valor obtingut fou e = 1,592 4×10−19 C, només un 0,62% inferior al valor acceptat actualment e = 1,602 176 565 ×10−19 C. 4 \\nEl 1896, el físic britànic Joseph John Thomson  dugué a terme una sèrie d'experiments que indicaren que els raigs catòdics eren realment partícules úniques i no pas ones, àtoms o molècules, tal com es creia anteriorment. Thomson realitzà bones estimacions tant de la càrrega de l'electró com de la seva massa, i trobà que les partícules dels raigs catòdics –les quals anomenava «corpuscles»– tenien potser una mil·lèsima part de la massa de l'ió menys massiu conegut, l'ió hidrogen. Mostrà que la seva proporció càrrega/massa era independent del material del càtode. 5 \\nUna vegada determinada la relació càrrega/massa el problema a resoldre era evident, determinar per separat la massa i la càrrega de l'electró. La primera determinació de la càrrega de l'electró es deu al físic anglès John Sealy Edward Townsend , alumne de J.J. Thomson, que publicà el seu resultat el 1897. 6  El seu experiment consistí a mesurar dues quantitats: La càrrega total d'un nigul de vapor d'aigua format per expansió d'un gas ionitzat; i el nombre de gotes del nigul. La hipòtesi en què es basà fou suposar que cada gota s'havia condensat sobre un únic ió. Així resultava que dividint la càrrega total pel nombre de gotes  donaria el valor de la càrrega d'un d'ells. El valor obtingut per Townsend difereix en un factor 2 del valor acceptat actualment. 7 \\nAquest mètode fou modificat pel mateix J.J. Thomson i pel físic anglès Harold Albert Wilson . 8  Wilson afegí plaques a sota i a sobre el nigul de manera que podia carregar-les elèctricament i produir un camp elèctric uniforme vertical en l'espai ocupat pel nigul. La velocitat de caiguda del núvol la mesurà amb el camp elèctric i sense, i pogué calcular el valor de la càrrega a partir de l'equació de la força suposant la validesa de la llei de Stokes. 7 \\nEl físic estatunidenc Robert A. Millikan s'interessà en el problema de la determinació de la càrrega de l'electró durant una estada d'un any a Europa el 1895. L'octubre assistí a Berlín a una sèrie de lliçons sobre física teòrica impartides per Max Planck  en relació als raigs catòdics. De tornada als Estats Units passà a treballar d'assistent d'Albert Abraham Michelson  a la Universitat de Chicago. El següent any J.J. Thomson determinà la naturalesa corpuscular dels raigs catòdics. El 1906 Millikan decidí millorar el mètode de Wilson emprant unes bateries més potents, de 1600-3000 V, per produir un camp elèctric més intens entre plaques separades 5 mm. Treballant amb el seu alumne de doctorat Louis Begeman  obtingueren valors més precisos . 9  10 \\nEl 1909 Harvey Fletcher  inicià el seu doctorat amb Millikan, el qual li proposà preparar l'experiment per a la determinació de la càrrega de l'electró com a treball de la seva tesi doctoral. Observant que les gotes d'aigua s'evaporaven en menys de dos segons, Fletcher proposà la utilització d'una altra substància com mercuri, oli o altres. Millikan no hi estava d'acord però acceptà perquè era la tesi doctoral de Fletcher. A partir d'aquest moment Fletcher dissenyà una nova cambra per a realitzar les mesures amb gotetes d'oli 11  lleuger, del tipus emprat per a la lubrificació de rellotges. 12 \\nUna vegada acabat l'experiment, Fletcher redactà l'article que havien de signar Millikan i ell. Però Millikan volgué signar-lo com a únic autor, encara que citant Fletcher com a col·laborador. Les normes de la Universitat de Chicago impedien que articles signats per més d'un autor formassin part de la tesi doctoral d'un d'ells. D'aquesta manera Fletcher hagué de canviar de tesis i presentà un treball sobre el moviment brownià, mentre que Millikan es quedà amb l'autoria de l'experiment de la goteta d'oli. 11  13  1 \\nL'aparell constava de tres cambres. La més externa contenia les altres dues i estava plena de 40 l d'oli de motor per a mantenir la temperatura constant dintre les altres dues, amb fluctuacions de només 0,02 °C. La més interna constava de dues plaques de llautó circulars de 22 cm de diàmetre situades horitzontalment una damunt de l'altra i separades 1,6 cm. La superior tenia un petit forat al centre, i es carregava positivament ; la inferior no tenia forat i es carregava negativament . Entre aquestes plaques s'hi podia crear un camp elèctric uniforme, dirigit cap avall o cap amunt, d'intensitat entre 3000 i 8000 V/cm . Les plaques quedaven separades mitjançant tres petites peces d'ebonita i tot l'espai tancat amb una cinta d'ebonita, aïllant la cambra entre les plaques de l'exterior. En aquesta franja d'ebonita hi havia tres finestres de vidre, quadrades, d'1,5 cm de costat, situades a 0°, 165º i 180°. Un feix de llum estret, produït per una làmpada d'arc, entrava a través de la primera finestra i emergia a través de la darrera. L'altra finestra a 165º servia per observar, amb l'ajuda d'un curt telescopi situat a 61 cm, l'interior de la cambra. 2 \\nUn atomitzador, com els emprats en els flascons de perfums, 12  produïa petites gotetes d'oli a la part superior d'una altra cambra que contenia la cambra descrita. Les gotetes queien per efecte del camp gravitatori i, alguna d'elles, passava pel petit forat d'agulla de la placa superior. En observar-se l'entrada d'una goteta es tancava el forat per evitar corrents d'aire. La goteta seguia, ara dintre la cambra, el seu camí de caiguda cap a terra. Una font de radiació, raigs X o radi , entrant per la mateixa finestra per on entrava la llum, permetia ionitzar les molècules de l'aire , i els ions, cations o electrons, eren absorbits per la goteta d'oli. 2 \\nLa caiguda de les gotetes d'oli dintre de l'aire ve donada per la llei de Stokes, això és la velocitat de caiguda, \\n  \\n    \\n      \\n        \\n          v\\n          \\n            c\\n          \\n        \\n      \\n    \\n    }\\n  \\n, es veu condicionada per la viscositat del medi, \\n  \\n    \\n      \\n         \\n      \\n    \\n    \\n  \\n, en aquest cas aire. Aquesta velocitat es pot determinar dividint l'espai recorregut, \\n  \\n    \\n      \\n        d\\n      \\n    \\n    \\n  \\n, entre el temps de caiguda, \\n  \\n    \\n      \\n        \\n          t\\n          \\n            c\\n          \\n        \\n      \\n    \\n    {\\\\textstyle t_\\n  \\n.\\nQuan s'ionitza l'aire les gotetes absorbeixen electrons. En absència de camp elèctric segueixen caient a la mateixa velocitat, ja que les masses dels electrons són molt petites. Activant el camp elèctric entre les plaques es pot aturar la caiguda d'una goteta, igualant-se en aquest cas la força de la gravetat i la força elestrostàtica, o, si s'augmenta més la intensitat del camp elèctric hom pot fer-les pujar que, per efecte un altre cop de la llei de Stokes, és un moviment a velocitat constant. La mateixa goteta es pot fer pujar i baixar fins que xoca contra una de les plaques, i així es poden realitzar una sèrie de mesures amb la mateixa goteta. 2 \\nUn dels aspectes més destacats de la recerca de Millikan és que les gotetes quedaven carregades amb un nombre indeterminat d'electrons que no podia calcular. Amb les seves mesures anava obtenint valors de càrregues elèctriques diferents, \\n  \\n    \\n      \\n        q\\n      \\n    \\n    \\n  \\n. Millikan interpretà correctament que la càrrega elemental, \\n  \\n    \\n      \\n        e\\n      \\n    \\n    \\n  \\n, era la càrrega elèctrica de l'electró, i que havia de ser el màxim comú divisor de totes les càrregues calculades, és a dir \\n  \\n    \\n      \\n        q\\n        =\\n        n\\n        e\\n      \\n    \\n    \\n  \\n. 2 \\nMillikan aplicà la llei de Stokes per a relacionar la velocitat de caiguda, \\n  \\n    \\n      \\n        \\n          v\\n          \\n            c\\n          \\n        \\n      \\n    \\n    }\\n  \\n, de les gotetes d'oli amb la seva càrrega elèctrica \\n  \\n    \\n      \\n        q\\n      \\n    \\n    \\n  \\n. George Gabriel Stokes  determinà la força de fricció, \\n  \\n    \\n      \\n        \\n          F\\n          \\n            d\\n          \\n        \\n      \\n    \\n    }\\n  \\n, de cossos esfèrics que cauen dintre d'un medi viscós amb la velocitat del moviment, \\n  \\n    \\n      \\n        v\\n      \\n    \\n    \\n  \\n, és una força que s'oposa al moviment i que creix a mesura que creix la velocitat, les dimensions del cos i la viscositat del medi. L'equació és:\\n  \\n    \\n      \\n        \\n          F\\n          \\n            d\\n          \\n        \\n        =\\n        6\\n         \\n        a\\n         \\n        v\\n      \\n    \\n    =6\\\\pi a\\\\eta v}\\n  \\non:\\nMillikan va fer una correcció d'aquesta equació perquè les seves gotes eren molt petites i la seva fricció menor que la donada per aquesta llei, ja que durant una fracció de temps les gotetes, per les seves petites dimensions, cauen dins el buit. L'equació de Stokes és correcta per a esferes majors de 0,1 cm. La correcció de Millikan és:\\n  \\n    \\n      \\n        \\n          F\\n          \\n            d\\n          \\n        \\n        =\\n        \\n          \\n            \\n              6\\n               \\n              a\\n               \\n              v\\n            \\n            \\n              1\\n              +\\n               \\n              \\n            \\n          \\n        \\n        =\\n        \\n          \\n            \\n              6\\n               \\n              a\\n               \\n            \\n            \\n              1\\n              +\\n               \\n              \\n            \\n          \\n        \\n        v\\n        =\\n        b\\n        v\\n      \\n    \\n    =}=}v=bv}\\n  \\non \\n  \\n    \\n      \\n         \\n        =\\n        0\\n        ,\\n        817\\n      \\n    \\n    \\n  \\n i \\n  \\n    \\n      \\n        L\\n      \\n    \\n    \\n  \\n és el camí mitjà recorregut per les gotetes. 14 \\nEn el cas d'absència de camp elèctric la goteta cau per efecte del camp gravitatori terrestre que l'accelera cap a terra, i és frenada per efecte de la força de fregament de Stokes, \\n  \\n    \\n      \\n        \\n          F\\n          \\n            d\\n          \\n        \\n      \\n    \\n    }\\n  \\n. Com que la força de Stokes és proporcional a la velocitat, \\n  \\n    \\n      \\n        \\n          F\\n          \\n            d\\n          \\n        \\n        =\\n        b\\n        v\\n      \\n    \\n    =bv}\\n  \\n, augmenta fins a igualar la força de la gravetat, \\n  \\n    \\n      \\n        \\n          F\\n          \\n            g\\n          \\n        \\n        =\\n        m\\n        g\\n      \\n    \\n    =mg}\\n  \\n, i l'esfera accelera fins que assoleix una velocitat constant de caiguda, \\n  \\n    \\n      \\n        \\n          v\\n          \\n            c\\n          \\n        \\n      \\n    \\n    }\\n  \\n:\\n  \\n    \\n      \\n        b\\n        \\n          v\\n          \\n            c\\n          \\n        \\n        =\\n        m\\n        g\\n      \\n    \\n    =mg}\\n  \\nSi s'activa el camp elèctric, \\n  \\n    \\n      \\n        E\\n      \\n    \\n    \\n  \\n, per fer pujar la goteta a velocitat constant, \\n  \\n    \\n      \\n        \\n          v\\n          \\n            p\\n          \\n        \\n      \\n    \\n    }\\n  \\n, es compleix que la força que la fa pujar, la força de Coulomb, \\n  \\n    \\n      \\n        \\n          F\\n          \\n            C\\n          \\n        \\n        =\\n        q\\n        E\\n      \\n    \\n    =qE}\\n  \\n, és igual a la suma de les forces que s'oposen a fer que pugi, això és, la força de la gravetat o pes, \\n  \\n    \\n      \\n        \\n          F\\n          \\n            g\\n          \\n        \\n        =\\n        m\\n        g\\n      \\n    \\n    =mg}\\n  \\n i la força de fricció de Stokes, \\n  \\n    \\n      \\n        \\n          F\\n          \\n            d\\n          \\n        \\n        =\\n        b\\n        \\n          v\\n          \\n            p\\n          \\n        \\n      \\n    \\n    =bv_\\n  \\n:\\n  \\n    \\n      \\n        q\\n        E\\n        =\\n        m\\n        g\\n        +\\n        b\\n        \\n          v\\n          \\n            p\\n          \\n        \\n      \\n    \\n    }\\n  \\ni la goteta puja a la velocitat, \\n  \\n    \\n      \\n        \\n          v\\n          \\n            p\\n          \\n        \\n      \\n    \\n    }\\n  \\n:\\n  \\n    \\n      \\n        \\n          v\\n          \\n            p\\n          \\n        \\n        =\\n        \\n          \\n            \\n              q\\n              E\\n               \\n              m\\n              g\\n            \\n            b\\n          \\n        \\n      \\n    \\n    =}}\\n  \\nAïllant la constant \\n  \\n    \\n      \\n        b\\n      \\n    \\n    \\n  \\n de la primera equació i substituint a la darrera queda:\\n  \\n    \\n      \\n        \\n          v\\n          \\n            p\\n          \\n        \\n        =\\n        \\n          \\n            \\n              q\\n              E\\n               \\n              m\\n              g\\n            \\n            \\n              m\\n              g\\n              \\n                /\\n              \\n              \\n                v\\n                \\n                  c\\n                \\n              \\n            \\n          \\n        \\n      \\n    \\n    =}}}\\n  \\nAïllant la càrrega elèctrica de la goteta, \\n  \\n    \\n      \\n        q\\n      \\n    \\n    \\n  \\n, i posant-la en funció dels temps de caiguda, \\n  \\n    \\n      \\n        \\n          t\\n          \\n            c\\n          \\n        \\n      \\n    \\n    }\\n  \\n, i del de pujada, \\n  \\n    \\n      \\n        \\n          t\\n          \\n            p\\n          \\n        \\n      \\n    \\n    }\\n  \\n:\\n  \\n    \\n      \\n        q\\n        =\\n        \\n          \\n            \\n              m\\n              g\\n            \\n            E\\n          \\n        \\n        \\n          \\n            \\n              \\n                v\\n                \\n                  c\\n                \\n              \\n              +\\n              \\n                v\\n                \\n                  p\\n                \\n              \\n            \\n            \\n              v\\n              \\n                c\\n              \\n            \\n          \\n        \\n        =\\n        \\n          \\n            \\n              m\\n              g\\n              \\n                t\\n                \\n                  c\\n                \\n              \\n            \\n            E\\n          \\n        \\n        \\n          \\n        \\n      \\n    \\n    +v_}=\\n  \\n 15 \\nEn el cas de la caiguda sense camp elèctric, i sense considerar la correcció de la llei de Stokes feta per Millikan per simplificar aquesta demostració, es poden deduir la massa de la goteta, \\n  \\n    \\n      \\n        m\\n      \\n    \\n    \\n  \\n, i el seu radi, \\n  \\n    \\n      \\n        a\\n      \\n    \\n    \\n  \\n, a partir de la velocitat de caiguda \\n  \\n    \\n      \\n        \\n          v\\n          \\n            c\\n          \\n        \\n        =\\n        d\\n        \\n          /\\n        \\n        \\n          t\\n          \\n            c\\n          \\n        \\n      \\n    \\n    =d/t_\\n  \\n, que s'obté a partir de l'espai recorregut, \\n  \\n    \\n      \\n        d\\n      \\n    \\n    \\n  \\n, i el temps emprat, \\n  \\n    \\n      \\n        \\n          t\\n          \\n            c\\n          \\n        \\n      \\n    \\n    {\\\\textstyle t_\\n  \\n:\\n  \\n    \\n      \\n        6\\n         \\n        a\\n         \\n        \\n          v\\n          \\n            c\\n          \\n        \\n        =\\n        m\\n        g\\n        \\n         \\n        \\n        m\\n        =\\n        \\n          \\n            \\n              6\\n               \\n              a\\n               \\n              \\n                v\\n                \\n                  c\\n                \\n              \\n            \\n            g\\n          \\n        \\n      \\n    \\n    =mg\\\\quad \\\\longrightarrow \\\\quad m=\\n  \\nLa massa de la goteta, \\n  \\n    \\n      \\n        m\\n      \\n    \\n    \\n  \\n, també es pot relacionar amb la densitat de l'oli, \\n  \\n    \\n      \\n         \\n      \\n    \\n    \\n  \\n, el seu volum, \\n  \\n    \\n      \\n        V\\n      \\n    \\n    \\n  \\n, el d'una esfera, i el radi, \\n  \\n    \\n      \\n        a\\n      \\n    \\n    \\n  \\n:\\n  \\n    \\n      \\n        m\\n        =\\n         \\n        V\\n        =\\n         \\n        \\n          \\n            4\\n            3\\n          \\n        \\n         \\n        \\n          a\\n          \\n            3\\n          \\n        \\n      \\n    \\n    }\\n  \\nIgualant les dues expressions de la massa es pot aïllar el radi, \\n  \\n    \\n      \\n        a\\n      \\n    \\n    \\n  \\n, i deixar-lo en funció de paràmetres coneguts, que permeten calcular-lo:\\n  \\n    \\n      \\n         \\n        \\n          \\n            4\\n            3\\n          \\n        \\n         \\n        \\n          a\\n          \\n            3\\n          \\n        \\n        =\\n        \\n          \\n            \\n              6\\n               \\n              a\\n               \\n              \\n                v\\n                \\n                  c\\n                \\n              \\n            \\n            g\\n          \\n        \\n        \\n         \\n        \\n        a\\n        =\\n        \\n          \\n            \\n              \\n                18\\n                 \\n                \\n                  v\\n                  \\n                    c\\n                  \\n                \\n              \\n              \\n                4\\n                g\\n                 \\n              \\n            \\n          \\n        \\n        =\\n        \\n          \\n            \\n              \\n                9\\n                 \\n                \\n                  v\\n                  \\n                    c\\n                  \\n                \\n              \\n              \\n                2\\n                g\\n                 \\n              \\n            \\n          \\n        \\n      \\n    \\n    =}}\\n  \\nPer a calcular la massa, \\n  \\n    \\n      \\n        m\\n      \\n    \\n    \\n  \\n, hom pot substituir aquesta expressió del radi en l'expressió que relaciona massa, densitat i volum, i queda com:\\n  \\n    \\n      \\n        m\\n        =\\n         \\n        \\n          \\n            4\\n            3\\n          \\n        \\n         \\n        \\n          \\n            \\n          \\n          \\n            \\n              3\\n              2\\n            \\n          \\n        \\n        =\\n        \\n          \\n            4\\n            3\\n          \\n        \\n         \\n        \\n          \\n            \\n          \\n          \\n            \\n              3\\n              2\\n            \\n          \\n        \\n        \\n          \\n            \\n          \\n          \\n            \\n              1\\n              2\\n            \\n          \\n        \\n      \\n    \\n    {2}}=}\\\\pi \\\\left^}\\\\left^}}\\n  \\nSubstituint ara a la fórmula de la càrrega, \\n  \\n    \\n      \\n        q\\n      \\n    \\n    \\n  \\n, queda:\\n  \\n    \\n      \\n        q\\n        =\\n        \\n          \\n            \\n              m\\n              g\\n            \\n            E\\n          \\n        \\n        \\n          \\n            \\n              \\n                v\\n                \\n                  c\\n                \\n              \\n              +\\n              \\n                v\\n                \\n                  p\\n                \\n              \\n            \\n            \\n              v\\n              \\n                c\\n              \\n            \\n          \\n        \\n        =\\n        \\n          \\n            4\\n            3\\n          \\n        \\n         \\n        \\n          \\n            \\n          \\n          \\n            \\n              3\\n              2\\n            \\n          \\n        \\n        \\n          \\n            \\n          \\n          \\n            \\n              1\\n              2\\n            \\n          \\n        \\n        \\n          \\n            g\\n            E\\n          \\n        \\n        \\n          \\n            \\n              \\n                v\\n                \\n                  c\\n                \\n              \\n              +\\n              \\n                v\\n                \\n                  p\\n                \\n              \\n            \\n            \\n              v\\n              \\n                c\\n              \\n            \\n          \\n        \\n      \\n    \\n    +v_}=}\\\\pi \\\\left^}\\\\left^}{\\\\frac {g}+v_}}\\n  \\nI simplificant s'obté la fórmula que dona la càrrega en funció de valors coneguts que es poden mesurar a l'experiment:\\n  \\n    \\n      \\n        q\\n        =\\n        \\n          \\n            4\\n            3\\n          \\n        \\n         \\n        \\n          \\n            \\n          \\n          \\n            \\n              3\\n              2\\n            \\n          \\n        \\n        \\n          \\n            \\n          \\n          \\n            \\n              1\\n              2\\n            \\n          \\n        \\n        \\n          \\n            \\n              \\n                \\n              \\n              \\n                v\\n                \\n                  c\\n                \\n                \\n                  1\\n                  \\n                    /\\n                  \\n                  2\\n                \\n              \\n            \\n            E\\n          \\n        \\n      \\n    \\n    ^}\\n  \\n 1 \\nAlguns dels valors de l'experiment de Millikan eren: viscositat de l'aire \\n  \\n    \\n      \\n         \\n        =\\n        1\\n        ,\\n        83\\n         \\n        \\n          10\\n          \\n             \\n            5\\n          \\n        \\n        \\n        k\\n        g\\n        \\n          /\\n        \\n        m\\n         \\n        s\\n      \\n    \\n    \\\\;kg/m\\\\cdot s}\\n  \\n; densitat de l'oli \\n  \\n    \\n      \\n         \\n        =\\n        858\\n        \\n        k\\n        g\\n        \\n          /\\n        \\n        \\n          m\\n          \\n            3\\n          \\n        \\n      \\n    \\n    }\\n  \\n; espai recorregut en caiguda lliure \\n  \\n    \\n      \\n        d\\n        =\\n        0\\n        ,\\n        600\\n        \\n        c\\n        m\\n      \\n    \\n    \\n  \\n; temps de caiguda \\n  \\n    \\n      \\n        \\n          t\\n          \\n            c\\n          \\n        \\n        =\\n        21\\n        \\n        s\\n      \\n    \\n    =21\\\\;s}\\n  \\n. Aplicant les fórmules anteriors donen una valors per a la massa i el radi de les gotetes: \\n  \\n    \\n      \\n        m\\n        =\\n        1\\n        ,\\n        67\\n         \\n        \\n          10\\n          \\n             \\n            14\\n          \\n        \\n        \\n        k\\n        g\\n      \\n    \\n    \\\\;kg}\\n  \\n i \\n  \\n    \\n      \\n        a\\n        =\\n        1\\n        ,\\n        67\\n         \\n        \\n          10\\n          \\n             \\n            6\\n          \\n        \\n        \\n        m\\n        =\\n        1\\n        ,\\n        67\\n        \\n         \\n        m\\n      \\n    \\n    \\\\;m=1,67\\\\;\\\\mu m}\\n  \\n. 14 \\nA l'expressió de la càrrega Millikan també introduí la consideració que la goteta d'oli està dintre d'un fluid, l'aire, per la qual cosa experimenta un empenyiment per amunt degut al principi d'Arquimedes, la qual cosa obliga a considerar el pes aparent:\\n  \\n    \\n      \\n        m\\n        g\\n         \\n        \\n           \\n          \\n            a\\n            i\\n            r\\n            e\\n          \\n        \\n        V\\n        g\\n        =\\n         \\n        V\\n        g\\n         \\n        \\n           \\n          \\n            a\\n            i\\n            r\\n            e\\n          \\n        \\n        V\\n        g\\n        =\\n        \\n          \\n        \\n        V\\n        g\\n      \\n    \\n    Vg=\\\\rho Vg-\\\\rho _\\n  \\nAixí s'obté la fórmula donada per Millikan, substituint la densitat \\n  \\n    \\n      \\n         \\n      \\n    \\n    \\n  \\n de l'oli per \\n  \\n    \\n      \\n         \\n         \\n        \\n           \\n          \\n            a\\n            i\\n            r\\n            e\\n          \\n        \\n      \\n    \\n    }\\n  \\n:\\n  \\n    \\n      \\n        q\\n        =\\n        \\n          \\n            4\\n            3\\n          \\n        \\n         \\n        \\n          \\n            \\n          \\n          \\n            \\n              3\\n              2\\n            \\n          \\n        \\n        \\n          \\n            \\n                \\n              \\n            \\n            )\\n          \\n          \\n            \\n              1\\n              2\\n            \\n          \\n        \\n        \\n          \\n            \\n              \\n                \\n              \\n              \\n                v\\n                \\n                  c\\n                \\n                \\n                  1\\n                  \\n                    /\\n                  \\n                  2\\n                \\n              \\n            \\n            E\\n          \\n        \\n      \\n    \\n    {\\\\displaystyle q={\\\\frac {4}{3}}\\\\pi \\\\left^{\\\\frac {3}{2}}\\\\left}}\\\\right)^{\\\\frac {1}{2}}{\\\\frac {\\\\leftv_{c}^{1/2}}{E}}}\\n  \\nEl valor obtingut en els experiments inicials realitzats per Millikan i Fletcher el 1911 fou e = 4,891×10–10 Fr = 1,631×10–19 C, 2  que equival a una diferència d'un 4,8% del valor acceptat actualment. Amb les millores introduïdes per Millikan posteriorment aconseguí, el 1913, un valor de e = 4,774 ± 0,009×10–10 Fr = 1,592 ± 0,003×10–19 C, 3  només un 0,62% inferior al valor acceptat actualment e = 1,602 176 565 ×10−19 C. 4 \\nLa primavera del 1910 s'inicià l'anomenada «La batalla per l'electró» entre Millikan i un físic de la Universitat de Viena, Felix Ehrenhaft . El mateix any Ehrenhaft havia publicat 16  unes mesures sobre la càrrega elemental realitzades amb un experiment semblant al de Millikan, però emprant partícules metàl·liques, i anunciant l'existència de tota una distribució de càrregues menors que la de l'electró. Durant els següents anys, ells i els seus alumnes seguiren publicant articles on indicaven l'existència de càrregues més petites que la de l'electró, que anomenaren subelectrons. Això provocà que fos una qüestió que estava a l'ordre del dia d'alguns dels físics més importants d'aquell moment . 17  Per reforçar els seus resultats, Millikan millorà l'experiment i realitzà noves mesures més precises que confirmaven que la càrrega de l'electró era la càrrega elemental, publicant un nou article el 1913 on també calculava la constant d'Avogadro. 3  El 1916 publicà un extens article on detallava una sèrie d'errors en el procediment experimental emprat per Ehrenhaft. 18  La comunitat científica es posà majoritàriament de part de Millikan  19  i fou nominat regularment per a premi Nobel de física des de l'any 1916 fins que li fou concedit el 1923 10  pels seus treballs sobre la determinació de la càrrega elèctrica elemental i sobre l'efecte fotoelèctric. 20 \\nA partir dels quaderns de laboratori de Millikan s'ha descobert que, malgrat indicar en el seu article de 1913 que hi figuraven totes les gotes que havia estudiat durant les 9 setmanes que durà l'experiment , 58 en total, les gotes que mesurà foren unes 100. Millikan no inclogué les dades de 25 gotes perquè avortà l'experiment abans d'acabar-lo i no completà la recollida de dades, d'altres 17 no les emprà perquè considerà que hi havia hagut errors en la seva mesura: 21  gotes massa grosses, bloqueig del manòmetre amb una bombolla d'aire, interferències en els corrents de convecció, errors del cronòmetre o funcionament defectuós de l'atomitzador. Per contra Ehrenhaft, seguint el mètode científic més ortodox, presentà tots els seus resultats i no se'n podia deduir que la càrrega de l'electró fos la més petita de la natura. L'estudi dels quaderns de laboratori de Millikan feren que se l'acusés, ja a finals del segle xx, d'haver manipulat les dades. 13  19  Tanmateix, una anàlisi exhaustiva de les dades no publicades indiquen que en cap cas Millikan hauria descartat dades amb la intenció de manipular els resultats. Moltes de les dades no publicades, si les hagués emprat, donarien el mateix resultat que les publicades. 21 \\n\")\n"
     ]
    },
    {
     "name": "stdout",
     "output_type": "stream",
     "text": [
      "Error: detector_ls(\"Resultats del Gran Premi de Bèlgica de Fórmula 1 disputat la temporada 1951 al circuit de Spa Francorchamps el 17 de juny del 1951.\\n1951  \\n1952  \\n1953  \\n1954  \\n1955  \\n1956  \\n1958  \\n1960   \\n1961  \\n1962  \\n1963  \\n1964   \\n1965  \\n1966  \\n1967  \\n1968  \\n1970    \\n1972  \\n1973  \\n1974   \\n1975  \\n1976  \\n1977  \\n1978  \\n1979  \\n1980   \\n1981  \\n1982  \\n1983  \\n1984   \\n1985  \\n1986  \\n1987  \\n1988  \\n1989  \\n1990   \\n1991  \\n1992  \\n1993  \\n1994  \\n1995  \\n1996  \\n1997  \\n1998  \\n1999  \\n2000  \\n2001  \\n2002  \\n2004  \\n2005  \\n2007  \\n2008  \\n2009  \\n2010  \\n2011  \\n2012  \\n2013  \\n2014  \\n2015  \\n2016  \\n2017  \\n2018  \\n2019  \\n2020  \\n2021  \\n\")\n"
     ]
    },
    {
     "name": "stdout",
     "output_type": "stream",
     "text": [
      "Error: detector_ls(\"\\n\\\" আসুন, সৃষ্টিকর্তা আত্মা \\\"  হল একটি ঐতিহ্যবাহী খ্রিস্টীয় স্তোত্র যা নবম শতাব্দীর একজন জার্মান সাধু, সন্ন্যাসী, শিক্ষক এবং আর্চবিশপ রাবানুস্ মাউরুস্ দ্বারা লিখিত বলে বিশ্বাস করা হয়। যখন মূল লাতিন পাঠ্যটি ব্যবহার করা হয়, তখন এটি সাধারণত গ্রেগোরীয় জপপদ্ধতিতে গাওয়া হয়ে থাকে।  এটি বিভিন্ন ভাষায় অনুবাদ করা হয়েছে এবং শব্দান্তরিত করা হয়েছে এবং অনেক সঙ্গীতধর্মী ধরনে রূপান্তরিত হয়েছে, প্রায়শই পঞ্চাশত্তমী রবিবারের জন্য বা পবিত্র আত্মার উপর নিবদ্ধ করে, এমন অন্যান্য অনুষ্ঠানের জন্য একটি স্তব হিসাবে।\\nপবিত্র আত্মার আমন্ত্রণ হিসাবে, \\\"আসুন, সৃষ্টিকর্তা আত্মা\\\" ক্যাথলিক মণ্ডলীতে  পঞ্চাশত্তমী রবিবারের উৎসবে  উপাসনা উদযাপনের সময় গাওয়া হয়। এটি একটি পোপ কনক্লেভের সময় সিস্টিন চ্যাপেলে কার্ডিনালদের প্রবেশদ্বারে, সেইসাথে বিশপদের পবিত্রকরণে, যাজকদের সমন্বয়ে, নিশ্চিতকরণের ধর্মানুষ্ঠানে, গির্জার উৎসর্গে, ধর্মসভা বা পরিষদের উদযাপনের মতো অনুষ্ঠানে, রাজাদের রাজ্যাভিষেকে, বিচারিক বছরের শুরুতে লোহিত উপাসনানুষ্ঠানে, ধর্মীয় প্রতিষ্ঠানের সদস্যদের ধর্মবৃত্তিতে এবং অন্যান্য অনুরূপ গৌরবময় ঘটনায় গাওয়া হয়। পূর্ণ আনন্দ লাভের জন্য নববর্ষের দিনে এই স্তোত্র গাওয়ার ক্যাথলিক ঐতিহ্যও রয়েছে।\\nমার্টিন লুথার তার পঞ্চাশত্তমী রবিবাসরীয় কোরাল, \\\"Komm, Gott Schöpfer, Heiliger Geist\\\"কে তৈরি করেছিলেন এই স্তোত্রটির উপর ভিত্তি করে, যা প্রথম ১৫২৪ সালে প্রকাশিত হয়।\\nআসুন, সৃষ্টিকর্তা আত্মা অ্যাংগ্লিকীয় উপাসনা পদ্ধতিতেও ব্যাপকভাবে ব্যবহৃত হয়, যেখানে এটি ১৫৫০ অর্ডিনাল প্রকাশের পর থেকে আবির্ভূত হয়েছে এবং প্রদর্শিত হচ্ছে, উদাহরণস্বরূপ, সাধারণ প্রার্থনার বইয়ের অর্ডিনালে এবং সেণ্ট ঔগাস্টীনের প্রার্থনা বই  নোভেনা টু দ্য হোলি ঘোস্ট্-এ।  ১  ১৬২৫ সালে বিশপ জন কোসিন দ্বারা \\\"Come Holy Ghost, our souls inspire\\\" অনুবাদটি হয়েছিল এবং পরবর্তী সমস্ত ব্রিটিশ রাজ্যাভিষেকের জন্য ব্যবহার করা হয়েছে। আরেকটি ইংরেজি উদাহরণ হল \\\"Creator Spirit, by whose aid\\\", ১৬৯০ সালে  দ্বারা লেখা এবং দ্য চার্চ হীম্ বুক  এ প্রকাশিত।\\nএই নিবন্ধটি অনুচ্ছেদ ভাষায় লেখা হয়েছে। নিবন্ধটি যদি অনুচ্ছেদ ভাষার ব্যবহারকারীদের উদ্দেশ্যে লেখা হয়ে থাকে তবে, অনুগ্রহ করে নিবন্ধটি ঐ নির্দিষ্ট ভাষার উইকিপিডিয়াতে তৈরি করুন। অন্যান্য ভাষার উইকিপিডিয়ার তালিকা দেখুন এখানে।\\nএই স্তোত্রের অনেক বৈচিত্র আজ বিদ্যমান। নীচে মূল ৯ম শতাব্দীর মূল-পাঠ্য এবং পোপ আর্বান অষ্টমের নেতৃত্বে ১৬৩২ সালে প্রকাশিত একটি ক্লাসিসাইজ়িং রিভিশন বা ধ্রুপদীকৃত সংশোধন রয়েছে। আগেরটি কিছু প্রতিবাদী মণ্ডলী এবং কিছু রোমান-ক্যাথোলিক ধর্মীয় আদেশে ব্যবহৃত হয়, যেখানে পরবর্তীটি বেশিরভাগ ধর্মনিরপেক্ষ রোমান ক্যাথলিক প্যারিশগুলিতে ব্যবহৃত হয়ে থাকে। একটি যাচাইকৃত ইংগ্রেজী অনুবাদ অনুসরণ করা হয়েছে:@media.mw-parser-output .columns-start div.column.mw-parser-output .columns-3 div.column.mw-parser-output .columns-5 div.columnমূল লেখা ২ \\nVeni Creator Spiritus,\\nMentes tuorum visita,\\nImple superna gratia,\\nQuae tu creasti pectora.\\nQui Paraclitus diceris,\\nDonum Dei altissimi\\nFons vivus, ignis, caritas,\\nEt spiritalis unctio.\\nTu septiformis munere,\\nDexterae Dei tu digitus,\\nTu rite promissum Patris,\\nSermone ditans guttura.\\nAccende lumen sensibus:\\nInfunde amorem cordibus:\\nInfirma nostri corporis\\nVirtute firmans perpeti.\\nHostem repellas longius,\\nPacemque dones protinus:\\nDuctore sic te praevio,\\nVitemus omne noxium.\\nPer te sciamus da Patrem,\\nNoscamus atque Filium;\\nTe utriusque Spiritum\\nCredamus omni tempore.\\nGloria Patri Domino,\\nNatoque qui a mortuis\\nSurrexit, ac Paraclito,\\nIn saeculorum saecula. Amen.\\n১৬৩২ সংশোধন ২ \\nVeni Creator Spiritus,\\nMentes tuorum visita,\\nImple superna gratia,\\nQuae tu creasti pectora.\\nQui diceris Paraclitus,\\nAltissimi donum Dei,\\nFons vivus, ignis, caritas,\\nEt spiritalis unctio.\\nTu septiformis munere,\\nDigitus Paternae dexterae,\\nTu rite promissum Patris,\\nSermone ditans guttura.\\nAccende lumen sensibus:\\nInfunde amorem cordibus:\\nInfirma nostri corporis\\nVirtute firmans perpeti.\\nHostem repellas longius,\\nPacemque dones protinus:\\nDuctore sic te praevio,\\nVitemus omne noxium.\\nPer te sciamus da Patrem,\\nNoscamus atque Filium;\\nTeque utriusque Spiritum\\nCredamus omni tempore.\\nDeo Patri sit gloria,\\nEt Filio qui a mortuis\\nSurrexit, ac Paraclito,\\nIn saeculorum saecula. Amen.\\nইংরেজি অনুবাদ ৩ \\nCome, Holy Ghost, Creator blest,\\nVouchsafe within our souls to rest;\\nCome with Thy grace and heav'nly aid\\nAnd fill the hearts which Thou hast made.\\nTo Thee, the Comforter, we cry,\\nTo Thee, the Gift of God Most High,\\nThe Fount of life, the Fire of love,\\nThe soul's Anointing from above.\\nThe sev'n-fold gifts of grace are Thine,\\nO Finger of the Hand Divine;\\nTrue Promise of the Father Thou,\\nWho dost the tongue with speech endow.\\nThy light to every thought impart\\nAnd shed Thy love in every heart;\\nThe weakness of our mortal state\\nWith deathless might invigorate.\\nDrive far away our wily Foe,\\nAnd Thine abiding peace bestow;\\nIf Thou be our protecting Guide,\\nNo evil can our steps betide.\\nMake Thou to us the Father known;\\nTeach us the eternal Son to own\\nAnd Thee, whose name we ever bless,\\nOf both the Spirit, to confess.\\nPraise we the Father and the Son\\nAnd Holy Spirit, with them One;\\nAnd may the Son on us bestow\\nThe gifts that from the Spirit flow! Amen.\\nমার্টিন লুথার এটিকে পেন্টেকস্টের জন্য একটি লুথেরান স্তবক হিসেবে জার্মান ভাষায় শব্দান্তর করে লিখেছিলেন, \\\" কোম, গট শোফফার, হেইলিগার গেইস্ট \\\"  যা প্রথম প্রকাশিত হয়েছিল ১৫২৪ সালে, ল্যাটিন গান থেকে প্রাপ্ত একটি সুর সহ এই স্তোত্র গাওয়া হয়। এটি প্রোটেস্ট্যান্ট স্তোত্রটি ইভাঞ্জেলিক্যাল স্তোত্র  এ ইজি ১২৬ হিসাবে যোগ করা হয়।\\nহেনরিখ বোন ১৮৪৫ সালে তার নিজস্ব জার্মান শব্দান্তর প্রকাশ করেন, \\\" Komm, Schöpfer Geist, kehr bei uns ein \\\" , এছাড়াও তিনি সরল সুরের একটি স্বাঙ্গীকরন ব্যবহার করেন। এটি জার্মান ক্যাথলিক স্তবক গোটেসলব  এবং এর পূর্বসূরিতে ১৯৭৫ সালে যোগ করা হয়।\\nফ্রেডরিখ ডর ১৯৭২ সালে একটি ছন্দযুক্ত জার্মান অনুবাদ বা শব্দান্তর, \\\"কোম, হেইলিগার গেইস্ট, ডার লেবেন শ্যাফ্ট\\\"   প্রকাশ করেন, যা তিনি গ্রেগরিয়ান মেলোডির প্রকাশনার কাছাকাছি একটি সুরে লিখেছিলেন। এটি ১৯৭৫ সালে সাধারণ জার্মান ক্যাথলিক স্তোত্র গোটেসলব  এবং ২০১৩ সালে এর দ্বিতীয় সংস্করণে \\\"ফিংস্টেন্ট হাইলি গাগাইস\\\"  বিভাগে জিএল ৩৪২ হিসাবে সংযুক্ত করা হয়।\\n\")\n"
     ]
    },
    {
     "name": "stdout",
     "output_type": "stream",
     "text": [
      "Error: detector_ls(\"ওয়োদেফিট জেসজেশি, ওয়িদ ইন্নাত ইতয়োপ্প'ইয়া  ইথিওপিয়ার জাতীয় সঙ্গীত। এই গানের কথা দিয়েছেন \\\"ডেরেজে মেলাকু মেঙ্গেসহা\\\" এবং সুর দিয়েছেন \\\"সলোমন লুলু মিতিকু\\\"। একে ১৯৯২ সালে অবলম্বন করা হয়। ১ \\nইথিওপিয়ার প্রথম জাতীয় সঙ্গীত ছিল \\\"ইথিওপিয়া হোয় দেস ইবালিশ বেয়ামলাকিশ হাইল বেনেগোসিশ\\\"। একে ১৯৩০ থেকে ১৯৭৫ সালে পর্যন্ত জাতীয় সঙ্গীত হিসেবে ব্যবহার করা হয়েছিল। এর সুর দিয়েছিলেন \\\"কেভোরক নালবানদিয়ান\\\"। ১৯৭৫ সালে \\\"ইথিওপিয়া, ইথিওপিয়া, ইথিওপিয়া কিদেমি\\\" একে প্রতিস্থাপন করে। এর কথা দিয়েছেন \\\"আসসেফা জেব্রা-মারিয়াম তেসসামা\\\" এবং সুর দিয়েছেন \\\"ডানিয়েল ইয়োহান্নেস হাগোস\\\"। একে ১৯৭৫ থেকে ১৯৯২ সালে পর্যন্ত জাতীয় সঙ্গীত হিসেবে ব্যবহার করা হয়েছিল। ২ \\nየዜግነት ክብር በኢትዮጵያችን ፀንቶ\\nታየ ህዝባዊነት ዳር እስከዳር በርቶ\\nለሰላም ለፍትህ ለህዝቦች ነፃነት\\nበእኩልነት በፍቅር ቆመናል ባንድነት\\nመሰረተ ፅኑ ሰብዕናን ያልሻርን\\nህዝቦች ነን ለስራ በስራ የኖርን\\nድንቅ የባህል መድረክ ያኩሪ ቅርስ ባለቤት\\nየተፈጥሮ ፀጋ የጀግና ህዝብ እናት\\nእንጠብቅሻለን አለብን አደራ\\nኢትዮጵያችን ኑሪ እኛም ባንቺ እንኩራ።\\nYäzêgennät Keber Bä-Ityopp'yachen S'änto\\nTayyä Hezbawinnät Dar Eskädar Bärto.\\nLäsälam Läfeteh Lähezboch Näs'annät;\\nBä'ekkulennät Bäfeqer Qomänal Bä'andennät.\\nMäsärätä S'enu Säbe'enan Yalsharen;\\nHezboch Nän Läsera Bäsera Yänoren.\\nDenq Yäbahel Mädräk Yä'akuri Qers Baläbêt;\\nYätäfät'ro S'ägga Yä'jägna Hezb ennat;\\nEnnet'äbbeqeshallän Alläbben Adära;\\nItyopp'yachen nuri Eññam Banchi Ennekura!\\nRespect for citizenship is strong in our Ethiopia;\\nNational pride is seen, shining from one side to another.\\nFor peace, for justice, for the freedom of peoples,\\nIn equality and in love we stand united.\\nFirm of foundation, we do not dismiss humanness;\\nWe are people who live through work.\\nWonderful is the stage of tradition, mistress of a proud heritage,\\nNatural grace, mother of a valorous people.\\nWe shall protect you - we have a duty;\\nOur Ethiopia, live! And let us be proud of you!\\n.\\n.\\n.\\n.\\n.\\n.\\n.\\n.\\n.\\n.\\nEthiopian national anthem video \\nআলজেরিয়া   \\nঅ্যাঙ্গোলা   \\nবেনিন   \\nবতসোয়ানা   \\nবুর্কিনা ফাসো   \\nবুরুন্ডি   \\nক্যামেরুন   \\nকেপ ভার্দ   \\nমধ্য আফ্রিকান প্রজাতন্ত্র   \\nচাদ   \\nকোমোরোস দ্বীপপুঞ্জ   \\nগণতান্ত্রিক কঙ্গো প্রজাতন্ত্র   \\nকঙ্গো প্রজাতন্ত্র   \\nকোত দিভোয়ার   \\nজিবুতি   \\nমিশর   \\nবিষুবীয় গিনি   \\nইরিত্রিয়া   \\nইথিওপিয়া   \\nগাবন   \\nগাম্বিয়া   \\nঘানা   \\nগিনি   \\nগিনি-বিসাউ   \\nকেনিয়া   \\nলেসোথো   \\nলাইবেরিয়া   \\nলিবিয়া   \\nমাদাগাস্কার   \\nমালাউই   \\nমালি   \\nমৌরিতানিয়া   \\nমরিশাস   \\nমরোক্কো   \\nমোজাম্বিক   \\nনামিবিয়া   \\nনাইজার   \\nনাইজেরিয়া   \\nরেউনিওঁ   \\nরুয়ান্ডা   \\nসাঁউ তুমি ও প্রিন্সিপি   \\nসেনেগাল   \\nসেশেল   \\nসিয়েরা লিওন   \\nসোমালিয়া   \\nসেন্ট হেলেনা   \\nদক্ষিণ আফ্রিকা   \\nসুদান   \\nসোয়াজিল্যান্ড   \\nতানজানিয়া   \\nটোগো   \\nতিউনিসিয়া   \\nউগান্ডা   \\nজাম্বিয়া   \\nজিম্বাবুয়ে\\n\")\n"
     ]
    },
    {
     "name": "stdout",
     "output_type": "stream",
     "text": [
      "Error: detector_ls(\"Kesäolympialaiset \\n1896 •\\n1900 •\\n1904 •\\n1908 •\\n1912 •\\n1920 •\\n1924 •\\n1928 •\\n1932 •\\n1936 •\\n1948 •\\n1952 •\\n1956 •\\n1960 • \\n1964 • \\n1968 • \\n1972 • \\n1976 • \\n1980 • \\n1984 • \\n1988 • \\n1992 • \\n1996 • \\n2000 • \\n2004 • \\n2008 • \\n2012 • \\n2016 • \\n2020 • \\nTalviolympialaiset\\n1924 • \\n1928 • \\n1932 • \\n1936 • \\n1948 • \\n1952 • \\n1956 • \\n1960 • \\n1964 • \\n1968 • \\n1972 • \\n1976 • \\n1980 • \\n1984 • \\n1988 • \\n1992 • \\n1994 • \\n1998 • \\n2002 • \\n2006 • \\n2010 • \\n2014 • \\n2018 • \\n2022 • \\nRomania osallistui Berliinin kesäolympialaisiin 1936 52 urheilijan vahvuisella joukkueella jätettyään edelliset, Los Angelesin kesäolympialaiset 1932 väliin. Maan ainoan mitalin näistä olympialaisista voitti Henri Rang, joka saavutti hopeasijan esteratsastuksen yksilökilpailussa. Kisojen mitalitilastossa Romania sijoittui jaetulle 25. tilalle.\\n\")\n",
      "Error: detector_ls(\"Kesäolympialaiset \\n1896 •\\n1900 •\\n1904 •\\n1908 •\\n1912 •\\n1920 •\\n1924 •\\n1928 •\\n1932 •\\n1936 •\\n1948 •\\n1952 •\\n1956 •\\n1960 •\\n1964 •\\n1968 •\\n1972 •\\n1976 • \\n1980 • \\n1984 • \\n1988 • \\n1992 • \\n1996 • \\n2000 • \\n2004 • \\n2008 • \\n2012 • \\n2016 • \\n2020 • \\nSri Lanka osallistui kesäolympialaisiin 2016. Sitä edusti yhdeksän urheilijaa neljässä lajissa. Joukkueen lipunkantajana avajaisissa toimi kestävyysjuoksija Anuradha Cooray. 1  2 \\n\")\n"
     ]
    },
    {
     "name": "stdout",
     "output_type": "stream",
     "text": [
      "Error: detector_ls(\"Rok 1222 / MCCXXIIstulecia: XII wiek ~\\nXIII wiek ~\\nXIV wiek\\nlata: 1212 «\\n1217 «\\n1218 «\\n1219 «\\n1220 «\\n1221 «\\n1222\\n» 1223\\n» 1224\\n» 1225\\n» 1226\\n» 1227\\n» 1232\\n\")\n",
      "Error: detector_ls(\"Rok 1663 / MDCLXIIIstulecia: XVI wiek ~\\nXVII wiek ~\\nXVIII wiek\\nlata: 1653 «\\n1658 «\\n1659 «\\n1660 «\\n1661 «\\n1662 «\\n1663\\n» 1664\\n» 1665\\n» 1666\\n» 1667\\n» 1668\\n» 1673\\n\")\n",
      "Error: detector_ls(\"110 120 130 140 150 160 170 180 190 200 210\\n  \\n    \\n      \\n        \\n          13\\n          \\n            2\\n          \\n        \\n      \\n    \\n    }\\n  \\n1, 13, 169\\nCLXIX\\n10101001\\n251\\nA9\\n169  – liczba naturalna następująca po 168 i poprzedzająca 170.\\n169. dniem w roku jest 18 czerwca . Zobacz też co wydarzyło się w roku 169, oraz w roku 169 p.n.e.\\n\")\n"
     ]
    },
    {
     "name": "stdout",
     "output_type": "stream",
     "text": [
      "Error: detector_ls(\"Ciąg zbiorów – ciąg, którego elementami są zbiory; dokładniej: podzbiory pewnej przestrzeni. Podobnie jak dla ciągów liczbowych możliwe jest określenie granic dolnej i górnej, a przez to zbieżności.\\nJeżeli każdy kolejny element ciągu zawiera się w poprzednim, ciąg nazywa się zstępującym lub nierosnącym; jeżeli każdy kolejny element ciągu zawiera poprzedni, ciąg nazywa się wstępującym bądź niemalejącym; ciąg, który jest zstępujący lub wstępujący  nazywa się monotonicznym .\\nNiech dany będzie ciąg podzbiorów \\n  \\n    \\n      \\n        \\n          \\n            n\\n             \\n            \\n              N\\n            \\n          \\n        \\n      \\n    \\n     }}\\n  \\n ustalonego zbioru \\n  \\n    X\\n    X\\n  \\n nazywanego dalej przestrzenią. Zbiory dane wzorami\\nnazywa się odpowiednio granicą dolną i granicą górną ciągu \\n  \\n    \\n      \\n        \\n          \\n            n\\n          \\n        \\n        ;\\n      \\n    \\n    ;}\\n  \\n jeżeli\\nto ciąg \\n  \\n    \\n      \\n        \\n          \\n            n\\n          \\n        \\n      \\n    \\n    }\\n  \\n nazywa się zbieżnym, a zbiór wyznaczony przez tę równość nazywa się granicą tego ciągu i zapisuje \\n  \\n    \\n      \\n        \\n          lim\\n          \\n            n\\n             \\n            \\n              N\\n            \\n          \\n        \\n        \\n          A\\n          \\n            n\\n          \\n        \\n        .\\n      \\n    \\n     }A_\\n  \\nDla dowolnego ciągu \\n  \\n    \\n      \\n        \\n      \\n    \\n    \\n  \\n następujące warunki są równoważne:\\nDodatkowo dla \\n  \\n    I\\n    I\\n  \\n przebiegającego wszystkie nieskończone podzbiory liczb naturalnych zachodzi\\nz kolei dla \\n  \\n    I\\n    I\\n  \\n przebiegającego wszystkie podzbiory liczb naturalnych o dopełnieniu skończonym jest\\na ponadto\\na więc sprawdzając zbieżność, wygodnie jest niekiedy ograniczyć się do badania \\n  \\n    \\n      \\n        lim inf\\n        \\n          A\\n          \\n            n\\n          \\n        \\n        .\\n      \\n    \\n    .}\\n  \\nElement \\n  \\n    \\n      \\n        x\\n         \\n        lim sup\\n        \\n          A\\n          \\n            n\\n          \\n        \\n      \\n    \\n    }\\n  \\n wtedy i tylko wtedy, gdy \\n  \\n    \\n      \\n        x\\n         \\n        \\n          A\\n          \\n            n\\n          \\n        \\n      \\n    \\n    {\\\\displaystyle x\\\\in A_\\n  \\n dla nieskończenie wielu wartości \\n  \\n    n\\n    n\\n  \\n; z kolei \\n  \\n    \\n      \\n        x\\n         \\n        lim inf\\n        \\n          A\\n          \\n            n\\n          \\n        \\n      \\n    \\n    {\\\\displaystyle x\\\\in \\\\liminf A_\\n  \\n wtedy i tylko wtedy, gdy \\n  \\n    \\n      \\n        x\\n         \\n        \\n          A\\n          \\n            n\\n          \\n        \\n      \\n    \\n    {\\\\displaystyle x\\\\in A_\\n  \\n dla wszystkich poza skończenie wieloma wartościami \\n  \\n    n\\n    n\\n  \\n; innymi słowy\\na ponadto \\n  \\n    \\n      \\n        \\n          \\n            \\n              c\\n            \\n          \\n        \\n        =\\n        lim sup\\n        \\n          A\\n          \\n            n\\n          \\n          \\n            \\n              c\\n            \\n          \\n        \\n      \\n    \\n     }=\\\\limsup A_{n}^}\\n  \\n oraz \\n  \\n    \\n      \\n        \\n          \\n            \\n              c\\n            \\n          \\n        \\n        =\\n        lim inf\\n        \\n          A\\n          \\n            n\\n          \\n          \\n            \\n              c\\n            \\n          \\n        \\n      \\n    \\n     }=\\\\liminf A_{n}^}\\n  \\n, gdzie \\n  \\n    \\n      \\n        \\n          A\\n          \\n            \\n              c\\n            \\n          \\n        \\n      \\n    \\n    {\\\\displaystyle A^}\\n  \\n oznacza dopełnienie zbioru \\n  \\n    \\n      A\\n      .\\n    \\n    A.\\n  \\nCiąg \\n  \\n    \\n      \\n        \\n      \\n    \\n    \\n  \\n nazywa się nierosnącym lub zstępującym, jeżeli \\n  \\n    \\n      \\n        \\n          A\\n          \\n            n\\n            +\\n            1\\n          \\n        \\n         \\n        \\n          A\\n          \\n            n\\n          \\n        \\n      \\n    \\n    \\\\subseteq A_\\n  \\n oraz niemalejącym bądź wstępującym, jeżeli \\n  \\n    \\n      \\n        \\n          A\\n          \\n            n\\n          \\n        \\n         \\n        \\n          A\\n          \\n            n\\n            +\\n            1\\n          \\n        \\n      \\n    \\n    \\\\subseteq A_\\n  \\n dla każdego \\n  \\n    \\n      n\\n       \\n      \\n        \\n          N\\n        \\n      \\n      .\\n    \\n    n\\\\in  }.\\n  \\n O takich ciągach mówi się zbiorczo: monotoniczne i jako takie są one zbieżne, przy czym jeśli \\n  \\n    \\n      \\n        \\n      \\n    \\n    \\n  \\n jest nierosnący , to\\na jeżeli \\n  \\n    \\n      \\n        \\n      \\n    \\n    \\n  \\n jest niemalejący , to\\nGranice \\n  \\n    \\n      \\n        lim sup\\n        \\n          A\\n          \\n            n\\n          \\n        \\n      \\n    \\n    }\\n  \\n oraz \\n  \\n    \\n      \\n        lim inf\\n        \\n          A\\n          \\n            n\\n          \\n        \\n      \\n    \\n    {\\\\displaystyle \\\\liminf A_\\n  \\n można uważać za „te zdarzenia \\n  \\n    \\n      \\n        \\n          A\\n          \\n            n\\n          \\n        \\n        ,\\n      \\n    \\n    ,}\\n  \\n które zachodzą nieskończenie często” oraz „te zdarzenia \\n  \\n    \\n      \\n        \\n          A\\n          \\n            n\\n          \\n        \\n        ,\\n      \\n    \\n    ,}\\n  \\n które w końcu będą zawsze zachodzić”; zawieranie \\n  \\n    \\n      \\n        lim inf\\n        \\n          A\\n          \\n            n\\n          \\n        \\n         \\n        lim sup\\n        \\n          A\\n          \\n            n\\n          \\n        \\n      \\n    \\n    \\\\subseteq \\\\limsup A_\\n  \\n oznacza więc, że „zdarzenia \\n  \\n    \\n      \\n        \\n          A\\n          \\n            n\\n          \\n        \\n        ,\\n      \\n    \\n    ,}\\n  \\n które ostatecznie zawsze zajdą, zachodzą nieskończenie często”, skąd granicę \\n  \\n    \\n      \\n        lim\\n        \\n          A\\n          \\n            n\\n          \\n        \\n      \\n    \\n    {\\\\displaystyle \\\\lim A_\\n  \\n można rozumieć jako żądanie, by „te ze zdarzeń \\n  \\n    \\n      \\n        \\n          A\\n          \\n            n\\n          \\n        \\n        ,\\n      \\n    \\n    ,}\\n  \\n które zachodzą nieskończenie często, ostatecznie zawsze zachodziły”.\\nW topologii ciągi zbiorów zstępujących służą charakteryzacji metryzowalnych przestrzeni zwartych i metrycznych przestrzeni zupełnych .\\n\")\n"
     ]
    },
    {
     "name": "stdout",
     "output_type": "stream",
     "text": [
      "Error: detector_ls(\"W topologii algebraicznej twierdzenie o aproksymacji symplicjalnej mówi, że dowolne przekształcenie ciągłe między realizacjami kompleksów symplicjalnych da się dobrze przybliżyć przez odwzorowanie symplicjalne.\\nGwiazdą wokół wierzchołka dla danego wierzchołka \\n  \\n    \\n      \\n        s\\n      \\n    \\n    \\n  \\n kompleksu symplicjalnego \\n  \\n    \\n      \\n        K\\n      \\n    \\n    \\n  \\n nazywamy podkompleks składający się z wszystkich simpleksów \\n  \\n    \\n      \\n        K\\n        ,\\n      \\n    \\n    \\n  \\n które zawierają wierzchołek \\n  \\n    \\n      \\n        s\\n        .\\n      \\n    \\n    \\n  \\n Gwiazdę wokół wierzchołka \\n  \\n    \\n      \\n        s\\n      \\n    \\n    \\n  \\n oznaczamy \\n  \\n    \\n      \\n        S\\n        t\\n        \\n        .\\n      \\n    \\n    \\n  \\nAproksymajcą symplicjalną funkcji ciągłej \\n  \\n    \\n      \\n        g\\n         \\n        \\n          |\\n        \\n        K\\n        \\n          |\\n        \\n         \\n        \\n          |\\n        \\n        L\\n        \\n          |\\n        \\n      \\n    \\n    {\\\\displaystyle g\\\\colon |K|\\\\to |L|}\\n  \\n nazywamy takie odwzorowanie symplicjalne \\n  \\n    \\n      \\n        f\\n         \\n        K\\n         \\n        L\\n      \\n    \\n    {\\\\displaystyle f\\\\colon K\\\\to L}\\n  \\n \\n      \\n    \\n    {\\\\displaystyle f, że spełniony jest następujący warunek:\\nNiech \\n  \\n    \\n      \\n        K\\n      \\n    \\n    \\n  \\n będzie skończonym kompleksem symplicjalnym, a \\n  \\n    \\n      \\n        f\\n         \\n        \\n          |\\n        \\n        K\\n        \\n          |\\n        \\n         \\n        \\n          |\\n        \\n        L\\n        \\n          |\\n        \\n      \\n    \\n    \\n  \\n odwzorowaniem ciągłym. Wówczas istnieje takie \\n  \\n    \\n      \\n        n\\n         \\n        0\\n      \\n    \\n    \\n  \\n oraz odwzorowanie symplicjalne \\n  \\n    \\n      \\n        g\\n         \\n        \\n          K\\n          \\n            \\n          \\n        \\n         \\n        L\\n      \\n    \\n    \\\\to L}\\n  \\n będące aproksymacją symplicjalną \\n  \\n    \\n      \\n        f\\n        ,\\n      \\n    \\n    \\n  \\n gdzie \\n  \\n    \\n      \\n        \\n          K\\n          \\n            \\n          \\n        \\n      \\n    \\n    }\\n  \\n jest \\n  \\n    \\n      \\n        n\\n      \\n    \\n    \\n  \\n-tym podziałem barycentrycznym kompleksu \\n  \\n    \\n      \\n        K\\n        .\\n      \\n    \\n    \\n  \\nJeśli \\n  \\n    \\n      \\n        K\\n      \\n    \\n    \\n  \\n jest kompleksem symplicjalnym o wymiarze \\n  \\n    \\n      \\n        n\\n        ,\\n      \\n    \\n    \\n  \\n a \\n  \\n    \\n      \\n        L\\n      \\n    \\n    \\n  \\n jest kompleksem symplicjalnym o wymiarze \\n  \\n    \\n      \\n        m\\n      \\n    \\n    \\n  \\n oraz \\n  \\n    \\n      \\n        n\\n        <\\n        m\\n        ,\\n      \\n    \\n    \\n  \\n to z twierdzenia o aproksymacji symplicjalnej wynika, że dla dowolnej ciągłej funkcji \\n  \\n    \\n      \\n        f\\n         \\n        \\n          |\\n        \\n        K\\n        \\n          |\\n        \\n         \\n        \\n          |\\n        \\n        L\\n        \\n          |\\n        \\n      \\n    \\n    \\n  \\n istnieje homotopijne z nią odwzorowanie \\n  \\n    \\n      \\n        g\\n        ,\\n      \\n    \\n    \\n  \\n które nie jest suriekcją. W szczególności, wszystkie funkcje ciągłe \\n  \\n    \\n      \\n        \\n          S\\n          \\n            n\\n          \\n        \\n         \\n        \\n          S\\n          \\n            m\\n          \\n        \\n      \\n    \\n    \\\\to S^\\n  \\n dla \\n  \\n    \\n      \\n        n\\n        <\\n        m\\n      \\n    \\n    \\n  \\n są nieistotne , bo ich obraz zawiera się w pewnej sferze z wyjętym punktem, a ta jest ściągalna.\\n\")\n"
     ]
    },
    {
     "name": "stdout",
     "output_type": "stream",
     "text": [
      "Error: detector_ls(\"Als cantorsches Produkt bezeichnet man in der Analysis ein unendliches Produkt, dessen Glieder aus rationalen Zahlen der Form \\n  \\n    \\n      \\n        1\\n        +\\n        \\n          \\n            \\n              1\\n              q\\n            \\n          \\n        \\n      \\n    \\n    \\n  \\n bestehen, wobei die darin auftretenden Nenner stets natürliche Zahlen sind und zudem immer so beschaffen, dass der Nenner \\n  \\n    \\n      q\\n      \\n        n\\n        +\\n        1\\n      \\n    \\n    q_\\n  \\n des \\n  \\n    \\n      n\\n      +\\n      1\\n    \\n    n+1\\n  \\n-ten Gliedes \\n  \\n    \\n      \\n    \\n    \\n  \\n stets mindestens so groß ist wie das Quadrat des zum vorangehenden  \\n  \\n    n\\n    n\\n  \\n-ten Glied gehörigen Nenners \\n  \\n    \\n      q\\n      \\n        n\\n      \\n    \\n    q_\\n  \\n  1  2 \\nDie cantorschen Produkte wurden von Georg Cantor in einer Arbeit aus dem Jahre 1869 eingeführt. Wie Cantor darin zeigte, lässt sich jede beliebige reelle Zahl \\n  \\n    \\n      \\n        \\n           \\n        \\n        \\n          0\\n        \\n      \\n      >\\n      1\\n    \\n    _>1\\n  \\n in Form eines cantorschen Produkts darstellen. Grundlegend für Cantors Darlegungen ist dabei die auf Leonhard Euler zurückgehende eulersche Produktgleichung\\nwelche für alle reellen  Zahlen \\n  \\n    x\\n    x\\n  \\n des Betrags \\n  \\n    \\n      \\n        |\\n      \\n      x\\n      \\n        |\\n      \\n      <\\n      1\\n    \\n    |x|<1\\n  \\n Gültigkeit hat. 3 \\nCantors Satz über die cantorschen Produkte lässt sich zusammengefasst wie folgt darstellen:\\nDie Zahlenfolge \\n  \\n    \\n      \\n        \\n          n\\n           \\n          \\n            \\n              N\\n            \\n            \\n              0\\n            \\n          \\n        \\n      \\n    \\n    _ _\\n  \\n lässt sich ausgehend von \\n  \\n    \\n      \\n        \\n           \\n        \\n        \\n          0\\n        \\n      \\n      >\\n      1\\n    \\n    _>1\\n  \\n wie folgt induktiv festlegen: 1 \\n\")\n"
     ]
    },
    {
     "name": "stdout",
     "output_type": "stream",
     "text": [
      "Error: detector_ls(\"Übersicht◄◄ | ◄ | 178 | 179 | 180 | 181 | Liste der Staatsoberhäupter 182 | 183 | 184 | 185 | 186 | ► | ►►\\nWeitere Ereignisse\\n\")\n"
     ]
    },
    {
     "name": "stdout",
     "output_type": "stream",
     "text": [
      "Error: detector_ls(\"\\nSpanien nahm an den Olympischen Winterspielen 1952 in der norwegischen Hauptstadt Oslo mit vier männlichen Athleten teil.\\nSeit 1936 war es die dritte Teilnahme eines spanischen Teams bei Olympischen Winterspielen.\\nHerren:\\nArgentinien •\\nChile •\\nKanada •\\nVereinigte Staaten\\nJapan •\\nLibanon\\nBelgien •\\nBulgarien •\\nBundesrepublik Deutschland •\\nDänemark •\\nFinnland •\\nFrankreich •\\nGriechenland •\\nGroßbritannien •\\nIsland •\\nItalien •\\nJugoslawien •\\nNiederlande •\\nNorwegen •\\nÖsterreich •\\nPolen •\\nPortugal •\\nRumänien •\\nSchweden •\\nSchweiz •\\nSpanien •\\nTschechoslowakei •\\nUngarn\\nAustralien •\\nNeuseeland\\n1900 •\\n1904 •\\n1908 •\\n1912 •\\n1920 •\\n1924 •\\n1928 •\\n1932 •\\n1936 •\\n1948 •\\n1952 •\\n19561 •\\n1960 •\\n1964 •\\n1968 •\\n1972 •\\n1976 •\\n1980 •\\n1984 •\\n1988 •\\n1992 •\\n1996 •\\n2000 •\\n2004 •\\n2008 •\\n2012 •\\n2016 •\\n2020\\n1936 •\\n1948 •\\n1952 •\\n1956 •\\n1960 •\\n1964 •\\n1968 •\\n1972 •\\n1976 •\\n1980 •\\n1984 •\\n1988 •\\n1992 •\\n1994 •\\n1998 •\\n2002 •\\n2006 •\\n2010 •\\n2014 •\\n2018 •\\n2022\\n2010 •\\n2014 •\\n2018\\n2012 •\\n2016 •\\n2020\\nFahnenträger •\\nMedaillengewinner\\n\")\n"
     ]
    },
    {
     "name": "stdout",
     "output_type": "stream",
     "text": [
      "Error: detector_ls(\"Ecce index asteroidum qui numeri ex 77001 ad 78000 habent.\\nVide omnes indices asteroidum in Index Asteroidum.\\n77001... 77101... 77201... 77301... 77401... 77501... 77601... 77701... 77801... 77901... \\n\")\n"
     ]
    },
    {
     "name": "stdout",
     "output_type": "stream",
     "text": [
      "Error: detector_ls(\"През 1929 се провежда 5-ия сезон на Държавното първенство по футбол на България. В първенството участват победителите от отделните окръжни спортни области на страната. Играе се по системата на директни елиминации в един мач. При равенство се назначава допълнително време, а при ново равенство - мачът се преиграва на следващия ден на същото място. Финалът се провежда в София. На победителя се връчва и Царската купа.\\nТова са победителите от Окръжните спортни области:\\nБотев :\\nЕмин Мехмедов, Георги Бечиров, Андон Стоянов, Найден Радомиров, Александър Касъров, Михаил Костов, Вангел Каунджиев - Ченгеля, Димитър Лафчиев, Никола Щерев - Старика , Станчо Проданов - Зигото, Янко Самоковлиев, Кирил Радомиров, Михаил Дичев, Георги Бояджиев, Драгомир Бояджиев, Ангел Иванов, Никола Тодоров, Иван Петров.\\n1924 •\\n1925 •\\n1926 •\\n1927 •\\n1928 •\\n1929 •\\n1930 •\\n1931 •\\n1932 •\\n1933 •\\n1934 •\\n1935 •\\n1936 •\\n1937 •\\n1937/38 •\\n1938/39 •\\n1939/40 •\\n1941 •\\n1942 •\\n1943 •\\n1944 •\\n1945 •\\n1946 •\\n1947 •\\n1948 •\\n1948/49 •\\n1950 •\\n1951 •\\n1952 •\\n1953 •\\n1954 •\\n1955 •\\n1956 •\\n1957 •\\n1958 •\\n1958/59 •\\n1959/60 •\\n1960/61 •\\n1961/62 •\\n1962/63 •\\n1963/64 •\\n1964/65 •\\n1965/66 •\\n1966/67 •\\n1967/68 •\\n1968/69 •\\n1969/70 •\\n1970/71 •\\n1971/72 •\\n1972/73 •\\n1973/74 •\\n1974/75 •\\n1975/76 •\\n1976/77 •\\n1977/78 •\\n1978/79 •\\n1979/80 •\\n1980/81 •\\n1981/82 •\\n1982/83 •\\n1983/84 •\\n1984/85 •\\n1985/86 •\\n1986/87 •\\n1987/88 •\\n1988/89 •\\n1989/90 •\\n1990/91 •\\n1991/92 •\\n1992/93 •\\n1993/94 •\\n1994/95 •\\n1995/96 •\\n1996/97 •\\n1997/98 •\\n1998/99 •\\n1999/00 •\\n2000/01 •\\n2001/02 •\\n2002/03 •\\n2003/04 •\\n2004/05 •\\n2005/06 •\\n2006/07 •\\n2007/08 •\\n2008/09 •\\n2009/10 •\\n2010/11 •\\n2011/12 •\\n2012/13 •\\n2013/14 •\\n2014/15 •\\n2015/16 •\\n2016/17 •\\n2017/18 •\\n2018/19 •\\n2019/20 •\\nВтора професионална футболна лига      Трета аматьорска футболна лига     Областни аматьорски футболни групи     Елитна юношеска група     Армейско първенство \\n\")\n"
     ]
    },
    {
     "name": "stdout",
     "output_type": "stream",
     "text": [
      "Error: detector_ls(\"Evenimente     Nașteri     Decese\\n◄   \\nSecolul X\\n◄ Secolul XI ►\\nSecolul XII   \\n►\\n◄   \\nAnii 1010   \\nAnii 1020\\n◄ Anii 1030 ►\\nAnii 1040   \\nAnii 1050   \\n►\\n◄◄   \\n◄   \\n1026   \\n1027   \\n1028   \\n1029   \\n1030\\n◄ 1031 ►\\n1032   \\n1033   \\n1034   \\n1035   \\n1036   \\n►   \\n►►\\nCronologie tematică: Conducători de stat     Astronomie     Cinematografie     Informatică    Jocuri video     Literatură     Muzică     Sport     Știință     SF     Zborul spațial\\n\")\n"
     ]
    },
    {
     "name": "stdout",
     "output_type": "stream",
     "text": [
      "Error: detector_ls(\"1899 - 1900 - 1901 - 1902 - 1903 - 1904 - 1905 - 1906 - 1907\\nAceasta este o listă a conducătorilor de stat din anul 1903:\\n\")\n"
     ]
    },
    {
     "name": "stdout",
     "output_type": "stream",
     "text": [
      "Error: detector_ls(\"Η Έμιλι Γουάτσον  είναι Αγγλίδα ηθοποιός. Ήταν υποψήφια για Όσκαρ Α' Γυναικείου Ρόλου για τον ρόλο της ως Μπες ΜακΝιλ στην ταινία του Λαρς Βον Τρίερ Δαμάζοντας τα κύματα  και για τον ρόλο της ως Ζακλίν ντυ Πρε στην ταινία Χίλαρυ και Τζάκι , κερδίζοντας το Βραβείο BIFA για την δεύτερη. Κέρδισε το BAFTA Α' Γυναικείου Ρόλου για τον ρόλο της ως Janet Leach στην σειρά του 2011 Appropriate Adult η οποία προβλήθηκε στο ITV. 1 \\nΗ Γουάτσον ξεκίνησε την καριέρα της από το θέατρο και το 1992 έγινε μέλος της Royal Shakespeare Company. Πρωταγωνίστησε το 2002 στις παραγωγές της Donmar Warehouse Twelfth Night και Uncle Vanya, και ήταν υποψήφια για το Βραβείο Ολίβιε Α' Γυναικείου Ρόλου για την δεύτερη ταινία. Στις άλλες ταινίες της συμπεριλαμβάνονται οι The Boxer , Angela's Ashes , Gosford Park , Punch-Drunk Love , Red Dragon , The Life and Death of Peter Sellers, Corpse Bride , Miss Potter , Synecdoche, New York , Oranges and Sunshine , War Horse , The Theory of Everything  και Kingsman: The Golden Circle .\\nΗ Γουάτσον γεννήθηκε στο Ίσλινγκτον. Ο πατέρας της, Ρίτσαρντ Γουάτσον, ήταν αρχιτέκτονας και η μητέρα της, Καταρίνε, ήταν καθηγήτρια αγγλικών στο St David's Girls' School στο δυτικό Λονδίνο. Ανατράφηκε ως αγγλικανή. Η Γουάτσον έχει περιγράψει τον εαυτό της ως ένα όμορφο παιδί της μεσαίας αγγλικής τάξης ... Θα ήθελα να πω πως ήμουν μια επαναστάτρια έφηβη αλλά δεν ήμουν.\\nΗ Γουάτσον εκπαιδεύτηκε σε ανεξάρτητα σχολεία του δυτικού Λονδίνου, τα οποία την χαρακτήρισαν ως \\\"προοδευτική\\\". Φοίτησε στο Πανεπιστήμιο του Μπρίστολ από όπου έλαβε πτυχίο αγγλικής φιλολογίας το 1988. Μετά το πανεπιστήμιο, σπούδασε υποκριτική στο London Drama Studio. 2  Το 2003 έκανε ένα μεταπτυχιακό στο Πανεπιστήμιο Μπρίστολ.\\nΗ καριέρα της Γουάτσον ξεκίνησε στο θέατρο. Οι θεατρικές επιτυχίες της περιλαμβάνουν τις παραστάσεις The Children's Hour , Three Sisters, Much Ado About Nothing και The Lady from the Sea. Η Γουάτσον έχει επίσης συνεργαστεί με την Royal Shakespeare Company στις παραστάσεις A Jovial Crew, The Taming of the Shrew, All's Well That Ends Well και The Changeling. Το 2002, σταμάτησε προσωρινά την καριέρα της στον κινηματογράφο για να παίξει στις παραστάσεις του Σαμ Μέντες Uncle Vanya και Twelfth Night, πρώτα στο Donmar Warehouse του Λονδίνου και αργότερα στην Ακαδημία Μουσικής του Μπρούκλιν. Η ερμηνεία της έλαβε αρκετά θετικές κριτικές και από τις δυο πλευρές του Ατλαντικού και της χάρισε μια υποψηφιότητα για Βραβείο Ολίβιε για τη παράσταση Uncle Vanya.\\nΗ Γουάτσον υποστηρίζει ενεργά τον φιλανθρωπικό οργανισμό για τα παιδιά NSPCC. Το 2004 ξεκίνησε στην Αγγλία μια εκστρατεία για τον διορισμό ενός Επιτρόπου για τα παιδιά. Στην τελετή λήψης ενός βραβείου στην πολυπληθή Βουλή των Κοινοτήτων, εκφράστηκε ενάντια στην πιθανότητα ύπαρξης ενός Επιτρόπου για τα παιδιά ο οποίος να είναι μια φιγούρα με μικρή πραγματική δύναμη. Η Γουάτσον αποτελεί μια από τους προστάτες του φιλανθρωπικού οργανισμού για τα παιδιά Scene & Heard, ο οποίος εδρεύει στο Λονδίνο.\\nΗ Γουάτσον παντρεύτηκε τον Jack Waters, τον οποίο είχε συναντήσει στο Royal Shakespeare Company το 1995. Η κόρη τους Τζούλιετ γεννήθηκε το φθινόπωρο του 2005 και ο γιος τους Ντύλαν το 2009. Κατοικούν στο Γκρήνουιτς του Λονδίνου. Η μητέρα της αρρώστησε με εγκεφαλίτιδα λίγο προτού ξεκινήσουν τα γυρίσματα για την ταινία Oranges and Sunshine. Η Γουάτσον επέστρεψε στο Λονδίνο αλλά έφτασε λίγο μετά τον θάνατό της.\\nEuropean Film Award for Best Actress\\nEvening Standard British Film Award for Most Promising Newcomer\\nFort Lauderdale International Film Festival President Award for Best Actress\\nLondon Film Critics' Award for Best British Newcomer of the Year\\nLos Angeles Film Critics Association's New Generation Award\\nNational Society of Film Critics Award for Best Actress\\nNew York Film Critics Circle Award for Best Actress\\nRobert Award for Best Actress\\nNominated – Academy Award for Best Actress\\nNominated – BAFTA Award for Best Actress in a Leading Role\\nNominated – Chicago Film Critics Association Award for Best Actress\\nNominated – Chicago Film Critics Association Award for Most Promising Actress\\nNominated – Golden Globe Award for Best Actress - Motion Picture Drama\\nNominated – London Film Critics' Award for Best British Actress of the Year\\nNominated – Satellite Award for Best Actress - Motion Picture Drama\\nLondon Film Critics' Award for Best British Actress of the Year \\nNominated – Academy Award for Best Actress\\nNominated – BAFTA Award for Best Actress in a Leading Role\\nNominated – Chicago Film Critics Association Award for Best Actress\\nNominated – Golden Globe Award for Best Actress - Motion Picture Drama\\nNominated – Online Film Critics Society Award for Best Actress\\nNominated – Satellite Award for Best Actress - Motion Picture Drama\\nNominated – Screen Actors Guild Award for Outstanding Performance by a Female Actor in a Leading Role\\nNominated – BAFTA Award for Best Actress in a Leading Role\\nNominated – IFTA Award for Best Actress\\nNominated – London Film Critics' Award for Best British Actress of the Year\\nFlorida Film Critics Circle Award for Best Cast\\nOnline Film Critics Society Award for Best Cast\\nSatellite Award for Best Cast – Motion Picture\\nScreen Actors Guild Award for Outstanding Performance by a Cast in a Motion Picture\\nNominated – European Film Awards Audience Award for Best Actress\\nNominated – Phoenix Film Critics Society Award for Best Cast\\nNominated – Satellite Award for Best Actress – Motion Picture Musical or Comedy\\nNominated – MTV Movie Award for Best Kiss \\nNominated – Vancouver Film Critics Circle Award for Best Supporting Actress\\nLondon Film Critics' Award for Best British Supporting Actress of the Year\\nNominated – Saturn Award for Best Supporting Actress\\nNominated – Empire Award for Best Actress\\nNominated – Satellite Award for Best Supporting Actress – Series, Miniseries or Television Film\\nNominated – London Film Critics' Award for Best British Supporting Actress of the Year\\nIndependent Spirit Award's Robert Altman Award\\nNominated – Satellite Award for Best Actress - Motion Picture\\nGolden Nymph for Outstanding Actress in a Miniseries\\nRTS Television Award for Best Actor \\nNominated – Critics' Choice Television Award for Best Movie/Miniseries Actress\\nNominated – Golden Globe Award for Best Actress – Miniseries or Television Film\\nNominated – Screen Actors Guild Award for Outstanding Performance by a Female Actor in a Miniseries or Television Movie\\n\")\n"
     ]
    },
    {
     "name": "stdout",
     "output_type": "stream",
     "text": [
      "Error: detector_ls(\"To μεθυλυδροϋπεροξείδιο  ή μεθυλοδιοξειδάνιο ή υδροϋπεροξυμεθάνιο είναι οργανική χημική ένωση, που περιέχει άνθρακα, υδρογόνο και οξυγόνο, με μοριακό τύπο CH4O2 και ημισυντακτικό τύπο CH3O2H. Είναι το απλούστερο οργανικό υπεροξείδιο και αποτελεί «τυπικό» υδατάνθρακα. \\nΠολλές οργανομεταλλικές ενώσεις έχουν την τάση να εισάγουν μοριακό οξυγόνο σε δεσμούς C-M, όπου M μέταλλο, ενώ τα ηλεκτροθετικά μέταλλα είναι ευαίσθητα στην παρουσία νερού. Οι ιδιότητες αυτές αξιοποιούνται για την παραγωγή οργανικών υπεροξειδίων. \\nΠιο συγκεκριμένα, το μεθυλυδροϋπεροξείδιο μπορεί να παραχθεί με επίδραση οξυγόνου σε μεθυλολίθιο ή μεθυλομαγνησιοαλογονίδιο , ακολουθούμενη από υδρόλυση:\\n  \\n    \\n      \\n        \\n          C\\n          \\n            H\\n            \\n              3\\n            \\n          \\n          L\\n          i\\n          +\\n          \\n            O\\n            \\n              2\\n            \\n          \\n          \\n            \\n               \\n              \\n                \\n                   \\n                  \\n                    10\\n                    \\n                      o\\n                    \\n                  \\n                  C\\n                \\n              \\n              \\n                \\n                  |\\n                \\n                E\\n                \\n                  t\\n                  \\n                    2\\n                  \\n                \\n                O\\n                \\n                  |\\n                \\n              \\n            \\n          \\n          C\\n          \\n            H\\n            \\n              3\\n            \\n          \\n          \\n            O\\n            \\n              2\\n            \\n          \\n          L\\n          i\\n          \\n            \\n               \\n              \\n                +\\n                \\n                  H\\n                  \\n                    2\\n                  \\n                \\n                O\\n              \\n            \\n          \\n          C\\n          \\n            H\\n            \\n              3\\n            \\n          \\n          \\n            O\\n            \\n              2\\n            \\n          \\n          H\\n          +\\n          L\\n          i\\n          O\\n          H\\n        \\n      \\n    \\n    Li+O_}CH_O}}CH_ }\\n  \\n  \\n    \\n      \\n        \\n          C\\n          \\n            H\\n            \\n              3\\n            \\n          \\n          M\\n          g\\n          X\\n          +\\n          \\n            O\\n            \\n              2\\n            \\n          \\n          \\n            \\n               \\n              \\n                \\n                  |\\n                \\n                E\\n                \\n                  t\\n                  \\n                    2\\n                  \\n                \\n                O\\n                \\n                  |\\n                \\n              \\n            \\n          \\n          C\\n          \\n            H\\n            \\n              3\\n            \\n          \\n          \\n            O\\n            \\n              2\\n            \\n          \\n          M\\n          g\\n          X\\n          \\n            \\n               \\n              \\n                +\\n                \\n                  H\\n                  \\n                    2\\n                  \\n                \\n                O\\n              \\n            \\n          \\n          C\\n          \\n            H\\n            \\n              3\\n            \\n          \\n          \\n            O\\n            \\n              2\\n            \\n          \\n          H\\n          +\\n          M\\n          g\\n          \\n          X\\n           \\n        \\n      \\n    \\n    MgX+O_}CH_O}}CH_ }\\n  \\nΤο μεθυλυδροϋπεροξείδιο είναι ασταθές και αυτοδιασπάται με εξώθερμη αντίδραση. Σε αραιά διαλύματα σχηματίζει ελεύθερες ρίζες CH3O•  και •OH, που μπορούν να προκαλέσουν την έναρξη σειράς αντιδράσεων πολυμερισμού. Σε χημικά καθαρή μορφή μπορεί να χρειαστεί κάποια θερμότητα για την έναρξη της διαδικασίας, αλλά χρειάζεται προσοχή, γιατί η επιπλέον θερμότητα που παράγεται από την εξώθερμη διάσπαση κάνει τη διάσπαση αυτοεπιταχυνόμενη. Γενικά, έχουμε τις ακόλουθες αντιδράσεις διάσπασης:\\n  \\n    \\n      \\n        \\n          C\\n          \\n            H\\n            \\n              3\\n            \\n          \\n          \\n            O\\n            \\n              2\\n            \\n          \\n          H\\n          \\n            \\n               \\n              \\n            \\n          \\n          C\\n          \\n            H\\n            \\n              3\\n            \\n          \\n          \\n            O\\n            \\n               \\n            \\n          \\n          +\\n          \\n             \\n            \\n               \\n            \\n          \\n          O\\n          H\\n        \\n      \\n    \\n    O_CH_OH} }\\n  \\n  \\n    \\n      \\n        \\n          C\\n          \\n            H\\n            \\n              3\\n            \\n          \\n          \\n            O\\n            \\n              2\\n            \\n          \\n          H\\n          \\n            \\n               \\n              \\n                 \\n              \\n            \\n          \\n          C\\n          \\n            H\\n            \\n              3\\n            \\n          \\n          O\\n          H\\n          +\\n          \\n            |\\n          \\n          O\\n          \\n            |\\n          \\n        \\n      \\n    \\n    O_CH_\\n  \\nΤο θεωρητικό ποσοστό σε «ενεργό οξυγόνο» για το μεθυλυδροϋπεροξείδιο είναι Aθ% = 16/48·100% ≈ 33,3% 4 .\\nΟξειδώνει αλκένια στα αντίστοιχα εποξείδια. Για παράδειγμα, οξειδώνει αιθένιο σε οξιράνιο:\\n  \\n    \\n      \\n        \\n          C\\n          \\n            H\\n            \\n              3\\n            \\n          \\n          \\n            O\\n            \\n              2\\n            \\n          \\n          H\\n          +\\n          C\\n          \\n            H\\n            \\n              2\\n            \\n          \\n          =\\n          C\\n          \\n            H\\n            \\n              2\\n            \\n          \\n          \\n            \\n               \\n              \\n            \\n          \\n          C\\n          \\n            H\\n            \\n              3\\n            \\n          \\n          O\\n          H\\n          +\\n        \\n      \\n    \\n    O_OH+} }\\n  \\nΑνάγεται σε μεθανόλη από λιθιοαργιλιοϋδρίδιο και από εστέρες του φωσφορώδους οξέος. Οι τελευταἰοι οξειδώνονται στους αντίστοιχους εστέρες του φωσφορικού οξέος:\\n  \\n    \\n      \\n        \\n          4\\n          C\\n          \\n            H\\n            \\n              3\\n            \\n          \\n          \\n            O\\n            \\n              2\\n            \\n          \\n          H\\n          +\\n          L\\n          i\\n          A\\n          l\\n          \\n            H\\n            \\n              4\\n            \\n          \\n          \\n            \\n               \\n              \\n            \\n          \\n          4\\n          C\\n          \\n            H\\n            \\n              3\\n            \\n          \\n          O\\n          H\\n          +\\n          L\\n          i\\n          A\\n          l\\n          \\n            O\\n            \\n              2\\n            \\n          \\n          +\\n          2\\n          \\n            H\\n            \\n              2\\n            \\n          \\n          O\\n        \\n      \\n    \\n    O_}4CH_O} }\\n  \\n  \\n    \\n      \\n        \\n          C\\n          \\n            H\\n            \\n              3\\n            \\n          \\n          \\n            O\\n            \\n              2\\n            \\n          \\n          H\\n          +\\n          \\n            R\\n            \\n              3\\n            \\n          \\n          P\\n          \\n            O\\n            \\n              3\\n            \\n          \\n          \\n            \\n               \\n              \\n            \\n          \\n          4\\n          C\\n          \\n            H\\n            \\n              3\\n            \\n          \\n          O\\n          H\\n          +\\n          \\n            R\\n            \\n              3\\n            \\n          \\n          P\\n          \\n            O\\n            \\n              4\\n            \\n          \\n        \\n      \\n    \\n    O_OH+R_ }\\n  \\nΜε επίδραση ισχυρής βάσης, όπως το υδροξείδιο του καλίου, το μεθυλυδροϋπεροξείδιο μπορεί να μετατραπεί σε μεθανάλη και νερό, μέσω ανασχηματισμού Kornblum–DeLaMare:\\n  \\n    \\n      \\n        \\n          C\\n          \\n            H\\n            \\n              3\\n            \\n          \\n          \\n            O\\n            \\n              2\\n            \\n          \\n          H\\n          \\n            \\n               \\n              \\n                K\\n                O\\n                H\\n              \\n            \\n          \\n          H\\n          C\\n          H\\n          O\\n          +\\n          \\n            H\\n            \\n              2\\n            \\n          \\n          O\\n        \\n      \\n    \\n    O_HCHO+H_\\n  \\n\")\n"
     ]
    },
    {
     "name": "stdout",
     "output_type": "stream",
     "text": [
      "Error: detector_ls(\"Συντεταγμένες: 42°15′41″N 18°58′23″E  /  42.26139°N 18.97306°E  / 42.26139; 18.97306\\nΤο Ουτργκ  είναι χωριό στα νότια του Μαυροβουνίου, εντός του Δήμου του Μπαρ.\\n\")\n"
     ]
    },
    {
     "name": "stdout",
     "output_type": "stream",
     "text": [
      "Error: detector_ls(\"◄◄ |\\n◄ |\\n11ος αιώνας |\\n12ος αιώνας\\n| 13ος αιώνας\\n| ►\\n| ►►\\n◄◄◄ |\\n◄◄ |\\n◄ |\\n1170 |\\n1171 |\\n1172 |\\n1173 |\\n1174\\n| 1175\\n| 1176\\n| 1177\\n| 1178\\n| ►\\n| ►►\\n| ►►►\\nΗ τρέχουσα σελίδα αφορά το έτος 1174 κατά το Γρηγοριανό ημερολόγιο \\n\")\n",
      "Error: detector_ls(\"◄◄ |\\n◄ |\\n15ος αιώνας |\\n16ος αιώνας\\n| 17ος αιώνας\\n| ►\\n| ►►\\n◄◄◄ |\\n◄◄ |\\n◄ |\\n1505 |\\n1506 |\\n1507 |\\n1508 |\\n1509\\n| 1510\\n| 1511\\n| 1512\\n| 1513\\n| ►\\n| ►►\\n| ►►►\\nΗ τρέχουσα σελίδα αφορά το έτος 1509 κατά το Γρηγοριανό ημερολόγιο \\n\")\n",
      "Error: detector_ls(\"◄ |\\n3ος αιώνας π.Χ. |\\n2ος αιώνας π.Χ. |\\n1ος αιώνας π.Χ. |\\n►\\n◄◄ | ◄ | 178 π.Χ. | 177 π.Χ. | 176 π.Χ. | 175 π.Χ. |\\n174 π.Χ. |\\n173 π.Χ. |\\n172 π.Χ. |\\n► |\\n►►\\n\")\n",
      "Error: detector_ls(\"◄ |\\n5ος αιώνας π.Χ. |\\n4ος αιώνας π.Χ. |\\n3ος αιώνας π.Χ. |\\n►\\n◄◄ | ◄ | 372 π.Χ. | 371 π.Χ. | 370 π.Χ. | 369 π.Χ. |\\n368 π.Χ. |\\n367 π.Χ. |\\n366 π.Χ. |\\n► |\\n►►\\n\")\n"
     ]
    },
    {
     "name": "stdout",
     "output_type": "stream",
     "text": [
      "Error: detector_ls(\"אנרגיית קשר כימית , היא הערך המייצג את מידת חוזקו של קשר כימי. זו היא האנרגיה שיש להשקיע על מנת לפרק מולקולה לאטומים בודדים.\\nאנרגיית הקשר נמדדת, בדרך כלל, ביחידות של J·mol−1, המבטאות את מספר הג'אולים שיש להשקיע כדי לפרק את הקשרים במול של מולקולות.\\nלדוגמה, אנרגיית הקשר הממוצעת של C-H במתאן, העומדת על 414 KJ·mol−1, מייצגת את השינוי באנתלפיה הנדרש לפירוק מולקולת מתאן לאטום פחמן וארבעה רדיקלי מימן. לחלופין, נהוג לייצג את אנרגיית הקשר הכימית ביחידות של אלקטרון וולט למולקולה. לדוגמה, אנרגיית הקשר הממוצעת של C-H במתאן היא 4.29 אלקטרון וולט למולקולה. במונחי אנרגיית פוטון, זו נמצאת בתחום העל-סגול הקרוב.\\nישנו קשר בין אנרגיית  הקשר לאורך הקשר. לכן, ניתן להשתמש ברדיוס המתכתי, הרדיוס היוני והרדיוס הקוולנטי של כל אטום במולקולה על מנת להעריך את חוזק הקשר.\\nלדוגמה, הרדיוס הקוולנטי של האטום בור מוערך ב-83 פיקומטר, אבל אורך הקשר B-B במולקולת \\n  \\n    \\n      \\n        \\n          \\n            B\\n            \\n              2\\n            \\n            \\n              \\n            \\n          \\n          \\n            Cl\\n            \\n              4\\n            \\n            \\n              \\n            \\n          \\n        \\n      \\n    \\n    }}\\n  \\n הוא 175 פיקומטר, ערך גדול בהרבה. מתוך הנתונים הללו ניתן להסיק שהקשר בין שני אטומי בור הוא קשר יחיד חלש. לעומת זאת, הרדיוס המתכתי של רניום הוא 137.5 פיקומטר, כאשר במולקולת \\n  \\n    \\n      \\n        \\n          \\n            Re\\n            \\n              2\\n            \\n            \\n              \\n            \\n          \\n          \\n            Cl\\n            \\n              8\\n            \\n            \\n              \\n            \\n          \\n        \\n      \\n    \\n    }}\\n  \\n אורך הקשר Re-Re הוא 224 פיקומטר. מהנתונים הללו ניתן להסיק שהקשר האמור נחשב חזק. קשר זה מכונה קשר מרובע.\\nישנם מספר גורמים מרכזיים המשפיעים על אנרגיית הקשר:\\n\")\n"
     ]
    },
    {
     "name": "stdout",
     "output_type": "stream",
     "text": [
      " 46.570591 seconds (100.17 M allocations: 2.714 GiB, 1.10% gc time, 12.90% compilation time)\n"
     ]
    },
    {
     "name": "stdout",
     "output_type": "stream",
     "text": [
      "Error: detector_ld(\"R adalah huruf Latin modern yang ke-18. Dalam bahasa Indonesia disebut er, dibaca .\\nBentuk huruf Semit asalnya mungkin diilhami dari hieroglif Mesir yang berarti \\\"kepala\\\", disebut t-p dalam bahasa Mesir Kuno, tetapi dipinjam oleh orang Semit untuk lambang bunyi /r/ karena dalam bahasa mereka, kata \\\"kepala\\\" berbunyi Rêš . Huruf tersebut berkembang menjadi Ρ ῥῶ  Yunani dan R Latin. Kemungkinan beberapa bentuk huruf tersebut dalam bahasa Etruska dan Yunani Barat dibubuhi satu garis lagi agar berbeda bentuknya dari huruf P sekarang.\\nBangsa Romawi mengadaptasi huruf P Etruska menjadi bentuk P yang sekarang, sedangkan bentuk P mirip sekali dengan huruf R dalam alfabet Etruska dan Yunani. Untuk membedakannya, maka bangsa Romawi menciptakan huruf R yang mirip dengan variasi huruf R dalam alfabet Etruska dan ro dalam alfabet Yunani, yaitu dengan garis diagonal di bawah lekukannya.\\nDalam Alfabet Fonetik Internasional , simbol  menandakan bunyi konsonan getar rongga-gigi. Variasi bentuk  dalam AFI digunakan untuk melambangkan konsonan getar dan rhotik lainnya. Beberapa bahasa memakai huruf r menurut ortografi  masing-masing, baik sebagai konsonan getar maupun konsonan rhotik.\\nR adalah kode kedaerahan plat nomor dari Karesidenan Banyumas. Berikut adalah kode kewilayahannya:\\nAa\\nBb\\nCc\\nDd\\nEe\\nFf\\nGg\\nHh\\nIi\\nJj\\nKk\\nLl\\nMm\\nNn\\nOo\\nPp\\nQq\\nRr\\nSs\\nTt\\nUu\\nVv\\nWw\\nXx\\nYy\\nZz\\nÁá\\nÀà\\nĂă\\nẮắ\\nẰằ\\nẴẵ\\nẲẳ\\nÂâ\\nẤấ\\nẦầ\\nẪẫ\\nẨẩ\\nǍǎ\\nÅå\\nǺǻ\\nÄä\\nǞǟ\\nÃã\\nȦȧ\\nǠǡ\\nĄą\\nĀā\\nẢả\\nȀȁ\\nȂȃ\\nẠạ\\nẶặ\\nẬậ\\nḀḁ\\nȺⱥ\\nᶏ\\nḂḃ\\nḄḅ\\nḆḇ\\nɃƀ\\nᵬ\\nᶀ\\nƁɓ\\nƂƃ\\nĆć\\nĈĉ\\nČč\\nĊċ\\nÇç\\nḈḉ\\nꞒꞓ\\nȻȼ\\nƇƈ\\nɕ\\nĎď\\nḊḋ\\nḐḑ\\nḌḍ\\nḒḓ\\nḎḏ\\nĐđ\\nᵭ\\nᶁ\\nƉɖ\\nƊɗ\\nᶑ\\nƋƌ\\nȡ\\nÉé\\nÈè\\nĔĕ\\nÊê\\nẾế\\nỀề\\nỄễ\\nỂể\\nĚě\\nËë\\nẼẽ\\nĖė\\nȨȩ\\nḜḝ\\nĘę\\nĒē\\nḖḗ\\nḔḕ\\nẺẻ\\nȄȅ\\nȆȇ\\nẸẹ\\nỆệ\\nḘḙ\\nḚḛ\\nɆɇ\\nᶒ\\nḞḟ\\nᵮ\\nᶂ\\nƑƒ\\nǴǵ\\nĞğ\\nĜĝ\\nǦǧ\\nĠġ\\nĢģ\\nḠḡ\\nǤǥ\\nᶃ\\nƓɠ\\nĤĥ\\nȞȟ\\nḦḧ\\nḢḣ\\nḨḩ\\nḤḥ\\nḪḫ\\nH̱ẖ\\nĦħ\\nⱧⱨ\\nÍí\\nÌì\\nĬĭ\\nÎî\\nǏǐ\\nÏï\\nḮḯ\\nĨĩ\\nİi\\nĮį\\nĪī\\nỈỉ\\nȈȉ\\nȊȋ\\nỊị\\nḬḭ\\nIı\\nƗɨ\\nᵻ\\nᶖ\\nĴĵ\\nǰ\\nȷ\\nɈɉ\\nʝ\\nɟ\\nʄ\\nḰḱ\\nǨǩ\\nĶķ\\nḲḳ\\nḴḵ\\nᶄ\\nƘƙ\\nⱩⱪ\\nĹĺ\\nĽľ\\nĻļ\\nḶḷ\\nḸḹ\\nḼḽ\\nḺḻ\\nŁł\\nĿŀ\\nȽƚ\\nⱠⱡ\\nⱢɫ\\nɬ\\nᶅ\\nɭ\\nȴ\\nḾḿ\\nṀṁ\\nṂṃ\\nᵯ\\nᶆ\\nɱ\\nŃń\\nǸǹ\\nŇň\\nÑñ\\nṄṅ\\nŅņ\\nṆṇ\\nṊṋ\\nṈṉ\\nᵰ\\nƝɲ\\nȠƞ\\nᶇ\\nɳ\\nȵ\\nN̈n̈\\nÓó\\nÒò\\nŎŏ\\nÔô\\nỐố\\nỒồ\\nỖỗ\\nỔổ\\nǑǒ\\nÖö\\nȪȫ\\nŐő\\nÕõ\\nṌṍ\\nṎṏ\\nȬȭ\\nȮȯ\\nȰȱ\\nØø\\nǾǿ\\nǪǫ\\nǬǭ\\nŌō\\nṒṓ\\nṐṑ\\nỎỏ\\nȌȍ\\nȎȏ\\nƠơ\\nỚớ\\nỜờ\\nỠỡ\\nỞở\\nỢợ\\nỌọ\\nỘộ\\nᶗ\\nƟɵ\\nṔṕ\\nṖṗ\\nⱣᵽ\\nᵱ\\nᶈ\\nƤƥ\\nP̃p̃\\nʠ\\nɊɋ\\nŔŕ\\nŘř\\nṘṙ\\nŖŗ\\nȐȑ\\nȒȓ\\nṚṛ\\nṜṝ\\nṞṟ\\nɌɍ\\nᵲ\\nᶉ\\nɼ\\nⱤɽ\\nɾ\\nᵳ\\nŚś\\nṤṥ\\nŜŝ\\nŠš\\nṦṧ\\nṠṡẛ\\nŞş\\nṢṣ\\nṨṩ\\nȘș\\nᵴ\\nᶊ\\nʂ\\nȿ\\nS̩s̩\\nŤť\\nT̈ẗ\\nṪṫ\\nŢţ\\nṬṭ\\nȚț\\nṰṱ\\nṮṯ\\nŦŧ\\nȾⱦ\\nᵵ\\nƫ\\nƬƭ\\nƮʈ\\nȶ\\nÚú\\nÙù\\nŬŭ\\nÛû\\nǓǔ\\nŮů\\nÜü\\nǗǘ\\nǛǜ\\nǙǚ\\nǕǖ\\nŰű\\nŨũ\\nṸṹ\\nŲų\\nŪū\\nṺṻ\\nỦủ\\nȔȕ\\nȖȗ\\nƯư\\nỨứ\\nỪừ\\nỮữ\\nỬử\\nỰự\\nỤụ\\nṲṳ\\nṶṷ\\nṴṵ\\nᵾ\\nᶙ\\nṼṽ\\nṾṿ\\nᶌ\\nƲʋ\\nⱴ\\nẂẃ\\nẀẁ\\nŴŵ\\nW̊ẘ\\nẄẅ\\nẆẇ\\nẈẉ\\nẌẍ\\nẊẋ\\nᶍ\\nÝý\\nỲỳ\\nŶŷ\\nY̊ẙ\\nŸÿ\\nỸỹ\\nẎẏ\\nȲȳ\\nỶỷ\\nỴỵ\\nʏ\\nɎɏ\\nƳƴ\\nŹź\\nẐẑ\\nŽž\\nŻż\\nẒẓ\\nẔẕ\\nƵƶ\\nᵶ\\nᶎ\\nȤȥ\\nʐ\\nʑ\\nɀ\\nⱫⱬ\\nɐ\\nɑ\\nᶐ\\nɒ\\nẚ\\nÆæ\\nǼǽ\\nǢǣ\\nʙ\\nↃↄ\\nÐð\\nȸ\\nʣ\\nʥ\\nʤ\\nƎǝ\\nƏə\\nᶕ\\nƐɛ\\nᶓ\\nɘ\\nɚ\\nɜ\\nᶔ\\nɝ\\nɞ\\nʚ\\nɤ\\nʩ\\nℲⅎ\\nɡ\\nᵹ\\nɢ\\nʛ\\nᵷ\\nƔɣ\\nƢƣ\\nʜ\\nǶƕ\\nɦ\\nⱵⱶ\\nɧ\\nɪ\\nƖɩ\\nᵼ\\nʞ\\nʪ\\nʫ\\nʟ\\nɮ\\nƛ\\nʎ\\nɴ\\nŊŋ\\nŒœ\\nɶ\\nƆɔ\\nɷ\\nȢȣ\\nɸ\\nⱷ\\nȹ\\nKʻĸ\\nƦʀ\\nɹ\\nɺ\\nɻ\\nɿ\\nʁ\\nß\\nƩʃ\\nᶋ\\nƪ\\nʅ\\nᶘ\\nʆ\\nʨ\\nᵺ\\nƾ\\nʦ\\nʧ\\nʇ\\nᵫ\\nɄʉ\\nɥ\\nʮ\\nʯ\\nƜɯ\\nɰ\\nƱʊ\\nᵿ\\nɅʌ\\nʍ\\nƍ\\nʒ\\nǮǯ\\nƸƹ\\nᶚ\\nƺ\\nʓ\\nȜȝ\\nÞþ\\nǷƿ\\nƻ\\nƧƨ\\nƼƽ\\nƄƅ\\nɁɂ\\nʔ\\nʕ\\nʡ\\nʢ\\nʖ\\nǀ\\nǁ\\nǂ\\nǃ\\nʗ\\nʘ\\nʬ\\nʭ\\nЗз\\nЧч\\nBh bh\\nCh ch\\nC̱h c̱h\\nCÖ cö\\nCs cs\\nCu cu\\nDd dd\\nDh dh\\nDj dj\\nDx dx\\nDz dz\\nDž dž\\nFf ff\\nGb gb\\nGh gh\\nGi gi\\nGn gn\\nGy gy\\nHs hs\\nHu hu\\nIJ ij\\nJö jö\\nKh kh\\nKp kp\\nKu ku\\nLj lj\\nLh lh\\nLl ll\\nLy ly\\nMb mb\\nMp mp\\nNd nd\\nNg ng\\nNh nh\\nNj nj\\nNk nk\\nNs ns\\nNt nt\\nNy ny\\nNz nz\\nPh ph\\nQu qu\\nRd rd\\nRh rh\\nRl rl\\nRn rn\\nRr rr\\nRt rt\\nSh sh\\nSs ss\\nSv sv\\nSy sy\\nSz sz\\nTh th\\nTj tj\\nTr tr\\nTs ts\\nTx tx\\nTy ty\\nTz tz\\nWh wh\\nXh xh\\nXö xö\\nYh yh\\nYk yk\\nZh zh\\nZs zs\\nZv zv\\nDzs dzs\\nNgb ngb\\nNgh ngh\\nNgk ngk\\nNkp nkp\\nNth nth\\nNyk nyk\\nRnd rnd\\nSch sch\\nNyng nyng\\nTsch tsch\\nG Karolingia\\nG insular \\nR bulat\\nS panjang \\n\")\n"
     ]
    },
    {
     "name": "stdout",
     "output_type": "stream",
     "text": [
      "Error: detector_ld(\"modifier - modifier le code - modifier WikidataAloÿs Claussmann, né Aloïse Claussmann à Uffholtz, dans le Haut-Rhin, le 5 juillet 1850, et mort à Clermont-Ferrand le 7 novembre 1926, est un organiste, pianiste et compositeur français.\\nÉlève de l'organiste Eugène Gigout à l’Ecole Niedermeyer, il y obtient ses premiers prix de piano et d'orgue, avant de remporter le Grand Prix de composition du Ministère des Beaux-Arts en 1872.\\nEn 1873, il s'installe à Clermont-Ferrand, où il est nommé maître de chapelle de la cathédrale. Le nouvel orgue Merklin est inauguré en 1877 par Edmond Lemaigre, le premier titulaire. Claussmann lui succède en 1888 jusqu'à sa mort en 1926.\\nInterprète virtuose, il choisit d'effectuer toute sa carrière dans le Puy-de-Dôme, alors qu'une tribune parisienne lui aurait été aisément accessible. Il fonde le conservatoire de Clermont-Ferrand en 1909, le dirigeant jusqu'à sa mort.\\nS'il a confié de nombreuses pages musicales au piano - il fut un excellent pianiste -, à la musique de chambre, à la musique vocale, c'est à l'orgue qu'il réserve l'essentiel et le plus caractéristique de sa production, avec environ 350 pièces, se situant pleinement dans la musique postromantique qu'il célèbre avec éclat mais encore avec sensibilité. \\nS'il remplit son office d'organiste de la cathédrale, et s'il assume la fonction de directeur du conservatoire, il joue également les grands concertos pour piano, avec l'orchestre de la ville, qu'il lui arrive également de diriger.\\nL'origine alsacienne de Claussmann fait que sa musique constitue une synthèse très réussie des écoles française et allemande, dans laquelle on peut certes trouver César Franck, dont l'influence est certaine, et Robert Schumann, mais qui possède une indiscutable personnalité.\\nSon œuvre contribue, avec celles d'autres compositeurs, tels le strasbourgeois Marie-Joseph Erb, Emile Bourdon à Monaco, le lyonnais Édouard Commette, le chanoine Fauchard à Laval, pour ne citer qu'eux, à forger en quelque sorte le chaînon manquant entre une musique d'orgue parisienne reconnue et célébrée et l'apport plus discret, mais indéniable, des petits maîtres de province à l'élaboration d'un langage qui a fait le renom de notre école d'orgue française.\\nAu milieu des années 1930, la ville de Clermont-Ferrand érige dans son centre ville un monument commémoratif sculpté par l'artiste Maurice Vaury.\\nOnt été recensées et identifiées 544 pièces au total : 350 pièces d'orgue , 113 pièces pour piano, 62 chants ou mélodies, 22 pièces de violon  ou violoncelle. Henry Lemoine fut le principal éditeur d'Aloÿs Claussmann de 1904 à 1924 ; la plupart des œuvres pour orgue y sont disponibles.\\n\")\n"
     ]
    },
    {
     "name": "stdout",
     "output_type": "stream",
     "text": [
      "Error: detector_ld(\"Pour les articles homonymes, voir Gleize.\\nmodifier - modifier le code - modifier WikidataPour les articles homonymes, voir Maurice Gleize.\\nMaurice Joseph Louis Gleize, né à Nîmes le 7 janvier 1907 et mort le 20 avril 2003 à Montfermeil, est un résistant et poète français.\\nNé en 1907, issu d'une famille ouvrière, Maurice Gleize entre en apprentissage dans une imprimerie dès l'âge de 12 ans. En 1920, âgé de treize ans, il se syndique à la CGT à l'occasion d'un mouvement de grève parmi les ouvriers du livre. Plus tard, il fréquente le soir l'École des beaux-arts de Nîmes, où il apprend le dessin, et le Conservatoire de musique, où il s'initie au violoncelle, qu'il pratique ensuite en orchestre. Marié, père d'un enfant, il exerce son métier d'imprimeur à Paris à partir de 1931, salarié successivement dans deux entreprises d'imprimerie. La seconde est l'imprimerie Gutenberg, dont les clients principaux sont des organisations syndicales CGT et communistes. Il est mobilisé en 1939, puis, démobilisé, il remet en marche l'imprimerie Gutenberg, dont il devient le patron.\\nÀ partir d'octobre 1940, il met ses connaissances de l'imprimerie au service de la lutte contre l'occupant allemand. Contacté en novembre de la même année par l'ancien conseiller municipal communiste de Paris Raymond Losserand, il rompt tout contact antérieur  et  imprime sous couvert d'éditions commerciales des tracts, des publications clandestines dont L'Humanité, La Vie ouvrière et les Cahiers du communisme. En septembre 1941, son imprimerie, située 17 rue des Cloÿs dans le 18e arrondissement de Paris, tire le premier exemplaire de France d'abord, journal qui deviendra l'organe des Francs tireurs et partisans français . Il constitue un réseau d'entreprises qui assurent la linotypie, l'impression, le brochage éventuel, les liaisons et le transport des publications clandestines. Il adhère à ce moment-là au PCF.\\nIl est arrêté le 4 mars 1943 alors qu'il venait de recevoir commande de deux brochures, l'une dénonçant l'étoile jaune, l'autre reprenant un discours de Fernand Grenier à la BBC sur les 27 qui vont mourir . Son réseau est démantelé. Après avoir transité dans les prisons de la Santé, de Blois, puis au camp de Compiègne, il est déporté en 1944 au camp de concentration de Neuengamme, où il fait connaissance avec l'ancien chef d'état-major des FTP, Marcel Prenant. Le 2 mai 1945, il est libéré du camp de Wöbbelin où il avait été transféré. Il retrouve à Paris son atelier, mais ne reprend le travail que « peu à peu », très affaibli par sa déportation et le typhus qu'il y a contracté.\\nEn 1945, il reprend son activité d'imprimeur et son activité militante. En 1956, son action pendant la guerre d'Algérie lui vaut la prison.\\nMilitant communiste, secoué déjà par la rupture avec Tito en 1948, il rompt avec le Parti communiste à la suite  de l'affaire Marty-Tillon. Avec son « franc-parler », il refuse d'avaliser les accusations portés contre les deux militants. Comptant parmi les animateurs du groupe oppositionnel interne « Unir pour le socialisme », créé en octobre 1952, il ne rompt pas avec le communisme mais avec la direction du PCF. En 1960, regroupés au sein d'une Amicale, les militants de ce groupe entreprennent d'écrire une Histoire du PCF. Chaque volume est tiré à 3 000 exemplaires. Le premier tome  paraît à la fin de l'année 1960, mais c'est le tome 2  qui suscite le plus d'intérêt, pour être le premier ouvrage de source interne au PCF à faire état des démarches entreprises en juin/juillet 1940 par des membres de la direction du parti, en vue d'une reparution des journaux L'Humanité et Ce soir, interdits de publication depuis septembre 1939. Ce tome 2 paraît en février 1962, accompagné par la décision de militants d'Unir, exclus du PCF, de publier un organe public mensuel, Le Débat communiste. Maurice Gleize est membre du Comité directeur de ce mensuel de 30 à 40 pages, placé sous la direction du biologiste Marcel Prenant, et comptant dans ses rangs l'ancien « kominternien » et résistant Jean Chaintron. Celui-ci en livrant ses mémoires n'oublie pas ses compagnons : \\nEn 1964, Maurice Gleize fait publiquement partie d'un « Comité d'honneur pour la réhabilitation d'André Marty et des victimes de la calomnie », constitué de 100 militants historiques du PCF, notamment issus de la Résistance. \\nEn janvier 1966, percevant quelques signes d'ouverture de la part de la direction du Parti communiste, il signe en compagnie d'une vingtaine de militants, une « Adresse à Waldeck Rochet demandant solennellement l'annulation des sanctions et exclusions du Parti, prises en l'encontre de militants injustement écartés ». \\nCe n'est qu'en 1998 qu'une réponse positive est apportée, pour la plupart des cas de manière posthume. Maurice Gleize est en vie, et c'est à lui, « premier imprimeur de L'Humanité clandestine », que Robert Hue envoie un courrier annonçant sa réhabilitation en même temps qu'il reconnaissait dans le samizdat « Unir pour le socialisme » le bien-fondé de son action contre le stalinisme à la française.\\nEntre-temps, après la répression qui suivit la fin du « Printemps de Prague », il avait accueilli en mai 1971 à son domicile de Gournay-sur-Marne une réunion de cinq personnalités de l'opposition tchécoslovaque , Jiri Pelikan, Josef Pokštefl , qui y rédigèrent un « appel aux partis communistes » étrangers.\\nPour son action dans la Résistance :\\nEn novembre 2008, la ville de Gournay-sur-Marne, où il s'était retiré, inaugure une « Place Maurice Gleize »\\n\")\n"
     ]
    },
    {
     "name": "stdout",
     "output_type": "stream",
     "text": [
      "Error: detector_ld(\"Émile Taranto  oli kanadalainen viulisti, musiikkipedagogi ja säveltäjä. 1   \\nTaranto syntyi italialaisille vanhemmille ja aloitti kuusivuotiaana viulunsoiton opiskelun Frantz Jehin-Prumen johdolla. Vuonna 1894 Taranto oli jo Montrealin sinfoniaorkesterin jäsen, joka oli pitänyt myös useita resitaaleja. Kesäkuussa 1903 hän lähti Brysseliin opiskelemaan Eugène Ysaÿen johdolla. Palattuaan Montrealiin hän soitti kotikaupunkinsa sinfoniaorkesterin kanssa Max Bruchin viulukonserton nro 1 huhtikuussa 1904 ja toimi saman orkesterin konserttimestarina 1904–1907. Vuonna 1904 hän myös perusti Mendelssohn-trion. Hän osallistui Beethoven-trion konsertteihin ja kiersi Eurooppaa vuosina 1907 ja 1914. Konserttiartistina toimimisen sivussa hän myös vietti paljon aikaa opettaen; hänen oppilaidensa joukossa olivat Jean Deslauriers, Marthe Lapointe, Annette Lasalle-Leduc ja Lucien Sicotte. 1 \\nTaranto sävelsi viulukappaleita, joihin kuuluvat Danse caprice  ja Mouche à feu. Helmikuussa 1930 hän soitti Windsor-salissa Émiliano Renaud'n yksiosaisen sonaatin sekä romanssin. Säveltäjä itse toimi pianistina. 1 \\n\")\n"
     ]
    },
    {
     "name": "stdout",
     "output_type": "stream",
     "text": [
      "Error: detector_ld(\"Ирендѝк (на руски: Ирендык) е планински хребет в централната част на Южен Урал, в близост до изворите на река Урал, в източната част на Република Башкортостан в Русия. Простира се от север на юг на протежение от 120 km. Обособен е в две отделни части: Северен Ирендик с дължина 15 km и ширина 3 – 4 km, простиращ се между най-горните течения на реките Урал на запад и Уй (ляв приток на Тобол) на изток с максимална височина връх Тура Таш 921 m (54°31′37″ с. ш. 59°34′40″ и. д.\\ufeff / \\ufeff54.526944° с. ш. 59.577778° и. д.54.526944, 59.577778 и Южен Ирендик с дължина около 90 km, простиращ се южно от долината на река голям Кизил (десен приток на Урал) с максимална височина връх Кузгунташ 987 m (53°06′32″ с. ш. 58°22′01″ и. д.\\ufeff / \\ufeff53.108889° с. ш. 58.366944° и. д.53.108889, 58.366944. Изграден е от порфирити, диабази и варовици. Северната му част е заета от иглолистни гори, а южната – от типчаково-коилови степи.  1 \\n\")\n"
     ]
    },
    {
     "name": "stdout",
     "output_type": "stream",
     "text": [
      "Error: detector_ld(\"Луис Ваес де Торес  е испански мореплавател и пътешественик-изследовател.\\nПрез 1605 участва като капитан на „Алмиранта“, един от трите кораба в експедицията на Педро Фернандес де Кирос, отправена от испанския крал за търсене на легендарния Южен континент. След като се разделя с Кирос на 11 юни 1606 при неизяснени обстоятелства, изследва Новохебридските о-ви, открива остров Малекула  и се убеждава, че не са част от Южния континент, а група острови.\\nС двата отцепили се кораба „Алмиранта“ и „Три влъхви“ Торес се насочва на север и северозапад, пресича Коралово море и на 20 юли 1606 достига до югоизточния край на Нова Гвинея, като открива няколко острова в архипелага Луизиада, в т.ч. островите Росел , Тагула  и Басилаки . Въпреки възприетата по това време традиция да се плава покрай северния бряг на Нова Гвинея, Торес поема курс покрай южния бряг на острова и през септември открива цялото крайбрежие на залива Папуа. Между 9º – 10º ю.ш. и 143º – 144º и.д. открива островите Маланданса, Перос, Вулкан, Мансерате, Кантаридес в рифовете Уориор. На 3 октомври, на 10°41′ ю. ш. 142°11′ и. д.\\ufeff / \\ufeff10.683333° ю. ш. 142.183333° и. д.-10.683333, 142.183333, открива остров Принц Уелски и преминава през протока Индевър, между острова на северозапад и п-ов Кейп Йорк на югоизток, като по този начин открива протока Торес , разделящ Нова Гвинея на север от Австралия на юг. След това се насочва на северозапад, открива част от южното крайбрежие на Нова Гвинея до 141° и.д. на запад и южния бряг на п-ов Бомбарай между 135° и 132° и.д. Преминава през Молукските о-ви и през пролетта на 1607 пристига в Манила.\\nСлед пристигането си във Филипините Торес предава всички отчети, карти и дневници, които са дълбоко засекретени от испанците. Едва 150 години по-късно, през 1762, по време на Седемгодишната война, англичаните завземат Манила и откриват отчетите на Торес, от които ставя ясно, че той е първият европеец видял вероятно бреговете на Австралия. Английският хидрограф Александър Далримпъл публикува копия от отчетите му и предлага протокът между Австралия и Нова Гвинея да се нарече на негово име.\\nНеговото име носят:\\n\")\n"
     ]
    },
    {
     "name": "stdout",
     "output_type": "stream",
     "text": [
      " 87.026929 seconds (991.57 M allocations: 35.321 GiB, 6.10% gc time, 2.17% compilation time)\n"
     ]
    }
   ],
   "source": [
    "@time wbmk_ls = bmk(detector_ls, WV, LANGS);\n",
    "@time wbmk_ld = bmk(detector_ld, WV, LANGS);\n",
    "# @time bmk_lf = bmk(detector_lf, TV, LANGS);\n",
    ";"
   ]
  },
  {
   "cell_type": "code",
   "execution_count": 12,
   "metadata": {},
   "outputs": [
    {
     "name": "stdout",
     "output_type": "stream",
     "text": [
      "|                   | ara    | bel    | ben     | bul    | cat    | ces    | dan    | deu    | ell     | eng    | epo    | fas    | fin    | fra     | hau    | hbs     | heb     | hin    | hun    | ido | ina | isl | ita    | jpn    | kab | kor    | kur | lat | lit    | mar    | mkd    | msa    | nds | nld    | nor    | pol    | por    | ron    | rus    | slk    | spa    | swa    | swe    | tat | tgl    | tur    | ukr    | vie    | yid    | zho    |\n",
      "|-------------------|--------|--------|---------|--------|--------|--------|--------|--------|---------|--------|--------|--------|--------|---------|--------|---------|---------|--------|--------|-----|-----|-----|--------|--------|-----|--------|-----|-----|--------|--------|--------|--------|-----|--------|--------|--------|--------|--------|--------|--------|--------|--------|--------|-----|--------|--------|--------|--------|--------|--------|\n",
      "|      Languages.jl | 99.00% | 98.50% |  99.00% | 99.00% |      - | 92.50% | 88.50% | 96.00% |  96.50% | 99.50% | 96.00% | 98.50% | 98.00% | 100.00% | 99.00% | 100.00% |  99.50% | 91.00% | 93.00% |   - |   - |   - | 98.50% | 99.50% |   - | 89.50% |   - |   - | 94.50% | 95.00% | 98.00% | 99.50% |   - | 94.50% | 95.50% | 90.50% | 94.00% | 81.50% | 97.50% |      - | 98.50% |      - | 88.00% |   - | 97.00% | 92.50% | 93.00% | 74.50% | 98.00% | 96.50% |\n",
      "| LanguageDetect.jl | 99.50% |      - | 100.00% | 87.50% | 71.50% | 80.50% | 60.00% | 83.50% | 100.00% | 92.00% |      - | 98.50% | 94.00% |  87.50% |      - |   3.50% | 100.00% | 94.50% | 92.00% |   - |   - |   - | 85.00% | 95.50% |   - | 95.00% |   - |   - | 97.00% | 97.00% | 93.50% | 96.00% |   - | 79.00% | 63.00% | 92.00% | 79.50% | 77.00% | 94.50% | 76.00% | 72.50% | 96.50% | 70.00% |   - | 97.00% | 96.50% | 97.00% | 96.50% |      - | 73.50% |\n"
     ]
    },
    {
     "data": {
      "text/markdown": [
       "|                   | ara    | bel    | ben     | bul    | cat    | ces    | dan    | deu    | ell     | eng    | epo    | fas    | fin    | fra     | hau    | hbs     | heb     | hin    | hun    | ido | ina | isl | ita    | jpn    | kab | kor    | kur | lat | lit    | mar    | mkd    | msa    | nds | nld    | nor    | pol    | por    | ron    | rus    | slk    | spa    | swa    | swe    | tat | tgl    | tur    | ukr    | vie    | yid    | zho    |\n",
       "|-------------------|--------|--------|---------|--------|--------|--------|--------|--------|---------|--------|--------|--------|--------|---------|--------|---------|---------|--------|--------|-----|-----|-----|--------|--------|-----|--------|-----|-----|--------|--------|--------|--------|-----|--------|--------|--------|--------|--------|--------|--------|--------|--------|--------|-----|--------|--------|--------|--------|--------|--------|\n",
       "|      Languages.jl | 99.00% | 98.50% |  99.00% | 99.00% |      - | 92.50% | 88.50% | 96.00% |  96.50% | 99.50% | 96.00% | 98.50% | 98.00% | 100.00% | 99.00% | 100.00% |  99.50% | 91.00% | 93.00% |   - |   - |   - | 98.50% | 99.50% |   - | 89.50% |   - |   - | 94.50% | 95.00% | 98.00% | 99.50% |   - | 94.50% | 95.50% | 90.50% | 94.00% | 81.50% | 97.50% |      - | 98.50% |      - | 88.00% |   - | 97.00% | 92.50% | 93.00% | 74.50% | 98.00% | 96.50% |\n",
       "| LanguageDetect.jl | 99.50% |      - | 100.00% | 87.50% | 71.50% | 80.50% | 60.00% | 83.50% | 100.00% | 92.00% |      - | 98.50% | 94.00% |  87.50% |      - |   3.50% | 100.00% | 94.50% | 92.00% |   - |   - |   - | 85.00% | 95.50% |   - | 95.00% |   - |   - | 97.00% | 97.00% | 93.50% | 96.00% |   - | 79.00% | 63.00% | 92.00% | 79.50% | 77.00% | 94.50% | 76.00% | 72.50% | 96.50% | 70.00% |   - | 97.00% | 96.50% | 97.00% | 96.50% |      - | 73.50% |\n"
      ],
      "text/plain": [
       "DisplayAs.Raw.Showable{MIME{Symbol(\"text/markdown\")}}(UInt8[0x7c, 0x20, 0x20, 0x20, 0x20, 0x20, 0x20, 0x20, 0x20, 0x20  …  0x20, 0x37, 0x33, 0x2e, 0x35, 0x30, 0x25, 0x20, 0x7c, 0x0a])"
      ]
     },
     "metadata": {},
     "output_type": "display_data"
    }
   ],
   "source": [
    "showtable(\"Languages.jl\"=>wbmk_ls, \"LanguageDetect.jl\"=>wbmk_ld, header=LANGS)"
   ]
  },
  {
   "cell_type": "code",
   "execution_count": null,
   "metadata": {},
   "outputs": [],
   "source": []
  }
 ],
 "metadata": {
  "kernelspec": {
   "display_name": "Julia 1.9.2",
   "language": "julia",
   "name": "julia-1.9"
  },
  "language_info": {
   "file_extension": ".jl",
   "mimetype": "application/julia",
   "name": "julia",
   "version": "1.9.2"
  },
  "orig_nbformat": 4
 },
 "nbformat": 4,
 "nbformat_minor": 2
}
