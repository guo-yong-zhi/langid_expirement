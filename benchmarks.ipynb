{
 "cells": [
  {
   "cell_type": "code",
   "execution_count": 1,
   "metadata": {},
   "outputs": [],
   "source": [
    "# import Pkg; Pkg.add(\"Tables\"); Pkg.add(\"MarkdownTables\"); Pkg.add(\"DataFrames\")"
   ]
  },
  {
   "cell_type": "code",
   "execution_count": 2,
   "metadata": {},
   "outputs": [
    {
     "data": {
      "text/plain": [
       "normcode (generic function with 2 methods)"
      ]
     },
     "metadata": {},
     "output_type": "display_data"
    }
   ],
   "source": [
    "using Tables\n",
    "using MarkdownTables\n",
    "# using ProgressMeter\n",
    "include(\"datasetloader.jl\")\n",
    "include(\"iso639code.jl\")"
   ]
  },
  {
   "cell_type": "code",
   "execution_count": 3,
   "metadata": {},
   "outputs": [
    {
     "data": {
      "text/plain": [
       "521469-element TatoebaDataset:\n",
       "             \"Pardonu, permesu al mi indiki tri erarojn en la supra artikolo.\" => \"epo\"\n",
       "                                          \"Mi veturigos vin al la flughaveno.\" => \"epo\"\n",
       "                                                                 \"Kio mankas?\" => \"epo\"\n",
       "                                            \"Aĥ, kiam ili renkontiĝos denove?\" => \"epo\"\n",
       " \"Kiam mi estis infano, mi pasigis multajn horojn legante sola en mia ĉambro.\" => \"epo\"\n",
       "                                              \"Ŝajnas, ke la trajno malfruas.\" => \"epo\"\n",
       "                                                                \"Venu rapide!\" => \"epo\"\n",
       "                                                   \"Li montris al mi albumon.\" => \"epo\"\n",
       "                                                             \"Estis du kukoj.\" => \"epo\"\n",
       "                                      \"Mia filo scipovas jam nombri ĝis cent.\" => \"epo\"\n",
       "                                                                               ⋮\n",
       "                                                      \"Tohle pivo je výborné.\" => \"ces\"\n",
       "                                              \"Musíš se řídit matčinou radou.\" => \"ces\"\n",
       "                                             \"Tom potvrdil všechno, co řekli.\" => \"ces\"\n",
       "                                                        \"Byl obnoven pořádek.\" => \"ces\"\n",
       "                                              \"Medvědi jsou velmi nebezpeční.\" => \"ces\"\n",
       "                                     \"Buď vděčný za to, že můžeš být s Tomem.\" => \"ces\"\n",
       "                                                \"Neštěstí nechodí nikdy samo.\" => \"ces\"\n",
       "                                                    \"Problémem nejsou peníze.\" => \"ces\"\n",
       "                                         \"Tom koupil několik bochníků chleba.\" => \"ces\""
      ]
     },
     "metadata": {},
     "output_type": "display_data"
    }
   ],
   "source": [
    "TLANGS = [\"ara\", \"bel\", \"ben\", \"bul\", \"cat\", \"ces\", \"dan\", \"deu\", \"ell\", \"eng\", \"epo\", \"pes\", \"fin\",\n",
    " \"fra\", \"hau\", \"srp\", \"heb\", \"hin\", \"hun\", \"ido\", \"ina\", \"isl\", \"ita\", \"jpn\", \"kab\", \"kor\", \"ckb\", \n",
    " \"lat\", \"lit\", \"mar\", \"mkd\", \"ind\", \"nds\", \"nld\", \"nob\", \"pol\", \"por\", \"ron\", \"rus\", \"slk\", \"spa\", \n",
    " \"swc\", \"swe\", \"tat\", \"tgl\", \"tur\", \"ukr\", \"vie\", \"yid\", \"cmn\"]\n",
    "WLANGS = [\"ar\", \"be\", \"bn\", \"bg\", \"ca\", \"cs\", \"da\", \"de\", \"el\", \n",
    "\"en\", \"eo\", \"fa\", \"fi\", \"fr\", \"ha\", \"sr\", \"he\", \"hi\", \"hu\", \"io\", \n",
    "\"ia\", \"is\", \"it\", \"ja\", \"kab\", \"ko\", \"ckb\", \"la\", \"lt\", \"mr\", \"mk\",\n",
    " \"id\", \"nds\", \"nl\", \"no\", \"pl\", \"pt\", \"ro\", \"ru\", \"sk\", \"es\", \"sw\",\n",
    "  \"sv\", \"tt\", \"tl\", \"tr\", \"uk\", \"vi\", \"yi\", \"zh\"]\n",
    "LANGS = [\"ara\", \"bel\", \"ben\", \"bul\", \"cat\", \"ces\", \"dan\", \"deu\", \"ell\", \n",
    "\"eng\", \"epo\", \"fas\", \"fin\", \"fra\", \"hau\", \"hbs\", \"heb\", \"hin\", \"hun\", \n",
    "\"ido\", \"ina\", \"isl\", \"ita\", \"jpn\", \"kab\", \"kor\", \"kur\", \"lat\", \"lit\", \n",
    "\"mar\", \"mkd\", \"msa\", \"nds\", \"nld\", \"nor\", \"pol\", \"por\", \"ron\", \"rus\", \n",
    "\"slk\", \"spa\", \"swa\", \"swe\", \"tat\", \"tgl\", \"tur\", \"ukr\", \"vie\", \"yid\", \n",
    "\"zho\"]\n",
    "# WV = WikiDataSet(\"corpus/wikipedia/test\", langs=WLANGS)\n",
    "TV = TatoebaDataset(\"corpus/tatoeba\", \"tatoeba_test.txt\", langs=TLANGS)"
   ]
  },
  {
   "cell_type": "code",
   "execution_count": null,
   "metadata": {},
   "outputs": [],
   "source": [
    "# import Pkg; Pkg.add([\"LanguageFinder\", \"LanguageDetect\", \"Languages\"])"
   ]
  },
  {
   "cell_type": "code",
   "execution_count": 13,
   "metadata": {},
   "outputs": [
    {
     "data": {
      "text/plain": [
       "LogLevel(1)"
      ]
     },
     "metadata": {},
     "output_type": "display_data"
    }
   ],
   "source": [
    "# import LanguageFinder: LanguageFind\n",
    "# detector_lf(t) = LanguageFind(t, 0).lang\n",
    "import LanguageDetect: detect\n",
    "detector_ld(t) = first(detect(t)).language\n",
    "import Languages: LanguageDetector, isocode\n",
    "Languages_detector = LanguageDetector()\n",
    "function detector_ls(t)\n",
    "    l = Languages_detector(t) |> first\n",
    "    if l == nothing\n",
    "        return \"\"\n",
    "    else\n",
    "     return l |> isocode\n",
    "    end\n",
    "end\n",
    "using Logging\n",
    "Logging.disable_logging(Logging.Info)"
   ]
  },
  {
   "cell_type": "code",
   "execution_count": 19,
   "metadata": {},
   "outputs": [
    {
     "data": {
      "text/plain": [
       "bmk (generic function with 1 method)"
      ]
     },
     "metadata": {},
     "output_type": "display_data"
    }
   ],
   "source": [
    "function bmk(detector, D, langs)\n",
    "    tp = zeros(length(langs))\n",
    "    total = zeros(length(langs))\n",
    "    for (x, y) in D\n",
    "        y = normcode(y)\n",
    "        if y in langs\n",
    "            ind = findfirst(isequal(y), langs)\n",
    "            y_ = \"\"\n",
    "            try\n",
    "                y_ = normcode(detector(x))\n",
    "            catch\n",
    "                println(\"Error: $detector($(repr(x)))\")\n",
    "            end\n",
    "            if y_ == y\n",
    "                tp[ind] += 1\n",
    "            end\n",
    "            total[ind] += 1\n",
    "        end\n",
    "    end\n",
    "    tp ./ total\n",
    "end\n"
   ]
  },
  {
   "cell_type": "code",
   "execution_count": 20,
   "metadata": {},
   "outputs": [
    {
     "name": "stdout",
     "output_type": "stream",
     "text": [
      "Error: detector_ls(\"w!\")\n"
     ]
    },
    {
     "name": "stdout",
     "output_type": "stream",
     "text": [
      "Error: detector_ls(\"Muiriel은 지금 20살입니다.\")\n",
      "Error: detector_ls(\"비밀번호는 \\\"Muiriel\\\" 입니다.\")\n",
      "Error: detector_ls(\"1, 3 그리고 5는 홀수이다.\")\n",
      "Error: detector_ls(\"Muiriel은 지금 20살이야.\")\n",
      "Error: detector_ls(\"냠!\")\n",
      "Error: detector_ls(\"응.\")\n"
     ]
    },
    {
     "name": "stdout",
     "output_type": "stream",
     "text": [
      "Error: detector_ls(\"Se alkaa 6:30.\")\n"
     ]
    },
    {
     "name": "stdout",
     "output_type": "stream",
     "text": [
      "Error: detector_ls(\"Hän syntyi 28.7.1888.\")\n"
     ]
    },
    {
     "name": "stdout",
     "output_type": "stream",
     "text": [
      "Error: detector_ls(\"Öö...\")\n",
      "Error: detector_ls(\"Yäk!\")\n"
     ]
    },
    {
     "name": "stdout",
     "output_type": "stream",
     "text": [
      "Error: detector_ls(\"Heippa, 2017!\")\n"
     ]
    },
    {
     "name": "stdout",
     "output_type": "stream",
     "text": [
      "Error: detector_ls(\"Ɛreḍ!\")\n"
     ]
    },
    {
     "name": "stdout",
     "output_type": "stream",
     "text": [
      "Error: detector_ls(\"Aẓ-d.\")\n"
     ]
    },
    {
     "name": "stdout",
     "output_type": "stream",
     "text": [
      "Error: detector_ls(\"Ečč mliḥ!\")\n"
     ]
    },
    {
     "name": "stdout",
     "output_type": "stream",
     "text": [
      "Error: detector_ls(\"Ccḍeɣ.\")\n"
     ]
    },
    {
     "name": "stdout",
     "output_type": "stream",
     "text": [
      "Error: detector_ls(\"Ass n 28 Number 2020: 9455, 02:39, tura hah!\")\n"
     ]
    },
    {
     "name": "stdout",
     "output_type": "stream",
     "text": [
      "Error: detector_ls(\"Twehmeḍ?\")\n"
     ]
    },
    {
     "name": "stdout",
     "output_type": "stream",
     "text": [
      "Error: detector_ls(\"Qleε!\")\n"
     ]
    },
    {
     "name": "stdout",
     "output_type": "stream",
     "text": [
      "Error: detector_ls(\"Tɛezmeḍ-d.\")\n",
      "Error: detector_ls(\"Tɛeṭṭleḍ mliḥ.\")\n"
     ]
    },
    {
     "name": "stdout",
     "output_type": "stream",
     "text": [
      "Error: detector_ls(\"Rǧiɣ.\")\n"
     ]
    },
    {
     "name": "stdout",
     "output_type": "stream",
     "text": [
      "Error: detector_ls(\"Ẓeɛḍeɣ.\")\n"
     ]
    },
    {
     "name": "stdout",
     "output_type": "stream",
     "text": [
      "Error: detector_ls(\"Ttuɣ-t.\")\n",
      "Error: detector_ls(\"Aṛẓaẓ\")\n"
     ]
    },
    {
     "name": "stdout",
     "output_type": "stream",
     "text": [
      "Error: detector_ls(\"Tcuff.\")\n"
     ]
    },
    {
     "name": "stdout",
     "output_type": "stream",
     "text": [
      "Error: detector_ls(\"Txezreḍ-t.\")\n"
     ]
    },
    {
     "name": "stdout",
     "output_type": "stream",
     "text": [
      "Error: detector_ls(\"Ṛjiɣ.\")\n"
     ]
    },
    {
     "name": "stdout",
     "output_type": "stream",
     "text": [
      "Error: detector_ls(\"Tgiḍ-t.\")\n"
     ]
    },
    {
     "name": "stdout",
     "output_type": "stream",
     "text": [
      "Error: detector_ls(\"Tferḥeḍ.\")\n",
      "Error: detector_ls(\"Nqeb.\")\n"
     ]
    },
    {
     "name": "stdout",
     "output_type": "stream",
     "text": [
      "Error: detector_ls(\"Iḥu, iḥu!\")\n"
     ]
    },
    {
     "name": "stdout",
     "output_type": "stream",
     "text": [
      "Error: detector_ls(\"Ужо 7.\")\n"
     ]
    },
    {
     "name": "stdout",
     "output_type": "stream",
     "text": [
      "Error: detector_ls(\"Цсс!\")\n"
     ]
    },
    {
     "name": "stdout",
     "output_type": "stream",
     "text": [
      "Error: detector_ls(\"A 12:45?\")\n"
     ]
    },
    {
     "name": "stdout",
     "output_type": "stream",
     "text": [
      "Error: detector_ls(\"Тише!\")\n",
      "Error: detector_ls(\"Брзо!\")\n",
      "Error: detector_ls(\"Хоћеш?\")\n",
      "Error: detector_ls(\"Гледај, гледај!\")\n"
     ]
    },
    {
     "name": "stdout",
     "output_type": "stream",
     "text": [
      "Error: detector_ls(\"Hysj!\")\n"
     ]
    },
    {
     "name": "stdout",
     "output_type": "stream",
     "text": [
      "Error: detector_ls(\"הרגע!\")\n",
      "Error: detector_ls(\"שתקי!\")\n",
      "Error: detector_ls(\"עדיף שתלך.\")\n"
     ]
    },
    {
     "name": "stdout",
     "output_type": "stream",
     "text": [
      "Error: detector_ls(\"אני בן 19.\")\n",
      "Error: detector_ls(\"מוסכם.\")\n",
      "Error: detector_ls(\"איך את מבטאת \\\"pronounce\\\"?\")\n",
      "Error: detector_ls(\"התיבה ריקה.\")\n"
     ]
    },
    {
     "name": "stdout",
     "output_type": "stream",
     "text": [
      "Error: detector_ls(\"הצגה יפה!\")\n",
      "Error: detector_ls(\"מוטב לך ללכת.\")\n"
     ]
    },
    {
     "name": "stdout",
     "output_type": "stream",
     "text": [
      "Error: detector_ls(\"תלבושת יפה!\")\n",
      "Error: detector_ls(\"זה דבר טוב מאד.\")\n",
      "Error: detector_ls(\"מה חדש אצלך?\")\n",
      "Error: detector_ls(\"פשוט תשתחרר.\")\n"
     ]
    },
    {
     "name": "stdout",
     "output_type": "stream",
     "text": [
      "Error: detector_ls(\"מהי טטואבה?\")\n",
      "Error: detector_ls(\"הקוף ברח.\")\n",
      "Error: detector_ls(\"ד\\\"ש לגברת.\")\n",
      "Error: detector_ls(\"אבקש ספל קפה.\")\n",
      "Error: detector_ls(\"צא מכאן.\")\n"
     ]
    },
    {
     "name": "stdout",
     "output_type": "stream",
     "text": [
      "Error: detector_ls(\"זה קר כקרח.\")\n",
      "Error: detector_ls(\"כבר סיימת?\")\n",
      "Error: detector_ls(\"מת?\")\n",
      "Error: detector_ls(\"תיזכרו!\")\n"
     ]
    },
    {
     "name": "stdout",
     "output_type": "stream",
     "text": [
      "Error: detector_ls(\"זה חתול?\")\n",
      "Error: detector_ls(\"תסתפר.\")\n"
     ]
    },
    {
     "name": "stdout",
     "output_type": "stream",
     "text": [
      "Error: detector_ls(\"הסיסמה - \\\"Muiriel\\\".\")\n",
      "Error: detector_ls(\"יש לך בלוג?\")\n",
      "Error: detector_ls(\"השגריר חזר.\")\n",
      "Error: detector_ls(\"כמה זה גדול?\")\n"
     ]
    },
    {
     "name": "stdout",
     "output_type": "stream",
     "text": [
      "Error: detector_ls(\"עוף מפה!\")\n",
      "Error: detector_ls(\"זה צלב בצבע זהב, פשוט יפה.\")\n",
      "Error: detector_ls(\"תפוֹס!\")\n"
     ]
    },
    {
     "name": "stdout",
     "output_type": "stream",
     "text": [
      "Error: detector_ls(\"מוסכם!\")\n",
      "Error: detector_ls(\"כמה חם!\")\n"
     ]
    },
    {
     "name": "stdout",
     "output_type": "stream",
     "text": [
      "Error: detector_ls(\"יש מכשול נוסף.\")\n",
      "Error: detector_ls(\"מוטב שתסתלקו מפה.\")\n",
      "Error: detector_ls(\"עדיף שתצא מפה.\")\n",
      "Error: detector_ls(\"התנהג כגבר.\")\n",
      "Error: detector_ls(\"הביטו, נחש!\")\n"
     ]
    },
    {
     "name": "stdout",
     "output_type": "stream",
     "text": [
      "Error: detector_ls(\"שב פה.\")\n",
      "Error: detector_ls(\"תזדהו.\")\n",
      "Error: detector_ls(\"השארו קצת.\")\n",
      "Error: detector_ls(\"זה נשרף.\")\n",
      "Error: detector_ls(\"לך לשבת.\")\n",
      "Error: detector_ls(\"זה נחוץ.\")\n",
      "Error: detector_ls(\"כתוב תשובה.\")\n",
      "Error: detector_ls(\"מה גובהו?\")\n",
      "Error: detector_ls(\"הצמד לזה!\")\n",
      "Error: detector_ls(\"זה תקציר.\")\n",
      "Error: detector_ls(\"זה נראה סביר.\")\n"
     ]
    },
    {
     "name": "stdout",
     "output_type": "stream",
     "text": [
      "Error: detector_ls(\"הבנק הלווה לחברה \\$1,000,000.\")\n"
     ]
    },
    {
     "name": "stdout",
     "output_type": "stream",
     "text": [
      "Error: detector_ls(\"סבי קצת חרש.\")\n",
      "Error: detector_ls(\"נחת?\")\n",
      "Error: detector_ls(\"זה נראה קרוב.\")\n"
     ]
    },
    {
     "name": "stdout",
     "output_type": "stream",
     "text": [
      "Error: detector_ls(\"תרפו מהנשק!\")\n",
      "Error: detector_ls(\"פשוט שכב בלי תזוזה.\")\n",
      "Error: detector_ls(\"רק תשאר שם.\")\n",
      "Error: detector_ls(\"גש לשם.\")\n",
      "Error: detector_ls(\"אפסיד.\")\n",
      "Error: detector_ls(\"כמה זה יקר?\")\n",
      "Error: detector_ls(\"תום מת ב-2009.\")\n",
      "Error: detector_ls(\"חבל כשמישהו מת.\")\n",
      "Error: detector_ls(\"\\\"בן כמה אתה?\\\" \\\"בן 16\\\".\")\n"
     ]
    },
    {
     "name": "stdout",
     "output_type": "stream",
     "text": [
      "Error: detector_ls(\"תמיד פתוח.\")\n",
      "Error: detector_ls(\"הִרגע.\")\n",
      "Error: detector_ls(\"מסכימה.\")\n",
      "Error: detector_ls(\"תפסיקו!\")\n",
      "Error: detector_ls(\"תלכו מפה!\")\n",
      "Error: detector_ls(\"תעזבי!\")\n",
      "Error: detector_ls(\"תום עוזב ב-2:30.\")\n",
      "Error: detector_ls(\"רואה?\")\n"
     ]
    },
    {
     "name": "stdout",
     "output_type": "stream",
     "text": [
      "Error: detector_ls(\"أحبك.\")\n",
      "Error: detector_ls(\"اخرج!\")\n",
      "Error: detector_ls(\"كم ثمنها؟\")\n",
      "Error: detector_ls(\"بيتك يحتاج لإصلاح.\")\n",
      "Error: detector_ls(\"أحتاج نصيحتك.\")\n",
      "Error: detector_ls(\"أخذتَ مفتاحًا خطأً.\")\n",
      "Error: detector_ls(\"كفى.\")\n",
      "Error: detector_ls(\"عُد قريبًا.\")\n"
     ]
    },
    {
     "name": "stdout",
     "output_type": "stream",
     "text": [
      "Error: detector_ls(\"هناك إضراب.\")\n",
      "Error: detector_ls(\"هل سوف نلتقي غداً؟\")\n",
      "Error: detector_ls(\"كيفَ سيدفع ديونهُ؟\")\n",
      "Error: detector_ls(\"دمك أحمر.\")\n",
      "Error: detector_ls(\"أُدخُلْ.\")\n",
      "Error: detector_ls(\"لم نَنْسَ\")\n",
      "Error: detector_ls(\"أضعت رقم هاتفك.\")\n",
      "Error: detector_ls(\"هيا\")\n"
     ]
    },
    {
     "name": "stdout",
     "output_type": "stream",
     "text": [
      "Error: detector_ls(\"صف سيارتك حيث ترغب.\")\n",
      "Error: detector_ls(\"أحترم آراءكم.\")\n",
      "Error: detector_ls(\"لنسرع.\")\n",
      "Error: detector_ls(\"أظن.\")\n",
      "Error: detector_ls(\"يبدو ذاك كسامي.\")\n",
      "Error: detector_ls(\"لقد غضبوا.\")\n"
     ]
    },
    {
     "name": "stdout",
     "output_type": "stream",
     "text": [
      "Error: detector_ls(\"تشبّث.\")\n",
      "Error: detector_ls(\"زغردي.\")\n",
      "Error: detector_ls(\"سأذاكر.\")\n",
      "Error: detector_ls(\"لم نختبئ؟\")\n",
      "Error: detector_ls(\"هل نسيت شيئا؟\")\n",
      "Error: detector_ls(\"أحب قطتك.\")\n",
      "Error: detector_ls(\"اخفضي رأسك!\")\n",
      "Error: detector_ls(\"هَلْ يَرْتَدُّ أَحَدٌ مِنْهُمْ سَخْطَةً لِدِينِهِ بَعْدَ أَنْ يَدْخُلَ فِيهِ ؟\")\n",
      "Error: detector_ls(\"ارتخى زيري.\")\n",
      "Error: detector_ls(\"وعد زيري.\")\n",
      "Error: detector_ls(\"ابتسم زيري.\")\n",
      "Error: detector_ls(\"وقف زيري.\")\n",
      "Error: detector_ls(\"تقاعد زيري.\")\n",
      "Error: detector_ls(\"نزل زيري.\")\n",
      "Error: detector_ls(\"ادرسي\")\n",
      "Error: detector_ls(\"\\u202cأَنْذَرَهُ\\u202e \\u202cبتَسْلِيمِ\\u202e \\u202cمَنْزِلِهِ.\")\n",
      "Error: detector_ls(\"هو يثق بي.\")\n",
      "Error: detector_ls(\"هل لديك شك.\")\n",
      "Error: detector_ls(\"اختطف زيري.\")\n",
      "Error: detector_ls(\"إضرب!\")\n",
      "Error: detector_ls(\"لدي رقم هاتفه.\")\n"
     ]
    },
    {
     "name": "stdout",
     "output_type": "stream",
     "text": [
      "Error: detector_ls(\"صححوه.\")\n",
      "Error: detector_ls(\"لنعُد !\")\n",
      "Error: detector_ls(\"أعرفكم.\")\n",
      "Error: detector_ls(\"زيري طباخ.\")\n",
      "Error: detector_ls(\"لقد ذهب زيري.\")\n",
      "Error: detector_ls(\"كيف فزت؟\")\n",
      "Error: detector_ls(\"تغطى.\")\n",
      "Error: detector_ls(\"هو ذهب.\")\n",
      "Error: detector_ls(\"سيتبعكم.\")\n",
      "Error: detector_ls(\"جف شعره.\")\n",
      "Error: detector_ls(\"نظر.\")\n",
      "Error: detector_ls(\"صححه.\")\n",
      "Error: detector_ls(\"ضربوه.\")\n",
      "Error: detector_ls(\"قلوه.\")\n",
      "Error: detector_ls(\"قطعوه.\")\n",
      "Error: detector_ls(\"غطوه.\")\n",
      "Error: detector_ls(\"أغرقوه.\")\n",
      "Error: detector_ls(\"هل كسرته؟\")\n",
      "Error: detector_ls(\"لقد غلبه.\")\n",
      "Error: detector_ls(\"هل أعجبوه؟\")\n",
      "Error: detector_ls(\"سأتذوقه.\")\n",
      "Error: detector_ls(\"ستخنقه.\")\n",
      "Error: detector_ls(\"جدوه.\")\n"
     ]
    },
    {
     "name": "stdout",
     "output_type": "stream",
     "text": [
      "Error: detector_ls(\"سيغلبهن.\")\n",
      "Error: detector_ls(\"سبقتك.\")\n",
      "Error: detector_ls(\"هل يحبونك؟\")\n",
      "Error: detector_ls(\"هل يخيفونك؟\")\n",
      "Error: detector_ls(\"سأحاكمك.\")\n",
      "Error: detector_ls(\"سيمسكك.\")\n",
      "Error: detector_ls(\"سيحمينك.\")\n",
      "Error: detector_ls(\"ستتبعك.\")\n",
      "Error: detector_ls(\"سيحرسونك.\")\n",
      "Error: detector_ls(\"ستسعدك.\")\n",
      "Error: detector_ls(\"أحدثت ضجّة.\")\n",
      "Error: detector_ls(\"هل لديك هاتف؟\")\n",
      "Error: detector_ls(\"هل لديك مكتبة؟\")\n",
      "Error: detector_ls(\"كتبت.\")\n",
      "Error: detector_ls(\"هل كتبن رسالة؟\")\n",
      "Error: detector_ls(\"بلدي.\")\n",
      "Error: detector_ls(\"لن نتزوّج.\")\n",
      "Error: detector_ls(\"يحتاجك رضيعك.\")\n",
      "Error: detector_ls(\"فقدت رقمه.\")\n",
      "Error: detector_ls(\"هل لديك رقمه؟\")\n",
      "Error: detector_ls(\"مفاجأة!\")\n",
      "Error: detector_ls(\"هل أحتاج لسوار؟\")\n",
      "Error: detector_ls(\"هل نحتاج مذراة؟\")\n",
      "Error: detector_ls(\"عطشت.\")\n"
     ]
    },
    {
     "name": "stdout",
     "output_type": "stream",
     "text": [
      "Error: detector_ls(\"پدرم دکتره!\")\n",
      "Error: detector_ls(\"جداً؟\")\n"
     ]
    },
    {
     "name": "stdout",
     "output_type": "stream",
     "text": [
      "Error: detector_ls(\"حس ششمت چیست؟\")\n"
     ]
    },
    {
     "name": "stdout",
     "output_type": "stream",
     "text": [
      "Error: detector_ls(\"बदतमीज़!\")\n",
      "Error: detector_ls(\"हाँ, चलो।\")\n",
      "Error: detector_ls(\"नासमझ!\")\n",
      "Error: detector_ls(\"ओफ़ फ़ो.\")\n",
      "Error: detector_ls(\"छोड़ो!\")\n",
      "Error: detector_ls(\"५० येन।\")\n",
      "Error: detector_ls(\"वहाँ बैठ।\")\n",
      "Error: detector_ls(\"वहाँ बैठिए।\")\n"
     ]
    },
    {
     "name": "stdout",
     "output_type": "stream",
     "text": [
      "Error: detector_ls(\"ज़रूर।\")\n",
      "Error: detector_ls(\"बहुत !\")\n",
      "Error: detector_ls(\"मुस्कुराओ!\")\n"
     ]
    },
    {
     "name": "stdout",
     "output_type": "stream",
     "text": [
      "Error: detector_ls(\"Филма има ли го в YouTube?\")\n"
     ]
    },
    {
     "name": "stdout",
     "output_type": "stream",
     "text": [
      "Error: detector_ls(\"ते घर जळतंय.\")\n",
      "Error: detector_ls(\"एस्पेरांतोमध्ये २८ अक्षरं आहेत: a, b, c, ĉ, d, e, f, g, ĝ, h, ĥ, i, j, ĵ, k, l, m, n, o, p, r, s, ŝ, t, u, ŭ, v, z.\")\n"
     ]
    },
    {
     "name": "stdout",
     "output_type": "stream",
     "text": [
      "Error: detector_ls(\"बघू...\")\n",
      "Error: detector_ls(\"ठेव.\")\n"
     ]
    },
    {
     "name": "stdout",
     "output_type": "stream",
     "text": [
      "Error: detector_ls(\"लढू.\")\n",
      "Error: detector_ls(\"तू फ्रेंच बोलतेस, बरोबर?\")\n"
     ]
    },
    {
     "name": "stdout",
     "output_type": "stream",
     "text": [
      "Error: detector_ls(\"\\\"http://example.org/\\\" हे एक यू.आर.एल. आहे.\")\n",
      "Error: detector_ls(\"औषध घे.\")\n",
      "Error: detector_ls(\"छतावर चढा.\")\n",
      "Error: detector_ls(\"तुझं तोंड उघड!\")\n"
     ]
    },
    {
     "name": "stdout",
     "output_type": "stream",
     "text": [
      "Error: detector_ls(\"टॉम गाईल.\")\n",
      "Error: detector_ls(\"बसा.\")\n",
      "Error: detector_ls(\"उड.\")\n",
      "Error: detector_ls(\"चढा!\")\n"
     ]
    },
    {
     "name": "stdout",
     "output_type": "stream",
     "text": [
      "Error: detector_ls(\"शेंबुड पुस.\")\n",
      "Error: detector_ls(\"नीट बघा.\")\n"
     ]
    },
    {
     "name": "stdout",
     "output_type": "stream",
     "text": [
      "Error: detector_ls(\"बरं!\")\n",
      "Error: detector_ls(\"खरच ते!\")\n",
      "Error: detector_ls(\"ऐका...\")\n",
      "Error: detector_ls(\"झोपा!\")\n"
     ]
    },
    {
     "name": "stdout",
     "output_type": "stream",
     "text": [
      "Error: detector_ls(\"चल.\")\n",
      "Error: detector_ls(\"तू येतोस.\")\n"
     ]
    },
    {
     "name": "stdout",
     "output_type": "stream",
     "text": [
      "Error: detector_ls(\"Nací en 1979.\")\n"
     ]
    },
    {
     "name": "stdout",
     "output_type": "stream",
     "text": [
      "Error: detector_ls(\"Nací en 1982.\")\n"
     ]
    },
    {
     "name": "stdout",
     "output_type": "stream",
     "text": [
      "Error: detector_ls(\"\\\"¿Yo?\\\" \\\"¡Sí, vos!\\\"\")\n"
     ]
    },
    {
     "name": "stdout",
     "output_type": "stream",
     "text": [
      "Error: detector_ls(\"Nací en 1980.\")\n"
     ]
    },
    {
     "name": "stdout",
     "output_type": "stream",
     "text": [
      "Error: detector_ls(\"Den är 9.15.\")\n"
     ]
    },
    {
     "name": "stdout",
     "output_type": "stream",
     "text": [
      "Error: detector_ls(\"Rövhål!\")\n"
     ]
    },
    {
     "name": "stdout",
     "output_type": "stream",
     "text": [
      "Error: detector_ls(\"J'ai 24 ans.\")\n"
     ]
    },
    {
     "name": "stdout",
     "output_type": "stream",
     "text": [
      "Error: detector_ls(\"Bonne année 2022/2972 !\")\n"
     ]
    },
    {
     "name": "stdout",
     "output_type": "stream",
     "text": [
      "Error: detector_ls(\"On ferme à 2 h 30.\")\n"
     ]
    },
    {
     "name": "stdout",
     "output_type": "stream",
     "text": [
      "Error: detector_ls(\"Jövök.\")\n"
     ]
    },
    {
     "name": "stdout",
     "output_type": "stream",
     "text": [
      "Error: detector_ls(\"Túloztál.\")\n"
     ]
    },
    {
     "name": "stdout",
     "output_type": "stream",
     "text": [
      "Error: detector_ls(\"Jószívű.\")\n"
     ]
    },
    {
     "name": "stdout",
     "output_type": "stream",
     "text": [
      "Error: detector_ls(\"Örülök.\")\n"
     ]
    },
    {
     "name": "stdout",
     "output_type": "stream",
     "text": [
      "Error: detector_ls(\"Örüljünk!\")\n"
     ]
    },
    {
     "name": "stdout",
     "output_type": "stream",
     "text": [
      "Error: detector_ls(\"A latin nyelv 23 betűt használ: a, b, c, d, e, f, g, h, i, k, l, m, n, o, p, q, r, s, t, u, x,y, z.\")\n",
      "Error: detector_ls(\"A francia ábécében huszonhat betű van: a, b, c, d, e, f, g, h, i, j, k, l, m, n, o, p, q, r, s, t, u, v, w, x, y, z.\")\n"
     ]
    },
    {
     "name": "stdout",
     "output_type": "stream",
     "text": [
      "Error: detector_ls(\"- Ez őz? - Az.\")\n"
     ]
    },
    {
     "name": "stdout",
     "output_type": "stream",
     "text": [
      "Error: detector_ls(\"Bögyös.\")\n"
     ]
    },
    {
     "name": "stdout",
     "output_type": "stream",
     "text": [
      "Error: detector_ls(\"Hétfő jó?\")\n"
     ]
    },
    {
     "name": "stdout",
     "output_type": "stream",
     "text": [
      "Error: detector_ls(\"\\\"Age?\\\" \\\"16.\\\"\")\n"
     ]
    },
    {
     "name": "stdout",
     "output_type": "stream",
     "text": [
      "Error: detector_ls(\"So is it 19 or is it 20?\")\n"
     ]
    },
    {
     "name": "stdout",
     "output_type": "stream",
     "text": [
      "Error: detector_ls(\"If a = b and b = c, then a = c.\")\n"
     ]
    },
    {
     "name": "stdout",
     "output_type": "stream",
     "text": [
      "Error: detector_ls(\"3 plus 5 is 8.\")\n"
     ]
    },
    {
     "name": "stdout",
     "output_type": "stream",
     "text": [
      "Error: detector_ls(\"He came at 2:30.\")\n",
      "Error: detector_ls(\"He died at 2:30.\")\n"
     ]
    },
    {
     "name": "stdout",
     "output_type": "stream",
     "text": [
      "Error: detector_ls(\"It's 8.00 p.m.\")\n"
     ]
    },
    {
     "name": "stdout",
     "output_type": "stream",
     "text": [
      "Error: detector_ls(\"I get up at 7.00.\")\n"
     ]
    },
    {
     "name": "stdout",
     "output_type": "stream",
     "text": [
      "Error: detector_ls(\"ببوورە...\")\n",
      "Error: detector_ls(\"پارە نییە.\")\n",
      "Error: detector_ls(\"ژمارە\")\n",
      "Error: detector_ls(\"بێزارم لێت.\")\n"
     ]
    },
    {
     "name": "stdout",
     "output_type": "stream",
     "text": [
      "Error: detector_ls(\"تۆ قۆشمەی.\")\n",
      "Error: detector_ls(\"نەبەزم.\")\n"
     ]
    },
    {
     "name": "stdout",
     "output_type": "stream",
     "text": [
      "Error: detector_ls(\"Hier sind 10,00 \\$.\")\n"
     ]
    },
    {
     "name": "stdout",
     "output_type": "stream",
     "text": [
      "Error: detector_ls(\"Hmm...\")\n"
     ]
    },
    {
     "name": "stdout",
     "output_type": "stream",
     "text": [
      "Error: detector_ls(\"Tenho 1,83m.\")\n"
     ]
    },
    {
     "name": "stdout",
     "output_type": "stream",
     "text": [
      "Error: detector_ls(\"Agora, no Latim existem 23 letras: a, b, c, d, e, f, g, h, i, k, l, m, n, o, p, q, r, s, t, u, x, y e z.\")\n"
     ]
    },
    {
     "name": "stdout",
     "output_type": "stream",
     "text": [
      "Error: detector_ls(\"São 10h20.\")\n"
     ]
    },
    {
     "name": "stdout",
     "output_type": "stream",
     "text": [
      "Error: detector_ls(\"Брэд Питт — актёр.\")\n"
     ]
    },
    {
     "name": "stdout",
     "output_type": "stream",
     "text": [
      "Error: detector_ls(\"Тихо!\")\n"
     ]
    },
    {
     "name": "stdout",
     "output_type": "stream",
     "text": [
      "Error: detector_ls(\"Ух ты!\")\n"
     ]
    },
    {
     "name": "stdout",
     "output_type": "stream",
     "text": [
      "Error: detector_ls(\"«Ты поела?» — «Да».\")\n"
     ]
    },
    {
     "name": "stdout",
     "output_type": "stream",
     "text": [
      "Error: detector_ls(\"Я сыт.\")\n"
     ]
    },
    {
     "name": "stdout",
     "output_type": "stream",
     "text": [
      "Error: detector_ls(\"Ты скучаешь здесь?\")\n"
     ]
    },
    {
     "name": "stdout",
     "output_type": "stream",
     "text": [
      "Error: detector_ls(\"Ты ешь.\")\n"
     ]
    },
    {
     "name": "stdout",
     "output_type": "stream",
     "text": [
      "Error: detector_ls(\"У тебя есть WhatsApp?\")\n"
     ]
    },
    {
     "name": "stdout",
     "output_type": "stream",
     "text": [
      "Error: detector_ls(\"Я угощаю.\")\n"
     ]
    },
    {
     "name": "stdout",
     "output_type": "stream",
     "text": [
      "Error: detector_ls(\"Множественное число слова «person» - «people», а не «persons».\")\n"
     ]
    },
    {
     "name": "stdout",
     "output_type": "stream",
     "text": [
      "Error: detector_ls(\"Ложись!\")\n",
      "Error: detector_ls(\"Да, и?\")\n",
      "Error: detector_ls(\"В Англии метро называется не «subway», а «underground».\")\n"
     ]
    },
    {
     "name": "stdout",
     "output_type": "stream",
     "text": [
      "Error: detector_ls(\"Ты мэр?\")\n",
      "Error: detector_ls(\"\\\"Том!\\\" - \\\"Мэри!\\\"\")\n"
     ]
    },
    {
     "name": "stdout",
     "output_type": "stream",
     "text": [
      "Error: detector_ls(\"Я ел хлеб.\")\n"
     ]
    },
    {
     "name": "stdout",
     "output_type": "stream",
     "text": [
      "Error: detector_ls(\"Сейчас -10 °C.\")\n"
     ]
    },
    {
     "name": "stdout",
     "output_type": "stream",
     "text": [
      "Error: detector_ls(\"\\\"Кто там?\\\" - \\\"Свои\\\".\")\n"
     ]
    },
    {
     "name": "stdout",
     "output_type": "stream",
     "text": [
      "Error: detector_ls(\"О, да!\")\n",
      "Error: detector_ls(\"Пьёшь?\")\n"
     ]
    },
    {
     "name": "stdout",
     "output_type": "stream",
     "text": [
      "Error: detector_ls(\"Идём.\")\n"
     ]
    },
    {
     "name": "stdout",
     "output_type": "stream",
     "text": [
      "Error: detector_ls(\"\\\"Ну и что?\\\" - \\\"Ну и то!\\\"\")\n"
     ]
    },
    {
     "name": "stdout",
     "output_type": "stream",
     "text": [
      "Error: detector_ls(\"\\\"Ты кто?\\\" - \\\"Том\\\".\")\n"
     ]
    },
    {
     "name": "stdout",
     "output_type": "stream",
     "text": [
      "Error: detector_ls(\"\\\"Это не я\\\". - \\\"А кто?\\\"\")\n"
     ]
    },
    {
     "name": "stdout",
     "output_type": "stream",
     "text": [
      "Error: detector_ls(\"Арбуз лопнул.\")\n"
     ]
    },
    {
     "name": "stdout",
     "output_type": "stream",
     "text": [
      "Error: detector_ls(\"Ты ночью храпел.\")\n"
     ]
    },
    {
     "name": "stdout",
     "output_type": "stream",
     "text": [
      "Error: detector_ls(\"Текущий пароль: \\\"eosdigital\\\".\")\n"
     ]
    },
    {
     "name": "stdout",
     "output_type": "stream",
     "text": [
      "Error: detector_ls(\"Эй!\")\n"
     ]
    },
    {
     "name": "stdout",
     "output_type": "stream",
     "text": [
      "Error: detector_ls(\"Я убью её.\")\n"
     ]
    },
    {
     "name": "stdout",
     "output_type": "stream",
     "text": [
      "Error: detector_ls(\"Письмо я сжёг.\")\n"
     ]
    },
    {
     "name": "stdout",
     "output_type": "stream",
     "text": [
      "Error: detector_ls(\"Фи!\")\n"
     ]
    },
    {
     "name": "stdout",
     "output_type": "stream",
     "text": [
      "Error: detector_ls(\"«Ты где?» – «Тут!»\")\n"
     ]
    },
    {
     "name": "stdout",
     "output_type": "stream",
     "text": [
      "Error: detector_ls(\"Ты зол.\")\n"
     ]
    },
    {
     "name": "stdout",
     "output_type": "stream",
     "text": [
      "Error: detector_ls(\"И?\")\n"
     ]
    },
    {
     "name": "stdout",
     "output_type": "stream",
     "text": [
      "Error: detector_ls(\"Шут!\")\n"
     ]
    },
    {
     "name": "stdout",
     "output_type": "stream",
     "text": [
      "Error: detector_ls(\"Жартуєш?\")\n",
      "Error: detector_ls(\"Охолонь.\")\n"
     ]
    },
    {
     "name": "stdout",
     "output_type": "stream",
     "text": [
      "Error: detector_ls(\"Французька абетка складається з двадцяти шести літер: a, b, c, d, e, f, g, h, i, j, k, l, m, n, o, p, q, r, s, t, u, v, w, x, y, z.\")\n",
      "Error: detector_ls(\"Чуєш?\")\n"
     ]
    },
    {
     "name": "stdout",
     "output_type": "stream",
     "text": [
      "Error: detector_ls(\"Я схвалюю.\")\n",
      "Error: detector_ls(\"Розв'яжи кубічне рівняння: x³ + 2x² − x − 2 = 0.\")\n"
     ]
    },
    {
     "name": "stdout",
     "output_type": "stream",
     "text": [
      "Error: detector_ls(\"Я хочу MP3-плеєр!\")\n"
     ]
    },
    {
     "name": "stdout",
     "output_type": "stream",
     "text": [
      "Error: detector_ls(\"Ви приймаєте картки American Express?\")\n"
     ]
    },
    {
     "name": "stdout",
     "output_type": "stream",
     "text": [
      "Error: detector_ls(\"Зараз 2:30.\")\n",
      "Error: detector_ls(\"Йдемо?\")\n"
     ]
    },
    {
     "name": "stdout",
     "output_type": "stream",
     "text": [
      "Error: detector_ls(\"Приймаються картки MasterCard та Visa.\")\n"
     ]
    },
    {
     "name": "stdout",
     "output_type": "stream",
     "text": [
      "Error: detector_ls(\"Естер любить музику Happy Hardcore.\")\n",
      "Error: detector_ls(\"Е...\")\n",
      "Error: detector_ls(\"Хм...\")\n",
      "Error: detector_ls(\"Тихо.\")\n"
     ]
    },
    {
     "name": "stdout",
     "output_type": "stream",
     "text": [
      "Error: detector_ls(\"Тікаймо!\")\n",
      "Error: detector_ls(\"Ризикнеш?\")\n"
     ]
    },
    {
     "name": "stdout",
     "output_type": "stream",
     "text": [
      "Error: detector_ls(\"Лох!\")\n",
      "Error: detector_ls(\"O 80 kilo.\")\n",
      "Error: detector_ls(\"Açım!\")\n"
     ]
    },
    {
     "name": "stdout",
     "output_type": "stream",
     "text": [
      "Error: detector_ls(\"12:45'e ne dersin?\")\n"
     ]
    },
    {
     "name": "stdout",
     "output_type": "stream",
     "text": [
      "Error: detector_ls(\"Güldük.\")\n",
      "Error: detector_ls(\"Mısırlıyım.\")\n"
     ]
    },
    {
     "name": "stdout",
     "output_type": "stream",
     "text": [
      "Error: detector_ls(\"Saat 7.45.\")\n"
     ]
    },
    {
     "name": "stdout",
     "output_type": "stream",
     "text": [
      "Error: detector_ls(\"Aşıktım.\")\n"
     ]
    },
    {
     "name": "stdout",
     "output_type": "stream",
     "text": [
      "Error: detector_ls(\"Sür!\")\n"
     ]
    },
    {
     "name": "stdout",
     "output_type": "stream",
     "text": [
      "Error: detector_ls(\"Sıkıcı!\")\n"
     ]
    },
    {
     "name": "stdout",
     "output_type": "stream",
     "text": [
      "Error: detector_ls(\"Aşçıyım.\")\n"
     ]
    },
    {
     "name": "stdout",
     "output_type": "stream",
     "text": [
      "Error: detector_ls(\"Üşüdüm.\")\n"
     ]
    },
    {
     "name": "stdout",
     "output_type": "stream",
     "text": [
      "Error: detector_ls(\"Mi diede 10.000 yen.\")\n"
     ]
    },
    {
     "name": "stdout",
     "output_type": "stream",
     "text": [
      "Error: detector_ls(\"500 Gb?\")\n"
     ]
    },
    {
     "name": "stdout",
     "output_type": "stream",
     "text": [
      "Error: detector_ls(\"Uh?\")\n"
     ]
    },
    {
     "name": "stdout",
     "output_type": "stream",
     "text": [
      "Error: detector_ls(\"Sì... ah ah ah... sì!\")\n"
     ]
    },
    {
     "name": "stdout",
     "output_type": "stream",
     "text": [
      "Error: detector_ls(\"Ο David Beckham είναι άγγλος.\")\n"
     ]
    },
    {
     "name": "stdout",
     "output_type": "stream",
     "text": [
      "Error: detector_ls(\"Ο Yankev και ο Sheyne είναι φίλοι.\")\n"
     ]
    },
    {
     "name": "stdout",
     "output_type": "stream",
     "text": [
      "Error: detector_ls(\"Jest 17:00.\")\n",
      "Error: detector_ls(\"Jest 20 po 10.\")\n"
     ]
    },
    {
     "name": "stdout",
     "output_type": "stream",
     "text": [
      "Error: detector_ls(\"''Dar kavos?'' - ''Ne, ačiū.''\")\n"
     ]
    },
    {
     "name": "stdout",
     "output_type": "stream",
     "text": [
      "Error: detector_ls(\"Píš!\")\n"
     ]
    },
    {
     "name": "stdout",
     "output_type": "stream",
     "text": [
      "Error: detector_ls(\"Ồ, OK.\")\n"
     ]
    },
    {
     "name": "stdout",
     "output_type": "stream",
     "text": [
      "Error: detector_ls(\"Пиев.\")\n"
     ]
    },
    {
     "name": "stdout",
     "output_type": "stream",
     "text": [
      "Error: detector_ls(\"Mlč!\")\n"
     ]
    },
    {
     "name": "stdout",
     "output_type": "stream",
     "text": [
      "319.487865 seconds (139.70 M allocations: 8.376 GiB, 0.41% gc time, 0.19% compilation time)\n"
     ]
    },
    {
     "name": "stdout",
     "output_type": "stream",
     "text": [
      "1466.109941 seconds (10.92 G allocations: 360.185 GiB, 2.63% gc time, 0.01% compilation time)\n"
     ]
    }
   ],
   "source": [
    "@time bmk_ls = bmk(detector_ls, TV, LANGS);\n",
    "@time bmk_ld = bmk(detector_ld, TV, LANGS);\n",
    "# @time bmk_lf = bmk(detector_lf, TV, LANGS);\n",
    ";"
   ]
  },
  {
   "cell_type": "code",
   "execution_count": 23,
   "metadata": {},
   "outputs": [
    {
     "data": {
      "text/markdown": [
       "|                   | ara    | bel    | ben     | bul    | cat    | ces    | dan    | deu    | ell     | eng    | epo    | fas    | fin    | fra    | hau    | hbs    | heb     | hin    | hun    | ido | ina | isl | ita    | jpn    | kab | kor    | kur | lat | lit    | mar    | mkd    | msa    | nds | nld    | nor    | pol    | por    | ron    | rus    | slk    | spa    | swa    | swe    | tat | tgl    | tur    | ukr    | vie    | yid    | zho    |\n",
       "|-------------------|--------|--------|---------|--------|--------|--------|--------|--------|---------|--------|--------|--------|--------|--------|--------|--------|---------|--------|--------|-----|-----|-----|--------|--------|-----|--------|-----|-----|--------|--------|--------|--------|-----|--------|--------|--------|--------|--------|--------|--------|--------|--------|--------|-----|--------|--------|--------|--------|--------|--------|\n",
       "|      Languages.jl | 85.55% | 80.47% | 100.00% | 62.46% |      - | 48.90% | 47.06% | 90.48% |  99.89% | 78.21% | 64.61% | 95.00% | 76.87% | 82.21% | 92.85% | 60.28% |  95.75% | 62.99% | 73.99% |   - |   - |   - | 66.27% | 99.97% |   - | 98.97% |   - |   - | 61.94% | 72.05% | 51.40% | 71.26% |   - | 78.91% | 66.74% | 72.66% | 77.35% | 70.87% | 52.59% |      - | 61.89% |      - | 52.46% |   - | 63.96% | 52.10% | 62.63% | 84.06% | 98.39% | 99.86% |\n",
       "| LanguageDetect.jl | 93.48% |      - | 100.00% | 62.86% | 57.21% | 71.26% | 51.56% | 81.81% | 100.00% | 74.64% |      - | 93.83% | 90.24% | 77.13% |      - | 26.90% | 100.00% | 92.91% | 86.44% |   - |   - |   - | 69.22% | 99.85% |   - | 99.48% |   - |   - | 81.41% | 86.98% | 73.93% | 85.34% |   - | 65.77% | 55.50% | 92.64% | 70.23% | 84.87% | 78.17% | 57.37% | 60.48% | 84.98% | 69.76% |   - | 90.72% | 90.39% | 72.41% | 99.75% |      - | 98.64% |\n"
      ],
      "text/plain": [
       "DisplayAs.Raw.Showable{MIME{Symbol(\"text/markdown\")}}(UInt8[0x7c, 0x20, 0x20, 0x20, 0x20, 0x20, 0x20, 0x20, 0x20, 0x20  …  0x20, 0x39, 0x38, 0x2e, 0x36, 0x34, 0x25, 0x20, 0x7c, 0x0a])"
      ]
     },
     "metadata": {},
     "output_type": "display_data"
    }
   ],
   "source": [
    "using Printf\n",
    "fmt(v) = v isa Real ? (v!=0 ? (@sprintf \"%0.2f%%\" v*100) : \"-\") : v\n",
    "tb = [\"Languages.jl\"; bmk_ls ;; \"LanguageDetect.jl\"; bmk_ld]# ;; \"LanguageFind\"; bmk_lf]\n",
    "hd = [\"\"; LANGS]\n",
    "markdown_table(Tables.table(permutedims(tb), header=hd), formatter=fmt)"
   ]
  },
  {
   "cell_type": "code",
   "execution_count": 24,
   "metadata": {},
   "outputs": [
    {
     "name": "stdout",
     "output_type": "stream",
     "text": [
      "|                   | ara    | bel    | ben     | bul    | cat    | ces    | dan    | deu    | ell     | eng    | epo    | fas    | fin    | fra    | hau    | hbs    | heb     | hin    | hun    | ido | ina | isl | ita    | jpn    | kab | kor    | kur | lat | lit    | mar    | mkd    | msa    | nds | nld    | nor    | pol    | por    | ron    | rus    | slk    | spa    | swa    | swe    | tat | tgl    | tur    | ukr    | vie    | yid    | zho    |\n",
      "|-------------------|--------|--------|---------|--------|--------|--------|--------|--------|---------|--------|--------|--------|--------|--------|--------|--------|---------|--------|--------|-----|-----|-----|--------|--------|-----|--------|-----|-----|--------|--------|--------|--------|-----|--------|--------|--------|--------|--------|--------|--------|--------|--------|--------|-----|--------|--------|--------|--------|--------|--------|\n",
      "|      Languages.jl | 85.55% | 80.47% | 100.00% | 62.46% |      - | 48.90% | 47.06% | 90.48% |  99.89% | 78.21% | 64.61% | 95.00% | 76.87% | 82.21% | 92.85% | 60.28% |  95.75% | 62.99% | 73.99% |   - |   - |   - | 66.27% | 99.97% |   - | 98.97% |   - |   - | 61.94% | 72.05% | 51.40% | 71.26% |   - | 78.91% | 66.74% | 72.66% | 77.35% | 70.87% | 52.59% |      - | 61.89% |      - | 52.46% |   - | 63.96% | 52.10% | 62.63% | 84.06% | 98.39% | 99.86% |\n",
      "| LanguageDetect.jl | 93.48% |      - | 100.00% | 62.86% | 57.21% | 71.26% | 51.56% | 81.81% | 100.00% | 74.64% |      - | 93.83% | 90.24% | 77.13% |      - | 26.90% | 100.00% | 92.91% | 86.44% |   - |   - |   - | 69.22% | 99.85% |   - | 99.48% |   - |   - | 81.41% | 86.98% | 73.93% | 85.34% |   - | 65.77% | 55.50% | 92.64% | 70.23% | 84.87% | 78.17% | 57.37% | 60.48% | 84.98% | 69.76% |   - | 90.72% | 90.39% | 72.41% | 99.75% |      - | 98.64% |\n"
     ]
    }
   ],
   "source": [
    "markdown_table(Tables.table(permutedims(tb), header=hd),String, formatter=fmt)|>print"
   ]
  }
 ],
 "metadata": {
  "kernelspec": {
   "display_name": "Julia 1.9.2",
   "language": "julia",
   "name": "julia-1.9"
  },
  "language_info": {
   "file_extension": ".jl",
   "mimetype": "application/julia",
   "name": "julia",
   "version": "1.9.2"
  },
  "orig_nbformat": 4
 },
 "nbformat": 4,
 "nbformat_minor": 2
}
