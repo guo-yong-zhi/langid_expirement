{
 "cells": [
  {
   "cell_type": "code",
   "execution_count": 1,
   "metadata": {},
   "outputs": [
    {
     "data": {
      "text/plain": [
       "load_vocab (generic function with 1 method)"
      ]
     },
     "metadata": {},
     "output_type": "display_data"
    }
   ],
   "source": [
    "using Plots\n",
    "include(\"datasetloader.jl\")\n",
    "include(\"ngrams.jl\")"
   ]
  },
  {
   "cell_type": "code",
   "execution_count": 2,
   "metadata": {},
   "outputs": [
    {
     "data": {
      "text/plain": [
       "norm_table! (generic function with 1 method)"
      ]
     },
     "metadata": {},
     "output_type": "display_data"
    }
   ],
   "source": [
    "function norm_table!(t)\n",
    "    D = last(t)\n",
    "    vs = sum(values(D))\n",
    "    for (k, v) in D\n",
    "        D[k] /= vs\n",
    "        D[k] = log(D[k])\n",
    "    end\n",
    "end"
   ]
  },
  {
   "cell_type": "code",
   "execution_count": 142,
   "metadata": {},
   "outputs": [
    {
     "data": {
      "text/plain": [
       "Dict{Tuple{UInt8, Vararg{UInt8}}, Float64} with 910697 entries:\n",
       "  (0xb6, 0x6c, 0x76, 0x20)       => 2.51294e-6\n",
       "  (0x6f, 0x20, 0x6b, 0x65, 0x73) => 1.48226e-6\n",
       "  (0x74, 0x65, 0x64, 0x20, 0x63) => 3.7827e-6\n",
       "  (0x20, 0x74, 0x75, 0x6c, 0x6d) => 4.02394e-7\n",
       "  (0x6e, 0x65, 0x72, 0x77, 0x6f) => 2.03344e-6\n",
       "  (0x74, 0x20, 0x62, 0x6c)       => 0.00012263\n",
       "  (0x6f, 0x62, 0x65, 0x79, 0x65) => 1.14394e-7\n",
       "  (0x6d, 0x20, 0x61, 0xc5, 0xad) => 1.30035e-6\n",
       "  (0x88, 0x89, 0xe8, 0xa1, 0x8c) => 4.0716e-6\n",
       "  (0xa5, 0x75, 0x20)             => 3.519e-5\n",
       "  (0x6a, 0x6e, 0x20, 0x61, 0x62) => 1.01613e-7\n",
       "  (0x97, 0xb6, 0xe7)             => 6.96995e-6\n",
       "  (0x6d, 0x20, 0x74, 0x69, 0x6f) => 1.64769e-6\n",
       "  (0x6f, 0x6e, 0x73, 0x69, 0x6e) => 7.88614e-6\n",
       "  (0x20, 0x64, 0x6f, 0x72, 0x66) => 1.00262e-5\n",
       "  (0x82, 0x92, 0xe5, 0x90, 0x90) => 4.51904e-7\n",
       "  (0x72, 0x74, 0x20, 0x6a, 0x65) => 1.74196e-6\n",
       "  (0x20, 0x74, 0x65, 0x79)       => 2.84771e-6\n",
       "  (0xa8, 0xd8, 0xa7, 0x20, 0xd8) => 0.000107501\n",
       "  ⋮                              => ⋮"
      ]
     },
     "metadata": {},
     "output_type": "display_data"
    }
   ],
   "source": [
    "GS = Dict()\n",
    "for lang in LANGS\n",
    "    GS[lang] = load_ngrams(joinpath(\"ngrams0\", lang * \".txt\"))\n",
    "end\n",
    "G_sum = sum(values(GS))\n",
    "all_codes = collect(keys(G_sum));\n",
    "G_avg = (1/50)*G_sum"
   ]
  },
  {
   "cell_type": "code",
   "execution_count": 143,
   "metadata": {},
   "outputs": [
    {
     "data": {
      "text/plain": [
       "50-element Vector{Pair{String, Float64}}:\n",
       " \"rus\" => 35.58628331397364\n",
       " \"eng\" => 34.9222755314685\n",
       " \"deu\" => 34.27479354056816\n",
       " \"ita\" => 34.02995117687403\n",
       " \"tur\" => 33.9756367322808\n",
       " \"fra\" => 33.6822524184102\n",
       " \"heb\" => 33.557930400893184\n",
       " \"spa\" => 33.3947337918854\n",
       " \"por\" => 33.38888763544047\n",
       " \"jpn\" => 33.379976385875494\n",
       "       ⋮\n",
       " \"tat\" => 29.50726455626446\n",
       " \"nor\" => 29.500759446814286\n",
       " \"nds\" => 29.47648987077519\n",
       " \"vie\" => 29.430768780601717\n",
       " \"kor\" => 29.204329962552144\n",
       " \"cat\" => 29.072319269071944\n",
       " \"isl\" => 28.894979639764063\n",
       " \"slk\" => 28.702952882802748\n",
       " \"ido\" => 28.034869375267558"
      ]
     },
     "metadata": {},
     "output_type": "display_data"
    }
   ],
   "source": [
    "sort([l=>sum(values(D)) for (l, D) in GS], by=last, rev=true)"
   ]
  },
  {
   "cell_type": "code",
   "execution_count": 144,
   "metadata": {},
   "outputs": [
    {
     "data": {
      "text/plain": [
       "-17.203694184405627"
      ]
     },
     "metadata": {},
     "output_type": "display_data"
    }
   ],
   "source": [
    "norm_table!.(collect(GS));\n",
    "norm_table!(1=>G_avg);\n",
    "DEFAULT_LOGP = (minimum.(values.(last.(collect(GS))))|>minimum)\n"
   ]
  },
  {
   "cell_type": "code",
   "execution_count": 145,
   "metadata": {},
   "outputs": [
    {
     "data": {
      "text/plain": [
       "code_score (generic function with 1 method)"
      ]
     },
     "metadata": {},
     "output_type": "display_data"
    }
   ],
   "source": [
    "code_score(code) = only(diff(extrema([get(D, code, DEFAULT_LOGP) for D in values(GS)])|>collect)) + G_avg[code]"
   ]
  },
  {
   "cell_type": "code",
   "execution_count": 146,
   "metadata": {},
   "outputs": [
    {
     "data": {
      "text/plain": [
       "910697-element Vector{Pair{A, Float64} where A}:\n",
       "       (0xb6, 0x6c, 0x76, 0x20) => -11.498977207702632\n",
       " (0x6f, 0x20, 0x6b, 0x65, 0x73) => -12.858051933672316\n",
       " (0x74, 0x65, 0x64, 0x20, 0x63) => -10.991295972168448\n",
       " (0x20, 0x74, 0x75, 0x6c, 0x6d) => -15.248241707319703\n",
       " (0x6e, 0x65, 0x72, 0x77, 0x6f) => -11.9856153849424\n",
       "       (0x74, 0x20, 0x62, 0x6c) => -4.9841811906508084\n",
       " (0x6f, 0x62, 0x65, 0x79, 0x65) => -17.84762515785424\n",
       " (0x6d, 0x20, 0x61, 0xc5, 0xad) => -12.934035318721964\n",
       " (0x88, 0x89, 0xe8, 0xa1, 0x8c) => -10.566316306224147\n",
       "             (0xa5, 0x75, 0x20) => -6.450799493549852\n",
       "                                ⋮\n",
       " (0x6e, 0x6f, 0x74, 0x73, 0x20) => -15.049200145457807\n",
       " (0x20, 0x6a, 0x6f, 0x74, 0x6b) => -8.075808444245268\n",
       " (0xdb, 0x8c, 0xd8, 0xb4, 0xdb) => -6.772509627947278\n",
       "             (0x69, 0x70, 0x65) => -5.0409705589607405\n",
       "       (0xab, 0x72, 0x6f, 0x6a) => -11.528706118771044\n",
       "       (0x74, 0xc3, 0xb3, 0xc5) => -12.48744652794131\n",
       "       (0x6f, 0x73, 0x20, 0x65) => -2.78244787124906\n",
       " (0x6c, 0x62, 0x69, 0x20, 0xc9) => -16.477242860447213\n",
       " (0xe5, 0xaf, 0xb9, 0xe6, 0x96) => -12.670073596136064"
      ]
     },
     "metadata": {},
     "output_type": "display_data"
    }
   ],
   "source": [
    "code_std = [code => code_score(code) for code in all_codes]"
   ]
  },
  {
   "cell_type": "code",
   "execution_count": 147,
   "metadata": {},
   "outputs": [
    {
     "data": {
      "text/plain": [
       "910697-element Vector{Pair{A, Float64} where A}:\n",
       "                        (0xd0,) => 9.789988328246363\n",
       "                        (0xd7,) => 9.189355800444929\n",
       "                        (0xe0,) => 8.540854352603098\n",
       "                        (0xa4,) => 8.533526354050773\n",
       "                        (0xd1,) => 8.398282134091286\n",
       "                        (0xd8,) => 8.188728589837648\n",
       "                   (0xe0, 0xa4) => 8.13202681884915\n",
       "                   (0x20, 0xe0) => 7.97008073646502\n",
       "                        (0xa6,) => 7.748458490711571\n",
       "                        (0xce,) => 7.711652084296042\n",
       "                                ⋮\n",
       " (0x6f, 0x61, 0x73, 0x69, 0x61) => -21.005582567753024\n",
       " (0x73, 0x65, 0x65, 0x64, 0x6c) => -21.005582567753024\n",
       " (0x62, 0x65, 0x67, 0x65, 0x74) => -21.005582567753024\n",
       " (0x68, 0x20, 0x6d, 0x6f, 0x6d) => -21.005582567753024\n",
       " (0x69, 0x72, 0x6c, 0x6f, 0x63) => -21.005582567753024\n",
       " (0x73, 0x61, 0x74, 0x20, 0x71) => -21.005582567753024\n",
       "       (0x75, 0x74, 0x74, 0x68) => -21.005582567753024\n",
       " (0x67, 0x20, 0x76, 0x65, 0x68) => -21.005582567753024\n",
       " (0x6f, 0x6b, 0x20, 0x62, 0x72) => -21.005582567753024"
      ]
     },
     "metadata": {},
     "output_type": "display_data"
    }
   ],
   "source": [
    "sorted_codes = sort(code_std, by=last, rev=true)"
   ]
  },
  {
   "cell_type": "code",
   "execution_count": 148,
   "metadata": {},
   "outputs": [],
   "source": [
    "vocab = first.(sorted_codes[1:30000]);"
   ]
  },
  {
   "cell_type": "code",
   "execution_count": 149,
   "metadata": {},
   "outputs": [],
   "source": [
    "dump_vocab(vocab, \"vocab.txt\")"
   ]
  },
  {
   "cell_type": "code",
   "execution_count": 150,
   "metadata": {},
   "outputs": [],
   "source": [
    "vocab = Set(vocab);"
   ]
  },
  {
   "cell_type": "code",
   "execution_count": 151,
   "metadata": {},
   "outputs": [],
   "source": [
    "GS = Dict()\n",
    "for lang in LANGS\n",
    "    GS[lang] = load_ngrams(joinpath(\"ngrams0\", lang * \".txt\"))\n",
    "end"
   ]
  },
  {
   "cell_type": "code",
   "execution_count": 152,
   "metadata": {},
   "outputs": [],
   "source": [
    "GSF = Dict()\n",
    "for (lang, D) in GS\n",
    "    DF = Dict(k=>v for (k,v) in D if k in vocab)\n",
    "    GSF[lang] = DF\n",
    "end"
   ]
  },
  {
   "cell_type": "code",
   "execution_count": 153,
   "metadata": {},
   "outputs": [],
   "source": [
    "mkpath(\"ngrams\")\n",
    "for (lang, D) in GSF\n",
    "    dump_ngrams( sort(D|>collect, by=last, rev=true), joinpath(\"ngrams\", lang * \".txt\"))\n",
    "end"
   ]
  },
  {
   "cell_type": "code",
   "execution_count": null,
   "metadata": {},
   "outputs": [],
   "source": []
  }
 ],
 "metadata": {
  "kernelspec": {
   "display_name": "Julia 1.9.1",
   "language": "julia",
   "name": "julia-1.9"
  },
  "language_info": {
   "file_extension": ".jl",
   "mimetype": "application/julia",
   "name": "julia",
   "version": "1.9.1"
  },
  "orig_nbformat": 4
 },
 "nbformat": 4,
 "nbformat_minor": 2
}
