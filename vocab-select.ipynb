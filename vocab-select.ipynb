{
 "cells": [
  {
   "cell_type": "code",
   "execution_count": 1,
   "metadata": {},
   "outputs": [
    {
     "data": {
      "text/plain": [
       "load_vocab (generic function with 1 method)"
      ]
     },
     "metadata": {},
     "output_type": "display_data"
    }
   ],
   "source": [
    "using Plots\n",
    "include(\"datasetloader.jl\")\n",
    "include(\"ngrams.jl\")"
   ]
  },
  {
   "cell_type": "code",
   "execution_count": 6,
   "metadata": {},
   "outputs": [
    {
     "data": {
      "text/plain": [
       "norm_table! (generic function with 1 method)"
      ]
     },
     "metadata": {},
     "output_type": "display_data"
    }
   ],
   "source": [
    "function norm_table!(t)\n",
    "    D = last(t)\n",
    "    vs = sum(values(D))\n",
    "    for (k, v) in D\n",
    "        D[k] /= vs\n",
    "        D[k] = log(D[k])\n",
    "    end\n",
    "end"
   ]
  },
  {
   "cell_type": "code",
   "execution_count": 2,
   "metadata": {},
   "outputs": [],
   "source": [
    "GS = Dict()\n",
    "for lang in LANGS\n",
    "    GS[lang] = load_ngrams(joinpath(\"ngrams0\", lang * \".txt\"))\n",
    "end"
   ]
  },
  {
   "cell_type": "code",
   "execution_count": 5,
   "metadata": {},
   "outputs": [
    {
     "data": {
      "text/plain": [
       "50-element Vector{Pair{String, Float64}}:\n",
       " \"rus\" => 35.58628331397364\n",
       " \"eng\" => 34.9222755314685\n",
       " \"deu\" => 34.27479354056816\n",
       " \"ita\" => 34.02995117687403\n",
       " \"tur\" => 33.9756367322808\n",
       " \"fra\" => 33.6822524184102\n",
       " \"heb\" => 33.557930400893184\n",
       " \"spa\" => 33.3947337918854\n",
       " \"por\" => 33.38888763544047\n",
       " \"jpn\" => 33.379976385875494\n",
       "       ⋮\n",
       " \"tat\" => 29.50726455626446\n",
       " \"nor\" => 29.500759446814286\n",
       " \"nds\" => 29.47648987077519\n",
       " \"vie\" => 29.430768780601717\n",
       " \"kor\" => 29.204329962552144\n",
       " \"cat\" => 29.072319269071944\n",
       " \"isl\" => 28.894979639764063\n",
       " \"slk\" => 28.702952882802748\n",
       " \"ido\" => 28.034869375267558"
      ]
     },
     "metadata": {},
     "output_type": "display_data"
    }
   ],
   "source": [
    "sort([l=>sum(values(D)) for (l, D) in GS], by=last, rev=true)"
   ]
  },
  {
   "cell_type": "code",
   "execution_count": 9,
   "metadata": {},
   "outputs": [],
   "source": [
    "norm_table!.(collect(GS));"
   ]
  },
  {
   "cell_type": "code",
   "execution_count": 18,
   "metadata": {},
   "outputs": [
    {
     "data": {
      "text/plain": [
       "-17.203694184405627"
      ]
     },
     "metadata": {},
     "output_type": "display_data"
    }
   ],
   "source": [
    "DEFAULT_LOGP = (minimum.(values.(last.(collect(GS))))|>minimum)"
   ]
  },
  {
   "cell_type": "code",
   "execution_count": 12,
   "metadata": {},
   "outputs": [
    {
     "data": {
      "text/plain": [
       "Dict{Tuple{UInt8, Vararg{UInt8}}, Float64} with 910697 entries:\n",
       "  (0xb6, 0x6c, 0x76, 0x20)       => -12.3656\n",
       "  (0x6f, 0x20, 0x6b, 0x65, 0x73) => -27.8261\n",
       "  (0x74, 0x65, 0x64, 0x20, 0x63) => -26.3787\n",
       "  (0x20, 0x74, 0x75, 0x6c, 0x6d) => -14.2831\n",
       "  (0x6e, 0x65, 0x72, 0x77, 0x6f) => -12.6405\n",
       "  (0x74, 0x20, 0x62, 0x6c)       => -115.096\n",
       "  (0x6f, 0x62, 0x65, 0x79, 0x65) => -15.6247\n",
       "  (0x6d, 0x20, 0x61, 0xc5, 0xad) => -13.1419\n",
       "  (0x88, 0x89, 0xe8, 0xa1, 0x8c) => -11.9155\n",
       "  (0xa5, 0x75, 0x20)             => -21.3436\n",
       "  (0x6a, 0x6e, 0x20, 0x61, 0x62) => -15.6911\n",
       "  (0x97, 0xb6, 0xe7)             => -11.378\n",
       "  (0x6d, 0x20, 0x74, 0x69, 0x6f) => -12.9051\n",
       "  (0x6f, 0x6e, 0x73, 0x69, 0x6e) => -39.5124\n",
       "  (0x20, 0x64, 0x6f, 0x72, 0x66) => -23.7463\n",
       "  (0x82, 0x92, 0xe5, 0x90, 0x90) => -14.2057\n",
       "  (0x72, 0x74, 0x20, 0x6a, 0x65) => -42.2033\n",
       "  (0x20, 0x74, 0x65, 0x79)       => -26.096\n",
       "  (0xa8, 0xd8, 0xa7, 0x20, 0xd8) => -31.1643\n",
       "  ⋮                              => ⋮"
      ]
     },
     "metadata": {},
     "output_type": "display_data"
    }
   ],
   "source": [
    "G_sum = sum(values(GS))"
   ]
  },
  {
   "cell_type": "code",
   "execution_count": 14,
   "metadata": {},
   "outputs": [
    {
     "data": {
      "text/plain": [
       "910697-element Vector{Tuple{UInt8, Vararg{UInt8}}}:\n",
       " (0xb6, 0x6c, 0x76, 0x20)\n",
       " (0x6f, 0x20, 0x6b, 0x65, 0x73)\n",
       " (0x74, 0x65, 0x64, 0x20, 0x63)\n",
       " (0x20, 0x74, 0x75, 0x6c, 0x6d)\n",
       " (0x6e, 0x65, 0x72, 0x77, 0x6f)\n",
       " (0x74, 0x20, 0x62, 0x6c)\n",
       " (0x6f, 0x62, 0x65, 0x79, 0x65)\n",
       " (0x6d, 0x20, 0x61, 0xc5, 0xad)\n",
       " (0x88, 0x89, 0xe8, 0xa1, 0x8c)\n",
       " (0xa5, 0x75, 0x20)\n",
       " ⋮\n",
       " (0x6e, 0x6f, 0x74, 0x73, 0x20)\n",
       " (0x20, 0x6a, 0x6f, 0x74, 0x6b)\n",
       " (0xdb, 0x8c, 0xd8, 0xb4, 0xdb)\n",
       " (0x69, 0x70, 0x65)\n",
       " (0xab, 0x72, 0x6f, 0x6a)\n",
       " (0x74, 0xc3, 0xb3, 0xc5)\n",
       " (0x6f, 0x73, 0x20, 0x65)\n",
       " (0x6c, 0x62, 0x69, 0x20, 0xc9)\n",
       " (0xe5, 0xaf, 0xb9, 0xe6, 0x96)"
      ]
     },
     "metadata": {},
     "output_type": "display_data"
    }
   ],
   "source": [
    "all_codes = collect(keys(G_sum))"
   ]
  },
  {
   "cell_type": "code",
   "execution_count": 24,
   "metadata": {},
   "outputs": [],
   "source": [
    "using Statistics"
   ]
  },
  {
   "cell_type": "code",
   "execution_count": 26,
   "metadata": {},
   "outputs": [
    {
     "data": {
      "text/plain": [
       "910697-element Vector{Pair{A, Float64} where A}:\n",
       "       (0xb6, 0x6c, 0x76, 0x20) => 0.684206227291216\n",
       " (0x6f, 0x20, 0x6b, 0x65, 0x73) => 0.667257130934599\n",
       " (0x74, 0x65, 0x64, 0x20, 0x63) => 0.8161952001821539\n",
       " (0x20, 0x74, 0x75, 0x6c, 0x6d) => 0.4130327830006326\n",
       " (0x6e, 0x65, 0x72, 0x77, 0x6f) => 0.6453277795795334\n",
       "       (0x74, 0x20, 0x62, 0x6c) => 2.3742886726685435\n",
       " (0x6f, 0x62, 0x65, 0x79, 0x65) => 0.22330130992377337\n",
       " (0x6d, 0x20, 0x61, 0xc5, 0xad) => 0.5744294955565005\n",
       " (0x88, 0x89, 0xe8, 0xa1, 0x8c) => 0.7478571265125663\n",
       "             (0xa5, 0x75, 0x20) => 1.3010243676983124\n",
       "                                ⋮\n",
       " (0x6e, 0x6f, 0x74, 0x73, 0x20) => 0.4211798402145299\n",
       " (0x20, 0x6a, 0x6f, 0x74, 0x6b) => 0.9208731445601945\n",
       " (0xdb, 0x8c, 0xd8, 0xb4, 0xdb) => 1.2365089193781245\n",
       "             (0x69, 0x70, 0x65) => 2.8566797875420145\n",
       "       (0xab, 0x72, 0x6f, 0x6a) => 0.6789855772189352\n",
       "       (0x74, 0xc3, 0xb3, 0xc5) => 0.6098429591570208\n",
       "       (0x6f, 0x73, 0x20, 0x65) => 2.8292245650261507\n",
       " (0x6c, 0x62, 0x69, 0x20, 0xc9) => 0.3261292780543778\n",
       " (0xe5, 0xaf, 0xb9, 0xe6, 0x96) => 0.5990990219458315"
      ]
     },
     "metadata": {},
     "output_type": "display_data"
    }
   ],
   "source": [
    "code_std = [code => Statistics.std([get(D, code, DEFAULT_LOGP) for D in values(GS)]) for code in all_codes]"
   ]
  },
  {
   "cell_type": "code",
   "execution_count": 27,
   "metadata": {},
   "outputs": [
    {
     "data": {
      "text/plain": [
       "910697-element Vector{Pair{A, Float64} where A}:\n",
       "                        (0xb0,) => 5.4386490034913155\n",
       "                        (0xb5,) => 5.278381900042093\n",
       "                        (0xb2,) => 5.2080053417328935\n",
       "                        (0xbe,) => 5.186515019594242\n",
       "                        (0xbd,) => 5.134563972698229\n",
       "                        (0x85,) => 5.124945795708297\n",
       "                        (0x86,) => 5.051846575121528\n",
       "                        (0x82,) => 5.040567807163359\n",
       "                        (0x88,) => 4.995131814268483\n",
       "                   (0xb0, 0x20) => 4.9945427047046405\n",
       "                                ⋮\n",
       " (0x6f, 0x61, 0x73, 0x69, 0x61) => 0.0\n",
       " (0x73, 0x65, 0x65, 0x64, 0x6c) => 0.0\n",
       " (0x62, 0x65, 0x67, 0x65, 0x74) => 0.0\n",
       " (0x68, 0x20, 0x6d, 0x6f, 0x6d) => 0.0\n",
       " (0x69, 0x72, 0x6c, 0x6f, 0x63) => 0.0\n",
       " (0x73, 0x61, 0x74, 0x20, 0x71) => 0.0\n",
       "       (0x75, 0x74, 0x74, 0x68) => 0.0\n",
       " (0x67, 0x20, 0x76, 0x65, 0x68) => 0.0\n",
       " (0x6f, 0x6b, 0x20, 0x62, 0x72) => 0.0"
      ]
     },
     "metadata": {},
     "output_type": "display_data"
    }
   ],
   "source": [
    "sorted_codes = sort(code_std, by=last, rev=true)"
   ]
  },
  {
   "cell_type": "code",
   "execution_count": 36,
   "metadata": {},
   "outputs": [
    {
     "data": {
      "text/plain": [
       "20000-element Vector{Tuple{UInt8, Vararg{UInt8}}}:\n",
       " (0xb0,)\n",
       " (0xb5,)\n",
       " (0xb2,)\n",
       " (0xbe,)\n",
       " (0xbd,)\n",
       " (0x85,)\n",
       " (0x86,)\n",
       " (0x82,)\n",
       " (0x88,)\n",
       " (0xb0, 0x20)\n",
       " ⋮\n",
       " (0x64, 0x73, 0x6b)\n",
       " (0x6c, 0x65, 0x20, 0x74, 0x61)\n",
       " (0x6e, 0x65, 0x73, 0x65)\n",
       " (0x6c, 0x65, 0x20, 0x76, 0x61)\n",
       " (0x74, 0x20, 0xc3, 0xa9)\n",
       " (0x72, 0x20, 0x77, 0x65)\n",
       " (0x75, 0x6e, 0x69, 0x6e)\n",
       " (0x72, 0x75, 0x6e, 0x74)\n",
       " (0x76, 0x65, 0x72, 0x65, 0x20)"
      ]
     },
     "metadata": {},
     "output_type": "display_data"
    }
   ],
   "source": [
    "vocab = first.(sorted_codes[1:20000])"
   ]
  },
  {
   "cell_type": "code",
   "execution_count": 37,
   "metadata": {},
   "outputs": [],
   "source": [
    "dump_vocab(vocab, \"vocab.txt\")"
   ]
  },
  {
   "cell_type": "code",
   "execution_count": 38,
   "metadata": {},
   "outputs": [],
   "source": [
    "vocab = Set(vocab);"
   ]
  },
  {
   "cell_type": "code",
   "execution_count": 39,
   "metadata": {},
   "outputs": [],
   "source": [
    "GS = Dict()\n",
    "for lang in LANGS\n",
    "    GS[lang] = load_ngrams(joinpath(\"ngrams0\", lang * \".txt\"))\n",
    "end"
   ]
  },
  {
   "cell_type": "code",
   "execution_count": 40,
   "metadata": {},
   "outputs": [],
   "source": [
    "GSF = Dict()\n",
    "for (lang, D) in GS\n",
    "    DF = Dict(k=>v for (k,v) in D if k in vocab)\n",
    "    GSF[lang] = DF\n",
    "end"
   ]
  },
  {
   "cell_type": "code",
   "execution_count": 41,
   "metadata": {},
   "outputs": [],
   "source": [
    "mkpath(\"ngrams\")\n",
    "for (lang, D) in GSF\n",
    "    dump_ngrams( sort(D|>collect, by=last, rev=true), joinpath(\"ngrams\", lang * \".txt\"))\n",
    "end"
   ]
  },
  {
   "cell_type": "code",
   "execution_count": null,
   "metadata": {},
   "outputs": [],
   "source": []
  }
 ],
 "metadata": {
  "kernelspec": {
   "display_name": "Julia 1.9.1",
   "language": "julia",
   "name": "julia-1.9"
  },
  "language_info": {
   "file_extension": ".jl",
   "mimetype": "application/julia",
   "name": "julia",
   "version": "1.9.1"
  },
  "orig_nbformat": 4
 },
 "nbformat": 4,
 "nbformat_minor": 2
}
