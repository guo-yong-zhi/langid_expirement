{
 "cells": [
  {
   "cell_type": "code",
   "execution_count": 15,
   "metadata": {},
   "outputs": [
    {
     "name": "stderr",
     "output_type": "stream",
     "text": [
      "WARNING: redefinition of constant TLANGS. This may fail, cause incorrect answers, or produce other errors.\n",
      "WARNING: redefinition of constant WLANGS. This may fail, cause incorrect answers, or produce other errors.\n",
      "WARNING: redefinition of constant LANGS. This may fail, cause incorrect answers, or produce other errors.\n",
      "WARNING: redefinition of constant WLANGMAP. This may fail, cause incorrect answers, or produce other errors.\n",
      "WARNING: redefinition of constant TLANGMAP. This may fail, cause incorrect answers, or produce other errors.\n",
      "WARNING: redefinition of constant REV_WLANGMAP. This may fail, cause incorrect answers, or produce other errors.\n",
      "WARNING: redefinition of constant REV_TLANGMAP. This may fail, cause incorrect answers, or produce other errors.\n"
     ]
    },
    {
     "data": {
      "text/plain": [
       "load_vocab (generic function with 1 method)"
      ]
     },
     "metadata": {},
     "output_type": "display_data"
    }
   ],
   "source": [
    "using Plots\n",
    "include(\"datasetloader.jl\")\n",
    "include(\"ngrams.jl\")"
   ]
  },
  {
   "cell_type": "code",
   "execution_count": 2,
   "metadata": {},
   "outputs": [
    {
     "data": {
      "text/plain": [
       "norm_table! (generic function with 1 method)"
      ]
     },
     "metadata": {},
     "output_type": "display_data"
    }
   ],
   "source": [
    "function norm_table!(t)\n",
    "    D = last(t)\n",
    "    vs = sum(values(D))\n",
    "    for (k, v) in D\n",
    "        D[k] /= vs\n",
    "        D[k] = log(D[k])\n",
    "    end\n",
    "end"
   ]
  },
  {
   "cell_type": "code",
   "execution_count": 3,
   "metadata": {},
   "outputs": [
    {
     "data": {
      "text/plain": [
       "Dict{Vector{UInt8}, Float64} with 910697 entries:\n",
       "  [0x69, 0x66, 0x65, 0x6d]       => 4.31432e-7\n",
       "  [0x90, 0xd7, 0xa1, 0xd7, 0x9b] => 3.61445e-7\n",
       "  [0x74, 0x6e, 0x69, 0x6b, 0x20] => 2.87636e-6\n",
       "  [0x6c, 0x6b, 0x61, 0xe1]       => 4.58639e-7\n",
       "  [0x82, 0x92, 0xe3, 0x83, 0x95] => 9.56918e-7\n",
       "  [0x67, 0x68, 0x61, 0x73]       => 4.7093e-6\n",
       "  [0x81, 0x8c, 0xe5, 0xa6]       => 2.7065e-7\n",
       "  [0x65, 0x6d, 0x75, 0x65, 0x20] => 7.55738e-8\n",
       "  [0x83, 0xd9, 0x85, 0xd8, 0xa7] => 1.35521e-5\n",
       "  [0x73, 0x69, 0x65, 0x72, 0x6f] => 4.52921e-6\n",
       "  [0x88, 0x9b]                   => 6.28565e-6\n",
       "  [0xb1, 0x6d, 0x20, 0x67, 0xc3] => 8.96549e-7\n",
       "  [0xa3, 0x20, 0x79, 0x65, 0x66] => 7.34826e-7\n",
       "  [0x67, 0x72, 0x75, 0x64, 0x20] => 3.49421e-6\n",
       "  [0xa7, 0xd7, 0x94]             => 7.78452e-5\n",
       "  [0x83, 0x6c, 0xc4, 0x83, 0x74] => 7.48529e-6\n",
       "  [0x75, 0x73, 0x62, 0x61, 0x6e] => 6.16668e-6\n",
       "  [0x74, 0x65, 0x6e, 0x62, 0x65] => 1.76262e-6\n",
       "  [0xaf, 0xe7, 0x9a]             => 2.13368e-5\n",
       "  ⋮                              => ⋮"
      ]
     },
     "metadata": {},
     "output_type": "display_data"
    }
   ],
   "source": [
    "GS = Dict()\n",
    "for lang in LANGS\n",
    "    GS[lang] = load_ngrams(joinpath(\"ngrams0\", lang * \".txt\"))\n",
    "end\n",
    "G_sum = sum(values(GS))\n",
    "all_codes = collect(keys(G_sum));\n",
    "G_avg = (1/50)*G_sum"
   ]
  },
  {
   "cell_type": "code",
   "execution_count": 4,
   "metadata": {},
   "outputs": [
    {
     "data": {
      "text/plain": [
       "50-element Vector{Pair{String, Float64}}:\n",
       " \"rus\" => 35.58628331397368\n",
       " \"eng\" => 34.92227553146798\n",
       " \"deu\" => 34.27479354056778\n",
       " \"ita\" => 34.02995117687345\n",
       " \"tur\" => 33.97563673228078\n",
       " \"fra\" => 33.68225241840984\n",
       " \"heb\" => 33.557930400893056\n",
       " \"spa\" => 33.394733791885514\n",
       " \"por\" => 33.38888763544054\n",
       " \"jpn\" => 33.379976385875686\n",
       "       ⋮\n",
       " \"tat\" => 29.50726455626444\n",
       " \"nor\" => 29.500759446814232\n",
       " \"nds\" => 29.476489870775552\n",
       " \"vie\" => 29.43076878060164\n",
       " \"kor\" => 29.204329962552535\n",
       " \"cat\" => 29.072319269071862\n",
       " \"isl\" => 28.894979639764003\n",
       " \"slk\" => 28.702952882802666\n",
       " \"ido\" => 28.034869375267558"
      ]
     },
     "metadata": {},
     "output_type": "display_data"
    }
   ],
   "source": [
    "sort([l=>sum(values(D)) for (l, D) in GS], by=last, rev=true)"
   ]
  },
  {
   "cell_type": "code",
   "execution_count": 5,
   "metadata": {},
   "outputs": [
    {
     "data": {
      "text/plain": [
       "-17.203694184405613"
      ]
     },
     "metadata": {},
     "output_type": "display_data"
    }
   ],
   "source": [
    "norm_table!.(collect(GS));\n",
    "norm_table!(1=>G_avg);\n",
    "DEFAULT_LOGP = (minimum.(values.(last.(collect(GS))))|>minimum)\n"
   ]
  },
  {
   "cell_type": "code",
   "execution_count": 6,
   "metadata": {},
   "outputs": [
    {
     "data": {
      "text/plain": [
       "code_score (generic function with 1 method)"
      ]
     },
     "metadata": {},
     "output_type": "display_data"
    }
   ],
   "source": [
    "code_score(code) = only(diff(extrema([get(D, code, DEFAULT_LOGP) for D in values(GS)])|>collect)) + G_avg[code]"
   ]
  },
  {
   "cell_type": "code",
   "execution_count": 7,
   "metadata": {},
   "outputs": [
    {
     "data": {
      "text/plain": [
       "910697-element Vector{Pair{Vector{UInt8}, Float64}}:\n",
       "       [0x69, 0x66, 0x65, 0x6d] => -15.108885839292851\n",
       " [0x90, 0xd7, 0xa1, 0xd7, 0x9b] => -15.506856881576052\n",
       " [0x74, 0x6e, 0x69, 0x6b, 0x20] => -11.555829800658078\n",
       "       [0x6c, 0x6b, 0x61, 0xe1] => -14.986576992986189\n",
       " [0x82, 0x92, 0xe3, 0x83, 0x95] => -13.554325575906388\n",
       "       [0x67, 0x68, 0x61, 0x73] => -10.255846273471466\n",
       "       [0x81, 0x8c, 0xe5, 0xa6] => -16.08011029783409\n",
       " [0x65, 0x6d, 0x75, 0x65, 0x20] => -18.640556407123263\n",
       " [0x83, 0xd9, 0x85, 0xd8, 0xa7] => -8.189557579968614\n",
       " [0x73, 0x69, 0x65, 0x72, 0x6f] => -11.321330333030584\n",
       "                                ⋮\n",
       " [0x75, 0x69, 0x20, 0x6b, 0x75] => -12.179512001326154\n",
       " [0x72, 0x20, 0x67, 0x65, 0xc3] => -11.73866652707466\n",
       " [0x66, 0x65, 0x63, 0xc3, 0xa7] => -13.716671493168084\n",
       "       [0x91, 0x97, 0xe6, 0x88] => -13.193097974678645\n",
       " [0x7a, 0x61, 0x6e, 0x20, 0x69] => -7.236198481585225\n",
       " [0xa6, 0x97, 0xe0, 0xa6, 0xb8] => -11.386570883930121\n",
       " [0x86, 0xd9, 0x81, 0xdb, 0x8c] => -10.590774301011573\n",
       "       [0xaa, 0x9e, 0xe5, 0x92] => -13.790083951790638\n",
       " [0xc5, 0x82, 0x6e, 0x69, 0x61] => -11.814396712963791"
      ]
     },
     "metadata": {},
     "output_type": "display_data"
    }
   ],
   "source": [
    "code_std = [code => code_score(code) for code in all_codes]"
   ]
  },
  {
   "cell_type": "code",
   "execution_count": 8,
   "metadata": {},
   "outputs": [
    {
     "data": {
      "text/plain": [
       "910697-element Vector{Pair{Vector{UInt8}, Float64}}:\n",
       "                         [0xd0] => 9.789988328246345\n",
       "                         [0xd7] => 9.189355800444918\n",
       "                         [0xe0] => 8.540854352603082\n",
       "                         [0xa4] => 8.53352635405076\n",
       "                         [0xd1] => 8.398282134091275\n",
       "                         [0xd8] => 8.18872858983763\n",
       "                   [0xe0, 0xa4] => 8.132026818849134\n",
       "                   [0x20, 0xe0] => 7.970080736465004\n",
       "                         [0xa6] => 7.748458490711555\n",
       "                         [0xce] => 7.711652084296028\n",
       "                                ⋮\n",
       " [0x77, 0x64, 0x65, 0x72, 0x65] => -21.005582567753024\n",
       " [0x74, 0x79, 0x20, 0x75, 0x62] => -21.005582567753024\n",
       " [0x70, 0x79, 0x20, 0x73, 0x74] => -21.005582567753024\n",
       " [0x74, 0x6f, 0x6f, 0x70, 0x65] => -21.005582567753024\n",
       " [0x6d, 0x20, 0x62, 0x75, 0x66] => -21.005582567753024\n",
       " [0x65, 0x20, 0x63, 0x64, 0x73] => -21.005582567753024\n",
       " [0x76, 0x6f, 0x72, 0x61, 0x63] => -21.005582567753024\n",
       "       [0x7a, 0x79, 0x20, 0x65] => -21.005582567753024\n",
       " [0x6e, 0x69, 0x74, 0x70, 0x69] => -21.005582567753024"
      ]
     },
     "metadata": {},
     "output_type": "display_data"
    }
   ],
   "source": [
    "sorted_codes = sort(code_std, by=last, rev=true)"
   ]
  },
  {
   "cell_type": "code",
   "execution_count": 9,
   "metadata": {},
   "outputs": [],
   "source": [
    "vocab = first.(sorted_codes[1:20000]);"
   ]
  },
  {
   "cell_type": "code",
   "execution_count": 10,
   "metadata": {},
   "outputs": [],
   "source": [
    "dump_vocab(vocab, \"vocab.txt\")"
   ]
  },
  {
   "cell_type": "code",
   "execution_count": 11,
   "metadata": {},
   "outputs": [],
   "source": [
    "vocab = Set(vocab);"
   ]
  },
  {
   "cell_type": "code",
   "execution_count": 12,
   "metadata": {},
   "outputs": [],
   "source": [
    "GS = Dict()\n",
    "for lang in LANGS\n",
    "    GS[lang] = load_ngrams(joinpath(\"ngrams0\", lang * \".txt\"))\n",
    "end"
   ]
  },
  {
   "cell_type": "code",
   "execution_count": 13,
   "metadata": {},
   "outputs": [],
   "source": [
    "GSF = Dict()\n",
    "for (lang, D) in GS\n",
    "    DF = Dict(k=>v for (k,v) in D if k in vocab)\n",
    "    GSF[lang] = DF\n",
    "end"
   ]
  },
  {
   "cell_type": "code",
   "execution_count": 16,
   "metadata": {},
   "outputs": [],
   "source": [
    "mkpath(\"ngrams\")\n",
    "for (lang, D) in GSF\n",
    "    dump_ngrams( sort(D|>collect, by=last, rev=true), joinpath(\"ngrams\", lang * \".txt\"))\n",
    "end"
   ]
  },
  {
   "cell_type": "code",
   "execution_count": 19,
   "metadata": {},
   "outputs": [
    {
     "data": {
      "text/plain": [
       "3923.02"
      ]
     },
     "metadata": {},
     "output_type": "display_data"
    }
   ],
   "source": [
    "sum(length.(values(GSF)))/50"
   ]
  },
  {
   "cell_type": "code",
   "execution_count": null,
   "metadata": {},
   "outputs": [],
   "source": []
  }
 ],
 "metadata": {
  "kernelspec": {
   "display_name": "Julia 1.9.1",
   "language": "julia",
   "name": "julia-1.9"
  },
  "language_info": {
   "file_extension": ".jl",
   "mimetype": "application/julia",
   "name": "julia",
   "version": "1.9.1"
  },
  "orig_nbformat": 4
 },
 "nbformat": 4,
 "nbformat_minor": 2
}
