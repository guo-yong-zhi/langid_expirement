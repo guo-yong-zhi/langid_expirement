{
 "cells": [
  {
   "cell_type": "code",
   "execution_count": 2,
   "metadata": {},
   "outputs": [
    {
     "name": "stderr",
     "output_type": "stream",
     "text": [
      "WARNING: redefinition of constant TLANGS. This may fail, cause incorrect answers, or produce other errors.\n",
      "WARNING: redefinition of constant WLANGS. This may fail, cause incorrect answers, or produce other errors.\n",
      "WARNING: redefinition of constant LANGS. This may fail, cause incorrect answers, or produce other errors.\n",
      "WARNING: redefinition of constant WLANGMAP. This may fail, cause incorrect answers, or produce other errors.\n",
      "WARNING: redefinition of constant TLANGMAP. This may fail, cause incorrect answers, or produce other errors.\n",
      "WARNING: redefinition of constant REV_WLANGMAP. This may fail, cause incorrect answers, or produce other errors.\n",
      "WARNING: redefinition of constant REV_TLANGMAP. This may fail, cause incorrect answers, or produce other errors.\n"
     ]
    },
    {
     "data": {
      "text/plain": [
       "load_vocab (generic function with 1 method)"
      ]
     },
     "metadata": {},
     "output_type": "display_data"
    }
   ],
   "source": [
    "using Plots\n",
    "include(\"datasetloader.jl\")\n",
    "include(\"ngrams.jl\")"
   ]
  },
  {
   "cell_type": "code",
   "execution_count": 3,
   "metadata": {},
   "outputs": [
    {
     "data": {
      "text/plain": [
       "norm_table! (generic function with 1 method)"
      ]
     },
     "metadata": {},
     "output_type": "display_data"
    }
   ],
   "source": [
    "function norm_table!(t)\n",
    "    D = last(t)\n",
    "    vs = sum(values(D))\n",
    "    for (k, v) in D\n",
    "        D[k] /= vs\n",
    "        D[k] = log(D[k])\n",
    "    end\n",
    "end"
   ]
  },
  {
   "cell_type": "code",
   "execution_count": 4,
   "metadata": {},
   "outputs": [],
   "source": [
    "GS = Dict()\n",
    "for lang in LANGS\n",
    "    GS[lang] = load_ngrams(joinpath(\"ngrams0\", lang * \".txt\"))\n",
    "end\n",
    "# G_sum = sum(values(GS))\n",
    "# all_codes = collect(keys(G_sum));\n",
    "# G_avg = (1/50)*G_sum"
   ]
  },
  {
   "cell_type": "code",
   "execution_count": 6,
   "metadata": {},
   "outputs": [
    {
     "data": {
      "text/plain": [
       "Dict{String, Vector{Pair{Vector{UInt8}, Float64}}} with 50 entries:\n",
       "  \"epo\" => [[0x20]=>1.25411, [0x61]=>0.690975, [0x69]=>0.547886, [0x6f]=>0.5147…\n",
       "  \"jpn\" => [[0xe3]=>1.48643, [0x81]=>0.979275, [0xe3, 0x81]=>0.932754, [0x82]=>…\n",
       "  \"kor\" => [[0xec]=>0.871845, [0x20]=>0.778675, [0xeb]=>0.618717, [0x20, 0xec]=…\n",
       "  \"ron\" => [[0x20]=>1.18906, [0x65]=>0.615408, [0x61]=>0.538304, [0x69]=>0.4982…\n",
       "  \"nds\" => [[0x20]=>1.28264, [0x65]=>0.76889, [0x6e]=>0.565543, [0x74]=>0.40658…\n",
       "  \"fin\" => [[0x20]=>0.932049, [0x61]=>0.654266, [0x69]=>0.607279, [0x6e]=>0.520…\n",
       "  \"kab\" => [[0x20]=>1.32296, [0x61]=>0.670353, [0x65]=>0.60884, [0x74]=>0.41797…\n",
       "  \"bel\" => [[0xd0]=>1.67363, [0xd1]=>1.16506, [0x20]=>0.567418, [0xb0]=>0.46574…\n",
       "  \"tgl\" => [[0x61]=>1.20762, [0x20]=>1.20718, [0x6e]=>0.712301, [0x67]=>0.46928…\n",
       "  \"heb\" => [[0xd7]=>3.03075, [0x20]=>0.802058, [0x20, 0xd7]=>0.71344, [0x99]=>0…\n",
       "  \"tat\" => [[0xd0]=>1.65324, [0xd1]=>0.807007, [0x20]=>0.534433, [0xb0]=>0.3047…\n",
       "  \"yid\" => [[0xd7]=>2.69542, [0x20]=>0.850844, [0x20, 0xd7]=>0.787939, [0x99]=>…\n",
       "  \"swa\" => [[0x61]=>1.13922, [0x20]=>1.08688, [0x69]=>0.643856, [0x61, 0x20]=>0…\n",
       "  \"ara\" => [[0xd8]=>1.49103, [0xd9]=>1.30537, [0x20]=>0.765442, [0x20, 0xd8]=>0…\n",
       "  \"hin\" => [[0xa4]=>1.73045, [0xe0]=>1.63194, [0xe0, 0xa4]=>1.63187, [0x20]=>1.…\n",
       "  \"hbs\" => [[0xd0]=>1.65102, [0x20]=>0.815154, [0xd1]=>0.629802, [0x20, 0xd0]=>…\n",
       "  \"bul\" => [[0xd0]=>2.10127, [0xd1]=>0.760097, [0x20]=>0.663233, [0x20, 0xd0]=>…\n",
       "  \"mar\" => [[0xa4]=>1.86826, [0xe0]=>1.69914, [0xe0, 0xa4]=>1.69905, [0x20]=>1.…\n",
       "  \"spa\" => [[0x20]=>1.2865, [0x65]=>0.729263, [0x61]=>0.664359, [0x6f]=>0.47578…\n",
       "  ⋮     => ⋮"
      ]
     },
     "metadata": {},
     "output_type": "display_data"
    }
   ],
   "source": [
    "sorted_GS = Dict(l=>sort(collect(d), by=last, rev=true) for (l,d) in GS)"
   ]
  },
  {
   "cell_type": "code",
   "execution_count": 28,
   "metadata": {},
   "outputs": [
    {
     "data": {
      "text/plain": [
       "cutpoint (generic function with 1 method)"
      ]
     },
     "metadata": {},
     "output_type": "display_data"
    }
   ],
   "source": [
    "function cutpoint(D, r)\n",
    "    cs = cumsum(last.(D))\n",
    "    findfirst(x->x>r*cs[end], cs)\n",
    "end"
   ]
  },
  {
   "cell_type": "code",
   "execution_count": 29,
   "metadata": {},
   "outputs": [],
   "source": [
    "GSF = Dict()\n",
    "for (lang, D) in sorted_GS\n",
    "    DF = D[1:cutpoint(D, 0.75)]\n",
    "    GSF[lang] = DF\n",
    "end"
   ]
  },
  {
   "cell_type": "code",
   "execution_count": 9,
   "metadata": {},
   "outputs": [],
   "source": [
    "mkpath(\"ngrams\")\n",
    "for (lang, D) in GSF\n",
    "    dump_ngrams( sort(D|>collect, by=last, rev=true), joinpath(\"ngrams\", lang * \".txt\"))\n",
    "end"
   ]
  },
  {
   "cell_type": "code",
   "execution_count": 30,
   "metadata": {},
   "outputs": [
    {
     "data": {
      "text/plain": [
       "2372.98"
      ]
     },
     "metadata": {},
     "output_type": "display_data"
    }
   ],
   "source": [
    "sum(length.(values(GSF)))/50"
   ]
  },
  {
   "cell_type": "code",
   "execution_count": null,
   "metadata": {},
   "outputs": [],
   "source": []
  }
 ],
 "metadata": {
  "kernelspec": {
   "display_name": "Julia 1.9.1",
   "language": "julia",
   "name": "julia-1.9"
  },
  "language_info": {
   "file_extension": ".jl",
   "mimetype": "application/julia",
   "name": "julia",
   "version": "1.9.1"
  },
  "orig_nbformat": 4
 },
 "nbformat": 4,
 "nbformat_minor": 2
}
