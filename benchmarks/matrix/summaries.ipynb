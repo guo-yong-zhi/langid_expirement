{
 "cells": [
  {
   "cell_type": "code",
   "execution_count": 1,
   "metadata": {},
   "outputs": [],
   "source": [
    "include(\"../../benchmark.jl\")\n",
    "using BSON"
   ]
  },
  {
   "cell_type": "markdown",
   "metadata": {},
   "source": [
    "# vocabulary size"
   ]
  },
  {
   "cell_type": "markdown",
   "metadata": {},
   "source": [
    "## dataset: tatoeba"
   ]
  },
  {
   "cell_type": "code",
   "execution_count": 2,
   "metadata": {},
   "outputs": [
    {
     "data": {
      "text/markdown": [
       "|           | 100-vocab | 200-vocab | 500-vocab | 1000-vocab | 2000-vocab | 5000-vocab | 10000-vocab | 20000-vocab | 50000-vocab | 100000-vocab |\n",
       "|-----------|-----------|-----------|-----------|------------|------------|------------|-------------|-------------|-------------|--------------|\n",
       "| 1:1-grams |    76.95% |    76.95% |         - |          - |          - |          - |           - |           - |           - |            - |\n",
       "| 1:2-grams |    82.32% |    86.98% |    88.97% |     89.03% |     89.03% |     89.03% |           - |           - |           - |            - |\n",
       "| 1:3-grams |    81.21% |    87.02% |    91.04% |     92.60% |     93.21% |     93.48% |      93.51% |      93.51% |      93.51% |            - |\n",
       "| 1:4-grams |    80.10% |    86.03% |    91.35% |     93.08% |     94.28% |     95.10% |      95.49% |      95.62% |      95.64% |       95.64% |\n",
       "| 1:5-grams |    79.97% |    85.36% |    90.69% |     92.97% |     94.48% |     95.51% |      96.15% |      96.62% |      96.85% |       96.85% |\n",
       "| 1:6-grams |    79.63% |    84.85% |    90.52% |     92.78% |     94.37% |     95.60% |      96.12% |      96.75% |      97.28% |       97.38% |\n",
       "| 1:7-grams |    78.99% |    84.35% |    90.51% |     92.67% |     94.23% |     95.55% |      96.04% |      96.68% |      97.37% |       97.55% |\n"
      ],
      "text/plain": [
       "DisplayAs.Raw.Showable{MIME{Symbol(\"text/markdown\")}}(UInt8[0x7c, 0x20, 0x20, 0x20, 0x20, 0x20, 0x20, 0x20, 0x20, 0x20  …  0x20, 0x39, 0x37, 0x2e, 0x35, 0x35, 0x25, 0x20, 0x7c, 0x0a])"
      ]
     },
     "metadata": {},
     "output_type": "display_data"
    }
   ],
   "source": [
    "BSON.@load \"multi_ngrams/bmkmats-vocabulary-tatoeba.bson\" bmkmats\n",
    "items = [k=>sum(v)/length(v) for (k,v) in bmkmats]\n",
    "showtable_of_items(items, row_name=n->\"$n-grams\", col_name=n->\"$n-vocab\", print_raw=false)"
   ]
  },
  {
   "cell_type": "code",
   "execution_count": 3,
   "metadata": {},
   "outputs": [
    {
     "data": {
      "text/markdown": [
       "|               | 100-vocab | 200-vocab | 500-vocab | 1000-vocab | 2000-vocab | 5000-vocab | 10000-vocab | 20000-vocab | 50000-vocab |\n",
       "|---------------|-----------|-----------|-----------|------------|------------|------------|-------------|-------------|-------------|\n",
       "| single 1-gram |    76.95% |    76.95% |         - |          - |          - |          - |           - |           - |           - |\n",
       "| single 2-gram |    83.95% |    88.07% |    90.19% |     90.28% |     90.28% |     90.28% |           - |           - |           - |\n",
       "| single 3-gram |    82.47% |    87.99% |    91.85% |     93.51% |     94.36% |     94.75% |      94.75% |      94.75% |      94.75% |\n",
       "| single 4-gram |    80.39% |    86.27% |    91.25% |     93.47% |     95.12% |     96.41% |      96.72% |      96.78% |      96.78% |\n",
       "| single 5-gram |    72.48% |    81.49% |    88.42% |     91.74% |     93.80% |     94.72% |      95.08% |      95.48% |      95.56% |\n",
       "| single 6-gram |    54.87% |    72.68% |    82.47% |     87.50% |     90.48% |     86.43% |      84.87% |      85.20% |      85.81% |\n",
       "| single 7-gram |    49.14% |    61.29% |    71.76% |     81.42% |     81.70% |     68.59% |      64.30% |      63.69% |      63.98% |\n"
      ],
      "text/plain": [
       "DisplayAs.Raw.Showable{MIME{Symbol(\"text/markdown\")}}(UInt8[0x7c, 0x20, 0x20, 0x20, 0x20, 0x20, 0x20, 0x20, 0x20, 0x20  …  0x20, 0x36, 0x33, 0x2e, 0x39, 0x38, 0x25, 0x20, 0x7c, 0x0a])"
      ]
     },
     "metadata": {},
     "output_type": "display_data"
    }
   ],
   "source": [
    "BSON.@load \"single_ngram/bmkmats-vocabulary-tatoeba.bson\" bmkmats\n",
    "items = [k=>sum(v)/length(v) for (k,v) in bmkmats]\n",
    "showtable_of_items(items, row_name=n->\"single $n-gram\", col_name=n->\"$n-vocab\", print_raw=false)"
   ]
  },
  {
   "cell_type": "markdown",
   "metadata": {},
   "source": [
    "## dataset: wikipedia"
   ]
  },
  {
   "cell_type": "code",
   "execution_count": 4,
   "metadata": {},
   "outputs": [
    {
     "data": {
      "text/markdown": [
       "|           | 100-vocab | 200-vocab | 500-vocab | 1000-vocab | 2000-vocab | 5000-vocab | 10000-vocab | 20000-vocab | 50000-vocab | 100000-vocab |\n",
       "|-----------|-----------|-----------|-----------|------------|------------|------------|-------------|-------------|-------------|--------------|\n",
       "| 1:1-grams |    91.99% |    91.99% |         - |          - |          - |          - |           - |           - |           - |            - |\n",
       "| 1:2-grams |    92.83% |    94.24% |    95.07% |     95.24% |     95.25% |     95.24% |           - |           - |           - |            - |\n",
       "| 1:3-grams |    93.52% |    95.26% |    96.44% |     96.28% |     96.24% |     96.30% |      96.35% |      96.35% |      96.34% |            - |\n",
       "| 1:4-grams |    92.08% |    96.54% |    97.30% |     97.71% |     97.85% |     98.31% |      98.37% |      98.43% |      98.45% |       98.45% |\n",
       "| 1:5-grams |    92.73% |    96.53% |    97.48% |     98.12% |     98.24% |     98.65% |      98.70% |      98.78% |      98.87% |       98.87% |\n",
       "| 1:6-grams |    91.75% |    96.25% |    97.67% |     98.05% |     98.45% |     98.73% |      98.78% |      98.91% |      99.03% |       99.10% |\n",
       "| 1:7-grams |    89.84% |    95.56% |    97.77% |     98.02% |     98.30% |     98.73% |      98.78% |      98.91% |      99.09% |       99.17% |\n"
      ],
      "text/plain": [
       "DisplayAs.Raw.Showable{MIME{Symbol(\"text/markdown\")}}(UInt8[0x7c, 0x20, 0x20, 0x20, 0x20, 0x20, 0x20, 0x20, 0x20, 0x20  …  0x20, 0x39, 0x39, 0x2e, 0x31, 0x37, 0x25, 0x20, 0x7c, 0x0a])"
      ]
     },
     "metadata": {},
     "output_type": "display_data"
    }
   ],
   "source": [
    "BSON.@load \"multi_ngrams/bmkmats-vocabulary-wikipedia.bson\" bmkmats\n",
    "items = [k=>sum(v)/length(v) for (k,v) in bmkmats]\n",
    "showtable_of_items(items, row_name=n->\"$n-grams\", col_name=n->\"$n-vocab\", print_raw=false)"
   ]
  },
  {
   "cell_type": "code",
   "execution_count": 5,
   "metadata": {},
   "outputs": [
    {
     "data": {
      "text/markdown": [
       "|               | 100-vocab | 200-vocab | 500-vocab | 1000-vocab | 2000-vocab | 5000-vocab | 10000-vocab | 20000-vocab | 50000-vocab |\n",
       "|---------------|-----------|-----------|-----------|------------|------------|------------|-------------|-------------|-------------|\n",
       "| single 1-gram |    91.99% |    91.99% |         - |          - |          - |          - |           - |           - |           - |\n",
       "| single 2-gram |    93.50% |    94.22% |    95.31% |     95.54% |     95.56% |     95.56% |           - |           - |           - |\n",
       "| single 3-gram |    96.21% |    97.07% |    97.47% |     97.79% |     97.93% |     98.19% |      98.25% |      98.24% |      98.24% |\n",
       "| single 4-gram |    94.54% |    97.43% |    98.00% |     98.32% |     98.65% |     98.71% |      98.59% |      98.59% |      98.61% |\n",
       "| single 5-gram |    90.44% |    95.44% |    97.78% |     98.33% |     98.73% |     97.13% |      96.33% |      96.08% |      96.03% |\n",
       "| single 6-gram |    59.97% |    92.28% |    95.96% |     97.44% |     97.88% |     90.15% |      83.84% |      80.86% |      80.27% |\n",
       "| single 7-gram |    56.49% |    79.08% |    89.60% |     96.19% |     93.45% |     62.69% |      55.04% |      53.13% |      52.62% |\n"
      ],
      "text/plain": [
       "DisplayAs.Raw.Showable{MIME{Symbol(\"text/markdown\")}}(UInt8[0x7c, 0x20, 0x20, 0x20, 0x20, 0x20, 0x20, 0x20, 0x20, 0x20  …  0x20, 0x35, 0x32, 0x2e, 0x36, 0x32, 0x25, 0x20, 0x7c, 0x0a])"
      ]
     },
     "metadata": {},
     "output_type": "display_data"
    }
   ],
   "source": [
    "BSON.@load \"single_ngram/bmkmats-vocabulary-wikipedia.bson\" bmkmats\n",
    "items = [k=>sum(v)/length(v) for (k,v) in bmkmats]\n",
    "showtable_of_items(items, row_name=n->\"single $n-gram\", col_name=n->\"$n-vocab\", print_raw=false)"
   ]
  },
  {
   "cell_type": "markdown",
   "metadata": {},
   "source": [
    "# cutoff value"
   ]
  },
  {
   "cell_type": "markdown",
   "metadata": {},
   "source": [
    "## dataset: tatoeba"
   ]
  },
  {
   "cell_type": "code",
   "execution_count": 6,
   "metadata": {},
   "outputs": [
    {
     "data": {
      "text/markdown": [
       "|           | 0.5-cutoff | 0.6-cutoff | 0.7-cutoff | 0.75-cutoff | 0.8-cutoff | 0.825-cutoff | 0.85-cutoff | 0.875-cutoff | 0.9-cutoff | 0.95-cutoff | 1.0-cutoff |\n",
       "|-----------|------------|------------|------------|-------------|------------|--------------|-------------|--------------|------------|-------------|------------|\n",
       "| 1:1-grams |     29.52% |     32.84% |     38.61% |      42.23% |     47.26% |       50.52% |      52.62% |       53.41% |     55.40% |      63.50% |     76.95% |\n",
       "| 1:2-grams |     44.38% |     60.05% |     72.56% |      75.17% |     78.70% |       79.28% |      80.11% |       81.07% |     82.61% |      85.57% |     89.03% |\n",
       "| 1:3-grams |     71.85% |     80.13% |     84.98% |      86.24% |     87.78% |       88.73% |      89.64% |       90.49% |     91.47% |      92.90% |     93.51% |\n",
       "| 1:4-grams |     80.98% |     86.74% |     89.80% |      91.10% |     92.58% |       93.07% |      93.54% |       93.98% |     94.44% |      95.11% |     95.64% |\n",
       "| 1:5-grams |     85.18% |     89.35% |     92.58% |      93.76% |     94.41% |       94.89% |      95.23% |       95.57% |     95.96% |      96.76% |     96.85% |\n",
       "| 1:6-grams |     82.04% |     90.43% |     93.78% |      94.98% |     95.78% |       96.20% |      96.59% |       96.92% |     97.14% |      97.38% |          - |\n",
       "| 1:7-grams |     76.80% |     91.64% |     95.13% |      96.14% |     96.98% |       97.16% |      97.36% |       97.44% |     97.55% |      97.55% |          - |\n"
      ],
      "text/plain": [
       "DisplayAs.Raw.Showable{MIME{Symbol(\"text/markdown\")}}(UInt8[0x7c, 0x20, 0x20, 0x20, 0x20, 0x20, 0x20, 0x20, 0x20, 0x20  …  0x20, 0x20, 0x20, 0x20, 0x20, 0x20, 0x2d, 0x20, 0x7c, 0x0a])"
      ]
     },
     "metadata": {},
     "output_type": "display_data"
    }
   ],
   "source": [
    "BSON.@load \"multi_ngrams/bmkmats-cutoff-tatoeba.bson\" bmkmats\n",
    "items = [k=>sum(v)/length(v) for (k,v) in bmkmats]\n",
    "showtable_of_items(items, row_name=n->\"$n-grams\", col_name=n->\"$n-cutoff\", print_raw=false)"
   ]
  },
  {
   "cell_type": "code",
   "execution_count": 7,
   "metadata": {},
   "outputs": [
    {
     "data": {
      "text/markdown": [
       "|               | 0.5-cutoff | 0.6-cutoff | 0.7-cutoff | 0.75-cutoff | 0.8-cutoff | 0.825-cutoff | 0.85-cutoff | 0.875-cutoff | 0.9-cutoff | 0.95-cutoff | 1.0-cutoff |\n",
       "|---------------|------------|------------|------------|-------------|------------|--------------|-------------|--------------|------------|-------------|------------|\n",
       "| single 1-gram |     29.52% |     32.84% |     38.61% |      42.23% |     47.26% |       50.52% |      52.62% |       53.41% |     55.40% |      63.50% |     76.95% |\n",
       "| single 2-gram |     68.14% |     73.47% |     77.20% |      78.39% |     80.68% |       81.43% |      82.59% |       83.67% |     84.67% |      87.69% |     90.28% |\n",
       "| single 3-gram |     65.85% |     79.43% |     86.45% |      88.84% |     90.39% |       90.95% |      91.67% |       92.42% |     92.92% |      93.95% |     94.75% |\n",
       "| single 4-gram |     37.40% |     61.35% |     77.98% |      84.57% |     89.27% |       90.96% |      92.06% |       93.44% |     94.73% |      96.52% |     96.78% |\n",
       "| single 5-gram |     36.79% |     58.23% |     78.46% |      86.62% |     91.57% |       93.15% |      94.15% |       95.20% |     95.49% |      95.56% |          - |\n",
       "| single 6-gram |     42.60% |     62.75% |     77.56% |      83.02% |     85.81% |            - |           - |            - |          - |           - |          - |\n",
       "| single 7-gram |     42.49% |     55.00% |     63.98% |           - |          - |            - |           - |            - |          - |           - |          - |\n"
      ],
      "text/plain": [
       "DisplayAs.Raw.Showable{MIME{Symbol(\"text/markdown\")}}(UInt8[0x7c, 0x20, 0x20, 0x20, 0x20, 0x20, 0x20, 0x20, 0x20, 0x20  …  0x20, 0x20, 0x20, 0x20, 0x20, 0x20, 0x2d, 0x20, 0x7c, 0x0a])"
      ]
     },
     "metadata": {},
     "output_type": "display_data"
    }
   ],
   "source": [
    "BSON.@load \"single_ngram/bmkmats-cutoff-tatoeba.bson\" bmkmats\n",
    "items = [k=>sum(v)/length(v) for (k,v) in bmkmats]\n",
    "showtable_of_items(items, row_name=n->\"single $n-gram\", col_name=n->\"$n-cutoff\", print_raw=false)"
   ]
  },
  {
   "cell_type": "markdown",
   "metadata": {},
   "source": [
    "## dataset: wikipedia"
   ]
  },
  {
   "cell_type": "code",
   "execution_count": 8,
   "metadata": {},
   "outputs": [
    {
     "data": {
      "text/markdown": [
       "|           | 0.5-cutoff | 0.6-cutoff | 0.7-cutoff | 0.75-cutoff | 0.8-cutoff | 0.825-cutoff | 0.85-cutoff | 0.875-cutoff | 0.9-cutoff | 0.95-cutoff | 1.0-cutoff |\n",
       "|-----------|------------|------------|------------|-------------|------------|--------------|-------------|--------------|------------|-------------|------------|\n",
       "| 1:1-grams |     30.72% |     34.78% |     40.37% |      45.45% |     52.44% |       60.68% |      64.02% |       64.71% |     68.92% |      76.91% |     91.99% |\n",
       "| 1:2-grams |     53.51% |     75.86% |     87.14% |      87.43% |     90.19% |       89.81% |      90.91% |       91.70% |     93.20% |      95.09% |     95.24% |\n",
       "| 1:3-grams |     85.99% |     90.29% |     94.08% |      94.71% |     95.17% |       95.90% |      96.02% |       96.65% |     97.06% |      97.42% |     96.34% |\n",
       "| 1:4-grams |     87.87% |     93.51% |     95.19% |      96.40% |     97.59% |       97.73% |      97.99% |       97.84% |     97.98% |      98.14% |     98.45% |\n",
       "| 1:5-grams |     91.51% |     94.33% |     96.39% |      97.19% |     97.74% |       97.90% |      98.11% |       98.32% |     98.38% |      98.67% |     98.87% |\n",
       "| 1:6-grams |     74.34% |     90.62% |     96.26% |      96.90% |     97.35% |       98.06% |      98.53% |       98.80% |     98.85% |      99.10% |          - |\n",
       "| 1:7-grams |     53.78% |     90.44% |     96.42% |      97.24% |     98.31% |       98.78% |      98.90% |       99.09% |     99.17% |      99.17% |          - |\n"
      ],
      "text/plain": [
       "DisplayAs.Raw.Showable{MIME{Symbol(\"text/markdown\")}}(UInt8[0x7c, 0x20, 0x20, 0x20, 0x20, 0x20, 0x20, 0x20, 0x20, 0x20  …  0x20, 0x20, 0x20, 0x20, 0x20, 0x20, 0x2d, 0x20, 0x7c, 0x0a])"
      ]
     },
     "metadata": {},
     "output_type": "display_data"
    }
   ],
   "source": [
    "BSON.@load \"multi_ngrams/bmkmats-cutoff-wikipedia.bson\" bmkmats\n",
    "items = [k=>sum(v)/length(v) for (k,v) in bmkmats]\n",
    "showtable_of_items(items, row_name=n->\"$n-grams\", col_name=n->\"$n-cutoff\", print_raw=false)"
   ]
  },
  {
   "cell_type": "code",
   "execution_count": 9,
   "metadata": {},
   "outputs": [
    {
     "data": {
      "text/markdown": [
       "|               | 0.5-cutoff | 0.6-cutoff | 0.7-cutoff | 0.75-cutoff | 0.8-cutoff | 0.825-cutoff | 0.85-cutoff | 0.875-cutoff | 0.9-cutoff | 0.95-cutoff | 1.0-cutoff |\n",
       "|---------------|------------|------------|------------|-------------|------------|--------------|-------------|--------------|------------|-------------|------------|\n",
       "| single 1-gram |     30.72% |     34.78% |     40.37% |      45.45% |     52.44% |       60.68% |      64.02% |       64.71% |     68.92% |      76.91% |     91.99% |\n",
       "| single 2-gram |     82.70% |     84.76% |     88.00% |      89.56% |     90.61% |       91.54% |      92.63% |       93.38% |     94.57% |      95.71% |     95.56% |\n",
       "| single 3-gram |     51.52% |     76.87% |     89.78% |      92.78% |     94.07% |       94.61% |      95.58% |       96.69% |     96.84% |      97.63% |     98.24% |\n",
       "| single 4-gram |     32.35% |     42.71% |     61.02% |      74.61% |     85.15% |       88.79% |      90.88% |       93.01% |     95.00% |      97.93% |     98.61% |\n",
       "| single 5-gram |     35.77% |     42.80% |     61.91% |      78.59% |     88.81% |       92.18% |      94.08% |       95.54% |     96.01% |      96.03% |          - |\n",
       "| single 6-gram |     39.43% |     48.31% |     63.23% |      74.48% |     80.27% |            - |           - |            - |          - |           - |          - |\n",
       "| single 7-gram |     40.93% |     47.05% |     52.62% |           - |          - |            - |           - |            - |          - |           - |          - |\n"
      ],
      "text/plain": [
       "DisplayAs.Raw.Showable{MIME{Symbol(\"text/markdown\")}}(UInt8[0x7c, 0x20, 0x20, 0x20, 0x20, 0x20, 0x20, 0x20, 0x20, 0x20  …  0x20, 0x20, 0x20, 0x20, 0x20, 0x20, 0x2d, 0x20, 0x7c, 0x0a])"
      ]
     },
     "metadata": {},
     "output_type": "display_data"
    }
   ],
   "source": [
    "BSON.@load \"single_ngram/bmkmats-cutoff-wikipedia.bson\" bmkmats\n",
    "items = [k=>sum(v)/length(v) for (k,v) in bmkmats]\n",
    "showtable_of_items(items, row_name=n->\"single $n-gram\", col_name=n->\"$n-cutoff\", print_raw=false)"
   ]
  }
 ],
 "metadata": {
  "kernelspec": {
   "display_name": "Julia 1.9.3",
   "language": "julia",
   "name": "julia-1.9"
  },
  "language_info": {
   "file_extension": ".jl",
   "mimetype": "application/julia",
   "name": "julia",
   "version": "1.9.3"
  },
  "orig_nbformat": 4
 },
 "nbformat": 4,
 "nbformat_minor": 2
}
